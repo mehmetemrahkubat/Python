{
 "cells": [
  {
   "cell_type": "markdown",
   "id": "a096c937",
   "metadata": {},
   "source": [
    "# Makine Öğrenmesi\n",
    "\n",
    "## 3. Sınıflandırma Problemleri\n",
    "\n",
    "Sınıflandırmada, bir veri kümesi (data set) birbirinden farklı ve önceden belirlenmiş sınıflardan birine atanmasıdır. Sınıflandırma algoritmaları, verilen eğitim kümesinden hangi veriyi hangi sınıfa atayacağını öğrenir.  Daha sonra test verilerini doğru sınıflara atamaya çalışır.\n",
    "\n",
    "Verilerin sınıflarını belirten değerlere etiket (label) denir.\n",
    "\n",
    "    • Lojistik Regresyon (LR)\n",
    "    • Naive Bayse (NB)\n",
    "    • K-En Yakın Komşu (KNN) \n",
    "    • Destek Vektör Sınıflandırıcı (SVC) \n",
    "    • RBF Destek Vektör Sınıflandırıcı (SVC) \n",
    "    • Çok Katmanlı Algılayıcılar (ANN) \n",
    "    • Classification and Regression Tress (CART) \n",
    "    • Random Forests (RF) \n",
    "    • Gradient Boosting Machines (GBM) \n",
    "    • Extreme Gradient Boosting (XGBoost) \n",
    "    • LightGBM \n",
    "    • CatBoost "
   ]
  },
  {
   "cell_type": "code",
   "execution_count": 1,
   "id": "ec0d3c0d",
   "metadata": {},
   "outputs": [],
   "source": [
    "import numpy as np\n",
    "import pandas as pd \n",
    "import statsmodels.api as sm\n",
    "import statsmodels.formula.api as smf\n",
    "import seaborn as sns\n",
    "from sklearn.preprocessing import scale \n",
    "from sklearn.model_selection import train_test_split, GridSearchCV, cross_val_score\n",
    "from sklearn.metrics import confusion_matrix, accuracy_score, classification_report\n",
    "from sklearn.metrics import roc_auc_score,roc_curve\n",
    "import statsmodels.formula.api as smf\n",
    "import matplotlib.pyplot as plt\n",
    "from sklearn.neighbors import KNeighborsClassifier\n",
    "from sklearn.discriminant_analysis import LinearDiscriminantAnalysis\n",
    "from sklearn.linear_model import LogisticRegression\n",
    "from sklearn.svm import SVC\n",
    "from sklearn.naive_bayes import GaussianNB\n",
    "from sklearn import tree\n",
    "from sklearn.ensemble import RandomForestClassifier\n",
    "from sklearn.ensemble import GradientBoostingClassifier\n",
    "from xgboost import XGBClassifier\n",
    "from lightgbm import LGBMClassifier\n",
    "from catboost import CatBoostClassifier\n",
    "\n",
    "\n",
    "from sklearn.preprocessing import StandardScaler  \n",
    "from sklearn.neural_network import MLPClassifier\n",
    "from sklearn.tree import DecisionTreeClassifier\n",
    "from skompiler import skompile\n",
    "\n",
    "\n",
    "\n",
    "from warnings import filterwarnings\n",
    "filterwarnings('ignore')"
   ]
  },
  {
   "cell_type": "markdown",
   "id": "7d530b87",
   "metadata": {},
   "source": [
    "### 3.1. Lojistik Regresyon \n",
    "Temel amaç, sınıflandırma problemleri için bağımlı ve bağımsız değişkenler arasındaki ilişkiyi tanımlayan doğrusal bir model kurmaktır.\n",
    "\n",
    "Bağımlı değişken burada kategoriktir.\n",
    "\n",
    "Lojistik regresyon sonucu bir eşik değerinden geçirilerek karar verme işlemi gerçekleştirilir.\n",
    "\n",
    "Lojistik fonksiyonu sayesinde üretilen değerler [0,1] arasında olur.  \n",
    "\n",
    "Veriseti: https://github.com/plotly/datasets/blob/master/diabetes.csv"
   ]
  },
  {
   "cell_type": "markdown",
   "id": "d052f387",
   "metadata": {},
   "source": [
    "#### 3.1.1. Model "
   ]
  },
  {
   "cell_type": "code",
   "execution_count": 100,
   "id": "d6252535",
   "metadata": {},
   "outputs": [
    {
     "data": {
      "text/html": [
       "<div>\n",
       "<style scoped>\n",
       "    .dataframe tbody tr th:only-of-type {\n",
       "        vertical-align: middle;\n",
       "    }\n",
       "\n",
       "    .dataframe tbody tr th {\n",
       "        vertical-align: top;\n",
       "    }\n",
       "\n",
       "    .dataframe thead th {\n",
       "        text-align: right;\n",
       "    }\n",
       "</style>\n",
       "<table border=\"1\" class=\"dataframe\">\n",
       "  <thead>\n",
       "    <tr style=\"text-align: right;\">\n",
       "      <th></th>\n",
       "      <th>Pregnancies</th>\n",
       "      <th>Glucose</th>\n",
       "      <th>BloodPressure</th>\n",
       "      <th>SkinThickness</th>\n",
       "      <th>Insulin</th>\n",
       "      <th>BMI</th>\n",
       "      <th>DiabetesPedigreeFunction</th>\n",
       "      <th>Age</th>\n",
       "      <th>Outcome</th>\n",
       "    </tr>\n",
       "  </thead>\n",
       "  <tbody>\n",
       "    <tr>\n",
       "      <th>0</th>\n",
       "      <td>6</td>\n",
       "      <td>148</td>\n",
       "      <td>72</td>\n",
       "      <td>35</td>\n",
       "      <td>0</td>\n",
       "      <td>33.6</td>\n",
       "      <td>0.627</td>\n",
       "      <td>50</td>\n",
       "      <td>1</td>\n",
       "    </tr>\n",
       "    <tr>\n",
       "      <th>1</th>\n",
       "      <td>1</td>\n",
       "      <td>85</td>\n",
       "      <td>66</td>\n",
       "      <td>29</td>\n",
       "      <td>0</td>\n",
       "      <td>26.6</td>\n",
       "      <td>0.351</td>\n",
       "      <td>31</td>\n",
       "      <td>0</td>\n",
       "    </tr>\n",
       "    <tr>\n",
       "      <th>2</th>\n",
       "      <td>8</td>\n",
       "      <td>183</td>\n",
       "      <td>64</td>\n",
       "      <td>0</td>\n",
       "      <td>0</td>\n",
       "      <td>23.3</td>\n",
       "      <td>0.672</td>\n",
       "      <td>32</td>\n",
       "      <td>1</td>\n",
       "    </tr>\n",
       "    <tr>\n",
       "      <th>3</th>\n",
       "      <td>1</td>\n",
       "      <td>89</td>\n",
       "      <td>66</td>\n",
       "      <td>23</td>\n",
       "      <td>94</td>\n",
       "      <td>28.1</td>\n",
       "      <td>0.167</td>\n",
       "      <td>21</td>\n",
       "      <td>0</td>\n",
       "    </tr>\n",
       "    <tr>\n",
       "      <th>4</th>\n",
       "      <td>0</td>\n",
       "      <td>137</td>\n",
       "      <td>40</td>\n",
       "      <td>35</td>\n",
       "      <td>168</td>\n",
       "      <td>43.1</td>\n",
       "      <td>2.288</td>\n",
       "      <td>33</td>\n",
       "      <td>1</td>\n",
       "    </tr>\n",
       "  </tbody>\n",
       "</table>\n",
       "</div>"
      ],
      "text/plain": [
       "   Pregnancies  Glucose  BloodPressure  SkinThickness  Insulin   BMI  \\\n",
       "0            6      148             72             35        0  33.6   \n",
       "1            1       85             66             29        0  26.6   \n",
       "2            8      183             64              0        0  23.3   \n",
       "3            1       89             66             23       94  28.1   \n",
       "4            0      137             40             35      168  43.1   \n",
       "\n",
       "   DiabetesPedigreeFunction  Age  Outcome  \n",
       "0                     0.627   50        1  \n",
       "1                     0.351   31        0  \n",
       "2                     0.672   32        1  \n",
       "3                     0.167   21        0  \n",
       "4                     2.288   33        1  "
      ]
     },
     "execution_count": 100,
     "metadata": {},
     "output_type": "execute_result"
    }
   ],
   "source": [
    "diabetes = pd.read_csv(\"data/diabetes.csv\")\n",
    "df = diabetes.copy()\n",
    "df = df.dropna()\n",
    "df.head()"
   ]
  },
  {
   "cell_type": "code",
   "execution_count": 101,
   "id": "df0c0f51",
   "metadata": {},
   "outputs": [
    {
     "name": "stdout",
     "output_type": "stream",
     "text": [
      "<class 'pandas.core.frame.DataFrame'>\n",
      "Int64Index: 768 entries, 0 to 767\n",
      "Data columns (total 9 columns):\n",
      " #   Column                    Non-Null Count  Dtype  \n",
      "---  ------                    --------------  -----  \n",
      " 0   Pregnancies               768 non-null    int64  \n",
      " 1   Glucose                   768 non-null    int64  \n",
      " 2   BloodPressure             768 non-null    int64  \n",
      " 3   SkinThickness             768 non-null    int64  \n",
      " 4   Insulin                   768 non-null    int64  \n",
      " 5   BMI                       768 non-null    float64\n",
      " 6   DiabetesPedigreeFunction  768 non-null    float64\n",
      " 7   Age                       768 non-null    int64  \n",
      " 8   Outcome                   768 non-null    int64  \n",
      "dtypes: float64(2), int64(7)\n",
      "memory usage: 60.0 KB\n"
     ]
    }
   ],
   "source": [
    "df.info()"
   ]
  },
  {
   "cell_type": "code",
   "execution_count": 4,
   "id": "6ac080a6",
   "metadata": {},
   "outputs": [
    {
     "data": {
      "text/plain": [
       "0    500\n",
       "1    268\n",
       "Name: Outcome, dtype: int64"
      ]
     },
     "execution_count": 4,
     "metadata": {},
     "output_type": "execute_result"
    }
   ],
   "source": [
    "df[\"Outcome\"].value_counts()"
   ]
  },
  {
   "cell_type": "code",
   "execution_count": 5,
   "id": "33cc5b4b",
   "metadata": {},
   "outputs": [
    {
     "data": {
      "image/png": "[encoded data removed]",
      "text/plain": [
       "<Figure size 432x288 with 1 Axes>"
      ]
     },
     "metadata": {
      "needs_background": "light"
     },
     "output_type": "display_data"
    }
   ],
   "source": [
    "df[\"Outcome\"].value_counts().plot.barh();"
   ]
  },
  {
   "cell_type": "code",
   "execution_count": 6,
   "id": "4c9d1926",
   "metadata": {},
   "outputs": [
    {
     "data": {
      "text/html": [
       "<div>\n",
       "<style scoped>\n",
       "    .dataframe tbody tr th:only-of-type {\n",
       "        vertical-align: middle;\n",
       "    }\n",
       "\n",
       "    .dataframe tbody tr th {\n",
       "        vertical-align: top;\n",
       "    }\n",
       "\n",
       "    .dataframe thead th {\n",
       "        text-align: right;\n",
       "    }\n",
       "</style>\n",
       "<table border=\"1\" class=\"dataframe\">\n",
       "  <thead>\n",
       "    <tr style=\"text-align: right;\">\n",
       "      <th></th>\n",
       "      <th>count</th>\n",
       "      <th>mean</th>\n",
       "      <th>std</th>\n",
       "      <th>min</th>\n",
       "      <th>25%</th>\n",
       "      <th>50%</th>\n",
       "      <th>75%</th>\n",
       "      <th>max</th>\n",
       "    </tr>\n",
       "  </thead>\n",
       "  <tbody>\n",
       "    <tr>\n",
       "      <th>Pregnancies</th>\n",
       "      <td>768.0</td>\n",
       "      <td>3.845052</td>\n",
       "      <td>3.369578</td>\n",
       "      <td>0.000</td>\n",
       "      <td>1.00000</td>\n",
       "      <td>3.0000</td>\n",
       "      <td>6.00000</td>\n",
       "      <td>17.00</td>\n",
       "    </tr>\n",
       "    <tr>\n",
       "      <th>Glucose</th>\n",
       "      <td>768.0</td>\n",
       "      <td>120.894531</td>\n",
       "      <td>31.972618</td>\n",
       "      <td>0.000</td>\n",
       "      <td>99.00000</td>\n",
       "      <td>117.0000</td>\n",
       "      <td>140.25000</td>\n",
       "      <td>199.00</td>\n",
       "    </tr>\n",
       "    <tr>\n",
       "      <th>BloodPressure</th>\n",
       "      <td>768.0</td>\n",
       "      <td>69.105469</td>\n",
       "      <td>19.355807</td>\n",
       "      <td>0.000</td>\n",
       "      <td>62.00000</td>\n",
       "      <td>72.0000</td>\n",
       "      <td>80.00000</td>\n",
       "      <td>122.00</td>\n",
       "    </tr>\n",
       "    <tr>\n",
       "      <th>SkinThickness</th>\n",
       "      <td>768.0</td>\n",
       "      <td>20.536458</td>\n",
       "      <td>15.952218</td>\n",
       "      <td>0.000</td>\n",
       "      <td>0.00000</td>\n",
       "      <td>23.0000</td>\n",
       "      <td>32.00000</td>\n",
       "      <td>99.00</td>\n",
       "    </tr>\n",
       "    <tr>\n",
       "      <th>Insulin</th>\n",
       "      <td>768.0</td>\n",
       "      <td>79.799479</td>\n",
       "      <td>115.244002</td>\n",
       "      <td>0.000</td>\n",
       "      <td>0.00000</td>\n",
       "      <td>30.5000</td>\n",
       "      <td>127.25000</td>\n",
       "      <td>846.00</td>\n",
       "    </tr>\n",
       "    <tr>\n",
       "      <th>BMI</th>\n",
       "      <td>768.0</td>\n",
       "      <td>31.992578</td>\n",
       "      <td>7.884160</td>\n",
       "      <td>0.000</td>\n",
       "      <td>27.30000</td>\n",
       "      <td>32.0000</td>\n",
       "      <td>36.60000</td>\n",
       "      <td>67.10</td>\n",
       "    </tr>\n",
       "    <tr>\n",
       "      <th>DiabetesPedigreeFunction</th>\n",
       "      <td>768.0</td>\n",
       "      <td>0.471876</td>\n",
       "      <td>0.331329</td>\n",
       "      <td>0.078</td>\n",
       "      <td>0.24375</td>\n",
       "      <td>0.3725</td>\n",
       "      <td>0.62625</td>\n",
       "      <td>2.42</td>\n",
       "    </tr>\n",
       "    <tr>\n",
       "      <th>Age</th>\n",
       "      <td>768.0</td>\n",
       "      <td>33.240885</td>\n",
       "      <td>11.760232</td>\n",
       "      <td>21.000</td>\n",
       "      <td>24.00000</td>\n",
       "      <td>29.0000</td>\n",
       "      <td>41.00000</td>\n",
       "      <td>81.00</td>\n",
       "    </tr>\n",
       "    <tr>\n",
       "      <th>Outcome</th>\n",
       "      <td>768.0</td>\n",
       "      <td>0.348958</td>\n",
       "      <td>0.476951</td>\n",
       "      <td>0.000</td>\n",
       "      <td>0.00000</td>\n",
       "      <td>0.0000</td>\n",
       "      <td>1.00000</td>\n",
       "      <td>1.00</td>\n",
       "    </tr>\n",
       "  </tbody>\n",
       "</table>\n",
       "</div>"
      ],
      "text/plain": [
       "                          count        mean         std     min       25%  \\\n",
       "Pregnancies               768.0    3.845052    3.369578   0.000   1.00000   \n",
       "Glucose                   768.0  120.894531   31.972618   0.000  99.00000   \n",
       "BloodPressure             768.0   69.105469   19.355807   0.000  62.00000   \n",
       "SkinThickness             768.0   20.536458   15.952218   0.000   0.00000   \n",
       "Insulin                   768.0   79.799479  115.244002   0.000   0.00000   \n",
       "BMI                       768.0   31.992578    7.884160   0.000  27.30000   \n",
       "DiabetesPedigreeFunction  768.0    0.471876    0.331329   0.078   0.24375   \n",
       "Age                       768.0   33.240885   11.760232  21.000  24.00000   \n",
       "Outcome                   768.0    0.348958    0.476951   0.000   0.00000   \n",
       "\n",
       "                               50%        75%     max  \n",
       "Pregnancies                 3.0000    6.00000   17.00  \n",
       "Glucose                   117.0000  140.25000  199.00  \n",
       "BloodPressure              72.0000   80.00000  122.00  \n",
       "SkinThickness              23.0000   32.00000   99.00  \n",
       "Insulin                    30.5000  127.25000  846.00  \n",
       "BMI                        32.0000   36.60000   67.10  \n",
       "DiabetesPedigreeFunction    0.3725    0.62625    2.42  \n",
       "Age                        29.0000   41.00000   81.00  \n",
       "Outcome                     0.0000    1.00000    1.00  "
      ]
     },
     "execution_count": 6,
     "metadata": {},
     "output_type": "execute_result"
    }
   ],
   "source": [
    "df.describe().T"
   ]
  },
  {
   "cell_type": "code",
   "execution_count": 7,
   "id": "43348fae",
   "metadata": {},
   "outputs": [],
   "source": [
    "y = df[\"Outcome\"]\n",
    "X = df.drop([\"Outcome\"], axis=1)"
   ]
  },
  {
   "cell_type": "code",
   "execution_count": 102,
   "id": "f6f1f023",
   "metadata": {},
   "outputs": [
    {
     "name": "stdout",
     "output_type": "stream",
     "text": [
      "Optimization terminated successfully.\n",
      "         Current function value: 0.608498\n",
      "         Iterations 5\n"
     ]
    },
    {
     "data": {
      "text/html": [
       "<table class=\"simpletable\">\n",
       "<caption>Logit Regression Results</caption>\n",
       "<tr>\n",
       "  <th>Dep. Variable:</th>        <td>Outcome</td>     <th>  No. Observations:  </th>  <td>   768</td>  \n",
       "</tr>\n",
       "<tr>\n",
       "  <th>Model:</th>                 <td>Logit</td>      <th>  Df Residuals:      </th>  <td>   760</td>  \n",
       "</tr>\n",
       "<tr>\n",
       "  <th>Method:</th>                 <td>MLE</td>       <th>  Df Model:          </th>  <td>     7</td>  \n",
       "</tr>\n",
       "<tr>\n",
       "  <th>Date:</th>            <td>Wed, 11 May 2022</td> <th>  Pseudo R-squ.:     </th>  <td>0.05922</td> \n",
       "</tr>\n",
       "<tr>\n",
       "  <th>Time:</th>                <td>23:13:13</td>     <th>  Log-Likelihood:    </th> <td> -467.33</td> \n",
       "</tr>\n",
       "<tr>\n",
       "  <th>converged:</th>             <td>True</td>       <th>  LL-Null:           </th> <td> -496.74</td> \n",
       "</tr>\n",
       "<tr>\n",
       "  <th>Covariance Type:</th>     <td>nonrobust</td>    <th>  LLR p-value:       </th> <td>2.583e-10</td>\n",
       "</tr>\n",
       "</table>\n",
       "<table class=\"simpletable\">\n",
       "<tr>\n",
       "              <td></td>                <th>coef</th>     <th>std err</th>      <th>z</th>      <th>P>|z|</th>  <th>[0.025</th>    <th>0.975]</th>  \n",
       "</tr>\n",
       "<tr>\n",
       "  <th>Pregnancies</th>              <td>    0.1284</td> <td>    0.029</td> <td>    4.484</td> <td> 0.000</td> <td>    0.072</td> <td>    0.185</td>\n",
       "</tr>\n",
       "<tr>\n",
       "  <th>Glucose</th>                  <td>    0.0129</td> <td>    0.003</td> <td>    4.757</td> <td> 0.000</td> <td>    0.008</td> <td>    0.018</td>\n",
       "</tr>\n",
       "<tr>\n",
       "  <th>BloodPressure</th>            <td>   -0.0303</td> <td>    0.005</td> <td>   -6.481</td> <td> 0.000</td> <td>   -0.039</td> <td>   -0.021</td>\n",
       "</tr>\n",
       "<tr>\n",
       "  <th>SkinThickness</th>            <td>    0.0002</td> <td>    0.006</td> <td>    0.032</td> <td> 0.974</td> <td>   -0.012</td> <td>    0.012</td>\n",
       "</tr>\n",
       "<tr>\n",
       "  <th>Insulin</th>                  <td>    0.0007</td> <td>    0.001</td> <td>    0.942</td> <td> 0.346</td> <td>   -0.001</td> <td>    0.002</td>\n",
       "</tr>\n",
       "<tr>\n",
       "  <th>BMI</th>                      <td>   -0.0048</td> <td>    0.011</td> <td>   -0.449</td> <td> 0.653</td> <td>   -0.026</td> <td>    0.016</td>\n",
       "</tr>\n",
       "<tr>\n",
       "  <th>DiabetesPedigreeFunction</th> <td>    0.3203</td> <td>    0.240</td> <td>    1.335</td> <td> 0.182</td> <td>   -0.150</td> <td>    0.790</td>\n",
       "</tr>\n",
       "<tr>\n",
       "  <th>Age</th>                      <td>   -0.0156</td> <td>    0.008</td> <td>   -1.852</td> <td> 0.064</td> <td>   -0.032</td> <td>    0.001</td>\n",
       "</tr>\n",
       "</table>"
      ],
      "text/plain": [
       "<class 'statsmodels.iolib.summary.Summary'>\n",
       "\"\"\"\n",
       "                           Logit Regression Results                           \n",
       "==============================================================================\n",
       "Dep. Variable:                Outcome   No. Observations:                  768\n",
       "Model:                          Logit   Df Residuals:                      760\n",
       "Method:                           MLE   Df Model:                            7\n",
       "Date:                Wed, 11 May 2022   Pseudo R-squ.:                 0.05922\n",
       "Time:                        23:13:13   Log-Likelihood:                -467.33\n",
       "converged:                       True   LL-Null:                       -496.74\n",
       "Covariance Type:            nonrobust   LLR p-value:                 2.583e-10\n",
       "============================================================================================\n",
       "                               coef    std err          z      P>|z|      [0.025      0.975]\n",
       "--------------------------------------------------------------------------------------------\n",
       "Pregnancies                  0.1284      0.029      4.484      0.000       0.072       0.185\n",
       "Glucose                      0.0129      0.003      4.757      0.000       0.008       0.018\n",
       "BloodPressure               -0.0303      0.005     -6.481      0.000      -0.039      -0.021\n",
       "SkinThickness                0.0002      0.006      0.032      0.974      -0.012       0.012\n",
       "Insulin                      0.0007      0.001      0.942      0.346      -0.001       0.002\n",
       "BMI                         -0.0048      0.011     -0.449      0.653      -0.026       0.016\n",
       "DiabetesPedigreeFunction     0.3203      0.240      1.335      0.182      -0.150       0.790\n",
       "Age                         -0.0156      0.008     -1.852      0.064      -0.032       0.001\n",
       "============================================================================================\n",
       "\"\"\""
      ]
     },
     "execution_count": 102,
     "metadata": {},
     "output_type": "execute_result"
    }
   ],
   "source": [
    "#statsmodels\n",
    "loj = sm.Logit(y, X)\n",
    "loj_model= loj.fit()\n",
    "loj_model.summary()"
   ]
  },
  {
   "cell_type": "code",
   "execution_count": 103,
   "id": "b480f405",
   "metadata": {},
   "outputs": [
    {
     "data": {
      "text/plain": [
       "LogisticRegression(solver='liblinear')"
      ]
     },
     "execution_count": 103,
     "metadata": {},
     "output_type": "execute_result"
    }
   ],
   "source": [
    "#scikit-learn\n",
    "loj = LogisticRegression(solver = \"liblinear\")\n",
    "loj_model = loj.fit(X,y)\n",
    "loj_model"
   ]
  },
  {
   "cell_type": "code",
   "execution_count": 104,
   "id": "91d6d93c",
   "metadata": {},
   "outputs": [
    {
     "data": {
      "text/plain": [
       "array([-5.8750371])"
      ]
     },
     "execution_count": 104,
     "metadata": {},
     "output_type": "execute_result"
    }
   ],
   "source": [
    "loj_model.intercept_"
   ]
  },
  {
   "cell_type": "code",
   "execution_count": 105,
   "id": "8df0d879",
   "metadata": {},
   "outputs": [
    {
     "data": {
      "text/plain": [
       "array([[ 1.17027163e-01,  2.83429126e-02, -1.69151680e-02,\n",
       "         7.58010880e-04, -6.38785197e-04,  5.95807270e-02,\n",
       "         6.74616403e-01,  7.18833001e-03]])"
      ]
     },
     "execution_count": 105,
     "metadata": {},
     "output_type": "execute_result"
    }
   ],
   "source": [
    "loj_model.coef_"
   ]
  },
  {
   "cell_type": "markdown",
   "id": "266dcb8d",
   "metadata": {},
   "source": [
    "#### 3.1.2. Tahmin & Model Tuning\n",
    "Lojistik regresyon için girilebilecek bir hiperparametre olmadığından model tuning değil de model doğrulama yapacağız."
   ]
  },
  {
   "cell_type": "code",
   "execution_count": 15,
   "id": "603814d6",
   "metadata": {},
   "outputs": [
    {
     "data": {
      "text/plain": [
       "array([[448,  52],\n",
       "       [121, 147]], dtype=int64)"
      ]
     },
     "execution_count": 15,
     "metadata": {},
     "output_type": "execute_result"
    }
   ],
   "source": [
    "y_pred = loj_model.predict(X)\n",
    "confusion_matrix(y, y_pred)"
   ]
  },
  {
   "cell_type": "markdown",
   "id": "1c94a3db",
   "metadata": {},
   "source": [
    "TP=448\n",
    "\n",
    "FN=52\n",
    "\n",
    "FP=121\n",
    "\n",
    "TN=147\n"
   ]
  },
  {
   "cell_type": "code",
   "execution_count": 16,
   "id": "24495ae8",
   "metadata": {},
   "outputs": [
    {
     "data": {
      "text/plain": [
       "0.7747395833333334"
      ]
     },
     "execution_count": 16,
     "metadata": {},
     "output_type": "execute_result"
    }
   ],
   "source": [
    "accuracy_score(y, y_pred)"
   ]
  },
  {
   "cell_type": "code",
   "execution_count": 17,
   "id": "c220cfe3",
   "metadata": {},
   "outputs": [
    {
     "name": "stdout",
     "output_type": "stream",
     "text": [
      "              precision    recall  f1-score   support\n",
      "\n",
      "           0       0.79      0.90      0.84       500\n",
      "           1       0.74      0.55      0.63       268\n",
      "\n",
      "    accuracy                           0.77       768\n",
      "   macro avg       0.76      0.72      0.73       768\n",
      "weighted avg       0.77      0.77      0.77       768\n",
      "\n"
     ]
    }
   ],
   "source": [
    "print(classification_report(y, y_pred))"
   ]
  },
  {
   "cell_type": "markdown",
   "id": "58e932a7",
   "metadata": {},
   "source": [
    "**modele ilişkin olasılık değerleri**"
   ]
  },
  {
   "cell_type": "code",
   "execution_count": 18,
   "id": "b53bae91",
   "metadata": {},
   "outputs": [
    {
     "data": {
      "text/plain": [
       "array([1, 0, 1, 0, 1, 0, 0, 1, 1, 0], dtype=int64)"
      ]
     },
     "execution_count": 18,
     "metadata": {},
     "output_type": "execute_result"
    }
   ],
   "source": [
    "loj_model.predict(X)[0:10]"
   ]
  },
  {
   "cell_type": "code",
   "execution_count": 21,
   "id": "eaf96d7b",
   "metadata": {},
   "outputs": [
    {
     "data": {
      "text/plain": [
       "0    1\n",
       "1    0\n",
       "2    1\n",
       "3    0\n",
       "4    1\n",
       "5    0\n",
       "6    1\n",
       "7    0\n",
       "8    1\n",
       "9    1\n",
       "Name: Outcome, dtype: int64"
      ]
     },
     "execution_count": 21,
     "metadata": {},
     "output_type": "execute_result"
    }
   ],
   "source": [
    "y[0:10]"
   ]
  },
  {
   "cell_type": "code",
   "execution_count": 20,
   "id": "2cef7d2e",
   "metadata": {},
   "outputs": [
    {
     "data": {
      "text/plain": [
       "array([[0.35095851, 0.64904149],\n",
       "       [0.91673615, 0.08326385],\n",
       "       [0.22496521, 0.77503479],\n",
       "       [0.92104778, 0.07895222],\n",
       "       [0.16809119, 0.83190881],\n",
       "       [0.79856208, 0.20143792],\n",
       "       [0.87971347, 0.12028653],\n",
       "       [0.27753352, 0.72246648],\n",
       "       [0.32070312, 0.67929688],\n",
       "       [0.92237992, 0.07762008]])"
      ]
     },
     "execution_count": 20,
     "metadata": {},
     "output_type": "execute_result"
    }
   ],
   "source": [
    "#modele ilişkin olasılık değerleri. ilk sutun '0' ikinci sutun '1' sınıfına ait olma olasılık\n",
    "loj_model.predict_proba(X)[0:10]"
   ]
  },
  {
   "cell_type": "markdown",
   "id": "399a6a47",
   "metadata": {},
   "source": [
    "**esikleme isleminin el ile yapilmasi**"
   ]
  },
  {
   "cell_type": "code",
   "execution_count": 22,
   "id": "ae8988cb",
   "metadata": {},
   "outputs": [],
   "source": [
    "y_probs = loj_model.predict_proba(X)\n",
    "y_probs = y_probs[:,1]"
   ]
  },
  {
   "cell_type": "code",
   "execution_count": 23,
   "id": "ea14f61b",
   "metadata": {},
   "outputs": [
    {
     "data": {
      "text/plain": [
       "array([0.64904149, 0.08326385, 0.77503479, 0.07895222, 0.83190881,\n",
       "       0.20143792, 0.12028653, 0.72246648, 0.67929688, 0.07762008])"
      ]
     },
     "execution_count": 23,
     "metadata": {},
     "output_type": "execute_result"
    }
   ],
   "source": [
    "y_probs[0:10]"
   ]
  },
  {
   "cell_type": "code",
   "execution_count": 26,
   "id": "5b6fdcc8",
   "metadata": {},
   "outputs": [],
   "source": [
    "#esikleme isleminin el ile yapilmasi\n",
    "y_pred = [1 if i > 0.5 else 0 for i in y_probs]"
   ]
  },
  {
   "cell_type": "code",
   "execution_count": 25,
   "id": "84308434",
   "metadata": {},
   "outputs": [
    {
     "data": {
      "text/plain": [
       "[1, 0, 1, 0, 1, 0, 0, 1, 1, 0]"
      ]
     },
     "execution_count": 25,
     "metadata": {},
     "output_type": "execute_result"
    }
   ],
   "source": [
    "y_pred[0:10]"
   ]
  },
  {
   "cell_type": "markdown",
   "id": "1d99fb59",
   "metadata": {},
   "source": [
    "**raporlama**"
   ]
  },
  {
   "cell_type": "code",
   "execution_count": 32,
   "id": "32cb81d2",
   "metadata": {},
   "outputs": [
    {
     "data": {
      "text/plain": [
       "array([[448,  52],\n",
       "       [121, 147]], dtype=int64)"
      ]
     },
     "execution_count": 32,
     "metadata": {},
     "output_type": "execute_result"
    }
   ],
   "source": [
    "confusion_matrix(y, y_pred)"
   ]
  },
  {
   "cell_type": "code",
   "execution_count": 33,
   "id": "5268d92b",
   "metadata": {},
   "outputs": [
    {
     "data": {
      "text/plain": [
       "0.7747395833333334"
      ]
     },
     "execution_count": 33,
     "metadata": {},
     "output_type": "execute_result"
    }
   ],
   "source": [
    "accuracy_score(y, y_pred)"
   ]
  },
  {
   "cell_type": "code",
   "execution_count": 34,
   "id": "033cf5ae",
   "metadata": {},
   "outputs": [
    {
     "name": "stdout",
     "output_type": "stream",
     "text": [
      "              precision    recall  f1-score   support\n",
      "\n",
      "           0       0.79      0.90      0.84       500\n",
      "           1       0.74      0.55      0.63       268\n",
      "\n",
      "    accuracy                           0.77       768\n",
      "   macro avg       0.76      0.72      0.73       768\n",
      "weighted avg       0.77      0.77      0.77       768\n",
      "\n"
     ]
    }
   ],
   "source": [
    "print(classification_report(y, y_pred))"
   ]
  },
  {
   "cell_type": "code",
   "execution_count": 35,
   "id": "09f87466",
   "metadata": {},
   "outputs": [
    {
     "data": {
      "text/plain": [
       "array([0.64904149, 0.08326385, 0.77503479, 0.07895222, 0.83190881])"
      ]
     },
     "execution_count": 35,
     "metadata": {},
     "output_type": "execute_result"
    }
   ],
   "source": [
    "loj_model.predict_proba(X)[:,1][0:5]"
   ]
  },
  {
   "cell_type": "code",
   "execution_count": 42,
   "id": "01de301d",
   "metadata": {},
   "outputs": [
    {
     "data": {
      "image/png": "[encoded data removed]",
      "text/plain": [
       "<Figure size 432x288 with 1 Axes>"
      ]
     },
     "metadata": {
      "needs_background": "light"
     },
     "output_type": "display_data"
    },
    {
     "name": "stdout",
     "output_type": "stream",
     "text": [
      "AUC= 0.7247164179104478\n"
     ]
    }
   ],
   "source": [
    "logit_roc_auc = roc_auc_score(y, loj_model.predict(X))\n",
    "\n",
    "fpr, tpr, thresholds = roc_curve(y, loj_model.predict_proba(X)[:,1])\n",
    "plt.figure()\n",
    "plt.plot(fpr, tpr, label='AUC (area = %0.2f)' % logit_roc_auc)\n",
    "plt.plot([0, 1], [0, 1],'r--')\n",
    "plt.xlim([0.0, 1.0])\n",
    "plt.ylim([0.0, 1.05])\n",
    "plt.xlabel('False Positive Oranı')\n",
    "plt.ylabel('True Positive Oranı')\n",
    "plt.title('ROC')\n",
    "plt.show()\n",
    "print(\"AUC=\",logit_roc_auc)"
   ]
  },
  {
   "cell_type": "code",
   "execution_count": 53,
   "id": "145154a1",
   "metadata": {},
   "outputs": [],
   "source": [
    "#test train ayırma işlemi\n",
    "#verisetindeki verisetinin azlığından, sınıfların eşit dağılmamasından dolayı\n",
    "#test setini 30% olarak ayarladık\n",
    "X_train, X_test, y_train, y_test = train_test_split(X, y, \n",
    "                                                    test_size = 0.30, \n",
    "                                                    random_state = 42)\n"
   ]
  },
  {
   "cell_type": "code",
   "execution_count": 38,
   "id": "86e18b85",
   "metadata": {},
   "outputs": [
    {
     "data": {
      "text/plain": [
       "LogisticRegression(solver='liblinear')"
      ]
     },
     "execution_count": 38,
     "metadata": {},
     "output_type": "execute_result"
    }
   ],
   "source": [
    "loj = LogisticRegression(solver = \"liblinear\")\n",
    "loj_model = loj.fit(X_train,y_train)\n",
    "loj_model"
   ]
  },
  {
   "cell_type": "code",
   "execution_count": 39,
   "id": "cbede711",
   "metadata": {},
   "outputs": [
    {
     "data": {
      "text/plain": [
       "0.7532467532467533"
      ]
     },
     "execution_count": 39,
     "metadata": {},
     "output_type": "execute_result"
    }
   ],
   "source": [
    "accuracy_score(y_test, loj_model.predict(X_test))"
   ]
  },
  {
   "cell_type": "code",
   "execution_count": 43,
   "id": "cdb62eeb",
   "metadata": {},
   "outputs": [
    {
     "data": {
      "text/plain": [
       "array([0.79166667, 0.82608696, 0.73913043, 0.82608696, 0.73913043,\n",
       "       0.91304348, 0.7826087 , 0.65217391, 0.65217391, 0.82608696])"
      ]
     },
     "execution_count": 43,
     "metadata": {},
     "output_type": "execute_result"
    }
   ],
   "source": [
    "cross_val_score(loj_model, X_test, y_test, cv = 10)"
   ]
  },
  {
   "cell_type": "code",
   "execution_count": 44,
   "id": "2a8c6b97",
   "metadata": {},
   "outputs": [
    {
     "data": {
      "text/plain": [
       "0.7748188405797102"
      ]
     },
     "execution_count": 44,
     "metadata": {},
     "output_type": "execute_result"
    }
   ],
   "source": [
    "cross_val_score(loj_model, X_test, y_test, cv = 10).mean()"
   ]
  },
  {
   "cell_type": "markdown",
   "id": "7c69f369",
   "metadata": {},
   "source": [
    "### 3.2. Gaussian Naive Bayes\n",
    "Olasılık temelli bir modelleme tekniğidir. Temel amaç belirli bir örneğin her bir sınıfa ait olma olasılığının koşullu olasılık temelli hesaplanmasıdır."
   ]
  },
  {
   "cell_type": "markdown",
   "id": "da5831ab",
   "metadata": {},
   "source": [
    "#### 3.2.1. Model"
   ]
  },
  {
   "cell_type": "code",
   "execution_count": 54,
   "id": "05847ae2",
   "metadata": {},
   "outputs": [],
   "source": [
    "diabetes = pd.read_csv(\"data/diabetes.csv\")\n",
    "df = diabetes.copy()\n",
    "df = df.dropna()\n",
    "y = df[\"Outcome\"]\n",
    "X = df.drop(['Outcome'], axis=1)\n",
    "X_train, X_test, y_train, y_test = train_test_split(X, y, \n",
    "                                                    test_size=0.30, \n",
    "                                                    random_state=42)"
   ]
  },
  {
   "cell_type": "code",
   "execution_count": 129,
   "id": "611bdd92",
   "metadata": {},
   "outputs": [
    {
     "data": {
      "text/plain": [
       "GaussianNB()"
      ]
     },
     "execution_count": 129,
     "metadata": {},
     "output_type": "execute_result"
    }
   ],
   "source": [
    "nb = GaussianNB()\n",
    "nb_model = nb.fit(X_train, y_train)\n",
    "nb_model"
   ]
  },
  {
   "cell_type": "code",
   "execution_count": 130,
   "id": "136d7511",
   "metadata": {},
   "outputs": [
    {
     "data": {
      "text/plain": [
       "array([0, 0, 0, 0, 1, 1, 0, 0, 0, 1], dtype=int64)"
      ]
     },
     "execution_count": 130,
     "metadata": {},
     "output_type": "execute_result"
    }
   ],
   "source": [
    "nb_model.predict(X_test)[0:10]"
   ]
  },
  {
   "cell_type": "code",
   "execution_count": 131,
   "id": "977c3144",
   "metadata": {},
   "outputs": [
    {
     "data": {
      "text/plain": [
       "array([[0.73815858, 0.26184142],\n",
       "       [0.94027894, 0.05972106],\n",
       "       [0.97242831, 0.02757169],\n",
       "       [0.82840069, 0.17159931],\n",
       "       [0.47153473, 0.52846527],\n",
       "       [0.47274458, 0.52725542],\n",
       "       [0.99607705, 0.00392295],\n",
       "       [0.69925055, 0.30074945],\n",
       "       [0.53838117, 0.46161883],\n",
       "       [0.25004536, 0.74995464]])"
      ]
     },
     "execution_count": 131,
     "metadata": {},
     "output_type": "execute_result"
    }
   ],
   "source": [
    "nb_model.predict_proba(X_test)[0:10]"
   ]
  },
  {
   "cell_type": "code",
   "execution_count": 132,
   "id": "7f0a5fd9",
   "metadata": {},
   "outputs": [],
   "source": [
    "y_pred = nb_model.predict(X_test)"
   ]
  },
  {
   "cell_type": "code",
   "execution_count": 51,
   "id": "ef3ae7f9",
   "metadata": {},
   "outputs": [
    {
     "data": {
      "text/plain": [
       "0.7445887445887446"
      ]
     },
     "execution_count": 51,
     "metadata": {},
     "output_type": "execute_result"
    }
   ],
   "source": [
    "accuracy_score(y_test, y_pred)"
   ]
  },
  {
   "cell_type": "code",
   "execution_count": 52,
   "id": "d7ff8471",
   "metadata": {},
   "outputs": [
    {
     "data": {
      "text/plain": [
       "0.775"
      ]
     },
     "execution_count": 52,
     "metadata": {},
     "output_type": "execute_result"
    }
   ],
   "source": [
    "cross_val_score(nb_model, X_test, y_test, cv = 10).mean()"
   ]
  },
  {
   "attachments": {
    "1_lwaqQ7xeNILe6BEnfAKvWw.png": {
     "image/png": "[encoded data removed]"
    }
   },
   "cell_type": "markdown",
   "id": "6f4fde59",
   "metadata": {},
   "source": [
    "### 3.3. KNN\n",
    "KNN en basit anlamı ile içerisinde tahmin edilecek değerin bağımsız değişkenlerinin oluşturduğu vektörün en yakın komşularının hangi sınıfta yoğun olduğu bilgisi üzerinden sınıfını tahmin etmeye dayanır.\n",
    "\n",
    "![1_lwaqQ7xeNILe6BEnfAKvWw.png](attachment:1_lwaqQ7xeNILe6BEnfAKvWw.png)\n",
    "\n",
    "İşlem Adımları\n",
    "\n",
    "    Komşu sayısını belirle (k)\n",
    "    Bilinmeyen nokta ile diğer tüm noktalar arasındaki uzaklıkları hesapla\n",
    "    Uzaklıkları sırala ve belirlenen k değerine göre en yakın k sayıda gözlemi seç\n",
    "    Sınıflandırma yapılıyorsa en sık karşılaşılan sınıf, regresyon yapılıyor ise ortalama değeri tahmin değeri olarak belirle"
   ]
  },
  {
   "cell_type": "markdown",
   "id": "7b0c4a3a",
   "metadata": {},
   "source": [
    "#### 3.3.1. Model"
   ]
  },
  {
   "cell_type": "code",
   "execution_count": 106,
   "id": "072452a2",
   "metadata": {},
   "outputs": [],
   "source": [
    "diabetes = pd.read_csv(\"data/diabetes.csv\")\n",
    "df = diabetes.copy()\n",
    "df = df.dropna()\n",
    "y = df[\"Outcome\"]\n",
    "X = df.drop(['Outcome'], axis=1)\n",
    "X_train, X_test, y_train, y_test = train_test_split(X, y, \n",
    "                                                    test_size=0.30, \n",
    "                                                    random_state=42)"
   ]
  },
  {
   "cell_type": "code",
   "execution_count": 107,
   "id": "80ad7482",
   "metadata": {},
   "outputs": [
    {
     "data": {
      "text/plain": [
       "KNeighborsClassifier()"
      ]
     },
     "execution_count": 107,
     "metadata": {},
     "output_type": "execute_result"
    }
   ],
   "source": [
    "knn = KNeighborsClassifier()\n",
    "knn_model = knn.fit(X_train, y_train)\n",
    "knn_model"
   ]
  },
  {
   "cell_type": "markdown",
   "id": "d3a0312d",
   "metadata": {},
   "source": [
    "#### 3.3.2. Tahmin"
   ]
  },
  {
   "cell_type": "code",
   "execution_count": 57,
   "id": "f6e67d19",
   "metadata": {},
   "outputs": [],
   "source": [
    "y_pred = knn_model.predict(X_test)"
   ]
  },
  {
   "cell_type": "code",
   "execution_count": 58,
   "id": "c930ac2d",
   "metadata": {},
   "outputs": [
    {
     "data": {
      "text/plain": [
       "0.6883116883116883"
      ]
     },
     "execution_count": 58,
     "metadata": {},
     "output_type": "execute_result"
    }
   ],
   "source": [
    "accuracy_score(y_test, y_pred)"
   ]
  },
  {
   "cell_type": "code",
   "execution_count": 59,
   "id": "b384b39c",
   "metadata": {},
   "outputs": [
    {
     "name": "stdout",
     "output_type": "stream",
     "text": [
      "              precision    recall  f1-score   support\n",
      "\n",
      "           0       0.77      0.75      0.76       151\n",
      "           1       0.55      0.56      0.56        80\n",
      "\n",
      "    accuracy                           0.69       231\n",
      "   macro avg       0.66      0.66      0.66       231\n",
      "weighted avg       0.69      0.69      0.69       231\n",
      "\n"
     ]
    }
   ],
   "source": [
    "print(classification_report(y_test, y_pred))"
   ]
  },
  {
   "cell_type": "markdown",
   "id": "01064e41",
   "metadata": {},
   "source": [
    "#### 3.3.3. Model Tuning"
   ]
  },
  {
   "cell_type": "code",
   "execution_count": 108,
   "id": "e6c0926c",
   "metadata": {},
   "outputs": [],
   "source": [
    "knn_params = {\"n_neighbors\": np.arange(1,50)}"
   ]
  },
  {
   "cell_type": "code",
   "execution_count": 109,
   "id": "0a48daf9",
   "metadata": {},
   "outputs": [
    {
     "data": {
      "text/plain": [
       "GridSearchCV(cv=10, estimator=KNeighborsClassifier(),\n",
       "             param_grid={'n_neighbors': array([ 1,  2,  3,  4,  5,  6,  7,  8,  9, 10, 11, 12, 13, 14, 15, 16, 17,\n",
       "       18, 19, 20, 21, 22, 23, 24, 25, 26, 27, 28, 29, 30, 31, 32, 33, 34,\n",
       "       35, 36, 37, 38, 39, 40, 41, 42, 43, 44, 45, 46, 47, 48, 49])})"
      ]
     },
     "execution_count": 109,
     "metadata": {},
     "output_type": "execute_result"
    }
   ],
   "source": [
    "knn = KNeighborsClassifier()\n",
    "knn_cv = GridSearchCV(knn, knn_params, cv=10)\n",
    "knn_cv.fit(X_train, y_train)"
   ]
  },
  {
   "cell_type": "code",
   "execution_count": 110,
   "id": "1547e3d2",
   "metadata": {},
   "outputs": [
    {
     "name": "stdout",
     "output_type": "stream",
     "text": [
      "En iyi skor:0.748637316561845\n",
      "En iyi parametreler: {'n_neighbors': 11}\n"
     ]
    }
   ],
   "source": [
    "print(\"En iyi skor:\" + str(knn_cv.best_score_))\n",
    "print(\"En iyi parametreler: \" + str(knn_cv.best_params_))"
   ]
  },
  {
   "cell_type": "code",
   "execution_count": 111,
   "id": "c14e2d76",
   "metadata": {},
   "outputs": [],
   "source": [
    "knn = KNeighborsClassifier(11)\n",
    "knn_tuned = knn.fit(X_train, y_train)"
   ]
  },
  {
   "cell_type": "code",
   "execution_count": 112,
   "id": "bf51379f",
   "metadata": {},
   "outputs": [
    {
     "data": {
      "text/plain": [
       "0.7316017316017316"
      ]
     },
     "execution_count": 112,
     "metadata": {},
     "output_type": "execute_result"
    }
   ],
   "source": [
    "knn_tuned.score(X_test, y_test)"
   ]
  },
  {
   "cell_type": "code",
   "execution_count": 113,
   "id": "0d24d122",
   "metadata": {},
   "outputs": [],
   "source": [
    "y_pred = knn_tuned.predict(X_test)"
   ]
  },
  {
   "cell_type": "code",
   "execution_count": 114,
   "id": "1ee2de07",
   "metadata": {},
   "outputs": [
    {
     "data": {
      "text/plain": [
       "0.7316017316017316"
      ]
     },
     "execution_count": 114,
     "metadata": {},
     "output_type": "execute_result"
    }
   ],
   "source": [
    "accuracy_score(y_test, y_pred)"
   ]
  },
  {
   "attachments": {
    "1_OGs3M3e9zPDfRaVx2BRoPg.png": {
     "image/png": "[encoded data removed]"
    }
   },
   "cell_type": "markdown",
   "id": "0940a94f",
   "metadata": {},
   "source": [
    "### 3.4. SVC\n",
    "Temel amaç iki sınıf arasındaki ayrımın optimumm olmasını sağlayacak hiper düzlemi bulmaktır.\n",
    "\n",
    "![1_OGs3M3e9zPDfRaVx2BRoPg.png](attachment:1_OGs3M3e9zPDfRaVx2BRoPg.png)\n",
    "\n"
   ]
  },
  {
   "attachments": {
    "support_vector_regression3.jpg": {
     "image/jpeg": "[encoded data removed]"
    }
   },
   "cell_type": "markdown",
   "id": "a09d259a",
   "metadata": {},
   "source": [
    "![support_vector_regression3.jpg](attachment:support_vector_regression3.jpg)"
   ]
  },
  {
   "cell_type": "markdown",
   "id": "6b6cebb1",
   "metadata": {},
   "source": [
    "#### 3.4.1. Model"
   ]
  },
  {
   "cell_type": "code",
   "execution_count": 115,
   "id": "3ea3ed36",
   "metadata": {},
   "outputs": [],
   "source": [
    "diabetes = pd.read_csv(\"data/diabetes.csv\")\n",
    "df = diabetes.copy()\n",
    "df = df.dropna()\n",
    "y = df[\"Outcome\"]\n",
    "X = df.drop(['Outcome'], axis=1)\n",
    "X_train, X_test, y_train, y_test = train_test_split(X, y, \n",
    "                                                    test_size=0.30, \n",
    "                                                    random_state=42)"
   ]
  },
  {
   "cell_type": "code",
   "execution_count": 116,
   "id": "26513176",
   "metadata": {},
   "outputs": [],
   "source": [
    "svm_model = SVC(kernel = \"linear\").fit(X_train, y_train)"
   ]
  },
  {
   "cell_type": "code",
   "execution_count": 117,
   "id": "40b58bbd",
   "metadata": {},
   "outputs": [
    {
     "data": {
      "text/plain": [
       "SVC(kernel='linear')"
      ]
     },
     "execution_count": 117,
     "metadata": {},
     "output_type": "execute_result"
    }
   ],
   "source": [
    "svm_model"
   ]
  },
  {
   "cell_type": "markdown",
   "id": "31935ed7",
   "metadata": {},
   "source": [
    "#### 3.4.2. Tahmin"
   ]
  },
  {
   "cell_type": "code",
   "execution_count": 70,
   "id": "1b43dba8",
   "metadata": {},
   "outputs": [],
   "source": [
    "y_pred = svm_model.predict(X_test)"
   ]
  },
  {
   "cell_type": "code",
   "execution_count": 71,
   "id": "ff5a853f",
   "metadata": {},
   "outputs": [
    {
     "data": {
      "text/plain": [
       "0.7445887445887446"
      ]
     },
     "execution_count": 71,
     "metadata": {},
     "output_type": "execute_result"
    }
   ],
   "source": [
    "accuracy_score(y_test, y_pred)"
   ]
  },
  {
   "cell_type": "markdown",
   "id": "569ea8a7",
   "metadata": {},
   "source": [
    "#### 3.4.3. Model Tuning"
   ]
  },
  {
   "cell_type": "code",
   "execution_count": 125,
   "id": "91665095",
   "metadata": {},
   "outputs": [
    {
     "name": "stdout",
     "output_type": "stream",
     "text": [
      "Fitting 10 folds for each of 9 candidates, totalling 90 fits\n"
     ]
    },
    {
     "data": {
      "text/plain": [
       "GridSearchCV(cv=10, estimator=SVC(kernel='linear'), n_jobs=-1,\n",
       "             param_grid={'C': array([1, 2, 3, 4, 5, 6, 7, 8, 9])}, verbose=2)"
      ]
     },
     "execution_count": 125,
     "metadata": {},
     "output_type": "execute_result"
    }
   ],
   "source": [
    "svc_params = {\"C\": np.arange(1,10)}\n",
    "\n",
    "svc = SVC(kernel = \"linear\")\n",
    "\n",
    "svc_cv_model = GridSearchCV(svc,svc_params, \n",
    "                            cv = 10, \n",
    "                            n_jobs = -1, \n",
    "                            verbose = 2 )\n",
    "\n",
    "svc_cv_model.fit(X_train, y_train)"
   ]
  },
  {
   "cell_type": "code",
   "execution_count": 126,
   "id": "684ef01c",
   "metadata": {},
   "outputs": [
    {
     "name": "stdout",
     "output_type": "stream",
     "text": [
      "En iyi parametreler: {'C': 5}\n"
     ]
    }
   ],
   "source": [
    "print(\"En iyi parametreler: \" + str(svc_cv_model.best_params_))"
   ]
  },
  {
   "cell_type": "code",
   "execution_count": 127,
   "id": "38653327",
   "metadata": {},
   "outputs": [],
   "source": [
    "svc_tuned = SVC(kernel = \"linear\", C = 5).fit(X_train, y_train)"
   ]
  },
  {
   "cell_type": "code",
   "execution_count": 75,
   "id": "a1500ca8",
   "metadata": {},
   "outputs": [
    {
     "data": {
      "text/plain": [
       "0.7445887445887446"
      ]
     },
     "execution_count": 75,
     "metadata": {},
     "output_type": "execute_result"
    }
   ],
   "source": [
    "y_pred = svc_tuned.predict(X_test)\n",
    "accuracy_score(y_test, y_pred)"
   ]
  },
  {
   "cell_type": "markdown",
   "id": "105c1b18",
   "metadata": {},
   "source": [
    "### 3.5. RBF SVC\n",
    "RBF: Radial Bases Function"
   ]
  },
  {
   "cell_type": "markdown",
   "id": "67ccb4c4",
   "metadata": {},
   "source": [
    "#### 3.5.1. Model"
   ]
  },
  {
   "cell_type": "code",
   "execution_count": 78,
   "id": "63bfa6be",
   "metadata": {},
   "outputs": [],
   "source": [
    "diabetes = pd.read_csv(\"data/diabetes.csv\")\n",
    "df = diabetes.copy()\n",
    "df = df.dropna()\n",
    "y = df[\"Outcome\"]\n",
    "X = df.drop(['Outcome'], axis=1)\n",
    "X_train, X_test, y_train, y_test = train_test_split(X, y, \n",
    "                                                    test_size=0.30, \n",
    "                                                    random_state=42)"
   ]
  },
  {
   "cell_type": "code",
   "execution_count": 118,
   "id": "069327f5",
   "metadata": {},
   "outputs": [],
   "source": [
    "svc_model = SVC(kernel = \"rbf\").fit(X_train, y_train)"
   ]
  },
  {
   "cell_type": "markdown",
   "id": "02f9fa38",
   "metadata": {},
   "source": [
    "#### 3.5.2. Tahmin"
   ]
  },
  {
   "cell_type": "code",
   "execution_count": 81,
   "id": "abb9ca71",
   "metadata": {},
   "outputs": [
    {
     "data": {
      "text/plain": [
       "0.7359307359307359"
      ]
     },
     "execution_count": 81,
     "metadata": {},
     "output_type": "execute_result"
    }
   ],
   "source": [
    "y_pred = svc_model.predict(X_test)\n",
    "accuracy_score(y_test, y_pred)"
   ]
  },
  {
   "cell_type": "markdown",
   "id": "b339eb87",
   "metadata": {},
   "source": [
    "#### 3.5.3. Model Tuning"
   ]
  },
  {
   "cell_type": "code",
   "execution_count": 82,
   "id": "de9f7e2a",
   "metadata": {},
   "outputs": [],
   "source": [
    "svc_params = {\"C\": [0.0001, 0.001, 0.1, 1, 5, 10 ,50 ,100],\n",
    "             \"gamma\": [0.0001, 0.001, 0.1, 1, 5, 10 ,50 ,100]}"
   ]
  },
  {
   "cell_type": "code",
   "execution_count": 83,
   "id": "c986e78c",
   "metadata": {},
   "outputs": [
    {
     "name": "stdout",
     "output_type": "stream",
     "text": [
      "Fitting 10 folds for each of 64 candidates, totalling 640 fits\n"
     ]
    },
    {
     "data": {
      "text/plain": [
       "GridSearchCV(cv=10, estimator=SVC(), n_jobs=-1,\n",
       "             param_grid={'C': [0.0001, 0.001, 0.1, 1, 5, 10, 50, 100],\n",
       "                         'gamma': [0.0001, 0.001, 0.1, 1, 5, 10, 50, 100]},\n",
       "             verbose=2)"
      ]
     },
     "execution_count": 83,
     "metadata": {},
     "output_type": "execute_result"
    }
   ],
   "source": [
    "svc = SVC()\n",
    "svc_cv_model = GridSearchCV(svc, svc_params, \n",
    "                         cv = 10, \n",
    "                         n_jobs = -1,\n",
    "                         verbose = 2)\n",
    "\n",
    "svc_cv_model.fit(X_train, y_train)"
   ]
  },
  {
   "cell_type": "code",
   "execution_count": 84,
   "id": "e974230f",
   "metadata": {},
   "outputs": [
    {
     "name": "stdout",
     "output_type": "stream",
     "text": [
      "En iyi parametreler: {'C': 10, 'gamma': 0.0001}\n"
     ]
    }
   ],
   "source": [
    "print(\"En iyi parametreler: \" + str(svc_cv_model.best_params_))"
   ]
  },
  {
   "cell_type": "code",
   "execution_count": 85,
   "id": "b8c610b6",
   "metadata": {},
   "outputs": [],
   "source": [
    "svc_tuned = SVC(C = 10, gamma = 0.0001).fit(X_train, y_train)"
   ]
  },
  {
   "cell_type": "code",
   "execution_count": 86,
   "id": "9442d6aa",
   "metadata": {},
   "outputs": [
    {
     "data": {
      "text/plain": [
       "0.7359307359307359"
      ]
     },
     "execution_count": 86,
     "metadata": {},
     "output_type": "execute_result"
    }
   ],
   "source": [
    "y_pred = svc_tuned.predict(X_test)\n",
    "accuracy_score(y_test, y_pred)"
   ]
  },
  {
   "attachments": {
    "0_a1BbNM8lp4tpveEh.png": {
     "image/png": "[encoded data removed]"
    }
   },
   "cell_type": "markdown",
   "id": "21a967cb",
   "metadata": {},
   "source": [
    "### 3.6. Yapay Sinir Ağları\n",
    "İnsan beyninin bilgiyi işleme şeklini referans alan sınıflandırma ve regresyon problemleri için kullanılabilen kuvvetli makine öğrenmesi algoritmalarından bir tanesidir.\n",
    "\n",
    "![0_a1BbNM8lp4tpveEh.png](attachment:0_a1BbNM8lp4tpveEh.png)"
   ]
  },
  {
   "attachments": {
    "0_706m8kGIpS2fBph4.jpg": {
     "image/jpeg": "[encoded data removed]"
    }
   },
   "cell_type": "markdown",
   "id": "4b29e2cf",
   "metadata": {},
   "source": [
    "![0_706m8kGIpS2fBph4.jpg](attachment:0_706m8kGIpS2fBph4.jpg)"
   ]
  },
  {
   "cell_type": "markdown",
   "id": "7fa60d84",
   "metadata": {},
   "source": [
    "#### 3.6.1. Model "
   ]
  },
  {
   "cell_type": "code",
   "execution_count": 2,
   "id": "4f7027bc",
   "metadata": {},
   "outputs": [],
   "source": [
    "diabetes = pd.read_csv(\"data/diabetes.csv\")\n",
    "df = diabetes.copy()\n",
    "df = df.dropna()\n",
    "y = df[\"Outcome\"]\n",
    "X = df.drop(['Outcome'], axis=1)\n",
    "X_train, X_test, y_train, y_test = train_test_split(X, y, \n",
    "                                                    test_size=0.30, \n",
    "                                                    random_state=42)"
   ]
  },
  {
   "cell_type": "code",
   "execution_count": 119,
   "id": "6d19e4ec",
   "metadata": {},
   "outputs": [],
   "source": [
    "scaler = StandardScaler()"
   ]
  },
  {
   "cell_type": "code",
   "execution_count": 120,
   "id": "8e49735a",
   "metadata": {},
   "outputs": [],
   "source": [
    "#veri standardizasyonu\n",
    "scaler.fit(X_train)\n",
    "X_train_scaled = scaler.transform(X_train)\n",
    "X_test_scaled = scaler.transform(X_test)"
   ]
  },
  {
   "cell_type": "code",
   "execution_count": 121,
   "id": "60c69a72",
   "metadata": {},
   "outputs": [
    {
     "data": {
      "text/plain": [
       "array([[ 0.69748316, -0.70719864, -0.64639893,  0.81207927,  0.95720244,\n",
       "         0.26575953, -0.11680393,  0.85019217],\n",
       "       [-0.52953881, -0.27388818,  0.29399563,  0.74746428, -0.6936878 ,\n",
       "         0.488933  , -0.94192338, -1.03426754],\n",
       "       [-0.52953881, -0.39769117, -0.31449497, -1.3202154 , -0.6936878 ,\n",
       "        -0.1543317 , -0.91266382, -1.03426754],\n",
       "       [ 1.31099414, -0.42864191,  0.57058226, -1.3202154 , -0.6936878 ,\n",
       "        -0.96825847,  1.12965312,  0.07927683],\n",
       "       [ 1.00423865,  0.46892976,  1.12375553, -1.3202154 , -0.6936878 ,\n",
       "        -0.27248236, -0.76051413,  1.44979298]])"
      ]
     },
     "execution_count": 121,
     "metadata": {},
     "output_type": "execute_result"
    }
   ],
   "source": [
    "X_test_scaled[0:5]"
   ]
  },
  {
   "cell_type": "code",
   "execution_count": 122,
   "id": "25b0a476",
   "metadata": {},
   "outputs": [],
   "source": [
    "mlpc = MLPClassifier().fit(X_train_scaled, y_train)"
   ]
  },
  {
   "cell_type": "code",
   "execution_count": 123,
   "id": "1a88d8d9",
   "metadata": {
    "collapsed": true
   },
   "outputs": [
    {
     "data": {
      "text/plain": [
       "['__abstractmethods__',\n",
       " '__class__',\n",
       " '__delattr__',\n",
       " '__dict__',\n",
       " '__dir__',\n",
       " '__doc__',\n",
       " '__eq__',\n",
       " '__format__',\n",
       " '__ge__',\n",
       " '__getattribute__',\n",
       " '__getstate__',\n",
       " '__gt__',\n",
       " '__hash__',\n",
       " '__init__',\n",
       " '__init_subclass__',\n",
       " '__le__',\n",
       " '__lt__',\n",
       " '__module__',\n",
       " '__ne__',\n",
       " '__new__',\n",
       " '__reduce__',\n",
       " '__reduce_ex__',\n",
       " '__repr__',\n",
       " '__setattr__',\n",
       " '__setstate__',\n",
       " '__sizeof__',\n",
       " '__str__',\n",
       " '__subclasshook__',\n",
       " '__weakref__',\n",
       " '_abc_impl',\n",
       " '_backprop',\n",
       " '_check_feature_names',\n",
       " '_check_n_features',\n",
       " '_check_solver',\n",
       " '_compute_loss_grad',\n",
       " '_estimator_type',\n",
       " '_fit',\n",
       " '_fit_lbfgs',\n",
       " '_fit_stochastic',\n",
       " '_forward_pass',\n",
       " '_forward_pass_fast',\n",
       " '_get_param_names',\n",
       " '_get_tags',\n",
       " '_init_coef',\n",
       " '_initialize',\n",
       " '_label_binarizer',\n",
       " '_loss_grad_lbfgs',\n",
       " '_more_tags',\n",
       " '_no_improvement_count',\n",
       " '_optimizer',\n",
       " '_random_state',\n",
       " '_repr_html_',\n",
       " '_repr_html_inner',\n",
       " '_repr_mimebundle_',\n",
       " '_unpack',\n",
       " '_update_no_improvement_count',\n",
       " '_validate_data',\n",
       " '_validate_hyperparameters',\n",
       " '_validate_input',\n",
       " 'activation',\n",
       " 'alpha',\n",
       " 'batch_size',\n",
       " 'best_loss_',\n",
       " 'beta_1',\n",
       " 'beta_2',\n",
       " 'classes_',\n",
       " 'coefs_',\n",
       " 'early_stopping',\n",
       " 'epsilon',\n",
       " 'fit',\n",
       " 'get_params',\n",
       " 'hidden_layer_sizes',\n",
       " 'intercepts_',\n",
       " 'learning_rate',\n",
       " 'learning_rate_init',\n",
       " 'loss',\n",
       " 'loss_',\n",
       " 'loss_curve_',\n",
       " 'max_fun',\n",
       " 'max_iter',\n",
       " 'momentum',\n",
       " 'n_features_in_',\n",
       " 'n_iter_',\n",
       " 'n_iter_no_change',\n",
       " 'n_layers_',\n",
       " 'n_outputs_',\n",
       " 'nesterovs_momentum',\n",
       " 'out_activation_',\n",
       " 'partial_fit',\n",
       " 'power_t',\n",
       " 'predict',\n",
       " 'predict_log_proba',\n",
       " 'predict_proba',\n",
       " 'random_state',\n",
       " 'score',\n",
       " 'set_params',\n",
       " 'shuffle',\n",
       " 'solver',\n",
       " 't_',\n",
       " 'tol',\n",
       " 'validation_fraction',\n",
       " 'verbose',\n",
       " 'warm_start']"
      ]
     },
     "execution_count": 123,
     "metadata": {},
     "output_type": "execute_result"
    }
   ],
   "source": [
    "#modelden neler ogrenebiliriz? \n",
    "dir(mlpc)"
   ]
  },
  {
   "cell_type": "markdown",
   "id": "3e2a2883",
   "metadata": {},
   "source": [
    "#### 3.6.2. Tahmin"
   ]
  },
  {
   "cell_type": "code",
   "execution_count": 7,
   "id": "e0d83079",
   "metadata": {},
   "outputs": [
    {
     "data": {
      "text/plain": [
       "0.7272727272727273"
      ]
     },
     "execution_count": 7,
     "metadata": {},
     "output_type": "execute_result"
    }
   ],
   "source": [
    "y_pred = mlpc.predict(X_test_scaled)\n",
    "accuracy_score(y_test, y_pred)"
   ]
  },
  {
   "cell_type": "markdown",
   "id": "ecc9d7e7",
   "metadata": {},
   "source": [
    "#### 3.6.3. Model Tuning"
   ]
  },
  {
   "cell_type": "code",
   "execution_count": 8,
   "id": "72da1abd",
   "metadata": {},
   "outputs": [
    {
     "data": {
      "text/plain": [
       "MLPClassifier()"
      ]
     },
     "execution_count": 8,
     "metadata": {},
     "output_type": "execute_result"
    }
   ],
   "source": [
    "mlpc"
   ]
  },
  {
   "cell_type": "code",
   "execution_count": 9,
   "id": "60f2ea4b",
   "metadata": {},
   "outputs": [],
   "source": [
    "?mlpc"
   ]
  },
  {
   "cell_type": "code",
   "execution_count": 10,
   "id": "760d400c",
   "metadata": {},
   "outputs": [],
   "source": [
    "mlpc_params = {\"alpha\": [0.1, 0.01, 0.02, 0.005, 0.0001,0.00001],\n",
    "              \"hidden_layer_sizes\": [(10,10,10),\n",
    "                                     (100,100,100),\n",
    "                                     (100,100),\n",
    "                                     (3,5), \n",
    "                                     (5, 3)],\n",
    "              \"solver\" : [\"lbfgs\",\"adam\",\"sgd\"],\n",
    "              \"activation\": [\"relu\",\"logistic\"]}\n"
   ]
  },
  {
   "cell_type": "code",
   "execution_count": 11,
   "id": "4d7bd904",
   "metadata": {},
   "outputs": [
    {
     "name": "stdout",
     "output_type": "stream",
     "text": [
      "Fitting 10 folds for each of 180 candidates, totalling 1800 fits\n"
     ]
    },
    {
     "data": {
      "text/plain": [
       "GridSearchCV(cv=10, estimator=MLPClassifier(), n_jobs=-1,\n",
       "             param_grid={'activation': ['relu', 'logistic'],\n",
       "                         'alpha': [0.1, 0.01, 0.02, 0.005, 0.0001, 1e-05],\n",
       "                         'hidden_layer_sizes': [(10, 10, 10), (100, 100, 100),\n",
       "                                                (100, 100), (3, 5), (5, 3)],\n",
       "                         'solver': ['lbfgs', 'adam', 'sgd']},\n",
       "             verbose=2)"
      ]
     },
     "execution_count": 11,
     "metadata": {},
     "output_type": "execute_result"
    }
   ],
   "source": [
    "mlpc = MLPClassifier()\n",
    "mlpc_cv_model = GridSearchCV(mlpc, mlpc_params, \n",
    "                         cv = 10, \n",
    "                         n_jobs = -1,\n",
    "                         verbose = 2)\n",
    "\n",
    "mlpc_cv_model.fit(X_train_scaled, y_train)"
   ]
  },
  {
   "cell_type": "code",
   "execution_count": 12,
   "id": "1364b526",
   "metadata": {},
   "outputs": [
    {
     "name": "stdout",
     "output_type": "stream",
     "text": [
      "En iyi parametreler: {'activation': 'logistic', 'alpha': 0.1, 'hidden_layer_sizes': (100, 100, 100), 'solver': 'adam'}\n"
     ]
    }
   ],
   "source": [
    "print(\"En iyi parametreler: \" + str(mlpc_cv_model.best_params_))"
   ]
  },
  {
   "cell_type": "code",
   "execution_count": 13,
   "id": "09ef2a49",
   "metadata": {},
   "outputs": [],
   "source": [
    "mlpc_tuned = MLPClassifier(activation = \"logistic\", \n",
    "                           alpha = 0.1, \n",
    "                           hidden_layer_sizes = (100, 100, 100),\n",
    "                          solver = \"adam\")"
   ]
  },
  {
   "cell_type": "code",
   "execution_count": 14,
   "id": "d9f840db",
   "metadata": {},
   "outputs": [
    {
     "data": {
      "text/plain": [
       "MLPClassifier(activation='logistic', alpha=0.1,\n",
       "              hidden_layer_sizes=(100, 100, 100))"
      ]
     },
     "execution_count": 14,
     "metadata": {},
     "output_type": "execute_result"
    }
   ],
   "source": [
    "mlpc_tuned.fit(X_train_scaled, y_train)"
   ]
  },
  {
   "cell_type": "code",
   "execution_count": 20,
   "id": "0d580d3f",
   "metadata": {},
   "outputs": [
    {
     "data": {
      "text/plain": [
       "0.7316017316017316"
      ]
     },
     "execution_count": 20,
     "metadata": {},
     "output_type": "execute_result"
    }
   ],
   "source": [
    "y_pred = mlpc_tuned.predict(X_test_scaled)\n",
    "accuracy_score(y_test, y_pred)"
   ]
  },
  {
   "attachments": {
    "Image-1-1.png": {
     "image/png": "[encoded data removed]"
    }
   },
   "cell_type": "markdown",
   "id": "716f775e",
   "metadata": {},
   "source": [
    "### 3.7. Karar Ağaçları / Classification and Regression Trees (CART)\n",
    "Temel amaç veriseti içerisindeki karmaşık yapıları basit karar yapılarına dönüştürmektir.\n",
    "Heterojen verisetleri belirlenmiş bir hedef değişkene göre homojen alt gruplara ayrılır.\n",
    "\n",
    "![Image-1-1.png](attachment:Image-1-1.png)\n"
   ]
  },
  {
   "attachments": {
    "Decision-Tree.jpg": {
     "image/jpeg": "[encoded data removed]"
    }
   },
   "cell_type": "markdown",
   "id": "e5d4a789",
   "metadata": {},
   "source": [
    "![Decision-Tree.jpg](attachment:Decision-Tree.jpg)"
   ]
  },
  {
   "attachments": {
    "OnPaste.20220509-135233.png": {
     "image/png": "[encoded data removed]"
    }
   },
   "cell_type": "markdown",
   "id": "2df21634",
   "metadata": {},
   "source": [
    "![OnPaste.20220509-135233.png](attachment:OnPaste.20220509-135233.png)"
   ]
  },
  {
   "cell_type": "markdown",
   "id": "2bc1bba6",
   "metadata": {},
   "source": [
    "#### 3.7.1. Model"
   ]
  },
  {
   "cell_type": "code",
   "execution_count": 23,
   "id": "c4362ea3",
   "metadata": {},
   "outputs": [],
   "source": [
    "diabetes = pd.read_csv(\"data/diabetes.csv\")\n",
    "df = diabetes.copy()\n",
    "df = df.dropna()\n",
    "y = df[\"Outcome\"]\n",
    "X = df.drop(['Outcome'], axis=1)\n",
    "X = pd.DataFrame(X)\n",
    "X_train, X_test, y_train, y_test = train_test_split(X, y, \n",
    "                                                    test_size=0.30, \n",
    "                                                    random_state=42)"
   ]
  },
  {
   "cell_type": "code",
   "execution_count": 17,
   "id": "c54975e4",
   "metadata": {},
   "outputs": [],
   "source": [
    "cart = DecisionTreeClassifier()\n",
    "cart_model = cart.fit(X_train, y_train)"
   ]
  },
  {
   "cell_type": "markdown",
   "id": "30a43287",
   "metadata": {},
   "source": [
    "#### 3.7.2. Tahmin"
   ]
  },
  {
   "cell_type": "code",
   "execution_count": 18,
   "id": "b15f602d",
   "metadata": {},
   "outputs": [
    {
     "data": {
      "text/plain": [
       "DecisionTreeClassifier()"
      ]
     },
     "execution_count": 18,
     "metadata": {},
     "output_type": "execute_result"
    }
   ],
   "source": [
    "cart_model"
   ]
  },
  {
   "cell_type": "code",
   "execution_count": 22,
   "id": "49955c41",
   "metadata": {},
   "outputs": [
    {
     "name": "stdout",
     "output_type": "stream",
     "text": [
      "((((((0 if x[6] <= 0.671999990940094 else 1 if x[6] <= 0.6974999904632568 else\n",
      "    0) if x[5] <= 31.40000057220459 else ((0 if x[3] <= 40.5 else 1) if x[1\n",
      "    ] <= 111.5 else ((1 if x[1] <= 123.0 else 0) if x[5] <= \n",
      "    37.39999961853027 else 0) if x[2] <= 72.0 else 1) if x[4] <= 9.0 else (\n",
      "    0 if x[6] <= 0.6395000219345093 else 1 if x[6] <= 0.6759999990463257 else\n",
      "    0) if x[0] <= 4.5 else 1 if x[7] <= 26.5 else 0) if x[5] <= \n",
      "    49.10000038146973 else 1) if x[1] <= 127.5 else 1 if x[2] <= 56.0 else \n",
      "    (0 if x[7] <= 27.5 else 1 if x[1] <= 138.0 else 0) if x[5] <= \n",
      "    30.300000190734863 else 1 if x[5] <= 32.000000953674316 else ((0 if x[5\n",
      "    ] <= 33.75 else 1) if x[0] <= 0.5 else 1 if x[5] <= 32.45000076293945 else\n",
      "    0) if x[2] <= 85.0 else 1) if x[7] <= 28.5 else (1 if x[7] <= 29.5 else\n",
      "    (1 if x[7] <= 61.5 else 0) if x[5] <= 9.649999618530273 else 0 if x[1] <=\n",
      "    133.0 else (1 if x[5] <= 24.0 else 0) if x[2] <= 73.0 else 0) if x[5] <=\n",
      "    26.949999809265137 else (1 if x[1] <= 28.5 else 0 if x[0] <= 9.5 else 0 if\n",
      "    x[3] <= 27.0 else 1 if x[5] <= 35.10000038146973 else 0) if x[1] <= \n",
      "    94.5 else ((((0 if x[6] <= 0.24950000643730164 else 0 if x[2] <= 65.0 else\n",
      "    1) if x[5] <= 28.34999942779541 else 1 if x[5] <= 31.15000057220459 else\n",
      "    (1 if x[6] <= 0.29499999433755875 else 0) if x[7] <= 36.5 else (1 if x[\n",
      "    2] <= 77.0 else 0) if x[6] <= 0.21000000089406967 else 1 if x[0] <= 9.0\n",
      "     else 0 if x[6] <= 0.26500000059604645 else 1) if x[3] <= 26.5 else ((0 if\n",
      "    x[1] <= 101.5 else 1 if x[5] <= 41.19999885559082 else 0) if x[2] <= \n",
      "    67.0 else 0 if x[4] <= 155.0 else 0 if x[7] <= 35.0 else 1) if x[1] <= \n",
      "    127.5 else (1 if x[6] <= 0.15850000083446503 else 0) if x[6] <= \n",
      "    0.3110000044107437 else 1) if x[2] <= 83.0 else ((0 if x[3] <= 39.5 else\n",
      "    0 if x[4] <= 44.0 else 1) if x[5] <= 41.19999885559082 else 1) if x[4] <=\n",
      "    124.0 else 0 if x[3] <= 19.5 else 1) if x[6] <= 0.527999997138977 else \n",
      "    ((((0 if x[1] <= 113.5 else 1) if x[5] <= 27.34999942779541 else 1) if \n",
      "    x[1] <= 132.0 else 0) if x[5] <= 29.09999942779541 else 1 if x[6] <= \n",
      "    0.5479999780654907 else 0) if x[5] <= 31.600000381469727 else ((1 if x[\n",
      "    2] <= 87.0 else 0 if x[7] <= 31.5 else 1) if x[3] <= 54.5 else 0) if x[\n",
      "    6] <= 1.1489999890327454 else 1 if x[7] <= 36.0 else 0) if x[1] <= \n",
      "    154.5 else (1 if x[5] <= 25.350000381469727 else (0 if x[0] <= 1.5 else\n",
      "    1) if x[7] <= 52.5 else 0) if x[5] <= 28.700000762939453 else (((0 if x\n",
      "    [7] <= 24.5 else 0 if x[6] <= 0.14100000262260437 else 1) if x[1] <= \n",
      "    164.5 else 0) if x[1] <= 165.5 else (1 if x[6] <= 0.2695000022649765 else\n",
      "    0) if x[6] <= 0.2744999974966049 else 1) if x[6] <= 1.4275000095367432 else\n",
      "    1 if x[7] <= 28.0 else 0)\n",
      "\n"
     ]
    }
   ],
   "source": [
    "#modelin python koduna donusturulmesi\n",
    "print(skompile(cart_model.predict).to(\"python/code\"))"
   ]
  },
  {
   "cell_type": "code",
   "execution_count": 25,
   "id": "8201a550",
   "metadata": {},
   "outputs": [],
   "source": [
    "x = [6,148,72,35,0,33.6,0.627,50]"
   ]
  },
  {
   "cell_type": "code",
   "execution_count": 26,
   "id": "5fc44ed2",
   "metadata": {},
   "outputs": [
    {
     "data": {
      "text/plain": [
       "1"
      ]
     },
     "execution_count": 26,
     "metadata": {},
     "output_type": "execute_result"
    }
   ],
   "source": [
    "((((((0 if x[6] <= 0.671999990940094 else 1 if x[6] <= 0.6974999904632568 else\n",
    "    0) if x[5] <= 31.40000057220459 else ((0 if x[3] <= 40.5 else 1) if x[1\n",
    "    ] <= 111.5 else ((1 if x[1] <= 123.0 else 0) if x[5] <= \n",
    "    37.39999961853027 else 0) if x[2] <= 72.0 else 1) if x[4] <= 9.0 else (\n",
    "    0 if x[6] <= 0.6395000219345093 else 1 if x[6] <= 0.6759999990463257 else\n",
    "    0) if x[0] <= 4.5 else 1 if x[7] <= 26.5 else 0) if x[5] <= \n",
    "    49.10000038146973 else 1) if x[1] <= 127.5 else 1 if x[2] <= 56.0 else \n",
    "    (0 if x[7] <= 27.5 else 1 if x[1] <= 138.0 else 0) if x[5] <= \n",
    "    30.300000190734863 else 1 if x[5] <= 32.000000953674316 else ((0 if x[5\n",
    "    ] <= 33.75 else 1) if x[0] <= 0.5 else 1 if x[5] <= 32.45000076293945 else\n",
    "    0) if x[2] <= 85.0 else 1) if x[7] <= 28.5 else (1 if x[7] <= 29.5 else\n",
    "    (1 if x[7] <= 61.5 else 0) if x[5] <= 9.649999618530273 else 0 if x[1] <=\n",
    "    133.0 else (1 if x[5] <= 24.0 else 0) if x[2] <= 73.0 else 0) if x[5] <=\n",
    "    26.949999809265137 else (1 if x[1] <= 28.5 else 0 if x[0] <= 9.5 else 0 if\n",
    "    x[3] <= 27.0 else 1 if x[5] <= 35.10000038146973 else 0) if x[1] <= \n",
    "    94.5 else ((((0 if x[6] <= 0.24950000643730164 else 0 if x[2] <= 65.0 else\n",
    "    1) if x[5] <= 28.34999942779541 else 1 if x[5] <= 31.15000057220459 else\n",
    "    (1 if x[6] <= 0.29499999433755875 else 0) if x[7] <= 36.5 else (1 if x[\n",
    "    2] <= 77.0 else 0) if x[6] <= 0.21000000089406967 else 1 if x[0] <= 9.0\n",
    "     else 0 if x[6] <= 0.26500000059604645 else 1) if x[3] <= 26.5 else ((0 if\n",
    "    x[1] <= 101.5 else 1 if x[5] <= 41.19999885559082 else 0) if x[2] <= \n",
    "    67.0 else 0 if x[4] <= 155.0 else 0 if x[7] <= 35.0 else 1) if x[1] <= \n",
    "    127.5 else (1 if x[6] <= 0.15850000083446503 else 0) if x[6] <= \n",
    "    0.3110000044107437 else 1) if x[2] <= 83.0 else ((0 if x[3] <= 39.5 else\n",
    "    0 if x[4] <= 44.0 else 1) if x[5] <= 41.19999885559082 else 1) if x[4] <=\n",
    "    124.0 else 0 if x[3] <= 19.5 else 1) if x[6] <= 0.527999997138977 else \n",
    "    ((((0 if x[1] <= 113.5 else 1) if x[5] <= 27.34999942779541 else 1) if \n",
    "    x[1] <= 132.0 else 0) if x[5] <= 29.09999942779541 else 1 if x[6] <= \n",
    "    0.5479999780654907 else 0) if x[5] <= 31.600000381469727 else ((1 if x[\n",
    "    2] <= 87.0 else 0 if x[7] <= 31.5 else 1) if x[3] <= 54.5 else 0) if x[\n",
    "    6] <= 1.1489999890327454 else 1 if x[7] <= 36.0 else 0) if x[1] <= \n",
    "    154.5 else (1 if x[5] <= 25.350000381469727 else (0 if x[0] <= 1.5 else\n",
    "    1) if x[7] <= 52.5 else 0) if x[5] <= 28.700000762939453 else (((0 if x\n",
    "    [7] <= 24.5 else 0 if x[6] <= 0.14100000262260437 else 1) if x[1] <= \n",
    "    164.5 else 0) if x[1] <= 165.5 else (1 if x[6] <= 0.2695000022649765 else\n",
    "    0) if x[6] <= 0.2744999974966049 else 1) if x[6] <= 1.4275000095367432 else\n",
    "    1 if x[7] <= 28.0 else 0)\n"
   ]
  },
  {
   "cell_type": "code",
   "execution_count": 27,
   "id": "81ae7ed0",
   "metadata": {},
   "outputs": [
    {
     "data": {
      "text/plain": [
       "0.7056277056277056"
      ]
     },
     "execution_count": 27,
     "metadata": {},
     "output_type": "execute_result"
    }
   ],
   "source": [
    "y_pred = cart_model.predict(X_test)\n",
    "accuracy_score(y_test, y_pred)"
   ]
  },
  {
   "cell_type": "markdown",
   "id": "03fd67b4",
   "metadata": {},
   "source": [
    "#### 3.7.3. Model Tuning"
   ]
  },
  {
   "cell_type": "code",
   "execution_count": 28,
   "id": "f8154cb4",
   "metadata": {},
   "outputs": [
    {
     "data": {
      "text/plain": [
       "DecisionTreeClassifier()"
      ]
     },
     "execution_count": 28,
     "metadata": {},
     "output_type": "execute_result"
    }
   ],
   "source": [
    "cart_model"
   ]
  },
  {
   "cell_type": "code",
   "execution_count": 29,
   "id": "83ccc3d4",
   "metadata": {},
   "outputs": [],
   "source": [
    "?cart_model"
   ]
  },
  {
   "cell_type": "code",
   "execution_count": 30,
   "id": "60fdeda9",
   "metadata": {},
   "outputs": [],
   "source": [
    "cart_grid = {\"max_depth\": range(1,10),\n",
    "            \"min_samples_split\" : list(range(2,50)) }"
   ]
  },
  {
   "cell_type": "code",
   "execution_count": 31,
   "id": "09f7f4aa",
   "metadata": {},
   "outputs": [
    {
     "name": "stdout",
     "output_type": "stream",
     "text": [
      "Fitting 10 folds for each of 432 candidates, totalling 4320 fits\n"
     ]
    }
   ],
   "source": [
    "cart = tree.DecisionTreeClassifier()\n",
    "cart_cv = GridSearchCV(cart, cart_grid, cv = 10, n_jobs = -1, verbose = 2)\n",
    "cart_cv_model = cart_cv.fit(X_train, y_train)"
   ]
  },
  {
   "cell_type": "code",
   "execution_count": 32,
   "id": "dd78ad03",
   "metadata": {},
   "outputs": [
    {
     "name": "stdout",
     "output_type": "stream",
     "text": [
      "En iyi parametreler: {'max_depth': 5, 'min_samples_split': 19}\n"
     ]
    }
   ],
   "source": [
    "print(\"En iyi parametreler: \" + str(cart_cv_model.best_params_))"
   ]
  },
  {
   "cell_type": "code",
   "execution_count": 33,
   "id": "7e57808e",
   "metadata": {},
   "outputs": [],
   "source": [
    "#final"
   ]
  },
  {
   "cell_type": "code",
   "execution_count": 34,
   "id": "8efdf55f",
   "metadata": {},
   "outputs": [],
   "source": [
    "cart = tree.DecisionTreeClassifier(max_depth = 5, min_samples_split = 19)\n",
    "cart_tuned = cart.fit(X_train, y_train)"
   ]
  },
  {
   "cell_type": "code",
   "execution_count": 35,
   "id": "1d5649d3",
   "metadata": {},
   "outputs": [
    {
     "data": {
      "text/plain": [
       "0.7532467532467533"
      ]
     },
     "execution_count": 35,
     "metadata": {},
     "output_type": "execute_result"
    }
   ],
   "source": [
    "y_pred = cart_tuned.predict(X_test)\n",
    "accuracy_score(y_test, y_pred)"
   ]
  },
  {
   "attachments": {
    "0_Q_KxPGHOvHqew46C.jpg": {
     "image/jpeg": "[encoded data removed]"
    }
   },
   "cell_type": "markdown",
   "id": "a1598e84",
   "metadata": {},
   "source": [
    "### 3.8. Random Forests\n",
    "Temeli birden çok karar ağacının ürettiği tahminlerin bir araya getirilerek değerlendirilmesidir.\n",
    "\n",
    "![0_Q_KxPGHOvHqew46C.jpg](attachment:0_Q_KxPGHOvHqew46C.jpg)\n",
    "\n",
    "Bagging (Breiman, 1996) ile Random Subspace (Ho, 1998) yöntemlerinin birleşimi ile oluşmuştur. \n",
    "\n",
    "Ağaçlar için gözlemler bootstrap rastgele örnek seçim yöntemi ile değişkenler random subspace yöntemi ile seçilir. \n",
    "\n",
    "Karar ağacının her bir düğümünde en iyi dallara ayırıcı (bilgi kazancı) değişken tüm değişkenler arasından rastgele seçilen daha az sayıdaki değişken arasından seçilir. \n",
    "\n",
    "Ağaç oluşturmada veri setinin 2/3'ü kullanılır. Dışarıda kalan veri ağaçların performans değerlendirmesi ve değişken öneminin belirlenmesi için kullanılır. \n",
    "\n",
    "Her düğüm noktasında rastgele değişken seçimi yapılır. (regresyon'da p/3, sınıflama'da karekök p) \n",
    "\n",
    "Nihai tahmin için ağaçlardan tahmin değerleri talep edilirken her bir ağacın daha önce hesaplanan hata oranları göz önüne alınarak ağaçlara ağırlık verilir. \n"
   ]
  },
  {
   "cell_type": "markdown",
   "id": "ad0739fb",
   "metadata": {},
   "source": [
    "#### 3.8.1. Model"
   ]
  },
  {
   "cell_type": "code",
   "execution_count": 36,
   "id": "e4cabb53",
   "metadata": {},
   "outputs": [],
   "source": [
    "diabetes = pd.read_csv(\"data/diabetes.csv\")\n",
    "df = diabetes.copy()\n",
    "df = df.dropna()\n",
    "y = df[\"Outcome\"]\n",
    "X = df.drop(['Outcome'], axis=1)\n",
    "X = pd.DataFrame(X)\n",
    "X_train, X_test, y_train, y_test = train_test_split(X, y, \n",
    "                                                    test_size=0.30, \n",
    "                                                    random_state=42)"
   ]
  },
  {
   "cell_type": "code",
   "execution_count": 37,
   "id": "c1a9d48d",
   "metadata": {},
   "outputs": [],
   "source": [
    "rf_model = RandomForestClassifier().fit(X_train, y_train)"
   ]
  },
  {
   "cell_type": "markdown",
   "id": "2ea2c352",
   "metadata": {},
   "source": [
    "#### 3.8.2. Tahmin"
   ]
  },
  {
   "cell_type": "code",
   "execution_count": 40,
   "id": "8be8631a",
   "metadata": {},
   "outputs": [
    {
     "data": {
      "text/plain": [
       "0.7229437229437229"
      ]
     },
     "execution_count": 40,
     "metadata": {},
     "output_type": "execute_result"
    }
   ],
   "source": [
    "y_pred = rf_model.predict(X_test)\n",
    "accuracy_score(y_test, y_pred)"
   ]
  },
  {
   "cell_type": "markdown",
   "id": "2dbb1f60",
   "metadata": {},
   "source": [
    "#### 3.8.3. Model Tuning"
   ]
  },
  {
   "cell_type": "code",
   "execution_count": null,
   "id": "54d446f2",
   "metadata": {},
   "outputs": [],
   "source": [
    "?rf_model"
   ]
  },
  {
   "cell_type": "code",
   "execution_count": 41,
   "id": "7dd4d2ea",
   "metadata": {},
   "outputs": [],
   "source": [
    "rf_params = {\"max_depth\": [2,5,8,10],\n",
    "            \"max_features\": [2,5,8],\n",
    "            \"n_estimators\": [10,500,1000],\n",
    "            \"min_samples_split\": [2,5,10]}"
   ]
  },
  {
   "cell_type": "code",
   "execution_count": 42,
   "id": "87fac7fa",
   "metadata": {},
   "outputs": [],
   "source": [
    "rf_model = RandomForestClassifier()\n",
    "\n",
    "rf_cv_model = GridSearchCV(rf_model, \n",
    "                           rf_params, \n",
    "                           cv = 10, \n",
    "                           n_jobs = -1, \n",
    "                           verbose = 2) "
   ]
  },
  {
   "cell_type": "code",
   "execution_count": 43,
   "id": "db1379a7",
   "metadata": {},
   "outputs": [
    {
     "name": "stdout",
     "output_type": "stream",
     "text": [
      "Fitting 10 folds for each of 108 candidates, totalling 1080 fits\n"
     ]
    },
    {
     "data": {
      "text/plain": [
       "GridSearchCV(cv=10, estimator=RandomForestClassifier(), n_jobs=-1,\n",
       "             param_grid={'max_depth': [2, 5, 8, 10], 'max_features': [2, 5, 8],\n",
       "                         'min_samples_split': [2, 5, 10],\n",
       "                         'n_estimators': [10, 500, 1000]},\n",
       "             verbose=2)"
      ]
     },
     "execution_count": 43,
     "metadata": {},
     "output_type": "execute_result"
    }
   ],
   "source": [
    "rf_cv_model.fit(X_train, y_train)"
   ]
  },
  {
   "cell_type": "code",
   "execution_count": 44,
   "id": "6c34f131",
   "metadata": {},
   "outputs": [
    {
     "name": "stdout",
     "output_type": "stream",
     "text": [
      "En iyi parametreler: {'max_depth': 10, 'max_features': 8, 'min_samples_split': 2, 'n_estimators': 500}\n"
     ]
    }
   ],
   "source": [
    "print(\"En iyi parametreler: \" + str(rf_cv_model.best_params_))"
   ]
  },
  {
   "cell_type": "code",
   "execution_count": null,
   "id": "1dbcea1d",
   "metadata": {},
   "outputs": [],
   "source": [
    "#final"
   ]
  },
  {
   "cell_type": "code",
   "execution_count": 45,
   "id": "f8bf9481",
   "metadata": {},
   "outputs": [
    {
     "data": {
      "text/plain": [
       "RandomForestClassifier(max_depth=10, max_features=8, n_estimators=500)"
      ]
     },
     "execution_count": 45,
     "metadata": {},
     "output_type": "execute_result"
    }
   ],
   "source": [
    "rf_tuned = RandomForestClassifier(max_depth = 10, \n",
    "                                  max_features = 8, \n",
    "                                  min_samples_split = 2,\n",
    "                                  n_estimators = 500)\n",
    "\n",
    "rf_tuned.fit(X_train, y_train)"
   ]
  },
  {
   "cell_type": "code",
   "execution_count": 46,
   "id": "7cc357e9",
   "metadata": {},
   "outputs": [
    {
     "data": {
      "text/plain": [
       "0.7359307359307359"
      ]
     },
     "execution_count": 46,
     "metadata": {},
     "output_type": "execute_result"
    }
   ],
   "source": [
    "y_pred = rf_tuned.predict(X_test)\n",
    "accuracy_score(y_test, y_pred)"
   ]
  },
  {
   "cell_type": "code",
   "execution_count": 47,
   "id": "fb4396b1",
   "metadata": {},
   "outputs": [],
   "source": [
    "Importance = pd.DataFrame({\"Importance\": rf_tuned.feature_importances_*100},\n",
    "                         index = X_train.columns)"
   ]
  },
  {
   "cell_type": "code",
   "execution_count": 48,
   "id": "89725608",
   "metadata": {},
   "outputs": [
    {
     "data": {
      "text/plain": [
       "Text(0.5, 0, 'Değişken Önem Düzeyleri')"
      ]
     },
     "execution_count": 48,
     "metadata": {},
     "output_type": "execute_result"
    },
    {
     "data": {
      "image/png": "[encoded data removed]",
      "text/plain": [
       "<Figure size 432x288 with 1 Axes>"
      ]
     },
     "metadata": {
      "needs_background": "light"
     },
     "output_type": "display_data"
    }
   ],
   "source": [
    "Importance.sort_values(by = \"Importance\", \n",
    "                       axis = 0, \n",
    "                       ascending = True).plot(kind =\"barh\", color = \"r\")\n",
    "\n",
    "plt.xlabel(\"Değişken Önem Düzeyleri\")"
   ]
  },
  {
   "attachments": {
    "OnPaste.20220509-164356.png": {
     "image/png": "[encoded data removed]"
    }
   },
   "cell_type": "markdown",
   "id": "36f6f0a1",
   "metadata": {},
   "source": [
    "### 3.9. Gradient Boosting Machines (GBM)\n",
    "AdaBoost'un sınıflandırma ve regresyon problemlerine kolayca uyarlanabilen genellenmiş bir versiyonudur.\n",
    "\n",
    "Adaptive Boosting (AdaBoost) zayıf sınıflandırıcıların bir araya gelerek güçlü bir sınıflandırıcı oluşturması için geliştirilen bir yöntemdir.\n",
    "\n",
    "![OnPaste.20220509-164356.png](attachment:OnPaste.20220509-164356.png)\n"
   ]
  },
  {
   "attachments": {
    "Schematical-representation-of-gradient-boosting-regression-in-regards-to-algorithm.png": {
     "image/png": "[encoded data removed]"
    }
   },
   "cell_type": "markdown",
   "id": "0eadb2a5",
   "metadata": {},
   "source": [
    "![Schematical-representation-of-gradient-boosting-regression-in-regards-to-algorithm.png](attachment:Schematical-representation-of-gradient-boosting-regression-in-regards-to-algorithm.png)\n",
    "\n",
    "• Gradient boosting tek bir tahminsel model formunda olan modeller serisi oluşturur. \n",
    "\n",
    "• Seri içerisindeki bir model serideki bir önceki modelin tahmin artıklarının/ hatalarının (residuals) üzerine kurularak (fit) oluşturulur. \n",
    "\n",
    "• GBM diferansiyellenebilen herhangi bir kayıp fonksiyonunu optimize edebilen Gradient descent algoritmasını kullanmaktadır. \n",
    "\n",
    "• GB bir çok temel öğrenici tipi (base learner type) kullanabilir. (Trees, linear terms, splines,...) \n",
    "\n",
    "• Cost fonksiyonları ve link fonksiyonları modifiye edilebilirdir. \n",
    "\n",
    "• Boosting + Gradient Descent \n"
   ]
  },
  {
   "cell_type": "markdown",
   "id": "fe99810f",
   "metadata": {},
   "source": [
    "#### 3.9.1. Model"
   ]
  },
  {
   "cell_type": "code",
   "execution_count": 52,
   "id": "c991bed3",
   "metadata": {},
   "outputs": [],
   "source": [
    "diabetes = pd.read_csv(\"data/diabetes.csv\")\n",
    "df = diabetes.copy()\n",
    "df = df.dropna()\n",
    "y = df[\"Outcome\"]\n",
    "X = df.drop(['Outcome'], axis=1)\n",
    "X = pd.DataFrame(X)\n",
    "X_train, X_test, y_train, y_test = train_test_split(X, y, \n",
    "                                                    test_size=0.30, \n",
    "                                                    random_state=42)"
   ]
  },
  {
   "cell_type": "code",
   "execution_count": 53,
   "id": "e9a91960",
   "metadata": {},
   "outputs": [],
   "source": [
    "gbm_model = GradientBoostingClassifier().fit(X_train, y_train)"
   ]
  },
  {
   "cell_type": "markdown",
   "id": "bfe9e776",
   "metadata": {},
   "source": [
    "#### 3.9.2. Tahmin"
   ]
  },
  {
   "cell_type": "code",
   "execution_count": 54,
   "id": "f85173bd",
   "metadata": {},
   "outputs": [
    {
     "data": {
      "text/plain": [
       "0.7532467532467533"
      ]
     },
     "execution_count": 54,
     "metadata": {},
     "output_type": "execute_result"
    }
   ],
   "source": [
    "y_pred = gbm_model.predict(X_test)\n",
    "accuracy_score(y_test, y_pred)"
   ]
  },
  {
   "cell_type": "markdown",
   "id": "2ae962d9",
   "metadata": {},
   "source": [
    "#### 3.9.3. Model Tuning"
   ]
  },
  {
   "cell_type": "code",
   "execution_count": null,
   "id": "4eafe935",
   "metadata": {},
   "outputs": [],
   "source": [
    "?gbm_model"
   ]
  },
  {
   "cell_type": "code",
   "execution_count": 66,
   "id": "d578c7ce",
   "metadata": {},
   "outputs": [],
   "source": [
    "gbm_params = {\"learning_rate\" : [0.001, 0.01, 0.1, 0.05],\n",
    "             \"n_estimators\": [100,500,100],\n",
    "             \"max_depth\": [3,5,10],\n",
    "             \"min_samples_split\": [2,5,10]}"
   ]
  },
  {
   "cell_type": "code",
   "execution_count": 67,
   "id": "f5ec6155",
   "metadata": {},
   "outputs": [],
   "source": [
    "gbm = GradientBoostingClassifier()\n",
    "\n",
    "gbm_cv = GridSearchCV(gbm, gbm_params, cv = 10, n_jobs = -1, verbose = 2)"
   ]
  },
  {
   "cell_type": "code",
   "execution_count": 57,
   "id": "918ad175",
   "metadata": {},
   "outputs": [
    {
     "name": "stdout",
     "output_type": "stream",
     "text": [
      "Fitting 10 folds for each of 108 candidates, totalling 1080 fits\n"
     ]
    },
    {
     "data": {
      "text/plain": [
       "GridSearchCV(cv=10, estimator=GradientBoostingClassifier(), n_jobs=-1,\n",
       "             param_grid={'learning_rate': [0.001, 0.01, 0.1, 0.05],\n",
       "                         'max_depth': [3, 5, 10],\n",
       "                         'min_samples_split': [2, 5, 10],\n",
       "                         'n_estimators': [100, 500, 100]},\n",
       "             verbose=2)"
      ]
     },
     "execution_count": 57,
     "metadata": {},
     "output_type": "execute_result"
    }
   ],
   "source": [
    "gbm_cv.fit(X_train, y_train)"
   ]
  },
  {
   "cell_type": "code",
   "execution_count": 58,
   "id": "7cae0127",
   "metadata": {},
   "outputs": [
    {
     "name": "stdout",
     "output_type": "stream",
     "text": [
      "En iyi parametreler: {'learning_rate': 0.05, 'max_depth': 5, 'min_samples_split': 10, 'n_estimators': 100}\n"
     ]
    }
   ],
   "source": [
    "print(\"En iyi parametreler: \" + str(gbm_cv.best_params_))"
   ]
  },
  {
   "cell_type": "code",
   "execution_count": 59,
   "id": "62bdcdf9",
   "metadata": {},
   "outputs": [],
   "source": [
    "gbm = GradientBoostingClassifier(learning_rate = 0.05, \n",
    "                                 max_depth = 5,\n",
    "                                min_samples_split = 10,\n",
    "                                n_estimators = 100)"
   ]
  },
  {
   "cell_type": "code",
   "execution_count": 60,
   "id": "b108477a",
   "metadata": {},
   "outputs": [],
   "source": [
    "gbm_tuned =  gbm.fit(X_train,y_train)"
   ]
  },
  {
   "cell_type": "code",
   "execution_count": 61,
   "id": "d4907294",
   "metadata": {},
   "outputs": [
    {
     "data": {
      "text/plain": [
       "0.7186147186147186"
      ]
     },
     "execution_count": 61,
     "metadata": {},
     "output_type": "execute_result"
    }
   ],
   "source": [
    "y_pred = gbm_tuned.predict(X_test)\n",
    "accuracy_score(y_test, y_pred)"
   ]
  },
  {
   "cell_type": "markdown",
   "id": "f35fbfd3",
   "metadata": {},
   "source": [
    "### 3.10. XGBoost (eXtreme Gradient Boosting)\n",
    "XGBoost, GBM'in hız ve tahmin performansını arttırmak üzere optimize edilmiş; ölçeklenebilir ve farklı platformlara entegre edilebilir halidir.\n",
    "    \n",
    "    R, Python, Hadoop, Scala, Julia ile kullanılabilir\n",
    "    Ölçeklenebilir\n",
    "    Hızlı\n",
    "    Tahmin başarısı yüksek\n",
    "    Birçok kaggle yarışmasında başarısını kanıtlamış."
   ]
  },
  {
   "cell_type": "markdown",
   "id": "b58ab1a9",
   "metadata": {},
   "source": [
    "#### 3.10.1. Model"
   ]
  },
  {
   "cell_type": "code",
   "execution_count": 68,
   "id": "93402906",
   "metadata": {},
   "outputs": [],
   "source": [
    "diabetes = pd.read_csv(\"data/diabetes.csv\")\n",
    "df = diabetes.copy()\n",
    "df = df.dropna()\n",
    "y = df[\"Outcome\"]\n",
    "X = df.drop(['Outcome'], axis=1)\n",
    "X = pd.DataFrame(X)\n",
    "X_train, X_test, y_train, y_test = train_test_split(X, y, \n",
    "                                                    test_size=0.30, \n",
    "                                                    random_state=42)"
   ]
  },
  {
   "cell_type": "code",
   "execution_count": 70,
   "id": "4c48189d",
   "metadata": {},
   "outputs": [],
   "source": [
    "xgb_model = XGBClassifier().fit(X_train, y_train)"
   ]
  },
  {
   "cell_type": "code",
   "execution_count": 71,
   "id": "ef834a65",
   "metadata": {},
   "outputs": [
    {
     "data": {
      "text/plain": [
       "XGBClassifier(base_score=0.5, booster='gbtree', callbacks=None,\n",
       "              colsample_bylevel=1, colsample_bynode=1, colsample_bytree=1,\n",
       "              early_stopping_rounds=None, enable_categorical=False,\n",
       "              eval_metric=None, gamma=0, gpu_id=-1, grow_policy='depthwise',\n",
       "              importance_type=None, interaction_constraints='',\n",
       "              learning_rate=0.300000012, max_bin=256, max_cat_to_onehot=4,\n",
       "              max_delta_step=0, max_depth=6, max_leaves=0, min_child_weight=1,\n",
       "              missing=nan, monotone_constraints='()', n_estimators=100,\n",
       "              n_jobs=0, num_parallel_tree=1, predictor='auto', random_state=0,\n",
       "              reg_alpha=0, reg_lambda=1, ...)"
      ]
     },
     "execution_count": 71,
     "metadata": {},
     "output_type": "execute_result"
    }
   ],
   "source": [
    "xgb_model"
   ]
  },
  {
   "cell_type": "markdown",
   "id": "af9443c8",
   "metadata": {},
   "source": [
    "#### 3.10.2. Tahmin"
   ]
  },
  {
   "cell_type": "code",
   "execution_count": 72,
   "id": "6d19b2dc",
   "metadata": {},
   "outputs": [
    {
     "data": {
      "text/plain": [
       "0.7359307359307359"
      ]
     },
     "execution_count": 72,
     "metadata": {},
     "output_type": "execute_result"
    }
   ],
   "source": [
    "y_pred = xgb_model.predict(X_test)\n",
    "accuracy_score(y_test, y_pred)"
   ]
  },
  {
   "cell_type": "markdown",
   "id": "d89c439e",
   "metadata": {},
   "source": [
    "#### 3.10.3. Model Tuning"
   ]
  },
  {
   "cell_type": "code",
   "execution_count": null,
   "id": "2ec3ed6b",
   "metadata": {},
   "outputs": [],
   "source": [
    "?xgb_model"
   ]
  },
  {
   "cell_type": "code",
   "execution_count": 73,
   "id": "3c18fd0b",
   "metadata": {},
   "outputs": [],
   "source": [
    "xgb_params = {\n",
    "        'n_estimators': [100, 500, 1000, 2000],\n",
    "        'subsample': [0.6, 0.8, 1.0],\n",
    "        'max_depth': [3, 4, 5,6],\n",
    "        'learning_rate': [0.1,0.01,0.02,0.05],\n",
    "        \"min_samples_split\": [2,5,10]}"
   ]
  },
  {
   "cell_type": "code",
   "execution_count": 74,
   "id": "4c493cce",
   "metadata": {},
   "outputs": [],
   "source": [
    "xgb = XGBClassifier()\n",
    "\n",
    "xgb_cv_model = GridSearchCV(xgb, xgb_params, cv = 10, n_jobs = -1, verbose = 2)"
   ]
  },
  {
   "cell_type": "code",
   "execution_count": 75,
   "id": "aae4784a",
   "metadata": {},
   "outputs": [
    {
     "name": "stdout",
     "output_type": "stream",
     "text": [
      "Fitting 10 folds for each of 576 candidates, totalling 5760 fits\n",
      "[23:00:55] WARNING: C:/Users/Administrator/workspace/xgboost-win64_release_1.6.0/src/learner.cc:627: \n",
      "Parameters: { \"min_samples_split\" } might not be used.\n",
      "\n",
      "  This could be a false alarm, with some parameters getting used by language bindings but\n",
      "  then being mistakenly passed down to XGBoost core, or some parameter actually being used\n",
      "  but getting flagged wrongly here. Please open an issue if you find any such cases.\n",
      "\n",
      "\n"
     ]
    },
    {
     "data": {
      "text/plain": [
       "GridSearchCV(cv=10,\n",
       "             estimator=XGBClassifier(base_score=None, booster=None,\n",
       "                                     callbacks=None, colsample_bylevel=None,\n",
       "                                     colsample_bynode=None,\n",
       "                                     colsample_bytree=None,\n",
       "                                     early_stopping_rounds=None,\n",
       "                                     enable_categorical=False, eval_metric=None,\n",
       "                                     gamma=None, gpu_id=None, grow_policy=None,\n",
       "                                     importance_type=None,\n",
       "                                     interaction_constraints=None,\n",
       "                                     learning_rate=None, max_bin=None,\n",
       "                                     max_c...\n",
       "                                     max_leaves=None, min_child_weight=None,\n",
       "                                     missing=nan, monotone_constraints=None,\n",
       "                                     n_estimators=100, n_jobs=None,\n",
       "                                     num_parallel_tree=None, predictor=None,\n",
       "                                     random_state=None, reg_alpha=None,\n",
       "                                     reg_lambda=None, ...),\n",
       "             n_jobs=-1,\n",
       "             param_grid={'learning_rate': [0.1, 0.01, 0.02, 0.05],\n",
       "                         'max_depth': [3, 4, 5, 6],\n",
       "                         'min_samples_split': [2, 5, 10],\n",
       "                         'n_estimators': [100, 500, 1000, 2000],\n",
       "                         'subsample': [0.6, 0.8, 1.0]},\n",
       "             verbose=2)"
      ]
     },
     "execution_count": 75,
     "metadata": {},
     "output_type": "execute_result"
    }
   ],
   "source": [
    "xgb_cv_model.fit(X_train, y_train)"
   ]
  },
  {
   "cell_type": "code",
   "execution_count": 76,
   "id": "c375b864",
   "metadata": {},
   "outputs": [
    {
     "data": {
      "text/plain": [
       "{'learning_rate': 0.02,\n",
       " 'max_depth': 3,\n",
       " 'min_samples_split': 2,\n",
       " 'n_estimators': 100,\n",
       " 'subsample': 0.6}"
      ]
     },
     "execution_count": 76,
     "metadata": {},
     "output_type": "execute_result"
    }
   ],
   "source": [
    "xgb_cv_model.best_params_"
   ]
  },
  {
   "cell_type": "code",
   "execution_count": 77,
   "id": "c798dd9c",
   "metadata": {},
   "outputs": [],
   "source": [
    "xgb = XGBClassifier(learning_rate = 0.02, \n",
    "                    max_depth = 3,\n",
    "                    min_samples_split = 2,\n",
    "                    n_estimators = 100,\n",
    "                    subsample = 0.6)"
   ]
  },
  {
   "cell_type": "code",
   "execution_count": 78,
   "id": "ba03184a",
   "metadata": {},
   "outputs": [
    {
     "name": "stdout",
     "output_type": "stream",
     "text": [
      "[23:01:37] WARNING: C:/Users/Administrator/workspace/xgboost-win64_release_1.6.0/src/learner.cc:627: \n",
      "Parameters: { \"min_samples_split\" } might not be used.\n",
      "\n",
      "  This could be a false alarm, with some parameters getting used by language bindings but\n",
      "  then being mistakenly passed down to XGBoost core, or some parameter actually being used\n",
      "  but getting flagged wrongly here. Please open an issue if you find any such cases.\n",
      "\n",
      "\n"
     ]
    }
   ],
   "source": [
    "xgb_tuned =  xgb.fit(X_train,y_train)"
   ]
  },
  {
   "cell_type": "code",
   "execution_count": 79,
   "id": "a8ca2799",
   "metadata": {},
   "outputs": [
    {
     "data": {
      "text/plain": [
       "0.7575757575757576"
      ]
     },
     "execution_count": 79,
     "metadata": {},
     "output_type": "execute_result"
    }
   ],
   "source": [
    "y_pred = xgb_tuned.predict(X_test)\n",
    "accuracy_score(y_test, y_pred)"
   ]
  },
  {
   "cell_type": "markdown",
   "id": "3b12345e",
   "metadata": {},
   "source": [
    "### 3.11. Light GBM\n",
    "Light GBM, XGBoost'un eğitim süresini azaltmaya yönelik geliştirilmiş bir diğer GBM türüdür.\n",
    "\n",
    "2017 yılında Microsoft tarafından geliştirilmiştir.\n",
    "\n",
    "    Daha performanslıdır.\n",
    "    Level-wise büyüme stratejisi yerine Leaf-wise büyüme stratejisi kullanır.\n",
    "    Breadth-first search (BSF) yerine depth-first search (DFS) arama algoritmasını kullanır."
   ]
  },
  {
   "cell_type": "markdown",
   "id": "678f6cef",
   "metadata": {},
   "source": [
    "#### 3.11.1. Model"
   ]
  },
  {
   "cell_type": "code",
   "execution_count": 80,
   "id": "8f580f17",
   "metadata": {},
   "outputs": [],
   "source": [
    "diabetes = pd.read_csv(\"data/diabetes.csv\")\n",
    "df = diabetes.copy()\n",
    "df = df.dropna()\n",
    "y = df[\"Outcome\"]\n",
    "X = df.drop(['Outcome'], axis=1)\n",
    "X = pd.DataFrame(X)\n",
    "X_train, X_test, y_train, y_test = train_test_split(X, y, \n",
    "                                                    test_size=0.30, \n",
    "                                                    random_state=42)"
   ]
  },
  {
   "cell_type": "code",
   "execution_count": 81,
   "id": "4d6538ba",
   "metadata": {},
   "outputs": [],
   "source": [
    "lgbm_model = LGBMClassifier().fit(X_train, y_train)"
   ]
  },
  {
   "cell_type": "markdown",
   "id": "fde296de",
   "metadata": {},
   "source": [
    "#### 3.11.2. Tahmin"
   ]
  },
  {
   "cell_type": "code",
   "execution_count": 82,
   "id": "d6bf6bb4",
   "metadata": {},
   "outputs": [
    {
     "data": {
      "text/plain": [
       "0.7229437229437229"
      ]
     },
     "execution_count": 82,
     "metadata": {},
     "output_type": "execute_result"
    }
   ],
   "source": [
    "y_pred = lgbm_model.predict(X_test)\n",
    "accuracy_score(y_test, y_pred)"
   ]
  },
  {
   "cell_type": "markdown",
   "id": "65f2556c",
   "metadata": {},
   "source": [
    "#### 3.11.3. Model Tuning"
   ]
  },
  {
   "cell_type": "code",
   "execution_count": null,
   "id": "78b34338",
   "metadata": {},
   "outputs": [],
   "source": [
    "?lgbm_model"
   ]
  },
  {
   "cell_type": "code",
   "execution_count": 83,
   "id": "d18131a8",
   "metadata": {},
   "outputs": [],
   "source": [
    "lgbm_params = {\n",
    "        'n_estimators': [100, 500, 1000, 2000],\n",
    "        'subsample': [0.6, 0.8, 1.0],\n",
    "        'max_depth': [3, 4, 5,6],\n",
    "        'learning_rate': [0.1,0.01,0.02,0.05],\n",
    "        \"min_child_samples\": [5,10,20]}"
   ]
  },
  {
   "cell_type": "code",
   "execution_count": 84,
   "id": "78ec8e51",
   "metadata": {},
   "outputs": [],
   "source": [
    "lgbm = LGBMClassifier()\n",
    "\n",
    "lgbm_cv_model = GridSearchCV(lgbm, lgbm_params, \n",
    "                             cv = 10, \n",
    "                             n_jobs = -1, \n",
    "                             verbose = 2)\n",
    "\n"
   ]
  },
  {
   "cell_type": "code",
   "execution_count": 85,
   "id": "2f98f284",
   "metadata": {},
   "outputs": [
    {
     "name": "stdout",
     "output_type": "stream",
     "text": [
      "Fitting 10 folds for each of 576 candidates, totalling 5760 fits\n"
     ]
    },
    {
     "data": {
      "text/plain": [
       "GridSearchCV(cv=10, estimator=LGBMClassifier(), n_jobs=-1,\n",
       "             param_grid={'learning_rate': [0.1, 0.01, 0.02, 0.05],\n",
       "                         'max_depth': [3, 4, 5, 6],\n",
       "                         'min_child_samples': [5, 10, 20],\n",
       "                         'n_estimators': [100, 500, 1000, 2000],\n",
       "                         'subsample': [0.6, 0.8, 1.0]},\n",
       "             verbose=2)"
      ]
     },
     "execution_count": 85,
     "metadata": {},
     "output_type": "execute_result"
    }
   ],
   "source": [
    "lgbm_cv_model.fit(X_train, y_train)"
   ]
  },
  {
   "cell_type": "code",
   "execution_count": 86,
   "id": "1e6cca88",
   "metadata": {},
   "outputs": [
    {
     "data": {
      "text/plain": [
       "{'learning_rate': 0.05,\n",
       " 'max_depth': 3,\n",
       " 'min_child_samples': 20,\n",
       " 'n_estimators': 100,\n",
       " 'subsample': 0.6}"
      ]
     },
     "execution_count": 86,
     "metadata": {},
     "output_type": "execute_result"
    }
   ],
   "source": [
    "lgbm_cv_model.best_params_"
   ]
  },
  {
   "cell_type": "code",
   "execution_count": 87,
   "id": "584ce3ae",
   "metadata": {},
   "outputs": [],
   "source": [
    "lgbm = LGBMClassifier(learning_rate = 0.05, \n",
    "                       max_depth = 3,\n",
    "                       subsample = 0.6,\n",
    "                       n_estimators = 100,\n",
    "                       min_child_samples = 20)"
   ]
  },
  {
   "cell_type": "code",
   "execution_count": 88,
   "id": "b319a5e6",
   "metadata": {},
   "outputs": [],
   "source": [
    "lgbm_tuned = lgbm.fit(X_train,y_train)"
   ]
  },
  {
   "cell_type": "code",
   "execution_count": 89,
   "id": "4cf5bcb5",
   "metadata": {},
   "outputs": [
    {
     "data": {
      "text/plain": [
       "0.7489177489177489"
      ]
     },
     "execution_count": 89,
     "metadata": {},
     "output_type": "execute_result"
    }
   ],
   "source": [
    "y_pred = lgbm_tuned.predict(X_test)\n",
    "accuracy_score(y_test, y_pred)"
   ]
  },
  {
   "cell_type": "markdown",
   "id": "5dc90b97",
   "metadata": {},
   "source": [
    "### 3.12. CatBoost\n",
    "\n",
    "Kategorik değişkenler ile otomatik olarak ücadele edebilen, hızlı, başarılı bir diğer GBM türevidir.\n",
    "2017 yılında Yandex tarafından geliştirilmiştir.\n",
    "\n",
    "    Kategorik değişken desteği vardır.\n",
    "    Hızlı ve ölçeklenebilir GPU desteği vardır.\n",
    "    Hızlı train ve hızlı tahmin yapar"
   ]
  },
  {
   "cell_type": "markdown",
   "id": "de321561",
   "metadata": {},
   "source": [
    "#### 3.12.1. Model"
   ]
  },
  {
   "cell_type": "code",
   "execution_count": 90,
   "id": "11865856",
   "metadata": {},
   "outputs": [],
   "source": [
    "diabetes = pd.read_csv(\"data/diabetes.csv\")\n",
    "df = diabetes.copy()\n",
    "df = df.dropna()\n",
    "y = df[\"Outcome\"]\n",
    "X = df.drop(['Outcome'], axis=1)\n",
    "X = pd.DataFrame(X)\n",
    "X_train, X_test, y_train, y_test = train_test_split(X, y, \n",
    "                                                    test_size=0.30, \n",
    "                                                    random_state=42)"
   ]
  },
  {
   "cell_type": "code",
   "execution_count": 91,
   "id": "5b787bf4",
   "metadata": {
    "collapsed": true
   },
   "outputs": [
    {
     "name": "stdout",
     "output_type": "stream",
     "text": [
      "Learning rate set to 0.0079\n",
      "0:\tlearn: 0.6879744\ttotal: 168ms\tremaining: 2m 47s\n",
      "1:\tlearn: 0.6843414\ttotal: 172ms\tremaining: 1m 25s\n",
      "2:\tlearn: 0.6805760\ttotal: 175ms\tremaining: 58.2s\n",
      "3:\tlearn: 0.6765782\ttotal: 180ms\tremaining: 44.7s\n",
      "4:\tlearn: 0.6720829\ttotal: 182ms\tremaining: 36.1s\n",
      "5:\tlearn: 0.6681617\ttotal: 183ms\tremaining: 30.3s\n",
      "6:\tlearn: 0.6641912\ttotal: 185ms\tremaining: 26.2s\n",
      "7:\tlearn: 0.6602881\ttotal: 186ms\tremaining: 23.1s\n",
      "8:\tlearn: 0.6562626\ttotal: 187ms\tremaining: 20.6s\n",
      "9:\tlearn: 0.6528483\ttotal: 189ms\tremaining: 18.7s\n",
      "10:\tlearn: 0.6487823\ttotal: 190ms\tremaining: 17.1s\n",
      "11:\tlearn: 0.6454980\ttotal: 192ms\tremaining: 15.8s\n",
      "12:\tlearn: 0.6418953\ttotal: 193ms\tremaining: 14.7s\n",
      "13:\tlearn: 0.6374431\ttotal: 195ms\tremaining: 13.7s\n",
      "14:\tlearn: 0.6339676\ttotal: 196ms\tremaining: 12.9s\n",
      "15:\tlearn: 0.6304252\ttotal: 198ms\tremaining: 12.2s\n",
      "16:\tlearn: 0.6266998\ttotal: 199ms\tremaining: 11.5s\n",
      "17:\tlearn: 0.6237660\ttotal: 200ms\tremaining: 10.9s\n",
      "18:\tlearn: 0.6204394\ttotal: 202ms\tremaining: 10.4s\n",
      "19:\tlearn: 0.6170129\ttotal: 203ms\tremaining: 9.97s\n",
      "20:\tlearn: 0.6133404\ttotal: 205ms\tremaining: 9.56s\n",
      "21:\tlearn: 0.6104932\ttotal: 207ms\tremaining: 9.19s\n",
      "22:\tlearn: 0.6069523\ttotal: 208ms\tremaining: 8.83s\n",
      "23:\tlearn: 0.6036467\ttotal: 209ms\tremaining: 8.51s\n",
      "24:\tlearn: 0.6005392\ttotal: 211ms\tremaining: 8.21s\n",
      "25:\tlearn: 0.5977520\ttotal: 212ms\tremaining: 7.94s\n",
      "26:\tlearn: 0.5948189\ttotal: 213ms\tremaining: 7.68s\n",
      "27:\tlearn: 0.5919831\ttotal: 215ms\tremaining: 7.45s\n",
      "28:\tlearn: 0.5885065\ttotal: 216ms\tremaining: 7.23s\n",
      "29:\tlearn: 0.5848273\ttotal: 217ms\tremaining: 7.02s\n",
      "30:\tlearn: 0.5822076\ttotal: 219ms\tremaining: 6.83s\n",
      "31:\tlearn: 0.5790604\ttotal: 220ms\tremaining: 6.65s\n",
      "32:\tlearn: 0.5762252\ttotal: 221ms\tremaining: 6.48s\n",
      "33:\tlearn: 0.5745338\ttotal: 223ms\tremaining: 6.32s\n",
      "34:\tlearn: 0.5719085\ttotal: 224ms\tremaining: 6.17s\n",
      "35:\tlearn: 0.5693365\ttotal: 225ms\tremaining: 6.03s\n",
      "36:\tlearn: 0.5665486\ttotal: 226ms\tremaining: 5.89s\n",
      "37:\tlearn: 0.5647413\ttotal: 228ms\tremaining: 5.77s\n",
      "38:\tlearn: 0.5622430\ttotal: 229ms\tremaining: 5.65s\n",
      "39:\tlearn: 0.5600038\ttotal: 231ms\tremaining: 5.53s\n",
      "40:\tlearn: 0.5579786\ttotal: 232ms\tremaining: 5.42s\n",
      "41:\tlearn: 0.5555817\ttotal: 233ms\tremaining: 5.32s\n",
      "42:\tlearn: 0.5533884\ttotal: 234ms\tremaining: 5.22s\n",
      "43:\tlearn: 0.5503718\ttotal: 236ms\tremaining: 5.12s\n",
      "44:\tlearn: 0.5482587\ttotal: 237ms\tremaining: 5.03s\n",
      "45:\tlearn: 0.5458783\ttotal: 238ms\tremaining: 4.95s\n",
      "46:\tlearn: 0.5441370\ttotal: 240ms\tremaining: 4.86s\n",
      "47:\tlearn: 0.5422492\ttotal: 241ms\tremaining: 4.78s\n",
      "48:\tlearn: 0.5397111\ttotal: 242ms\tremaining: 4.71s\n",
      "49:\tlearn: 0.5378482\ttotal: 244ms\tremaining: 4.63s\n",
      "50:\tlearn: 0.5355250\ttotal: 245ms\tremaining: 4.56s\n",
      "51:\tlearn: 0.5334717\ttotal: 246ms\tremaining: 4.49s\n",
      "52:\tlearn: 0.5308796\ttotal: 248ms\tremaining: 4.43s\n",
      "53:\tlearn: 0.5291891\ttotal: 249ms\tremaining: 4.36s\n",
      "54:\tlearn: 0.5273404\ttotal: 250ms\tremaining: 4.3s\n",
      "55:\tlearn: 0.5252025\ttotal: 252ms\tremaining: 4.24s\n",
      "56:\tlearn: 0.5232146\ttotal: 253ms\tremaining: 4.19s\n",
      "57:\tlearn: 0.5212394\ttotal: 254ms\tremaining: 4.13s\n",
      "58:\tlearn: 0.5188927\ttotal: 256ms\tremaining: 4.08s\n",
      "59:\tlearn: 0.5166496\ttotal: 257ms\tremaining: 4.03s\n",
      "60:\tlearn: 0.5151264\ttotal: 258ms\tremaining: 3.98s\n",
      "61:\tlearn: 0.5128109\ttotal: 260ms\tremaining: 3.93s\n",
      "62:\tlearn: 0.5114747\ttotal: 261ms\tremaining: 3.88s\n",
      "63:\tlearn: 0.5096208\ttotal: 262ms\tremaining: 3.83s\n",
      "64:\tlearn: 0.5072601\ttotal: 264ms\tremaining: 3.79s\n",
      "65:\tlearn: 0.5052770\ttotal: 265ms\tremaining: 3.75s\n",
      "66:\tlearn: 0.5036623\ttotal: 266ms\tremaining: 3.71s\n",
      "67:\tlearn: 0.5017328\ttotal: 267ms\tremaining: 3.67s\n",
      "68:\tlearn: 0.5005425\ttotal: 268ms\tremaining: 3.62s\n",
      "69:\tlearn: 0.4991695\ttotal: 270ms\tremaining: 3.58s\n",
      "70:\tlearn: 0.4976900\ttotal: 271ms\tremaining: 3.54s\n",
      "71:\tlearn: 0.4958907\ttotal: 272ms\tremaining: 3.51s\n",
      "72:\tlearn: 0.4944550\ttotal: 274ms\tremaining: 3.47s\n",
      "73:\tlearn: 0.4929501\ttotal: 275ms\tremaining: 3.44s\n",
      "74:\tlearn: 0.4913299\ttotal: 276ms\tremaining: 3.41s\n",
      "75:\tlearn: 0.4898798\ttotal: 278ms\tremaining: 3.37s\n",
      "76:\tlearn: 0.4882946\ttotal: 279ms\tremaining: 3.34s\n",
      "77:\tlearn: 0.4866733\ttotal: 280ms\tremaining: 3.31s\n",
      "78:\tlearn: 0.4849083\ttotal: 281ms\tremaining: 3.28s\n",
      "79:\tlearn: 0.4832344\ttotal: 283ms\tremaining: 3.25s\n",
      "80:\tlearn: 0.4822155\ttotal: 284ms\tremaining: 3.22s\n",
      "81:\tlearn: 0.4805651\ttotal: 285ms\tremaining: 3.19s\n",
      "82:\tlearn: 0.4789437\ttotal: 287ms\tremaining: 3.17s\n",
      "83:\tlearn: 0.4773680\ttotal: 288ms\tremaining: 3.14s\n",
      "84:\tlearn: 0.4759592\ttotal: 289ms\tremaining: 3.12s\n",
      "85:\tlearn: 0.4743296\ttotal: 291ms\tremaining: 3.09s\n",
      "86:\tlearn: 0.4733053\ttotal: 292ms\tremaining: 3.06s\n",
      "87:\tlearn: 0.4719029\ttotal: 293ms\tremaining: 3.04s\n",
      "88:\tlearn: 0.4704197\ttotal: 295ms\tremaining: 3.02s\n",
      "89:\tlearn: 0.4692434\ttotal: 296ms\tremaining: 2.99s\n",
      "90:\tlearn: 0.4676877\ttotal: 297ms\tremaining: 2.97s\n",
      "91:\tlearn: 0.4663135\ttotal: 299ms\tremaining: 2.95s\n",
      "92:\tlearn: 0.4648501\ttotal: 300ms\tremaining: 2.92s\n",
      "93:\tlearn: 0.4634104\ttotal: 301ms\tremaining: 2.9s\n",
      "94:\tlearn: 0.4622453\ttotal: 302ms\tremaining: 2.88s\n",
      "95:\tlearn: 0.4610022\ttotal: 304ms\tremaining: 2.86s\n",
      "96:\tlearn: 0.4596122\ttotal: 305ms\tremaining: 2.84s\n",
      "97:\tlearn: 0.4586478\ttotal: 306ms\tremaining: 2.82s\n",
      "98:\tlearn: 0.4574414\ttotal: 308ms\tremaining: 2.8s\n",
      "99:\tlearn: 0.4564241\ttotal: 309ms\tremaining: 2.78s\n",
      "100:\tlearn: 0.4550640\ttotal: 310ms\tremaining: 2.76s\n",
      "101:\tlearn: 0.4542409\ttotal: 312ms\tremaining: 2.74s\n",
      "102:\tlearn: 0.4532567\ttotal: 313ms\tremaining: 2.72s\n",
      "103:\tlearn: 0.4520656\ttotal: 314ms\tremaining: 2.71s\n",
      "104:\tlearn: 0.4507238\ttotal: 316ms\tremaining: 2.69s\n",
      "105:\tlearn: 0.4498366\ttotal: 317ms\tremaining: 2.67s\n",
      "106:\tlearn: 0.4487896\ttotal: 318ms\tremaining: 2.65s\n",
      "107:\tlearn: 0.4479770\ttotal: 319ms\tremaining: 2.64s\n",
      "108:\tlearn: 0.4470681\ttotal: 321ms\tremaining: 2.62s\n",
      "109:\tlearn: 0.4461679\ttotal: 322ms\tremaining: 2.6s\n",
      "110:\tlearn: 0.4449306\ttotal: 323ms\tremaining: 2.59s\n",
      "111:\tlearn: 0.4442033\ttotal: 325ms\tremaining: 2.57s\n",
      "112:\tlearn: 0.4431958\ttotal: 326ms\tremaining: 2.56s\n",
      "113:\tlearn: 0.4420872\ttotal: 327ms\tremaining: 2.54s\n",
      "114:\tlearn: 0.4411093\ttotal: 329ms\tremaining: 2.53s\n",
      "115:\tlearn: 0.4404177\ttotal: 330ms\tremaining: 2.51s\n",
      "116:\tlearn: 0.4393393\ttotal: 331ms\tremaining: 2.5s\n",
      "117:\tlearn: 0.4385459\ttotal: 333ms\tremaining: 2.48s\n",
      "118:\tlearn: 0.4376311\ttotal: 334ms\tremaining: 2.47s\n",
      "119:\tlearn: 0.4365919\ttotal: 335ms\tremaining: 2.46s\n",
      "120:\tlearn: 0.4356995\ttotal: 336ms\tremaining: 2.44s\n",
      "121:\tlearn: 0.4348411\ttotal: 338ms\tremaining: 2.43s\n",
      "122:\tlearn: 0.4339453\ttotal: 339ms\tremaining: 2.42s\n",
      "123:\tlearn: 0.4328034\ttotal: 340ms\tremaining: 2.4s\n",
      "124:\tlearn: 0.4319283\ttotal: 342ms\tremaining: 2.39s\n",
      "125:\tlearn: 0.4312557\ttotal: 343ms\tremaining: 2.38s\n",
      "126:\tlearn: 0.4304026\ttotal: 344ms\tremaining: 2.37s\n",
      "127:\tlearn: 0.4298280\ttotal: 346ms\tremaining: 2.35s\n",
      "128:\tlearn: 0.4289908\ttotal: 347ms\tremaining: 2.34s\n",
      "129:\tlearn: 0.4281060\ttotal: 349ms\tremaining: 2.33s\n",
      "130:\tlearn: 0.4274906\ttotal: 350ms\tremaining: 2.32s\n",
      "131:\tlearn: 0.4263412\ttotal: 351ms\tremaining: 2.31s\n",
      "132:\tlearn: 0.4253331\ttotal: 353ms\tremaining: 2.3s\n",
      "133:\tlearn: 0.4243619\ttotal: 354ms\tremaining: 2.29s\n",
      "134:\tlearn: 0.4236335\ttotal: 356ms\tremaining: 2.28s\n",
      "135:\tlearn: 0.4228861\ttotal: 357ms\tremaining: 2.27s\n",
      "136:\tlearn: 0.4221383\ttotal: 358ms\tremaining: 2.26s\n",
      "137:\tlearn: 0.4212787\ttotal: 360ms\tremaining: 2.25s\n",
      "138:\tlearn: 0.4205727\ttotal: 361ms\tremaining: 2.24s\n",
      "139:\tlearn: 0.4198398\ttotal: 363ms\tremaining: 2.23s\n",
      "140:\tlearn: 0.4190528\ttotal: 364ms\tremaining: 2.22s\n",
      "141:\tlearn: 0.4181762\ttotal: 366ms\tremaining: 2.21s\n",
      "142:\tlearn: 0.4177653\ttotal: 368ms\tremaining: 2.2s\n",
      "143:\tlearn: 0.4171131\ttotal: 369ms\tremaining: 2.19s\n",
      "144:\tlearn: 0.4165639\ttotal: 370ms\tremaining: 2.18s\n",
      "145:\tlearn: 0.4156471\ttotal: 372ms\tremaining: 2.17s\n",
      "146:\tlearn: 0.4153234\ttotal: 373ms\tremaining: 2.16s\n",
      "147:\tlearn: 0.4145420\ttotal: 374ms\tremaining: 2.15s\n",
      "148:\tlearn: 0.4139180\ttotal: 376ms\tremaining: 2.15s\n",
      "149:\tlearn: 0.4128167\ttotal: 377ms\tremaining: 2.14s\n",
      "150:\tlearn: 0.4120071\ttotal: 379ms\tremaining: 2.13s\n",
      "151:\tlearn: 0.4115050\ttotal: 380ms\tremaining: 2.12s\n",
      "152:\tlearn: 0.4103879\ttotal: 382ms\tremaining: 2.11s\n",
      "153:\tlearn: 0.4096975\ttotal: 384ms\tremaining: 2.11s\n",
      "154:\tlearn: 0.4090180\ttotal: 385ms\tremaining: 2.1s\n",
      "155:\tlearn: 0.4084361\ttotal: 386ms\tremaining: 2.09s\n",
      "156:\tlearn: 0.4075079\ttotal: 387ms\tremaining: 2.08s\n",
      "157:\tlearn: 0.4070229\ttotal: 389ms\tremaining: 2.07s\n",
      "158:\tlearn: 0.4060864\ttotal: 390ms\tremaining: 2.06s\n",
      "159:\tlearn: 0.4055216\ttotal: 392ms\tremaining: 2.06s\n",
      "160:\tlearn: 0.4049737\ttotal: 393ms\tremaining: 2.05s\n",
      "161:\tlearn: 0.4043031\ttotal: 394ms\tremaining: 2.04s\n",
      "162:\tlearn: 0.4037889\ttotal: 395ms\tremaining: 2.03s\n",
      "163:\tlearn: 0.4029969\ttotal: 397ms\tremaining: 2.02s\n",
      "164:\tlearn: 0.4019218\ttotal: 398ms\tremaining: 2.02s\n",
      "165:\tlearn: 0.4013294\ttotal: 399ms\tremaining: 2.01s\n",
      "166:\tlearn: 0.4007642\ttotal: 401ms\tremaining: 2s\n",
      "167:\tlearn: 0.4000706\ttotal: 402ms\tremaining: 1.99s\n",
      "168:\tlearn: 0.3996680\ttotal: 403ms\tremaining: 1.98s\n",
      "169:\tlearn: 0.3989467\ttotal: 405ms\tremaining: 1.98s\n",
      "170:\tlearn: 0.3983710\ttotal: 406ms\tremaining: 1.97s\n",
      "171:\tlearn: 0.3975278\ttotal: 407ms\tremaining: 1.96s\n",
      "172:\tlearn: 0.3969084\ttotal: 409ms\tremaining: 1.95s\n",
      "173:\tlearn: 0.3965347\ttotal: 410ms\tremaining: 1.95s\n",
      "174:\tlearn: 0.3956732\ttotal: 411ms\tremaining: 1.94s\n",
      "175:\tlearn: 0.3952873\ttotal: 413ms\tremaining: 1.93s\n",
      "176:\tlearn: 0.3945194\ttotal: 414ms\tremaining: 1.92s\n",
      "177:\tlearn: 0.3937662\ttotal: 415ms\tremaining: 1.92s\n",
      "178:\tlearn: 0.3930186\ttotal: 416ms\tremaining: 1.91s\n",
      "179:\tlearn: 0.3923731\ttotal: 418ms\tremaining: 1.9s\n",
      "180:\tlearn: 0.3918567\ttotal: 419ms\tremaining: 1.9s\n",
      "181:\tlearn: 0.3910109\ttotal: 420ms\tremaining: 1.89s\n",
      "182:\tlearn: 0.3904347\ttotal: 422ms\tremaining: 1.88s\n",
      "183:\tlearn: 0.3898631\ttotal: 423ms\tremaining: 1.88s\n",
      "184:\tlearn: 0.3889877\ttotal: 424ms\tremaining: 1.87s\n",
      "185:\tlearn: 0.3883860\ttotal: 426ms\tremaining: 1.86s\n",
      "186:\tlearn: 0.3876585\ttotal: 427ms\tremaining: 1.86s\n",
      "187:\tlearn: 0.3871096\ttotal: 428ms\tremaining: 1.85s\n",
      "188:\tlearn: 0.3866930\ttotal: 430ms\tremaining: 1.84s\n",
      "189:\tlearn: 0.3860056\ttotal: 431ms\tremaining: 1.84s\n",
      "190:\tlearn: 0.3854310\ttotal: 432ms\tremaining: 1.83s\n",
      "191:\tlearn: 0.3848506\ttotal: 433ms\tremaining: 1.82s\n",
      "192:\tlearn: 0.3842016\ttotal: 435ms\tremaining: 1.82s\n",
      "193:\tlearn: 0.3836819\ttotal: 436ms\tremaining: 1.81s\n",
      "194:\tlearn: 0.3830974\ttotal: 437ms\tremaining: 1.8s\n",
      "195:\tlearn: 0.3827259\ttotal: 439ms\tremaining: 1.8s\n",
      "196:\tlearn: 0.3822292\ttotal: 440ms\tremaining: 1.79s\n",
      "197:\tlearn: 0.3818127\ttotal: 441ms\tremaining: 1.79s\n",
      "198:\tlearn: 0.3813381\ttotal: 443ms\tremaining: 1.78s\n",
      "199:\tlearn: 0.3808627\ttotal: 444ms\tremaining: 1.78s\n",
      "200:\tlearn: 0.3802744\ttotal: 445ms\tremaining: 1.77s\n",
      "201:\tlearn: 0.3797151\ttotal: 447ms\tremaining: 1.76s\n",
      "202:\tlearn: 0.3792543\ttotal: 448ms\tremaining: 1.76s\n",
      "203:\tlearn: 0.3787526\ttotal: 449ms\tremaining: 1.75s\n",
      "204:\tlearn: 0.3783154\ttotal: 451ms\tremaining: 1.75s\n",
      "205:\tlearn: 0.3778142\ttotal: 452ms\tremaining: 1.74s\n",
      "206:\tlearn: 0.3770761\ttotal: 453ms\tremaining: 1.74s\n",
      "207:\tlearn: 0.3766516\ttotal: 455ms\tremaining: 1.73s\n",
      "208:\tlearn: 0.3760002\ttotal: 456ms\tremaining: 1.73s\n",
      "209:\tlearn: 0.3753742\ttotal: 457ms\tremaining: 1.72s\n",
      "210:\tlearn: 0.3748945\ttotal: 459ms\tremaining: 1.72s\n",
      "211:\tlearn: 0.3741601\ttotal: 460ms\tremaining: 1.71s\n",
      "212:\tlearn: 0.3737583\ttotal: 461ms\tremaining: 1.7s\n",
      "213:\tlearn: 0.3731306\ttotal: 463ms\tremaining: 1.7s\n",
      "214:\tlearn: 0.3725594\ttotal: 464ms\tremaining: 1.69s\n",
      "215:\tlearn: 0.3717840\ttotal: 465ms\tremaining: 1.69s\n",
      "216:\tlearn: 0.3712366\ttotal: 467ms\tremaining: 1.68s\n",
      "217:\tlearn: 0.3706128\ttotal: 468ms\tremaining: 1.68s\n",
      "218:\tlearn: 0.3701763\ttotal: 469ms\tremaining: 1.67s\n",
      "219:\tlearn: 0.3696732\ttotal: 470ms\tremaining: 1.67s\n",
      "220:\tlearn: 0.3694511\ttotal: 472ms\tremaining: 1.66s\n",
      "221:\tlearn: 0.3691241\ttotal: 473ms\tremaining: 1.66s\n",
      "222:\tlearn: 0.3685841\ttotal: 474ms\tremaining: 1.65s\n",
      "223:\tlearn: 0.3680235\ttotal: 476ms\tremaining: 1.65s\n",
      "224:\tlearn: 0.3674146\ttotal: 477ms\tremaining: 1.64s\n",
      "225:\tlearn: 0.3669959\ttotal: 478ms\tremaining: 1.64s\n",
      "226:\tlearn: 0.3664598\ttotal: 480ms\tremaining: 1.63s\n",
      "227:\tlearn: 0.3660285\ttotal: 481ms\tremaining: 1.63s\n",
      "228:\tlearn: 0.3656118\ttotal: 482ms\tremaining: 1.62s\n",
      "229:\tlearn: 0.3653013\ttotal: 483ms\tremaining: 1.62s\n",
      "230:\tlearn: 0.3648384\ttotal: 485ms\tremaining: 1.61s\n",
      "231:\tlearn: 0.3645751\ttotal: 486ms\tremaining: 1.61s\n",
      "232:\tlearn: 0.3642266\ttotal: 487ms\tremaining: 1.6s\n",
      "233:\tlearn: 0.3638032\ttotal: 489ms\tremaining: 1.6s\n",
      "234:\tlearn: 0.3634127\ttotal: 490ms\tremaining: 1.59s\n",
      "235:\tlearn: 0.3628147\ttotal: 491ms\tremaining: 1.59s\n",
      "236:\tlearn: 0.3624876\ttotal: 493ms\tremaining: 1.59s\n",
      "237:\tlearn: 0.3621678\ttotal: 494ms\tremaining: 1.58s\n",
      "238:\tlearn: 0.3617236\ttotal: 495ms\tremaining: 1.58s\n",
      "239:\tlearn: 0.3613139\ttotal: 497ms\tremaining: 1.57s\n",
      "240:\tlearn: 0.3608153\ttotal: 498ms\tremaining: 1.57s\n",
      "241:\tlearn: 0.3605083\ttotal: 499ms\tremaining: 1.56s\n",
      "242:\tlearn: 0.3600805\ttotal: 501ms\tremaining: 1.56s\n",
      "243:\tlearn: 0.3598540\ttotal: 502ms\tremaining: 1.55s\n",
      "244:\tlearn: 0.3594826\ttotal: 503ms\tremaining: 1.55s\n",
      "245:\tlearn: 0.3589942\ttotal: 504ms\tremaining: 1.55s\n",
      "246:\tlearn: 0.3580868\ttotal: 506ms\tremaining: 1.54s\n",
      "247:\tlearn: 0.3577168\ttotal: 507ms\tremaining: 1.54s\n",
      "248:\tlearn: 0.3572695\ttotal: 508ms\tremaining: 1.53s\n",
      "249:\tlearn: 0.3569883\ttotal: 510ms\tremaining: 1.53s\n",
      "250:\tlearn: 0.3564914\ttotal: 511ms\tremaining: 1.52s\n",
      "251:\tlearn: 0.3563154\ttotal: 512ms\tremaining: 1.52s\n",
      "252:\tlearn: 0.3559500\ttotal: 513ms\tremaining: 1.52s\n",
      "253:\tlearn: 0.3556725\ttotal: 515ms\tremaining: 1.51s\n"
     ]
    },
    {
     "name": "stdout",
     "output_type": "stream",
     "text": [
      "254:\tlearn: 0.3554429\ttotal: 516ms\tremaining: 1.51s\n",
      "255:\tlearn: 0.3550410\ttotal: 518ms\tremaining: 1.5s\n",
      "256:\tlearn: 0.3544784\ttotal: 519ms\tremaining: 1.5s\n",
      "257:\tlearn: 0.3541264\ttotal: 521ms\tremaining: 1.5s\n",
      "258:\tlearn: 0.3534407\ttotal: 522ms\tremaining: 1.49s\n",
      "259:\tlearn: 0.3531235\ttotal: 523ms\tremaining: 1.49s\n",
      "260:\tlearn: 0.3527207\ttotal: 525ms\tremaining: 1.49s\n",
      "261:\tlearn: 0.3523243\ttotal: 526ms\tremaining: 1.48s\n",
      "262:\tlearn: 0.3520765\ttotal: 527ms\tremaining: 1.48s\n",
      "263:\tlearn: 0.3515223\ttotal: 529ms\tremaining: 1.47s\n",
      "264:\tlearn: 0.3511085\ttotal: 530ms\tremaining: 1.47s\n",
      "265:\tlearn: 0.3507609\ttotal: 532ms\tremaining: 1.47s\n",
      "266:\tlearn: 0.3505624\ttotal: 533ms\tremaining: 1.46s\n",
      "267:\tlearn: 0.3502285\ttotal: 535ms\tremaining: 1.46s\n",
      "268:\tlearn: 0.3497636\ttotal: 536ms\tremaining: 1.46s\n",
      "269:\tlearn: 0.3493754\ttotal: 538ms\tremaining: 1.45s\n",
      "270:\tlearn: 0.3490792\ttotal: 539ms\tremaining: 1.45s\n",
      "271:\tlearn: 0.3487020\ttotal: 541ms\tremaining: 1.45s\n",
      "272:\tlearn: 0.3483143\ttotal: 542ms\tremaining: 1.44s\n",
      "273:\tlearn: 0.3478934\ttotal: 544ms\tremaining: 1.44s\n",
      "274:\tlearn: 0.3475017\ttotal: 545ms\tremaining: 1.44s\n",
      "275:\tlearn: 0.3471957\ttotal: 546ms\tremaining: 1.43s\n",
      "276:\tlearn: 0.3468656\ttotal: 548ms\tremaining: 1.43s\n",
      "277:\tlearn: 0.3464868\ttotal: 549ms\tremaining: 1.43s\n",
      "278:\tlearn: 0.3462092\ttotal: 550ms\tremaining: 1.42s\n",
      "279:\tlearn: 0.3460606\ttotal: 551ms\tremaining: 1.42s\n",
      "280:\tlearn: 0.3455830\ttotal: 553ms\tremaining: 1.41s\n",
      "281:\tlearn: 0.3453044\ttotal: 554ms\tremaining: 1.41s\n",
      "282:\tlearn: 0.3444292\ttotal: 555ms\tremaining: 1.41s\n",
      "283:\tlearn: 0.3440907\ttotal: 557ms\tremaining: 1.4s\n",
      "284:\tlearn: 0.3435897\ttotal: 558ms\tremaining: 1.4s\n",
      "285:\tlearn: 0.3432924\ttotal: 559ms\tremaining: 1.4s\n",
      "286:\tlearn: 0.3429693\ttotal: 561ms\tremaining: 1.39s\n",
      "287:\tlearn: 0.3423841\ttotal: 562ms\tremaining: 1.39s\n",
      "288:\tlearn: 0.3419082\ttotal: 563ms\tremaining: 1.39s\n",
      "289:\tlearn: 0.3417444\ttotal: 565ms\tremaining: 1.38s\n",
      "290:\tlearn: 0.3413183\ttotal: 566ms\tremaining: 1.38s\n",
      "291:\tlearn: 0.3410967\ttotal: 567ms\tremaining: 1.38s\n",
      "292:\tlearn: 0.3405444\ttotal: 569ms\tremaining: 1.37s\n",
      "293:\tlearn: 0.3400621\ttotal: 570ms\tremaining: 1.37s\n",
      "294:\tlearn: 0.3397168\ttotal: 571ms\tremaining: 1.36s\n",
      "295:\tlearn: 0.3393361\ttotal: 573ms\tremaining: 1.36s\n",
      "296:\tlearn: 0.3390740\ttotal: 574ms\tremaining: 1.36s\n",
      "297:\tlearn: 0.3385868\ttotal: 575ms\tremaining: 1.35s\n",
      "298:\tlearn: 0.3383527\ttotal: 577ms\tremaining: 1.35s\n",
      "299:\tlearn: 0.3381225\ttotal: 578ms\tremaining: 1.35s\n",
      "300:\tlearn: 0.3377180\ttotal: 579ms\tremaining: 1.34s\n",
      "301:\tlearn: 0.3373683\ttotal: 581ms\tremaining: 1.34s\n",
      "302:\tlearn: 0.3369712\ttotal: 582ms\tremaining: 1.34s\n",
      "303:\tlearn: 0.3365943\ttotal: 583ms\tremaining: 1.33s\n",
      "304:\tlearn: 0.3361416\ttotal: 585ms\tremaining: 1.33s\n",
      "305:\tlearn: 0.3357881\ttotal: 586ms\tremaining: 1.33s\n",
      "306:\tlearn: 0.3355420\ttotal: 587ms\tremaining: 1.32s\n",
      "307:\tlearn: 0.3353969\ttotal: 589ms\tremaining: 1.32s\n",
      "308:\tlearn: 0.3350159\ttotal: 590ms\tremaining: 1.32s\n",
      "309:\tlearn: 0.3347592\ttotal: 591ms\tremaining: 1.32s\n",
      "310:\tlearn: 0.3344209\ttotal: 593ms\tremaining: 1.31s\n",
      "311:\tlearn: 0.3340571\ttotal: 594ms\tremaining: 1.31s\n",
      "312:\tlearn: 0.3337410\ttotal: 595ms\tremaining: 1.31s\n",
      "313:\tlearn: 0.3335433\ttotal: 596ms\tremaining: 1.3s\n",
      "314:\tlearn: 0.3331226\ttotal: 598ms\tremaining: 1.3s\n",
      "315:\tlearn: 0.3326529\ttotal: 599ms\tremaining: 1.3s\n",
      "316:\tlearn: 0.3324585\ttotal: 600ms\tremaining: 1.29s\n",
      "317:\tlearn: 0.3319313\ttotal: 602ms\tremaining: 1.29s\n",
      "318:\tlearn: 0.3317666\ttotal: 603ms\tremaining: 1.29s\n",
      "319:\tlearn: 0.3316420\ttotal: 604ms\tremaining: 1.28s\n",
      "320:\tlearn: 0.3313743\ttotal: 606ms\tremaining: 1.28s\n",
      "321:\tlearn: 0.3311034\ttotal: 607ms\tremaining: 1.28s\n",
      "322:\tlearn: 0.3308718\ttotal: 608ms\tremaining: 1.27s\n",
      "323:\tlearn: 0.3305797\ttotal: 610ms\tremaining: 1.27s\n",
      "324:\tlearn: 0.3303344\ttotal: 611ms\tremaining: 1.27s\n",
      "325:\tlearn: 0.3299356\ttotal: 612ms\tremaining: 1.26s\n",
      "326:\tlearn: 0.3297079\ttotal: 613ms\tremaining: 1.26s\n",
      "327:\tlearn: 0.3293339\ttotal: 615ms\tremaining: 1.26s\n",
      "328:\tlearn: 0.3289580\ttotal: 616ms\tremaining: 1.26s\n",
      "329:\tlearn: 0.3285913\ttotal: 617ms\tremaining: 1.25s\n",
      "330:\tlearn: 0.3282758\ttotal: 619ms\tremaining: 1.25s\n",
      "331:\tlearn: 0.3279623\ttotal: 620ms\tremaining: 1.25s\n",
      "332:\tlearn: 0.3274888\ttotal: 621ms\tremaining: 1.24s\n",
      "333:\tlearn: 0.3271103\ttotal: 623ms\tremaining: 1.24s\n",
      "334:\tlearn: 0.3266782\ttotal: 624ms\tremaining: 1.24s\n",
      "335:\tlearn: 0.3263302\ttotal: 625ms\tremaining: 1.24s\n",
      "336:\tlearn: 0.3260965\ttotal: 627ms\tremaining: 1.23s\n",
      "337:\tlearn: 0.3259158\ttotal: 628ms\tremaining: 1.23s\n",
      "338:\tlearn: 0.3258232\ttotal: 629ms\tremaining: 1.23s\n",
      "339:\tlearn: 0.3256590\ttotal: 630ms\tremaining: 1.22s\n",
      "340:\tlearn: 0.3251070\ttotal: 632ms\tremaining: 1.22s\n",
      "341:\tlearn: 0.3248128\ttotal: 633ms\tremaining: 1.22s\n",
      "342:\tlearn: 0.3245641\ttotal: 634ms\tremaining: 1.22s\n",
      "343:\tlearn: 0.3244393\ttotal: 636ms\tremaining: 1.21s\n",
      "344:\tlearn: 0.3239917\ttotal: 637ms\tremaining: 1.21s\n",
      "345:\tlearn: 0.3236587\ttotal: 638ms\tremaining: 1.21s\n",
      "346:\tlearn: 0.3232919\ttotal: 640ms\tremaining: 1.2s\n",
      "347:\tlearn: 0.3229349\ttotal: 641ms\tremaining: 1.2s\n",
      "348:\tlearn: 0.3227158\ttotal: 642ms\tremaining: 1.2s\n",
      "349:\tlearn: 0.3222736\ttotal: 644ms\tremaining: 1.2s\n",
      "350:\tlearn: 0.3219319\ttotal: 645ms\tremaining: 1.19s\n",
      "351:\tlearn: 0.3216924\ttotal: 646ms\tremaining: 1.19s\n",
      "352:\tlearn: 0.3214005\ttotal: 647ms\tremaining: 1.19s\n",
      "353:\tlearn: 0.3212561\ttotal: 649ms\tremaining: 1.18s\n",
      "354:\tlearn: 0.3210802\ttotal: 650ms\tremaining: 1.18s\n",
      "355:\tlearn: 0.3208611\ttotal: 651ms\tremaining: 1.18s\n",
      "356:\tlearn: 0.3207409\ttotal: 653ms\tremaining: 1.18s\n",
      "357:\tlearn: 0.3204410\ttotal: 654ms\tremaining: 1.17s\n",
      "358:\tlearn: 0.3201386\ttotal: 655ms\tremaining: 1.17s\n",
      "359:\tlearn: 0.3199546\ttotal: 657ms\tremaining: 1.17s\n",
      "360:\tlearn: 0.3196740\ttotal: 658ms\tremaining: 1.16s\n",
      "361:\tlearn: 0.3193086\ttotal: 659ms\tremaining: 1.16s\n",
      "362:\tlearn: 0.3190555\ttotal: 661ms\tremaining: 1.16s\n",
      "363:\tlearn: 0.3186316\ttotal: 662ms\tremaining: 1.16s\n",
      "364:\tlearn: 0.3182750\ttotal: 663ms\tremaining: 1.15s\n",
      "365:\tlearn: 0.3179150\ttotal: 664ms\tremaining: 1.15s\n",
      "366:\tlearn: 0.3176213\ttotal: 666ms\tremaining: 1.15s\n",
      "367:\tlearn: 0.3174330\ttotal: 667ms\tremaining: 1.15s\n",
      "368:\tlearn: 0.3170058\ttotal: 668ms\tremaining: 1.14s\n",
      "369:\tlearn: 0.3167177\ttotal: 670ms\tremaining: 1.14s\n",
      "370:\tlearn: 0.3165966\ttotal: 671ms\tremaining: 1.14s\n",
      "371:\tlearn: 0.3163434\ttotal: 672ms\tremaining: 1.13s\n",
      "372:\tlearn: 0.3158102\ttotal: 674ms\tremaining: 1.13s\n",
      "373:\tlearn: 0.3156989\ttotal: 675ms\tremaining: 1.13s\n",
      "374:\tlearn: 0.3153516\ttotal: 676ms\tremaining: 1.13s\n",
      "375:\tlearn: 0.3151365\ttotal: 677ms\tremaining: 1.12s\n",
      "376:\tlearn: 0.3148602\ttotal: 679ms\tremaining: 1.12s\n",
      "377:\tlearn: 0.3146425\ttotal: 680ms\tremaining: 1.12s\n",
      "378:\tlearn: 0.3140533\ttotal: 681ms\tremaining: 1.12s\n",
      "379:\tlearn: 0.3138100\ttotal: 683ms\tremaining: 1.11s\n",
      "380:\tlearn: 0.3134537\ttotal: 684ms\tremaining: 1.11s\n",
      "381:\tlearn: 0.3131326\ttotal: 685ms\tremaining: 1.11s\n",
      "382:\tlearn: 0.3127691\ttotal: 687ms\tremaining: 1.11s\n",
      "383:\tlearn: 0.3123777\ttotal: 688ms\tremaining: 1.1s\n",
      "384:\tlearn: 0.3120189\ttotal: 689ms\tremaining: 1.1s\n",
      "385:\tlearn: 0.3117879\ttotal: 691ms\tremaining: 1.1s\n",
      "386:\tlearn: 0.3117281\ttotal: 692ms\tremaining: 1.09s\n",
      "387:\tlearn: 0.3114269\ttotal: 693ms\tremaining: 1.09s\n",
      "388:\tlearn: 0.3111523\ttotal: 695ms\tremaining: 1.09s\n",
      "389:\tlearn: 0.3107485\ttotal: 696ms\tremaining: 1.09s\n",
      "390:\tlearn: 0.3104823\ttotal: 697ms\tremaining: 1.09s\n",
      "391:\tlearn: 0.3102043\ttotal: 699ms\tremaining: 1.08s\n",
      "392:\tlearn: 0.3100756\ttotal: 700ms\tremaining: 1.08s\n",
      "393:\tlearn: 0.3096455\ttotal: 702ms\tremaining: 1.08s\n",
      "394:\tlearn: 0.3094293\ttotal: 703ms\tremaining: 1.08s\n",
      "395:\tlearn: 0.3091670\ttotal: 704ms\tremaining: 1.07s\n",
      "396:\tlearn: 0.3089720\ttotal: 706ms\tremaining: 1.07s\n",
      "397:\tlearn: 0.3087352\ttotal: 707ms\tremaining: 1.07s\n",
      "398:\tlearn: 0.3083025\ttotal: 709ms\tremaining: 1.07s\n",
      "399:\tlearn: 0.3080730\ttotal: 710ms\tremaining: 1.06s\n",
      "400:\tlearn: 0.3075862\ttotal: 712ms\tremaining: 1.06s\n",
      "401:\tlearn: 0.3072950\ttotal: 713ms\tremaining: 1.06s\n",
      "402:\tlearn: 0.3069260\ttotal: 714ms\tremaining: 1.06s\n",
      "403:\tlearn: 0.3066624\ttotal: 716ms\tremaining: 1.06s\n",
      "404:\tlearn: 0.3064005\ttotal: 717ms\tremaining: 1.05s\n",
      "405:\tlearn: 0.3062175\ttotal: 719ms\tremaining: 1.05s\n",
      "406:\tlearn: 0.3059133\ttotal: 720ms\tremaining: 1.05s\n",
      "407:\tlearn: 0.3056401\ttotal: 722ms\tremaining: 1.05s\n",
      "408:\tlearn: 0.3053706\ttotal: 723ms\tremaining: 1.04s\n",
      "409:\tlearn: 0.3051702\ttotal: 724ms\tremaining: 1.04s\n",
      "410:\tlearn: 0.3047998\ttotal: 726ms\tremaining: 1.04s\n",
      "411:\tlearn: 0.3044851\ttotal: 727ms\tremaining: 1.04s\n",
      "412:\tlearn: 0.3041596\ttotal: 728ms\tremaining: 1.03s\n",
      "413:\tlearn: 0.3039484\ttotal: 729ms\tremaining: 1.03s\n",
      "414:\tlearn: 0.3035868\ttotal: 731ms\tremaining: 1.03s\n",
      "415:\tlearn: 0.3034963\ttotal: 732ms\tremaining: 1.03s\n",
      "416:\tlearn: 0.3032978\ttotal: 733ms\tremaining: 1.02s\n",
      "417:\tlearn: 0.3029297\ttotal: 735ms\tremaining: 1.02s\n",
      "418:\tlearn: 0.3026614\ttotal: 736ms\tremaining: 1.02s\n",
      "419:\tlearn: 0.3025338\ttotal: 737ms\tremaining: 1.02s\n",
      "420:\tlearn: 0.3023329\ttotal: 739ms\tremaining: 1.02s\n",
      "421:\tlearn: 0.3020878\ttotal: 740ms\tremaining: 1.01s\n",
      "422:\tlearn: 0.3018350\ttotal: 741ms\tremaining: 1.01s\n",
      "423:\tlearn: 0.3016547\ttotal: 743ms\tremaining: 1.01s\n",
      "424:\tlearn: 0.3013340\ttotal: 744ms\tremaining: 1.01s\n",
      "425:\tlearn: 0.3012067\ttotal: 745ms\tremaining: 1s\n",
      "426:\tlearn: 0.3010644\ttotal: 747ms\tremaining: 1s\n",
      "427:\tlearn: 0.3008560\ttotal: 748ms\tremaining: 1000ms\n",
      "428:\tlearn: 0.3007435\ttotal: 749ms\tremaining: 997ms\n",
      "429:\tlearn: 0.3005282\ttotal: 751ms\tremaining: 995ms\n",
      "430:\tlearn: 0.3002332\ttotal: 752ms\tremaining: 993ms\n",
      "431:\tlearn: 0.2999973\ttotal: 753ms\tremaining: 990ms\n",
      "432:\tlearn: 0.2998342\ttotal: 755ms\tremaining: 988ms\n",
      "433:\tlearn: 0.2995772\ttotal: 756ms\tremaining: 986ms\n",
      "434:\tlearn: 0.2994191\ttotal: 757ms\tremaining: 984ms\n",
      "435:\tlearn: 0.2992121\ttotal: 759ms\tremaining: 981ms\n",
      "436:\tlearn: 0.2990371\ttotal: 760ms\tremaining: 979ms\n",
      "437:\tlearn: 0.2988313\ttotal: 761ms\tremaining: 977ms\n",
      "438:\tlearn: 0.2986686\ttotal: 762ms\tremaining: 974ms\n",
      "439:\tlearn: 0.2985372\ttotal: 764ms\tremaining: 972ms\n",
      "440:\tlearn: 0.2982802\ttotal: 765ms\tremaining: 970ms\n",
      "441:\tlearn: 0.2978098\ttotal: 766ms\tremaining: 968ms\n",
      "442:\tlearn: 0.2975569\ttotal: 768ms\tremaining: 965ms\n",
      "443:\tlearn: 0.2974696\ttotal: 769ms\tremaining: 963ms\n",
      "444:\tlearn: 0.2971000\ttotal: 770ms\tremaining: 961ms\n",
      "445:\tlearn: 0.2968185\ttotal: 772ms\tremaining: 958ms\n",
      "446:\tlearn: 0.2965820\ttotal: 773ms\tremaining: 956ms\n",
      "447:\tlearn: 0.2963367\ttotal: 774ms\tremaining: 954ms\n",
      "448:\tlearn: 0.2962052\ttotal: 776ms\tremaining: 952ms\n",
      "449:\tlearn: 0.2958710\ttotal: 777ms\tremaining: 949ms\n",
      "450:\tlearn: 0.2957278\ttotal: 778ms\tremaining: 947ms\n",
      "451:\tlearn: 0.2954078\ttotal: 779ms\tremaining: 945ms\n",
      "452:\tlearn: 0.2950464\ttotal: 781ms\tremaining: 943ms\n",
      "453:\tlearn: 0.2943738\ttotal: 782ms\tremaining: 941ms\n",
      "454:\tlearn: 0.2940240\ttotal: 783ms\tremaining: 938ms\n",
      "455:\tlearn: 0.2937387\ttotal: 785ms\tremaining: 936ms\n",
      "456:\tlearn: 0.2932645\ttotal: 786ms\tremaining: 934ms\n",
      "457:\tlearn: 0.2930212\ttotal: 787ms\tremaining: 932ms\n",
      "458:\tlearn: 0.2927047\ttotal: 789ms\tremaining: 930ms\n",
      "459:\tlearn: 0.2925782\ttotal: 790ms\tremaining: 927ms\n",
      "460:\tlearn: 0.2923455\ttotal: 791ms\tremaining: 925ms\n",
      "461:\tlearn: 0.2921114\ttotal: 793ms\tremaining: 923ms\n",
      "462:\tlearn: 0.2918372\ttotal: 794ms\tremaining: 921ms\n",
      "463:\tlearn: 0.2916646\ttotal: 795ms\tremaining: 919ms\n",
      "464:\tlearn: 0.2914858\ttotal: 797ms\tremaining: 917ms\n",
      "465:\tlearn: 0.2913746\ttotal: 798ms\tremaining: 914ms\n",
      "466:\tlearn: 0.2911112\ttotal: 799ms\tremaining: 912ms\n",
      "467:\tlearn: 0.2909419\ttotal: 801ms\tremaining: 910ms\n",
      "468:\tlearn: 0.2907768\ttotal: 802ms\tremaining: 908ms\n",
      "469:\tlearn: 0.2905672\ttotal: 803ms\tremaining: 906ms\n",
      "470:\tlearn: 0.2902868\ttotal: 804ms\tremaining: 904ms\n",
      "471:\tlearn: 0.2901459\ttotal: 806ms\tremaining: 901ms\n",
      "472:\tlearn: 0.2895721\ttotal: 807ms\tremaining: 899ms\n",
      "473:\tlearn: 0.2893069\ttotal: 808ms\tremaining: 897ms\n",
      "474:\tlearn: 0.2892238\ttotal: 810ms\tremaining: 895ms\n",
      "475:\tlearn: 0.2890793\ttotal: 811ms\tremaining: 893ms\n",
      "476:\tlearn: 0.2888606\ttotal: 812ms\tremaining: 891ms\n",
      "477:\tlearn: 0.2885725\ttotal: 814ms\tremaining: 888ms\n",
      "478:\tlearn: 0.2884059\ttotal: 815ms\tremaining: 886ms\n",
      "479:\tlearn: 0.2881226\ttotal: 816ms\tremaining: 884ms\n",
      "480:\tlearn: 0.2878577\ttotal: 817ms\tremaining: 882ms\n",
      "481:\tlearn: 0.2876443\ttotal: 819ms\tremaining: 880ms\n",
      "482:\tlearn: 0.2872679\ttotal: 820ms\tremaining: 878ms\n",
      "483:\tlearn: 0.2869225\ttotal: 821ms\tremaining: 876ms\n",
      "484:\tlearn: 0.2867176\ttotal: 823ms\tremaining: 874ms\n",
      "485:\tlearn: 0.2863829\ttotal: 824ms\tremaining: 871ms\n",
      "486:\tlearn: 0.2862343\ttotal: 825ms\tremaining: 870ms\n",
      "487:\tlearn: 0.2860281\ttotal: 827ms\tremaining: 867ms\n",
      "488:\tlearn: 0.2858158\ttotal: 828ms\tremaining: 865ms\n",
      "489:\tlearn: 0.2857030\ttotal: 829ms\tremaining: 863ms\n",
      "490:\tlearn: 0.2853467\ttotal: 831ms\tremaining: 861ms\n",
      "491:\tlearn: 0.2852238\ttotal: 832ms\tremaining: 859ms\n",
      "492:\tlearn: 0.2848703\ttotal: 833ms\tremaining: 857ms\n",
      "493:\tlearn: 0.2847930\ttotal: 835ms\tremaining: 855ms\n",
      "494:\tlearn: 0.2844460\ttotal: 836ms\tremaining: 853ms\n",
      "495:\tlearn: 0.2842826\ttotal: 837ms\tremaining: 851ms\n",
      "496:\tlearn: 0.2840736\ttotal: 839ms\tremaining: 849ms\n",
      "497:\tlearn: 0.2838086\ttotal: 840ms\tremaining: 847ms\n",
      "498:\tlearn: 0.2836780\ttotal: 841ms\tremaining: 845ms\n",
      "499:\tlearn: 0.2835099\ttotal: 843ms\tremaining: 843ms\n",
      "500:\tlearn: 0.2833241\ttotal: 844ms\tremaining: 840ms\n",
      "501:\tlearn: 0.2831782\ttotal: 845ms\tremaining: 838ms\n",
      "502:\tlearn: 0.2829458\ttotal: 846ms\tremaining: 836ms\n",
      "503:\tlearn: 0.2824786\ttotal: 848ms\tremaining: 834ms\n",
      "504:\tlearn: 0.2823866\ttotal: 849ms\tremaining: 832ms\n",
      "505:\tlearn: 0.2821895\ttotal: 850ms\tremaining: 830ms\n",
      "506:\tlearn: 0.2817553\ttotal: 852ms\tremaining: 828ms\n",
      "507:\tlearn: 0.2815476\ttotal: 853ms\tremaining: 826ms\n",
      "508:\tlearn: 0.2813923\ttotal: 854ms\tremaining: 824ms\n",
      "509:\tlearn: 0.2812253\ttotal: 856ms\tremaining: 822ms\n",
      "510:\tlearn: 0.2811270\ttotal: 857ms\tremaining: 820ms\n",
      "511:\tlearn: 0.2809442\ttotal: 858ms\tremaining: 818ms\n",
      "512:\tlearn: 0.2806583\ttotal: 860ms\tremaining: 816ms\n",
      "513:\tlearn: 0.2804053\ttotal: 861ms\tremaining: 814ms\n",
      "514:\tlearn: 0.2802933\ttotal: 862ms\tremaining: 812ms\n",
      "515:\tlearn: 0.2802130\ttotal: 864ms\tremaining: 810ms\n",
      "516:\tlearn: 0.2800198\ttotal: 865ms\tremaining: 808ms\n",
      "517:\tlearn: 0.2797297\ttotal: 866ms\tremaining: 806ms\n",
      "518:\tlearn: 0.2792613\ttotal: 867ms\tremaining: 804ms\n"
     ]
    },
    {
     "name": "stdout",
     "output_type": "stream",
     "text": [
      "519:\tlearn: 0.2791178\ttotal: 869ms\tremaining: 802ms\n",
      "520:\tlearn: 0.2787684\ttotal: 871ms\tremaining: 800ms\n",
      "521:\tlearn: 0.2785238\ttotal: 872ms\tremaining: 799ms\n",
      "522:\tlearn: 0.2784354\ttotal: 873ms\tremaining: 797ms\n",
      "523:\tlearn: 0.2782083\ttotal: 875ms\tremaining: 795ms\n",
      "524:\tlearn: 0.2779862\ttotal: 876ms\tremaining: 793ms\n",
      "525:\tlearn: 0.2778577\ttotal: 877ms\tremaining: 791ms\n",
      "526:\tlearn: 0.2776799\ttotal: 879ms\tremaining: 789ms\n",
      "527:\tlearn: 0.2774047\ttotal: 880ms\tremaining: 787ms\n",
      "528:\tlearn: 0.2770705\ttotal: 881ms\tremaining: 785ms\n",
      "529:\tlearn: 0.2767879\ttotal: 883ms\tremaining: 783ms\n",
      "530:\tlearn: 0.2765573\ttotal: 884ms\tremaining: 781ms\n",
      "531:\tlearn: 0.2762926\ttotal: 885ms\tremaining: 779ms\n",
      "532:\tlearn: 0.2760226\ttotal: 887ms\tremaining: 777ms\n",
      "533:\tlearn: 0.2759634\ttotal: 888ms\tremaining: 775ms\n",
      "534:\tlearn: 0.2755854\ttotal: 890ms\tremaining: 773ms\n",
      "535:\tlearn: 0.2753839\ttotal: 891ms\tremaining: 771ms\n",
      "536:\tlearn: 0.2748993\ttotal: 893ms\tremaining: 770ms\n",
      "537:\tlearn: 0.2747174\ttotal: 894ms\tremaining: 768ms\n",
      "538:\tlearn: 0.2745669\ttotal: 895ms\tremaining: 766ms\n",
      "539:\tlearn: 0.2742959\ttotal: 896ms\tremaining: 764ms\n",
      "540:\tlearn: 0.2740799\ttotal: 898ms\tremaining: 762ms\n",
      "541:\tlearn: 0.2739597\ttotal: 899ms\tremaining: 760ms\n",
      "542:\tlearn: 0.2737468\ttotal: 900ms\tremaining: 758ms\n",
      "543:\tlearn: 0.2736213\ttotal: 902ms\tremaining: 756ms\n",
      "544:\tlearn: 0.2734265\ttotal: 903ms\tremaining: 754ms\n",
      "545:\tlearn: 0.2731554\ttotal: 904ms\tremaining: 752ms\n",
      "546:\tlearn: 0.2730985\ttotal: 906ms\tremaining: 750ms\n",
      "547:\tlearn: 0.2727592\ttotal: 907ms\tremaining: 748ms\n",
      "548:\tlearn: 0.2725759\ttotal: 908ms\tremaining: 746ms\n",
      "549:\tlearn: 0.2723701\ttotal: 910ms\tremaining: 744ms\n",
      "550:\tlearn: 0.2720963\ttotal: 911ms\tremaining: 742ms\n",
      "551:\tlearn: 0.2717838\ttotal: 912ms\tremaining: 740ms\n",
      "552:\tlearn: 0.2716459\ttotal: 913ms\tremaining: 738ms\n",
      "553:\tlearn: 0.2714241\ttotal: 915ms\tremaining: 736ms\n",
      "554:\tlearn: 0.2710796\ttotal: 916ms\tremaining: 735ms\n",
      "555:\tlearn: 0.2708530\ttotal: 917ms\tremaining: 733ms\n",
      "556:\tlearn: 0.2707057\ttotal: 919ms\tremaining: 731ms\n",
      "557:\tlearn: 0.2702598\ttotal: 920ms\tremaining: 729ms\n",
      "558:\tlearn: 0.2701429\ttotal: 922ms\tremaining: 727ms\n",
      "559:\tlearn: 0.2699466\ttotal: 923ms\tremaining: 725ms\n",
      "560:\tlearn: 0.2697293\ttotal: 925ms\tremaining: 724ms\n",
      "561:\tlearn: 0.2694486\ttotal: 926ms\tremaining: 722ms\n",
      "562:\tlearn: 0.2690466\ttotal: 928ms\tremaining: 720ms\n",
      "563:\tlearn: 0.2689248\ttotal: 929ms\tremaining: 718ms\n",
      "564:\tlearn: 0.2686948\ttotal: 930ms\tremaining: 716ms\n",
      "565:\tlearn: 0.2685619\ttotal: 931ms\tremaining: 714ms\n",
      "566:\tlearn: 0.2683828\ttotal: 933ms\tremaining: 712ms\n",
      "567:\tlearn: 0.2679790\ttotal: 934ms\tremaining: 710ms\n",
      "568:\tlearn: 0.2678450\ttotal: 935ms\tremaining: 709ms\n",
      "569:\tlearn: 0.2676119\ttotal: 937ms\tremaining: 707ms\n",
      "570:\tlearn: 0.2673814\ttotal: 938ms\tremaining: 705ms\n",
      "571:\tlearn: 0.2672294\ttotal: 939ms\tremaining: 703ms\n",
      "572:\tlearn: 0.2669753\ttotal: 941ms\tremaining: 701ms\n",
      "573:\tlearn: 0.2668201\ttotal: 942ms\tremaining: 699ms\n",
      "574:\tlearn: 0.2663744\ttotal: 943ms\tremaining: 697ms\n",
      "575:\tlearn: 0.2663089\ttotal: 945ms\tremaining: 695ms\n",
      "576:\tlearn: 0.2661984\ttotal: 946ms\tremaining: 694ms\n",
      "577:\tlearn: 0.2657423\ttotal: 947ms\tremaining: 692ms\n",
      "578:\tlearn: 0.2655906\ttotal: 949ms\tremaining: 690ms\n",
      "579:\tlearn: 0.2652973\ttotal: 950ms\tremaining: 688ms\n",
      "580:\tlearn: 0.2651702\ttotal: 951ms\tremaining: 686ms\n",
      "581:\tlearn: 0.2649804\ttotal: 953ms\tremaining: 684ms\n",
      "582:\tlearn: 0.2648733\ttotal: 954ms\tremaining: 682ms\n",
      "583:\tlearn: 0.2645161\ttotal: 955ms\tremaining: 681ms\n",
      "584:\tlearn: 0.2643629\ttotal: 957ms\tremaining: 679ms\n",
      "585:\tlearn: 0.2640424\ttotal: 958ms\tremaining: 677ms\n",
      "586:\tlearn: 0.2639059\ttotal: 959ms\tremaining: 675ms\n",
      "587:\tlearn: 0.2635783\ttotal: 961ms\tremaining: 673ms\n",
      "588:\tlearn: 0.2633252\ttotal: 962ms\tremaining: 671ms\n",
      "589:\tlearn: 0.2631536\ttotal: 963ms\tremaining: 669ms\n",
      "590:\tlearn: 0.2629800\ttotal: 965ms\tremaining: 668ms\n",
      "591:\tlearn: 0.2626833\ttotal: 966ms\tremaining: 666ms\n",
      "592:\tlearn: 0.2624857\ttotal: 967ms\tremaining: 664ms\n",
      "593:\tlearn: 0.2622796\ttotal: 969ms\tremaining: 662ms\n",
      "594:\tlearn: 0.2619838\ttotal: 970ms\tremaining: 660ms\n",
      "595:\tlearn: 0.2618002\ttotal: 971ms\tremaining: 658ms\n",
      "596:\tlearn: 0.2615721\ttotal: 973ms\tremaining: 657ms\n",
      "597:\tlearn: 0.2615152\ttotal: 974ms\tremaining: 655ms\n",
      "598:\tlearn: 0.2613501\ttotal: 975ms\tremaining: 653ms\n",
      "599:\tlearn: 0.2611080\ttotal: 977ms\tremaining: 651ms\n",
      "600:\tlearn: 0.2609645\ttotal: 978ms\tremaining: 649ms\n",
      "601:\tlearn: 0.2606897\ttotal: 979ms\tremaining: 647ms\n",
      "602:\tlearn: 0.2602639\ttotal: 981ms\tremaining: 646ms\n",
      "603:\tlearn: 0.2599329\ttotal: 982ms\tremaining: 644ms\n",
      "604:\tlearn: 0.2597957\ttotal: 983ms\tremaining: 642ms\n",
      "605:\tlearn: 0.2595943\ttotal: 985ms\tremaining: 640ms\n",
      "606:\tlearn: 0.2593111\ttotal: 986ms\tremaining: 638ms\n",
      "607:\tlearn: 0.2591161\ttotal: 987ms\tremaining: 636ms\n",
      "608:\tlearn: 0.2588429\ttotal: 989ms\tremaining: 635ms\n",
      "609:\tlearn: 0.2586168\ttotal: 990ms\tremaining: 633ms\n",
      "610:\tlearn: 0.2583814\ttotal: 991ms\tremaining: 631ms\n",
      "611:\tlearn: 0.2582859\ttotal: 992ms\tremaining: 629ms\n",
      "612:\tlearn: 0.2581228\ttotal: 994ms\tremaining: 627ms\n",
      "613:\tlearn: 0.2576821\ttotal: 995ms\tremaining: 626ms\n",
      "614:\tlearn: 0.2573665\ttotal: 996ms\tremaining: 624ms\n",
      "615:\tlearn: 0.2571712\ttotal: 998ms\tremaining: 622ms\n",
      "616:\tlearn: 0.2569123\ttotal: 999ms\tremaining: 620ms\n",
      "617:\tlearn: 0.2567421\ttotal: 1s\tremaining: 618ms\n",
      "618:\tlearn: 0.2565468\ttotal: 1s\tremaining: 617ms\n",
      "619:\tlearn: 0.2560903\ttotal: 1s\tremaining: 615ms\n",
      "620:\tlearn: 0.2558848\ttotal: 1s\tremaining: 613ms\n",
      "621:\tlearn: 0.2557082\ttotal: 1s\tremaining: 611ms\n",
      "622:\tlearn: 0.2555673\ttotal: 1.01s\tremaining: 610ms\n",
      "623:\tlearn: 0.2553104\ttotal: 1.01s\tremaining: 608ms\n",
      "624:\tlearn: 0.2551517\ttotal: 1.01s\tremaining: 606ms\n",
      "625:\tlearn: 0.2548730\ttotal: 1.01s\tremaining: 604ms\n",
      "626:\tlearn: 0.2547001\ttotal: 1.01s\tremaining: 602ms\n",
      "627:\tlearn: 0.2545593\ttotal: 1.01s\tremaining: 601ms\n",
      "628:\tlearn: 0.2543065\ttotal: 1.01s\tremaining: 599ms\n",
      "629:\tlearn: 0.2541924\ttotal: 1.02s\tremaining: 597ms\n",
      "630:\tlearn: 0.2540412\ttotal: 1.02s\tremaining: 595ms\n",
      "631:\tlearn: 0.2540272\ttotal: 1.02s\tremaining: 593ms\n",
      "632:\tlearn: 0.2538574\ttotal: 1.02s\tremaining: 592ms\n",
      "633:\tlearn: 0.2535445\ttotal: 1.02s\tremaining: 590ms\n",
      "634:\tlearn: 0.2533613\ttotal: 1.02s\tremaining: 588ms\n",
      "635:\tlearn: 0.2532291\ttotal: 1.02s\tremaining: 586ms\n",
      "636:\tlearn: 0.2529860\ttotal: 1.02s\tremaining: 584ms\n",
      "637:\tlearn: 0.2529107\ttotal: 1.03s\tremaining: 583ms\n",
      "638:\tlearn: 0.2528306\ttotal: 1.03s\tremaining: 581ms\n",
      "639:\tlearn: 0.2527318\ttotal: 1.03s\tremaining: 579ms\n",
      "640:\tlearn: 0.2526089\ttotal: 1.03s\tremaining: 577ms\n",
      "641:\tlearn: 0.2523294\ttotal: 1.03s\tremaining: 576ms\n",
      "642:\tlearn: 0.2521745\ttotal: 1.03s\tremaining: 574ms\n",
      "643:\tlearn: 0.2520903\ttotal: 1.03s\tremaining: 572ms\n",
      "644:\tlearn: 0.2518111\ttotal: 1.04s\tremaining: 571ms\n",
      "645:\tlearn: 0.2517013\ttotal: 1.04s\tremaining: 569ms\n",
      "646:\tlearn: 0.2513785\ttotal: 1.04s\tremaining: 567ms\n",
      "647:\tlearn: 0.2510264\ttotal: 1.04s\tremaining: 565ms\n",
      "648:\tlearn: 0.2509075\ttotal: 1.04s\tremaining: 564ms\n",
      "649:\tlearn: 0.2507789\ttotal: 1.04s\tremaining: 562ms\n",
      "650:\tlearn: 0.2505793\ttotal: 1.04s\tremaining: 560ms\n",
      "651:\tlearn: 0.2504598\ttotal: 1.05s\tremaining: 558ms\n",
      "652:\tlearn: 0.2502472\ttotal: 1.05s\tremaining: 557ms\n",
      "653:\tlearn: 0.2501631\ttotal: 1.05s\tremaining: 555ms\n",
      "654:\tlearn: 0.2500554\ttotal: 1.05s\tremaining: 553ms\n",
      "655:\tlearn: 0.2499953\ttotal: 1.05s\tremaining: 551ms\n",
      "656:\tlearn: 0.2497997\ttotal: 1.05s\tremaining: 550ms\n",
      "657:\tlearn: 0.2496228\ttotal: 1.05s\tremaining: 548ms\n",
      "658:\tlearn: 0.2493790\ttotal: 1.05s\tremaining: 546ms\n",
      "659:\tlearn: 0.2490870\ttotal: 1.06s\tremaining: 545ms\n",
      "660:\tlearn: 0.2489131\ttotal: 1.06s\tremaining: 543ms\n",
      "661:\tlearn: 0.2487822\ttotal: 1.06s\tremaining: 541ms\n",
      "662:\tlearn: 0.2486344\ttotal: 1.06s\tremaining: 540ms\n",
      "663:\tlearn: 0.2485112\ttotal: 1.06s\tremaining: 538ms\n",
      "664:\tlearn: 0.2483456\ttotal: 1.06s\tremaining: 536ms\n",
      "665:\tlearn: 0.2478812\ttotal: 1.06s\tremaining: 535ms\n",
      "666:\tlearn: 0.2477720\ttotal: 1.07s\tremaining: 533ms\n",
      "667:\tlearn: 0.2476856\ttotal: 1.07s\tremaining: 531ms\n",
      "668:\tlearn: 0.2473703\ttotal: 1.07s\tremaining: 529ms\n",
      "669:\tlearn: 0.2469242\ttotal: 1.07s\tremaining: 528ms\n",
      "670:\tlearn: 0.2468015\ttotal: 1.07s\tremaining: 526ms\n",
      "671:\tlearn: 0.2464829\ttotal: 1.07s\tremaining: 524ms\n",
      "672:\tlearn: 0.2462695\ttotal: 1.07s\tremaining: 522ms\n",
      "673:\tlearn: 0.2460049\ttotal: 1.08s\tremaining: 521ms\n",
      "674:\tlearn: 0.2459397\ttotal: 1.08s\tremaining: 519ms\n",
      "675:\tlearn: 0.2457831\ttotal: 1.08s\tremaining: 517ms\n",
      "676:\tlearn: 0.2456189\ttotal: 1.08s\tremaining: 516ms\n",
      "677:\tlearn: 0.2453592\ttotal: 1.08s\tremaining: 514ms\n",
      "678:\tlearn: 0.2450781\ttotal: 1.08s\tremaining: 512ms\n",
      "679:\tlearn: 0.2449079\ttotal: 1.08s\tremaining: 510ms\n",
      "680:\tlearn: 0.2447622\ttotal: 1.09s\tremaining: 509ms\n",
      "681:\tlearn: 0.2446009\ttotal: 1.09s\tremaining: 507ms\n",
      "682:\tlearn: 0.2444911\ttotal: 1.09s\tremaining: 505ms\n",
      "683:\tlearn: 0.2442647\ttotal: 1.09s\tremaining: 504ms\n",
      "684:\tlearn: 0.2439881\ttotal: 1.09s\tremaining: 502ms\n",
      "685:\tlearn: 0.2438743\ttotal: 1.09s\tremaining: 500ms\n",
      "686:\tlearn: 0.2436232\ttotal: 1.09s\tremaining: 499ms\n",
      "687:\tlearn: 0.2432542\ttotal: 1.09s\tremaining: 497ms\n",
      "688:\tlearn: 0.2430422\ttotal: 1.1s\tremaining: 495ms\n",
      "689:\tlearn: 0.2427875\ttotal: 1.1s\tremaining: 493ms\n",
      "690:\tlearn: 0.2426080\ttotal: 1.1s\tremaining: 492ms\n",
      "691:\tlearn: 0.2423995\ttotal: 1.1s\tremaining: 490ms\n",
      "692:\tlearn: 0.2422839\ttotal: 1.1s\tremaining: 488ms\n",
      "693:\tlearn: 0.2419745\ttotal: 1.1s\tremaining: 487ms\n",
      "694:\tlearn: 0.2419342\ttotal: 1.1s\tremaining: 485ms\n",
      "695:\tlearn: 0.2417488\ttotal: 1.11s\tremaining: 483ms\n",
      "696:\tlearn: 0.2416767\ttotal: 1.11s\tremaining: 482ms\n",
      "697:\tlearn: 0.2415790\ttotal: 1.11s\tremaining: 480ms\n",
      "698:\tlearn: 0.2412939\ttotal: 1.11s\tremaining: 478ms\n",
      "699:\tlearn: 0.2411213\ttotal: 1.11s\tremaining: 476ms\n",
      "700:\tlearn: 0.2408446\ttotal: 1.11s\tremaining: 475ms\n",
      "701:\tlearn: 0.2405587\ttotal: 1.11s\tremaining: 473ms\n",
      "702:\tlearn: 0.2403313\ttotal: 1.11s\tremaining: 471ms\n",
      "703:\tlearn: 0.2401492\ttotal: 1.12s\tremaining: 470ms\n",
      "704:\tlearn: 0.2398918\ttotal: 1.12s\tremaining: 468ms\n",
      "705:\tlearn: 0.2396047\ttotal: 1.12s\tremaining: 466ms\n",
      "706:\tlearn: 0.2395006\ttotal: 1.12s\tremaining: 465ms\n",
      "707:\tlearn: 0.2394055\ttotal: 1.12s\tremaining: 463ms\n",
      "708:\tlearn: 0.2392352\ttotal: 1.12s\tremaining: 461ms\n",
      "709:\tlearn: 0.2390019\ttotal: 1.13s\tremaining: 460ms\n",
      "710:\tlearn: 0.2388457\ttotal: 1.13s\tremaining: 458ms\n",
      "711:\tlearn: 0.2386594\ttotal: 1.13s\tremaining: 456ms\n",
      "712:\tlearn: 0.2385861\ttotal: 1.13s\tremaining: 455ms\n",
      "713:\tlearn: 0.2383764\ttotal: 1.13s\tremaining: 453ms\n",
      "714:\tlearn: 0.2382499\ttotal: 1.13s\tremaining: 451ms\n",
      "715:\tlearn: 0.2380496\ttotal: 1.13s\tremaining: 450ms\n",
      "716:\tlearn: 0.2377915\ttotal: 1.13s\tremaining: 448ms\n",
      "717:\tlearn: 0.2376989\ttotal: 1.14s\tremaining: 446ms\n",
      "718:\tlearn: 0.2375933\ttotal: 1.14s\tremaining: 445ms\n",
      "719:\tlearn: 0.2374398\ttotal: 1.14s\tremaining: 443ms\n",
      "720:\tlearn: 0.2372318\ttotal: 1.14s\tremaining: 441ms\n",
      "721:\tlearn: 0.2370847\ttotal: 1.14s\tremaining: 440ms\n",
      "722:\tlearn: 0.2367496\ttotal: 1.14s\tremaining: 438ms\n",
      "723:\tlearn: 0.2363787\ttotal: 1.14s\tremaining: 436ms\n",
      "724:\tlearn: 0.2362295\ttotal: 1.15s\tremaining: 435ms\n",
      "725:\tlearn: 0.2361886\ttotal: 1.15s\tremaining: 433ms\n",
      "726:\tlearn: 0.2360077\ttotal: 1.15s\tremaining: 431ms\n",
      "727:\tlearn: 0.2358936\ttotal: 1.15s\tremaining: 429ms\n",
      "728:\tlearn: 0.2357625\ttotal: 1.15s\tremaining: 428ms\n",
      "729:\tlearn: 0.2356657\ttotal: 1.15s\tremaining: 426ms\n",
      "730:\tlearn: 0.2355083\ttotal: 1.15s\tremaining: 424ms\n",
      "731:\tlearn: 0.2354345\ttotal: 1.15s\tremaining: 423ms\n",
      "732:\tlearn: 0.2353153\ttotal: 1.16s\tremaining: 421ms\n",
      "733:\tlearn: 0.2352290\ttotal: 1.16s\tremaining: 419ms\n",
      "734:\tlearn: 0.2351001\ttotal: 1.16s\tremaining: 418ms\n",
      "735:\tlearn: 0.2349968\ttotal: 1.16s\tremaining: 416ms\n",
      "736:\tlearn: 0.2349104\ttotal: 1.16s\tremaining: 414ms\n",
      "737:\tlearn: 0.2348057\ttotal: 1.16s\tremaining: 413ms\n",
      "738:\tlearn: 0.2346429\ttotal: 1.16s\tremaining: 411ms\n",
      "739:\tlearn: 0.2344062\ttotal: 1.17s\tremaining: 409ms\n",
      "740:\tlearn: 0.2343251\ttotal: 1.17s\tremaining: 408ms\n",
      "741:\tlearn: 0.2339286\ttotal: 1.17s\tremaining: 406ms\n",
      "742:\tlearn: 0.2337558\ttotal: 1.17s\tremaining: 404ms\n",
      "743:\tlearn: 0.2336824\ttotal: 1.17s\tremaining: 403ms\n",
      "744:\tlearn: 0.2336136\ttotal: 1.17s\tremaining: 401ms\n",
      "745:\tlearn: 0.2334585\ttotal: 1.17s\tremaining: 399ms\n",
      "746:\tlearn: 0.2330439\ttotal: 1.17s\tremaining: 398ms\n",
      "747:\tlearn: 0.2327640\ttotal: 1.18s\tremaining: 396ms\n",
      "748:\tlearn: 0.2325958\ttotal: 1.18s\tremaining: 395ms\n",
      "749:\tlearn: 0.2323885\ttotal: 1.18s\tremaining: 393ms\n",
      "750:\tlearn: 0.2321622\ttotal: 1.18s\tremaining: 391ms\n",
      "751:\tlearn: 0.2320129\ttotal: 1.18s\tremaining: 390ms\n",
      "752:\tlearn: 0.2319447\ttotal: 1.18s\tremaining: 388ms\n",
      "753:\tlearn: 0.2318012\ttotal: 1.18s\tremaining: 386ms\n",
      "754:\tlearn: 0.2316776\ttotal: 1.19s\tremaining: 385ms\n",
      "755:\tlearn: 0.2315503\ttotal: 1.19s\tremaining: 383ms\n",
      "756:\tlearn: 0.2313964\ttotal: 1.19s\tremaining: 381ms\n",
      "757:\tlearn: 0.2313403\ttotal: 1.19s\tremaining: 380ms\n",
      "758:\tlearn: 0.2311582\ttotal: 1.19s\tremaining: 378ms\n",
      "759:\tlearn: 0.2309643\ttotal: 1.19s\tremaining: 376ms\n",
      "760:\tlearn: 0.2308683\ttotal: 1.19s\tremaining: 375ms\n",
      "761:\tlearn: 0.2306519\ttotal: 1.19s\tremaining: 373ms\n",
      "762:\tlearn: 0.2304512\ttotal: 1.2s\tremaining: 371ms\n",
      "763:\tlearn: 0.2303585\ttotal: 1.2s\tremaining: 370ms\n",
      "764:\tlearn: 0.2301186\ttotal: 1.2s\tremaining: 368ms\n",
      "765:\tlearn: 0.2299520\ttotal: 1.2s\tremaining: 367ms\n",
      "766:\tlearn: 0.2298211\ttotal: 1.2s\tremaining: 365ms\n",
      "767:\tlearn: 0.2296461\ttotal: 1.2s\tremaining: 363ms\n",
      "768:\tlearn: 0.2294316\ttotal: 1.2s\tremaining: 362ms\n",
      "769:\tlearn: 0.2292530\ttotal: 1.21s\tremaining: 360ms\n"
     ]
    },
    {
     "name": "stdout",
     "output_type": "stream",
     "text": [
      "770:\tlearn: 0.2290728\ttotal: 1.21s\tremaining: 358ms\n",
      "771:\tlearn: 0.2288433\ttotal: 1.21s\tremaining: 357ms\n",
      "772:\tlearn: 0.2287000\ttotal: 1.21s\tremaining: 355ms\n",
      "773:\tlearn: 0.2284832\ttotal: 1.21s\tremaining: 354ms\n",
      "774:\tlearn: 0.2283585\ttotal: 1.21s\tremaining: 352ms\n",
      "775:\tlearn: 0.2282229\ttotal: 1.21s\tremaining: 350ms\n",
      "776:\tlearn: 0.2281303\ttotal: 1.22s\tremaining: 349ms\n",
      "777:\tlearn: 0.2279449\ttotal: 1.22s\tremaining: 347ms\n",
      "778:\tlearn: 0.2277649\ttotal: 1.22s\tremaining: 346ms\n",
      "779:\tlearn: 0.2276696\ttotal: 1.22s\tremaining: 344ms\n",
      "780:\tlearn: 0.2274767\ttotal: 1.22s\tremaining: 342ms\n",
      "781:\tlearn: 0.2272327\ttotal: 1.22s\tremaining: 341ms\n",
      "782:\tlearn: 0.2270917\ttotal: 1.22s\tremaining: 339ms\n",
      "783:\tlearn: 0.2269343\ttotal: 1.22s\tremaining: 337ms\n",
      "784:\tlearn: 0.2266742\ttotal: 1.23s\tremaining: 336ms\n",
      "785:\tlearn: 0.2264986\ttotal: 1.23s\tremaining: 334ms\n",
      "786:\tlearn: 0.2263188\ttotal: 1.23s\tremaining: 333ms\n",
      "787:\tlearn: 0.2261086\ttotal: 1.23s\tremaining: 331ms\n",
      "788:\tlearn: 0.2258824\ttotal: 1.23s\tremaining: 329ms\n",
      "789:\tlearn: 0.2256495\ttotal: 1.25s\tremaining: 332ms\n",
      "790:\tlearn: 0.2253640\ttotal: 1.25s\tremaining: 330ms\n",
      "791:\tlearn: 0.2253015\ttotal: 1.25s\tremaining: 329ms\n",
      "792:\tlearn: 0.2251932\ttotal: 1.25s\tremaining: 327ms\n",
      "793:\tlearn: 0.2250610\ttotal: 1.25s\tremaining: 326ms\n",
      "794:\tlearn: 0.2249378\ttotal: 1.26s\tremaining: 324ms\n",
      "795:\tlearn: 0.2247418\ttotal: 1.26s\tremaining: 323ms\n",
      "796:\tlearn: 0.2243590\ttotal: 1.26s\tremaining: 321ms\n",
      "797:\tlearn: 0.2241881\ttotal: 1.26s\tremaining: 319ms\n",
      "798:\tlearn: 0.2239846\ttotal: 1.26s\tremaining: 318ms\n",
      "799:\tlearn: 0.2238098\ttotal: 1.26s\tremaining: 316ms\n",
      "800:\tlearn: 0.2237013\ttotal: 1.27s\tremaining: 315ms\n",
      "801:\tlearn: 0.2235843\ttotal: 1.27s\tremaining: 313ms\n",
      "802:\tlearn: 0.2234171\ttotal: 1.27s\tremaining: 312ms\n",
      "803:\tlearn: 0.2232202\ttotal: 1.27s\tremaining: 310ms\n",
      "804:\tlearn: 0.2230832\ttotal: 1.27s\tremaining: 308ms\n",
      "805:\tlearn: 0.2229630\ttotal: 1.27s\tremaining: 307ms\n",
      "806:\tlearn: 0.2227556\ttotal: 1.27s\tremaining: 305ms\n",
      "807:\tlearn: 0.2225513\ttotal: 1.28s\tremaining: 303ms\n",
      "808:\tlearn: 0.2224407\ttotal: 1.28s\tremaining: 302ms\n",
      "809:\tlearn: 0.2223815\ttotal: 1.28s\tremaining: 300ms\n",
      "810:\tlearn: 0.2221158\ttotal: 1.28s\tremaining: 298ms\n",
      "811:\tlearn: 0.2218880\ttotal: 1.28s\tremaining: 297ms\n",
      "812:\tlearn: 0.2217191\ttotal: 1.28s\tremaining: 295ms\n",
      "813:\tlearn: 0.2216216\ttotal: 1.28s\tremaining: 294ms\n",
      "814:\tlearn: 0.2214471\ttotal: 1.29s\tremaining: 292ms\n",
      "815:\tlearn: 0.2212460\ttotal: 1.29s\tremaining: 290ms\n",
      "816:\tlearn: 0.2210716\ttotal: 1.29s\tremaining: 289ms\n",
      "817:\tlearn: 0.2207700\ttotal: 1.29s\tremaining: 287ms\n",
      "818:\tlearn: 0.2206518\ttotal: 1.29s\tremaining: 285ms\n",
      "819:\tlearn: 0.2205547\ttotal: 1.29s\tremaining: 284ms\n",
      "820:\tlearn: 0.2202621\ttotal: 1.29s\tremaining: 282ms\n",
      "821:\tlearn: 0.2200709\ttotal: 1.29s\tremaining: 281ms\n",
      "822:\tlearn: 0.2199827\ttotal: 1.3s\tremaining: 279ms\n",
      "823:\tlearn: 0.2198117\ttotal: 1.3s\tremaining: 277ms\n",
      "824:\tlearn: 0.2196338\ttotal: 1.3s\tremaining: 276ms\n",
      "825:\tlearn: 0.2193833\ttotal: 1.3s\tremaining: 274ms\n",
      "826:\tlearn: 0.2191040\ttotal: 1.3s\tremaining: 272ms\n",
      "827:\tlearn: 0.2188188\ttotal: 1.3s\tremaining: 271ms\n",
      "828:\tlearn: 0.2186232\ttotal: 1.3s\tremaining: 269ms\n",
      "829:\tlearn: 0.2184637\ttotal: 1.31s\tremaining: 268ms\n",
      "830:\tlearn: 0.2183447\ttotal: 1.31s\tremaining: 266ms\n",
      "831:\tlearn: 0.2181185\ttotal: 1.31s\tremaining: 264ms\n",
      "832:\tlearn: 0.2179230\ttotal: 1.31s\tremaining: 263ms\n",
      "833:\tlearn: 0.2177289\ttotal: 1.31s\tremaining: 261ms\n",
      "834:\tlearn: 0.2174576\ttotal: 1.31s\tremaining: 259ms\n",
      "835:\tlearn: 0.2173258\ttotal: 1.31s\tremaining: 258ms\n",
      "836:\tlearn: 0.2171739\ttotal: 1.31s\tremaining: 256ms\n",
      "837:\tlearn: 0.2169270\ttotal: 1.32s\tremaining: 255ms\n",
      "838:\tlearn: 0.2166864\ttotal: 1.32s\tremaining: 253ms\n",
      "839:\tlearn: 0.2164157\ttotal: 1.32s\tremaining: 251ms\n",
      "840:\tlearn: 0.2163378\ttotal: 1.32s\tremaining: 250ms\n",
      "841:\tlearn: 0.2162199\ttotal: 1.32s\tremaining: 248ms\n",
      "842:\tlearn: 0.2158899\ttotal: 1.32s\tremaining: 247ms\n",
      "843:\tlearn: 0.2158699\ttotal: 1.32s\tremaining: 245ms\n",
      "844:\tlearn: 0.2157586\ttotal: 1.33s\tremaining: 243ms\n",
      "845:\tlearn: 0.2155410\ttotal: 1.33s\tremaining: 242ms\n",
      "846:\tlearn: 0.2153727\ttotal: 1.33s\tremaining: 240ms\n",
      "847:\tlearn: 0.2151920\ttotal: 1.33s\tremaining: 239ms\n",
      "848:\tlearn: 0.2148853\ttotal: 1.33s\tremaining: 237ms\n",
      "849:\tlearn: 0.2148101\ttotal: 1.33s\tremaining: 235ms\n",
      "850:\tlearn: 0.2146415\ttotal: 1.33s\tremaining: 234ms\n",
      "851:\tlearn: 0.2144046\ttotal: 1.33s\tremaining: 232ms\n",
      "852:\tlearn: 0.2143299\ttotal: 1.34s\tremaining: 230ms\n",
      "853:\tlearn: 0.2141792\ttotal: 1.34s\tremaining: 229ms\n",
      "854:\tlearn: 0.2141206\ttotal: 1.34s\tremaining: 227ms\n",
      "855:\tlearn: 0.2139337\ttotal: 1.34s\tremaining: 226ms\n",
      "856:\tlearn: 0.2136557\ttotal: 1.34s\tremaining: 224ms\n",
      "857:\tlearn: 0.2134691\ttotal: 1.34s\tremaining: 222ms\n",
      "858:\tlearn: 0.2132437\ttotal: 1.34s\tremaining: 221ms\n",
      "859:\tlearn: 0.2130466\ttotal: 1.35s\tremaining: 219ms\n",
      "860:\tlearn: 0.2129277\ttotal: 1.35s\tremaining: 218ms\n",
      "861:\tlearn: 0.2125050\ttotal: 1.35s\tremaining: 216ms\n",
      "862:\tlearn: 0.2122203\ttotal: 1.35s\tremaining: 214ms\n",
      "863:\tlearn: 0.2121312\ttotal: 1.35s\tremaining: 213ms\n",
      "864:\tlearn: 0.2120307\ttotal: 1.35s\tremaining: 211ms\n",
      "865:\tlearn: 0.2118465\ttotal: 1.35s\tremaining: 210ms\n",
      "866:\tlearn: 0.2117302\ttotal: 1.36s\tremaining: 208ms\n",
      "867:\tlearn: 0.2114227\ttotal: 1.36s\tremaining: 206ms\n",
      "868:\tlearn: 0.2113260\ttotal: 1.36s\tremaining: 205ms\n",
      "869:\tlearn: 0.2111942\ttotal: 1.36s\tremaining: 203ms\n",
      "870:\tlearn: 0.2110035\ttotal: 1.36s\tremaining: 202ms\n",
      "871:\tlearn: 0.2107816\ttotal: 1.36s\tremaining: 200ms\n",
      "872:\tlearn: 0.2104724\ttotal: 1.36s\tremaining: 198ms\n",
      "873:\tlearn: 0.2102684\ttotal: 1.36s\tremaining: 197ms\n",
      "874:\tlearn: 0.2101032\ttotal: 1.37s\tremaining: 195ms\n",
      "875:\tlearn: 0.2099989\ttotal: 1.37s\tremaining: 194ms\n",
      "876:\tlearn: 0.2099035\ttotal: 1.37s\tremaining: 192ms\n",
      "877:\tlearn: 0.2097173\ttotal: 1.37s\tremaining: 190ms\n",
      "878:\tlearn: 0.2095486\ttotal: 1.37s\tremaining: 189ms\n",
      "879:\tlearn: 0.2093830\ttotal: 1.37s\tremaining: 187ms\n",
      "880:\tlearn: 0.2092829\ttotal: 1.37s\tremaining: 186ms\n",
      "881:\tlearn: 0.2089713\ttotal: 1.38s\tremaining: 184ms\n",
      "882:\tlearn: 0.2087959\ttotal: 1.38s\tremaining: 183ms\n",
      "883:\tlearn: 0.2087119\ttotal: 1.38s\tremaining: 181ms\n",
      "884:\tlearn: 0.2086137\ttotal: 1.38s\tremaining: 179ms\n",
      "885:\tlearn: 0.2084851\ttotal: 1.38s\tremaining: 178ms\n",
      "886:\tlearn: 0.2082519\ttotal: 1.38s\tremaining: 176ms\n",
      "887:\tlearn: 0.2082281\ttotal: 1.38s\tremaining: 175ms\n",
      "888:\tlearn: 0.2080446\ttotal: 1.39s\tremaining: 173ms\n",
      "889:\tlearn: 0.2079331\ttotal: 1.39s\tremaining: 171ms\n",
      "890:\tlearn: 0.2076840\ttotal: 1.39s\tremaining: 170ms\n",
      "891:\tlearn: 0.2074361\ttotal: 1.39s\tremaining: 168ms\n",
      "892:\tlearn: 0.2072691\ttotal: 1.39s\tremaining: 167ms\n",
      "893:\tlearn: 0.2071863\ttotal: 1.39s\tremaining: 165ms\n",
      "894:\tlearn: 0.2070482\ttotal: 1.39s\tremaining: 164ms\n",
      "895:\tlearn: 0.2068719\ttotal: 1.4s\tremaining: 162ms\n",
      "896:\tlearn: 0.2068010\ttotal: 1.4s\tremaining: 160ms\n",
      "897:\tlearn: 0.2066289\ttotal: 1.4s\tremaining: 159ms\n",
      "898:\tlearn: 0.2065124\ttotal: 1.4s\tremaining: 157ms\n",
      "899:\tlearn: 0.2063746\ttotal: 1.4s\tremaining: 156ms\n",
      "900:\tlearn: 0.2060329\ttotal: 1.4s\tremaining: 154ms\n",
      "901:\tlearn: 0.2059134\ttotal: 1.4s\tremaining: 153ms\n",
      "902:\tlearn: 0.2056670\ttotal: 1.41s\tremaining: 151ms\n",
      "903:\tlearn: 0.2055800\ttotal: 1.41s\tremaining: 149ms\n",
      "904:\tlearn: 0.2054935\ttotal: 1.41s\tremaining: 148ms\n",
      "905:\tlearn: 0.2054216\ttotal: 1.41s\tremaining: 146ms\n",
      "906:\tlearn: 0.2053141\ttotal: 1.41s\tremaining: 145ms\n",
      "907:\tlearn: 0.2051578\ttotal: 1.41s\tremaining: 143ms\n",
      "908:\tlearn: 0.2051277\ttotal: 1.41s\tremaining: 142ms\n",
      "909:\tlearn: 0.2049773\ttotal: 1.41s\tremaining: 140ms\n",
      "910:\tlearn: 0.2049041\ttotal: 1.42s\tremaining: 138ms\n",
      "911:\tlearn: 0.2048033\ttotal: 1.42s\tremaining: 137ms\n",
      "912:\tlearn: 0.2046646\ttotal: 1.42s\tremaining: 135ms\n",
      "913:\tlearn: 0.2045087\ttotal: 1.42s\tremaining: 134ms\n",
      "914:\tlearn: 0.2043556\ttotal: 1.42s\tremaining: 132ms\n",
      "915:\tlearn: 0.2042029\ttotal: 1.42s\tremaining: 130ms\n",
      "916:\tlearn: 0.2041374\ttotal: 1.42s\tremaining: 129ms\n",
      "917:\tlearn: 0.2039668\ttotal: 1.43s\tremaining: 127ms\n",
      "918:\tlearn: 0.2038225\ttotal: 1.43s\tremaining: 126ms\n",
      "919:\tlearn: 0.2037351\ttotal: 1.43s\tremaining: 124ms\n",
      "920:\tlearn: 0.2035562\ttotal: 1.43s\tremaining: 123ms\n",
      "921:\tlearn: 0.2033158\ttotal: 1.43s\tremaining: 121ms\n",
      "922:\tlearn: 0.2031272\ttotal: 1.43s\tremaining: 119ms\n",
      "923:\tlearn: 0.2028653\ttotal: 1.43s\tremaining: 118ms\n",
      "924:\tlearn: 0.2027730\ttotal: 1.44s\tremaining: 116ms\n",
      "925:\tlearn: 0.2025642\ttotal: 1.44s\tremaining: 115ms\n",
      "926:\tlearn: 0.2025182\ttotal: 1.44s\tremaining: 113ms\n",
      "927:\tlearn: 0.2023242\ttotal: 1.44s\tremaining: 112ms\n",
      "928:\tlearn: 0.2021505\ttotal: 1.44s\tremaining: 110ms\n",
      "929:\tlearn: 0.2019405\ttotal: 1.44s\tremaining: 109ms\n",
      "930:\tlearn: 0.2018581\ttotal: 1.44s\tremaining: 107ms\n",
      "931:\tlearn: 0.2015040\ttotal: 1.44s\tremaining: 105ms\n",
      "932:\tlearn: 0.2012963\ttotal: 1.45s\tremaining: 104ms\n",
      "933:\tlearn: 0.2011157\ttotal: 1.45s\tremaining: 102ms\n",
      "934:\tlearn: 0.2010048\ttotal: 1.45s\tremaining: 101ms\n",
      "935:\tlearn: 0.2008797\ttotal: 1.45s\tremaining: 99.1ms\n",
      "936:\tlearn: 0.2006119\ttotal: 1.45s\tremaining: 97.6ms\n",
      "937:\tlearn: 0.2003997\ttotal: 1.45s\tremaining: 96ms\n",
      "938:\tlearn: 0.2002994\ttotal: 1.45s\tremaining: 94.4ms\n",
      "939:\tlearn: 0.2001781\ttotal: 1.45s\tremaining: 92.9ms\n",
      "940:\tlearn: 0.2001108\ttotal: 1.46s\tremaining: 91.3ms\n",
      "941:\tlearn: 0.1998029\ttotal: 1.46s\tremaining: 89.7ms\n",
      "942:\tlearn: 0.1996730\ttotal: 1.46s\tremaining: 88.2ms\n",
      "943:\tlearn: 0.1996001\ttotal: 1.46s\tremaining: 86.6ms\n",
      "944:\tlearn: 0.1995043\ttotal: 1.46s\tremaining: 85.1ms\n",
      "945:\tlearn: 0.1993791\ttotal: 1.46s\tremaining: 83.5ms\n",
      "946:\tlearn: 0.1993067\ttotal: 1.46s\tremaining: 81.9ms\n",
      "947:\tlearn: 0.1991825\ttotal: 1.47s\tremaining: 80.4ms\n",
      "948:\tlearn: 0.1991477\ttotal: 1.47s\tremaining: 78.8ms\n",
      "949:\tlearn: 0.1989893\ttotal: 1.47s\tremaining: 77.3ms\n",
      "950:\tlearn: 0.1989476\ttotal: 1.47s\tremaining: 75.7ms\n",
      "951:\tlearn: 0.1988571\ttotal: 1.47s\tremaining: 74.2ms\n",
      "952:\tlearn: 0.1987463\ttotal: 1.47s\tremaining: 72.6ms\n",
      "953:\tlearn: 0.1985914\ttotal: 1.47s\tremaining: 71ms\n",
      "954:\tlearn: 0.1984601\ttotal: 1.47s\tremaining: 69.5ms\n",
      "955:\tlearn: 0.1983558\ttotal: 1.48s\tremaining: 67.9ms\n",
      "956:\tlearn: 0.1981887\ttotal: 1.48s\tremaining: 66.4ms\n",
      "957:\tlearn: 0.1979755\ttotal: 1.48s\tremaining: 64.8ms\n",
      "958:\tlearn: 0.1978122\ttotal: 1.48s\tremaining: 63.3ms\n",
      "959:\tlearn: 0.1976791\ttotal: 1.48s\tremaining: 61.7ms\n",
      "960:\tlearn: 0.1976331\ttotal: 1.48s\tremaining: 60.2ms\n",
      "961:\tlearn: 0.1974878\ttotal: 1.48s\tremaining: 58.6ms\n",
      "962:\tlearn: 0.1973825\ttotal: 1.49s\tremaining: 57.1ms\n",
      "963:\tlearn: 0.1973230\ttotal: 1.49s\tremaining: 55.5ms\n",
      "964:\tlearn: 0.1970565\ttotal: 1.49s\tremaining: 54ms\n",
      "965:\tlearn: 0.1969765\ttotal: 1.49s\tremaining: 52.4ms\n",
      "966:\tlearn: 0.1967186\ttotal: 1.49s\tremaining: 50.9ms\n",
      "967:\tlearn: 0.1965649\ttotal: 1.49s\tremaining: 49.3ms\n",
      "968:\tlearn: 0.1964461\ttotal: 1.49s\tremaining: 47.8ms\n",
      "969:\tlearn: 0.1962676\ttotal: 1.49s\tremaining: 46.2ms\n",
      "970:\tlearn: 0.1961347\ttotal: 1.5s\tremaining: 44.7ms\n",
      "971:\tlearn: 0.1960023\ttotal: 1.5s\tremaining: 43.1ms\n",
      "972:\tlearn: 0.1958286\ttotal: 1.5s\tremaining: 41.6ms\n",
      "973:\tlearn: 0.1956880\ttotal: 1.5s\tremaining: 40ms\n",
      "974:\tlearn: 0.1955273\ttotal: 1.5s\tremaining: 38.5ms\n",
      "975:\tlearn: 0.1954718\ttotal: 1.5s\tremaining: 37ms\n",
      "976:\tlearn: 0.1954058\ttotal: 1.5s\tremaining: 35.4ms\n",
      "977:\tlearn: 0.1953148\ttotal: 1.5s\tremaining: 33.9ms\n",
      "978:\tlearn: 0.1951338\ttotal: 1.51s\tremaining: 32.3ms\n",
      "979:\tlearn: 0.1950429\ttotal: 1.51s\tremaining: 30.8ms\n",
      "980:\tlearn: 0.1950004\ttotal: 1.51s\tremaining: 29.2ms\n",
      "981:\tlearn: 0.1948226\ttotal: 1.51s\tremaining: 27.7ms\n",
      "982:\tlearn: 0.1946439\ttotal: 1.51s\tremaining: 26.2ms\n",
      "983:\tlearn: 0.1945826\ttotal: 1.51s\tremaining: 24.6ms\n",
      "984:\tlearn: 0.1944658\ttotal: 1.51s\tremaining: 23.1ms\n",
      "985:\tlearn: 0.1943315\ttotal: 1.52s\tremaining: 21.5ms\n",
      "986:\tlearn: 0.1941699\ttotal: 1.52s\tremaining: 20ms\n",
      "987:\tlearn: 0.1939214\ttotal: 1.52s\tremaining: 18.4ms\n",
      "988:\tlearn: 0.1937600\ttotal: 1.52s\tremaining: 16.9ms\n",
      "989:\tlearn: 0.1936543\ttotal: 1.52s\tremaining: 15.4ms\n",
      "990:\tlearn: 0.1935242\ttotal: 1.52s\tremaining: 13.8ms\n",
      "991:\tlearn: 0.1933722\ttotal: 1.52s\tremaining: 12.3ms\n",
      "992:\tlearn: 0.1932137\ttotal: 1.52s\tremaining: 10.8ms\n",
      "993:\tlearn: 0.1931190\ttotal: 1.53s\tremaining: 9.22ms\n",
      "994:\tlearn: 0.1930025\ttotal: 1.53s\tremaining: 7.68ms\n",
      "995:\tlearn: 0.1929036\ttotal: 1.53s\tremaining: 6.14ms\n",
      "996:\tlearn: 0.1927199\ttotal: 1.53s\tremaining: 4.61ms\n",
      "997:\tlearn: 0.1927060\ttotal: 1.53s\tremaining: 3.07ms\n",
      "998:\tlearn: 0.1926449\ttotal: 1.53s\tremaining: 1.53ms\n",
      "999:\tlearn: 0.1925922\ttotal: 1.53s\tremaining: 0us\n"
     ]
    }
   ],
   "source": [
    "cat_model = CatBoostClassifier().fit(X_train, y_train)"
   ]
  },
  {
   "cell_type": "markdown",
   "id": "080c252a",
   "metadata": {},
   "source": [
    "#### 3.12.2. Tahmin"
   ]
  },
  {
   "cell_type": "code",
   "execution_count": 92,
   "id": "ba801130",
   "metadata": {},
   "outputs": [
    {
     "data": {
      "text/plain": [
       "0.7402597402597403"
      ]
     },
     "execution_count": 92,
     "metadata": {},
     "output_type": "execute_result"
    }
   ],
   "source": [
    "y_pred = cat_model.predict(X_test)\n",
    "accuracy_score(y_test, y_pred)"
   ]
  },
  {
   "cell_type": "markdown",
   "id": "09c242dc",
   "metadata": {},
   "source": [
    "#### 3.12.3. Model Tuning"
   ]
  },
  {
   "cell_type": "code",
   "execution_count": 93,
   "id": "53c1861c",
   "metadata": {},
   "outputs": [],
   "source": [
    "catb_params = {\n",
    "    'iterations': [200,500],\n",
    "    'learning_rate': [0.01,0.05, 0.1],\n",
    "    'depth': [3,5,8] }"
   ]
  },
  {
   "cell_type": "code",
   "execution_count": 94,
   "id": "1d645038",
   "metadata": {
    "collapsed": true
   },
   "outputs": [
    {
     "name": "stdout",
     "output_type": "stream",
     "text": [
      "Fitting 5 folds for each of 18 candidates, totalling 90 fits\n",
      "0:\tlearn: 0.6863312\ttotal: 17.9ms\tremaining: 3.57s\n",
      "1:\tlearn: 0.6811157\ttotal: 20.9ms\tremaining: 2.07s\n",
      "2:\tlearn: 0.6752970\ttotal: 23.7ms\tremaining: 1.56s\n",
      "3:\tlearn: 0.6697432\ttotal: 26.4ms\tremaining: 1.29s\n",
      "4:\tlearn: 0.6641758\ttotal: 29.2ms\tremaining: 1.14s\n",
      "5:\tlearn: 0.6576656\ttotal: 31.9ms\tremaining: 1.03s\n",
      "6:\tlearn: 0.6521870\ttotal: 34.7ms\tremaining: 956ms\n",
      "7:\tlearn: 0.6465564\ttotal: 37.6ms\tremaining: 902ms\n",
      "8:\tlearn: 0.6407595\ttotal: 40.6ms\tremaining: 862ms\n",
      "9:\tlearn: 0.6357725\ttotal: 43.6ms\tremaining: 828ms\n",
      "10:\tlearn: 0.6299942\ttotal: 46.4ms\tremaining: 797ms\n",
      "11:\tlearn: 0.6240480\ttotal: 49.2ms\tremaining: 770ms\n",
      "12:\tlearn: 0.6196095\ttotal: 52.1ms\tremaining: 749ms\n",
      "13:\tlearn: 0.6148715\ttotal: 55ms\tremaining: 731ms\n",
      "14:\tlearn: 0.6092626\ttotal: 57.8ms\tremaining: 713ms\n",
      "15:\tlearn: 0.6046764\ttotal: 60.6ms\tremaining: 697ms\n",
      "16:\tlearn: 0.6012725\ttotal: 63.3ms\tremaining: 682ms\n",
      "17:\tlearn: 0.5958121\ttotal: 66.3ms\tremaining: 670ms\n",
      "18:\tlearn: 0.5903243\ttotal: 69.3ms\tremaining: 660ms\n",
      "19:\tlearn: 0.5866024\ttotal: 72ms\tremaining: 648ms\n",
      "20:\tlearn: 0.5831390\ttotal: 74.8ms\tremaining: 638ms\n",
      "21:\tlearn: 0.5787381\ttotal: 77.6ms\tremaining: 628ms\n",
      "22:\tlearn: 0.5749016\ttotal: 80.3ms\tremaining: 618ms\n",
      "23:\tlearn: 0.5703199\ttotal: 83.1ms\tremaining: 610ms\n",
      "24:\tlearn: 0.5662368\ttotal: 86ms\tremaining: 602ms\n",
      "25:\tlearn: 0.5628682\ttotal: 88.8ms\tremaining: 594ms\n",
      "26:\tlearn: 0.5589082\ttotal: 91.6ms\tremaining: 587ms\n",
      "27:\tlearn: 0.5543910\ttotal: 94.4ms\tremaining: 580ms\n",
      "28:\tlearn: 0.5503864\ttotal: 97.2ms\tremaining: 573ms\n",
      "29:\tlearn: 0.5470574\ttotal: 100ms\tremaining: 567ms\n",
      "30:\tlearn: 0.5441267\ttotal: 103ms\tremaining: 561ms\n",
      "31:\tlearn: 0.5396280\ttotal: 106ms\tremaining: 555ms\n",
      "32:\tlearn: 0.5356242\ttotal: 109ms\tremaining: 549ms\n",
      "33:\tlearn: 0.5315397\ttotal: 111ms\tremaining: 544ms\n",
      "34:\tlearn: 0.5279847\ttotal: 114ms\tremaining: 539ms\n",
      "35:\tlearn: 0.5248380\ttotal: 117ms\tremaining: 533ms\n",
      "36:\tlearn: 0.5223885\ttotal: 120ms\tremaining: 528ms\n",
      "37:\tlearn: 0.5198269\ttotal: 123ms\tremaining: 523ms\n",
      "38:\tlearn: 0.5167431\ttotal: 126ms\tremaining: 518ms\n",
      "39:\tlearn: 0.5138833\ttotal: 128ms\tremaining: 513ms\n",
      "40:\tlearn: 0.5101494\ttotal: 131ms\tremaining: 509ms\n",
      "41:\tlearn: 0.5066102\ttotal: 134ms\tremaining: 505ms\n",
      "42:\tlearn: 0.5033714\ttotal: 137ms\tremaining: 500ms\n",
      "43:\tlearn: 0.5005898\ttotal: 140ms\tremaining: 495ms\n",
      "44:\tlearn: 0.4980703\ttotal: 142ms\tremaining: 491ms\n",
      "45:\tlearn: 0.4959251\ttotal: 145ms\tremaining: 486ms\n",
      "46:\tlearn: 0.4933987\ttotal: 148ms\tremaining: 482ms\n",
      "47:\tlearn: 0.4906194\ttotal: 151ms\tremaining: 478ms\n",
      "48:\tlearn: 0.4878359\ttotal: 154ms\tremaining: 474ms\n",
      "49:\tlearn: 0.4850755\ttotal: 157ms\tremaining: 470ms\n",
      "50:\tlearn: 0.4825927\ttotal: 159ms\tremaining: 465ms\n",
      "51:\tlearn: 0.4798298\ttotal: 162ms\tremaining: 461ms\n",
      "52:\tlearn: 0.4776108\ttotal: 165ms\tremaining: 458ms\n",
      "53:\tlearn: 0.4754405\ttotal: 168ms\tremaining: 454ms\n",
      "54:\tlearn: 0.4733501\ttotal: 171ms\tremaining: 450ms\n",
      "55:\tlearn: 0.4706076\ttotal: 173ms\tremaining: 446ms\n",
      "56:\tlearn: 0.4677355\ttotal: 176ms\tremaining: 442ms\n",
      "57:\tlearn: 0.4656740\ttotal: 179ms\tremaining: 439ms\n",
      "58:\tlearn: 0.4637413\ttotal: 182ms\tremaining: 435ms\n",
      "59:\tlearn: 0.4615248\ttotal: 185ms\tremaining: 431ms\n",
      "60:\tlearn: 0.4599759\ttotal: 187ms\tremaining: 427ms\n",
      "61:\tlearn: 0.4583985\ttotal: 189ms\tremaining: 420ms\n",
      "62:\tlearn: 0.4567064\ttotal: 191ms\tremaining: 416ms\n",
      "63:\tlearn: 0.4540942\ttotal: 194ms\tremaining: 413ms\n",
      "64:\tlearn: 0.4529822\ttotal: 195ms\tremaining: 405ms\n",
      "65:\tlearn: 0.4512090\ttotal: 199ms\tremaining: 403ms\n",
      "66:\tlearn: 0.4486739\ttotal: 201ms\tremaining: 400ms\n",
      "67:\tlearn: 0.4467865\ttotal: 204ms\tremaining: 397ms\n",
      "68:\tlearn: 0.4449614\ttotal: 207ms\tremaining: 394ms\n",
      "69:\tlearn: 0.4426120\ttotal: 210ms\tremaining: 390ms\n",
      "70:\tlearn: 0.4401612\ttotal: 213ms\tremaining: 387ms\n",
      "71:\tlearn: 0.4380696\ttotal: 216ms\tremaining: 384ms\n",
      "72:\tlearn: 0.4367153\ttotal: 219ms\tremaining: 382ms\n",
      "73:\tlearn: 0.4353223\ttotal: 223ms\tremaining: 380ms\n",
      "74:\tlearn: 0.4339943\ttotal: 227ms\tremaining: 378ms\n",
      "75:\tlearn: 0.4315641\ttotal: 230ms\tremaining: 375ms\n",
      "76:\tlearn: 0.4298680\ttotal: 233ms\tremaining: 371ms\n",
      "77:\tlearn: 0.4285275\ttotal: 235ms\tremaining: 368ms\n",
      "78:\tlearn: 0.4265791\ttotal: 238ms\tremaining: 365ms\n",
      "79:\tlearn: 0.4244024\ttotal: 241ms\tremaining: 361ms\n",
      "80:\tlearn: 0.4228361\ttotal: 244ms\tremaining: 358ms\n",
      "81:\tlearn: 0.4214212\ttotal: 247ms\tremaining: 355ms\n",
      "82:\tlearn: 0.4200602\ttotal: 250ms\tremaining: 352ms\n",
      "83:\tlearn: 0.4184320\ttotal: 253ms\tremaining: 349ms\n",
      "84:\tlearn: 0.4167986\ttotal: 255ms\tremaining: 345ms\n",
      "85:\tlearn: 0.4156404\ttotal: 258ms\tremaining: 342ms\n",
      "86:\tlearn: 0.4140656\ttotal: 261ms\tremaining: 339ms\n",
      "87:\tlearn: 0.4124223\ttotal: 264ms\tremaining: 336ms\n",
      "88:\tlearn: 0.4107329\ttotal: 267ms\tremaining: 333ms\n",
      "89:\tlearn: 0.4090922\ttotal: 269ms\tremaining: 329ms\n",
      "90:\tlearn: 0.4075416\ttotal: 272ms\tremaining: 326ms\n",
      "91:\tlearn: 0.4062399\ttotal: 275ms\tremaining: 323ms\n",
      "92:\tlearn: 0.4044658\ttotal: 278ms\tremaining: 320ms\n",
      "93:\tlearn: 0.4030179\ttotal: 281ms\tremaining: 317ms\n",
      "94:\tlearn: 0.4012034\ttotal: 284ms\tremaining: 314ms\n",
      "95:\tlearn: 0.3994677\ttotal: 287ms\tremaining: 310ms\n",
      "96:\tlearn: 0.3983236\ttotal: 289ms\tremaining: 307ms\n",
      "97:\tlearn: 0.3969830\ttotal: 292ms\tremaining: 304ms\n",
      "98:\tlearn: 0.3955620\ttotal: 295ms\tremaining: 301ms\n",
      "99:\tlearn: 0.3946122\ttotal: 298ms\tremaining: 298ms\n",
      "100:\tlearn: 0.3932345\ttotal: 301ms\tremaining: 295ms\n",
      "101:\tlearn: 0.3920746\ttotal: 304ms\tremaining: 292ms\n",
      "102:\tlearn: 0.3911707\ttotal: 307ms\tremaining: 289ms\n",
      "103:\tlearn: 0.3895752\ttotal: 309ms\tremaining: 286ms\n",
      "104:\tlearn: 0.3880976\ttotal: 312ms\tremaining: 283ms\n",
      "105:\tlearn: 0.3867508\ttotal: 315ms\tremaining: 279ms\n",
      "106:\tlearn: 0.3855281\ttotal: 318ms\tremaining: 276ms\n",
      "107:\tlearn: 0.3841015\ttotal: 321ms\tremaining: 273ms\n",
      "108:\tlearn: 0.3829276\ttotal: 323ms\tremaining: 270ms\n",
      "109:\tlearn: 0.3818795\ttotal: 326ms\tremaining: 267ms\n",
      "110:\tlearn: 0.3809667\ttotal: 329ms\tremaining: 264ms\n",
      "111:\tlearn: 0.3790017\ttotal: 332ms\tremaining: 261ms\n",
      "112:\tlearn: 0.3774333\ttotal: 335ms\tremaining: 258ms\n",
      "113:\tlearn: 0.3762372\ttotal: 338ms\tremaining: 255ms\n",
      "114:\tlearn: 0.3750418\ttotal: 341ms\tremaining: 252ms\n",
      "115:\tlearn: 0.3735203\ttotal: 344ms\tremaining: 249ms\n",
      "116:\tlearn: 0.3727671\ttotal: 346ms\tremaining: 246ms\n",
      "117:\tlearn: 0.3713847\ttotal: 349ms\tremaining: 243ms\n",
      "118:\tlearn: 0.3705588\ttotal: 352ms\tremaining: 240ms\n",
      "119:\tlearn: 0.3694386\ttotal: 355ms\tremaining: 237ms\n",
      "120:\tlearn: 0.3687438\ttotal: 358ms\tremaining: 234ms\n",
      "121:\tlearn: 0.3679429\ttotal: 361ms\tremaining: 230ms\n",
      "122:\tlearn: 0.3666192\ttotal: 363ms\tremaining: 227ms\n",
      "123:\tlearn: 0.3654787\ttotal: 366ms\tremaining: 224ms\n",
      "124:\tlearn: 0.3643185\ttotal: 369ms\tremaining: 221ms\n",
      "125:\tlearn: 0.3636195\ttotal: 372ms\tremaining: 218ms\n",
      "126:\tlearn: 0.3625184\ttotal: 375ms\tremaining: 215ms\n",
      "127:\tlearn: 0.3609778\ttotal: 378ms\tremaining: 212ms\n",
      "128:\tlearn: 0.3595979\ttotal: 381ms\tremaining: 210ms\n",
      "129:\tlearn: 0.3583702\ttotal: 384ms\tremaining: 207ms\n",
      "130:\tlearn: 0.3569225\ttotal: 387ms\tremaining: 204ms\n",
      "131:\tlearn: 0.3558535\ttotal: 389ms\tremaining: 201ms\n",
      "132:\tlearn: 0.3548312\ttotal: 392ms\tremaining: 198ms\n",
      "133:\tlearn: 0.3533459\ttotal: 396ms\tremaining: 195ms\n",
      "134:\tlearn: 0.3524239\ttotal: 399ms\tremaining: 192ms\n",
      "135:\tlearn: 0.3517958\ttotal: 402ms\tremaining: 189ms\n",
      "136:\tlearn: 0.3504984\ttotal: 405ms\tremaining: 186ms\n",
      "137:\tlearn: 0.3497339\ttotal: 408ms\tremaining: 183ms\n",
      "138:\tlearn: 0.3488643\ttotal: 411ms\tremaining: 180ms\n",
      "139:\tlearn: 0.3482265\ttotal: 414ms\tremaining: 177ms\n",
      "140:\tlearn: 0.3470774\ttotal: 417ms\tremaining: 174ms\n",
      "141:\tlearn: 0.3458237\ttotal: 420ms\tremaining: 171ms\n",
      "142:\tlearn: 0.3445470\ttotal: 422ms\tremaining: 168ms\n",
      "143:\tlearn: 0.3436377\ttotal: 425ms\tremaining: 165ms\n",
      "144:\tlearn: 0.3426585\ttotal: 428ms\tremaining: 162ms\n",
      "145:\tlearn: 0.3417233\ttotal: 431ms\tremaining: 159ms\n",
      "146:\tlearn: 0.3407541\ttotal: 434ms\tremaining: 156ms\n",
      "147:\tlearn: 0.3397798\ttotal: 436ms\tremaining: 153ms\n",
      "148:\tlearn: 0.3390128\ttotal: 439ms\tremaining: 150ms\n",
      "149:\tlearn: 0.3381272\ttotal: 442ms\tremaining: 147ms\n",
      "150:\tlearn: 0.3374740\ttotal: 445ms\tremaining: 144ms\n",
      "151:\tlearn: 0.3365500\ttotal: 448ms\tremaining: 141ms\n",
      "152:\tlearn: 0.3358489\ttotal: 451ms\tremaining: 138ms\n",
      "153:\tlearn: 0.3346096\ttotal: 453ms\tremaining: 135ms\n",
      "154:\tlearn: 0.3335622\ttotal: 456ms\tremaining: 132ms\n",
      "155:\tlearn: 0.3330435\ttotal: 459ms\tremaining: 129ms\n",
      "156:\tlearn: 0.3323843\ttotal: 462ms\tremaining: 126ms\n",
      "157:\tlearn: 0.3312172\ttotal: 465ms\tremaining: 124ms\n",
      "158:\tlearn: 0.3299437\ttotal: 467ms\tremaining: 121ms\n",
      "159:\tlearn: 0.3286515\ttotal: 470ms\tremaining: 118ms\n",
      "160:\tlearn: 0.3275885\ttotal: 473ms\tremaining: 115ms\n",
      "161:\tlearn: 0.3266739\ttotal: 476ms\tremaining: 112ms\n",
      "162:\tlearn: 0.3258986\ttotal: 479ms\tremaining: 109ms\n",
      "163:\tlearn: 0.3249133\ttotal: 481ms\tremaining: 106ms\n",
      "164:\tlearn: 0.3241480\ttotal: 484ms\tremaining: 103ms\n",
      "165:\tlearn: 0.3237404\ttotal: 487ms\tremaining: 99.7ms\n",
      "166:\tlearn: 0.3228217\ttotal: 490ms\tremaining: 96.7ms\n",
      "167:\tlearn: 0.3218088\ttotal: 492ms\tremaining: 93.8ms\n",
      "168:\tlearn: 0.3209179\ttotal: 495ms\tremaining: 90.8ms\n",
      "169:\tlearn: 0.3200101\ttotal: 498ms\tremaining: 87.8ms\n",
      "170:\tlearn: 0.3188984\ttotal: 500ms\tremaining: 84.9ms\n",
      "171:\tlearn: 0.3178642\ttotal: 503ms\tremaining: 81.9ms\n",
      "172:\tlearn: 0.3172455\ttotal: 506ms\tremaining: 79ms\n",
      "173:\tlearn: 0.3166261\ttotal: 509ms\tremaining: 76ms\n",
      "174:\tlearn: 0.3157320\ttotal: 512ms\tremaining: 73.1ms\n",
      "175:\tlearn: 0.3149761\ttotal: 515ms\tremaining: 70.2ms\n",
      "176:\tlearn: 0.3142430\ttotal: 517ms\tremaining: 67.2ms\n",
      "177:\tlearn: 0.3138263\ttotal: 520ms\tremaining: 64.3ms\n",
      "178:\tlearn: 0.3133229\ttotal: 523ms\tremaining: 61.4ms\n",
      "179:\tlearn: 0.3124656\ttotal: 526ms\tremaining: 58.4ms\n",
      "180:\tlearn: 0.3114844\ttotal: 529ms\tremaining: 55.5ms\n",
      "181:\tlearn: 0.3109799\ttotal: 532ms\tremaining: 52.6ms\n",
      "182:\tlearn: 0.3105137\ttotal: 534ms\tremaining: 49.6ms\n",
      "183:\tlearn: 0.3094123\ttotal: 537ms\tremaining: 46.7ms\n",
      "184:\tlearn: 0.3087045\ttotal: 540ms\tremaining: 43.8ms\n",
      "185:\tlearn: 0.3079423\ttotal: 543ms\tremaining: 40.9ms\n",
      "186:\tlearn: 0.3071831\ttotal: 546ms\tremaining: 37.9ms\n",
      "187:\tlearn: 0.3061123\ttotal: 549ms\tremaining: 35ms\n",
      "188:\tlearn: 0.3054302\ttotal: 552ms\tremaining: 32.1ms\n"
     ]
    },
    {
     "name": "stdout",
     "output_type": "stream",
     "text": [
      "189:\tlearn: 0.3048047\ttotal: 555ms\tremaining: 29.2ms\n",
      "190:\tlearn: 0.3042241\ttotal: 558ms\tremaining: 26.3ms\n",
      "191:\tlearn: 0.3036602\ttotal: 561ms\tremaining: 23.4ms\n",
      "192:\tlearn: 0.3028507\ttotal: 564ms\tremaining: 20.4ms\n",
      "193:\tlearn: 0.3019733\ttotal: 567ms\tremaining: 17.5ms\n",
      "194:\tlearn: 0.3009586\ttotal: 570ms\tremaining: 14.6ms\n",
      "195:\tlearn: 0.3001835\ttotal: 573ms\tremaining: 11.7ms\n",
      "196:\tlearn: 0.2999266\ttotal: 575ms\tremaining: 8.75ms\n",
      "197:\tlearn: 0.2993811\ttotal: 577ms\tremaining: 5.83ms\n",
      "198:\tlearn: 0.2986293\ttotal: 580ms\tremaining: 2.92ms\n",
      "199:\tlearn: 0.2980044\ttotal: 583ms\tremaining: 0us\n"
     ]
    },
    {
     "data": {
      "text/plain": [
       "{'depth': 8, 'iterations': 200, 'learning_rate': 0.01}"
      ]
     },
     "execution_count": 94,
     "metadata": {},
     "output_type": "execute_result"
    }
   ],
   "source": [
    "catb = CatBoostClassifier()\n",
    "catb_cv_model = GridSearchCV(catb, catb_params, cv=5, n_jobs = -1, verbose = 2)\n",
    "catb_cv_model.fit(X_train, y_train)\n",
    "catb_cv_model.best_params_"
   ]
  },
  {
   "cell_type": "code",
   "execution_count": 95,
   "id": "f08b1b23",
   "metadata": {},
   "outputs": [
    {
     "data": {
      "text/plain": [
       "{'depth': 8, 'iterations': 200, 'learning_rate': 0.01}"
      ]
     },
     "execution_count": 95,
     "metadata": {},
     "output_type": "execute_result"
    }
   ],
   "source": [
    "catb_cv_model.best_params_"
   ]
  },
  {
   "cell_type": "code",
   "execution_count": 96,
   "id": "8bcd0911",
   "metadata": {
    "collapsed": true
   },
   "outputs": [
    {
     "name": "stdout",
     "output_type": "stream",
     "text": [
      "0:\tlearn: 0.6863312\ttotal: 9.56ms\tremaining: 1.9s\n",
      "1:\tlearn: 0.6811157\ttotal: 12.6ms\tremaining: 1.24s\n",
      "2:\tlearn: 0.6752970\ttotal: 15.5ms\tremaining: 1.02s\n",
      "3:\tlearn: 0.6697432\ttotal: 18.5ms\tremaining: 905ms\n",
      "4:\tlearn: 0.6641758\ttotal: 21.5ms\tremaining: 839ms\n",
      "5:\tlearn: 0.6576656\ttotal: 24.4ms\tremaining: 789ms\n",
      "6:\tlearn: 0.6521870\ttotal: 27.3ms\tremaining: 753ms\n",
      "7:\tlearn: 0.6465564\ttotal: 30.3ms\tremaining: 728ms\n",
      "8:\tlearn: 0.6407595\ttotal: 33.4ms\tremaining: 709ms\n",
      "9:\tlearn: 0.6357725\ttotal: 36.4ms\tremaining: 691ms\n",
      "10:\tlearn: 0.6299942\ttotal: 39.4ms\tremaining: 676ms\n",
      "11:\tlearn: 0.6240480\ttotal: 42.2ms\tremaining: 661ms\n",
      "12:\tlearn: 0.6196095\ttotal: 45.1ms\tremaining: 649ms\n",
      "13:\tlearn: 0.6148715\ttotal: 48ms\tremaining: 638ms\n",
      "14:\tlearn: 0.6092626\ttotal: 51ms\tremaining: 629ms\n",
      "15:\tlearn: 0.6046764\ttotal: 54ms\tremaining: 621ms\n",
      "16:\tlearn: 0.6012725\ttotal: 57ms\tremaining: 614ms\n",
      "17:\tlearn: 0.5958121\ttotal: 60.6ms\tremaining: 613ms\n",
      "18:\tlearn: 0.5903243\ttotal: 63.6ms\tremaining: 606ms\n",
      "19:\tlearn: 0.5866024\ttotal: 66.7ms\tremaining: 600ms\n",
      "20:\tlearn: 0.5831390\ttotal: 69.6ms\tremaining: 593ms\n",
      "21:\tlearn: 0.5787381\ttotal: 72.4ms\tremaining: 586ms\n",
      "22:\tlearn: 0.5749016\ttotal: 75.2ms\tremaining: 579ms\n",
      "23:\tlearn: 0.5703199\ttotal: 78ms\tremaining: 572ms\n",
      "24:\tlearn: 0.5662368\ttotal: 80.7ms\tremaining: 565ms\n",
      "25:\tlearn: 0.5628682\ttotal: 83.5ms\tremaining: 559ms\n",
      "26:\tlearn: 0.5589082\ttotal: 86.3ms\tremaining: 553ms\n",
      "27:\tlearn: 0.5543910\ttotal: 89ms\tremaining: 547ms\n",
      "28:\tlearn: 0.5503864\ttotal: 91.8ms\tremaining: 541ms\n",
      "29:\tlearn: 0.5470574\ttotal: 94.6ms\tremaining: 536ms\n",
      "30:\tlearn: 0.5441267\ttotal: 97.3ms\tremaining: 530ms\n",
      "31:\tlearn: 0.5396280\ttotal: 100ms\tremaining: 525ms\n",
      "32:\tlearn: 0.5356242\ttotal: 103ms\tremaining: 520ms\n",
      "33:\tlearn: 0.5315397\ttotal: 106ms\tremaining: 516ms\n",
      "34:\tlearn: 0.5279847\ttotal: 108ms\tremaining: 511ms\n",
      "35:\tlearn: 0.5248380\ttotal: 111ms\tremaining: 506ms\n",
      "36:\tlearn: 0.5223885\ttotal: 114ms\tremaining: 502ms\n",
      "37:\tlearn: 0.5198269\ttotal: 117ms\tremaining: 497ms\n",
      "38:\tlearn: 0.5167431\ttotal: 119ms\tremaining: 493ms\n",
      "39:\tlearn: 0.5138833\ttotal: 122ms\tremaining: 488ms\n",
      "40:\tlearn: 0.5101494\ttotal: 125ms\tremaining: 484ms\n",
      "41:\tlearn: 0.5066102\ttotal: 128ms\tremaining: 480ms\n",
      "42:\tlearn: 0.5033714\ttotal: 130ms\tremaining: 475ms\n",
      "43:\tlearn: 0.5005898\ttotal: 133ms\tremaining: 471ms\n",
      "44:\tlearn: 0.4980703\ttotal: 136ms\tremaining: 467ms\n",
      "45:\tlearn: 0.4959251\ttotal: 138ms\tremaining: 463ms\n",
      "46:\tlearn: 0.4933987\ttotal: 141ms\tremaining: 460ms\n",
      "47:\tlearn: 0.4906194\ttotal: 144ms\tremaining: 456ms\n",
      "48:\tlearn: 0.4878359\ttotal: 147ms\tremaining: 452ms\n",
      "49:\tlearn: 0.4850755\ttotal: 149ms\tremaining: 448ms\n",
      "50:\tlearn: 0.4825927\ttotal: 152ms\tremaining: 445ms\n",
      "51:\tlearn: 0.4798298\ttotal: 155ms\tremaining: 441ms\n",
      "52:\tlearn: 0.4776108\ttotal: 158ms\tremaining: 437ms\n",
      "53:\tlearn: 0.4754405\ttotal: 160ms\tremaining: 434ms\n",
      "54:\tlearn: 0.4733501\ttotal: 163ms\tremaining: 430ms\n",
      "55:\tlearn: 0.4706076\ttotal: 166ms\tremaining: 427ms\n",
      "56:\tlearn: 0.4677355\ttotal: 169ms\tremaining: 423ms\n",
      "57:\tlearn: 0.4656740\ttotal: 172ms\tremaining: 420ms\n",
      "58:\tlearn: 0.4637413\ttotal: 174ms\tremaining: 416ms\n",
      "59:\tlearn: 0.4615248\ttotal: 177ms\tremaining: 413ms\n",
      "60:\tlearn: 0.4599759\ttotal: 180ms\tremaining: 409ms\n",
      "61:\tlearn: 0.4583985\ttotal: 181ms\tremaining: 402ms\n",
      "62:\tlearn: 0.4567064\ttotal: 184ms\tremaining: 399ms\n",
      "63:\tlearn: 0.4540942\ttotal: 187ms\tremaining: 396ms\n",
      "64:\tlearn: 0.4529822\ttotal: 187ms\tremaining: 389ms\n",
      "65:\tlearn: 0.4512090\ttotal: 190ms\tremaining: 387ms\n",
      "66:\tlearn: 0.4486739\ttotal: 193ms\tremaining: 383ms\n",
      "67:\tlearn: 0.4467865\ttotal: 196ms\tremaining: 380ms\n",
      "68:\tlearn: 0.4449614\ttotal: 199ms\tremaining: 378ms\n",
      "69:\tlearn: 0.4426120\ttotal: 202ms\tremaining: 375ms\n",
      "70:\tlearn: 0.4401612\ttotal: 205ms\tremaining: 372ms\n",
      "71:\tlearn: 0.4380696\ttotal: 208ms\tremaining: 370ms\n",
      "72:\tlearn: 0.4367153\ttotal: 211ms\tremaining: 368ms\n",
      "73:\tlearn: 0.4353223\ttotal: 224ms\tremaining: 381ms\n",
      "74:\tlearn: 0.4339943\ttotal: 227ms\tremaining: 379ms\n",
      "75:\tlearn: 0.4315641\ttotal: 231ms\tremaining: 376ms\n",
      "76:\tlearn: 0.4298680\ttotal: 235ms\tremaining: 375ms\n",
      "77:\tlearn: 0.4285275\ttotal: 238ms\tremaining: 373ms\n",
      "78:\tlearn: 0.4265791\ttotal: 242ms\tremaining: 370ms\n",
      "79:\tlearn: 0.4244024\ttotal: 244ms\tremaining: 366ms\n",
      "80:\tlearn: 0.4228361\ttotal: 247ms\tremaining: 363ms\n",
      "81:\tlearn: 0.4214212\ttotal: 250ms\tremaining: 360ms\n",
      "82:\tlearn: 0.4200602\ttotal: 253ms\tremaining: 356ms\n",
      "83:\tlearn: 0.4184320\ttotal: 256ms\tremaining: 353ms\n",
      "84:\tlearn: 0.4167986\ttotal: 258ms\tremaining: 350ms\n",
      "85:\tlearn: 0.4156404\ttotal: 261ms\tremaining: 346ms\n",
      "86:\tlearn: 0.4140656\ttotal: 264ms\tremaining: 343ms\n",
      "87:\tlearn: 0.4124223\ttotal: 267ms\tremaining: 339ms\n",
      "88:\tlearn: 0.4107329\ttotal: 269ms\tremaining: 336ms\n",
      "89:\tlearn: 0.4090922\ttotal: 272ms\tremaining: 332ms\n",
      "90:\tlearn: 0.4075416\ttotal: 275ms\tremaining: 329ms\n",
      "91:\tlearn: 0.4062399\ttotal: 278ms\tremaining: 326ms\n",
      "92:\tlearn: 0.4044658\ttotal: 280ms\tremaining: 322ms\n",
      "93:\tlearn: 0.4030179\ttotal: 283ms\tremaining: 319ms\n",
      "94:\tlearn: 0.4012034\ttotal: 286ms\tremaining: 316ms\n",
      "95:\tlearn: 0.3994677\ttotal: 289ms\tremaining: 313ms\n",
      "96:\tlearn: 0.3983236\ttotal: 291ms\tremaining: 309ms\n",
      "97:\tlearn: 0.3969830\ttotal: 294ms\tremaining: 306ms\n",
      "98:\tlearn: 0.3955620\ttotal: 297ms\tremaining: 303ms\n",
      "99:\tlearn: 0.3946122\ttotal: 300ms\tremaining: 300ms\n",
      "100:\tlearn: 0.3932345\ttotal: 302ms\tremaining: 296ms\n",
      "101:\tlearn: 0.3920746\ttotal: 305ms\tremaining: 293ms\n",
      "102:\tlearn: 0.3911707\ttotal: 308ms\tremaining: 290ms\n",
      "103:\tlearn: 0.3895752\ttotal: 311ms\tremaining: 287ms\n",
      "104:\tlearn: 0.3880976\ttotal: 313ms\tremaining: 283ms\n",
      "105:\tlearn: 0.3867508\ttotal: 316ms\tremaining: 280ms\n",
      "106:\tlearn: 0.3855281\ttotal: 319ms\tremaining: 277ms\n",
      "107:\tlearn: 0.3841015\ttotal: 322ms\tremaining: 274ms\n",
      "108:\tlearn: 0.3829276\ttotal: 324ms\tremaining: 271ms\n",
      "109:\tlearn: 0.3818795\ttotal: 327ms\tremaining: 268ms\n",
      "110:\tlearn: 0.3809667\ttotal: 330ms\tremaining: 264ms\n",
      "111:\tlearn: 0.3790017\ttotal: 332ms\tremaining: 261ms\n",
      "112:\tlearn: 0.3774333\ttotal: 335ms\tremaining: 258ms\n",
      "113:\tlearn: 0.3762372\ttotal: 338ms\tremaining: 255ms\n",
      "114:\tlearn: 0.3750418\ttotal: 341ms\tremaining: 252ms\n",
      "115:\tlearn: 0.3735203\ttotal: 343ms\tremaining: 249ms\n",
      "116:\tlearn: 0.3727671\ttotal: 346ms\tremaining: 245ms\n",
      "117:\tlearn: 0.3713847\ttotal: 349ms\tremaining: 242ms\n",
      "118:\tlearn: 0.3705588\ttotal: 352ms\tremaining: 239ms\n",
      "119:\tlearn: 0.3694386\ttotal: 354ms\tremaining: 236ms\n",
      "120:\tlearn: 0.3687438\ttotal: 357ms\tremaining: 233ms\n",
      "121:\tlearn: 0.3679429\ttotal: 360ms\tremaining: 230ms\n",
      "122:\tlearn: 0.3666192\ttotal: 362ms\tremaining: 227ms\n",
      "123:\tlearn: 0.3654787\ttotal: 365ms\tremaining: 224ms\n",
      "124:\tlearn: 0.3643185\ttotal: 368ms\tremaining: 221ms\n",
      "125:\tlearn: 0.3636195\ttotal: 371ms\tremaining: 218ms\n",
      "126:\tlearn: 0.3625184\ttotal: 374ms\tremaining: 215ms\n",
      "127:\tlearn: 0.3609778\ttotal: 376ms\tremaining: 212ms\n",
      "128:\tlearn: 0.3595979\ttotal: 379ms\tremaining: 209ms\n",
      "129:\tlearn: 0.3583702\ttotal: 382ms\tremaining: 206ms\n",
      "130:\tlearn: 0.3569225\ttotal: 385ms\tremaining: 203ms\n",
      "131:\tlearn: 0.3558535\ttotal: 388ms\tremaining: 200ms\n",
      "132:\tlearn: 0.3548312\ttotal: 391ms\tremaining: 197ms\n",
      "133:\tlearn: 0.3533459\ttotal: 394ms\tremaining: 194ms\n",
      "134:\tlearn: 0.3524239\ttotal: 397ms\tremaining: 191ms\n",
      "135:\tlearn: 0.3517958\ttotal: 400ms\tremaining: 188ms\n",
      "136:\tlearn: 0.3504984\ttotal: 403ms\tremaining: 185ms\n",
      "137:\tlearn: 0.3497339\ttotal: 407ms\tremaining: 183ms\n",
      "138:\tlearn: 0.3488643\ttotal: 409ms\tremaining: 180ms\n",
      "139:\tlearn: 0.3482265\ttotal: 413ms\tremaining: 177ms\n",
      "140:\tlearn: 0.3470774\ttotal: 415ms\tremaining: 174ms\n",
      "141:\tlearn: 0.3458237\ttotal: 419ms\tremaining: 171ms\n",
      "142:\tlearn: 0.3445470\ttotal: 422ms\tremaining: 168ms\n",
      "143:\tlearn: 0.3436377\ttotal: 425ms\tremaining: 165ms\n",
      "144:\tlearn: 0.3426585\ttotal: 428ms\tremaining: 162ms\n",
      "145:\tlearn: 0.3417233\ttotal: 431ms\tremaining: 159ms\n",
      "146:\tlearn: 0.3407541\ttotal: 433ms\tremaining: 156ms\n",
      "147:\tlearn: 0.3397798\ttotal: 436ms\tremaining: 153ms\n",
      "148:\tlearn: 0.3390128\ttotal: 439ms\tremaining: 150ms\n",
      "149:\tlearn: 0.3381272\ttotal: 442ms\tremaining: 147ms\n",
      "150:\tlearn: 0.3374740\ttotal: 445ms\tremaining: 144ms\n",
      "151:\tlearn: 0.3365500\ttotal: 447ms\tremaining: 141ms\n",
      "152:\tlearn: 0.3358489\ttotal: 450ms\tremaining: 138ms\n",
      "153:\tlearn: 0.3346096\ttotal: 453ms\tremaining: 135ms\n",
      "154:\tlearn: 0.3335622\ttotal: 456ms\tremaining: 132ms\n",
      "155:\tlearn: 0.3330435\ttotal: 458ms\tremaining: 129ms\n",
      "156:\tlearn: 0.3323843\ttotal: 461ms\tremaining: 126ms\n",
      "157:\tlearn: 0.3312172\ttotal: 464ms\tremaining: 123ms\n",
      "158:\tlearn: 0.3299437\ttotal: 467ms\tremaining: 120ms\n",
      "159:\tlearn: 0.3286515\ttotal: 469ms\tremaining: 117ms\n",
      "160:\tlearn: 0.3275885\ttotal: 472ms\tremaining: 114ms\n",
      "161:\tlearn: 0.3266739\ttotal: 475ms\tremaining: 111ms\n",
      "162:\tlearn: 0.3258986\ttotal: 477ms\tremaining: 108ms\n",
      "163:\tlearn: 0.3249133\ttotal: 480ms\tremaining: 105ms\n",
      "164:\tlearn: 0.3241480\ttotal: 483ms\tremaining: 102ms\n",
      "165:\tlearn: 0.3237404\ttotal: 486ms\tremaining: 99.5ms\n",
      "166:\tlearn: 0.3228217\ttotal: 488ms\tremaining: 96.5ms\n",
      "167:\tlearn: 0.3218088\ttotal: 491ms\tremaining: 93.5ms\n",
      "168:\tlearn: 0.3209179\ttotal: 494ms\tremaining: 90.6ms\n",
      "169:\tlearn: 0.3200101\ttotal: 497ms\tremaining: 87.6ms\n",
      "170:\tlearn: 0.3188984\ttotal: 499ms\tremaining: 84.7ms\n",
      "171:\tlearn: 0.3178642\ttotal: 502ms\tremaining: 81.7ms\n",
      "172:\tlearn: 0.3172455\ttotal: 505ms\tremaining: 78.8ms\n",
      "173:\tlearn: 0.3166261\ttotal: 507ms\tremaining: 75.8ms\n",
      "174:\tlearn: 0.3157320\ttotal: 510ms\tremaining: 72.9ms\n",
      "175:\tlearn: 0.3149761\ttotal: 513ms\tremaining: 69.9ms\n",
      "176:\tlearn: 0.3142430\ttotal: 516ms\tremaining: 67ms\n",
      "177:\tlearn: 0.3138263\ttotal: 518ms\tremaining: 64.1ms\n",
      "178:\tlearn: 0.3133229\ttotal: 521ms\tremaining: 61.1ms\n",
      "179:\tlearn: 0.3124656\ttotal: 524ms\tremaining: 58.2ms\n",
      "180:\tlearn: 0.3114844\ttotal: 527ms\tremaining: 55.3ms\n",
      "181:\tlearn: 0.3109799\ttotal: 529ms\tremaining: 52.3ms\n",
      "182:\tlearn: 0.3105137\ttotal: 532ms\tremaining: 49.4ms\n",
      "183:\tlearn: 0.3094123\ttotal: 535ms\tremaining: 46.5ms\n",
      "184:\tlearn: 0.3087045\ttotal: 538ms\tremaining: 43.6ms\n",
      "185:\tlearn: 0.3079423\ttotal: 540ms\tremaining: 40.7ms\n",
      "186:\tlearn: 0.3071831\ttotal: 543ms\tremaining: 37.8ms\n",
      "187:\tlearn: 0.3061123\ttotal: 546ms\tremaining: 34.8ms\n",
      "188:\tlearn: 0.3054302\ttotal: 549ms\tremaining: 31.9ms\n",
      "189:\tlearn: 0.3048047\ttotal: 551ms\tremaining: 29ms\n",
      "190:\tlearn: 0.3042241\ttotal: 554ms\tremaining: 26.1ms\n",
      "191:\tlearn: 0.3036602\ttotal: 557ms\tremaining: 23.2ms\n",
      "192:\tlearn: 0.3028507\ttotal: 559ms\tremaining: 20.3ms\n"
     ]
    },
    {
     "name": "stdout",
     "output_type": "stream",
     "text": [
      "193:\tlearn: 0.3019733\ttotal: 563ms\tremaining: 17.4ms\n",
      "194:\tlearn: 0.3009586\ttotal: 566ms\tremaining: 14.5ms\n",
      "195:\tlearn: 0.3001835\ttotal: 568ms\tremaining: 11.6ms\n",
      "196:\tlearn: 0.2999266\ttotal: 570ms\tremaining: 8.68ms\n",
      "197:\tlearn: 0.2993811\ttotal: 573ms\tremaining: 5.79ms\n",
      "198:\tlearn: 0.2986293\ttotal: 576ms\tremaining: 2.9ms\n",
      "199:\tlearn: 0.2980044\ttotal: 580ms\tremaining: 0us\n"
     ]
    }
   ],
   "source": [
    "catb = CatBoostClassifier(iterations = 200, \n",
    "                          learning_rate = 0.01, \n",
    "                          depth = 8)\n",
    "\n",
    "catb_tuned = catb.fit(X_train, y_train)\n",
    "y_pred = catb_tuned.predict(X_test)"
   ]
  },
  {
   "cell_type": "code",
   "execution_count": 97,
   "id": "1276b98c",
   "metadata": {},
   "outputs": [
    {
     "data": {
      "text/plain": [
       "0.7532467532467533"
      ]
     },
     "execution_count": 97,
     "metadata": {},
     "output_type": "execute_result"
    }
   ],
   "source": [
    "y_pred = catb_tuned.predict(X_test)\n",
    "accuracy_score(y_test, y_pred)"
   ]
  },
  {
   "cell_type": "markdown",
   "id": "97c44da5",
   "metadata": {},
   "source": [
    "### 3.13. Tüm Modellerin Karşılaştırılması"
   ]
  },
  {
   "cell_type": "code",
   "execution_count": 134,
   "id": "1920af2a",
   "metadata": {},
   "outputs": [
    {
     "name": "stdout",
     "output_type": "stream",
     "text": [
      "------------------------------\n",
      "KNeighborsClassifier:\n",
      "Accuracy: 73.1602%\n",
      "------------------------------\n",
      "LogisticRegression:\n",
      "Accuracy: 76.6234%\n",
      "------------------------------\n",
      "SVC:\n",
      "Accuracy: 74.4589%\n",
      "------------------------------\n",
      "GaussianNB:\n",
      "Accuracy: 74.4589%\n",
      "------------------------------\n",
      "MLPClassifier:\n",
      "Accuracy: 73.1602%\n",
      "------------------------------\n",
      "DecisionTreeClassifier:\n",
      "Accuracy: 75.3247%\n",
      "------------------------------\n",
      "RandomForestClassifier:\n",
      "Accuracy: 73.5931%\n",
      "------------------------------\n",
      "GradientBoostingClassifier:\n",
      "Accuracy: 71.8615%\n",
      "------------------------------\n",
      "CatBoostClassifier:\n",
      "Accuracy: 75.3247%\n",
      "------------------------------\n",
      "LGBMClassifier:\n",
      "Accuracy: 74.8918%\n",
      "------------------------------\n",
      "XGBClassifier:\n",
      "Accuracy: 75.7576%\n"
     ]
    }
   ],
   "source": [
    "modeller = [\n",
    "    knn_tuned,\n",
    "    loj_model,\n",
    "    svc_tuned,\n",
    "    nb_model,\n",
    "    mlpc_tuned,\n",
    "    cart_tuned,\n",
    "    rf_tuned,\n",
    "    gbm_tuned,\n",
    "    catb_tuned,\n",
    "    lgbm_tuned,\n",
    "    xgb_tuned\n",
    "    \n",
    "]\n",
    "\n",
    "\n",
    "for model in modeller:\n",
    "    if(model!=mlpc_tuned):\n",
    "        y_pred = model.predict(X_test)\n",
    "    else:\n",
    "        y_pred = model.predict(X_test_scaled)\n",
    "        \n",
    "    dogruluk = accuracy_score(y_test, y_pred)\n",
    "    isimler = model.__class__.__name__\n",
    "    print(\"-\"*30)\n",
    "    print(isimler + \":\" )\n",
    "    print(\"Accuracy: {:.4%}\".format(dogruluk))"
   ]
  },
  {
   "cell_type": "markdown",
   "id": "75193eb7",
   "metadata": {},
   "source": [
    "**Not:** Yapay sinir ağlarında X setlerini scale ettiğimizden onu ayirdik"
   ]
  },
  {
   "cell_type": "code",
   "execution_count": 136,
   "id": "d76cd9fc",
   "metadata": {},
   "outputs": [
    {
     "data": {
      "image/png": "[encoded data removed]",
      "text/plain": [
       "<Figure size 432x288 with 1 Axes>"
      ]
     },
     "metadata": {
      "needs_background": "light"
     },
     "output_type": "display_data"
    }
   ],
   "source": [
    "sonuc = []\n",
    "\n",
    "sonuclar = pd.DataFrame(columns= [\"Modeller\",\"Accuracy\"])\n",
    "\n",
    "for model in modeller:\n",
    "    \n",
    "    if(model!=mlpc_tuned):\n",
    "        y_pred = model.predict(X_test)\n",
    "    else:\n",
    "        y_pred = model.predict(X_test_scaled)\n",
    "\n",
    "    dogruluk = accuracy_score(y_test, y_pred)    \n",
    "    isimler = model.__class__.__name__\n",
    "    sonuc = pd.DataFrame([[isimler, dogruluk*100]], columns= [\"Modeller\",\"Accuracy\"])\n",
    "    sonuclar = sonuclar.append(sonuc)\n",
    "    \n",
    "    \n",
    "sns.barplot(x= 'Accuracy', y = 'Modeller', data=sonuclar, color=\"r\")\n",
    "plt.xlabel('Accuracy %')\n",
    "plt.title('Modellerin Doğruluk Oranları');    "
   ]
  },
  {
   "cell_type": "markdown",
   "id": "bbb6fde2",
   "metadata": {},
   "source": [
    "### 3.14. Modellerin Kaydedilmesi ve Tekrar Kullanılması"
   ]
  },
  {
   "cell_type": "markdown",
   "id": "db3309f5",
   "metadata": {},
   "source": [
    "**Verisetinin alınması ve modelin kurulması**"
   ]
  },
  {
   "cell_type": "code",
   "execution_count": 137,
   "id": "49bff7fd",
   "metadata": {},
   "outputs": [
    {
     "data": {
      "text/plain": [
       "LogisticRegression()"
      ]
     },
     "execution_count": 137,
     "metadata": {},
     "output_type": "execute_result"
    }
   ],
   "source": [
    "# Save Model Using Pickle\n",
    "import pandas\n",
    "from sklearn import model_selection\n",
    "from sklearn.linear_model import LogisticRegression\n",
    "import pickle\n",
    "#uzak sunucudan datanin cekilmesi\n",
    "url = \"https://raw.githubusercontent.com/jbrownlee/Datasets/master/pima-indians-diabetes.data.csv\"\n",
    "names = ['preg', 'plas', 'pres', 'skin', 'test', 'mass', 'pedi', 'age', 'class']\n",
    "dataframe = pandas.read_csv(url, names=names)\n",
    "array = dataframe.values\n",
    "X = array[:,0:8]\n",
    "Y = array[:,8]\n",
    "test_size = 0.33\n",
    "seed = 7\n",
    "X_train, X_test, Y_train, Y_test = model_selection.train_test_split(X, Y, test_size=test_size, random_state=seed)\n",
    "# Fit the model on training set\n",
    "model = LogisticRegression()\n",
    "model.fit(X_train, Y_train)\n"
   ]
  },
  {
   "cell_type": "markdown",
   "id": "5a43b754",
   "metadata": {},
   "source": [
    "**Modelin Kaydedilmesi**"
   ]
  },
  {
   "cell_type": "code",
   "execution_count": 138,
   "id": "d0e5d49a",
   "metadata": {},
   "outputs": [],
   "source": [
    "# save the model to disk\n",
    "filename = 'data/finalized_model.sav'\n",
    "pickle.dump(model, open(filename, 'wb'))"
   ]
  },
  {
   "cell_type": "markdown",
   "id": "d835a0e8",
   "metadata": {},
   "source": [
    "**A Few Moments Later...**"
   ]
  },
  {
   "cell_type": "markdown",
   "id": "035833e3",
   "metadata": {},
   "source": [
    "**Modelin Tekrar Kullanılması**"
   ]
  },
  {
   "cell_type": "code",
   "execution_count": 139,
   "id": "453e0f7d",
   "metadata": {},
   "outputs": [
    {
     "name": "stdout",
     "output_type": "stream",
     "text": [
      "0.7874015748031497\n"
     ]
    }
   ],
   "source": [
    "# load the model from disk\n",
    "loaded_model = pickle.load(open(filename, 'rb'))\n",
    "result = loaded_model.score(X_test, Y_test)\n",
    "print(result)"
   ]
  },
  {
   "cell_type": "code",
   "execution_count": null,
   "id": "1562d916",
   "metadata": {},
   "outputs": [],
   "source": []
  }
 ],
 "metadata": {
  "kernelspec": {
   "display_name": "Python 3",
   "language": "python",
   "name": "python3"
  },
  "language_info": {
   "codemirror_mode": {
    "name": "ipython",
    "version": 3
   },
   "file_extension": ".py",
   "mimetype": "text/x-python",
   "name": "python",
   "nbconvert_exporter": "python",
   "pygments_lexer": "ipython3",
   "version": "3.8.8"
  }
 },
 "nbformat": 4,
 "nbformat_minor": 5
}
