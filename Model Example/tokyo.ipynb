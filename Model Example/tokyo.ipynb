{
 "cells": [
  {
   "cell_type": "code",
   "execution_count": 4,
   "id": "58fe1c1c",
   "metadata": {},
   "outputs": [
    {
     "name": "stdout",
     "output_type": "stream",
     "text": [
      "Requirement already satisfied: skompiler in c:\\users\\memet\\anaconda3\\lib\\site-packages (0.6)\n",
      "Requirement already satisfied: scikit-learn>=0.22 in c:\\users\\memet\\anaconda3\\lib\\site-packages (from skompiler) (0.24.1)\n",
      "Requirement already satisfied: joblib>=0.11 in c:\\users\\memet\\anaconda3\\lib\\site-packages (from scikit-learn>=0.22->skompiler) (1.0.1)\n",
      "Requirement already satisfied: numpy>=1.13.3 in c:\\users\\memet\\anaconda3\\lib\\site-packages (from scikit-learn>=0.22->skompiler) (1.20.1)\n",
      "Requirement already satisfied: scipy>=0.19.1 in c:\\users\\memet\\anaconda3\\lib\\site-packages (from scikit-learn>=0.22->skompiler) (1.6.2)\n",
      "Requirement already satisfied: threadpoolctl>=2.0.0 in c:\\users\\memet\\anaconda3\\lib\\site-packages (from scikit-learn>=0.22->skompiler) (2.1.0)\n",
      "Requirement already satisfied: astor in c:\\users\\memet\\anaconda3\\lib\\site-packages (0.8.1)\n",
      "Requirement already satisfied: xgboost in c:\\users\\memet\\anaconda3\\lib\\site-packages (1.6.1)\n",
      "Requirement already satisfied: numpy in c:\\users\\memet\\anaconda3\\lib\\site-packages (from xgboost) (1.20.1)\n",
      "Requirement already satisfied: scipy in c:\\users\\memet\\anaconda3\\lib\\site-packages (from xgboost) (1.6.2)\n",
      "Requirement already satisfied: catboost in c:\\users\\memet\\anaconda3\\lib\\site-packages (1.0.6)\n",
      "Requirement already satisfied: matplotlib in c:\\users\\memet\\anaconda3\\lib\\site-packages (from catboost) (3.3.4)\n",
      "Requirement already satisfied: numpy>=1.16.0 in c:\\users\\memet\\anaconda3\\lib\\site-packages (from catboost) (1.20.1)\n",
      "Requirement already satisfied: graphviz in c:\\users\\memet\\anaconda3\\lib\\site-packages (from catboost) (0.20)\n",
      "Requirement already satisfied: pandas>=0.24.0 in c:\\users\\memet\\anaconda3\\lib\\site-packages (from catboost) (1.2.4)\n",
      "Requirement already satisfied: plotly in c:\\users\\memet\\anaconda3\\lib\\site-packages (from catboost) (5.8.0)\n",
      "Requirement already satisfied: scipy in c:\\users\\memet\\anaconda3\\lib\\site-packages (from catboost) (1.6.2)\n",
      "Requirement already satisfied: six in c:\\users\\memet\\anaconda3\\lib\\site-packages (from catboost) (1.15.0)\n",
      "Requirement already satisfied: pytz>=2017.3 in c:\\users\\memet\\anaconda3\\lib\\site-packages (from pandas>=0.24.0->catboost) (2021.1)\n",
      "Requirement already satisfied: python-dateutil>=2.7.3 in c:\\users\\memet\\anaconda3\\lib\\site-packages (from pandas>=0.24.0->catboost) (2.8.1)\n",
      "Requirement already satisfied: pyparsing!=2.0.4,!=2.1.2,!=2.1.6,>=2.0.3 in c:\\users\\memet\\anaconda3\\lib\\site-packages (from matplotlib->catboost) (2.4.7)\n",
      "Requirement already satisfied: kiwisolver>=1.0.1 in c:\\users\\memet\\anaconda3\\lib\\site-packages (from matplotlib->catboost) (1.3.1)\n",
      "Requirement already satisfied: cycler>=0.10 in c:\\users\\memet\\anaconda3\\lib\\site-packages (from matplotlib->catboost) (0.10.0)\n",
      "Requirement already satisfied: pillow>=6.2.0 in c:\\users\\memet\\anaconda3\\lib\\site-packages (from matplotlib->catboost) (8.2.0)\n",
      "Requirement already satisfied: tenacity>=6.2.0 in c:\\users\\memet\\anaconda3\\lib\\site-packages (from plotly->catboost) (8.0.1)\n",
      "Requirement already satisfied: lightgbm in c:\\users\\memet\\anaconda3\\lib\\site-packages (3.3.2)\n",
      "Requirement already satisfied: scipy in c:\\users\\memet\\anaconda3\\lib\\site-packages (from lightgbm) (1.6.2)\n",
      "Requirement already satisfied: wheel in c:\\users\\memet\\anaconda3\\lib\\site-packages (from lightgbm) (0.36.2)\n",
      "Requirement already satisfied: numpy in c:\\users\\memet\\anaconda3\\lib\\site-packages (from lightgbm) (1.20.1)\n",
      "Requirement already satisfied: scikit-learn!=0.22.0 in c:\\users\\memet\\anaconda3\\lib\\site-packages (from lightgbm) (0.24.1)\n",
      "Requirement already satisfied: joblib>=0.11 in c:\\users\\memet\\anaconda3\\lib\\site-packages (from scikit-learn!=0.22.0->lightgbm) (1.0.1)\n",
      "Requirement already satisfied: threadpoolctl>=2.0.0 in c:\\users\\memet\\anaconda3\\lib\\site-packages (from scikit-learn!=0.22.0->lightgbm) (2.1.0)\n",
      "Requirement already satisfied: researchpy in c:\\users\\memet\\anaconda3\\lib\\site-packages (0.3.2)\n",
      "Requirement already satisfied: patsy in c:\\users\\memet\\anaconda3\\lib\\site-packages (from researchpy) (0.5.1)\n",
      "Requirement already satisfied: statsmodels in c:\\users\\memet\\anaconda3\\lib\\site-packages (from researchpy) (0.12.2)\n",
      "Requirement already satisfied: pandas in c:\\users\\memet\\anaconda3\\lib\\site-packages (from researchpy) (1.2.4)\n",
      "Requirement already satisfied: numpy in c:\\users\\memet\\anaconda3\\lib\\site-packages (from researchpy) (1.20.1)\n",
      "Requirement already satisfied: scipy in c:\\users\\memet\\anaconda3\\lib\\site-packages (from researchpy) (1.6.2)\n",
      "Requirement already satisfied: python-dateutil>=2.7.3 in c:\\users\\memet\\anaconda3\\lib\\site-packages (from pandas->researchpy) (2.8.1)\n",
      "Requirement already satisfied: pytz>=2017.3 in c:\\users\\memet\\anaconda3\\lib\\site-packages (from pandas->researchpy) (2021.1)\n",
      "Requirement already satisfied: six>=1.5 in c:\\users\\memet\\anaconda3\\lib\\site-packages (from python-dateutil>=2.7.3->pandas->researchpy) (1.15.0)\n"
     ]
    }
   ],
   "source": [
    "!pip install skompiler\n",
    "!pip install astor\n",
    "!pip install xgboost\n",
    "!pip install catboost\n",
    "!pip install lightgbm\n",
    "!pip install researchpy"
   ]
  },
  {
   "cell_type": "code",
   "execution_count": 5,
   "id": "b832e4d7",
   "metadata": {},
   "outputs": [],
   "source": [
    "import numpy as np\n",
    "import pandas as pd \n",
    "from sklearn.model_selection import train_test_split, GridSearchCV,cross_val_score\n",
    "from sklearn.metrics import mean_squared_error, r2_score\n",
    "from sklearn.svm import SVR\n",
    "from sklearn.linear_model import LinearRegression\n",
    "import matplotlib.pyplot as plt\n",
    "from sklearn.preprocessing import scale \n",
    "from sklearn import model_selection\n",
    "from sklearn.tree import DecisionTreeRegressor, DecisionTreeClassifier\n",
    "from sklearn.neighbors import KNeighborsRegressor\n",
    "from sklearn.ensemble import BaggingRegressor\n",
    "from sklearn.neural_network import MLPRegressor\n",
    "from sklearn.ensemble import RandomForestRegressor\n",
    "from sklearn.ensemble import GradientBoostingRegressor\n",
    "from sklearn.svm import LinearSVR\n",
    "from sklearn.preprocessing import StandardScaler\n",
    "from skompiler import skompile\n",
    "import xgboost as xgb\n",
    "from xgboost import XGBRegressor\n",
    "from catboost import CatBoostRegressor\n",
    "from lightgbm import LGBMRegressor\n",
    "from lightgbm import LGBMRegressor\n",
    "from warnings import filterwarnings\n",
    "filterwarnings('ignore')\n",
    "from datetime import datetime\n",
    "import researchpy as rp\n",
    "import seaborn as sns\n",
    "from sklearn.neighbors import LocalOutlierFactor"
   ]
  },
  {
   "cell_type": "markdown",
   "id": "b515a3c7",
   "metadata": {},
   "source": [
    "# TOKYO OLİMPİYATLARI 2020"
   ]
  },
  {
   "cell_type": "markdown",
   "id": "c95f2ff8",
   "metadata": {},
   "source": [
    "Tokyo Olimpiyatları 2020 veri setinde makine öğrenmesini yapma amacım cinsiyet yaş verilerine göre madalya kazanma tahminini yaptırmaktır."
   ]
  },
  {
   "cell_type": "markdown",
   "id": "222579a3",
   "metadata": {},
   "source": [
    "## 1. VERİYE İLK BAKIŞ"
   ]
  },
  {
   "cell_type": "code",
   "execution_count": 6,
   "id": "af29098a",
   "metadata": {},
   "outputs": [
    {
     "data": {
      "text/plain": [
       "(275643, 10)"
      ]
     },
     "execution_count": 6,
     "metadata": {},
     "output_type": "execute_result"
    }
   ],
   "source": [
    "ad = pd.read_csv(\"tokyo.csv\")\n",
    "df = ad.copy()\n",
    "df.shape"
   ]
  },
  {
   "cell_type": "markdown",
   "id": "cab16337",
   "metadata": {},
   "source": [
    "Tokyo Olimpiyatları 2020 veri setini okuttuk ve boyut bilgisini elde ettik."
   ]
  },
  {
   "cell_type": "code",
   "execution_count": 7,
   "id": "eb58e41b",
   "metadata": {
    "scrolled": true
   },
   "outputs": [
    {
     "data": {
      "text/html": [
       "<div>\n",
       "<style scoped>\n",
       "    .dataframe tbody tr th:only-of-type {\n",
       "        vertical-align: middle;\n",
       "    }\n",
       "\n",
       "    .dataframe tbody tr th {\n",
       "        vertical-align: top;\n",
       "    }\n",
       "\n",
       "    .dataframe thead th {\n",
       "        text-align: right;\n",
       "    }\n",
       "</style>\n",
       "<table border=\"1\" class=\"dataframe\">\n",
       "  <thead>\n",
       "    <tr style=\"text-align: right;\">\n",
       "      <th></th>\n",
       "      <th>Unnamed: 0</th>\n",
       "      <th>Name</th>\n",
       "      <th>Sex</th>\n",
       "      <th>Age</th>\n",
       "      <th>Team</th>\n",
       "      <th>Games</th>\n",
       "      <th>Year</th>\n",
       "      <th>Season</th>\n",
       "      <th>Sport</th>\n",
       "      <th>Medal</th>\n",
       "    </tr>\n",
       "  </thead>\n",
       "  <tbody>\n",
       "    <tr>\n",
       "      <th>0</th>\n",
       "      <td>0</td>\n",
       "      <td>A Dijiang</td>\n",
       "      <td>M</td>\n",
       "      <td>24.0</td>\n",
       "      <td>China</td>\n",
       "      <td>1992 Summer</td>\n",
       "      <td>1992</td>\n",
       "      <td>Summer</td>\n",
       "      <td>Basketball</td>\n",
       "      <td>0</td>\n",
       "    </tr>\n",
       "    <tr>\n",
       "      <th>1</th>\n",
       "      <td>1</td>\n",
       "      <td>A Lamusi</td>\n",
       "      <td>M</td>\n",
       "      <td>23.0</td>\n",
       "      <td>China</td>\n",
       "      <td>2012 Summer</td>\n",
       "      <td>2012</td>\n",
       "      <td>Summer</td>\n",
       "      <td>Judo</td>\n",
       "      <td>0</td>\n",
       "    </tr>\n",
       "    <tr>\n",
       "      <th>2</th>\n",
       "      <td>2</td>\n",
       "      <td>Gunnar Nielsen Aaby</td>\n",
       "      <td>M</td>\n",
       "      <td>24.0</td>\n",
       "      <td>Denmark</td>\n",
       "      <td>1920 Summer</td>\n",
       "      <td>1920</td>\n",
       "      <td>Summer</td>\n",
       "      <td>Football</td>\n",
       "      <td>0</td>\n",
       "    </tr>\n",
       "    <tr>\n",
       "      <th>3</th>\n",
       "      <td>3</td>\n",
       "      <td>Edgar Lindenau Aabye</td>\n",
       "      <td>M</td>\n",
       "      <td>34.0</td>\n",
       "      <td>Denmark/Sweden</td>\n",
       "      <td>1900 Summer</td>\n",
       "      <td>1900</td>\n",
       "      <td>Summer</td>\n",
       "      <td>Tug-Of-War</td>\n",
       "      <td>3</td>\n",
       "    </tr>\n",
       "    <tr>\n",
       "      <th>4</th>\n",
       "      <td>4</td>\n",
       "      <td>Christine Jacoba Aaftink</td>\n",
       "      <td>F</td>\n",
       "      <td>21.0</td>\n",
       "      <td>Netherlands</td>\n",
       "      <td>1988 Winter</td>\n",
       "      <td>1988</td>\n",
       "      <td>Winter</td>\n",
       "      <td>Speed Skating</td>\n",
       "      <td>0</td>\n",
       "    </tr>\n",
       "  </tbody>\n",
       "</table>\n",
       "</div>"
      ],
      "text/plain": [
       "   Unnamed: 0                      Name Sex   Age            Team  \\\n",
       "0           0                 A Dijiang   M  24.0           China   \n",
       "1           1                  A Lamusi   M  23.0           China   \n",
       "2           2       Gunnar Nielsen Aaby   M  24.0         Denmark   \n",
       "3           3      Edgar Lindenau Aabye   M  34.0  Denmark/Sweden   \n",
       "4           4  Christine Jacoba Aaftink   F  21.0     Netherlands   \n",
       "\n",
       "         Games  Year  Season          Sport  Medal  \n",
       "0  1992 Summer  1992  Summer     Basketball      0  \n",
       "1  2012 Summer  2012  Summer           Judo      0  \n",
       "2  1920 Summer  1920  Summer       Football      0  \n",
       "3  1900 Summer  1900  Summer     Tug-Of-War      3  \n",
       "4  1988 Winter  1988  Winter  Speed Skating      0  "
      ]
     },
     "execution_count": 7,
     "metadata": {},
     "output_type": "execute_result"
    }
   ],
   "source": [
    "df.head()"
   ]
  },
  {
   "cell_type": "markdown",
   "id": "53543f68",
   "metadata": {},
   "source": [
    "Veri setinin ilk 5 verisini ekrana bastırdık."
   ]
  },
  {
   "cell_type": "code",
   "execution_count": 8,
   "id": "fa357eab",
   "metadata": {},
   "outputs": [
    {
     "data": {
      "text/html": [
       "<div>\n",
       "<style scoped>\n",
       "    .dataframe tbody tr th:only-of-type {\n",
       "        vertical-align: middle;\n",
       "    }\n",
       "\n",
       "    .dataframe tbody tr th {\n",
       "        vertical-align: top;\n",
       "    }\n",
       "\n",
       "    .dataframe thead th {\n",
       "        text-align: right;\n",
       "    }\n",
       "</style>\n",
       "<table border=\"1\" class=\"dataframe\">\n",
       "  <thead>\n",
       "    <tr style=\"text-align: right;\">\n",
       "      <th></th>\n",
       "      <th>Unnamed: 0</th>\n",
       "      <th>Name</th>\n",
       "      <th>Sex</th>\n",
       "      <th>Age</th>\n",
       "      <th>Team</th>\n",
       "      <th>Games</th>\n",
       "      <th>Year</th>\n",
       "      <th>Season</th>\n",
       "      <th>Sport</th>\n",
       "      <th>Medal</th>\n",
       "    </tr>\n",
       "  </thead>\n",
       "  <tbody>\n",
       "    <tr>\n",
       "      <th>275638</th>\n",
       "      <td>4522</td>\n",
       "      <td>ZURABIANI Zurab</td>\n",
       "      <td>Male</td>\n",
       "      <td>21.0</td>\n",
       "      <td>Georgia</td>\n",
       "      <td>2020 Summer</td>\n",
       "      <td>2020</td>\n",
       "      <td>Summer</td>\n",
       "      <td>Judo</td>\n",
       "      <td>0</td>\n",
       "    </tr>\n",
       "    <tr>\n",
       "      <th>275639</th>\n",
       "      <td>4523</td>\n",
       "      <td>ZURBRUGG Lindsey</td>\n",
       "      <td>Female</td>\n",
       "      <td>22.0</td>\n",
       "      <td>United States of America</td>\n",
       "      <td>2020 Summer</td>\n",
       "      <td>2020</td>\n",
       "      <td>Summer</td>\n",
       "      <td>Wheelchair Basketball</td>\n",
       "      <td>1</td>\n",
       "    </tr>\n",
       "    <tr>\n",
       "      <th>275640</th>\n",
       "      <td>4524</td>\n",
       "      <td>ZVINOWANDA Vimbai</td>\n",
       "      <td>Female</td>\n",
       "      <td>29.0</td>\n",
       "      <td>Zimbabwe</td>\n",
       "      <td>2020 Summer</td>\n",
       "      <td>2020</td>\n",
       "      <td>Summer</td>\n",
       "      <td>Athletics</td>\n",
       "      <td>0</td>\n",
       "    </tr>\n",
       "    <tr>\n",
       "      <th>275641</th>\n",
       "      <td>4525</td>\n",
       "      <td>ZWOUKHI Fathi</td>\n",
       "      <td>Male</td>\n",
       "      <td>34.0</td>\n",
       "      <td>Tunisia</td>\n",
       "      <td>2020 Summer</td>\n",
       "      <td>2020</td>\n",
       "      <td>Summer</td>\n",
       "      <td>Triathlon</td>\n",
       "      <td>0</td>\n",
       "    </tr>\n",
       "    <tr>\n",
       "      <th>275642</th>\n",
       "      <td>4526</td>\n",
       "      <td>ZYLKA Krzysztof</td>\n",
       "      <td>Male</td>\n",
       "      <td>41.0</td>\n",
       "      <td>Poland</td>\n",
       "      <td>2020 Summer</td>\n",
       "      <td>2020</td>\n",
       "      <td>Summer</td>\n",
       "      <td>Table Tennis</td>\n",
       "      <td>0</td>\n",
       "    </tr>\n",
       "  </tbody>\n",
       "</table>\n",
       "</div>"
      ],
      "text/plain": [
       "        Unnamed: 0               Name     Sex   Age                      Team  \\\n",
       "275638        4522    ZURABIANI Zurab    Male  21.0                   Georgia   \n",
       "275639        4523   ZURBRUGG Lindsey  Female  22.0  United States of America   \n",
       "275640        4524  ZVINOWANDA Vimbai  Female  29.0                  Zimbabwe   \n",
       "275641        4525      ZWOUKHI Fathi    Male  34.0                   Tunisia   \n",
       "275642        4526    ZYLKA Krzysztof    Male  41.0                    Poland   \n",
       "\n",
       "              Games  Year  Season                  Sport  Medal  \n",
       "275638  2020 Summer  2020  Summer                   Judo      0  \n",
       "275639  2020 Summer  2020  Summer  Wheelchair Basketball      1  \n",
       "275640  2020 Summer  2020  Summer              Athletics      0  \n",
       "275641  2020 Summer  2020  Summer              Triathlon      0  \n",
       "275642  2020 Summer  2020  Summer           Table Tennis      0  "
      ]
     },
     "execution_count": 8,
     "metadata": {},
     "output_type": "execute_result"
    }
   ],
   "source": [
    "df.tail()"
   ]
  },
  {
   "cell_type": "markdown",
   "id": "7ffcf584",
   "metadata": {},
   "source": [
    "Veri setinin son 5 verisini ekrana bastırdık."
   ]
  },
  {
   "cell_type": "code",
   "execution_count": 9,
   "id": "e6edb2cc",
   "metadata": {},
   "outputs": [
    {
     "data": {
      "text/html": [
       "<div>\n",
       "<style scoped>\n",
       "    .dataframe tbody tr th:only-of-type {\n",
       "        vertical-align: middle;\n",
       "    }\n",
       "\n",
       "    .dataframe tbody tr th {\n",
       "        vertical-align: top;\n",
       "    }\n",
       "\n",
       "    .dataframe thead th {\n",
       "        text-align: right;\n",
       "    }\n",
       "</style>\n",
       "<table border=\"1\" class=\"dataframe\">\n",
       "  <thead>\n",
       "    <tr style=\"text-align: right;\">\n",
       "      <th></th>\n",
       "      <th>Name</th>\n",
       "      <th>Sex</th>\n",
       "      <th>Age</th>\n",
       "      <th>Team</th>\n",
       "      <th>Sport</th>\n",
       "      <th>Medal</th>\n",
       "    </tr>\n",
       "  </thead>\n",
       "  <tbody>\n",
       "    <tr>\n",
       "      <th>0</th>\n",
       "      <td>A Dijiang</td>\n",
       "      <td>M</td>\n",
       "      <td>24.0</td>\n",
       "      <td>China</td>\n",
       "      <td>Basketball</td>\n",
       "      <td>0</td>\n",
       "    </tr>\n",
       "    <tr>\n",
       "      <th>1</th>\n",
       "      <td>A Lamusi</td>\n",
       "      <td>M</td>\n",
       "      <td>23.0</td>\n",
       "      <td>China</td>\n",
       "      <td>Judo</td>\n",
       "      <td>0</td>\n",
       "    </tr>\n",
       "    <tr>\n",
       "      <th>2</th>\n",
       "      <td>Gunnar Nielsen Aaby</td>\n",
       "      <td>M</td>\n",
       "      <td>24.0</td>\n",
       "      <td>Denmark</td>\n",
       "      <td>Football</td>\n",
       "      <td>0</td>\n",
       "    </tr>\n",
       "    <tr>\n",
       "      <th>3</th>\n",
       "      <td>Edgar Lindenau Aabye</td>\n",
       "      <td>M</td>\n",
       "      <td>34.0</td>\n",
       "      <td>Denmark/Sweden</td>\n",
       "      <td>Tug-Of-War</td>\n",
       "      <td>3</td>\n",
       "    </tr>\n",
       "    <tr>\n",
       "      <th>4</th>\n",
       "      <td>Christine Jacoba Aaftink</td>\n",
       "      <td>F</td>\n",
       "      <td>21.0</td>\n",
       "      <td>Netherlands</td>\n",
       "      <td>Speed Skating</td>\n",
       "      <td>0</td>\n",
       "    </tr>\n",
       "  </tbody>\n",
       "</table>\n",
       "</div>"
      ],
      "text/plain": [
       "                       Name Sex   Age            Team          Sport  Medal\n",
       "0                 A Dijiang   M  24.0           China     Basketball      0\n",
       "1                  A Lamusi   M  23.0           China           Judo      0\n",
       "2       Gunnar Nielsen Aaby   M  24.0         Denmark       Football      0\n",
       "3      Edgar Lindenau Aabye   M  34.0  Denmark/Sweden     Tug-Of-War      3\n",
       "4  Christine Jacoba Aaftink   F  21.0     Netherlands  Speed Skating      0"
      ]
     },
     "execution_count": 9,
     "metadata": {},
     "output_type": "execute_result"
    }
   ],
   "source": [
    "df=df.drop([\"Unnamed: 0\",\"Games\",\"Year\",\"Season\"], axis = 1)\n",
    "df.Sex[df.Sex==\"Male\"]=\"M\"\n",
    "df.Sex[df.Sex==\"Female\"]=\"F\"\n",
    "df.head()"
   ]
  },
  {
   "cell_type": "markdown",
   "id": "77388616",
   "metadata": {},
   "source": [
    "Veri setinde cinsiyet kategorisinde F,M,Male,Female değişkenlerinin olduğunu gördük. Bu değişken sayısını 2'ye düşürdük."
   ]
  },
  {
   "cell_type": "markdown",
   "id": "dded7d9c",
   "metadata": {},
   "source": [
    "## 2. Veri Setinin Betimlenmesi"
   ]
  },
  {
   "cell_type": "code",
   "execution_count": 10,
   "id": "4771248b",
   "metadata": {},
   "outputs": [
    {
     "name": "stdout",
     "output_type": "stream",
     "text": [
      "<class 'pandas.core.frame.DataFrame'>\n",
      "RangeIndex: 275643 entries, 0 to 275642\n",
      "Data columns (total 6 columns):\n",
      " #   Column  Non-Null Count   Dtype  \n",
      "---  ------  --------------   -----  \n",
      " 0   Name    275643 non-null  object \n",
      " 1   Sex     275643 non-null  object \n",
      " 2   Age     266169 non-null  float64\n",
      " 3   Team    275643 non-null  object \n",
      " 4   Sport   275643 non-null  object \n",
      " 5   Medal   275643 non-null  int64  \n",
      "dtypes: float64(1), int64(1), object(4)\n",
      "memory usage: 12.6+ MB\n"
     ]
    }
   ],
   "source": [
    "df.info()"
   ]
  },
  {
   "cell_type": "code",
   "execution_count": 11,
   "id": "165cc67a",
   "metadata": {},
   "outputs": [],
   "source": [
    "df.Team = pd.Categorical(df.Team)\n",
    "df.Sport = pd.Categorical(df.Sport)"
   ]
  },
  {
   "cell_type": "markdown",
   "id": "41fc445b",
   "metadata": {},
   "source": [
    "Kategori verilerini belirledik."
   ]
  },
  {
   "cell_type": "code",
   "execution_count": 12,
   "id": "96582c30",
   "metadata": {},
   "outputs": [
    {
     "data": {
      "text/html": [
       "<div>\n",
       "<style scoped>\n",
       "    .dataframe tbody tr th:only-of-type {\n",
       "        vertical-align: middle;\n",
       "    }\n",
       "\n",
       "    .dataframe tbody tr th {\n",
       "        vertical-align: top;\n",
       "    }\n",
       "\n",
       "    .dataframe thead th {\n",
       "        text-align: right;\n",
       "    }\n",
       "</style>\n",
       "<table border=\"1\" class=\"dataframe\">\n",
       "  <thead>\n",
       "    <tr style=\"text-align: right;\">\n",
       "      <th></th>\n",
       "      <th>Name</th>\n",
       "      <th>Sex</th>\n",
       "      <th>Age</th>\n",
       "      <th>Team</th>\n",
       "      <th>Sport</th>\n",
       "      <th>Medal</th>\n",
       "    </tr>\n",
       "  </thead>\n",
       "  <tbody>\n",
       "    <tr>\n",
       "      <th>0</th>\n",
       "      <td>A Dijiang</td>\n",
       "      <td>1</td>\n",
       "      <td>24.0</td>\n",
       "      <td>China</td>\n",
       "      <td>Basketball</td>\n",
       "      <td>0</td>\n",
       "    </tr>\n",
       "    <tr>\n",
       "      <th>1</th>\n",
       "      <td>A Lamusi</td>\n",
       "      <td>1</td>\n",
       "      <td>23.0</td>\n",
       "      <td>China</td>\n",
       "      <td>Judo</td>\n",
       "      <td>0</td>\n",
       "    </tr>\n",
       "    <tr>\n",
       "      <th>2</th>\n",
       "      <td>Gunnar Nielsen Aaby</td>\n",
       "      <td>1</td>\n",
       "      <td>24.0</td>\n",
       "      <td>Denmark</td>\n",
       "      <td>Football</td>\n",
       "      <td>0</td>\n",
       "    </tr>\n",
       "    <tr>\n",
       "      <th>3</th>\n",
       "      <td>Edgar Lindenau Aabye</td>\n",
       "      <td>1</td>\n",
       "      <td>34.0</td>\n",
       "      <td>Denmark/Sweden</td>\n",
       "      <td>Tug-Of-War</td>\n",
       "      <td>3</td>\n",
       "    </tr>\n",
       "    <tr>\n",
       "      <th>4</th>\n",
       "      <td>Christine Jacoba Aaftink</td>\n",
       "      <td>0</td>\n",
       "      <td>21.0</td>\n",
       "      <td>Netherlands</td>\n",
       "      <td>Speed Skating</td>\n",
       "      <td>0</td>\n",
       "    </tr>\n",
       "  </tbody>\n",
       "</table>\n",
       "</div>"
      ],
      "text/plain": [
       "                       Name  Sex   Age            Team          Sport  Medal\n",
       "0                 A Dijiang    1  24.0           China     Basketball      0\n",
       "1                  A Lamusi    1  23.0           China           Judo      0\n",
       "2       Gunnar Nielsen Aaby    1  24.0         Denmark       Football      0\n",
       "3      Edgar Lindenau Aabye    1  34.0  Denmark/Sweden     Tug-Of-War      3\n",
       "4  Christine Jacoba Aaftink    0  21.0     Netherlands  Speed Skating      0"
      ]
     },
     "execution_count": 12,
     "metadata": {},
     "output_type": "execute_result"
    }
   ],
   "source": [
    "from sklearn.preprocessing import LabelEncoder\n",
    "lbe = LabelEncoder()\n",
    "lbe.fit_transform(df[\"Sex\"])\n",
    "df[\"Sex\"] = lbe.fit_transform(df[\"Sex\"])\n",
    "df.head()"
   ]
  },
  {
   "cell_type": "markdown",
   "id": "d318a3de",
   "metadata": {},
   "source": [
    "Cinsiyet verilerini M=1 , F=0 dönüşümünü yaptık."
   ]
  },
  {
   "cell_type": "code",
   "execution_count": 13,
   "id": "e0cc283c",
   "metadata": {},
   "outputs": [
    {
     "name": "stdout",
     "output_type": "stream",
     "text": [
      "<class 'pandas.core.frame.DataFrame'>\n",
      "RangeIndex: 275643 entries, 0 to 275642\n",
      "Data columns (total 6 columns):\n",
      " #   Column  Non-Null Count   Dtype   \n",
      "---  ------  --------------   -----   \n",
      " 0   Name    275643 non-null  object  \n",
      " 1   Sex     275643 non-null  int32   \n",
      " 2   Age     266169 non-null  float64 \n",
      " 3   Team    275643 non-null  category\n",
      " 4   Sport   275643 non-null  category\n",
      " 5   Medal   275643 non-null  int64   \n",
      "dtypes: category(2), float64(1), int32(1), int64(1), object(1)\n",
      "memory usage: 8.2+ MB\n"
     ]
    }
   ],
   "source": [
    "df.info()"
   ]
  },
  {
   "cell_type": "code",
   "execution_count": 14,
   "id": "3da3bfc7",
   "metadata": {},
   "outputs": [
    {
     "name": "stdout",
     "output_type": "stream",
     "text": [
      "\n",
      "\n"
     ]
    },
    {
     "data": {
      "text/html": [
       "<div>\n",
       "<style scoped>\n",
       "    .dataframe tbody tr th:only-of-type {\n",
       "        vertical-align: middle;\n",
       "    }\n",
       "\n",
       "    .dataframe tbody tr th {\n",
       "        vertical-align: top;\n",
       "    }\n",
       "\n",
       "    .dataframe thead th {\n",
       "        text-align: right;\n",
       "    }\n",
       "</style>\n",
       "<table border=\"1\" class=\"dataframe\">\n",
       "  <thead>\n",
       "    <tr style=\"text-align: right;\">\n",
       "      <th></th>\n",
       "      <th>Variable</th>\n",
       "      <th>N</th>\n",
       "      <th>Mean</th>\n",
       "      <th>SD</th>\n",
       "      <th>SE</th>\n",
       "      <th>95% Conf.</th>\n",
       "      <th>Interval</th>\n",
       "    </tr>\n",
       "  </thead>\n",
       "  <tbody>\n",
       "    <tr>\n",
       "      <th>0</th>\n",
       "      <td>Sex</td>\n",
       "      <td>275643.0</td>\n",
       "      <td>0.7228</td>\n",
       "      <td>0.4476</td>\n",
       "      <td>0.0009</td>\n",
       "      <td>0.7211</td>\n",
       "      <td>0.7244</td>\n",
       "    </tr>\n",
       "    <tr>\n",
       "      <th>1</th>\n",
       "      <td>Age</td>\n",
       "      <td>266169.0</td>\n",
       "      <td>25.6574</td>\n",
       "      <td>6.4940</td>\n",
       "      <td>0.0126</td>\n",
       "      <td>25.6327</td>\n",
       "      <td>25.6820</td>\n",
       "    </tr>\n",
       "    <tr>\n",
       "      <th>2</th>\n",
       "      <td>Medal</td>\n",
       "      <td>275643.0</td>\n",
       "      <td>0.3009</td>\n",
       "      <td>0.7829</td>\n",
       "      <td>0.0015</td>\n",
       "      <td>0.2979</td>\n",
       "      <td>0.3038</td>\n",
       "    </tr>\n",
       "  </tbody>\n",
       "</table>\n",
       "</div>"
      ],
      "text/plain": [
       "  Variable         N     Mean      SD      SE  95% Conf.  Interval\n",
       "0      Sex  275643.0   0.7228  0.4476  0.0009     0.7211    0.7244\n",
       "1      Age  266169.0  25.6574  6.4940  0.0126    25.6327   25.6820\n",
       "2    Medal  275643.0   0.3009  0.7829  0.0015     0.2979    0.3038"
      ]
     },
     "execution_count": 14,
     "metadata": {},
     "output_type": "execute_result"
    }
   ],
   "source": [
    "rp.summary_cont(df[[\"Sex\",\"Age\",\"Medal\"]])"
   ]
  },
  {
   "cell_type": "code",
   "execution_count": 15,
   "id": "aa5c82c2",
   "metadata": {},
   "outputs": [
    {
     "data": {
      "text/html": [
       "<div>\n",
       "<style scoped>\n",
       "    .dataframe tbody tr th:only-of-type {\n",
       "        vertical-align: middle;\n",
       "    }\n",
       "\n",
       "    .dataframe tbody tr th {\n",
       "        vertical-align: top;\n",
       "    }\n",
       "\n",
       "    .dataframe thead th {\n",
       "        text-align: right;\n",
       "    }\n",
       "</style>\n",
       "<table border=\"1\" class=\"dataframe\">\n",
       "  <thead>\n",
       "    <tr style=\"text-align: right;\">\n",
       "      <th></th>\n",
       "      <th>Variable</th>\n",
       "      <th>Outcome</th>\n",
       "      <th>Count</th>\n",
       "      <th>Percent</th>\n",
       "    </tr>\n",
       "  </thead>\n",
       "  <tbody>\n",
       "    <tr>\n",
       "      <th>0</th>\n",
       "      <td>Sport</td>\n",
       "      <td>Athletics</td>\n",
       "      <td>39766</td>\n",
       "      <td>14.43</td>\n",
       "    </tr>\n",
       "    <tr>\n",
       "      <th>1</th>\n",
       "      <td></td>\n",
       "      <td>Gymnastics</td>\n",
       "      <td>26707</td>\n",
       "      <td>9.69</td>\n",
       "    </tr>\n",
       "    <tr>\n",
       "      <th>2</th>\n",
       "      <td></td>\n",
       "      <td>Swimming</td>\n",
       "      <td>23799</td>\n",
       "      <td>8.63</td>\n",
       "    </tr>\n",
       "    <tr>\n",
       "      <th>3</th>\n",
       "      <td></td>\n",
       "      <td>Shooting</td>\n",
       "      <td>11602</td>\n",
       "      <td>4.21</td>\n",
       "    </tr>\n",
       "    <tr>\n",
       "      <th>4</th>\n",
       "      <td></td>\n",
       "      <td>Cycling</td>\n",
       "      <td>10859</td>\n",
       "      <td>3.94</td>\n",
       "    </tr>\n",
       "    <tr>\n",
       "      <th>...</th>\n",
       "      <td>...</td>\n",
       "      <td>...</td>\n",
       "      <td>...</td>\n",
       "      <td>...</td>\n",
       "    </tr>\n",
       "    <tr>\n",
       "      <th>1277</th>\n",
       "      <td></td>\n",
       "      <td>Verveine-19</td>\n",
       "      <td>1</td>\n",
       "      <td>0.00</td>\n",
       "    </tr>\n",
       "    <tr>\n",
       "      <th>1278</th>\n",
       "      <td></td>\n",
       "      <td>Verveine-41</td>\n",
       "      <td>1</td>\n",
       "      <td>0.00</td>\n",
       "    </tr>\n",
       "    <tr>\n",
       "      <th>1279</th>\n",
       "      <td></td>\n",
       "      <td>Elvis Va</td>\n",
       "      <td>1</td>\n",
       "      <td>0.00</td>\n",
       "    </tr>\n",
       "    <tr>\n",
       "      <th>1280</th>\n",
       "      <td></td>\n",
       "      <td>Konstanz</td>\n",
       "      <td>1</td>\n",
       "      <td>0.00</td>\n",
       "    </tr>\n",
       "    <tr>\n",
       "      <th>1281</th>\n",
       "      <td></td>\n",
       "      <td>Souvenance</td>\n",
       "      <td>1</td>\n",
       "      <td>0.00</td>\n",
       "    </tr>\n",
       "  </tbody>\n",
       "</table>\n",
       "<p>1282 rows × 4 columns</p>\n",
       "</div>"
      ],
      "text/plain": [
       "     Variable      Outcome  Count  Percent\n",
       "0       Sport    Athletics  39766    14.43\n",
       "1               Gymnastics  26707     9.69\n",
       "2                 Swimming  23799     8.63\n",
       "3                 Shooting  11602     4.21\n",
       "4                  Cycling  10859     3.94\n",
       "...       ...          ...    ...      ...\n",
       "1277           Verveine-19      1     0.00\n",
       "1278           Verveine-41      1     0.00\n",
       "1279              Elvis Va      1     0.00\n",
       "1280              Konstanz      1     0.00\n",
       "1281            Souvenance      1     0.00\n",
       "\n",
       "[1282 rows x 4 columns]"
      ]
     },
     "execution_count": 15,
     "metadata": {},
     "output_type": "execute_result"
    }
   ],
   "source": [
    "rp.summary_cat(df[[\"Sport\",\"Team\"]])"
   ]
  },
  {
   "cell_type": "code",
   "execution_count": 16,
   "id": "824f0dcb",
   "metadata": {},
   "outputs": [
    {
     "data": {
      "text/html": [
       "<div>\n",
       "<style scoped>\n",
       "    .dataframe tbody tr th:only-of-type {\n",
       "        vertical-align: middle;\n",
       "    }\n",
       "\n",
       "    .dataframe tbody tr th {\n",
       "        vertical-align: top;\n",
       "    }\n",
       "\n",
       "    .dataframe thead th {\n",
       "        text-align: right;\n",
       "    }\n",
       "</style>\n",
       "<table border=\"1\" class=\"dataframe\">\n",
       "  <thead>\n",
       "    <tr style=\"text-align: right;\">\n",
       "      <th></th>\n",
       "      <th>count</th>\n",
       "      <th>mean</th>\n",
       "      <th>std</th>\n",
       "      <th>min</th>\n",
       "      <th>25%</th>\n",
       "      <th>50%</th>\n",
       "      <th>75%</th>\n",
       "      <th>max</th>\n",
       "    </tr>\n",
       "  </thead>\n",
       "  <tbody>\n",
       "    <tr>\n",
       "      <th>Sex</th>\n",
       "      <td>275643.0</td>\n",
       "      <td>0.722768</td>\n",
       "      <td>0.447633</td>\n",
       "      <td>0.0</td>\n",
       "      <td>0.0</td>\n",
       "      <td>1.0</td>\n",
       "      <td>1.0</td>\n",
       "      <td>1.0</td>\n",
       "    </tr>\n",
       "    <tr>\n",
       "      <th>Age</th>\n",
       "      <td>266169.0</td>\n",
       "      <td>25.657364</td>\n",
       "      <td>6.494015</td>\n",
       "      <td>10.0</td>\n",
       "      <td>21.0</td>\n",
       "      <td>25.0</td>\n",
       "      <td>28.0</td>\n",
       "      <td>97.0</td>\n",
       "    </tr>\n",
       "    <tr>\n",
       "      <th>Medal</th>\n",
       "      <td>275643.0</td>\n",
       "      <td>0.300867</td>\n",
       "      <td>0.782901</td>\n",
       "      <td>0.0</td>\n",
       "      <td>0.0</td>\n",
       "      <td>0.0</td>\n",
       "      <td>0.0</td>\n",
       "      <td>3.0</td>\n",
       "    </tr>\n",
       "  </tbody>\n",
       "</table>\n",
       "</div>"
      ],
      "text/plain": [
       "          count       mean       std   min   25%   50%   75%   max\n",
       "Sex    275643.0   0.722768  0.447633   0.0   0.0   1.0   1.0   1.0\n",
       "Age    266169.0  25.657364  6.494015  10.0  21.0  25.0  28.0  97.0\n",
       "Medal  275643.0   0.300867  0.782901   0.0   0.0   0.0   0.0   3.0"
      ]
     },
     "execution_count": 16,
     "metadata": {},
     "output_type": "execute_result"
    }
   ],
   "source": [
    "df.describe().T #eksik gözlemleri göz ardı eder ve kategorik değişkenleri görmezden gelir"
   ]
  },
  {
   "cell_type": "markdown",
   "id": "430e4b17",
   "metadata": {},
   "source": [
    "## 3. Ayrık ve Eksik Değerlerin İncelenmesi"
   ]
  },
  {
   "cell_type": "markdown",
   "id": "8c68f311",
   "metadata": {},
   "source": [
    "Ayrık değerlerin gözlemlenmesi\n"
   ]
  },
  {
   "cell_type": "code",
   "execution_count": 17,
   "id": "1b943353",
   "metadata": {},
   "outputs": [
    {
     "data": {
      "text/html": [
       "<div>\n",
       "<style scoped>\n",
       "    .dataframe tbody tr th:only-of-type {\n",
       "        vertical-align: middle;\n",
       "    }\n",
       "\n",
       "    .dataframe tbody tr th {\n",
       "        vertical-align: top;\n",
       "    }\n",
       "\n",
       "    .dataframe thead th {\n",
       "        text-align: right;\n",
       "    }\n",
       "</style>\n",
       "<table border=\"1\" class=\"dataframe\">\n",
       "  <thead>\n",
       "    <tr style=\"text-align: right;\">\n",
       "      <th></th>\n",
       "      <th>Age</th>\n",
       "      <th>Medal</th>\n",
       "    </tr>\n",
       "  </thead>\n",
       "  <tbody>\n",
       "    <tr>\n",
       "      <th>0</th>\n",
       "      <td>24.0</td>\n",
       "      <td>0</td>\n",
       "    </tr>\n",
       "    <tr>\n",
       "      <th>1</th>\n",
       "      <td>23.0</td>\n",
       "      <td>0</td>\n",
       "    </tr>\n",
       "    <tr>\n",
       "      <th>2</th>\n",
       "      <td>24.0</td>\n",
       "      <td>0</td>\n",
       "    </tr>\n",
       "    <tr>\n",
       "      <th>3</th>\n",
       "      <td>34.0</td>\n",
       "      <td>3</td>\n",
       "    </tr>\n",
       "    <tr>\n",
       "      <th>4</th>\n",
       "      <td>21.0</td>\n",
       "      <td>0</td>\n",
       "    </tr>\n",
       "  </tbody>\n",
       "</table>\n",
       "</div>"
      ],
      "text/plain": [
       "    Age  Medal\n",
       "0  24.0      0\n",
       "1  23.0      0\n",
       "2  24.0      0\n",
       "3  34.0      3\n",
       "4  21.0      0"
      ]
     },
     "execution_count": 17,
     "metadata": {},
     "output_type": "execute_result"
    }
   ],
   "source": [
    "tf = df.select_dtypes(include = ['float64', 'int64'])\n",
    "tf = tf.dropna()\n",
    "tf.head()"
   ]
  },
  {
   "cell_type": "code",
   "execution_count": 18,
   "id": "be149589",
   "metadata": {},
   "outputs": [
    {
     "data": {
      "text/plain": [
       "0    24.0\n",
       "1    23.0\n",
       "2    24.0\n",
       "3    34.0\n",
       "4    21.0\n",
       "Name: Age, dtype: float64"
      ]
     },
     "execution_count": 18,
     "metadata": {},
     "output_type": "execute_result"
    }
   ],
   "source": [
    "df_table = tf[\"Age\"]\n",
    "df_table.head()"
   ]
  },
  {
   "cell_type": "code",
   "execution_count": 19,
   "id": "ece78e04",
   "metadata": {},
   "outputs": [
    {
     "data": {
      "image/png": "[encoded data removed]",
      "text/plain": [
       "<Figure size 432x288 with 1 Axes>"
      ]
     },
     "metadata": {
      "needs_background": "light"
     },
     "output_type": "display_data"
    }
   ],
   "source": [
    "sns.boxplot(x =df_table);"
   ]
  },
  {
   "cell_type": "code",
   "execution_count": 20,
   "id": "2d26b67c",
   "metadata": {},
   "outputs": [],
   "source": [
    "Q1 = df_table.quantile(0.25)\n",
    "Q3 = df_table.quantile(0.75)\n",
    "IQR = Q3-Q1"
   ]
  },
  {
   "cell_type": "code",
   "execution_count": 21,
   "id": "f7fab939",
   "metadata": {},
   "outputs": [
    {
     "name": "stdout",
     "output_type": "stream",
     "text": [
      "21.0\n",
      "28.0\n",
      "7.0\n"
     ]
    }
   ],
   "source": [
    "print(Q1)\n",
    "print(Q3)\n",
    "print(IQR)"
   ]
  },
  {
   "cell_type": "code",
   "execution_count": 22,
   "id": "2a54c145",
   "metadata": {},
   "outputs": [],
   "source": [
    "alt_sinir = Q1- 1.5*IQR\n",
    "ust_sinir = Q3 + 1.5*IQR"
   ]
  },
  {
   "cell_type": "code",
   "execution_count": 23,
   "id": "2adca754",
   "metadata": {},
   "outputs": [
    {
     "name": "stdout",
     "output_type": "stream",
     "text": [
      "10.5\n",
      "38.5\n"
     ]
    }
   ],
   "source": [
    "print(alt_sinir)\n",
    "print(ust_sinir)"
   ]
  },
  {
   "cell_type": "code",
   "execution_count": 24,
   "id": "9ac7a5c4",
   "metadata": {},
   "outputs": [
    {
     "data": {
      "text/plain": [
       "0         False\n",
       "1         False\n",
       "2         False\n",
       "3         False\n",
       "4         False\n",
       "          ...  \n",
       "275638    False\n",
       "275639    False\n",
       "275640    False\n",
       "275641    False\n",
       "275642     True\n",
       "Name: Age, Length: 266169, dtype: bool"
      ]
     },
     "execution_count": 24,
     "metadata": {},
     "output_type": "execute_result"
    }
   ],
   "source": [
    "(df_table < alt_sinir) | ( df_table > ust_sinir)"
   ]
  },
  {
   "cell_type": "code",
   "execution_count": 25,
   "id": "bc808aa1",
   "metadata": {},
   "outputs": [
    {
     "data": {
      "text/plain": [
       "58        54.0\n",
       "89        43.0\n",
       "90        47.0\n",
       "124       41.0\n",
       "126       45.0\n",
       "          ... \n",
       "275598    39.0\n",
       "275615    44.0\n",
       "275616    46.0\n",
       "275629    39.0\n",
       "275642    41.0\n",
       "Name: Age, Length: 11258, dtype: float64"
      ]
     },
     "execution_count": 25,
     "metadata": {},
     "output_type": "execute_result"
    }
   ],
   "source": [
    "aykiri_tf = (df_table < alt_sinir) | (df_table > ust_sinir)\n",
    "df_table[aykiri_tf]"
   ]
  },
  {
   "cell_type": "markdown",
   "id": "08ca289b",
   "metadata": {},
   "source": [
    "Baskılama metodu yerine silme metodu kullandığım veri setine daha uygun olacağını düşündüğüm için bu yöntemi seçtim.\n",
    "Baskılama metodu sonucunda değerlerim eşik değerine sabitleneceği için eşik değerinin üstü için doğru hesaplamaları yapamayacaktım."
   ]
  },
  {
   "cell_type": "code",
   "execution_count": 26,
   "id": "709bfa52",
   "metadata": {},
   "outputs": [
    {
     "data": {
      "text/plain": [
       "(266169, 1)"
      ]
     },
     "execution_count": 26,
     "metadata": {},
     "output_type": "execute_result"
    }
   ],
   "source": [
    "df_table = pd.DataFrame(df_table)\n",
    "df_table.shape"
   ]
  },
  {
   "cell_type": "code",
   "execution_count": 27,
   "id": "ba92b018",
   "metadata": {},
   "outputs": [
    {
     "data": {
      "text/plain": [
       "(254911, 1)"
      ]
     },
     "execution_count": 27,
     "metadata": {},
     "output_type": "execute_result"
    }
   ],
   "source": [
    "#aykırı olmayanları seçiyoruz\n",
    "t_df = df_table[~((df_table < (alt_sinir)) | (df_table > (ust_sinir))).any(axis = 1)]\n",
    "t_df.shape"
   ]
  },
  {
   "cell_type": "code",
   "execution_count": 28,
   "id": "568c2b2f",
   "metadata": {},
   "outputs": [
    {
     "data": {
      "text/plain": [
       "Int64Index([    58,     89,     90,    124,    126,    127,    128,    129,\n",
       "               269,    270,\n",
       "            ...\n",
       "            275561, 275579, 275582, 275587, 275588, 275598, 275615, 275616,\n",
       "            275629, 275642],\n",
       "           dtype='int64', length=11258)"
      ]
     },
     "execution_count": 28,
     "metadata": {},
     "output_type": "execute_result"
    }
   ],
   "source": [
    "df_table[aykiri_tf].index"
   ]
  },
  {
   "cell_type": "code",
   "execution_count": 29,
   "id": "d23a991c",
   "metadata": {},
   "outputs": [
    {
     "data": {
      "text/plain": [
       "(275643, 6)"
      ]
     },
     "execution_count": 29,
     "metadata": {},
     "output_type": "execute_result"
    }
   ],
   "source": [
    "df.shape"
   ]
  },
  {
   "cell_type": "code",
   "execution_count": 30,
   "id": "97f86ce7",
   "metadata": {},
   "outputs": [],
   "source": [
    "df.drop(df_table[aykiri_tf].index, axis=0, inplace=True)"
   ]
  },
  {
   "cell_type": "code",
   "execution_count": 31,
   "id": "d1fa5fb0",
   "metadata": {},
   "outputs": [
    {
     "data": {
      "text/plain": [
       "(264385, 6)"
      ]
     },
     "execution_count": 31,
     "metadata": {},
     "output_type": "execute_result"
    }
   ],
   "source": [
    "df.shape"
   ]
  },
  {
   "cell_type": "code",
   "execution_count": 32,
   "id": "2a845508",
   "metadata": {},
   "outputs": [
    {
     "data": {
      "text/html": [
       "<div>\n",
       "<style scoped>\n",
       "    .dataframe tbody tr th:only-of-type {\n",
       "        vertical-align: middle;\n",
       "    }\n",
       "\n",
       "    .dataframe tbody tr th {\n",
       "        vertical-align: top;\n",
       "    }\n",
       "\n",
       "    .dataframe thead th {\n",
       "        text-align: right;\n",
       "    }\n",
       "</style>\n",
       "<table border=\"1\" class=\"dataframe\">\n",
       "  <thead>\n",
       "    <tr style=\"text-align: right;\">\n",
       "      <th></th>\n",
       "      <th>Name</th>\n",
       "      <th>Sex</th>\n",
       "      <th>Age</th>\n",
       "      <th>Team</th>\n",
       "      <th>Sport</th>\n",
       "      <th>Medal</th>\n",
       "    </tr>\n",
       "  </thead>\n",
       "  <tbody>\n",
       "    <tr>\n",
       "      <th>113</th>\n",
       "      <td>Roald Edgar Aas</td>\n",
       "      <td>1</td>\n",
       "      <td>31.0</td>\n",
       "      <td>Norway</td>\n",
       "      <td>Speed Skating</td>\n",
       "      <td>3</td>\n",
       "    </tr>\n",
       "    <tr>\n",
       "      <th>114</th>\n",
       "      <td>Roald Edgar Aas</td>\n",
       "      <td>1</td>\n",
       "      <td>31.0</td>\n",
       "      <td>Norway</td>\n",
       "      <td>Speed Skating</td>\n",
       "      <td>0</td>\n",
       "    </tr>\n",
       "    <tr>\n",
       "      <th>115</th>\n",
       "      <td>Roald Edgar Aas</td>\n",
       "      <td>1</td>\n",
       "      <td>31.0</td>\n",
       "      <td>Norway</td>\n",
       "      <td>Speed Skating</td>\n",
       "      <td>0</td>\n",
       "    </tr>\n",
       "    <tr>\n",
       "      <th>116</th>\n",
       "      <td>Rolf Aas</td>\n",
       "      <td>1</td>\n",
       "      <td>28.0</td>\n",
       "      <td>Norway</td>\n",
       "      <td>Football</td>\n",
       "      <td>0</td>\n",
       "    </tr>\n",
       "    <tr>\n",
       "      <th>117</th>\n",
       "      <td>Thomas Valentin Aas</td>\n",
       "      <td>1</td>\n",
       "      <td>25.0</td>\n",
       "      <td>Taifun</td>\n",
       "      <td>Sailing</td>\n",
       "      <td>3</td>\n",
       "    </tr>\n",
       "    <tr>\n",
       "      <th>118</th>\n",
       "      <td>Morten Gjerdrum Aasen</td>\n",
       "      <td>1</td>\n",
       "      <td>34.0</td>\n",
       "      <td>Norway</td>\n",
       "      <td>Equestrianism</td>\n",
       "      <td>0</td>\n",
       "    </tr>\n",
       "    <tr>\n",
       "      <th>119</th>\n",
       "      <td>Meelis Aasme</td>\n",
       "      <td>1</td>\n",
       "      <td>25.0</td>\n",
       "      <td>Estonia</td>\n",
       "      <td>Cross Country Skiing</td>\n",
       "      <td>0</td>\n",
       "    </tr>\n",
       "    <tr>\n",
       "      <th>120</th>\n",
       "      <td>Meelis Aasme</td>\n",
       "      <td>1</td>\n",
       "      <td>25.0</td>\n",
       "      <td>Estonia</td>\n",
       "      <td>Cross Country Skiing</td>\n",
       "      <td>0</td>\n",
       "    </tr>\n",
       "    <tr>\n",
       "      <th>121</th>\n",
       "      <td>Meelis Aasme</td>\n",
       "      <td>1</td>\n",
       "      <td>29.0</td>\n",
       "      <td>Estonia</td>\n",
       "      <td>Cross Country Skiing</td>\n",
       "      <td>0</td>\n",
       "    </tr>\n",
       "    <tr>\n",
       "      <th>122</th>\n",
       "      <td>Meelis Aasme</td>\n",
       "      <td>1</td>\n",
       "      <td>29.0</td>\n",
       "      <td>Estonia</td>\n",
       "      <td>Cross Country Skiing</td>\n",
       "      <td>0</td>\n",
       "    </tr>\n",
       "    <tr>\n",
       "      <th>123</th>\n",
       "      <td>Meelis Aasme</td>\n",
       "      <td>1</td>\n",
       "      <td>29.0</td>\n",
       "      <td>Estonia</td>\n",
       "      <td>Cross Country Skiing</td>\n",
       "      <td>0</td>\n",
       "    </tr>\n",
       "    <tr>\n",
       "      <th>125</th>\n",
       "      <td>Hans Aasns</td>\n",
       "      <td>1</td>\n",
       "      <td>33.0</td>\n",
       "      <td>Norway</td>\n",
       "      <td>Shooting</td>\n",
       "      <td>0</td>\n",
       "    </tr>\n",
       "    <tr>\n",
       "      <th>130</th>\n",
       "      <td>Erling Rudolf Aastad</td>\n",
       "      <td>1</td>\n",
       "      <td>22.0</td>\n",
       "      <td>Norway</td>\n",
       "      <td>Athletics</td>\n",
       "      <td>0</td>\n",
       "    </tr>\n",
       "    <tr>\n",
       "      <th>131</th>\n",
       "      <td>Erling Rudolf Aastad</td>\n",
       "      <td>1</td>\n",
       "      <td>22.0</td>\n",
       "      <td>Norway</td>\n",
       "      <td>Athletics</td>\n",
       "      <td>0</td>\n",
       "    </tr>\n",
       "    <tr>\n",
       "      <th>132</th>\n",
       "      <td>Erling Rudolf Aastad</td>\n",
       "      <td>1</td>\n",
       "      <td>26.0</td>\n",
       "      <td>Norway</td>\n",
       "      <td>Athletics</td>\n",
       "      <td>0</td>\n",
       "    </tr>\n",
       "    <tr>\n",
       "      <th>133</th>\n",
       "      <td>Erling Rudolf Aastad</td>\n",
       "      <td>1</td>\n",
       "      <td>30.0</td>\n",
       "      <td>Norway</td>\n",
       "      <td>Athletics</td>\n",
       "      <td>0</td>\n",
       "    </tr>\n",
       "    <tr>\n",
       "      <th>134</th>\n",
       "      <td>Abdelhak Aatakni</td>\n",
       "      <td>1</td>\n",
       "      <td>24.0</td>\n",
       "      <td>Morocco</td>\n",
       "      <td>Boxing</td>\n",
       "      <td>0</td>\n",
       "    </tr>\n",
       "    <tr>\n",
       "      <th>135</th>\n",
       "      <td>Moonika Aava</td>\n",
       "      <td>0</td>\n",
       "      <td>24.0</td>\n",
       "      <td>Estonia</td>\n",
       "      <td>Athletics</td>\n",
       "      <td>0</td>\n",
       "    </tr>\n",
       "    <tr>\n",
       "      <th>136</th>\n",
       "      <td>Moonika Aava</td>\n",
       "      <td>0</td>\n",
       "      <td>28.0</td>\n",
       "      <td>Estonia</td>\n",
       "      <td>Athletics</td>\n",
       "      <td>0</td>\n",
       "    </tr>\n",
       "    <tr>\n",
       "      <th>137</th>\n",
       "      <td>Arvi Aavik</td>\n",
       "      <td>1</td>\n",
       "      <td>22.0</td>\n",
       "      <td>Estonia</td>\n",
       "      <td>Wrestling</td>\n",
       "      <td>0</td>\n",
       "    </tr>\n",
       "    <tr>\n",
       "      <th>138</th>\n",
       "      <td>Arvi Aavik</td>\n",
       "      <td>1</td>\n",
       "      <td>26.0</td>\n",
       "      <td>Estonia</td>\n",
       "      <td>Wrestling</td>\n",
       "      <td>0</td>\n",
       "    </tr>\n",
       "    <tr>\n",
       "      <th>139</th>\n",
       "      <td>Nstor Abad Sanjun</td>\n",
       "      <td>1</td>\n",
       "      <td>23.0</td>\n",
       "      <td>Spain</td>\n",
       "      <td>Gymnastics</td>\n",
       "      <td>0</td>\n",
       "    </tr>\n",
       "    <tr>\n",
       "      <th>140</th>\n",
       "      <td>Nstor Abad Sanjun</td>\n",
       "      <td>1</td>\n",
       "      <td>23.0</td>\n",
       "      <td>Spain</td>\n",
       "      <td>Gymnastics</td>\n",
       "      <td>0</td>\n",
       "    </tr>\n",
       "    <tr>\n",
       "      <th>141</th>\n",
       "      <td>Nstor Abad Sanjun</td>\n",
       "      <td>1</td>\n",
       "      <td>23.0</td>\n",
       "      <td>Spain</td>\n",
       "      <td>Gymnastics</td>\n",
       "      <td>0</td>\n",
       "    </tr>\n",
       "    <tr>\n",
       "      <th>142</th>\n",
       "      <td>Nstor Abad Sanjun</td>\n",
       "      <td>1</td>\n",
       "      <td>23.0</td>\n",
       "      <td>Spain</td>\n",
       "      <td>Gymnastics</td>\n",
       "      <td>0</td>\n",
       "    </tr>\n",
       "    <tr>\n",
       "      <th>143</th>\n",
       "      <td>Nstor Abad Sanjun</td>\n",
       "      <td>1</td>\n",
       "      <td>23.0</td>\n",
       "      <td>Spain</td>\n",
       "      <td>Gymnastics</td>\n",
       "      <td>0</td>\n",
       "    </tr>\n",
       "    <tr>\n",
       "      <th>144</th>\n",
       "      <td>Nstor Abad Sanjun</td>\n",
       "      <td>1</td>\n",
       "      <td>23.0</td>\n",
       "      <td>Spain</td>\n",
       "      <td>Gymnastics</td>\n",
       "      <td>0</td>\n",
       "    </tr>\n",
       "    <tr>\n",
       "      <th>145</th>\n",
       "      <td>Patrick Abada</td>\n",
       "      <td>1</td>\n",
       "      <td>22.0</td>\n",
       "      <td>France</td>\n",
       "      <td>Athletics</td>\n",
       "      <td>0</td>\n",
       "    </tr>\n",
       "    <tr>\n",
       "      <th>146</th>\n",
       "      <td>Talaat Abada</td>\n",
       "      <td>1</td>\n",
       "      <td>24.0</td>\n",
       "      <td>Egypt</td>\n",
       "      <td>Taekwondo</td>\n",
       "      <td>0</td>\n",
       "    </tr>\n",
       "    <tr>\n",
       "      <th>147</th>\n",
       "      <td>Mohamed Jamshid Abadi</td>\n",
       "      <td>1</td>\n",
       "      <td>NaN</td>\n",
       "      <td>Iran</td>\n",
       "      <td>Boxing</td>\n",
       "      <td>0</td>\n",
       "    </tr>\n",
       "    <tr>\n",
       "      <th>148</th>\n",
       "      <td>Antonio Abadia Beci</td>\n",
       "      <td>1</td>\n",
       "      <td>26.0</td>\n",
       "      <td>Spain</td>\n",
       "      <td>Athletics</td>\n",
       "      <td>0</td>\n",
       "    </tr>\n",
       "    <tr>\n",
       "      <th>149</th>\n",
       "      <td>Ren Abadie</td>\n",
       "      <td>1</td>\n",
       "      <td>21.0</td>\n",
       "      <td>France</td>\n",
       "      <td>Cycling</td>\n",
       "      <td>0</td>\n",
       "    </tr>\n",
       "    <tr>\n",
       "      <th>150</th>\n",
       "      <td>Ren Abadie</td>\n",
       "      <td>1</td>\n",
       "      <td>21.0</td>\n",
       "      <td>France</td>\n",
       "      <td>Cycling</td>\n",
       "      <td>3</td>\n",
       "    </tr>\n",
       "    <tr>\n",
       "      <th>151</th>\n",
       "      <td>Borislav Abadzhiev</td>\n",
       "      <td>1</td>\n",
       "      <td>24.0</td>\n",
       "      <td>Bulgaria</td>\n",
       "      <td>Boxing</td>\n",
       "      <td>0</td>\n",
       "    </tr>\n",
       "    <tr>\n",
       "      <th>152</th>\n",
       "      <td>Georgi Abadzhiev</td>\n",
       "      <td>1</td>\n",
       "      <td>NaN</td>\n",
       "      <td>Bulgaria</td>\n",
       "      <td>Cycling</td>\n",
       "      <td>0</td>\n",
       "    </tr>\n",
       "    <tr>\n",
       "      <th>153</th>\n",
       "      <td>Georgi Abadzhiev</td>\n",
       "      <td>1</td>\n",
       "      <td>NaN</td>\n",
       "      <td>Bulgaria</td>\n",
       "      <td>Cycling</td>\n",
       "      <td>0</td>\n",
       "    </tr>\n",
       "    <tr>\n",
       "      <th>154</th>\n",
       "      <td>Ivan Nikolov Abadzhiev</td>\n",
       "      <td>1</td>\n",
       "      <td>24.0</td>\n",
       "      <td>Bulgaria</td>\n",
       "      <td>Weightlifting</td>\n",
       "      <td>0</td>\n",
       "    </tr>\n",
       "    <tr>\n",
       "      <th>155</th>\n",
       "      <td>Ivan Nikolov Abadzhiev</td>\n",
       "      <td>1</td>\n",
       "      <td>28.0</td>\n",
       "      <td>Bulgaria</td>\n",
       "      <td>Weightlifting</td>\n",
       "      <td>0</td>\n",
       "    </tr>\n",
       "    <tr>\n",
       "      <th>156</th>\n",
       "      <td>Mikhail Abadzhiev</td>\n",
       "      <td>1</td>\n",
       "      <td>24.0</td>\n",
       "      <td>Bulgaria</td>\n",
       "      <td>Weightlifting</td>\n",
       "      <td>0</td>\n",
       "    </tr>\n",
       "    <tr>\n",
       "      <th>157</th>\n",
       "      <td>Stefan Abadzhiev</td>\n",
       "      <td>1</td>\n",
       "      <td>26.0</td>\n",
       "      <td>Bulgaria</td>\n",
       "      <td>Football</td>\n",
       "      <td>0</td>\n",
       "    </tr>\n",
       "    <tr>\n",
       "      <th>158</th>\n",
       "      <td>Giovanni Abagnale</td>\n",
       "      <td>1</td>\n",
       "      <td>21.0</td>\n",
       "      <td>Italy</td>\n",
       "      <td>Rowing</td>\n",
       "      <td>1</td>\n",
       "    </tr>\n",
       "    <tr>\n",
       "      <th>159</th>\n",
       "      <td>Jos Luis Abajo Gmez</td>\n",
       "      <td>1</td>\n",
       "      <td>30.0</td>\n",
       "      <td>Spain</td>\n",
       "      <td>Fencing</td>\n",
       "      <td>1</td>\n",
       "    </tr>\n",
       "    <tr>\n",
       "      <th>160</th>\n",
       "      <td>M'Bairo Abakar</td>\n",
       "      <td>1</td>\n",
       "      <td>31.0</td>\n",
       "      <td>Chad</td>\n",
       "      <td>Judo</td>\n",
       "      <td>0</td>\n",
       "    </tr>\n",
       "    <tr>\n",
       "      <th>161</th>\n",
       "      <td>Patimat Abakarova</td>\n",
       "      <td>0</td>\n",
       "      <td>21.0</td>\n",
       "      <td>Azerbaijan</td>\n",
       "      <td>Taekwondo</td>\n",
       "      <td>1</td>\n",
       "    </tr>\n",
       "    <tr>\n",
       "      <th>162</th>\n",
       "      <td>Mohamed Abakkar</td>\n",
       "      <td>1</td>\n",
       "      <td>NaN</td>\n",
       "      <td>Sudan</td>\n",
       "      <td>Boxing</td>\n",
       "      <td>0</td>\n",
       "    </tr>\n",
       "    <tr>\n",
       "      <th>163</th>\n",
       "      <td>Mariya Vasilyevna Abakumova (-Tarabina)</td>\n",
       "      <td>0</td>\n",
       "      <td>22.0</td>\n",
       "      <td>Russia</td>\n",
       "      <td>Athletics</td>\n",
       "      <td>2</td>\n",
       "    </tr>\n",
       "    <tr>\n",
       "      <th>164</th>\n",
       "      <td>Mariya Vasilyevna Abakumova (-Tarabina)</td>\n",
       "      <td>0</td>\n",
       "      <td>26.0</td>\n",
       "      <td>Russia</td>\n",
       "      <td>Athletics</td>\n",
       "      <td>0</td>\n",
       "    </tr>\n",
       "    <tr>\n",
       "      <th>165</th>\n",
       "      <td>Pablo Martn Abal</td>\n",
       "      <td>1</td>\n",
       "      <td>23.0</td>\n",
       "      <td>Argentina</td>\n",
       "      <td>Swimming</td>\n",
       "      <td>0</td>\n",
       "    </tr>\n",
       "    <tr>\n",
       "      <th>166</th>\n",
       "      <td>Pablo Martn Abal</td>\n",
       "      <td>1</td>\n",
       "      <td>23.0</td>\n",
       "      <td>Argentina</td>\n",
       "      <td>Swimming</td>\n",
       "      <td>0</td>\n",
       "    </tr>\n",
       "    <tr>\n",
       "      <th>167</th>\n",
       "      <td>Tamara Abalde Daz</td>\n",
       "      <td>0</td>\n",
       "      <td>19.0</td>\n",
       "      <td>Spain</td>\n",
       "      <td>Basketball</td>\n",
       "      <td>0</td>\n",
       "    </tr>\n",
       "    <tr>\n",
       "      <th>168</th>\n",
       "      <td>Jess Iory Aball Martnez</td>\n",
       "      <td>1</td>\n",
       "      <td>26.0</td>\n",
       "      <td>Cuba</td>\n",
       "      <td>Diving</td>\n",
       "      <td>0</td>\n",
       "    </tr>\n",
       "    <tr>\n",
       "      <th>169</th>\n",
       "      <td>Juan Antonio Aball Delgado</td>\n",
       "      <td>1</td>\n",
       "      <td>27.0</td>\n",
       "      <td>Cuba</td>\n",
       "      <td>Canoeing</td>\n",
       "      <td>0</td>\n",
       "    </tr>\n",
       "    <tr>\n",
       "      <th>170</th>\n",
       "      <td>Juan Antonio Aball Delgado</td>\n",
       "      <td>1</td>\n",
       "      <td>27.0</td>\n",
       "      <td>Cuba</td>\n",
       "      <td>Canoeing</td>\n",
       "      <td>0</td>\n",
       "    </tr>\n",
       "    <tr>\n",
       "      <th>171</th>\n",
       "      <td>Aleksey Aleksandrovich Abalmasov</td>\n",
       "      <td>1</td>\n",
       "      <td>24.0</td>\n",
       "      <td>Belarus</td>\n",
       "      <td>Canoeing</td>\n",
       "      <td>0</td>\n",
       "    </tr>\n",
       "    <tr>\n",
       "      <th>172</th>\n",
       "      <td>Aleksey Aleksandrovich Abalmasov</td>\n",
       "      <td>1</td>\n",
       "      <td>28.0</td>\n",
       "      <td>Belarus</td>\n",
       "      <td>Canoeing</td>\n",
       "      <td>3</td>\n",
       "    </tr>\n",
       "  </tbody>\n",
       "</table>\n",
       "</div>"
      ],
      "text/plain": [
       "                                        Name  Sex   Age        Team  \\\n",
       "113                          Roald Edgar Aas    1  31.0      Norway   \n",
       "114                          Roald Edgar Aas    1  31.0      Norway   \n",
       "115                          Roald Edgar Aas    1  31.0      Norway   \n",
       "116                                 Rolf Aas    1  28.0      Norway   \n",
       "117                      Thomas Valentin Aas    1  25.0      Taifun   \n",
       "118                    Morten Gjerdrum Aasen    1  34.0      Norway   \n",
       "119                             Meelis Aasme    1  25.0     Estonia   \n",
       "120                             Meelis Aasme    1  25.0     Estonia   \n",
       "121                             Meelis Aasme    1  29.0     Estonia   \n",
       "122                             Meelis Aasme    1  29.0     Estonia   \n",
       "123                             Meelis Aasme    1  29.0     Estonia   \n",
       "125                               Hans Aasns    1  33.0      Norway   \n",
       "130                     Erling Rudolf Aastad    1  22.0      Norway   \n",
       "131                     Erling Rudolf Aastad    1  22.0      Norway   \n",
       "132                     Erling Rudolf Aastad    1  26.0      Norway   \n",
       "133                     Erling Rudolf Aastad    1  30.0      Norway   \n",
       "134                         Abdelhak Aatakni    1  24.0     Morocco   \n",
       "135                             Moonika Aava    0  24.0     Estonia   \n",
       "136                             Moonika Aava    0  28.0     Estonia   \n",
       "137                               Arvi Aavik    1  22.0     Estonia   \n",
       "138                               Arvi Aavik    1  26.0     Estonia   \n",
       "139                        Nstor Abad Sanjun    1  23.0       Spain   \n",
       "140                        Nstor Abad Sanjun    1  23.0       Spain   \n",
       "141                        Nstor Abad Sanjun    1  23.0       Spain   \n",
       "142                        Nstor Abad Sanjun    1  23.0       Spain   \n",
       "143                        Nstor Abad Sanjun    1  23.0       Spain   \n",
       "144                        Nstor Abad Sanjun    1  23.0       Spain   \n",
       "145                            Patrick Abada    1  22.0      France   \n",
       "146                             Talaat Abada    1  24.0       Egypt   \n",
       "147                    Mohamed Jamshid Abadi    1   NaN        Iran   \n",
       "148                      Antonio Abadia Beci    1  26.0       Spain   \n",
       "149                               Ren Abadie    1  21.0      France   \n",
       "150                               Ren Abadie    1  21.0      France   \n",
       "151                       Borislav Abadzhiev    1  24.0    Bulgaria   \n",
       "152                         Georgi Abadzhiev    1   NaN    Bulgaria   \n",
       "153                         Georgi Abadzhiev    1   NaN    Bulgaria   \n",
       "154                   Ivan Nikolov Abadzhiev    1  24.0    Bulgaria   \n",
       "155                   Ivan Nikolov Abadzhiev    1  28.0    Bulgaria   \n",
       "156                        Mikhail Abadzhiev    1  24.0    Bulgaria   \n",
       "157                         Stefan Abadzhiev    1  26.0    Bulgaria   \n",
       "158                        Giovanni Abagnale    1  21.0       Italy   \n",
       "159                      Jos Luis Abajo Gmez    1  30.0       Spain   \n",
       "160                           M'Bairo Abakar    1  31.0        Chad   \n",
       "161                        Patimat Abakarova    0  21.0  Azerbaijan   \n",
       "162                          Mohamed Abakkar    1   NaN       Sudan   \n",
       "163  Mariya Vasilyevna Abakumova (-Tarabina)    0  22.0      Russia   \n",
       "164  Mariya Vasilyevna Abakumova (-Tarabina)    0  26.0      Russia   \n",
       "165                         Pablo Martn Abal    1  23.0   Argentina   \n",
       "166                         Pablo Martn Abal    1  23.0   Argentina   \n",
       "167                        Tamara Abalde Daz    0  19.0       Spain   \n",
       "168                  Jess Iory Aball Martnez    1  26.0        Cuba   \n",
       "169               Juan Antonio Aball Delgado    1  27.0        Cuba   \n",
       "170               Juan Antonio Aball Delgado    1  27.0        Cuba   \n",
       "171         Aleksey Aleksandrovich Abalmasov    1  24.0     Belarus   \n",
       "172         Aleksey Aleksandrovich Abalmasov    1  28.0     Belarus   \n",
       "\n",
       "                    Sport  Medal  \n",
       "113         Speed Skating      3  \n",
       "114         Speed Skating      0  \n",
       "115         Speed Skating      0  \n",
       "116              Football      0  \n",
       "117               Sailing      3  \n",
       "118         Equestrianism      0  \n",
       "119  Cross Country Skiing      0  \n",
       "120  Cross Country Skiing      0  \n",
       "121  Cross Country Skiing      0  \n",
       "122  Cross Country Skiing      0  \n",
       "123  Cross Country Skiing      0  \n",
       "125              Shooting      0  \n",
       "130             Athletics      0  \n",
       "131             Athletics      0  \n",
       "132             Athletics      0  \n",
       "133             Athletics      0  \n",
       "134                Boxing      0  \n",
       "135             Athletics      0  \n",
       "136             Athletics      0  \n",
       "137             Wrestling      0  \n",
       "138             Wrestling      0  \n",
       "139            Gymnastics      0  \n",
       "140            Gymnastics      0  \n",
       "141            Gymnastics      0  \n",
       "142            Gymnastics      0  \n",
       "143            Gymnastics      0  \n",
       "144            Gymnastics      0  \n",
       "145             Athletics      0  \n",
       "146             Taekwondo      0  \n",
       "147                Boxing      0  \n",
       "148             Athletics      0  \n",
       "149               Cycling      0  \n",
       "150               Cycling      3  \n",
       "151                Boxing      0  \n",
       "152               Cycling      0  \n",
       "153               Cycling      0  \n",
       "154         Weightlifting      0  \n",
       "155         Weightlifting      0  \n",
       "156         Weightlifting      0  \n",
       "157              Football      0  \n",
       "158                Rowing      1  \n",
       "159               Fencing      1  \n",
       "160                  Judo      0  \n",
       "161             Taekwondo      1  \n",
       "162                Boxing      0  \n",
       "163             Athletics      2  \n",
       "164             Athletics      0  \n",
       "165              Swimming      0  \n",
       "166              Swimming      0  \n",
       "167            Basketball      0  \n",
       "168                Diving      0  \n",
       "169              Canoeing      0  \n",
       "170              Canoeing      0  \n",
       "171              Canoeing      0  \n",
       "172              Canoeing      3  "
      ]
     },
     "execution_count": 32,
     "metadata": {},
     "output_type": "execute_result"
    }
   ],
   "source": [
    "df[110:165]"
   ]
  },
  {
   "cell_type": "markdown",
   "id": "fc1a320b",
   "metadata": {},
   "source": [
    "Eksik Değerlerin Tespit edilmesi. Burada doğrudan silme yöntemini kullandık çünkü ileri yaşlardaki yarışmacıların madalya kazanma olasılığı diğer yöntemlerde daha düşük çıkabilecekti, doğru hesaplamalar yapılamayacaktı."
   ]
  },
  {
   "cell_type": "code",
   "execution_count": 33,
   "id": "523beb7d",
   "metadata": {},
   "outputs": [
    {
     "data": {
      "text/plain": [
       "Name        0\n",
       "Sex         0\n",
       "Age      9474\n",
       "Team        0\n",
       "Sport       0\n",
       "Medal       0\n",
       "dtype: int64"
      ]
     },
     "execution_count": 33,
     "metadata": {},
     "output_type": "execute_result"
    }
   ],
   "source": [
    "df.isnull().sum()"
   ]
  },
  {
   "cell_type": "code",
   "execution_count": 34,
   "id": "e873e35c",
   "metadata": {},
   "outputs": [
    {
     "data": {
      "text/plain": [
       "Name     264385\n",
       "Sex      264385\n",
       "Age      254911\n",
       "Team     264385\n",
       "Sport    264385\n",
       "Medal    264385\n",
       "dtype: int64"
      ]
     },
     "execution_count": 34,
     "metadata": {},
     "output_type": "execute_result"
    }
   ],
   "source": [
    "df.notnull().sum()"
   ]
  },
  {
   "cell_type": "code",
   "execution_count": 35,
   "id": "c05a2e43",
   "metadata": {},
   "outputs": [
    {
     "data": {
      "text/html": [
       "<div>\n",
       "<style scoped>\n",
       "    .dataframe tbody tr th:only-of-type {\n",
       "        vertical-align: middle;\n",
       "    }\n",
       "\n",
       "    .dataframe tbody tr th {\n",
       "        vertical-align: top;\n",
       "    }\n",
       "\n",
       "    .dataframe thead th {\n",
       "        text-align: right;\n",
       "    }\n",
       "</style>\n",
       "<table border=\"1\" class=\"dataframe\">\n",
       "  <thead>\n",
       "    <tr style=\"text-align: right;\">\n",
       "      <th></th>\n",
       "      <th>Name</th>\n",
       "      <th>Sex</th>\n",
       "      <th>Age</th>\n",
       "      <th>Team</th>\n",
       "      <th>Sport</th>\n",
       "      <th>Medal</th>\n",
       "    </tr>\n",
       "  </thead>\n",
       "  <tbody>\n",
       "    <tr>\n",
       "      <th>0</th>\n",
       "      <td>False</td>\n",
       "      <td>False</td>\n",
       "      <td>False</td>\n",
       "      <td>False</td>\n",
       "      <td>False</td>\n",
       "      <td>False</td>\n",
       "    </tr>\n",
       "    <tr>\n",
       "      <th>1</th>\n",
       "      <td>False</td>\n",
       "      <td>False</td>\n",
       "      <td>False</td>\n",
       "      <td>False</td>\n",
       "      <td>False</td>\n",
       "      <td>False</td>\n",
       "    </tr>\n",
       "    <tr>\n",
       "      <th>2</th>\n",
       "      <td>False</td>\n",
       "      <td>False</td>\n",
       "      <td>False</td>\n",
       "      <td>False</td>\n",
       "      <td>False</td>\n",
       "      <td>False</td>\n",
       "    </tr>\n",
       "    <tr>\n",
       "      <th>3</th>\n",
       "      <td>False</td>\n",
       "      <td>False</td>\n",
       "      <td>False</td>\n",
       "      <td>False</td>\n",
       "      <td>False</td>\n",
       "      <td>False</td>\n",
       "    </tr>\n",
       "    <tr>\n",
       "      <th>4</th>\n",
       "      <td>False</td>\n",
       "      <td>False</td>\n",
       "      <td>False</td>\n",
       "      <td>False</td>\n",
       "      <td>False</td>\n",
       "      <td>False</td>\n",
       "    </tr>\n",
       "    <tr>\n",
       "      <th>...</th>\n",
       "      <td>...</td>\n",
       "      <td>...</td>\n",
       "      <td>...</td>\n",
       "      <td>...</td>\n",
       "      <td>...</td>\n",
       "      <td>...</td>\n",
       "    </tr>\n",
       "    <tr>\n",
       "      <th>275637</th>\n",
       "      <td>False</td>\n",
       "      <td>False</td>\n",
       "      <td>False</td>\n",
       "      <td>False</td>\n",
       "      <td>False</td>\n",
       "      <td>False</td>\n",
       "    </tr>\n",
       "    <tr>\n",
       "      <th>275638</th>\n",
       "      <td>False</td>\n",
       "      <td>False</td>\n",
       "      <td>False</td>\n",
       "      <td>False</td>\n",
       "      <td>False</td>\n",
       "      <td>False</td>\n",
       "    </tr>\n",
       "    <tr>\n",
       "      <th>275639</th>\n",
       "      <td>False</td>\n",
       "      <td>False</td>\n",
       "      <td>False</td>\n",
       "      <td>False</td>\n",
       "      <td>False</td>\n",
       "      <td>False</td>\n",
       "    </tr>\n",
       "    <tr>\n",
       "      <th>275640</th>\n",
       "      <td>False</td>\n",
       "      <td>False</td>\n",
       "      <td>False</td>\n",
       "      <td>False</td>\n",
       "      <td>False</td>\n",
       "      <td>False</td>\n",
       "    </tr>\n",
       "    <tr>\n",
       "      <th>275641</th>\n",
       "      <td>False</td>\n",
       "      <td>False</td>\n",
       "      <td>False</td>\n",
       "      <td>False</td>\n",
       "      <td>False</td>\n",
       "      <td>False</td>\n",
       "    </tr>\n",
       "  </tbody>\n",
       "</table>\n",
       "<p>264385 rows × 6 columns</p>\n",
       "</div>"
      ],
      "text/plain": [
       "         Name    Sex    Age   Team  Sport  Medal\n",
       "0       False  False  False  False  False  False\n",
       "1       False  False  False  False  False  False\n",
       "2       False  False  False  False  False  False\n",
       "3       False  False  False  False  False  False\n",
       "4       False  False  False  False  False  False\n",
       "...       ...    ...    ...    ...    ...    ...\n",
       "275637  False  False  False  False  False  False\n",
       "275638  False  False  False  False  False  False\n",
       "275639  False  False  False  False  False  False\n",
       "275640  False  False  False  False  False  False\n",
       "275641  False  False  False  False  False  False\n",
       "\n",
       "[264385 rows x 6 columns]"
      ]
     },
     "execution_count": 35,
     "metadata": {},
     "output_type": "execute_result"
    }
   ],
   "source": [
    "df.isnull()"
   ]
  },
  {
   "cell_type": "code",
   "execution_count": 36,
   "id": "7656e62a",
   "metadata": {},
   "outputs": [],
   "source": [
    "df.dropna(inplace=True)"
   ]
  },
  {
   "cell_type": "code",
   "execution_count": 37,
   "id": "4b1b9327",
   "metadata": {},
   "outputs": [
    {
     "data": {
      "text/plain": [
       "(254911, 6)"
      ]
     },
     "execution_count": 37,
     "metadata": {},
     "output_type": "execute_result"
    }
   ],
   "source": [
    "df.shape"
   ]
  },
  {
   "cell_type": "code",
   "execution_count": 38,
   "id": "f13d78f2",
   "metadata": {},
   "outputs": [
    {
     "data": {
      "text/plain": [
       "False"
      ]
     },
     "execution_count": 38,
     "metadata": {},
     "output_type": "execute_result"
    }
   ],
   "source": [
    "df.isnull().values.any()"
   ]
  },
  {
   "cell_type": "markdown",
   "id": "c7cc71e7",
   "metadata": {},
   "source": [
    "## 4. Kategorik Değişken Özetleri"
   ]
  },
  {
   "cell_type": "code",
   "execution_count": 39,
   "id": "93588319",
   "metadata": {},
   "outputs": [],
   "source": [
    "katdf = df.select_dtypes(include = [\"category\"])"
   ]
  },
  {
   "cell_type": "code",
   "execution_count": 40,
   "id": "1fc5e05d",
   "metadata": {},
   "outputs": [
    {
     "data": {
      "text/html": [
       "<div>\n",
       "<style scoped>\n",
       "    .dataframe tbody tr th:only-of-type {\n",
       "        vertical-align: middle;\n",
       "    }\n",
       "\n",
       "    .dataframe tbody tr th {\n",
       "        vertical-align: top;\n",
       "    }\n",
       "\n",
       "    .dataframe thead th {\n",
       "        text-align: right;\n",
       "    }\n",
       "</style>\n",
       "<table border=\"1\" class=\"dataframe\">\n",
       "  <thead>\n",
       "    <tr style=\"text-align: right;\">\n",
       "      <th></th>\n",
       "      <th>Team</th>\n",
       "      <th>Sport</th>\n",
       "    </tr>\n",
       "  </thead>\n",
       "  <tbody>\n",
       "    <tr>\n",
       "      <th>0</th>\n",
       "      <td>China</td>\n",
       "      <td>Basketball</td>\n",
       "    </tr>\n",
       "    <tr>\n",
       "      <th>1</th>\n",
       "      <td>China</td>\n",
       "      <td>Judo</td>\n",
       "    </tr>\n",
       "    <tr>\n",
       "      <th>2</th>\n",
       "      <td>Denmark</td>\n",
       "      <td>Football</td>\n",
       "    </tr>\n",
       "    <tr>\n",
       "      <th>3</th>\n",
       "      <td>Denmark/Sweden</td>\n",
       "      <td>Tug-Of-War</td>\n",
       "    </tr>\n",
       "    <tr>\n",
       "      <th>4</th>\n",
       "      <td>Netherlands</td>\n",
       "      <td>Speed Skating</td>\n",
       "    </tr>\n",
       "  </tbody>\n",
       "</table>\n",
       "</div>"
      ],
      "text/plain": [
       "             Team          Sport\n",
       "0           China     Basketball\n",
       "1           China           Judo\n",
       "2         Denmark       Football\n",
       "3  Denmark/Sweden     Tug-Of-War\n",
       "4     Netherlands  Speed Skating"
      ]
     },
     "execution_count": 40,
     "metadata": {},
     "output_type": "execute_result"
    }
   ],
   "source": [
    "katdf.head()"
   ]
  },
  {
   "cell_type": "code",
   "execution_count": 41,
   "id": "bae3d8a9",
   "metadata": {},
   "outputs": [
    {
     "data": {
      "text/plain": [
       "1    180471\n",
       "0     74440\n",
       "Name: Sex, dtype: int64"
      ]
     },
     "execution_count": 41,
     "metadata": {},
     "output_type": "execute_result"
    }
   ],
   "source": [
    "df[\"Sex\"].value_counts()"
   ]
  },
  {
   "cell_type": "code",
   "execution_count": 42,
   "id": "062f5eaf",
   "metadata": {},
   "outputs": [
    {
     "data": {
      "image/png": "[encoded data removed]",
      "text/plain": [
       "<Figure size 432x288 with 1 Axes>"
      ]
     },
     "metadata": {
      "needs_background": "light"
     },
     "output_type": "display_data"
    }
   ],
   "source": [
    "df[\"Sport\"].value_counts().plot.barh();"
   ]
  },
  {
   "cell_type": "code",
   "execution_count": 43,
   "id": "100e4e15",
   "metadata": {},
   "outputs": [
    {
     "data": {
      "text/plain": [
       "<AxesSubplot:xlabel='Sex'>"
      ]
     },
     "execution_count": 43,
     "metadata": {},
     "output_type": "execute_result"
    },
    {
     "data": {
      "image/png": "[encoded data removed]",
      "text/plain": [
       "<Figure size 432x288 with 1 Axes>"
      ]
     },
     "metadata": {
      "needs_background": "light"
     },
     "output_type": "display_data"
    }
   ],
   "source": [
    "df[[\"Medal\",\"Sex\"]].groupby(\"Sex\")[\"Medal\"].mean().plot(kind=\"bar\")"
   ]
  },
  {
   "cell_type": "markdown",
   "id": "38c6a474",
   "metadata": {},
   "source": [
    "# Makine Öğrenmesi"
   ]
  },
  {
   "cell_type": "markdown",
   "id": "35524c6b",
   "metadata": {},
   "source": [
    "## 1. Doğrusal Regresyon"
   ]
  },
  {
   "cell_type": "code",
   "execution_count": 44,
   "id": "e62f6a5d",
   "metadata": {},
   "outputs": [
    {
     "data": {
      "text/plain": [
       "<seaborn.axisgrid.PairGrid at 0x2365e3c2e20>"
      ]
     },
     "execution_count": 44,
     "metadata": {},
     "output_type": "execute_result"
    },
    {
     "data": {
      "image/png": "[encoded data removed]",
      "text/plain": [
       "<Figure size 540x540 with 12 Axes>"
      ]
     },
     "metadata": {
      "needs_background": "light"
     },
     "output_type": "display_data"
    }
   ],
   "source": [
    "sns.pairplot(df, kind  =\"reg\")"
   ]
  },
  {
   "cell_type": "code",
   "execution_count": 45,
   "id": "1b778061",
   "metadata": {},
   "outputs": [
    {
     "data": {
      "text/plain": [
       "<seaborn.axisgrid.JointGrid at 0x23660f9a040>"
      ]
     },
     "execution_count": 45,
     "metadata": {},
     "output_type": "execute_result"
    },
    {
     "data": {
      "image/png": "[encoded data removed]",
      "text/plain": [
       "<Figure size 432x432 with 3 Axes>"
      ]
     },
     "metadata": {
      "needs_background": "light"
     },
     "output_type": "display_data"
    }
   ],
   "source": [
    "sns.jointplot(x = \"Age\", y = \"Medal\", data = df, kind = \"reg\")"
   ]
  },
  {
   "cell_type": "code",
   "execution_count": 46,
   "id": "b3984abd",
   "metadata": {},
   "outputs": [
    {
     "name": "stdout",
     "output_type": "stream",
     "text": [
      "0.1324177901850776\n",
      "[0.00704959]\n"
     ]
    }
   ],
   "source": [
    "X = df[[\"Age\"]]\n",
    "y = df[\"Medal\"]\n",
    "reg = LinearRegression()\n",
    "model = reg.fit(X, y)\n",
    "print(model.intercept_)\n",
    "print(model.coef_)"
   ]
  },
  {
   "cell_type": "code",
   "execution_count": 47,
   "id": "69fa6b1d",
   "metadata": {},
   "outputs": [
    {
     "data": {
      "text/plain": [
       "0.0018575281880639505"
      ]
     },
     "execution_count": 47,
     "metadata": {},
     "output_type": "execute_result"
    }
   ],
   "source": [
    "model.score(X,y)"
   ]
  },
  {
   "cell_type": "code",
   "execution_count": 48,
   "id": "e0c43fd2",
   "metadata": {},
   "outputs": [
    {
     "data": {
      "text/plain": [
       "array([0.30160799, 0.2945584 , 0.30160799, 0.37210391, 0.28045921,\n",
       "       0.28045921, 0.30865758, 0.30865758, 0.32275676, 0.32275676])"
      ]
     },
     "execution_count": 48,
     "metadata": {},
     "output_type": "execute_result"
    }
   ],
   "source": [
    "model.predict(X)[0:10]"
   ]
  },
  {
   "cell_type": "code",
   "execution_count": 49,
   "id": "088efe43",
   "metadata": {},
   "outputs": [
    {
     "data": {
      "text/plain": [
       "0    0\n",
       "1    0\n",
       "2    0\n",
       "3    3\n",
       "4    0\n",
       "5    0\n",
       "6    0\n",
       "7    0\n",
       "8    0\n",
       "9    0\n",
       "Name: Medal, dtype: int64"
      ]
     },
     "execution_count": 49,
     "metadata": {},
     "output_type": "execute_result"
    }
   ],
   "source": [
    "y[0:10]"
   ]
  },
  {
   "cell_type": "code",
   "execution_count": 50,
   "id": "d23a1a96",
   "metadata": {},
   "outputs": [
    {
     "data": {
      "text/plain": [
       "0.30500000000000005"
      ]
     },
     "execution_count": 50,
     "metadata": {},
     "output_type": "execute_result"
    }
   ],
   "source": [
    "(0.13)+(25*0.007)"
   ]
  },
  {
   "cell_type": "code",
   "execution_count": 51,
   "id": "f9f15453",
   "metadata": {},
   "outputs": [
    {
     "data": {
      "text/plain": [
       "array([0.30865758])"
      ]
     },
     "execution_count": 51,
     "metadata": {},
     "output_type": "execute_result"
    }
   ],
   "source": [
    "model.predict([[25]])"
   ]
  },
  {
   "cell_type": "code",
   "execution_count": 52,
   "id": "ebbccf35",
   "metadata": {},
   "outputs": [
    {
     "data": {
      "text/plain": [
       "array([0.16766575, 0.25931044, 0.28750881])"
      ]
     },
     "execution_count": 52,
     "metadata": {},
     "output_type": "execute_result"
    }
   ],
   "source": [
    "yeni_veri = [[5],[18],[22]]\n",
    "model.predict(yeni_veri)"
   ]
  },
  {
   "cell_type": "code",
   "execution_count": 53,
   "id": "7497447d",
   "metadata": {},
   "outputs": [
    {
     "data": {
      "text/plain": [
       "0.6239765191464649"
      ]
     },
     "execution_count": 53,
     "metadata": {},
     "output_type": "execute_result"
    }
   ],
   "source": [
    "from sklearn.metrics import mean_squared_error, r2_score\n",
    "import statsmodels.formula.api as smf\n",
    "\n",
    "lm = smf.ols(\"Medal ~ Age\", df)\n",
    "model = lm.fit()\n",
    "model.summary()\n",
    "mse = mean_squared_error(y, model.fittedvalues)\n",
    "#gerçek değerler ile tahmin edilen değerler arasındaki farkların karelerinin ortalaması\n",
    "mse"
   ]
  },
  {
   "cell_type": "code",
   "execution_count": 54,
   "id": "9575e79a",
   "metadata": {},
   "outputs": [
    {
     "data": {
      "text/plain": [
       "0.7899218436949728"
      ]
     },
     "execution_count": 54,
     "metadata": {},
     "output_type": "execute_result"
    }
   ],
   "source": [
    "rmse = np.sqrt(mse)\n",
    "rmse"
   ]
  },
  {
   "cell_type": "code",
   "execution_count": 55,
   "id": "b4dcc748",
   "metadata": {},
   "outputs": [
    {
     "data": {
      "text/plain": [
       "[<matplotlib.lines.Line2D at 0x236619edd90>]"
      ]
     },
     "execution_count": 55,
     "metadata": {},
     "output_type": "execute_result"
    },
    {
     "data": {
      "image/png": "[encoded data removed]",
      "text/plain": [
       "<Figure size 432x288 with 1 Axes>"
      ]
     },
     "metadata": {
      "needs_background": "light"
     },
     "output_type": "display_data"
    }
   ],
   "source": [
    "plt.plot(model.resid[:100])"
   ]
  },
  {
   "cell_type": "markdown",
   "id": "926eedda",
   "metadata": {},
   "source": [
    "### 1.2. Çoklu Doğrusal Regresyon"
   ]
  },
  {
   "cell_type": "code",
   "execution_count": 56,
   "id": "e8405287",
   "metadata": {},
   "outputs": [
    {
     "data": {
      "text/html": [
       "<div>\n",
       "<style scoped>\n",
       "    .dataframe tbody tr th:only-of-type {\n",
       "        vertical-align: middle;\n",
       "    }\n",
       "\n",
       "    .dataframe tbody tr th {\n",
       "        vertical-align: top;\n",
       "    }\n",
       "\n",
       "    .dataframe thead th {\n",
       "        text-align: right;\n",
       "    }\n",
       "</style>\n",
       "<table border=\"1\" class=\"dataframe\">\n",
       "  <thead>\n",
       "    <tr style=\"text-align: right;\">\n",
       "      <th></th>\n",
       "      <th>Name</th>\n",
       "      <th>Sex</th>\n",
       "      <th>Age</th>\n",
       "      <th>Team</th>\n",
       "      <th>Sport</th>\n",
       "      <th>Medal</th>\n",
       "    </tr>\n",
       "  </thead>\n",
       "  <tbody>\n",
       "    <tr>\n",
       "      <th>0</th>\n",
       "      <td>A Dijiang</td>\n",
       "      <td>1</td>\n",
       "      <td>24.0</td>\n",
       "      <td>China</td>\n",
       "      <td>Basketball</td>\n",
       "      <td>0</td>\n",
       "    </tr>\n",
       "    <tr>\n",
       "      <th>1</th>\n",
       "      <td>A Lamusi</td>\n",
       "      <td>1</td>\n",
       "      <td>23.0</td>\n",
       "      <td>China</td>\n",
       "      <td>Judo</td>\n",
       "      <td>0</td>\n",
       "    </tr>\n",
       "    <tr>\n",
       "      <th>2</th>\n",
       "      <td>Gunnar Nielsen Aaby</td>\n",
       "      <td>1</td>\n",
       "      <td>24.0</td>\n",
       "      <td>Denmark</td>\n",
       "      <td>Football</td>\n",
       "      <td>0</td>\n",
       "    </tr>\n",
       "    <tr>\n",
       "      <th>3</th>\n",
       "      <td>Edgar Lindenau Aabye</td>\n",
       "      <td>1</td>\n",
       "      <td>34.0</td>\n",
       "      <td>Denmark/Sweden</td>\n",
       "      <td>Tug-Of-War</td>\n",
       "      <td>3</td>\n",
       "    </tr>\n",
       "    <tr>\n",
       "      <th>4</th>\n",
       "      <td>Christine Jacoba Aaftink</td>\n",
       "      <td>0</td>\n",
       "      <td>21.0</td>\n",
       "      <td>Netherlands</td>\n",
       "      <td>Speed Skating</td>\n",
       "      <td>0</td>\n",
       "    </tr>\n",
       "  </tbody>\n",
       "</table>\n",
       "</div>"
      ],
      "text/plain": [
       "                       Name  Sex   Age            Team          Sport  Medal\n",
       "0                 A Dijiang    1  24.0           China     Basketball      0\n",
       "1                  A Lamusi    1  23.0           China           Judo      0\n",
       "2       Gunnar Nielsen Aaby    1  24.0         Denmark       Football      0\n",
       "3      Edgar Lindenau Aabye    1  34.0  Denmark/Sweden     Tug-Of-War      3\n",
       "4  Christine Jacoba Aaftink    0  21.0     Netherlands  Speed Skating      0"
      ]
     },
     "execution_count": 56,
     "metadata": {},
     "output_type": "execute_result"
    }
   ],
   "source": [
    "df.head()"
   ]
  },
  {
   "cell_type": "code",
   "execution_count": 57,
   "id": "4d655144",
   "metadata": {},
   "outputs": [
    {
     "name": "stdout",
     "output_type": "stream",
     "text": [
      "<class 'pandas.core.frame.DataFrame'>\n",
      "Int64Index: 254911 entries, 0 to 275641\n",
      "Data columns (total 6 columns):\n",
      " #   Column  Non-Null Count   Dtype   \n",
      "---  ------  --------------   -----   \n",
      " 0   Name    254911 non-null  object  \n",
      " 1   Sex     254911 non-null  int32   \n",
      " 2   Age     254911 non-null  float64 \n",
      " 3   Team    254911 non-null  category\n",
      " 4   Sport   254911 non-null  category\n",
      " 5   Medal   254911 non-null  int64   \n",
      "dtypes: category(2), float64(1), int32(1), int64(1), object(1)\n",
      "memory usage: 9.5+ MB\n"
     ]
    }
   ],
   "source": [
    "df.info()"
   ]
  },
  {
   "cell_type": "code",
   "execution_count": 58,
   "id": "fb5debdb",
   "metadata": {},
   "outputs": [
    {
     "data": {
      "text/html": [
       "<div>\n",
       "<style scoped>\n",
       "    .dataframe tbody tr th:only-of-type {\n",
       "        vertical-align: middle;\n",
       "    }\n",
       "\n",
       "    .dataframe tbody tr th {\n",
       "        vertical-align: top;\n",
       "    }\n",
       "\n",
       "    .dataframe thead th {\n",
       "        text-align: right;\n",
       "    }\n",
       "</style>\n",
       "<table border=\"1\" class=\"dataframe\">\n",
       "  <thead>\n",
       "    <tr style=\"text-align: right;\">\n",
       "      <th></th>\n",
       "      <th>Name</th>\n",
       "      <th>Sex</th>\n",
       "      <th>Age</th>\n",
       "      <th>Team</th>\n",
       "      <th>Sport</th>\n",
       "      <th>Medal</th>\n",
       "    </tr>\n",
       "  </thead>\n",
       "  <tbody>\n",
       "    <tr>\n",
       "      <th>0</th>\n",
       "      <td>A Dijiang</td>\n",
       "      <td>1</td>\n",
       "      <td>24.0</td>\n",
       "      <td>China</td>\n",
       "      <td>Basketball</td>\n",
       "      <td>0</td>\n",
       "    </tr>\n",
       "    <tr>\n",
       "      <th>1</th>\n",
       "      <td>A Lamusi</td>\n",
       "      <td>1</td>\n",
       "      <td>23.0</td>\n",
       "      <td>China</td>\n",
       "      <td>Judo</td>\n",
       "      <td>0</td>\n",
       "    </tr>\n",
       "    <tr>\n",
       "      <th>2</th>\n",
       "      <td>Gunnar Nielsen Aaby</td>\n",
       "      <td>1</td>\n",
       "      <td>24.0</td>\n",
       "      <td>Denmark</td>\n",
       "      <td>Football</td>\n",
       "      <td>0</td>\n",
       "    </tr>\n",
       "    <tr>\n",
       "      <th>3</th>\n",
       "      <td>Edgar Lindenau Aabye</td>\n",
       "      <td>1</td>\n",
       "      <td>34.0</td>\n",
       "      <td>Denmark/Sweden</td>\n",
       "      <td>Tug-Of-War</td>\n",
       "      <td>3</td>\n",
       "    </tr>\n",
       "    <tr>\n",
       "      <th>4</th>\n",
       "      <td>Christine Jacoba Aaftink</td>\n",
       "      <td>0</td>\n",
       "      <td>21.0</td>\n",
       "      <td>Netherlands</td>\n",
       "      <td>Speed Skating</td>\n",
       "      <td>0</td>\n",
       "    </tr>\n",
       "  </tbody>\n",
       "</table>\n",
       "</div>"
      ],
      "text/plain": [
       "                       Name  Sex   Age            Team          Sport  Medal\n",
       "0                 A Dijiang    1  24.0           China     Basketball      0\n",
       "1                  A Lamusi    1  23.0           China           Judo      0\n",
       "2       Gunnar Nielsen Aaby    1  24.0         Denmark       Football      0\n",
       "3      Edgar Lindenau Aabye    1  34.0  Denmark/Sweden     Tug-Of-War      3\n",
       "4  Christine Jacoba Aaftink    0  21.0     Netherlands  Speed Skating      0"
      ]
     },
     "execution_count": 58,
     "metadata": {},
     "output_type": "execute_result"
    }
   ],
   "source": [
    "df.head()"
   ]
  },
  {
   "cell_type": "code",
   "execution_count": 59,
   "id": "945eb0a9",
   "metadata": {},
   "outputs": [
    {
     "name": "stdout",
     "output_type": "stream",
     "text": [
      "<class 'pandas.core.frame.DataFrame'>\n",
      "Int64Index: 254911 entries, 0 to 275641\n",
      "Data columns (total 6 columns):\n",
      " #   Column  Non-Null Count   Dtype   \n",
      "---  ------  --------------   -----   \n",
      " 0   Name    254911 non-null  object  \n",
      " 1   Sex     254911 non-null  int32   \n",
      " 2   Age     254911 non-null  float64 \n",
      " 3   Team    254911 non-null  category\n",
      " 4   Sport   254911 non-null  category\n",
      " 5   Medal   254911 non-null  int64   \n",
      "dtypes: category(2), float64(1), int32(1), int64(1), object(1)\n",
      "memory usage: 9.5+ MB\n"
     ]
    }
   ],
   "source": [
    "df.info()"
   ]
  },
  {
   "cell_type": "code",
   "execution_count": 60,
   "id": "b016fab9",
   "metadata": {},
   "outputs": [
    {
     "name": "stdout",
     "output_type": "stream",
     "text": [
      "(203928, 2)\n",
      "(203928,)\n",
      "(50983, 2)\n",
      "(50983,)\n"
     ]
    }
   ],
   "source": [
    "from sklearn.model_selection import train_test_split, cross_val_score, cross_val_predict\n",
    "X = df.drop(df.columns[[0,3,4,5]], axis = 1)\n",
    "y = df[\"Medal\"]\n",
    "#randomstate her üretme işleminde farklı değerler çıkmasını istemedigimizden rastgele bir değer veriyoruz\n",
    "X_train, X_test, y_train, y_test = train_test_split(X, y, test_size = 0.20, random_state= 42)\n",
    "print(X_train.shape)\n",
    "print(y_train.shape)\n",
    "print(X_test.shape)\n",
    "print(y_test.shape)"
   ]
  },
  {
   "cell_type": "code",
   "execution_count": 61,
   "id": "b19d3b1c",
   "metadata": {},
   "outputs": [
    {
     "data": {
      "text/plain": [
       "(254911, 6)"
      ]
     },
     "execution_count": 61,
     "metadata": {},
     "output_type": "execute_result"
    }
   ],
   "source": [
    "#verisetinin bütününün kopyası\n",
    "training = df.copy()\n",
    "training.shape"
   ]
  },
  {
   "cell_type": "code",
   "execution_count": 62,
   "id": "78ddc0d4",
   "metadata": {},
   "outputs": [
    {
     "name": "stdout",
     "output_type": "stream",
     "text": [
      "0.13741979938886567\n",
      "[-0.02288492  0.00745623]\n"
     ]
    }
   ],
   "source": [
    "from sklearn.linear_model import LinearRegression\n",
    "lm = LinearRegression()\n",
    "model = lm.fit(X_train, y_train)\n",
    "#sabit katsayı\n",
    "print(model.intercept_)\n",
    "#bağımsız deşişken katsayıları \n",
    "print(model.coef_)"
   ]
  },
  {
   "cell_type": "markdown",
   "id": "649e09c0",
   "metadata": {},
   "source": [
    "Tahmin"
   ]
  },
  {
   "cell_type": "code",
   "execution_count": 63,
   "id": "d0d59537",
   "metadata": {},
   "outputs": [
    {
     "data": {
      "text/html": [
       "<div>\n",
       "<style scoped>\n",
       "    .dataframe tbody tr th:only-of-type {\n",
       "        vertical-align: middle;\n",
       "    }\n",
       "\n",
       "    .dataframe tbody tr th {\n",
       "        vertical-align: top;\n",
       "    }\n",
       "\n",
       "    .dataframe thead th {\n",
       "        text-align: right;\n",
       "    }\n",
       "</style>\n",
       "<table border=\"1\" class=\"dataframe\">\n",
       "  <thead>\n",
       "    <tr style=\"text-align: right;\">\n",
       "      <th></th>\n",
       "      <th>0</th>\n",
       "      <th>1</th>\n",
       "    </tr>\n",
       "  </thead>\n",
       "  <tbody>\n",
       "    <tr>\n",
       "      <th>0</th>\n",
       "      <td>1</td>\n",
       "      <td>25</td>\n",
       "    </tr>\n",
       "  </tbody>\n",
       "</table>\n",
       "</div>"
      ],
      "text/plain": [
       "   0   1\n",
       "0  1  25"
      ]
     },
     "execution_count": 63,
     "metadata": {},
     "output_type": "execute_result"
    }
   ],
   "source": [
    "yeni_veri = [[1], [25]]\n",
    "yeni_veri = pd.DataFrame(yeni_veri).T\n",
    "yeni_veri"
   ]
  },
  {
   "cell_type": "code",
   "execution_count": 64,
   "id": "93702dec",
   "metadata": {},
   "outputs": [
    {
     "data": {
      "text/plain": [
       "array([0.30094057])"
      ]
     },
     "execution_count": 64,
     "metadata": {},
     "output_type": "execute_result"
    }
   ],
   "source": [
    "model.predict(yeni_veri)"
   ]
  },
  {
   "cell_type": "code",
   "execution_count": 65,
   "id": "5fce025d",
   "metadata": {},
   "outputs": [
    {
     "data": {
      "text/html": [
       "<div>\n",
       "<style scoped>\n",
       "    .dataframe tbody tr th:only-of-type {\n",
       "        vertical-align: middle;\n",
       "    }\n",
       "\n",
       "    .dataframe tbody tr th {\n",
       "        vertical-align: top;\n",
       "    }\n",
       "\n",
       "    .dataframe thead th {\n",
       "        text-align: right;\n",
       "    }\n",
       "</style>\n",
       "<table border=\"1\" class=\"dataframe\">\n",
       "  <thead>\n",
       "    <tr style=\"text-align: right;\">\n",
       "      <th></th>\n",
       "      <th>0</th>\n",
       "      <th>1</th>\n",
       "    </tr>\n",
       "  </thead>\n",
       "  <tbody>\n",
       "    <tr>\n",
       "      <th>0</th>\n",
       "      <td>0</td>\n",
       "      <td>25</td>\n",
       "    </tr>\n",
       "  </tbody>\n",
       "</table>\n",
       "</div>"
      ],
      "text/plain": [
       "   0   1\n",
       "0  0  25"
      ]
     },
     "execution_count": 65,
     "metadata": {},
     "output_type": "execute_result"
    }
   ],
   "source": [
    "yeni_veri2 = [[0], [25]]\n",
    "yeni_veri2 = pd.DataFrame(yeni_veri2).T\n",
    "yeni_veri2"
   ]
  },
  {
   "cell_type": "code",
   "execution_count": 66,
   "id": "fac7e0aa",
   "metadata": {},
   "outputs": [
    {
     "data": {
      "text/plain": [
       "array([0.3238255])"
      ]
     },
     "execution_count": 66,
     "metadata": {},
     "output_type": "execute_result"
    }
   ],
   "source": [
    "model.predict(yeni_veri2)"
   ]
  },
  {
   "cell_type": "code",
   "execution_count": 67,
   "id": "8421d5a6",
   "metadata": {},
   "outputs": [
    {
     "data": {
      "text/plain": [
       "0.7877891314438497"
      ]
     },
     "execution_count": 67,
     "metadata": {},
     "output_type": "execute_result"
    }
   ],
   "source": [
    "from sklearn.metrics import mean_squared_error\n",
    "#eğitim hatası\n",
    "rmse = np.sqrt(mean_squared_error(y_train, model.predict(X_train)))\n",
    "rmse"
   ]
  },
  {
   "cell_type": "code",
   "execution_count": 68,
   "id": "f3f9be6f",
   "metadata": {},
   "outputs": [
    {
     "data": {
      "text/plain": [
       "0.7980374237733182"
      ]
     },
     "execution_count": 68,
     "metadata": {},
     "output_type": "execute_result"
    }
   ],
   "source": [
    "#test hatası\n",
    "rmse = np.sqrt(mean_squared_error(y_test, model.predict(X_test)))\n",
    "rmse"
   ]
  },
  {
   "cell_type": "markdown",
   "id": "19f707aa",
   "metadata": {},
   "source": [
    "Model Tuning / Model Doğrulama"
   ]
  },
  {
   "cell_type": "code",
   "execution_count": 69,
   "id": "804312e3",
   "metadata": {},
   "outputs": [
    {
     "data": {
      "text/html": [
       "<div>\n",
       "<style scoped>\n",
       "    .dataframe tbody tr th:only-of-type {\n",
       "        vertical-align: middle;\n",
       "    }\n",
       "\n",
       "    .dataframe tbody tr th {\n",
       "        vertical-align: top;\n",
       "    }\n",
       "\n",
       "    .dataframe thead th {\n",
       "        text-align: right;\n",
       "    }\n",
       "</style>\n",
       "<table border=\"1\" class=\"dataframe\">\n",
       "  <thead>\n",
       "    <tr style=\"text-align: right;\">\n",
       "      <th></th>\n",
       "      <th>Name</th>\n",
       "      <th>Sex</th>\n",
       "      <th>Age</th>\n",
       "      <th>Team</th>\n",
       "      <th>Sport</th>\n",
       "      <th>Medal</th>\n",
       "    </tr>\n",
       "  </thead>\n",
       "  <tbody>\n",
       "    <tr>\n",
       "      <th>0</th>\n",
       "      <td>A Dijiang</td>\n",
       "      <td>1</td>\n",
       "      <td>24.0</td>\n",
       "      <td>China</td>\n",
       "      <td>Basketball</td>\n",
       "      <td>0</td>\n",
       "    </tr>\n",
       "    <tr>\n",
       "      <th>1</th>\n",
       "      <td>A Lamusi</td>\n",
       "      <td>1</td>\n",
       "      <td>23.0</td>\n",
       "      <td>China</td>\n",
       "      <td>Judo</td>\n",
       "      <td>0</td>\n",
       "    </tr>\n",
       "    <tr>\n",
       "      <th>2</th>\n",
       "      <td>Gunnar Nielsen Aaby</td>\n",
       "      <td>1</td>\n",
       "      <td>24.0</td>\n",
       "      <td>Denmark</td>\n",
       "      <td>Football</td>\n",
       "      <td>0</td>\n",
       "    </tr>\n",
       "    <tr>\n",
       "      <th>3</th>\n",
       "      <td>Edgar Lindenau Aabye</td>\n",
       "      <td>1</td>\n",
       "      <td>34.0</td>\n",
       "      <td>Denmark/Sweden</td>\n",
       "      <td>Tug-Of-War</td>\n",
       "      <td>3</td>\n",
       "    </tr>\n",
       "    <tr>\n",
       "      <th>4</th>\n",
       "      <td>Christine Jacoba Aaftink</td>\n",
       "      <td>0</td>\n",
       "      <td>21.0</td>\n",
       "      <td>Netherlands</td>\n",
       "      <td>Speed Skating</td>\n",
       "      <td>0</td>\n",
       "    </tr>\n",
       "  </tbody>\n",
       "</table>\n",
       "</div>"
      ],
      "text/plain": [
       "                       Name  Sex   Age            Team          Sport  Medal\n",
       "0                 A Dijiang    1  24.0           China     Basketball      0\n",
       "1                  A Lamusi    1  23.0           China           Judo      0\n",
       "2       Gunnar Nielsen Aaby    1  24.0         Denmark       Football      0\n",
       "3      Edgar Lindenau Aabye    1  34.0  Denmark/Sweden     Tug-Of-War      3\n",
       "4  Christine Jacoba Aaftink    0  21.0     Netherlands  Speed Skating      0"
      ]
     },
     "execution_count": 69,
     "metadata": {},
     "output_type": "execute_result"
    }
   ],
   "source": [
    "df.head()"
   ]
  },
  {
   "cell_type": "code",
   "execution_count": 70,
   "id": "763e1759",
   "metadata": {},
   "outputs": [
    {
     "name": "stdout",
     "output_type": "stream",
     "text": [
      "(203928, 2)\n",
      "(203928,)\n",
      "(50983, 2)\n",
      "(50983,)\n"
     ]
    }
   ],
   "source": [
    "from sklearn.model_selection import train_test_split, cross_val_score, cross_val_predict\n",
    "X = df.drop(df.columns[[0,3,4,5]], axis = 1)\n",
    "y = df[\"Medal\"]\n",
    "#randomstate her üretme işleminde farklı değerler çıkmasını istemedigimizden rastgele bir değer veriyoruz\n",
    "X_train, X_test, y_train, y_test = train_test_split(X, y, test_size = 0.20, random_state= 42)\n",
    "print(X_train.shape)\n",
    "print(y_train.shape)\n",
    "print(X_test.shape)\n",
    "print(y_test.shape)"
   ]
  },
  {
   "cell_type": "code",
   "execution_count": 71,
   "id": "854bd067",
   "metadata": {},
   "outputs": [
    {
     "name": "stdout",
     "output_type": "stream",
     "text": [
      "0.7877891314438497\n",
      "0.7980374237733182\n"
     ]
    },
    {
     "data": {
      "text/plain": [
       "0.0020497206448584215"
      ]
     },
     "execution_count": 71,
     "metadata": {},
     "output_type": "execute_result"
    }
   ],
   "source": [
    "rmseTrain=np.sqrt(mean_squared_error(y_train, model.predict(X_train)))\n",
    "print(rmseTrain)\n",
    "rmseTest=np.sqrt(mean_squared_error(y_test, model.predict(X_test)))\n",
    "print(rmseTest)\n",
    "model.score(X_train, y_train)"
   ]
  },
  {
   "cell_type": "code",
   "execution_count": 72,
   "id": "9534b683",
   "metadata": {},
   "outputs": [
    {
     "data": {
      "text/plain": [
       "0.0020136801125551274"
      ]
     },
     "execution_count": 72,
     "metadata": {},
     "output_type": "execute_result"
    }
   ],
   "source": [
    "#eğitim verileri için çapraz doğrulama ile elde edilmiş ortalama r2 skoru\n",
    "cross_val_score(model, X_train, y_train, cv = 10, scoring = \"r2\").mean()"
   ]
  },
  {
   "cell_type": "code",
   "execution_count": 73,
   "id": "72380773",
   "metadata": {},
   "outputs": [
    {
     "name": "stdout",
     "output_type": "stream",
     "text": [
      "0.787783307677958\n",
      "0.7979453299601232\n"
     ]
    }
   ],
   "source": [
    "#neg_mean_squared_error'da sonuc negatif olacağı için üstte (-) ile çarpıyoruz \n",
    "rmseTrain=np.sqrt(-cross_val_score(model, \n",
    "                X_train, \n",
    "                y_train, \n",
    "                cv = 10, \n",
    "                scoring = \"neg_mean_squared_error\")).mean()\n",
    "print(rmseTrain)\n",
    "rmseTest=np.sqrt(-cross_val_score(model, \n",
    "                X_test, \n",
    "                y_test, \n",
    "                cv = 10, \n",
    "                scoring = \"neg_mean_squared_error\")).mean()\n",
    "print(rmseTest)"
   ]
  },
  {
   "cell_type": "markdown",
   "id": "0b4c6004",
   "metadata": {},
   "source": [
    "rmseTrain = 0.787783307677958 / \n",
    "rmseTest = 0.7979453299601232"
   ]
  },
  {
   "cell_type": "markdown",
   "id": "7668fbc3",
   "metadata": {},
   "source": [
    "### 1.3. PCR (Temel Bileşen Regresyonu - Principal Component Regression)"
   ]
  },
  {
   "cell_type": "code",
   "execution_count": 74,
   "id": "45bd7cb0",
   "metadata": {},
   "outputs": [
    {
     "name": "stdout",
     "output_type": "stream",
     "text": [
      "X_train (191183, 2)\n",
      "y_train (191183,)\n",
      "X_test (63728, 2)\n",
      "y_test (63728,)\n",
      "training (254911, 6)\n"
     ]
    }
   ],
   "source": [
    "from sklearn.model_selection import train_test_split, cross_val_score, cross_val_predict\n",
    "X = df.drop(df.columns[[0,3,4,5]], axis = 1)\n",
    "y = df[\"Medal\"]\n",
    "X_train, X_test, y_train, y_test = train_test_split(X, y, test_size=0.25, random_state=42)\n",
    "print(\"X_train\", X_train.shape)\n",
    "print(\"y_train\",y_train.shape)\n",
    "print(\"X_test\",X_test.shape)\n",
    "print(\"y_test\",y_test.shape)\n",
    "training = df.copy()\n",
    "print(\"training\", training.shape)"
   ]
  },
  {
   "cell_type": "code",
   "execution_count": 75,
   "id": "66cb59b5",
   "metadata": {},
   "outputs": [
    {
     "data": {
      "text/plain": [
       "array([[-0.7813864 , -0.12833126]])"
      ]
     },
     "execution_count": 75,
     "metadata": {},
     "output_type": "execute_result"
    }
   ],
   "source": [
    "from sklearn.decomposition import PCA\n",
    "from sklearn.preprocessing import scale \n",
    "pca = PCA()\n",
    "#indirgenmiş veriseti (transform indirgeme islemi)(scale islemi veri standardizasyonu yapmayi saglar)\n",
    "\n",
    "X_reduced_train = pca.fit_transform(scale(X_train))\n",
    "#ilk gözlemin tüm bileşenlerde incelenmesi\n",
    "X_reduced_train[0:1,:]\n",
    "#Normalde PCA n_components yani bileşen sayısı parametresini alır. Eğer parametreyi vermezsek bütün bileşenleri kullanır."
   ]
  },
  {
   "cell_type": "code",
   "execution_count": 76,
   "id": "cfa7cd2a",
   "metadata": {},
   "outputs": [
    {
     "data": {
      "text/plain": [
       "array([ 58.75, 100.  ])"
      ]
     },
     "execution_count": 76,
     "metadata": {},
     "output_type": "execute_result"
    }
   ],
   "source": [
    "#açıklanan varyans oranı\n",
    "np.cumsum(np.round(pca.explained_variance_ratio_, decimals = 4)*100)\n",
    "#1. bilesen verisetindeki varyansın %58,75ini ifade ettiğini belirtir.\n",
    "#2. bileşenin kendinden önceki bileşenle birlikte verisetindeki varyansın %100ünü ifade ettiğini belirtir."
   ]
  },
  {
   "cell_type": "code",
   "execution_count": 77,
   "id": "a9909b46",
   "metadata": {},
   "outputs": [
    {
     "name": "stdout",
     "output_type": "stream",
     "text": [
      "0.3064027659363019\n",
      "[-0.01777458  0.03353751]\n"
     ]
    }
   ],
   "source": [
    "lm = LinearRegression()\n",
    "pcr_model = lm.fit(X_reduced_train, y_train)\n",
    "print(pcr_model.intercept_)\n",
    "print(pcr_model.coef_)"
   ]
  },
  {
   "cell_type": "markdown",
   "id": "2a443b44",
   "metadata": {},
   "source": [
    "Tahmin"
   ]
  },
  {
   "cell_type": "code",
   "execution_count": 78,
   "id": "67d1a9a6",
   "metadata": {},
   "outputs": [
    {
     "data": {
      "text/plain": [
       "array([0.31598767, 0.25593071, 0.36103039, 0.27845207, 0.28595919])"
      ]
     },
     "execution_count": 78,
     "metadata": {},
     "output_type": "execute_result"
    }
   ],
   "source": [
    "y_pred = pcr_model.predict(X_reduced_train)\n",
    "y_pred[0:5]"
   ]
  },
  {
   "cell_type": "code",
   "execution_count": 79,
   "id": "4f1636a1",
   "metadata": {},
   "outputs": [
    {
     "data": {
      "text/plain": [
       "0.7884112188018152"
      ]
     },
     "execution_count": 79,
     "metadata": {},
     "output_type": "execute_result"
    }
   ],
   "source": [
    "from sklearn.metrics import mean_squared_error, r2_score\n",
    "np.sqrt(mean_squared_error(y_train, y_pred))"
   ]
  },
  {
   "cell_type": "code",
   "execution_count": 80,
   "id": "c7355b18",
   "metadata": {},
   "outputs": [
    {
     "data": {
      "text/plain": [
       "0.3070601111760575"
      ]
     },
     "execution_count": 80,
     "metadata": {},
     "output_type": "execute_result"
    }
   ],
   "source": [
    "df[\"Medal\"].mean()"
   ]
  },
  {
   "cell_type": "code",
   "execution_count": 81,
   "id": "e4429eb9",
   "metadata": {},
   "outputs": [
    {
     "data": {
      "text/plain": [
       "0.00208555809020472"
      ]
     },
     "execution_count": 81,
     "metadata": {},
     "output_type": "execute_result"
    }
   ],
   "source": [
    "r2_score(y_train, y_pred)"
   ]
  },
  {
   "cell_type": "code",
   "execution_count": 82,
   "id": "eeee14c9",
   "metadata": {},
   "outputs": [
    {
     "data": {
      "text/plain": [
       "0.7941461888922481"
      ]
     },
     "execution_count": 82,
     "metadata": {},
     "output_type": "execute_result"
    }
   ],
   "source": [
    "pca2 = PCA()\n",
    "X_reduced_test = pca2.fit_transform(scale(X_test))\n",
    "y_pred = pcr_model.predict(X_reduced_test)\n",
    "np.sqrt(mean_squared_error(y_test, y_pred))"
   ]
  },
  {
   "cell_type": "markdown",
   "id": "2fb40686",
   "metadata": {},
   "source": [
    "Model Tuning"
   ]
  },
  {
   "cell_type": "code",
   "execution_count": 83,
   "id": "137984ea",
   "metadata": {},
   "outputs": [
    {
     "name": "stdout",
     "output_type": "stream",
     "text": [
      "0.7941461888922481\n"
     ]
    }
   ],
   "source": [
    "lm = LinearRegression()\n",
    "#tüm bileşenlerle ile deneyelim\n",
    "pcr_model = lm.fit(X_reduced_train, y_train)\n",
    "y_pred = pcr_model.predict(X_reduced_test)\n",
    "print(np.sqrt(mean_squared_error(y_test, y_pred)))"
   ]
  },
  {
   "cell_type": "code",
   "execution_count": 84,
   "id": "f0680942",
   "metadata": {},
   "outputs": [
    {
     "name": "stdout",
     "output_type": "stream",
     "text": [
      "0.7941461888922481\n"
     ]
    }
   ],
   "source": [
    "lm = LinearRegression()\n",
    "#15 bileşenle ile bir deneyelim\n",
    "pcr_model = lm.fit(X_reduced_train[:,0:15], y_train)\n",
    "y_pred = pcr_model.predict(X_reduced_test[:,0:15])\n",
    "print(np.sqrt(mean_squared_error(y_test, y_pred)))"
   ]
  },
  {
   "cell_type": "code",
   "execution_count": 85,
   "id": "a20844a1",
   "metadata": {},
   "outputs": [],
   "source": [
    "#cross validation sayesinde olası bileşen sayılarıni gonderip optimum bileşen sayısını belirleyebiliriz \n",
    "from sklearn import model_selection\n",
    "cv_10 = model_selection.KFold(n_splits = 10,shuffle = True,random_state = 1)\n",
    "lm = LinearRegression()\n",
    "RMSE = []\n",
    "\n",
    "for i in np.arange(1, X_reduced_train.shape[1] + 1):\n",
    "    score = np.sqrt(-1*model_selection.cross_val_score(lm, X_reduced_train[:,:i], y_train.ravel(), cv=cv_10, scoring='neg_mean_squared_error').mean())\n",
    "    RMSE.append(score)"
   ]
  },
  {
   "cell_type": "code",
   "execution_count": 86,
   "id": "b246c961",
   "metadata": {},
   "outputs": [
    {
     "data": {
      "image/png": "[encoded data removed]",
      "text/plain": [
       "<Figure size 432x288 with 1 Axes>"
      ]
     },
     "metadata": {
      "needs_background": "light"
     },
     "output_type": "display_data"
    }
   ],
   "source": [
    "import matplotlib.pyplot as plt\n",
    "plt.plot(RMSE, '-v')\n",
    "plt.xlabel('Bileşen Sayısı')\n",
    "plt.ylabel('RMSE')\n",
    "plt.title('Madalya Tahmin Modeli İçin PCR Model Tuning');"
   ]
  },
  {
   "cell_type": "markdown",
   "id": "db3b7393",
   "metadata": {},
   "source": [
    "Grafikten de anlaşılacağı üzere bileşen sayısını 1 seçmek en düşük hataya erişmemizi sağlayacaktır."
   ]
  },
  {
   "cell_type": "code",
   "execution_count": 87,
   "id": "306a65be",
   "metadata": {},
   "outputs": [
    {
     "name": "stdout",
     "output_type": "stream",
     "text": [
      "0.7889994109962581\n",
      "0.7946808409876422\n"
     ]
    }
   ],
   "source": [
    "lm = LinearRegression()\n",
    "pcr_model = lm.fit(X_reduced_train[:,0:1], y_train)\n",
    "y_pred = pcr_model.predict(X_reduced_train[:,0:1])\n",
    "print(np.sqrt(mean_squared_error(y_train, y_pred)))\n",
    "y_pred = pcr_model.predict(X_reduced_test[:,0:1])\n",
    "print(np.sqrt(mean_squared_error(y_test, y_pred)))"
   ]
  },
  {
   "cell_type": "markdown",
   "id": "59199182",
   "metadata": {},
   "source": [
    "### 1.4. PLS (Kısmi En Küçük Kareler Regresyonu)"
   ]
  },
  {
   "cell_type": "code",
   "execution_count": 88,
   "id": "e28a253e",
   "metadata": {},
   "outputs": [],
   "source": [
    "from sklearn.model_selection import train_test_split, cross_val_score, cross_val_predict\n",
    "X = df.drop(df.columns[[0,3,4,5]], axis = 1)\n",
    "y = df[\"Medal\"]\n",
    "X_train, X_test, y_train, y_test = train_test_split(X, y, test_size=0.25, random_state=42)\n",
    "training = df.copy()"
   ]
  },
  {
   "cell_type": "code",
   "execution_count": 89,
   "id": "f4efbc5b",
   "metadata": {},
   "outputs": [
    {
     "data": {
      "text/plain": [
       "array([[-0.01114611],\n",
       "       [ 0.03628322]])"
      ]
     },
     "execution_count": 89,
     "metadata": {},
     "output_type": "execute_result"
    }
   ],
   "source": [
    "from sklearn.cross_decomposition import PLSRegression, PLSSVD\n",
    "#tum bilesenler alindi\n",
    "pls_model = PLSRegression().fit(X_train, y_train)\n",
    "#3 bilesene indirgeyebiliriz ancak bu ara katmandaki PLS factor sayisini belirler, degisken sayisi gene aynidir.\n",
    "#pls_model = PLSRegression(n_components=3).fit(X_train, y_train)\n",
    "pls_model.coef_"
   ]
  },
  {
   "cell_type": "code",
   "execution_count": 90,
   "id": "eedda45e",
   "metadata": {},
   "outputs": [
    {
     "data": {
      "text/html": [
       "<div>\n",
       "<style scoped>\n",
       "    .dataframe tbody tr th:only-of-type {\n",
       "        vertical-align: middle;\n",
       "    }\n",
       "\n",
       "    .dataframe tbody tr th {\n",
       "        vertical-align: top;\n",
       "    }\n",
       "\n",
       "    .dataframe thead th {\n",
       "        text-align: right;\n",
       "    }\n",
       "</style>\n",
       "<table border=\"1\" class=\"dataframe\">\n",
       "  <thead>\n",
       "    <tr style=\"text-align: right;\">\n",
       "      <th></th>\n",
       "      <th>Sex</th>\n",
       "      <th>Age</th>\n",
       "    </tr>\n",
       "  </thead>\n",
       "  <tbody>\n",
       "    <tr>\n",
       "      <th>241952</th>\n",
       "      <td>1</td>\n",
       "      <td>27.0</td>\n",
       "    </tr>\n",
       "    <tr>\n",
       "      <th>238633</th>\n",
       "      <td>1</td>\n",
       "      <td>19.0</td>\n",
       "    </tr>\n",
       "    <tr>\n",
       "      <th>225994</th>\n",
       "      <td>1</td>\n",
       "      <td>33.0</td>\n",
       "    </tr>\n",
       "    <tr>\n",
       "      <th>210203</th>\n",
       "      <td>1</td>\n",
       "      <td>22.0</td>\n",
       "    </tr>\n",
       "    <tr>\n",
       "      <th>9189</th>\n",
       "      <td>1</td>\n",
       "      <td>23.0</td>\n",
       "    </tr>\n",
       "  </tbody>\n",
       "</table>\n",
       "</div>"
      ],
      "text/plain": [
       "        Sex   Age\n",
       "241952    1  27.0\n",
       "238633    1  19.0\n",
       "225994    1  33.0\n",
       "210203    1  22.0\n",
       "9189      1  23.0"
      ]
     },
     "execution_count": 90,
     "metadata": {},
     "output_type": "execute_result"
    }
   ],
   "source": [
    "X_train.head()"
   ]
  },
  {
   "cell_type": "code",
   "execution_count": 91,
   "id": "bc9678dc",
   "metadata": {},
   "outputs": [
    {
     "data": {
      "text/plain": [
       "array([[0.31598767],\n",
       "       [0.25593071],\n",
       "       [0.36103039],\n",
       "       ...,\n",
       "       [0.30848055],\n",
       "       [0.28793502],\n",
       "       [0.37604463]])"
      ]
     },
     "execution_count": 91,
     "metadata": {},
     "output_type": "execute_result"
    }
   ],
   "source": [
    "pls_model.predict(X_train)"
   ]
  },
  {
   "cell_type": "code",
   "execution_count": 92,
   "id": "1ed0bb20",
   "metadata": {},
   "outputs": [
    {
     "data": {
      "text/plain": [
       "0.7884112188018152"
      ]
     },
     "execution_count": 92,
     "metadata": {},
     "output_type": "execute_result"
    }
   ],
   "source": [
    "from sklearn.metrics import mean_squared_error, r2_score\n",
    "y_pred = pls_model.predict(X_train)\n",
    "np.sqrt(mean_squared_error(y_train, y_pred))"
   ]
  },
  {
   "cell_type": "code",
   "execution_count": 93,
   "id": "3462ca06",
   "metadata": {},
   "outputs": [
    {
     "data": {
      "text/plain": [
       "0.00208555809020472"
      ]
     },
     "execution_count": 93,
     "metadata": {},
     "output_type": "execute_result"
    }
   ],
   "source": [
    "r2_score(y_train, y_pred)"
   ]
  },
  {
   "cell_type": "code",
   "execution_count": 94,
   "id": "62b9d18d",
   "metadata": {},
   "outputs": [
    {
     "data": {
      "text/plain": [
       "0.7941458893681376"
      ]
     },
     "execution_count": 94,
     "metadata": {},
     "output_type": "execute_result"
    }
   ],
   "source": [
    "y_pred = pls_model.predict(X_test)\n",
    "np.sqrt(mean_squared_error(y_test, y_pred))\n"
   ]
  },
  {
   "cell_type": "markdown",
   "id": "f3548be7",
   "metadata": {},
   "source": [
    "Model Tuning"
   ]
  },
  {
   "cell_type": "code",
   "execution_count": 95,
   "id": "6c90a0cc",
   "metadata": {},
   "outputs": [
    {
     "data": {
      "image/png": "[encoded data removed]",
      "text/plain": [
       "<Figure size 432x288 with 1 Axes>"
      ]
     },
     "metadata": {
      "needs_background": "light"
     },
     "output_type": "display_data"
    }
   ],
   "source": [
    "#CV\n",
    "cv_10 = model_selection.KFold(n_splits=10, shuffle=True, random_state=1)\n",
    "\n",
    "#Hata hesaplamak için döngü\n",
    "RMSE = []\n",
    "\n",
    "for i in np.arange(1, X_train.shape[1] + 1):\n",
    "    pls = PLSRegression(n_components=i)\n",
    "    score = np.sqrt(-1*cross_val_score(pls, X_train, y_train, cv=cv_10, scoring='neg_mean_squared_error').mean())\n",
    "    RMSE.append(score)\n",
    "\n",
    "#Sonuçların Görselleştirilmesi\n",
    "import matplotlib.pyplot as plt\n",
    "plt.plot(np.arange(1, X_train.shape[1] + 1), np.array(RMSE), '-v', c = \"r\")\n",
    "plt.xlabel('Bileşen Sayısı')\n",
    "plt.ylabel('RMSE')\n",
    "plt.title('Medal');"
   ]
  },
  {
   "cell_type": "code",
   "execution_count": 96,
   "id": "263fc7f4",
   "metadata": {},
   "outputs": [],
   "source": [
    "pls_model = PLSRegression(n_components = 2).fit(X_train, y_train)"
   ]
  },
  {
   "cell_type": "code",
   "execution_count": 97,
   "id": "e903d1c2",
   "metadata": {},
   "outputs": [],
   "source": [
    "y_pred = pls_model.predict(X_test)"
   ]
  },
  {
   "cell_type": "code",
   "execution_count": 98,
   "id": "5ef50e89",
   "metadata": {},
   "outputs": [
    {
     "data": {
      "text/plain": [
       "0.7941458893681376"
      ]
     },
     "execution_count": 98,
     "metadata": {},
     "output_type": "execute_result"
    }
   ],
   "source": [
    "np.sqrt(mean_squared_error(y_test, y_pred))"
   ]
  },
  {
   "cell_type": "markdown",
   "id": "0f3f66b9",
   "metadata": {},
   "source": [
    "### 1.5. Ridge Regresyon"
   ]
  },
  {
   "cell_type": "code",
   "execution_count": 99,
   "id": "ff580702",
   "metadata": {},
   "outputs": [],
   "source": [
    "from sklearn.model_selection import train_test_split, cross_val_score, cross_val_predict\n",
    "X = df.drop(df.columns[[0,3,4,5]], axis = 1)\n",
    "y = df[\"Medal\"]\n",
    "X_train, X_test, y_train, y_test = train_test_split(X, y, test_size=0.25, random_state=42)\n",
    "training = df.copy()"
   ]
  },
  {
   "cell_type": "code",
   "execution_count": 100,
   "id": "24acffce",
   "metadata": {},
   "outputs": [
    {
     "data": {
      "text/plain": [
       "Ridge(alpha=0.1)"
      ]
     },
     "execution_count": 100,
     "metadata": {},
     "output_type": "execute_result"
    }
   ],
   "source": [
    "from sklearn.linear_model import Ridge\n",
    "#alpha=lambda\n",
    "ridge_model = Ridge(alpha = 0.1).fit(X_train, y_train)\n",
    "ridge_model"
   ]
  },
  {
   "cell_type": "code",
   "execution_count": 101,
   "id": "a223cf8c",
   "metadata": {},
   "outputs": [
    {
     "data": {
      "text/plain": [
       "array([-0.02449712,  0.00750712])"
      ]
     },
     "execution_count": 101,
     "metadata": {},
     "output_type": "execute_result"
    }
   ],
   "source": [
    "ridge_model.coef_"
   ]
  },
  {
   "cell_type": "code",
   "execution_count": 102,
   "id": "25639fc8",
   "metadata": {},
   "outputs": [
    {
     "data": {
      "image/png": "[encoded data removed]",
      "text/plain": [
       "<Figure size 432x288 with 1 Axes>"
      ]
     },
     "metadata": {
      "needs_background": "light"
     },
     "output_type": "display_data"
    }
   ],
   "source": [
    "#belirlenen aralıkta lambda değerleri oluşturuyoruz\n",
    "lambdalar = 10**np.linspace(10,-2,100)*0.5 \n",
    "\n",
    "ridge_model = Ridge()\n",
    "katsayilar = []\n",
    "\n",
    "for i in lambdalar:\n",
    "    ridge_model.set_params(alpha = i)\n",
    "    ridge_model.fit(X_train, y_train) \n",
    "    katsayilar.append(ridge_model.coef_) \n",
    "    \n",
    "\n",
    "import matplotlib.pyplot as plt    \n",
    "ax = plt.gca()\n",
    "ax.plot(lambdalar, katsayilar) \n",
    "ax.set_xscale('log') \n",
    "\n",
    "plt.xlabel('Lambda(Alpha) Değerleri')\n",
    "plt.ylabel('Katsayılar/Ağırlıklar')\n",
    "plt.title('Düzenlileştirmenin Bir Fonksiyonu Olarak Ridge Katsayıları');"
   ]
  },
  {
   "cell_type": "markdown",
   "id": "0239ed24",
   "metadata": {},
   "source": [
    "Tahmin"
   ]
  },
  {
   "cell_type": "code",
   "execution_count": 103,
   "id": "88ba5f5b",
   "metadata": {},
   "outputs": [],
   "source": [
    "y_pred = ridge_model.predict(X_test)"
   ]
  },
  {
   "cell_type": "code",
   "execution_count": 104,
   "id": "0bc155e4",
   "metadata": {},
   "outputs": [
    {
     "data": {
      "text/plain": [
       "0.7941458893666258"
      ]
     },
     "execution_count": 104,
     "metadata": {},
     "output_type": "execute_result"
    }
   ],
   "source": [
    "from sklearn.metrics import mean_squared_error, r2_score\n",
    "np.sqrt(mean_squared_error(y_test, y_pred))"
   ]
  },
  {
   "cell_type": "markdown",
   "id": "3838b429",
   "metadata": {},
   "source": [
    "Model Tuning"
   ]
  },
  {
   "cell_type": "code",
   "execution_count": 105,
   "id": "a2ca87a5",
   "metadata": {},
   "outputs": [
    {
     "data": {
      "text/plain": [
       "array([5.00000000e+09, 3.78231664e+09, 2.86118383e+09, 2.16438064e+09,\n",
       "       1.63727458e+09])"
      ]
     },
     "execution_count": 105,
     "metadata": {},
     "output_type": "execute_result"
    }
   ],
   "source": [
    "lambdalar = 10**np.linspace(10,-2,100)*0.5 \n",
    "lambdalar[0:5]"
   ]
  },
  {
   "cell_type": "code",
   "execution_count": 106,
   "id": "962968cf",
   "metadata": {},
   "outputs": [
    {
     "data": {
      "text/plain": [
       "RidgeCV(alphas=array([5.00000000e+09, 3.78231664e+09, 2.86118383e+09, 2.16438064e+09,\n",
       "       1.63727458e+09, 1.23853818e+09, 9.36908711e+08, 7.08737081e+08,\n",
       "       5.36133611e+08, 4.05565415e+08, 3.06795364e+08, 2.32079442e+08,\n",
       "       1.75559587e+08, 1.32804389e+08, 1.00461650e+08, 7.59955541e+07,\n",
       "       5.74878498e+07, 4.34874501e+07, 3.28966612e+07, 2.48851178e+07,\n",
       "       1.88246790e+07, 1.42401793e+0...\n",
       "       1.00461650e+00, 7.59955541e-01, 5.74878498e-01, 4.34874501e-01,\n",
       "       3.28966612e-01, 2.48851178e-01, 1.88246790e-01, 1.42401793e-01,\n",
       "       1.07721735e-01, 8.14875417e-02, 6.16423370e-02, 4.66301673e-02,\n",
       "       3.52740116e-02, 2.66834962e-02, 2.01850863e-02, 1.52692775e-02,\n",
       "       1.15506485e-02, 8.73764200e-03, 6.60970574e-03, 5.00000000e-03]),\n",
       "        normalize=True, scoring='neg_mean_squared_error')"
      ]
     },
     "execution_count": 106,
     "metadata": {},
     "output_type": "execute_result"
    }
   ],
   "source": [
    "from sklearn.linear_model import RidgeCV\n",
    "ridge_cv = RidgeCV(alphas = lambdalar, \n",
    "                   scoring = \"neg_mean_squared_error\",\n",
    "                   normalize = True)\n",
    "ridge_cv.fit(X_train, y_train)"
   ]
  },
  {
   "cell_type": "code",
   "execution_count": 107,
   "id": "f6639c02",
   "metadata": {},
   "outputs": [
    {
     "data": {
      "text/plain": [
       "0.005"
      ]
     },
     "execution_count": 107,
     "metadata": {},
     "output_type": "execute_result"
    }
   ],
   "source": [
    "#optimum lambda değerini bulduk\n",
    "ridge_cv.alpha_"
   ]
  },
  {
   "cell_type": "code",
   "execution_count": 108,
   "id": "42551427",
   "metadata": {},
   "outputs": [],
   "source": [
    "ridge_tuned = Ridge(alpha = ridge_cv.alpha_, \n",
    "                   normalize = True).fit(X_train,y_train)"
   ]
  },
  {
   "cell_type": "code",
   "execution_count": 109,
   "id": "7c42d3d2",
   "metadata": {},
   "outputs": [
    {
     "data": {
      "text/plain": [
       "0.7941455873757404"
      ]
     },
     "execution_count": 109,
     "metadata": {},
     "output_type": "execute_result"
    }
   ],
   "source": [
    "np.sqrt(mean_squared_error(y_test, ridge_tuned.predict(X_test)))"
   ]
  },
  {
   "cell_type": "markdown",
   "id": "b62915e6",
   "metadata": {},
   "source": [
    "### 1.6. Lasso Regresyon"
   ]
  },
  {
   "cell_type": "code",
   "execution_count": 110,
   "id": "b9ef022e",
   "metadata": {},
   "outputs": [],
   "source": [
    "from sklearn.model_selection import train_test_split, cross_val_score, cross_val_predict\n",
    "X = df.drop(df.columns[[0,3,4,5]], axis = 1)\n",
    "y = df[\"Medal\"]\n",
    "X_train, X_test, y_train, y_test = train_test_split(X, y, test_size=0.25, random_state=42)\n",
    "training = df.copy()"
   ]
  },
  {
   "cell_type": "code",
   "execution_count": 111,
   "id": "644a2fc5",
   "metadata": {},
   "outputs": [
    {
     "data": {
      "text/plain": [
       "Lasso(alpha=0.1)"
      ]
     },
     "execution_count": 111,
     "metadata": {},
     "output_type": "execute_result"
    }
   ],
   "source": [
    "from sklearn.linear_model import Lasso\n",
    "lasso_model = Lasso(alpha = 0.1).fit(X_train, y_train)\n",
    "lasso_model"
   ]
  },
  {
   "cell_type": "code",
   "execution_count": 112,
   "id": "22db4241",
   "metadata": {},
   "outputs": [
    {
     "data": {
      "text/plain": [
       "array([-0.        ,  0.00282239])"
      ]
     },
     "execution_count": 112,
     "metadata": {},
     "output_type": "execute_result"
    }
   ],
   "source": [
    "lasso_model.coef_"
   ]
  },
  {
   "cell_type": "code",
   "execution_count": 113,
   "id": "50fed77d",
   "metadata": {},
   "outputs": [
    {
     "data": {
      "text/plain": [
       "Text(0, 0.5, 'weights')"
      ]
     },
     "execution_count": 113,
     "metadata": {},
     "output_type": "execute_result"
    },
    {
     "data": {
      "image/png": "[encoded data removed]",
      "text/plain": [
       "<Figure size 432x288 with 1 Axes>"
      ]
     },
     "metadata": {
      "needs_background": "light"
     },
     "output_type": "display_data"
    }
   ],
   "source": [
    "lasso = Lasso()\n",
    "lambdalar = 10**np.linspace(10,-2,100)*0.5 \n",
    "katsayilar = []\n",
    "\n",
    "for i in lambdalar:\n",
    "    lasso.set_params(alpha=i)\n",
    "    lasso.fit(X_train, y_train)\n",
    "    katsayilar.append(lasso.coef_)\n",
    "  \n",
    "import matplotlib.pyplot as plt  \n",
    "ax = plt.gca()\n",
    "ax.plot(lambdalar*2, katsayilar)\n",
    "ax.set_xscale('log')\n",
    "plt.axis('tight')\n",
    "plt.xlabel('alpha')\n",
    "plt.ylabel('weights')"
   ]
  },
  {
   "cell_type": "markdown",
   "id": "4feb0beb",
   "metadata": {},
   "source": [
    "Tahmin"
   ]
  },
  {
   "cell_type": "code",
   "execution_count": 114,
   "id": "bec80e20",
   "metadata": {},
   "outputs": [
    {
     "data": {
      "text/plain": [
       "array([0.34374827, 0.30423476, 0.2901228 , ..., 0.30141237, 0.29576758,\n",
       "       0.29858998])"
      ]
     },
     "execution_count": 114,
     "metadata": {},
     "output_type": "execute_result"
    }
   ],
   "source": [
    "lasso_model.predict(X_test)"
   ]
  },
  {
   "cell_type": "code",
   "execution_count": 115,
   "id": "0956a5bd",
   "metadata": {},
   "outputs": [
    {
     "data": {
      "text/plain": [
       "0.794452963493213"
      ]
     },
     "execution_count": 115,
     "metadata": {},
     "output_type": "execute_result"
    }
   ],
   "source": [
    "y_pred = lasso_model.predict(X_test)\n",
    "np.sqrt(mean_squared_error(y_test, y_pred))"
   ]
  },
  {
   "cell_type": "markdown",
   "id": "223c1ac6",
   "metadata": {},
   "source": [
    "Model Tuning"
   ]
  },
  {
   "cell_type": "code",
   "execution_count": 116,
   "id": "5c57df14",
   "metadata": {},
   "outputs": [],
   "source": [
    "from sklearn.linear_model import LassoCV"
   ]
  },
  {
   "cell_type": "code",
   "execution_count": 117,
   "id": "061f7f18",
   "metadata": {},
   "outputs": [],
   "source": [
    "lasso_cv_model = LassoCV(alphas = None, \n",
    "                         cv = 10, \n",
    "                         max_iter = 10000, \n",
    "                         normalize = True)"
   ]
  },
  {
   "cell_type": "code",
   "execution_count": 118,
   "id": "d5fbacad",
   "metadata": {},
   "outputs": [
    {
     "data": {
      "text/plain": [
       "LassoCV(cv=10, max_iter=10000, normalize=True)"
      ]
     },
     "execution_count": 118,
     "metadata": {},
     "output_type": "execute_result"
    }
   ],
   "source": [
    "lasso_cv_model.fit(X_train,y_train)"
   ]
  },
  {
   "cell_type": "code",
   "execution_count": 119,
   "id": "230cd252",
   "metadata": {},
   "outputs": [
    {
     "data": {
      "text/plain": [
       "7.851774026062259e-08"
      ]
     },
     "execution_count": 119,
     "metadata": {},
     "output_type": "execute_result"
    }
   ],
   "source": [
    "lasso_cv_model.alpha_"
   ]
  },
  {
   "cell_type": "code",
   "execution_count": 120,
   "id": "fadf8e42",
   "metadata": {},
   "outputs": [],
   "source": [
    "lasso_tuned = Lasso(alpha = lasso_cv_model.alpha_)"
   ]
  },
  {
   "cell_type": "code",
   "execution_count": 121,
   "id": "c6986f85",
   "metadata": {},
   "outputs": [
    {
     "data": {
      "text/plain": [
       "Lasso(alpha=7.851774026062259e-08)"
      ]
     },
     "execution_count": 121,
     "metadata": {},
     "output_type": "execute_result"
    }
   ],
   "source": [
    "lasso_tuned.fit(X_train, y_train)"
   ]
  },
  {
   "cell_type": "code",
   "execution_count": 122,
   "id": "b430f2db",
   "metadata": {},
   "outputs": [
    {
     "data": {
      "text/plain": [
       "0.7941458891658332"
      ]
     },
     "execution_count": 122,
     "metadata": {},
     "output_type": "execute_result"
    }
   ],
   "source": [
    "y_pred = lasso_tuned.predict(X_test)\n",
    "np.sqrt(mean_squared_error(y_test, y_pred))"
   ]
  },
  {
   "cell_type": "markdown",
   "id": "076a9f26",
   "metadata": {},
   "source": [
    "### 1.7. ElasticNet (eNet) Regresyonu"
   ]
  },
  {
   "cell_type": "code",
   "execution_count": 123,
   "id": "539c7d98",
   "metadata": {},
   "outputs": [],
   "source": [
    "from sklearn.model_selection import train_test_split, cross_val_score, cross_val_predict\n",
    "X = df.drop(df.columns[[0,3,4,5]], axis = 1)\n",
    "y = df[\"Medal\"]\n",
    "X_train, X_test, y_train, y_test = train_test_split(X, y, test_size=0.25, random_state=42)\n",
    "training = df.copy()"
   ]
  },
  {
   "cell_type": "code",
   "execution_count": 124,
   "id": "8c721604",
   "metadata": {},
   "outputs": [
    {
     "data": {
      "text/plain": [
       "array([-0.,  0.])"
      ]
     },
     "execution_count": 124,
     "metadata": {},
     "output_type": "execute_result"
    }
   ],
   "source": [
    "from sklearn.linear_model import ElasticNet\n",
    "enet_model = ElasticNet().fit(X_train, y_train)\n",
    "enet_model.coef_"
   ]
  },
  {
   "cell_type": "code",
   "execution_count": 125,
   "id": "021b1a61",
   "metadata": {},
   "outputs": [
    {
     "data": {
      "text/plain": [
       "0.3064027659363019"
      ]
     },
     "execution_count": 125,
     "metadata": {},
     "output_type": "execute_result"
    }
   ],
   "source": [
    "enet_model.intercept_"
   ]
  },
  {
   "cell_type": "markdown",
   "id": "de2fc05c",
   "metadata": {},
   "source": [
    "Tahmin"
   ]
  },
  {
   "cell_type": "code",
   "execution_count": 126,
   "id": "7c92a06f",
   "metadata": {},
   "outputs": [
    {
     "data": {
      "text/plain": [
       "ElasticNet()"
      ]
     },
     "execution_count": 126,
     "metadata": {},
     "output_type": "execute_result"
    }
   ],
   "source": [
    "enet_model"
   ]
  },
  {
   "cell_type": "code",
   "execution_count": 127,
   "id": "310508c8",
   "metadata": {},
   "outputs": [
    {
     "data": {
      "text/plain": [
       "array([0.30640277, 0.30640277, 0.30640277, ..., 0.30640277, 0.30640277,\n",
       "       0.30640277])"
      ]
     },
     "execution_count": 127,
     "metadata": {},
     "output_type": "execute_result"
    }
   ],
   "source": [
    "enet_model.predict(X_test)"
   ]
  },
  {
   "cell_type": "code",
   "execution_count": 128,
   "id": "5616cac3",
   "metadata": {},
   "outputs": [
    {
     "data": {
      "text/plain": [
       "0.7949079416072564"
      ]
     },
     "execution_count": 128,
     "metadata": {},
     "output_type": "execute_result"
    }
   ],
   "source": [
    "y_pred = enet_model.predict(X_test)\n",
    "np.sqrt(mean_squared_error(y_test, y_pred))"
   ]
  },
  {
   "cell_type": "code",
   "execution_count": 129,
   "id": "48d8e13c",
   "metadata": {},
   "outputs": [
    {
     "data": {
      "text/plain": [
       "-1.094144546032183e-05"
      ]
     },
     "execution_count": 129,
     "metadata": {},
     "output_type": "execute_result"
    }
   ],
   "source": [
    "r2_score(y_test, y_pred)"
   ]
  },
  {
   "cell_type": "markdown",
   "id": "3d1b9310",
   "metadata": {},
   "source": [
    "Model Tuning"
   ]
  },
  {
   "cell_type": "code",
   "execution_count": 130,
   "id": "6e5439f8",
   "metadata": {},
   "outputs": [],
   "source": [
    "from sklearn.linear_model import ElasticNetCV"
   ]
  },
  {
   "cell_type": "code",
   "execution_count": 131,
   "id": "ae6f1f7b",
   "metadata": {},
   "outputs": [
    {
     "data": {
      "text/plain": [
       "0.00033185916536154737"
      ]
     },
     "execution_count": 131,
     "metadata": {},
     "output_type": "execute_result"
    }
   ],
   "source": [
    "enet_cv_model = ElasticNetCV(cv = 10, random_state = 0).fit(X_train, y_train)\n",
    "enet_cv_model.alpha_"
   ]
  },
  {
   "cell_type": "code",
   "execution_count": 132,
   "id": "5fc8b1d2",
   "metadata": {},
   "outputs": [
    {
     "data": {
      "text/plain": [
       "ElasticNetCV(cv=10, random_state=0)"
      ]
     },
     "execution_count": 132,
     "metadata": {},
     "output_type": "execute_result"
    }
   ],
   "source": [
    "enet_cv_model"
   ]
  },
  {
   "cell_type": "code",
   "execution_count": 133,
   "id": "06545f16",
   "metadata": {},
   "outputs": [],
   "source": [
    "enet_tuned = ElasticNet(alpha = enet_cv_model.alpha_).fit(X_train,y_train)\n",
    "y_pred = enet_tuned.predict(X_test)"
   ]
  },
  {
   "cell_type": "code",
   "execution_count": 134,
   "id": "6fe627ce",
   "metadata": {},
   "outputs": [
    {
     "data": {
      "text/plain": [
       "0.7941455466616418"
      ]
     },
     "execution_count": 134,
     "metadata": {},
     "output_type": "execute_result"
    }
   ],
   "source": [
    "np.sqrt(mean_squared_error(y_test, y_pred))"
   ]
  },
  {
   "cell_type": "markdown",
   "id": "c9d82347",
   "metadata": {},
   "source": [
    "## 2. Doğrusal Olmayan Regresyon"
   ]
  },
  {
   "cell_type": "markdown",
   "id": "0729cdca",
   "metadata": {},
   "source": [
    "### 2.1. K En Yakın Komşu (KNN)"
   ]
  },
  {
   "cell_type": "code",
   "execution_count": 135,
   "id": "c17c762e",
   "metadata": {},
   "outputs": [],
   "source": [
    "from sklearn.model_selection import train_test_split, cross_val_score, cross_val_predict\n",
    "X = df.drop(df.columns[[0,3,4,5]], axis = 1)\n",
    "y = df[\"Medal\"]\n",
    "X_train, X_test, y_train, y_test = train_test_split(X, y, test_size=0.25, random_state=42)\n",
    "training = df.copy()\n",
    "\n",
    "knn_model = KNeighborsRegressor().fit(X_train, y_train)"
   ]
  },
  {
   "cell_type": "code",
   "execution_count": 136,
   "id": "9b06fcfb",
   "metadata": {},
   "outputs": [
    {
     "data": {
      "text/plain": [
       "KNeighborsRegressor()"
      ]
     },
     "execution_count": 136,
     "metadata": {},
     "output_type": "execute_result"
    }
   ],
   "source": [
    "knn_model"
   ]
  },
  {
   "cell_type": "code",
   "execution_count": 137,
   "id": "d94305dd",
   "metadata": {},
   "outputs": [
    {
     "data": {
      "text/plain": [
       "5"
      ]
     },
     "execution_count": 137,
     "metadata": {},
     "output_type": "execute_result"
    }
   ],
   "source": [
    "knn_model.n_neighbors #default değeri 5"
   ]
  },
  {
   "cell_type": "code",
   "execution_count": 138,
   "id": "2a5e5488",
   "metadata": {},
   "outputs": [
    {
     "data": {
      "text/plain": [
       "'euclidean'"
      ]
     },
     "execution_count": 138,
     "metadata": {},
     "output_type": "execute_result"
    }
   ],
   "source": [
    "knn_model.effective_metric_"
   ]
  },
  {
   "cell_type": "markdown",
   "id": "5f67c79f",
   "metadata": {},
   "source": [
    "Tahmin"
   ]
  },
  {
   "cell_type": "code",
   "execution_count": null,
   "id": "9f6b01bc",
   "metadata": {},
   "outputs": [
    {
     "name": "stdout",
     "output_type": "stream",
     "text": [
      "test hatası: 0.855331377304291\n",
      "k = 1 için RMSE değeri:  1.2932445011938325\n",
      "k = 2 için RMSE değeri:  0.9301541583183255\n",
      "k = 3 için RMSE değeri:  0.900159786815573\n"
     ]
    }
   ],
   "source": [
    "y_pred = knn_model.predict(X_test)\n",
    "print(\"test hatası:\" , np.sqrt(mean_squared_error(y_test, y_pred)))\n",
    "RMSE = [] \n",
    "#cross validation yapmadan hatalara bir bakalim\n",
    "for k in range(10):\n",
    "    k = k+1\n",
    "    knn_model = KNeighborsRegressor(n_neighbors = k).fit(X_train, y_train)\n",
    "    y_pred = knn_model.predict(X_train) \n",
    "    rmse = np.sqrt(mean_squared_error(y_train,y_pred)) \n",
    "    RMSE.append(rmse) \n",
    "    print(\"k =\" , k , \"için RMSE değeri: \", rmse)\n"
   ]
  },
  {
   "cell_type": "markdown",
   "id": "bf09a515",
   "metadata": {},
   "source": [
    "Model Tuning"
   ]
  },
  {
   "cell_type": "code",
   "execution_count": null,
   "id": "6b88e600",
   "metadata": {},
   "outputs": [],
   "source": [
    "#GridSearchCV ile optimum k sayisinin belirlenmesi\n",
    "knn_params = {'n_neighbors': np.arange(1,30,1)}\n",
    "knn = KNeighborsRegressor()\n",
    "knn_cv_model = GridSearchCV(knn, knn_params, cv = 10)\n",
    "knn_cv_model.fit(X_train, y_train)"
   ]
  },
  {
   "cell_type": "code",
   "execution_count": null,
   "id": "d16588af",
   "metadata": {},
   "outputs": [],
   "source": [
    "knn_cv_model.best_params_[\"n_neighbors\"]"
   ]
  },
  {
   "cell_type": "code",
   "execution_count": null,
   "id": "5655c3ad",
   "metadata": {},
   "outputs": [],
   "source": [
    "RMSE = [] \n",
    "RMSE_CV = []\n",
    "for k in range(10):\n",
    "    k = k+1\n",
    "    knn_model = KNeighborsRegressor(n_neighbors = k).fit(X_train, y_train)\n",
    "    y_pred = knn_model.predict(X_train) \n",
    "    rmse = np.sqrt(mean_squared_error(y_train,y_pred)) \n",
    "    rmse_cv = np.sqrt(-1*cross_val_score(knn_model, X_train, y_train, cv=10, \n",
    "                                         scoring = \"neg_mean_squared_error\").mean())\n",
    "    #cross validation olmadan hatalar\n",
    "    RMSE.append(rmse) \n",
    "    #cross validation kullanilarak alindan hatalar\n",
    "    RMSE_CV.append(rmse_cv)\n",
    "    print(\"k =\" , k , \"için RMSE değeri: \", rmse, \"RMSE_CV değeri: \", rmse_cv )"
   ]
  },
  {
   "cell_type": "code",
   "execution_count": null,
   "id": "80d8a9ee",
   "metadata": {},
   "outputs": [],
   "source": [
    "#k=2 için train degil test setini denediğimizde\n",
    "knn_tuned = KNeighborsRegressor(n_neighbors =2)\n",
    "knn_tuned.fit(X_train, y_train)\n",
    "np.sqrt(mean_squared_error(y_test, knn_tuned.predict(X_test)))"
   ]
  },
  {
   "cell_type": "code",
   "execution_count": null,
   "id": "493cd705",
   "metadata": {},
   "outputs": [],
   "source": [
    "knn_tuned = KNeighborsRegressor(n_neighbors = knn_cv_model.best_params_[\"n_neighbors\"])\n",
    "knn_tuned.fit(X_train, y_train)"
   ]
  },
  {
   "cell_type": "code",
   "execution_count": null,
   "id": "53584fea",
   "metadata": {},
   "outputs": [],
   "source": [
    "np.sqrt(mean_squared_error(y_test, knn_tuned.predict(X_test)))"
   ]
  },
  {
   "cell_type": "markdown",
   "id": "ce5153a9",
   "metadata": {},
   "source": [
    "### 2.2. Destek Vektör Regresyonu (SVR)"
   ]
  },
  {
   "cell_type": "code",
   "execution_count": null,
   "id": "3848cd56",
   "metadata": {},
   "outputs": [],
   "source": [
    "df.info()"
   ]
  },
  {
   "cell_type": "code",
   "execution_count": null,
   "id": "f5435fe6",
   "metadata": {},
   "outputs": [],
   "source": [
    "from sklearn.model_selection import train_test_split, cross_val_score, cross_val_predict\n",
    "X = df.drop(df.columns[[0,1,3,4,5]], axis = 1)\n",
    "y = df[\"Medal\"]\n",
    "X_train, X_test, y_train, y_test = train_test_split(X, y, test_size=0.25, random_state=42)\n",
    "training = df.copy()\n",
    "svr_model = LinearSVR().fit(X_train, y_train)\n",
    "svr_model.predict(X_train)[0:5]"
   ]
  },
  {
   "cell_type": "code",
   "execution_count": null,
   "id": "230ccaa7",
   "metadata": {},
   "outputs": [],
   "source": [
    "#dogrusal modelimizin parametre katsayilari\n",
    "print (\"y = {0} + {1} x\".format(svr_model.intercept_[0], \n",
    "                                svr_model.coef_[0])) "
   ]
  },
  {
   "cell_type": "code",
   "execution_count": null,
   "id": "840f3cb8",
   "metadata": {},
   "outputs": [],
   "source": [
    "X_train[\"Age\"][0:1]"
   ]
  },
  {
   "cell_type": "code",
   "execution_count": null,
   "id": "3629e387",
   "metadata": {},
   "outputs": [],
   "source": [
    "-0.05621152054739784 + -0.0019988280777343236*27"
   ]
  },
  {
   "cell_type": "code",
   "execution_count": null,
   "id": "ea59d0eb",
   "metadata": {},
   "outputs": [],
   "source": [
    "y_pred = svr_model.predict(X_train)"
   ]
  },
  {
   "cell_type": "code",
   "execution_count": null,
   "id": "658ddd6a",
   "metadata": {},
   "outputs": [],
   "source": [
    "plt.scatter(X_train, y_train)\n",
    "plt.plot(X_train,y_pred, color = \"r\")"
   ]
  },
  {
   "cell_type": "code",
   "execution_count": null,
   "id": "a83964f0",
   "metadata": {},
   "outputs": [],
   "source": [
    "#lineer regresyon modeliyle svm modelini karsilastiralim\n",
    "lm_model = LinearRegression().fit(X_train, y_train)\n",
    "lm_pred  = lm_model.predict(X_train)\n",
    "print(\"y = {0} + {1} x\".format(lm_model.intercept_, lm_model.coef_[0]))"
   ]
  },
  {
   "cell_type": "code",
   "execution_count": null,
   "id": "c2b1cba6",
   "metadata": {},
   "outputs": [],
   "source": [
    "#lineer regresyon ile elde ettigimiz parametre katsayilari\n",
    "0.13046685554343962 + 0.007103314368463613*27"
   ]
  },
  {
   "cell_type": "code",
   "execution_count": null,
   "id": "9a158fd0",
   "metadata": {},
   "outputs": [],
   "source": [
    "#iki yontemi de gorsel olarak karsilastiralim\n",
    "plt.scatter(X_train, y_train, alpha=0.5, s=23)\n",
    "plt.plot(X_train, lm_pred, 'g')\n",
    "plt.plot(X_train, y_pred, color='r')\n",
    "\n",
    "plt.xlabel(\"Yaş\")\n",
    "plt.ylabel(\"Madalya\")"
   ]
  },
  {
   "cell_type": "markdown",
   "id": "dc40f298",
   "metadata": {},
   "source": [
    "Not: Yukarıdaki grafik gözlemlendiğinde,\n",
    "\n",
    "lineer regresyon yöntemiyle elde edilen doğru (yeşil) yaş değerine göre daha fazla madalya verme eğilimindedir. Bunun sebebi grafiğin üstünde ki kazanılan madalya sayılarıdır.\n",
    "\n",
    "SVR'de ise (robust bir yontem oldugundan) aykırı gözlemlerin etkisi daha düşüktür."
   ]
  },
  {
   "cell_type": "markdown",
   "id": "ee7b6f0e",
   "metadata": {},
   "source": [
    " Tahmin (Doğrusal SVR)"
   ]
  },
  {
   "cell_type": "code",
   "execution_count": null,
   "id": "aeaa184c",
   "metadata": {},
   "outputs": [],
   "source": [
    "print (\"y = {0} + {1} x\".format(svr_model.intercept_[0], svr_model.coef_[0])) "
   ]
  },
  {
   "cell_type": "code",
   "execution_count": null,
   "id": "2905ede5",
   "metadata": {},
   "outputs": [],
   "source": [
    "svr_model.predict([[27]])"
   ]
  },
  {
   "cell_type": "code",
   "execution_count": null,
   "id": "728541d9",
   "metadata": {},
   "outputs": [],
   "source": [
    "y_pred = svr_model.predict(X_test)"
   ]
  },
  {
   "cell_type": "code",
   "execution_count": null,
   "id": "64ab4898",
   "metadata": {},
   "outputs": [],
   "source": [
    "np.sqrt(mean_ squared_error(y_test, y_pred))"
   ]
  },
  {
   "cell_type": "markdown",
   "id": "71c251a3",
   "metadata": {},
   "source": [
    " Model Tuning (Doğrusal SVR)"
   ]
  },
  {
   "cell_type": "code",
   "execution_count": null,
   "id": "eb80fcd4",
   "metadata": {},
   "outputs": [],
   "source": [
    "svr_params = {\"C\": np.arange(0.1,2,0.1)}\n",
    "svr_cv_model = GridSearchCV(svr_model, svr_params, cv = 10).fit(X_train,y_train)"
   ]
  },
  {
   "cell_type": "code",
   "execution_count": null,
   "id": "caecb643",
   "metadata": {},
   "outputs": [],
   "source": [
    "pd.Series(svr_cv_model.best_params_)[0]"
   ]
  },
  {
   "cell_type": "code",
   "execution_count": null,
   "id": "ced4c031",
   "metadata": {},
   "outputs": [],
   "source": [
    "svr_tuned = LinearSVR(C = pd.Series(svr_cv_model.best_params_)[0]).fit(X_train, y_train)"
   ]
  },
  {
   "cell_type": "code",
   "execution_count": null,
   "id": "cdd3f7e2",
   "metadata": {},
   "outputs": [],
   "source": [
    "y_pred = svr_tuned.predict(X_test)"
   ]
  },
  {
   "cell_type": "code",
   "execution_count": null,
   "id": "5c68faa5",
   "metadata": {},
   "outputs": [],
   "source": [
    "np.sqrt(mean_squared_error(y_test, y_pred))"
   ]
  },
  {
   "cell_type": "code",
   "execution_count": null,
   "id": "ff6115d1",
   "metadata": {},
   "outputs": [],
   "source": [
    "svr_model.intercept_"
   ]
  },
  {
   "cell_type": "code",
   "execution_count": null,
   "id": "4213f4a4",
   "metadata": {},
   "outputs": [],
   "source": [
    "svr_model.coef_"
   ]
  },
  {
   "cell_type": "markdown",
   "id": "3a17a7f5",
   "metadata": {},
   "source": [
    "Tahmin (Doğrusal Olmayan SVR)"
   ]
  },
  {
   "cell_type": "code",
   "execution_count": null,
   "id": "4dd449c9",
   "metadata": {},
   "outputs": [],
   "source": [
    "svr_rbf = SVR(kernel=\"rbf\").fit(X_train, y_train)\n",
    "y_pred = svr_rbf.predict(X_test)\n",
    "np.sqrt(mean_squared_error(y_test, y_pred))"
   ]
  },
  {
   "cell_type": "markdown",
   "id": "6df34c25",
   "metadata": {},
   "source": [
    "Model Tuning (Doğrusal Olmayan SVR)"
   ]
  },
  {
   "cell_type": "code",
   "execution_count": null,
   "id": "a844099b",
   "metadata": {},
   "outputs": [],
   "source": [
    "svr_params = {\"C\": [0.01, 0.1,0.4,5,10,20,30,40,50,60,70,80,90,100,110,120,130,140,200,300,400,500,600,700,800,900,1000,2000,3000,4000,5000,6000]}\n",
    "svr_cv_model = GridSearchCV(sv  r_rbf,svr_params, cv = 10)\n",
    "svr_cv_model.fit(X_train, y_train)"
   ]
  },
  {
   "cell_type": "code",
   "execution_count": null,
   "id": "f15fbb94",
   "metadata": {},
   "outputs": [],
   "source": [
    "svr_cv_model.best_params_"
   ]
  },
  {
   "cell_type": "code",
   "execution_count": null,
   "id": "237924b8",
   "metadata": {},
   "outputs": [],
   "source": [
    "svr_tuned = SVR(kernel=\"rbf\", C = pd.Series(svr_cv_model.best_params_)[0]).fit(X_train, \n",
    "                                                                        y_train)"
   ]
  },
  {
   "cell_type": "code",
   "execution_count": null,
   "id": "d615d874",
   "metadata": {},
   "outputs": [],
   "source": [
    "y_pred = svr_tuned.predict(X_test)\n",
    "\n",
    "np.sqrt(mean_squared_error(y_test, y_pred))"
   ]
  },
  {
   "cell_type": "code",
   "execution_count": null,
   "id": "352daaff",
   "metadata": {},
   "outputs": [],
   "source": []
  },
  {
   "cell_type": "code",
   "execution_count": null,
   "id": "fc6565ed",
   "metadata": {},
   "outputs": [],
   "source": []
  }
 ],
 "metadata": {
  "kernelspec": {
   "display_name": "Python 3",
   "language": "python",
   "name": "python3"
  },
  "language_info": {
   "codemirror_mode": {
    "name": "ipython",
    "version": 3
   },
   "file_extension": ".py",
   "mimetype": "text/x-python",
   "name": "python",
   "nbconvert_exporter": "python",
   "pygments_lexer": "ipython3",
   "version": "3.8.8"
  }
 },
 "nbformat": 4,
 "nbformat_minor": 5
}
