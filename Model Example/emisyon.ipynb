{
 "cells": [
  {
   "cell_type": "code",
   "execution_count": 1,
   "id": "0adaf744",
   "metadata": {},
   "outputs": [
    {
     "name": "stdout",
     "output_type": "stream",
     "text": [
      "Requirement already satisfied: skompiler in c:\\users\\memet\\anaconda3\\lib\\site-packages (0.6)\n",
      "Requirement already satisfied: scikit-learn>=0.22 in c:\\users\\memet\\anaconda3\\lib\\site-packages (from skompiler) (0.24.1)\n",
      "Requirement already satisfied: numpy>=1.13.3 in c:\\users\\memet\\anaconda3\\lib\\site-packages (from scikit-learn>=0.22->skompiler) (1.20.1)\n",
      "Requirement already satisfied: scipy>=0.19.1 in c:\\users\\memet\\anaconda3\\lib\\site-packages (from scikit-learn>=0.22->skompiler) (1.6.2)\n",
      "Requirement already satisfied: threadpoolctl>=2.0.0 in c:\\users\\memet\\anaconda3\\lib\\site-packages (from scikit-learn>=0.22->skompiler) (2.1.0)\n",
      "Requirement already satisfied: joblib>=0.11 in c:\\users\\memet\\anaconda3\\lib\\site-packages (from scikit-learn>=0.22->skompiler) (1.0.1)\n",
      "Requirement already satisfied: astor in c:\\users\\memet\\anaconda3\\lib\\site-packages (0.8.1)\n",
      "Requirement already satisfied: xgboost in c:\\users\\memet\\anaconda3\\lib\\site-packages (1.6.1)\n",
      "Requirement already satisfied: numpy in c:\\users\\memet\\anaconda3\\lib\\site-packages (from xgboost) (1.20.1)\n",
      "Requirement already satisfied: scipy in c:\\users\\memet\\anaconda3\\lib\\site-packages (from xgboost) (1.6.2)\n",
      "Requirement already satisfied: catboost in c:\\users\\memet\\anaconda3\\lib\\site-packages (1.0.6)\n",
      "Requirement already satisfied: six in c:\\users\\memet\\anaconda3\\lib\\site-packages (from catboost) (1.15.0)\n",
      "Requirement already satisfied: matplotlib in c:\\users\\memet\\anaconda3\\lib\\site-packages (from catboost) (3.3.4)\n",
      "Requirement already satisfied: plotly in c:\\users\\memet\\anaconda3\\lib\\site-packages (from catboost) (5.8.0)\n",
      "Requirement already satisfied: numpy>=1.16.0 in c:\\users\\memet\\anaconda3\\lib\\site-packages (from catboost) (1.20.1)\n",
      "Requirement already satisfied: graphviz in c:\\users\\memet\\anaconda3\\lib\\site-packages (from catboost) (0.20)\n",
      "Requirement already satisfied: pandas>=0.24.0 in c:\\users\\memet\\anaconda3\\lib\\site-packages (from catboost) (1.2.4)\n",
      "Requirement already satisfied: scipy in c:\\users\\memet\\anaconda3\\lib\\site-packages (from catboost) (1.6.2)\n",
      "Requirement already satisfied: pytz>=2017.3 in c:\\users\\memet\\anaconda3\\lib\\site-packages (from pandas>=0.24.0->catboost) (2021.1)\n",
      "Requirement already satisfied: python-dateutil>=2.7.3 in c:\\users\\memet\\anaconda3\\lib\\site-packages (from pandas>=0.24.0->catboost) (2.8.1)\n",
      "Requirement already satisfied: pillow>=6.2.0 in c:\\users\\memet\\anaconda3\\lib\\site-packages (from matplotlib->catboost) (8.2.0)\n",
      "Requirement already satisfied: cycler>=0.10 in c:\\users\\memet\\anaconda3\\lib\\site-packages (from matplotlib->catboost) (0.10.0)\n",
      "Requirement already satisfied: pyparsing!=2.0.4,!=2.1.2,!=2.1.6,>=2.0.3 in c:\\users\\memet\\anaconda3\\lib\\site-packages (from matplotlib->catboost) (2.4.7)\n",
      "Requirement already satisfied: kiwisolver>=1.0.1 in c:\\users\\memet\\anaconda3\\lib\\site-packages (from matplotlib->catboost) (1.3.1)\n",
      "Requirement already satisfied: tenacity>=6.2.0 in c:\\users\\memet\\anaconda3\\lib\\site-packages (from plotly->catboost) (8.0.1)\n",
      "Requirement already satisfied: lightgbm in c:\\users\\memet\\anaconda3\\lib\\site-packages (3.3.2)\n",
      "Requirement already satisfied: scipy in c:\\users\\memet\\anaconda3\\lib\\site-packages (from lightgbm) (1.6.2)\n",
      "Requirement already satisfied: wheel in c:\\users\\memet\\anaconda3\\lib\\site-packages (from lightgbm) (0.36.2)\n",
      "Requirement already satisfied: scikit-learn!=0.22.0 in c:\\users\\memet\\anaconda3\\lib\\site-packages (from lightgbm) (0.24.1)\n",
      "Requirement already satisfied: numpy in c:\\users\\memet\\anaconda3\\lib\\site-packages (from lightgbm) (1.20.1)\n",
      "Requirement already satisfied: joblib>=0.11 in c:\\users\\memet\\anaconda3\\lib\\site-packages (from scikit-learn!=0.22.0->lightgbm) (1.0.1)\n",
      "Requirement already satisfied: threadpoolctl>=2.0.0 in c:\\users\\memet\\anaconda3\\lib\\site-packages (from scikit-learn!=0.22.0->lightgbm) (2.1.0)\n",
      "Requirement already satisfied: researchpy in c:\\users\\memet\\anaconda3\\lib\\site-packages (0.3.2)\n",
      "Requirement already satisfied: numpy in c:\\users\\memet\\anaconda3\\lib\\site-packages (from researchpy) (1.20.1)\n",
      "Requirement already satisfied: patsy in c:\\users\\memet\\anaconda3\\lib\\site-packages (from researchpy) (0.5.1)\n",
      "Requirement already satisfied: statsmodels in c:\\users\\memet\\anaconda3\\lib\\site-packages (from researchpy) (0.12.2)\n",
      "Requirement already satisfied: scipy in c:\\users\\memet\\anaconda3\\lib\\site-packages (from researchpy) (1.6.2)\n",
      "Requirement already satisfied: pandas in c:\\users\\memet\\anaconda3\\lib\\site-packages (from researchpy) (1.2.4)\n",
      "Requirement already satisfied: pytz>=2017.3 in c:\\users\\memet\\anaconda3\\lib\\site-packages (from pandas->researchpy) (2021.1)\n",
      "Requirement already satisfied: python-dateutil>=2.7.3 in c:\\users\\memet\\anaconda3\\lib\\site-packages (from pandas->researchpy) (2.8.1)\n",
      "Requirement already satisfied: six>=1.5 in c:\\users\\memet\\anaconda3\\lib\\site-packages (from python-dateutil>=2.7.3->pandas->researchpy) (1.15.0)\n"
     ]
    }
   ],
   "source": [
    "!pip install skompiler\n",
    "!pip install astor\n",
    "!pip install xgboost\n",
    "!pip install catboost\n",
    "!pip install lightgbm\n",
    "!pip install researchpy"
   ]
  },
  {
   "cell_type": "code",
   "execution_count": 2,
   "id": "532766a1",
   "metadata": {},
   "outputs": [],
   "source": [
    "import numpy as np\n",
    "import pandas as pd \n",
    "from sklearn.model_selection import train_test_split, GridSearchCV,cross_val_score\n",
    "from sklearn.metrics import mean_squared_error, r2_score\n",
    "from sklearn.svm import SVR\n",
    "from sklearn.linear_model import LinearRegression\n",
    "import matplotlib.pyplot as plt\n",
    "from sklearn.preprocessing import scale \n",
    "from sklearn import model_selection\n",
    "from sklearn.tree import DecisionTreeRegressor, DecisionTreeClassifier\n",
    "from sklearn.neighbors import KNeighborsRegressor\n",
    "from sklearn.ensemble import BaggingRegressor\n",
    "from sklearn.neural_network import MLPRegressor\n",
    "from sklearn.ensemble import RandomForestRegressor\n",
    "from sklearn.ensemble import GradientBoostingRegressor\n",
    "from sklearn.svm import LinearSVR\n",
    "from sklearn.preprocessing import StandardScaler\n",
    "from skompiler import skompile\n",
    "import xgboost as xgb\n",
    "from xgboost import XGBRegressor\n",
    "from catboost import CatBoostRegressor\n",
    "from lightgbm import LGBMRegressor\n",
    "from lightgbm import LGBMRegressor\n",
    "from warnings import filterwarnings\n",
    "filterwarnings('ignore')\n",
    "from datetime import datetime\n",
    "import researchpy as rp\n",
    "import seaborn as sns\n",
    "from sklearn.neighbors import LocalOutlierFactor"
   ]
  },
  {
   "cell_type": "markdown",
   "id": "a0804f77",
   "metadata": {},
   "source": [
    "# ARAÇLARIN CO2 EMİSYON DEĞERLERİ"
   ]
  },
  {
   "cell_type": "markdown",
   "id": "bed0bcd4",
   "metadata": {},
   "source": [
    "Amacımız araçların motor hacmi, silindir ve yakıt tüketimine göre co2 salınımlarını tahminlemektir. "
   ]
  },
  {
   "cell_type": "markdown",
   "id": "afd631c9",
   "metadata": {},
   "source": [
    "## 1. VERİYE İLK BAKIŞ\n"
   ]
  },
  {
   "cell_type": "code",
   "execution_count": 3,
   "id": "a4059fb4",
   "metadata": {},
   "outputs": [
    {
     "data": {
      "text/plain": [
       "(935, 12)"
      ]
     },
     "execution_count": 3,
     "metadata": {},
     "output_type": "execute_result"
    }
   ],
   "source": [
    "ad = pd.read_csv(\"emission.csv\")\n",
    "df = ad.copy()\n",
    "df.shape"
   ]
  },
  {
   "cell_type": "code",
   "execution_count": 4,
   "id": "c6c324f4",
   "metadata": {},
   "outputs": [
    {
     "data": {
      "text/html": [
       "<div>\n",
       "<style scoped>\n",
       "    .dataframe tbody tr th:only-of-type {\n",
       "        vertical-align: middle;\n",
       "    }\n",
       "\n",
       "    .dataframe tbody tr th {\n",
       "        vertical-align: top;\n",
       "    }\n",
       "\n",
       "    .dataframe thead th {\n",
       "        text-align: right;\n",
       "    }\n",
       "</style>\n",
       "<table border=\"1\" class=\"dataframe\">\n",
       "  <thead>\n",
       "    <tr style=\"text-align: right;\">\n",
       "      <th></th>\n",
       "      <th>Model_Year</th>\n",
       "      <th>Make</th>\n",
       "      <th>Model</th>\n",
       "      <th>Vehicle_Class</th>\n",
       "      <th>Engine_Size</th>\n",
       "      <th>Cylinders</th>\n",
       "      <th>Transmission</th>\n",
       "      <th>Fuel_Consumption_in_City(L/100 km)</th>\n",
       "      <th>Fuel_Consumption_in_City_Hwy(L/100 km)</th>\n",
       "      <th>Fuel_Consumption_comb(L/100km)</th>\n",
       "      <th>CO2_Emissions</th>\n",
       "      <th>Smog_Level</th>\n",
       "    </tr>\n",
       "  </thead>\n",
       "  <tbody>\n",
       "    <tr>\n",
       "      <th>0</th>\n",
       "      <td>2021</td>\n",
       "      <td>Acura</td>\n",
       "      <td>ILX</td>\n",
       "      <td>Compact</td>\n",
       "      <td>2.4</td>\n",
       "      <td>4</td>\n",
       "      <td>AM8</td>\n",
       "      <td>9.9</td>\n",
       "      <td>7.0</td>\n",
       "      <td>8.6</td>\n",
       "      <td>199</td>\n",
       "      <td>3</td>\n",
       "    </tr>\n",
       "    <tr>\n",
       "      <th>1</th>\n",
       "      <td>2021</td>\n",
       "      <td>Acura</td>\n",
       "      <td>NSX</td>\n",
       "      <td>Two-seater</td>\n",
       "      <td>3.5</td>\n",
       "      <td>6</td>\n",
       "      <td>AM9</td>\n",
       "      <td>11.1</td>\n",
       "      <td>10.8</td>\n",
       "      <td>11.0</td>\n",
       "      <td>256</td>\n",
       "      <td>3</td>\n",
       "    </tr>\n",
       "    <tr>\n",
       "      <th>2</th>\n",
       "      <td>2021</td>\n",
       "      <td>Acura</td>\n",
       "      <td>RDX SH-AWD</td>\n",
       "      <td>SUV: Small</td>\n",
       "      <td>2.0</td>\n",
       "      <td>4</td>\n",
       "      <td>AS10</td>\n",
       "      <td>11.0</td>\n",
       "      <td>8.6</td>\n",
       "      <td>9.9</td>\n",
       "      <td>232</td>\n",
       "      <td>6</td>\n",
       "    </tr>\n",
       "    <tr>\n",
       "      <th>3</th>\n",
       "      <td>2021</td>\n",
       "      <td>Acura</td>\n",
       "      <td>RDX SH-AWD A-SPEC</td>\n",
       "      <td>SUV: Small</td>\n",
       "      <td>2.0</td>\n",
       "      <td>4</td>\n",
       "      <td>AS10</td>\n",
       "      <td>11.3</td>\n",
       "      <td>9.1</td>\n",
       "      <td>10.3</td>\n",
       "      <td>242</td>\n",
       "      <td>6</td>\n",
       "    </tr>\n",
       "    <tr>\n",
       "      <th>4</th>\n",
       "      <td>2021</td>\n",
       "      <td>Acura</td>\n",
       "      <td>TLX SH-AWD</td>\n",
       "      <td>Compact</td>\n",
       "      <td>2.0</td>\n",
       "      <td>4</td>\n",
       "      <td>AS10</td>\n",
       "      <td>11.2</td>\n",
       "      <td>8.0</td>\n",
       "      <td>9.8</td>\n",
       "      <td>230</td>\n",
       "      <td>7</td>\n",
       "    </tr>\n",
       "  </tbody>\n",
       "</table>\n",
       "</div>"
      ],
      "text/plain": [
       "   Model_Year   Make              Model Vehicle_Class  Engine_Size  Cylinders  \\\n",
       "0        2021  Acura                ILX       Compact          2.4          4   \n",
       "1        2021  Acura                NSX    Two-seater          3.5          6   \n",
       "2        2021  Acura         RDX SH-AWD    SUV: Small          2.0          4   \n",
       "3        2021  Acura  RDX SH-AWD A-SPEC    SUV: Small          2.0          4   \n",
       "4        2021  Acura         TLX SH-AWD       Compact          2.0          4   \n",
       "\n",
       "  Transmission  Fuel_Consumption_in_City(L/100 km)  \\\n",
       "0          AM8                                 9.9   \n",
       "1          AM9                                11.1   \n",
       "2         AS10                                11.0   \n",
       "3         AS10                                11.3   \n",
       "4         AS10                                11.2   \n",
       "\n",
       "   Fuel_Consumption_in_City_Hwy(L/100 km)  Fuel_Consumption_comb(L/100km)  \\\n",
       "0                                     7.0                             8.6   \n",
       "1                                    10.8                            11.0   \n",
       "2                                     8.6                             9.9   \n",
       "3                                     9.1                            10.3   \n",
       "4                                     8.0                             9.8   \n",
       "\n",
       "   CO2_Emissions  Smog_Level  \n",
       "0            199           3  \n",
       "1            256           3  \n",
       "2            232           6  \n",
       "3            242           6  \n",
       "4            230           7  "
      ]
     },
     "execution_count": 4,
     "metadata": {},
     "output_type": "execute_result"
    }
   ],
   "source": [
    "df.head()"
   ]
  },
  {
   "cell_type": "code",
   "execution_count": 5,
   "id": "82744920",
   "metadata": {},
   "outputs": [
    {
     "data": {
      "text/html": [
       "<div>\n",
       "<style scoped>\n",
       "    .dataframe tbody tr th:only-of-type {\n",
       "        vertical-align: middle;\n",
       "    }\n",
       "\n",
       "    .dataframe tbody tr th {\n",
       "        vertical-align: top;\n",
       "    }\n",
       "\n",
       "    .dataframe thead th {\n",
       "        text-align: right;\n",
       "    }\n",
       "</style>\n",
       "<table border=\"1\" class=\"dataframe\">\n",
       "  <thead>\n",
       "    <tr style=\"text-align: right;\">\n",
       "      <th></th>\n",
       "      <th>Model_Year</th>\n",
       "      <th>Make</th>\n",
       "      <th>Model</th>\n",
       "      <th>Vehicle_Class</th>\n",
       "      <th>Engine_Size</th>\n",
       "      <th>Cylinders</th>\n",
       "      <th>Transmission</th>\n",
       "      <th>Fuel_Consumption_in_City(L/100 km)</th>\n",
       "      <th>Fuel_Consumption_in_City_Hwy(L/100 km)</th>\n",
       "      <th>Fuel_Consumption_comb(L/100km)</th>\n",
       "      <th>CO2_Emissions</th>\n",
       "      <th>Smog_Level</th>\n",
       "    </tr>\n",
       "  </thead>\n",
       "  <tbody>\n",
       "    <tr>\n",
       "      <th>930</th>\n",
       "      <td>2021</td>\n",
       "      <td>Volvo</td>\n",
       "      <td>XC40 T5 AWD</td>\n",
       "      <td>SUV: Small</td>\n",
       "      <td>2.0</td>\n",
       "      <td>4</td>\n",
       "      <td>AS8</td>\n",
       "      <td>10.7</td>\n",
       "      <td>7.7</td>\n",
       "      <td>9.4</td>\n",
       "      <td>219</td>\n",
       "      <td>5</td>\n",
       "    </tr>\n",
       "    <tr>\n",
       "      <th>931</th>\n",
       "      <td>2021</td>\n",
       "      <td>Volvo</td>\n",
       "      <td>XC60 T5 AWD</td>\n",
       "      <td>SUV: Small</td>\n",
       "      <td>2.0</td>\n",
       "      <td>4</td>\n",
       "      <td>AS8</td>\n",
       "      <td>11.1</td>\n",
       "      <td>8.3</td>\n",
       "      <td>9.9</td>\n",
       "      <td>230</td>\n",
       "      <td>5</td>\n",
       "    </tr>\n",
       "    <tr>\n",
       "      <th>932</th>\n",
       "      <td>2021</td>\n",
       "      <td>Volvo</td>\n",
       "      <td>XC60 T6 AWD</td>\n",
       "      <td>SUV: Small</td>\n",
       "      <td>2.0</td>\n",
       "      <td>4</td>\n",
       "      <td>AS8</td>\n",
       "      <td>11.7</td>\n",
       "      <td>8.6</td>\n",
       "      <td>10.3</td>\n",
       "      <td>240</td>\n",
       "      <td>7</td>\n",
       "    </tr>\n",
       "    <tr>\n",
       "      <th>933</th>\n",
       "      <td>2021</td>\n",
       "      <td>Volvo</td>\n",
       "      <td>XC90 T5 AWD</td>\n",
       "      <td>SUV: Standard</td>\n",
       "      <td>2.0</td>\n",
       "      <td>4</td>\n",
       "      <td>AS8</td>\n",
       "      <td>11.5</td>\n",
       "      <td>8.4</td>\n",
       "      <td>10.1</td>\n",
       "      <td>236</td>\n",
       "      <td>5</td>\n",
       "    </tr>\n",
       "    <tr>\n",
       "      <th>934</th>\n",
       "      <td>2021</td>\n",
       "      <td>Volvo</td>\n",
       "      <td>XC90 T6 AWD</td>\n",
       "      <td>SUV: Standard</td>\n",
       "      <td>2.0</td>\n",
       "      <td>4</td>\n",
       "      <td>AS8</td>\n",
       "      <td>12.1</td>\n",
       "      <td>8.5</td>\n",
       "      <td>10.5</td>\n",
       "      <td>245</td>\n",
       "      <td>7</td>\n",
       "    </tr>\n",
       "  </tbody>\n",
       "</table>\n",
       "</div>"
      ],
      "text/plain": [
       "     Model_Year   Make        Model  Vehicle_Class  Engine_Size  Cylinders  \\\n",
       "930        2021  Volvo  XC40 T5 AWD     SUV: Small          2.0          4   \n",
       "931        2021  Volvo  XC60 T5 AWD     SUV: Small          2.0          4   \n",
       "932        2021  Volvo  XC60 T6 AWD     SUV: Small          2.0          4   \n",
       "933        2021  Volvo  XC90 T5 AWD  SUV: Standard          2.0          4   \n",
       "934        2021  Volvo  XC90 T6 AWD  SUV: Standard          2.0          4   \n",
       "\n",
       "    Transmission  Fuel_Consumption_in_City(L/100 km)  \\\n",
       "930          AS8                                10.7   \n",
       "931          AS8                                11.1   \n",
       "932          AS8                                11.7   \n",
       "933          AS8                                11.5   \n",
       "934          AS8                                12.1   \n",
       "\n",
       "     Fuel_Consumption_in_City_Hwy(L/100 km)  Fuel_Consumption_comb(L/100km)  \\\n",
       "930                                     7.7                             9.4   \n",
       "931                                     8.3                             9.9   \n",
       "932                                     8.6                            10.3   \n",
       "933                                     8.4                            10.1   \n",
       "934                                     8.5                            10.5   \n",
       "\n",
       "     CO2_Emissions  Smog_Level  \n",
       "930            219           5  \n",
       "931            230           5  \n",
       "932            240           7  \n",
       "933            236           5  \n",
       "934            245           7  "
      ]
     },
     "execution_count": 5,
     "metadata": {},
     "output_type": "execute_result"
    }
   ],
   "source": [
    "df.tail()"
   ]
  },
  {
   "cell_type": "code",
   "execution_count": 6,
   "id": "27cbd417",
   "metadata": {},
   "outputs": [
    {
     "data": {
      "text/html": [
       "<div>\n",
       "<style scoped>\n",
       "    .dataframe tbody tr th:only-of-type {\n",
       "        vertical-align: middle;\n",
       "    }\n",
       "\n",
       "    .dataframe tbody tr th {\n",
       "        vertical-align: top;\n",
       "    }\n",
       "\n",
       "    .dataframe thead th {\n",
       "        text-align: right;\n",
       "    }\n",
       "</style>\n",
       "<table border=\"1\" class=\"dataframe\">\n",
       "  <thead>\n",
       "    <tr style=\"text-align: right;\">\n",
       "      <th></th>\n",
       "      <th>Model_Year</th>\n",
       "      <th>Make</th>\n",
       "      <th>Model</th>\n",
       "      <th>Vehicle_Class</th>\n",
       "      <th>Engine_Size</th>\n",
       "      <th>Cylinders</th>\n",
       "      <th>Fuel_Consumption_comb(L/100km)</th>\n",
       "      <th>CO2_Emissions</th>\n",
       "    </tr>\n",
       "  </thead>\n",
       "  <tbody>\n",
       "    <tr>\n",
       "      <th>0</th>\n",
       "      <td>2021</td>\n",
       "      <td>Acura</td>\n",
       "      <td>ILX</td>\n",
       "      <td>Compact</td>\n",
       "      <td>2.4</td>\n",
       "      <td>4</td>\n",
       "      <td>8.6</td>\n",
       "      <td>199</td>\n",
       "    </tr>\n",
       "    <tr>\n",
       "      <th>1</th>\n",
       "      <td>2021</td>\n",
       "      <td>Acura</td>\n",
       "      <td>NSX</td>\n",
       "      <td>Two-seater</td>\n",
       "      <td>3.5</td>\n",
       "      <td>6</td>\n",
       "      <td>11.0</td>\n",
       "      <td>256</td>\n",
       "    </tr>\n",
       "    <tr>\n",
       "      <th>2</th>\n",
       "      <td>2021</td>\n",
       "      <td>Acura</td>\n",
       "      <td>RDX SH-AWD</td>\n",
       "      <td>SUV: Small</td>\n",
       "      <td>2.0</td>\n",
       "      <td>4</td>\n",
       "      <td>9.9</td>\n",
       "      <td>232</td>\n",
       "    </tr>\n",
       "    <tr>\n",
       "      <th>3</th>\n",
       "      <td>2021</td>\n",
       "      <td>Acura</td>\n",
       "      <td>RDX SH-AWD A-SPEC</td>\n",
       "      <td>SUV: Small</td>\n",
       "      <td>2.0</td>\n",
       "      <td>4</td>\n",
       "      <td>10.3</td>\n",
       "      <td>242</td>\n",
       "    </tr>\n",
       "    <tr>\n",
       "      <th>4</th>\n",
       "      <td>2021</td>\n",
       "      <td>Acura</td>\n",
       "      <td>TLX SH-AWD</td>\n",
       "      <td>Compact</td>\n",
       "      <td>2.0</td>\n",
       "      <td>4</td>\n",
       "      <td>9.8</td>\n",
       "      <td>230</td>\n",
       "    </tr>\n",
       "  </tbody>\n",
       "</table>\n",
       "</div>"
      ],
      "text/plain": [
       "   Model_Year   Make              Model Vehicle_Class  Engine_Size  Cylinders  \\\n",
       "0        2021  Acura                ILX       Compact          2.4          4   \n",
       "1        2021  Acura                NSX    Two-seater          3.5          6   \n",
       "2        2021  Acura         RDX SH-AWD    SUV: Small          2.0          4   \n",
       "3        2021  Acura  RDX SH-AWD A-SPEC    SUV: Small          2.0          4   \n",
       "4        2021  Acura         TLX SH-AWD       Compact          2.0          4   \n",
       "\n",
       "   Fuel_Consumption_comb(L/100km)  CO2_Emissions  \n",
       "0                             8.6            199  \n",
       "1                            11.0            256  \n",
       "2                             9.9            232  \n",
       "3                            10.3            242  \n",
       "4                             9.8            230  "
      ]
     },
     "execution_count": 6,
     "metadata": {},
     "output_type": "execute_result"
    }
   ],
   "source": [
    "df=df.drop([\"Transmission\",\"Fuel_Consumption_in_City(L/100 km)\",\"Fuel_Consumption_in_City_Hwy(L/100 km)\",\"Smog_Level\"], axis = 1)\n",
    "df.head()"
   ]
  },
  {
   "cell_type": "code",
   "execution_count": 7,
   "id": "4bb4029e",
   "metadata": {},
   "outputs": [
    {
     "name": "stdout",
     "output_type": "stream",
     "text": [
      "<class 'pandas.core.frame.DataFrame'>\n",
      "RangeIndex: 935 entries, 0 to 934\n",
      "Data columns (total 8 columns):\n",
      " #   Column         Non-Null Count  Dtype  \n",
      "---  ------         --------------  -----  \n",
      " 0   Yil            935 non-null    int64  \n",
      " 1   Uretici        935 non-null    object \n",
      " 2   Model          935 non-null    object \n",
      " 3   Sinif          935 non-null    object \n",
      " 4   MotorHacim     935 non-null    float64\n",
      " 5   Silindir       935 non-null    int64  \n",
      " 6   YakitTuketimi  935 non-null    float64\n",
      " 7   CO2Emisyon     935 non-null    int64  \n",
      "dtypes: float64(2), int64(3), object(3)\n",
      "memory usage: 58.6+ KB\n"
     ]
    },
    {
     "data": {
      "text/html": [
       "<div>\n",
       "<style scoped>\n",
       "    .dataframe tbody tr th:only-of-type {\n",
       "        vertical-align: middle;\n",
       "    }\n",
       "\n",
       "    .dataframe tbody tr th {\n",
       "        vertical-align: top;\n",
       "    }\n",
       "\n",
       "    .dataframe thead th {\n",
       "        text-align: right;\n",
       "    }\n",
       "</style>\n",
       "<table border=\"1\" class=\"dataframe\">\n",
       "  <thead>\n",
       "    <tr style=\"text-align: right;\">\n",
       "      <th></th>\n",
       "      <th>Yil</th>\n",
       "      <th>Uretici</th>\n",
       "      <th>Model</th>\n",
       "      <th>Sinif</th>\n",
       "      <th>MotorHacim</th>\n",
       "      <th>Silindir</th>\n",
       "      <th>YakitTuketimi</th>\n",
       "      <th>CO2Emisyon</th>\n",
       "    </tr>\n",
       "  </thead>\n",
       "  <tbody>\n",
       "    <tr>\n",
       "      <th>0</th>\n",
       "      <td>2021</td>\n",
       "      <td>Acura</td>\n",
       "      <td>ILX</td>\n",
       "      <td>Compact</td>\n",
       "      <td>2.4</td>\n",
       "      <td>4</td>\n",
       "      <td>8.6</td>\n",
       "      <td>199</td>\n",
       "    </tr>\n",
       "    <tr>\n",
       "      <th>1</th>\n",
       "      <td>2021</td>\n",
       "      <td>Acura</td>\n",
       "      <td>NSX</td>\n",
       "      <td>Two-seater</td>\n",
       "      <td>3.5</td>\n",
       "      <td>6</td>\n",
       "      <td>11.0</td>\n",
       "      <td>256</td>\n",
       "    </tr>\n",
       "    <tr>\n",
       "      <th>2</th>\n",
       "      <td>2021</td>\n",
       "      <td>Acura</td>\n",
       "      <td>RDX SH-AWD</td>\n",
       "      <td>SUV: Small</td>\n",
       "      <td>2.0</td>\n",
       "      <td>4</td>\n",
       "      <td>9.9</td>\n",
       "      <td>232</td>\n",
       "    </tr>\n",
       "    <tr>\n",
       "      <th>3</th>\n",
       "      <td>2021</td>\n",
       "      <td>Acura</td>\n",
       "      <td>RDX SH-AWD A-SPEC</td>\n",
       "      <td>SUV: Small</td>\n",
       "      <td>2.0</td>\n",
       "      <td>4</td>\n",
       "      <td>10.3</td>\n",
       "      <td>242</td>\n",
       "    </tr>\n",
       "    <tr>\n",
       "      <th>4</th>\n",
       "      <td>2021</td>\n",
       "      <td>Acura</td>\n",
       "      <td>TLX SH-AWD</td>\n",
       "      <td>Compact</td>\n",
       "      <td>2.0</td>\n",
       "      <td>4</td>\n",
       "      <td>9.8</td>\n",
       "      <td>230</td>\n",
       "    </tr>\n",
       "  </tbody>\n",
       "</table>\n",
       "</div>"
      ],
      "text/plain": [
       "    Yil Uretici              Model       Sinif  MotorHacim  Silindir  \\\n",
       "0  2021   Acura                ILX     Compact         2.4         4   \n",
       "1  2021   Acura                NSX  Two-seater         3.5         6   \n",
       "2  2021   Acura         RDX SH-AWD  SUV: Small         2.0         4   \n",
       "3  2021   Acura  RDX SH-AWD A-SPEC  SUV: Small         2.0         4   \n",
       "4  2021   Acura         TLX SH-AWD     Compact         2.0         4   \n",
       "\n",
       "   YakitTuketimi  CO2Emisyon  \n",
       "0            8.6         199  \n",
       "1           11.0         256  \n",
       "2            9.9         232  \n",
       "3           10.3         242  \n",
       "4            9.8         230  "
      ]
     },
     "execution_count": 7,
     "metadata": {},
     "output_type": "execute_result"
    }
   ],
   "source": [
    "df = df.rename(columns={'Model_Year': 'Yil', \n",
    "                        'Make': 'Uretici',\n",
    "                        'Vehicle_Class': 'Sinif',\n",
    "                        'Engine_Size': 'MotorHacim',\n",
    "                        'Cylinders': 'Silindir',\n",
    "                        'Fuel_Consumption_comb(L/100km)': 'YakitTuketimi',\n",
    "                        'CO2_Emissions': 'CO2Emisyon',\n",
    "                       })\n",
    "df.info()\n",
    "df.head()"
   ]
  },
  {
   "cell_type": "markdown",
   "id": "ce3774a8",
   "metadata": {},
   "source": [
    "## 2. Veri Setinin Betimlenmesi"
   ]
  },
  {
   "cell_type": "code",
   "execution_count": 8,
   "id": "ac8e4d82",
   "metadata": {},
   "outputs": [
    {
     "name": "stdout",
     "output_type": "stream",
     "text": [
      "<class 'pandas.core.frame.DataFrame'>\n",
      "RangeIndex: 935 entries, 0 to 934\n",
      "Data columns (total 8 columns):\n",
      " #   Column         Non-Null Count  Dtype  \n",
      "---  ------         --------------  -----  \n",
      " 0   Yil            935 non-null    int64  \n",
      " 1   Uretici        935 non-null    object \n",
      " 2   Model          935 non-null    object \n",
      " 3   Sinif          935 non-null    object \n",
      " 4   MotorHacim     935 non-null    float64\n",
      " 5   Silindir       935 non-null    int64  \n",
      " 6   YakitTuketimi  935 non-null    float64\n",
      " 7   CO2Emisyon     935 non-null    int64  \n",
      "dtypes: float64(2), int64(3), object(3)\n",
      "memory usage: 58.6+ KB\n"
     ]
    }
   ],
   "source": [
    "df.info()"
   ]
  },
  {
   "cell_type": "code",
   "execution_count": 9,
   "id": "9e795198",
   "metadata": {},
   "outputs": [],
   "source": [
    "df.Sinif = pd.Categorical(df.Sinif)\n",
    "df.Uretici = pd.Categorical(df.Uretici)"
   ]
  },
  {
   "cell_type": "code",
   "execution_count": 10,
   "id": "1abc1dff",
   "metadata": {},
   "outputs": [
    {
     "name": "stdout",
     "output_type": "stream",
     "text": [
      "<class 'pandas.core.frame.DataFrame'>\n",
      "RangeIndex: 935 entries, 0 to 934\n",
      "Data columns (total 8 columns):\n",
      " #   Column         Non-Null Count  Dtype   \n",
      "---  ------         --------------  -----   \n",
      " 0   Yil            935 non-null    int64   \n",
      " 1   Uretici        935 non-null    category\n",
      " 2   Model          935 non-null    object  \n",
      " 3   Sinif          935 non-null    category\n",
      " 4   MotorHacim     935 non-null    float64 \n",
      " 5   Silindir       935 non-null    int64   \n",
      " 6   YakitTuketimi  935 non-null    float64 \n",
      " 7   CO2Emisyon     935 non-null    int64   \n",
      "dtypes: category(2), float64(2), int64(3), object(1)\n",
      "memory usage: 47.8+ KB\n"
     ]
    }
   ],
   "source": [
    "df.info()"
   ]
  },
  {
   "cell_type": "code",
   "execution_count": 11,
   "id": "4512b9d6",
   "metadata": {},
   "outputs": [
    {
     "name": "stdout",
     "output_type": "stream",
     "text": [
      "\n",
      "\n"
     ]
    },
    {
     "data": {
      "text/html": [
       "<div>\n",
       "<style scoped>\n",
       "    .dataframe tbody tr th:only-of-type {\n",
       "        vertical-align: middle;\n",
       "    }\n",
       "\n",
       "    .dataframe tbody tr th {\n",
       "        vertical-align: top;\n",
       "    }\n",
       "\n",
       "    .dataframe thead th {\n",
       "        text-align: right;\n",
       "    }\n",
       "</style>\n",
       "<table border=\"1\" class=\"dataframe\">\n",
       "  <thead>\n",
       "    <tr style=\"text-align: right;\">\n",
       "      <th></th>\n",
       "      <th>Variable</th>\n",
       "      <th>N</th>\n",
       "      <th>Mean</th>\n",
       "      <th>SD</th>\n",
       "      <th>SE</th>\n",
       "      <th>95% Conf.</th>\n",
       "      <th>Interval</th>\n",
       "    </tr>\n",
       "  </thead>\n",
       "  <tbody>\n",
       "    <tr>\n",
       "      <th>0</th>\n",
       "      <td>Yil</td>\n",
       "      <td>935.0</td>\n",
       "      <td>2021.0000</td>\n",
       "      <td>0.0000</td>\n",
       "      <td>0.0000</td>\n",
       "      <td>NaN</td>\n",
       "      <td>NaN</td>\n",
       "    </tr>\n",
       "    <tr>\n",
       "      <th>1</th>\n",
       "      <td>MotorHacim</td>\n",
       "      <td>935.0</td>\n",
       "      <td>3.2149</td>\n",
       "      <td>1.3885</td>\n",
       "      <td>0.0454</td>\n",
       "      <td>3.1258</td>\n",
       "      <td>3.3040</td>\n",
       "    </tr>\n",
       "    <tr>\n",
       "      <th>2</th>\n",
       "      <td>Silindir</td>\n",
       "      <td>935.0</td>\n",
       "      <td>5.7166</td>\n",
       "      <td>1.9774</td>\n",
       "      <td>0.0647</td>\n",
       "      <td>5.5897</td>\n",
       "      <td>5.8435</td>\n",
       "    </tr>\n",
       "    <tr>\n",
       "      <th>3</th>\n",
       "      <td>YakitTuketimi</td>\n",
       "      <td>935.0</td>\n",
       "      <td>11.0602</td>\n",
       "      <td>2.8670</td>\n",
       "      <td>0.0938</td>\n",
       "      <td>10.8762</td>\n",
       "      <td>11.2442</td>\n",
       "    </tr>\n",
       "    <tr>\n",
       "      <th>4</th>\n",
       "      <td>CO2Emisyon</td>\n",
       "      <td>935.0</td>\n",
       "      <td>258.5294</td>\n",
       "      <td>64.4428</td>\n",
       "      <td>2.1075</td>\n",
       "      <td>254.3934</td>\n",
       "      <td>262.6654</td>\n",
       "    </tr>\n",
       "  </tbody>\n",
       "</table>\n",
       "</div>"
      ],
      "text/plain": [
       "        Variable      N       Mean       SD      SE  95% Conf.  Interval\n",
       "0            Yil  935.0  2021.0000   0.0000  0.0000        NaN       NaN\n",
       "1     MotorHacim  935.0     3.2149   1.3885  0.0454     3.1258    3.3040\n",
       "2       Silindir  935.0     5.7166   1.9774  0.0647     5.5897    5.8435\n",
       "3  YakitTuketimi  935.0    11.0602   2.8670  0.0938    10.8762   11.2442\n",
       "4     CO2Emisyon  935.0   258.5294  64.4428  2.1075   254.3934  262.6654"
      ]
     },
     "execution_count": 11,
     "metadata": {},
     "output_type": "execute_result"
    }
   ],
   "source": [
    "rp.summary_cont(df[[\"Yil\",\"MotorHacim\",\"Silindir\",\"YakitTuketimi\",\"CO2Emisyon\"]])"
   ]
  },
  {
   "cell_type": "code",
   "execution_count": 12,
   "id": "31c57d64",
   "metadata": {},
   "outputs": [
    {
     "data": {
      "text/html": [
       "<div>\n",
       "<style scoped>\n",
       "    .dataframe tbody tr th:only-of-type {\n",
       "        vertical-align: middle;\n",
       "    }\n",
       "\n",
       "    .dataframe tbody tr th {\n",
       "        vertical-align: top;\n",
       "    }\n",
       "\n",
       "    .dataframe thead th {\n",
       "        text-align: right;\n",
       "    }\n",
       "</style>\n",
       "<table border=\"1\" class=\"dataframe\">\n",
       "  <thead>\n",
       "    <tr style=\"text-align: right;\">\n",
       "      <th></th>\n",
       "      <th>Variable</th>\n",
       "      <th>Outcome</th>\n",
       "      <th>Count</th>\n",
       "      <th>Percent</th>\n",
       "    </tr>\n",
       "  </thead>\n",
       "  <tbody>\n",
       "    <tr>\n",
       "      <th>0</th>\n",
       "      <td>Uretici</td>\n",
       "      <td>Ford</td>\n",
       "      <td>87</td>\n",
       "      <td>9.30</td>\n",
       "    </tr>\n",
       "    <tr>\n",
       "      <th>1</th>\n",
       "      <td></td>\n",
       "      <td>Chevrolet</td>\n",
       "      <td>84</td>\n",
       "      <td>8.98</td>\n",
       "    </tr>\n",
       "    <tr>\n",
       "      <th>2</th>\n",
       "      <td></td>\n",
       "      <td>Mercedes-Benz</td>\n",
       "      <td>72</td>\n",
       "      <td>7.70</td>\n",
       "    </tr>\n",
       "    <tr>\n",
       "      <th>3</th>\n",
       "      <td></td>\n",
       "      <td>Porsche</td>\n",
       "      <td>63</td>\n",
       "      <td>6.74</td>\n",
       "    </tr>\n",
       "    <tr>\n",
       "      <th>4</th>\n",
       "      <td></td>\n",
       "      <td>GMC</td>\n",
       "      <td>61</td>\n",
       "      <td>6.52</td>\n",
       "    </tr>\n",
       "    <tr>\n",
       "      <th>5</th>\n",
       "      <td></td>\n",
       "      <td>BMW</td>\n",
       "      <td>54</td>\n",
       "      <td>5.78</td>\n",
       "    </tr>\n",
       "    <tr>\n",
       "      <th>6</th>\n",
       "      <td></td>\n",
       "      <td>Toyota</td>\n",
       "      <td>49</td>\n",
       "      <td>5.24</td>\n",
       "    </tr>\n",
       "    <tr>\n",
       "      <th>7</th>\n",
       "      <td></td>\n",
       "      <td>Audi</td>\n",
       "      <td>43</td>\n",
       "      <td>4.60</td>\n",
       "    </tr>\n",
       "    <tr>\n",
       "      <th>8</th>\n",
       "      <td></td>\n",
       "      <td>Jeep</td>\n",
       "      <td>36</td>\n",
       "      <td>3.85</td>\n",
       "    </tr>\n",
       "    <tr>\n",
       "      <th>9</th>\n",
       "      <td></td>\n",
       "      <td>Mazda</td>\n",
       "      <td>29</td>\n",
       "      <td>3.10</td>\n",
       "    </tr>\n",
       "    <tr>\n",
       "      <th>10</th>\n",
       "      <td></td>\n",
       "      <td>Hyundai</td>\n",
       "      <td>27</td>\n",
       "      <td>2.89</td>\n",
       "    </tr>\n",
       "    <tr>\n",
       "      <th>11</th>\n",
       "      <td></td>\n",
       "      <td>Lexus</td>\n",
       "      <td>27</td>\n",
       "      <td>2.89</td>\n",
       "    </tr>\n",
       "    <tr>\n",
       "      <th>12</th>\n",
       "      <td></td>\n",
       "      <td>Kia</td>\n",
       "      <td>25</td>\n",
       "      <td>2.67</td>\n",
       "    </tr>\n",
       "    <tr>\n",
       "      <th>13</th>\n",
       "      <td></td>\n",
       "      <td>Honda</td>\n",
       "      <td>23</td>\n",
       "      <td>2.46</td>\n",
       "    </tr>\n",
       "    <tr>\n",
       "      <th>14</th>\n",
       "      <td></td>\n",
       "      <td>Cadillac</td>\n",
       "      <td>22</td>\n",
       "      <td>2.35</td>\n",
       "    </tr>\n",
       "    <tr>\n",
       "      <th>15</th>\n",
       "      <td></td>\n",
       "      <td>Dodge</td>\n",
       "      <td>22</td>\n",
       "      <td>2.35</td>\n",
       "    </tr>\n",
       "    <tr>\n",
       "      <th>16</th>\n",
       "      <td></td>\n",
       "      <td>MINI</td>\n",
       "      <td>22</td>\n",
       "      <td>2.35</td>\n",
       "    </tr>\n",
       "    <tr>\n",
       "      <th>17</th>\n",
       "      <td></td>\n",
       "      <td>Nissan</td>\n",
       "      <td>22</td>\n",
       "      <td>2.35</td>\n",
       "    </tr>\n",
       "    <tr>\n",
       "      <th>18</th>\n",
       "      <td></td>\n",
       "      <td>Volkswagen</td>\n",
       "      <td>16</td>\n",
       "      <td>1.71</td>\n",
       "    </tr>\n",
       "    <tr>\n",
       "      <th>19</th>\n",
       "      <td></td>\n",
       "      <td>Ram</td>\n",
       "      <td>16</td>\n",
       "      <td>1.71</td>\n",
       "    </tr>\n",
       "    <tr>\n",
       "      <th>20</th>\n",
       "      <td></td>\n",
       "      <td>Subaru</td>\n",
       "      <td>16</td>\n",
       "      <td>1.71</td>\n",
       "    </tr>\n",
       "    <tr>\n",
       "      <th>21</th>\n",
       "      <td></td>\n",
       "      <td>Volvo</td>\n",
       "      <td>13</td>\n",
       "      <td>1.39</td>\n",
       "    </tr>\n",
       "    <tr>\n",
       "      <th>22</th>\n",
       "      <td></td>\n",
       "      <td>Maserati</td>\n",
       "      <td>11</td>\n",
       "      <td>1.18</td>\n",
       "    </tr>\n",
       "    <tr>\n",
       "      <th>23</th>\n",
       "      <td></td>\n",
       "      <td>Rolls-Royce</td>\n",
       "      <td>10</td>\n",
       "      <td>1.07</td>\n",
       "    </tr>\n",
       "    <tr>\n",
       "      <th>24</th>\n",
       "      <td></td>\n",
       "      <td>Lamborghini</td>\n",
       "      <td>9</td>\n",
       "      <td>0.96</td>\n",
       "    </tr>\n",
       "    <tr>\n",
       "      <th>25</th>\n",
       "      <td></td>\n",
       "      <td>Buick</td>\n",
       "      <td>9</td>\n",
       "      <td>0.96</td>\n",
       "    </tr>\n",
       "    <tr>\n",
       "      <th>26</th>\n",
       "      <td></td>\n",
       "      <td>Genesis</td>\n",
       "      <td>8</td>\n",
       "      <td>0.86</td>\n",
       "    </tr>\n",
       "    <tr>\n",
       "      <th>27</th>\n",
       "      <td></td>\n",
       "      <td>Bentley</td>\n",
       "      <td>8</td>\n",
       "      <td>0.86</td>\n",
       "    </tr>\n",
       "    <tr>\n",
       "      <th>28</th>\n",
       "      <td></td>\n",
       "      <td>Lincoln</td>\n",
       "      <td>7</td>\n",
       "      <td>0.75</td>\n",
       "    </tr>\n",
       "    <tr>\n",
       "      <th>29</th>\n",
       "      <td></td>\n",
       "      <td>Chrysler</td>\n",
       "      <td>6</td>\n",
       "      <td>0.64</td>\n",
       "    </tr>\n",
       "    <tr>\n",
       "      <th>30</th>\n",
       "      <td></td>\n",
       "      <td>Jaguar</td>\n",
       "      <td>6</td>\n",
       "      <td>0.64</td>\n",
       "    </tr>\n",
       "    <tr>\n",
       "      <th>31</th>\n",
       "      <td></td>\n",
       "      <td>Aston Martin</td>\n",
       "      <td>6</td>\n",
       "      <td>0.64</td>\n",
       "    </tr>\n",
       "    <tr>\n",
       "      <th>32</th>\n",
       "      <td></td>\n",
       "      <td>Acura</td>\n",
       "      <td>6</td>\n",
       "      <td>0.64</td>\n",
       "    </tr>\n",
       "    <tr>\n",
       "      <th>33</th>\n",
       "      <td></td>\n",
       "      <td>Infiniti</td>\n",
       "      <td>6</td>\n",
       "      <td>0.64</td>\n",
       "    </tr>\n",
       "    <tr>\n",
       "      <th>34</th>\n",
       "      <td></td>\n",
       "      <td>Alfa Romeo</td>\n",
       "      <td>6</td>\n",
       "      <td>0.64</td>\n",
       "    </tr>\n",
       "    <tr>\n",
       "      <th>35</th>\n",
       "      <td></td>\n",
       "      <td>Mitsubishi</td>\n",
       "      <td>5</td>\n",
       "      <td>0.53</td>\n",
       "    </tr>\n",
       "    <tr>\n",
       "      <th>36</th>\n",
       "      <td></td>\n",
       "      <td>Bugatti</td>\n",
       "      <td>2</td>\n",
       "      <td>0.21</td>\n",
       "    </tr>\n",
       "    <tr>\n",
       "      <th>37</th>\n",
       "      <td></td>\n",
       "      <td>FIAT</td>\n",
       "      <td>1</td>\n",
       "      <td>0.11</td>\n",
       "    </tr>\n",
       "  </tbody>\n",
       "</table>\n",
       "</div>"
      ],
      "text/plain": [
       "   Variable        Outcome  Count  Percent\n",
       "0   Uretici           Ford     87     9.30\n",
       "1                Chevrolet     84     8.98\n",
       "2            Mercedes-Benz     72     7.70\n",
       "3                  Porsche     63     6.74\n",
       "4                      GMC     61     6.52\n",
       "5                      BMW     54     5.78\n",
       "6                   Toyota     49     5.24\n",
       "7                     Audi     43     4.60\n",
       "8                     Jeep     36     3.85\n",
       "9                    Mazda     29     3.10\n",
       "10                 Hyundai     27     2.89\n",
       "11                   Lexus     27     2.89\n",
       "12                     Kia     25     2.67\n",
       "13                   Honda     23     2.46\n",
       "14                Cadillac     22     2.35\n",
       "15                   Dodge     22     2.35\n",
       "16                    MINI     22     2.35\n",
       "17                  Nissan     22     2.35\n",
       "18              Volkswagen     16     1.71\n",
       "19                     Ram     16     1.71\n",
       "20                  Subaru     16     1.71\n",
       "21                   Volvo     13     1.39\n",
       "22                Maserati     11     1.18\n",
       "23             Rolls-Royce     10     1.07\n",
       "24             Lamborghini      9     0.96\n",
       "25                   Buick      9     0.96\n",
       "26                 Genesis      8     0.86\n",
       "27                 Bentley      8     0.86\n",
       "28                 Lincoln      7     0.75\n",
       "29                Chrysler      6     0.64\n",
       "30                  Jaguar      6     0.64\n",
       "31            Aston Martin      6     0.64\n",
       "32                   Acura      6     0.64\n",
       "33                Infiniti      6     0.64\n",
       "34              Alfa Romeo      6     0.64\n",
       "35              Mitsubishi      5     0.53\n",
       "36                 Bugatti      2     0.21\n",
       "37                    FIAT      1     0.11"
      ]
     },
     "execution_count": 12,
     "metadata": {},
     "output_type": "execute_result"
    }
   ],
   "source": [
    "rp.summary_cat(df[[\"Uretici\"]])"
   ]
  },
  {
   "cell_type": "code",
   "execution_count": 13,
   "id": "dfdf574f",
   "metadata": {},
   "outputs": [
    {
     "data": {
      "text/html": [
       "<div>\n",
       "<style scoped>\n",
       "    .dataframe tbody tr th:only-of-type {\n",
       "        vertical-align: middle;\n",
       "    }\n",
       "\n",
       "    .dataframe tbody tr th {\n",
       "        vertical-align: top;\n",
       "    }\n",
       "\n",
       "    .dataframe thead th {\n",
       "        text-align: right;\n",
       "    }\n",
       "</style>\n",
       "<table border=\"1\" class=\"dataframe\">\n",
       "  <thead>\n",
       "    <tr style=\"text-align: right;\">\n",
       "      <th></th>\n",
       "      <th>Variable</th>\n",
       "      <th>Outcome</th>\n",
       "      <th>Count</th>\n",
       "      <th>Percent</th>\n",
       "    </tr>\n",
       "  </thead>\n",
       "  <tbody>\n",
       "    <tr>\n",
       "      <th>0</th>\n",
       "      <td>Sinif</td>\n",
       "      <td>SUV: Small</td>\n",
       "      <td>192</td>\n",
       "      <td>20.53</td>\n",
       "    </tr>\n",
       "    <tr>\n",
       "      <th>1</th>\n",
       "      <td></td>\n",
       "      <td>SUV: Standard</td>\n",
       "      <td>127</td>\n",
       "      <td>13.58</td>\n",
       "    </tr>\n",
       "    <tr>\n",
       "      <th>2</th>\n",
       "      <td></td>\n",
       "      <td>Pickup truck: Standard</td>\n",
       "      <td>115</td>\n",
       "      <td>12.30</td>\n",
       "    </tr>\n",
       "    <tr>\n",
       "      <th>3</th>\n",
       "      <td></td>\n",
       "      <td>Mid-size</td>\n",
       "      <td>114</td>\n",
       "      <td>12.19</td>\n",
       "    </tr>\n",
       "    <tr>\n",
       "      <th>4</th>\n",
       "      <td></td>\n",
       "      <td>Compact</td>\n",
       "      <td>83</td>\n",
       "      <td>8.88</td>\n",
       "    </tr>\n",
       "    <tr>\n",
       "      <th>5</th>\n",
       "      <td></td>\n",
       "      <td>Subcompact</td>\n",
       "      <td>83</td>\n",
       "      <td>8.88</td>\n",
       "    </tr>\n",
       "    <tr>\n",
       "      <th>6</th>\n",
       "      <td></td>\n",
       "      <td>Full-size</td>\n",
       "      <td>65</td>\n",
       "      <td>6.95</td>\n",
       "    </tr>\n",
       "    <tr>\n",
       "      <th>7</th>\n",
       "      <td></td>\n",
       "      <td>Two-seater</td>\n",
       "      <td>56</td>\n",
       "      <td>5.99</td>\n",
       "    </tr>\n",
       "    <tr>\n",
       "      <th>8</th>\n",
       "      <td></td>\n",
       "      <td>Minicompact</td>\n",
       "      <td>30</td>\n",
       "      <td>3.21</td>\n",
       "    </tr>\n",
       "    <tr>\n",
       "      <th>9</th>\n",
       "      <td></td>\n",
       "      <td>Station wagon: Small</td>\n",
       "      <td>20</td>\n",
       "      <td>2.14</td>\n",
       "    </tr>\n",
       "    <tr>\n",
       "      <th>10</th>\n",
       "      <td></td>\n",
       "      <td>Pickup truck: Small</td>\n",
       "      <td>17</td>\n",
       "      <td>1.82</td>\n",
       "    </tr>\n",
       "    <tr>\n",
       "      <th>11</th>\n",
       "      <td></td>\n",
       "      <td>Special purpose vehicle</td>\n",
       "      <td>13</td>\n",
       "      <td>1.39</td>\n",
       "    </tr>\n",
       "    <tr>\n",
       "      <th>12</th>\n",
       "      <td></td>\n",
       "      <td>Station wagon: Mid-size</td>\n",
       "      <td>9</td>\n",
       "      <td>0.96</td>\n",
       "    </tr>\n",
       "    <tr>\n",
       "      <th>13</th>\n",
       "      <td></td>\n",
       "      <td>Minivan</td>\n",
       "      <td>7</td>\n",
       "      <td>0.75</td>\n",
       "    </tr>\n",
       "    <tr>\n",
       "      <th>14</th>\n",
       "      <td></td>\n",
       "      <td>Van: Passenger</td>\n",
       "      <td>4</td>\n",
       "      <td>0.43</td>\n",
       "    </tr>\n",
       "  </tbody>\n",
       "</table>\n",
       "</div>"
      ],
      "text/plain": [
       "   Variable                  Outcome  Count  Percent\n",
       "0     Sinif               SUV: Small    192    20.53\n",
       "1                      SUV: Standard    127    13.58\n",
       "2             Pickup truck: Standard    115    12.30\n",
       "3                           Mid-size    114    12.19\n",
       "4                            Compact     83     8.88\n",
       "5                         Subcompact     83     8.88\n",
       "6                          Full-size     65     6.95\n",
       "7                         Two-seater     56     5.99\n",
       "8                        Minicompact     30     3.21\n",
       "9               Station wagon: Small     20     2.14\n",
       "10               Pickup truck: Small     17     1.82\n",
       "11           Special purpose vehicle     13     1.39\n",
       "12           Station wagon: Mid-size      9     0.96\n",
       "13                           Minivan      7     0.75\n",
       "14                    Van: Passenger      4     0.43"
      ]
     },
     "execution_count": 13,
     "metadata": {},
     "output_type": "execute_result"
    }
   ],
   "source": [
    "rp.summary_cat(df[[\"Sinif\"]])"
   ]
  },
  {
   "cell_type": "code",
   "execution_count": 14,
   "id": "5efd5848",
   "metadata": {},
   "outputs": [
    {
     "data": {
      "text/html": [
       "<div>\n",
       "<style scoped>\n",
       "    .dataframe tbody tr th:only-of-type {\n",
       "        vertical-align: middle;\n",
       "    }\n",
       "\n",
       "    .dataframe tbody tr th {\n",
       "        vertical-align: top;\n",
       "    }\n",
       "\n",
       "    .dataframe thead th {\n",
       "        text-align: right;\n",
       "    }\n",
       "</style>\n",
       "<table border=\"1\" class=\"dataframe\">\n",
       "  <thead>\n",
       "    <tr style=\"text-align: right;\">\n",
       "      <th></th>\n",
       "      <th>count</th>\n",
       "      <th>mean</th>\n",
       "      <th>std</th>\n",
       "      <th>min</th>\n",
       "      <th>25%</th>\n",
       "      <th>50%</th>\n",
       "      <th>75%</th>\n",
       "      <th>max</th>\n",
       "    </tr>\n",
       "  </thead>\n",
       "  <tbody>\n",
       "    <tr>\n",
       "      <th>Yil</th>\n",
       "      <td>935.0</td>\n",
       "      <td>2021.000000</td>\n",
       "      <td>0.000000</td>\n",
       "      <td>2021.0</td>\n",
       "      <td>2021.0</td>\n",
       "      <td>2021.0</td>\n",
       "      <td>2021.0</td>\n",
       "      <td>2021.0</td>\n",
       "    </tr>\n",
       "    <tr>\n",
       "      <th>MotorHacim</th>\n",
       "      <td>935.0</td>\n",
       "      <td>3.214866</td>\n",
       "      <td>1.388513</td>\n",
       "      <td>1.0</td>\n",
       "      <td>2.0</td>\n",
       "      <td>3.0</td>\n",
       "      <td>4.0</td>\n",
       "      <td>8.0</td>\n",
       "    </tr>\n",
       "    <tr>\n",
       "      <th>Silindir</th>\n",
       "      <td>935.0</td>\n",
       "      <td>5.716578</td>\n",
       "      <td>1.977359</td>\n",
       "      <td>3.0</td>\n",
       "      <td>4.0</td>\n",
       "      <td>6.0</td>\n",
       "      <td>8.0</td>\n",
       "      <td>16.0</td>\n",
       "    </tr>\n",
       "    <tr>\n",
       "      <th>YakitTuketimi</th>\n",
       "      <td>935.0</td>\n",
       "      <td>11.060214</td>\n",
       "      <td>2.867028</td>\n",
       "      <td>4.0</td>\n",
       "      <td>9.1</td>\n",
       "      <td>10.7</td>\n",
       "      <td>13.1</td>\n",
       "      <td>26.1</td>\n",
       "    </tr>\n",
       "    <tr>\n",
       "      <th>CO2Emisyon</th>\n",
       "      <td>935.0</td>\n",
       "      <td>258.529412</td>\n",
       "      <td>64.442768</td>\n",
       "      <td>94.0</td>\n",
       "      <td>213.0</td>\n",
       "      <td>255.0</td>\n",
       "      <td>303.5</td>\n",
       "      <td>608.0</td>\n",
       "    </tr>\n",
       "  </tbody>\n",
       "</table>\n",
       "</div>"
      ],
      "text/plain": [
       "               count         mean        std     min     25%     50%     75%  \\\n",
       "Yil            935.0  2021.000000   0.000000  2021.0  2021.0  2021.0  2021.0   \n",
       "MotorHacim     935.0     3.214866   1.388513     1.0     2.0     3.0     4.0   \n",
       "Silindir       935.0     5.716578   1.977359     3.0     4.0     6.0     8.0   \n",
       "YakitTuketimi  935.0    11.060214   2.867028     4.0     9.1    10.7    13.1   \n",
       "CO2Emisyon     935.0   258.529412  64.442768    94.0   213.0   255.0   303.5   \n",
       "\n",
       "                  max  \n",
       "Yil            2021.0  \n",
       "MotorHacim        8.0  \n",
       "Silindir         16.0  \n",
       "YakitTuketimi    26.1  \n",
       "CO2Emisyon      608.0  "
      ]
     },
     "execution_count": 14,
     "metadata": {},
     "output_type": "execute_result"
    }
   ],
   "source": [
    "df.describe().T "
   ]
  },
  {
   "cell_type": "markdown",
   "id": "3d9fbe12",
   "metadata": {},
   "source": [
    "## 3. Ayrık ve Eksik Değerlerin İncelenmesi"
   ]
  },
  {
   "cell_type": "code",
   "execution_count": 15,
   "id": "676de168",
   "metadata": {},
   "outputs": [
    {
     "data": {
      "text/html": [
       "<div>\n",
       "<style scoped>\n",
       "    .dataframe tbody tr th:only-of-type {\n",
       "        vertical-align: middle;\n",
       "    }\n",
       "\n",
       "    .dataframe tbody tr th {\n",
       "        vertical-align: top;\n",
       "    }\n",
       "\n",
       "    .dataframe thead th {\n",
       "        text-align: right;\n",
       "    }\n",
       "</style>\n",
       "<table border=\"1\" class=\"dataframe\">\n",
       "  <thead>\n",
       "    <tr style=\"text-align: right;\">\n",
       "      <th></th>\n",
       "      <th>Yil</th>\n",
       "      <th>MotorHacim</th>\n",
       "      <th>Silindir</th>\n",
       "      <th>YakitTuketimi</th>\n",
       "      <th>CO2Emisyon</th>\n",
       "    </tr>\n",
       "  </thead>\n",
       "  <tbody>\n",
       "    <tr>\n",
       "      <th>0</th>\n",
       "      <td>2021</td>\n",
       "      <td>2.4</td>\n",
       "      <td>4</td>\n",
       "      <td>8.6</td>\n",
       "      <td>199</td>\n",
       "    </tr>\n",
       "    <tr>\n",
       "      <th>1</th>\n",
       "      <td>2021</td>\n",
       "      <td>3.5</td>\n",
       "      <td>6</td>\n",
       "      <td>11.0</td>\n",
       "      <td>256</td>\n",
       "    </tr>\n",
       "    <tr>\n",
       "      <th>2</th>\n",
       "      <td>2021</td>\n",
       "      <td>2.0</td>\n",
       "      <td>4</td>\n",
       "      <td>9.9</td>\n",
       "      <td>232</td>\n",
       "    </tr>\n",
       "    <tr>\n",
       "      <th>3</th>\n",
       "      <td>2021</td>\n",
       "      <td>2.0</td>\n",
       "      <td>4</td>\n",
       "      <td>10.3</td>\n",
       "      <td>242</td>\n",
       "    </tr>\n",
       "    <tr>\n",
       "      <th>4</th>\n",
       "      <td>2021</td>\n",
       "      <td>2.0</td>\n",
       "      <td>4</td>\n",
       "      <td>9.8</td>\n",
       "      <td>230</td>\n",
       "    </tr>\n",
       "  </tbody>\n",
       "</table>\n",
       "</div>"
      ],
      "text/plain": [
       "    Yil  MotorHacim  Silindir  YakitTuketimi  CO2Emisyon\n",
       "0  2021         2.4         4            8.6         199\n",
       "1  2021         3.5         6           11.0         256\n",
       "2  2021         2.0         4            9.9         232\n",
       "3  2021         2.0         4           10.3         242\n",
       "4  2021         2.0         4            9.8         230"
      ]
     },
     "execution_count": 15,
     "metadata": {},
     "output_type": "execute_result"
    }
   ],
   "source": [
    "tf = df.select_dtypes(include = ['float64', 'int64'])\n",
    "tf = tf.dropna()\n",
    "tf.head()"
   ]
  },
  {
   "cell_type": "code",
   "execution_count": 16,
   "id": "7d842496",
   "metadata": {},
   "outputs": [
    {
     "data": {
      "text/plain": [
       "0    199\n",
       "1    256\n",
       "2    232\n",
       "3    242\n",
       "4    230\n",
       "Name: CO2Emisyon, dtype: int64"
      ]
     },
     "execution_count": 16,
     "metadata": {},
     "output_type": "execute_result"
    }
   ],
   "source": [
    "df_table = tf[\"CO2Emisyon\"]\n",
    "df_table.head()"
   ]
  },
  {
   "cell_type": "code",
   "execution_count": 17,
   "id": "a5ed43c7",
   "metadata": {},
   "outputs": [
    {
     "data": {
      "image/png": "[encoded data removed]",
      "text/plain": [
       "<Figure size 432x288 with 1 Axes>"
      ]
     },
     "metadata": {
      "needs_background": "light"
     },
     "output_type": "display_data"
    }
   ],
   "source": [
    "sns.boxplot(x =df_table);"
   ]
  },
  {
   "cell_type": "code",
   "execution_count": 18,
   "id": "b9e814ce",
   "metadata": {},
   "outputs": [],
   "source": [
    "Q1 = df_table.quantile(0.25)\n",
    "Q3 = df_table.quantile(0.75)\n",
    "IQR = Q3-Q1"
   ]
  },
  {
   "cell_type": "code",
   "execution_count": 19,
   "id": "78c2af0b",
   "metadata": {},
   "outputs": [],
   "source": [
    "alt_sinir = Q1- 1.5*IQR\n",
    "ust_sinir = Q3 + 1.5*IQR"
   ]
  },
  {
   "cell_type": "code",
   "execution_count": 20,
   "id": "bb610495",
   "metadata": {},
   "outputs": [
    {
     "name": "stdout",
     "output_type": "stream",
     "text": [
      "77.25\n",
      "439.25\n"
     ]
    }
   ],
   "source": [
    "print(alt_sinir)\n",
    "print(ust_sinir)"
   ]
  },
  {
   "cell_type": "code",
   "execution_count": 21,
   "id": "6d77b224",
   "metadata": {},
   "outputs": [
    {
     "data": {
      "text/plain": [
       "123    522\n",
       "124    608\n",
       "548    520\n",
       "549    520\n",
       "550    515\n",
       "551    515\n",
       "825    465\n",
       "Name: CO2Emisyon, dtype: int64"
      ]
     },
     "execution_count": 21,
     "metadata": {},
     "output_type": "execute_result"
    }
   ],
   "source": [
    "aykiri_tf = (df_table < alt_sinir) | (df_table > ust_sinir)\n",
    "df_table[aykiri_tf]"
   ]
  },
  {
   "cell_type": "code",
   "execution_count": 22,
   "id": "069f9416",
   "metadata": {},
   "outputs": [
    {
     "data": {
      "text/plain": [
       "120    321.00\n",
       "121    197.00\n",
       "122    221.00\n",
       "123    439.25\n",
       "124    439.25\n",
       "Name: CO2Emisyon, dtype: float64"
      ]
     },
     "execution_count": 22,
     "metadata": {},
     "output_type": "execute_result"
    }
   ],
   "source": [
    "aykiri_alt = (df_table < alt_sinir) \n",
    "aykiri_ust= (df_table > ust_sinir)\n",
    "df_table[aykiri_alt] = alt_sinir\n",
    "df_table[aykiri_ust] = ust_sinir\n",
    "df_table[120:125]"
   ]
  },
  {
   "cell_type": "code",
   "execution_count": 23,
   "id": "a65b07a4",
   "metadata": {},
   "outputs": [
    {
     "data": {
      "text/html": [
       "<div>\n",
       "<style scoped>\n",
       "    .dataframe tbody tr th:only-of-type {\n",
       "        vertical-align: middle;\n",
       "    }\n",
       "\n",
       "    .dataframe tbody tr th {\n",
       "        vertical-align: top;\n",
       "    }\n",
       "\n",
       "    .dataframe thead th {\n",
       "        text-align: right;\n",
       "    }\n",
       "</style>\n",
       "<table border=\"1\" class=\"dataframe\">\n",
       "  <thead>\n",
       "    <tr style=\"text-align: right;\">\n",
       "      <th></th>\n",
       "      <th>Yil</th>\n",
       "      <th>Uretici</th>\n",
       "      <th>Model</th>\n",
       "      <th>Sinif</th>\n",
       "      <th>MotorHacim</th>\n",
       "      <th>Silindir</th>\n",
       "      <th>YakitTuketimi</th>\n",
       "      <th>NewCO2Emisyon</th>\n",
       "    </tr>\n",
       "  </thead>\n",
       "  <tbody>\n",
       "    <tr>\n",
       "      <th>120</th>\n",
       "      <td>2021</td>\n",
       "      <td>BMW</td>\n",
       "      <td>X7 M50i</td>\n",
       "      <td>SUV: Standard</td>\n",
       "      <td>4.4</td>\n",
       "      <td>8</td>\n",
       "      <td>13.8</td>\n",
       "      <td>321.00</td>\n",
       "    </tr>\n",
       "    <tr>\n",
       "      <th>121</th>\n",
       "      <td>2021</td>\n",
       "      <td>BMW</td>\n",
       "      <td>Z4 sDrive30i</td>\n",
       "      <td>Two-seater</td>\n",
       "      <td>2.0</td>\n",
       "      <td>4</td>\n",
       "      <td>8.4</td>\n",
       "      <td>197.00</td>\n",
       "    </tr>\n",
       "    <tr>\n",
       "      <th>122</th>\n",
       "      <td>2021</td>\n",
       "      <td>BMW</td>\n",
       "      <td>Z4 M40i</td>\n",
       "      <td>Two-seater</td>\n",
       "      <td>3.0</td>\n",
       "      <td>6</td>\n",
       "      <td>9.5</td>\n",
       "      <td>221.00</td>\n",
       "    </tr>\n",
       "    <tr>\n",
       "      <th>123</th>\n",
       "      <td>2021</td>\n",
       "      <td>Bugatti</td>\n",
       "      <td>Chiron</td>\n",
       "      <td>Two-seater</td>\n",
       "      <td>8.0</td>\n",
       "      <td>16</td>\n",
       "      <td>22.2</td>\n",
       "      <td>439.25</td>\n",
       "    </tr>\n",
       "    <tr>\n",
       "      <th>124</th>\n",
       "      <td>2021</td>\n",
       "      <td>Bugatti</td>\n",
       "      <td>Chiron Pur Sport</td>\n",
       "      <td>Two-seater</td>\n",
       "      <td>8.0</td>\n",
       "      <td>16</td>\n",
       "      <td>26.1</td>\n",
       "      <td>439.25</td>\n",
       "    </tr>\n",
       "  </tbody>\n",
       "</table>\n",
       "</div>"
      ],
      "text/plain": [
       "      Yil  Uretici             Model          Sinif  MotorHacim  Silindir  \\\n",
       "120  2021      BMW           X7 M50i  SUV: Standard         4.4         8   \n",
       "121  2021      BMW      Z4 sDrive30i     Two-seater         2.0         4   \n",
       "122  2021      BMW           Z4 M40i     Two-seater         3.0         6   \n",
       "123  2021  Bugatti            Chiron     Two-seater         8.0        16   \n",
       "124  2021  Bugatti  Chiron Pur Sport     Two-seater         8.0        16   \n",
       "\n",
       "     YakitTuketimi  NewCO2Emisyon  \n",
       "120           13.8         321.00  \n",
       "121            8.4         197.00  \n",
       "122            9.5         221.00  \n",
       "123           22.2         439.25  \n",
       "124           26.1         439.25  "
      ]
     },
     "execution_count": 23,
     "metadata": {},
     "output_type": "execute_result"
    }
   ],
   "source": [
    "df=df.drop([\"CO2Emisyon\"], axis = 1)\n",
    "df[\"NewCO2Emisyon\"]=df_table\n",
    "df[120:125]"
   ]
  },
  {
   "cell_type": "markdown",
   "id": "068592a4",
   "metadata": {},
   "source": [
    "Baskılama yöntemini kullanma sebebim diğer yöntemlere göre (silme, ortalama alma) daha performanslı çalışıp veri kaybını en aza getirceğini düşünmemdir."
   ]
  },
  {
   "cell_type": "code",
   "execution_count": 24,
   "id": "72a8b4f9",
   "metadata": {},
   "outputs": [
    {
     "data": {
      "text/plain": [
       "Yil              0\n",
       "Uretici          0\n",
       "Model            0\n",
       "Sinif            0\n",
       "MotorHacim       0\n",
       "Silindir         0\n",
       "YakitTuketimi    0\n",
       "NewCO2Emisyon    0\n",
       "dtype: int64"
      ]
     },
     "execution_count": 24,
     "metadata": {},
     "output_type": "execute_result"
    }
   ],
   "source": [
    "df.isnull().sum()"
   ]
  },
  {
   "cell_type": "markdown",
   "id": "97c449c0",
   "metadata": {},
   "source": [
    "## 4. Kategorik Değişken Özetleri"
   ]
  },
  {
   "cell_type": "code",
   "execution_count": 25,
   "id": "ce955745",
   "metadata": {},
   "outputs": [
    {
     "data": {
      "text/html": [
       "<div>\n",
       "<style scoped>\n",
       "    .dataframe tbody tr th:only-of-type {\n",
       "        vertical-align: middle;\n",
       "    }\n",
       "\n",
       "    .dataframe tbody tr th {\n",
       "        vertical-align: top;\n",
       "    }\n",
       "\n",
       "    .dataframe thead th {\n",
       "        text-align: right;\n",
       "    }\n",
       "</style>\n",
       "<table border=\"1\" class=\"dataframe\">\n",
       "  <thead>\n",
       "    <tr style=\"text-align: right;\">\n",
       "      <th></th>\n",
       "      <th>Uretici</th>\n",
       "      <th>Sinif</th>\n",
       "    </tr>\n",
       "  </thead>\n",
       "  <tbody>\n",
       "    <tr>\n",
       "      <th>0</th>\n",
       "      <td>Acura</td>\n",
       "      <td>Compact</td>\n",
       "    </tr>\n",
       "    <tr>\n",
       "      <th>1</th>\n",
       "      <td>Acura</td>\n",
       "      <td>Two-seater</td>\n",
       "    </tr>\n",
       "    <tr>\n",
       "      <th>2</th>\n",
       "      <td>Acura</td>\n",
       "      <td>SUV: Small</td>\n",
       "    </tr>\n",
       "    <tr>\n",
       "      <th>3</th>\n",
       "      <td>Acura</td>\n",
       "      <td>SUV: Small</td>\n",
       "    </tr>\n",
       "    <tr>\n",
       "      <th>4</th>\n",
       "      <td>Acura</td>\n",
       "      <td>Compact</td>\n",
       "    </tr>\n",
       "  </tbody>\n",
       "</table>\n",
       "</div>"
      ],
      "text/plain": [
       "  Uretici       Sinif\n",
       "0   Acura     Compact\n",
       "1   Acura  Two-seater\n",
       "2   Acura  SUV: Small\n",
       "3   Acura  SUV: Small\n",
       "4   Acura     Compact"
      ]
     },
     "execution_count": 25,
     "metadata": {},
     "output_type": "execute_result"
    }
   ],
   "source": [
    "katdf = df.select_dtypes(include = [\"category\"])\n",
    "katdf.head()"
   ]
  },
  {
   "cell_type": "code",
   "execution_count": 26,
   "id": "c05ea094",
   "metadata": {},
   "outputs": [
    {
     "data": {
      "text/plain": [
       "Ford             87\n",
       "Chevrolet        84\n",
       "Mercedes-Benz    72\n",
       "Porsche          63\n",
       "GMC              61\n",
       "BMW              54\n",
       "Toyota           49\n",
       "Audi             43\n",
       "Jeep             36\n",
       "Mazda            29\n",
       "Hyundai          27\n",
       "Lexus            27\n",
       "Kia              25\n",
       "Honda            23\n",
       "Cadillac         22\n",
       "Dodge            22\n",
       "MINI             22\n",
       "Nissan           22\n",
       "Subaru           16\n",
       "Ram              16\n",
       "Volkswagen       16\n",
       "Volvo            13\n",
       "Maserati         11\n",
       "Rolls-Royce      10\n",
       "Lamborghini       9\n",
       "Buick             9\n",
       "Genesis           8\n",
       "Bentley           8\n",
       "Lincoln           7\n",
       "Acura             6\n",
       "Alfa Romeo        6\n",
       "Infiniti          6\n",
       "Chrysler          6\n",
       "Aston Martin      6\n",
       "Jaguar            6\n",
       "Mitsubishi        5\n",
       "Bugatti           2\n",
       "FIAT              1\n",
       "Name: Uretici, dtype: int64"
      ]
     },
     "execution_count": 26,
     "metadata": {},
     "output_type": "execute_result"
    }
   ],
   "source": [
    "df[\"Uretici\"].value_counts()"
   ]
  },
  {
   "cell_type": "code",
   "execution_count": 27,
   "id": "6449eb10",
   "metadata": {},
   "outputs": [
    {
     "data": {
      "image/png": "[encoded data removed]",
      "text/plain": [
       "<Figure size 432x288 with 1 Axes>"
      ]
     },
     "metadata": {
      "needs_background": "light"
     },
     "output_type": "display_data"
    }
   ],
   "source": [
    "df[\"Sinif\"].value_counts().plot.barh();"
   ]
  },
  {
   "cell_type": "code",
   "execution_count": 28,
   "id": "8a46c461",
   "metadata": {},
   "outputs": [
    {
     "data": {
      "text/plain": [
       "<AxesSubplot:xlabel='MotorHacim'>"
      ]
     },
     "execution_count": 28,
     "metadata": {},
     "output_type": "execute_result"
    },
    {
     "data": {
      "image/png": "[encoded data removed]",
      "text/plain": [
       "<Figure size 432x288 with 1 Axes>"
      ]
     },
     "metadata": {
      "needs_background": "light"
     },
     "output_type": "display_data"
    }
   ],
   "source": [
    "df[[\"NewCO2Emisyon\",\"MotorHacim\"]].groupby(\"MotorHacim\")[\"NewCO2Emisyon\"].mean().plot(kind=\"bar\")"
   ]
  },
  {
   "cell_type": "code",
   "execution_count": 29,
   "id": "417354cb",
   "metadata": {},
   "outputs": [
    {
     "data": {
      "text/plain": [
       "<AxesSubplot:xlabel='Silindir'>"
      ]
     },
     "execution_count": 29,
     "metadata": {},
     "output_type": "execute_result"
    },
    {
     "data": {
      "image/png": "[encoded data removed]",
      "text/plain": [
       "<Figure size 432x288 with 1 Axes>"
      ]
     },
     "metadata": {
      "needs_background": "light"
     },
     "output_type": "display_data"
    }
   ],
   "source": [
    "df[[\"NewCO2Emisyon\",\"Silindir\"]].groupby(\"Silindir\")[\"NewCO2Emisyon\"].mean().plot(kind=\"bar\")"
   ]
  },
  {
   "cell_type": "code",
   "execution_count": 30,
   "id": "77376c27",
   "metadata": {},
   "outputs": [
    {
     "data": {
      "text/plain": [
       "<AxesSubplot:xlabel='YakitTuketimi'>"
      ]
     },
     "execution_count": 30,
     "metadata": {},
     "output_type": "execute_result"
    },
    {
     "data": {
      "image/png": "[encoded data removed]",
      "text/plain": [
       "<Figure size 432x288 with 1 Axes>"
      ]
     },
     "metadata": {
      "needs_background": "light"
     },
     "output_type": "display_data"
    }
   ],
   "source": [
    "df[[\"NewCO2Emisyon\",\"YakitTuketimi\"]].groupby(\"YakitTuketimi\")[\"NewCO2Emisyon\"].mean().plot(kind=\"bar\")"
   ]
  },
  {
   "cell_type": "markdown",
   "id": "54eaf0ee",
   "metadata": {},
   "source": [
    "# Makine Öğrenmesi"
   ]
  },
  {
   "cell_type": "markdown",
   "id": "13b0c445",
   "metadata": {},
   "source": [
    "## 1. Doğrusal Regresyon"
   ]
  },
  {
   "cell_type": "code",
   "execution_count": 31,
   "id": "22889e21",
   "metadata": {},
   "outputs": [
    {
     "data": {
      "text/plain": [
       "<seaborn.axisgrid.PairGrid at 0x1c8ec735700>"
      ]
     },
     "execution_count": 31,
     "metadata": {},
     "output_type": "execute_result"
    },
    {
     "data": {
      "image/png": "[encoded data removed]",
      "text/plain": [
       "<Figure size 900x900 with 30 Axes>"
      ]
     },
     "metadata": {
      "needs_background": "light"
     },
     "output_type": "display_data"
    }
   ],
   "source": [
    "sns.pairplot(df, kind  =\"reg\")"
   ]
  },
  {
   "cell_type": "code",
   "execution_count": 32,
   "id": "4c4c71ce",
   "metadata": {},
   "outputs": [
    {
     "data": {
      "text/plain": [
       "<seaborn.axisgrid.JointGrid at 0x1c8f394eaf0>"
      ]
     },
     "execution_count": 32,
     "metadata": {},
     "output_type": "execute_result"
    },
    {
     "data": {
      "image/png": "[encoded data removed]",
      "text/plain": [
       "<Figure size 432x432 with 3 Axes>"
      ]
     },
     "metadata": {
      "needs_background": "light"
     },
     "output_type": "display_data"
    }
   ],
   "source": [
    "sns.jointplot(x = \"MotorHacim\", y = \"NewCO2Emisyon\", data = df, kind = \"reg\")"
   ]
  },
  {
   "cell_type": "code",
   "execution_count": 33,
   "id": "bcfd21f3",
   "metadata": {},
   "outputs": [
    {
     "name": "stdout",
     "output_type": "stream",
     "text": [
      "138.81631515502562\n",
      "[37.04098451]\n"
     ]
    }
   ],
   "source": [
    "X = df[[\"MotorHacim\"]]\n",
    "y = df[\"NewCO2Emisyon\"]\n",
    "reg = LinearRegression()\n",
    "model = reg.fit(X, y)\n",
    "print(model.intercept_)\n",
    "print(model.coef_)"
   ]
  },
  {
   "cell_type": "code",
   "execution_count": 34,
   "id": "d9b60259",
   "metadata": {},
   "outputs": [
    {
     "data": {
      "text/plain": [
       "0.6854241337647258"
      ]
     },
     "execution_count": 34,
     "metadata": {},
     "output_type": "execute_result"
    }
   ],
   "source": [
    "model.score(X,y)"
   ]
  },
  {
   "cell_type": "code",
   "execution_count": 35,
   "id": "0a2b7a6f",
   "metadata": {},
   "outputs": [
    {
     "data": {
      "text/plain": [
       "array([227.71467797, 268.45976093, 212.89828417, 212.89828417,\n",
       "       212.89828417, 212.89828417, 212.89828417, 212.89828417,\n",
       "       246.23517023, 212.89828417])"
      ]
     },
     "execution_count": 35,
     "metadata": {},
     "output_type": "execute_result"
    }
   ],
   "source": [
    "model.predict(X)[0:10]"
   ]
  },
  {
   "cell_type": "code",
   "execution_count": 36,
   "id": "15d8bbca",
   "metadata": {},
   "outputs": [
    {
     "data": {
      "text/plain": [
       "0    199.0\n",
       "1    256.0\n",
       "2    232.0\n",
       "3    242.0\n",
       "4    230.0\n",
       "5    231.0\n",
       "6    205.0\n",
       "7    217.0\n",
       "8    271.0\n",
       "9    218.0\n",
       "Name: NewCO2Emisyon, dtype: float64"
      ]
     },
     "execution_count": 36,
     "metadata": {},
     "output_type": "execute_result"
    }
   ],
   "source": [
    "y[0:10]"
   ]
  },
  {
   "cell_type": "code",
   "execution_count": 37,
   "id": "a1521cb7",
   "metadata": {},
   "outputs": [
    {
     "data": {
      "text/html": [
       "<div>\n",
       "<style scoped>\n",
       "    .dataframe tbody tr th:only-of-type {\n",
       "        vertical-align: middle;\n",
       "    }\n",
       "\n",
       "    .dataframe tbody tr th {\n",
       "        vertical-align: top;\n",
       "    }\n",
       "\n",
       "    .dataframe thead th {\n",
       "        text-align: right;\n",
       "    }\n",
       "</style>\n",
       "<table border=\"1\" class=\"dataframe\">\n",
       "  <thead>\n",
       "    <tr style=\"text-align: right;\">\n",
       "      <th></th>\n",
       "      <th>MotorHacim</th>\n",
       "    </tr>\n",
       "  </thead>\n",
       "  <tbody>\n",
       "    <tr>\n",
       "      <th>0</th>\n",
       "      <td>2.4</td>\n",
       "    </tr>\n",
       "    <tr>\n",
       "      <th>1</th>\n",
       "      <td>3.5</td>\n",
       "    </tr>\n",
       "    <tr>\n",
       "      <th>2</th>\n",
       "      <td>2.0</td>\n",
       "    </tr>\n",
       "    <tr>\n",
       "      <th>3</th>\n",
       "      <td>2.0</td>\n",
       "    </tr>\n",
       "    <tr>\n",
       "      <th>4</th>\n",
       "      <td>2.0</td>\n",
       "    </tr>\n",
       "    <tr>\n",
       "      <th>5</th>\n",
       "      <td>2.0</td>\n",
       "    </tr>\n",
       "    <tr>\n",
       "      <th>6</th>\n",
       "      <td>2.0</td>\n",
       "    </tr>\n",
       "    <tr>\n",
       "      <th>7</th>\n",
       "      <td>2.0</td>\n",
       "    </tr>\n",
       "    <tr>\n",
       "      <th>8</th>\n",
       "      <td>2.9</td>\n",
       "    </tr>\n",
       "    <tr>\n",
       "      <th>9</th>\n",
       "      <td>2.0</td>\n",
       "    </tr>\n",
       "  </tbody>\n",
       "</table>\n",
       "</div>"
      ],
      "text/plain": [
       "   MotorHacim\n",
       "0         2.4\n",
       "1         3.5\n",
       "2         2.0\n",
       "3         2.0\n",
       "4         2.0\n",
       "5         2.0\n",
       "6         2.0\n",
       "7         2.0\n",
       "8         2.9\n",
       "9         2.0"
      ]
     },
     "execution_count": 37,
     "metadata": {},
     "output_type": "execute_result"
    }
   ],
   "source": [
    "X[0:10]"
   ]
  },
  {
   "cell_type": "code",
   "execution_count": 38,
   "id": "929be9f5",
   "metadata": {},
   "outputs": [
    {
     "data": {
      "text/plain": [
       "212.89196902"
      ]
     },
     "execution_count": 38,
     "metadata": {},
     "output_type": "execute_result"
    }
   ],
   "source": [
    "(138.81)+(2*37.04098451)"
   ]
  },
  {
   "cell_type": "code",
   "execution_count": 39,
   "id": "0b85542f",
   "metadata": {},
   "outputs": [
    {
     "data": {
      "text/plain": [
       "array([212.89828417])"
      ]
     },
     "execution_count": 39,
     "metadata": {},
     "output_type": "execute_result"
    }
   ],
   "source": [
    "model.predict([[2]])"
   ]
  },
  {
   "cell_type": "code",
   "execution_count": 40,
   "id": "28e5c2b9",
   "metadata": {},
   "outputs": [
    {
     "data": {
      "text/plain": [
       "array([205.49008727, 212.89828417, 227.71467797])"
      ]
     },
     "execution_count": 40,
     "metadata": {},
     "output_type": "execute_result"
    }
   ],
   "source": [
    "yeni_veri = [[1.8],[2],[2.4]]\n",
    "model.predict(yeni_veri)"
   ]
  },
  {
   "cell_type": "code",
   "execution_count": 41,
   "id": "31af504d",
   "metadata": {},
   "outputs": [
    {
     "data": {
      "text/plain": [
       "1212.7364725198129"
      ]
     },
     "execution_count": 41,
     "metadata": {},
     "output_type": "execute_result"
    }
   ],
   "source": [
    "from sklearn.metrics import mean_squared_error, r2_score\n",
    "import statsmodels.formula.api as smf\n",
    "\n",
    "lm = smf.ols(\"NewCO2Emisyon ~ MotorHacim\", df)\n",
    "model = lm.fit()\n",
    "model.summary()\n",
    "mse = mean_squared_error(y, model.fittedvalues)\n",
    "#gerçek değerler ile tahmin edilen değerler arasındaki farkların karelerinin ortalaması\n",
    "mse"
   ]
  },
  {
   "cell_type": "code",
   "execution_count": 42,
   "id": "1d2dfae0",
   "metadata": {},
   "outputs": [
    {
     "data": {
      "text/plain": [
       "34.82436607491675"
      ]
     },
     "execution_count": 42,
     "metadata": {},
     "output_type": "execute_result"
    }
   ],
   "source": [
    "rmse = np.sqrt(mse)\n",
    "rmse"
   ]
  },
  {
   "cell_type": "code",
   "execution_count": 43,
   "id": "dbc42264",
   "metadata": {},
   "outputs": [
    {
     "data": {
      "text/plain": [
       "[<matplotlib.lines.Line2D at 0x1c8f459de20>]"
      ]
     },
     "execution_count": 43,
     "metadata": {},
     "output_type": "execute_result"
    },
    {
     "data": {
      "image/png": "[encoded data removed]",
      "text/plain": [
       "<Figure size 432x288 with 1 Axes>"
      ]
     },
     "metadata": {
      "needs_background": "light"
     },
     "output_type": "display_data"
    }
   ],
   "source": [
    "plt.plot(model.resid[:1000])"
   ]
  },
  {
   "cell_type": "markdown",
   "id": "5bbe4c58",
   "metadata": {},
   "source": [
    "## 1.2. Çoklu Doğrusal Regresyon"
   ]
  },
  {
   "cell_type": "code",
   "execution_count": 44,
   "id": "91396c61",
   "metadata": {},
   "outputs": [
    {
     "name": "stdout",
     "output_type": "stream",
     "text": [
      "<class 'pandas.core.frame.DataFrame'>\n",
      "RangeIndex: 935 entries, 0 to 934\n",
      "Data columns (total 8 columns):\n",
      " #   Column         Non-Null Count  Dtype   \n",
      "---  ------         --------------  -----   \n",
      " 0   Yil            935 non-null    int64   \n",
      " 1   Uretici        935 non-null    category\n",
      " 2   Model          935 non-null    object  \n",
      " 3   Sinif          935 non-null    category\n",
      " 4   MotorHacim     935 non-null    float64 \n",
      " 5   Silindir       935 non-null    int64   \n",
      " 6   YakitTuketimi  935 non-null    float64 \n",
      " 7   NewCO2Emisyon  935 non-null    float64 \n",
      "dtypes: category(2), float64(3), int64(2), object(1)\n",
      "memory usage: 47.8+ KB\n"
     ]
    }
   ],
   "source": [
    "df.info()"
   ]
  },
  {
   "cell_type": "code",
   "execution_count": 45,
   "id": "c3c7df4c",
   "metadata": {},
   "outputs": [
    {
     "name": "stdout",
     "output_type": "stream",
     "text": [
      "(748, 3)\n",
      "(748,)\n",
      "(187, 3)\n",
      "(187,)\n"
     ]
    },
    {
     "data": {
      "text/plain": [
       "(935, 8)"
      ]
     },
     "execution_count": 45,
     "metadata": {},
     "output_type": "execute_result"
    }
   ],
   "source": [
    "from sklearn.model_selection import train_test_split, cross_val_score, cross_val_predict\n",
    "X = df.drop(df.columns[[0,1,2,3,7]], axis = 1)\n",
    "y = df[\"NewCO2Emisyon\"]\n",
    "#randomstate her üretme işleminde farklı değerler çıkmasını istemedigimizden rastgele bir değer veriyoruz\n",
    "X_train, X_test, y_train, y_test = train_test_split(X, y, test_size = 0.20, random_state= 42)\n",
    "print(X_train.shape)\n",
    "print(y_train.shape)\n",
    "print(X_test.shape)\n",
    "print(y_test.shape)\n",
    "\n",
    "training = df.copy()\n",
    "training.shape"
   ]
  },
  {
   "cell_type": "code",
   "execution_count": 46,
   "id": "be57b3bc",
   "metadata": {},
   "outputs": [
    {
     "name": "stdout",
     "output_type": "stream",
     "text": [
      "34.888662650912465\n",
      "[ 5.00400369  0.71933983 18.35837014]\n"
     ]
    }
   ],
   "source": [
    "from sklearn.linear_model import LinearRegression\n",
    "lm = LinearRegression()\n",
    "model = lm.fit(X_train, y_train)\n",
    "#sabit katsayı\n",
    "print(model.intercept_)\n",
    "#bağımsız deşişken katsayıları \n",
    "print(model.coef_)"
   ]
  },
  {
   "cell_type": "code",
   "execution_count": 47,
   "id": "083381c2",
   "metadata": {},
   "outputs": [
    {
     "data": {
      "text/plain": [
       "array([304.79121131])"
      ]
     },
     "execution_count": 47,
     "metadata": {},
     "output_type": "execute_result"
    }
   ],
   "source": [
    "yeni_veri = [[2],[4],[14]]\n",
    "yeni_veri = pd.DataFrame(yeni_veri).T\n",
    "model.predict(yeni_veri)"
   ]
  },
  {
   "cell_type": "code",
   "execution_count": 48,
   "id": "94813a18",
   "metadata": {},
   "outputs": [
    {
     "data": {
      "text/plain": [
       "16.00924186821895"
      ]
     },
     "execution_count": 48,
     "metadata": {},
     "output_type": "execute_result"
    }
   ],
   "source": [
    "from sklearn.metrics import mean_squared_error\n",
    "#eğitim hatası\n",
    "rmse = np.sqrt(mean_squared_error(y_train, model.predict(X_train)))\n",
    "rmse"
   ]
  },
  {
   "cell_type": "code",
   "execution_count": 49,
   "id": "65424e47",
   "metadata": {},
   "outputs": [
    {
     "data": {
      "text/plain": [
       "15.439147298599496"
      ]
     },
     "execution_count": 49,
     "metadata": {},
     "output_type": "execute_result"
    }
   ],
   "source": [
    "#test hatası\n",
    "rmse = np.sqrt(mean_squared_error(y_test, model.predict(X_test)))\n",
    "rmse"
   ]
  },
  {
   "cell_type": "markdown",
   "id": "893dbcf6",
   "metadata": {},
   "source": [
    "Model Tuning / Model Doğrulama"
   ]
  },
  {
   "cell_type": "code",
   "execution_count": 50,
   "id": "48e3b882",
   "metadata": {},
   "outputs": [
    {
     "data": {
      "text/html": [
       "<div>\n",
       "<style scoped>\n",
       "    .dataframe tbody tr th:only-of-type {\n",
       "        vertical-align: middle;\n",
       "    }\n",
       "\n",
       "    .dataframe tbody tr th {\n",
       "        vertical-align: top;\n",
       "    }\n",
       "\n",
       "    .dataframe thead th {\n",
       "        text-align: right;\n",
       "    }\n",
       "</style>\n",
       "<table border=\"1\" class=\"dataframe\">\n",
       "  <thead>\n",
       "    <tr style=\"text-align: right;\">\n",
       "      <th></th>\n",
       "      <th>Yil</th>\n",
       "      <th>Uretici</th>\n",
       "      <th>Model</th>\n",
       "      <th>Sinif</th>\n",
       "      <th>MotorHacim</th>\n",
       "      <th>Silindir</th>\n",
       "      <th>YakitTuketimi</th>\n",
       "      <th>NewCO2Emisyon</th>\n",
       "    </tr>\n",
       "  </thead>\n",
       "  <tbody>\n",
       "    <tr>\n",
       "      <th>0</th>\n",
       "      <td>2021</td>\n",
       "      <td>Acura</td>\n",
       "      <td>ILX</td>\n",
       "      <td>Compact</td>\n",
       "      <td>2.4</td>\n",
       "      <td>4</td>\n",
       "      <td>8.6</td>\n",
       "      <td>199.0</td>\n",
       "    </tr>\n",
       "    <tr>\n",
       "      <th>1</th>\n",
       "      <td>2021</td>\n",
       "      <td>Acura</td>\n",
       "      <td>NSX</td>\n",
       "      <td>Two-seater</td>\n",
       "      <td>3.5</td>\n",
       "      <td>6</td>\n",
       "      <td>11.0</td>\n",
       "      <td>256.0</td>\n",
       "    </tr>\n",
       "    <tr>\n",
       "      <th>2</th>\n",
       "      <td>2021</td>\n",
       "      <td>Acura</td>\n",
       "      <td>RDX SH-AWD</td>\n",
       "      <td>SUV: Small</td>\n",
       "      <td>2.0</td>\n",
       "      <td>4</td>\n",
       "      <td>9.9</td>\n",
       "      <td>232.0</td>\n",
       "    </tr>\n",
       "    <tr>\n",
       "      <th>3</th>\n",
       "      <td>2021</td>\n",
       "      <td>Acura</td>\n",
       "      <td>RDX SH-AWD A-SPEC</td>\n",
       "      <td>SUV: Small</td>\n",
       "      <td>2.0</td>\n",
       "      <td>4</td>\n",
       "      <td>10.3</td>\n",
       "      <td>242.0</td>\n",
       "    </tr>\n",
       "    <tr>\n",
       "      <th>4</th>\n",
       "      <td>2021</td>\n",
       "      <td>Acura</td>\n",
       "      <td>TLX SH-AWD</td>\n",
       "      <td>Compact</td>\n",
       "      <td>2.0</td>\n",
       "      <td>4</td>\n",
       "      <td>9.8</td>\n",
       "      <td>230.0</td>\n",
       "    </tr>\n",
       "  </tbody>\n",
       "</table>\n",
       "</div>"
      ],
      "text/plain": [
       "    Yil Uretici              Model       Sinif  MotorHacim  Silindir  \\\n",
       "0  2021   Acura                ILX     Compact         2.4         4   \n",
       "1  2021   Acura                NSX  Two-seater         3.5         6   \n",
       "2  2021   Acura         RDX SH-AWD  SUV: Small         2.0         4   \n",
       "3  2021   Acura  RDX SH-AWD A-SPEC  SUV: Small         2.0         4   \n",
       "4  2021   Acura         TLX SH-AWD     Compact         2.0         4   \n",
       "\n",
       "   YakitTuketimi  NewCO2Emisyon  \n",
       "0            8.6          199.0  \n",
       "1           11.0          256.0  \n",
       "2            9.9          232.0  \n",
       "3           10.3          242.0  \n",
       "4            9.8          230.0  "
      ]
     },
     "execution_count": 50,
     "metadata": {},
     "output_type": "execute_result"
    }
   ],
   "source": [
    "df.head()"
   ]
  },
  {
   "cell_type": "code",
   "execution_count": 51,
   "id": "627c3593",
   "metadata": {},
   "outputs": [
    {
     "name": "stdout",
     "output_type": "stream",
     "text": [
      "(748, 3)\n",
      "(748,)\n",
      "(187, 3)\n",
      "(187,)\n"
     ]
    },
    {
     "data": {
      "text/plain": [
       "(935, 8)"
      ]
     },
     "execution_count": 51,
     "metadata": {},
     "output_type": "execute_result"
    }
   ],
   "source": [
    "from sklearn.model_selection import train_test_split, cross_val_score, cross_val_predict\n",
    "X = df.drop(df.columns[[0,1,2,3,7]], axis = 1)\n",
    "y = df[\"NewCO2Emisyon\"]\n",
    "#randomstate her üretme işleminde farklı değerler çıkmasını istemedigimizden rastgele bir değer veriyoruz\n",
    "X_train, X_test, y_train, y_test = train_test_split(X, y, test_size = 0.20, random_state= 42)\n",
    "print(X_train.shape)\n",
    "print(y_train.shape)\n",
    "print(X_test.shape)\n",
    "print(y_test.shape)\n",
    "\n",
    "training = df.copy()\n",
    "training.shape"
   ]
  },
  {
   "cell_type": "code",
   "execution_count": 52,
   "id": "6fd9c0b8",
   "metadata": {},
   "outputs": [
    {
     "name": "stdout",
     "output_type": "stream",
     "text": [
      "16.00924186821895\n",
      "15.439147298599496\n"
     ]
    },
    {
     "data": {
      "text/plain": [
       "0.9333876124699255"
      ]
     },
     "execution_count": 52,
     "metadata": {},
     "output_type": "execute_result"
    }
   ],
   "source": [
    "rmseTrain=np.sqrt(mean_squared_error(y_train, model.predict(X_train)))\n",
    "print(rmseTrain)\n",
    "rmseTest=np.sqrt(mean_squared_error(y_test, model.predict(X_test)))\n",
    "print(rmseTest)\n",
    "model.score(X_train, y_train)"
   ]
  },
  {
   "cell_type": "code",
   "execution_count": 53,
   "id": "10cfe838",
   "metadata": {},
   "outputs": [
    {
     "data": {
      "text/plain": [
       "0.9297602332528869"
      ]
     },
     "execution_count": 53,
     "metadata": {},
     "output_type": "execute_result"
    }
   ],
   "source": [
    "#eğitim verileri için çapraz doğrulama ile elde edilmiş ortalama r2 skoru\n",
    "cross_val_score(model, X_train, y_train, cv = 10, scoring = \"r2\").mean()"
   ]
  },
  {
   "cell_type": "code",
   "execution_count": 54,
   "id": "5ab6c3b8",
   "metadata": {},
   "outputs": [
    {
     "name": "stdout",
     "output_type": "stream",
     "text": [
      "16.004734282779587\n",
      "13.711255458211218\n"
     ]
    }
   ],
   "source": [
    "#neg_mean_squared_error'da sonuc negatif olacağı için üstte (-) ile çarpıyoruz \n",
    "rmseTrain=np.sqrt(-cross_val_score(model, \n",
    "                X_train, \n",
    "                y_train, \n",
    "                cv = 10, \n",
    "                scoring = \"neg_mean_squared_error\")).mean()\n",
    "print(rmseTrain)\n",
    "rmseTest=np.sqrt(-cross_val_score(model, \n",
    "                X_test, \n",
    "                y_test, \n",
    "                cv = 10, \n",
    "                scoring = \"neg_mean_squared_error\")).mean()\n",
    "print(rmseTest)"
   ]
  },
  {
   "cell_type": "markdown",
   "id": "aeb595fb",
   "metadata": {},
   "source": [
    "## 2. Doğrusal Olmayan Regresyon"
   ]
  },
  {
   "cell_type": "markdown",
   "id": "f99e6f24",
   "metadata": {},
   "source": [
    "### 2.1. K En Yakın Komşu (KNN)"
   ]
  },
  {
   "cell_type": "code",
   "execution_count": 55,
   "id": "650a812e",
   "metadata": {},
   "outputs": [],
   "source": [
    "from sklearn.model_selection import train_test_split, cross_val_score, cross_val_predict\n",
    "X = df.drop(df.columns[[0,1,2,3,7]], axis = 1)\n",
    "y = df[\"NewCO2Emisyon\"]\n",
    "X_train, X_test, y_train, y_test = train_test_split(X, y, test_size=0.25, random_state=42)\n",
    "training = df.copy()"
   ]
  },
  {
   "cell_type": "code",
   "execution_count": 56,
   "id": "126529b3",
   "metadata": {},
   "outputs": [],
   "source": [
    "knn_model = KNeighborsRegressor().fit(X_train, y_train)"
   ]
  },
  {
   "cell_type": "code",
   "execution_count": 57,
   "id": "c6c826d6",
   "metadata": {},
   "outputs": [
    {
     "name": "stdout",
     "output_type": "stream",
     "text": [
      "test hatası: 11.540630565361402\n",
      "k = 1 için RMSE değeri:  4.119990582098012\n",
      "k = 2 için RMSE değeri:  6.4752508777729885\n",
      "k = 3 için RMSE değeri:  7.138967138110195\n",
      "k = 4 için RMSE değeri:  8.253411965205887\n",
      "k = 5 için RMSE değeri:  9.006110225730243\n",
      "k = 6 için RMSE değeri:  9.59849299216895\n",
      "k = 7 için RMSE değeri:  9.770424747359053\n",
      "k = 8 için RMSE değeri:  10.112139960290198\n",
      "k = 9 için RMSE değeri:  10.617915564821951\n",
      "k = 10 için RMSE değeri:  10.933928548754674\n"
     ]
    }
   ],
   "source": [
    "y_pred = knn_model.predict(X_test)\n",
    "print(\"test hatası:\" , np.sqrt(mean_squared_error(y_test, y_pred)))\n",
    "RMSE = [] \n",
    "#cross validation yapmadan hatalara bir bakalim\n",
    "for k in range(10):\n",
    "    k = k+1\n",
    "    knn_model = KNeighborsRegressor(n_neighbors = k).fit(X_train, y_train)\n",
    "    y_pred = knn_model.predict(X_train) \n",
    "    rmse = np.sqrt(mean_squared_error(y_train,y_pred)) \n",
    "    RMSE.append(rmse) \n",
    "    print(\"k =\" , k , \"için RMSE değeri: \", rmse)"
   ]
  },
  {
   "cell_type": "code",
   "execution_count": 58,
   "id": "31bd804c",
   "metadata": {},
   "outputs": [
    {
     "data": {
      "text/plain": [
       "GridSearchCV(cv=10, estimator=KNeighborsRegressor(),\n",
       "             param_grid={'n_neighbors': array([ 1,  2,  3,  4,  5,  6,  7,  8,  9, 10, 11, 12, 13, 14, 15, 16, 17,\n",
       "       18, 19, 20, 21, 22, 23, 24, 25, 26, 27, 28, 29])})"
      ]
     },
     "execution_count": 58,
     "metadata": {},
     "output_type": "execute_result"
    }
   ],
   "source": [
    "#GridSearchCV ile optimum k sayisinin belirlenmesi\n",
    "knn_params = {'n_neighbors': np.arange(1,30,1)}\n",
    "knn = KNeighborsRegressor()\n",
    "knn_cv_model = GridSearchCV(knn, knn_params, cv = 10)\n",
    "knn_cv_model.fit(X_train, y_train)"
   ]
  },
  {
   "cell_type": "code",
   "execution_count": 59,
   "id": "0582e1e7",
   "metadata": {},
   "outputs": [
    {
     "data": {
      "text/plain": [
       "2"
      ]
     },
     "execution_count": 59,
     "metadata": {},
     "output_type": "execute_result"
    }
   ],
   "source": [
    "knn_cv_model.best_params_[\"n_neighbors\"]"
   ]
  },
  {
   "cell_type": "code",
   "execution_count": 60,
   "id": "38412634",
   "metadata": {},
   "outputs": [
    {
     "name": "stdout",
     "output_type": "stream",
     "text": [
      "k = 1 için RMSE değeri:  4.119990582098012 RMSE_CV değeri:  11.953831320940454\n",
      "k = 2 için RMSE değeri:  6.4752508777729885 RMSE_CV değeri:  10.594642630348073\n",
      "k = 3 için RMSE değeri:  7.138967138110195 RMSE_CV değeri:  11.06919494661434\n",
      "k = 4 için RMSE değeri:  8.253411965205887 RMSE_CV değeri:  11.605400553629595\n",
      "k = 5 için RMSE değeri:  9.006110225730243 RMSE_CV değeri:  11.565269301842687\n",
      "k = 6 için RMSE değeri:  9.59849299216895 RMSE_CV değeri:  11.494180746582137\n",
      "k = 7 için RMSE değeri:  9.770424747359053 RMSE_CV değeri:  12.000564549693228\n",
      "k = 8 için RMSE değeri:  10.112139960290198 RMSE_CV değeri:  12.167158834773264\n",
      "k = 9 için RMSE değeri:  10.617915564821951 RMSE_CV değeri:  12.163186373966388\n",
      "k = 10 için RMSE değeri:  10.933928548754674 RMSE_CV değeri:  12.272732440017814\n"
     ]
    }
   ],
   "source": [
    "RMSE = [] \n",
    "RMSE_CV = []\n",
    "for k in range(10):\n",
    "    k = k+1\n",
    "    knn_model = KNeighborsRegressor(n_neighbors = k).fit(X_train, y_train)\n",
    "    y_pred = knn_model.predict(X_train) \n",
    "    rmse = np.sqrt(mean_squared_error(y_train,y_pred)) \n",
    "    rmse_cv = np.sqrt(-1*cross_val_score(knn_model, X_train, y_train, cv=10, \n",
    "                                         scoring = \"neg_mean_squared_error\").mean())\n",
    "    #cross validation olmadan hatalar\n",
    "    RMSE.append(rmse) \n",
    "    #cross validation kullanilarak alindan hatalar\n",
    "    RMSE_CV.append(rmse_cv)\n",
    "    print(\"k =\" , k , \"için RMSE değeri: \", rmse, \"RMSE_CV değeri: \", rmse_cv )"
   ]
  },
  {
   "cell_type": "code",
   "execution_count": 61,
   "id": "ca19d4a9",
   "metadata": {},
   "outputs": [
    {
     "data": {
      "text/plain": [
       "10.586392204383571"
      ]
     },
     "execution_count": 61,
     "metadata": {},
     "output_type": "execute_result"
    }
   ],
   "source": [
    "#k=3 için train degil test setini denediğimizde\n",
    "knn_tuned = KNeighborsRegressor(n_neighbors =3)\n",
    "knn_tuned.fit(X_train, y_train)\n",
    "np.sqrt(mean_squared_error(y_test, knn_tuned.predict(X_test)))"
   ]
  },
  {
   "cell_type": "code",
   "execution_count": 62,
   "id": "15e91c2b",
   "metadata": {},
   "outputs": [
    {
     "data": {
      "text/plain": [
       "KNeighborsRegressor(n_neighbors=2)"
      ]
     },
     "execution_count": 62,
     "metadata": {},
     "output_type": "execute_result"
    }
   ],
   "source": [
    "knn_tuned = KNeighborsRegressor(n_neighbors = knn_cv_model.best_params_[\"n_neighbors\"])\n",
    "knn_tuned.fit(X_train, y_train)"
   ]
  },
  {
   "cell_type": "code",
   "execution_count": 63,
   "id": "3fc49a6f",
   "metadata": {},
   "outputs": [
    {
     "data": {
      "text/plain": [
       "11.300385743359293"
      ]
     },
     "execution_count": 63,
     "metadata": {},
     "output_type": "execute_result"
    }
   ],
   "source": [
    "np.sqrt(mean_squared_error(y_test, knn_tuned.predict(X_test)))"
   ]
  },
  {
   "cell_type": "markdown",
   "id": "9d5fcb1e",
   "metadata": {},
   "source": [
    "### 2.3. Bagged Trees Regresyon"
   ]
  },
  {
   "cell_type": "code",
   "execution_count": 64,
   "id": "ec9306dd",
   "metadata": {},
   "outputs": [],
   "source": [
    "X = df.drop(df.columns[[0,1,2,3,7]], axis = 1)\n",
    "y = df[\"NewCO2Emisyon\"]\n",
    "X_train, X_test, y_train, y_test = train_test_split(X, y, test_size=0.25, random_state=42)\n",
    "training = df.copy()"
   ]
  },
  {
   "cell_type": "code",
   "execution_count": 65,
   "id": "fa667e4b",
   "metadata": {},
   "outputs": [
    {
     "data": {
      "text/plain": [
       "BaggingRegressor(bootstrap_features=True)"
      ]
     },
     "execution_count": 65,
     "metadata": {},
     "output_type": "execute_result"
    }
   ],
   "source": [
    "#bootstrap_features default degeri false, bootstrap orneklerini gozlemlemek icin true verdik\n",
    "bag_model = BaggingRegressor(bootstrap_features = True)\n",
    "bag_model.fit(X_train, y_train)"
   ]
  },
  {
   "cell_type": "code",
   "execution_count": 66,
   "id": "d133b24a",
   "metadata": {},
   "outputs": [
    {
     "data": {
      "text/plain": [
       "10"
      ]
     },
     "execution_count": 66,
     "metadata": {},
     "output_type": "execute_result"
    }
   ],
   "source": [
    "#tahminci sayisi\n",
    "bag_model.n_estimators"
   ]
  },
  {
   "cell_type": "code",
   "execution_count": 67,
   "id": "bdd265c3",
   "metadata": {},
   "outputs": [
    {
     "data": {
      "text/plain": [
       "[DecisionTreeRegressor(random_state=1641159228),\n",
       " DecisionTreeRegressor(random_state=1821724054),\n",
       " DecisionTreeRegressor(random_state=818595832),\n",
       " DecisionTreeRegressor(random_state=641351797),\n",
       " DecisionTreeRegressor(random_state=1774888500),\n",
       " DecisionTreeRegressor(random_state=1535094231),\n",
       " DecisionTreeRegressor(random_state=534219232),\n",
       " DecisionTreeRegressor(random_state=710270039),\n",
       " DecisionTreeRegressor(random_state=1281480716),\n",
       " DecisionTreeRegressor(random_state=1713616593)]"
      ]
     },
     "execution_count": 67,
     "metadata": {},
     "output_type": "execute_result"
    }
   ],
   "source": [
    "#10 adet agac\n",
    "bag_model.estimators_"
   ]
  },
  {
   "cell_type": "code",
   "execution_count": 68,
   "id": "66d4e6ca",
   "metadata": {},
   "outputs": [
    {
     "data": {
      "text/plain": [
       "[array([670, 572, 242, 521, 498, 625, 186, 670, 278,  63, 264,  96, 487,\n",
       "        205, 650, 372,  11, 690, 287, 156, 466, 573, 382, 256, 112, 336,\n",
       "        407, 435, 639, 578, 614, 156, 584,  36,  98, 652, 480, 149, 593,\n",
       "        577, 494, 153, 345, 626, 281, 103, 227, 350, 551, 635, 159, 167,\n",
       "        615, 513, 356, 136,   7, 599,  77, 345, 669, 414, 222, 619, 493,\n",
       "         39, 667, 698, 479, 534, 127, 160, 419, 670, 664, 473, 581,  91,\n",
       "         73, 191, 628, 486, 527, 109, 500, 485, 403, 505, 634, 516, 308,\n",
       "         76, 329, 579, 658, 669,  13,  11, 664, 144, 578, 644, 693, 458,\n",
       "        380,   2, 486, 683, 693, 612, 369, 548, 171, 517, 190, 695,  63,\n",
       "        665, 393, 541, 441, 511,  29, 121,  87, 160, 138, 127, 578,  17,\n",
       "        184, 351, 383,  73, 329, 135, 206, 559, 207, 514, 586,  38, 616,\n",
       "        580, 353, 532, 564, 584,  36, 381, 105, 367,  70, 444, 128, 198,\n",
       "        503, 429, 388, 525, 180, 125, 668, 426, 576, 275, 257, 338, 189,\n",
       "        530,  83, 260,  79, 673, 415, 214, 108, 141, 260, 401, 301, 431,\n",
       "         77,  79, 179, 286, 478, 649, 461, 468, 587, 433, 601, 190, 328,\n",
       "        112, 324, 670, 347, 551, 543, 256, 372, 163, 170, 603, 680, 601,\n",
       "        604, 301, 160, 106, 522, 671, 320,  53,  30, 268, 457, 474, 599,\n",
       "        455, 256, 328, 498, 106, 305, 273, 378, 391, 694, 275, 673, 138,\n",
       "        529, 430, 290, 511, 179, 384, 591, 339, 319, 495, 653, 183,  26,\n",
       "        326, 352, 423, 622, 379, 636, 574, 656, 501,  89, 356, 503, 220,\n",
       "        467, 648, 301, 420, 436, 258, 654, 383, 433, 486, 330, 256, 656,\n",
       "        554, 410,  69, 696,  32, 184, 214, 469, 339,  45, 333, 371, 376,\n",
       "        619,  24, 388,  91, 313, 283, 623, 275, 300, 466,  29, 282, 259,\n",
       "         61, 526, 292, 225, 368, 469,  17, 502, 551, 107, 648,  22, 427,\n",
       "        122, 100, 493, 464, 677, 516, 682, 351, 517, 600, 341, 384, 401,\n",
       "        461, 688, 598, 529, 486, 607, 282, 590,  92,  95, 646,   6, 363,\n",
       "         31, 201, 699, 444,  94, 684, 623, 684, 683, 586, 101, 619, 368,\n",
       "        304,  25, 255,   2, 388, 347, 565,  63, 416, 458, 202, 304, 692,\n",
       "        235, 700, 127, 413, 147, 339, 452, 445, 189, 616,  63,  40, 197,\n",
       "        430, 695,   3, 409, 305, 657, 691, 294,  68, 354, 290,  50, 614,\n",
       "        630,  47, 450, 247,  72, 193, 347, 126, 571, 569, 129, 400, 303,\n",
       "        525, 274, 655, 334, 240, 179, 120, 524, 625,   4, 244, 524, 271,\n",
       "        639, 418, 571, 692, 150, 195, 577,  76, 500, 560, 124, 323, 628,\n",
       "        142,  40, 232, 417, 690, 348,  61, 335, 443, 246, 281,  20, 310,\n",
       "        115, 434, 212, 178, 295, 156, 378, 447,   4, 608, 580, 458, 170,\n",
       "        357, 194, 450, 411, 474,  11, 335, 403, 370, 244, 102, 398, 572,\n",
       "        395, 121, 688, 126, 480, 230, 581, 485, 645, 408, 257, 520,  22,\n",
       "        570, 691, 131, 592, 416, 475, 277, 166, 575, 576, 284, 611, 653,\n",
       "        311,  76, 175, 595, 508, 409, 608, 377, 314, 683, 536, 561, 564,\n",
       "        445,  74,  65, 616, 309, 146, 665, 361, 372, 121, 438, 293,  41,\n",
       "         90, 428, 700, 482, 442, 402,  24,  97, 700, 220, 271, 423,  89,\n",
       "        603, 246, 128, 695,  36,  41, 653,  20, 474, 550, 645,  95, 102,\n",
       "        307, 179, 188, 612,  80, 183,  27, 673, 676,  63,  18, 491,  95,\n",
       "        152,  75, 390, 490, 303, 157, 571,   5, 548, 423,  76, 122, 355,\n",
       "        136, 401, 238,  49, 672, 308, 106, 698, 560, 457, 570, 173, 211,\n",
       "        570, 159, 342, 253,  50,  17, 460, 649,  72, 297, 161, 536, 316,\n",
       "        570, 499, 450, 636,   9, 486, 195,  63, 607, 668, 361, 698, 114,\n",
       "        530, 299, 417, 315, 194, 620, 657,  70, 145, 486,   3, 241, 623,\n",
       "        322, 211, 563, 151, 375, 687, 442, 111, 280, 527, 360, 518, 556,\n",
       "        628, 402, 413,  71, 188, 133, 419, 380,  30, 217, 340, 441, 218,\n",
       "        547, 342,  49, 386, 546,  58, 555, 216, 484, 605, 628, 623,  76,\n",
       "        202, 154, 304, 525, 347, 374, 405,  72, 405, 391, 436, 185, 609,\n",
       "        678,  21, 341, 602, 449, 657, 352, 291, 166, 515, 157, 194, 211,\n",
       "        181, 161,  30, 428, 577, 637, 568, 204, 270, 374, 386, 296]),\n",
       " array([569, 473, 254, 212, 513, 166,   3, 154, 341, 452, 594, 185,  94,\n",
       "        127, 675, 681, 529, 518, 515, 306, 323, 399,  84, 183, 229, 464,\n",
       "        271, 309, 515, 695, 168, 110, 444, 536, 478, 308, 155, 638, 460,\n",
       "        182, 462, 264, 653, 321, 645, 172, 371, 449, 605,  50, 144,  72,\n",
       "         87, 650, 206, 632, 258,  60, 262, 529, 504, 353, 496,  55, 377,\n",
       "        393, 554, 152, 561, 557,  37, 232, 642, 372, 324, 266, 326,  43,\n",
       "        562, 174, 322, 194, 247,  99,  88, 198,  27, 586, 426, 486, 481,\n",
       "        653, 406, 618, 443, 245,  14, 633, 372, 316, 591, 471, 676, 680,\n",
       "        291,  21, 649, 666, 203,  90, 645, 110, 512, 191, 603,  27, 270,\n",
       "        213,   8, 575, 443,  52, 326, 359, 445, 374, 669, 180, 647,  39,\n",
       "        224, 407, 461, 329, 115, 398, 582, 382, 633, 498, 310, 686,  44,\n",
       "        224, 327, 391, 330, 379, 271, 580,  33, 266, 195, 176, 228, 290,\n",
       "        189, 390, 299, 509,  41, 205, 131, 265, 316, 556, 592, 480,  39,\n",
       "        100, 393, 500,  78,  39, 270, 403, 491, 681, 372, 589, 238, 518,\n",
       "        469, 351, 677, 471, 463, 356,  31, 685, 227, 428, 599, 150, 350,\n",
       "        673, 381, 597, 308, 363, 214, 448, 531, 597, 509, 341, 161,   1,\n",
       "         86, 655, 494,  69, 155,  48, 165, 592, 686, 322,  20, 200, 683,\n",
       "        524, 445,  42, 599, 273, 117, 253, 513, 477, 140, 101, 319, 356,\n",
       "         97,  35, 533, 180, 261, 293, 321,  14,  69, 568, 285, 668, 569,\n",
       "        208, 380, 487, 119, 426, 453, 686, 456, 606, 538, 114, 104, 523,\n",
       "        242, 520, 526, 659, 577, 681, 254, 306, 305, 160, 460, 552, 481,\n",
       "        153, 687, 280,  25, 455, 665,  70, 693, 558,  54,  32, 298, 382,\n",
       "        376, 251, 307, 194,  76, 674, 149, 180, 688,  50,  12, 561, 267,\n",
       "        342, 130,  30, 261, 271, 662, 683, 626, 291,  56, 460, 122, 308,\n",
       "        676, 335, 423, 536, 699, 388, 392, 250, 130, 250, 237, 697,  61,\n",
       "        320, 693, 299, 524, 184, 654, 210, 362, 621, 427, 662, 671, 307,\n",
       "        536,  17, 105, 132, 370, 472, 428, 143, 556,  66, 670,  27, 520,\n",
       "        545, 138, 597, 623, 389, 432,  36, 647, 488,  65, 540, 657, 303,\n",
       "        512,  95, 672,  56, 448, 223, 217, 698, 379, 513, 186,  58, 595,\n",
       "        427, 125, 512, 516, 478, 214, 481, 587, 517, 640,  61, 202, 545,\n",
       "        160, 698, 647, 188,  53, 175, 154, 436, 575, 415,   0, 381, 240,\n",
       "        665, 427,  20, 376, 462,  54, 399, 439, 507, 361, 598, 599, 117,\n",
       "        522, 458,  32, 180, 472, 371, 265, 436, 587, 142, 396, 348, 662,\n",
       "        173, 591, 540, 185, 407, 262, 398, 539, 450, 449, 316, 214, 584,\n",
       "        142,   9,  47, 500, 503, 126, 412, 500, 427, 104, 444, 536, 198,\n",
       "        679, 112, 295, 662, 554, 490, 561,  28, 202,  86, 468, 541, 660,\n",
       "        126, 316, 543, 564, 125, 324, 647, 347, 381, 339, 378, 119, 399,\n",
       "        366,  84, 277, 302, 670, 293, 443, 496, 146, 496, 388, 292, 183,\n",
       "        575, 346,  81,  76, 649,  62, 624,  90, 414, 157, 182, 390, 571,\n",
       "        263,  97, 501, 165, 313, 186, 538, 440, 362, 519, 509, 420,  24,\n",
       "        221,  70,  57, 387, 268, 530, 263, 407, 471, 490, 360, 446, 271,\n",
       "         34, 190, 142,  10,  55, 398, 590, 628, 592, 377, 262, 248, 664,\n",
       "        558, 263, 242, 174, 605, 672,  91, 350,  45, 448, 382, 509, 258,\n",
       "        389, 377, 273, 349, 622, 442, 315, 459, 122, 152, 177, 667, 182,\n",
       "        195, 263, 493, 612, 324, 267, 626, 489, 253, 118, 510, 426, 663,\n",
       "        465,  99, 340, 303, 259, 330, 601, 586, 546, 168,  42,  39, 348,\n",
       "        263, 630, 566, 654,  41, 403, 332, 551, 620, 488, 308, 195, 217,\n",
       "        151, 320, 192, 625, 375, 662, 487, 510, 382, 348, 176, 285, 618,\n",
       "        167, 453,  32, 365, 505,  55,  91, 451,  47, 674,  89, 355, 192,\n",
       "        474, 435, 264, 583, 158, 226, 633, 648, 134, 198, 411, 515, 142,\n",
       "        518,  78, 117, 372, 228, 559,  59, 386, 686, 235,  42, 251,  31,\n",
       "        499, 687, 200, 150, 661, 655, 164, 564, 473, 246, 360, 122, 172,\n",
       "        166, 180, 630, 281, 307, 319, 325,  76, 231, 202, 312, 558, 554,\n",
       "        571, 239, 216, 511, 371,  15, 151, 489, 250, 167,  92, 268]),\n",
       " array([267, 568, 456, 697, 171,  26, 243, 156,  18, 383, 198, 606, 595,\n",
       "        374, 479, 295, 262,  15, 441, 682, 229, 224, 401, 493, 194, 624,\n",
       "        334, 357,  21, 416, 518, 267, 382,  53,  98, 630, 644, 492, 246,\n",
       "        527, 670,  37, 664, 447, 512, 528, 112, 599, 178, 378, 393, 423,\n",
       "        593, 151, 551, 517, 306, 658, 323, 468, 305, 382, 528, 202, 608,\n",
       "        203,  21, 145, 528, 438, 202,  52, 500, 410, 471,  13, 470, 498,\n",
       "        132, 653, 118, 114, 470,  80,  27, 493, 418, 192, 315, 651, 356,\n",
       "         51, 451, 472, 266, 545, 495, 256, 493, 474,  56, 613, 432,  59,\n",
       "        678, 149, 219, 163,  76, 148, 396, 224, 535, 236,   5, 603, 531,\n",
       "        423, 373, 358,  72, 342, 384, 577, 674, 455, 477, 413,  97, 615,\n",
       "        275,  15, 538, 546, 187, 171, 645, 456, 278, 561, 386,  59, 394,\n",
       "        389, 505, 325, 463, 456, 294, 581, 644, 221, 500,  69, 184, 130,\n",
       "        392, 298, 302, 404, 332, 481, 497, 123, 527, 136, 283, 602, 471,\n",
       "        605, 318, 302, 644, 139, 298, 372, 583, 458, 450, 184, 112, 627,\n",
       "        680, 665, 544, 649, 620, 638, 392,  49, 304, 275, 353, 659, 477,\n",
       "        459, 392, 387,  80, 527,  16, 238, 149, 581,   1,  96,  19, 509,\n",
       "          8, 605, 258,  38, 187, 412, 575,  93, 344, 628, 217, 255, 366,\n",
       "        122, 690, 683, 310, 480, 218, 234, 236, 382, 400, 458, 257, 285,\n",
       "        293, 230, 584, 565, 347, 683, 168, 635, 101, 609, 611, 447, 272,\n",
       "        244, 272, 470, 317, 547, 248, 566, 246, 668,  37,  29,  98, 462,\n",
       "        138, 232, 155, 165,  32,  98, 663,  54, 614,  91, 631,  74, 295,\n",
       "         64, 238, 327, 642, 310, 479,  37, 395, 510, 418, 578,   4, 609,\n",
       "        574, 161, 228, 403, 579, 307, 475, 469, 292, 697, 159, 394, 359,\n",
       "        254, 680, 302, 502, 466, 193, 563, 290,  40,  58, 489, 160, 133,\n",
       "        237, 499, 162,  34, 237, 544, 205,  66, 115, 254, 653, 465, 471,\n",
       "        287, 109, 415, 556,  72, 147, 258,  53, 163, 285, 307, 315, 427,\n",
       "        665, 504, 639, 617, 297, 134, 498, 696, 237, 228, 342, 267, 691,\n",
       "        261, 264, 626,  54, 162, 197, 508,  29, 505, 674, 301, 386,  90,\n",
       "        173, 540, 585, 620, 602, 446, 360,  35, 468, 308, 266,  75,  90,\n",
       "        627, 336, 697, 395, 445, 581, 563,  90,  17, 292, 674, 359, 482,\n",
       "        604,  61, 255, 540, 645, 287, 223, 573,  35, 434, 255, 305,   7,\n",
       "        126, 356, 323, 321,  60, 249, 595, 391, 235, 177, 561, 604, 403,\n",
       "        222, 373, 101, 474, 592,  60, 187, 583,  26,  27, 182, 454, 655,\n",
       "        350, 683, 678,  56, 519,  44, 481, 533, 309,  32, 473, 104, 370,\n",
       "        177, 160, 575, 157, 108, 162, 665, 527, 441, 560, 411,  37, 498,\n",
       "        291, 646, 224, 569, 323, 155, 506, 343, 145, 299,  49, 489, 275,\n",
       "         20,  75, 514, 494, 515,  95,  32, 544, 198, 656, 417, 529, 244,\n",
       "        617, 284, 203,  23,  80, 317, 232, 660,  37, 361, 585, 687,  60,\n",
       "        563, 660, 230, 298, 487, 157,  42, 351, 552, 480, 439, 241, 148,\n",
       "        408, 114, 241, 333, 650, 451, 137, 415, 398, 435, 418, 630, 367,\n",
       "        180, 219, 391, 629, 353, 169,  34, 670, 129, 334, 577,  76, 481,\n",
       "        108, 587, 181, 382, 693, 700,  92, 430, 327,  92, 510, 226, 375,\n",
       "        322, 376, 326, 188, 571, 613, 339, 276, 423, 540, 687, 565, 316,\n",
       "        393,  91, 126, 380,  27, 192, 394, 272, 209,  18, 205, 144, 416,\n",
       "        253, 691, 427, 382, 301,  28, 539,  63, 596, 668,  76,  87, 480,\n",
       "        473, 474, 503, 512, 616, 369, 183, 143, 608, 346, 599, 322, 378,\n",
       "        176, 467, 552, 401, 117, 700, 682, 410, 171, 234, 309, 612, 487,\n",
       "        131, 631, 306, 159, 614, 376, 238, 439, 617, 237, 640, 106, 670,\n",
       "        560, 237, 445, 367, 585, 667, 236, 634,  51, 622, 131, 689, 198,\n",
       "        527, 365, 559, 176, 215, 685,  79, 202, 644, 572, 597,   0, 163,\n",
       "        470, 125, 220, 351, 159,  89, 289,  14, 102, 436, 534,  75, 683,\n",
       "        493,  96,  12, 442, 314, 630, 464, 674, 423, 403, 414, 633, 273,\n",
       "        374, 654, 504, 216, 149, 123, 262,   3, 631, 359, 571, 443, 668,\n",
       "        178,  14, 344,  95, 244, 305, 259, 436, 282, 222, 214, 257]),\n",
       " array([303, 205, 433, 613, 222, 262, 404, 373,  58, 389, 399, 541, 413,\n",
       "        260, 133, 272, 483, 573, 326, 245,   9, 442, 106, 567, 505, 317,\n",
       "        539, 455, 121, 435, 682, 152, 171, 680, 692,  38, 539, 200,  86,\n",
       "        595, 698, 168, 112, 258, 684,   9, 272,  91, 617, 155,  86, 347,\n",
       "        297, 282, 157, 544,  51, 383, 680,  39, 574, 302, 409,   0, 434,\n",
       "          2, 122, 411,  74, 417, 194,   7,  22, 683, 338, 294,  38, 351,\n",
       "        602, 315, 643, 209, 579, 501,  93, 696,  69, 680, 585, 353, 464,\n",
       "        437, 555, 541, 636, 304, 382, 199, 134, 221, 476,  69, 215, 492,\n",
       "         57,  80, 134, 173, 525, 699, 172, 400, 207,  78, 467, 148, 602,\n",
       "        684, 534, 569, 494, 472, 690, 615, 277, 654, 661, 293, 599, 142,\n",
       "        342,  25, 473, 585, 555, 163, 313, 442, 314, 225, 608, 162, 192,\n",
       "         93, 660, 657,  62, 332, 164, 623, 471, 104, 214, 147, 384, 274,\n",
       "        261, 561,  77, 464, 273, 163, 400, 678, 416, 424, 430, 420, 400,\n",
       "         39, 205, 627, 258, 516, 153, 654, 359, 326, 668, 287, 683,  17,\n",
       "        478, 697, 115,  69, 603, 661, 633, 212,   5, 369,  48, 149, 591,\n",
       "         71, 662, 384, 229,  19, 430, 358, 586, 336, 581, 417, 442, 577,\n",
       "        486, 509, 268,  53, 144,  36,  61, 165,   7,  88, 220, 239, 253,\n",
       "        253,  19, 690, 420, 412, 428,  61, 257, 582, 114, 585, 106, 270,\n",
       "        511,   0, 564, 680,  84, 156, 669, 534, 178, 504, 102, 501, 626,\n",
       "        163, 182,  11, 645, 259, 349, 443, 126, 664,  97, 466, 362, 605,\n",
       "        386, 405, 630, 373, 381, 166, 543, 106, 493, 392, 420, 410, 616,\n",
       "        103, 240, 107, 106, 160, 347, 512, 309, 405, 599, 678, 231, 105,\n",
       "          1, 361, 294, 408, 159,  37, 526,  18, 155, 233,  18, 696, 176,\n",
       "        320, 482, 573, 555, 490, 646, 111, 411, 462, 310,  55, 107, 610,\n",
       "        203,  27, 629, 434, 121, 492, 583, 281, 568, 624, 150, 655,  30,\n",
       "        575,  13, 479, 389, 241, 620, 656, 212, 102, 473, 152, 509, 347,\n",
       "        178, 370,  59, 358, 118, 684, 106, 658, 515, 188, 664, 536, 458,\n",
       "        273, 604, 127, 542, 110, 278, 664, 127, 394, 676, 676, 293,  30,\n",
       "        614, 539, 561, 545, 558, 146, 206, 601,  50,  69, 179, 680, 560,\n",
       "        679, 681,  78,  53, 234,  61, 468, 253, 176,  32, 141, 399, 698,\n",
       "        543, 475, 692, 589, 598, 213, 568, 678, 336, 444, 577, 241, 665,\n",
       "        231, 669, 504, 254, 270,  20, 314, 186,  98, 425, 186, 690, 463,\n",
       "        498, 464, 663, 347, 575, 432,  12, 604, 331,  65, 102, 694, 581,\n",
       "        565,   8, 521, 159, 149, 383, 111, 427, 277,  14, 125, 178, 418,\n",
       "         41, 539, 297, 123, 561, 120, 517,  69, 365,  77, 664, 321,  89,\n",
       "        610,  23, 602, 421, 259, 423, 252, 466, 585, 611, 468, 669, 520,\n",
       "        528,   9, 180,  82, 227,  31, 116, 541, 146, 356, 586, 688,  43,\n",
       "        192,  51, 283, 454, 127, 574, 358, 484, 482, 284, 579,  46, 385,\n",
       "        122, 187, 459, 646, 115, 672, 289,  11, 642,  51, 219, 580,  26,\n",
       "        162, 536, 265, 612,  25, 637,  17, 256, 561, 512, 107, 590, 390,\n",
       "        134, 692, 577, 604,  56, 439, 672, 151, 117,  51, 640,  60,  38,\n",
       "        465, 264, 608, 643, 265, 579, 622, 358, 352, 234, 405, 228, 386,\n",
       "         85, 213, 680, 502, 270,  74, 696, 232,  84,  65,  93, 294, 529,\n",
       "        128,  96, 264, 476,  48,  80, 155, 464, 103, 368, 425,  45, 499,\n",
       "        294, 121, 153, 337, 391, 275, 104, 602,  38, 443, 159, 608, 484,\n",
       "          7, 474, 427, 412, 626, 629, 299, 658, 171, 387, 568, 658,  24,\n",
       "         40,  44, 618, 211, 340,  74,  82, 275, 389, 376, 263, 425, 475,\n",
       "        550, 424, 332, 436, 584, 567, 301,  96, 271, 396, 572, 463, 284,\n",
       "        504, 675, 486,  75, 529, 196, 469, 357, 301, 658, 201, 691, 190,\n",
       "         90, 207, 316, 504, 353, 395, 682, 217,  69, 484, 521, 205, 348,\n",
       "         11, 516, 339, 440, 577, 123,  67, 445, 650,  41, 228, 618,  52,\n",
       "        257, 326, 567, 131, 325,  56,  60,  99, 449, 389, 162, 461,  13,\n",
       "        602, 241, 255, 467, 158, 682, 542, 115, 227, 383, 444, 571, 540,\n",
       "        233,  76, 432, 559, 176, 671, 188,  38, 655, 408, 135, 429]),\n",
       " array([ 23, 162, 383, 589, 159, 595, 162, 302, 586, 195, 679, 257, 559,\n",
       "        477, 512, 609, 505, 242, 479, 339, 376,  55,  86, 154, 129,  32,\n",
       "        538, 226,  92, 499, 522, 443, 134, 544, 446, 412, 327,  59, 244,\n",
       "        114, 516, 114, 345, 544, 125, 317, 438, 514, 155, 380,  13, 402,\n",
       "        395, 365, 247, 231, 350, 560, 119, 228, 564,  11, 308, 314,  63,\n",
       "        358,   3, 695,  20, 491,  46, 552, 193,  22, 540, 264, 676, 180,\n",
       "        157, 696, 415, 173,  45, 180, 432, 182, 333,  16,  87, 524, 157,\n",
       "        319, 141,  80, 251, 182,  42, 571, 396, 429, 647, 221, 113, 476,\n",
       "        579, 676, 340, 272, 224, 421, 400, 174, 274,  90, 114, 461, 542,\n",
       "        482, 692, 637, 512, 256, 342, 672,  82, 239, 192, 435, 583, 429,\n",
       "        399, 134, 527, 218, 283, 631, 142, 569, 400, 636, 576, 640, 382,\n",
       "        334, 631, 221,  35, 560, 492, 680, 333, 145, 207, 217, 490, 695,\n",
       "        311, 137, 654, 219, 354, 352, 160, 503, 261, 100, 321, 460, 140,\n",
       "        184, 654, 637, 103, 187, 377, 116, 537, 651, 429, 349, 428, 210,\n",
       "         18, 304,  51, 226, 477,  29, 307,  34, 202, 108,  82, 352, 141,\n",
       "        243, 609, 205,  89, 639, 314, 216,  84, 700, 334, 448, 667, 545,\n",
       "         13, 471, 142,  10,  42, 278, 189, 244, 291, 556, 454,  92, 327,\n",
       "        340, 339, 382, 381, 115, 472, 476, 453,  78, 401, 531, 490, 185,\n",
       "        415,  96, 602, 599, 107, 338, 323, 211, 361, 402, 313, 195, 390,\n",
       "        649,  94, 528, 188, 216, 372, 453, 503, 506, 157, 295, 292, 409,\n",
       "        525, 467, 180,  43, 540, 428, 619, 486,  91, 190, 108, 337, 614,\n",
       "        450, 437, 262, 519, 451, 191, 138, 518, 445, 364, 531,  11, 617,\n",
       "        521, 164,  63, 369, 320, 655, 443, 336, 111, 412, 136, 365, 198,\n",
       "         81, 128, 120, 572, 654, 442, 591, 135, 163, 237, 271, 346, 491,\n",
       "         82, 211, 354, 146,   6, 675, 383, 300,  57, 119, 445,  41,  60,\n",
       "        338, 635, 574, 267, 361, 544, 464,   2, 418, 138, 248, 522, 454,\n",
       "        422, 248, 109,  78, 672, 413, 602,  11, 442, 420, 669, 387, 620,\n",
       "        296, 320, 122, 656, 145, 673, 222,  11, 407, 559, 240, 644, 196,\n",
       "        668, 367, 471, 373, 606, 154, 481, 431, 685, 607, 312, 406, 366,\n",
       "         45, 516, 420, 273,  99,  65, 324, 555, 351,  54, 181, 635, 347,\n",
       "        518, 523,  25, 627, 195, 213, 631, 420, 300, 357, 219, 322, 603,\n",
       "        524, 201,   5, 495, 544, 156, 639, 213, 589, 531, 113, 358, 365,\n",
       "         86, 475, 261, 551, 625, 381, 295, 230, 677, 159, 530, 443, 668,\n",
       "        463, 140, 395, 586, 292, 446, 322, 585, 288, 236, 605, 559, 111,\n",
       "        652, 243, 231, 128,  47, 403,  97,  79, 463, 577, 276, 123,   9,\n",
       "        450, 399,  37, 445, 675, 345, 218, 538, 209, 133, 418, 112, 598,\n",
       "         58, 304, 406, 314, 512, 188, 644, 314, 569,  45, 179, 459, 451,\n",
       "        479,  21, 582, 158, 564, 432, 415,  28, 261, 113,  35,  87, 222,\n",
       "        352, 292, 329, 438, 548, 533, 236, 192, 393, 338, 493, 130, 111,\n",
       "        590, 173, 158, 419, 355,  93, 663, 224,  81, 664, 100, 219, 143,\n",
       "        448, 410, 302, 214, 227, 597, 427, 177,  25, 674, 490, 129, 160,\n",
       "        512, 542, 596, 699, 596, 171, 597,  16, 686,  91, 342, 458, 429,\n",
       "        437, 689, 200, 690, 448, 470, 255, 456,  42, 236, 468, 596, 632,\n",
       "        269, 618,  90, 353, 625,  12, 413, 639, 516, 622, 620, 481, 299,\n",
       "        205, 226, 160, 622, 218, 229, 456, 261, 424, 679, 296,  24, 109,\n",
       "        262, 641, 448, 381, 179, 319, 111, 252, 327, 214, 303, 524, 558,\n",
       "        620, 457,  54, 364, 531, 135,  64, 592, 517,  33, 328, 244, 672,\n",
       "        163, 434, 290, 659, 589, 470,  14, 521, 545, 379, 590, 529, 496,\n",
       "         50, 571, 165, 676, 235, 477,  38, 384, 341, 135, 213, 695, 260,\n",
       "         50, 623, 327,  75, 599, 477, 367,  30, 289,  67, 543, 245, 589,\n",
       "        433, 576, 594, 534, 227, 341, 306, 695, 240, 404, 268,  15, 137,\n",
       "        419, 390, 213, 315, 274, 383,  88,  71, 144, 484, 494, 529,  48,\n",
       "        357, 514, 224, 354, 447, 361,  57,  92, 555, 424, 581, 551, 424,\n",
       "        189, 423, 158, 687, 329, 170, 276,  65, 560, 682,  62, 555]),\n",
       " array([362, 525, 187, 334, 320,  76, 233, 108, 301, 335,  36,  53, 371,\n",
       "        119, 254,  23, 132, 107, 392, 662, 371, 117, 504, 523, 311, 205,\n",
       "        656, 655,  59, 698,  50, 238, 399, 531, 606, 586,   4, 551, 234,\n",
       "         15,  96, 386, 224, 475,  27, 369, 694, 524, 408, 486, 648, 491,\n",
       "         78, 659, 603, 480, 208, 223, 450, 241, 456,  46, 512, 654, 194,\n",
       "        580, 432, 387, 553, 197, 640, 298, 119, 432, 647,  33, 557, 577,\n",
       "        141, 178, 554, 230, 365, 673, 476, 600, 211, 480, 576, 529, 686,\n",
       "         26, 656, 583,  60, 128, 306, 458, 342,  24, 371, 227, 541, 332,\n",
       "        693, 185, 166, 495, 351, 350, 258, 580,  28, 218, 484, 399, 175,\n",
       "        432, 598, 669, 358, 207, 621, 473, 224, 160, 263, 607, 364, 671,\n",
       "         97, 245, 297, 471, 641, 103, 291, 407, 268, 679, 252, 629, 277,\n",
       "         90, 216, 138,  63, 161, 101, 414, 509, 248, 496, 193, 289,  82,\n",
       "        372, 668, 500, 377, 380,  83, 295, 374,  23,  32, 627, 542, 461,\n",
       "        305, 218, 689, 140, 512, 142, 342, 439, 240, 588, 168,  11, 270,\n",
       "         63, 281, 431,  84, 286, 208, 575, 418,  83, 323, 213, 172, 425,\n",
       "        315,  84,  46, 491, 228, 140,  64, 596, 332, 247, 152,  89, 216,\n",
       "        349, 445,  40, 256, 493, 341,  41, 347, 581, 177, 529, 672, 237,\n",
       "        503, 623, 533, 140, 188, 568, 334, 204, 593, 457, 404, 626, 328,\n",
       "         27,   3, 678,  71, 447, 568, 231, 177, 129, 114, 179, 593, 186,\n",
       "        229, 533, 492, 116, 574, 194,  48, 533, 481, 633, 632, 571,  19,\n",
       "        522, 145, 149, 486, 351, 272,  66, 473,   2, 642, 529, 493, 160,\n",
       "        451,  43, 685, 148, 275, 643, 207,  57, 424, 226,   4, 350, 335,\n",
       "        307, 272, 305, 213, 406, 539, 624, 202, 251, 185,  18, 137, 504,\n",
       "         49, 640, 120, 488, 189, 245, 359, 527,  77, 446, 356, 431, 548,\n",
       "        132, 602, 371, 169, 458, 658, 363,  68, 232, 403, 651, 517, 113,\n",
       "        478, 580, 242, 289, 242, 319, 484, 559, 379, 576, 220, 619, 605,\n",
       "        699, 480, 176, 534, 628,  34, 470, 287, 464,  55, 483, 420, 403,\n",
       "        253,  49, 423, 617, 280, 310, 443, 442, 589, 571, 480,  73, 586,\n",
       "        390, 103, 637, 136, 173, 123, 433, 613, 586, 651, 146, 457, 213,\n",
       "        229, 123, 455, 232, 164, 344,  90, 496, 355, 339, 483,  25, 214,\n",
       "        112, 624,  70,  18, 184, 209, 355, 563,  42, 393, 628,  57, 418,\n",
       "        352, 554, 379,  27, 557, 344,  64, 674, 291, 554, 607, 318, 389,\n",
       "        352, 582, 304,  93, 664, 413, 466, 402, 604, 544,  16, 531, 448,\n",
       "        271, 199, 522, 503, 453, 511, 499, 410, 587,  29, 530, 655, 497,\n",
       "        311, 431, 204, 326, 252, 689, 182, 131, 170, 141, 596, 289,  91,\n",
       "          8, 333, 388, 394, 257,  23, 125, 201, 401, 155, 180, 629, 432,\n",
       "        566,  94, 471, 448, 152, 177, 679, 247, 121, 531, 487, 534, 169,\n",
       "         23, 395, 682, 509, 484, 357, 210, 436, 146, 299, 562,  48, 163,\n",
       "        477, 626, 374, 502, 669, 314, 385, 349, 472, 162,  21, 117,  84,\n",
       "         59,  15, 343, 521, 341,   4, 346, 142, 650, 579, 352, 237, 556,\n",
       "        182, 639,   0, 482,  22, 143, 359, 535, 656, 226, 359, 410, 425,\n",
       "        388, 539,  41, 209, 652, 528,  67, 639,  44, 244, 252, 342, 307,\n",
       "        503, 299,  22, 522, 546, 322, 123, 394, 524, 308, 652, 470,  20,\n",
       "        505, 210, 174, 600, 315, 671, 565, 515, 393, 614, 251, 199, 129,\n",
       "        445, 555, 246, 402,  11,  90, 348,  31, 102, 219, 160, 404, 366,\n",
       "        569, 610, 214, 401, 110, 450, 648, 563,  85, 116, 290, 168, 234,\n",
       "        653, 693, 330, 587, 693,  51, 681, 106,  10, 382, 274,  43, 299,\n",
       "         32, 285, 194, 660, 165, 496, 566, 167, 552, 505, 242, 115, 434,\n",
       "        559, 349, 430,  69, 213, 312, 472, 581, 258, 580, 536,  95, 176,\n",
       "        325, 123, 198, 572, 538, 391, 454, 139, 271, 370, 125, 443, 582,\n",
       "        288, 438, 521, 168,  60, 253, 579,  20,  26, 258, 693, 232, 175,\n",
       "        305, 266, 501, 159, 698, 398, 457, 440, 334, 129,   5,  82, 345,\n",
       "        449, 637, 370, 518, 378, 649, 452,  22, 184, 321, 153, 385, 319,\n",
       "         61, 555, 402, 689, 233, 694, 211, 355, 575, 222,  35, 357]),\n",
       " array([462, 520, 602, 281,  74, 562, 391, 156, 573, 617, 322, 515, 477,\n",
       "         76, 121, 225, 612, 225, 576, 122, 177,  60, 583, 262, 547, 283,\n",
       "         83,  38, 170, 333, 523, 230, 110, 375,  52, 274, 652, 531, 361,\n",
       "        399, 602, 258, 632, 423, 278, 620, 369,  11, 353, 551, 460, 571,\n",
       "        221, 139, 146,  44, 435, 259, 143, 644, 605, 286, 297, 417, 680,\n",
       "        253, 233, 320, 353, 159, 422, 183, 508, 323, 338,  36, 243, 442,\n",
       "        645,  55, 102, 219, 451, 452, 382, 399, 668, 249, 439,  22, 358,\n",
       "        450, 270, 145, 553, 465, 238, 245, 325,  57,  50, 192, 190, 442,\n",
       "        666, 662, 440, 692, 152,  51, 166, 633, 424,  51, 423, 478, 101,\n",
       "        667, 289, 328, 514, 667, 588, 697, 363, 688,  41,  62, 284, 325,\n",
       "        579, 651,  94, 199, 485, 297, 374, 689, 582, 308, 262, 336, 245,\n",
       "        470, 147, 298, 315, 674, 329, 370, 146, 165,  57, 340, 257, 382,\n",
       "         11, 184, 324, 488, 660, 525, 111, 104, 263, 392,  55, 383, 547,\n",
       "         90, 196, 560, 695, 460, 280, 585, 552, 353, 603, 530, 498, 326,\n",
       "        508, 168, 473, 205, 262, 305, 478, 560, 222, 307, 464,  27, 559,\n",
       "        135, 533, 473, 697,  42, 397, 691, 315, 499, 390,  63, 287, 210,\n",
       "        206, 431,  48, 653, 532, 155, 563, 140, 144, 504,  10, 451, 205,\n",
       "        370, 577,  96, 152, 613,  75,  38, 249, 374, 625, 510, 109, 238,\n",
       "        315, 373, 389, 183, 687,  52, 346,  80, 158, 480, 314,   2, 657,\n",
       "        240, 643, 429, 697, 235, 402, 106,  29,  51, 105, 601, 479, 252,\n",
       "        652,  84, 344, 490, 150, 565, 513, 641, 250, 339, 315, 603, 518,\n",
       "        222, 228, 558, 240, 357, 381, 141, 263, 610, 330, 165, 401, 652,\n",
       "        546, 352, 439, 655, 374, 575, 483, 468, 381,  31, 466, 291, 699,\n",
       "        272, 253, 461, 516, 172, 351, 537, 304,  15, 234, 301, 633, 624,\n",
       "         45, 242,  73, 356, 170, 208, 434, 350, 379, 265, 462, 600, 220,\n",
       "        656, 105, 155, 170, 496, 587, 104, 458, 381, 342, 649, 575, 684,\n",
       "        432, 321, 268, 533, 390, 313, 567,  36, 595,  14, 389, 129, 638,\n",
       "          5, 582, 207, 367, 294, 682, 188,   5,  16, 166,   9, 456, 640,\n",
       "        380, 469, 381, 258, 136, 594,  93, 464, 364, 395, 589, 192, 289,\n",
       "        263,  84, 263, 229, 648, 224, 574, 474,  82, 414, 621, 341, 599,\n",
       "         30, 457, 277, 214, 279, 288,  31, 316,  71, 323, 577, 668, 646,\n",
       "        116, 639, 455, 592, 460, 419, 485, 373, 183, 640, 249, 199, 443,\n",
       "        528, 153, 598, 178, 470, 523,  73,  19, 115, 124, 543,  55, 521,\n",
       "        261, 656, 508,  57, 230, 153, 428,  14, 442, 166, 533, 444, 213,\n",
       "        381, 456, 446, 569, 130, 273, 162, 143, 595, 595, 540, 469,  22,\n",
       "        411,  14, 253,   2,  55, 653, 655, 592, 670, 444, 116, 581, 424,\n",
       "        296, 154,  69, 461, 294, 561, 265, 280, 101,  80, 563, 667, 237,\n",
       "        390, 113, 381,  91, 238, 231, 502, 310, 620, 134, 593,   1, 578,\n",
       "         20, 460, 291, 584, 551, 625, 130, 168, 420, 643, 572, 619,  82,\n",
       "        535, 588, 333, 436, 266, 647, 428,  39, 363, 659, 327, 405,  89,\n",
       "        625,  96,  61, 490, 238, 209, 552, 544, 518, 383, 328, 116, 275,\n",
       "        321, 468, 424, 475, 472, 493, 266, 568, 119, 511, 574, 233, 242,\n",
       "        215, 223, 299, 659, 628,  82, 132, 301, 597, 622, 143, 454, 300,\n",
       "        617,  15, 147, 190, 252, 445, 526, 229, 669,  49,  82, 103,  27,\n",
       "        448, 265, 684, 402, 235, 110,  66, 550, 648, 253, 447, 105, 532,\n",
       "        152, 601, 196, 478,  66, 163, 482,  26, 353, 546, 677, 270, 630,\n",
       "        279, 574, 271,  70,  45, 663, 293,  25, 182, 664, 414, 326, 396,\n",
       "        587,  97, 440, 569, 604,  69, 213, 357, 464, 148,  66, 417, 259,\n",
       "        132,  85, 220, 258,   6, 495, 675, 276, 241, 120,  93, 251, 453,\n",
       "        135, 123, 101, 297, 658, 587, 111, 585, 223,  72, 215,  39, 259,\n",
       "        681, 569, 112, 455, 474, 603, 444, 406, 359, 437, 379, 332, 353,\n",
       "        415, 371, 105, 317, 155, 542, 482,  63,  65, 249, 243,  59, 461,\n",
       "        452, 165, 186, 347, 617, 431, 433, 378,  97,  21, 562, 371, 179,\n",
       "        233, 446, 371,  14, 671, 349, 470, 575, 338, 496, 686,  74]),\n",
       " array([680, 653, 365, 269, 519, 618,  93, 214, 304, 259,  56, 269, 236,\n",
       "        442, 201, 251, 185, 274, 417, 111, 194, 184, 630,  71, 147, 547,\n",
       "         96, 537, 656,  77, 161,  51, 115, 263,   4, 256, 461, 164,  22,\n",
       "         11, 657, 420, 149, 130, 508, 185,  44, 543, 294, 171, 388,  32,\n",
       "        609, 365, 622, 479, 111, 278, 294, 136, 633, 596, 134,  74, 325,\n",
       "        427, 308, 649, 163, 469, 476, 555, 436, 303, 580, 578, 155,  10,\n",
       "        449, 221, 598, 134, 669, 473, 129, 383, 172, 172, 333, 593, 314,\n",
       "        246, 199,  48, 495, 250, 633, 687, 690, 601, 417, 330, 331, 448,\n",
       "        628, 488, 374,  73, 140, 405, 628, 326,  41, 324, 264, 526, 111,\n",
       "        386, 220, 243,  28, 358, 654, 315, 492, 293, 379, 554, 534, 439,\n",
       "        518, 640, 451, 216, 123, 386, 287, 230,  47, 275, 164, 285, 133,\n",
       "        451,  89, 126, 278, 700, 340, 547, 426, 305,  27, 498,   8, 187,\n",
       "        458, 520, 423, 310, 593, 629, 330, 210, 545, 120, 180, 122, 574,\n",
       "        597, 366,  86, 295, 380, 635, 267, 615, 504,  52, 283,  58, 301,\n",
       "        335,  57, 630, 129, 199, 359, 617, 178, 416, 477, 689, 464, 594,\n",
       "        221, 352,  10, 197, 232, 494,   6, 684, 151,  51, 399, 263, 312,\n",
       "         66, 405, 173, 359, 543, 561,  20,  38, 661, 621, 431, 410, 214,\n",
       "          4,  70, 677, 411, 635, 111, 246,  85, 529,  95, 520, 494, 390,\n",
       "        359,  19, 323,  39, 483, 539, 659, 204, 191, 314, 554, 554, 127,\n",
       "        519, 447, 459, 677, 190, 445, 227, 296, 112, 104, 415, 114, 510,\n",
       "        152, 660, 351, 433, 596, 611, 291, 265, 647, 227, 491,  77, 526,\n",
       "        454, 205, 305, 336,  42, 269, 206, 665, 278, 493, 303, 160, 621,\n",
       "        638, 509, 297, 562, 589, 198, 598, 461, 412, 267,  94, 334, 263,\n",
       "        443, 587, 481, 106,  33,  53, 299,   3, 168, 295, 420,  66, 290,\n",
       "        445, 336,  92,  29, 371, 193,  29, 126, 369, 507, 647, 510,  22,\n",
       "        568, 508, 394,  66, 185, 468, 144, 463, 314, 522, 187, 229, 638,\n",
       "        586, 143, 311, 448, 400, 195, 461, 265, 253, 406, 356,   7,  30,\n",
       "        686, 127, 112,  53, 451,  90, 179, 583,  53, 570, 349, 520, 180,\n",
       "        555,  57, 634, 640, 193, 356, 533, 392, 652, 625, 391,   5, 307,\n",
       "         22, 697, 176, 637, 111, 486, 657, 248, 369, 446, 580, 128, 360,\n",
       "        121, 177, 164, 414, 669, 569,  57,  29,  13, 306, 606, 425, 673,\n",
       "        268, 349, 407, 653,  48, 244, 602, 624, 659, 395, 416, 358, 233,\n",
       "        530, 183,  59, 368, 422, 104, 551, 470, 209, 174, 184, 618, 586,\n",
       "        105, 354, 143, 580, 238, 115, 442, 170, 481, 228, 331,  27, 474,\n",
       "         15, 171, 700,  65, 626, 125, 187, 299,  63, 376,   6, 284, 117,\n",
       "        478, 582, 450, 115,  19, 509, 693, 436, 469, 680, 479, 501, 272,\n",
       "        487,  93, 534, 658, 403, 115, 195, 685, 625, 528,   8, 351,  31,\n",
       "        486, 598, 267, 167,   3,  92, 571, 164, 565, 218, 465, 575, 498,\n",
       "          6, 690, 126, 297, 162, 314,  87, 418, 372, 118, 598, 522, 247,\n",
       "        521, 463, 181, 273, 488, 479, 109, 329, 605, 468, 509, 212, 295,\n",
       "        666, 239, 285,  28, 653, 292, 567, 442, 191,  59,   3, 263, 490,\n",
       "        251,  48, 294, 324, 471, 680, 265, 132,  56,  35, 575,  93, 621,\n",
       "        619, 128, 296, 147, 573, 202, 292, 174, 486, 488, 454,  91, 184,\n",
       "        394, 245, 461, 560, 686, 113, 262, 298, 677, 171, 115,   0, 609,\n",
       "        112,  87, 384, 504, 609, 136, 582, 406, 481, 236,  35,  15, 510,\n",
       "        560, 226, 100, 189, 242, 616,  35, 131, 344, 229, 328, 120, 645,\n",
       "        131, 184, 296, 450, 651, 500, 275, 109, 233, 311, 533, 573, 407,\n",
       "        692, 537, 162, 695, 440, 486, 403, 679, 412, 322, 461, 416, 417,\n",
       "        325, 323, 540, 696, 650, 137, 246, 418, 310,  96,  13, 582,  33,\n",
       "         40, 620, 197, 217, 159, 245, 564, 265,  88, 182, 231, 232,  64,\n",
       "        690, 629,  65, 637, 457, 539, 227, 673, 623, 319, 258, 692, 117,\n",
       "        198, 226, 600, 588,  46, 458, 166, 360,  38, 453, 687, 233,  24,\n",
       "        625, 640, 118, 436, 344, 471, 397, 651, 423, 669, 678, 435, 249,\n",
       "        458, 345, 659, 416, 123, 632, 191,  53, 592, 436, 641, 296]),\n",
       " array([637, 272, 181, 602, 264, 619, 698, 207, 581, 672,  22,  67,  54,\n",
       "        343, 447,  30, 393,  32, 387, 512, 111,  92, 196,  73, 413, 308,\n",
       "        382, 265, 570, 197, 446, 388, 693, 469,  88, 324, 118, 331, 424,\n",
       "        406, 201, 255, 640, 135,  85, 469,  37,  11, 236, 363, 534, 206,\n",
       "        313,  33, 267, 581, 370, 242, 189,  99, 607, 597,  99, 174, 461,\n",
       "        131, 333, 631, 565,  95, 581, 328,  48, 422,  25, 509, 541, 188,\n",
       "        565,  78, 470, 623, 306, 161, 480, 134, 441, 159, 246, 325,  18,\n",
       "        559, 597,  49, 305, 309,  38, 653, 400, 648, 409, 261, 412, 662,\n",
       "        405, 615, 233, 281, 186,  66, 373, 298,  11,  54, 396, 414, 171,\n",
       "        673, 441, 137, 469,  58,  57, 593,  47, 292, 629, 304, 487, 528,\n",
       "        454, 642, 275, 542, 483,  27, 574, 383, 252, 440, 534, 315, 517,\n",
       "        169, 682, 111, 574, 624, 661,  76, 116, 407, 365, 666,  96, 369,\n",
       "        345,   2, 373,  25, 293, 601, 257, 427, 242, 508,  46, 283, 511,\n",
       "        358, 286, 117, 114, 135, 363, 464, 338, 529, 413,  43, 625, 150,\n",
       "        380, 633, 452, 550, 408, 505, 662, 523, 497,  42, 448, 439, 205,\n",
       "        285, 664, 553,  78, 523, 318,  52, 253, 449, 371, 293, 305, 284,\n",
       "        155, 342, 576, 193, 436, 643, 240, 210, 681, 277, 117, 435, 549,\n",
       "        376, 263, 103, 602, 476, 404, 386, 615, 309, 219, 523, 637, 675,\n",
       "        595, 534, 367,  71, 286, 421, 221, 601, 632, 574, 387, 454, 455,\n",
       "        481, 252, 660, 624, 194, 675,   1, 311, 571,  87, 118, 673,  29,\n",
       "         13, 665, 657, 176, 120, 168, 597, 205, 113,  56, 477, 135, 328,\n",
       "         69, 452, 160, 188, 410, 326, 630, 108, 143, 644,  95, 489, 252,\n",
       "        132, 620, 591, 145, 509, 476, 401, 628, 155, 151, 534, 609,  50,\n",
       "        397, 489, 492,  69,  55,  50,  14, 675, 259, 618,   9, 284, 615,\n",
       "        374, 664, 171, 652, 128, 608, 524, 634, 502, 373,  85, 699, 659,\n",
       "        435, 279, 182, 176, 115, 128, 459, 658, 650,  70, 415,  27, 518,\n",
       "        668, 558, 537, 438, 206, 473, 627,  12,  27, 369, 332, 666, 152,\n",
       "        584, 148, 317, 656, 413, 154, 681, 273, 579, 273, 263, 605, 520,\n",
       "        454, 354, 480,   9, 193,  31, 645, 139,  79,  76, 529, 245,  67,\n",
       "        694, 498, 473, 360, 203, 273, 628, 421, 232,  19, 618, 287, 408,\n",
       "        405, 688, 511, 390, 128, 578, 267, 270, 258,  60, 612, 163, 277,\n",
       "        699, 419, 112, 611, 222,  16, 691, 200, 399, 461, 670, 178, 350,\n",
       "        508, 589,  43, 422, 498,  32, 531,  27, 346, 206, 312, 596, 224,\n",
       "        141, 653, 674, 483, 632, 172, 266, 110, 674, 115, 337, 108, 313,\n",
       "        261, 221,  65, 396, 502, 423,  37, 463, 133, 113, 257, 338, 221,\n",
       "        615, 519, 589, 458, 447, 121,  43, 321, 424, 569, 523, 408, 274,\n",
       "        684, 674, 105, 181, 642, 359, 547, 235, 168, 185,  65, 285, 153,\n",
       "        674, 463, 219, 338, 105,  31,  21, 324, 514, 612, 669, 489, 589,\n",
       "        138,   9, 255, 693, 265, 697,  66, 233, 536, 501, 193, 190, 376,\n",
       "        300, 382, 581, 270, 667, 567, 460, 192, 127, 172, 510, 180, 553,\n",
       "        536,  45, 366, 427, 422, 194, 113, 425, 124, 595, 432, 456, 172,\n",
       "         77,  49, 207, 387, 570,  58,   2,   8,  21, 323, 485, 461, 116,\n",
       "         94, 124, 169, 483,  69, 136, 314, 285, 507, 634, 548, 365, 530,\n",
       "        471,  37, 506, 613, 692, 576, 560, 364, 100, 654, 172, 153, 113,\n",
       "        534, 193, 376, 323, 455, 623, 469, 516, 272, 169, 110, 538, 352,\n",
       "        615, 342, 305, 136,  26, 229,  74,   5,  98, 244, 581, 205, 673,\n",
       "        342, 103, 233, 627, 182, 570, 688,  72,  67, 607, 681, 586, 464,\n",
       "        200,  68, 694, 217,  37, 301, 647, 181, 185, 259,  69, 239, 243,\n",
       "        231, 108, 599, 637, 424, 352, 652, 444, 689,   8, 627, 130,   5,\n",
       "        534, 185,  55, 267, 157, 534, 340, 503, 326, 629, 541,  17, 268,\n",
       "         78, 695, 521, 553, 189,  66, 567, 484, 617, 466, 664, 603, 562,\n",
       "        696, 231,   1,  31,  71, 658, 477, 494, 352, 272, 560, 359,  41,\n",
       "        325, 420, 317, 356,  14, 370, 528, 470, 145,  71, 184,  54, 657,\n",
       "        176, 282, 494, 228,  81, 394, 157, 431, 478,  53, 267, 381]),\n",
       " array([206, 374, 440, 408, 180, 198, 477, 658, 393,  15, 281, 548, 479,\n",
       "        555, 387, 201, 422, 118, 676, 575,  62, 212, 531, 324, 186, 442,\n",
       "        620, 355, 663, 222, 476,  95, 623, 450, 378, 553, 300, 633, 665,\n",
       "        214, 283, 352, 258, 483, 568, 574,  16, 230, 379, 133, 223, 319,\n",
       "        588, 225, 534, 277, 245, 143, 413, 427,  37, 436,  78, 536, 299,\n",
       "        683,  89, 443, 378, 344, 216, 470, 259, 128,  31, 242, 180,  23,\n",
       "        326, 422,  28, 114, 549, 550,  38,  49, 660, 195, 698, 651,  94,\n",
       "        158, 405, 556, 569, 548, 118, 361,  75, 340, 644, 571, 558, 428,\n",
       "        429, 583, 152,  99, 615, 388, 109, 473, 587, 658, 425,  43, 659,\n",
       "        250, 476, 103, 376, 331, 400, 518, 216, 117, 153, 630, 182, 260,\n",
       "        581, 511, 425, 553, 640, 148, 160, 165, 632, 230, 142, 695, 691,\n",
       "        544,  90, 492, 167, 427, 528, 674, 235,  74, 175, 651, 229,  23,\n",
       "        355, 638, 152, 418,  47, 145, 262,  27, 277, 575,  39,  59, 502,\n",
       "         91,  62, 555,  23, 693, 419, 667, 316, 351, 258, 340, 664, 600,\n",
       "         71, 230, 672,  78, 259, 459, 518, 673,   2, 493, 243, 382,  99,\n",
       "        481, 507, 352, 402, 608, 698, 305, 325, 137, 305, 498, 689, 137,\n",
       "        540, 511, 170, 645,  46, 336, 328, 268, 587, 187, 257, 113, 450,\n",
       "        389, 284, 628, 602, 696, 598, 695,  44, 296, 667,  73, 648,  37,\n",
       "        573,  79, 238, 622, 200, 543, 246, 144,  74, 478, 459,   5, 299,\n",
       "         78, 554, 215, 678, 482, 481, 608,  15, 213, 536, 481, 225, 664,\n",
       "         17, 578, 617, 233, 253, 322, 377, 459, 566, 593,  77, 636, 314,\n",
       "         61, 251, 627, 466, 657,  79, 310, 609, 684, 530, 293, 268, 322,\n",
       "        684, 655, 340, 443, 427, 254, 189, 390, 696, 327,  80, 391, 146,\n",
       "        389, 270, 692, 312, 604, 244, 484, 497, 569,  61,  95, 632, 568,\n",
       "        628,  19, 618, 534, 103, 498, 618, 618, 100, 433, 455, 176, 273,\n",
       "         80, 181, 166, 130, 164, 189, 611, 312, 317, 449, 276, 254, 298,\n",
       "        289, 608, 494, 293, 208, 269, 466, 690, 646, 242, 435, 123, 247,\n",
       "        689, 363, 644, 554, 131, 161, 105,  75, 328,  60, 311, 275,   4,\n",
       "        522, 518,  71, 382, 691, 264,  14, 638,  74,  38, 538, 657, 659,\n",
       "         94, 396, 185, 561,  82,  16,  33, 121, 334,  90,  35, 477, 319,\n",
       "        265,  13, 359,  45, 374, 386, 225, 311, 488, 380, 644, 270, 536,\n",
       "        565, 126, 510,  56, 245,  14, 646, 682, 224,  58, 246, 309, 199,\n",
       "        419, 300, 506, 668, 268, 222, 444, 119, 680, 514, 181, 315,  68,\n",
       "        422, 299, 571, 686, 614, 197, 421, 466, 688, 477,  34,  77, 517,\n",
       "        200, 691, 385, 143, 124,  96, 636,  15, 332, 399, 312,  20, 275,\n",
       "        413, 374, 286, 497, 200, 596, 477, 661, 212, 257,  12, 611, 330,\n",
       "        225,  84,  25, 552, 247, 513, 599,  78, 640, 204, 653,  52, 269,\n",
       "        248, 652, 423, 379, 223,  78, 267, 462, 403, 380, 329, 423, 432,\n",
       "        143, 265, 536, 589,  41, 533, 604, 286, 534, 294, 233, 458, 126,\n",
       "        486,  33, 239, 199, 534, 190, 465, 566, 464,  16, 632, 455, 508,\n",
       "        132, 233, 613, 663, 229, 387, 679, 126,  96,   2, 606, 405, 585,\n",
       "        607, 516, 661, 444, 683,  60, 607, 546, 517, 357,  13,  81, 282,\n",
       "        239, 293,  14,  76, 479, 548,  15,  62, 414,  20, 216, 412, 134,\n",
       "        475, 143, 202, 613, 482, 322, 489, 108, 436, 663, 556,  48, 639,\n",
       "        385, 437,   1, 509, 579, 558, 270, 202, 527, 664, 322, 557, 404,\n",
       "         87, 534, 291, 222,  13,  68,  74, 601, 327, 159, 398, 199, 630,\n",
       "        655, 287, 176, 252, 230, 178,  86, 694, 162, 604, 370, 445, 502,\n",
       "        307, 195, 581, 326, 171, 381, 664, 263, 172, 266,  80, 297, 354,\n",
       "        531, 596, 278, 308,  39, 609,  90,  58, 225, 331, 215, 369, 673,\n",
       "         16, 589, 480, 184, 611, 655, 106,  58, 150, 124, 664, 165, 336,\n",
       "        372, 633, 183, 553, 283, 595, 493,  86,  40, 679, 233, 382, 338,\n",
       "        104, 417, 490, 476, 699, 490, 101, 468, 110, 285, 325, 594,  39,\n",
       "        180,  92, 120, 421, 573, 486,  31, 663, 321, 255, 698, 676,  61,\n",
       "        154, 102, 206, 627, 267, 215, 305, 605, 628, 633, 435, 420])]"
      ]
     },
     "execution_count": 68,
     "metadata": {},
     "output_type": "execute_result"
    }
   ],
   "source": [
    "#her bir agacin ornekleri\n",
    "bag_model.estimators_samples_"
   ]
  },
  {
   "cell_type": "code",
   "execution_count": 69,
   "id": "6b1991a3",
   "metadata": {},
   "outputs": [
    {
     "data": {
      "text/plain": [
       "[array([0, 0, 0]),\n",
       " array([2, 0, 2]),\n",
       " array([0, 0, 0]),\n",
       " array([1, 1, 0]),\n",
       " array([0, 0, 0]),\n",
       " array([0, 2, 0]),\n",
       " array([0, 1, 2]),\n",
       " array([1, 0, 0]),\n",
       " array([0, 1, 2]),\n",
       " array([1, 1, 2])]"
      ]
     },
     "execution_count": 69,
     "metadata": {},
     "output_type": "execute_result"
    }
   ],
   "source": [
    "#her agacin bagimsiz degiskenleri\n",
    "bag_model.estimators_features_"
   ]
  },
  {
   "cell_type": "markdown",
   "id": "113fa17f",
   "metadata": {},
   "source": [
    "### Tahmin"
   ]
  },
  {
   "cell_type": "code",
   "execution_count": 70,
   "id": "9961ea90",
   "metadata": {},
   "outputs": [
    {
     "data": {
      "text/plain": [
       "17.19857364380153"
      ]
     },
     "execution_count": 70,
     "metadata": {},
     "output_type": "execute_result"
    }
   ],
   "source": [
    "y_pred = bag_model.predict(X_test)\n",
    "np.sqrt(mean_squared_error(y_test, y_pred))"
   ]
  },
  {
   "cell_type": "code",
   "execution_count": 71,
   "id": "d2953a4f",
   "metadata": {},
   "outputs": [],
   "source": [
    "iki_y_pred = bag_model.estimators_[1].fit(X_train, y_train).predict(X_test)"
   ]
  },
  {
   "cell_type": "code",
   "execution_count": 72,
   "id": "341c1315",
   "metadata": {},
   "outputs": [
    {
     "data": {
      "text/plain": [
       "13.231468115928026"
      ]
     },
     "execution_count": 72,
     "metadata": {},
     "output_type": "execute_result"
    }
   ],
   "source": [
    "np.sqrt(mean_squared_error(y_test, iki_y_pred))"
   ]
  },
  {
   "cell_type": "code",
   "execution_count": 73,
   "id": "984cdfe4",
   "metadata": {},
   "outputs": [],
   "source": [
    "yedi_y_pred = bag_model.estimators_[6].fit(X_train, y_train).predict(X_test)"
   ]
  },
  {
   "cell_type": "code",
   "execution_count": 74,
   "id": "e74efa9a",
   "metadata": {},
   "outputs": [
    {
     "data": {
      "text/plain": [
       "12.111137621451006"
      ]
     },
     "execution_count": 74,
     "metadata": {},
     "output_type": "execute_result"
    }
   ],
   "source": [
    "np.sqrt(mean_squared_error(y_test, yedi_y_pred))"
   ]
  },
  {
   "cell_type": "markdown",
   "id": "8f5d191d",
   "metadata": {},
   "source": [
    "### Model Tuning"
   ]
  },
  {
   "cell_type": "code",
   "execution_count": 75,
   "id": "dd727305",
   "metadata": {},
   "outputs": [
    {
     "data": {
      "text/plain": [
       "BaggingRegressor(bootstrap_features=True)"
      ]
     },
     "execution_count": 75,
     "metadata": {},
     "output_type": "execute_result"
    }
   ],
   "source": [
    "bag_model = BaggingRegressor(bootstrap_features = True)\n",
    "bag_model.fit(X_train, y_train)"
   ]
  },
  {
   "cell_type": "code",
   "execution_count": 76,
   "id": "7084bed6",
   "metadata": {},
   "outputs": [],
   "source": [
    "bag_params = {\"n_estimators\": range(2,20)}"
   ]
  },
  {
   "cell_type": "code",
   "execution_count": 77,
   "id": "d2b46d2c",
   "metadata": {},
   "outputs": [],
   "source": [
    "bag_cv_model = GridSearchCV(bag_model, bag_params, cv = 10)"
   ]
  },
  {
   "cell_type": "code",
   "execution_count": 78,
   "id": "8fdf1338",
   "metadata": {},
   "outputs": [
    {
     "data": {
      "text/plain": [
       "GridSearchCV(cv=10, estimator=BaggingRegressor(bootstrap_features=True),\n",
       "             param_grid={'n_estimators': range(2, 20)})"
      ]
     },
     "execution_count": 78,
     "metadata": {},
     "output_type": "execute_result"
    }
   ],
   "source": [
    "bag_cv_model.fit(X_train, y_train)"
   ]
  },
  {
   "cell_type": "code",
   "execution_count": 79,
   "id": "9d92532f",
   "metadata": {},
   "outputs": [
    {
     "data": {
      "text/plain": [
       "{'n_estimators': 16}"
      ]
     },
     "execution_count": 79,
     "metadata": {},
     "output_type": "execute_result"
    }
   ],
   "source": [
    "bag_cv_model.best_params_"
   ]
  },
  {
   "cell_type": "code",
   "execution_count": 80,
   "id": "2d1024c9",
   "metadata": {},
   "outputs": [],
   "source": [
    "bag_tuned = BaggingRegressor( n_estimators = 11, random_state = 45)"
   ]
  },
  {
   "cell_type": "code",
   "execution_count": 81,
   "id": "5892c4b5",
   "metadata": {},
   "outputs": [
    {
     "data": {
      "text/plain": [
       "BaggingRegressor(n_estimators=11, random_state=45)"
      ]
     },
     "execution_count": 81,
     "metadata": {},
     "output_type": "execute_result"
    }
   ],
   "source": [
    "bag_tuned.fit(X_train, y_train)"
   ]
  },
  {
   "cell_type": "code",
   "execution_count": 82,
   "id": "7f5948a8",
   "metadata": {},
   "outputs": [],
   "source": [
    "y_pred = bag_tuned.predict(X_test)"
   ]
  },
  {
   "cell_type": "code",
   "execution_count": 83,
   "id": "071fb8a1",
   "metadata": {},
   "outputs": [
    {
     "data": {
      "text/plain": [
       "11.484277269618588"
      ]
     },
     "execution_count": 83,
     "metadata": {},
     "output_type": "execute_result"
    }
   ],
   "source": [
    "np.sqrt(mean_squared_error(y_test, y_pred))"
   ]
  },
  {
   "cell_type": "markdown",
   "id": "4648229a",
   "metadata": {},
   "source": [
    "### 2.4. Random Forests"
   ]
  },
  {
   "cell_type": "code",
   "execution_count": 84,
   "id": "69c15249",
   "metadata": {},
   "outputs": [],
   "source": [
    "X = df.drop(df.columns[[0,1,2,3,7]], axis = 1)\n",
    "y = df[\"NewCO2Emisyon\"]\n",
    "X_train, X_test, y_train, y_test = train_test_split(X, y, test_size=0.25, random_state=42)\n",
    "training = df.copy()"
   ]
  },
  {
   "cell_type": "code",
   "execution_count": 85,
   "id": "3e704e28",
   "metadata": {},
   "outputs": [
    {
     "data": {
      "text/plain": [
       "RandomForestRegressor(random_state=42)"
      ]
     },
     "execution_count": 85,
     "metadata": {},
     "output_type": "execute_result"
    }
   ],
   "source": [
    "rf_model = RandomForestRegressor(random_state = 42)\n",
    "rf_model.fit(X_train, y_train)"
   ]
  },
  {
   "cell_type": "markdown",
   "id": "41f45b1d",
   "metadata": {},
   "source": [
    "### Tahmin"
   ]
  },
  {
   "cell_type": "code",
   "execution_count": 86,
   "id": "22fa025c",
   "metadata": {},
   "outputs": [
    {
     "data": {
      "text/plain": [
       "array([308.655    , 224.4647197, 306.04     , 439.25     , 205.5136811])"
      ]
     },
     "execution_count": 86,
     "metadata": {},
     "output_type": "execute_result"
    }
   ],
   "source": [
    "rf_model.predict(X_test)[0:5]"
   ]
  },
  {
   "cell_type": "code",
   "execution_count": 87,
   "id": "a23e0f91",
   "metadata": {},
   "outputs": [],
   "source": [
    "y_pred = rf_model.predict(X_test)"
   ]
  },
  {
   "cell_type": "code",
   "execution_count": 88,
   "id": "a464fc9b",
   "metadata": {},
   "outputs": [
    {
     "data": {
      "text/plain": [
       "11.832323705885358"
      ]
     },
     "execution_count": 88,
     "metadata": {},
     "output_type": "execute_result"
    }
   ],
   "source": [
    "np.sqrt(mean_squared_error(y_test, y_pred))"
   ]
  },
  {
   "cell_type": "markdown",
   "id": "6e27a875",
   "metadata": {},
   "source": [
    "### Model Tuning"
   ]
  },
  {
   "cell_type": "code",
   "execution_count": 89,
   "id": "f5d1560c",
   "metadata": {},
   "outputs": [],
   "source": [
    "rf_params = {'max_depth': list(range(1,10)),\n",
    "            'max_features': [3,5,10,15],\n",
    "            'n_estimators' : [100, 200, 500, 1000, 2000]}\n",
    "rf_model = RandomForestRegressor(random_state = 42)\n",
    "rf_cv_model = GridSearchCV(rf_model, \n",
    "                           rf_params, \n",
    "                           cv = 10, \n",
    "                            n_jobs = -1)\n"
   ]
  },
  {
   "cell_type": "code",
   "execution_count": 90,
   "id": "a14d12d3",
   "metadata": {},
   "outputs": [
    {
     "data": {
      "text/plain": [
       "{'max_depth': 8, 'max_features': 3, 'n_estimators': 2000}"
      ]
     },
     "execution_count": 90,
     "metadata": {},
     "output_type": "execute_result"
    }
   ],
   "source": [
    "rf_cv_model.fit(X_train, y_train)\n",
    "rf_cv_model.best_params_"
   ]
  },
  {
   "cell_type": "code",
   "execution_count": 91,
   "id": "2c112b48",
   "metadata": {},
   "outputs": [],
   "source": [
    "rf_tuned = RandomForestRegressor(max_depth  = 8, \n",
    "                                 max_features = 3, \n",
    "                                 n_estimators =2000)"
   ]
  },
  {
   "cell_type": "code",
   "execution_count": 92,
   "id": "19d58ac0",
   "metadata": {},
   "outputs": [
    {
     "data": {
      "text/plain": [
       "RandomForestRegressor(max_depth=8, max_features=3, n_estimators=2000)"
      ]
     },
     "execution_count": 92,
     "metadata": {},
     "output_type": "execute_result"
    }
   ],
   "source": [
    "rf_tuned.fit(X_train, y_train)"
   ]
  },
  {
   "cell_type": "code",
   "execution_count": 93,
   "id": "9e20c375",
   "metadata": {},
   "outputs": [
    {
     "data": {
      "text/plain": [
       "11.807432071971633"
      ]
     },
     "execution_count": 93,
     "metadata": {},
     "output_type": "execute_result"
    }
   ],
   "source": [
    "y_pred = rf_tuned.predict(X_test)\n",
    "np.sqrt(mean_squared_error(y_test, y_pred))"
   ]
  },
  {
   "cell_type": "code",
   "execution_count": 94,
   "id": "ce352176",
   "metadata": {},
   "outputs": [],
   "source": [
    "#degiskenlerin onem duzeyine bir bakalim.\n",
    "Importance = pd.DataFrame({\"Importance\": rf_tuned.feature_importances_*100},\n",
    "                         index = X_train.columns)"
   ]
  },
  {
   "cell_type": "code",
   "execution_count": 95,
   "id": "0968b5bd",
   "metadata": {},
   "outputs": [
    {
     "data": {
      "text/plain": [
       "Text(0.5, 0, 'Değişken Önem Düzeyleri')"
      ]
     },
     "execution_count": 95,
     "metadata": {},
     "output_type": "execute_result"
    },
    {
     "data": {
      "image/png": "[encoded data removed]",
      "text/plain": [
       "<Figure size 432x288 with 1 Axes>"
      ]
     },
     "metadata": {
      "needs_background": "light"
     },
     "output_type": "display_data"
    }
   ],
   "source": [
    "Importance.sort_values(by = \"Importance\", \n",
    "                       axis = 0, \n",
    "                       ascending = True).plot(kind =\"barh\", color = \"g\")\n",
    "\n",
    "plt.xlabel(\"Değişken Önem Düzeyleri\")"
   ]
  },
  {
   "cell_type": "markdown",
   "id": "9867c93f",
   "metadata": {},
   "source": [
    "### 2.5. Gradient Boosting Machines (GBM)"
   ]
  },
  {
   "cell_type": "code",
   "execution_count": 96,
   "id": "a1ed5961",
   "metadata": {},
   "outputs": [],
   "source": [
    "X = df.drop(df.columns[[0,1,2,3,7]], axis = 1)\n",
    "y = df[\"NewCO2Emisyon\"]\n",
    "X_train, X_test, y_train, y_test = train_test_split(X, y, test_size=0.25, random_state=42)\n",
    "training = df.copy()"
   ]
  },
  {
   "cell_type": "code",
   "execution_count": 97,
   "id": "9ea55f04",
   "metadata": {},
   "outputs": [
    {
     "data": {
      "text/plain": [
       "GradientBoostingRegressor()"
      ]
     },
     "execution_count": 97,
     "metadata": {},
     "output_type": "execute_result"
    }
   ],
   "source": [
    "gbm_model = GradientBoostingRegressor()\n",
    "gbm_model.fit(X_train, y_train)"
   ]
  },
  {
   "cell_type": "markdown",
   "id": "2c61674e",
   "metadata": {},
   "source": [
    "### Tahmin"
   ]
  },
  {
   "cell_type": "code",
   "execution_count": 98,
   "id": "790ae478",
   "metadata": {},
   "outputs": [
    {
     "data": {
      "text/plain": [
       "8.67089690720073"
      ]
     },
     "execution_count": 98,
     "metadata": {},
     "output_type": "execute_result"
    }
   ],
   "source": [
    "y_pred = gbm_model.predict(X_test)\n",
    "np.sqrt(mean_squared_error(y_test, y_pred))"
   ]
  },
  {
   "cell_type": "markdown",
   "id": "cb38481c",
   "metadata": {},
   "source": [
    "### Model Tuning"
   ]
  },
  {
   "cell_type": "code",
   "execution_count": 99,
   "id": "3110208b",
   "metadata": {},
   "outputs": [],
   "source": [
    "gbm_params = {\n",
    "    'learning_rate': [0.001, 0.01, 0.1, 0.2],\n",
    "    'max_depth': [3, 5, 8,50,100],\n",
    "    'n_estimators': [200, 500, 1000, 2000],\n",
    "    'subsample': [1,0.5,0.75],\n",
    "}"
   ]
  },
  {
   "cell_type": "code",
   "execution_count": 100,
   "id": "1e9fd8bc",
   "metadata": {},
   "outputs": [
    {
     "name": "stdout",
     "output_type": "stream",
     "text": [
      "Fitting 10 folds for each of 240 candidates, totalling 2400 fits\n",
      "0:05:56.931741\n"
     ]
    }
   ],
   "source": [
    "#algoritmanın calisma zamanina da bir bakalim\n",
    "t1 =  datetime.now()\n",
    "gbm = GradientBoostingRegressor()\n",
    "gbm_cv_model = GridSearchCV(gbm, gbm_params, cv = 10, n_jobs = -1, verbose = 2)\n",
    "gbm_cv_model.fit(X_train, y_train)\n",
    "\n",
    "t2 =  datetime.now()\n",
    "print(t2-t1)"
   ]
  },
  {
   "cell_type": "code",
   "execution_count": 101,
   "id": "89bebd10",
   "metadata": {},
   "outputs": [
    {
     "data": {
      "text/plain": [
       "{'learning_rate': 0.1, 'max_depth': 3, 'n_estimators': 200, 'subsample': 0.5}"
      ]
     },
     "execution_count": 101,
     "metadata": {},
     "output_type": "execute_result"
    }
   ],
   "source": [
    "gbm_cv_model.best_params_"
   ]
  },
  {
   "cell_type": "code",
   "execution_count": 102,
   "id": "57e29b52",
   "metadata": {},
   "outputs": [],
   "source": [
    "gbm_tuned = GradientBoostingRegressor(learning_rate = 0.1,  \n",
    "                                      max_depth = 3, \n",
    "                                      n_estimators = 200, \n",
    "                                      subsample = 0.5)\n",
    "\n",
    "gbm_tuned = gbm_tuned.fit(X_train,y_train)"
   ]
  },
  {
   "cell_type": "code",
   "execution_count": 103,
   "id": "183e837b",
   "metadata": {},
   "outputs": [
    {
     "data": {
      "text/plain": [
       "8.625314999248404"
      ]
     },
     "execution_count": 103,
     "metadata": {},
     "output_type": "execute_result"
    }
   ],
   "source": [
    "y_pred = gbm_tuned.predict(X_test)\n",
    "np.sqrt(mean_squared_error(y_test, y_pred))"
   ]
  },
  {
   "cell_type": "code",
   "execution_count": 104,
   "id": "bace7775",
   "metadata": {},
   "outputs": [],
   "source": [
    "Importance = pd.DataFrame({\"Importance\": gbm_tuned.feature_importances_*100},\n",
    "                         index = X_train.columns)"
   ]
  },
  {
   "cell_type": "code",
   "execution_count": 105,
   "id": "a8eebfdc",
   "metadata": {},
   "outputs": [
    {
     "data": {
      "text/plain": [
       "Text(0.5, 0, 'Değişken Önem Düzeyleri')"
      ]
     },
     "execution_count": 105,
     "metadata": {},
     "output_type": "execute_result"
    },
    {
     "data": {
      "image/png": "[encoded data removed]",
      "text/plain": [
       "<Figure size 432x288 with 1 Axes>"
      ]
     },
     "metadata": {
      "needs_background": "light"
     },
     "output_type": "display_data"
    }
   ],
   "source": [
    "Importance.sort_values(by = \"Importance\", \n",
    "                       axis = 0, \n",
    "                       ascending = True).plot(kind =\"barh\", color = \"g\")\n",
    "\n",
    "plt.xlabel(\"Değişken Önem Düzeyleri\")"
   ]
  },
  {
   "cell_type": "markdown",
   "id": "00401c35",
   "metadata": {},
   "source": [
    "### 2.6. XGBoost (eXtreme Gradient Boosting)"
   ]
  },
  {
   "cell_type": "code",
   "execution_count": 106,
   "id": "e616dd4c",
   "metadata": {},
   "outputs": [],
   "source": [
    "X = df.drop(df.columns[[0,1,2,3,7]], axis = 1)\n",
    "y = df[\"NewCO2Emisyon\"]\n",
    "X_train, X_test, y_train, y_test = train_test_split(X, y, test_size=0.25, random_state=42)\n",
    "training = df.copy()"
   ]
  },
  {
   "cell_type": "code",
   "execution_count": 107,
   "id": "2a766915",
   "metadata": {},
   "outputs": [],
   "source": [
    "DM_train = xgb.DMatrix(data = X_train, label = y_train)\n",
    "DM_test = xgb.DMatrix(data = X_test, label = y_test)"
   ]
  },
  {
   "cell_type": "code",
   "execution_count": 108,
   "id": "c933d7c8",
   "metadata": {},
   "outputs": [],
   "source": [
    "xgb_model = XGBRegressor().fit(X_train, y_train)"
   ]
  },
  {
   "cell_type": "markdown",
   "id": "24818c7e",
   "metadata": {},
   "source": [
    "Tahmin"
   ]
  },
  {
   "cell_type": "code",
   "execution_count": 109,
   "id": "02a81526",
   "metadata": {},
   "outputs": [
    {
     "data": {
      "text/plain": [
       "8.49266260017561"
      ]
     },
     "execution_count": 109,
     "metadata": {},
     "output_type": "execute_result"
    }
   ],
   "source": [
    "y_pred = xgb_model.predict(X_test)\n",
    "np.sqrt(mean_squared_error(y_test, y_pred))"
   ]
  },
  {
   "cell_type": "markdown",
   "id": "001907f9",
   "metadata": {},
   "source": [
    "Model Tuning"
   ]
  },
  {
   "cell_type": "code",
   "execution_count": 110,
   "id": "9c007274",
   "metadata": {},
   "outputs": [],
   "source": [
    "xgb_grid = {\n",
    "     'colsample_bytree': [0.4, 0.5,0.6,0.9,1], \n",
    "     'n_estimators':[100, 200, 500, 1000],\n",
    "     'max_depth': [2,3,4,5,6],\n",
    "     'learning_rate': [0.1, 0.01, 0.5]\n",
    "}\n"
   ]
  },
  {
   "cell_type": "code",
   "execution_count": 111,
   "id": "5da920e6",
   "metadata": {},
   "outputs": [
    {
     "name": "stdout",
     "output_type": "stream",
     "text": [
      "Fitting 10 folds for each of 300 candidates, totalling 3000 fits\n",
      "0:01:30.345459\n"
     ]
    }
   ],
   "source": [
    "t1 =  datetime.now()\n",
    "\n",
    "xgb = XGBRegressor()\n",
    "xgb_cv = GridSearchCV(xgb, \n",
    "                      param_grid = xgb_grid, \n",
    "                      cv = 10, \n",
    "                      n_jobs = -1,\n",
    "                      verbose = 2)\n",
    "\n",
    "xgb_cv.fit(X_train, y_train)\n",
    "\n",
    "t2 =  datetime.now()\n",
    "print(t2-t1)"
   ]
  },
  {
   "cell_type": "code",
   "execution_count": 112,
   "id": "9ed5b93d",
   "metadata": {},
   "outputs": [
    {
     "data": {
      "text/plain": [
       "{'colsample_bytree': 1,\n",
       " 'learning_rate': 0.1,\n",
       " 'max_depth': 3,\n",
       " 'n_estimators': 100}"
      ]
     },
     "execution_count": 112,
     "metadata": {},
     "output_type": "execute_result"
    }
   ],
   "source": [
    "xgb_cv.best_params_"
   ]
  },
  {
   "cell_type": "code",
   "execution_count": 113,
   "id": "013bfa3d",
   "metadata": {},
   "outputs": [],
   "source": [
    "xgb_tuned = XGBRegressor(colsample_bytree = 1, \n",
    "                         learning_rate = 0.1, \n",
    "                         max_depth = 3, \n",
    "                         n_estimators = 100) \n",
    "\n",
    "xgb_tuned = xgb_tuned.fit(X_train,y_train)"
   ]
  },
  {
   "cell_type": "code",
   "execution_count": 114,
   "id": "9ecc3eee",
   "metadata": {},
   "outputs": [
    {
     "data": {
      "text/plain": [
       "9.108771440554069"
      ]
     },
     "execution_count": 114,
     "metadata": {},
     "output_type": "execute_result"
    }
   ],
   "source": [
    "y_pred = xgb_tuned.predict(X_test)\n",
    "np.sqrt(mean_squared_error(y_test, y_pred))"
   ]
  },
  {
   "cell_type": "markdown",
   "id": "a3f300f0",
   "metadata": {},
   "source": [
    "### 2.7. Light GBM"
   ]
  },
  {
   "cell_type": "code",
   "execution_count": 115,
   "id": "76c319e2",
   "metadata": {},
   "outputs": [],
   "source": [
    "X = df.drop(df.columns[[0,1,2,3,7]], axis = 1)\n",
    "y = df[\"NewCO2Emisyon\"]\n",
    "X_train, X_test, y_train, y_test = train_test_split(X, y, test_size=0.25, random_state=42)\n",
    "training = df.copy()"
   ]
  },
  {
   "cell_type": "code",
   "execution_count": 116,
   "id": "b3dc8bb9",
   "metadata": {},
   "outputs": [],
   "source": [
    "lgbm = LGBMRegressor()\n",
    "lgbm_model = lgbm.fit(X_train, y_train)"
   ]
  },
  {
   "cell_type": "markdown",
   "id": "489cabbf",
   "metadata": {},
   "source": [
    "### Tahmin"
   ]
  },
  {
   "cell_type": "code",
   "execution_count": 117,
   "id": "c1b34f5d",
   "metadata": {},
   "outputs": [],
   "source": [
    "y_pred = lgbm_model.predict(X_test, \n",
    "                            num_iteration = lgbm_model.best_iteration_)"
   ]
  },
  {
   "cell_type": "code",
   "execution_count": 118,
   "id": "e327f946",
   "metadata": {},
   "outputs": [
    {
     "data": {
      "text/plain": [
       "11.268910346784601"
      ]
     },
     "execution_count": 118,
     "metadata": {},
     "output_type": "execute_result"
    }
   ],
   "source": [
    "np.sqrt(mean_squared_error(y_test, y_pred))"
   ]
  },
  {
   "cell_type": "markdown",
   "id": "d960ac09",
   "metadata": {},
   "source": [
    "### Model Tuning"
   ]
  },
  {
   "cell_type": "code",
   "execution_count": 119,
   "id": "a14f0486",
   "metadata": {},
   "outputs": [],
   "source": [
    "lgbm_grid = {\n",
    "    'colsample_bytree': [0.4, 0.5,0.6,0.9,1],\n",
    "    'learning_rate': [0.01, 0.1, 0.5,1],\n",
    "    'n_estimators': [20, 40, 100, 200, 500,1000],\n",
    "    'max_depth': [1,2,3,4,5,6,7,8] }\n",
    "\n",
    "lgbm = LGBMRegressor()\n",
    "lgbm_cv_model = GridSearchCV(lgbm, lgbm_grid, cv=10, n_jobs = -1, verbose = 2)"
   ]
  },
  {
   "cell_type": "code",
   "execution_count": 120,
   "id": "6bd93cdd",
   "metadata": {},
   "outputs": [
    {
     "name": "stdout",
     "output_type": "stream",
     "text": [
      "Fitting 10 folds for each of 960 candidates, totalling 9600 fits\n",
      "0:02:24.539226\n"
     ]
    }
   ],
   "source": [
    "t1 =  datetime.now()\n",
    "lgbm_cv_model.fit(X_train, y_train)\n",
    "t2 =  datetime.now()\n",
    "print(t2-t1)"
   ]
  },
  {
   "cell_type": "code",
   "execution_count": 121,
   "id": "3633b32e",
   "metadata": {},
   "outputs": [
    {
     "data": {
      "text/plain": [
       "{'colsample_bytree': 0.9,\n",
       " 'learning_rate': 0.5,\n",
       " 'max_depth': 3,\n",
       " 'n_estimators': 1000}"
      ]
     },
     "execution_count": 121,
     "metadata": {},
     "output_type": "execute_result"
    }
   ],
   "source": [
    "lgbm_cv_model.best_params_"
   ]
  },
  {
   "cell_type": "code",
   "execution_count": 122,
   "id": "6702308a",
   "metadata": {},
   "outputs": [],
   "source": [
    "lgbm_tuned = LGBMRegressor(learning_rate = 0.5, \n",
    "                           max_depth = 3, \n",
    "                           n_estimators = 1000,\n",
    "                          colsample_bytree = 0.9)\n",
    "\n",
    "lgbm_tuned = lgbm_tuned.fit(X_train,y_train)"
   ]
  },
  {
   "cell_type": "code",
   "execution_count": 123,
   "id": "c90abbbe",
   "metadata": {},
   "outputs": [],
   "source": [
    "y_pred = lgbm_tuned.predict(X_test)"
   ]
  },
  {
   "cell_type": "code",
   "execution_count": 124,
   "id": "7c143b99",
   "metadata": {},
   "outputs": [
    {
     "data": {
      "text/plain": [
       "10.021568473521802"
      ]
     },
     "execution_count": 124,
     "metadata": {},
     "output_type": "execute_result"
    }
   ],
   "source": [
    "np.sqrt(mean_squared_error(y_test, y_pred))"
   ]
  },
  {
   "cell_type": "markdown",
   "id": "bd28e1c6",
   "metadata": {},
   "source": [
    "### 2.8. CatBoost\n"
   ]
  },
  {
   "cell_type": "code",
   "execution_count": 125,
   "id": "a7efd622",
   "metadata": {},
   "outputs": [],
   "source": [
    "X = df.drop(df.columns[[0,1,2,3,7]], axis = 1)\n",
    "y = df[\"NewCO2Emisyon\"]\n",
    "X_train, X_test, y_train, y_test = train_test_split(X, y, test_size=0.25, random_state=42)\n",
    "training = df.copy()"
   ]
  },
  {
   "cell_type": "code",
   "execution_count": 126,
   "id": "d88ca254",
   "metadata": {},
   "outputs": [
    {
     "name": "stdout",
     "output_type": "stream",
     "text": [
      "Learning rate set to 0.038708\n",
      "0:\tlearn: 60.4772236\ttotal: 131ms\tremaining: 2m 10s\n",
      "1:\tlearn: 58.5727618\ttotal: 132ms\tremaining: 1m 6s\n",
      "2:\tlearn: 56.7654948\ttotal: 134ms\tremaining: 44.4s\n",
      "3:\tlearn: 54.9200770\ttotal: 135ms\tremaining: 33.6s\n",
      "4:\tlearn: 53.2310693\ttotal: 136ms\tremaining: 27.1s\n",
      "5:\tlearn: 51.6238358\ttotal: 137ms\tremaining: 22.7s\n",
      "6:\tlearn: 50.0175301\ttotal: 139ms\tremaining: 19.6s\n",
      "7:\tlearn: 48.4319095\ttotal: 140ms\tremaining: 17.3s\n",
      "8:\tlearn: 46.9385087\ttotal: 141ms\tremaining: 15.5s\n",
      "9:\tlearn: 45.4576812\ttotal: 142ms\tremaining: 14.1s\n",
      "10:\tlearn: 44.0869731\ttotal: 144ms\tremaining: 12.9s\n",
      "11:\tlearn: 42.7585442\ttotal: 145ms\tremaining: 11.9s\n",
      "12:\tlearn: 41.4404001\ttotal: 146ms\tremaining: 11.1s\n",
      "13:\tlearn: 40.1803744\ttotal: 148ms\tremaining: 10.4s\n",
      "14:\tlearn: 39.0200011\ttotal: 149ms\tremaining: 9.77s\n",
      "15:\tlearn: 37.9045077\ttotal: 150ms\tremaining: 9.23s\n",
      "16:\tlearn: 36.8285603\ttotal: 151ms\tremaining: 8.75s\n",
      "17:\tlearn: 35.7823368\ttotal: 153ms\tremaining: 8.32s\n",
      "18:\tlearn: 34.7781936\ttotal: 154ms\tremaining: 7.94s\n",
      "19:\tlearn: 33.7895590\ttotal: 155ms\tremaining: 7.59s\n",
      "20:\tlearn: 32.8328379\ttotal: 156ms\tremaining: 7.29s\n",
      "21:\tlearn: 31.9467769\ttotal: 158ms\tremaining: 7.01s\n",
      "22:\tlearn: 31.0888637\ttotal: 159ms\tremaining: 6.76s\n",
      "23:\tlearn: 30.1938736\ttotal: 160ms\tremaining: 6.52s\n",
      "24:\tlearn: 29.3574774\ttotal: 162ms\tremaining: 6.31s\n",
      "25:\tlearn: 28.5699583\ttotal: 163ms\tremaining: 6.11s\n",
      "26:\tlearn: 27.8048780\ttotal: 164ms\tremaining: 5.92s\n",
      "27:\tlearn: 27.0680278\ttotal: 166ms\tremaining: 5.75s\n",
      "28:\tlearn: 26.4305581\ttotal: 167ms\tremaining: 5.59s\n",
      "29:\tlearn: 25.7106781\ttotal: 168ms\tremaining: 5.44s\n",
      "30:\tlearn: 25.0378037\ttotal: 169ms\tremaining: 5.29s\n",
      "31:\tlearn: 24.4479934\ttotal: 171ms\tremaining: 5.16s\n",
      "32:\tlearn: 23.8248929\ttotal: 172ms\tremaining: 5.04s\n",
      "33:\tlearn: 23.2316900\ttotal: 174ms\tremaining: 4.93s\n",
      "34:\tlearn: 22.6739591\ttotal: 175ms\tremaining: 4.82s\n",
      "35:\tlearn: 22.1561921\ttotal: 176ms\tremaining: 4.71s\n",
      "36:\tlearn: 21.6788146\ttotal: 177ms\tremaining: 4.61s\n",
      "37:\tlearn: 21.1643837\ttotal: 178ms\tremaining: 4.52s\n",
      "38:\tlearn: 20.6998308\ttotal: 180ms\tremaining: 4.43s\n",
      "39:\tlearn: 20.2404025\ttotal: 181ms\tremaining: 4.34s\n",
      "40:\tlearn: 19.7701364\ttotal: 182ms\tremaining: 4.26s\n",
      "41:\tlearn: 19.3651933\ttotal: 183ms\tremaining: 4.18s\n",
      "42:\tlearn: 18.9626083\ttotal: 185ms\tremaining: 4.11s\n",
      "43:\tlearn: 18.5511174\ttotal: 186ms\tremaining: 4.04s\n",
      "44:\tlearn: 18.1529299\ttotal: 187ms\tremaining: 3.97s\n",
      "45:\tlearn: 17.7853758\ttotal: 188ms\tremaining: 3.9s\n",
      "46:\tlearn: 17.3754929\ttotal: 190ms\tremaining: 3.84s\n",
      "47:\tlearn: 17.0666675\ttotal: 191ms\tremaining: 3.78s\n",
      "48:\tlearn: 16.7691043\ttotal: 192ms\tremaining: 3.72s\n",
      "49:\tlearn: 16.4687926\ttotal: 193ms\tremaining: 3.67s\n",
      "50:\tlearn: 16.1587144\ttotal: 194ms\tremaining: 3.62s\n",
      "51:\tlearn: 15.8740223\ttotal: 196ms\tremaining: 3.56s\n",
      "52:\tlearn: 15.7019550\ttotal: 196ms\tremaining: 3.5s\n",
      "53:\tlearn: 15.4332437\ttotal: 197ms\tremaining: 3.46s\n",
      "54:\tlearn: 15.1549316\ttotal: 199ms\tremaining: 3.41s\n",
      "55:\tlearn: 14.9036415\ttotal: 200ms\tremaining: 3.37s\n",
      "56:\tlearn: 14.6722471\ttotal: 201ms\tremaining: 3.32s\n",
      "57:\tlearn: 14.4487079\ttotal: 202ms\tremaining: 3.28s\n",
      "58:\tlearn: 14.2796618\ttotal: 203ms\tremaining: 3.23s\n",
      "59:\tlearn: 14.0850997\ttotal: 204ms\tremaining: 3.19s\n",
      "60:\tlearn: 13.8573307\ttotal: 205ms\tremaining: 3.15s\n",
      "61:\tlearn: 13.6291106\ttotal: 206ms\tremaining: 3.11s\n",
      "62:\tlearn: 13.4334452\ttotal: 207ms\tremaining: 3.08s\n",
      "63:\tlearn: 13.2629857\ttotal: 208ms\tremaining: 3.04s\n",
      "64:\tlearn: 13.0857262\ttotal: 209ms\tremaining: 3s\n",
      "65:\tlearn: 12.9269218\ttotal: 210ms\tremaining: 2.97s\n",
      "66:\tlearn: 12.7749084\ttotal: 211ms\tremaining: 2.94s\n",
      "67:\tlearn: 12.6577383\ttotal: 212ms\tremaining: 2.91s\n",
      "68:\tlearn: 12.4910065\ttotal: 213ms\tremaining: 2.88s\n",
      "69:\tlearn: 12.3601192\ttotal: 214ms\tremaining: 2.85s\n",
      "70:\tlearn: 12.2249756\ttotal: 215ms\tremaining: 2.82s\n",
      "71:\tlearn: 12.0881206\ttotal: 216ms\tremaining: 2.79s\n",
      "72:\tlearn: 11.9723444\ttotal: 217ms\tremaining: 2.76s\n",
      "73:\tlearn: 11.8039990\ttotal: 219ms\tremaining: 2.73s\n",
      "74:\tlearn: 11.6666640\ttotal: 220ms\tremaining: 2.71s\n",
      "75:\tlearn: 11.5534940\ttotal: 221ms\tremaining: 2.68s\n",
      "76:\tlearn: 11.4673081\ttotal: 222ms\tremaining: 2.66s\n",
      "77:\tlearn: 11.3617144\ttotal: 223ms\tremaining: 2.64s\n",
      "78:\tlearn: 11.2659402\ttotal: 224ms\tremaining: 2.62s\n",
      "79:\tlearn: 11.1780897\ttotal: 226ms\tremaining: 2.6s\n",
      "80:\tlearn: 11.1009288\ttotal: 227ms\tremaining: 2.57s\n",
      "81:\tlearn: 10.9629808\ttotal: 228ms\tremaining: 2.55s\n",
      "82:\tlearn: 10.8474481\ttotal: 229ms\tremaining: 2.53s\n",
      "83:\tlearn: 10.7395839\ttotal: 231ms\tremaining: 2.52s\n",
      "84:\tlearn: 10.6676804\ttotal: 232ms\tremaining: 2.5s\n",
      "85:\tlearn: 10.5929506\ttotal: 233ms\tremaining: 2.48s\n",
      "86:\tlearn: 10.5281408\ttotal: 234ms\tremaining: 2.46s\n",
      "87:\tlearn: 10.4616335\ttotal: 236ms\tremaining: 2.44s\n",
      "88:\tlearn: 10.3891325\ttotal: 237ms\tremaining: 2.42s\n",
      "89:\tlearn: 10.3436695\ttotal: 238ms\tremaining: 2.41s\n",
      "90:\tlearn: 10.2774642\ttotal: 239ms\tremaining: 2.39s\n",
      "91:\tlearn: 10.1970635\ttotal: 240ms\tremaining: 2.37s\n",
      "92:\tlearn: 10.1337014\ttotal: 242ms\tremaining: 2.35s\n",
      "93:\tlearn: 10.0605053\ttotal: 243ms\tremaining: 2.34s\n",
      "94:\tlearn: 10.0048273\ttotal: 244ms\tremaining: 2.32s\n",
      "95:\tlearn: 9.9361188\ttotal: 245ms\tremaining: 2.31s\n",
      "96:\tlearn: 9.8989755\ttotal: 246ms\tremaining: 2.29s\n",
      "97:\tlearn: 9.8100216\ttotal: 247ms\tremaining: 2.28s\n",
      "98:\tlearn: 9.7424293\ttotal: 249ms\tremaining: 2.26s\n",
      "99:\tlearn: 9.6647409\ttotal: 250ms\tremaining: 2.25s\n",
      "100:\tlearn: 9.6093892\ttotal: 251ms\tremaining: 2.23s\n",
      "101:\tlearn: 9.5704453\ttotal: 252ms\tremaining: 2.22s\n",
      "102:\tlearn: 9.4984332\ttotal: 253ms\tremaining: 2.2s\n",
      "103:\tlearn: 9.4538543\ttotal: 254ms\tremaining: 2.19s\n",
      "104:\tlearn: 9.3710734\ttotal: 255ms\tremaining: 2.18s\n",
      "105:\tlearn: 9.3209600\ttotal: 256ms\tremaining: 2.16s\n",
      "106:\tlearn: 9.2481905\ttotal: 258ms\tremaining: 2.15s\n",
      "107:\tlearn: 9.1979901\ttotal: 259ms\tremaining: 2.14s\n",
      "108:\tlearn: 9.1626230\ttotal: 260ms\tremaining: 2.13s\n",
      "109:\tlearn: 9.0975234\ttotal: 261ms\tremaining: 2.11s\n",
      "110:\tlearn: 9.0513237\ttotal: 262ms\tremaining: 2.1s\n",
      "111:\tlearn: 8.9868535\ttotal: 264ms\tremaining: 2.09s\n",
      "112:\tlearn: 8.9508101\ttotal: 265ms\tremaining: 2.08s\n",
      "113:\tlearn: 8.8801375\ttotal: 266ms\tremaining: 2.07s\n",
      "114:\tlearn: 8.8473442\ttotal: 268ms\tremaining: 2.06s\n",
      "115:\tlearn: 8.8112702\ttotal: 269ms\tremaining: 2.05s\n",
      "116:\tlearn: 8.7698907\ttotal: 270ms\tremaining: 2.04s\n",
      "117:\tlearn: 8.7152840\ttotal: 271ms\tremaining: 2.02s\n",
      "118:\tlearn: 8.6673482\ttotal: 272ms\tremaining: 2.01s\n",
      "119:\tlearn: 8.6225224\ttotal: 273ms\tremaining: 2s\n",
      "120:\tlearn: 8.6003237\ttotal: 274ms\tremaining: 1.99s\n",
      "121:\tlearn: 8.5668949\ttotal: 275ms\tremaining: 1.98s\n",
      "122:\tlearn: 8.5367666\ttotal: 276ms\tremaining: 1.97s\n",
      "123:\tlearn: 8.5029988\ttotal: 278ms\tremaining: 1.96s\n",
      "124:\tlearn: 8.4753206\ttotal: 279ms\tremaining: 1.95s\n",
      "125:\tlearn: 8.4393955\ttotal: 280ms\tremaining: 1.94s\n",
      "126:\tlearn: 8.3993881\ttotal: 281ms\tremaining: 1.93s\n",
      "127:\tlearn: 8.3700034\ttotal: 282ms\tremaining: 1.92s\n",
      "128:\tlearn: 8.3372247\ttotal: 283ms\tremaining: 1.91s\n",
      "129:\tlearn: 8.2953263\ttotal: 284ms\tremaining: 1.9s\n",
      "130:\tlearn: 8.2612267\ttotal: 285ms\tremaining: 1.89s\n",
      "131:\tlearn: 8.2216102\ttotal: 286ms\tremaining: 1.88s\n",
      "132:\tlearn: 8.1954426\ttotal: 287ms\tremaining: 1.87s\n",
      "133:\tlearn: 8.1592734\ttotal: 289ms\tremaining: 1.86s\n",
      "134:\tlearn: 8.1322207\ttotal: 290ms\tremaining: 1.86s\n",
      "135:\tlearn: 8.0972693\ttotal: 291ms\tremaining: 1.85s\n",
      "136:\tlearn: 8.0619667\ttotal: 292ms\tremaining: 1.84s\n",
      "137:\tlearn: 8.0355540\ttotal: 293ms\tremaining: 1.83s\n",
      "138:\tlearn: 7.9997617\ttotal: 294ms\tremaining: 1.82s\n",
      "139:\tlearn: 7.9824253\ttotal: 295ms\tremaining: 1.81s\n",
      "140:\tlearn: 7.9505259\ttotal: 297ms\tremaining: 1.81s\n",
      "141:\tlearn: 7.9243334\ttotal: 298ms\tremaining: 1.8s\n",
      "142:\tlearn: 7.8970695\ttotal: 299ms\tremaining: 1.79s\n",
      "143:\tlearn: 7.8698542\ttotal: 301ms\tremaining: 1.79s\n",
      "144:\tlearn: 7.8348368\ttotal: 302ms\tremaining: 1.78s\n",
      "145:\tlearn: 7.8131400\ttotal: 303ms\tremaining: 1.77s\n",
      "146:\tlearn: 7.7892822\ttotal: 304ms\tremaining: 1.76s\n",
      "147:\tlearn: 7.7617929\ttotal: 305ms\tremaining: 1.75s\n",
      "148:\tlearn: 7.7417825\ttotal: 306ms\tremaining: 1.75s\n",
      "149:\tlearn: 7.7126675\ttotal: 307ms\tremaining: 1.74s\n",
      "150:\tlearn: 7.6883241\ttotal: 308ms\tremaining: 1.73s\n",
      "151:\tlearn: 7.6706329\ttotal: 309ms\tremaining: 1.73s\n",
      "152:\tlearn: 7.6461963\ttotal: 310ms\tremaining: 1.72s\n",
      "153:\tlearn: 7.6060947\ttotal: 312ms\tremaining: 1.71s\n",
      "154:\tlearn: 7.5709837\ttotal: 313ms\tremaining: 1.71s\n",
      "155:\tlearn: 7.5485301\ttotal: 314ms\tremaining: 1.7s\n",
      "156:\tlearn: 7.5362217\ttotal: 315ms\tremaining: 1.69s\n",
      "157:\tlearn: 7.5145821\ttotal: 316ms\tremaining: 1.69s\n",
      "158:\tlearn: 7.4908886\ttotal: 318ms\tremaining: 1.68s\n",
      "159:\tlearn: 7.4741949\ttotal: 319ms\tremaining: 1.67s\n",
      "160:\tlearn: 7.4492889\ttotal: 320ms\tremaining: 1.67s\n",
      "161:\tlearn: 7.4229577\ttotal: 321ms\tremaining: 1.66s\n",
      "162:\tlearn: 7.4010603\ttotal: 322ms\tremaining: 1.65s\n",
      "163:\tlearn: 7.3754319\ttotal: 324ms\tremaining: 1.65s\n",
      "164:\tlearn: 7.3425321\ttotal: 325ms\tremaining: 1.64s\n",
      "165:\tlearn: 7.3270615\ttotal: 326ms\tremaining: 1.64s\n",
      "166:\tlearn: 7.2922064\ttotal: 328ms\tremaining: 1.63s\n",
      "167:\tlearn: 7.2746694\ttotal: 329ms\tremaining: 1.63s\n",
      "168:\tlearn: 7.2716971\ttotal: 330ms\tremaining: 1.62s\n",
      "169:\tlearn: 7.2425281\ttotal: 331ms\tremaining: 1.61s\n",
      "170:\tlearn: 7.2181972\ttotal: 332ms\tremaining: 1.61s\n",
      "171:\tlearn: 7.1982874\ttotal: 333ms\tremaining: 1.6s\n",
      "172:\tlearn: 7.1794947\ttotal: 335ms\tremaining: 1.6s\n",
      "173:\tlearn: 7.1640802\ttotal: 336ms\tremaining: 1.59s\n"
     ]
    },
    {
     "name": "stdout",
     "output_type": "stream",
     "text": [
      "174:\tlearn: 7.1482653\ttotal: 338ms\tremaining: 1.59s\n",
      "175:\tlearn: 7.1243327\ttotal: 339ms\tremaining: 1.59s\n",
      "176:\tlearn: 7.1046250\ttotal: 340ms\tremaining: 1.58s\n",
      "177:\tlearn: 7.0785319\ttotal: 342ms\tremaining: 1.58s\n",
      "178:\tlearn: 7.0608076\ttotal: 343ms\tremaining: 1.57s\n",
      "179:\tlearn: 7.0439387\ttotal: 344ms\tremaining: 1.57s\n",
      "180:\tlearn: 7.0310376\ttotal: 345ms\tremaining: 1.56s\n",
      "181:\tlearn: 7.0153453\ttotal: 347ms\tremaining: 1.56s\n",
      "182:\tlearn: 6.9999442\ttotal: 348ms\tremaining: 1.55s\n",
      "183:\tlearn: 6.9874816\ttotal: 349ms\tremaining: 1.55s\n",
      "184:\tlearn: 6.9665820\ttotal: 350ms\tremaining: 1.54s\n",
      "185:\tlearn: 6.9366767\ttotal: 352ms\tremaining: 1.54s\n",
      "186:\tlearn: 6.9160380\ttotal: 353ms\tremaining: 1.53s\n",
      "187:\tlearn: 6.8946174\ttotal: 354ms\tremaining: 1.53s\n",
      "188:\tlearn: 6.8819135\ttotal: 355ms\tremaining: 1.52s\n",
      "189:\tlearn: 6.8686784\ttotal: 357ms\tremaining: 1.52s\n",
      "190:\tlearn: 6.8661284\ttotal: 358ms\tremaining: 1.51s\n",
      "191:\tlearn: 6.8527597\ttotal: 359ms\tremaining: 1.51s\n",
      "192:\tlearn: 6.8398959\ttotal: 360ms\tremaining: 1.5s\n",
      "193:\tlearn: 6.8379805\ttotal: 361ms\tremaining: 1.5s\n",
      "194:\tlearn: 6.8266447\ttotal: 362ms\tremaining: 1.5s\n",
      "195:\tlearn: 6.8081261\ttotal: 364ms\tremaining: 1.49s\n",
      "196:\tlearn: 6.7978135\ttotal: 365ms\tremaining: 1.49s\n",
      "197:\tlearn: 6.7870884\ttotal: 366ms\tremaining: 1.48s\n",
      "198:\tlearn: 6.7618774\ttotal: 367ms\tremaining: 1.48s\n",
      "199:\tlearn: 6.7371929\ttotal: 368ms\tremaining: 1.47s\n",
      "200:\tlearn: 6.7319193\ttotal: 370ms\tremaining: 1.47s\n",
      "201:\tlearn: 6.7212168\ttotal: 371ms\tremaining: 1.46s\n",
      "202:\tlearn: 6.6998658\ttotal: 372ms\tremaining: 1.46s\n",
      "203:\tlearn: 6.6879717\ttotal: 373ms\tremaining: 1.46s\n",
      "204:\tlearn: 6.6683394\ttotal: 374ms\tremaining: 1.45s\n",
      "205:\tlearn: 6.6594294\ttotal: 375ms\tremaining: 1.45s\n",
      "206:\tlearn: 6.6324600\ttotal: 377ms\tremaining: 1.44s\n",
      "207:\tlearn: 6.6238885\ttotal: 378ms\tremaining: 1.44s\n",
      "208:\tlearn: 6.6187037\ttotal: 379ms\tremaining: 1.43s\n",
      "209:\tlearn: 6.6105733\ttotal: 380ms\tremaining: 1.43s\n",
      "210:\tlearn: 6.6013584\ttotal: 381ms\tremaining: 1.42s\n",
      "211:\tlearn: 6.5860194\ttotal: 382ms\tremaining: 1.42s\n",
      "212:\tlearn: 6.5585626\ttotal: 383ms\tremaining: 1.42s\n",
      "213:\tlearn: 6.5432217\ttotal: 384ms\tremaining: 1.41s\n",
      "214:\tlearn: 6.5355673\ttotal: 385ms\tremaining: 1.41s\n",
      "215:\tlearn: 6.5261832\ttotal: 386ms\tremaining: 1.4s\n",
      "216:\tlearn: 6.5101641\ttotal: 388ms\tremaining: 1.4s\n",
      "217:\tlearn: 6.5015973\ttotal: 389ms\tremaining: 1.39s\n",
      "218:\tlearn: 6.4977382\ttotal: 390ms\tremaining: 1.39s\n",
      "219:\tlearn: 6.4878640\ttotal: 391ms\tremaining: 1.39s\n",
      "220:\tlearn: 6.4838980\ttotal: 392ms\tremaining: 1.38s\n",
      "221:\tlearn: 6.4805692\ttotal: 393ms\tremaining: 1.38s\n",
      "222:\tlearn: 6.4734501\ttotal: 394ms\tremaining: 1.37s\n",
      "223:\tlearn: 6.4720362\ttotal: 395ms\tremaining: 1.37s\n",
      "224:\tlearn: 6.4649177\ttotal: 396ms\tremaining: 1.36s\n",
      "225:\tlearn: 6.4430391\ttotal: 397ms\tremaining: 1.36s\n",
      "226:\tlearn: 6.4175896\ttotal: 398ms\tremaining: 1.35s\n",
      "227:\tlearn: 6.4020179\ttotal: 399ms\tremaining: 1.35s\n",
      "228:\tlearn: 6.4005297\ttotal: 400ms\tremaining: 1.35s\n",
      "229:\tlearn: 6.3966087\ttotal: 401ms\tremaining: 1.34s\n",
      "230:\tlearn: 6.3821873\ttotal: 403ms\tremaining: 1.34s\n",
      "231:\tlearn: 6.3777574\ttotal: 404ms\tremaining: 1.34s\n",
      "232:\tlearn: 6.3556089\ttotal: 405ms\tremaining: 1.33s\n",
      "233:\tlearn: 6.3490967\ttotal: 406ms\tremaining: 1.33s\n",
      "234:\tlearn: 6.3458554\ttotal: 407ms\tremaining: 1.33s\n",
      "235:\tlearn: 6.3446150\ttotal: 409ms\tremaining: 1.32s\n",
      "236:\tlearn: 6.3416710\ttotal: 410ms\tremaining: 1.32s\n",
      "237:\tlearn: 6.3369155\ttotal: 411ms\tremaining: 1.31s\n",
      "238:\tlearn: 6.3329923\ttotal: 412ms\tremaining: 1.31s\n",
      "239:\tlearn: 6.3107756\ttotal: 413ms\tremaining: 1.31s\n",
      "240:\tlearn: 6.3069656\ttotal: 414ms\tremaining: 1.3s\n",
      "241:\tlearn: 6.3018389\ttotal: 416ms\tremaining: 1.3s\n",
      "242:\tlearn: 6.2985045\ttotal: 417ms\tremaining: 1.3s\n",
      "243:\tlearn: 6.2769758\ttotal: 418ms\tremaining: 1.29s\n",
      "244:\tlearn: 6.2610623\ttotal: 419ms\tremaining: 1.29s\n",
      "245:\tlearn: 6.2599144\ttotal: 420ms\tremaining: 1.29s\n",
      "246:\tlearn: 6.2563005\ttotal: 422ms\tremaining: 1.28s\n",
      "247:\tlearn: 6.2552168\ttotal: 423ms\tremaining: 1.28s\n",
      "248:\tlearn: 6.2402374\ttotal: 424ms\tremaining: 1.28s\n",
      "249:\tlearn: 6.2193462\ttotal: 425ms\tremaining: 1.28s\n",
      "250:\tlearn: 6.2071581\ttotal: 426ms\tremaining: 1.27s\n",
      "251:\tlearn: 6.1960962\ttotal: 428ms\tremaining: 1.27s\n",
      "252:\tlearn: 6.1927565\ttotal: 429ms\tremaining: 1.27s\n",
      "253:\tlearn: 6.1897773\ttotal: 430ms\tremaining: 1.26s\n",
      "254:\tlearn: 6.1674944\ttotal: 431ms\tremaining: 1.26s\n",
      "255:\tlearn: 6.1646456\ttotal: 432ms\tremaining: 1.26s\n",
      "256:\tlearn: 6.1588452\ttotal: 434ms\tremaining: 1.25s\n",
      "257:\tlearn: 6.1557046\ttotal: 435ms\tremaining: 1.25s\n",
      "258:\tlearn: 6.1436537\ttotal: 436ms\tremaining: 1.25s\n",
      "259:\tlearn: 6.1277110\ttotal: 438ms\tremaining: 1.25s\n",
      "260:\tlearn: 6.1216627\ttotal: 439ms\tremaining: 1.24s\n",
      "261:\tlearn: 6.1204090\ttotal: 440ms\tremaining: 1.24s\n",
      "262:\tlearn: 6.1194400\ttotal: 441ms\tremaining: 1.24s\n",
      "263:\tlearn: 6.1163607\ttotal: 442ms\tremaining: 1.23s\n",
      "264:\tlearn: 6.1154753\ttotal: 443ms\tremaining: 1.23s\n",
      "265:\tlearn: 6.1133313\ttotal: 444ms\tremaining: 1.23s\n",
      "266:\tlearn: 6.1124238\ttotal: 446ms\tremaining: 1.22s\n",
      "267:\tlearn: 6.1110493\ttotal: 447ms\tremaining: 1.22s\n",
      "268:\tlearn: 6.0958560\ttotal: 448ms\tremaining: 1.22s\n",
      "269:\tlearn: 6.0806533\ttotal: 449ms\tremaining: 1.21s\n",
      "270:\tlearn: 6.0664445\ttotal: 450ms\tremaining: 1.21s\n",
      "271:\tlearn: 6.0655091\ttotal: 451ms\tremaining: 1.21s\n",
      "272:\tlearn: 6.0646525\ttotal: 452ms\tremaining: 1.2s\n",
      "273:\tlearn: 6.0638155\ttotal: 454ms\tremaining: 1.2s\n",
      "274:\tlearn: 6.0618072\ttotal: 455ms\tremaining: 1.2s\n",
      "275:\tlearn: 6.0610444\ttotal: 456ms\tremaining: 1.2s\n",
      "276:\tlearn: 6.0401511\ttotal: 457ms\tremaining: 1.19s\n",
      "277:\tlearn: 6.0377279\ttotal: 458ms\tremaining: 1.19s\n",
      "278:\tlearn: 6.0324918\ttotal: 459ms\tremaining: 1.19s\n",
      "279:\tlearn: 6.0305330\ttotal: 460ms\tremaining: 1.18s\n",
      "280:\tlearn: 6.0193315\ttotal: 461ms\tremaining: 1.18s\n",
      "281:\tlearn: 5.9994904\ttotal: 462ms\tremaining: 1.18s\n",
      "282:\tlearn: 5.9867168\ttotal: 463ms\tremaining: 1.17s\n",
      "283:\tlearn: 5.9843477\ttotal: 464ms\tremaining: 1.17s\n",
      "284:\tlearn: 5.9723600\ttotal: 465ms\tremaining: 1.17s\n",
      "285:\tlearn: 5.9704835\ttotal: 467ms\tremaining: 1.16s\n",
      "286:\tlearn: 5.9686449\ttotal: 468ms\tremaining: 1.16s\n",
      "287:\tlearn: 5.9679108\ttotal: 469ms\tremaining: 1.16s\n",
      "288:\tlearn: 5.9656976\ttotal: 470ms\tremaining: 1.16s\n",
      "289:\tlearn: 5.9607066\ttotal: 471ms\tremaining: 1.15s\n",
      "290:\tlearn: 5.9393843\ttotal: 472ms\tremaining: 1.15s\n",
      "291:\tlearn: 5.9267017\ttotal: 473ms\tremaining: 1.15s\n",
      "292:\tlearn: 5.9221746\ttotal: 474ms\tremaining: 1.14s\n",
      "293:\tlearn: 5.9177912\ttotal: 475ms\tremaining: 1.14s\n",
      "294:\tlearn: 5.9135465\ttotal: 477ms\tremaining: 1.14s\n",
      "295:\tlearn: 5.9005218\ttotal: 478ms\tremaining: 1.14s\n",
      "296:\tlearn: 5.8906186\ttotal: 479ms\tremaining: 1.13s\n",
      "297:\tlearn: 5.8889644\ttotal: 480ms\tremaining: 1.13s\n",
      "298:\tlearn: 5.8848790\ttotal: 481ms\tremaining: 1.13s\n",
      "299:\tlearn: 5.8711902\ttotal: 482ms\tremaining: 1.13s\n",
      "300:\tlearn: 5.8705485\ttotal: 483ms\tremaining: 1.12s\n",
      "301:\tlearn: 5.8532160\ttotal: 485ms\tremaining: 1.12s\n",
      "302:\tlearn: 5.8431318\ttotal: 486ms\tremaining: 1.12s\n",
      "303:\tlearn: 5.8334112\ttotal: 487ms\tremaining: 1.11s\n",
      "304:\tlearn: 5.8314669\ttotal: 488ms\tremaining: 1.11s\n",
      "305:\tlearn: 5.8189537\ttotal: 489ms\tremaining: 1.11s\n",
      "306:\tlearn: 5.8149720\ttotal: 490ms\tremaining: 1.11s\n",
      "307:\tlearn: 5.8143646\ttotal: 491ms\tremaining: 1.1s\n",
      "308:\tlearn: 5.8004805\ttotal: 492ms\tremaining: 1.1s\n",
      "309:\tlearn: 5.7895324\ttotal: 493ms\tremaining: 1.1s\n",
      "310:\tlearn: 5.7857588\ttotal: 494ms\tremaining: 1.09s\n",
      "311:\tlearn: 5.7815685\ttotal: 495ms\tremaining: 1.09s\n",
      "312:\tlearn: 5.7809975\ttotal: 497ms\tremaining: 1.09s\n",
      "313:\tlearn: 5.7714692\ttotal: 498ms\tremaining: 1.09s\n",
      "314:\tlearn: 5.7673774\ttotal: 499ms\tremaining: 1.08s\n",
      "315:\tlearn: 5.7635159\ttotal: 500ms\tremaining: 1.08s\n",
      "316:\tlearn: 5.7548107\ttotal: 501ms\tremaining: 1.08s\n",
      "317:\tlearn: 5.7431894\ttotal: 502ms\tremaining: 1.08s\n",
      "318:\tlearn: 5.7337677\ttotal: 504ms\tremaining: 1.07s\n",
      "319:\tlearn: 5.7147007\ttotal: 505ms\tremaining: 1.07s\n",
      "320:\tlearn: 5.7110078\ttotal: 506ms\tremaining: 1.07s\n",
      "321:\tlearn: 5.7021413\ttotal: 508ms\tremaining: 1.07s\n",
      "322:\tlearn: 5.6987433\ttotal: 509ms\tremaining: 1.07s\n",
      "323:\tlearn: 5.6895352\ttotal: 510ms\tremaining: 1.06s\n",
      "324:\tlearn: 5.6798955\ttotal: 512ms\tremaining: 1.06s\n",
      "325:\tlearn: 5.6703867\ttotal: 513ms\tremaining: 1.06s\n",
      "326:\tlearn: 5.6611035\ttotal: 514ms\tremaining: 1.06s\n",
      "327:\tlearn: 5.6604109\ttotal: 515ms\tremaining: 1.05s\n",
      "328:\tlearn: 5.6573215\ttotal: 517ms\tremaining: 1.05s\n",
      "329:\tlearn: 5.6484997\ttotal: 518ms\tremaining: 1.05s\n",
      "330:\tlearn: 5.6391028\ttotal: 519ms\tremaining: 1.05s\n",
      "331:\tlearn: 5.6304135\ttotal: 521ms\tremaining: 1.05s\n",
      "332:\tlearn: 5.6275488\ttotal: 522ms\tremaining: 1.04s\n",
      "333:\tlearn: 5.6256852\ttotal: 523ms\tremaining: 1.04s\n",
      "334:\tlearn: 5.6078934\ttotal: 524ms\tremaining: 1.04s\n",
      "335:\tlearn: 5.5991528\ttotal: 526ms\tremaining: 1.04s\n",
      "336:\tlearn: 5.5857291\ttotal: 527ms\tremaining: 1.04s\n",
      "337:\tlearn: 5.5852358\ttotal: 528ms\tremaining: 1.03s\n",
      "338:\tlearn: 5.5823126\ttotal: 529ms\tremaining: 1.03s\n",
      "339:\tlearn: 5.5731051\ttotal: 531ms\tremaining: 1.03s\n",
      "340:\tlearn: 5.5647431\ttotal: 532ms\tremaining: 1.03s\n",
      "341:\tlearn: 5.5638175\ttotal: 533ms\tremaining: 1.03s\n",
      "342:\tlearn: 5.5556052\ttotal: 535ms\tremaining: 1.02s\n",
      "343:\tlearn: 5.5475502\ttotal: 536ms\tremaining: 1.02s\n",
      "344:\tlearn: 5.5390858\ttotal: 538ms\tremaining: 1.02s\n",
      "345:\tlearn: 5.5262576\ttotal: 539ms\tremaining: 1.02s\n",
      "346:\tlearn: 5.5254506\ttotal: 540ms\tremaining: 1.02s\n",
      "347:\tlearn: 5.5107453\ttotal: 542ms\tremaining: 1.01s\n",
      "348:\tlearn: 5.5035520\ttotal: 543ms\tremaining: 1.01s\n",
      "349:\tlearn: 5.5027015\ttotal: 544ms\tremaining: 1.01s\n",
      "350:\tlearn: 5.4955575\ttotal: 546ms\tremaining: 1.01s\n",
      "351:\tlearn: 5.4927248\ttotal: 547ms\tremaining: 1.01s\n",
      "352:\tlearn: 5.4898650\ttotal: 548ms\tremaining: 1s\n",
      "353:\tlearn: 5.4872051\ttotal: 550ms\tremaining: 1s\n",
      "354:\tlearn: 5.4864166\ttotal: 551ms\tremaining: 1s\n",
      "355:\tlearn: 5.4846850\ttotal: 552ms\tremaining: 999ms\n",
      "356:\tlearn: 5.4766402\ttotal: 554ms\tremaining: 997ms\n",
      "357:\tlearn: 5.4701517\ttotal: 555ms\tremaining: 995ms\n",
      "358:\tlearn: 5.4563739\ttotal: 556ms\tremaining: 993ms\n",
      "359:\tlearn: 5.4492213\ttotal: 557ms\tremaining: 991ms\n",
      "360:\tlearn: 5.4417235\ttotal: 558ms\tremaining: 989ms\n",
      "361:\tlearn: 5.4391778\ttotal: 560ms\tremaining: 986ms\n",
      "362:\tlearn: 5.4279930\ttotal: 561ms\tremaining: 984ms\n",
      "363:\tlearn: 5.4253761\ttotal: 562ms\tremaining: 982ms\n",
      "364:\tlearn: 5.4188916\ttotal: 563ms\tremaining: 980ms\n",
      "365:\tlearn: 5.4163249\ttotal: 564ms\tremaining: 977ms\n",
      "366:\tlearn: 5.4156154\ttotal: 565ms\tremaining: 975ms\n",
      "367:\tlearn: 5.4133276\ttotal: 566ms\tremaining: 973ms\n",
      "368:\tlearn: 5.4004605\ttotal: 568ms\tremaining: 970ms\n",
      "369:\tlearn: 5.3927352\ttotal: 569ms\tremaining: 968ms\n",
      "370:\tlearn: 5.3904341\ttotal: 570ms\tremaining: 966ms\n",
      "371:\tlearn: 5.3889068\ttotal: 571ms\tremaining: 964ms\n",
      "372:\tlearn: 5.3877225\ttotal: 572ms\tremaining: 961ms\n",
      "373:\tlearn: 5.3862375\ttotal: 573ms\tremaining: 959ms\n",
      "374:\tlearn: 5.3855506\ttotal: 574ms\tremaining: 957ms\n",
      "375:\tlearn: 5.3758955\ttotal: 575ms\tremaining: 955ms\n",
      "376:\tlearn: 5.3684511\ttotal: 577ms\tremaining: 953ms\n",
      "377:\tlearn: 5.3668228\ttotal: 578ms\tremaining: 951ms\n",
      "378:\tlearn: 5.3646487\ttotal: 579ms\tremaining: 948ms\n",
      "379:\tlearn: 5.3573253\ttotal: 580ms\tremaining: 946ms\n",
      "380:\tlearn: 5.3494864\ttotal: 581ms\tremaining: 944ms\n",
      "381:\tlearn: 5.3474824\ttotal: 582ms\tremaining: 942ms\n",
      "382:\tlearn: 5.3454254\ttotal: 583ms\tremaining: 940ms\n",
      "383:\tlearn: 5.3384236\ttotal: 585ms\tremaining: 938ms\n",
      "384:\tlearn: 5.3362783\ttotal: 586ms\tremaining: 936ms\n",
      "385:\tlearn: 5.3299964\ttotal: 587ms\tremaining: 933ms\n",
      "386:\tlearn: 5.3280547\ttotal: 588ms\tremaining: 931ms\n",
      "387:\tlearn: 5.3143947\ttotal: 589ms\tremaining: 929ms\n",
      "388:\tlearn: 5.3137622\ttotal: 590ms\tremaining: 927ms\n",
      "389:\tlearn: 5.3118527\ttotal: 591ms\tremaining: 925ms\n",
      "390:\tlearn: 5.3048692\ttotal: 592ms\tremaining: 923ms\n",
      "391:\tlearn: 5.2978765\ttotal: 594ms\tremaining: 921ms\n",
      "392:\tlearn: 5.2820065\ttotal: 595ms\tremaining: 918ms\n",
      "393:\tlearn: 5.2813993\ttotal: 596ms\tremaining: 917ms\n",
      "394:\tlearn: 5.2746765\ttotal: 597ms\tremaining: 915ms\n",
      "395:\tlearn: 5.2629337\ttotal: 598ms\tremaining: 913ms\n",
      "396:\tlearn: 5.2621640\ttotal: 599ms\tremaining: 911ms\n",
      "397:\tlearn: 5.2603383\ttotal: 601ms\tremaining: 908ms\n",
      "398:\tlearn: 5.2544367\ttotal: 602ms\tremaining: 907ms\n",
      "399:\tlearn: 5.2482491\ttotal: 603ms\tremaining: 905ms\n",
      "400:\tlearn: 5.2424944\ttotal: 604ms\tremaining: 903ms\n",
      "401:\tlearn: 5.2273980\ttotal: 606ms\tremaining: 901ms\n",
      "402:\tlearn: 5.2261462\ttotal: 607ms\tremaining: 899ms\n",
      "403:\tlearn: 5.2246143\ttotal: 608ms\tremaining: 897ms\n",
      "404:\tlearn: 5.2109237\ttotal: 609ms\tremaining: 895ms\n",
      "405:\tlearn: 5.2104282\ttotal: 610ms\tremaining: 893ms\n",
      "406:\tlearn: 5.2086464\ttotal: 612ms\tremaining: 891ms\n",
      "407:\tlearn: 5.2069134\ttotal: 613ms\tremaining: 889ms\n",
      "408:\tlearn: 5.2051099\ttotal: 614ms\tremaining: 887ms\n",
      "409:\tlearn: 5.1989986\ttotal: 615ms\tremaining: 885ms\n",
      "410:\tlearn: 5.1931454\ttotal: 616ms\tremaining: 883ms\n",
      "411:\tlearn: 5.1919707\ttotal: 617ms\tremaining: 881ms\n",
      "412:\tlearn: 5.1783869\ttotal: 619ms\tremaining: 879ms\n",
      "413:\tlearn: 5.1663205\ttotal: 620ms\tremaining: 877ms\n",
      "414:\tlearn: 5.1656022\ttotal: 621ms\tremaining: 876ms\n",
      "415:\tlearn: 5.1512903\ttotal: 622ms\tremaining: 874ms\n",
      "416:\tlearn: 5.1495729\ttotal: 624ms\tremaining: 872ms\n",
      "417:\tlearn: 5.1392721\ttotal: 625ms\tremaining: 870ms\n",
      "418:\tlearn: 5.1336704\ttotal: 626ms\tremaining: 868ms\n",
      "419:\tlearn: 5.1281050\ttotal: 627ms\tremaining: 866ms\n",
      "420:\tlearn: 5.1165357\ttotal: 628ms\tremaining: 864ms\n",
      "421:\tlearn: 5.1103650\ttotal: 629ms\tremaining: 862ms\n",
      "422:\tlearn: 5.0969144\ttotal: 630ms\tremaining: 860ms\n",
      "423:\tlearn: 5.0961917\ttotal: 632ms\tremaining: 858ms\n",
      "424:\tlearn: 5.0902398\ttotal: 633ms\tremaining: 856ms\n",
      "425:\tlearn: 5.0890332\ttotal: 634ms\tremaining: 854ms\n",
      "426:\tlearn: 5.0838937\ttotal: 635ms\tremaining: 852ms\n",
      "427:\tlearn: 5.0822936\ttotal: 636ms\tremaining: 850ms\n",
      "428:\tlearn: 5.0698842\ttotal: 637ms\tremaining: 848ms\n",
      "429:\tlearn: 5.0694099\ttotal: 638ms\tremaining: 846ms\n",
      "430:\tlearn: 5.0679531\ttotal: 639ms\tremaining: 844ms\n",
      "431:\tlearn: 5.0673405\ttotal: 640ms\tremaining: 842ms\n",
      "432:\tlearn: 5.0549805\ttotal: 641ms\tremaining: 840ms\n",
      "433:\tlearn: 5.0500093\ttotal: 643ms\tremaining: 838ms\n",
      "434:\tlearn: 5.0372139\ttotal: 644ms\tremaining: 836ms\n",
      "435:\tlearn: 5.0266532\ttotal: 645ms\tremaining: 834ms\n",
      "436:\tlearn: 5.0254914\ttotal: 646ms\tremaining: 832ms\n",
      "437:\tlearn: 5.0148830\ttotal: 647ms\tremaining: 830ms\n",
      "438:\tlearn: 5.0093258\ttotal: 648ms\tremaining: 828ms\n",
      "439:\tlearn: 4.9972682\ttotal: 649ms\tremaining: 826ms\n",
      "440:\tlearn: 4.9917311\ttotal: 650ms\tremaining: 824ms\n",
      "441:\tlearn: 4.9869828\ttotal: 651ms\tremaining: 822ms\n",
      "442:\tlearn: 4.9781461\ttotal: 653ms\tremaining: 821ms\n",
      "443:\tlearn: 4.9749178\ttotal: 654ms\tremaining: 819ms\n",
      "444:\tlearn: 4.9703445\ttotal: 655ms\tremaining: 817ms\n",
      "445:\tlearn: 4.9658128\ttotal: 656ms\tremaining: 815ms\n",
      "446:\tlearn: 4.9643536\ttotal: 657ms\tremaining: 813ms\n",
      "447:\tlearn: 4.9532046\ttotal: 658ms\tremaining: 811ms\n",
      "448:\tlearn: 4.9431962\ttotal: 660ms\tremaining: 809ms\n",
      "449:\tlearn: 4.9369390\ttotal: 661ms\tremaining: 807ms\n",
      "450:\tlearn: 4.9324955\ttotal: 662ms\tremaining: 806ms\n",
      "451:\tlearn: 4.9310874\ttotal: 663ms\tremaining: 804ms\n",
      "452:\tlearn: 4.9198314\ttotal: 664ms\tremaining: 802ms\n",
      "453:\tlearn: 4.9121157\ttotal: 665ms\tremaining: 800ms\n",
      "454:\tlearn: 4.9025478\ttotal: 666ms\tremaining: 798ms\n",
      "455:\tlearn: 4.9018261\ttotal: 667ms\tremaining: 796ms\n",
      "456:\tlearn: 4.9001693\ttotal: 668ms\tremaining: 794ms\n",
      "457:\tlearn: 4.8953875\ttotal: 669ms\tremaining: 792ms\n"
     ]
    },
    {
     "name": "stdout",
     "output_type": "stream",
     "text": [
      "458:\tlearn: 4.8887204\ttotal: 671ms\tremaining: 791ms\n",
      "459:\tlearn: 4.8876354\ttotal: 673ms\tremaining: 790ms\n",
      "460:\tlearn: 4.8864527\ttotal: 674ms\tremaining: 788ms\n",
      "461:\tlearn: 4.8819215\ttotal: 675ms\tremaining: 786ms\n",
      "462:\tlearn: 4.8809545\ttotal: 676ms\tremaining: 784ms\n",
      "463:\tlearn: 4.8805503\ttotal: 677ms\tremaining: 783ms\n",
      "464:\tlearn: 4.8757920\ttotal: 679ms\tremaining: 781ms\n",
      "465:\tlearn: 4.8751362\ttotal: 680ms\tremaining: 779ms\n",
      "466:\tlearn: 4.8710371\ttotal: 681ms\tremaining: 777ms\n",
      "467:\tlearn: 4.8697068\ttotal: 682ms\tremaining: 775ms\n",
      "468:\tlearn: 4.8654262\ttotal: 683ms\tremaining: 773ms\n",
      "469:\tlearn: 4.8644637\ttotal: 684ms\tremaining: 771ms\n",
      "470:\tlearn: 4.8550872\ttotal: 685ms\tremaining: 770ms\n",
      "471:\tlearn: 4.8537313\ttotal: 686ms\tremaining: 768ms\n",
      "472:\tlearn: 4.8492793\ttotal: 688ms\tremaining: 766ms\n",
      "473:\tlearn: 4.8454304\ttotal: 689ms\tremaining: 764ms\n",
      "474:\tlearn: 4.8442818\ttotal: 690ms\tremaining: 763ms\n",
      "475:\tlearn: 4.8343719\ttotal: 691ms\tremaining: 761ms\n",
      "476:\tlearn: 4.8289146\ttotal: 693ms\tremaining: 759ms\n",
      "477:\tlearn: 4.8251294\ttotal: 694ms\tremaining: 758ms\n",
      "478:\tlearn: 4.8214281\ttotal: 695ms\tremaining: 756ms\n",
      "479:\tlearn: 4.8114572\ttotal: 697ms\tremaining: 755ms\n",
      "480:\tlearn: 4.8103317\ttotal: 698ms\tremaining: 753ms\n",
      "481:\tlearn: 4.8028347\ttotal: 699ms\tremaining: 751ms\n",
      "482:\tlearn: 4.7991942\ttotal: 700ms\tremaining: 750ms\n",
      "483:\tlearn: 4.7982012\ttotal: 702ms\tremaining: 748ms\n",
      "484:\tlearn: 4.7976823\ttotal: 703ms\tremaining: 746ms\n",
      "485:\tlearn: 4.7940147\ttotal: 704ms\tremaining: 745ms\n",
      "486:\tlearn: 4.7840534\ttotal: 705ms\tremaining: 743ms\n",
      "487:\tlearn: 4.7793858\ttotal: 706ms\tremaining: 741ms\n",
      "488:\tlearn: 4.7708509\ttotal: 707ms\tremaining: 739ms\n",
      "489:\tlearn: 4.7701886\ttotal: 709ms\tremaining: 738ms\n",
      "490:\tlearn: 4.7662239\ttotal: 710ms\tremaining: 736ms\n",
      "491:\tlearn: 4.7628278\ttotal: 711ms\tremaining: 734ms\n",
      "492:\tlearn: 4.7595157\ttotal: 712ms\tremaining: 732ms\n",
      "493:\tlearn: 4.7448416\ttotal: 713ms\tremaining: 731ms\n",
      "494:\tlearn: 4.7384335\ttotal: 715ms\tremaining: 729ms\n",
      "495:\tlearn: 4.7331061\ttotal: 716ms\tremaining: 728ms\n",
      "496:\tlearn: 4.7234554\ttotal: 717ms\tremaining: 726ms\n",
      "497:\tlearn: 4.7220719\ttotal: 718ms\tremaining: 724ms\n",
      "498:\tlearn: 4.7126743\ttotal: 720ms\tremaining: 722ms\n",
      "499:\tlearn: 4.7099053\ttotal: 721ms\tremaining: 721ms\n",
      "500:\tlearn: 4.7065166\ttotal: 722ms\tremaining: 719ms\n",
      "501:\tlearn: 4.7034704\ttotal: 723ms\tremaining: 718ms\n",
      "502:\tlearn: 4.6954588\ttotal: 725ms\tremaining: 716ms\n",
      "503:\tlearn: 4.6924055\ttotal: 726ms\tremaining: 714ms\n",
      "504:\tlearn: 4.6889408\ttotal: 727ms\tremaining: 712ms\n",
      "505:\tlearn: 4.6799069\ttotal: 728ms\tremaining: 711ms\n",
      "506:\tlearn: 4.6657319\ttotal: 729ms\tremaining: 709ms\n",
      "507:\tlearn: 4.6609076\ttotal: 730ms\tremaining: 707ms\n",
      "508:\tlearn: 4.6602865\ttotal: 732ms\tremaining: 706ms\n",
      "509:\tlearn: 4.6591383\ttotal: 733ms\tremaining: 704ms\n",
      "510:\tlearn: 4.6542256\ttotal: 734ms\tremaining: 702ms\n",
      "511:\tlearn: 4.6493148\ttotal: 735ms\tremaining: 700ms\n",
      "512:\tlearn: 4.6438613\ttotal: 736ms\tremaining: 699ms\n",
      "513:\tlearn: 4.6427038\ttotal: 737ms\tremaining: 697ms\n",
      "514:\tlearn: 4.6398569\ttotal: 738ms\tremaining: 695ms\n",
      "515:\tlearn: 4.6357706\ttotal: 739ms\tremaining: 694ms\n",
      "516:\tlearn: 4.6332329\ttotal: 741ms\tremaining: 692ms\n",
      "517:\tlearn: 4.6307471\ttotal: 742ms\tremaining: 690ms\n",
      "518:\tlearn: 4.6263226\ttotal: 743ms\tremaining: 689ms\n",
      "519:\tlearn: 4.6184785\ttotal: 744ms\tremaining: 687ms\n",
      "520:\tlearn: 4.6157158\ttotal: 745ms\tremaining: 685ms\n",
      "521:\tlearn: 4.6151315\ttotal: 746ms\tremaining: 684ms\n",
      "522:\tlearn: 4.6135818\ttotal: 747ms\tremaining: 682ms\n",
      "523:\tlearn: 4.6108837\ttotal: 749ms\tremaining: 680ms\n",
      "524:\tlearn: 4.6097374\ttotal: 750ms\tremaining: 678ms\n",
      "525:\tlearn: 4.6081445\ttotal: 751ms\tremaining: 676ms\n",
      "526:\tlearn: 4.6070867\ttotal: 752ms\tremaining: 675ms\n",
      "527:\tlearn: 4.6044694\ttotal: 753ms\tremaining: 673ms\n",
      "528:\tlearn: 4.6019159\ttotal: 754ms\tremaining: 672ms\n",
      "529:\tlearn: 4.5977517\ttotal: 755ms\tremaining: 670ms\n",
      "530:\tlearn: 4.5968033\ttotal: 756ms\tremaining: 668ms\n",
      "531:\tlearn: 4.5919918\ttotal: 758ms\tremaining: 667ms\n",
      "532:\tlearn: 4.5897131\ttotal: 759ms\tremaining: 665ms\n",
      "533:\tlearn: 4.5887055\ttotal: 760ms\tremaining: 663ms\n",
      "534:\tlearn: 4.5874083\ttotal: 761ms\tremaining: 662ms\n",
      "535:\tlearn: 4.5868890\ttotal: 762ms\tremaining: 660ms\n",
      "536:\tlearn: 4.5785551\ttotal: 764ms\tremaining: 658ms\n",
      "537:\tlearn: 4.5776780\ttotal: 765ms\tremaining: 657ms\n",
      "538:\tlearn: 4.5768692\ttotal: 766ms\tremaining: 655ms\n",
      "539:\tlearn: 4.5758555\ttotal: 767ms\tremaining: 653ms\n",
      "540:\tlearn: 4.5719855\ttotal: 768ms\tremaining: 652ms\n",
      "541:\tlearn: 4.5675950\ttotal: 769ms\tremaining: 650ms\n",
      "542:\tlearn: 4.5666376\ttotal: 770ms\tremaining: 648ms\n",
      "543:\tlearn: 4.5643954\ttotal: 771ms\tremaining: 647ms\n",
      "544:\tlearn: 4.5511460\ttotal: 772ms\tremaining: 645ms\n",
      "545:\tlearn: 4.5496805\ttotal: 774ms\tremaining: 643ms\n",
      "546:\tlearn: 4.5475614\ttotal: 775ms\tremaining: 641ms\n",
      "547:\tlearn: 4.5466540\ttotal: 776ms\tremaining: 640ms\n",
      "548:\tlearn: 4.5387966\ttotal: 777ms\tremaining: 638ms\n",
      "549:\tlearn: 4.5366230\ttotal: 778ms\tremaining: 637ms\n",
      "550:\tlearn: 4.5341835\ttotal: 779ms\tremaining: 635ms\n",
      "551:\tlearn: 4.5318835\ttotal: 780ms\tremaining: 633ms\n",
      "552:\tlearn: 4.5314185\ttotal: 782ms\tremaining: 632ms\n",
      "553:\tlearn: 4.5271394\ttotal: 783ms\tremaining: 630ms\n",
      "554:\tlearn: 4.5203410\ttotal: 784ms\tremaining: 629ms\n",
      "555:\tlearn: 4.5183271\ttotal: 785ms\tremaining: 627ms\n",
      "556:\tlearn: 4.5163026\ttotal: 787ms\tremaining: 626ms\n",
      "557:\tlearn: 4.5143190\ttotal: 788ms\tremaining: 624ms\n",
      "558:\tlearn: 4.5134901\ttotal: 789ms\tremaining: 623ms\n",
      "559:\tlearn: 4.5112988\ttotal: 790ms\tremaining: 621ms\n",
      "560:\tlearn: 4.5091624\ttotal: 792ms\tremaining: 620ms\n",
      "561:\tlearn: 4.4966443\ttotal: 793ms\tremaining: 618ms\n",
      "562:\tlearn: 4.4942422\ttotal: 794ms\tremaining: 617ms\n",
      "563:\tlearn: 4.4932644\ttotal: 796ms\tremaining: 615ms\n",
      "564:\tlearn: 4.4911608\ttotal: 797ms\tremaining: 614ms\n",
      "565:\tlearn: 4.4873920\ttotal: 798ms\tremaining: 612ms\n",
      "566:\tlearn: 4.4754488\ttotal: 800ms\tremaining: 611ms\n",
      "567:\tlearn: 4.4734280\ttotal: 801ms\tremaining: 609ms\n",
      "568:\tlearn: 4.4717088\ttotal: 802ms\tremaining: 608ms\n",
      "569:\tlearn: 4.4697665\ttotal: 803ms\tremaining: 606ms\n",
      "570:\tlearn: 4.4683856\ttotal: 804ms\tremaining: 604ms\n",
      "571:\tlearn: 4.4642489\ttotal: 806ms\tremaining: 603ms\n",
      "572:\tlearn: 4.4624863\ttotal: 807ms\tremaining: 601ms\n",
      "573:\tlearn: 4.4606326\ttotal: 808ms\tremaining: 600ms\n",
      "574:\tlearn: 4.4595596\ttotal: 809ms\tremaining: 598ms\n",
      "575:\tlearn: 4.4532392\ttotal: 811ms\tremaining: 597ms\n",
      "576:\tlearn: 4.4489114\ttotal: 812ms\tremaining: 595ms\n",
      "577:\tlearn: 4.4454008\ttotal: 813ms\tremaining: 593ms\n",
      "578:\tlearn: 4.4391426\ttotal: 814ms\tremaining: 592ms\n",
      "579:\tlearn: 4.4374264\ttotal: 815ms\tremaining: 590ms\n",
      "580:\tlearn: 4.4339136\ttotal: 816ms\tremaining: 589ms\n",
      "581:\tlearn: 4.4326241\ttotal: 818ms\tremaining: 587ms\n",
      "582:\tlearn: 4.4267100\ttotal: 819ms\tremaining: 585ms\n",
      "583:\tlearn: 4.4211394\ttotal: 820ms\tremaining: 584ms\n",
      "584:\tlearn: 4.4169980\ttotal: 821ms\tremaining: 582ms\n",
      "585:\tlearn: 4.4151461\ttotal: 822ms\tremaining: 581ms\n",
      "586:\tlearn: 4.4125755\ttotal: 823ms\tremaining: 579ms\n",
      "587:\tlearn: 4.4069752\ttotal: 824ms\tremaining: 578ms\n",
      "588:\tlearn: 4.3961409\ttotal: 826ms\tremaining: 576ms\n",
      "589:\tlearn: 4.3947383\ttotal: 827ms\tremaining: 575ms\n",
      "590:\tlearn: 4.3930633\ttotal: 828ms\tremaining: 573ms\n",
      "591:\tlearn: 4.3890216\ttotal: 829ms\tremaining: 572ms\n",
      "592:\tlearn: 4.3880639\ttotal: 830ms\tremaining: 570ms\n",
      "593:\tlearn: 4.3862546\ttotal: 832ms\tremaining: 568ms\n",
      "594:\tlearn: 4.3846938\ttotal: 833ms\tremaining: 567ms\n",
      "595:\tlearn: 4.3837250\ttotal: 834ms\tremaining: 565ms\n",
      "596:\tlearn: 4.3828295\ttotal: 835ms\tremaining: 564ms\n",
      "597:\tlearn: 4.3811916\ttotal: 836ms\tremaining: 562ms\n",
      "598:\tlearn: 4.3792854\ttotal: 838ms\tremaining: 561ms\n",
      "599:\tlearn: 4.3703228\ttotal: 839ms\tremaining: 559ms\n",
      "600:\tlearn: 4.3651756\ttotal: 841ms\tremaining: 558ms\n",
      "601:\tlearn: 4.3644967\ttotal: 842ms\tremaining: 557ms\n",
      "602:\tlearn: 4.3628360\ttotal: 843ms\tremaining: 555ms\n",
      "603:\tlearn: 4.3623492\ttotal: 844ms\tremaining: 553ms\n",
      "604:\tlearn: 4.3572461\ttotal: 845ms\tremaining: 552ms\n",
      "605:\tlearn: 4.3557429\ttotal: 847ms\tremaining: 550ms\n",
      "606:\tlearn: 4.3549567\ttotal: 848ms\tremaining: 549ms\n",
      "607:\tlearn: 4.3503865\ttotal: 849ms\tremaining: 547ms\n",
      "608:\tlearn: 4.3485275\ttotal: 850ms\tremaining: 546ms\n",
      "609:\tlearn: 4.3467664\ttotal: 851ms\tremaining: 544ms\n",
      "610:\tlearn: 4.3449320\ttotal: 852ms\tremaining: 543ms\n",
      "611:\tlearn: 4.3434365\ttotal: 853ms\tremaining: 541ms\n",
      "612:\tlearn: 4.3351317\ttotal: 854ms\tremaining: 539ms\n",
      "613:\tlearn: 4.3318033\ttotal: 856ms\tremaining: 538ms\n",
      "614:\tlearn: 4.3239533\ttotal: 857ms\tremaining: 536ms\n",
      "615:\tlearn: 4.3222951\ttotal: 858ms\tremaining: 535ms\n",
      "616:\tlearn: 4.3216394\ttotal: 859ms\tremaining: 533ms\n",
      "617:\tlearn: 4.3202022\ttotal: 860ms\tremaining: 532ms\n",
      "618:\tlearn: 4.3194294\ttotal: 862ms\tremaining: 530ms\n",
      "619:\tlearn: 4.3142035\ttotal: 863ms\tremaining: 529ms\n",
      "620:\tlearn: 4.3133420\ttotal: 864ms\tremaining: 527ms\n",
      "621:\tlearn: 4.3075841\ttotal: 865ms\tremaining: 526ms\n",
      "622:\tlearn: 4.3061354\ttotal: 866ms\tremaining: 524ms\n",
      "623:\tlearn: 4.3024643\ttotal: 868ms\tremaining: 523ms\n",
      "624:\tlearn: 4.3010227\ttotal: 869ms\tremaining: 521ms\n",
      "625:\tlearn: 4.2937456\ttotal: 870ms\tremaining: 520ms\n",
      "626:\tlearn: 4.2924495\ttotal: 871ms\tremaining: 518ms\n",
      "627:\tlearn: 4.2910735\ttotal: 872ms\tremaining: 517ms\n",
      "628:\tlearn: 4.2898060\ttotal: 873ms\tremaining: 515ms\n",
      "629:\tlearn: 4.2845766\ttotal: 875ms\tremaining: 514ms\n",
      "630:\tlearn: 4.2776546\ttotal: 876ms\tremaining: 512ms\n",
      "631:\tlearn: 4.2762720\ttotal: 877ms\tremaining: 511ms\n",
      "632:\tlearn: 4.2746651\ttotal: 878ms\tremaining: 509ms\n",
      "633:\tlearn: 4.2653316\ttotal: 879ms\tremaining: 508ms\n",
      "634:\tlearn: 4.2618286\ttotal: 881ms\tremaining: 506ms\n",
      "635:\tlearn: 4.2570849\ttotal: 882ms\tremaining: 505ms\n",
      "636:\tlearn: 4.2522560\ttotal: 883ms\tremaining: 503ms\n",
      "637:\tlearn: 4.2510803\ttotal: 884ms\tremaining: 502ms\n",
      "638:\tlearn: 4.2499594\ttotal: 885ms\tremaining: 500ms\n",
      "639:\tlearn: 4.2483407\ttotal: 887ms\tremaining: 499ms\n",
      "640:\tlearn: 4.2472802\ttotal: 888ms\tremaining: 497ms\n",
      "641:\tlearn: 4.2453986\ttotal: 889ms\tremaining: 496ms\n",
      "642:\tlearn: 4.2366818\ttotal: 890ms\tremaining: 494ms\n",
      "643:\tlearn: 4.2322226\ttotal: 891ms\tremaining: 493ms\n",
      "644:\tlearn: 4.2309616\ttotal: 893ms\tremaining: 491ms\n",
      "645:\tlearn: 4.2302091\ttotal: 894ms\tremaining: 490ms\n",
      "646:\tlearn: 4.2289262\ttotal: 895ms\tremaining: 488ms\n",
      "647:\tlearn: 4.2245766\ttotal: 896ms\tremaining: 487ms\n",
      "648:\tlearn: 4.2218112\ttotal: 898ms\tremaining: 485ms\n",
      "649:\tlearn: 4.2205557\ttotal: 899ms\tremaining: 484ms\n",
      "650:\tlearn: 4.2174779\ttotal: 900ms\tremaining: 483ms\n",
      "651:\tlearn: 4.2167577\ttotal: 901ms\tremaining: 481ms\n",
      "652:\tlearn: 4.2132187\ttotal: 903ms\tremaining: 480ms\n",
      "653:\tlearn: 4.2102215\ttotal: 904ms\tremaining: 478ms\n",
      "654:\tlearn: 4.2071126\ttotal: 905ms\tremaining: 477ms\n",
      "655:\tlearn: 4.2058285\ttotal: 906ms\tremaining: 475ms\n",
      "656:\tlearn: 4.2026296\ttotal: 908ms\tremaining: 474ms\n",
      "657:\tlearn: 4.2014010\ttotal: 909ms\tremaining: 472ms\n",
      "658:\tlearn: 4.1972650\ttotal: 910ms\tremaining: 471ms\n",
      "659:\tlearn: 4.1944571\ttotal: 911ms\tremaining: 469ms\n",
      "660:\tlearn: 4.1903499\ttotal: 912ms\tremaining: 468ms\n",
      "661:\tlearn: 4.1877971\ttotal: 913ms\tremaining: 466ms\n",
      "662:\tlearn: 4.1870608\ttotal: 915ms\tremaining: 465ms\n",
      "663:\tlearn: 4.1858982\ttotal: 916ms\tremaining: 463ms\n",
      "664:\tlearn: 4.1852817\ttotal: 917ms\tremaining: 462ms\n",
      "665:\tlearn: 4.1841473\ttotal: 918ms\tremaining: 460ms\n",
      "666:\tlearn: 4.1828824\ttotal: 919ms\tremaining: 459ms\n",
      "667:\tlearn: 4.1790604\ttotal: 920ms\tremaining: 457ms\n",
      "668:\tlearn: 4.1779150\ttotal: 921ms\tremaining: 456ms\n",
      "669:\tlearn: 4.1767164\ttotal: 922ms\tremaining: 454ms\n",
      "670:\tlearn: 4.1760137\ttotal: 924ms\tremaining: 453ms\n",
      "671:\tlearn: 4.1722712\ttotal: 925ms\tremaining: 451ms\n",
      "672:\tlearn: 4.1695838\ttotal: 926ms\tremaining: 450ms\n",
      "673:\tlearn: 4.1604147\ttotal: 927ms\tremaining: 448ms\n",
      "674:\tlearn: 4.1516941\ttotal: 928ms\tremaining: 447ms\n",
      "675:\tlearn: 4.1511953\ttotal: 929ms\tremaining: 445ms\n",
      "676:\tlearn: 4.1493483\ttotal: 931ms\tremaining: 444ms\n",
      "677:\tlearn: 4.1476049\ttotal: 932ms\tremaining: 443ms\n",
      "678:\tlearn: 4.1451478\ttotal: 933ms\tremaining: 441ms\n",
      "679:\tlearn: 4.1445499\ttotal: 934ms\tremaining: 440ms\n",
      "680:\tlearn: 4.1433308\ttotal: 935ms\tremaining: 438ms\n",
      "681:\tlearn: 4.1401898\ttotal: 936ms\tremaining: 437ms\n",
      "682:\tlearn: 4.1399090\ttotal: 937ms\tremaining: 435ms\n",
      "683:\tlearn: 4.1392428\ttotal: 938ms\tremaining: 434ms\n",
      "684:\tlearn: 4.1373710\ttotal: 940ms\tremaining: 432ms\n",
      "685:\tlearn: 4.1363574\ttotal: 941ms\tremaining: 431ms\n",
      "686:\tlearn: 4.1353581\ttotal: 942ms\tremaining: 429ms\n",
      "687:\tlearn: 4.1319592\ttotal: 943ms\tremaining: 428ms\n",
      "688:\tlearn: 4.1311161\ttotal: 944ms\tremaining: 426ms\n",
      "689:\tlearn: 4.1261690\ttotal: 946ms\tremaining: 425ms\n",
      "690:\tlearn: 4.1179967\ttotal: 947ms\tremaining: 423ms\n",
      "691:\tlearn: 4.1149712\ttotal: 948ms\tremaining: 422ms\n",
      "692:\tlearn: 4.1071862\ttotal: 949ms\tremaining: 420ms\n",
      "693:\tlearn: 4.1039808\ttotal: 950ms\tremaining: 419ms\n",
      "694:\tlearn: 4.1034207\ttotal: 952ms\tremaining: 418ms\n",
      "695:\tlearn: 4.0980241\ttotal: 953ms\tremaining: 416ms\n",
      "696:\tlearn: 4.0964107\ttotal: 954ms\tremaining: 415ms\n",
      "697:\tlearn: 4.0903388\ttotal: 955ms\tremaining: 413ms\n",
      "698:\tlearn: 4.0858601\ttotal: 956ms\tremaining: 412ms\n",
      "699:\tlearn: 4.0844939\ttotal: 957ms\tremaining: 410ms\n",
      "700:\tlearn: 4.0834556\ttotal: 958ms\tremaining: 409ms\n",
      "701:\tlearn: 4.0823144\ttotal: 960ms\tremaining: 407ms\n",
      "702:\tlearn: 4.0818983\ttotal: 961ms\tremaining: 406ms\n",
      "703:\tlearn: 4.0814191\ttotal: 962ms\tremaining: 404ms\n",
      "704:\tlearn: 4.0809509\ttotal: 963ms\tremaining: 403ms\n",
      "705:\tlearn: 4.0748556\ttotal: 964ms\tremaining: 401ms\n",
      "706:\tlearn: 4.0743512\ttotal: 965ms\tremaining: 400ms\n",
      "707:\tlearn: 4.0739038\ttotal: 966ms\tremaining: 399ms\n",
      "708:\tlearn: 4.0680920\ttotal: 968ms\tremaining: 397ms\n",
      "709:\tlearn: 4.0676191\ttotal: 969ms\tremaining: 396ms\n",
      "710:\tlearn: 4.0621123\ttotal: 970ms\tremaining: 394ms\n",
      "711:\tlearn: 4.0569097\ttotal: 971ms\tremaining: 393ms\n",
      "712:\tlearn: 4.0540275\ttotal: 973ms\tremaining: 391ms\n",
      "713:\tlearn: 4.0535976\ttotal: 974ms\tremaining: 390ms\n",
      "714:\tlearn: 4.0474235\ttotal: 975ms\tremaining: 389ms\n",
      "715:\tlearn: 4.0466339\ttotal: 976ms\tremaining: 387ms\n",
      "716:\tlearn: 4.0460092\ttotal: 978ms\tremaining: 386ms\n",
      "717:\tlearn: 4.0449166\ttotal: 979ms\tremaining: 384ms\n",
      "718:\tlearn: 4.0443603\ttotal: 980ms\tremaining: 383ms\n",
      "719:\tlearn: 4.0438911\ttotal: 981ms\tremaining: 382ms\n",
      "720:\tlearn: 4.0426066\ttotal: 982ms\tremaining: 380ms\n",
      "721:\tlearn: 4.0421700\ttotal: 984ms\tremaining: 379ms\n",
      "722:\tlearn: 4.0417972\ttotal: 985ms\tremaining: 377ms\n",
      "723:\tlearn: 4.0401994\ttotal: 986ms\tremaining: 376ms\n",
      "724:\tlearn: 4.0370528\ttotal: 987ms\tremaining: 374ms\n",
      "725:\tlearn: 4.0366693\ttotal: 988ms\tremaining: 373ms\n",
      "726:\tlearn: 4.0361584\ttotal: 989ms\tremaining: 372ms\n",
      "727:\tlearn: 4.0351114\ttotal: 991ms\tremaining: 370ms\n",
      "728:\tlearn: 4.0346086\ttotal: 992ms\tremaining: 369ms\n",
      "729:\tlearn: 4.0316188\ttotal: 993ms\tremaining: 367ms\n",
      "730:\tlearn: 4.0264300\ttotal: 994ms\tremaining: 366ms\n",
      "731:\tlearn: 4.0234769\ttotal: 996ms\tremaining: 364ms\n",
      "732:\tlearn: 4.0211343\ttotal: 997ms\tremaining: 363ms\n",
      "733:\tlearn: 4.0202194\ttotal: 998ms\tremaining: 362ms\n",
      "734:\tlearn: 4.0198576\ttotal: 999ms\tremaining: 360ms\n",
      "735:\tlearn: 4.0194041\ttotal: 1s\tremaining: 359ms\n",
      "736:\tlearn: 4.0171060\ttotal: 1s\tremaining: 357ms\n",
      "737:\tlearn: 4.0141135\ttotal: 1s\tremaining: 356ms\n",
      "738:\tlearn: 4.0091628\ttotal: 1s\tremaining: 355ms\n"
     ]
    },
    {
     "name": "stdout",
     "output_type": "stream",
     "text": [
      "739:\tlearn: 4.0044424\ttotal: 1s\tremaining: 353ms\n",
      "740:\tlearn: 4.0041360\ttotal: 1.01s\tremaining: 352ms\n",
      "741:\tlearn: 3.9996348\ttotal: 1.01s\tremaining: 351ms\n",
      "742:\tlearn: 3.9988660\ttotal: 1.01s\tremaining: 349ms\n",
      "743:\tlearn: 3.9986587\ttotal: 1.01s\tremaining: 348ms\n",
      "744:\tlearn: 3.9982352\ttotal: 1.01s\tremaining: 346ms\n",
      "745:\tlearn: 3.9960429\ttotal: 1.01s\tremaining: 345ms\n",
      "746:\tlearn: 3.9956366\ttotal: 1.01s\tremaining: 344ms\n",
      "747:\tlearn: 3.9941952\ttotal: 1.01s\tremaining: 342ms\n",
      "748:\tlearn: 3.9926152\ttotal: 1.02s\tremaining: 341ms\n",
      "749:\tlearn: 3.9915497\ttotal: 1.02s\tremaining: 339ms\n",
      "750:\tlearn: 3.9868692\ttotal: 1.02s\tremaining: 338ms\n",
      "751:\tlearn: 3.9864448\ttotal: 1.02s\tremaining: 336ms\n",
      "752:\tlearn: 3.9840146\ttotal: 1.02s\tremaining: 335ms\n",
      "753:\tlearn: 3.9834211\ttotal: 1.02s\tremaining: 334ms\n",
      "754:\tlearn: 3.9826256\ttotal: 1.02s\tremaining: 332ms\n",
      "755:\tlearn: 3.9822073\ttotal: 1.02s\tremaining: 331ms\n",
      "756:\tlearn: 3.9811519\ttotal: 1.02s\tremaining: 329ms\n",
      "757:\tlearn: 3.9770162\ttotal: 1.03s\tremaining: 328ms\n",
      "758:\tlearn: 3.9730724\ttotal: 1.03s\tremaining: 326ms\n",
      "759:\tlearn: 3.9718182\ttotal: 1.03s\tremaining: 325ms\n",
      "760:\tlearn: 3.9680566\ttotal: 1.03s\tremaining: 323ms\n",
      "761:\tlearn: 3.9670377\ttotal: 1.03s\tremaining: 322ms\n",
      "762:\tlearn: 3.9657022\ttotal: 1.03s\tremaining: 321ms\n",
      "763:\tlearn: 3.9655204\ttotal: 1.03s\tremaining: 319ms\n",
      "764:\tlearn: 3.9622710\ttotal: 1.03s\tremaining: 318ms\n",
      "765:\tlearn: 3.9618940\ttotal: 1.03s\tremaining: 316ms\n",
      "766:\tlearn: 3.9589791\ttotal: 1.04s\tremaining: 315ms\n",
      "767:\tlearn: 3.9585867\ttotal: 1.04s\tremaining: 314ms\n",
      "768:\tlearn: 3.9562093\ttotal: 1.04s\tremaining: 312ms\n",
      "769:\tlearn: 3.9559024\ttotal: 1.04s\tremaining: 311ms\n",
      "770:\tlearn: 3.9555714\ttotal: 1.04s\tremaining: 309ms\n",
      "771:\tlearn: 3.9544615\ttotal: 1.04s\tremaining: 308ms\n",
      "772:\tlearn: 3.9536128\ttotal: 1.04s\tremaining: 306ms\n",
      "773:\tlearn: 3.9508214\ttotal: 1.04s\tremaining: 305ms\n",
      "774:\tlearn: 3.9500720\ttotal: 1.05s\tremaining: 304ms\n",
      "775:\tlearn: 3.9496420\ttotal: 1.05s\tremaining: 302ms\n",
      "776:\tlearn: 3.9463425\ttotal: 1.05s\tremaining: 301ms\n",
      "777:\tlearn: 3.9456127\ttotal: 1.05s\tremaining: 300ms\n",
      "778:\tlearn: 3.9422855\ttotal: 1.05s\tremaining: 298ms\n",
      "779:\tlearn: 3.9394106\ttotal: 1.05s\tremaining: 297ms\n",
      "780:\tlearn: 3.9390902\ttotal: 1.05s\tremaining: 295ms\n",
      "781:\tlearn: 3.9376182\ttotal: 1.05s\tremaining: 294ms\n",
      "782:\tlearn: 3.9353862\ttotal: 1.05s\tremaining: 293ms\n",
      "783:\tlearn: 3.9347494\ttotal: 1.06s\tremaining: 291ms\n",
      "784:\tlearn: 3.9320116\ttotal: 1.06s\tremaining: 290ms\n",
      "785:\tlearn: 3.9311100\ttotal: 1.06s\tremaining: 288ms\n",
      "786:\tlearn: 3.9284457\ttotal: 1.06s\tremaining: 287ms\n",
      "787:\tlearn: 3.9258887\ttotal: 1.06s\tremaining: 286ms\n",
      "788:\tlearn: 3.9218309\ttotal: 1.06s\tremaining: 284ms\n",
      "789:\tlearn: 3.9214668\ttotal: 1.06s\tremaining: 283ms\n",
      "790:\tlearn: 3.9211179\ttotal: 1.06s\tremaining: 281ms\n",
      "791:\tlearn: 3.9208618\ttotal: 1.07s\tremaining: 280ms\n",
      "792:\tlearn: 3.9201668\ttotal: 1.07s\tremaining: 279ms\n",
      "793:\tlearn: 3.9198240\ttotal: 1.07s\tremaining: 277ms\n",
      "794:\tlearn: 3.9185144\ttotal: 1.07s\tremaining: 276ms\n",
      "795:\tlearn: 3.9146173\ttotal: 1.07s\tremaining: 275ms\n",
      "796:\tlearn: 3.9128815\ttotal: 1.07s\tremaining: 273ms\n",
      "797:\tlearn: 3.9124367\ttotal: 1.07s\tremaining: 272ms\n",
      "798:\tlearn: 3.9097821\ttotal: 1.07s\tremaining: 270ms\n",
      "799:\tlearn: 3.9090123\ttotal: 1.08s\tremaining: 269ms\n",
      "800:\tlearn: 3.9083431\ttotal: 1.08s\tremaining: 268ms\n",
      "801:\tlearn: 3.9075973\ttotal: 1.08s\tremaining: 266ms\n",
      "802:\tlearn: 3.9051596\ttotal: 1.08s\tremaining: 265ms\n",
      "803:\tlearn: 3.9019724\ttotal: 1.08s\tremaining: 264ms\n",
      "804:\tlearn: 3.9017207\ttotal: 1.08s\tremaining: 262ms\n",
      "805:\tlearn: 3.8994425\ttotal: 1.08s\tremaining: 261ms\n",
      "806:\tlearn: 3.8989990\ttotal: 1.08s\tremaining: 259ms\n",
      "807:\tlearn: 3.8962783\ttotal: 1.09s\tremaining: 258ms\n",
      "808:\tlearn: 3.8936944\ttotal: 1.09s\tremaining: 257ms\n",
      "809:\tlearn: 3.8912503\ttotal: 1.09s\tremaining: 255ms\n",
      "810:\tlearn: 3.8910090\ttotal: 1.09s\tremaining: 254ms\n",
      "811:\tlearn: 3.8886280\ttotal: 1.09s\tremaining: 253ms\n",
      "812:\tlearn: 3.8882790\ttotal: 1.09s\tremaining: 251ms\n",
      "813:\tlearn: 3.8878723\ttotal: 1.09s\tremaining: 250ms\n",
      "814:\tlearn: 3.8855794\ttotal: 1.09s\tremaining: 249ms\n",
      "815:\tlearn: 3.8830433\ttotal: 1.1s\tremaining: 247ms\n",
      "816:\tlearn: 3.8824672\ttotal: 1.1s\tremaining: 246ms\n",
      "817:\tlearn: 3.8799120\ttotal: 1.1s\tremaining: 244ms\n",
      "818:\tlearn: 3.8773195\ttotal: 1.1s\tremaining: 243ms\n",
      "819:\tlearn: 3.8760664\ttotal: 1.1s\tremaining: 242ms\n",
      "820:\tlearn: 3.8743966\ttotal: 1.1s\tremaining: 240ms\n",
      "821:\tlearn: 3.8718382\ttotal: 1.1s\tremaining: 239ms\n",
      "822:\tlearn: 3.8716354\ttotal: 1.1s\tremaining: 237ms\n",
      "823:\tlearn: 3.8710250\ttotal: 1.1s\tremaining: 236ms\n",
      "824:\tlearn: 3.8672773\ttotal: 1.1s\tremaining: 235ms\n",
      "825:\tlearn: 3.8654319\ttotal: 1.11s\tremaining: 233ms\n",
      "826:\tlearn: 3.8651269\ttotal: 1.11s\tremaining: 232ms\n",
      "827:\tlearn: 3.8630138\ttotal: 1.11s\tremaining: 230ms\n",
      "828:\tlearn: 3.8617282\ttotal: 1.11s\tremaining: 229ms\n",
      "829:\tlearn: 3.8604724\ttotal: 1.11s\tremaining: 228ms\n",
      "830:\tlearn: 3.8576224\ttotal: 1.11s\tremaining: 226ms\n",
      "831:\tlearn: 3.8570548\ttotal: 1.11s\tremaining: 225ms\n",
      "832:\tlearn: 3.8565400\ttotal: 1.11s\tremaining: 224ms\n",
      "833:\tlearn: 3.8561124\ttotal: 1.12s\tremaining: 222ms\n",
      "834:\tlearn: 3.8541440\ttotal: 1.12s\tremaining: 221ms\n",
      "835:\tlearn: 3.8537792\ttotal: 1.12s\tremaining: 219ms\n",
      "836:\tlearn: 3.8536096\ttotal: 1.12s\tremaining: 218ms\n",
      "837:\tlearn: 3.8509202\ttotal: 1.12s\tremaining: 217ms\n",
      "838:\tlearn: 3.8506504\ttotal: 1.12s\tremaining: 215ms\n",
      "839:\tlearn: 3.8487627\ttotal: 1.12s\tremaining: 214ms\n",
      "840:\tlearn: 3.8470569\ttotal: 1.12s\tremaining: 213ms\n",
      "841:\tlearn: 3.8460709\ttotal: 1.13s\tremaining: 211ms\n",
      "842:\tlearn: 3.8453917\ttotal: 1.13s\tremaining: 210ms\n",
      "843:\tlearn: 3.8451014\ttotal: 1.13s\tremaining: 209ms\n",
      "844:\tlearn: 3.8429108\ttotal: 1.13s\tremaining: 207ms\n",
      "845:\tlearn: 3.8408537\ttotal: 1.13s\tremaining: 206ms\n",
      "846:\tlearn: 3.8387557\ttotal: 1.13s\tremaining: 204ms\n",
      "847:\tlearn: 3.8367141\ttotal: 1.13s\tremaining: 203ms\n",
      "848:\tlearn: 3.8331308\ttotal: 1.13s\tremaining: 202ms\n",
      "849:\tlearn: 3.8314295\ttotal: 1.13s\tremaining: 200ms\n",
      "850:\tlearn: 3.8298142\ttotal: 1.14s\tremaining: 199ms\n",
      "851:\tlearn: 3.8295902\ttotal: 1.14s\tremaining: 198ms\n",
      "852:\tlearn: 3.8279548\ttotal: 1.14s\tremaining: 196ms\n",
      "853:\tlearn: 3.8264201\ttotal: 1.14s\tremaining: 195ms\n",
      "854:\tlearn: 3.8244025\ttotal: 1.14s\tremaining: 193ms\n",
      "855:\tlearn: 3.8224164\ttotal: 1.14s\tremaining: 192ms\n",
      "856:\tlearn: 3.8218471\ttotal: 1.14s\tremaining: 191ms\n",
      "857:\tlearn: 3.8184898\ttotal: 1.14s\tremaining: 189ms\n",
      "858:\tlearn: 3.8181460\ttotal: 1.14s\tremaining: 188ms\n",
      "859:\tlearn: 3.8149751\ttotal: 1.15s\tremaining: 187ms\n",
      "860:\tlearn: 3.8144084\ttotal: 1.15s\tremaining: 185ms\n",
      "861:\tlearn: 3.8121704\ttotal: 1.15s\tremaining: 184ms\n",
      "862:\tlearn: 3.8113113\ttotal: 1.15s\tremaining: 182ms\n",
      "863:\tlearn: 3.8107470\ttotal: 1.15s\tremaining: 181ms\n",
      "864:\tlearn: 3.8100181\ttotal: 1.15s\tremaining: 180ms\n",
      "865:\tlearn: 3.8091159\ttotal: 1.15s\tremaining: 178ms\n",
      "866:\tlearn: 3.8088612\ttotal: 1.15s\tremaining: 177ms\n",
      "867:\tlearn: 3.8086926\ttotal: 1.16s\tremaining: 176ms\n",
      "868:\tlearn: 3.8083582\ttotal: 1.16s\tremaining: 174ms\n",
      "869:\tlearn: 3.8075358\ttotal: 1.16s\tremaining: 173ms\n",
      "870:\tlearn: 3.8067083\ttotal: 1.16s\tremaining: 172ms\n",
      "871:\tlearn: 3.8049682\ttotal: 1.16s\tremaining: 170ms\n",
      "872:\tlearn: 3.8034533\ttotal: 1.16s\tremaining: 169ms\n",
      "873:\tlearn: 3.8020448\ttotal: 1.16s\tremaining: 168ms\n",
      "874:\tlearn: 3.8019030\ttotal: 1.16s\tremaining: 166ms\n",
      "875:\tlearn: 3.8000575\ttotal: 1.17s\tremaining: 165ms\n",
      "876:\tlearn: 3.7983590\ttotal: 1.17s\tremaining: 164ms\n",
      "877:\tlearn: 3.7982538\ttotal: 1.17s\tremaining: 162ms\n",
      "878:\tlearn: 3.7972709\ttotal: 1.17s\tremaining: 161ms\n",
      "879:\tlearn: 3.7949177\ttotal: 1.17s\tremaining: 160ms\n",
      "880:\tlearn: 3.7947366\ttotal: 1.17s\tremaining: 158ms\n",
      "881:\tlearn: 3.7919486\ttotal: 1.17s\tremaining: 157ms\n",
      "882:\tlearn: 3.7902076\ttotal: 1.17s\tremaining: 156ms\n",
      "883:\tlearn: 3.7901047\ttotal: 1.18s\tremaining: 154ms\n",
      "884:\tlearn: 3.7897846\ttotal: 1.18s\tremaining: 153ms\n",
      "885:\tlearn: 3.7891624\ttotal: 1.18s\tremaining: 152ms\n",
      "886:\tlearn: 3.7876017\ttotal: 1.18s\tremaining: 150ms\n",
      "887:\tlearn: 3.7863038\ttotal: 1.18s\tremaining: 149ms\n",
      "888:\tlearn: 3.7854473\ttotal: 1.18s\tremaining: 148ms\n",
      "889:\tlearn: 3.7850919\ttotal: 1.18s\tremaining: 146ms\n",
      "890:\tlearn: 3.7825438\ttotal: 1.18s\tremaining: 145ms\n",
      "891:\tlearn: 3.7819266\ttotal: 1.19s\tremaining: 144ms\n",
      "892:\tlearn: 3.7805126\ttotal: 1.19s\tremaining: 142ms\n",
      "893:\tlearn: 3.7801887\ttotal: 1.19s\tremaining: 141ms\n",
      "894:\tlearn: 3.7774266\ttotal: 1.19s\tremaining: 140ms\n",
      "895:\tlearn: 3.7764931\ttotal: 1.19s\tremaining: 138ms\n",
      "896:\tlearn: 3.7756967\ttotal: 1.19s\tremaining: 137ms\n",
      "897:\tlearn: 3.7743869\ttotal: 1.19s\tremaining: 136ms\n",
      "898:\tlearn: 3.7708263\ttotal: 1.19s\tremaining: 134ms\n",
      "899:\tlearn: 3.7705075\ttotal: 1.2s\tremaining: 133ms\n",
      "900:\tlearn: 3.7696359\ttotal: 1.2s\tremaining: 132ms\n",
      "901:\tlearn: 3.7662819\ttotal: 1.2s\tremaining: 130ms\n",
      "902:\tlearn: 3.7648411\ttotal: 1.2s\tremaining: 129ms\n",
      "903:\tlearn: 3.7646029\ttotal: 1.2s\tremaining: 127ms\n",
      "904:\tlearn: 3.7641116\ttotal: 1.2s\tremaining: 126ms\n",
      "905:\tlearn: 3.7637889\ttotal: 1.2s\tremaining: 125ms\n",
      "906:\tlearn: 3.7634165\ttotal: 1.2s\tremaining: 123ms\n",
      "907:\tlearn: 3.7616574\ttotal: 1.2s\tremaining: 122ms\n",
      "908:\tlearn: 3.7600278\ttotal: 1.21s\tremaining: 121ms\n",
      "909:\tlearn: 3.7583451\ttotal: 1.21s\tremaining: 119ms\n",
      "910:\tlearn: 3.7577744\ttotal: 1.21s\tremaining: 118ms\n",
      "911:\tlearn: 3.7575010\ttotal: 1.21s\tremaining: 117ms\n",
      "912:\tlearn: 3.7572150\ttotal: 1.21s\tremaining: 115ms\n",
      "913:\tlearn: 3.7564639\ttotal: 1.21s\tremaining: 114ms\n",
      "914:\tlearn: 3.7557640\ttotal: 1.21s\tremaining: 113ms\n",
      "915:\tlearn: 3.7551291\ttotal: 1.21s\tremaining: 111ms\n",
      "916:\tlearn: 3.7531984\ttotal: 1.21s\tremaining: 110ms\n",
      "917:\tlearn: 3.7523684\ttotal: 1.22s\tremaining: 109ms\n",
      "918:\tlearn: 3.7518566\ttotal: 1.22s\tremaining: 107ms\n",
      "919:\tlearn: 3.7516607\ttotal: 1.22s\tremaining: 106ms\n",
      "920:\tlearn: 3.7490539\ttotal: 1.22s\tremaining: 105ms\n",
      "921:\tlearn: 3.7472253\ttotal: 1.22s\tremaining: 103ms\n",
      "922:\tlearn: 3.7459901\ttotal: 1.22s\tremaining: 102ms\n",
      "923:\tlearn: 3.7446841\ttotal: 1.22s\tremaining: 101ms\n",
      "924:\tlearn: 3.7441116\ttotal: 1.22s\tremaining: 99.2ms\n",
      "925:\tlearn: 3.7436061\ttotal: 1.22s\tremaining: 97.9ms\n",
      "926:\tlearn: 3.7424818\ttotal: 1.23s\tremaining: 96.6ms\n",
      "927:\tlearn: 3.7414849\ttotal: 1.23s\tremaining: 95.2ms\n",
      "928:\tlearn: 3.7411909\ttotal: 1.23s\tremaining: 93.9ms\n",
      "929:\tlearn: 3.7409221\ttotal: 1.23s\tremaining: 92.5ms\n",
      "930:\tlearn: 3.7371396\ttotal: 1.23s\tremaining: 91.2ms\n",
      "931:\tlearn: 3.7368737\ttotal: 1.23s\tremaining: 89.9ms\n",
      "932:\tlearn: 3.7361446\ttotal: 1.23s\tremaining: 88.5ms\n",
      "933:\tlearn: 3.7336172\ttotal: 1.23s\tremaining: 87.2ms\n",
      "934:\tlearn: 3.7318684\ttotal: 1.24s\tremaining: 85.9ms\n",
      "935:\tlearn: 3.7316059\ttotal: 1.24s\tremaining: 84.6ms\n",
      "936:\tlearn: 3.7311836\ttotal: 1.24s\tremaining: 83.2ms\n",
      "937:\tlearn: 3.7293603\ttotal: 1.24s\tremaining: 81.9ms\n",
      "938:\tlearn: 3.7276512\ttotal: 1.24s\tremaining: 80.5ms\n",
      "939:\tlearn: 3.7261071\ttotal: 1.24s\tremaining: 79.2ms\n",
      "940:\tlearn: 3.7253759\ttotal: 1.24s\tremaining: 77.9ms\n",
      "941:\tlearn: 3.7242194\ttotal: 1.24s\tremaining: 76.6ms\n",
      "942:\tlearn: 3.7239622\ttotal: 1.24s\tremaining: 75.2ms\n",
      "943:\tlearn: 3.7238558\ttotal: 1.25s\tremaining: 73.9ms\n",
      "944:\tlearn: 3.7235970\ttotal: 1.25s\tremaining: 72.6ms\n",
      "945:\tlearn: 3.7228434\ttotal: 1.25s\tremaining: 71.3ms\n",
      "946:\tlearn: 3.7226343\ttotal: 1.25s\tremaining: 69.9ms\n",
      "947:\tlearn: 3.7201962\ttotal: 1.25s\tremaining: 68.6ms\n",
      "948:\tlearn: 3.7195430\ttotal: 1.25s\tremaining: 67.3ms\n",
      "949:\tlearn: 3.7193041\ttotal: 1.25s\tremaining: 65.9ms\n",
      "950:\tlearn: 3.7191372\ttotal: 1.25s\tremaining: 64.6ms\n",
      "951:\tlearn: 3.7186013\ttotal: 1.25s\tremaining: 63.3ms\n",
      "952:\tlearn: 3.7185069\ttotal: 1.26s\tremaining: 62ms\n",
      "953:\tlearn: 3.7182672\ttotal: 1.26s\tremaining: 60.6ms\n",
      "954:\tlearn: 3.7181319\ttotal: 1.26s\tremaining: 59.3ms\n",
      "955:\tlearn: 3.7179338\ttotal: 1.26s\tremaining: 58ms\n",
      "956:\tlearn: 3.7168209\ttotal: 1.26s\tremaining: 56.7ms\n",
      "957:\tlearn: 3.7147180\ttotal: 1.26s\tremaining: 55.4ms\n",
      "958:\tlearn: 3.7137698\ttotal: 1.26s\tremaining: 54ms\n",
      "959:\tlearn: 3.7125405\ttotal: 1.26s\tremaining: 52.7ms\n",
      "960:\tlearn: 3.7123481\ttotal: 1.27s\tremaining: 51.4ms\n",
      "961:\tlearn: 3.7119458\ttotal: 1.27s\tremaining: 50.1ms\n",
      "962:\tlearn: 3.7113669\ttotal: 1.27s\tremaining: 48.8ms\n",
      "963:\tlearn: 3.7110850\ttotal: 1.27s\tremaining: 47.4ms\n",
      "964:\tlearn: 3.7107438\ttotal: 1.27s\tremaining: 46.1ms\n",
      "965:\tlearn: 3.7091849\ttotal: 1.27s\tremaining: 44.8ms\n",
      "966:\tlearn: 3.7082413\ttotal: 1.27s\tremaining: 43.5ms\n",
      "967:\tlearn: 3.7071841\ttotal: 1.27s\tremaining: 42.2ms\n",
      "968:\tlearn: 3.7068446\ttotal: 1.28s\tremaining: 40.8ms\n",
      "969:\tlearn: 3.7066122\ttotal: 1.28s\tremaining: 39.5ms\n",
      "970:\tlearn: 3.7060981\ttotal: 1.28s\tremaining: 38.2ms\n",
      "971:\tlearn: 3.7060376\ttotal: 1.28s\tremaining: 36.9ms\n",
      "972:\tlearn: 3.7053614\ttotal: 1.28s\tremaining: 35.5ms\n",
      "973:\tlearn: 3.7050339\ttotal: 1.28s\tremaining: 34.2ms\n",
      "974:\tlearn: 3.7048194\ttotal: 1.28s\tremaining: 32.9ms\n",
      "975:\tlearn: 3.7044843\ttotal: 1.28s\tremaining: 31.6ms\n",
      "976:\tlearn: 3.7030437\ttotal: 1.28s\tremaining: 30.3ms\n",
      "977:\tlearn: 3.7027746\ttotal: 1.29s\tremaining: 29ms\n",
      "978:\tlearn: 3.7026320\ttotal: 1.29s\tremaining: 27.6ms\n",
      "979:\tlearn: 3.7024548\ttotal: 1.29s\tremaining: 26.3ms\n",
      "980:\tlearn: 3.7000973\ttotal: 1.29s\tremaining: 25ms\n",
      "981:\tlearn: 3.6998029\ttotal: 1.29s\tremaining: 23.7ms\n",
      "982:\tlearn: 3.6996988\ttotal: 1.29s\tremaining: 22.4ms\n",
      "983:\tlearn: 3.6994963\ttotal: 1.29s\tremaining: 21ms\n",
      "984:\tlearn: 3.6976083\ttotal: 1.29s\tremaining: 19.7ms\n",
      "985:\tlearn: 3.6974122\ttotal: 1.3s\tremaining: 18.4ms\n",
      "986:\tlearn: 3.6951623\ttotal: 1.3s\tremaining: 17.1ms\n",
      "987:\tlearn: 3.6943282\ttotal: 1.3s\tremaining: 15.8ms\n",
      "988:\tlearn: 3.6941374\ttotal: 1.3s\tremaining: 14.5ms\n",
      "989:\tlearn: 3.6930021\ttotal: 1.3s\tremaining: 13.2ms\n",
      "990:\tlearn: 3.6927724\ttotal: 1.3s\tremaining: 11.8ms\n",
      "991:\tlearn: 3.6925298\ttotal: 1.3s\tremaining: 10.5ms\n",
      "992:\tlearn: 3.6921585\ttotal: 1.3s\tremaining: 9.2ms\n",
      "993:\tlearn: 3.6910719\ttotal: 1.31s\tremaining: 7.88ms\n",
      "994:\tlearn: 3.6909268\ttotal: 1.31s\tremaining: 6.57ms\n",
      "995:\tlearn: 3.6902947\ttotal: 1.31s\tremaining: 5.25ms\n",
      "996:\tlearn: 3.6893607\ttotal: 1.31s\tremaining: 3.94ms\n",
      "997:\tlearn: 3.6888887\ttotal: 1.31s\tremaining: 2.63ms\n",
      "998:\tlearn: 3.6873102\ttotal: 1.31s\tremaining: 1.31ms\n",
      "999:\tlearn: 3.6855698\ttotal: 1.31s\tremaining: 0us\n"
     ]
    }
   ],
   "source": [
    "catb = CatBoostRegressor()\n",
    "catb_model = catb.fit(X_train, y_train)"
   ]
  },
  {
   "cell_type": "markdown",
   "id": "df812d99",
   "metadata": {},
   "source": [
    "### Tahmin"
   ]
  },
  {
   "cell_type": "code",
   "execution_count": 127,
   "id": "c469503d",
   "metadata": {},
   "outputs": [
    {
     "data": {
      "text/plain": [
       "8.51960525522995"
      ]
     },
     "execution_count": 127,
     "metadata": {},
     "output_type": "execute_result"
    }
   ],
   "source": [
    "y_pred = catb_model.predict(X_test)\n",
    "np.sqrt(mean_squared_error(y_test, y_pred))"
   ]
  },
  {
   "cell_type": "markdown",
   "id": "0480f581",
   "metadata": {},
   "source": [
    "### Model Tuning"
   ]
  },
  {
   "cell_type": "code",
   "execution_count": 128,
   "id": "5dc797af",
   "metadata": {},
   "outputs": [],
   "source": [
    "catb_grid = {\n",
    "    'iterations': [200,500,1000,2000],\n",
    "    'learning_rate': [0.01, 0.03, 0.05, 0.1],\n",
    "    'depth': [3,4,5,6,7,8] }"
   ]
  },
  {
   "cell_type": "code",
   "execution_count": 129,
   "id": "44a9cd82",
   "metadata": {},
   "outputs": [],
   "source": [
    "catb = CatBoostRegressor()\n",
    "catb_cv_model = GridSearchCV(catb, catb_grid, cv=5, n_jobs = -1, verbose = 2)"
   ]
  },
  {
   "cell_type": "code",
   "execution_count": 130,
   "id": "3be6c181",
   "metadata": {},
   "outputs": [
    {
     "name": "stdout",
     "output_type": "stream",
     "text": [
      "Fitting 5 folds for each of 96 candidates, totalling 480 fits\n",
      "0:\tlearn: 57.2426338\ttotal: 1.75ms\tremaining: 875ms\n",
      "1:\tlearn: 52.7410055\ttotal: 3.54ms\tremaining: 881ms\n",
      "2:\tlearn: 48.4677917\ttotal: 5.09ms\tremaining: 844ms\n",
      "3:\tlearn: 44.6714799\ttotal: 6.79ms\tremaining: 842ms\n",
      "4:\tlearn: 41.3093612\ttotal: 8.38ms\tremaining: 830ms\n",
      "5:\tlearn: 38.2561461\ttotal: 9.45ms\tremaining: 778ms\n",
      "6:\tlearn: 35.2281129\ttotal: 11ms\tremaining: 776ms\n",
      "7:\tlearn: 32.5182324\ttotal: 12.5ms\tremaining: 771ms\n",
      "8:\tlearn: 30.2313917\ttotal: 14.1ms\tremaining: 768ms\n",
      "9:\tlearn: 28.1736864\ttotal: 15.6ms\tremaining: 765ms\n",
      "10:\tlearn: 26.1573522\ttotal: 17.2ms\tremaining: 766ms\n",
      "11:\tlearn: 24.4132767\ttotal: 18.8ms\tremaining: 763ms\n",
      "12:\tlearn: 22.9225734\ttotal: 20.3ms\tremaining: 762ms\n",
      "13:\tlearn: 21.5807779\ttotal: 21.9ms\tremaining: 760ms\n",
      "14:\tlearn: 20.4002656\ttotal: 23.5ms\tremaining: 760ms\n",
      "15:\tlearn: 19.2554082\ttotal: 25ms\tremaining: 756ms\n",
      "16:\tlearn: 18.1236764\ttotal: 26.6ms\tremaining: 755ms\n",
      "17:\tlearn: 17.1951094\ttotal: 28.1ms\tremaining: 752ms\n",
      "18:\tlearn: 16.4473785\ttotal: 29.6ms\tremaining: 750ms\n",
      "19:\tlearn: 15.6714300\ttotal: 31.1ms\tremaining: 746ms\n",
      "20:\tlearn: 15.0442118\ttotal: 32.6ms\tremaining: 744ms\n",
      "21:\tlearn: 14.4495805\ttotal: 34.1ms\tremaining: 742ms\n",
      "22:\tlearn: 13.8176859\ttotal: 35.8ms\tremaining: 743ms\n",
      "23:\tlearn: 13.3084556\ttotal: 37.3ms\tremaining: 740ms\n",
      "24:\tlearn: 12.8314171\ttotal: 38.9ms\tremaining: 738ms\n",
      "25:\tlearn: 12.4974775\ttotal: 39.9ms\tremaining: 728ms\n",
      "26:\tlearn: 12.1343926\ttotal: 41.4ms\tremaining: 726ms\n",
      "27:\tlearn: 11.8326424\ttotal: 43ms\tremaining: 724ms\n",
      "28:\tlearn: 11.5028209\ttotal: 44.5ms\tremaining: 722ms\n",
      "29:\tlearn: 11.0940066\ttotal: 46ms\tremaining: 720ms\n",
      "30:\tlearn: 10.8313146\ttotal: 47.4ms\tremaining: 718ms\n",
      "31:\tlearn: 10.5994648\ttotal: 49.2ms\tremaining: 719ms\n",
      "32:\tlearn: 10.3945865\ttotal: 50.7ms\tremaining: 717ms\n",
      "33:\tlearn: 10.1345755\ttotal: 52.2ms\tremaining: 715ms\n",
      "34:\tlearn: 9.9162364\ttotal: 53.5ms\tremaining: 711ms\n",
      "35:\tlearn: 9.7576233\ttotal: 55ms\tremaining: 709ms\n",
      "36:\tlearn: 9.6313988\ttotal: 56.5ms\tremaining: 707ms\n",
      "37:\tlearn: 9.4035308\ttotal: 58.1ms\tremaining: 706ms\n",
      "38:\tlearn: 9.2209401\ttotal: 59.5ms\tremaining: 704ms\n",
      "39:\tlearn: 9.0299358\ttotal: 61ms\tremaining: 701ms\n",
      "40:\tlearn: 8.9102885\ttotal: 62.7ms\tremaining: 702ms\n",
      "41:\tlearn: 8.7671601\ttotal: 64.2ms\tremaining: 701ms\n",
      "42:\tlearn: 8.6930687\ttotal: 65.3ms\tremaining: 695ms\n",
      "43:\tlearn: 8.6399393\ttotal: 66.4ms\tremaining: 689ms\n",
      "44:\tlearn: 8.5294783\ttotal: 68ms\tremaining: 687ms\n",
      "45:\tlearn: 8.4283447\ttotal: 69.5ms\tremaining: 686ms\n",
      "46:\tlearn: 8.3134668\ttotal: 71ms\tremaining: 684ms\n",
      "47:\tlearn: 8.2034037\ttotal: 72.4ms\tremaining: 682ms\n",
      "48:\tlearn: 8.1066858\ttotal: 73.9ms\tremaining: 680ms\n",
      "49:\tlearn: 8.0142308\ttotal: 75.4ms\tremaining: 678ms\n",
      "50:\tlearn: 7.9000966\ttotal: 77.1ms\tremaining: 679ms\n",
      "51:\tlearn: 7.8147705\ttotal: 78.5ms\tremaining: 676ms\n",
      "52:\tlearn: 7.7432865\ttotal: 80ms\tremaining: 675ms\n",
      "53:\tlearn: 7.6670973\ttotal: 81.4ms\tremaining: 673ms\n",
      "54:\tlearn: 7.6020175\ttotal: 82.9ms\tremaining: 671ms\n",
      "55:\tlearn: 7.5133351\ttotal: 84.5ms\tremaining: 670ms\n",
      "56:\tlearn: 7.4422715\ttotal: 86ms\tremaining: 668ms\n",
      "57:\tlearn: 7.3790920\ttotal: 87.5ms\tremaining: 667ms\n",
      "58:\tlearn: 7.3144332\ttotal: 89ms\tremaining: 665ms\n",
      "59:\tlearn: 7.2636602\ttotal: 90.5ms\tremaining: 664ms\n",
      "60:\tlearn: 7.1902257\ttotal: 92.2ms\tremaining: 664ms\n",
      "61:\tlearn: 7.1534745\ttotal: 93.7ms\tremaining: 662ms\n",
      "62:\tlearn: 7.1083592\ttotal: 95.2ms\tremaining: 661ms\n",
      "63:\tlearn: 7.0568277\ttotal: 96.8ms\tremaining: 659ms\n",
      "64:\tlearn: 7.0091431\ttotal: 98.3ms\tremaining: 658ms\n",
      "65:\tlearn: 6.9223109\ttotal: 99.9ms\tremaining: 657ms\n",
      "66:\tlearn: 6.8861209\ttotal: 101ms\tremaining: 654ms\n",
      "67:\tlearn: 6.8467127\ttotal: 103ms\tremaining: 653ms\n",
      "68:\tlearn: 6.7915827\ttotal: 105ms\tremaining: 653ms\n",
      "69:\tlearn: 6.7407495\ttotal: 106ms\tremaining: 654ms\n",
      "70:\tlearn: 6.7180217\ttotal: 107ms\tremaining: 648ms\n",
      "71:\tlearn: 6.6689387\ttotal: 109ms\tremaining: 647ms\n",
      "72:\tlearn: 6.6282071\ttotal: 110ms\tremaining: 646ms\n",
      "73:\tlearn: 6.5994664\ttotal: 112ms\tremaining: 645ms\n",
      "74:\tlearn: 6.5338785\ttotal: 114ms\tremaining: 644ms\n",
      "75:\tlearn: 6.4805391\ttotal: 115ms\tremaining: 642ms\n",
      "76:\tlearn: 6.4587175\ttotal: 117ms\tremaining: 641ms\n",
      "77:\tlearn: 6.4363658\ttotal: 118ms\tremaining: 639ms\n",
      "78:\tlearn: 6.3728683\ttotal: 120ms\tremaining: 637ms\n",
      "79:\tlearn: 6.3471961\ttotal: 121ms\tremaining: 636ms\n",
      "80:\tlearn: 6.3250962\ttotal: 123ms\tremaining: 634ms\n",
      "81:\tlearn: 6.3071948\ttotal: 124ms\tremaining: 633ms\n",
      "82:\tlearn: 6.2894376\ttotal: 125ms\tremaining: 631ms\n",
      "83:\tlearn: 6.2294429\ttotal: 127ms\tremaining: 629ms\n",
      "84:\tlearn: 6.2121302\ttotal: 128ms\tremaining: 627ms\n",
      "85:\tlearn: 6.1820655\ttotal: 130ms\tremaining: 625ms\n",
      "86:\tlearn: 6.1377492\ttotal: 131ms\tremaining: 623ms\n",
      "87:\tlearn: 6.1287549\ttotal: 133ms\tremaining: 622ms\n",
      "88:\tlearn: 6.1137622\ttotal: 135ms\tremaining: 622ms\n",
      "89:\tlearn: 6.0988972\ttotal: 136ms\tremaining: 621ms\n",
      "90:\tlearn: 6.0903056\ttotal: 138ms\tremaining: 620ms\n",
      "91:\tlearn: 6.0801359\ttotal: 139ms\tremaining: 618ms\n",
      "92:\tlearn: 6.0237641\ttotal: 141ms\tremaining: 618ms\n",
      "93:\tlearn: 6.0161877\ttotal: 143ms\tremaining: 617ms\n",
      "94:\tlearn: 6.0064884\ttotal: 144ms\tremaining: 615ms\n",
      "95:\tlearn: 5.9704979\ttotal: 146ms\tremaining: 614ms\n",
      "96:\tlearn: 5.9162253\ttotal: 148ms\tremaining: 613ms\n",
      "97:\tlearn: 5.8800373\ttotal: 149ms\tremaining: 613ms\n",
      "98:\tlearn: 5.8421460\ttotal: 151ms\tremaining: 612ms\n",
      "99:\tlearn: 5.8155838\ttotal: 153ms\tremaining: 611ms\n",
      "100:\tlearn: 5.8090974\ttotal: 154ms\tremaining: 610ms\n",
      "101:\tlearn: 5.7855531\ttotal: 156ms\tremaining: 609ms\n",
      "102:\tlearn: 5.7746286\ttotal: 158ms\tremaining: 607ms\n",
      "103:\tlearn: 5.7660467\ttotal: 159ms\tremaining: 605ms\n",
      "104:\tlearn: 5.7303303\ttotal: 161ms\tremaining: 604ms\n",
      "105:\tlearn: 5.7257665\ttotal: 162ms\tremaining: 602ms\n",
      "106:\tlearn: 5.7165927\ttotal: 164ms\tremaining: 602ms\n",
      "107:\tlearn: 5.6538388\ttotal: 166ms\tremaining: 602ms\n",
      "108:\tlearn: 5.6321339\ttotal: 168ms\tremaining: 601ms\n",
      "109:\tlearn: 5.6110225\ttotal: 170ms\tremaining: 601ms\n",
      "110:\tlearn: 5.5686293\ttotal: 171ms\tremaining: 600ms\n",
      "111:\tlearn: 5.5632629\ttotal: 173ms\tremaining: 599ms\n",
      "112:\tlearn: 5.5579763\ttotal: 175ms\tremaining: 598ms\n",
      "113:\tlearn: 5.5281926\ttotal: 177ms\tremaining: 598ms\n",
      "114:\tlearn: 5.5125045\ttotal: 179ms\tremaining: 598ms\n",
      "115:\tlearn: 5.4843398\ttotal: 180ms\tremaining: 597ms\n",
      "116:\tlearn: 5.4755537\ttotal: 182ms\tremaining: 596ms\n",
      "117:\tlearn: 5.4689054\ttotal: 183ms\tremaining: 594ms\n",
      "118:\tlearn: 5.4567688\ttotal: 185ms\tremaining: 592ms\n",
      "119:\tlearn: 5.4518127\ttotal: 187ms\tremaining: 591ms\n",
      "120:\tlearn: 5.4471567\ttotal: 188ms\tremaining: 589ms\n",
      "121:\tlearn: 5.4405208\ttotal: 189ms\tremaining: 587ms\n",
      "122:\tlearn: 5.4364903\ttotal: 191ms\tremaining: 586ms\n",
      "123:\tlearn: 5.3963936\ttotal: 193ms\tremaining: 585ms\n",
      "124:\tlearn: 5.3795664\ttotal: 194ms\tremaining: 583ms\n",
      "125:\tlearn: 5.3735157\ttotal: 196ms\tremaining: 582ms\n",
      "126:\tlearn: 5.3697165\ttotal: 198ms\tremaining: 580ms\n",
      "127:\tlearn: 5.3639616\ttotal: 199ms\tremaining: 579ms\n",
      "128:\tlearn: 5.3322463\ttotal: 201ms\tremaining: 578ms\n",
      "129:\tlearn: 5.2865001\ttotal: 203ms\tremaining: 577ms\n",
      "130:\tlearn: 5.2829714\ttotal: 204ms\tremaining: 576ms\n",
      "131:\tlearn: 5.2797010\ttotal: 206ms\tremaining: 574ms\n",
      "132:\tlearn: 5.2562491\ttotal: 208ms\tremaining: 573ms\n",
      "133:\tlearn: 5.2415121\ttotal: 209ms\tremaining: 572ms\n",
      "134:\tlearn: 5.2174920\ttotal: 211ms\tremaining: 570ms\n",
      "135:\tlearn: 5.2123479\ttotal: 213ms\tremaining: 569ms\n",
      "136:\tlearn: 5.1791804\ttotal: 214ms\tremaining: 567ms\n",
      "137:\tlearn: 5.1641250\ttotal: 216ms\tremaining: 566ms\n",
      "138:\tlearn: 5.1288600\ttotal: 217ms\tremaining: 564ms\n",
      "139:\tlearn: 5.1258971\ttotal: 219ms\tremaining: 562ms\n",
      "140:\tlearn: 5.1053983\ttotal: 220ms\tremaining: 561ms\n",
      "141:\tlearn: 5.1012240\ttotal: 222ms\tremaining: 559ms\n",
      "142:\tlearn: 5.0816112\ttotal: 223ms\tremaining: 557ms\n",
      "143:\tlearn: 5.0780562\ttotal: 225ms\tremaining: 556ms\n",
      "144:\tlearn: 5.0735661\ttotal: 226ms\tremaining: 554ms\n",
      "145:\tlearn: 5.0710001\ttotal: 228ms\tremaining: 552ms\n",
      "146:\tlearn: 5.0670753\ttotal: 229ms\tremaining: 550ms\n",
      "147:\tlearn: 5.0529586\ttotal: 231ms\tremaining: 549ms\n",
      "148:\tlearn: 5.0297443\ttotal: 232ms\tremaining: 548ms\n",
      "149:\tlearn: 4.9910395\ttotal: 234ms\tremaining: 546ms\n",
      "150:\tlearn: 4.9661081\ttotal: 235ms\tremaining: 544ms\n",
      "151:\tlearn: 4.9533650\ttotal: 237ms\tremaining: 542ms\n",
      "152:\tlearn: 4.9497314\ttotal: 238ms\tremaining: 540ms\n",
      "153:\tlearn: 4.9352296\ttotal: 240ms\tremaining: 538ms\n",
      "154:\tlearn: 4.9305727\ttotal: 241ms\tremaining: 537ms\n",
      "155:\tlearn: 4.9120138\ttotal: 243ms\tremaining: 535ms\n",
      "156:\tlearn: 4.9087167\ttotal: 244ms\tremaining: 533ms\n",
      "157:\tlearn: 4.8792688\ttotal: 246ms\tremaining: 532ms\n",
      "158:\tlearn: 4.8761652\ttotal: 248ms\tremaining: 531ms\n",
      "159:\tlearn: 4.8732328\ttotal: 249ms\tremaining: 530ms\n",
      "160:\tlearn: 4.8692410\ttotal: 251ms\tremaining: 528ms\n",
      "161:\tlearn: 4.8486629\ttotal: 252ms\tremaining: 526ms\n",
      "162:\tlearn: 4.8193284\ttotal: 254ms\tremaining: 525ms\n",
      "163:\tlearn: 4.8006682\ttotal: 255ms\tremaining: 523ms\n",
      "164:\tlearn: 4.7976182\ttotal: 257ms\tremaining: 521ms\n",
      "165:\tlearn: 4.7723586\ttotal: 258ms\tremaining: 520ms\n",
      "166:\tlearn: 4.7450413\ttotal: 260ms\tremaining: 518ms\n",
      "167:\tlearn: 4.7224512\ttotal: 262ms\tremaining: 517ms\n",
      "168:\tlearn: 4.7017304\ttotal: 263ms\tremaining: 515ms\n",
      "169:\tlearn: 4.6930441\ttotal: 264ms\tremaining: 513ms\n",
      "170:\tlearn: 4.6679897\ttotal: 266ms\tremaining: 512ms\n",
      "171:\tlearn: 4.6653148\ttotal: 267ms\tremaining: 510ms\n",
      "172:\tlearn: 4.6454628\ttotal: 269ms\tremaining: 508ms\n",
      "173:\tlearn: 4.6351991\ttotal: 270ms\tremaining: 506ms\n",
      "174:\tlearn: 4.6279364\ttotal: 272ms\tremaining: 505ms\n",
      "175:\tlearn: 4.5996197\ttotal: 273ms\tremaining: 503ms\n",
      "176:\tlearn: 4.5967973\ttotal: 275ms\tremaining: 501ms\n",
      "177:\tlearn: 4.5931894\ttotal: 276ms\tremaining: 500ms\n",
      "178:\tlearn: 4.5735552\ttotal: 278ms\tremaining: 498ms\n",
      "179:\tlearn: 4.5712942\ttotal: 279ms\tremaining: 497ms\n",
      "180:\tlearn: 4.5696278\ttotal: 281ms\tremaining: 495ms\n",
      "181:\tlearn: 4.5520813\ttotal: 283ms\tremaining: 494ms\n",
      "182:\tlearn: 4.5380491\ttotal: 284ms\tremaining: 492ms\n",
      "183:\tlearn: 4.5248778\ttotal: 286ms\tremaining: 491ms\n",
      "184:\tlearn: 4.5002816\ttotal: 288ms\tremaining: 490ms\n",
      "185:\tlearn: 4.4869406\ttotal: 290ms\tremaining: 489ms\n",
      "186:\tlearn: 4.4850984\ttotal: 291ms\tremaining: 487ms\n",
      "187:\tlearn: 4.4679576\ttotal: 293ms\tremaining: 486ms\n",
      "188:\tlearn: 4.4655979\ttotal: 294ms\tremaining: 484ms\n",
      "189:\tlearn: 4.4545852\ttotal: 296ms\tremaining: 482ms\n",
      "190:\tlearn: 4.4533385\ttotal: 297ms\tremaining: 481ms\n",
      "191:\tlearn: 4.4384837\ttotal: 299ms\tremaining: 480ms\n",
      "192:\tlearn: 4.4283191\ttotal: 300ms\tremaining: 478ms\n",
      "193:\tlearn: 4.4270312\ttotal: 302ms\tremaining: 476ms\n",
      "194:\tlearn: 4.4185658\ttotal: 304ms\tremaining: 475ms\n",
      "195:\tlearn: 4.3929627\ttotal: 305ms\tremaining: 474ms\n",
      "196:\tlearn: 4.3859924\ttotal: 307ms\tremaining: 472ms\n",
      "197:\tlearn: 4.3704650\ttotal: 309ms\tremaining: 471ms\n",
      "198:\tlearn: 4.3544273\ttotal: 310ms\tremaining: 469ms\n",
      "199:\tlearn: 4.3476705\ttotal: 312ms\tremaining: 467ms\n",
      "200:\tlearn: 4.3450907\ttotal: 313ms\tremaining: 466ms\n",
      "201:\tlearn: 4.3230529\ttotal: 315ms\tremaining: 464ms\n",
      "202:\tlearn: 4.3210953\ttotal: 316ms\tremaining: 463ms\n",
      "203:\tlearn: 4.3078018\ttotal: 318ms\tremaining: 461ms\n",
      "204:\tlearn: 4.2886235\ttotal: 320ms\tremaining: 460ms\n",
      "205:\tlearn: 4.2863901\ttotal: 321ms\tremaining: 458ms\n",
      "206:\tlearn: 4.2687410\ttotal: 323ms\tremaining: 457ms\n",
      "207:\tlearn: 4.2601269\ttotal: 324ms\tremaining: 455ms\n",
      "208:\tlearn: 4.2537328\ttotal: 326ms\tremaining: 454ms\n",
      "209:\tlearn: 4.2393102\ttotal: 328ms\tremaining: 453ms\n",
      "210:\tlearn: 4.2244239\ttotal: 329ms\tremaining: 451ms\n",
      "211:\tlearn: 4.2190278\ttotal: 331ms\tremaining: 449ms\n",
      "212:\tlearn: 4.2172586\ttotal: 333ms\tremaining: 448ms\n",
      "213:\tlearn: 4.2013388\ttotal: 334ms\tremaining: 447ms\n"
     ]
    },
    {
     "name": "stdout",
     "output_type": "stream",
     "text": [
      "214:\tlearn: 4.1985475\ttotal: 336ms\tremaining: 445ms\n",
      "215:\tlearn: 4.1885102\ttotal: 338ms\tremaining: 444ms\n",
      "216:\tlearn: 4.1815483\ttotal: 339ms\tremaining: 442ms\n",
      "217:\tlearn: 4.1797640\ttotal: 341ms\tremaining: 441ms\n",
      "218:\tlearn: 4.1663462\ttotal: 342ms\tremaining: 439ms\n",
      "219:\tlearn: 4.1609561\ttotal: 344ms\tremaining: 438ms\n",
      "220:\tlearn: 4.1541765\ttotal: 345ms\tremaining: 436ms\n",
      "221:\tlearn: 4.1479604\ttotal: 347ms\tremaining: 435ms\n",
      "222:\tlearn: 4.1433265\ttotal: 349ms\tremaining: 433ms\n",
      "223:\tlearn: 4.1386123\ttotal: 351ms\tremaining: 432ms\n",
      "224:\tlearn: 4.1274714\ttotal: 352ms\tremaining: 431ms\n",
      "225:\tlearn: 4.1259464\ttotal: 354ms\tremaining: 430ms\n",
      "226:\tlearn: 4.1228907\ttotal: 356ms\tremaining: 428ms\n",
      "227:\tlearn: 4.1186529\ttotal: 358ms\tremaining: 427ms\n",
      "228:\tlearn: 4.1053783\ttotal: 359ms\tremaining: 425ms\n",
      "229:\tlearn: 4.0961951\ttotal: 361ms\tremaining: 424ms\n",
      "230:\tlearn: 4.0949882\ttotal: 363ms\tremaining: 423ms\n",
      "231:\tlearn: 4.0888344\ttotal: 364ms\tremaining: 421ms\n",
      "232:\tlearn: 4.0870418\ttotal: 366ms\tremaining: 419ms\n",
      "233:\tlearn: 4.0838338\ttotal: 367ms\tremaining: 417ms\n",
      "234:\tlearn: 4.0824711\ttotal: 369ms\tremaining: 416ms\n",
      "235:\tlearn: 4.0769350\ttotal: 370ms\tremaining: 414ms\n",
      "236:\tlearn: 4.0640062\ttotal: 372ms\tremaining: 413ms\n",
      "237:\tlearn: 4.0511084\ttotal: 373ms\tremaining: 411ms\n",
      "238:\tlearn: 4.0480359\ttotal: 375ms\tremaining: 409ms\n",
      "239:\tlearn: 4.0433414\ttotal: 376ms\tremaining: 408ms\n",
      "240:\tlearn: 4.0356667\ttotal: 378ms\tremaining: 406ms\n",
      "241:\tlearn: 4.0310960\ttotal: 379ms\tremaining: 405ms\n",
      "242:\tlearn: 4.0283324\ttotal: 381ms\tremaining: 403ms\n",
      "243:\tlearn: 4.0273310\ttotal: 383ms\tremaining: 402ms\n",
      "244:\tlearn: 4.0256849\ttotal: 384ms\tremaining: 400ms\n",
      "245:\tlearn: 4.0225244\ttotal: 386ms\tremaining: 398ms\n",
      "246:\tlearn: 4.0207639\ttotal: 387ms\tremaining: 397ms\n",
      "247:\tlearn: 4.0186251\ttotal: 389ms\tremaining: 396ms\n",
      "248:\tlearn: 4.0085727\ttotal: 391ms\tremaining: 394ms\n",
      "249:\tlearn: 4.0022909\ttotal: 393ms\tremaining: 393ms\n",
      "250:\tlearn: 3.9977893\ttotal: 395ms\tremaining: 391ms\n",
      "251:\tlearn: 3.9967748\ttotal: 396ms\tremaining: 390ms\n",
      "252:\tlearn: 3.9889000\ttotal: 398ms\tremaining: 389ms\n",
      "253:\tlearn: 3.9739113\ttotal: 400ms\tremaining: 387ms\n",
      "254:\tlearn: 3.9720006\ttotal: 401ms\tremaining: 386ms\n",
      "255:\tlearn: 3.9675097\ttotal: 403ms\tremaining: 385ms\n",
      "256:\tlearn: 3.9653671\ttotal: 405ms\tremaining: 383ms\n",
      "257:\tlearn: 3.9638245\ttotal: 407ms\tremaining: 382ms\n",
      "258:\tlearn: 3.9583678\ttotal: 408ms\tremaining: 380ms\n",
      "259:\tlearn: 3.9567581\ttotal: 410ms\tremaining: 378ms\n",
      "260:\tlearn: 3.9529429\ttotal: 411ms\tremaining: 377ms\n",
      "261:\tlearn: 3.9423575\ttotal: 413ms\tremaining: 375ms\n",
      "262:\tlearn: 3.9385215\ttotal: 415ms\tremaining: 374ms\n",
      "263:\tlearn: 3.9315551\ttotal: 417ms\tremaining: 373ms\n",
      "264:\tlearn: 3.9284376\ttotal: 418ms\tremaining: 371ms\n",
      "265:\tlearn: 3.9171534\ttotal: 420ms\tremaining: 369ms\n",
      "266:\tlearn: 3.9151230\ttotal: 422ms\tremaining: 368ms\n",
      "267:\tlearn: 3.9048334\ttotal: 423ms\tremaining: 366ms\n",
      "268:\tlearn: 3.8921695\ttotal: 425ms\tremaining: 365ms\n",
      "269:\tlearn: 3.8859510\ttotal: 426ms\tremaining: 363ms\n",
      "270:\tlearn: 3.8802785\ttotal: 428ms\tremaining: 362ms\n",
      "271:\tlearn: 3.8785229\ttotal: 430ms\tremaining: 360ms\n",
      "272:\tlearn: 3.8731319\ttotal: 431ms\tremaining: 359ms\n",
      "273:\tlearn: 3.8638044\ttotal: 433ms\tremaining: 357ms\n",
      "274:\tlearn: 3.8604579\ttotal: 435ms\tremaining: 356ms\n",
      "275:\tlearn: 3.8563803\ttotal: 436ms\tremaining: 354ms\n",
      "276:\tlearn: 3.8456373\ttotal: 438ms\tremaining: 353ms\n",
      "277:\tlearn: 3.8436192\ttotal: 440ms\tremaining: 351ms\n",
      "278:\tlearn: 3.8396997\ttotal: 441ms\tremaining: 349ms\n",
      "279:\tlearn: 3.8353787\ttotal: 443ms\tremaining: 348ms\n",
      "280:\tlearn: 3.8333809\ttotal: 444ms\tremaining: 346ms\n",
      "281:\tlearn: 3.8296278\ttotal: 446ms\tremaining: 344ms\n",
      "282:\tlearn: 3.8222390\ttotal: 447ms\tremaining: 343ms\n",
      "283:\tlearn: 3.8196758\ttotal: 448ms\tremaining: 341ms\n",
      "284:\tlearn: 3.8177222\ttotal: 450ms\tremaining: 339ms\n",
      "285:\tlearn: 3.8119541\ttotal: 451ms\tremaining: 338ms\n",
      "286:\tlearn: 3.8067194\ttotal: 453ms\tremaining: 336ms\n",
      "287:\tlearn: 3.8055381\ttotal: 454ms\tremaining: 334ms\n",
      "288:\tlearn: 3.8001795\ttotal: 456ms\tremaining: 333ms\n",
      "289:\tlearn: 3.7996007\ttotal: 457ms\tremaining: 331ms\n",
      "290:\tlearn: 3.7948679\ttotal: 459ms\tremaining: 329ms\n",
      "291:\tlearn: 3.7932446\ttotal: 460ms\tremaining: 328ms\n",
      "292:\tlearn: 3.7909983\ttotal: 462ms\tremaining: 326ms\n",
      "293:\tlearn: 3.7884513\ttotal: 463ms\tremaining: 325ms\n",
      "294:\tlearn: 3.7877276\ttotal: 465ms\tremaining: 323ms\n",
      "295:\tlearn: 3.7873445\ttotal: 466ms\tremaining: 321ms\n",
      "296:\tlearn: 3.7825886\ttotal: 468ms\tremaining: 320ms\n",
      "297:\tlearn: 3.7819685\ttotal: 469ms\tremaining: 318ms\n",
      "298:\tlearn: 3.7813370\ttotal: 471ms\tremaining: 316ms\n",
      "299:\tlearn: 3.7747246\ttotal: 472ms\tremaining: 315ms\n",
      "300:\tlearn: 3.7701972\ttotal: 474ms\tremaining: 313ms\n",
      "301:\tlearn: 3.7684732\ttotal: 476ms\tremaining: 312ms\n",
      "302:\tlearn: 3.7614794\ttotal: 477ms\tremaining: 310ms\n",
      "303:\tlearn: 3.7529923\ttotal: 479ms\tremaining: 309ms\n",
      "304:\tlearn: 3.7474151\ttotal: 481ms\tremaining: 307ms\n",
      "305:\tlearn: 3.7423021\ttotal: 482ms\tremaining: 306ms\n",
      "306:\tlearn: 3.7404746\ttotal: 484ms\tremaining: 304ms\n",
      "307:\tlearn: 3.7393155\ttotal: 485ms\tremaining: 303ms\n",
      "308:\tlearn: 3.7370079\ttotal: 487ms\tremaining: 301ms\n",
      "309:\tlearn: 3.7332093\ttotal: 489ms\tremaining: 300ms\n",
      "310:\tlearn: 3.7298569\ttotal: 491ms\tremaining: 298ms\n",
      "311:\tlearn: 3.7268267\ttotal: 492ms\tremaining: 297ms\n",
      "312:\tlearn: 3.7248303\ttotal: 494ms\tremaining: 295ms\n",
      "313:\tlearn: 3.7218482\ttotal: 495ms\tremaining: 293ms\n",
      "314:\tlearn: 3.7168241\ttotal: 497ms\tremaining: 292ms\n",
      "315:\tlearn: 3.7136708\ttotal: 499ms\tremaining: 290ms\n",
      "316:\tlearn: 3.7087063\ttotal: 500ms\tremaining: 289ms\n",
      "317:\tlearn: 3.7057433\ttotal: 502ms\tremaining: 287ms\n",
      "318:\tlearn: 3.7041339\ttotal: 504ms\tremaining: 286ms\n",
      "319:\tlearn: 3.7010527\ttotal: 505ms\tremaining: 284ms\n",
      "320:\tlearn: 3.6989266\ttotal: 507ms\tremaining: 283ms\n",
      "321:\tlearn: 3.6984880\ttotal: 509ms\tremaining: 281ms\n",
      "322:\tlearn: 3.6971006\ttotal: 510ms\tremaining: 280ms\n",
      "323:\tlearn: 3.6958675\ttotal: 512ms\tremaining: 278ms\n",
      "324:\tlearn: 3.6925624\ttotal: 514ms\tremaining: 277ms\n",
      "325:\tlearn: 3.6914260\ttotal: 515ms\tremaining: 275ms\n",
      "326:\tlearn: 3.6892689\ttotal: 517ms\tremaining: 273ms\n",
      "327:\tlearn: 3.6862841\ttotal: 518ms\tremaining: 272ms\n",
      "328:\tlearn: 3.6835256\ttotal: 520ms\tremaining: 270ms\n",
      "329:\tlearn: 3.6821631\ttotal: 522ms\tremaining: 269ms\n",
      "330:\tlearn: 3.6814510\ttotal: 523ms\tremaining: 267ms\n",
      "331:\tlearn: 3.6788415\ttotal: 525ms\tremaining: 265ms\n",
      "332:\tlearn: 3.6773229\ttotal: 526ms\tremaining: 264ms\n",
      "333:\tlearn: 3.6763810\ttotal: 528ms\tremaining: 262ms\n",
      "334:\tlearn: 3.6742643\ttotal: 529ms\tremaining: 261ms\n",
      "335:\tlearn: 3.6735536\ttotal: 531ms\tremaining: 259ms\n",
      "336:\tlearn: 3.6713222\ttotal: 532ms\tremaining: 258ms\n",
      "337:\tlearn: 3.6688839\ttotal: 534ms\tremaining: 256ms\n",
      "338:\tlearn: 3.6678522\ttotal: 536ms\tremaining: 254ms\n",
      "339:\tlearn: 3.6616977\ttotal: 537ms\tremaining: 253ms\n",
      "340:\tlearn: 3.6612568\ttotal: 539ms\tremaining: 251ms\n",
      "341:\tlearn: 3.6591222\ttotal: 540ms\tremaining: 250ms\n",
      "342:\tlearn: 3.6567460\ttotal: 542ms\tremaining: 248ms\n",
      "343:\tlearn: 3.6548680\ttotal: 543ms\tremaining: 246ms\n",
      "344:\tlearn: 3.6494516\ttotal: 545ms\tremaining: 245ms\n",
      "345:\tlearn: 3.6464079\ttotal: 547ms\tremaining: 243ms\n",
      "346:\tlearn: 3.6458645\ttotal: 548ms\tremaining: 242ms\n",
      "347:\tlearn: 3.6452380\ttotal: 550ms\tremaining: 240ms\n",
      "348:\tlearn: 3.6444307\ttotal: 551ms\tremaining: 238ms\n",
      "349:\tlearn: 3.6440015\ttotal: 552ms\tremaining: 237ms\n",
      "350:\tlearn: 3.6419573\ttotal: 554ms\tremaining: 235ms\n",
      "351:\tlearn: 3.6406113\ttotal: 555ms\tremaining: 233ms\n",
      "352:\tlearn: 3.6334848\ttotal: 557ms\tremaining: 232ms\n",
      "353:\tlearn: 3.6329780\ttotal: 558ms\tremaining: 230ms\n",
      "354:\tlearn: 3.6313314\ttotal: 560ms\tremaining: 229ms\n",
      "355:\tlearn: 3.6307435\ttotal: 561ms\tremaining: 227ms\n",
      "356:\tlearn: 3.6285749\ttotal: 563ms\tremaining: 225ms\n",
      "357:\tlearn: 3.6247405\ttotal: 564ms\tremaining: 224ms\n",
      "358:\tlearn: 3.6245106\ttotal: 566ms\tremaining: 222ms\n",
      "359:\tlearn: 3.6223906\ttotal: 567ms\tremaining: 221ms\n",
      "360:\tlearn: 3.6218017\ttotal: 569ms\tremaining: 219ms\n",
      "361:\tlearn: 3.6212826\ttotal: 570ms\tremaining: 217ms\n",
      "362:\tlearn: 3.6178736\ttotal: 572ms\tremaining: 216ms\n",
      "363:\tlearn: 3.6156460\ttotal: 574ms\tremaining: 214ms\n",
      "364:\tlearn: 3.6150387\ttotal: 575ms\tremaining: 213ms\n",
      "365:\tlearn: 3.6144448\ttotal: 577ms\tremaining: 211ms\n",
      "366:\tlearn: 3.6127179\ttotal: 579ms\tremaining: 210ms\n",
      "367:\tlearn: 3.6062570\ttotal: 581ms\tremaining: 208ms\n",
      "368:\tlearn: 3.6045337\ttotal: 582ms\tremaining: 207ms\n",
      "369:\tlearn: 3.6024740\ttotal: 584ms\tremaining: 205ms\n",
      "370:\tlearn: 3.6006418\ttotal: 585ms\tremaining: 204ms\n",
      "371:\tlearn: 3.6004279\ttotal: 587ms\tremaining: 202ms\n",
      "372:\tlearn: 3.5962442\ttotal: 589ms\tremaining: 200ms\n",
      "373:\tlearn: 3.5941462\ttotal: 591ms\tremaining: 199ms\n",
      "374:\tlearn: 3.5921353\ttotal: 592ms\tremaining: 197ms\n",
      "375:\tlearn: 3.5917659\ttotal: 594ms\tremaining: 196ms\n",
      "376:\tlearn: 3.5909426\ttotal: 595ms\tremaining: 194ms\n",
      "377:\tlearn: 3.5904557\ttotal: 597ms\tremaining: 193ms\n",
      "378:\tlearn: 3.5868499\ttotal: 598ms\tremaining: 191ms\n",
      "379:\tlearn: 3.5863674\ttotal: 600ms\tremaining: 189ms\n",
      "380:\tlearn: 3.5836424\ttotal: 601ms\tremaining: 188ms\n",
      "381:\tlearn: 3.5831958\ttotal: 603ms\tremaining: 186ms\n",
      "382:\tlearn: 3.5828192\ttotal: 604ms\tremaining: 185ms\n",
      "383:\tlearn: 3.5821993\ttotal: 606ms\tremaining: 183ms\n",
      "384:\tlearn: 3.5803197\ttotal: 607ms\tremaining: 181ms\n",
      "385:\tlearn: 3.5772555\ttotal: 609ms\tremaining: 180ms\n",
      "386:\tlearn: 3.5752517\ttotal: 611ms\tremaining: 178ms\n",
      "387:\tlearn: 3.5750541\ttotal: 612ms\tremaining: 177ms\n",
      "388:\tlearn: 3.5736354\ttotal: 614ms\tremaining: 175ms\n",
      "389:\tlearn: 3.5730093\ttotal: 615ms\tremaining: 174ms\n",
      "390:\tlearn: 3.5721847\ttotal: 617ms\tremaining: 172ms\n",
      "391:\tlearn: 3.5699342\ttotal: 619ms\tremaining: 170ms\n",
      "392:\tlearn: 3.5695558\ttotal: 620ms\tremaining: 169ms\n",
      "393:\tlearn: 3.5691498\ttotal: 622ms\tremaining: 167ms\n",
      "394:\tlearn: 3.5655183\ttotal: 623ms\tremaining: 166ms\n",
      "395:\tlearn: 3.5638593\ttotal: 625ms\tremaining: 164ms\n",
      "396:\tlearn: 3.5632532\ttotal: 626ms\tremaining: 163ms\n",
      "397:\tlearn: 3.5628552\ttotal: 628ms\tremaining: 161ms\n",
      "398:\tlearn: 3.5616339\ttotal: 630ms\tremaining: 159ms\n",
      "399:\tlearn: 3.5610839\ttotal: 631ms\tremaining: 158ms\n",
      "400:\tlearn: 3.5606933\ttotal: 633ms\tremaining: 156ms\n",
      "401:\tlearn: 3.5602720\ttotal: 635ms\tremaining: 155ms\n",
      "402:\tlearn: 3.5589183\ttotal: 636ms\tremaining: 153ms\n",
      "403:\tlearn: 3.5576343\ttotal: 638ms\tremaining: 152ms\n",
      "404:\tlearn: 3.5552756\ttotal: 639ms\tremaining: 150ms\n",
      "405:\tlearn: 3.5543211\ttotal: 641ms\tremaining: 148ms\n",
      "406:\tlearn: 3.5528702\ttotal: 643ms\tremaining: 147ms\n",
      "407:\tlearn: 3.5515431\ttotal: 644ms\tremaining: 145ms\n",
      "408:\tlearn: 3.5499500\ttotal: 646ms\tremaining: 144ms\n",
      "409:\tlearn: 3.5479277\ttotal: 648ms\tremaining: 142ms\n",
      "410:\tlearn: 3.5434110\ttotal: 650ms\tremaining: 141ms\n",
      "411:\tlearn: 3.5428385\ttotal: 651ms\tremaining: 139ms\n",
      "412:\tlearn: 3.5422956\ttotal: 653ms\tremaining: 138ms\n",
      "413:\tlearn: 3.5403729\ttotal: 654ms\tremaining: 136ms\n",
      "414:\tlearn: 3.5399936\ttotal: 656ms\tremaining: 134ms\n",
      "415:\tlearn: 3.5388996\ttotal: 658ms\tremaining: 133ms\n",
      "416:\tlearn: 3.5381505\ttotal: 659ms\tremaining: 131ms\n",
      "417:\tlearn: 3.5375730\ttotal: 660ms\tremaining: 130ms\n",
      "418:\tlearn: 3.5355049\ttotal: 662ms\tremaining: 128ms\n",
      "419:\tlearn: 3.5352396\ttotal: 663ms\tremaining: 126ms\n",
      "420:\tlearn: 3.5347486\ttotal: 665ms\tremaining: 125ms\n",
      "421:\tlearn: 3.5303041\ttotal: 666ms\tremaining: 123ms\n",
      "422:\tlearn: 3.5294380\ttotal: 668ms\tremaining: 122ms\n",
      "423:\tlearn: 3.5291706\ttotal: 669ms\tremaining: 120ms\n",
      "424:\tlearn: 3.5277682\ttotal: 671ms\tremaining: 118ms\n",
      "425:\tlearn: 3.5261950\ttotal: 673ms\tremaining: 117ms\n",
      "426:\tlearn: 3.5244841\ttotal: 675ms\tremaining: 115ms\n",
      "427:\tlearn: 3.5233869\ttotal: 676ms\tremaining: 114ms\n"
     ]
    },
    {
     "name": "stdout",
     "output_type": "stream",
     "text": [
      "428:\tlearn: 3.5203863\ttotal: 678ms\tremaining: 112ms\n",
      "429:\tlearn: 3.5196621\ttotal: 680ms\tremaining: 111ms\n",
      "430:\tlearn: 3.5182547\ttotal: 682ms\tremaining: 109ms\n",
      "431:\tlearn: 3.5179611\ttotal: 683ms\tremaining: 108ms\n",
      "432:\tlearn: 3.5177111\ttotal: 685ms\tremaining: 106ms\n",
      "433:\tlearn: 3.5151688\ttotal: 687ms\tremaining: 104ms\n",
      "434:\tlearn: 3.5141042\ttotal: 689ms\tremaining: 103ms\n",
      "435:\tlearn: 3.5135830\ttotal: 690ms\tremaining: 101ms\n",
      "436:\tlearn: 3.5120578\ttotal: 692ms\tremaining: 99.8ms\n",
      "437:\tlearn: 3.5118077\ttotal: 693ms\tremaining: 98.1ms\n",
      "438:\tlearn: 3.5116265\ttotal: 695ms\tremaining: 96.5ms\n",
      "439:\tlearn: 3.5111822\ttotal: 696ms\tremaining: 94.9ms\n",
      "440:\tlearn: 3.5088365\ttotal: 698ms\tremaining: 93.3ms\n",
      "441:\tlearn: 3.5078826\ttotal: 699ms\tremaining: 91.8ms\n",
      "442:\tlearn: 3.5076055\ttotal: 701ms\tremaining: 90.2ms\n",
      "443:\tlearn: 3.5073601\ttotal: 702ms\tremaining: 88.6ms\n",
      "444:\tlearn: 3.5064010\ttotal: 704ms\tremaining: 87ms\n",
      "445:\tlearn: 3.5061880\ttotal: 705ms\tremaining: 85.4ms\n",
      "446:\tlearn: 3.5050925\ttotal: 707ms\tremaining: 83.8ms\n",
      "447:\tlearn: 3.5044518\ttotal: 708ms\tremaining: 82.2ms\n",
      "448:\tlearn: 3.5035276\ttotal: 710ms\tremaining: 80.6ms\n",
      "449:\tlearn: 3.5025613\ttotal: 711ms\tremaining: 79ms\n",
      "450:\tlearn: 3.5021256\ttotal: 713ms\tremaining: 77.4ms\n",
      "451:\tlearn: 3.5017188\ttotal: 715ms\tremaining: 75.9ms\n",
      "452:\tlearn: 3.4995723\ttotal: 716ms\tremaining: 74.3ms\n",
      "453:\tlearn: 3.4993974\ttotal: 718ms\tremaining: 72.7ms\n",
      "454:\tlearn: 3.4990082\ttotal: 719ms\tremaining: 71.1ms\n",
      "455:\tlearn: 3.4970299\ttotal: 721ms\tremaining: 69.6ms\n",
      "456:\tlearn: 3.4957345\ttotal: 722ms\tremaining: 68ms\n",
      "457:\tlearn: 3.4954639\ttotal: 724ms\tremaining: 66.4ms\n",
      "458:\tlearn: 3.4950183\ttotal: 726ms\tremaining: 64.8ms\n",
      "459:\tlearn: 3.4942442\ttotal: 727ms\tremaining: 63.2ms\n",
      "460:\tlearn: 3.4939669\ttotal: 729ms\tremaining: 61.7ms\n",
      "461:\tlearn: 3.4928351\ttotal: 730ms\tremaining: 60.1ms\n",
      "462:\tlearn: 3.4925873\ttotal: 732ms\tremaining: 58.5ms\n",
      "463:\tlearn: 3.4918991\ttotal: 733ms\tremaining: 56.9ms\n",
      "464:\tlearn: 3.4899847\ttotal: 735ms\tremaining: 55.3ms\n",
      "465:\tlearn: 3.4889117\ttotal: 736ms\tremaining: 53.7ms\n",
      "466:\tlearn: 3.4887594\ttotal: 738ms\tremaining: 52.1ms\n",
      "467:\tlearn: 3.4886379\ttotal: 738ms\tremaining: 50.5ms\n",
      "468:\tlearn: 3.4876322\ttotal: 740ms\tremaining: 48.9ms\n",
      "469:\tlearn: 3.4874214\ttotal: 741ms\tremaining: 47.3ms\n",
      "470:\tlearn: 3.4869576\ttotal: 743ms\tremaining: 45.7ms\n",
      "471:\tlearn: 3.4867370\ttotal: 744ms\tremaining: 44.1ms\n",
      "472:\tlearn: 3.4852613\ttotal: 746ms\tremaining: 42.6ms\n",
      "473:\tlearn: 3.4845563\ttotal: 747ms\tremaining: 41ms\n",
      "474:\tlearn: 3.4844007\ttotal: 749ms\tremaining: 39.4ms\n",
      "475:\tlearn: 3.4822361\ttotal: 750ms\tremaining: 37.8ms\n",
      "476:\tlearn: 3.4811386\ttotal: 752ms\tremaining: 36.2ms\n",
      "477:\tlearn: 3.4808825\ttotal: 753ms\tremaining: 34.7ms\n",
      "478:\tlearn: 3.4807803\ttotal: 754ms\tremaining: 33.1ms\n",
      "479:\tlearn: 3.4798960\ttotal: 756ms\tremaining: 31.5ms\n",
      "480:\tlearn: 3.4797363\ttotal: 758ms\tremaining: 29.9ms\n",
      "481:\tlearn: 3.4788784\ttotal: 759ms\tremaining: 28.3ms\n",
      "482:\tlearn: 3.4784012\ttotal: 761ms\tremaining: 26.8ms\n",
      "483:\tlearn: 3.4767310\ttotal: 762ms\tremaining: 25.2ms\n",
      "484:\tlearn: 3.4764602\ttotal: 764ms\tremaining: 23.6ms\n",
      "485:\tlearn: 3.4760526\ttotal: 765ms\tremaining: 22ms\n",
      "486:\tlearn: 3.4759027\ttotal: 766ms\tremaining: 20.4ms\n",
      "487:\tlearn: 3.4741670\ttotal: 768ms\tremaining: 18.9ms\n",
      "488:\tlearn: 3.4739725\ttotal: 769ms\tremaining: 17.3ms\n",
      "489:\tlearn: 3.4721597\ttotal: 771ms\tremaining: 15.7ms\n",
      "490:\tlearn: 3.4720306\ttotal: 773ms\tremaining: 14.2ms\n",
      "491:\tlearn: 3.4712549\ttotal: 774ms\tremaining: 12.6ms\n",
      "492:\tlearn: 3.4709180\ttotal: 776ms\tremaining: 11ms\n",
      "493:\tlearn: 3.4703860\ttotal: 778ms\tremaining: 9.44ms\n",
      "494:\tlearn: 3.4695047\ttotal: 779ms\tremaining: 7.87ms\n",
      "495:\tlearn: 3.4692019\ttotal: 781ms\tremaining: 6.29ms\n",
      "496:\tlearn: 3.4691401\ttotal: 782ms\tremaining: 4.72ms\n",
      "497:\tlearn: 3.4675306\ttotal: 784ms\tremaining: 3.15ms\n",
      "498:\tlearn: 3.4662558\ttotal: 785ms\tremaining: 1.57ms\n",
      "499:\tlearn: 3.4658670\ttotal: 787ms\tremaining: 0us\n",
      "0:02:47.563862\n"
     ]
    }
   ],
   "source": [
    "t1 =  datetime.now()\n",
    "catb_cv_model.fit(X_train, y_train)\n",
    "t2 =  datetime.now()\n",
    "print(t2-t1)"
   ]
  },
  {
   "cell_type": "code",
   "execution_count": 131,
   "id": "c2105f5a",
   "metadata": {},
   "outputs": [
    {
     "data": {
      "text/plain": [
       "{'depth': 7, 'iterations': 500, 'learning_rate': 0.1}"
      ]
     },
     "execution_count": 131,
     "metadata": {},
     "output_type": "execute_result"
    }
   ],
   "source": [
    "catb_cv_model.best_params_"
   ]
  },
  {
   "cell_type": "code",
   "execution_count": 132,
   "id": "02372d38",
   "metadata": {},
   "outputs": [
    {
     "name": "stdout",
     "output_type": "stream",
     "text": [
      "0:\tlearn: 57.2426338\ttotal: 1.87ms\tremaining: 934ms\n",
      "1:\tlearn: 52.7410055\ttotal: 3.68ms\tremaining: 916ms\n",
      "2:\tlearn: 48.4677917\ttotal: 5.37ms\tremaining: 889ms\n",
      "3:\tlearn: 44.6714799\ttotal: 7.04ms\tremaining: 873ms\n",
      "4:\tlearn: 41.3093612\ttotal: 9.14ms\tremaining: 905ms\n",
      "5:\tlearn: 38.2561461\ttotal: 10.5ms\tremaining: 864ms\n",
      "6:\tlearn: 35.2281129\ttotal: 12.3ms\tremaining: 868ms\n",
      "7:\tlearn: 32.5182324\ttotal: 14.2ms\tremaining: 871ms\n",
      "8:\tlearn: 30.2313917\ttotal: 15.9ms\tremaining: 870ms\n",
      "9:\tlearn: 28.1736864\ttotal: 17.8ms\tremaining: 872ms\n",
      "10:\tlearn: 26.1573522\ttotal: 19.5ms\tremaining: 869ms\n",
      "11:\tlearn: 24.4132767\ttotal: 21.3ms\tremaining: 866ms\n",
      "12:\tlearn: 22.9225734\ttotal: 22.9ms\tremaining: 860ms\n",
      "13:\tlearn: 21.5807779\ttotal: 24.7ms\tremaining: 857ms\n",
      "14:\tlearn: 20.4002656\ttotal: 26.4ms\tremaining: 855ms\n",
      "15:\tlearn: 19.2554082\ttotal: 28.3ms\tremaining: 856ms\n",
      "16:\tlearn: 18.1236764\ttotal: 30.1ms\tremaining: 855ms\n",
      "17:\tlearn: 17.1951094\ttotal: 31.8ms\tremaining: 853ms\n",
      "18:\tlearn: 16.4473785\ttotal: 33.6ms\tremaining: 851ms\n",
      "19:\tlearn: 15.6714300\ttotal: 35.5ms\tremaining: 851ms\n",
      "20:\tlearn: 15.0442118\ttotal: 37.3ms\tremaining: 850ms\n",
      "21:\tlearn: 14.4495805\ttotal: 39.1ms\tremaining: 850ms\n",
      "22:\tlearn: 13.8176859\ttotal: 40.9ms\tremaining: 849ms\n",
      "23:\tlearn: 13.3084556\ttotal: 42.8ms\tremaining: 849ms\n",
      "24:\tlearn: 12.8314171\ttotal: 44.5ms\tremaining: 846ms\n",
      "25:\tlearn: 12.4974775\ttotal: 45.9ms\tremaining: 838ms\n",
      "26:\tlearn: 12.1343926\ttotal: 47.7ms\tremaining: 836ms\n",
      "27:\tlearn: 11.8326424\ttotal: 49.7ms\tremaining: 837ms\n",
      "28:\tlearn: 11.5028209\ttotal: 51.7ms\tremaining: 840ms\n",
      "29:\tlearn: 11.0940066\ttotal: 53.5ms\tremaining: 838ms\n",
      "30:\tlearn: 10.8313146\ttotal: 55.3ms\tremaining: 837ms\n",
      "31:\tlearn: 10.5994648\ttotal: 57.1ms\tremaining: 835ms\n",
      "32:\tlearn: 10.3945865\ttotal: 58.8ms\tremaining: 832ms\n",
      "33:\tlearn: 10.1345755\ttotal: 60.5ms\tremaining: 830ms\n",
      "34:\tlearn: 9.9162364\ttotal: 62.3ms\tremaining: 828ms\n",
      "35:\tlearn: 9.7576233\ttotal: 63.9ms\tremaining: 824ms\n",
      "36:\tlearn: 9.6313988\ttotal: 65.6ms\tremaining: 821ms\n",
      "37:\tlearn: 9.4035308\ttotal: 67.2ms\tremaining: 817ms\n",
      "38:\tlearn: 9.2209401\ttotal: 68.9ms\tremaining: 814ms\n",
      "39:\tlearn: 9.0299358\ttotal: 70.6ms\tremaining: 812ms\n",
      "40:\tlearn: 8.9102885\ttotal: 72.3ms\tremaining: 810ms\n",
      "41:\tlearn: 8.7671601\ttotal: 74.2ms\tremaining: 809ms\n",
      "42:\tlearn: 8.6930687\ttotal: 75.6ms\tremaining: 804ms\n",
      "43:\tlearn: 8.6399393\ttotal: 76.9ms\tremaining: 797ms\n",
      "44:\tlearn: 8.5294783\ttotal: 78.6ms\tremaining: 795ms\n",
      "45:\tlearn: 8.4283447\ttotal: 80.3ms\tremaining: 793ms\n",
      "46:\tlearn: 8.3134668\ttotal: 81.8ms\tremaining: 789ms\n",
      "47:\tlearn: 8.2034037\ttotal: 83.3ms\tremaining: 785ms\n",
      "48:\tlearn: 8.1066858\ttotal: 85.1ms\tremaining: 784ms\n",
      "49:\tlearn: 8.0142308\ttotal: 86.8ms\tremaining: 781ms\n",
      "50:\tlearn: 7.9000966\ttotal: 88.4ms\tremaining: 779ms\n",
      "51:\tlearn: 7.8147705\ttotal: 90ms\tremaining: 775ms\n",
      "52:\tlearn: 7.7432865\ttotal: 91.4ms\tremaining: 771ms\n",
      "53:\tlearn: 7.6670973\ttotal: 93ms\tremaining: 768ms\n",
      "54:\tlearn: 7.6020175\ttotal: 94.5ms\tremaining: 765ms\n",
      "55:\tlearn: 7.5133351\ttotal: 96ms\tremaining: 762ms\n",
      "56:\tlearn: 7.4422715\ttotal: 97.7ms\tremaining: 759ms\n",
      "57:\tlearn: 7.3790920\ttotal: 99.5ms\tremaining: 758ms\n",
      "58:\tlearn: 7.3144332\ttotal: 101ms\tremaining: 754ms\n",
      "59:\tlearn: 7.2636602\ttotal: 102ms\tremaining: 750ms\n",
      "60:\tlearn: 7.1902257\ttotal: 104ms\tremaining: 747ms\n",
      "61:\tlearn: 7.1534745\ttotal: 105ms\tremaining: 744ms\n",
      "62:\tlearn: 7.1083592\ttotal: 107ms\tremaining: 740ms\n",
      "63:\tlearn: 7.0568277\ttotal: 108ms\tremaining: 737ms\n",
      "64:\tlearn: 7.0091431\ttotal: 110ms\tremaining: 733ms\n",
      "65:\tlearn: 6.9223109\ttotal: 111ms\tremaining: 730ms\n",
      "66:\tlearn: 6.8861209\ttotal: 112ms\tremaining: 726ms\n",
      "67:\tlearn: 6.8467127\ttotal: 114ms\tremaining: 725ms\n",
      "68:\tlearn: 6.7915827\ttotal: 116ms\tremaining: 723ms\n",
      "69:\tlearn: 6.7407495\ttotal: 117ms\tremaining: 719ms\n",
      "70:\tlearn: 6.7180217\ttotal: 118ms\tremaining: 712ms\n",
      "71:\tlearn: 6.6689387\ttotal: 120ms\tremaining: 711ms\n",
      "72:\tlearn: 6.6282071\ttotal: 121ms\tremaining: 708ms\n",
      "73:\tlearn: 6.5994664\ttotal: 123ms\tremaining: 706ms\n",
      "74:\tlearn: 6.5338785\ttotal: 124ms\tremaining: 704ms\n",
      "75:\tlearn: 6.4805391\ttotal: 126ms\tremaining: 702ms\n",
      "76:\tlearn: 6.4587175\ttotal: 128ms\tremaining: 701ms\n",
      "77:\tlearn: 6.4363658\ttotal: 129ms\tremaining: 699ms\n",
      "78:\tlearn: 6.3728683\ttotal: 131ms\tremaining: 698ms\n",
      "79:\tlearn: 6.3471961\ttotal: 133ms\tremaining: 696ms\n",
      "80:\tlearn: 6.3250962\ttotal: 134ms\tremaining: 694ms\n",
      "81:\tlearn: 6.3071948\ttotal: 136ms\tremaining: 692ms\n",
      "82:\tlearn: 6.2894376\ttotal: 138ms\tremaining: 691ms\n",
      "83:\tlearn: 6.2294429\ttotal: 139ms\tremaining: 689ms\n",
      "84:\tlearn: 6.2121302\ttotal: 141ms\tremaining: 687ms\n",
      "85:\tlearn: 6.1820655\ttotal: 142ms\tremaining: 685ms\n",
      "86:\tlearn: 6.1377492\ttotal: 144ms\tremaining: 683ms\n",
      "87:\tlearn: 6.1287549\ttotal: 145ms\tremaining: 680ms\n",
      "88:\tlearn: 6.1137622\ttotal: 147ms\tremaining: 678ms\n",
      "89:\tlearn: 6.0988972\ttotal: 148ms\tremaining: 675ms\n",
      "90:\tlearn: 6.0903056\ttotal: 150ms\tremaining: 673ms\n",
      "91:\tlearn: 6.0801359\ttotal: 151ms\tremaining: 670ms\n",
      "92:\tlearn: 6.0237641\ttotal: 153ms\tremaining: 668ms\n",
      "93:\tlearn: 6.0161877\ttotal: 154ms\tremaining: 666ms\n",
      "94:\tlearn: 6.0064884\ttotal: 156ms\tremaining: 663ms\n",
      "95:\tlearn: 5.9704979\ttotal: 157ms\tremaining: 662ms\n",
      "96:\tlearn: 5.9162253\ttotal: 159ms\tremaining: 660ms\n",
      "97:\tlearn: 5.8800373\ttotal: 160ms\tremaining: 658ms\n",
      "98:\tlearn: 5.8421460\ttotal: 162ms\tremaining: 656ms\n",
      "99:\tlearn: 5.8155838\ttotal: 164ms\tremaining: 656ms\n",
      "100:\tlearn: 5.8090974\ttotal: 166ms\tremaining: 655ms\n",
      "101:\tlearn: 5.7855531\ttotal: 168ms\tremaining: 654ms\n",
      "102:\tlearn: 5.7746286\ttotal: 169ms\tremaining: 652ms\n",
      "103:\tlearn: 5.7660467\ttotal: 171ms\tremaining: 652ms\n",
      "104:\tlearn: 5.7303303\ttotal: 173ms\tremaining: 651ms\n",
      "105:\tlearn: 5.7257665\ttotal: 174ms\tremaining: 648ms\n",
      "106:\tlearn: 5.7165927\ttotal: 176ms\tremaining: 646ms\n",
      "107:\tlearn: 5.6538388\ttotal: 178ms\tremaining: 646ms\n",
      "108:\tlearn: 5.6321339\ttotal: 180ms\tremaining: 645ms\n",
      "109:\tlearn: 5.6110225\ttotal: 182ms\tremaining: 644ms\n",
      "110:\tlearn: 5.5686293\ttotal: 183ms\tremaining: 642ms\n",
      "111:\tlearn: 5.5632629\ttotal: 185ms\tremaining: 642ms\n",
      "112:\tlearn: 5.5579763\ttotal: 187ms\tremaining: 641ms\n",
      "113:\tlearn: 5.5281926\ttotal: 189ms\tremaining: 639ms\n",
      "114:\tlearn: 5.5125045\ttotal: 190ms\tremaining: 637ms\n",
      "115:\tlearn: 5.4843398\ttotal: 192ms\tremaining: 636ms\n",
      "116:\tlearn: 5.4755537\ttotal: 193ms\tremaining: 633ms\n",
      "117:\tlearn: 5.4689054\ttotal: 195ms\tremaining: 631ms\n",
      "118:\tlearn: 5.4567688\ttotal: 196ms\tremaining: 629ms\n",
      "119:\tlearn: 5.4518127\ttotal: 198ms\tremaining: 627ms\n",
      "120:\tlearn: 5.4471567\ttotal: 200ms\tremaining: 625ms\n",
      "121:\tlearn: 5.4405208\ttotal: 201ms\tremaining: 623ms\n",
      "122:\tlearn: 5.4364903\ttotal: 203ms\tremaining: 621ms\n",
      "123:\tlearn: 5.3963936\ttotal: 204ms\tremaining: 620ms\n",
      "124:\tlearn: 5.3795664\ttotal: 206ms\tremaining: 618ms\n",
      "125:\tlearn: 5.3735157\ttotal: 208ms\tremaining: 616ms\n",
      "126:\tlearn: 5.3697165\ttotal: 209ms\tremaining: 614ms\n",
      "127:\tlearn: 5.3639616\ttotal: 211ms\tremaining: 612ms\n",
      "128:\tlearn: 5.3322463\ttotal: 212ms\tremaining: 611ms\n",
      "129:\tlearn: 5.2865001\ttotal: 214ms\tremaining: 610ms\n",
      "130:\tlearn: 5.2829714\ttotal: 216ms\tremaining: 607ms\n",
      "131:\tlearn: 5.2797010\ttotal: 217ms\tremaining: 606ms\n",
      "132:\tlearn: 5.2562491\ttotal: 219ms\tremaining: 604ms\n",
      "133:\tlearn: 5.2415121\ttotal: 220ms\tremaining: 602ms\n",
      "134:\tlearn: 5.2174920\ttotal: 222ms\tremaining: 600ms\n",
      "135:\tlearn: 5.2123479\ttotal: 224ms\tremaining: 599ms\n",
      "136:\tlearn: 5.1791804\ttotal: 225ms\tremaining: 597ms\n",
      "137:\tlearn: 5.1641250\ttotal: 227ms\tremaining: 596ms\n",
      "138:\tlearn: 5.1288600\ttotal: 229ms\tremaining: 595ms\n",
      "139:\tlearn: 5.1258971\ttotal: 230ms\tremaining: 592ms\n",
      "140:\tlearn: 5.1053983\ttotal: 232ms\tremaining: 591ms\n",
      "141:\tlearn: 5.1012240\ttotal: 234ms\tremaining: 589ms\n",
      "142:\tlearn: 5.0816112\ttotal: 235ms\tremaining: 587ms\n",
      "143:\tlearn: 5.0780562\ttotal: 237ms\tremaining: 585ms\n",
      "144:\tlearn: 5.0735661\ttotal: 238ms\tremaining: 583ms\n",
      "145:\tlearn: 5.0710001\ttotal: 240ms\tremaining: 582ms\n",
      "146:\tlearn: 5.0670753\ttotal: 244ms\tremaining: 585ms\n",
      "147:\tlearn: 5.0529586\ttotal: 246ms\tremaining: 586ms\n",
      "148:\tlearn: 5.0297443\ttotal: 251ms\tremaining: 590ms\n",
      "149:\tlearn: 4.9910395\ttotal: 254ms\tremaining: 592ms\n",
      "150:\tlearn: 4.9661081\ttotal: 256ms\tremaining: 591ms\n",
      "151:\tlearn: 4.9533650\ttotal: 262ms\tremaining: 600ms\n",
      "152:\tlearn: 4.9497314\ttotal: 265ms\tremaining: 602ms\n",
      "153:\tlearn: 4.9352296\ttotal: 268ms\tremaining: 603ms\n",
      "154:\tlearn: 4.9305727\ttotal: 272ms\tremaining: 604ms\n",
      "155:\tlearn: 4.9120138\ttotal: 274ms\tremaining: 604ms\n",
      "156:\tlearn: 4.9087167\ttotal: 276ms\tremaining: 603ms\n",
      "157:\tlearn: 4.8792688\ttotal: 278ms\tremaining: 602ms\n",
      "158:\tlearn: 4.8761652\ttotal: 280ms\tremaining: 600ms\n",
      "159:\tlearn: 4.8732328\ttotal: 282ms\tremaining: 598ms\n",
      "160:\tlearn: 4.8692410\ttotal: 284ms\tremaining: 597ms\n",
      "161:\tlearn: 4.8486629\ttotal: 285ms\tremaining: 595ms\n",
      "162:\tlearn: 4.8193284\ttotal: 287ms\tremaining: 594ms\n",
      "163:\tlearn: 4.8006682\ttotal: 289ms\tremaining: 592ms\n",
      "164:\tlearn: 4.7976182\ttotal: 290ms\tremaining: 590ms\n",
      "165:\tlearn: 4.7723586\ttotal: 292ms\tremaining: 588ms\n",
      "166:\tlearn: 4.7450413\ttotal: 294ms\tremaining: 586ms\n",
      "167:\tlearn: 4.7224512\ttotal: 296ms\tremaining: 584ms\n",
      "168:\tlearn: 4.7017304\ttotal: 298ms\tremaining: 584ms\n",
      "169:\tlearn: 4.6930441\ttotal: 300ms\tremaining: 582ms\n",
      "170:\tlearn: 4.6679897\ttotal: 302ms\tremaining: 580ms\n",
      "171:\tlearn: 4.6653148\ttotal: 304ms\tremaining: 579ms\n",
      "172:\tlearn: 4.6454628\ttotal: 306ms\tremaining: 578ms\n",
      "173:\tlearn: 4.6351991\ttotal: 308ms\tremaining: 576ms\n",
      "174:\tlearn: 4.6279364\ttotal: 310ms\tremaining: 575ms\n",
      "175:\tlearn: 4.5996197\ttotal: 312ms\tremaining: 574ms\n",
      "176:\tlearn: 4.5967973\ttotal: 314ms\tremaining: 573ms\n",
      "177:\tlearn: 4.5931894\ttotal: 316ms\tremaining: 572ms\n",
      "178:\tlearn: 4.5735552\ttotal: 318ms\tremaining: 571ms\n",
      "179:\tlearn: 4.5712942\ttotal: 321ms\tremaining: 570ms\n",
      "180:\tlearn: 4.5696278\ttotal: 322ms\tremaining: 568ms\n",
      "181:\tlearn: 4.5520813\ttotal: 325ms\tremaining: 567ms\n",
      "182:\tlearn: 4.5380491\ttotal: 327ms\tremaining: 566ms\n",
      "183:\tlearn: 4.5248778\ttotal: 328ms\tremaining: 564ms\n",
      "184:\tlearn: 4.5002816\ttotal: 330ms\tremaining: 562ms\n"
     ]
    },
    {
     "name": "stdout",
     "output_type": "stream",
     "text": [
      "185:\tlearn: 4.4869406\ttotal: 333ms\tremaining: 562ms\n",
      "186:\tlearn: 4.4850984\ttotal: 335ms\tremaining: 560ms\n",
      "187:\tlearn: 4.4679576\ttotal: 337ms\tremaining: 558ms\n",
      "188:\tlearn: 4.4655979\ttotal: 338ms\tremaining: 557ms\n",
      "189:\tlearn: 4.4545852\ttotal: 340ms\tremaining: 555ms\n",
      "190:\tlearn: 4.4533385\ttotal: 342ms\tremaining: 554ms\n",
      "191:\tlearn: 4.4384837\ttotal: 344ms\tremaining: 552ms\n",
      "192:\tlearn: 4.4283191\ttotal: 347ms\tremaining: 551ms\n",
      "193:\tlearn: 4.4270312\ttotal: 349ms\tremaining: 550ms\n",
      "194:\tlearn: 4.4185658\ttotal: 351ms\tremaining: 548ms\n",
      "195:\tlearn: 4.3929627\ttotal: 353ms\tremaining: 547ms\n",
      "196:\tlearn: 4.3859924\ttotal: 354ms\tremaining: 545ms\n",
      "197:\tlearn: 4.3704650\ttotal: 356ms\tremaining: 543ms\n",
      "198:\tlearn: 4.3544273\ttotal: 358ms\tremaining: 541ms\n",
      "199:\tlearn: 4.3476705\ttotal: 360ms\tremaining: 539ms\n",
      "200:\tlearn: 4.3450907\ttotal: 361ms\tremaining: 538ms\n",
      "201:\tlearn: 4.3230529\ttotal: 363ms\tremaining: 536ms\n",
      "202:\tlearn: 4.3210953\ttotal: 365ms\tremaining: 534ms\n",
      "203:\tlearn: 4.3078018\ttotal: 367ms\tremaining: 532ms\n",
      "204:\tlearn: 4.2886235\ttotal: 369ms\tremaining: 531ms\n",
      "205:\tlearn: 4.2863901\ttotal: 370ms\tremaining: 529ms\n",
      "206:\tlearn: 4.2687410\ttotal: 372ms\tremaining: 527ms\n",
      "207:\tlearn: 4.2601269\ttotal: 374ms\tremaining: 525ms\n",
      "208:\tlearn: 4.2537328\ttotal: 375ms\tremaining: 523ms\n",
      "209:\tlearn: 4.2393102\ttotal: 377ms\tremaining: 521ms\n",
      "210:\tlearn: 4.2244239\ttotal: 379ms\tremaining: 519ms\n",
      "211:\tlearn: 4.2190278\ttotal: 381ms\tremaining: 517ms\n",
      "212:\tlearn: 4.2172586\ttotal: 382ms\tremaining: 515ms\n",
      "213:\tlearn: 4.2013388\ttotal: 384ms\tremaining: 514ms\n",
      "214:\tlearn: 4.1985475\ttotal: 386ms\tremaining: 511ms\n",
      "215:\tlearn: 4.1885102\ttotal: 387ms\tremaining: 509ms\n",
      "216:\tlearn: 4.1815483\ttotal: 389ms\tremaining: 508ms\n",
      "217:\tlearn: 4.1797640\ttotal: 391ms\tremaining: 506ms\n",
      "218:\tlearn: 4.1663462\ttotal: 393ms\tremaining: 504ms\n",
      "219:\tlearn: 4.1609561\ttotal: 395ms\tremaining: 502ms\n",
      "220:\tlearn: 4.1541765\ttotal: 397ms\tremaining: 501ms\n",
      "221:\tlearn: 4.1479604\ttotal: 398ms\tremaining: 499ms\n",
      "222:\tlearn: 4.1433265\ttotal: 400ms\tremaining: 497ms\n",
      "223:\tlearn: 4.1386123\ttotal: 402ms\tremaining: 495ms\n",
      "224:\tlearn: 4.1274714\ttotal: 403ms\tremaining: 493ms\n",
      "225:\tlearn: 4.1259464\ttotal: 405ms\tremaining: 491ms\n",
      "226:\tlearn: 4.1228907\ttotal: 406ms\tremaining: 488ms\n",
      "227:\tlearn: 4.1186529\ttotal: 408ms\tremaining: 486ms\n",
      "228:\tlearn: 4.1053783\ttotal: 409ms\tremaining: 484ms\n",
      "229:\tlearn: 4.0961951\ttotal: 411ms\tremaining: 482ms\n",
      "230:\tlearn: 4.0949882\ttotal: 413ms\tremaining: 480ms\n",
      "231:\tlearn: 4.0888344\ttotal: 414ms\tremaining: 478ms\n",
      "232:\tlearn: 4.0870418\ttotal: 416ms\tremaining: 477ms\n",
      "233:\tlearn: 4.0838338\ttotal: 418ms\tremaining: 475ms\n",
      "234:\tlearn: 4.0824711\ttotal: 419ms\tremaining: 473ms\n",
      "235:\tlearn: 4.0769350\ttotal: 421ms\tremaining: 471ms\n",
      "236:\tlearn: 4.0640062\ttotal: 423ms\tremaining: 469ms\n",
      "237:\tlearn: 4.0511084\ttotal: 425ms\tremaining: 467ms\n",
      "238:\tlearn: 4.0480359\ttotal: 426ms\tremaining: 465ms\n",
      "239:\tlearn: 4.0433414\ttotal: 428ms\tremaining: 463ms\n",
      "240:\tlearn: 4.0356667\ttotal: 429ms\tremaining: 461ms\n",
      "241:\tlearn: 4.0310960\ttotal: 431ms\tremaining: 459ms\n",
      "242:\tlearn: 4.0283324\ttotal: 432ms\tremaining: 457ms\n",
      "243:\tlearn: 4.0273310\ttotal: 434ms\tremaining: 455ms\n",
      "244:\tlearn: 4.0256849\ttotal: 435ms\tremaining: 453ms\n",
      "245:\tlearn: 4.0225244\ttotal: 436ms\tremaining: 451ms\n",
      "246:\tlearn: 4.0207639\ttotal: 438ms\tremaining: 449ms\n",
      "247:\tlearn: 4.0186251\ttotal: 439ms\tremaining: 446ms\n",
      "248:\tlearn: 4.0085727\ttotal: 441ms\tremaining: 444ms\n",
      "249:\tlearn: 4.0022909\ttotal: 442ms\tremaining: 442ms\n",
      "250:\tlearn: 3.9977893\ttotal: 444ms\tremaining: 440ms\n",
      "251:\tlearn: 3.9967748\ttotal: 445ms\tremaining: 438ms\n",
      "252:\tlearn: 3.9889000\ttotal: 447ms\tremaining: 436ms\n",
      "253:\tlearn: 3.9739113\ttotal: 449ms\tremaining: 434ms\n",
      "254:\tlearn: 3.9720006\ttotal: 450ms\tremaining: 433ms\n",
      "255:\tlearn: 3.9675097\ttotal: 452ms\tremaining: 431ms\n",
      "256:\tlearn: 3.9653671\ttotal: 454ms\tremaining: 429ms\n",
      "257:\tlearn: 3.9638245\ttotal: 456ms\tremaining: 427ms\n",
      "258:\tlearn: 3.9583678\ttotal: 457ms\tremaining: 425ms\n",
      "259:\tlearn: 3.9567581\ttotal: 459ms\tremaining: 423ms\n",
      "260:\tlearn: 3.9529429\ttotal: 460ms\tremaining: 421ms\n",
      "261:\tlearn: 3.9423575\ttotal: 462ms\tremaining: 420ms\n",
      "262:\tlearn: 3.9385215\ttotal: 463ms\tremaining: 418ms\n",
      "263:\tlearn: 3.9315551\ttotal: 465ms\tremaining: 416ms\n",
      "264:\tlearn: 3.9284376\ttotal: 466ms\tremaining: 414ms\n",
      "265:\tlearn: 3.9171534\ttotal: 468ms\tremaining: 412ms\n",
      "266:\tlearn: 3.9151230\ttotal: 469ms\tremaining: 410ms\n",
      "267:\tlearn: 3.9048334\ttotal: 471ms\tremaining: 408ms\n",
      "268:\tlearn: 3.8921695\ttotal: 472ms\tremaining: 406ms\n",
      "269:\tlearn: 3.8859510\ttotal: 474ms\tremaining: 404ms\n",
      "270:\tlearn: 3.8802785\ttotal: 475ms\tremaining: 402ms\n",
      "271:\tlearn: 3.8785229\ttotal: 477ms\tremaining: 400ms\n",
      "272:\tlearn: 3.8731319\ttotal: 478ms\tremaining: 398ms\n",
      "273:\tlearn: 3.8638044\ttotal: 480ms\tremaining: 396ms\n",
      "274:\tlearn: 3.8604579\ttotal: 481ms\tremaining: 394ms\n",
      "275:\tlearn: 3.8563803\ttotal: 483ms\tremaining: 392ms\n",
      "276:\tlearn: 3.8456373\ttotal: 484ms\tremaining: 390ms\n",
      "277:\tlearn: 3.8436192\ttotal: 486ms\tremaining: 388ms\n",
      "278:\tlearn: 3.8396997\ttotal: 487ms\tremaining: 386ms\n",
      "279:\tlearn: 3.8353787\ttotal: 489ms\tremaining: 384ms\n",
      "280:\tlearn: 3.8333809\ttotal: 490ms\tremaining: 382ms\n",
      "281:\tlearn: 3.8296278\ttotal: 492ms\tremaining: 380ms\n",
      "282:\tlearn: 3.8222390\ttotal: 494ms\tremaining: 378ms\n",
      "283:\tlearn: 3.8196758\ttotal: 495ms\tremaining: 377ms\n",
      "284:\tlearn: 3.8177222\ttotal: 497ms\tremaining: 375ms\n",
      "285:\tlearn: 3.8119541\ttotal: 499ms\tremaining: 373ms\n",
      "286:\tlearn: 3.8067194\ttotal: 500ms\tremaining: 371ms\n",
      "287:\tlearn: 3.8055381\ttotal: 502ms\tremaining: 370ms\n",
      "288:\tlearn: 3.8001795\ttotal: 504ms\tremaining: 368ms\n",
      "289:\tlearn: 3.7996007\ttotal: 506ms\tremaining: 366ms\n",
      "290:\tlearn: 3.7948679\ttotal: 507ms\tremaining: 364ms\n",
      "291:\tlearn: 3.7932446\ttotal: 509ms\tremaining: 363ms\n",
      "292:\tlearn: 3.7909983\ttotal: 511ms\tremaining: 361ms\n",
      "293:\tlearn: 3.7884513\ttotal: 512ms\tremaining: 359ms\n",
      "294:\tlearn: 3.7877276\ttotal: 514ms\tremaining: 357ms\n",
      "295:\tlearn: 3.7873445\ttotal: 516ms\tremaining: 355ms\n",
      "296:\tlearn: 3.7825886\ttotal: 517ms\tremaining: 354ms\n",
      "297:\tlearn: 3.7819685\ttotal: 519ms\tremaining: 352ms\n",
      "298:\tlearn: 3.7813370\ttotal: 521ms\tremaining: 350ms\n",
      "299:\tlearn: 3.7747246\ttotal: 523ms\tremaining: 349ms\n",
      "300:\tlearn: 3.7701972\ttotal: 525ms\tremaining: 347ms\n",
      "301:\tlearn: 3.7684732\ttotal: 526ms\tremaining: 345ms\n",
      "302:\tlearn: 3.7614794\ttotal: 528ms\tremaining: 343ms\n",
      "303:\tlearn: 3.7529923\ttotal: 530ms\tremaining: 342ms\n",
      "304:\tlearn: 3.7474151\ttotal: 532ms\tremaining: 340ms\n",
      "305:\tlearn: 3.7423021\ttotal: 533ms\tremaining: 338ms\n",
      "306:\tlearn: 3.7404746\ttotal: 535ms\tremaining: 336ms\n",
      "307:\tlearn: 3.7393155\ttotal: 537ms\tremaining: 335ms\n",
      "308:\tlearn: 3.7370079\ttotal: 538ms\tremaining: 333ms\n",
      "309:\tlearn: 3.7332093\ttotal: 540ms\tremaining: 331ms\n",
      "310:\tlearn: 3.7298569\ttotal: 542ms\tremaining: 329ms\n",
      "311:\tlearn: 3.7268267\ttotal: 543ms\tremaining: 327ms\n",
      "312:\tlearn: 3.7248303\ttotal: 545ms\tremaining: 325ms\n",
      "313:\tlearn: 3.7218482\ttotal: 546ms\tremaining: 324ms\n",
      "314:\tlearn: 3.7168241\ttotal: 548ms\tremaining: 322ms\n",
      "315:\tlearn: 3.7136708\ttotal: 549ms\tremaining: 320ms\n",
      "316:\tlearn: 3.7087063\ttotal: 551ms\tremaining: 318ms\n",
      "317:\tlearn: 3.7057433\ttotal: 552ms\tremaining: 316ms\n",
      "318:\tlearn: 3.7041339\ttotal: 554ms\tremaining: 314ms\n",
      "319:\tlearn: 3.7010527\ttotal: 556ms\tremaining: 313ms\n",
      "320:\tlearn: 3.6989266\ttotal: 557ms\tremaining: 311ms\n",
      "321:\tlearn: 3.6984880\ttotal: 559ms\tremaining: 309ms\n",
      "322:\tlearn: 3.6971006\ttotal: 560ms\tremaining: 307ms\n",
      "323:\tlearn: 3.6958675\ttotal: 562ms\tremaining: 305ms\n",
      "324:\tlearn: 3.6925624\ttotal: 563ms\tremaining: 303ms\n",
      "325:\tlearn: 3.6914260\ttotal: 565ms\tremaining: 301ms\n",
      "326:\tlearn: 3.6892689\ttotal: 566ms\tremaining: 300ms\n",
      "327:\tlearn: 3.6862841\ttotal: 568ms\tremaining: 298ms\n",
      "328:\tlearn: 3.6835256\ttotal: 570ms\tremaining: 296ms\n",
      "329:\tlearn: 3.6821631\ttotal: 571ms\tremaining: 294ms\n",
      "330:\tlearn: 3.6814510\ttotal: 573ms\tremaining: 292ms\n",
      "331:\tlearn: 3.6788415\ttotal: 574ms\tremaining: 291ms\n",
      "332:\tlearn: 3.6773229\ttotal: 576ms\tremaining: 289ms\n",
      "333:\tlearn: 3.6763810\ttotal: 577ms\tremaining: 287ms\n",
      "334:\tlearn: 3.6742643\ttotal: 579ms\tremaining: 285ms\n",
      "335:\tlearn: 3.6735536\ttotal: 580ms\tremaining: 283ms\n",
      "336:\tlearn: 3.6713222\ttotal: 581ms\tremaining: 281ms\n",
      "337:\tlearn: 3.6688839\ttotal: 583ms\tremaining: 279ms\n",
      "338:\tlearn: 3.6678522\ttotal: 585ms\tremaining: 278ms\n",
      "339:\tlearn: 3.6616977\ttotal: 586ms\tremaining: 276ms\n",
      "340:\tlearn: 3.6612568\ttotal: 588ms\tremaining: 274ms\n",
      "341:\tlearn: 3.6591222\ttotal: 589ms\tremaining: 272ms\n",
      "342:\tlearn: 3.6567460\ttotal: 591ms\tremaining: 270ms\n",
      "343:\tlearn: 3.6548680\ttotal: 592ms\tremaining: 269ms\n",
      "344:\tlearn: 3.6494516\ttotal: 594ms\tremaining: 267ms\n",
      "345:\tlearn: 3.6464079\ttotal: 595ms\tremaining: 265ms\n",
      "346:\tlearn: 3.6458645\ttotal: 597ms\tremaining: 263ms\n",
      "347:\tlearn: 3.6452380\ttotal: 599ms\tremaining: 262ms\n",
      "348:\tlearn: 3.6444307\ttotal: 600ms\tremaining: 260ms\n",
      "349:\tlearn: 3.6440015\ttotal: 602ms\tremaining: 258ms\n",
      "350:\tlearn: 3.6419573\ttotal: 604ms\tremaining: 256ms\n",
      "351:\tlearn: 3.6406113\ttotal: 605ms\tremaining: 255ms\n",
      "352:\tlearn: 3.6334848\ttotal: 607ms\tremaining: 253ms\n",
      "353:\tlearn: 3.6329780\ttotal: 609ms\tremaining: 251ms\n",
      "354:\tlearn: 3.6313314\ttotal: 610ms\tremaining: 249ms\n",
      "355:\tlearn: 3.6307435\ttotal: 612ms\tremaining: 247ms\n",
      "356:\tlearn: 3.6285749\ttotal: 614ms\tremaining: 246ms\n",
      "357:\tlearn: 3.6247405\ttotal: 615ms\tremaining: 244ms\n",
      "358:\tlearn: 3.6245106\ttotal: 617ms\tremaining: 242ms\n",
      "359:\tlearn: 3.6223906\ttotal: 618ms\tremaining: 240ms\n",
      "360:\tlearn: 3.6218017\ttotal: 620ms\tremaining: 239ms\n",
      "361:\tlearn: 3.6212826\ttotal: 621ms\tremaining: 237ms\n",
      "362:\tlearn: 3.6178736\ttotal: 623ms\tremaining: 235ms\n",
      "363:\tlearn: 3.6156460\ttotal: 624ms\tremaining: 233ms\n",
      "364:\tlearn: 3.6150387\ttotal: 626ms\tremaining: 231ms\n",
      "365:\tlearn: 3.6144448\ttotal: 627ms\tremaining: 230ms\n",
      "366:\tlearn: 3.6127179\ttotal: 629ms\tremaining: 228ms\n",
      "367:\tlearn: 3.6062570\ttotal: 630ms\tremaining: 226ms\n",
      "368:\tlearn: 3.6045337\ttotal: 632ms\tremaining: 224ms\n",
      "369:\tlearn: 3.6024740\ttotal: 634ms\tremaining: 223ms\n",
      "370:\tlearn: 3.6006418\ttotal: 635ms\tremaining: 221ms\n",
      "371:\tlearn: 3.6004279\ttotal: 637ms\tremaining: 219ms\n",
      "372:\tlearn: 3.5962442\ttotal: 639ms\tremaining: 217ms\n",
      "373:\tlearn: 3.5941462\ttotal: 641ms\tremaining: 216ms\n",
      "374:\tlearn: 3.5921353\ttotal: 642ms\tremaining: 214ms\n",
      "375:\tlearn: 3.5917659\ttotal: 644ms\tremaining: 212ms\n",
      "376:\tlearn: 3.5909426\ttotal: 645ms\tremaining: 211ms\n",
      "377:\tlearn: 3.5904557\ttotal: 647ms\tremaining: 209ms\n",
      "378:\tlearn: 3.5868499\ttotal: 649ms\tremaining: 207ms\n",
      "379:\tlearn: 3.5863674\ttotal: 651ms\tremaining: 205ms\n",
      "380:\tlearn: 3.5836424\ttotal: 652ms\tremaining: 204ms\n",
      "381:\tlearn: 3.5831958\ttotal: 654ms\tremaining: 202ms\n",
      "382:\tlearn: 3.5828192\ttotal: 655ms\tremaining: 200ms\n",
      "383:\tlearn: 3.5821993\ttotal: 657ms\tremaining: 198ms\n",
      "384:\tlearn: 3.5803197\ttotal: 658ms\tremaining: 197ms\n",
      "385:\tlearn: 3.5772555\ttotal: 660ms\tremaining: 195ms\n",
      "386:\tlearn: 3.5752517\ttotal: 661ms\tremaining: 193ms\n",
      "387:\tlearn: 3.5750541\ttotal: 662ms\tremaining: 191ms\n",
      "388:\tlearn: 3.5736354\ttotal: 664ms\tremaining: 189ms\n",
      "389:\tlearn: 3.5730093\ttotal: 665ms\tremaining: 188ms\n",
      "390:\tlearn: 3.5721847\ttotal: 667ms\tremaining: 186ms\n",
      "391:\tlearn: 3.5699342\ttotal: 668ms\tremaining: 184ms\n",
      "392:\tlearn: 3.5695558\ttotal: 670ms\tremaining: 182ms\n",
      "393:\tlearn: 3.5691498\ttotal: 671ms\tremaining: 181ms\n"
     ]
    },
    {
     "name": "stdout",
     "output_type": "stream",
     "text": [
      "394:\tlearn: 3.5655183\ttotal: 673ms\tremaining: 179ms\n",
      "395:\tlearn: 3.5638593\ttotal: 675ms\tremaining: 177ms\n",
      "396:\tlearn: 3.5632532\ttotal: 677ms\tremaining: 176ms\n",
      "397:\tlearn: 3.5628552\ttotal: 678ms\tremaining: 174ms\n",
      "398:\tlearn: 3.5616339\ttotal: 680ms\tremaining: 172ms\n",
      "399:\tlearn: 3.5610839\ttotal: 682ms\tremaining: 170ms\n",
      "400:\tlearn: 3.5606933\ttotal: 683ms\tremaining: 169ms\n",
      "401:\tlearn: 3.5602720\ttotal: 685ms\tremaining: 167ms\n",
      "402:\tlearn: 3.5589183\ttotal: 686ms\tremaining: 165ms\n",
      "403:\tlearn: 3.5576343\ttotal: 688ms\tremaining: 163ms\n",
      "404:\tlearn: 3.5552756\ttotal: 690ms\tremaining: 162ms\n",
      "405:\tlearn: 3.5543211\ttotal: 691ms\tremaining: 160ms\n",
      "406:\tlearn: 3.5528702\ttotal: 693ms\tremaining: 158ms\n",
      "407:\tlearn: 3.5515431\ttotal: 694ms\tremaining: 157ms\n",
      "408:\tlearn: 3.5499500\ttotal: 696ms\tremaining: 155ms\n",
      "409:\tlearn: 3.5479277\ttotal: 698ms\tremaining: 153ms\n",
      "410:\tlearn: 3.5434110\ttotal: 699ms\tremaining: 151ms\n",
      "411:\tlearn: 3.5428385\ttotal: 701ms\tremaining: 150ms\n",
      "412:\tlearn: 3.5422956\ttotal: 703ms\tremaining: 148ms\n",
      "413:\tlearn: 3.5403729\ttotal: 704ms\tremaining: 146ms\n",
      "414:\tlearn: 3.5399936\ttotal: 706ms\tremaining: 145ms\n",
      "415:\tlearn: 3.5388996\ttotal: 707ms\tremaining: 143ms\n",
      "416:\tlearn: 3.5381505\ttotal: 709ms\tremaining: 141ms\n",
      "417:\tlearn: 3.5375730\ttotal: 710ms\tremaining: 139ms\n",
      "418:\tlearn: 3.5355049\ttotal: 712ms\tremaining: 138ms\n",
      "419:\tlearn: 3.5352396\ttotal: 714ms\tremaining: 136ms\n",
      "420:\tlearn: 3.5347486\ttotal: 715ms\tremaining: 134ms\n",
      "421:\tlearn: 3.5303041\ttotal: 717ms\tremaining: 133ms\n",
      "422:\tlearn: 3.5294380\ttotal: 719ms\tremaining: 131ms\n",
      "423:\tlearn: 3.5291706\ttotal: 720ms\tremaining: 129ms\n",
      "424:\tlearn: 3.5277682\ttotal: 722ms\tremaining: 127ms\n",
      "425:\tlearn: 3.5261950\ttotal: 723ms\tremaining: 126ms\n",
      "426:\tlearn: 3.5244841\ttotal: 725ms\tremaining: 124ms\n",
      "427:\tlearn: 3.5233869\ttotal: 726ms\tremaining: 122ms\n",
      "428:\tlearn: 3.5203863\ttotal: 728ms\tremaining: 120ms\n",
      "429:\tlearn: 3.5196621\ttotal: 729ms\tremaining: 119ms\n",
      "430:\tlearn: 3.5182547\ttotal: 731ms\tremaining: 117ms\n",
      "431:\tlearn: 3.5179611\ttotal: 732ms\tremaining: 115ms\n",
      "432:\tlearn: 3.5177111\ttotal: 733ms\tremaining: 113ms\n",
      "433:\tlearn: 3.5151688\ttotal: 735ms\tremaining: 112ms\n",
      "434:\tlearn: 3.5141042\ttotal: 736ms\tremaining: 110ms\n",
      "435:\tlearn: 3.5135830\ttotal: 738ms\tremaining: 108ms\n",
      "436:\tlearn: 3.5120578\ttotal: 740ms\tremaining: 107ms\n",
      "437:\tlearn: 3.5118077\ttotal: 741ms\tremaining: 105ms\n",
      "438:\tlearn: 3.5116265\ttotal: 742ms\tremaining: 103ms\n",
      "439:\tlearn: 3.5111822\ttotal: 744ms\tremaining: 101ms\n",
      "440:\tlearn: 3.5088365\ttotal: 746ms\tremaining: 99.7ms\n",
      "441:\tlearn: 3.5078826\ttotal: 747ms\tremaining: 98ms\n",
      "442:\tlearn: 3.5076055\ttotal: 749ms\tremaining: 96.3ms\n",
      "443:\tlearn: 3.5073601\ttotal: 750ms\tremaining: 94.6ms\n",
      "444:\tlearn: 3.5064010\ttotal: 752ms\tremaining: 92.9ms\n",
      "445:\tlearn: 3.5061880\ttotal: 753ms\tremaining: 91.2ms\n",
      "446:\tlearn: 3.5050925\ttotal: 755ms\tremaining: 89.5ms\n",
      "447:\tlearn: 3.5044518\ttotal: 757ms\tremaining: 87.8ms\n",
      "448:\tlearn: 3.5035276\ttotal: 758ms\tremaining: 86.1ms\n",
      "449:\tlearn: 3.5025613\ttotal: 760ms\tremaining: 84.4ms\n",
      "450:\tlearn: 3.5021256\ttotal: 761ms\tremaining: 82.7ms\n",
      "451:\tlearn: 3.5017188\ttotal: 763ms\tremaining: 81ms\n",
      "452:\tlearn: 3.4995723\ttotal: 764ms\tremaining: 79.3ms\n",
      "453:\tlearn: 3.4993974\ttotal: 766ms\tremaining: 77.6ms\n",
      "454:\tlearn: 3.4990082\ttotal: 768ms\tremaining: 75.9ms\n",
      "455:\tlearn: 3.4970299\ttotal: 769ms\tremaining: 74.2ms\n",
      "456:\tlearn: 3.4957345\ttotal: 771ms\tremaining: 72.5ms\n",
      "457:\tlearn: 3.4954639\ttotal: 772ms\tremaining: 70.8ms\n",
      "458:\tlearn: 3.4950183\ttotal: 774ms\tremaining: 69.1ms\n",
      "459:\tlearn: 3.4942442\ttotal: 776ms\tremaining: 67.5ms\n",
      "460:\tlearn: 3.4939669\ttotal: 778ms\tremaining: 65.8ms\n",
      "461:\tlearn: 3.4928351\ttotal: 780ms\tremaining: 64.1ms\n",
      "462:\tlearn: 3.4925873\ttotal: 781ms\tremaining: 62.4ms\n",
      "463:\tlearn: 3.4918991\ttotal: 783ms\tremaining: 60.7ms\n",
      "464:\tlearn: 3.4899847\ttotal: 784ms\tremaining: 59ms\n",
      "465:\tlearn: 3.4889117\ttotal: 786ms\tremaining: 57.4ms\n",
      "466:\tlearn: 3.4887594\ttotal: 788ms\tremaining: 55.7ms\n",
      "467:\tlearn: 3.4886379\ttotal: 788ms\tremaining: 53.9ms\n",
      "468:\tlearn: 3.4876322\ttotal: 790ms\tremaining: 52.2ms\n",
      "469:\tlearn: 3.4874214\ttotal: 791ms\tremaining: 50.5ms\n",
      "470:\tlearn: 3.4869576\ttotal: 793ms\tremaining: 48.8ms\n",
      "471:\tlearn: 3.4867370\ttotal: 795ms\tremaining: 47.1ms\n",
      "472:\tlearn: 3.4852613\ttotal: 796ms\tremaining: 45.5ms\n",
      "473:\tlearn: 3.4845563\ttotal: 798ms\tremaining: 43.8ms\n",
      "474:\tlearn: 3.4844007\ttotal: 800ms\tremaining: 42.1ms\n",
      "475:\tlearn: 3.4822361\ttotal: 801ms\tremaining: 40.4ms\n",
      "476:\tlearn: 3.4811386\ttotal: 803ms\tremaining: 38.7ms\n",
      "477:\tlearn: 3.4808825\ttotal: 804ms\tremaining: 37ms\n",
      "478:\tlearn: 3.4807803\ttotal: 805ms\tremaining: 35.3ms\n",
      "479:\tlearn: 3.4798960\ttotal: 807ms\tremaining: 33.6ms\n",
      "480:\tlearn: 3.4797363\ttotal: 808ms\tremaining: 31.9ms\n",
      "481:\tlearn: 3.4788784\ttotal: 810ms\tremaining: 30.2ms\n",
      "482:\tlearn: 3.4784012\ttotal: 811ms\tremaining: 28.6ms\n",
      "483:\tlearn: 3.4767310\ttotal: 813ms\tremaining: 26.9ms\n",
      "484:\tlearn: 3.4764602\ttotal: 815ms\tremaining: 25.2ms\n",
      "485:\tlearn: 3.4760526\ttotal: 816ms\tremaining: 23.5ms\n",
      "486:\tlearn: 3.4759027\ttotal: 817ms\tremaining: 21.8ms\n",
      "487:\tlearn: 3.4741670\ttotal: 818ms\tremaining: 20.1ms\n",
      "488:\tlearn: 3.4739725\ttotal: 820ms\tremaining: 18.4ms\n",
      "489:\tlearn: 3.4721597\ttotal: 822ms\tremaining: 16.8ms\n",
      "490:\tlearn: 3.4720306\ttotal: 823ms\tremaining: 15.1ms\n",
      "491:\tlearn: 3.4712549\ttotal: 825ms\tremaining: 13.4ms\n",
      "492:\tlearn: 3.4709180\ttotal: 826ms\tremaining: 11.7ms\n",
      "493:\tlearn: 3.4703860\ttotal: 828ms\tremaining: 10.1ms\n",
      "494:\tlearn: 3.4695047\ttotal: 829ms\tremaining: 8.37ms\n",
      "495:\tlearn: 3.4692019\ttotal: 831ms\tremaining: 6.7ms\n",
      "496:\tlearn: 3.4691401\ttotal: 832ms\tremaining: 5.02ms\n",
      "497:\tlearn: 3.4675306\ttotal: 834ms\tremaining: 3.35ms\n",
      "498:\tlearn: 3.4662558\ttotal: 835ms\tremaining: 1.67ms\n",
      "499:\tlearn: 3.4658670\ttotal: 837ms\tremaining: 0us\n"
     ]
    }
   ],
   "source": [
    "catb_tuned = CatBoostRegressor(iterations = 500, \n",
    "                               learning_rate = 0.1, \n",
    "                               depth = 7)\n",
    "\n",
    "catb_tuned = catb_tuned.fit(X_train,y_train)"
   ]
  },
  {
   "cell_type": "code",
   "execution_count": 133,
   "id": "950ed665",
   "metadata": {},
   "outputs": [
    {
     "data": {
      "text/plain": [
       "7.934338783981605"
      ]
     },
     "execution_count": 133,
     "metadata": {},
     "output_type": "execute_result"
    }
   ],
   "source": [
    "y_pred = catb_tuned.predict(X_test)\n",
    "np.sqrt(mean_squared_error(y_test, y_pred))"
   ]
  },
  {
   "cell_type": "code",
   "execution_count": 138,
   "id": "d60c9f80",
   "metadata": {},
   "outputs": [
    {
     "data": {
      "text/plain": [
       "array([238.52527672])"
      ]
     },
     "execution_count": 138,
     "metadata": {},
     "output_type": "execute_result"
    }
   ],
   "source": [
    "catb_tuned.predict([[1.4,6,10]])"
   ]
  },
  {
   "cell_type": "code",
   "execution_count": 139,
   "id": "b3b8f02f",
   "metadata": {},
   "outputs": [
    {
     "data": {
      "text/plain": [
       "array([281.39836509])"
      ]
     },
     "execution_count": 139,
     "metadata": {},
     "output_type": "execute_result"
    }
   ],
   "source": [
    "catb_tuned.predict([[1.4,6,15]])"
   ]
  },
  {
   "cell_type": "code",
   "execution_count": 140,
   "id": "c795b15d",
   "metadata": {},
   "outputs": [
    {
     "data": {
      "text/plain": [
       "array([236.94340635])"
      ]
     },
     "execution_count": 140,
     "metadata": {},
     "output_type": "execute_result"
    }
   ],
   "source": [
    "catb_tuned.predict([[1.4,3,10]])"
   ]
  },
  {
   "cell_type": "code",
   "execution_count": 136,
   "id": "dbe85749",
   "metadata": {},
   "outputs": [
    {
     "data": {
      "text/plain": [
       "array([236.58130151])"
      ]
     },
     "execution_count": 136,
     "metadata": {},
     "output_type": "execute_result"
    }
   ],
   "source": [
    "catb_tuned.predict([[2,6,10]])"
   ]
  },
  {
   "cell_type": "code",
   "execution_count": 137,
   "id": "4d31b9da",
   "metadata": {},
   "outputs": [
    {
     "data": {
      "text/plain": [
       "array([260.29984932])"
      ]
     },
     "execution_count": 137,
     "metadata": {},
     "output_type": "execute_result"
    }
   ],
   "source": [
    "catb_tuned.predict([[3,6,10]])"
   ]
  },
  {
   "cell_type": "markdown",
   "id": "63311408",
   "metadata": {},
   "source": [
    "    Veri setimiz için en uygun model CastBoost'dur. En düşük hata değerini döndürmüştür. 1.4 motor gücüne sahip aracımız 6 silindir ve 10 litre yakıt tüketimine sahipken 238.52 CO2 salımına sahipken sadece motor hacmini 2 olarak değiştirdiğimizde 236.10 CO2 salınımı yapıyor. Yakıt tüketimini ise 15'e çıkardığımızda 238.52'den 281.39'e çıkıyor. Silindir değerini 6'dan 3'e düşürdüğümüzde 238.52'den 236.94'e düşüyor. CO2 salınımı tahminlerimizin ışığında değeri en çok etkileyen parametremizin yakıt tüketimi olduğunu görüyoruz. "
   ]
  },
  {
   "cell_type": "code",
   "execution_count": null,
   "id": "e1fc73f5",
   "metadata": {},
   "outputs": [],
   "source": []
  }
 ],
 "metadata": {
  "kernelspec": {
   "display_name": "Python 3",
   "language": "python",
   "name": "python3"
  },
  "language_info": {
   "codemirror_mode": {
    "name": "ipython",
    "version": 3
   },
   "file_extension": ".py",
   "mimetype": "text/x-python",
   "name": "python",
   "nbconvert_exporter": "python",
   "pygments_lexer": "ipython3",
   "version": "3.8.8"
  }
 },
 "nbformat": 4,
 "nbformat_minor": 5
}
