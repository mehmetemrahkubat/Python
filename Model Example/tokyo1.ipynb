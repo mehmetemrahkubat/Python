{
 "cells": [
  {
   "cell_type": "code",
   "execution_count": 1,
   "id": "99171184",
   "metadata": {},
   "outputs": [
    {
     "name": "stdout",
     "output_type": "stream",
     "text": [
      "Requirement already satisfied: skompiler in c:\\users\\memet\\anaconda3\\lib\\site-packages (0.6)\n",
      "Requirement already satisfied: scikit-learn>=0.22 in c:\\users\\memet\\anaconda3\\lib\\site-packages (from skompiler) (0.24.1)\n",
      "Requirement already satisfied: joblib>=0.11 in c:\\users\\memet\\anaconda3\\lib\\site-packages (from scikit-learn>=0.22->skompiler) (1.0.1)\n",
      "Requirement already satisfied: threadpoolctl>=2.0.0 in c:\\users\\memet\\anaconda3\\lib\\site-packages (from scikit-learn>=0.22->skompiler) (2.1.0)\n",
      "Requirement already satisfied: numpy>=1.13.3 in c:\\users\\memet\\anaconda3\\lib\\site-packages (from scikit-learn>=0.22->skompiler) (1.20.1)\n",
      "Requirement already satisfied: scipy>=0.19.1 in c:\\users\\memet\\anaconda3\\lib\\site-packages (from scikit-learn>=0.22->skompiler) (1.6.2)\n",
      "Requirement already satisfied: astor in c:\\users\\memet\\anaconda3\\lib\\site-packages (0.8.1)\n",
      "Requirement already satisfied: xgboost in c:\\users\\memet\\anaconda3\\lib\\site-packages (1.6.1)\n",
      "Requirement already satisfied: scipy in c:\\users\\memet\\anaconda3\\lib\\site-packages (from xgboost) (1.6.2)\n",
      "Requirement already satisfied: numpy in c:\\users\\memet\\anaconda3\\lib\\site-packages (from xgboost) (1.20.1)\n",
      "Requirement already satisfied: catboost in c:\\users\\memet\\anaconda3\\lib\\site-packages (1.0.6)\n",
      "Requirement already satisfied: graphviz in c:\\users\\memet\\anaconda3\\lib\\site-packages (from catboost) (0.20)\n",
      "Requirement already satisfied: plotly in c:\\users\\memet\\anaconda3\\lib\\site-packages (from catboost) (5.8.0)\n",
      "Requirement already satisfied: matplotlib in c:\\users\\memet\\anaconda3\\lib\\site-packages (from catboost) (3.3.4)\n",
      "Requirement already satisfied: scipy in c:\\users\\memet\\anaconda3\\lib\\site-packages (from catboost) (1.6.2)\n",
      "Requirement already satisfied: pandas>=0.24.0 in c:\\users\\memet\\anaconda3\\lib\\site-packages (from catboost) (1.2.4)\n",
      "Requirement already satisfied: numpy>=1.16.0 in c:\\users\\memet\\anaconda3\\lib\\site-packages (from catboost) (1.20.1)\n",
      "Requirement already satisfied: six in c:\\users\\memet\\anaconda3\\lib\\site-packages (from catboost) (1.15.0)\n",
      "Requirement already satisfied: python-dateutil>=2.7.3 in c:\\users\\memet\\anaconda3\\lib\\site-packages (from pandas>=0.24.0->catboost) (2.8.1)\n",
      "Requirement already satisfied: pytz>=2017.3 in c:\\users\\memet\\anaconda3\\lib\\site-packages (from pandas>=0.24.0->catboost) (2021.1)\n",
      "Requirement already satisfied: kiwisolver>=1.0.1 in c:\\users\\memet\\anaconda3\\lib\\site-packages (from matplotlib->catboost) (1.3.1)\n",
      "Requirement already satisfied: cycler>=0.10 in c:\\users\\memet\\anaconda3\\lib\\site-packages (from matplotlib->catboost) (0.10.0)\n",
      "Requirement already satisfied: pyparsing!=2.0.4,!=2.1.2,!=2.1.6,>=2.0.3 in c:\\users\\memet\\anaconda3\\lib\\site-packages (from matplotlib->catboost) (2.4.7)\n",
      "Requirement already satisfied: pillow>=6.2.0 in c:\\users\\memet\\anaconda3\\lib\\site-packages (from matplotlib->catboost) (8.2.0)\n",
      "Requirement already satisfied: tenacity>=6.2.0 in c:\\users\\memet\\anaconda3\\lib\\site-packages (from plotly->catboost) (8.0.1)\n",
      "Requirement already satisfied: lightgbm in c:\\users\\memet\\anaconda3\\lib\\site-packages (3.3.2)\n",
      "Requirement already satisfied: numpy in c:\\users\\memet\\anaconda3\\lib\\site-packages (from lightgbm) (1.20.1)\n",
      "Requirement already satisfied: scikit-learn!=0.22.0 in c:\\users\\memet\\anaconda3\\lib\\site-packages (from lightgbm) (0.24.1)\n",
      "Requirement already satisfied: wheel in c:\\users\\memet\\anaconda3\\lib\\site-packages (from lightgbm) (0.36.2)\n",
      "Requirement already satisfied: scipy in c:\\users\\memet\\anaconda3\\lib\\site-packages (from lightgbm) (1.6.2)\n",
      "Requirement already satisfied: joblib>=0.11 in c:\\users\\memet\\anaconda3\\lib\\site-packages (from scikit-learn!=0.22.0->lightgbm) (1.0.1)\n",
      "Requirement already satisfied: threadpoolctl>=2.0.0 in c:\\users\\memet\\anaconda3\\lib\\site-packages (from scikit-learn!=0.22.0->lightgbm) (2.1.0)\n",
      "Requirement already satisfied: researchpy in c:\\users\\memet\\anaconda3\\lib\\site-packages (0.3.2)\n",
      "Requirement already satisfied: patsy in c:\\users\\memet\\anaconda3\\lib\\site-packages (from researchpy) (0.5.1)\n",
      "Requirement already satisfied: numpy in c:\\users\\memet\\anaconda3\\lib\\site-packages (from researchpy) (1.20.1)\n",
      "Requirement already satisfied: statsmodels in c:\\users\\memet\\anaconda3\\lib\\site-packages (from researchpy) (0.12.2)\n",
      "Requirement already satisfied: pandas in c:\\users\\memet\\anaconda3\\lib\\site-packages (from researchpy) (1.2.4)\n",
      "Requirement already satisfied: scipy in c:\\users\\memet\\anaconda3\\lib\\site-packages (from researchpy) (1.6.2)\n",
      "Requirement already satisfied: python-dateutil>=2.7.3 in c:\\users\\memet\\anaconda3\\lib\\site-packages (from pandas->researchpy) (2.8.1)\n",
      "Requirement already satisfied: pytz>=2017.3 in c:\\users\\memet\\anaconda3\\lib\\site-packages (from pandas->researchpy) (2021.1)\n",
      "Requirement already satisfied: six>=1.5 in c:\\users\\memet\\anaconda3\\lib\\site-packages (from python-dateutil>=2.7.3->pandas->researchpy) (1.15.0)\n"
     ]
    }
   ],
   "source": [
    "!pip install skompiler\n",
    "!pip install astor\n",
    "!pip install xgboost\n",
    "!pip install catboost\n",
    "!pip install lightgbm\n",
    "!pip install researchpy"
   ]
  },
  {
   "cell_type": "code",
   "execution_count": 2,
   "id": "0e03a7a4",
   "metadata": {},
   "outputs": [],
   "source": [
    "import numpy as np\n",
    "import pandas as pd \n",
    "from sklearn.model_selection import train_test_split, GridSearchCV,cross_val_score\n",
    "from sklearn.metrics import mean_squared_error, r2_score\n",
    "from sklearn.svm import SVR\n",
    "from sklearn.linear_model import LinearRegression\n",
    "import matplotlib.pyplot as plt\n",
    "from sklearn.preprocessing import scale \n",
    "from sklearn import model_selection\n",
    "from sklearn.tree import DecisionTreeRegressor, DecisionTreeClassifier\n",
    "from sklearn.neighbors import KNeighborsRegressor\n",
    "from sklearn.ensemble import BaggingRegressor\n",
    "from sklearn.neural_network import MLPRegressor\n",
    "from sklearn.ensemble import RandomForestRegressor\n",
    "from sklearn.ensemble import GradientBoostingRegressor\n",
    "from sklearn.svm import LinearSVR\n",
    "from sklearn.preprocessing import StandardScaler\n",
    "from skompiler import skompile\n",
    "import xgboost as xgb\n",
    "from xgboost import XGBRegressor\n",
    "from catboost import CatBoostRegressor\n",
    "from lightgbm import LGBMRegressor\n",
    "from lightgbm import LGBMRegressor\n",
    "from warnings import filterwarnings\n",
    "filterwarnings('ignore')\n",
    "from datetime import datetime\n",
    "import researchpy as rp\n",
    "import seaborn as sns\n",
    "from sklearn.neighbors import LocalOutlierFactor"
   ]
  },
  {
   "cell_type": "markdown",
   "id": "7c0c60ca",
   "metadata": {},
   "source": [
    "# TOKYO OLİMPİYATLARI 2020"
   ]
  },
  {
   "cell_type": "markdown",
   "id": "9e3fa4c2",
   "metadata": {},
   "source": [
    "Tokyo Olimpiyatları 2020 veri setinde makine öğrenmesini yapma amacım tenis spor dalında  cinsiyet yaş verilerine göre madalya kazanma tahminini yaptırmaktır."
   ]
  },
  {
   "cell_type": "markdown",
   "id": "23479b78",
   "metadata": {},
   "source": [
    "## 1. VERİYE İLK BAKIŞ"
   ]
  },
  {
   "cell_type": "code",
   "execution_count": 3,
   "id": "e465d53b",
   "metadata": {},
   "outputs": [
    {
     "data": {
      "text/plain": [
       "(275643, 10)"
      ]
     },
     "execution_count": 3,
     "metadata": {},
     "output_type": "execute_result"
    }
   ],
   "source": [
    "ad = pd.read_csv(\"tokyo.csv\")\n",
    "df = ad.copy()\n",
    "df.shape"
   ]
  },
  {
   "cell_type": "markdown",
   "id": "6444b4a0",
   "metadata": {},
   "source": [
    "Tokyo Olimpiyatları 2020 veri setini okuttuk ve boyut bilgisini elde ettik."
   ]
  },
  {
   "cell_type": "code",
   "execution_count": 4,
   "id": "2c638bda",
   "metadata": {},
   "outputs": [
    {
     "data": {
      "text/html": [
       "<div>\n",
       "<style scoped>\n",
       "    .dataframe tbody tr th:only-of-type {\n",
       "        vertical-align: middle;\n",
       "    }\n",
       "\n",
       "    .dataframe tbody tr th {\n",
       "        vertical-align: top;\n",
       "    }\n",
       "\n",
       "    .dataframe thead th {\n",
       "        text-align: right;\n",
       "    }\n",
       "</style>\n",
       "<table border=\"1\" class=\"dataframe\">\n",
       "  <thead>\n",
       "    <tr style=\"text-align: right;\">\n",
       "      <th></th>\n",
       "      <th>Unnamed: 0</th>\n",
       "      <th>Name</th>\n",
       "      <th>Sex</th>\n",
       "      <th>Age</th>\n",
       "      <th>Team</th>\n",
       "      <th>Games</th>\n",
       "      <th>Year</th>\n",
       "      <th>Season</th>\n",
       "      <th>Sport</th>\n",
       "      <th>Medal</th>\n",
       "    </tr>\n",
       "  </thead>\n",
       "  <tbody>\n",
       "    <tr>\n",
       "      <th>0</th>\n",
       "      <td>0</td>\n",
       "      <td>A Dijiang</td>\n",
       "      <td>M</td>\n",
       "      <td>24.0</td>\n",
       "      <td>China</td>\n",
       "      <td>1992 Summer</td>\n",
       "      <td>1992</td>\n",
       "      <td>Summer</td>\n",
       "      <td>Basketball</td>\n",
       "      <td>0</td>\n",
       "    </tr>\n",
       "    <tr>\n",
       "      <th>1</th>\n",
       "      <td>1</td>\n",
       "      <td>A Lamusi</td>\n",
       "      <td>M</td>\n",
       "      <td>23.0</td>\n",
       "      <td>China</td>\n",
       "      <td>2012 Summer</td>\n",
       "      <td>2012</td>\n",
       "      <td>Summer</td>\n",
       "      <td>Judo</td>\n",
       "      <td>0</td>\n",
       "    </tr>\n",
       "    <tr>\n",
       "      <th>2</th>\n",
       "      <td>2</td>\n",
       "      <td>Gunnar Nielsen Aaby</td>\n",
       "      <td>M</td>\n",
       "      <td>24.0</td>\n",
       "      <td>Denmark</td>\n",
       "      <td>1920 Summer</td>\n",
       "      <td>1920</td>\n",
       "      <td>Summer</td>\n",
       "      <td>Football</td>\n",
       "      <td>0</td>\n",
       "    </tr>\n",
       "    <tr>\n",
       "      <th>3</th>\n",
       "      <td>3</td>\n",
       "      <td>Edgar Lindenau Aabye</td>\n",
       "      <td>M</td>\n",
       "      <td>34.0</td>\n",
       "      <td>Denmark/Sweden</td>\n",
       "      <td>1900 Summer</td>\n",
       "      <td>1900</td>\n",
       "      <td>Summer</td>\n",
       "      <td>Tug-Of-War</td>\n",
       "      <td>3</td>\n",
       "    </tr>\n",
       "    <tr>\n",
       "      <th>4</th>\n",
       "      <td>4</td>\n",
       "      <td>Christine Jacoba Aaftink</td>\n",
       "      <td>F</td>\n",
       "      <td>21.0</td>\n",
       "      <td>Netherlands</td>\n",
       "      <td>1988 Winter</td>\n",
       "      <td>1988</td>\n",
       "      <td>Winter</td>\n",
       "      <td>Speed Skating</td>\n",
       "      <td>0</td>\n",
       "    </tr>\n",
       "  </tbody>\n",
       "</table>\n",
       "</div>"
      ],
      "text/plain": [
       "   Unnamed: 0                      Name Sex   Age            Team  \\\n",
       "0           0                 A Dijiang   M  24.0           China   \n",
       "1           1                  A Lamusi   M  23.0           China   \n",
       "2           2       Gunnar Nielsen Aaby   M  24.0         Denmark   \n",
       "3           3      Edgar Lindenau Aabye   M  34.0  Denmark/Sweden   \n",
       "4           4  Christine Jacoba Aaftink   F  21.0     Netherlands   \n",
       "\n",
       "         Games  Year  Season          Sport  Medal  \n",
       "0  1992 Summer  1992  Summer     Basketball      0  \n",
       "1  2012 Summer  2012  Summer           Judo      0  \n",
       "2  1920 Summer  1920  Summer       Football      0  \n",
       "3  1900 Summer  1900  Summer     Tug-Of-War      3  \n",
       "4  1988 Winter  1988  Winter  Speed Skating      0  "
      ]
     },
     "execution_count": 4,
     "metadata": {},
     "output_type": "execute_result"
    }
   ],
   "source": [
    "df.head()"
   ]
  },
  {
   "cell_type": "markdown",
   "id": "b43208bc",
   "metadata": {},
   "source": [
    "Veri setinin ilk 5 verisini ekrana bastırdık."
   ]
  },
  {
   "cell_type": "code",
   "execution_count": 5,
   "id": "03d1da45",
   "metadata": {},
   "outputs": [
    {
     "data": {
      "text/html": [
       "<div>\n",
       "<style scoped>\n",
       "    .dataframe tbody tr th:only-of-type {\n",
       "        vertical-align: middle;\n",
       "    }\n",
       "\n",
       "    .dataframe tbody tr th {\n",
       "        vertical-align: top;\n",
       "    }\n",
       "\n",
       "    .dataframe thead th {\n",
       "        text-align: right;\n",
       "    }\n",
       "</style>\n",
       "<table border=\"1\" class=\"dataframe\">\n",
       "  <thead>\n",
       "    <tr style=\"text-align: right;\">\n",
       "      <th></th>\n",
       "      <th>Unnamed: 0</th>\n",
       "      <th>Name</th>\n",
       "      <th>Sex</th>\n",
       "      <th>Age</th>\n",
       "      <th>Team</th>\n",
       "      <th>Games</th>\n",
       "      <th>Year</th>\n",
       "      <th>Season</th>\n",
       "      <th>Sport</th>\n",
       "      <th>Medal</th>\n",
       "    </tr>\n",
       "  </thead>\n",
       "  <tbody>\n",
       "    <tr>\n",
       "      <th>275638</th>\n",
       "      <td>4522</td>\n",
       "      <td>ZURABIANI Zurab</td>\n",
       "      <td>Male</td>\n",
       "      <td>21.0</td>\n",
       "      <td>Georgia</td>\n",
       "      <td>2020 Summer</td>\n",
       "      <td>2020</td>\n",
       "      <td>Summer</td>\n",
       "      <td>Judo</td>\n",
       "      <td>0</td>\n",
       "    </tr>\n",
       "    <tr>\n",
       "      <th>275639</th>\n",
       "      <td>4523</td>\n",
       "      <td>ZURBRUGG Lindsey</td>\n",
       "      <td>Female</td>\n",
       "      <td>22.0</td>\n",
       "      <td>United States of America</td>\n",
       "      <td>2020 Summer</td>\n",
       "      <td>2020</td>\n",
       "      <td>Summer</td>\n",
       "      <td>Wheelchair Basketball</td>\n",
       "      <td>1</td>\n",
       "    </tr>\n",
       "    <tr>\n",
       "      <th>275640</th>\n",
       "      <td>4524</td>\n",
       "      <td>ZVINOWANDA Vimbai</td>\n",
       "      <td>Female</td>\n",
       "      <td>29.0</td>\n",
       "      <td>Zimbabwe</td>\n",
       "      <td>2020 Summer</td>\n",
       "      <td>2020</td>\n",
       "      <td>Summer</td>\n",
       "      <td>Athletics</td>\n",
       "      <td>0</td>\n",
       "    </tr>\n",
       "    <tr>\n",
       "      <th>275641</th>\n",
       "      <td>4525</td>\n",
       "      <td>ZWOUKHI Fathi</td>\n",
       "      <td>Male</td>\n",
       "      <td>34.0</td>\n",
       "      <td>Tunisia</td>\n",
       "      <td>2020 Summer</td>\n",
       "      <td>2020</td>\n",
       "      <td>Summer</td>\n",
       "      <td>Triathlon</td>\n",
       "      <td>0</td>\n",
       "    </tr>\n",
       "    <tr>\n",
       "      <th>275642</th>\n",
       "      <td>4526</td>\n",
       "      <td>ZYLKA Krzysztof</td>\n",
       "      <td>Male</td>\n",
       "      <td>41.0</td>\n",
       "      <td>Poland</td>\n",
       "      <td>2020 Summer</td>\n",
       "      <td>2020</td>\n",
       "      <td>Summer</td>\n",
       "      <td>Table Tennis</td>\n",
       "      <td>0</td>\n",
       "    </tr>\n",
       "  </tbody>\n",
       "</table>\n",
       "</div>"
      ],
      "text/plain": [
       "        Unnamed: 0               Name     Sex   Age                      Team  \\\n",
       "275638        4522    ZURABIANI Zurab    Male  21.0                   Georgia   \n",
       "275639        4523   ZURBRUGG Lindsey  Female  22.0  United States of America   \n",
       "275640        4524  ZVINOWANDA Vimbai  Female  29.0                  Zimbabwe   \n",
       "275641        4525      ZWOUKHI Fathi    Male  34.0                   Tunisia   \n",
       "275642        4526    ZYLKA Krzysztof    Male  41.0                    Poland   \n",
       "\n",
       "              Games  Year  Season                  Sport  Medal  \n",
       "275638  2020 Summer  2020  Summer                   Judo      0  \n",
       "275639  2020 Summer  2020  Summer  Wheelchair Basketball      1  \n",
       "275640  2020 Summer  2020  Summer              Athletics      0  \n",
       "275641  2020 Summer  2020  Summer              Triathlon      0  \n",
       "275642  2020 Summer  2020  Summer           Table Tennis      0  "
      ]
     },
     "execution_count": 5,
     "metadata": {},
     "output_type": "execute_result"
    }
   ],
   "source": [
    "df.tail()"
   ]
  },
  {
   "cell_type": "markdown",
   "id": "5a458251",
   "metadata": {},
   "source": [
    "Veri setinin son 5 verisini ekrana bastırdık."
   ]
  },
  {
   "cell_type": "code",
   "execution_count": 6,
   "id": "acd4be1f",
   "metadata": {},
   "outputs": [
    {
     "data": {
      "text/html": [
       "<div>\n",
       "<style scoped>\n",
       "    .dataframe tbody tr th:only-of-type {\n",
       "        vertical-align: middle;\n",
       "    }\n",
       "\n",
       "    .dataframe tbody tr th {\n",
       "        vertical-align: top;\n",
       "    }\n",
       "\n",
       "    .dataframe thead th {\n",
       "        text-align: right;\n",
       "    }\n",
       "</style>\n",
       "<table border=\"1\" class=\"dataframe\">\n",
       "  <thead>\n",
       "    <tr style=\"text-align: right;\">\n",
       "      <th></th>\n",
       "      <th>Name</th>\n",
       "      <th>Sex</th>\n",
       "      <th>Age</th>\n",
       "      <th>Team</th>\n",
       "      <th>Sport</th>\n",
       "      <th>Medal</th>\n",
       "    </tr>\n",
       "  </thead>\n",
       "  <tbody>\n",
       "    <tr>\n",
       "      <th>0</th>\n",
       "      <td>A Dijiang</td>\n",
       "      <td>M</td>\n",
       "      <td>24.0</td>\n",
       "      <td>China</td>\n",
       "      <td>Basketball</td>\n",
       "      <td>0</td>\n",
       "    </tr>\n",
       "    <tr>\n",
       "      <th>1</th>\n",
       "      <td>A Lamusi</td>\n",
       "      <td>M</td>\n",
       "      <td>23.0</td>\n",
       "      <td>China</td>\n",
       "      <td>Judo</td>\n",
       "      <td>0</td>\n",
       "    </tr>\n",
       "    <tr>\n",
       "      <th>2</th>\n",
       "      <td>Gunnar Nielsen Aaby</td>\n",
       "      <td>M</td>\n",
       "      <td>24.0</td>\n",
       "      <td>Denmark</td>\n",
       "      <td>Football</td>\n",
       "      <td>0</td>\n",
       "    </tr>\n",
       "    <tr>\n",
       "      <th>3</th>\n",
       "      <td>Edgar Lindenau Aabye</td>\n",
       "      <td>M</td>\n",
       "      <td>34.0</td>\n",
       "      <td>Denmark/Sweden</td>\n",
       "      <td>Tug-Of-War</td>\n",
       "      <td>3</td>\n",
       "    </tr>\n",
       "    <tr>\n",
       "      <th>4</th>\n",
       "      <td>Christine Jacoba Aaftink</td>\n",
       "      <td>F</td>\n",
       "      <td>21.0</td>\n",
       "      <td>Netherlands</td>\n",
       "      <td>Speed Skating</td>\n",
       "      <td>0</td>\n",
       "    </tr>\n",
       "  </tbody>\n",
       "</table>\n",
       "</div>"
      ],
      "text/plain": [
       "                       Name Sex   Age            Team          Sport  Medal\n",
       "0                 A Dijiang   M  24.0           China     Basketball      0\n",
       "1                  A Lamusi   M  23.0           China           Judo      0\n",
       "2       Gunnar Nielsen Aaby   M  24.0         Denmark       Football      0\n",
       "3      Edgar Lindenau Aabye   M  34.0  Denmark/Sweden     Tug-Of-War      3\n",
       "4  Christine Jacoba Aaftink   F  21.0     Netherlands  Speed Skating      0"
      ]
     },
     "execution_count": 6,
     "metadata": {},
     "output_type": "execute_result"
    }
   ],
   "source": [
    "df=df.drop([\"Unnamed: 0\",\"Games\",\"Year\",\"Season\"], axis = 1)\n",
    "df.Sex[df.Sex==\"Male\"]=\"M\"\n",
    "df.Sex[df.Sex==\"Female\"]=\"F\"\n",
    "df.head()"
   ]
  },
  {
   "cell_type": "markdown",
   "id": "26d3bbaa",
   "metadata": {},
   "source": [
    "Veri setinde cinsiyet kategorisinde F,M,Male,Female değişkenlerinin olduğunu gördük. Bu değişken sayısını 2'ye düşürdük."
   ]
  },
  {
   "cell_type": "code",
   "execution_count": 7,
   "id": "9606d308",
   "metadata": {},
   "outputs": [],
   "source": [
    "df=df.drop_duplicates(subset=['Name'])"
   ]
  },
  {
   "cell_type": "code",
   "execution_count": 8,
   "id": "0d3b3be5",
   "metadata": {},
   "outputs": [
    {
     "data": {
      "text/plain": [
       "(139157, 6)"
      ]
     },
     "execution_count": 8,
     "metadata": {},
     "output_type": "execute_result"
    }
   ],
   "source": [
    "df.shape"
   ]
  },
  {
   "cell_type": "markdown",
   "id": "e8001314",
   "metadata": {},
   "source": [
    "## 2. Veri Setinin Betimlenmesi"
   ]
  },
  {
   "cell_type": "code",
   "execution_count": 9,
   "id": "a533a824",
   "metadata": {},
   "outputs": [
    {
     "name": "stdout",
     "output_type": "stream",
     "text": [
      "<class 'pandas.core.frame.DataFrame'>\n",
      "Int64Index: 139157 entries, 0 to 275642\n",
      "Data columns (total 6 columns):\n",
      " #   Column  Non-Null Count   Dtype  \n",
      "---  ------  --------------   -----  \n",
      " 0   Name    139157 non-null  object \n",
      " 1   Sex     139157 non-null  object \n",
      " 2   Age     132836 non-null  float64\n",
      " 3   Team    139157 non-null  object \n",
      " 4   Sport   139157 non-null  object \n",
      " 5   Medal   139157 non-null  int64  \n",
      "dtypes: float64(1), int64(1), object(4)\n",
      "memory usage: 7.4+ MB\n"
     ]
    }
   ],
   "source": [
    "df.info()"
   ]
  },
  {
   "cell_type": "code",
   "execution_count": 10,
   "id": "52227247",
   "metadata": {},
   "outputs": [],
   "source": [
    "df.Team = pd.Categorical(df.Team)\n",
    "df.Sport = pd.Categorical(df.Sport)"
   ]
  },
  {
   "cell_type": "markdown",
   "id": "96204331",
   "metadata": {},
   "source": [
    "Kategori verilerini belirledik."
   ]
  },
  {
   "cell_type": "code",
   "execution_count": 11,
   "id": "32cfd250",
   "metadata": {},
   "outputs": [
    {
     "data": {
      "text/html": [
       "<div>\n",
       "<style scoped>\n",
       "    .dataframe tbody tr th:only-of-type {\n",
       "        vertical-align: middle;\n",
       "    }\n",
       "\n",
       "    .dataframe tbody tr th {\n",
       "        vertical-align: top;\n",
       "    }\n",
       "\n",
       "    .dataframe thead th {\n",
       "        text-align: right;\n",
       "    }\n",
       "</style>\n",
       "<table border=\"1\" class=\"dataframe\">\n",
       "  <thead>\n",
       "    <tr style=\"text-align: right;\">\n",
       "      <th></th>\n",
       "      <th>Name</th>\n",
       "      <th>Sex</th>\n",
       "      <th>Age</th>\n",
       "      <th>Team</th>\n",
       "      <th>Sport</th>\n",
       "      <th>Medal</th>\n",
       "    </tr>\n",
       "  </thead>\n",
       "  <tbody>\n",
       "    <tr>\n",
       "      <th>0</th>\n",
       "      <td>A Dijiang</td>\n",
       "      <td>1</td>\n",
       "      <td>24.0</td>\n",
       "      <td>China</td>\n",
       "      <td>Basketball</td>\n",
       "      <td>0</td>\n",
       "    </tr>\n",
       "    <tr>\n",
       "      <th>1</th>\n",
       "      <td>A Lamusi</td>\n",
       "      <td>1</td>\n",
       "      <td>23.0</td>\n",
       "      <td>China</td>\n",
       "      <td>Judo</td>\n",
       "      <td>0</td>\n",
       "    </tr>\n",
       "    <tr>\n",
       "      <th>2</th>\n",
       "      <td>Gunnar Nielsen Aaby</td>\n",
       "      <td>1</td>\n",
       "      <td>24.0</td>\n",
       "      <td>Denmark</td>\n",
       "      <td>Football</td>\n",
       "      <td>0</td>\n",
       "    </tr>\n",
       "    <tr>\n",
       "      <th>3</th>\n",
       "      <td>Edgar Lindenau Aabye</td>\n",
       "      <td>1</td>\n",
       "      <td>34.0</td>\n",
       "      <td>Denmark/Sweden</td>\n",
       "      <td>Tug-Of-War</td>\n",
       "      <td>3</td>\n",
       "    </tr>\n",
       "    <tr>\n",
       "      <th>4</th>\n",
       "      <td>Christine Jacoba Aaftink</td>\n",
       "      <td>0</td>\n",
       "      <td>21.0</td>\n",
       "      <td>Netherlands</td>\n",
       "      <td>Speed Skating</td>\n",
       "      <td>0</td>\n",
       "    </tr>\n",
       "  </tbody>\n",
       "</table>\n",
       "</div>"
      ],
      "text/plain": [
       "                       Name  Sex   Age            Team          Sport  Medal\n",
       "0                 A Dijiang    1  24.0           China     Basketball      0\n",
       "1                  A Lamusi    1  23.0           China           Judo      0\n",
       "2       Gunnar Nielsen Aaby    1  24.0         Denmark       Football      0\n",
       "3      Edgar Lindenau Aabye    1  34.0  Denmark/Sweden     Tug-Of-War      3\n",
       "4  Christine Jacoba Aaftink    0  21.0     Netherlands  Speed Skating      0"
      ]
     },
     "execution_count": 11,
     "metadata": {},
     "output_type": "execute_result"
    }
   ],
   "source": [
    "from sklearn.preprocessing import LabelEncoder\n",
    "lbe = LabelEncoder()\n",
    "lbe.fit_transform(df[\"Sex\"])\n",
    "df[\"Sex\"] = lbe.fit_transform(df[\"Sex\"])\n",
    "df.head()"
   ]
  },
  {
   "cell_type": "markdown",
   "id": "e075d387",
   "metadata": {},
   "source": [
    "Cinsiyet verilerini M=1 , F=0 dönüşümünü yaptık."
   ]
  },
  {
   "cell_type": "code",
   "execution_count": 12,
   "id": "86744e14",
   "metadata": {},
   "outputs": [
    {
     "name": "stdout",
     "output_type": "stream",
     "text": [
      "<class 'pandas.core.frame.DataFrame'>\n",
      "Int64Index: 139157 entries, 0 to 275642\n",
      "Data columns (total 6 columns):\n",
      " #   Column  Non-Null Count   Dtype   \n",
      "---  ------  --------------   -----   \n",
      " 0   Name    139157 non-null  object  \n",
      " 1   Sex     139157 non-null  int32   \n",
      " 2   Age     132836 non-null  float64 \n",
      " 3   Team    139157 non-null  category\n",
      " 4   Sport   139157 non-null  category\n",
      " 5   Medal   139157 non-null  int64   \n",
      "dtypes: category(2), float64(1), int32(1), int64(1), object(1)\n",
      "memory usage: 5.2+ MB\n"
     ]
    }
   ],
   "source": [
    "df.info()"
   ]
  },
  {
   "cell_type": "code",
   "execution_count": 13,
   "id": "c87ccf2e",
   "metadata": {},
   "outputs": [
    {
     "name": "stdout",
     "output_type": "stream",
     "text": [
      "\n",
      "\n"
     ]
    },
    {
     "data": {
      "text/html": [
       "<div>\n",
       "<style scoped>\n",
       "    .dataframe tbody tr th:only-of-type {\n",
       "        vertical-align: middle;\n",
       "    }\n",
       "\n",
       "    .dataframe tbody tr th {\n",
       "        vertical-align: top;\n",
       "    }\n",
       "\n",
       "    .dataframe thead th {\n",
       "        text-align: right;\n",
       "    }\n",
       "</style>\n",
       "<table border=\"1\" class=\"dataframe\">\n",
       "  <thead>\n",
       "    <tr style=\"text-align: right;\">\n",
       "      <th></th>\n",
       "      <th>Variable</th>\n",
       "      <th>N</th>\n",
       "      <th>Mean</th>\n",
       "      <th>SD</th>\n",
       "      <th>SE</th>\n",
       "      <th>95% Conf.</th>\n",
       "      <th>Interval</th>\n",
       "    </tr>\n",
       "  </thead>\n",
       "  <tbody>\n",
       "    <tr>\n",
       "      <th>0</th>\n",
       "      <td>Sex</td>\n",
       "      <td>139157.0</td>\n",
       "      <td>0.7439</td>\n",
       "      <td>0.4365</td>\n",
       "      <td>0.0012</td>\n",
       "      <td>0.7416</td>\n",
       "      <td>0.7462</td>\n",
       "    </tr>\n",
       "    <tr>\n",
       "      <th>1</th>\n",
       "      <td>Age</td>\n",
       "      <td>132836.0</td>\n",
       "      <td>24.6841</td>\n",
       "      <td>5.9765</td>\n",
       "      <td>0.0164</td>\n",
       "      <td>24.6520</td>\n",
       "      <td>24.7163</td>\n",
       "    </tr>\n",
       "    <tr>\n",
       "      <th>2</th>\n",
       "      <td>Medal</td>\n",
       "      <td>139157.0</td>\n",
       "      <td>0.2949</td>\n",
       "      <td>0.7747</td>\n",
       "      <td>0.0021</td>\n",
       "      <td>0.2908</td>\n",
       "      <td>0.2989</td>\n",
       "    </tr>\n",
       "  </tbody>\n",
       "</table>\n",
       "</div>"
      ],
      "text/plain": [
       "  Variable         N     Mean      SD      SE  95% Conf.  Interval\n",
       "0      Sex  139157.0   0.7439  0.4365  0.0012     0.7416    0.7462\n",
       "1      Age  132836.0  24.6841  5.9765  0.0164    24.6520   24.7163\n",
       "2    Medal  139157.0   0.2949  0.7747  0.0021     0.2908    0.2989"
      ]
     },
     "execution_count": 13,
     "metadata": {},
     "output_type": "execute_result"
    }
   ],
   "source": [
    "rp.summary_cont(df[[\"Sex\",\"Age\",\"Medal\"]])"
   ]
  },
  {
   "cell_type": "code",
   "execution_count": 14,
   "id": "404ba16e",
   "metadata": {},
   "outputs": [
    {
     "data": {
      "text/html": [
       "<div>\n",
       "<style scoped>\n",
       "    .dataframe tbody tr th:only-of-type {\n",
       "        vertical-align: middle;\n",
       "    }\n",
       "\n",
       "    .dataframe tbody tr th {\n",
       "        vertical-align: top;\n",
       "    }\n",
       "\n",
       "    .dataframe thead th {\n",
       "        text-align: right;\n",
       "    }\n",
       "</style>\n",
       "<table border=\"1\" class=\"dataframe\">\n",
       "  <thead>\n",
       "    <tr style=\"text-align: right;\">\n",
       "      <th></th>\n",
       "      <th>count</th>\n",
       "      <th>mean</th>\n",
       "      <th>std</th>\n",
       "      <th>min</th>\n",
       "      <th>25%</th>\n",
       "      <th>50%</th>\n",
       "      <th>75%</th>\n",
       "      <th>max</th>\n",
       "    </tr>\n",
       "  </thead>\n",
       "  <tbody>\n",
       "    <tr>\n",
       "      <th>Sex</th>\n",
       "      <td>139157.0</td>\n",
       "      <td>0.743922</td>\n",
       "      <td>0.436467</td>\n",
       "      <td>0.0</td>\n",
       "      <td>0.0</td>\n",
       "      <td>1.0</td>\n",
       "      <td>1.0</td>\n",
       "      <td>1.0</td>\n",
       "    </tr>\n",
       "    <tr>\n",
       "      <th>Age</th>\n",
       "      <td>132836.0</td>\n",
       "      <td>24.684114</td>\n",
       "      <td>5.976451</td>\n",
       "      <td>10.0</td>\n",
       "      <td>21.0</td>\n",
       "      <td>24.0</td>\n",
       "      <td>27.0</td>\n",
       "      <td>97.0</td>\n",
       "    </tr>\n",
       "    <tr>\n",
       "      <th>Medal</th>\n",
       "      <td>139157.0</td>\n",
       "      <td>0.294868</td>\n",
       "      <td>0.774671</td>\n",
       "      <td>0.0</td>\n",
       "      <td>0.0</td>\n",
       "      <td>0.0</td>\n",
       "      <td>0.0</td>\n",
       "      <td>3.0</td>\n",
       "    </tr>\n",
       "  </tbody>\n",
       "</table>\n",
       "</div>"
      ],
      "text/plain": [
       "          count       mean       std   min   25%   50%   75%   max\n",
       "Sex    139157.0   0.743922  0.436467   0.0   0.0   1.0   1.0   1.0\n",
       "Age    132836.0  24.684114  5.976451  10.0  21.0  24.0  27.0  97.0\n",
       "Medal  139157.0   0.294868  0.774671   0.0   0.0   0.0   0.0   3.0"
      ]
     },
     "execution_count": 14,
     "metadata": {},
     "output_type": "execute_result"
    }
   ],
   "source": [
    "df.describe().T #eksik gözlemleri göz ardı eder ve kategorik değişkenleri görmezden gelir"
   ]
  },
  {
   "cell_type": "code",
   "execution_count": 15,
   "id": "1330b1a9",
   "metadata": {},
   "outputs": [
    {
     "data": {
      "text/html": [
       "<div>\n",
       "<style scoped>\n",
       "    .dataframe tbody tr th:only-of-type {\n",
       "        vertical-align: middle;\n",
       "    }\n",
       "\n",
       "    .dataframe tbody tr th {\n",
       "        vertical-align: top;\n",
       "    }\n",
       "\n",
       "    .dataframe thead th {\n",
       "        text-align: right;\n",
       "    }\n",
       "</style>\n",
       "<table border=\"1\" class=\"dataframe\">\n",
       "  <thead>\n",
       "    <tr style=\"text-align: right;\">\n",
       "      <th></th>\n",
       "      <th>Variable</th>\n",
       "      <th>Outcome</th>\n",
       "      <th>Count</th>\n",
       "      <th>Percent</th>\n",
       "    </tr>\n",
       "  </thead>\n",
       "  <tbody>\n",
       "    <tr>\n",
       "      <th>0</th>\n",
       "      <td>Sport</td>\n",
       "      <td>Athletics</td>\n",
       "      <td>23025</td>\n",
       "      <td>16.55</td>\n",
       "    </tr>\n",
       "    <tr>\n",
       "      <th>1</th>\n",
       "      <td></td>\n",
       "      <td>Swimming</td>\n",
       "      <td>9198</td>\n",
       "      <td>6.61</td>\n",
       "    </tr>\n",
       "    <tr>\n",
       "      <th>2</th>\n",
       "      <td></td>\n",
       "      <td>Rowing</td>\n",
       "      <td>7726</td>\n",
       "      <td>5.55</td>\n",
       "    </tr>\n",
       "    <tr>\n",
       "      <th>3</th>\n",
       "      <td></td>\n",
       "      <td>Football</td>\n",
       "      <td>6129</td>\n",
       "      <td>4.40</td>\n",
       "    </tr>\n",
       "    <tr>\n",
       "      <th>4</th>\n",
       "      <td></td>\n",
       "      <td>Cycling</td>\n",
       "      <td>5765</td>\n",
       "      <td>4.14</td>\n",
       "    </tr>\n",
       "    <tr>\n",
       "      <th>5</th>\n",
       "      <td></td>\n",
       "      <td>Boxing</td>\n",
       "      <td>5220</td>\n",
       "      <td>3.75</td>\n",
       "    </tr>\n",
       "    <tr>\n",
       "      <th>6</th>\n",
       "      <td></td>\n",
       "      <td>Shooting</td>\n",
       "      <td>4969</td>\n",
       "      <td>3.57</td>\n",
       "    </tr>\n",
       "    <tr>\n",
       "      <th>7</th>\n",
       "      <td></td>\n",
       "      <td>Wrestling</td>\n",
       "      <td>4937</td>\n",
       "      <td>3.55</td>\n",
       "    </tr>\n",
       "    <tr>\n",
       "      <th>8</th>\n",
       "      <td></td>\n",
       "      <td>Sailing</td>\n",
       "      <td>4448</td>\n",
       "      <td>3.20</td>\n",
       "    </tr>\n",
       "    <tr>\n",
       "      <th>9</th>\n",
       "      <td></td>\n",
       "      <td>Gymnastics</td>\n",
       "      <td>4083</td>\n",
       "      <td>2.93</td>\n",
       "    </tr>\n",
       "    <tr>\n",
       "      <th>10</th>\n",
       "      <td></td>\n",
       "      <td>Fencing</td>\n",
       "      <td>4026</td>\n",
       "      <td>2.89</td>\n",
       "    </tr>\n",
       "    <tr>\n",
       "      <th>11</th>\n",
       "      <td></td>\n",
       "      <td>Ice Hockey</td>\n",
       "      <td>3849</td>\n",
       "      <td>2.77</td>\n",
       "    </tr>\n",
       "    <tr>\n",
       "      <th>12</th>\n",
       "      <td></td>\n",
       "      <td>Hockey</td>\n",
       "      <td>3783</td>\n",
       "      <td>2.72</td>\n",
       "    </tr>\n",
       "    <tr>\n",
       "      <th>13</th>\n",
       "      <td></td>\n",
       "      <td>Basketball</td>\n",
       "      <td>3383</td>\n",
       "      <td>2.43</td>\n",
       "    </tr>\n",
       "    <tr>\n",
       "      <th>14</th>\n",
       "      <td></td>\n",
       "      <td>Canoeing</td>\n",
       "      <td>3179</td>\n",
       "      <td>2.28</td>\n",
       "    </tr>\n",
       "    <tr>\n",
       "      <th>15</th>\n",
       "      <td></td>\n",
       "      <td>Weightlifting</td>\n",
       "      <td>2835</td>\n",
       "      <td>2.04</td>\n",
       "    </tr>\n",
       "    <tr>\n",
       "      <th>16</th>\n",
       "      <td></td>\n",
       "      <td>Judo</td>\n",
       "      <td>2835</td>\n",
       "      <td>2.04</td>\n",
       "    </tr>\n",
       "    <tr>\n",
       "      <th>17</th>\n",
       "      <td></td>\n",
       "      <td>Alpine Skiing</td>\n",
       "      <td>2707</td>\n",
       "      <td>1.95</td>\n",
       "    </tr>\n",
       "    <tr>\n",
       "      <th>18</th>\n",
       "      <td></td>\n",
       "      <td>Handball</td>\n",
       "      <td>2671</td>\n",
       "      <td>1.92</td>\n",
       "    </tr>\n",
       "    <tr>\n",
       "      <th>19</th>\n",
       "      <td></td>\n",
       "      <td>Water Polo</td>\n",
       "      <td>2526</td>\n",
       "      <td>1.82</td>\n",
       "    </tr>\n",
       "    <tr>\n",
       "      <th>20</th>\n",
       "      <td></td>\n",
       "      <td>Volleyball</td>\n",
       "      <td>2486</td>\n",
       "      <td>1.79</td>\n",
       "    </tr>\n",
       "    <tr>\n",
       "      <th>21</th>\n",
       "      <td></td>\n",
       "      <td>Equestrianism</td>\n",
       "      <td>2318</td>\n",
       "      <td>1.67</td>\n",
       "    </tr>\n",
       "    <tr>\n",
       "      <th>22</th>\n",
       "      <td></td>\n",
       "      <td>Cross Country Skiing</td>\n",
       "      <td>2288</td>\n",
       "      <td>1.64</td>\n",
       "    </tr>\n",
       "    <tr>\n",
       "      <th>23</th>\n",
       "      <td></td>\n",
       "      <td>Art Competitions</td>\n",
       "      <td>1789</td>\n",
       "      <td>1.29</td>\n",
       "    </tr>\n",
       "    <tr>\n",
       "      <th>24</th>\n",
       "      <td></td>\n",
       "      <td>Bobsleigh</td>\n",
       "      <td>1612</td>\n",
       "      <td>1.16</td>\n",
       "    </tr>\n",
       "    <tr>\n",
       "      <th>25</th>\n",
       "      <td></td>\n",
       "      <td>Figure Skating</td>\n",
       "      <td>1563</td>\n",
       "      <td>1.12</td>\n",
       "    </tr>\n",
       "    <tr>\n",
       "      <th>26</th>\n",
       "      <td></td>\n",
       "      <td>Speed Skating</td>\n",
       "      <td>1556</td>\n",
       "      <td>1.12</td>\n",
       "    </tr>\n",
       "    <tr>\n",
       "      <th>27</th>\n",
       "      <td></td>\n",
       "      <td>Diving</td>\n",
       "      <td>1446</td>\n",
       "      <td>1.04</td>\n",
       "    </tr>\n",
       "    <tr>\n",
       "      <th>28</th>\n",
       "      <td></td>\n",
       "      <td>Archery</td>\n",
       "      <td>1244</td>\n",
       "      <td>0.89</td>\n",
       "    </tr>\n",
       "    <tr>\n",
       "      <th>29</th>\n",
       "      <td></td>\n",
       "      <td>Tennis</td>\n",
       "      <td>1237</td>\n",
       "      <td>0.89</td>\n",
       "    </tr>\n",
       "  </tbody>\n",
       "</table>\n",
       "</div>"
      ],
      "text/plain": [
       "   Variable               Outcome  Count  Percent\n",
       "0     Sport             Athletics  23025    16.55\n",
       "1                        Swimming   9198     6.61\n",
       "2                          Rowing   7726     5.55\n",
       "3                        Football   6129     4.40\n",
       "4                         Cycling   5765     4.14\n",
       "5                          Boxing   5220     3.75\n",
       "6                        Shooting   4969     3.57\n",
       "7                       Wrestling   4937     3.55\n",
       "8                         Sailing   4448     3.20\n",
       "9                      Gymnastics   4083     2.93\n",
       "10                        Fencing   4026     2.89\n",
       "11                     Ice Hockey   3849     2.77\n",
       "12                         Hockey   3783     2.72\n",
       "13                     Basketball   3383     2.43\n",
       "14                       Canoeing   3179     2.28\n",
       "15                  Weightlifting   2835     2.04\n",
       "16                           Judo   2835     2.04\n",
       "17                  Alpine Skiing   2707     1.95\n",
       "18                       Handball   2671     1.92\n",
       "19                     Water Polo   2526     1.82\n",
       "20                     Volleyball   2486     1.79\n",
       "21                  Equestrianism   2318     1.67\n",
       "22           Cross Country Skiing   2288     1.64\n",
       "23               Art Competitions   1789     1.29\n",
       "24                      Bobsleigh   1612     1.16\n",
       "25                 Figure Skating   1563     1.12\n",
       "26                  Speed Skating   1556     1.12\n",
       "27                         Diving   1446     1.04\n",
       "28                        Archery   1244     0.89\n",
       "29                         Tennis   1237     0.89"
      ]
     },
     "execution_count": 15,
     "metadata": {},
     "output_type": "execute_result"
    }
   ],
   "source": [
    "rp.summary_cat(df[[\"Sport\",\"Team\"]])[:30]"
   ]
  },
  {
   "cell_type": "code",
   "execution_count": 16,
   "id": "6f2bd5ae",
   "metadata": {},
   "outputs": [
    {
     "data": {
      "text/html": [
       "<div>\n",
       "<style scoped>\n",
       "    .dataframe tbody tr th:only-of-type {\n",
       "        vertical-align: middle;\n",
       "    }\n",
       "\n",
       "    .dataframe tbody tr th {\n",
       "        vertical-align: top;\n",
       "    }\n",
       "\n",
       "    .dataframe thead th {\n",
       "        text-align: right;\n",
       "    }\n",
       "</style>\n",
       "<table border=\"1\" class=\"dataframe\">\n",
       "  <thead>\n",
       "    <tr style=\"text-align: right;\">\n",
       "      <th></th>\n",
       "      <th>Name</th>\n",
       "      <th>Sex</th>\n",
       "      <th>Age</th>\n",
       "      <th>Team</th>\n",
       "      <th>Sport</th>\n",
       "      <th>Medal</th>\n",
       "    </tr>\n",
       "  </thead>\n",
       "  <tbody>\n",
       "    <tr>\n",
       "      <th>184</th>\n",
       "      <td>Enrique Abaroa Martnez</td>\n",
       "      <td>1</td>\n",
       "      <td>26.0</td>\n",
       "      <td>Mexico</td>\n",
       "      <td>Tennis</td>\n",
       "      <td>0</td>\n",
       "    </tr>\n",
       "    <tr>\n",
       "      <th>582</th>\n",
       "      <td>Abubakar Sadiq Abdullahi</td>\n",
       "      <td>1</td>\n",
       "      <td>28.0</td>\n",
       "      <td>Nigeria</td>\n",
       "      <td>Tennis</td>\n",
       "      <td>0</td>\n",
       "    </tr>\n",
       "    <tr>\n",
       "      <th>1235</th>\n",
       "      <td>Ricardo Augusto Amaral Acioly</td>\n",
       "      <td>1</td>\n",
       "      <td>24.0</td>\n",
       "      <td>Brazil</td>\n",
       "      <td>Tennis</td>\n",
       "      <td>0</td>\n",
       "    </tr>\n",
       "    <tr>\n",
       "      <th>1457</th>\n",
       "      <td>David Dixie Adams</td>\n",
       "      <td>1</td>\n",
       "      <td>30.0</td>\n",
       "      <td>South Africa</td>\n",
       "      <td>Tennis</td>\n",
       "      <td>0</td>\n",
       "    </tr>\n",
       "    <tr>\n",
       "      <th>1756</th>\n",
       "      <td>Anna Mrtha Vilhelmina Adlerstrhle (von Oelreich-)</td>\n",
       "      <td>0</td>\n",
       "      <td>39.0</td>\n",
       "      <td>Sweden</td>\n",
       "      <td>Tennis</td>\n",
       "      <td>1</td>\n",
       "    </tr>\n",
       "  </tbody>\n",
       "</table>\n",
       "</div>"
      ],
      "text/plain": [
       "                                                   Name  Sex   Age  \\\n",
       "184                              Enrique Abaroa Martnez    1  26.0   \n",
       "582                            Abubakar Sadiq Abdullahi    1  28.0   \n",
       "1235                      Ricardo Augusto Amaral Acioly    1  24.0   \n",
       "1457                                  David Dixie Adams    1  30.0   \n",
       "1756  Anna Mrtha Vilhelmina Adlerstrhle (von Oelreich-)    0  39.0   \n",
       "\n",
       "              Team   Sport  Medal  \n",
       "184         Mexico  Tennis      0  \n",
       "582        Nigeria  Tennis      0  \n",
       "1235        Brazil  Tennis      0  \n",
       "1457  South Africa  Tennis      0  \n",
       "1756        Sweden  Tennis      1  "
      ]
     },
     "execution_count": 16,
     "metadata": {},
     "output_type": "execute_result"
    }
   ],
   "source": [
    "tennisdf=df[\"Sport\"] == \"Tennis\"\n",
    "df=df[tennisdf]\n",
    "df.head()"
   ]
  },
  {
   "cell_type": "code",
   "execution_count": 17,
   "id": "2f4f5250",
   "metadata": {},
   "outputs": [
    {
     "data": {
      "text/plain": [
       "(1237, 6)"
      ]
     },
     "execution_count": 17,
     "metadata": {},
     "output_type": "execute_result"
    }
   ],
   "source": [
    "df.shape"
   ]
  },
  {
   "cell_type": "code",
   "execution_count": null,
   "id": "bce084ad",
   "metadata": {},
   "outputs": [],
   "source": []
  },
  {
   "cell_type": "markdown",
   "id": "af1829f2",
   "metadata": {},
   "source": [
    "## 3. Ayrık ve Eksik Değerlerin İncelenmesi"
   ]
  },
  {
   "cell_type": "markdown",
   "id": "fb29ba9e",
   "metadata": {},
   "source": [
    "Ayrık değerlerin gözlemlenmesi\n"
   ]
  },
  {
   "cell_type": "code",
   "execution_count": 18,
   "id": "da8fc447",
   "metadata": {},
   "outputs": [
    {
     "data": {
      "text/html": [
       "<div>\n",
       "<style scoped>\n",
       "    .dataframe tbody tr th:only-of-type {\n",
       "        vertical-align: middle;\n",
       "    }\n",
       "\n",
       "    .dataframe tbody tr th {\n",
       "        vertical-align: top;\n",
       "    }\n",
       "\n",
       "    .dataframe thead th {\n",
       "        text-align: right;\n",
       "    }\n",
       "</style>\n",
       "<table border=\"1\" class=\"dataframe\">\n",
       "  <thead>\n",
       "    <tr style=\"text-align: right;\">\n",
       "      <th></th>\n",
       "      <th>Age</th>\n",
       "      <th>Medal</th>\n",
       "    </tr>\n",
       "  </thead>\n",
       "  <tbody>\n",
       "    <tr>\n",
       "      <th>184</th>\n",
       "      <td>26.0</td>\n",
       "      <td>0</td>\n",
       "    </tr>\n",
       "    <tr>\n",
       "      <th>582</th>\n",
       "      <td>28.0</td>\n",
       "      <td>0</td>\n",
       "    </tr>\n",
       "    <tr>\n",
       "      <th>1235</th>\n",
       "      <td>24.0</td>\n",
       "      <td>0</td>\n",
       "    </tr>\n",
       "    <tr>\n",
       "      <th>1457</th>\n",
       "      <td>30.0</td>\n",
       "      <td>0</td>\n",
       "    </tr>\n",
       "    <tr>\n",
       "      <th>1756</th>\n",
       "      <td>39.0</td>\n",
       "      <td>1</td>\n",
       "    </tr>\n",
       "  </tbody>\n",
       "</table>\n",
       "</div>"
      ],
      "text/plain": [
       "       Age  Medal\n",
       "184   26.0      0\n",
       "582   28.0      0\n",
       "1235  24.0      0\n",
       "1457  30.0      0\n",
       "1756  39.0      1"
      ]
     },
     "execution_count": 18,
     "metadata": {},
     "output_type": "execute_result"
    }
   ],
   "source": [
    "tf = df.select_dtypes(include = ['float64', 'int64'])\n",
    "tf = tf.dropna()\n",
    "tf.head()"
   ]
  },
  {
   "cell_type": "code",
   "execution_count": 19,
   "id": "93213c05",
   "metadata": {},
   "outputs": [
    {
     "data": {
      "text/plain": [
       "184     26.0\n",
       "582     28.0\n",
       "1235    24.0\n",
       "1457    30.0\n",
       "1756    39.0\n",
       "Name: Age, dtype: float64"
      ]
     },
     "execution_count": 19,
     "metadata": {},
     "output_type": "execute_result"
    }
   ],
   "source": [
    "df_table = tf[\"Age\"]\n",
    "df_table.head()"
   ]
  },
  {
   "cell_type": "code",
   "execution_count": 20,
   "id": "c426486d",
   "metadata": {},
   "outputs": [
    {
     "data": {
      "image/png": "[encoded data removed]",
      "text/plain": [
       "<Figure size 432x288 with 1 Axes>"
      ]
     },
     "metadata": {
      "needs_background": "light"
     },
     "output_type": "display_data"
    }
   ],
   "source": [
    "sns.boxplot(x =df_table);"
   ]
  },
  {
   "cell_type": "code",
   "execution_count": 21,
   "id": "1c1cf1c7",
   "metadata": {},
   "outputs": [],
   "source": [
    "Q1 = df_table.quantile(0.25)\n",
    "Q3 = df_table.quantile(0.75)\n",
    "IQR = Q3-Q1"
   ]
  },
  {
   "cell_type": "code",
   "execution_count": 22,
   "id": "0b1fda0a",
   "metadata": {},
   "outputs": [
    {
     "name": "stdout",
     "output_type": "stream",
     "text": [
      "21.0\n",
      "27.0\n",
      "6.0\n"
     ]
    }
   ],
   "source": [
    "print(Q1)\n",
    "print(Q3)\n",
    "print(IQR)"
   ]
  },
  {
   "cell_type": "code",
   "execution_count": 23,
   "id": "b074c86c",
   "metadata": {},
   "outputs": [],
   "source": [
    "alt_sinir = Q1- 1.5*IQR\n",
    "ust_sinir = Q3 + 1.5*IQR"
   ]
  },
  {
   "cell_type": "code",
   "execution_count": 24,
   "id": "789e49f4",
   "metadata": {},
   "outputs": [
    {
     "name": "stdout",
     "output_type": "stream",
     "text": [
      "12.0\n",
      "36.0\n"
     ]
    }
   ],
   "source": [
    "print(alt_sinir)\n",
    "print(ust_sinir)"
   ]
  },
  {
   "cell_type": "code",
   "execution_count": 25,
   "id": "25874049",
   "metadata": {},
   "outputs": [
    {
     "data": {
      "text/plain": [
       "184       False\n",
       "582       False\n",
       "1235      False\n",
       "1457      False\n",
       "1756       True\n",
       "          ...  \n",
       "270115    False\n",
       "270519    False\n",
       "270775    False\n",
       "270973    False\n",
       "270986    False\n",
       "Name: Age, Length: 1167, dtype: bool"
      ]
     },
     "execution_count": 25,
     "metadata": {},
     "output_type": "execute_result"
    }
   ],
   "source": [
    "(df_table < alt_sinir) | ( df_table > ust_sinir)"
   ]
  },
  {
   "cell_type": "code",
   "execution_count": 26,
   "id": "1de7f3a8",
   "metadata": {},
   "outputs": [
    {
     "data": {
      "text/plain": [
       "1756      39.0\n",
       "35408     39.0\n",
       "37343     38.0\n",
       "50452     39.0\n",
       "50770     40.0\n",
       "56699     37.0\n",
       "60920     40.0\n",
       "74352     40.0\n",
       "80676     39.0\n",
       "82333     40.0\n",
       "92380     45.0\n",
       "96061     44.0\n",
       "103459    42.0\n",
       "105045    44.0\n",
       "133780    38.0\n",
       "144339    40.0\n",
       "155153    42.0\n",
       "168721    47.0\n",
       "188999    37.0\n",
       "193026    40.0\n",
       "201141    37.0\n",
       "211230    38.0\n",
       "220630    41.0\n",
       "231796    37.0\n",
       "253516    38.0\n",
       "260416    37.0\n",
       "261701    37.0\n",
       "Name: Age, dtype: float64"
      ]
     },
     "execution_count": 26,
     "metadata": {},
     "output_type": "execute_result"
    }
   ],
   "source": [
    "aykiri_tf = (df_table < alt_sinir) | (df_table > ust_sinir)\n",
    "df_table[aykiri_tf]"
   ]
  },
  {
   "cell_type": "markdown",
   "id": "b4c68519",
   "metadata": {},
   "source": [
    "Baskılama metodu yerine silme metodu kullandığım veri setine daha uygun olacağını düşündüğüm için bu yöntemi seçtim.\n",
    "Baskılama metodu sonucunda değerlerim eşik değerine sabitleneceği için eşik değerinin üstü için doğru hesaplamaları yapamayacaktım."
   ]
  },
  {
   "cell_type": "code",
   "execution_count": 27,
   "id": "6e315cdd",
   "metadata": {},
   "outputs": [
    {
     "data": {
      "text/plain": [
       "(1167, 1)"
      ]
     },
     "execution_count": 27,
     "metadata": {},
     "output_type": "execute_result"
    }
   ],
   "source": [
    "df_table = pd.DataFrame(df_table)\n",
    "df_table.shape"
   ]
  },
  {
   "cell_type": "code",
   "execution_count": 28,
   "id": "7313bb7c",
   "metadata": {},
   "outputs": [
    {
     "data": {
      "text/plain": [
       "(1140, 1)"
      ]
     },
     "execution_count": 28,
     "metadata": {},
     "output_type": "execute_result"
    }
   ],
   "source": [
    "#aykırı olmayanları seçiyoruz\n",
    "t_df = df_table[~((df_table < (alt_sinir)) | (df_table > (ust_sinir))).any(axis = 1)]\n",
    "t_df.shape"
   ]
  },
  {
   "cell_type": "code",
   "execution_count": 29,
   "id": "d21a47a8",
   "metadata": {},
   "outputs": [
    {
     "data": {
      "text/plain": [
       "Int64Index([  1756,  35408,  37343,  50452,  50770,  56699,  60920,  74352,\n",
       "             80676,  82333,  92380,  96061, 103459, 105045, 133780, 144339,\n",
       "            155153, 168721, 188999, 193026, 201141, 211230, 220630, 231796,\n",
       "            253516, 260416, 261701],\n",
       "           dtype='int64')"
      ]
     },
     "execution_count": 29,
     "metadata": {},
     "output_type": "execute_result"
    }
   ],
   "source": [
    "df_table[aykiri_tf].index"
   ]
  },
  {
   "cell_type": "code",
   "execution_count": 30,
   "id": "814d8a76",
   "metadata": {},
   "outputs": [
    {
     "data": {
      "text/plain": [
       "(1237, 6)"
      ]
     },
     "execution_count": 30,
     "metadata": {},
     "output_type": "execute_result"
    }
   ],
   "source": [
    "df.shape"
   ]
  },
  {
   "cell_type": "code",
   "execution_count": 31,
   "id": "ceb968cc",
   "metadata": {},
   "outputs": [],
   "source": [
    "df.drop(df_table[aykiri_tf].index, axis=0, inplace=True)"
   ]
  },
  {
   "cell_type": "code",
   "execution_count": 32,
   "id": "00e63af0",
   "metadata": {},
   "outputs": [
    {
     "data": {
      "text/plain": [
       "(1210, 6)"
      ]
     },
     "execution_count": 32,
     "metadata": {},
     "output_type": "execute_result"
    }
   ],
   "source": [
    "df.shape"
   ]
  },
  {
   "cell_type": "code",
   "execution_count": 33,
   "id": "7d4d64ba",
   "metadata": {},
   "outputs": [
    {
     "data": {
      "text/html": [
       "<div>\n",
       "<style scoped>\n",
       "    .dataframe tbody tr th:only-of-type {\n",
       "        vertical-align: middle;\n",
       "    }\n",
       "\n",
       "    .dataframe tbody tr th {\n",
       "        vertical-align: top;\n",
       "    }\n",
       "\n",
       "    .dataframe thead th {\n",
       "        text-align: right;\n",
       "    }\n",
       "</style>\n",
       "<table border=\"1\" class=\"dataframe\">\n",
       "  <thead>\n",
       "    <tr style=\"text-align: right;\">\n",
       "      <th></th>\n",
       "      <th>Name</th>\n",
       "      <th>Sex</th>\n",
       "      <th>Age</th>\n",
       "      <th>Team</th>\n",
       "      <th>Sport</th>\n",
       "      <th>Medal</th>\n",
       "    </tr>\n",
       "  </thead>\n",
       "  <tbody>\n",
       "    <tr>\n",
       "      <th>25103</th>\n",
       "      <td>Kateryna Volodymyrivna Bondarenko</td>\n",
       "      <td>0</td>\n",
       "      <td>21.0</td>\n",
       "      <td>Ukraine</td>\n",
       "      <td>Tennis</td>\n",
       "      <td>0</td>\n",
       "    </tr>\n",
       "    <tr>\n",
       "      <th>25489</th>\n",
       "      <td>Kristie Boogert</td>\n",
       "      <td>0</td>\n",
       "      <td>26.0</td>\n",
       "      <td>Netherlands</td>\n",
       "      <td>Tennis</td>\n",
       "      <td>0</td>\n",
       "    </tr>\n",
       "    <tr>\n",
       "      <th>25589</th>\n",
       "      <td>Penelope Dora Harvey Boothby (-Geen)</td>\n",
       "      <td>0</td>\n",
       "      <td>26.0</td>\n",
       "      <td>Great Britain</td>\n",
       "      <td>Tennis</td>\n",
       "      <td>2</td>\n",
       "    </tr>\n",
       "    <tr>\n",
       "      <th>25600</th>\n",
       "      <td>Rohan Bopanna</td>\n",
       "      <td>1</td>\n",
       "      <td>32.0</td>\n",
       "      <td>India-1</td>\n",
       "      <td>Tennis</td>\n",
       "      <td>0</td>\n",
       "    </tr>\n",
       "    <tr>\n",
       "      <th>26074</th>\n",
       "      <td>Jean Laurent Robert Borotra</td>\n",
       "      <td>1</td>\n",
       "      <td>25.0</td>\n",
       "      <td>France</td>\n",
       "      <td>Tennis</td>\n",
       "      <td>0</td>\n",
       "    </tr>\n",
       "    <tr>\n",
       "      <th>26508</th>\n",
       "      <td>Wollmar Filip Bostrm</td>\n",
       "      <td>1</td>\n",
       "      <td>29.0</td>\n",
       "      <td>Sweden</td>\n",
       "      <td>Tennis</td>\n",
       "      <td>0</td>\n",
       "    </tr>\n",
       "    <tr>\n",
       "      <th>26738</th>\n",
       "      <td>Oarda Bouchabou</td>\n",
       "      <td>0</td>\n",
       "      <td>18.0</td>\n",
       "      <td>Algeria</td>\n",
       "      <td>Tennis</td>\n",
       "      <td>0</td>\n",
       "    </tr>\n",
       "    <tr>\n",
       "      <th>26751</th>\n",
       "      <td>Eugenie Bouchard</td>\n",
       "      <td>0</td>\n",
       "      <td>22.0</td>\n",
       "      <td>Canada</td>\n",
       "      <td>Tennis</td>\n",
       "      <td>0</td>\n",
       "    </tr>\n",
       "    <tr>\n",
       "      <th>27019</th>\n",
       "      <td>Cornelia \"Kea\" Bouman (-Tiedemann)</td>\n",
       "      <td>0</td>\n",
       "      <td>20.0</td>\n",
       "      <td>Netherlands</td>\n",
       "      <td>Tennis</td>\n",
       "      <td>0</td>\n",
       "    </tr>\n",
       "    <tr>\n",
       "      <th>27139</th>\n",
       "      <td>Yvonne Rene Suzanne  Bourgeois (-Le Quellec)</td>\n",
       "      <td>0</td>\n",
       "      <td>21.0</td>\n",
       "      <td>France-2</td>\n",
       "      <td>Tennis</td>\n",
       "      <td>0</td>\n",
       "    </tr>\n",
       "    <tr>\n",
       "      <th>27767</th>\n",
       "      <td>Iztok Boic</td>\n",
       "      <td>1</td>\n",
       "      <td>20.0</td>\n",
       "      <td>Slovenia</td>\n",
       "      <td>Tennis</td>\n",
       "      <td>0</td>\n",
       "    </tr>\n",
       "    <tr>\n",
       "      <th>27934</th>\n",
       "      <td>Daniele Bracciali</td>\n",
       "      <td>1</td>\n",
       "      <td>34.0</td>\n",
       "      <td>Italy-1</td>\n",
       "      <td>Tennis</td>\n",
       "      <td>0</td>\n",
       "    </tr>\n",
       "    <tr>\n",
       "      <th>28216</th>\n",
       "      <td>Cristian Alberto Brandi</td>\n",
       "      <td>1</td>\n",
       "      <td>30.0</td>\n",
       "      <td>Italy</td>\n",
       "      <td>Tennis</td>\n",
       "      <td>0</td>\n",
       "    </tr>\n",
       "    <tr>\n",
       "      <th>28219</th>\n",
       "      <td>Kristina Marie Brandi</td>\n",
       "      <td>0</td>\n",
       "      <td>27.0</td>\n",
       "      <td>Puerto Rico</td>\n",
       "      <td>Tennis</td>\n",
       "      <td>0</td>\n",
       "    </tr>\n",
       "    <tr>\n",
       "      <th>28722</th>\n",
       "      <td>Elsebeth Brehm (-Jrgensen)</td>\n",
       "      <td>0</td>\n",
       "      <td>18.0</td>\n",
       "      <td>Denmark</td>\n",
       "      <td>Tennis</td>\n",
       "      <td>0</td>\n",
       "    </tr>\n",
       "    <tr>\n",
       "      <th>29456</th>\n",
       "      <td>Neil Broad</td>\n",
       "      <td>1</td>\n",
       "      <td>29.0</td>\n",
       "      <td>Great Britain</td>\n",
       "      <td>Tennis</td>\n",
       "      <td>2</td>\n",
       "    </tr>\n",
       "    <tr>\n",
       "      <th>29863</th>\n",
       "      <td>Marguerite Marie Broquedis-Billout (-Bordes)</td>\n",
       "      <td>0</td>\n",
       "      <td>19.0</td>\n",
       "      <td>France</td>\n",
       "      <td>Tennis</td>\n",
       "      <td>3</td>\n",
       "    </tr>\n",
       "    <tr>\n",
       "      <th>29993</th>\n",
       "      <td>Charles R. Brown</td>\n",
       "      <td>1</td>\n",
       "      <td>NaN</td>\n",
       "      <td>Canada</td>\n",
       "      <td>Tennis</td>\n",
       "      <td>0</td>\n",
       "    </tr>\n",
       "    <tr>\n",
       "      <th>30045</th>\n",
       "      <td>Dustin Brown</td>\n",
       "      <td>1</td>\n",
       "      <td>31.0</td>\n",
       "      <td>Germany</td>\n",
       "      <td>Tennis</td>\n",
       "      <td>0</td>\n",
       "    </tr>\n",
       "    <tr>\n",
       "      <th>30450</th>\n",
       "      <td>Jacques Marie Stanislas Jean Brugnon</td>\n",
       "      <td>1</td>\n",
       "      <td>24.0</td>\n",
       "      <td>France</td>\n",
       "      <td>Tennis</td>\n",
       "      <td>0</td>\n",
       "    </tr>\n",
       "    <tr>\n",
       "      <th>30453</th>\n",
       "      <td>Sergi Bruguera Torner</td>\n",
       "      <td>1</td>\n",
       "      <td>21.0</td>\n",
       "      <td>Spain</td>\n",
       "      <td>Tennis</td>\n",
       "      <td>0</td>\n",
       "    </tr>\n",
       "    <tr>\n",
       "      <th>30735</th>\n",
       "      <td>Klas Johan Ivan Ola Brunstrm</td>\n",
       "      <td>1</td>\n",
       "      <td>32.0</td>\n",
       "      <td>Sweden</td>\n",
       "      <td>Tennis</td>\n",
       "      <td>0</td>\n",
       "    </tr>\n",
       "    <tr>\n",
       "      <th>30752</th>\n",
       "      <td>Ellen Maria Brusewitz (Holmstrm-)</td>\n",
       "      <td>0</td>\n",
       "      <td>33.0</td>\n",
       "      <td>Sweden</td>\n",
       "      <td>Tennis</td>\n",
       "      <td>0</td>\n",
       "    </tr>\n",
       "    <tr>\n",
       "      <th>30821</th>\n",
       "      <td>Robert Charles \"Bob\" Bryan</td>\n",
       "      <td>1</td>\n",
       "      <td>26.0</td>\n",
       "      <td>United States-1</td>\n",
       "      <td>Tennis</td>\n",
       "      <td>0</td>\n",
       "    </tr>\n",
       "    <tr>\n",
       "      <th>30830</th>\n",
       "      <td>Michael Carl \"Mike\" Bryan</td>\n",
       "      <td>1</td>\n",
       "      <td>26.0</td>\n",
       "      <td>United States-1</td>\n",
       "      <td>Tennis</td>\n",
       "      <td>0</td>\n",
       "    </tr>\n",
       "    <tr>\n",
       "      <th>32639</th>\n",
       "      <td>Aleksandr Ivanovich Bury</td>\n",
       "      <td>1</td>\n",
       "      <td>24.0</td>\n",
       "      <td>Belarus</td>\n",
       "      <td>Tennis</td>\n",
       "      <td>0</td>\n",
       "    </tr>\n",
       "    <tr>\n",
       "      <th>33028</th>\n",
       "      <td>ala Bykakay</td>\n",
       "      <td>0</td>\n",
       "      <td>26.0</td>\n",
       "      <td>Turkey</td>\n",
       "      <td>Tennis</td>\n",
       "      <td>0</td>\n",
       "    </tr>\n",
       "    <tr>\n",
       "      <th>33128</th>\n",
       "      <td>Homer Morrison Byington</td>\n",
       "      <td>1</td>\n",
       "      <td>26.0</td>\n",
       "      <td>United States</td>\n",
       "      <td>Tennis</td>\n",
       "      <td>0</td>\n",
       "    </tr>\n",
       "    <tr>\n",
       "      <th>33177</th>\n",
       "      <td>Jenny Margaret Byrne</td>\n",
       "      <td>0</td>\n",
       "      <td>25.0</td>\n",
       "      <td>Australia</td>\n",
       "      <td>Tennis</td>\n",
       "      <td>0</td>\n",
       "    </tr>\n",
       "    <tr>\n",
       "      <th>33234</th>\n",
       "      <td>Juan Sebastin Cabal Valds</td>\n",
       "      <td>1</td>\n",
       "      <td>26.0</td>\n",
       "      <td>Colombia</td>\n",
       "      <td>Tennis</td>\n",
       "      <td>0</td>\n",
       "    </tr>\n",
       "    <tr>\n",
       "      <th>33255</th>\n",
       "      <td>Vctor Caballero</td>\n",
       "      <td>1</td>\n",
       "      <td>28.0</td>\n",
       "      <td>Paraguay</td>\n",
       "      <td>Tennis</td>\n",
       "      <td>0</td>\n",
       "    </tr>\n",
       "    <tr>\n",
       "      <th>33286</th>\n",
       "      <td>Paula Andrea Cabezas S.</td>\n",
       "      <td>0</td>\n",
       "      <td>23.0</td>\n",
       "      <td>Chile</td>\n",
       "      <td>Tennis</td>\n",
       "      <td>0</td>\n",
       "    </tr>\n",
       "    <tr>\n",
       "      <th>33501</th>\n",
       "      <td>Darren Cahill</td>\n",
       "      <td>1</td>\n",
       "      <td>22.0</td>\n",
       "      <td>Australia</td>\n",
       "      <td>Tennis</td>\n",
       "      <td>0</td>\n",
       "    </tr>\n",
       "    <tr>\n",
       "      <th>33916</th>\n",
       "      <td>Els Callens</td>\n",
       "      <td>0</td>\n",
       "      <td>30.0</td>\n",
       "      <td>Belgium</td>\n",
       "      <td>Tennis</td>\n",
       "      <td>0</td>\n",
       "    </tr>\n",
       "    <tr>\n",
       "      <th>33920</th>\n",
       "      <td>Agustn Calleri Shaal</td>\n",
       "      <td>1</td>\n",
       "      <td>27.0</td>\n",
       "      <td>Argentina</td>\n",
       "      <td>Tennis</td>\n",
       "      <td>0</td>\n",
       "    </tr>\n",
       "    <tr>\n",
       "      <th>34075</th>\n",
       "      <td>Diego Camacho</td>\n",
       "      <td>1</td>\n",
       "      <td>17.0</td>\n",
       "      <td>Bolivia</td>\n",
       "      <td>Tennis</td>\n",
       "      <td>0</td>\n",
       "    </tr>\n",
       "    <tr>\n",
       "      <th>34190</th>\n",
       "      <td>Maria Elena Camerin</td>\n",
       "      <td>0</td>\n",
       "      <td>22.0</td>\n",
       "      <td>Italy</td>\n",
       "      <td>Tennis</td>\n",
       "      <td>0</td>\n",
       "    </tr>\n",
       "    <tr>\n",
       "      <th>34291</th>\n",
       "      <td>Pablo Jos Campana Saenz</td>\n",
       "      <td>1</td>\n",
       "      <td>23.0</td>\n",
       "      <td>Ecuador</td>\n",
       "      <td>Tennis</td>\n",
       "      <td>0</td>\n",
       "    </tr>\n",
       "    <tr>\n",
       "      <th>34495</th>\n",
       "      <td>Omar Camporese</td>\n",
       "      <td>1</td>\n",
       "      <td>20.0</td>\n",
       "      <td>Italy</td>\n",
       "      <td>Tennis</td>\n",
       "      <td>0</td>\n",
       "    </tr>\n",
       "    <tr>\n",
       "      <th>34627</th>\n",
       "      <td>Guillermo Ignacio \"Willy\" Caas</td>\n",
       "      <td>1</td>\n",
       "      <td>30.0</td>\n",
       "      <td>Argentina</td>\n",
       "      <td>Tennis</td>\n",
       "      <td>0</td>\n",
       "    </tr>\n",
       "    <tr>\n",
       "      <th>34709</th>\n",
       "      <td>Paolo Can</td>\n",
       "      <td>1</td>\n",
       "      <td>23.0</td>\n",
       "      <td>Italy</td>\n",
       "      <td>Tennis</td>\n",
       "      <td>0</td>\n",
       "    </tr>\n",
       "    <tr>\n",
       "      <th>34727</th>\n",
       "      <td>Henry Albert Canet</td>\n",
       "      <td>1</td>\n",
       "      <td>34.0</td>\n",
       "      <td>France</td>\n",
       "      <td>Tennis</td>\n",
       "      <td>0</td>\n",
       "    </tr>\n",
       "    <tr>\n",
       "      <th>35094</th>\n",
       "      <td>Jennifer Marie Capriati</td>\n",
       "      <td>0</td>\n",
       "      <td>16.0</td>\n",
       "      <td>United States</td>\n",
       "      <td>Tennis</td>\n",
       "      <td>3</td>\n",
       "    </tr>\n",
       "    <tr>\n",
       "      <th>35193</th>\n",
       "      <td>Filippo Cristiano Caratti</td>\n",
       "      <td>1</td>\n",
       "      <td>22.0</td>\n",
       "      <td>Italy</td>\n",
       "      <td>Tennis</td>\n",
       "      <td>0</td>\n",
       "    </tr>\n",
       "    <tr>\n",
       "      <th>35263</th>\n",
       "      <td>Toms Carbonell Llad</td>\n",
       "      <td>1</td>\n",
       "      <td>27.0</td>\n",
       "      <td>Spain</td>\n",
       "      <td>Tennis</td>\n",
       "      <td>0</td>\n",
       "    </tr>\n",
       "    <tr>\n",
       "      <th>35585</th>\n",
       "      <td>Kenneth Carlsen</td>\n",
       "      <td>1</td>\n",
       "      <td>19.0</td>\n",
       "      <td>Denmark</td>\n",
       "      <td>Tennis</td>\n",
       "      <td>0</td>\n",
       "    </tr>\n",
       "    <tr>\n",
       "      <th>36061</th>\n",
       "      <td>Grgory Carraz</td>\n",
       "      <td>1</td>\n",
       "      <td>29.0</td>\n",
       "      <td>France</td>\n",
       "      <td>Tennis</td>\n",
       "      <td>0</td>\n",
       "    </tr>\n",
       "    <tr>\n",
       "      <th>36422</th>\n",
       "      <td>Sergio Casal Martnez</td>\n",
       "      <td>1</td>\n",
       "      <td>26.0</td>\n",
       "      <td>Spain</td>\n",
       "      <td>Tennis</td>\n",
       "      <td>0</td>\n",
       "    </tr>\n",
       "    <tr>\n",
       "      <th>36464</th>\n",
       "      <td>Myriam Casanova</td>\n",
       "      <td>0</td>\n",
       "      <td>19.0</td>\n",
       "      <td>Switzerland</td>\n",
       "      <td>Tennis</td>\n",
       "      <td>0</td>\n",
       "    </tr>\n",
       "    <tr>\n",
       "      <th>36531</th>\n",
       "      <td>Demetrius Emmanuel Casdagli</td>\n",
       "      <td>1</td>\n",
       "      <td>23.0</td>\n",
       "      <td>Greece</td>\n",
       "      <td>Tennis</td>\n",
       "      <td>2</td>\n",
       "    </tr>\n",
       "    <tr>\n",
       "      <th>36534</th>\n",
       "      <td>Xenophon Emmanuel Casdagli</td>\n",
       "      <td>1</td>\n",
       "      <td>26.0</td>\n",
       "      <td>Greece</td>\n",
       "      <td>Tennis</td>\n",
       "      <td>0</td>\n",
       "    </tr>\n",
       "    <tr>\n",
       "      <th>36566</th>\n",
       "      <td>Owen Casey</td>\n",
       "      <td>1</td>\n",
       "      <td>18.0</td>\n",
       "      <td>Ireland</td>\n",
       "      <td>Tennis</td>\n",
       "      <td>0</td>\n",
       "    </tr>\n",
       "    <tr>\n",
       "      <th>36741</th>\n",
       "      <td>Catalina Castao Alvarez</td>\n",
       "      <td>0</td>\n",
       "      <td>25.0</td>\n",
       "      <td>Colombia</td>\n",
       "      <td>Tennis</td>\n",
       "      <td>0</td>\n",
       "    </tr>\n",
       "    <tr>\n",
       "      <th>36815</th>\n",
       "      <td>Thora Gerda Sofie Castenschiold (-Carlheim-Gyl...</td>\n",
       "      <td>0</td>\n",
       "      <td>30.0</td>\n",
       "      <td>Denmark</td>\n",
       "      <td>Tennis</td>\n",
       "      <td>0</td>\n",
       "    </tr>\n",
       "    <tr>\n",
       "      <th>36896</th>\n",
       "      <td>Andrew Nicholas Castle</td>\n",
       "      <td>1</td>\n",
       "      <td>24.0</td>\n",
       "      <td>Great Britain</td>\n",
       "      <td>Tennis</td>\n",
       "      <td>0</td>\n",
       "    </tr>\n",
       "  </tbody>\n",
       "</table>\n",
       "</div>"
      ],
      "text/plain": [
       "                                                    Name  Sex   Age  \\\n",
       "25103                  Kateryna Volodymyrivna Bondarenko    0  21.0   \n",
       "25489                                    Kristie Boogert    0  26.0   \n",
       "25589               Penelope Dora Harvey Boothby (-Geen)    0  26.0   \n",
       "25600                                      Rohan Bopanna    1  32.0   \n",
       "26074                        Jean Laurent Robert Borotra    1  25.0   \n",
       "26508                               Wollmar Filip Bostrm    1  29.0   \n",
       "26738                                    Oarda Bouchabou    0  18.0   \n",
       "26751                                   Eugenie Bouchard    0  22.0   \n",
       "27019                 Cornelia \"Kea\" Bouman (-Tiedemann)    0  20.0   \n",
       "27139       Yvonne Rene Suzanne  Bourgeois (-Le Quellec)    0  21.0   \n",
       "27767                                         Iztok Boic    1  20.0   \n",
       "27934                                  Daniele Bracciali    1  34.0   \n",
       "28216                            Cristian Alberto Brandi    1  30.0   \n",
       "28219                              Kristina Marie Brandi    0  27.0   \n",
       "28722                         Elsebeth Brehm (-Jrgensen)    0  18.0   \n",
       "29456                                         Neil Broad    1  29.0   \n",
       "29863       Marguerite Marie Broquedis-Billout (-Bordes)    0  19.0   \n",
       "29993                                   Charles R. Brown    1   NaN   \n",
       "30045                                       Dustin Brown    1  31.0   \n",
       "30450               Jacques Marie Stanislas Jean Brugnon    1  24.0   \n",
       "30453                              Sergi Bruguera Torner    1  21.0   \n",
       "30735                       Klas Johan Ivan Ola Brunstrm    1  32.0   \n",
       "30752                  Ellen Maria Brusewitz (Holmstrm-)    0  33.0   \n",
       "30821                         Robert Charles \"Bob\" Bryan    1  26.0   \n",
       "30830                          Michael Carl \"Mike\" Bryan    1  26.0   \n",
       "32639                           Aleksandr Ivanovich Bury    1  24.0   \n",
       "33028                                        ala Bykakay    0  26.0   \n",
       "33128                            Homer Morrison Byington    1  26.0   \n",
       "33177                               Jenny Margaret Byrne    0  25.0   \n",
       "33234                          Juan Sebastin Cabal Valds    1  26.0   \n",
       "33255                                    Vctor Caballero    1  28.0   \n",
       "33286                            Paula Andrea Cabezas S.    0  23.0   \n",
       "33501                                      Darren Cahill    1  22.0   \n",
       "33916                                        Els Callens    0  30.0   \n",
       "33920                               Agustn Calleri Shaal    1  27.0   \n",
       "34075                                      Diego Camacho    1  17.0   \n",
       "34190                                Maria Elena Camerin    0  22.0   \n",
       "34291                            Pablo Jos Campana Saenz    1  23.0   \n",
       "34495                                     Omar Camporese    1  20.0   \n",
       "34627                     Guillermo Ignacio \"Willy\" Caas    1  30.0   \n",
       "34709                                          Paolo Can    1  23.0   \n",
       "34727                                 Henry Albert Canet    1  34.0   \n",
       "35094                            Jennifer Marie Capriati    0  16.0   \n",
       "35193                          Filippo Cristiano Caratti    1  22.0   \n",
       "35263                                Toms Carbonell Llad    1  27.0   \n",
       "35585                                    Kenneth Carlsen    1  19.0   \n",
       "36061                                      Grgory Carraz    1  29.0   \n",
       "36422                               Sergio Casal Martnez    1  26.0   \n",
       "36464                                    Myriam Casanova    0  19.0   \n",
       "36531                        Demetrius Emmanuel Casdagli    1  23.0   \n",
       "36534                         Xenophon Emmanuel Casdagli    1  26.0   \n",
       "36566                                         Owen Casey    1  18.0   \n",
       "36741                            Catalina Castao Alvarez    0  25.0   \n",
       "36815  Thora Gerda Sofie Castenschiold (-Carlheim-Gyl...    0  30.0   \n",
       "36896                             Andrew Nicholas Castle    1  24.0   \n",
       "\n",
       "                  Team   Sport  Medal  \n",
       "25103          Ukraine  Tennis      0  \n",
       "25489      Netherlands  Tennis      0  \n",
       "25589    Great Britain  Tennis      2  \n",
       "25600          India-1  Tennis      0  \n",
       "26074           France  Tennis      0  \n",
       "26508           Sweden  Tennis      0  \n",
       "26738          Algeria  Tennis      0  \n",
       "26751           Canada  Tennis      0  \n",
       "27019      Netherlands  Tennis      0  \n",
       "27139         France-2  Tennis      0  \n",
       "27767         Slovenia  Tennis      0  \n",
       "27934          Italy-1  Tennis      0  \n",
       "28216            Italy  Tennis      0  \n",
       "28219      Puerto Rico  Tennis      0  \n",
       "28722          Denmark  Tennis      0  \n",
       "29456    Great Britain  Tennis      2  \n",
       "29863           France  Tennis      3  \n",
       "29993           Canada  Tennis      0  \n",
       "30045          Germany  Tennis      0  \n",
       "30450           France  Tennis      0  \n",
       "30453            Spain  Tennis      0  \n",
       "30735           Sweden  Tennis      0  \n",
       "30752           Sweden  Tennis      0  \n",
       "30821  United States-1  Tennis      0  \n",
       "30830  United States-1  Tennis      0  \n",
       "32639          Belarus  Tennis      0  \n",
       "33028           Turkey  Tennis      0  \n",
       "33128    United States  Tennis      0  \n",
       "33177        Australia  Tennis      0  \n",
       "33234         Colombia  Tennis      0  \n",
       "33255         Paraguay  Tennis      0  \n",
       "33286            Chile  Tennis      0  \n",
       "33501        Australia  Tennis      0  \n",
       "33916          Belgium  Tennis      0  \n",
       "33920        Argentina  Tennis      0  \n",
       "34075          Bolivia  Tennis      0  \n",
       "34190            Italy  Tennis      0  \n",
       "34291          Ecuador  Tennis      0  \n",
       "34495            Italy  Tennis      0  \n",
       "34627        Argentina  Tennis      0  \n",
       "34709            Italy  Tennis      0  \n",
       "34727           France  Tennis      0  \n",
       "35094    United States  Tennis      3  \n",
       "35193            Italy  Tennis      0  \n",
       "35263            Spain  Tennis      0  \n",
       "35585          Denmark  Tennis      0  \n",
       "36061           France  Tennis      0  \n",
       "36422            Spain  Tennis      0  \n",
       "36464      Switzerland  Tennis      0  \n",
       "36531           Greece  Tennis      2  \n",
       "36534           Greece  Tennis      0  \n",
       "36566          Ireland  Tennis      0  \n",
       "36741         Colombia  Tennis      0  \n",
       "36815          Denmark  Tennis      0  \n",
       "36896    Great Britain  Tennis      0  "
      ]
     },
     "execution_count": 33,
     "metadata": {},
     "output_type": "execute_result"
    }
   ],
   "source": [
    "df[110:165]"
   ]
  },
  {
   "cell_type": "markdown",
   "id": "fd5913fa",
   "metadata": {},
   "source": [
    "Eksik Değerlerin Tespit edilmesi. Burada doğrudan silme yöntemini kullandık çünkü baskılama yöntemini kullansaydık üst yaşlardaki yarışmacıların madalya kazanma olasılığında veriler için doğru hesaplamalar yapılamayacaktı."
   ]
  },
  {
   "cell_type": "code",
   "execution_count": 34,
   "id": "ad4ecf36",
   "metadata": {},
   "outputs": [
    {
     "data": {
      "text/plain": [
       "Name      0\n",
       "Sex       0\n",
       "Age      70\n",
       "Team      0\n",
       "Sport     0\n",
       "Medal     0\n",
       "dtype: int64"
      ]
     },
     "execution_count": 34,
     "metadata": {},
     "output_type": "execute_result"
    }
   ],
   "source": [
    "df.isnull().sum()"
   ]
  },
  {
   "cell_type": "code",
   "execution_count": 35,
   "id": "51dd70d2",
   "metadata": {},
   "outputs": [
    {
     "data": {
      "text/plain": [
       "Name     1210\n",
       "Sex      1210\n",
       "Age      1140\n",
       "Team     1210\n",
       "Sport    1210\n",
       "Medal    1210\n",
       "dtype: int64"
      ]
     },
     "execution_count": 35,
     "metadata": {},
     "output_type": "execute_result"
    }
   ],
   "source": [
    "df.notnull().sum()"
   ]
  },
  {
   "cell_type": "code",
   "execution_count": 36,
   "id": "d8036beb",
   "metadata": {},
   "outputs": [
    {
     "data": {
      "text/html": [
       "<div>\n",
       "<style scoped>\n",
       "    .dataframe tbody tr th:only-of-type {\n",
       "        vertical-align: middle;\n",
       "    }\n",
       "\n",
       "    .dataframe tbody tr th {\n",
       "        vertical-align: top;\n",
       "    }\n",
       "\n",
       "    .dataframe thead th {\n",
       "        text-align: right;\n",
       "    }\n",
       "</style>\n",
       "<table border=\"1\" class=\"dataframe\">\n",
       "  <thead>\n",
       "    <tr style=\"text-align: right;\">\n",
       "      <th></th>\n",
       "      <th>Name</th>\n",
       "      <th>Sex</th>\n",
       "      <th>Age</th>\n",
       "      <th>Team</th>\n",
       "      <th>Sport</th>\n",
       "      <th>Medal</th>\n",
       "    </tr>\n",
       "  </thead>\n",
       "  <tbody>\n",
       "    <tr>\n",
       "      <th>184</th>\n",
       "      <td>False</td>\n",
       "      <td>False</td>\n",
       "      <td>False</td>\n",
       "      <td>False</td>\n",
       "      <td>False</td>\n",
       "      <td>False</td>\n",
       "    </tr>\n",
       "    <tr>\n",
       "      <th>582</th>\n",
       "      <td>False</td>\n",
       "      <td>False</td>\n",
       "      <td>False</td>\n",
       "      <td>False</td>\n",
       "      <td>False</td>\n",
       "      <td>False</td>\n",
       "    </tr>\n",
       "    <tr>\n",
       "      <th>1235</th>\n",
       "      <td>False</td>\n",
       "      <td>False</td>\n",
       "      <td>False</td>\n",
       "      <td>False</td>\n",
       "      <td>False</td>\n",
       "      <td>False</td>\n",
       "    </tr>\n",
       "    <tr>\n",
       "      <th>1457</th>\n",
       "      <td>False</td>\n",
       "      <td>False</td>\n",
       "      <td>False</td>\n",
       "      <td>False</td>\n",
       "      <td>False</td>\n",
       "      <td>False</td>\n",
       "    </tr>\n",
       "    <tr>\n",
       "      <th>1924</th>\n",
       "      <td>False</td>\n",
       "      <td>False</td>\n",
       "      <td>False</td>\n",
       "      <td>False</td>\n",
       "      <td>False</td>\n",
       "      <td>False</td>\n",
       "    </tr>\n",
       "    <tr>\n",
       "      <th>...</th>\n",
       "      <td>...</td>\n",
       "      <td>...</td>\n",
       "      <td>...</td>\n",
       "      <td>...</td>\n",
       "      <td>...</td>\n",
       "      <td>...</td>\n",
       "    </tr>\n",
       "    <tr>\n",
       "      <th>270115</th>\n",
       "      <td>False</td>\n",
       "      <td>False</td>\n",
       "      <td>False</td>\n",
       "      <td>False</td>\n",
       "      <td>False</td>\n",
       "      <td>False</td>\n",
       "    </tr>\n",
       "    <tr>\n",
       "      <th>270519</th>\n",
       "      <td>False</td>\n",
       "      <td>False</td>\n",
       "      <td>False</td>\n",
       "      <td>False</td>\n",
       "      <td>False</td>\n",
       "      <td>False</td>\n",
       "    </tr>\n",
       "    <tr>\n",
       "      <th>270775</th>\n",
       "      <td>False</td>\n",
       "      <td>False</td>\n",
       "      <td>False</td>\n",
       "      <td>False</td>\n",
       "      <td>False</td>\n",
       "      <td>False</td>\n",
       "    </tr>\n",
       "    <tr>\n",
       "      <th>270973</th>\n",
       "      <td>False</td>\n",
       "      <td>False</td>\n",
       "      <td>False</td>\n",
       "      <td>False</td>\n",
       "      <td>False</td>\n",
       "      <td>False</td>\n",
       "    </tr>\n",
       "    <tr>\n",
       "      <th>270986</th>\n",
       "      <td>False</td>\n",
       "      <td>False</td>\n",
       "      <td>False</td>\n",
       "      <td>False</td>\n",
       "      <td>False</td>\n",
       "      <td>False</td>\n",
       "    </tr>\n",
       "  </tbody>\n",
       "</table>\n",
       "<p>1210 rows × 6 columns</p>\n",
       "</div>"
      ],
      "text/plain": [
       "         Name    Sex    Age   Team  Sport  Medal\n",
       "184     False  False  False  False  False  False\n",
       "582     False  False  False  False  False  False\n",
       "1235    False  False  False  False  False  False\n",
       "1457    False  False  False  False  False  False\n",
       "1924    False  False  False  False  False  False\n",
       "...       ...    ...    ...    ...    ...    ...\n",
       "270115  False  False  False  False  False  False\n",
       "270519  False  False  False  False  False  False\n",
       "270775  False  False  False  False  False  False\n",
       "270973  False  False  False  False  False  False\n",
       "270986  False  False  False  False  False  False\n",
       "\n",
       "[1210 rows x 6 columns]"
      ]
     },
     "execution_count": 36,
     "metadata": {},
     "output_type": "execute_result"
    }
   ],
   "source": [
    "df.isnull()"
   ]
  },
  {
   "cell_type": "code",
   "execution_count": 37,
   "id": "e789943e",
   "metadata": {},
   "outputs": [],
   "source": [
    "df.dropna(inplace=True)"
   ]
  },
  {
   "cell_type": "code",
   "execution_count": 38,
   "id": "bd2434c8",
   "metadata": {},
   "outputs": [
    {
     "data": {
      "text/plain": [
       "False"
      ]
     },
     "execution_count": 38,
     "metadata": {},
     "output_type": "execute_result"
    }
   ],
   "source": [
    "df.isnull().values.any()"
   ]
  },
  {
   "cell_type": "markdown",
   "id": "34e5930d",
   "metadata": {},
   "source": [
    "## 4. Kategorik Değişken Özetleri"
   ]
  },
  {
   "cell_type": "code",
   "execution_count": 39,
   "id": "99da0f11",
   "metadata": {},
   "outputs": [],
   "source": [
    "katdf = df.select_dtypes(include = [\"category\"])"
   ]
  },
  {
   "cell_type": "code",
   "execution_count": 40,
   "id": "d61df10e",
   "metadata": {},
   "outputs": [
    {
     "data": {
      "text/html": [
       "<div>\n",
       "<style scoped>\n",
       "    .dataframe tbody tr th:only-of-type {\n",
       "        vertical-align: middle;\n",
       "    }\n",
       "\n",
       "    .dataframe tbody tr th {\n",
       "        vertical-align: top;\n",
       "    }\n",
       "\n",
       "    .dataframe thead th {\n",
       "        text-align: right;\n",
       "    }\n",
       "</style>\n",
       "<table border=\"1\" class=\"dataframe\">\n",
       "  <thead>\n",
       "    <tr style=\"text-align: right;\">\n",
       "      <th></th>\n",
       "      <th>Team</th>\n",
       "      <th>Sport</th>\n",
       "    </tr>\n",
       "  </thead>\n",
       "  <tbody>\n",
       "    <tr>\n",
       "      <th>184</th>\n",
       "      <td>Mexico</td>\n",
       "      <td>Tennis</td>\n",
       "    </tr>\n",
       "    <tr>\n",
       "      <th>582</th>\n",
       "      <td>Nigeria</td>\n",
       "      <td>Tennis</td>\n",
       "    </tr>\n",
       "    <tr>\n",
       "      <th>1235</th>\n",
       "      <td>Brazil</td>\n",
       "      <td>Tennis</td>\n",
       "    </tr>\n",
       "    <tr>\n",
       "      <th>1457</th>\n",
       "      <td>South Africa</td>\n",
       "      <td>Tennis</td>\n",
       "    </tr>\n",
       "    <tr>\n",
       "      <th>1924</th>\n",
       "      <td>Switzerland</td>\n",
       "      <td>Tennis</td>\n",
       "    </tr>\n",
       "  </tbody>\n",
       "</table>\n",
       "</div>"
      ],
      "text/plain": [
       "              Team   Sport\n",
       "184         Mexico  Tennis\n",
       "582        Nigeria  Tennis\n",
       "1235        Brazil  Tennis\n",
       "1457  South Africa  Tennis\n",
       "1924   Switzerland  Tennis"
      ]
     },
     "execution_count": 40,
     "metadata": {},
     "output_type": "execute_result"
    }
   ],
   "source": [
    "katdf.head()"
   ]
  },
  {
   "cell_type": "code",
   "execution_count": 41,
   "id": "17be37a5",
   "metadata": {},
   "outputs": [
    {
     "data": {
      "text/plain": [
       "1    680\n",
       "0    460\n",
       "Name: Sex, dtype: int64"
      ]
     },
     "execution_count": 41,
     "metadata": {},
     "output_type": "execute_result"
    }
   ],
   "source": [
    "df[\"Sex\"].value_counts()"
   ]
  },
  {
   "cell_type": "code",
   "execution_count": 42,
   "id": "2389b18f",
   "metadata": {},
   "outputs": [
    {
     "data": {
      "text/plain": [
       "<AxesSubplot:>"
      ]
     },
     "execution_count": 42,
     "metadata": {},
     "output_type": "execute_result"
    },
    {
     "data": {
      "image/png": "[encoded data removed]",
      "text/plain": [
       "<Figure size 432x288 with 1 Axes>"
      ]
     },
     "metadata": {
      "needs_background": "light"
     },
     "output_type": "display_data"
    }
   ],
   "source": [
    "df[\"Team\"].value_counts().plot.barh()"
   ]
  },
  {
   "cell_type": "code",
   "execution_count": 43,
   "id": "f969ca33",
   "metadata": {},
   "outputs": [
    {
     "data": {
      "text/plain": [
       "<AxesSubplot:xlabel='Sex'>"
      ]
     },
     "execution_count": 43,
     "metadata": {},
     "output_type": "execute_result"
    },
    {
     "data": {
      "image/png": "[encoded data removed]",
      "text/plain": [
       "<Figure size 432x288 with 1 Axes>"
      ]
     },
     "metadata": {
      "needs_background": "light"
     },
     "output_type": "display_data"
    }
   ],
   "source": [
    "df[[\"Medal\",\"Sex\"]].groupby(\"Sex\")[\"Medal\"].mean().plot(kind=\"bar\")"
   ]
  },
  {
   "cell_type": "markdown",
   "id": "b3cd5084",
   "metadata": {},
   "source": [
    "# Makine Öğrenmesi"
   ]
  },
  {
   "cell_type": "markdown",
   "id": "049cd29d",
   "metadata": {},
   "source": [
    "## 1. Doğrusal Regresyon"
   ]
  },
  {
   "cell_type": "code",
   "execution_count": 44,
   "id": "704e96b1",
   "metadata": {},
   "outputs": [
    {
     "data": {
      "text/plain": [
       "<seaborn.axisgrid.PairGrid at 0x280507eef40>"
      ]
     },
     "execution_count": 44,
     "metadata": {},
     "output_type": "execute_result"
    },
    {
     "data": {
      "image/png": "[encoded data removed]",
      "text/plain": [
       "<Figure size 540x540 with 12 Axes>"
      ]
     },
     "metadata": {
      "needs_background": "light"
     },
     "output_type": "display_data"
    }
   ],
   "source": [
    "sns.pairplot(df, kind  =\"reg\")"
   ]
  },
  {
   "cell_type": "code",
   "execution_count": 45,
   "id": "918439e6",
   "metadata": {},
   "outputs": [
    {
     "data": {
      "text/plain": [
       "<seaborn.axisgrid.JointGrid at 0x28052e84580>"
      ]
     },
     "execution_count": 45,
     "metadata": {},
     "output_type": "execute_result"
    },
    {
     "data": {
      "image/png": "[encoded data removed]",
      "text/plain": [
       "<Figure size 432x432 with 3 Axes>"
      ]
     },
     "metadata": {
      "needs_background": "light"
     },
     "output_type": "display_data"
    }
   ],
   "source": [
    "sns.jointplot(x = \"Age\", y = \"Medal\", data = df, kind = \"reg\")"
   ]
  },
  {
   "cell_type": "code",
   "execution_count": 46,
   "id": "0a8478a5",
   "metadata": {},
   "outputs": [
    {
     "name": "stdout",
     "output_type": "stream",
     "text": [
      "0.09362607949625924\n",
      "[0.00255402]\n"
     ]
    }
   ],
   "source": [
    "X = df[[\"Age\"]]\n",
    "y = df[\"Medal\"]\n",
    "reg = LinearRegression()\n",
    "model = reg.fit(X, y)\n",
    "print(model.intercept_)\n",
    "print(model.coef_)"
   ]
  },
  {
   "cell_type": "code",
   "execution_count": 47,
   "id": "dac0a1d0",
   "metadata": {},
   "outputs": [
    {
     "data": {
      "text/plain": [
       "0.0003566938587388213"
      ]
     },
     "execution_count": 47,
     "metadata": {},
     "output_type": "execute_result"
    }
   ],
   "source": [
    "model.score(X,y)"
   ]
  },
  {
   "cell_type": "code",
   "execution_count": 48,
   "id": "7e0c498f",
   "metadata": {},
   "outputs": [
    {
     "data": {
      "text/plain": [
       "array([0.17024676, 0.13959849, 0.15747664, 0.14981458, 0.17024676,\n",
       "       0.15492262, 0.13959849, 0.15492262, 0.18557089, 0.18046285,\n",
       "       0.13449044, 0.14981458, 0.15492262])"
      ]
     },
     "execution_count": 48,
     "metadata": {},
     "output_type": "execute_result"
    }
   ],
   "source": [
    "model.predict(X)[12:25]"
   ]
  },
  {
   "cell_type": "code",
   "execution_count": 49,
   "id": "1750a357",
   "metadata": {},
   "outputs": [
    {
     "data": {
      "text/plain": [
       "184     0\n",
       "582     0\n",
       "1235    0\n",
       "1457    0\n",
       "1924    0\n",
       "2031    3\n",
       "2055    0\n",
       "2749    2\n",
       "3873    0\n",
       "3995    1\n",
       "Name: Medal, dtype: int64"
      ]
     },
     "execution_count": 49,
     "metadata": {},
     "output_type": "execute_result"
    }
   ],
   "source": [
    "y[0:10]"
   ]
  },
  {
   "cell_type": "code",
   "execution_count": 50,
   "id": "4a5a5b15",
   "metadata": {},
   "outputs": [
    {
     "data": {
      "text/plain": [
       "0.15375"
      ]
     },
     "execution_count": 50,
     "metadata": {},
     "output_type": "execute_result"
    }
   ],
   "source": [
    "(0.09)+(25*0.00255)"
   ]
  },
  {
   "cell_type": "code",
   "execution_count": 51,
   "id": "13728880",
   "metadata": {},
   "outputs": [
    {
     "data": {
      "text/plain": [
       "array([0.15747664])"
      ]
     },
     "execution_count": 51,
     "metadata": {},
     "output_type": "execute_result"
    }
   ],
   "source": [
    "model.predict([[25]])"
   ]
  },
  {
   "cell_type": "code",
   "execution_count": 52,
   "id": "c6f090fd",
   "metadata": {},
   "outputs": [
    {
     "data": {
      "text/plain": [
       "array([0.10639619, 0.13959849, 0.14981458])"
      ]
     },
     "execution_count": 52,
     "metadata": {},
     "output_type": "execute_result"
    }
   ],
   "source": [
    "yeni_veri = [[5],[18],[22]]\n",
    "model.predict(yeni_veri)"
   ]
  },
  {
   "cell_type": "code",
   "execution_count": 53,
   "id": "eb5ea92b",
   "metadata": {},
   "outputs": [
    {
     "data": {
      "text/plain": [
       "0.3415609493192776"
      ]
     },
     "execution_count": 53,
     "metadata": {},
     "output_type": "execute_result"
    }
   ],
   "source": [
    "from sklearn.metrics import mean_squared_error, r2_score\n",
    "import statsmodels.formula.api as smf\n",
    "\n",
    "lm = smf.ols(\"Medal ~ Age\", df)\n",
    "model = lm.fit()\n",
    "model.summary()\n",
    "mse = mean_squared_error(y, model.fittedvalues)\n",
    "#gerçek değerler ile tahmin edilen değerler arasındaki farkların karelerinin ortalaması\n",
    "mse"
   ]
  },
  {
   "cell_type": "code",
   "execution_count": 54,
   "id": "5709c314",
   "metadata": {},
   "outputs": [
    {
     "data": {
      "text/plain": [
       "0.5844321597236737"
      ]
     },
     "execution_count": 54,
     "metadata": {},
     "output_type": "execute_result"
    }
   ],
   "source": [
    "rmse = np.sqrt(mse)\n",
    "rmse"
   ]
  },
  {
   "cell_type": "code",
   "execution_count": 55,
   "id": "d343f15c",
   "metadata": {},
   "outputs": [
    {
     "data": {
      "text/plain": [
       "[<matplotlib.lines.Line2D at 0x2805376f070>]"
      ]
     },
     "execution_count": 55,
     "metadata": {},
     "output_type": "execute_result"
    },
    {
     "data": {
      "image/png": "[encoded data removed]",
      "text/plain": [
       "<Figure size 432x288 with 1 Axes>"
      ]
     },
     "metadata": {
      "needs_background": "light"
     },
     "output_type": "display_data"
    }
   ],
   "source": [
    "plt.plot(model.resid[:100])"
   ]
  },
  {
   "cell_type": "markdown",
   "id": "4937f3a2",
   "metadata": {},
   "source": [
    "### 1.2. Çoklu Doğrusal Regresyon"
   ]
  },
  {
   "cell_type": "code",
   "execution_count": 56,
   "id": "702b3879",
   "metadata": {},
   "outputs": [
    {
     "data": {
      "text/html": [
       "<div>\n",
       "<style scoped>\n",
       "    .dataframe tbody tr th:only-of-type {\n",
       "        vertical-align: middle;\n",
       "    }\n",
       "\n",
       "    .dataframe tbody tr th {\n",
       "        vertical-align: top;\n",
       "    }\n",
       "\n",
       "    .dataframe thead th {\n",
       "        text-align: right;\n",
       "    }\n",
       "</style>\n",
       "<table border=\"1\" class=\"dataframe\">\n",
       "  <thead>\n",
       "    <tr style=\"text-align: right;\">\n",
       "      <th></th>\n",
       "      <th>Name</th>\n",
       "      <th>Sex</th>\n",
       "      <th>Age</th>\n",
       "      <th>Team</th>\n",
       "      <th>Sport</th>\n",
       "      <th>Medal</th>\n",
       "    </tr>\n",
       "  </thead>\n",
       "  <tbody>\n",
       "    <tr>\n",
       "      <th>184</th>\n",
       "      <td>Enrique Abaroa Martnez</td>\n",
       "      <td>1</td>\n",
       "      <td>26.0</td>\n",
       "      <td>Mexico</td>\n",
       "      <td>Tennis</td>\n",
       "      <td>0</td>\n",
       "    </tr>\n",
       "    <tr>\n",
       "      <th>582</th>\n",
       "      <td>Abubakar Sadiq Abdullahi</td>\n",
       "      <td>1</td>\n",
       "      <td>28.0</td>\n",
       "      <td>Nigeria</td>\n",
       "      <td>Tennis</td>\n",
       "      <td>0</td>\n",
       "    </tr>\n",
       "    <tr>\n",
       "      <th>1235</th>\n",
       "      <td>Ricardo Augusto Amaral Acioly</td>\n",
       "      <td>1</td>\n",
       "      <td>24.0</td>\n",
       "      <td>Brazil</td>\n",
       "      <td>Tennis</td>\n",
       "      <td>0</td>\n",
       "    </tr>\n",
       "    <tr>\n",
       "      <th>1457</th>\n",
       "      <td>David Dixie Adams</td>\n",
       "      <td>1</td>\n",
       "      <td>30.0</td>\n",
       "      <td>South Africa</td>\n",
       "      <td>Tennis</td>\n",
       "      <td>0</td>\n",
       "    </tr>\n",
       "    <tr>\n",
       "      <th>1924</th>\n",
       "      <td>Frdric Charles Aeschlimann</td>\n",
       "      <td>1</td>\n",
       "      <td>27.0</td>\n",
       "      <td>Switzerland</td>\n",
       "      <td>Tennis</td>\n",
       "      <td>0</td>\n",
       "    </tr>\n",
       "  </tbody>\n",
       "</table>\n",
       "</div>"
      ],
      "text/plain": [
       "                               Name  Sex   Age          Team   Sport  Medal\n",
       "184          Enrique Abaroa Martnez    1  26.0        Mexico  Tennis      0\n",
       "582        Abubakar Sadiq Abdullahi    1  28.0       Nigeria  Tennis      0\n",
       "1235  Ricardo Augusto Amaral Acioly    1  24.0        Brazil  Tennis      0\n",
       "1457              David Dixie Adams    1  30.0  South Africa  Tennis      0\n",
       "1924     Frdric Charles Aeschlimann    1  27.0   Switzerland  Tennis      0"
      ]
     },
     "execution_count": 56,
     "metadata": {},
     "output_type": "execute_result"
    }
   ],
   "source": [
    "df.head()"
   ]
  },
  {
   "cell_type": "code",
   "execution_count": 57,
   "id": "0590cb2d",
   "metadata": {},
   "outputs": [
    {
     "name": "stdout",
     "output_type": "stream",
     "text": [
      "<class 'pandas.core.frame.DataFrame'>\n",
      "Int64Index: 1140 entries, 184 to 270986\n",
      "Data columns (total 6 columns):\n",
      " #   Column  Non-Null Count  Dtype   \n",
      "---  ------  --------------  -----   \n",
      " 0   Name    1140 non-null   object  \n",
      " 1   Sex     1140 non-null   int32   \n",
      " 2   Age     1140 non-null   float64 \n",
      " 3   Team    1140 non-null   category\n",
      " 4   Sport   1140 non-null   category\n",
      " 5   Medal   1140 non-null   int64   \n",
      "dtypes: category(2), float64(1), int32(1), int64(1), object(1)\n",
      "memory usage: 86.4+ KB\n"
     ]
    }
   ],
   "source": [
    "df.info()"
   ]
  },
  {
   "cell_type": "code",
   "execution_count": 58,
   "id": "b671d57f",
   "metadata": {},
   "outputs": [
    {
     "data": {
      "text/html": [
       "<div>\n",
       "<style scoped>\n",
       "    .dataframe tbody tr th:only-of-type {\n",
       "        vertical-align: middle;\n",
       "    }\n",
       "\n",
       "    .dataframe tbody tr th {\n",
       "        vertical-align: top;\n",
       "    }\n",
       "\n",
       "    .dataframe thead th {\n",
       "        text-align: right;\n",
       "    }\n",
       "</style>\n",
       "<table border=\"1\" class=\"dataframe\">\n",
       "  <thead>\n",
       "    <tr style=\"text-align: right;\">\n",
       "      <th></th>\n",
       "      <th>Name</th>\n",
       "      <th>Sex</th>\n",
       "      <th>Age</th>\n",
       "      <th>Team</th>\n",
       "      <th>Sport</th>\n",
       "      <th>Medal</th>\n",
       "    </tr>\n",
       "  </thead>\n",
       "  <tbody>\n",
       "    <tr>\n",
       "      <th>184</th>\n",
       "      <td>Enrique Abaroa Martnez</td>\n",
       "      <td>1</td>\n",
       "      <td>26.0</td>\n",
       "      <td>Mexico</td>\n",
       "      <td>Tennis</td>\n",
       "      <td>0</td>\n",
       "    </tr>\n",
       "    <tr>\n",
       "      <th>582</th>\n",
       "      <td>Abubakar Sadiq Abdullahi</td>\n",
       "      <td>1</td>\n",
       "      <td>28.0</td>\n",
       "      <td>Nigeria</td>\n",
       "      <td>Tennis</td>\n",
       "      <td>0</td>\n",
       "    </tr>\n",
       "    <tr>\n",
       "      <th>1235</th>\n",
       "      <td>Ricardo Augusto Amaral Acioly</td>\n",
       "      <td>1</td>\n",
       "      <td>24.0</td>\n",
       "      <td>Brazil</td>\n",
       "      <td>Tennis</td>\n",
       "      <td>0</td>\n",
       "    </tr>\n",
       "    <tr>\n",
       "      <th>1457</th>\n",
       "      <td>David Dixie Adams</td>\n",
       "      <td>1</td>\n",
       "      <td>30.0</td>\n",
       "      <td>South Africa</td>\n",
       "      <td>Tennis</td>\n",
       "      <td>0</td>\n",
       "    </tr>\n",
       "    <tr>\n",
       "      <th>1924</th>\n",
       "      <td>Frdric Charles Aeschlimann</td>\n",
       "      <td>1</td>\n",
       "      <td>27.0</td>\n",
       "      <td>Switzerland</td>\n",
       "      <td>Tennis</td>\n",
       "      <td>0</td>\n",
       "    </tr>\n",
       "  </tbody>\n",
       "</table>\n",
       "</div>"
      ],
      "text/plain": [
       "                               Name  Sex   Age          Team   Sport  Medal\n",
       "184          Enrique Abaroa Martnez    1  26.0        Mexico  Tennis      0\n",
       "582        Abubakar Sadiq Abdullahi    1  28.0       Nigeria  Tennis      0\n",
       "1235  Ricardo Augusto Amaral Acioly    1  24.0        Brazil  Tennis      0\n",
       "1457              David Dixie Adams    1  30.0  South Africa  Tennis      0\n",
       "1924     Frdric Charles Aeschlimann    1  27.0   Switzerland  Tennis      0"
      ]
     },
     "execution_count": 58,
     "metadata": {},
     "output_type": "execute_result"
    }
   ],
   "source": [
    "df.head()"
   ]
  },
  {
   "cell_type": "code",
   "execution_count": 59,
   "id": "3d531c65",
   "metadata": {},
   "outputs": [
    {
     "name": "stdout",
     "output_type": "stream",
     "text": [
      "<class 'pandas.core.frame.DataFrame'>\n",
      "Int64Index: 1140 entries, 184 to 270986\n",
      "Data columns (total 6 columns):\n",
      " #   Column  Non-Null Count  Dtype   \n",
      "---  ------  --------------  -----   \n",
      " 0   Name    1140 non-null   object  \n",
      " 1   Sex     1140 non-null   int32   \n",
      " 2   Age     1140 non-null   float64 \n",
      " 3   Team    1140 non-null   category\n",
      " 4   Sport   1140 non-null   category\n",
      " 5   Medal   1140 non-null   int64   \n",
      "dtypes: category(2), float64(1), int32(1), int64(1), object(1)\n",
      "memory usage: 86.4+ KB\n"
     ]
    }
   ],
   "source": [
    "df.info()"
   ]
  },
  {
   "cell_type": "code",
   "execution_count": 60,
   "id": "db0d831c",
   "metadata": {},
   "outputs": [
    {
     "name": "stdout",
     "output_type": "stream",
     "text": [
      "(912, 2)\n",
      "(912,)\n",
      "(228, 2)\n",
      "(228,)\n"
     ]
    }
   ],
   "source": [
    "from sklearn.model_selection import train_test_split, cross_val_score, cross_val_predict\n",
    "X = df.drop(df.columns[[0,3,4,5]], axis = 1)\n",
    "y = df[\"Medal\"]\n",
    "#randomstate her üretme işleminde farklı değerler çıkmasını istemedigimizden rastgele bir değer veriyoruz\n",
    "X_train, X_test, y_train, y_test = train_test_split(X, y, test_size = 0.20, random_state= 42)\n",
    "print(X_train.shape)\n",
    "print(y_train.shape)\n",
    "print(X_test.shape)\n",
    "print(y_test.shape)"
   ]
  },
  {
   "cell_type": "code",
   "execution_count": 61,
   "id": "05df91c5",
   "metadata": {},
   "outputs": [
    {
     "data": {
      "text/plain": [
       "(1140, 6)"
      ]
     },
     "execution_count": 61,
     "metadata": {},
     "output_type": "execute_result"
    }
   ],
   "source": [
    "#verisetinin bütününün kopyası\n",
    "training = df.copy()\n",
    "training.shape"
   ]
  },
  {
   "cell_type": "code",
   "execution_count": 62,
   "id": "d7dc3b5a",
   "metadata": {},
   "outputs": [
    {
     "name": "stdout",
     "output_type": "stream",
     "text": [
      "0.07063342969218618\n",
      "[-0.05152385  0.00471665]\n"
     ]
    }
   ],
   "source": [
    "from sklearn.linear_model import LinearRegression\n",
    "lm = LinearRegression()\n",
    "model = lm.fit(X_train, y_train)\n",
    "#sabit katsayı\n",
    "print(model.intercept_)\n",
    "#bağımsız deşişken katsayıları \n",
    "print(model.coef_)"
   ]
  },
  {
   "cell_type": "markdown",
   "id": "cf7d5cab",
   "metadata": {},
   "source": [
    "Tahmin"
   ]
  },
  {
   "cell_type": "code",
   "execution_count": 63,
   "id": "27d1247d",
   "metadata": {},
   "outputs": [
    {
     "data": {
      "text/html": [
       "<div>\n",
       "<style scoped>\n",
       "    .dataframe tbody tr th:only-of-type {\n",
       "        vertical-align: middle;\n",
       "    }\n",
       "\n",
       "    .dataframe tbody tr th {\n",
       "        vertical-align: top;\n",
       "    }\n",
       "\n",
       "    .dataframe thead th {\n",
       "        text-align: right;\n",
       "    }\n",
       "</style>\n",
       "<table border=\"1\" class=\"dataframe\">\n",
       "  <thead>\n",
       "    <tr style=\"text-align: right;\">\n",
       "      <th></th>\n",
       "      <th>0</th>\n",
       "      <th>1</th>\n",
       "    </tr>\n",
       "  </thead>\n",
       "  <tbody>\n",
       "    <tr>\n",
       "      <th>0</th>\n",
       "      <td>1</td>\n",
       "      <td>25</td>\n",
       "    </tr>\n",
       "  </tbody>\n",
       "</table>\n",
       "</div>"
      ],
      "text/plain": [
       "   0   1\n",
       "0  1  25"
      ]
     },
     "execution_count": 63,
     "metadata": {},
     "output_type": "execute_result"
    }
   ],
   "source": [
    "yeni_veri = [[1], [25]]\n",
    "yeni_veri = pd.DataFrame(yeni_veri).T\n",
    "yeni_veri"
   ]
  },
  {
   "cell_type": "code",
   "execution_count": 64,
   "id": "05568f94",
   "metadata": {},
   "outputs": [
    {
     "data": {
      "text/plain": [
       "array([0.13702573])"
      ]
     },
     "execution_count": 64,
     "metadata": {},
     "output_type": "execute_result"
    }
   ],
   "source": [
    "model.predict(yeni_veri)"
   ]
  },
  {
   "cell_type": "code",
   "execution_count": 65,
   "id": "7a493829",
   "metadata": {},
   "outputs": [
    {
     "data": {
      "text/html": [
       "<div>\n",
       "<style scoped>\n",
       "    .dataframe tbody tr th:only-of-type {\n",
       "        vertical-align: middle;\n",
       "    }\n",
       "\n",
       "    .dataframe tbody tr th {\n",
       "        vertical-align: top;\n",
       "    }\n",
       "\n",
       "    .dataframe thead th {\n",
       "        text-align: right;\n",
       "    }\n",
       "</style>\n",
       "<table border=\"1\" class=\"dataframe\">\n",
       "  <thead>\n",
       "    <tr style=\"text-align: right;\">\n",
       "      <th></th>\n",
       "      <th>0</th>\n",
       "      <th>1</th>\n",
       "    </tr>\n",
       "  </thead>\n",
       "  <tbody>\n",
       "    <tr>\n",
       "      <th>0</th>\n",
       "      <td>0</td>\n",
       "      <td>25</td>\n",
       "    </tr>\n",
       "  </tbody>\n",
       "</table>\n",
       "</div>"
      ],
      "text/plain": [
       "   0   1\n",
       "0  0  25"
      ]
     },
     "execution_count": 65,
     "metadata": {},
     "output_type": "execute_result"
    }
   ],
   "source": [
    "yeni_veri2 = [[0], [25]]\n",
    "yeni_veri2 = pd.DataFrame(yeni_veri2).T\n",
    "yeni_veri2"
   ]
  },
  {
   "cell_type": "code",
   "execution_count": 66,
   "id": "5caff6e0",
   "metadata": {},
   "outputs": [
    {
     "data": {
      "text/plain": [
       "array([0.18854959])"
      ]
     },
     "execution_count": 66,
     "metadata": {},
     "output_type": "execute_result"
    }
   ],
   "source": [
    "model.predict(yeni_veri2)"
   ]
  },
  {
   "cell_type": "code",
   "execution_count": 67,
   "id": "be22c461",
   "metadata": {},
   "outputs": [
    {
     "data": {
      "text/plain": [
       "0.5847033991788866"
      ]
     },
     "execution_count": 67,
     "metadata": {},
     "output_type": "execute_result"
    }
   ],
   "source": [
    "from sklearn.metrics import mean_squared_error\n",
    "#eğitim hatası\n",
    "rmse = np.sqrt(mean_squared_error(y_train, model.predict(X_train)))\n",
    "rmse"
   ]
  },
  {
   "cell_type": "code",
   "execution_count": 68,
   "id": "ee76548a",
   "metadata": {},
   "outputs": [
    {
     "data": {
      "text/plain": [
       "0.581277429962973"
      ]
     },
     "execution_count": 68,
     "metadata": {},
     "output_type": "execute_result"
    }
   ],
   "source": [
    "#test hatası\n",
    "rmse = np.sqrt(mean_squared_error(y_test, model.predict(X_test)))\n",
    "rmse"
   ]
  },
  {
   "cell_type": "markdown",
   "id": "497755ff",
   "metadata": {},
   "source": [
    "Model Tuning / Model Doğrulama"
   ]
  },
  {
   "cell_type": "code",
   "execution_count": 69,
   "id": "aeaa5ba9",
   "metadata": {},
   "outputs": [
    {
     "data": {
      "text/html": [
       "<div>\n",
       "<style scoped>\n",
       "    .dataframe tbody tr th:only-of-type {\n",
       "        vertical-align: middle;\n",
       "    }\n",
       "\n",
       "    .dataframe tbody tr th {\n",
       "        vertical-align: top;\n",
       "    }\n",
       "\n",
       "    .dataframe thead th {\n",
       "        text-align: right;\n",
       "    }\n",
       "</style>\n",
       "<table border=\"1\" class=\"dataframe\">\n",
       "  <thead>\n",
       "    <tr style=\"text-align: right;\">\n",
       "      <th></th>\n",
       "      <th>Name</th>\n",
       "      <th>Sex</th>\n",
       "      <th>Age</th>\n",
       "      <th>Team</th>\n",
       "      <th>Sport</th>\n",
       "      <th>Medal</th>\n",
       "    </tr>\n",
       "  </thead>\n",
       "  <tbody>\n",
       "    <tr>\n",
       "      <th>184</th>\n",
       "      <td>Enrique Abaroa Martnez</td>\n",
       "      <td>1</td>\n",
       "      <td>26.0</td>\n",
       "      <td>Mexico</td>\n",
       "      <td>Tennis</td>\n",
       "      <td>0</td>\n",
       "    </tr>\n",
       "    <tr>\n",
       "      <th>582</th>\n",
       "      <td>Abubakar Sadiq Abdullahi</td>\n",
       "      <td>1</td>\n",
       "      <td>28.0</td>\n",
       "      <td>Nigeria</td>\n",
       "      <td>Tennis</td>\n",
       "      <td>0</td>\n",
       "    </tr>\n",
       "    <tr>\n",
       "      <th>1235</th>\n",
       "      <td>Ricardo Augusto Amaral Acioly</td>\n",
       "      <td>1</td>\n",
       "      <td>24.0</td>\n",
       "      <td>Brazil</td>\n",
       "      <td>Tennis</td>\n",
       "      <td>0</td>\n",
       "    </tr>\n",
       "    <tr>\n",
       "      <th>1457</th>\n",
       "      <td>David Dixie Adams</td>\n",
       "      <td>1</td>\n",
       "      <td>30.0</td>\n",
       "      <td>South Africa</td>\n",
       "      <td>Tennis</td>\n",
       "      <td>0</td>\n",
       "    </tr>\n",
       "    <tr>\n",
       "      <th>1924</th>\n",
       "      <td>Frdric Charles Aeschlimann</td>\n",
       "      <td>1</td>\n",
       "      <td>27.0</td>\n",
       "      <td>Switzerland</td>\n",
       "      <td>Tennis</td>\n",
       "      <td>0</td>\n",
       "    </tr>\n",
       "  </tbody>\n",
       "</table>\n",
       "</div>"
      ],
      "text/plain": [
       "                               Name  Sex   Age          Team   Sport  Medal\n",
       "184          Enrique Abaroa Martnez    1  26.0        Mexico  Tennis      0\n",
       "582        Abubakar Sadiq Abdullahi    1  28.0       Nigeria  Tennis      0\n",
       "1235  Ricardo Augusto Amaral Acioly    1  24.0        Brazil  Tennis      0\n",
       "1457              David Dixie Adams    1  30.0  South Africa  Tennis      0\n",
       "1924     Frdric Charles Aeschlimann    1  27.0   Switzerland  Tennis      0"
      ]
     },
     "execution_count": 69,
     "metadata": {},
     "output_type": "execute_result"
    }
   ],
   "source": [
    "df.head()"
   ]
  },
  {
   "cell_type": "code",
   "execution_count": 70,
   "id": "5e7baf6c",
   "metadata": {},
   "outputs": [
    {
     "name": "stdout",
     "output_type": "stream",
     "text": [
      "(912, 2)\n",
      "(912,)\n",
      "(228, 2)\n",
      "(228,)\n"
     ]
    }
   ],
   "source": [
    "from sklearn.model_selection import train_test_split, cross_val_score, cross_val_predict\n",
    "X = df.drop(df.columns[[0,3,4,5]], axis = 1)\n",
    "y = df[\"Medal\"]\n",
    "#randomstate her üretme işleminde farklı değerler çıkmasını istemedigimizden rastgele bir değer veriyoruz\n",
    "X_train, X_test, y_train, y_test = train_test_split(X, y, test_size = 0.20, random_state= 42)\n",
    "print(X_train.shape)\n",
    "print(y_train.shape)\n",
    "print(X_test.shape)\n",
    "print(y_test.shape)"
   ]
  },
  {
   "cell_type": "code",
   "execution_count": 71,
   "id": "99cfb137",
   "metadata": {},
   "outputs": [
    {
     "name": "stdout",
     "output_type": "stream",
     "text": [
      "0.5847033991788866\n",
      "0.581277429962973\n"
     ]
    },
    {
     "data": {
      "text/plain": [
       "0.0022910609358485212"
      ]
     },
     "execution_count": 71,
     "metadata": {},
     "output_type": "execute_result"
    }
   ],
   "source": [
    "rmseTrain=np.sqrt(mean_squared_error(y_train, model.predict(X_train)))\n",
    "print(rmseTrain)\n",
    "rmseTest=np.sqrt(mean_squared_error(y_test, model.predict(X_test)))\n",
    "print(rmseTest)\n",
    "model.score(X_train, y_train)"
   ]
  },
  {
   "cell_type": "code",
   "execution_count": 72,
   "id": "3f16767c",
   "metadata": {},
   "outputs": [
    {
     "data": {
      "text/plain": [
       "-0.03336258268402496"
      ]
     },
     "execution_count": 72,
     "metadata": {},
     "output_type": "execute_result"
    }
   ],
   "source": [
    "#eğitim verileri için çapraz doğrulama ile elde edilmiş ortalama r2 skoru\n",
    "cross_val_score(model, X_train, y_train, cv = 10, scoring = \"r2\").mean()"
   ]
  },
  {
   "cell_type": "code",
   "execution_count": 73,
   "id": "2672f938",
   "metadata": {},
   "outputs": [
    {
     "name": "stdout",
     "output_type": "stream",
     "text": [
      "0.57195393376663\n",
      "0.5327613713260921\n"
     ]
    }
   ],
   "source": [
    "#neg_mean_squared_error'da sonuc negatif olacağı için üstte (-) ile çarpıyoruz \n",
    "rmseTrain=np.sqrt(-cross_val_score(model, \n",
    "                X_train, \n",
    "                y_train, \n",
    "                cv = 10, \n",
    "                scoring = \"neg_mean_squared_error\")).mean()\n",
    "print(rmseTrain)\n",
    "rmseTest=np.sqrt(-cross_val_score(model, \n",
    "                X_test, \n",
    "                y_test, \n",
    "                cv = 10, \n",
    "                scoring = \"neg_mean_squared_error\")).mean()\n",
    "print(rmseTest)"
   ]
  },
  {
   "cell_type": "markdown",
   "id": "7b572d10",
   "metadata": {},
   "source": [
    "rmseTrain = 0.57195393376663 / \n",
    "rmseTest = 0.5327613713260921"
   ]
  },
  {
   "cell_type": "markdown",
   "id": "2cd663c4",
   "metadata": {},
   "source": [
    "### 1.3. PCR (Temel Bileşen Regresyonu - Principal Component Regression)"
   ]
  },
  {
   "cell_type": "code",
   "execution_count": 74,
   "id": "0b5c891b",
   "metadata": {},
   "outputs": [
    {
     "name": "stdout",
     "output_type": "stream",
     "text": [
      "X_train (855, 2)\n",
      "y_train (855,)\n",
      "X_test (285, 2)\n",
      "y_test (285,)\n",
      "training (1140, 6)\n"
     ]
    }
   ],
   "source": [
    "from sklearn.model_selection import train_test_split, cross_val_score, cross_val_predict\n",
    "X = df.drop(df.columns[[0,3,4,5]], axis = 1)\n",
    "y = df[\"Medal\"]\n",
    "X_train, X_test, y_train, y_test = train_test_split(X, y, test_size=0.25, random_state=42)\n",
    "print(\"X_train\", X_train.shape)\n",
    "print(\"y_train\",y_train.shape)\n",
    "print(\"X_test\",X_test.shape)\n",
    "print(\"y_test\",y_test.shape)\n",
    "training = df.copy()\n",
    "print(\"training\", training.shape)"
   ]
  },
  {
   "cell_type": "code",
   "execution_count": 75,
   "id": "80fb29d6",
   "metadata": {},
   "outputs": [
    {
     "data": {
      "text/plain": [
       "array([[ 0.55894223, -0.59575831]])"
      ]
     },
     "execution_count": 75,
     "metadata": {},
     "output_type": "execute_result"
    }
   ],
   "source": [
    "from sklearn.decomposition import PCA\n",
    "from sklearn.preprocessing import scale \n",
    "pca = PCA()\n",
    "#indirgenmiş veriseti (transform indirgeme islemi)(scale islemi veri standardizasyonu yapmayi saglar)\n",
    "\n",
    "X_reduced_train = pca.fit_transform(scale(X_train))\n",
    "#ilk gözlemin tüm bileşenlerde incelenmesi\n",
    "X_reduced_train[0:1,:]\n",
    "#Normalde PCA n_components yani bileşen sayısı parametresini alır. Eğer parametreyi vermezsek bütün bileşenleri kullanır."
   ]
  },
  {
   "cell_type": "code",
   "execution_count": 76,
   "id": "c8242254",
   "metadata": {},
   "outputs": [
    {
     "data": {
      "text/plain": [
       "array([ 62.95, 100.  ])"
      ]
     },
     "execution_count": 76,
     "metadata": {},
     "output_type": "execute_result"
    }
   ],
   "source": [
    "#açıklanan varyans oranı\n",
    "np.cumsum(np.round(pca.explained_variance_ratio_, decimals = 4)*100)\n",
    "#1. bilesen verisetindeki varyansın %58,75ini ifade ettiğini belirtir.\n",
    "#2. bileşenin kendinden önceki bileşenle birlikte verisetindeki varyansın %100ünü ifade ettiğini belirtir."
   ]
  },
  {
   "cell_type": "code",
   "execution_count": 77,
   "id": "8a19d5dd",
   "metadata": {},
   "outputs": [
    {
     "name": "stdout",
     "output_type": "stream",
     "text": [
      "0.15555555555555556\n",
      "[0.00157073 0.03365316]\n"
     ]
    }
   ],
   "source": [
    "lm = LinearRegression()\n",
    "pcr_model = lm.fit(X_reduced_train, y_train)\n",
    "print(pcr_model.intercept_)\n",
    "print(pcr_model.coef_)"
   ]
  },
  {
   "cell_type": "markdown",
   "id": "ed2f3d8f",
   "metadata": {},
   "source": [
    "Tahmin"
   ]
  },
  {
   "cell_type": "code",
   "execution_count": 78,
   "id": "ec0d59de",
   "metadata": {},
   "outputs": [
    {
     "data": {
      "text/plain": [
       "array([0.13638436, 0.13066905, 0.14268423, 0.14781496, 0.19412195])"
      ]
     },
     "execution_count": 78,
     "metadata": {},
     "output_type": "execute_result"
    }
   ],
   "source": [
    "y_pred = pcr_model.predict(X_reduced_train)\n",
    "y_pred[0:5]"
   ]
  },
  {
   "cell_type": "code",
   "execution_count": 79,
   "id": "1665d4b1",
   "metadata": {},
   "outputs": [
    {
     "data": {
      "text/plain": [
       "0.5879799347067083"
      ]
     },
     "execution_count": 79,
     "metadata": {},
     "output_type": "execute_result"
    }
   ],
   "source": [
    "from sklearn.metrics import mean_squared_error, r2_score\n",
    "np.sqrt(mean_squared_error(y_train, y_pred))"
   ]
  },
  {
   "cell_type": "code",
   "execution_count": 80,
   "id": "2d58810d",
   "metadata": {},
   "outputs": [
    {
     "data": {
      "text/plain": [
       "0.15526315789473685"
      ]
     },
     "execution_count": 80,
     "metadata": {},
     "output_type": "execute_result"
    }
   ],
   "source": [
    "df[\"Medal\"].mean()"
   ]
  },
  {
   "cell_type": "code",
   "execution_count": 81,
   "id": "5ce5c73e",
   "metadata": {},
   "outputs": [
    {
     "data": {
      "text/plain": [
       "0.0024304387887209566"
      ]
     },
     "execution_count": 81,
     "metadata": {},
     "output_type": "execute_result"
    }
   ],
   "source": [
    "r2_score(y_train, y_pred)"
   ]
  },
  {
   "cell_type": "code",
   "execution_count": 82,
   "id": "cf4c660f",
   "metadata": {},
   "outputs": [
    {
     "data": {
      "text/plain": [
       "0.5720339971193792"
      ]
     },
     "execution_count": 82,
     "metadata": {},
     "output_type": "execute_result"
    }
   ],
   "source": [
    "pca2 = PCA()\n",
    "X_reduced_test = pca2.fit_transform(scale(X_test))\n",
    "y_pred = pcr_model.predict(X_reduced_test)\n",
    "np.sqrt(mean_squared_error(y_test, y_pred))"
   ]
  },
  {
   "cell_type": "markdown",
   "id": "a19bff51",
   "metadata": {},
   "source": [
    "Model Tuning"
   ]
  },
  {
   "cell_type": "code",
   "execution_count": 83,
   "id": "1913e44a",
   "metadata": {},
   "outputs": [
    {
     "name": "stdout",
     "output_type": "stream",
     "text": [
      "0.5720339971193792\n"
     ]
    }
   ],
   "source": [
    "lm = LinearRegression()\n",
    "#tüm bileşenlerle ile deneyelim\n",
    "pcr_model = lm.fit(X_reduced_train, y_train)\n",
    "y_pred = pcr_model.predict(X_reduced_test)\n",
    "print(np.sqrt(mean_squared_error(y_test, y_pred)))"
   ]
  },
  {
   "cell_type": "code",
   "execution_count": 84,
   "id": "0d547767",
   "metadata": {},
   "outputs": [
    {
     "name": "stdout",
     "output_type": "stream",
     "text": [
      "0.5720339971193792\n"
     ]
    }
   ],
   "source": [
    "lm = LinearRegression()\n",
    "#15 bileşenle ile bir deneyelim\n",
    "pcr_model = lm.fit(X_reduced_train[:,0:15], y_train)\n",
    "y_pred = pcr_model.predict(X_reduced_test[:,0:15])\n",
    "print(np.sqrt(mean_squared_error(y_test, y_pred)))"
   ]
  },
  {
   "cell_type": "code",
   "execution_count": 85,
   "id": "c3e9cf34",
   "metadata": {},
   "outputs": [],
   "source": [
    "#cross validation sayesinde olası bileşen sayılarıni gonderip optimum bileşen sayısını belirleyebiliriz \n",
    "from sklearn import model_selection\n",
    "cv_10 = model_selection.KFold(n_splits = 10,shuffle = True,random_state = 1)\n",
    "lm = LinearRegression()\n",
    "RMSE = []\n",
    "\n",
    "for i in np.arange(1, X_reduced_train.shape[1] + 1):\n",
    "    score = np.sqrt(-1*model_selection.cross_val_score(lm, X_reduced_train[:,:i], y_train.ravel(), cv=cv_10, scoring='neg_mean_squared_error').mean())\n",
    "    RMSE.append(score)"
   ]
  },
  {
   "cell_type": "code",
   "execution_count": 86,
   "id": "5c08319a",
   "metadata": {},
   "outputs": [
    {
     "data": {
      "image/png": "[encoded data removed]",
      "text/plain": [
       "<Figure size 432x288 with 1 Axes>"
      ]
     },
     "metadata": {
      "needs_background": "light"
     },
     "output_type": "display_data"
    }
   ],
   "source": [
    "import matplotlib.pyplot as plt\n",
    "plt.plot(RMSE, '-v')\n",
    "plt.xlabel('Bileşen Sayısı')\n",
    "plt.ylabel('RMSE')\n",
    "plt.title('Madalya Tahmin Modeli İçin PCR Model Tuning');"
   ]
  },
  {
   "cell_type": "markdown",
   "id": "46f4dd98",
   "metadata": {},
   "source": [
    "Grafikten de anlaşılacağı üzere bileşen sayısını 0 seçmek en düşük hataya erişmemizi sağlayacaktır."
   ]
  },
  {
   "cell_type": "code",
   "execution_count": 87,
   "id": "2a282186",
   "metadata": {},
   "outputs": [
    {
     "name": "stdout",
     "output_type": "stream",
     "text": [
      "0.5886931261762727\n",
      "0.5718008047761469\n"
     ]
    }
   ],
   "source": [
    "lm = LinearRegression()\n",
    "pcr_model = lm.fit(X_reduced_train[:,0:1], y_train)\n",
    "y_pred = pcr_model.predict(X_reduced_train[:,0:1])\n",
    "print(np.sqrt(mean_squared_error(y_train, y_pred)))\n",
    "y_pred = pcr_model.predict(X_reduced_test[:,0:1])\n",
    "print(np.sqrt(mean_squared_error(y_test, y_pred)))"
   ]
  },
  {
   "cell_type": "markdown",
   "id": "ba35026b",
   "metadata": {},
   "source": [
    "### 1.4. PLS (Kısmi En Küçük Kareler Regresyonu)"
   ]
  },
  {
   "cell_type": "code",
   "execution_count": 88,
   "id": "ad0a55a4",
   "metadata": {},
   "outputs": [],
   "source": [
    "from sklearn.model_selection import train_test_split, cross_val_score, cross_val_predict\n",
    "X = df.drop(df.columns[[0,3,4,5]], axis = 1)\n",
    "y = df[\"Medal\"]\n",
    "X_train, X_test, y_train, y_test = train_test_split(X, y, test_size=0.25, random_state=42)\n",
    "training = df.copy()"
   ]
  },
  {
   "cell_type": "code",
   "execution_count": 89,
   "id": "a9a650ea",
   "metadata": {},
   "outputs": [
    {
     "data": {
      "text/plain": [
       "array([[-0.02269898],\n",
       "       [ 0.02492163]])"
      ]
     },
     "execution_count": 89,
     "metadata": {},
     "output_type": "execute_result"
    }
   ],
   "source": [
    "from sklearn.cross_decomposition import PLSRegression, PLSSVD\n",
    "#tum bilesenler alindi\n",
    "pls_model = PLSRegression().fit(X_train, y_train)\n",
    "#3 bilesene indirgeyebiliriz ancak bu ara katmandaki PLS factor sayisini belirler, degisken sayisi gene aynidir.\n",
    "#pls_model = PLSRegression(n_components=3).fit(X_train, y_train)\n",
    "pls_model.coef_"
   ]
  },
  {
   "cell_type": "code",
   "execution_count": 90,
   "id": "df94ded2",
   "metadata": {},
   "outputs": [
    {
     "data": {
      "text/html": [
       "<div>\n",
       "<style scoped>\n",
       "    .dataframe tbody tr th:only-of-type {\n",
       "        vertical-align: middle;\n",
       "    }\n",
       "\n",
       "    .dataframe tbody tr th {\n",
       "        vertical-align: top;\n",
       "    }\n",
       "\n",
       "    .dataframe thead th {\n",
       "        text-align: right;\n",
       "    }\n",
       "</style>\n",
       "<table border=\"1\" class=\"dataframe\">\n",
       "  <thead>\n",
       "    <tr style=\"text-align: right;\">\n",
       "      <th></th>\n",
       "      <th>Sex</th>\n",
       "      <th>Age</th>\n",
       "    </tr>\n",
       "  </thead>\n",
       "  <tbody>\n",
       "    <tr>\n",
       "      <th>18824</th>\n",
       "      <td>1</td>\n",
       "      <td>24.0</td>\n",
       "    </tr>\n",
       "    <tr>\n",
       "      <th>159970</th>\n",
       "      <td>1</td>\n",
       "      <td>23.0</td>\n",
       "    </tr>\n",
       "    <tr>\n",
       "      <th>85568</th>\n",
       "      <td>0</td>\n",
       "      <td>17.0</td>\n",
       "    </tr>\n",
       "    <tr>\n",
       "      <th>184700</th>\n",
       "      <td>1</td>\n",
       "      <td>26.0</td>\n",
       "    </tr>\n",
       "    <tr>\n",
       "      <th>101250</th>\n",
       "      <td>0</td>\n",
       "      <td>26.0</td>\n",
       "    </tr>\n",
       "  </tbody>\n",
       "</table>\n",
       "</div>"
      ],
      "text/plain": [
       "        Sex   Age\n",
       "18824     1  24.0\n",
       "159970    1  23.0\n",
       "85568     0  17.0\n",
       "184700    1  26.0\n",
       "101250    0  26.0"
      ]
     },
     "execution_count": 90,
     "metadata": {},
     "output_type": "execute_result"
    }
   ],
   "source": [
    "X_train.head()"
   ]
  },
  {
   "cell_type": "code",
   "execution_count": 91,
   "id": "1c28f4fe",
   "metadata": {},
   "outputs": [
    {
     "data": {
      "text/plain": [
       "array([[0.13638436],\n",
       "       [0.13066905],\n",
       "       [0.14268423],\n",
       "       [0.14781496],\n",
       "       [0.19412195],\n",
       "       [0.15411484],\n",
       "       [0.14209966],\n",
       "       [0.15353026],\n",
       "       [0.15924557],\n",
       "       [0.19353738],\n",
       "       [0.19983726],\n",
       "       [0.12495375],\n",
       "       [0.20496799],\n",
       "       [0.13638436],\n",
       "       [0.15411484],\n",
       "       [0.14209966],\n",
       "       [0.11352314],\n",
       "       [0.16496087],\n",
       "       [0.14209966],\n",
       "       [0.18840665],\n",
       "       [0.12495375],\n",
       "       [0.17067617],\n",
       "       [0.12495375],\n",
       "       [0.17697605],\n",
       "       [0.13066905],\n",
       "       [0.12495375],\n",
       "       [0.14839953],\n",
       "       [0.17067617],\n",
       "       [0.12495375],\n",
       "       [0.14839953],\n",
       "       [0.10209254],\n",
       "       [0.14781496],\n",
       "       [0.13638436],\n",
       "       [0.16554544],\n",
       "       [0.16554544],\n",
       "       [0.15983014],\n",
       "       [0.11923845],\n",
       "       [0.14839953],\n",
       "       [0.14209966],\n",
       "       [0.14781496],\n",
       "       [0.11352314],\n",
       "       [0.15353026],\n",
       "       [0.14209966],\n",
       "       [0.11923845],\n",
       "       [0.13638436],\n",
       "       [0.17639147],\n",
       "       [0.10209254],\n",
       "       [0.18269135],\n",
       "       [0.15983014],\n",
       "       [0.14209966],\n",
       "       [0.21126786],\n",
       "       [0.15353026],\n",
       "       [0.18840665],\n",
       "       [0.18840665],\n",
       "       [0.14839953],\n",
       "       [0.11352314],\n",
       "       [0.15411484],\n",
       "       [0.20496799],\n",
       "       [0.13066905],\n",
       "       [0.14209966],\n",
       "       [0.18269135],\n",
       "       [0.12495375],\n",
       "       [0.16496087],\n",
       "       [0.15411484],\n",
       "       [0.12495375],\n",
       "       [0.16554544],\n",
       "       [0.10209254],\n",
       "       [0.15353026],\n",
       "       [0.13066905],\n",
       "       [0.13638436],\n",
       "       [0.17067617],\n",
       "       [0.12495375],\n",
       "       [0.17126074],\n",
       "       [0.13066905],\n",
       "       [0.15924557],\n",
       "       [0.17126074],\n",
       "       [0.17126074],\n",
       "       [0.12495375],\n",
       "       [0.19412195],\n",
       "       [0.16554544],\n",
       "       [0.17126074],\n",
       "       [0.11923845],\n",
       "       [0.17639147],\n",
       "       [0.15983014],\n",
       "       [0.11352314],\n",
       "       [0.14209966],\n",
       "       [0.13638436],\n",
       "       [0.12495375],\n",
       "       [0.14209966],\n",
       "       [0.15924557],\n",
       "       [0.14781496],\n",
       "       [0.10209254],\n",
       "       [0.17067617],\n",
       "       [0.18840665],\n",
       "       [0.13638436],\n",
       "       [0.18782208],\n",
       "       [0.17126074],\n",
       "       [0.13638436],\n",
       "       [0.15353026],\n",
       "       [0.12495375],\n",
       "       [0.18269135],\n",
       "       [0.15411484],\n",
       "       [0.10209254],\n",
       "       [0.17639147],\n",
       "       [0.19353738],\n",
       "       [0.14209966],\n",
       "       [0.14209966],\n",
       "       [0.20496799],\n",
       "       [0.15924557],\n",
       "       [0.14781496],\n",
       "       [0.15353026],\n",
       "       [0.14781496],\n",
       "       [0.15983014],\n",
       "       [0.16554544],\n",
       "       [0.15353026],\n",
       "       [0.14209966],\n",
       "       [0.16496087],\n",
       "       [0.15353026],\n",
       "       [0.15983014],\n",
       "       [0.13638436],\n",
       "       [0.18210678],\n",
       "       [0.15983014],\n",
       "       [0.13638436],\n",
       "       [0.15411484],\n",
       "       [0.14209966],\n",
       "       [0.16554544],\n",
       "       [0.13066905],\n",
       "       [0.13696893],\n",
       "       [0.11923845],\n",
       "       [0.17639147],\n",
       "       [0.15983014],\n",
       "       [0.14839953],\n",
       "       [0.15983014],\n",
       "       [0.11352314],\n",
       "       [0.20555256],\n",
       "       [0.14839953],\n",
       "       [0.13638436],\n",
       "       [0.16554544],\n",
       "       [0.14781496],\n",
       "       [0.15924557],\n",
       "       [0.20555256],\n",
       "       [0.14839953],\n",
       "       [0.20555256],\n",
       "       [0.15411484],\n",
       "       [0.15924557],\n",
       "       [0.14781496],\n",
       "       [0.17639147],\n",
       "       [0.14268423],\n",
       "       [0.15924557],\n",
       "       [0.12495375],\n",
       "       [0.19412195],\n",
       "       [0.16554544],\n",
       "       [0.14268423],\n",
       "       [0.17697605],\n",
       "       [0.21126786],\n",
       "       [0.15983014],\n",
       "       [0.19353738],\n",
       "       [0.13638436],\n",
       "       [0.10209254],\n",
       "       [0.13638436],\n",
       "       [0.13638436],\n",
       "       [0.15924557],\n",
       "       [0.16496087],\n",
       "       [0.15353026],\n",
       "       [0.12495375],\n",
       "       [0.13638436],\n",
       "       [0.10780784],\n",
       "       [0.12495375],\n",
       "       [0.10209254],\n",
       "       [0.19353738],\n",
       "       [0.14839953],\n",
       "       [0.13638436],\n",
       "       [0.21698316],\n",
       "       [0.17126074],\n",
       "       [0.18840665],\n",
       "       [0.15983014],\n",
       "       [0.16554544],\n",
       "       [0.11923845],\n",
       "       [0.10780784],\n",
       "       [0.18269135],\n",
       "       [0.14268423],\n",
       "       [0.15411484],\n",
       "       [0.17126074],\n",
       "       [0.19983726],\n",
       "       [0.20555256],\n",
       "       [0.19353738],\n",
       "       [0.13066905],\n",
       "       [0.15924557],\n",
       "       [0.13066905],\n",
       "       [0.11923845],\n",
       "       [0.17697605],\n",
       "       [0.17639147],\n",
       "       [0.17126074],\n",
       "       [0.24555968],\n",
       "       [0.13066905],\n",
       "       [0.12495375],\n",
       "       [0.11923845],\n",
       "       [0.16496087],\n",
       "       [0.17639147],\n",
       "       [0.17697605],\n",
       "       [0.10780784],\n",
       "       [0.13638436],\n",
       "       [0.24555968],\n",
       "       [0.19983726],\n",
       "       [0.13066905],\n",
       "       [0.17697605],\n",
       "       [0.08494663],\n",
       "       [0.17067617],\n",
       "       [0.17697605],\n",
       "       [0.18269135],\n",
       "       [0.10780784],\n",
       "       [0.11352314],\n",
       "       [0.14209966],\n",
       "       [0.13066905],\n",
       "       [0.17126074],\n",
       "       [0.16554544],\n",
       "       [0.15411484],\n",
       "       [0.13066905],\n",
       "       [0.15924557],\n",
       "       [0.15411484],\n",
       "       [0.15411484],\n",
       "       [0.11352314],\n",
       "       [0.14209966],\n",
       "       [0.11923845],\n",
       "       [0.14781496],\n",
       "       [0.19353738],\n",
       "       [0.14209966],\n",
       "       [0.19412195],\n",
       "       [0.15924557],\n",
       "       [0.12495375],\n",
       "       [0.15353026],\n",
       "       [0.14781496],\n",
       "       [0.18269135],\n",
       "       [0.17126074],\n",
       "       [0.15983014],\n",
       "       [0.16554544],\n",
       "       [0.15411484],\n",
       "       [0.23984438],\n",
       "       [0.18840665],\n",
       "       [0.23412907],\n",
       "       [0.15983014],\n",
       "       [0.21126786],\n",
       "       [0.11923845],\n",
       "       [0.10780784],\n",
       "       [0.20555256],\n",
       "       [0.14268423],\n",
       "       [0.11923845],\n",
       "       [0.15983014],\n",
       "       [0.18840665],\n",
       "       [0.11923845],\n",
       "       [0.15353026],\n",
       "       [0.12495375],\n",
       "       [0.14781496],\n",
       "       [0.20496799],\n",
       "       [0.16496087],\n",
       "       [0.15924557],\n",
       "       [0.13066905],\n",
       "       [0.17126074],\n",
       "       [0.11923845],\n",
       "       [0.16554544],\n",
       "       [0.12495375],\n",
       "       [0.22269847],\n",
       "       [0.21126786],\n",
       "       [0.17126074],\n",
       "       [0.11352314],\n",
       "       [0.13066905],\n",
       "       [0.11923845],\n",
       "       [0.17697605],\n",
       "       [0.13125363],\n",
       "       [0.14781496],\n",
       "       [0.18269135],\n",
       "       [0.16554544],\n",
       "       [0.18840665],\n",
       "       [0.13696893],\n",
       "       [0.14268423],\n",
       "       [0.18210678],\n",
       "       [0.14781496],\n",
       "       [0.11923845],\n",
       "       [0.23984438],\n",
       "       [0.12495375],\n",
       "       [0.19353738],\n",
       "       [0.14209966],\n",
       "       [0.11923845],\n",
       "       [0.12495375],\n",
       "       [0.15924557],\n",
       "       [0.16554544],\n",
       "       [0.15353026],\n",
       "       [0.18269135],\n",
       "       [0.13638436],\n",
       "       [0.13638436],\n",
       "       [0.14839953],\n",
       "       [0.21126786],\n",
       "       [0.17126074],\n",
       "       [0.17697605],\n",
       "       [0.14209966],\n",
       "       [0.11923845],\n",
       "       [0.10780784],\n",
       "       [0.15353026],\n",
       "       [0.14839953],\n",
       "       [0.14781496],\n",
       "       [0.11352314],\n",
       "       [0.09637724],\n",
       "       [0.16554544],\n",
       "       [0.10209254],\n",
       "       [0.14839953],\n",
       "       [0.15924557],\n",
       "       [0.10780784],\n",
       "       [0.13638436],\n",
       "       [0.18269135],\n",
       "       [0.22269847],\n",
       "       [0.14209966],\n",
       "       [0.14781496],\n",
       "       [0.20555256],\n",
       "       [0.14268423],\n",
       "       [0.13638436],\n",
       "       [0.15353026],\n",
       "       [0.10780784],\n",
       "       [0.09637724],\n",
       "       [0.20496799],\n",
       "       [0.15924557],\n",
       "       [0.13638436],\n",
       "       [0.11352314],\n",
       "       [0.13638436],\n",
       "       [0.20555256],\n",
       "       [0.17126074],\n",
       "       [0.17067617],\n",
       "       [0.15353026],\n",
       "       [0.16496087],\n",
       "       [0.20555256],\n",
       "       [0.11352314],\n",
       "       [0.13125363],\n",
       "       [0.19353738],\n",
       "       [0.17697605],\n",
       "       [0.12495375],\n",
       "       [0.19412195],\n",
       "       [0.13638436],\n",
       "       [0.14209966],\n",
       "       [0.18210678],\n",
       "       [0.15983014],\n",
       "       [0.15353026],\n",
       "       [0.15983014],\n",
       "       [0.17067617],\n",
       "       [0.22841377],\n",
       "       [0.15411484],\n",
       "       [0.17126074],\n",
       "       [0.16554544],\n",
       "       [0.21698316],\n",
       "       [0.12495375],\n",
       "       [0.11352314],\n",
       "       [0.17126074],\n",
       "       [0.14839953],\n",
       "       [0.10209254],\n",
       "       [0.12495375],\n",
       "       [0.13696893],\n",
       "       [0.15353026],\n",
       "       [0.14268423],\n",
       "       [0.18840665],\n",
       "       [0.12495375],\n",
       "       [0.13066905],\n",
       "       [0.12495375],\n",
       "       [0.14839953],\n",
       "       [0.15924557],\n",
       "       [0.14781496],\n",
       "       [0.13066905],\n",
       "       [0.14209966],\n",
       "       [0.10209254],\n",
       "       [0.09066193],\n",
       "       [0.14209966],\n",
       "       [0.17639147],\n",
       "       [0.12495375],\n",
       "       [0.13066905],\n",
       "       [0.10780784],\n",
       "       [0.18269135],\n",
       "       [0.14839953],\n",
       "       [0.11352314],\n",
       "       [0.21126786],\n",
       "       [0.18840665],\n",
       "       [0.15924557],\n",
       "       [0.18782208],\n",
       "       [0.13066905],\n",
       "       [0.16554544],\n",
       "       [0.12495375],\n",
       "       [0.15983014],\n",
       "       [0.13638436],\n",
       "       [0.15353026],\n",
       "       [0.13066905],\n",
       "       [0.14781496],\n",
       "       [0.14781496],\n",
       "       [0.20555256],\n",
       "       [0.19925268],\n",
       "       [0.11352314],\n",
       "       [0.22841377],\n",
       "       [0.13638436],\n",
       "       [0.13066905],\n",
       "       [0.09637724],\n",
       "       [0.16496087],\n",
       "       [0.11923845],\n",
       "       [0.19983726],\n",
       "       [0.15353026],\n",
       "       [0.15924557],\n",
       "       [0.18210678],\n",
       "       [0.16554544],\n",
       "       [0.15411484],\n",
       "       [0.18269135],\n",
       "       [0.15411484],\n",
       "       [0.14781496],\n",
       "       [0.17067617],\n",
       "       [0.15411484],\n",
       "       [0.13066905],\n",
       "       [0.14268423],\n",
       "       [0.18269135],\n",
       "       [0.11923845],\n",
       "       [0.15353026],\n",
       "       [0.18269135],\n",
       "       [0.17126074],\n",
       "       [0.19412195],\n",
       "       [0.11352314],\n",
       "       [0.15411484],\n",
       "       [0.17126074],\n",
       "       [0.14781496],\n",
       "       [0.17639147],\n",
       "       [0.15353026],\n",
       "       [0.10780784],\n",
       "       [0.20496799],\n",
       "       [0.15353026],\n",
       "       [0.15924557],\n",
       "       [0.18269135],\n",
       "       [0.13066905],\n",
       "       [0.15411484],\n",
       "       [0.12495375],\n",
       "       [0.13638436],\n",
       "       [0.14781496],\n",
       "       [0.14781496],\n",
       "       [0.15983014],\n",
       "       [0.11352314],\n",
       "       [0.14781496],\n",
       "       [0.17126074],\n",
       "       [0.16496087],\n",
       "       [0.16496087],\n",
       "       [0.18210678],\n",
       "       [0.17697605],\n",
       "       [0.14781496],\n",
       "       [0.19412195],\n",
       "       [0.18269135],\n",
       "       [0.13696893],\n",
       "       [0.14781496],\n",
       "       [0.13638436],\n",
       "       [0.17639147],\n",
       "       [0.17067617],\n",
       "       [0.14781496],\n",
       "       [0.15983014],\n",
       "       [0.17067617],\n",
       "       [0.19925268],\n",
       "       [0.19925268],\n",
       "       [0.18269135],\n",
       "       [0.14268423],\n",
       "       [0.14781496],\n",
       "       [0.15983014],\n",
       "       [0.18782208],\n",
       "       [0.17126074],\n",
       "       [0.14209966],\n",
       "       [0.13638436],\n",
       "       [0.13066905],\n",
       "       [0.18782208],\n",
       "       [0.16554544],\n",
       "       [0.16554544],\n",
       "       [0.19983726],\n",
       "       [0.17126074],\n",
       "       [0.11923845],\n",
       "       [0.16554544],\n",
       "       [0.10209254],\n",
       "       [0.15924557],\n",
       "       [0.16554544],\n",
       "       [0.14268423],\n",
       "       [0.12495375],\n",
       "       [0.16496087],\n",
       "       [0.20496799],\n",
       "       [0.19412195],\n",
       "       [0.13638436],\n",
       "       [0.20555256],\n",
       "       [0.13638436],\n",
       "       [0.14781496],\n",
       "       [0.12495375],\n",
       "       [0.15353026],\n",
       "       [0.15411484],\n",
       "       [0.12495375],\n",
       "       [0.16554544],\n",
       "       [0.19353738],\n",
       "       [0.13066905],\n",
       "       [0.15411484],\n",
       "       [0.14268423],\n",
       "       [0.17697605],\n",
       "       [0.14781496],\n",
       "       [0.12495375],\n",
       "       [0.15353026],\n",
       "       [0.12495375],\n",
       "       [0.13066905],\n",
       "       [0.15411484],\n",
       "       [0.17067617],\n",
       "       [0.17697605],\n",
       "       [0.16554544],\n",
       "       [0.15411484],\n",
       "       [0.14209966],\n",
       "       [0.13638436],\n",
       "       [0.11923845],\n",
       "       [0.20496799],\n",
       "       [0.17067617],\n",
       "       [0.18269135],\n",
       "       [0.20555256],\n",
       "       [0.11352314],\n",
       "       [0.13638436],\n",
       "       [0.18840665],\n",
       "       [0.14268423],\n",
       "       [0.11352314],\n",
       "       [0.15924557],\n",
       "       [0.16554544],\n",
       "       [0.19412195],\n",
       "       [0.15353026],\n",
       "       [0.16496087],\n",
       "       [0.16554544],\n",
       "       [0.13638436],\n",
       "       [0.15411484],\n",
       "       [0.10209254],\n",
       "       [0.13638436],\n",
       "       [0.18269135],\n",
       "       [0.18782208],\n",
       "       [0.10780784],\n",
       "       [0.15353026],\n",
       "       [0.15411484],\n",
       "       [0.21698316],\n",
       "       [0.14268423],\n",
       "       [0.14781496],\n",
       "       [0.16496087],\n",
       "       [0.16554544],\n",
       "       [0.11923845],\n",
       "       [0.19925268],\n",
       "       [0.18269135],\n",
       "       [0.19412195],\n",
       "       [0.17126074],\n",
       "       [0.16554544],\n",
       "       [0.11923845],\n",
       "       [0.18782208],\n",
       "       [0.17126074],\n",
       "       [0.17126074],\n",
       "       [0.17639147],\n",
       "       [0.21126786],\n",
       "       [0.18840665],\n",
       "       [0.17697605],\n",
       "       [0.11923845],\n",
       "       [0.16496087],\n",
       "       [0.15983014],\n",
       "       [0.17126074],\n",
       "       [0.11923845],\n",
       "       [0.17126074],\n",
       "       [0.13066905],\n",
       "       [0.16496087],\n",
       "       [0.17126074],\n",
       "       [0.17697605],\n",
       "       [0.17126074],\n",
       "       [0.15983014],\n",
       "       [0.14268423],\n",
       "       [0.17697605],\n",
       "       [0.25127498],\n",
       "       [0.13066905],\n",
       "       [0.11923845],\n",
       "       [0.20555256],\n",
       "       [0.11352314],\n",
       "       [0.11923845],\n",
       "       [0.16496087],\n",
       "       [0.17126074],\n",
       "       [0.15411484],\n",
       "       [0.16554544],\n",
       "       [0.10209254],\n",
       "       [0.15924557],\n",
       "       [0.13066905],\n",
       "       [0.14209966],\n",
       "       [0.15924557],\n",
       "       [0.17697605],\n",
       "       [0.10780784],\n",
       "       [0.14209966],\n",
       "       [0.17067617],\n",
       "       [0.14209966],\n",
       "       [0.17639147],\n",
       "       [0.15353026],\n",
       "       [0.14781496],\n",
       "       [0.15411484],\n",
       "       [0.15411484],\n",
       "       [0.15983014],\n",
       "       [0.18782208],\n",
       "       [0.14781496],\n",
       "       [0.18782208],\n",
       "       [0.14209966],\n",
       "       [0.12495375],\n",
       "       [0.13066905],\n",
       "       [0.10780784],\n",
       "       [0.14781496],\n",
       "       [0.18269135],\n",
       "       [0.10780784],\n",
       "       [0.15983014],\n",
       "       [0.14781496],\n",
       "       [0.17126074],\n",
       "       [0.21126786],\n",
       "       [0.15353026],\n",
       "       [0.10209254],\n",
       "       [0.13638436],\n",
       "       [0.15924557],\n",
       "       [0.18269135],\n",
       "       [0.15353026],\n",
       "       [0.12495375],\n",
       "       [0.18840665],\n",
       "       [0.17126074],\n",
       "       [0.18269135],\n",
       "       [0.15353026],\n",
       "       [0.18840665],\n",
       "       [0.10209254],\n",
       "       [0.18269135],\n",
       "       [0.14781496],\n",
       "       [0.13638436],\n",
       "       [0.17639147],\n",
       "       [0.11923845],\n",
       "       [0.16554544],\n",
       "       [0.17697605],\n",
       "       [0.13066905],\n",
       "       [0.09637724],\n",
       "       [0.14781496],\n",
       "       [0.19353738],\n",
       "       [0.14781496],\n",
       "       [0.13638436],\n",
       "       [0.15983014],\n",
       "       [0.14839953],\n",
       "       [0.16554544],\n",
       "       [0.16496087],\n",
       "       [0.16496087],\n",
       "       [0.23412907],\n",
       "       [0.13638436],\n",
       "       [0.12495375],\n",
       "       [0.11923845],\n",
       "       [0.15353026],\n",
       "       [0.10780784],\n",
       "       [0.13066905],\n",
       "       [0.10209254],\n",
       "       [0.17126074],\n",
       "       [0.18840665],\n",
       "       [0.13066905],\n",
       "       [0.17697605],\n",
       "       [0.11923845],\n",
       "       [0.19412195],\n",
       "       [0.13638436],\n",
       "       [0.12495375],\n",
       "       [0.13066905],\n",
       "       [0.13066905],\n",
       "       [0.13066905],\n",
       "       [0.10780784],\n",
       "       [0.15353026],\n",
       "       [0.13066905],\n",
       "       [0.17697605],\n",
       "       [0.15924557],\n",
       "       [0.14781496],\n",
       "       [0.13638436],\n",
       "       [0.14781496],\n",
       "       [0.18840665],\n",
       "       [0.21126786],\n",
       "       [0.17126074],\n",
       "       [0.12495375],\n",
       "       [0.11352314],\n",
       "       [0.15353026],\n",
       "       [0.13066905],\n",
       "       [0.20555256],\n",
       "       [0.15353026],\n",
       "       [0.15353026],\n",
       "       [0.16554544],\n",
       "       [0.14209966],\n",
       "       [0.15983014],\n",
       "       [0.12495375],\n",
       "       [0.14209966],\n",
       "       [0.16496087],\n",
       "       [0.16554544],\n",
       "       [0.13638436],\n",
       "       [0.19353738],\n",
       "       [0.16496087],\n",
       "       [0.17639147],\n",
       "       [0.19412195],\n",
       "       [0.14209966],\n",
       "       [0.22269847],\n",
       "       [0.10209254],\n",
       "       [0.11923845],\n",
       "       [0.12495375],\n",
       "       [0.14781496],\n",
       "       [0.16554544],\n",
       "       [0.15983014],\n",
       "       [0.13066905],\n",
       "       [0.20555256],\n",
       "       [0.17126074],\n",
       "       [0.15411484],\n",
       "       [0.10209254],\n",
       "       [0.18269135],\n",
       "       [0.22269847],\n",
       "       [0.13066905],\n",
       "       [0.15353026],\n",
       "       [0.19983726],\n",
       "       [0.13638436],\n",
       "       [0.13638436],\n",
       "       [0.15411484],\n",
       "       [0.14781496],\n",
       "       [0.17697605],\n",
       "       [0.13066905],\n",
       "       [0.13066905],\n",
       "       [0.21126786],\n",
       "       [0.16554544],\n",
       "       [0.13638436],\n",
       "       [0.17126074],\n",
       "       [0.18269135],\n",
       "       [0.19983726],\n",
       "       [0.15983014],\n",
       "       [0.17126074],\n",
       "       [0.10780784],\n",
       "       [0.14209966],\n",
       "       [0.15353026],\n",
       "       [0.15983014],\n",
       "       [0.12495375],\n",
       "       [0.15353026],\n",
       "       [0.15924557],\n",
       "       [0.13066905],\n",
       "       [0.20555256],\n",
       "       [0.14209966],\n",
       "       [0.16554544],\n",
       "       [0.11923845],\n",
       "       [0.10780784],\n",
       "       [0.11352314],\n",
       "       [0.20555256],\n",
       "       [0.17126074],\n",
       "       [0.14781496],\n",
       "       [0.15983014],\n",
       "       [0.21126786],\n",
       "       [0.17126074],\n",
       "       [0.12495375],\n",
       "       [0.20555256],\n",
       "       [0.13066905],\n",
       "       [0.17126074],\n",
       "       [0.11923845],\n",
       "       [0.14839953],\n",
       "       [0.17697605],\n",
       "       [0.15983014],\n",
       "       [0.19412195],\n",
       "       [0.12495375],\n",
       "       [0.14781496],\n",
       "       [0.17126074],\n",
       "       [0.19983726],\n",
       "       [0.10780784],\n",
       "       [0.13066905],\n",
       "       [0.14209966],\n",
       "       [0.16496087],\n",
       "       [0.15411484],\n",
       "       [0.15983014],\n",
       "       [0.17126074],\n",
       "       [0.14781496],\n",
       "       [0.13638436],\n",
       "       [0.17126074],\n",
       "       [0.16496087],\n",
       "       [0.15411484],\n",
       "       [0.11352314],\n",
       "       [0.18840665],\n",
       "       [0.17067617],\n",
       "       [0.15411484],\n",
       "       [0.11923845],\n",
       "       [0.17697605],\n",
       "       [0.10780784],\n",
       "       [0.18269135],\n",
       "       [0.15353026],\n",
       "       [0.15353026],\n",
       "       [0.14781496],\n",
       "       [0.11923845],\n",
       "       [0.13638436],\n",
       "       [0.14209966],\n",
       "       [0.19353738],\n",
       "       [0.13066905],\n",
       "       [0.13125363],\n",
       "       [0.17126074],\n",
       "       [0.14209966],\n",
       "       [0.20496799],\n",
       "       [0.17697605],\n",
       "       [0.15924557],\n",
       "       [0.15983014],\n",
       "       [0.19412195],\n",
       "       [0.18269135],\n",
       "       [0.13066905],\n",
       "       [0.17697605],\n",
       "       [0.17697605],\n",
       "       [0.17697605],\n",
       "       [0.14781496],\n",
       "       [0.15983014],\n",
       "       [0.18840665],\n",
       "       [0.14781496],\n",
       "       [0.15924557],\n",
       "       [0.21698316],\n",
       "       [0.10209254],\n",
       "       [0.22841377],\n",
       "       [0.19983726],\n",
       "       [0.23412907],\n",
       "       [0.18210678],\n",
       "       [0.15353026],\n",
       "       [0.16496087],\n",
       "       [0.15353026],\n",
       "       [0.20555256],\n",
       "       [0.21126786],\n",
       "       [0.17126074],\n",
       "       [0.11352314],\n",
       "       [0.16554544],\n",
       "       [0.15924557],\n",
       "       [0.14209966],\n",
       "       [0.16554544],\n",
       "       [0.15924557],\n",
       "       [0.13066905],\n",
       "       [0.10209254],\n",
       "       [0.21698316],\n",
       "       [0.18782208],\n",
       "       [0.14209966],\n",
       "       [0.23984438],\n",
       "       [0.19412195],\n",
       "       [0.20496799],\n",
       "       [0.13638436],\n",
       "       [0.15983014],\n",
       "       [0.11352314],\n",
       "       [0.19983726],\n",
       "       [0.13066905],\n",
       "       [0.15983014],\n",
       "       [0.11352314],\n",
       "       [0.10780784],\n",
       "       [0.14781496],\n",
       "       [0.13638436],\n",
       "       [0.13066905],\n",
       "       [0.17697605],\n",
       "       [0.14839953],\n",
       "       [0.17126074],\n",
       "       [0.19925268],\n",
       "       [0.19353738],\n",
       "       [0.18269135],\n",
       "       [0.11352314],\n",
       "       [0.14781496],\n",
       "       [0.16496087],\n",
       "       [0.16554544],\n",
       "       [0.11923845],\n",
       "       [0.14209966],\n",
       "       [0.14781496],\n",
       "       [0.12495375],\n",
       "       [0.11923845],\n",
       "       [0.14781496],\n",
       "       [0.12495375],\n",
       "       [0.15983014],\n",
       "       [0.17639147],\n",
       "       [0.15924557],\n",
       "       [0.14839953],\n",
       "       [0.18782208],\n",
       "       [0.14268423],\n",
       "       [0.18782208]])"
      ]
     },
     "execution_count": 91,
     "metadata": {},
     "output_type": "execute_result"
    }
   ],
   "source": [
    "pls_model.predict(X_train)"
   ]
  },
  {
   "cell_type": "code",
   "execution_count": 92,
   "id": "3caaf27c",
   "metadata": {},
   "outputs": [
    {
     "data": {
      "text/plain": [
       "0.5879799347067083"
      ]
     },
     "execution_count": 92,
     "metadata": {},
     "output_type": "execute_result"
    }
   ],
   "source": [
    "from sklearn.metrics import mean_squared_error, r2_score\n",
    "y_pred = pls_model.predict(X_train)\n",
    "np.sqrt(mean_squared_error(y_train, y_pred))"
   ]
  },
  {
   "cell_type": "code",
   "execution_count": 93,
   "id": "f2fe943f",
   "metadata": {},
   "outputs": [
    {
     "data": {
      "text/plain": [
       "0.0024304387887210677"
      ]
     },
     "execution_count": 93,
     "metadata": {},
     "output_type": "execute_result"
    }
   ],
   "source": [
    "r2_score(y_train, y_pred)"
   ]
  },
  {
   "cell_type": "code",
   "execution_count": 94,
   "id": "9750811c",
   "metadata": {},
   "outputs": [
    {
     "data": {
      "text/plain": [
       "0.5721450462258648"
      ]
     },
     "execution_count": 94,
     "metadata": {},
     "output_type": "execute_result"
    }
   ],
   "source": [
    "y_pred = pls_model.predict(X_test)\n",
    "np.sqrt(mean_squared_error(y_test, y_pred))\n"
   ]
  },
  {
   "cell_type": "markdown",
   "id": "b7a16091",
   "metadata": {},
   "source": [
    "Model Tuning"
   ]
  },
  {
   "cell_type": "code",
   "execution_count": 95,
   "id": "6940961e",
   "metadata": {},
   "outputs": [
    {
     "data": {
      "image/png": "[encoded data removed]",
      "text/plain": [
       "<Figure size 432x288 with 1 Axes>"
      ]
     },
     "metadata": {
      "needs_background": "light"
     },
     "output_type": "display_data"
    }
   ],
   "source": [
    "#CV\n",
    "cv_10 = model_selection.KFold(n_splits=10, shuffle=True, random_state=1)\n",
    "\n",
    "#Hata hesaplamak için döngü\n",
    "RMSE = []\n",
    "\n",
    "for i in np.arange(1, X_train.shape[1] + 1):\n",
    "    pls = PLSRegression(n_components=i)\n",
    "    score = np.sqrt(-1*cross_val_score(pls, X_train, y_train, cv=cv_10, scoring='neg_mean_squared_error').mean())\n",
    "    RMSE.append(score)\n",
    "\n",
    "#Sonuçların Görselleştirilmesi\n",
    "import matplotlib.pyplot as plt\n",
    "plt.plot(np.arange(1, X_train.shape[1] + 1), np.array(RMSE), '-v', c = \"r\")\n",
    "plt.xlabel('Bileşen Sayısı')\n",
    "plt.ylabel('RMSE')\n",
    "plt.title('Medal');"
   ]
  },
  {
   "cell_type": "code",
   "execution_count": 96,
   "id": "cc16605b",
   "metadata": {},
   "outputs": [],
   "source": [
    "pls_model = PLSRegression(n_components = 2).fit(X_train, y_train)"
   ]
  },
  {
   "cell_type": "code",
   "execution_count": 97,
   "id": "f2647b07",
   "metadata": {},
   "outputs": [],
   "source": [
    "y_pred = pls_model.predict(X_test)"
   ]
  },
  {
   "cell_type": "code",
   "execution_count": 98,
   "id": "f44cec4c",
   "metadata": {},
   "outputs": [
    {
     "data": {
      "text/plain": [
       "0.5721450462258648"
      ]
     },
     "execution_count": 98,
     "metadata": {},
     "output_type": "execute_result"
    }
   ],
   "source": [
    "np.sqrt(mean_squared_error(y_test, y_pred))"
   ]
  },
  {
   "cell_type": "markdown",
   "id": "06a1e0ac",
   "metadata": {},
   "source": [
    "### 1.5. Ridge Regresyon"
   ]
  },
  {
   "cell_type": "code",
   "execution_count": 99,
   "id": "d2a1918e",
   "metadata": {},
   "outputs": [],
   "source": [
    "from sklearn.model_selection import train_test_split, cross_val_score, cross_val_predict\n",
    "X = df.drop(df.columns[[0,3,4,5]], axis = 1)\n",
    "y = df[\"Medal\"]\n",
    "X_train, X_test, y_train, y_test = train_test_split(X, y, test_size=0.25, random_state=42)\n",
    "training = df.copy()"
   ]
  },
  {
   "cell_type": "code",
   "execution_count": 100,
   "id": "d74344f3",
   "metadata": {},
   "outputs": [
    {
     "data": {
      "text/plain": [
       "Ridge(alpha=0.1)"
      ]
     },
     "execution_count": 100,
     "metadata": {},
     "output_type": "execute_result"
    }
   ],
   "source": [
    "from sklearn.linear_model import Ridge\n",
    "#alpha=lambda\n",
    "ridge_model = Ridge(alpha = 0.1).fit(X_train, y_train)\n",
    "ridge_model"
   ]
  },
  {
   "cell_type": "code",
   "execution_count": 101,
   "id": "4b82ad59",
   "metadata": {},
   "outputs": [
    {
     "data": {
      "text/plain": [
       "array([-0.04628273,  0.00571456])"
      ]
     },
     "execution_count": 101,
     "metadata": {},
     "output_type": "execute_result"
    }
   ],
   "source": [
    "ridge_model.coef_"
   ]
  },
  {
   "cell_type": "code",
   "execution_count": 102,
   "id": "72db7dde",
   "metadata": {},
   "outputs": [
    {
     "data": {
      "image/png": "[encoded data removed]",
      "text/plain": [
       "<Figure size 432x288 with 1 Axes>"
      ]
     },
     "metadata": {
      "needs_background": "light"
     },
     "output_type": "display_data"
    }
   ],
   "source": [
    "#belirlenen aralıkta lambda değerleri oluşturuyoruz\n",
    "lambdalar = 10**np.linspace(10,-2,100)*0.5 \n",
    "\n",
    "ridge_model = Ridge()\n",
    "katsayilar = []\n",
    "\n",
    "for i in lambdalar:\n",
    "    ridge_model.set_params(alpha = i)\n",
    "    ridge_model.fit(X_train, y_train) \n",
    "    katsayilar.append(ridge_model.coef_) \n",
    "    \n",
    "\n",
    "import matplotlib.pyplot as plt    \n",
    "ax = plt.gca()\n",
    "ax.plot(lambdalar, katsayilar) \n",
    "ax.set_xscale('log') \n",
    "\n",
    "plt.xlabel('Lambda(Alpha) Değerleri')\n",
    "plt.ylabel('Katsayılar/Ağırlıklar')\n",
    "plt.title('Düzenlileştirmenin Bir Fonksiyonu Olarak Ridge Katsayıları');"
   ]
  },
  {
   "cell_type": "markdown",
   "id": "0f63c6a2",
   "metadata": {},
   "source": [
    "Tahmin"
   ]
  },
  {
   "cell_type": "code",
   "execution_count": 103,
   "id": "e9d6bd00",
   "metadata": {},
   "outputs": [],
   "source": [
    "y_pred = ridge_model.predict(X_test)"
   ]
  },
  {
   "cell_type": "code",
   "execution_count": 104,
   "id": "e110844f",
   "metadata": {},
   "outputs": [
    {
     "data": {
      "text/plain": [
       "0.5721450467055695"
      ]
     },
     "execution_count": 104,
     "metadata": {},
     "output_type": "execute_result"
    }
   ],
   "source": [
    "from sklearn.metrics import mean_squared_error, r2_score\n",
    "np.sqrt(mean_squared_error(y_test, y_pred))"
   ]
  },
  {
   "cell_type": "markdown",
   "id": "cde02dec",
   "metadata": {},
   "source": [
    "Model Tuning"
   ]
  },
  {
   "cell_type": "code",
   "execution_count": 105,
   "id": "854b7842",
   "metadata": {},
   "outputs": [
    {
     "data": {
      "text/plain": [
       "array([5.00000000e+09, 3.78231664e+09, 2.86118383e+09, 2.16438064e+09,\n",
       "       1.63727458e+09])"
      ]
     },
     "execution_count": 105,
     "metadata": {},
     "output_type": "execute_result"
    }
   ],
   "source": [
    "lambdalar = 10**np.linspace(10,-2,100)*0.5 \n",
    "lambdalar[0:5]"
   ]
  },
  {
   "cell_type": "code",
   "execution_count": 106,
   "id": "4a30d8ea",
   "metadata": {},
   "outputs": [
    {
     "data": {
      "text/plain": [
       "RidgeCV(alphas=array([5.00000000e+09, 3.78231664e+09, 2.86118383e+09, 2.16438064e+09,\n",
       "       1.63727458e+09, 1.23853818e+09, 9.36908711e+08, 7.08737081e+08,\n",
       "       5.36133611e+08, 4.05565415e+08, 3.06795364e+08, 2.32079442e+08,\n",
       "       1.75559587e+08, 1.32804389e+08, 1.00461650e+08, 7.59955541e+07,\n",
       "       5.74878498e+07, 4.34874501e+07, 3.28966612e+07, 2.48851178e+07,\n",
       "       1.88246790e+07, 1.42401793e+0...\n",
       "       1.00461650e+00, 7.59955541e-01, 5.74878498e-01, 4.34874501e-01,\n",
       "       3.28966612e-01, 2.48851178e-01, 1.88246790e-01, 1.42401793e-01,\n",
       "       1.07721735e-01, 8.14875417e-02, 6.16423370e-02, 4.66301673e-02,\n",
       "       3.52740116e-02, 2.66834962e-02, 2.01850863e-02, 1.52692775e-02,\n",
       "       1.15506485e-02, 8.73764200e-03, 6.60970574e-03, 5.00000000e-03]),\n",
       "        normalize=True, scoring='neg_mean_squared_error')"
      ]
     },
     "execution_count": 106,
     "metadata": {},
     "output_type": "execute_result"
    }
   ],
   "source": [
    "from sklearn.linear_model import RidgeCV\n",
    "ridge_cv = RidgeCV(alphas = lambdalar, \n",
    "                   scoring = \"neg_mean_squared_error\",\n",
    "                   normalize = True)\n",
    "ridge_cv.fit(X_train, y_train)"
   ]
  },
  {
   "cell_type": "code",
   "execution_count": 107,
   "id": "a999409f",
   "metadata": {},
   "outputs": [
    {
     "data": {
      "text/plain": [
       "5000000000.0"
      ]
     },
     "execution_count": 107,
     "metadata": {},
     "output_type": "execute_result"
    }
   ],
   "source": [
    "#optimum lambda değerini bulduk\n",
    "ridge_cv.alpha_"
   ]
  },
  {
   "cell_type": "code",
   "execution_count": 108,
   "id": "1162eccf",
   "metadata": {},
   "outputs": [],
   "source": [
    "ridge_tuned = Ridge(alpha = ridge_cv.alpha_, \n",
    "                   normalize = True).fit(X_train,y_train)"
   ]
  },
  {
   "cell_type": "code",
   "execution_count": 109,
   "id": "4d176f65",
   "metadata": {},
   "outputs": [
    {
     "data": {
      "text/plain": [
       "0.5718772025205747"
      ]
     },
     "execution_count": 109,
     "metadata": {},
     "output_type": "execute_result"
    }
   ],
   "source": [
    "np.sqrt(mean_squared_error(y_test, ridge_tuned.predict(X_test)))"
   ]
  },
  {
   "cell_type": "markdown",
   "id": "ecb96de6",
   "metadata": {},
   "source": [
    "### 1.6. Lasso Regresyon"
   ]
  },
  {
   "cell_type": "code",
   "execution_count": 110,
   "id": "c248e913",
   "metadata": {},
   "outputs": [],
   "source": [
    "from sklearn.model_selection import train_test_split, cross_val_score, cross_val_predict\n",
    "X = df.drop(df.columns[[0,3,4,5]], axis = 1)\n",
    "y = df[\"Medal\"]\n",
    "X_train, X_test, y_train, y_test = train_test_split(X, y, test_size=0.25, random_state=42)\n",
    "training = df.copy()"
   ]
  },
  {
   "cell_type": "code",
   "execution_count": 111,
   "id": "1bfbb9f1",
   "metadata": {},
   "outputs": [
    {
     "data": {
      "text/plain": [
       "Lasso(alpha=0.1)"
      ]
     },
     "execution_count": 111,
     "metadata": {},
     "output_type": "execute_result"
    }
   ],
   "source": [
    "from sklearn.linear_model import Lasso\n",
    "lasso_model = Lasso(alpha = 0.1).fit(X_train, y_train)\n",
    "lasso_model"
   ]
  },
  {
   "cell_type": "code",
   "execution_count": 112,
   "id": "a1526ab1",
   "metadata": {},
   "outputs": [
    {
     "data": {
      "text/plain": [
       "array([-0.,  0.])"
      ]
     },
     "execution_count": 112,
     "metadata": {},
     "output_type": "execute_result"
    }
   ],
   "source": [
    "lasso_model.coef_"
   ]
  },
  {
   "cell_type": "code",
   "execution_count": 113,
   "id": "fc70addd",
   "metadata": {},
   "outputs": [
    {
     "data": {
      "text/plain": [
       "Text(0, 0.5, 'weights')"
      ]
     },
     "execution_count": 113,
     "metadata": {},
     "output_type": "execute_result"
    },
    {
     "data": {
      "image/png": "[encoded data removed]",
      "text/plain": [
       "<Figure size 432x288 with 1 Axes>"
      ]
     },
     "metadata": {
      "needs_background": "light"
     },
     "output_type": "display_data"
    }
   ],
   "source": [
    "lasso = Lasso()\n",
    "lambdalar = 10**np.linspace(10,-2,100)*0.5 \n",
    "katsayilar = []\n",
    "\n",
    "for i in lambdalar:\n",
    "    lasso.set_params(alpha=i)\n",
    "    lasso.fit(X_train, y_train)\n",
    "    katsayilar.append(lasso.coef_)\n",
    "  \n",
    "import matplotlib.pyplot as plt  \n",
    "ax = plt.gca()\n",
    "ax.plot(lambdalar*2, katsayilar)\n",
    "ax.set_xscale('log')\n",
    "plt.axis('tight')\n",
    "plt.xlabel('alpha')\n",
    "plt.ylabel('weights')"
   ]
  },
  {
   "cell_type": "markdown",
   "id": "909eac36",
   "metadata": {},
   "source": [
    "Tahmin"
   ]
  },
  {
   "cell_type": "code",
   "execution_count": 114,
   "id": "894af9d6",
   "metadata": {},
   "outputs": [
    {
     "data": {
      "text/plain": [
       "array([0.15555556, 0.15555556, 0.15555556, 0.15555556, 0.15555556,\n",
       "       0.15555556, 0.15555556, 0.15555556, 0.15555556, 0.15555556,\n",
       "       0.15555556, 0.15555556, 0.15555556, 0.15555556, 0.15555556,\n",
       "       0.15555556, 0.15555556, 0.15555556, 0.15555556, 0.15555556,\n",
       "       0.15555556, 0.15555556, 0.15555556, 0.15555556, 0.15555556,\n",
       "       0.15555556, 0.15555556, 0.15555556, 0.15555556, 0.15555556,\n",
       "       0.15555556, 0.15555556, 0.15555556, 0.15555556, 0.15555556,\n",
       "       0.15555556, 0.15555556, 0.15555556, 0.15555556, 0.15555556,\n",
       "       0.15555556, 0.15555556, 0.15555556, 0.15555556, 0.15555556,\n",
       "       0.15555556, 0.15555556, 0.15555556, 0.15555556, 0.15555556,\n",
       "       0.15555556, 0.15555556, 0.15555556, 0.15555556, 0.15555556,\n",
       "       0.15555556, 0.15555556, 0.15555556, 0.15555556, 0.15555556,\n",
       "       0.15555556, 0.15555556, 0.15555556, 0.15555556, 0.15555556,\n",
       "       0.15555556, 0.15555556, 0.15555556, 0.15555556, 0.15555556,\n",
       "       0.15555556, 0.15555556, 0.15555556, 0.15555556, 0.15555556,\n",
       "       0.15555556, 0.15555556, 0.15555556, 0.15555556, 0.15555556,\n",
       "       0.15555556, 0.15555556, 0.15555556, 0.15555556, 0.15555556,\n",
       "       0.15555556, 0.15555556, 0.15555556, 0.15555556, 0.15555556,\n",
       "       0.15555556, 0.15555556, 0.15555556, 0.15555556, 0.15555556,\n",
       "       0.15555556, 0.15555556, 0.15555556, 0.15555556, 0.15555556,\n",
       "       0.15555556, 0.15555556, 0.15555556, 0.15555556, 0.15555556,\n",
       "       0.15555556, 0.15555556, 0.15555556, 0.15555556, 0.15555556,\n",
       "       0.15555556, 0.15555556, 0.15555556, 0.15555556, 0.15555556,\n",
       "       0.15555556, 0.15555556, 0.15555556, 0.15555556, 0.15555556,\n",
       "       0.15555556, 0.15555556, 0.15555556, 0.15555556, 0.15555556,\n",
       "       0.15555556, 0.15555556, 0.15555556, 0.15555556, 0.15555556,\n",
       "       0.15555556, 0.15555556, 0.15555556, 0.15555556, 0.15555556,\n",
       "       0.15555556, 0.15555556, 0.15555556, 0.15555556, 0.15555556,\n",
       "       0.15555556, 0.15555556, 0.15555556, 0.15555556, 0.15555556,\n",
       "       0.15555556, 0.15555556, 0.15555556, 0.15555556, 0.15555556,\n",
       "       0.15555556, 0.15555556, 0.15555556, 0.15555556, 0.15555556,\n",
       "       0.15555556, 0.15555556, 0.15555556, 0.15555556, 0.15555556,\n",
       "       0.15555556, 0.15555556, 0.15555556, 0.15555556, 0.15555556,\n",
       "       0.15555556, 0.15555556, 0.15555556, 0.15555556, 0.15555556,\n",
       "       0.15555556, 0.15555556, 0.15555556, 0.15555556, 0.15555556,\n",
       "       0.15555556, 0.15555556, 0.15555556, 0.15555556, 0.15555556,\n",
       "       0.15555556, 0.15555556, 0.15555556, 0.15555556, 0.15555556,\n",
       "       0.15555556, 0.15555556, 0.15555556, 0.15555556, 0.15555556,\n",
       "       0.15555556, 0.15555556, 0.15555556, 0.15555556, 0.15555556,\n",
       "       0.15555556, 0.15555556, 0.15555556, 0.15555556, 0.15555556,\n",
       "       0.15555556, 0.15555556, 0.15555556, 0.15555556, 0.15555556,\n",
       "       0.15555556, 0.15555556, 0.15555556, 0.15555556, 0.15555556,\n",
       "       0.15555556, 0.15555556, 0.15555556, 0.15555556, 0.15555556,\n",
       "       0.15555556, 0.15555556, 0.15555556, 0.15555556, 0.15555556,\n",
       "       0.15555556, 0.15555556, 0.15555556, 0.15555556, 0.15555556,\n",
       "       0.15555556, 0.15555556, 0.15555556, 0.15555556, 0.15555556,\n",
       "       0.15555556, 0.15555556, 0.15555556, 0.15555556, 0.15555556,\n",
       "       0.15555556, 0.15555556, 0.15555556, 0.15555556, 0.15555556,\n",
       "       0.15555556, 0.15555556, 0.15555556, 0.15555556, 0.15555556,\n",
       "       0.15555556, 0.15555556, 0.15555556, 0.15555556, 0.15555556,\n",
       "       0.15555556, 0.15555556, 0.15555556, 0.15555556, 0.15555556,\n",
       "       0.15555556, 0.15555556, 0.15555556, 0.15555556, 0.15555556,\n",
       "       0.15555556, 0.15555556, 0.15555556, 0.15555556, 0.15555556,\n",
       "       0.15555556, 0.15555556, 0.15555556, 0.15555556, 0.15555556,\n",
       "       0.15555556, 0.15555556, 0.15555556, 0.15555556, 0.15555556,\n",
       "       0.15555556, 0.15555556, 0.15555556, 0.15555556, 0.15555556,\n",
       "       0.15555556, 0.15555556, 0.15555556, 0.15555556, 0.15555556])"
      ]
     },
     "execution_count": 114,
     "metadata": {},
     "output_type": "execute_result"
    }
   ],
   "source": [
    "lasso_model.predict(X_test)"
   ]
  },
  {
   "cell_type": "code",
   "execution_count": 115,
   "id": "ae785db9",
   "metadata": {},
   "outputs": [
    {
     "data": {
      "text/plain": [
       "0.5718772025206399"
      ]
     },
     "execution_count": 115,
     "metadata": {},
     "output_type": "execute_result"
    }
   ],
   "source": [
    "y_pred = lasso_model.predict(X_test)\n",
    "np.sqrt(mean_squared_error(y_test, y_pred))"
   ]
  },
  {
   "cell_type": "markdown",
   "id": "77686205",
   "metadata": {},
   "source": [
    "Model Tuning"
   ]
  },
  {
   "cell_type": "code",
   "execution_count": 116,
   "id": "ba48f0e8",
   "metadata": {},
   "outputs": [],
   "source": [
    "from sklearn.linear_model import LassoCV"
   ]
  },
  {
   "cell_type": "code",
   "execution_count": 117,
   "id": "15228307",
   "metadata": {},
   "outputs": [],
   "source": [
    "lasso_cv_model = LassoCV(alphas = None, \n",
    "                         cv = 10, \n",
    "                         max_iter = 10000, \n",
    "                         normalize = True)"
   ]
  },
  {
   "cell_type": "code",
   "execution_count": 118,
   "id": "f59524ff",
   "metadata": {},
   "outputs": [
    {
     "data": {
      "text/plain": [
       "LassoCV(cv=10, max_iter=10000, normalize=True)"
      ]
     },
     "execution_count": 118,
     "metadata": {},
     "output_type": "execute_result"
    }
   ],
   "source": [
    "lasso_cv_model.fit(X_train,y_train)"
   ]
  },
  {
   "cell_type": "code",
   "execution_count": 119,
   "id": "a4df7a95",
   "metadata": {},
   "outputs": [
    {
     "data": {
      "text/plain": [
       "0.000650851589356676"
      ]
     },
     "execution_count": 119,
     "metadata": {},
     "output_type": "execute_result"
    }
   ],
   "source": [
    "lasso_cv_model.alpha_"
   ]
  },
  {
   "cell_type": "code",
   "execution_count": 120,
   "id": "bfc947c7",
   "metadata": {},
   "outputs": [],
   "source": [
    "lasso_tuned = Lasso(alpha = lasso_cv_model.alpha_)"
   ]
  },
  {
   "cell_type": "code",
   "execution_count": 121,
   "id": "a07ce271",
   "metadata": {},
   "outputs": [
    {
     "data": {
      "text/plain": [
       "Lasso(alpha=0.000650851589356676)"
      ]
     },
     "execution_count": 121,
     "metadata": {},
     "output_type": "execute_result"
    }
   ],
   "source": [
    "lasso_tuned.fit(X_train, y_train)"
   ]
  },
  {
   "cell_type": "code",
   "execution_count": 122,
   "id": "fe076371",
   "metadata": {},
   "outputs": [
    {
     "data": {
      "text/plain": [
       "0.5721407873252984"
      ]
     },
     "execution_count": 122,
     "metadata": {},
     "output_type": "execute_result"
    }
   ],
   "source": [
    "y_pred = lasso_tuned.predict(X_test)\n",
    "np.sqrt(mean_squared_error(y_test, y_pred))"
   ]
  },
  {
   "cell_type": "markdown",
   "id": "ec8e427e",
   "metadata": {},
   "source": [
    "### 1.7. ElasticNet (eNet) Regresyonu"
   ]
  },
  {
   "cell_type": "code",
   "execution_count": 123,
   "id": "692a2df8",
   "metadata": {},
   "outputs": [],
   "source": [
    "from sklearn.model_selection import train_test_split, cross_val_score, cross_val_predict\n",
    "X = df.drop(df.columns[[0,3,4,5]], axis = 1)\n",
    "y = df[\"Medal\"]\n",
    "X_train, X_test, y_train, y_test = train_test_split(X, y, test_size=0.25, random_state=42)\n",
    "training = df.copy()"
   ]
  },
  {
   "cell_type": "code",
   "execution_count": 124,
   "id": "3e0a044a",
   "metadata": {},
   "outputs": [
    {
     "data": {
      "text/plain": [
       "array([-0.,  0.])"
      ]
     },
     "execution_count": 124,
     "metadata": {},
     "output_type": "execute_result"
    }
   ],
   "source": [
    "from sklearn.linear_model import ElasticNet\n",
    "enet_model = ElasticNet().fit(X_train, y_train)\n",
    "enet_model.coef_"
   ]
  },
  {
   "cell_type": "code",
   "execution_count": 125,
   "id": "fe5080e1",
   "metadata": {},
   "outputs": [
    {
     "data": {
      "text/plain": [
       "0.15555555555555556"
      ]
     },
     "execution_count": 125,
     "metadata": {},
     "output_type": "execute_result"
    }
   ],
   "source": [
    "enet_model.intercept_"
   ]
  },
  {
   "cell_type": "markdown",
   "id": "211be66c",
   "metadata": {},
   "source": [
    "Tahmin"
   ]
  },
  {
   "cell_type": "code",
   "execution_count": 126,
   "id": "0a31968c",
   "metadata": {},
   "outputs": [
    {
     "data": {
      "text/plain": [
       "ElasticNet()"
      ]
     },
     "execution_count": 126,
     "metadata": {},
     "output_type": "execute_result"
    }
   ],
   "source": [
    "enet_model"
   ]
  },
  {
   "cell_type": "code",
   "execution_count": 127,
   "id": "924d02b0",
   "metadata": {},
   "outputs": [
    {
     "data": {
      "text/plain": [
       "array([0.15555556, 0.15555556, 0.15555556, 0.15555556, 0.15555556,\n",
       "       0.15555556, 0.15555556, 0.15555556, 0.15555556, 0.15555556,\n",
       "       0.15555556, 0.15555556, 0.15555556, 0.15555556, 0.15555556,\n",
       "       0.15555556, 0.15555556, 0.15555556, 0.15555556, 0.15555556,\n",
       "       0.15555556, 0.15555556, 0.15555556, 0.15555556, 0.15555556,\n",
       "       0.15555556, 0.15555556, 0.15555556, 0.15555556, 0.15555556,\n",
       "       0.15555556, 0.15555556, 0.15555556, 0.15555556, 0.15555556,\n",
       "       0.15555556, 0.15555556, 0.15555556, 0.15555556, 0.15555556,\n",
       "       0.15555556, 0.15555556, 0.15555556, 0.15555556, 0.15555556,\n",
       "       0.15555556, 0.15555556, 0.15555556, 0.15555556, 0.15555556,\n",
       "       0.15555556, 0.15555556, 0.15555556, 0.15555556, 0.15555556,\n",
       "       0.15555556, 0.15555556, 0.15555556, 0.15555556, 0.15555556,\n",
       "       0.15555556, 0.15555556, 0.15555556, 0.15555556, 0.15555556,\n",
       "       0.15555556, 0.15555556, 0.15555556, 0.15555556, 0.15555556,\n",
       "       0.15555556, 0.15555556, 0.15555556, 0.15555556, 0.15555556,\n",
       "       0.15555556, 0.15555556, 0.15555556, 0.15555556, 0.15555556,\n",
       "       0.15555556, 0.15555556, 0.15555556, 0.15555556, 0.15555556,\n",
       "       0.15555556, 0.15555556, 0.15555556, 0.15555556, 0.15555556,\n",
       "       0.15555556, 0.15555556, 0.15555556, 0.15555556, 0.15555556,\n",
       "       0.15555556, 0.15555556, 0.15555556, 0.15555556, 0.15555556,\n",
       "       0.15555556, 0.15555556, 0.15555556, 0.15555556, 0.15555556,\n",
       "       0.15555556, 0.15555556, 0.15555556, 0.15555556, 0.15555556,\n",
       "       0.15555556, 0.15555556, 0.15555556, 0.15555556, 0.15555556,\n",
       "       0.15555556, 0.15555556, 0.15555556, 0.15555556, 0.15555556,\n",
       "       0.15555556, 0.15555556, 0.15555556, 0.15555556, 0.15555556,\n",
       "       0.15555556, 0.15555556, 0.15555556, 0.15555556, 0.15555556,\n",
       "       0.15555556, 0.15555556, 0.15555556, 0.15555556, 0.15555556,\n",
       "       0.15555556, 0.15555556, 0.15555556, 0.15555556, 0.15555556,\n",
       "       0.15555556, 0.15555556, 0.15555556, 0.15555556, 0.15555556,\n",
       "       0.15555556, 0.15555556, 0.15555556, 0.15555556, 0.15555556,\n",
       "       0.15555556, 0.15555556, 0.15555556, 0.15555556, 0.15555556,\n",
       "       0.15555556, 0.15555556, 0.15555556, 0.15555556, 0.15555556,\n",
       "       0.15555556, 0.15555556, 0.15555556, 0.15555556, 0.15555556,\n",
       "       0.15555556, 0.15555556, 0.15555556, 0.15555556, 0.15555556,\n",
       "       0.15555556, 0.15555556, 0.15555556, 0.15555556, 0.15555556,\n",
       "       0.15555556, 0.15555556, 0.15555556, 0.15555556, 0.15555556,\n",
       "       0.15555556, 0.15555556, 0.15555556, 0.15555556, 0.15555556,\n",
       "       0.15555556, 0.15555556, 0.15555556, 0.15555556, 0.15555556,\n",
       "       0.15555556, 0.15555556, 0.15555556, 0.15555556, 0.15555556,\n",
       "       0.15555556, 0.15555556, 0.15555556, 0.15555556, 0.15555556,\n",
       "       0.15555556, 0.15555556, 0.15555556, 0.15555556, 0.15555556,\n",
       "       0.15555556, 0.15555556, 0.15555556, 0.15555556, 0.15555556,\n",
       "       0.15555556, 0.15555556, 0.15555556, 0.15555556, 0.15555556,\n",
       "       0.15555556, 0.15555556, 0.15555556, 0.15555556, 0.15555556,\n",
       "       0.15555556, 0.15555556, 0.15555556, 0.15555556, 0.15555556,\n",
       "       0.15555556, 0.15555556, 0.15555556, 0.15555556, 0.15555556,\n",
       "       0.15555556, 0.15555556, 0.15555556, 0.15555556, 0.15555556,\n",
       "       0.15555556, 0.15555556, 0.15555556, 0.15555556, 0.15555556,\n",
       "       0.15555556, 0.15555556, 0.15555556, 0.15555556, 0.15555556,\n",
       "       0.15555556, 0.15555556, 0.15555556, 0.15555556, 0.15555556,\n",
       "       0.15555556, 0.15555556, 0.15555556, 0.15555556, 0.15555556,\n",
       "       0.15555556, 0.15555556, 0.15555556, 0.15555556, 0.15555556,\n",
       "       0.15555556, 0.15555556, 0.15555556, 0.15555556, 0.15555556,\n",
       "       0.15555556, 0.15555556, 0.15555556, 0.15555556, 0.15555556,\n",
       "       0.15555556, 0.15555556, 0.15555556, 0.15555556, 0.15555556,\n",
       "       0.15555556, 0.15555556, 0.15555556, 0.15555556, 0.15555556,\n",
       "       0.15555556, 0.15555556, 0.15555556, 0.15555556, 0.15555556])"
      ]
     },
     "execution_count": 127,
     "metadata": {},
     "output_type": "execute_result"
    }
   ],
   "source": [
    "enet_model.predict(X_test)"
   ]
  },
  {
   "cell_type": "code",
   "execution_count": 128,
   "id": "3b2c0c86",
   "metadata": {},
   "outputs": [
    {
     "data": {
      "text/plain": [
       "0.5718772025206399"
      ]
     },
     "execution_count": 128,
     "metadata": {},
     "output_type": "execute_result"
    }
   ],
   "source": [
    "y_pred = enet_model.predict(X_test)\n",
    "np.sqrt(mean_squared_error(y_test, y_pred))"
   ]
  },
  {
   "cell_type": "code",
   "execution_count": 129,
   "id": "42b6a5e0",
   "metadata": {},
   "outputs": [
    {
     "data": {
      "text/plain": [
       "-4.182770332317176e-06"
      ]
     },
     "execution_count": 129,
     "metadata": {},
     "output_type": "execute_result"
    }
   ],
   "source": [
    "r2_score(y_test, y_pred)"
   ]
  },
  {
   "cell_type": "markdown",
   "id": "4f81eda3",
   "metadata": {},
   "source": [
    "Model Tuning"
   ]
  },
  {
   "cell_type": "code",
   "execution_count": 130,
   "id": "45cad162",
   "metadata": {},
   "outputs": [],
   "source": [
    "from sklearn.linear_model import ElasticNetCV"
   ]
  },
  {
   "cell_type": "code",
   "execution_count": 131,
   "id": "4c48219f",
   "metadata": {},
   "outputs": [
    {
     "data": {
      "text/plain": [
       "0.1658739441195581"
      ]
     },
     "execution_count": 131,
     "metadata": {},
     "output_type": "execute_result"
    }
   ],
   "source": [
    "enet_cv_model = ElasticNetCV(cv = 10, random_state = 0).fit(X_train, y_train)\n",
    "enet_cv_model.alpha_"
   ]
  },
  {
   "cell_type": "code",
   "execution_count": 132,
   "id": "0521365f",
   "metadata": {},
   "outputs": [
    {
     "data": {
      "text/plain": [
       "ElasticNetCV(cv=10, random_state=0)"
      ]
     },
     "execution_count": 132,
     "metadata": {},
     "output_type": "execute_result"
    }
   ],
   "source": [
    "enet_cv_model"
   ]
  },
  {
   "cell_type": "code",
   "execution_count": 133,
   "id": "cd2133a2",
   "metadata": {},
   "outputs": [],
   "source": [
    "enet_tuned = ElasticNet(alpha = enet_cv_model.alpha_).fit(X_train,y_train)\n",
    "y_pred = enet_tuned.predict(X_test)"
   ]
  },
  {
   "cell_type": "code",
   "execution_count": 134,
   "id": "1d90bcdb",
   "metadata": {},
   "outputs": [
    {
     "data": {
      "text/plain": [
       "0.5718772025206399"
      ]
     },
     "execution_count": 134,
     "metadata": {},
     "output_type": "execute_result"
    }
   ],
   "source": [
    "np.sqrt(mean_squared_error(y_test, y_pred))"
   ]
  },
  {
   "cell_type": "markdown",
   "id": "1343318d",
   "metadata": {},
   "source": [
    "## 2. Doğrusal Olmayan Regresyon"
   ]
  },
  {
   "cell_type": "markdown",
   "id": "eb25bf5b",
   "metadata": {},
   "source": [
    "### 2.1. K En Yakın Komşu (KNN)"
   ]
  },
  {
   "cell_type": "code",
   "execution_count": 135,
   "id": "119ceaf4",
   "metadata": {},
   "outputs": [],
   "source": [
    "from sklearn.model_selection import train_test_split, cross_val_score, cross_val_predict\n",
    "X = df.drop(df.columns[[0,3,4,5]], axis = 1)\n",
    "y = df[\"Medal\"]\n",
    "X_train, X_test, y_train, y_test = train_test_split(X, y, test_size=0.25, random_state=42)\n",
    "training = df.copy()\n",
    "\n",
    "knn_model = KNeighborsRegressor().fit(X_train, y_train)"
   ]
  },
  {
   "cell_type": "code",
   "execution_count": 136,
   "id": "53f273a6",
   "metadata": {},
   "outputs": [
    {
     "data": {
      "text/plain": [
       "KNeighborsRegressor()"
      ]
     },
     "execution_count": 136,
     "metadata": {},
     "output_type": "execute_result"
    }
   ],
   "source": [
    "knn_model"
   ]
  },
  {
   "cell_type": "code",
   "execution_count": 137,
   "id": "dd33902b",
   "metadata": {},
   "outputs": [
    {
     "data": {
      "text/plain": [
       "5"
      ]
     },
     "execution_count": 137,
     "metadata": {},
     "output_type": "execute_result"
    }
   ],
   "source": [
    "knn_model.n_neighbors #default değeri 5"
   ]
  },
  {
   "cell_type": "code",
   "execution_count": 138,
   "id": "bd179625",
   "metadata": {},
   "outputs": [
    {
     "data": {
      "text/plain": [
       "'euclidean'"
      ]
     },
     "execution_count": 138,
     "metadata": {},
     "output_type": "execute_result"
    }
   ],
   "source": [
    "knn_model.effective_metric_"
   ]
  },
  {
   "cell_type": "markdown",
   "id": "94156337",
   "metadata": {},
   "source": [
    "Tahmin"
   ]
  },
  {
   "cell_type": "code",
   "execution_count": 139,
   "id": "1c4d66c5",
   "metadata": {},
   "outputs": [
    {
     "name": "stdout",
     "output_type": "stream",
     "text": [
      "test hatası: 0.6075547769687469\n",
      "k = 1 için RMSE değeri:  0.7983901931917722\n",
      "k = 2 için RMSE değeri:  0.7336920972501009\n",
      "k = 3 için RMSE değeri:  0.6512845307244858\n",
      "k = 4 için RMSE değeri:  0.6284553606668314\n",
      "k = 5 için RMSE değeri:  0.6129594588923595\n",
      "k = 6 için RMSE değeri:  0.6107388552546325\n",
      "k = 7 için RMSE değeri:  0.6107600245712499\n",
      "k = 8 için RMSE değeri:  0.5997380032269256\n",
      "k = 9 için RMSE değeri:  0.5974460118359617\n",
      "k = 10 için RMSE değeri:  0.5968631451472671\n"
     ]
    }
   ],
   "source": [
    "y_pred = knn_model.predict(X_test)\n",
    "print(\"test hatası:\" , np.sqrt(mean_squared_error(y_test, y_pred)))\n",
    "RMSE = [] \n",
    "#cross validation yapmadan hatalara bir bakalim\n",
    "for k in range(10):\n",
    "    k = k+1\n",
    "    knn_model = KNeighborsRegressor(n_neighbors = k).fit(X_train, y_train)\n",
    "    y_pred = knn_model.predict(X_train) \n",
    "    rmse = np.sqrt(mean_squared_error(y_train,y_pred)) \n",
    "    RMSE.append(rmse) \n",
    "    print(\"k =\" , k , \"için RMSE değeri: \", rmse)\n"
   ]
  },
  {
   "cell_type": "markdown",
   "id": "1dd1f403",
   "metadata": {},
   "source": [
    "Model Tuning"
   ]
  },
  {
   "cell_type": "code",
   "execution_count": 140,
   "id": "aa34d38f",
   "metadata": {},
   "outputs": [
    {
     "data": {
      "text/plain": [
       "GridSearchCV(cv=10, estimator=KNeighborsRegressor(),\n",
       "             param_grid={'n_neighbors': array([ 1,  2,  3,  4,  5,  6,  7,  8,  9, 10, 11, 12, 13, 14, 15, 16, 17,\n",
       "       18, 19, 20, 21, 22, 23, 24, 25, 26, 27, 28, 29])})"
      ]
     },
     "execution_count": 140,
     "metadata": {},
     "output_type": "execute_result"
    }
   ],
   "source": [
    "#GridSearchCV ile optimum k sayisinin belirlenmesi\n",
    "knn_params = {'n_neighbors': np.arange(1,30,1)}\n",
    "knn = KNeighborsRegressor()\n",
    "knn_cv_model = GridSearchCV(knn, knn_params, cv = 10)\n",
    "knn_cv_model.fit(X_train, y_train)"
   ]
  },
  {
   "cell_type": "code",
   "execution_count": 141,
   "id": "7bf9925a",
   "metadata": {},
   "outputs": [
    {
     "data": {
      "text/plain": [
       "22"
      ]
     },
     "execution_count": 141,
     "metadata": {},
     "output_type": "execute_result"
    }
   ],
   "source": [
    "knn_cv_model.best_params_[\"n_neighbors\"]"
   ]
  },
  {
   "cell_type": "code",
   "execution_count": 142,
   "id": "5e62d2c5",
   "metadata": {},
   "outputs": [
    {
     "name": "stdout",
     "output_type": "stream",
     "text": [
      "k = 1 için RMSE değeri:  0.7983901931917722 RMSE_CV değeri:  0.8475199193410681\n",
      "k = 2 için RMSE değeri:  0.7336920972501009 RMSE_CV değeri:  0.7914276524977927\n",
      "k = 3 için RMSE değeri:  0.6512845307244858 RMSE_CV değeri:  0.6998490706503985\n",
      "k = 4 için RMSE değeri:  0.6284553606668314 RMSE_CV değeri:  0.6759733570786383\n",
      "k = 5 için RMSE değeri:  0.6129594588923595 RMSE_CV değeri:  0.6620488035870569\n",
      "k = 6 için RMSE değeri:  0.6107388552546325 RMSE_CV değeri:  0.6555514335416741\n",
      "k = 7 için RMSE değeri:  0.6107600245712499 RMSE_CV değeri:  0.6437277235445128\n",
      "k = 8 için RMSE değeri:  0.5997380032269256 RMSE_CV değeri:  0.6426711820908214\n",
      "k = 9 için RMSE değeri:  0.5974460118359617 RMSE_CV değeri:  0.6359341058039951\n",
      "k = 10 için RMSE değeri:  0.5968631451472671 RMSE_CV değeri:  0.6272191246839951\n"
     ]
    }
   ],
   "source": [
    "RMSE = [] \n",
    "RMSE_CV = []\n",
    "for k in range(10):\n",
    "    k = k+1\n",
    "    knn_model = KNeighborsRegressor(n_neighbors = k).fit(X_train, y_train)\n",
    "    y_pred = knn_model.predict(X_train) \n",
    "    rmse = np.sqrt(mean_squared_error(y_train,y_pred)) \n",
    "    rmse_cv = np.sqrt(-1*cross_val_score(knn_model, X_train, y_train, cv=10, \n",
    "                                         scoring = \"neg_mean_squared_error\").mean())\n",
    "    #cross validation olmadan hatalar\n",
    "    RMSE.append(rmse) \n",
    "    #cross validation kullanilarak alindan hatalar\n",
    "    RMSE_CV.append(rmse_cv)\n",
    "    print(\"k =\" , k , \"için RMSE değeri: \", rmse, \"RMSE_CV değeri: \", rmse_cv )"
   ]
  },
  {
   "cell_type": "code",
   "execution_count": 143,
   "id": "abe9c528",
   "metadata": {},
   "outputs": [
    {
     "data": {
      "text/plain": [
       "0.746923514720286"
      ]
     },
     "execution_count": 143,
     "metadata": {},
     "output_type": "execute_result"
    }
   ],
   "source": [
    "#k=2 için train degil test setini denediğimizde\n",
    "knn_tuned = KNeighborsRegressor(n_neighbors =2)\n",
    "knn_tuned.fit(X_train, y_train)\n",
    "np.sqrt(mean_squared_error(y_test, knn_tuned.predict(X_test)))"
   ]
  },
  {
   "cell_type": "code",
   "execution_count": 144,
   "id": "23ac78ba",
   "metadata": {},
   "outputs": [
    {
     "data": {
      "text/plain": [
       "KNeighborsRegressor(n_neighbors=22)"
      ]
     },
     "execution_count": 144,
     "metadata": {},
     "output_type": "execute_result"
    }
   ],
   "source": [
    "knn_tuned = KNeighborsRegressor(n_neighbors = knn_cv_model.best_params_[\"n_neighbors\"])\n",
    "knn_tuned.fit(X_train, y_train)"
   ]
  },
  {
   "cell_type": "code",
   "execution_count": 145,
   "id": "eaa11a14",
   "metadata": {},
   "outputs": [
    {
     "data": {
      "text/plain": [
       "0.5831474050716141"
      ]
     },
     "execution_count": 145,
     "metadata": {},
     "output_type": "execute_result"
    }
   ],
   "source": [
    "np.sqrt(mean_squared_error(y_test, knn_tuned.predict(X_test)))"
   ]
  },
  {
   "cell_type": "markdown",
   "id": "2b79a9b8",
   "metadata": {},
   "source": [
    "### 2.2. Destek Vektör Regresyonu (SVR)"
   ]
  },
  {
   "cell_type": "code",
   "execution_count": 146,
   "id": "41925764",
   "metadata": {},
   "outputs": [
    {
     "name": "stdout",
     "output_type": "stream",
     "text": [
      "<class 'pandas.core.frame.DataFrame'>\n",
      "Int64Index: 1140 entries, 184 to 270986\n",
      "Data columns (total 6 columns):\n",
      " #   Column  Non-Null Count  Dtype   \n",
      "---  ------  --------------  -----   \n",
      " 0   Name    1140 non-null   object  \n",
      " 1   Sex     1140 non-null   int32   \n",
      " 2   Age     1140 non-null   float64 \n",
      " 3   Team    1140 non-null   category\n",
      " 4   Sport   1140 non-null   category\n",
      " 5   Medal   1140 non-null   int64   \n",
      "dtypes: category(2), float64(1), int32(1), int64(1), object(1)\n",
      "memory usage: 86.4+ KB\n"
     ]
    }
   ],
   "source": [
    "df.info()"
   ]
  },
  {
   "cell_type": "code",
   "execution_count": 147,
   "id": "5b5f1e5b",
   "metadata": {},
   "outputs": [
    {
     "data": {
      "text/plain": [
       "array([-0.00063068, -0.00126136, -0.00504544,  0.00063068,  0.00063068])"
      ]
     },
     "execution_count": 147,
     "metadata": {},
     "output_type": "execute_result"
    }
   ],
   "source": [
    "from sklearn.model_selection import train_test_split, cross_val_score, cross_val_predict\n",
    "X = df.drop(df.columns[[0,1,3,4,5]], axis = 1)\n",
    "y = df[\"Medal\"]\n",
    "X_train, X_test, y_train, y_test = train_test_split(X, y, test_size=0.25, random_state=42)\n",
    "training = df.copy()\n",
    "svr_model = LinearSVR().fit(X_train, y_train)\n",
    "svr_model.predict(X_train)[0:5]"
   ]
  },
  {
   "cell_type": "code",
   "execution_count": 148,
   "id": "571d6ea0",
   "metadata": {},
   "outputs": [
    {
     "name": "stdout",
     "output_type": "stream",
     "text": [
      "y = -0.01576699633611294 + 0.0006306798534445922 x\n"
     ]
    }
   ],
   "source": [
    "#dogrusal modelimizin parametre katsayilari\n",
    "print (\"y = {0} + {1} x\".format(svr_model.intercept_[0], \n",
    "                                svr_model.coef_[0])) "
   ]
  },
  {
   "cell_type": "code",
   "execution_count": 149,
   "id": "95371606",
   "metadata": {},
   "outputs": [
    {
     "data": {
      "text/plain": [
       "18824    24.0\n",
       "Name: Age, dtype: float64"
      ]
     },
     "execution_count": 149,
     "metadata": {},
     "output_type": "execute_result"
    }
   ],
   "source": [
    "X_train[\"Age\"][0:1]"
   ]
  },
  {
   "cell_type": "code",
   "execution_count": 150,
   "id": "d11492b6",
   "metadata": {},
   "outputs": [
    {
     "data": {
      "text/plain": [
       "0.0015362243759139207"
      ]
     },
     "execution_count": 150,
     "metadata": {},
     "output_type": "execute_result"
    }
   ],
   "source": [
    "-0.01689846813506206 + 0.0007681121879573325*24"
   ]
  },
  {
   "cell_type": "code",
   "execution_count": 151,
   "id": "d5c4211e",
   "metadata": {},
   "outputs": [],
   "source": [
    "y_pred = svr_model.predict(X_train)"
   ]
  },
  {
   "cell_type": "code",
   "execution_count": 152,
   "id": "078cfb3d",
   "metadata": {},
   "outputs": [
    {
     "data": {
      "text/plain": [
       "[<matplotlib.lines.Line2D at 0x28053d66460>]"
      ]
     },
     "execution_count": 152,
     "metadata": {},
     "output_type": "execute_result"
    },
    {
     "data": {
      "image/png": "[encoded data removed]",
      "text/plain": [
       "<Figure size 432x288 with 1 Axes>"
      ]
     },
     "metadata": {
      "needs_background": "light"
     },
     "output_type": "display_data"
    }
   ],
   "source": [
    "plt.scatter(X_train, y_train)\n",
    "plt.plot(X_train,y_pred, color = \"r\")"
   ]
  },
  {
   "cell_type": "code",
   "execution_count": 153,
   "id": "d23adbef",
   "metadata": {},
   "outputs": [
    {
     "name": "stdout",
     "output_type": "stream",
     "text": [
      "y = 0.0502524365998569 + 0.00436698679279829 x\n"
     ]
    }
   ],
   "source": [
    "#lineer regresyon modeliyle svm modelini karsilastiralim\n",
    "lm_model = LinearRegression().fit(X_train, y_train)\n",
    "lm_pred  = lm_model.predict(X_train)\n",
    "print(\"y = {0} + {1} x\".format(lm_model.intercept_, lm_model.coef_[0]))"
   ]
  },
  {
   "cell_type": "code",
   "execution_count": 154,
   "id": "da18065c",
   "metadata": {},
   "outputs": [
    {
     "data": {
      "text/plain": [
       "0.30094640038656634"
      ]
     },
     "execution_count": 154,
     "metadata": {},
     "output_type": "execute_result"
    }
   ],
   "source": [
    "#lineer regresyon ile elde ettigimiz parametre katsayilari\n",
    "0.13046685554343962 + 0.007103314368463613*24"
   ]
  },
  {
   "cell_type": "code",
   "execution_count": 155,
   "id": "6a13798b",
   "metadata": {},
   "outputs": [
    {
     "data": {
      "text/plain": [
       "Text(0, 0.5, 'Madalya')"
      ]
     },
     "execution_count": 155,
     "metadata": {},
     "output_type": "execute_result"
    },
    {
     "data": {
      "image/png": "[encoded data removed]",
      "text/plain": [
       "<Figure size 432x288 with 1 Axes>"
      ]
     },
     "metadata": {
      "needs_background": "light"
     },
     "output_type": "display_data"
    }
   ],
   "source": [
    "#iki yontemi de gorsel olarak karsilastiralim\n",
    "plt.scatter(X_train, y_train, alpha=0.5, s=23)\n",
    "plt.plot(X_train, lm_pred, 'g')\n",
    "plt.plot(X_train, y_pred, color='r')\n",
    "\n",
    "plt.xlabel(\"Yaş\")\n",
    "plt.ylabel(\"Madalya\")"
   ]
  },
  {
   "cell_type": "markdown",
   "id": "d10c4ae3",
   "metadata": {},
   "source": [
    "Not: Yukarıdaki grafik gözlemlendiğinde,\n",
    "\n",
    "lineer regresyon yöntemiyle elde edilen doğru (yeşil) yaş değerine göre daha fazla madalya verme eğilimindedir. Bunun sebebi grafiğin üstünde ki kazanılan madalya sayılarıdır.\n",
    "\n",
    "SVR'de ise (robust bir yontem oldugundan) aykırı gözlemlerin etkisi daha düşüktür."
   ]
  },
  {
   "cell_type": "markdown",
   "id": "c228fb0e",
   "metadata": {},
   "source": [
    " Tahmin (Doğrusal SVR)"
   ]
  },
  {
   "cell_type": "code",
   "execution_count": 156,
   "id": "73f2608d",
   "metadata": {},
   "outputs": [
    {
     "name": "stdout",
     "output_type": "stream",
     "text": [
      "y = -0.01576699633611294 + 0.0006306798534445922 x\n"
     ]
    }
   ],
   "source": [
    "print (\"y = {0} + {1} x\".format(svr_model.intercept_[0], svr_model.coef_[0])) "
   ]
  },
  {
   "cell_type": "code",
   "execution_count": 157,
   "id": "9b3b15b0",
   "metadata": {},
   "outputs": [
    {
     "data": {
      "text/plain": [
       "array([-0.00063068])"
      ]
     },
     "execution_count": 157,
     "metadata": {},
     "output_type": "execute_result"
    }
   ],
   "source": [
    "svr_model.predict([[24]])"
   ]
  },
  {
   "cell_type": "code",
   "execution_count": 158,
   "id": "cb3d1780",
   "metadata": {},
   "outputs": [],
   "source": [
    "y_pred = svr_model.predict(X_test)"
   ]
  },
  {
   "cell_type": "code",
   "execution_count": 159,
   "id": "abb829f1",
   "metadata": {},
   "outputs": [
    {
     "data": {
      "text/plain": [
       "0.5925492868341613"
      ]
     },
     "execution_count": 159,
     "metadata": {},
     "output_type": "execute_result"
    }
   ],
   "source": [
    "np.sqrt(mean_squared_error(y_test, y_pred))"
   ]
  },
  {
   "cell_type": "markdown",
   "id": "360b3ad1",
   "metadata": {},
   "source": [
    " Model Tuning (Doğrusal SVR)"
   ]
  },
  {
   "cell_type": "code",
   "execution_count": 160,
   "id": "c4577839",
   "metadata": {},
   "outputs": [],
   "source": [
    "svr_params = {\"C\": np.arange(0.1,2,0.1)}\n",
    "svr_cv_model = GridSearchCV(svr_model, svr_params, cv = 10).fit(X_train,y_train)"
   ]
  },
  {
   "cell_type": "code",
   "execution_count": 161,
   "id": "e21d3610",
   "metadata": {},
   "outputs": [
    {
     "data": {
      "text/plain": [
       "1.8000000000000003"
      ]
     },
     "execution_count": 161,
     "metadata": {},
     "output_type": "execute_result"
    }
   ],
   "source": [
    "pd.Series(svr_cv_model.best_params_)[0]"
   ]
  },
  {
   "cell_type": "code",
   "execution_count": 162,
   "id": "33c02438",
   "metadata": {},
   "outputs": [],
   "source": [
    "svr_tuned = LinearSVR(C = pd.Series(svr_cv_model.best_params_)[0]).fit(X_train, y_train)"
   ]
  },
  {
   "cell_type": "code",
   "execution_count": 163,
   "id": "a1cc0dc2",
   "metadata": {},
   "outputs": [],
   "source": [
    "y_pred = svr_tuned.predict(X_test)"
   ]
  },
  {
   "cell_type": "code",
   "execution_count": 164,
   "id": "3dd441e7",
   "metadata": {},
   "outputs": [
    {
     "data": {
      "text/plain": [
       "0.5928110351007945"
      ]
     },
     "execution_count": 164,
     "metadata": {},
     "output_type": "execute_result"
    }
   ],
   "source": [
    "np.sqrt(mean_squared_error(y_test, y_pred))"
   ]
  },
  {
   "cell_type": "code",
   "execution_count": 165,
   "id": "9dffb5b2",
   "metadata": {},
   "outputs": [
    {
     "data": {
      "text/plain": [
       "array([-0.015767])"
      ]
     },
     "execution_count": 165,
     "metadata": {},
     "output_type": "execute_result"
    }
   ],
   "source": [
    "svr_model.intercept_"
   ]
  },
  {
   "cell_type": "code",
   "execution_count": 166,
   "id": "1cacaa34",
   "metadata": {},
   "outputs": [
    {
     "data": {
      "text/plain": [
       "array([0.00063068])"
      ]
     },
     "execution_count": 166,
     "metadata": {},
     "output_type": "execute_result"
    }
   ],
   "source": [
    "svr_model.coef_"
   ]
  },
  {
   "cell_type": "markdown",
   "id": "f05d59d8",
   "metadata": {},
   "source": [
    "Tahmin (Doğrusal Olmayan SVR)"
   ]
  },
  {
   "cell_type": "code",
   "execution_count": 167,
   "id": "05e58014",
   "metadata": {},
   "outputs": [
    {
     "data": {
      "text/plain": [
       "0.5744562646538028"
      ]
     },
     "execution_count": 167,
     "metadata": {},
     "output_type": "execute_result"
    }
   ],
   "source": [
    "svr_rbf = SVR(kernel=\"rbf\").fit(X_train, y_train)\n",
    "y_pred = svr_rbf.predict(X_test)\n",
    "np.sqrt(mean_squared_error(y_test, y_pred))"
   ]
  },
  {
   "cell_type": "markdown",
   "id": "772de6cd",
   "metadata": {},
   "source": [
    "Model Tuning (Doğrusal Olmayan SVR)"
   ]
  },
  {
   "cell_type": "code",
   "execution_count": 168,
   "id": "feba4e3b",
   "metadata": {},
   "outputs": [
    {
     "data": {
      "text/plain": [
       "GridSearchCV(cv=10, estimator=SVR(),\n",
       "             param_grid={'C': [0.01, 0.1, 0.4, 5, 10, 20, 30, 40, 50, 60, 70,\n",
       "                               80, 90, 100, 110, 120, 130, 140, 200, 300, 400,\n",
       "                               500, 600, 700, 800, 900, 1000, 2000, 3000, 4000, ...]})"
      ]
     },
     "execution_count": 168,
     "metadata": {},
     "output_type": "execute_result"
    }
   ],
   "source": [
    "svr_params = {\"C\": [0.01, 0.1,0.4,5,10,20,30,40,50,60,70,80,90,100,110,120,130,140,200,300,400,500,600,700,800,900,1000,2000,3000,4000,5000,6000]}\n",
    "svr_cv_model = GridSearchCV(svr_rbf,svr_params, cv = 10)\n",
    "svr_cv_model.fit(X_train, y_train)"
   ]
  },
  {
   "cell_type": "code",
   "execution_count": 169,
   "id": "47e07a30",
   "metadata": {},
   "outputs": [
    {
     "data": {
      "text/plain": [
       "{'C': 5000}"
      ]
     },
     "execution_count": 169,
     "metadata": {},
     "output_type": "execute_result"
    }
   ],
   "source": [
    "svr_cv_model.best_params_"
   ]
  },
  {
   "cell_type": "code",
   "execution_count": 170,
   "id": "071234a3",
   "metadata": {},
   "outputs": [],
   "source": [
    "svr_tuned = SVR(kernel=\"rbf\", C = pd.Series(svr_cv_model.best_params_)[0]).fit(X_train, \n",
    "                                                                        y_train)"
   ]
  },
  {
   "cell_type": "code",
   "execution_count": 171,
   "id": "7deb6ada",
   "metadata": {},
   "outputs": [
    {
     "data": {
      "text/plain": [
       "0.5744562646539676"
      ]
     },
     "execution_count": 171,
     "metadata": {},
     "output_type": "execute_result"
    }
   ],
   "source": [
    "y_pred = svr_tuned.predict(X_test)\n",
    "\n",
    "np.sqrt(mean_squared_error(y_test, y_pred))"
   ]
  },
  {
   "cell_type": "markdown",
   "id": "a1ba6b3b",
   "metadata": {},
   "source": [
    "### 2.3. Çok Katmanlı Algılayıcı (Yapay Sinir Ağları YSA)\n"
   ]
  },
  {
   "cell_type": "code",
   "execution_count": 172,
   "id": "17c6b0a1",
   "metadata": {},
   "outputs": [],
   "source": [
    "from sklearn.model_selection import train_test_split, cross_val_score, cross_val_predict\n",
    "X = df.drop(df.columns[[0,3,4,5]], axis = 1)\n",
    "y = df[\"Medal\"]\n",
    "X_train, X_test, y_train, y_test = train_test_split(X, y, test_size=0.25, random_state=42)\n",
    "training = df.copy()\n",
    "\n",
    "knn_model = KNeighborsRegressor().fit(X_train, y_train)"
   ]
  },
  {
   "cell_type": "code",
   "execution_count": 173,
   "id": "f7f64225",
   "metadata": {},
   "outputs": [],
   "source": [
    "#değişken standartlaştırması\n",
    "scaler = StandardScaler()\n",
    "scaler.fit(X_train)\n",
    "X_train_scaled = scaler.transform(X_train)\n",
    "X_test_scaled = scaler.transform(X_test)"
   ]
  },
  {
   "cell_type": "code",
   "execution_count": 174,
   "id": "b5f3edd0",
   "metadata": {},
   "outputs": [
    {
     "name": "stdout",
     "output_type": "stream",
     "text": [
      "MLPRegressor(hidden_layer_sizes=(100, 20))\n",
      "4\n",
      "(100, 20)\n"
     ]
    }
   ],
   "source": [
    "mlp_model = MLPRegressor(hidden_layer_sizes = (100,20)).fit(X_train_scaled, y_train)\n",
    "print(mlp_model)\n",
    "print(mlp_model.n_layers_)\n",
    "print(mlp_model.hidden_layer_sizes)"
   ]
  },
  {
   "cell_type": "markdown",
   "id": "742095c2",
   "metadata": {},
   "source": [
    "Tahmin"
   ]
  },
  {
   "cell_type": "code",
   "execution_count": 175,
   "id": "50c7045d",
   "metadata": {},
   "outputs": [
    {
     "data": {
      "text/plain": [
       "0.5887756592692256"
      ]
     },
     "execution_count": 175,
     "metadata": {},
     "output_type": "execute_result"
    }
   ],
   "source": [
    "y_pred = mlp_model.predict(X_test_scaled)\n",
    "np.sqrt(mean_squared_error(y_test, y_pred))"
   ]
  },
  {
   "cell_type": "markdown",
   "id": "0f8e163b",
   "metadata": {},
   "source": [
    "Model Tuning"
   ]
  },
  {
   "cell_type": "code",
   "execution_count": 176,
   "id": "922193d8",
   "metadata": {},
   "outputs": [
    {
     "data": {
      "text/plain": [
       "MLPRegressor(hidden_layer_sizes=(100, 20))"
      ]
     },
     "execution_count": 176,
     "metadata": {},
     "output_type": "execute_result"
    }
   ],
   "source": [
    "mlp_model"
   ]
  },
  {
   "cell_type": "code",
   "execution_count": 177,
   "id": "7c2b76a2",
   "metadata": {},
   "outputs": [],
   "source": [
    "mlp_params = {'alpha': [0.1, 0.01,0.02,0.005],\n",
    "             'hidden_layer_sizes': [(20,20),(100,50,150),(300,200,150)],\n",
    "             'activation': ['relu','logistic']}"
   ]
  },
  {
   "cell_type": "code",
   "execution_count": 178,
   "id": "2f16b217",
   "metadata": {},
   "outputs": [
    {
     "data": {
      "text/plain": [
       "GridSearchCV(cv=10, estimator=MLPRegressor(hidden_layer_sizes=(100, 20)),\n",
       "             param_grid={'activation': ['relu', 'logistic'],\n",
       "                         'alpha': [0.1, 0.01, 0.02, 0.005],\n",
       "                         'hidden_layer_sizes': [(20, 20), (100, 50, 150),\n",
       "                                                (300, 200, 150)]})"
      ]
     },
     "execution_count": 178,
     "metadata": {},
     "output_type": "execute_result"
    }
   ],
   "source": [
    "mlp_cv_model = GridSearchCV(mlp_model, mlp_params, cv = 10)\n",
    "mlp_cv_model.fit(X_train_scaled, y_train)"
   ]
  },
  {
   "cell_type": "code",
   "execution_count": 179,
   "id": "4743e61f",
   "metadata": {},
   "outputs": [
    {
     "data": {
      "text/plain": [
       "{'activation': 'logistic',\n",
       " 'alpha': 0.005,\n",
       " 'hidden_layer_sizes': (100, 50, 150)}"
      ]
     },
     "execution_count": 179,
     "metadata": {},
     "output_type": "execute_result"
    }
   ],
   "source": [
    "mlp_cv_model.best_params_"
   ]
  },
  {
   "cell_type": "code",
   "execution_count": 180,
   "id": "93718880",
   "metadata": {},
   "outputs": [
    {
     "name": "stdout",
     "output_type": "stream",
     "text": [
      "MLPRegressor(activation='logistic', alpha=0.005,\n",
      "             hidden_layer_sizes=(100, 50, 150))\n",
      "logistic\n"
     ]
    }
   ],
   "source": [
    "mlp_tuned = MLPRegressor(activation=mlp_cv_model.best_params_['activation'],\n",
    "                         alpha = mlp_cv_model.best_params_['alpha'], \n",
    "                         hidden_layer_sizes = mlp_cv_model.best_params_['hidden_layer_sizes'])\n",
    "print(mlp_tuned)\n",
    "print(mlp_tuned.activation)"
   ]
  },
  {
   "cell_type": "code",
   "execution_count": 181,
   "id": "818a890f",
   "metadata": {},
   "outputs": [
    {
     "data": {
      "text/plain": [
       "MLPRegressor(activation='logistic', alpha=0.005,\n",
       "             hidden_layer_sizes=(100, 50, 150))"
      ]
     },
     "execution_count": 181,
     "metadata": {},
     "output_type": "execute_result"
    }
   ],
   "source": [
    "mlp_tuned.fit(X_train_scaled, y_train)"
   ]
  },
  {
   "cell_type": "code",
   "execution_count": 182,
   "id": "2b591463",
   "metadata": {},
   "outputs": [
    {
     "data": {
      "text/plain": [
       "0.571896545208427"
      ]
     },
     "execution_count": 182,
     "metadata": {},
     "output_type": "execute_result"
    }
   ],
   "source": [
    "y_pred = mlp_tuned.predict(X_test_scaled)\n",
    "np.sqrt(mean_squared_error(y_test, y_pred))"
   ]
  },
  {
   "cell_type": "markdown",
   "id": "2b01708a",
   "metadata": {},
   "source": [
    "### 2.4. Karar Ağaçları / Classification and Regression Trees (CART)\n"
   ]
  },
  {
   "cell_type": "code",
   "execution_count": 183,
   "id": "a4a70f6b",
   "metadata": {},
   "outputs": [],
   "source": [
    "from sklearn.model_selection import train_test_split, cross_val_score, cross_val_predict\n",
    "X = df.drop(df.columns[[0,1,3,4,5]], axis = 1)\n",
    "y = df[\"Medal\"]\n",
    "X_train, X_test, y_train, y_test = train_test_split(X, y, test_size=0.25, random_state=42)\n",
    "training = df.copy()"
   ]
  },
  {
   "cell_type": "code",
   "execution_count": 184,
   "id": "75e23721",
   "metadata": {},
   "outputs": [],
   "source": [
    "#tek bir bagimsiz degiskenle deneyelim\n",
    "X_train = pd.DataFrame(X_train[\"Age\"])\n",
    "X_test = pd.DataFrame(X_test[\"Age\"])"
   ]
  },
  {
   "cell_type": "code",
   "execution_count": 185,
   "id": "905a28eb",
   "metadata": {},
   "outputs": [
    {
     "data": {
      "text/plain": [
       "DecisionTreeRegressor()"
      ]
     },
     "execution_count": 185,
     "metadata": {},
     "output_type": "execute_result"
    }
   ],
   "source": [
    "cart_model = DecisionTreeRegressor()\n",
    "cart_model.fit(X_train, y_train)"
   ]
  },
  {
   "cell_type": "code",
   "execution_count": 186,
   "id": "f7121f98",
   "metadata": {},
   "outputs": [
    {
     "data": {
      "image/png": "[encoded data removed]",
      "text/plain": [
       "<Figure size 432x288 with 1 Axes>"
      ]
     },
     "metadata": {
      "needs_background": "light"
     },
     "output_type": "display_data"
    }
   ],
   "source": [
    "X_grid = np.arange(min(np.array(X_train)),max(np.array(X_train)), 0.01) \n",
    "X_grid = X_grid.reshape((len(X_grid), 1))  \n",
    "plt.scatter(X_train, y_train, color = 'red') \n",
    "plt.plot(X_grid, cart_model.predict(X_grid), color = 'blue')  \n",
    "plt.title('CART REGRESON AĞACI')  \n",
    "plt.xlabel('Yaş') \n",
    "plt.ylabel('Madalya') ;"
   ]
  },
  {
   "cell_type": "code",
   "execution_count": 187,
   "id": "295e5b54",
   "metadata": {},
   "outputs": [
    {
     "data": {
      "image/png": "[encoded data removed]",
      "text/plain": [
       "<Figure size 432x288 with 1 Axes>"
      ]
     },
     "metadata": {
      "needs_background": "light"
     },
     "output_type": "display_data"
    }
   ],
   "source": [
    "#farklı parametrelerle deneyelim\n",
    "cart_model = DecisionTreeRegressor(max_leaf_nodes=10)\n",
    "cart_model.fit(X_train, y_train)\n",
    "X_grid = np.arange(min(np.array(X_train)),max(np.array(X_train)), 0.01) \n",
    "X_grid = X_grid.reshape((len(X_grid), 1))  \n",
    "plt.scatter(X_train, y_train, color = 'red') \n",
    "plt.plot(X_grid, cart_model.predict(X_grid), color = 'blue')  \n",
    "plt.title('CART REGRESON AĞACI') \n",
    "plt.xlabel('Yaş') \n",
    "plt.ylabel('Madalya') ;"
   ]
  },
  {
   "cell_type": "code",
   "execution_count": 188,
   "id": "99e49379",
   "metadata": {},
   "outputs": [
    {
     "name": "stdout",
     "output_type": "stream",
     "text": [
      "(((0.0 if x[0] <= 15.5 else 0.6) if x[0] <= 16.5 else (0.05 if x[0] <= 17.5\n",
      "     else 0.14962121212121213) if x[0] <= 25.5 else 0.10179640718562874) if\n",
      "    x[0] <= 28.5 else (0.2727272727272727 if x[0] <= 30.5 else \n",
      "    0.42105263157894735) if x[0] <= 31.5 else 0.0 if x[0] <= 32.5 else \n",
      "    0.35714285714285715 if x[0] <= 33.5 else 0.14705882352941177)\n",
      "\n"
     ]
    }
   ],
   "source": [
    "#skompiler kutuphanesi ile karar agacinin karar modelini python koduna ceviriyoruz\n",
    "print(skompile(cart_model.predict).to('python/code'))"
   ]
  },
  {
   "cell_type": "markdown",
   "id": "fb179c9f",
   "metadata": {},
   "source": [
    "Tahmin"
   ]
  },
  {
   "cell_type": "code",
   "execution_count": 189,
   "id": "d39f2b29",
   "metadata": {},
   "outputs": [],
   "source": [
    "x = [21]"
   ]
  },
  {
   "cell_type": "code",
   "execution_count": 190,
   "id": "82c471c3",
   "metadata": {},
   "outputs": [
    {
     "data": {
      "text/plain": [
       "0.14962121212121213"
      ]
     },
     "execution_count": 190,
     "metadata": {},
     "output_type": "execute_result"
    }
   ],
   "source": [
    "(((0.0 if x[0] <= 15.5 else 0.6) if x[0] <= 16.5 else (0.05 if x[0] <= 17.5\n",
    "     else 0.14962121212121213) if x[0] <= 25.5 else 0.10179640718562874) if\n",
    "    x[0] <= 28.5 else (0.2727272727272727 if x[0] <= 30.5 else \n",
    "    0.42105263157894735) if x[0] <= 31.5 else 0.0 if x[0] <= 32.5 else \n",
    "    0.35714285714285715 if x[0] <= 33.5 else 0.14705882352941177)"
   ]
  },
  {
   "cell_type": "code",
   "execution_count": 191,
   "id": "3cdaca1f",
   "metadata": {},
   "outputs": [
    {
     "data": {
      "text/html": [
       "<div>\n",
       "<style scoped>\n",
       "    .dataframe tbody tr th:only-of-type {\n",
       "        vertical-align: middle;\n",
       "    }\n",
       "\n",
       "    .dataframe tbody tr th {\n",
       "        vertical-align: top;\n",
       "    }\n",
       "\n",
       "    .dataframe thead th {\n",
       "        text-align: right;\n",
       "    }\n",
       "</style>\n",
       "<table border=\"1\" class=\"dataframe\">\n",
       "  <thead>\n",
       "    <tr style=\"text-align: right;\">\n",
       "      <th></th>\n",
       "      <th>Age</th>\n",
       "    </tr>\n",
       "  </thead>\n",
       "  <tbody>\n",
       "    <tr>\n",
       "      <th>190933</th>\n",
       "      <td>29.0</td>\n",
       "    </tr>\n",
       "    <tr>\n",
       "      <th>216764</th>\n",
       "      <td>21.0</td>\n",
       "    </tr>\n",
       "    <tr>\n",
       "      <th>65480</th>\n",
       "      <td>26.0</td>\n",
       "    </tr>\n",
       "    <tr>\n",
       "      <th>250669</th>\n",
       "      <td>22.0</td>\n",
       "    </tr>\n",
       "    <tr>\n",
       "      <th>74368</th>\n",
       "      <td>31.0</td>\n",
       "    </tr>\n",
       "  </tbody>\n",
       "</table>\n",
       "</div>"
      ],
      "text/plain": [
       "         Age\n",
       "190933  29.0\n",
       "216764  21.0\n",
       "65480   26.0\n",
       "250669  22.0\n",
       "74368   31.0"
      ]
     },
     "execution_count": 191,
     "metadata": {},
     "output_type": "execute_result"
    }
   ],
   "source": [
    "X_test[0:5]"
   ]
  },
  {
   "cell_type": "code",
   "execution_count": 192,
   "id": "54c2b969",
   "metadata": {},
   "outputs": [
    {
     "data": {
      "text/plain": [
       "array([0.27272727, 0.14962121, 0.10179641, 0.14962121, 0.42105263])"
      ]
     },
     "execution_count": 192,
     "metadata": {},
     "output_type": "execute_result"
    }
   ],
   "source": [
    "cart_model.predict(X_test)[0:5]"
   ]
  },
  {
   "cell_type": "code",
   "execution_count": 193,
   "id": "25a94a4a",
   "metadata": {},
   "outputs": [
    {
     "data": {
      "text/plain": [
       "array([0.14962121])"
      ]
     },
     "execution_count": 193,
     "metadata": {},
     "output_type": "execute_result"
    }
   ],
   "source": [
    "cart_model.predict([[21]])"
   ]
  },
  {
   "cell_type": "code",
   "execution_count": 194,
   "id": "dab10d3b",
   "metadata": {},
   "outputs": [
    {
     "data": {
      "text/plain": [
       "0.5802768696517459"
      ]
     },
     "execution_count": 194,
     "metadata": {},
     "output_type": "execute_result"
    }
   ],
   "source": [
    "y_pred =cart_model.predict(X_test)\n",
    "np.sqrt(mean_squared_error(y_test, y_pred))"
   ]
  },
  {
   "cell_type": "markdown",
   "id": "e794ee63",
   "metadata": {},
   "source": [
    "Model Tuning"
   ]
  },
  {
   "cell_type": "code",
   "execution_count": 195,
   "id": "5fa85d4a",
   "metadata": {},
   "outputs": [],
   "source": [
    "cart_model = DecisionTreeRegressor()\n",
    "cart_model.fit(X_train, y_train)\n",
    "y_pred = cart_model.predict(X_test)"
   ]
  },
  {
   "cell_type": "code",
   "execution_count": 196,
   "id": "8dbb75a2",
   "metadata": {},
   "outputs": [
    {
     "data": {
      "text/plain": [
       "0.5809255873148585"
      ]
     },
     "execution_count": 196,
     "metadata": {},
     "output_type": "execute_result"
    }
   ],
   "source": [
    "np.sqrt(mean_squared_error(y_test, y_pred))"
   ]
  },
  {
   "cell_type": "code",
   "execution_count": 197,
   "id": "95563957",
   "metadata": {},
   "outputs": [],
   "source": [
    "cart_params = {\"min_samples_split\": range(2,100),\n",
    "               \"max_leaf_nodes\": range(2,10)}"
   ]
  },
  {
   "cell_type": "code",
   "execution_count": 198,
   "id": "0f087fa2",
   "metadata": {},
   "outputs": [
    {
     "data": {
      "text/plain": [
       "GridSearchCV(cv=10, estimator=DecisionTreeRegressor(),\n",
       "             param_grid={'max_leaf_nodes': range(2, 10),\n",
       "                         'min_samples_split': range(2, 100)})"
      ]
     },
     "execution_count": 198,
     "metadata": {},
     "output_type": "execute_result"
    }
   ],
   "source": [
    "cart_cv_model = GridSearchCV(cart_model, cart_params, cv = 10)\n",
    "cart_cv_model.fit(X_train, y_train)"
   ]
  },
  {
   "cell_type": "code",
   "execution_count": 199,
   "id": "dbaebe08",
   "metadata": {},
   "outputs": [
    {
     "data": {
      "text/plain": [
       "{'max_leaf_nodes': 2, 'min_samples_split': 2}"
      ]
     },
     "execution_count": 199,
     "metadata": {},
     "output_type": "execute_result"
    }
   ],
   "source": [
    "cart_cv_model.best_params_"
   ]
  },
  {
   "cell_type": "code",
   "execution_count": 200,
   "id": "4e0f5c23",
   "metadata": {},
   "outputs": [],
   "source": [
    "cart_tuned = DecisionTreeRegressor(max_leaf_nodes = 9, min_samples_split = 76)"
   ]
  },
  {
   "cell_type": "code",
   "execution_count": 201,
   "id": "9775fd90",
   "metadata": {},
   "outputs": [
    {
     "data": {
      "text/plain": [
       "DecisionTreeRegressor(max_leaf_nodes=9, min_samples_split=76)"
      ]
     },
     "execution_count": 201,
     "metadata": {},
     "output_type": "execute_result"
    }
   ],
   "source": [
    "cart_tuned.fit(X_train, y_train)"
   ]
  },
  {
   "cell_type": "code",
   "execution_count": 202,
   "id": "f107e6df",
   "metadata": {},
   "outputs": [],
   "source": [
    "y_pred = cart_tuned.predict(X_test)"
   ]
  },
  {
   "cell_type": "code",
   "execution_count": 203,
   "id": "167e40be",
   "metadata": {},
   "outputs": [
    {
     "data": {
      "text/plain": [
       "0.5801852401414995"
      ]
     },
     "execution_count": 203,
     "metadata": {},
     "output_type": "execute_result"
    }
   ],
   "source": [
    "np.sqrt(mean_squared_error(y_test, y_pred))"
   ]
  },
  {
   "cell_type": "code",
   "execution_count": 204,
   "id": "3a6fb154",
   "metadata": {},
   "outputs": [],
   "source": [
    "#tum bagimsiz degiskenlerle tekrar deneyelim\n",
    "X = df.drop(df.columns[[0,3,4,5]], axis = 1)\n",
    "y = df[\"Medal\"]\n",
    "X_train, X_test, y_train, y_test = train_test_split(X, y, test_size=0.25, random_state=42)\n",
    "training = df.copy()\n"
   ]
  },
  {
   "cell_type": "code",
   "execution_count": 205,
   "id": "bfb33174",
   "metadata": {},
   "outputs": [
    {
     "name": "stdout",
     "output_type": "stream",
     "text": [
      "0.6059921842438727\n"
     ]
    }
   ],
   "source": [
    "#ilkel test hatasina bir bakalim\n",
    "cart_model = DecisionTreeRegressor()\n",
    "cart_model.fit(X_train, y_train)\n",
    "y_pred = cart_model.predict(X_test)\n",
    "print(np.sqrt(mean_squared_error(y_test, y_pred)))"
   ]
  },
  {
   "cell_type": "code",
   "execution_count": 206,
   "id": "264412ac",
   "metadata": {},
   "outputs": [
    {
     "name": "stdout",
     "output_type": "stream",
     "text": [
      "{'max_leaf_nodes': 2, 'min_samples_split': 2}\n",
      "0.5745832980370568\n"
     ]
    }
   ],
   "source": [
    "#cross validation\n",
    "cart_params = {\"min_samples_split\": range(2,100),\n",
    "               \"max_leaf_nodes\": range(2,10)}\n",
    "cart_cv_model = GridSearchCV(cart_model, cart_params, cv = 10)\n",
    "cart_cv_model.fit(X_train, y_train)\n",
    "print(cart_cv_model.best_params_)\n",
    "cart_tuned = DecisionTreeRegressor(max_leaf_nodes = cart_cv_model.best_params_['max_leaf_nodes'], \n",
    "                                   min_samples_split = cart_cv_model.best_params_['min_samples_split'])\n",
    "cart_tuned.fit(X_train, y_train)\n",
    "y_pred = cart_tuned.predict(X_test)\n",
    "print(np.sqrt(mean_squared_error(y_test, y_pred)))"
   ]
  },
  {
   "cell_type": "markdown",
   "id": "a64c7f7e",
   "metadata": {},
   "source": [
    "### 2.5. Bagged Trees Regresyon"
   ]
  },
  {
   "cell_type": "code",
   "execution_count": 207,
   "id": "2a142591",
   "metadata": {},
   "outputs": [
    {
     "name": "stdout",
     "output_type": "stream",
     "text": [
      "<class 'pandas.core.frame.DataFrame'>\n",
      "Int64Index: 1140 entries, 184 to 270986\n",
      "Data columns (total 6 columns):\n",
      " #   Column  Non-Null Count  Dtype   \n",
      "---  ------  --------------  -----   \n",
      " 0   Name    1140 non-null   object  \n",
      " 1   Sex     1140 non-null   int32   \n",
      " 2   Age     1140 non-null   float64 \n",
      " 3   Team    1140 non-null   category\n",
      " 4   Sport   1140 non-null   category\n",
      " 5   Medal   1140 non-null   int64   \n",
      "dtypes: category(2), float64(1), int32(1), int64(1), object(1)\n",
      "memory usage: 86.4+ KB\n"
     ]
    }
   ],
   "source": [
    "df.info()"
   ]
  },
  {
   "cell_type": "code",
   "execution_count": 208,
   "id": "6ee57009",
   "metadata": {},
   "outputs": [],
   "source": [
    "from sklearn.model_selection import train_test_split, cross_val_score, cross_val_predict\n",
    "X = df.drop(df.columns[[0,3,4,5]], axis = 1)\n",
    "y = df[\"Medal\"]\n",
    "X_train, X_test, y_train, y_test = train_test_split(X, y, test_size=0.25, random_state=42)\n",
    "training = df.copy()"
   ]
  },
  {
   "cell_type": "code",
   "execution_count": 209,
   "id": "a3de9f4a",
   "metadata": {},
   "outputs": [
    {
     "data": {
      "text/plain": [
       "BaggingRegressor(bootstrap_features=True)"
      ]
     },
     "execution_count": 209,
     "metadata": {},
     "output_type": "execute_result"
    }
   ],
   "source": [
    "#bootstrap_features default degeri false, bootstrap orneklerini gozlemlemek icin true verdik\n",
    "bag_model = BaggingRegressor(bootstrap_features = True)\n",
    "bag_model.fit(X_train, y_train)"
   ]
  },
  {
   "cell_type": "code",
   "execution_count": 210,
   "id": "eb86c6a6",
   "metadata": {},
   "outputs": [
    {
     "data": {
      "text/plain": [
       "10"
      ]
     },
     "execution_count": 210,
     "metadata": {},
     "output_type": "execute_result"
    }
   ],
   "source": [
    "#tahminci sayisi\n",
    "bag_model.n_estimators"
   ]
  },
  {
   "cell_type": "code",
   "execution_count": 211,
   "id": "762e19d1",
   "metadata": {},
   "outputs": [
    {
     "data": {
      "text/plain": [
       "[DecisionTreeRegressor(random_state=866445144),\n",
       " DecisionTreeRegressor(random_state=621406217),\n",
       " DecisionTreeRegressor(random_state=822572176),\n",
       " DecisionTreeRegressor(random_state=559580077),\n",
       " DecisionTreeRegressor(random_state=55799716),\n",
       " DecisionTreeRegressor(random_state=2006030043),\n",
       " DecisionTreeRegressor(random_state=1407121657),\n",
       " DecisionTreeRegressor(random_state=1779048679),\n",
       " DecisionTreeRegressor(random_state=494911235),\n",
       " DecisionTreeRegressor(random_state=2032985414)]"
      ]
     },
     "execution_count": 211,
     "metadata": {},
     "output_type": "execute_result"
    }
   ],
   "source": [
    "#10 adet agac\n",
    "bag_model.estimators_"
   ]
  },
  {
   "cell_type": "code",
   "execution_count": 212,
   "id": "924c90b5",
   "metadata": {},
   "outputs": [
    {
     "data": {
      "text/plain": [
       "[array([254, 816, 387, 254,  55, 638, 765, 309, 832, 166, 304,  79, 534,\n",
       "        655, 116, 816, 370, 477,  79, 570, 101,  47, 425,  95, 321, 804,\n",
       "         89, 367, 408, 716, 503, 813, 585, 174, 313, 684, 313, 257, 360,\n",
       "        493, 610, 390, 594, 420, 607, 700, 314, 354, 221, 590, 140, 123,\n",
       "        657, 277, 434, 255, 604,  26,  54, 512, 462, 203, 689, 593, 465,\n",
       "        765, 212, 462, 166, 549, 382, 204, 628, 253, 793, 830, 504, 258,\n",
       "        285, 249, 672, 674,  95, 775, 539, 531, 436, 661, 101, 128, 379,\n",
       "        820, 825, 272, 683,  51, 371, 277, 525, 320,  85, 799, 605, 421,\n",
       "        854, 799, 440, 757, 631, 361, 176, 408, 376, 322, 269, 574, 717,\n",
       "         58, 114, 194, 265, 571, 844, 269, 154, 788, 325,  63, 365, 686,\n",
       "        697, 225, 586, 235,  78, 614, 217, 609, 824, 150, 136,  26, 715,\n",
       "        656, 406, 292, 814, 403, 677, 645,  74,  72,  54, 304,  86,  63,\n",
       "         61, 454, 601, 389, 379, 143, 560, 357, 240, 102,  42, 446, 829,\n",
       "        551, 749,  43, 615, 413, 736, 413, 622, 103, 199, 490, 490, 434,\n",
       "         39, 521,  59, 397, 739,  90, 145, 830, 272, 411, 538, 474, 433,\n",
       "        152, 253,  89, 771, 352, 386, 399,  12, 761, 490, 749, 735, 183,\n",
       "        314, 771, 357, 130, 168, 190, 777, 606, 640, 265, 523, 108, 693,\n",
       "        407, 183, 191,  83,  30, 683, 472, 553, 467, 755, 234,  53, 678,\n",
       "        296, 681,  54, 109, 355, 112, 697, 597, 530, 298, 732, 445, 147,\n",
       "        693, 397,  20, 556, 305, 369,  58, 257, 545, 643, 141, 232, 192,\n",
       "        706, 181,  43, 461, 498, 572, 200, 445, 815, 820,  62, 658, 166,\n",
       "        751, 143,  44,  43, 176, 366, 765, 283, 618, 435, 845, 266, 536,\n",
       "         66, 240, 738, 553, 427, 774, 463, 266, 382, 657, 299, 474, 598,\n",
       "        387, 330, 265, 342, 433, 450, 268, 593, 186, 313, 346, 794, 267,\n",
       "        601, 540, 696, 202, 776,  16, 522, 670, 722, 380, 667, 140, 620,\n",
       "        131, 487, 809, 301, 692, 194, 613, 194, 418, 608, 825, 773, 466,\n",
       "        549,  74, 363, 257, 745, 707, 220, 107,  14, 772, 760,  73, 114,\n",
       "        428, 734, 600,  46,  95, 564,  21, 547, 418, 674, 120,  64, 306,\n",
       "        849, 126, 744, 834,  72, 102, 723,  56, 442, 460, 734, 276,  51,\n",
       "        384, 592, 124, 365, 340, 733, 209, 839, 845, 455,  44, 373, 511,\n",
       "        697, 266, 827, 412, 819, 458, 308, 539,  55, 673, 351,  93, 450,\n",
       "        144, 844, 624, 468, 530, 166, 449,  85, 290, 673, 233, 798, 479,\n",
       "        594, 210, 469,  88, 700, 739, 140, 438,  61,  90, 463, 393, 157,\n",
       "        325, 143, 590, 595, 444, 287, 680, 396, 266, 829, 415, 393, 571,\n",
       "        379, 505, 288, 549, 498,  75, 306, 740, 338, 764, 428,  35, 459,\n",
       "        559, 233, 173, 638, 376,  65, 516, 607, 579, 380, 337, 552, 743,\n",
       "        791, 603, 376, 498,  13, 340, 583,  44, 723, 603, 657, 175, 516,\n",
       "        165, 218, 800, 760, 801,  17, 241, 275, 152, 421, 754, 524, 437,\n",
       "        377, 832, 128, 679,  86, 350,  37, 134, 101, 205, 286, 831, 678,\n",
       "        525, 625, 673,  41, 267, 410, 598, 398, 145, 852, 512, 717, 607,\n",
       "        548, 389,  96,   8,  56,  25, 525, 847, 539, 507, 758, 821, 198,\n",
       "        825, 308, 553, 512, 794, 316, 645, 121,  66, 318, 624, 766, 465,\n",
       "        506, 253, 260, 333, 558, 124, 183, 310, 786, 846, 254, 263, 455,\n",
       "         55, 183, 186, 723, 377, 625, 703, 573, 624, 125, 807, 628, 398,\n",
       "        170, 726, 653, 366, 668,   8, 850, 854, 387, 370, 271, 849, 493,\n",
       "        153, 606,  57, 642, 672, 225, 159, 544, 344, 701, 854, 251, 602,\n",
       "        401, 425, 735,  70, 218,  66, 655, 124, 679, 170, 194, 595, 199,\n",
       "        155, 842, 772, 852, 261, 418, 423, 535, 313, 768, 272,  87, 209,\n",
       "        211, 311,  86, 476, 388, 430, 685, 729, 670, 634, 839, 525, 841,\n",
       "        767, 556, 219,  12, 437, 108, 799,  51, 155,  72,  21, 827, 532,\n",
       "        583, 590, 588, 185, 768, 142, 340,  77, 781, 542, 714, 100, 196,\n",
       "        108, 560,   4,  61,  27, 518, 624, 459, 340, 436, 840, 572, 475,\n",
       "        726, 776, 169, 851, 377, 156, 784, 783, 271,  96, 442,  80, 325,\n",
       "        514, 697, 300,  80, 118, 148, 179,  75, 706, 259, 652, 380,  85,\n",
       "        445, 591, 494, 226, 600, 224, 759,  20,  94, 332, 294, 499, 117,\n",
       "        322, 606, 735, 389, 201, 576, 294,  42, 119, 262, 113, 554, 173,\n",
       "        589,  34, 365, 537, 350, 486,  68, 362, 751, 259, 576, 219, 649,\n",
       "        681, 669, 321, 803,  65, 685,  62, 480, 223, 284, 111,  94, 285,\n",
       "          1, 239, 366, 759, 511, 391, 204, 525, 332, 443, 354,  54, 243,\n",
       "        376, 461, 562, 740, 336, 217, 815, 117, 813, 696, 154, 637,  55,\n",
       "        823, 151, 436, 539, 551, 547, 574, 774, 425, 263, 820,  33, 455,\n",
       "        151, 541, 227, 850, 509, 325, 542,  62, 361, 530, 238, 487, 803,\n",
       "        751, 786, 388, 355, 333, 843, 595, 223, 407,  87, 394, 839, 689,\n",
       "        645,   0, 297, 529, 764, 632, 349, 569, 182, 385, 384,   3, 412,\n",
       "        633,  24, 361, 842, 143, 314, 221, 261, 382, 438, 627, 280, 279,\n",
       "        283, 559,  52, 470, 824, 418, 674, 399, 574, 382]),\n",
       " array([241, 372, 160, 728,  15, 670, 668, 527, 241, 436, 728, 720, 587,\n",
       "        281, 499, 718,  88, 221, 803, 192, 336, 492, 123, 231, 202, 250,\n",
       "        440, 134, 531, 826, 708, 758, 674,  22, 435, 186, 162, 492, 415,\n",
       "        229, 417, 504, 654, 819, 757, 516, 306, 676, 543, 451, 420, 165,\n",
       "        528, 497,  25, 467, 627, 813, 828, 377, 836, 637, 219,  90, 341,\n",
       "         93, 630, 610, 285, 500, 480, 204, 499, 522, 237, 481, 224, 648,\n",
       "        111, 183, 634, 371, 469, 338, 696, 800, 504, 767, 469, 546, 566,\n",
       "        125, 592, 165,  37, 223,   8, 840, 560,  46, 133, 458, 852, 271,\n",
       "        306, 829, 298, 455, 665, 214, 463, 334, 330, 321, 752, 673, 831,\n",
       "        230, 648, 665, 380, 524, 568, 375, 187, 791, 349, 472, 805, 621,\n",
       "        108, 132, 743, 774, 564, 763, 641,   5, 420, 771, 665, 580, 238,\n",
       "        496, 581, 675, 468,  23, 203, 522, 697, 230,  48, 636, 777, 819,\n",
       "        520, 417, 769, 781, 119, 695, 142, 339,  37, 783, 689, 136, 551,\n",
       "        240, 498, 505, 437, 543, 202, 717,  30, 175, 553, 349, 819, 139,\n",
       "         15,  16, 145, 142, 555, 850, 698, 302,  54, 289, 297, 616, 102,\n",
       "        586, 696,   9, 775, 418, 597,  51, 468, 410, 409, 282, 138, 336,\n",
       "        131, 278, 123, 816, 420, 561, 389, 199, 317, 633, 177, 756, 626,\n",
       "        365, 586, 425, 591,  55, 101, 423, 591, 424, 660, 111, 466, 701,\n",
       "        790, 595,  76, 732,  45, 627, 681, 782, 707, 103, 272, 541, 392,\n",
       "        493, 308, 252, 276, 217, 444, 288,  36,  29, 529, 607, 544, 279,\n",
       "        626, 480,  41, 290, 131, 486,   4, 726, 640, 619, 631, 325, 770,\n",
       "        584, 264, 838, 609, 776,  72, 579, 456, 279, 144, 406, 265, 234,\n",
       "        543, 121, 434, 778, 685, 297, 671, 479,  16, 313, 613,  40, 466,\n",
       "        103, 673,  21,  90, 165, 594, 366, 166, 630, 232, 406, 149, 805,\n",
       "        604, 805, 173, 386, 573,  31, 783, 579, 157,   6, 320, 554,  41,\n",
       "        800, 486, 346, 780,   8, 459, 785,  61, 602,   6, 337, 369,  39,\n",
       "        829, 204, 550, 583, 189, 731, 805, 780, 622, 475, 661, 419, 427,\n",
       "        537, 192, 225, 646, 371, 493, 335,  67, 106, 681, 253, 696, 728,\n",
       "         69, 105, 622, 474, 187, 230, 560, 583, 746, 433, 271,  57, 547,\n",
       "        705,  76, 261, 146, 235,  83, 740, 237,  34, 246,  35, 595, 470,\n",
       "        669, 318, 814, 484, 646, 500, 570, 428, 114, 329, 433, 268, 576,\n",
       "        345, 270, 606, 488, 707, 800, 392, 584, 632, 813, 265,  93, 401,\n",
       "        336, 523, 810, 479, 839, 136, 589, 312, 444, 382, 632, 395, 641,\n",
       "         51, 439, 446, 139,  22, 615, 342, 509, 135, 466, 263, 468, 722,\n",
       "        690, 195, 233, 744, 292, 166, 806, 737, 680, 733, 547, 525,  75,\n",
       "        194, 149, 830, 230, 719, 854, 195, 480, 706, 598, 670, 226, 413,\n",
       "        516, 313, 421,  44,  12,  74, 287, 500, 769, 211, 330, 238, 778,\n",
       "        544, 672, 446, 210, 566, 785, 665,   0, 368, 113, 811, 151, 297,\n",
       "        593, 569, 496, 436, 637, 769, 113, 305, 557, 793, 408, 165, 276,\n",
       "         21, 165,  67, 319, 103, 376, 389, 788, 320, 719, 501, 239, 846,\n",
       "        822,  20, 217, 668, 808, 482, 556, 598, 656, 745, 395, 494,  63,\n",
       "         70,  40, 261, 299, 480, 558, 172, 133, 511, 234,   0, 747, 751,\n",
       "        403, 356, 697, 366, 596, 482, 415, 496, 116, 131, 576, 710, 768,\n",
       "        169, 152, 577, 786, 322, 240, 281, 115,  43, 622, 522, 700,  94,\n",
       "        587, 364, 274, 696, 190,  20, 745,  84, 399, 371,  97, 505, 319,\n",
       "        246, 429, 511, 576, 546, 596, 805, 679, 670, 437, 634, 571, 854,\n",
       "        284, 133, 429, 723, 495, 366, 722, 211, 113, 677, 368, 419, 741,\n",
       "        440,  19, 621, 441, 464,  94, 386, 569,  15, 101, 854, 109, 781,\n",
       "        101, 255, 384, 153, 446, 215, 591, 600, 706, 414, 790, 155, 107,\n",
       "        383, 446, 431, 169, 854, 808, 582, 275, 316, 501,  14, 535, 537,\n",
       "        285, 232, 483, 714, 814, 373, 484, 312, 221, 130, 739, 654, 483,\n",
       "        712,  48, 517, 333, 700, 620, 846, 699, 590, 574, 588, 201, 585,\n",
       "        542, 442, 258, 642, 758, 646, 169, 580,  28, 139, 408, 263, 422,\n",
       "        849,  63, 222, 622, 383, 290, 734, 438, 743, 175,  61, 366, 590,\n",
       "        194, 484, 605, 566, 644, 501, 552, 273, 730, 522, 407, 439, 714,\n",
       "        431, 123, 584, 562, 445,  72, 186, 364, 761, 120, 849,  87, 737,\n",
       "        833, 514, 363, 553, 791, 623, 331, 539,  58, 475, 794, 657, 685,\n",
       "        719, 145, 343, 647, 829, 617, 194, 651, 649, 541, 330, 503, 373,\n",
       "        430, 233, 307, 653, 118, 635, 383, 731, 206, 417, 653, 651, 318,\n",
       "        164, 109, 369,  44, 399, 709, 835, 437, 429, 446, 846, 553, 762,\n",
       "        826, 266, 149, 287, 115, 699, 416, 808, 590, 754,   0, 321, 251,\n",
       "        586, 848, 649,  14, 153, 763, 718, 103, 345, 169, 590, 416, 155,\n",
       "        261, 638, 237, 498, 602,   9,  10, 519, 454, 290, 569, 230, 819,\n",
       "         12, 133,  32, 505,  84, 724, 610, 145, 588, 651, 675, 779,   4,\n",
       "        477, 230, 671, 725, 456, 361,  27,  11, 147, 394, 629, 500,  81,\n",
       "        794, 161, 170, 355, 177,  97, 399, 650, 567, 374]),\n",
       " array([816, 263, 836, 784, 367, 673, 498, 429, 523,  23, 269, 417, 243,\n",
       "        836, 756, 260, 259,  74, 523, 636, 451, 679, 455, 698, 163,  21,\n",
       "        277,  28, 290, 661, 716, 563, 539,  46, 720, 283, 619, 741, 727,\n",
       "        718, 110, 445, 463, 155, 322, 460, 354, 403, 514, 820, 828, 562,\n",
       "        417, 226,  67, 391, 442, 495, 438, 597, 491, 568, 300, 571, 568,\n",
       "        766, 619, 372, 572, 300, 228,  95, 163, 549,  88, 242, 269, 137,\n",
       "        106, 416, 210, 503, 772, 336, 311, 159, 320, 247, 663,  24, 153,\n",
       "         28, 477,  32, 805,  93,  16,  16, 421, 138, 670, 479, 742, 459,\n",
       "        262, 816, 379, 272, 756, 205, 791, 350, 801, 654, 748,  42, 151,\n",
       "        655, 582, 396, 332, 653, 701, 364, 645, 106, 266, 181, 616, 801,\n",
       "        458,  48, 470, 153,  96, 192, 634, 421, 185, 355, 241, 187, 612,\n",
       "        751, 159, 317, 492,  50,  74, 830, 618, 198, 276, 377, 252, 442,\n",
       "        712,  66, 452, 705, 328, 378, 816,  44, 226, 550, 767, 756, 755,\n",
       "        595, 585, 503, 198, 163, 149, 845, 317, 771, 198, 274, 194, 493,\n",
       "        194, 613, 477, 453, 827,  87, 213, 493, 525, 196, 622, 803, 513,\n",
       "        682, 274,  43, 483, 416, 288, 348, 496, 525, 278, 668,  71, 565,\n",
       "        108, 261,  31, 305, 765, 352, 120, 851, 631, 843, 142, 434, 630,\n",
       "        240, 562, 634, 128,  15, 239, 717, 454, 689, 169, 420, 625, 623,\n",
       "        153, 747, 367, 739,  61, 144, 362, 632, 795, 527, 105,  41, 603,\n",
       "        623, 155, 315, 813,  92, 466, 782, 425,  52, 701, 201, 730, 103,\n",
       "        592,   4, 118, 343, 653, 557, 570, 789, 815, 691,  27, 542, 808,\n",
       "         55, 641,  91,  54, 499, 438, 658, 133, 671, 740, 577, 751,  61,\n",
       "        223, 173, 553, 690, 565, 465, 667, 105, 697, 659, 395, 797, 396,\n",
       "         35, 841, 561, 610, 418, 698, 816, 808, 199, 118, 127, 607, 638,\n",
       "         44, 678, 542, 851, 394, 730, 808, 553, 429, 786, 716, 713, 766,\n",
       "        735, 690, 181, 751, 641, 688, 730, 794, 602, 292, 324, 794, 681,\n",
       "        156, 308, 294, 390, 767, 461, 504, 674, 797, 142, 503, 217, 273,\n",
       "        429, 310, 516, 234, 116, 703, 718, 537, 648, 479, 295, 617, 330,\n",
       "        452, 526, 309, 830, 272, 165, 237, 386, 516, 192, 811, 517,  48,\n",
       "        494,  21,   8, 463,  79, 840, 182,  74, 209, 516, 292, 528, 107,\n",
       "        386, 450, 764, 405,  97, 104, 391,  37, 501, 510, 424, 132, 266,\n",
       "        773,  12, 674,  63, 420, 689, 779, 629, 291, 256,  31, 249, 546,\n",
       "        559, 490, 768, 559, 294, 301, 480, 229, 562, 731, 197, 488,  20,\n",
       "        323, 452, 394, 454, 273, 187,  93, 533, 131, 402, 795, 334, 188,\n",
       "         68, 694,  68, 408, 309, 685, 851, 823,  21,  74, 214, 818, 551,\n",
       "        381, 414, 340, 343, 136,  50, 533, 499, 368, 310, 136,  41, 598,\n",
       "        247,  63, 474,  93,  99, 465, 204, 301,  31, 666, 357, 850, 185,\n",
       "        721, 484, 603, 651, 387, 130, 669, 220, 471, 745, 745, 508, 117,\n",
       "        150, 114, 415, 148, 347, 563, 302, 614, 144, 819, 681,  55,  10,\n",
       "        332, 107,  68, 704, 358, 399, 793, 580,   7, 684, 237, 783, 125,\n",
       "        676, 122, 265, 315, 240, 842,  54, 178,  66, 247, 345, 665, 374,\n",
       "        386, 418, 801, 343, 731, 685, 742, 524, 570, 521,  19, 410, 373,\n",
       "        150,  15, 271, 840, 173, 254,  69, 644, 622,  39, 135, 516, 199,\n",
       "        567, 412, 535, 615, 597, 740, 349, 121, 393, 257,  80, 202, 795,\n",
       "        816, 239, 275, 147, 638, 849, 672, 194, 181, 759, 819, 520, 748,\n",
       "        526, 622, 622, 234, 439, 363,  52, 837, 173, 415, 708, 702, 551,\n",
       "        344, 181, 717, 136, 410, 168, 573,  79, 795, 455,  31, 361, 417,\n",
       "        743, 800, 470, 800, 452, 396, 601, 605, 645, 764,   2, 807, 584,\n",
       "        835, 283, 700, 524, 275,  70, 842, 802, 656, 585, 479,   0, 483,\n",
       "        364, 819, 242, 229,  63, 608, 847, 668, 493, 614, 204, 791, 427,\n",
       "        545, 179, 137, 348,  65, 362, 463, 597, 210, 619, 371, 110, 852,\n",
       "        212, 588,  75, 401, 515, 280, 718, 735, 251, 811, 200, 696, 177,\n",
       "        594, 780, 360, 291, 806, 217, 624, 280, 701, 667, 462,  26, 178,\n",
       "        751, 312, 582,  65, 499, 540,  73, 609, 487, 343, 211, 810, 665,\n",
       "        328, 841, 227, 564, 271, 175, 187, 407, 608, 207, 626, 487, 574,\n",
       "        529, 331, 384, 352, 441, 804, 141, 231, 141, 787,  89, 291, 155,\n",
       "        807,  32, 385, 850, 705, 631, 282, 366, 730, 708, 545, 427, 569,\n",
       "        221,  34, 188, 667, 103,   9, 752, 809,  70,  77, 316, 306, 111,\n",
       "        200, 351, 480, 835, 310, 728, 430, 677, 264, 164, 538, 329, 482,\n",
       "        514, 522, 181, 179, 307, 336, 443, 279, 438, 631, 170, 685, 133,\n",
       "        652, 278, 682, 757, 530,  50, 482, 210,  71, 527, 218, 249, 220,\n",
       "        235,  61, 223, 388, 728, 799, 736, 840,  33, 187, 495, 788, 185,\n",
       "        584, 424, 303, 166, 511, 665, 346, 585, 560, 720,  33, 268, 153,\n",
       "        101, 427,  35, 673, 798, 550, 379, 432, 317,  44,  79, 391, 303,\n",
       "        815, 368, 510, 682,  40, 233, 284, 530, 145, 380, 111, 743,  88,\n",
       "        818, 490, 428, 197, 420, 157, 525, 199, 286, 590]),\n",
       " array([249, 132, 164, 244, 208, 580, 217, 108, 191, 149, 560, 543, 381,\n",
       "        730, 516, 339, 602,   9, 479,  63, 229, 185,  87, 176,   4, 450,\n",
       "        474, 680, 115, 594, 119, 338, 853, 210, 510, 474, 250, 477, 794,\n",
       "        816, 700, 353, 604, 376, 563,  63, 414, 540, 336, 317, 832, 112,\n",
       "        302, 424, 196, 584, 198, 109, 255, 237, 671, 281,  14, 588, 362,\n",
       "        185, 118, 400, 761, 288, 138, 300, 154, 352, 629, 801, 303, 630,\n",
       "         44, 534, 380, 216, 496, 674, 684, 452, 621, 177, 526, 268, 365,\n",
       "        359, 336, 840, 463, 125, 363, 782, 367, 269,   3, 491, 642, 243,\n",
       "        320, 470, 389,  72, 205, 204,   2,  14, 439, 428, 206, 130, 282,\n",
       "        238, 725, 258, 763, 691, 107, 249, 107, 394, 727, 547, 827, 327,\n",
       "        367, 563,  83, 791, 358, 802, 302, 244, 726,  99, 625,   4, 298,\n",
       "         58, 613, 261, 310,  12, 500,  35, 629, 507, 613, 266, 673, 108,\n",
       "        357, 642, 436, 207, 379, 817, 660, 679, 629, 625, 322, 133, 645,\n",
       "         64, 508, 732, 604, 234, 660,  57, 468, 258, 777, 786, 540, 429,\n",
       "         31, 579, 384,  38, 717, 618, 296, 585, 515, 351, 129, 663,  50,\n",
       "        244,  41, 720, 439, 639, 163, 469, 751, 320, 194, 475, 453, 324,\n",
       "        839, 410, 797, 249, 302, 111, 482, 448, 827,  25, 423, 269, 203,\n",
       "        179, 664, 495, 501,  28, 261, 404, 616, 174, 347, 477, 192, 568,\n",
       "        303, 421, 465, 187, 270, 571, 309, 312,  17, 774, 794, 781, 803,\n",
       "        824, 694, 757, 232, 320, 162,  38, 665, 527, 508, 733, 771, 781,\n",
       "        446, 623, 211, 709, 696, 326, 738, 430, 158, 608, 686, 261, 684,\n",
       "        658, 241, 428, 494, 742, 693, 403, 465, 303, 698,  79, 731,  36,\n",
       "        629,  13, 829, 301, 694, 478, 536,   2, 729, 130, 293, 205, 706,\n",
       "        409,  21, 405, 441, 129, 622, 494, 719, 840,  10, 181, 259, 302,\n",
       "        143, 691,  26, 252, 830, 254, 472, 173, 485, 561, 296, 247, 714,\n",
       "        761, 415, 165, 420, 111, 595, 248, 187, 256, 230, 167, 538, 486,\n",
       "        743,  86, 655,  97, 377, 535,  98, 471, 749, 693, 717, 527, 104,\n",
       "        815, 223, 460, 813, 148, 426, 478, 272, 193, 102, 605, 586, 495,\n",
       "        718,  13, 313,  20, 435,  76, 760, 751, 320, 458, 500, 124, 696,\n",
       "        295, 762, 512, 352, 103, 382, 651, 843, 847, 160, 242, 468, 775,\n",
       "        395, 782,  20, 427, 795, 772, 153, 306, 679,  49, 314, 854, 212,\n",
       "        577, 105, 645,   3, 212, 744,   1, 207, 816, 757, 523, 825, 486,\n",
       "        126, 738, 662,  19, 774, 525,  96, 218, 476, 493, 444, 187, 445,\n",
       "        369, 205, 303, 491, 769, 757, 115, 329, 142, 198, 754, 473, 717,\n",
       "        151, 327, 330, 558, 489, 817, 142, 734,  70, 426, 680, 239, 479,\n",
       "        766, 366, 645, 848, 296, 415, 257, 258, 647,  98, 559, 288, 238,\n",
       "        799, 651, 278, 157, 653, 383, 142, 680, 630,  43, 724, 285, 492,\n",
       "        742, 254, 323,   3, 824, 630, 608, 712, 176, 677, 620, 624, 247,\n",
       "          2, 380, 713, 657, 183, 567, 188, 573, 282, 151, 420, 255, 675,\n",
       "        583, 131, 827, 702, 795, 506, 306, 778, 675, 814, 692, 534, 482,\n",
       "        293, 616, 503, 730, 390, 172, 735, 208,  88, 843, 154, 303, 635,\n",
       "        598, 517, 539, 243, 650, 517, 780,  23, 243, 473, 806, 578, 217,\n",
       "        324, 672, 364, 555,  39,  44, 630, 673, 593, 623, 415, 591, 517,\n",
       "        764, 607, 661,  13, 785, 449, 470, 372, 848, 426, 721, 638, 647,\n",
       "        386, 495, 728, 154, 591, 245, 533, 570, 180, 221, 324, 814, 813,\n",
       "         26, 150, 110, 164,  51, 424, 689, 252, 339, 405, 146, 479, 484,\n",
       "        278,  46, 410, 510, 616,   9, 222, 797, 354, 106, 285, 199, 373,\n",
       "        484, 588, 444,  81, 111, 579, 816, 238, 203, 182, 344, 486, 369,\n",
       "        278,  28, 125, 140, 458, 472, 202, 670, 662, 138, 812, 166,  68,\n",
       "        269, 512, 213, 238, 321, 220,  32, 824, 654, 587, 851,  47,  95,\n",
       "        145, 204, 396, 612, 229, 587, 848, 404,  10, 382, 511,  55,  68,\n",
       "        354, 669,  49, 620, 182, 711, 301, 616, 681, 395, 758, 290, 390,\n",
       "        127, 154,  96, 788, 609, 780, 151, 578, 304, 517, 505, 685, 147,\n",
       "        670, 841,  86, 221,  39, 141, 748,  28, 602, 327, 589, 245, 280,\n",
       "        619, 219, 671, 434, 847, 267, 819, 355, 774, 588, 373, 151,  20,\n",
       "         56, 511, 813, 543, 829, 593, 475, 237, 144, 246, 299, 620, 464,\n",
       "        432, 386, 483, 345,  95,  64, 843, 519, 581, 119, 538, 301, 151,\n",
       "        251,  67, 445, 344, 334, 229, 544, 369, 498, 649,   9, 158,  90,\n",
       "        414, 355, 728, 193, 286, 744, 689, 696, 592, 796, 380,  79, 613,\n",
       "        324,  15, 488, 176, 391, 188, 766, 644, 454,  60, 476, 442, 181,\n",
       "        736, 124, 768, 807, 659, 169, 351, 131, 763, 663, 711, 571,   8,\n",
       "        713, 629, 680, 734, 107, 512, 288, 234, 278, 698,  11, 326, 697,\n",
       "        150, 536, 705, 706, 501, 678, 247, 760, 522, 185, 444, 804,  15,\n",
       "        414, 454,  10, 429, 323, 847, 674, 740, 478, 304, 256, 171,  50,\n",
       "        657, 587, 570, 482, 795, 698, 785, 687, 500,  61, 408, 388, 682,\n",
       "        304, 795,  19, 137, 692, 363, 497, 351, 438, 212]),\n",
       " array([ 77,  78, 206, 440, 216,  36, 167, 144, 435, 123, 149, 498, 544,\n",
       "        260, 589, 749, 628, 805, 658,  74, 429, 665, 562,  69, 816, 650,\n",
       "        430, 437,  56, 534, 322,  32, 142, 676, 698, 835, 812, 199, 553,\n",
       "        685, 611, 779, 131, 794,   3, 584, 363, 429, 358, 327, 240, 193,\n",
       "        847, 405, 816,  42,  54, 467, 602, 341, 685,   9, 304, 677,  50,\n",
       "        447, 291,   3, 422, 370, 349, 541, 651, 187, 638, 537, 550, 380,\n",
       "        728, 673, 188,  28, 264,   7, 199, 697, 233, 104, 309, 283, 377,\n",
       "        359, 803, 740, 832, 175, 463, 807, 623, 265,   0, 726, 124, 267,\n",
       "         95, 111, 536, 227, 735, 775,  40, 253, 488,   9, 275, 258, 775,\n",
       "        806, 101, 295, 772, 799, 592, 552, 273, 772,  20, 496, 464, 205,\n",
       "        685, 705, 336, 563, 484, 350, 350,  71, 329, 508, 226, 277, 814,\n",
       "        842, 215, 590, 410, 394, 290, 630, 799, 481, 848, 730, 319, 551,\n",
       "        177,   0, 807, 135, 461, 350, 434, 604, 325,  22, 524, 773, 722,\n",
       "        835, 572, 441, 372, 360, 346, 783, 636, 631, 534, 284, 785,  58,\n",
       "        460, 256,  54,  66, 108,  71, 633, 797, 182, 603, 263, 760, 484,\n",
       "        565, 282, 154, 819, 830,  83, 196, 391,  50, 301, 848, 205, 109,\n",
       "        429,  40, 152, 375, 193, 202, 297, 683,  77, 119, 204, 106, 174,\n",
       "        399, 821, 580, 156, 221, 250, 191, 242,  47, 764, 602, 298, 127,\n",
       "          6,  78, 184,  24, 741, 589,  15, 269, 571,  28, 484, 535, 764,\n",
       "        778, 507, 647, 668,  87, 594, 211, 208, 175, 395, 771, 805, 497,\n",
       "        465, 789, 492, 156,  96, 652, 272, 275,  47, 292, 282, 191,   6,\n",
       "        695, 336, 192, 583, 271, 500, 349, 654, 373, 282, 790, 575,  16,\n",
       "        797, 444, 698, 327, 218, 387,  43, 802, 325, 376, 173, 634, 685,\n",
       "        110, 772, 610, 389,  82,  62, 845, 141, 134,   3,  80, 739, 149,\n",
       "        196, 816, 489, 262, 555, 847,  46, 716, 113, 326, 840, 305, 750,\n",
       "        340, 709, 326, 780,  62, 316, 697, 223, 319,  19, 784, 558, 655,\n",
       "        378, 458, 710, 839, 387, 396, 537,  77, 174, 518, 320, 369, 230,\n",
       "        211, 437, 215, 333, 241, 745, 275, 241, 645, 405, 329, 838, 687,\n",
       "        267, 490, 314, 139,  52, 494,  29, 160, 100, 765, 810, 488, 694,\n",
       "        154, 312, 461, 390, 328, 811, 346, 219, 790, 179, 147, 260,  58,\n",
       "        498,  47, 617, 139, 199, 611, 642, 705, 162, 574, 578,  14, 182,\n",
       "        443, 648, 232, 723, 541, 743, 724, 333, 699, 521, 724,  60, 705,\n",
       "        774, 589, 403, 664, 831, 686, 362, 140, 807, 276,  36, 547,   0,\n",
       "        114, 570, 339, 323, 121, 422, 464, 755, 786, 496, 372, 431, 157,\n",
       "        387, 704, 353, 467, 597, 532, 451, 542, 310, 169, 389, 654, 186,\n",
       "        633, 198, 559, 820, 727, 136, 790, 155, 418, 842, 170, 248, 239,\n",
       "        152, 282, 396,  92, 711, 333, 368, 619, 798, 687, 433, 689, 763,\n",
       "        832, 400, 111, 841, 385,  92, 391, 154, 442, 336, 795, 522,   6,\n",
       "        463, 735, 216, 707, 689, 592, 432, 262, 635, 568, 698, 501, 825,\n",
       "        663, 297, 739, 621, 528, 199, 459,  26, 760, 180, 301, 567, 399,\n",
       "        157, 734, 329, 109,  63, 564, 794, 108, 440, 266, 544, 414,  53,\n",
       "        173, 407, 283, 505, 420,  15, 212, 584, 729, 173, 564, 506, 658,\n",
       "        813, 213, 360, 382, 160, 608, 638, 111, 144, 522, 562,  22, 181,\n",
       "        834, 597, 407,  17, 416, 834, 678, 763, 463, 598, 474, 226, 606,\n",
       "        407, 830, 399, 116, 321, 217,  41, 360, 290, 603, 664, 286, 742,\n",
       "        214, 590, 145, 481, 110, 484, 268, 475, 200, 652, 201, 337, 805,\n",
       "        793, 423, 715, 396, 157, 598, 728, 556, 811, 220, 845, 285, 555,\n",
       "        480, 184, 160, 324, 139, 485, 155, 490, 315,   0, 655,  26, 205,\n",
       "        270,  81, 144, 579, 165, 172, 577, 735,  95, 296, 207, 338, 328,\n",
       "        661, 705, 658,  15, 709, 187,  96, 288, 567, 336, 808, 587, 797,\n",
       "        567, 527,  31, 522, 261, 690, 379, 440, 407,  13,  82, 663, 143,\n",
       "        200, 226, 592, 147, 300, 452, 156, 582, 491, 712, 616, 348, 408,\n",
       "        509, 550, 610, 467, 275, 797, 180, 830, 109, 237, 276, 592, 209,\n",
       "        143, 156, 565, 308, 611, 388, 135, 202, 285, 178, 165,  88,  15,\n",
       "        367, 204, 377, 577, 668, 410, 561,  80, 120, 236, 776, 751,  26,\n",
       "         86, 274, 457, 267, 625, 318, 459, 116, 322, 546, 513, 415, 401,\n",
       "          7, 548, 549, 679, 725, 784,  55,  89, 798, 688, 308, 850, 261,\n",
       "        226, 731, 794, 556, 689,  91, 313, 634, 151,  93, 375, 477, 612,\n",
       "        391,  13,  79,  45, 128, 324, 650, 134, 702, 545, 682, 679, 476,\n",
       "        416, 463, 459, 560, 681, 312, 706, 850, 160, 552, 728, 214, 325,\n",
       "        226, 490, 512, 214, 392, 270, 823, 786,  77, 821,  68, 305, 369,\n",
       "        809, 827,  26, 162, 736, 656, 671, 684, 712, 118, 759, 184,  56,\n",
       "        406, 642, 708, 340, 801, 850, 721, 346, 679, 203, 111, 255, 815,\n",
       "        333, 167, 359, 767, 699, 685,   2,  89, 539, 413, 381, 328, 572,\n",
       "        515, 766, 216,  22, 285, 723, 381, 652, 578, 740, 151, 163, 670,\n",
       "        335, 373, 147, 413, 136, 314, 666, 495,  97, 582]),\n",
       " array([265, 845, 791, 682, 560, 376, 423, 227, 413,  23, 305, 252, 534,\n",
       "        143, 235, 330,  22, 812,  40,  43, 403, 614, 536,  99, 823,  54,\n",
       "        160, 284, 635, 739, 118, 767,  91,  52, 676, 765, 358, 598, 377,\n",
       "        161, 435, 444,  99, 126,  61, 800, 667, 661,  45, 676,  89, 732,\n",
       "        507, 266, 449, 719, 105, 427, 538, 451, 694, 504, 541, 723, 760,\n",
       "        452, 478, 835, 370, 845, 299, 116, 337, 300,  73, 744,   7, 297,\n",
       "        203, 459, 495, 474, 122, 225, 282, 264, 440, 100, 505, 601, 167,\n",
       "        664, 698, 431, 192, 156, 316, 114, 588, 139, 436, 155, 499, 509,\n",
       "        724, 231, 730, 149, 367, 760, 684,  60, 821,   9, 622, 410, 455,\n",
       "        169, 680,  17, 582, 789, 366, 620, 358, 532,  88,  99, 518, 776,\n",
       "        537, 643, 795, 396, 343, 794, 575,  45, 788, 219, 416, 369, 621,\n",
       "        590, 176, 151, 245, 530,  67, 601, 301, 657, 285, 586,   3, 755,\n",
       "        445, 122, 256, 849, 456, 649, 839,  84, 836, 663, 631, 618, 768,\n",
       "        389, 711, 741, 839, 713, 222, 203, 827, 634, 633, 691, 557, 491,\n",
       "        230,  91,  56, 708, 308, 685, 320, 406, 770, 399,  58,   5, 610,\n",
       "        141, 508, 137, 707, 238, 709, 532, 821, 602,  43, 278, 173, 167,\n",
       "        244, 608,  55, 472, 499, 799, 425, 761,   6, 624, 700, 532, 426,\n",
       "        211, 462, 154, 359,  19, 327, 727, 609, 132, 621, 714,  71, 660,\n",
       "         62, 540, 195,  13, 708, 515, 810, 720, 541, 240, 437, 288, 277,\n",
       "        352, 185, 186,  70,  26, 743, 440, 742, 777, 631, 221, 522, 816,\n",
       "        399, 170, 770, 118, 235, 346, 700,  15,  28, 803, 643, 425, 347,\n",
       "        174, 551, 313, 203, 851, 636,  10, 544, 656, 276, 792, 721, 831,\n",
       "        337,  77,  45, 851, 711, 339, 626, 279, 564, 353, 115, 452,   5,\n",
       "        641, 832, 303, 742, 481, 792, 664, 570,   3, 277, 273, 257, 322,\n",
       "        322, 409, 622, 325, 335,  55, 695, 567, 275, 492,  48,  83, 528,\n",
       "        143,  39, 480, 422, 325, 105, 463, 281, 322, 718, 309, 120, 488,\n",
       "        307, 694, 625, 153, 321, 746, 577, 347, 558, 488, 565, 685, 361,\n",
       "        794, 245, 821, 395, 522, 183, 662, 635, 534, 788, 738, 162, 341,\n",
       "        260,  42, 615, 701, 760, 583, 163, 634, 462, 620, 451, 847, 202,\n",
       "        526, 780, 842, 236, 509, 621, 829, 264, 775,  36, 524, 760, 444,\n",
       "        588, 350, 312, 714, 672, 613, 665, 398, 584, 814, 271, 542, 694,\n",
       "         96, 153, 639, 428,  20, 377, 479, 433, 546, 838, 401, 111, 403,\n",
       "          7,  41, 137, 363, 453, 574, 162, 717, 434, 268, 844, 375, 417,\n",
       "        423, 737, 843, 294, 401,  74, 136, 773, 326, 781, 478, 608, 743,\n",
       "        650,  30,  69, 365, 530, 495, 127, 170, 387, 723,  40, 146, 213,\n",
       "        447, 216,  64, 552, 440, 632, 160, 388,  29,   2,  43, 106, 718,\n",
       "        766, 438, 548, 665, 462, 282, 180, 438, 839, 847, 790, 787, 453,\n",
       "        239,   6, 807, 621, 291, 805, 150,  70, 533, 594, 668, 186, 364,\n",
       "        355, 457, 712, 476, 616, 238, 628,  48, 306, 649, 472, 837, 303,\n",
       "        773, 695, 781,  56, 146, 260, 452, 142, 482, 449,   5, 267, 257,\n",
       "        387, 144, 344,  58, 276, 173, 338, 494, 783, 230, 338, 833, 432,\n",
       "        201, 145, 243, 105, 845, 261, 229, 376, 230, 682, 294, 313, 263,\n",
       "        685, 263,  37, 540, 827, 722, 841, 784, 167, 124, 719,  88, 169,\n",
       "        310, 136, 117, 653, 359, 542, 492, 196, 675,  93, 562,  95, 568,\n",
       "        526, 581, 565, 152, 455, 535, 459, 764, 623, 339, 376, 364, 340,\n",
       "        705, 495, 597, 263,  72, 738, 507, 131, 647, 739, 576, 147, 692,\n",
       "        121,  26, 764, 152, 432,  93,  89, 442, 502, 237, 275, 289, 727,\n",
       "        225,  27,  73, 779, 733, 646, 663, 672, 367, 487,  60, 754, 806,\n",
       "        485, 571, 307, 550, 646, 815, 138, 523, 845, 607, 800, 774, 817,\n",
       "        438, 774, 556, 240, 680, 574, 727, 301, 492, 192, 664, 407, 606,\n",
       "        221, 734, 641, 389, 311, 675,  36, 470, 157, 759, 405,  35, 540,\n",
       "          2, 275, 729, 212, 452, 797, 842, 554, 722, 645, 166, 108,  74,\n",
       "        720, 102, 838, 123, 295, 559,  89, 766, 444, 331, 150, 739, 271,\n",
       "        172, 624, 820, 679,  72, 348, 216, 585, 278, 456, 217, 653, 789,\n",
       "        258,  49, 708, 198, 669, 316, 606, 195, 343, 747, 221, 457, 819,\n",
       "        459, 655, 675, 821, 656, 752, 577, 289, 234, 806, 801,  18, 476,\n",
       "        119,  66,  34,  80, 119,  99, 852, 246, 273, 707, 286, 199, 840,\n",
       "        357, 372, 826, 424, 586, 130, 471, 250, 830, 437, 514, 147, 715,\n",
       "        152, 541, 630, 777,  50, 797, 837, 672, 561, 664, 537, 725, 828,\n",
       "        285, 532, 316, 143, 790, 685, 713, 760, 640, 444,  20, 836, 462,\n",
       "        768,  49, 129, 684, 184, 406, 745,  57, 511, 694,  15, 284, 310,\n",
       "        635,  22, 148, 233, 644, 158, 782, 546, 715, 705, 738, 475, 631,\n",
       "        515, 765, 822, 791,  75,  48, 380, 378, 583, 584, 246, 139, 425,\n",
       "        273, 248, 834, 810, 163, 769, 103, 209, 206, 245,  11, 587, 127,\n",
       "        132, 553, 145,  60,  82, 823, 368, 752,  69, 731, 760, 446, 245,\n",
       "        460, 643, 399, 330, 623,   5, 504, 273, 790, 424]),\n",
       " array([521,  78, 712, 323, 796, 167, 489, 651, 186, 366, 271, 242, 303,\n",
       "        629, 406, 451, 200, 306, 237, 470, 656, 374, 359, 671, 637, 615,\n",
       "        469, 582, 816, 577, 595, 377, 272, 753, 378, 482, 854, 594, 330,\n",
       "        594, 593,  47, 116, 685, 133, 344, 759, 526, 239, 546, 502, 847,\n",
       "        784, 354, 543, 686, 208, 731, 320, 481, 751, 538, 289, 838,  67,\n",
       "        520, 666, 220, 701, 834, 789,  56, 843, 603, 268, 512, 342, 118,\n",
       "        507,  63, 730, 244, 370,  76,  67, 626, 190,  63, 811, 711, 453,\n",
       "        129, 430, 455, 216,  11, 351, 768, 797, 521,  78, 534, 654, 821,\n",
       "         92, 762, 817, 149,  44, 746, 243, 768, 545,  96, 419,  58, 219,\n",
       "        440, 582, 363, 160, 386, 777, 128, 125, 523, 684,  48, 333, 675,\n",
       "        375,  35, 103, 710, 264, 129, 784, 455, 854, 621,  60,  26, 549,\n",
       "        368, 308, 701, 175, 765, 561, 344, 836, 253, 746, 204, 493,  54,\n",
       "        452, 402, 534, 103, 769, 213, 462, 613, 429, 790, 272, 508, 225,\n",
       "        170, 553, 832, 360, 490, 645, 621, 269,  19, 754, 543,  60, 214,\n",
       "        259,  56, 127, 852, 321, 129, 789, 789,  95, 417,  70, 292, 388,\n",
       "         21, 142, 802, 127, 682, 347, 515, 643, 159, 375, 340, 821, 194,\n",
       "        724, 441, 261, 466, 278, 766, 734, 138, 758, 151, 171, 336, 490,\n",
       "         60, 586, 737, 310, 839, 842, 687,  22,   1,  52, 575, 555, 471,\n",
       "        384, 630, 559, 185, 473,  77, 569, 778, 782, 158, 526, 383, 538,\n",
       "        137, 727, 322, 639, 167, 846, 148, 687, 824, 542, 243, 385, 527,\n",
       "         29, 356, 353, 105, 674, 722, 272, 718, 447, 349, 174, 841, 458,\n",
       "        485, 639, 588, 270, 143, 308,  60, 756, 422, 715, 114, 639, 385,\n",
       "        337, 311, 730, 812, 415, 797, 337, 622, 162,  80, 711, 340, 809,\n",
       "          0, 239, 845, 647, 267, 105, 472, 383, 507, 504, 274, 510, 374,\n",
       "        122, 672, 810, 751, 547, 152,  45, 780, 265, 113, 618, 244, 704,\n",
       "        455, 646, 567, 600, 215,  53, 829, 830, 325, 101,  76,  72, 749,\n",
       "        833, 301, 416, 762, 694, 457, 744,  94, 451, 511, 239, 852, 822,\n",
       "        460, 513, 174, 104, 448, 475, 763, 805, 725,  64, 716, 651, 325,\n",
       "        320, 117, 574, 274, 292, 518, 586, 341, 457, 381, 830, 624, 149,\n",
       "        755, 389, 568, 265, 361, 235, 659, 527, 428, 171, 127, 243,  18,\n",
       "        709, 510, 292,  81, 261, 597,  82, 604, 573, 474, 276, 779,  55,\n",
       "        733, 845, 232, 705, 716, 257, 506, 123, 142, 763,  17, 816, 132,\n",
       "        764, 823, 718, 367, 628, 386, 240,  17, 244,  96, 515,   5, 798,\n",
       "         50, 765, 852, 150, 401, 363, 444, 379, 510, 769, 388, 543,  93,\n",
       "        261,   1, 552, 119, 429, 195, 723, 778, 510, 777, 618, 504, 341,\n",
       "         11, 461, 663, 365, 251, 439, 741, 287, 570, 162, 471, 853,  98,\n",
       "        199, 363, 221, 598,  83, 283,  14, 335,   1, 606, 356, 669, 379,\n",
       "        191, 350, 463, 457,  98,  18, 533, 433, 356, 579,  97, 565, 623,\n",
       "        647, 560, 454, 503, 211,  38, 363, 544, 471,  21,   6,  81, 543,\n",
       "         81, 616, 732, 260, 101, 718, 776, 595, 827, 566, 648, 519, 123,\n",
       "        365, 619, 628, 215, 324, 355, 713, 505, 679, 762, 321,  77, 853,\n",
       "        397, 235, 459, 105,  93, 224, 107, 537, 677, 196, 293,  46, 837,\n",
       "        853,  89,  80, 268, 508, 597, 772, 453, 675, 311,  30, 108, 330,\n",
       "        417, 612, 417, 388,  62, 502,   6, 753, 238, 800,  43, 428, 372,\n",
       "        844,  85, 829, 183, 319, 426, 297,  20, 607, 597,  11, 715, 680,\n",
       "         59, 379,  83, 271, 385, 791, 808, 351, 604, 761, 339,  99, 417,\n",
       "        703, 633, 171, 507, 547, 335, 727,  63, 137, 742, 557, 485, 145,\n",
       "        449, 819, 484, 485, 266, 455, 810, 742, 783, 163, 596, 757, 120,\n",
       "        637, 839, 118, 431, 304, 111,  20,  21, 332, 361, 362, 107, 697,\n",
       "         77, 358, 235, 577, 768,   7, 703, 308, 739, 498, 682, 405, 188,\n",
       "        429, 382, 641, 241, 501,  64,  57, 829, 265,  80,  34, 758, 430,\n",
       "        137,  29, 219, 741,  33, 496, 808, 385,  26, 506, 640, 783, 766,\n",
       "        729, 471, 776, 396, 580, 372, 179, 149, 763, 399, 798, 848, 131,\n",
       "        385, 735, 139, 742, 644, 818, 453, 106, 473, 541, 637, 651, 255,\n",
       "        391, 197, 632, 558, 550, 578, 529,  62, 113, 258, 343,  28, 143,\n",
       "        798, 561, 815, 695, 219, 211, 243, 396, 291, 387, 842, 685, 560,\n",
       "        402, 385,   8, 562, 735, 780, 563, 132, 837,  88, 689, 334, 251,\n",
       "        790, 270, 319, 759, 384, 574, 504, 715,  85, 515, 511, 424, 514,\n",
       "         67, 231, 213, 124, 841, 539,  68,   0,  26, 364, 243, 398, 781,\n",
       "        845,  49, 716, 111, 579, 258,  63, 139,  82, 810, 412, 790, 575,\n",
       "        567, 136, 573,   9, 608, 426, 141, 316, 590, 206,   2, 257, 850,\n",
       "         63, 120, 765,  10,  76, 205, 378, 336, 763, 581,  51, 194, 602,\n",
       "        121,  55, 443, 506, 559, 119, 618,  77, 778, 383, 562, 651, 722,\n",
       "        143, 465, 108, 306, 517, 506, 634, 631, 513, 316, 435, 386, 457,\n",
       "        724, 400, 642, 205, 635, 209, 232, 265, 639, 623, 806, 546, 742,\n",
       "        194, 214,  67, 684, 249, 504,  44, 371, 758, 683]),\n",
       " array([614, 617, 612, 663, 713, 728, 262, 235, 289, 692, 497, 155, 621,\n",
       "        253, 341,  41, 625, 411, 598, 594, 544,  96, 338, 353, 739,  62,\n",
       "        665, 140, 177, 319, 701, 375, 699, 282, 838, 606, 365,  39, 666,\n",
       "        150, 198, 554,  74, 810, 288,  48, 594, 314, 420, 448, 266, 735,\n",
       "        819, 320, 396, 592, 211, 663, 646, 383,  96, 677, 460, 633, 715,\n",
       "        279,  86, 804, 764, 624, 473, 711, 228, 705, 244, 145, 641, 416,\n",
       "        401, 538, 324, 471, 822, 645,  83, 785, 153, 768,  55, 249, 339,\n",
       "        440, 818, 828, 320, 382, 706, 828, 852, 599,  16, 618, 305, 543,\n",
       "        646, 213, 528, 723, 419, 805, 410, 225, 317, 814, 466, 839, 678,\n",
       "        651, 178,  22, 760,  95, 419, 548,  74, 105, 803,  42, 260, 662,\n",
       "        692, 649, 566, 300, 400, 467, 384, 378,  47, 608, 739, 303, 416,\n",
       "        179,  39, 840, 845, 118,  43, 456, 463, 318, 384, 660, 590, 314,\n",
       "        829, 565, 438, 753,  31, 297, 301, 167, 496, 254,  94, 726, 639,\n",
       "        410,  23, 320, 764, 423, 263, 323, 782, 274,  47,  29, 847, 343,\n",
       "        452,  46, 727, 661, 818, 781, 813, 492, 257, 781, 156, 292, 631,\n",
       "        804, 735, 430, 839, 243, 426, 254,  68, 152,  27,  32, 168,  18,\n",
       "        561,  10, 704, 545, 494, 168, 568, 804, 432, 126, 327, 637, 439,\n",
       "        612, 278, 821, 375, 688, 258, 853, 560, 393, 387, 826, 548, 218,\n",
       "        241, 487, 626, 689, 747, 816, 547, 738, 338, 550, 580, 282, 526,\n",
       "        801, 271, 253, 834, 150, 521, 492, 215, 694, 687, 105, 501, 678,\n",
       "        522, 220,  46, 430, 147, 805, 767,   9, 618, 436, 430,  95, 538,\n",
       "        714, 547, 411,  10, 273, 631, 434, 560, 224, 357, 248, 704, 744,\n",
       "        345,  48, 284,  83, 189, 159, 328, 617, 746, 203, 295, 464, 286,\n",
       "        330, 458, 778, 286, 690, 270, 674, 513, 850, 223, 505, 244,  78,\n",
       "        185, 493, 508, 676, 593, 475, 623, 408, 190, 389, 404, 143, 680,\n",
       "        144, 723, 162, 347, 702,  30, 613, 782,  41, 440, 790, 548, 169,\n",
       "         27, 570, 827, 370, 648,  23,  68, 645, 275, 393, 750, 177, 591,\n",
       "        505, 283, 265, 798, 394, 690, 576, 637, 731, 771, 602,  43, 208,\n",
       "        173, 449, 256, 469, 715, 433, 332, 737, 393, 344, 784, 604,  49,\n",
       "        576, 380,  90, 309, 828, 623, 189, 483, 294, 308, 337, 496, 666,\n",
       "        753, 279, 558, 816, 479, 393, 723,  97, 239, 550, 544, 673, 571,\n",
       "        574,  89, 492, 376, 316, 540, 313, 628, 126, 704, 368, 425, 247,\n",
       "        783, 708,  98, 665, 138, 134, 780, 599, 447, 120, 565, 179, 572,\n",
       "        452, 692, 484, 391, 396, 823, 281, 507, 323, 117, 399, 686,  42,\n",
       "        391, 252, 350, 796, 448, 615,  61, 374, 380, 129, 335, 224, 477,\n",
       "        848, 348, 245,  19,  19, 139, 797, 184,  42, 810, 254, 815, 753,\n",
       "        718, 441,  18, 261, 321,  11, 158, 231, 133, 603,  98, 286, 135,\n",
       "          0, 555, 143, 129, 427,  91,  98, 644, 761, 775, 106, 423, 724,\n",
       "        680, 416, 407, 176, 729, 118, 824,  10, 145, 203, 709, 280, 637,\n",
       "        304, 650,  40, 306,  59, 558, 170, 226, 349, 460, 727, 784, 615,\n",
       "        678, 561, 646, 187, 377, 501, 454, 168, 374, 785, 852, 605, 746,\n",
       "        134, 145, 114, 116, 546, 377, 344, 203, 656,  36, 594, 138, 391,\n",
       "        701, 717, 240, 302, 744, 812, 475, 318, 343, 142, 434, 652, 407,\n",
       "        455, 414, 589, 619, 841, 584, 158, 376, 363, 529, 125,  84, 163,\n",
       "         15, 336, 157, 766, 852, 654, 246, 298, 125,  65, 170, 212, 644,\n",
       "        379, 224, 813, 176, 154, 147, 312, 498, 609, 641, 749, 200, 493,\n",
       "        825, 437, 843, 812, 692, 603, 225, 161, 260, 752,  89,  47, 818,\n",
       "        225, 664,  30, 829,  38,  15, 578, 731,  59, 422, 719, 150, 430,\n",
       "        465, 483, 251, 629, 126, 367, 485, 184, 222, 393,  21, 110, 383,\n",
       "        618,  57,  94, 703,  15,  13,  32, 378, 492, 320,  86,  24, 520,\n",
       "        463, 357, 745, 425, 246, 252, 575, 641, 643,  91, 315, 615, 630,\n",
       "        656, 121, 646, 321, 134, 317, 156, 453, 368, 806, 462, 509, 682,\n",
       "        831, 833,  77, 488, 268, 782, 394, 401, 315, 592, 463, 670,  92,\n",
       "        780, 143, 226, 246, 261,  66, 816, 662, 282, 296, 845, 107,  23,\n",
       "        812, 157, 138, 190, 221,  37, 484, 765, 344, 104, 369, 674, 778,\n",
       "          6, 587, 432, 675,  12, 830, 206, 822, 779, 349, 302, 381, 577,\n",
       "        695,  46, 523, 212, 750, 504, 383, 176, 672, 389, 129, 279, 288,\n",
       "        763, 235, 328,   8, 354, 609, 663, 375, 448, 280, 697, 152, 724,\n",
       "        473, 660, 355, 771, 825, 130, 510, 420, 372, 552,  82, 249, 678,\n",
       "        324, 673,  42,  39, 786, 408, 150, 385, 255, 107, 242,  27, 143,\n",
       "        112, 672, 153, 277, 822, 493, 351,   9, 120, 115, 302, 313, 799,\n",
       "        339,  53, 589, 509, 560, 266, 247, 308, 435, 397, 208, 459, 707,\n",
       "        134, 558, 832, 345, 815, 689, 692, 129, 532, 684, 851, 551, 464,\n",
       "        599, 641, 788, 468, 100, 615, 573, 364, 652, 562, 294, 345, 694,\n",
       "         85, 501, 765, 120, 547, 603, 539, 357, 845, 791, 659,  72, 164,\n",
       "        667, 565, 486, 285, 661, 565, 610, 329,  83, 300]),\n",
       " array([173,  34, 658, 168, 355, 338, 172,  33, 416,  55, 772, 351, 516,\n",
       "         41, 718, 471, 836, 350, 601, 408,  68, 617, 722, 406, 128, 278,\n",
       "        854, 678, 353, 582, 606, 174, 193, 797, 266, 375, 179, 762, 451,\n",
       "        761, 389, 534, 264,  64, 134,  48, 548, 411, 349, 549, 688, 534,\n",
       "        812, 387, 752, 305, 839, 419, 324, 620, 833,  99,  68, 303, 565,\n",
       "        643, 402, 542, 840, 600, 263,  19, 632, 136, 300, 679, 521, 538,\n",
       "        136, 353,  63,  68, 431, 316, 542, 219, 200, 296, 315, 255, 180,\n",
       "        469, 495, 637, 219,  24, 307, 703, 352, 720, 844, 242, 552, 705,\n",
       "        266, 814, 281, 535, 673,   9, 265, 495,  70, 184, 854, 176, 108,\n",
       "         15, 732, 342, 647, 547, 582, 147, 156, 653,  20, 330, 581,  64,\n",
       "        141, 108, 802, 580, 848,  81, 522, 521, 747, 411, 650, 764, 608,\n",
       "        764,  65, 374, 830, 276, 249, 371, 219, 691, 225, 755,  90,  33,\n",
       "        335, 159,  18, 638, 613, 601, 318, 552, 245, 775, 269, 624, 662,\n",
       "        198, 175, 703,  41, 254, 219, 613, 573, 811, 583, 485, 380, 164,\n",
       "        834, 340,  74, 236, 332, 274, 335, 267, 266, 313, 761, 383, 177,\n",
       "         50, 236, 473,  23, 252, 622, 525, 381,  15, 487, 816, 425, 113,\n",
       "        183, 586, 522, 705, 304, 408, 826,  38, 650, 289, 764, 129,  74,\n",
       "        191, 336, 254, 717, 163, 401, 425,  38, 586, 639, 728, 481, 125,\n",
       "        805, 817, 551, 321, 576,  74, 788, 495, 596, 496,  12, 241, 715,\n",
       "        485, 572, 629,  53, 617,  71, 569, 495, 387, 134, 170, 129, 835,\n",
       "        610, 442,  99, 592, 161, 169, 496, 839,  85, 355, 825,  73,  60,\n",
       "        127, 396, 809, 531, 446, 441, 563, 547, 459, 812,  34, 268,  60,\n",
       "        813, 236, 119, 218, 666, 122, 705, 463,  96, 382, 247, 853, 125,\n",
       "        819, 832, 501, 193, 556, 720, 646,  94, 105, 596,  28, 775, 561,\n",
       "        658, 355, 650, 355,  65, 574, 682, 296,  52, 703, 704, 375, 544,\n",
       "        105, 430, 768, 638, 434, 109, 851, 514, 769, 626, 136, 518, 162,\n",
       "        243, 141,   7, 105, 146, 724, 379, 113,  38, 267,  74, 599, 796,\n",
       "        122, 807, 626, 785, 261, 697, 113, 735, 681, 140, 306, 451, 432,\n",
       "        355, 164, 727, 737, 712, 384, 758, 257, 583, 331, 586, 454, 121,\n",
       "        417, 466, 274,  82, 676, 699,  81, 265, 493, 127, 148, 832, 802,\n",
       "        525, 480, 583, 148, 723, 304, 170, 764, 634, 736, 729, 362, 242,\n",
       "         96, 365, 300, 307, 139, 647, 473, 830, 510, 478, 132,  61, 365,\n",
       "        359, 841,  67, 431, 413, 364, 505, 653, 340, 424, 427, 685, 255,\n",
       "        472, 352, 290, 458, 725, 189, 669, 525, 226, 283, 227, 170, 619,\n",
       "        340, 218, 281,  32, 577, 112, 691,  19,  84, 739, 839, 131,  61,\n",
       "        836, 262, 482,  43, 609, 434, 377, 184, 831, 109, 228, 707, 108,\n",
       "         55, 738, 346, 762, 133, 360, 664, 212, 298, 674, 786, 323, 368,\n",
       "        825, 583,  18, 166, 144, 830, 367, 404, 572, 222, 297, 461,  67,\n",
       "        375, 494, 259, 799, 720, 351, 170, 313,  16, 626, 411, 102, 824,\n",
       "         57, 245, 763, 332, 295, 735, 392, 605, 597,  25,  22, 122, 609,\n",
       "        324, 738, 124, 804,  49, 567, 275, 489, 594, 444, 246, 124,  18,\n",
       "        714, 305, 169, 175, 830, 416, 412, 691, 420,  71, 466, 274, 111,\n",
       "        774, 449, 270, 772, 538,  59, 185, 444, 134, 361, 541, 602, 224,\n",
       "        322, 457, 656, 834, 432, 844, 380, 410, 366, 668, 428, 290, 422,\n",
       "        266, 438, 303, 112,  85,  97, 551, 420, 813, 751, 658, 107, 249,\n",
       "        313, 517, 173, 528, 237, 267, 425,  48, 341, 712, 276, 370, 145,\n",
       "        768, 586, 356, 359, 605, 342, 409, 368, 365, 340,  79,  40, 503,\n",
       "        776, 389, 288, 505, 381, 586, 478, 383, 356, 320,  50, 146, 787,\n",
       "        448, 616, 128, 105, 110, 312, 768, 107, 454, 131, 240,  84, 640,\n",
       "        260, 270, 303, 592,  58, 424,  50, 660, 682, 629, 670, 104, 724,\n",
       "        140, 355, 184, 220, 647, 211, 414, 242, 486, 102,  26, 292, 779,\n",
       "        840, 407, 413, 273, 296, 207,  63, 749,  68, 416,  17,  83,  13,\n",
       "        372, 783, 444, 702, 619, 358, 224, 101, 520, 678, 386, 853, 125,\n",
       "        770,  81, 353, 680, 665,  50, 433, 356, 366,  39, 119, 103, 230,\n",
       "        140, 800, 802, 104, 458, 758,  76, 164,  78, 719, 631, 161, 700,\n",
       "        298,   8, 693, 602, 122, 317, 671, 235,  21, 668, 123,  13, 587,\n",
       "        787, 393, 834, 231, 109, 756, 762, 765,  75,  35, 693, 373, 483,\n",
       "        419, 327, 246, 792, 539, 769, 152, 259, 841, 186, 489, 510, 419,\n",
       "        202,  69, 384, 188, 382, 775, 705, 803, 662, 512, 160, 348, 406,\n",
       "        708, 550, 809, 735, 412, 180, 710, 436, 157,  53, 653, 249, 656,\n",
       "        531, 246, 122, 814, 553, 514, 281, 628, 601, 257,  39, 260, 115,\n",
       "        262, 830, 131, 668, 690, 838, 599, 662,  17, 510, 605, 333, 255,\n",
       "        391, 823, 492,   4, 623, 440, 249, 155, 241, 484, 152, 248, 528,\n",
       "        667, 492, 571, 330, 247, 374, 309, 567, 294, 562,  62, 456,  10,\n",
       "        511,  13, 571, 761,  80,  56, 776, 611, 139, 690,  79, 503, 438,\n",
       "         18, 367, 492, 126, 673, 395, 413, 350, 537, 724]),\n",
       " array([854, 706, 384, 191, 326, 747, 488, 625, 324, 520, 350, 162, 488,\n",
       "        751, 119, 335, 373, 711, 118, 280, 230, 220, 268, 448, 178, 686,\n",
       "        743,  43, 143, 238, 412, 193,   0, 505, 316, 390, 739, 743, 574,\n",
       "         95, 534, 783, 250, 131, 838, 305, 243, 153, 828, 239, 276, 523,\n",
       "         50, 503, 724, 208, 382, 727, 681, 466, 438, 265, 845,  84, 384,\n",
       "        714, 481, 498, 480, 442, 786, 267,  19, 349, 325, 445, 821, 753,\n",
       "        492, 412, 396,  36, 587, 839, 128, 348, 462, 805, 659, 127, 388,\n",
       "        229, 708, 285, 128, 291,   8, 627, 683, 408,  30,   8, 442, 656,\n",
       "        729,  90, 226, 226, 229,  86, 461, 538, 355, 138, 770, 398, 378,\n",
       "        372, 223, 342, 468, 562, 849, 147, 600, 742, 693, 763, 465, 704,\n",
       "        516, 567, 128, 458, 678, 170,   5, 810, 485, 648,  36, 411, 218,\n",
       "        641, 404, 332, 191, 473, 409, 382, 134, 442, 471, 178, 189,  15,\n",
       "        728, 517, 431, 656, 760, 685, 812, 450,  49, 410,  60, 799,  78,\n",
       "        157, 516, 204, 372, 838, 241, 445, 471, 611, 645, 114, 569, 414,\n",
       "        749, 218, 554, 281, 764, 339, 498, 516, 785, 348, 365, 270, 436,\n",
       "        660, 509, 850,  71, 324, 726,  80, 442, 448, 378,  95, 743, 776,\n",
       "        652,  79, 759, 291, 127, 717, 170, 590, 851, 685, 352, 242, 577,\n",
       "        164, 688, 116, 305, 698, 410, 357, 768, 241, 636, 197, 259, 570,\n",
       "        361, 354, 780, 175,  36, 331, 655, 149, 501, 374, 735, 162, 329,\n",
       "        428, 168,  90, 262, 428, 286, 442, 327, 536,  93, 832, 754, 203,\n",
       "        158,  12, 506, 611, 841, 753, 109, 253,   7, 483, 180, 364, 786,\n",
       "        795, 771, 721, 598, 417, 217, 386, 696,  28,  27, 704, 208, 841,\n",
       "        289, 808, 514, 661, 852,  61,  62, 176, 335, 276, 203, 809, 381,\n",
       "         87, 170, 837, 720, 440, 410, 701, 344, 146, 114, 193, 570, 124,\n",
       "        752, 723,  37, 735, 472, 678, 127, 668, 147, 649,  52, 764, 565,\n",
       "        713, 271, 749, 753, 214, 532, 378, 346,  74, 464, 667, 819, 120,\n",
       "        458, 284,  88, 555, 167, 233, 814, 315, 169, 852, 453, 183, 433,\n",
       "        171, 823, 628, 492, 516, 263, 394, 247, 801, 424,  42, 218, 277,\n",
       "        325, 725, 410, 100, 841, 674, 200, 565,  73, 547, 809, 760, 434,\n",
       "        325, 423, 232,  45, 517, 105, 638, 744, 541, 242,  32, 275, 763,\n",
       "        695, 380, 817, 174, 401, 314, 300,  15, 575, 821, 265, 327, 586,\n",
       "        576, 147, 542, 238, 851, 822,  36,  61,  47, 281,  60, 451, 582,\n",
       "        504, 186, 515, 577, 716, 634, 118, 579, 649, 229,  25, 619, 593,\n",
       "        299, 349, 384, 306, 845, 789, 441, 824, 483, 445, 676, 488,  23,\n",
       "        237, 241,  28, 160, 731, 481, 540, 116, 665, 199, 357, 797, 240,\n",
       "        595, 143, 529, 824,  40, 649, 731, 152, 718, 389,  75, 808, 268,\n",
       "        225, 353, 637, 609, 206, 173, 100, 278, 112, 442, 313, 290, 609,\n",
       "        619, 422, 198,  11, 470, 353,  69, 831, 650, 481, 317, 120, 105,\n",
       "        124, 833, 751,   5,  20, 499, 651, 222, 647, 138, 759, 332, 281,\n",
       "          2, 164, 141, 254, 390, 497, 240, 529, 277, 178, 251, 197, 144,\n",
       "        111, 758, 373,  88, 624, 453, 534, 113, 573, 451, 553, 714, 829,\n",
       "         77, 335, 843, 390,  25, 767, 372, 681,  84, 768, 148,  50, 725,\n",
       "        307, 316, 424, 224, 314, 661,  24, 721, 737,   5, 566, 293, 447,\n",
       "          4, 470, 327,  13, 516, 735, 180, 269, 488, 822,  39, 115, 261,\n",
       "        626, 336, 365,  11, 500,   7, 101,   6, 386, 316, 509, 633, 650,\n",
       "        746, 142, 367, 720, 369, 112, 431, 208, 390, 593, 649,   4, 231,\n",
       "        544, 755, 648, 143, 813, 106, 550, 841,   1, 594,  27, 426, 539,\n",
       "        744, 545, 581, 489, 130, 453, 843, 123, 402,  95, 438, 480, 579,\n",
       "        169, 306, 312, 522, 488, 638, 567, 772, 104,  55,  70, 540, 800,\n",
       "        479, 680,  70, 221, 339, 453, 288, 542, 378, 269, 349, 242, 726,\n",
       "        425, 845, 297, 128, 117, 321, 621, 426, 286, 314,  64, 758, 543,\n",
       "        790, 190, 312, 829, 578, 427, 842, 752,  15, 518, 417, 480, 466,\n",
       "        552,  50, 720, 526, 443,  11, 707, 547, 259, 832, 811, 793,  98,\n",
       "        632, 211, 243, 188, 467, 684, 192, 110, 514, 206, 217, 335, 420,\n",
       "        580, 349, 604, 509, 317, 302, 567, 712, 321, 279, 451, 587, 384,\n",
       "        641,  15, 534, 411, 315, 343, 518, 767, 387, 382, 237, 602, 308,\n",
       "        288, 309, 355,  42, 767, 582, 639, 684, 163, 190, 630, 766, 596,\n",
       "         31, 574, 711, 171, 458, 401,  58, 376, 413, 101, 751, 256,  69,\n",
       "        311, 423,  80,  12, 732, 695, 161, 230, 584, 315, 818, 243, 704,\n",
       "        581, 274, 593, 799, 333, 508, 506, 585, 710, 810, 365, 574, 502,\n",
       "        795, 560, 796, 438, 710, 194, 304, 338, 672, 203, 180, 829, 826,\n",
       "        758,  66, 536, 195, 820, 182, 620, 581, 354,  64, 486, 577, 536,\n",
       "        317, 428, 655, 471, 169, 177, 131, 365, 158, 233, 177, 405, 489,\n",
       "        836, 407, 814, 580,  21, 374, 193, 169, 794, 588, 386, 506, 765,\n",
       "        142, 100, 143, 146, 239, 252,   9,  83, 114, 289, 509, 311, 350,\n",
       "        732, 486, 395,  53, 590,  27, 652, 838, 342, 741])]"
      ]
     },
     "execution_count": 212,
     "metadata": {},
     "output_type": "execute_result"
    }
   ],
   "source": [
    "#her bir agacin ornekleri\n",
    "bag_model.estimators_samples_"
   ]
  },
  {
   "cell_type": "code",
   "execution_count": 213,
   "id": "67c654c6",
   "metadata": {},
   "outputs": [
    {
     "data": {
      "text/plain": [
       "[array([0, 0]),\n",
       " array([1, 0]),\n",
       " array([0, 0]),\n",
       " array([1, 0]),\n",
       " array([0, 1]),\n",
       " array([1, 0]),\n",
       " array([1, 0]),\n",
       " array([1, 0]),\n",
       " array([1, 0]),\n",
       " array([0, 1])]"
      ]
     },
     "execution_count": 213,
     "metadata": {},
     "output_type": "execute_result"
    }
   ],
   "source": [
    "#her agacin bagimsiz degiskenleri\n",
    "bag_model.estimators_features_"
   ]
  },
  {
   "cell_type": "markdown",
   "id": "1072570d",
   "metadata": {},
   "source": [
    "Tahmin"
   ]
  },
  {
   "cell_type": "code",
   "execution_count": 214,
   "id": "7edce0bb",
   "metadata": {},
   "outputs": [
    {
     "data": {
      "text/plain": [
       "0.587400953592531"
      ]
     },
     "execution_count": 214,
     "metadata": {},
     "output_type": "execute_result"
    }
   ],
   "source": [
    "y_pred = bag_model.predict(X_test)\n",
    "np.sqrt(mean_squared_error(y_test, y_pred))"
   ]
  },
  {
   "cell_type": "code",
   "execution_count": 215,
   "id": "6a936bdc",
   "metadata": {},
   "outputs": [],
   "source": [
    "iki_y_pred = bag_model.estimators_[1].fit(X_train, y_train).predict(X_test)"
   ]
  },
  {
   "cell_type": "code",
   "execution_count": 216,
   "id": "4e9269ea",
   "metadata": {},
   "outputs": [
    {
     "data": {
      "text/plain": [
       "0.6059921842438727"
      ]
     },
     "execution_count": 216,
     "metadata": {},
     "output_type": "execute_result"
    }
   ],
   "source": [
    "np.sqrt(mean_squared_error(y_test, iki_y_pred))"
   ]
  },
  {
   "cell_type": "code",
   "execution_count": 217,
   "id": "25cabc8b",
   "metadata": {},
   "outputs": [],
   "source": [
    "yedi_y_pred = bag_model.estimators_[6].fit(X_train, y_train).predict(X_test)"
   ]
  },
  {
   "cell_type": "code",
   "execution_count": 218,
   "id": "b725c645",
   "metadata": {},
   "outputs": [
    {
     "data": {
      "text/plain": [
       "0.6059921842438727"
      ]
     },
     "execution_count": 218,
     "metadata": {},
     "output_type": "execute_result"
    }
   ],
   "source": [
    "np.sqrt(mean_squared_error(y_test, yedi_y_pred))"
   ]
  },
  {
   "cell_type": "markdown",
   "id": "de4979f4",
   "metadata": {},
   "source": [
    "Model Tuning"
   ]
  },
  {
   "cell_type": "code",
   "execution_count": 219,
   "id": "2a775fe0",
   "metadata": {},
   "outputs": [
    {
     "data": {
      "text/plain": [
       "BaggingRegressor(bootstrap_features=True)"
      ]
     },
     "execution_count": 219,
     "metadata": {},
     "output_type": "execute_result"
    }
   ],
   "source": [
    "bag_model = BaggingRegressor(bootstrap_features = True)\n",
    "bag_model.fit(X_train, y_train)"
   ]
  },
  {
   "cell_type": "code",
   "execution_count": 220,
   "id": "49ee00b8",
   "metadata": {},
   "outputs": [],
   "source": [
    "bag_params = {\"n_estimators\": range(2,20)}"
   ]
  },
  {
   "cell_type": "code",
   "execution_count": 221,
   "id": "e7978f40",
   "metadata": {},
   "outputs": [],
   "source": [
    "bag_cv_model = GridSearchCV(bag_model, bag_params, cv = 10)"
   ]
  },
  {
   "cell_type": "code",
   "execution_count": 222,
   "id": "14059e31",
   "metadata": {},
   "outputs": [
    {
     "data": {
      "text/plain": [
       "GridSearchCV(cv=10, estimator=BaggingRegressor(bootstrap_features=True),\n",
       "             param_grid={'n_estimators': range(2, 20)})"
      ]
     },
     "execution_count": 222,
     "metadata": {},
     "output_type": "execute_result"
    }
   ],
   "source": [
    "bag_cv_model.fit(X_train, y_train)"
   ]
  },
  {
   "cell_type": "code",
   "execution_count": 223,
   "id": "223ab151",
   "metadata": {},
   "outputs": [
    {
     "data": {
      "text/plain": [
       "{'n_estimators': 17}"
      ]
     },
     "execution_count": 223,
     "metadata": {},
     "output_type": "execute_result"
    }
   ],
   "source": [
    "bag_cv_model.best_params_"
   ]
  },
  {
   "cell_type": "code",
   "execution_count": 224,
   "id": "3dd59fd9",
   "metadata": {},
   "outputs": [],
   "source": [
    "bag_tuned = BaggingRegressor( n_estimators = 6, random_state = 45)"
   ]
  },
  {
   "cell_type": "code",
   "execution_count": 225,
   "id": "1e3a955e",
   "metadata": {},
   "outputs": [
    {
     "data": {
      "text/plain": [
       "BaggingRegressor(n_estimators=6, random_state=45)"
      ]
     },
     "execution_count": 225,
     "metadata": {},
     "output_type": "execute_result"
    }
   ],
   "source": [
    "bag_tuned.fit(X_train, y_train)"
   ]
  },
  {
   "cell_type": "code",
   "execution_count": 226,
   "id": "1386f057",
   "metadata": {},
   "outputs": [],
   "source": [
    "y_pred = bag_tuned.predict(X_test)"
   ]
  },
  {
   "cell_type": "code",
   "execution_count": 227,
   "id": "84265532",
   "metadata": {},
   "outputs": [
    {
     "data": {
      "text/plain": [
       "0.6086393004132881"
      ]
     },
     "execution_count": 227,
     "metadata": {},
     "output_type": "execute_result"
    }
   ],
   "source": [
    "np.sqrt(mean_squared_error(y_test, y_pred))"
   ]
  },
  {
   "cell_type": "markdown",
   "id": "f0acb3b4",
   "metadata": {},
   "source": [
    "### 2.6. Random Forests"
   ]
  },
  {
   "cell_type": "code",
   "execution_count": 228,
   "id": "4834c016",
   "metadata": {},
   "outputs": [
    {
     "name": "stdout",
     "output_type": "stream",
     "text": [
      "<class 'pandas.core.frame.DataFrame'>\n",
      "Int64Index: 1140 entries, 184 to 270986\n",
      "Data columns (total 6 columns):\n",
      " #   Column  Non-Null Count  Dtype   \n",
      "---  ------  --------------  -----   \n",
      " 0   Name    1140 non-null   object  \n",
      " 1   Sex     1140 non-null   int32   \n",
      " 2   Age     1140 non-null   float64 \n",
      " 3   Team    1140 non-null   category\n",
      " 4   Sport   1140 non-null   category\n",
      " 5   Medal   1140 non-null   int64   \n",
      "dtypes: category(2), float64(1), int32(1), int64(1), object(1)\n",
      "memory usage: 86.4+ KB\n"
     ]
    }
   ],
   "source": [
    "df.info()"
   ]
  },
  {
   "cell_type": "code",
   "execution_count": 229,
   "id": "51a14e56",
   "metadata": {},
   "outputs": [],
   "source": [
    "from sklearn.model_selection import train_test_split, cross_val_score, cross_val_predict\n",
    "X = df.drop(df.columns[[0,3,4,5]], axis = 1)\n",
    "y = df[\"Medal\"]\n",
    "X_train, X_test, y_train, y_test = train_test_split(X, y, test_size=0.25, random_state=42)\n",
    "training = df.copy()"
   ]
  },
  {
   "cell_type": "code",
   "execution_count": 230,
   "id": "3dee5d8d",
   "metadata": {},
   "outputs": [
    {
     "data": {
      "text/plain": [
       "RandomForestRegressor(random_state=42)"
      ]
     },
     "execution_count": 230,
     "metadata": {},
     "output_type": "execute_result"
    }
   ],
   "source": [
    "rf_model = RandomForestRegressor(random_state = 42)\n",
    "rf_model.fit(X_train, y_train)"
   ]
  },
  {
   "cell_type": "markdown",
   "id": "c565745b",
   "metadata": {},
   "source": [
    "Tahmin"
   ]
  },
  {
   "cell_type": "code",
   "execution_count": 231,
   "id": "60420ed0",
   "metadata": {},
   "outputs": [
    {
     "data": {
      "text/plain": [
       "array([0.57603956, 0.04556128, 0.13229926, 0.20085976, 0.22554817])"
      ]
     },
     "execution_count": 231,
     "metadata": {},
     "output_type": "execute_result"
    }
   ],
   "source": [
    "rf_model.predict(X_test)[0:5]"
   ]
  },
  {
   "cell_type": "code",
   "execution_count": 232,
   "id": "8e0ecf79",
   "metadata": {},
   "outputs": [],
   "source": [
    "y_pred = rf_model.predict(X_test)"
   ]
  },
  {
   "cell_type": "code",
   "execution_count": 233,
   "id": "b0e9355a",
   "metadata": {},
   "outputs": [
    {
     "data": {
      "text/plain": [
       "0.5935149253300821"
      ]
     },
     "execution_count": 233,
     "metadata": {},
     "output_type": "execute_result"
    }
   ],
   "source": [
    "np.sqrt(mean_squared_error(y_test, y_pred))"
   ]
  },
  {
   "cell_type": "markdown",
   "id": "fb73528b",
   "metadata": {},
   "source": [
    "Model Tuning"
   ]
  },
  {
   "cell_type": "code",
   "execution_count": 234,
   "id": "d151a721",
   "metadata": {},
   "outputs": [],
   "source": [
    "rf_params = {'max_depth': list(range(1,10)),\n",
    "            'max_features': [0,0.1,0.2],\n",
    "            'n_estimators' : [100, 200, 500, 1000, 2000]}\n",
    "rf_model = RandomForestRegressor(random_state = 42)\n",
    "rf_cv_model = GridSearchCV(rf_model, \n",
    "                           rf_params, \n",
    "                           cv = 10, \n",
    "                            n_jobs = -1)\n",
    "# n_jobs = -1 yukarida yapılacak hesap sayisi her bir degerin kombinasyonu dusunuldugunde cok fazla olmaktadır.\n",
    "#n_jobs parametresi islemcinin paralel yurutebilecegi islemleri ayni anda yurutmesini saglamaktadır."
   ]
  },
  {
   "cell_type": "code",
   "execution_count": 235,
   "id": "6b10175b",
   "metadata": {},
   "outputs": [
    {
     "data": {
      "text/plain": [
       "{'max_depth': 1, 'max_features': 0.1, 'n_estimators': 1000}"
      ]
     },
     "execution_count": 235,
     "metadata": {},
     "output_type": "execute_result"
    }
   ],
   "source": [
    "rf_cv_model.fit(X_train, y_train)\n",
    "rf_cv_model.best_params_"
   ]
  },
  {
   "cell_type": "code",
   "execution_count": 236,
   "id": "6ed3f622",
   "metadata": {},
   "outputs": [],
   "source": [
    "rf_tuned = RandomForestRegressor(max_depth  = 8, \n",
    "                                 max_features = 0.1, \n",
    "                                 n_estimators =200)"
   ]
  },
  {
   "cell_type": "code",
   "execution_count": 237,
   "id": "8c2e5d81",
   "metadata": {},
   "outputs": [
    {
     "data": {
      "text/plain": [
       "RandomForestRegressor(max_depth=8, max_features=0.1, n_estimators=200)"
      ]
     },
     "execution_count": 237,
     "metadata": {},
     "output_type": "execute_result"
    }
   ],
   "source": [
    "rf_tuned.fit(X_train, y_train)"
   ]
  },
  {
   "cell_type": "code",
   "execution_count": 238,
   "id": "eda2a182",
   "metadata": {},
   "outputs": [
    {
     "data": {
      "text/plain": [
       "0.593441298705919"
      ]
     },
     "execution_count": 238,
     "metadata": {},
     "output_type": "execute_result"
    }
   ],
   "source": [
    "y_pred = rf_tuned.predict(X_test)\n",
    "np.sqrt(mean_squared_error(y_test, y_pred))"
   ]
  },
  {
   "cell_type": "code",
   "execution_count": 239,
   "id": "d1c372b7",
   "metadata": {},
   "outputs": [],
   "source": [
    "#degiskenlerin onem duzeyine bir bakalim.\n",
    "Importance = pd.DataFrame({\"Importance\": rf_tuned.feature_importances_*100},\n",
    "                         index = X_train.columns)"
   ]
  },
  {
   "cell_type": "code",
   "execution_count": 240,
   "id": "129af731",
   "metadata": {},
   "outputs": [
    {
     "data": {
      "text/plain": [
       "Text(0.5, 0, 'Değişken Önem Düzeyleri')"
      ]
     },
     "execution_count": 240,
     "metadata": {},
     "output_type": "execute_result"
    },
    {
     "data": {
      "image/png": "[encoded data removed]",
      "text/plain": [
       "<Figure size 432x288 with 1 Axes>"
      ]
     },
     "metadata": {
      "needs_background": "light"
     },
     "output_type": "display_data"
    }
   ],
   "source": [
    "Importance.sort_values(by = \"Importance\", \n",
    "                       axis = 0, \n",
    "                       ascending = True).plot(kind =\"barh\", color = \"r\")\n",
    "\n",
    "plt.xlabel(\"Değişken Önem Düzeyleri\")"
   ]
  },
  {
   "cell_type": "markdown",
   "id": "abd1d6e8",
   "metadata": {},
   "source": [
    "### 2.7. Gradient Boosting Machines (GBM)"
   ]
  },
  {
   "cell_type": "code",
   "execution_count": 241,
   "id": "87f0847e",
   "metadata": {},
   "outputs": [],
   "source": [
    "from sklearn.model_selection import train_test_split, cross_val_score, cross_val_predict\n",
    "X = df.drop(df.columns[[0,3,4,5]], axis = 1)\n",
    "y = df[\"Medal\"]\n",
    "X_train, X_test, y_train, y_test = train_test_split(X, y, test_size=0.25, random_state=42)\n",
    "training = df.copy()"
   ]
  },
  {
   "cell_type": "code",
   "execution_count": 242,
   "id": "6dd2e102",
   "metadata": {},
   "outputs": [
    {
     "data": {
      "text/plain": [
       "GradientBoostingRegressor()"
      ]
     },
     "execution_count": 242,
     "metadata": {},
     "output_type": "execute_result"
    }
   ],
   "source": [
    "gbm_model = GradientBoostingRegressor()\n",
    "gbm_model.fit(X_train, y_train)"
   ]
  },
  {
   "cell_type": "markdown",
   "id": "697e1dab",
   "metadata": {},
   "source": [
    "Tahmin"
   ]
  },
  {
   "cell_type": "code",
   "execution_count": 243,
   "id": "8c47f2d8",
   "metadata": {},
   "outputs": [
    {
     "data": {
      "text/plain": [
       "0.606023000533284"
      ]
     },
     "execution_count": 243,
     "metadata": {},
     "output_type": "execute_result"
    }
   ],
   "source": [
    "y_pred = gbm_model.predict(X_test)\n",
    "np.sqrt(mean_squared_error(y_test, y_pred))"
   ]
  },
  {
   "cell_type": "markdown",
   "id": "27c4f93c",
   "metadata": {},
   "source": [
    "Model Tuning"
   ]
  },
  {
   "cell_type": "code",
   "execution_count": 244,
   "id": "0f04d4ca",
   "metadata": {},
   "outputs": [],
   "source": [
    "gbm_params = {\n",
    "    'learning_rate': [0.001, 0.01, 0.1, 0.2],\n",
    "    'max_depth': [3, 5, 8,50,100],\n",
    "    'n_estimators': [200, 500, 1000, 2000],\n",
    "    'subsample': [1,0.5,0.75],\n",
    "}"
   ]
  },
  {
   "cell_type": "code",
   "execution_count": 245,
   "id": "8bc1c43c",
   "metadata": {},
   "outputs": [
    {
     "name": "stdout",
     "output_type": "stream",
     "text": [
      "Fitting 10 folds for each of 240 candidates, totalling 2400 fits\n",
      "0:05:05.213348\n"
     ]
    }
   ],
   "source": [
    "#algoritmanın calisma zamanina da bir bakalim\n",
    "t1 =  datetime.now()\n",
    "gbm = GradientBoostingRegressor()\n",
    "gbm_cv_model = GridSearchCV(gbm, gbm_params, cv = 10, n_jobs = -1, verbose = 2)\n",
    "gbm_cv_model.fit(X_train, y_train)\n",
    "\n",
    "t2 =  datetime.now()\n",
    "print(t2-t1)"
   ]
  },
  {
   "cell_type": "code",
   "execution_count": 246,
   "id": "94e03882",
   "metadata": {},
   "outputs": [
    {
     "data": {
      "text/plain": [
       "{'learning_rate': 0.001, 'max_depth': 3, 'n_estimators': 200, 'subsample': 1}"
      ]
     },
     "execution_count": 246,
     "metadata": {},
     "output_type": "execute_result"
    }
   ],
   "source": [
    "gbm_cv_model.best_params_"
   ]
  },
  {
   "cell_type": "code",
   "execution_count": 247,
   "id": "3489a448",
   "metadata": {},
   "outputs": [],
   "source": [
    "gbm_tuned = GradientBoostingRegressor(learning_rate = 0.001,  \n",
    "                                      max_depth = 3, \n",
    "                                      n_estimators = 200, \n",
    "                                      subsample = 1)\n",
    "\n",
    "gbm_tuned = gbm_tuned.fit(X_train,y_train)"
   ]
  },
  {
   "cell_type": "code",
   "execution_count": 248,
   "id": "4aca9995",
   "metadata": {},
   "outputs": [
    {
     "data": {
      "text/plain": [
       "0.574189083606494"
      ]
     },
     "execution_count": 248,
     "metadata": {},
     "output_type": "execute_result"
    }
   ],
   "source": [
    "y_pred = gbm_tuned.predict(X_test)\n",
    "np.sqrt(mean_squared_error(y_test, y_pred))"
   ]
  },
  {
   "cell_type": "code",
   "execution_count": 249,
   "id": "16052e54",
   "metadata": {},
   "outputs": [],
   "source": [
    "Importance = pd.DataFrame({\"Importance\": gbm_tuned.feature_importances_*100},\n",
    "                         index = X_train.columns)"
   ]
  },
  {
   "cell_type": "code",
   "execution_count": 250,
   "id": "ed6d289a",
   "metadata": {},
   "outputs": [
    {
     "data": {
      "text/plain": [
       "Text(0.5, 0, 'Değişken Önem Düzeyleri')"
      ]
     },
     "execution_count": 250,
     "metadata": {},
     "output_type": "execute_result"
    },
    {
     "data": {
      "image/png": "[encoded data removed]",
      "text/plain": [
       "<Figure size 432x288 with 1 Axes>"
      ]
     },
     "metadata": {
      "needs_background": "light"
     },
     "output_type": "display_data"
    }
   ],
   "source": [
    "Importance.sort_values(by = \"Importance\", \n",
    "                       axis = 0, \n",
    "                       ascending = True).plot(kind =\"barh\", color = \"r\")\n",
    "\n",
    "plt.xlabel(\"Değişken Önem Düzeyleri\")"
   ]
  },
  {
   "cell_type": "markdown",
   "id": "4dadd1ad",
   "metadata": {},
   "source": [
    "### 2.8. XGBoost (eXtreme Gradient Boosting)"
   ]
  },
  {
   "cell_type": "code",
   "execution_count": 251,
   "id": "39ea5b11",
   "metadata": {},
   "outputs": [],
   "source": [
    "from sklearn.model_selection import train_test_split, cross_val_score, cross_val_predict\n",
    "X = df.drop(df.columns[[0,3,4,5]], axis = 1)\n",
    "y = df[\"Medal\"]\n",
    "X_train, X_test, y_train, y_test = train_test_split(X, y, test_size=0.25, random_state=42)\n",
    "training = df.copy()"
   ]
  },
  {
   "cell_type": "code",
   "execution_count": 252,
   "id": "fefbb087",
   "metadata": {},
   "outputs": [],
   "source": [
    "#pandas ya da numpy yerine kendi dataframeini kullanırsaniz daha performanslı calıstigi soylenmis.\n",
    "DM_train = xgb.DMatrix(data = X_train, label = y_train)\n",
    "DM_test = xgb.DMatrix(data = X_test, label = y_test)"
   ]
  },
  {
   "cell_type": "code",
   "execution_count": 253,
   "id": "58059287",
   "metadata": {},
   "outputs": [],
   "source": [
    "#pandas dataframei ile de kullanılabilir.\n",
    "xgb_model = XGBRegressor().fit(X_train, y_train)"
   ]
  },
  {
   "cell_type": "markdown",
   "id": "4ee31d67",
   "metadata": {},
   "source": [
    "Tahmin"
   ]
  },
  {
   "cell_type": "code",
   "execution_count": 254,
   "id": "30cf5d44",
   "metadata": {},
   "outputs": [
    {
     "data": {
      "text/plain": [
       "0.6059101967911826"
      ]
     },
     "execution_count": 254,
     "metadata": {},
     "output_type": "execute_result"
    }
   ],
   "source": [
    "y_pred = xgb_model.predict(X_test)\n",
    "np.sqrt(mean_squared_error(y_test, y_pred))"
   ]
  },
  {
   "cell_type": "markdown",
   "id": "b20e0711",
   "metadata": {},
   "source": [
    "Model Tuning"
   ]
  },
  {
   "cell_type": "code",
   "execution_count": 255,
   "id": "b1ceda4f",
   "metadata": {},
   "outputs": [
    {
     "data": {
      "text/plain": [
       "XGBRegressor(base_score=0.5, booster='gbtree', callbacks=None,\n",
       "             colsample_bylevel=1, colsample_bynode=1, colsample_bytree=1,\n",
       "             early_stopping_rounds=None, enable_categorical=False,\n",
       "             eval_metric=None, gamma=0, gpu_id=-1, grow_policy='depthwise',\n",
       "             importance_type=None, interaction_constraints='',\n",
       "             learning_rate=0.300000012, max_bin=256, max_cat_to_onehot=4,\n",
       "             max_delta_step=0, max_depth=6, max_leaves=0, min_child_weight=1,\n",
       "             missing=nan, monotone_constraints='()', n_estimators=100, n_jobs=0,\n",
       "             num_parallel_tree=1, predictor='auto', random_state=0, reg_alpha=0,\n",
       "             reg_lambda=1, ...)"
      ]
     },
     "execution_count": 255,
     "metadata": {},
     "output_type": "execute_result"
    }
   ],
   "source": [
    "xgb_model"
   ]
  },
  {
   "cell_type": "code",
   "execution_count": 256,
   "id": "bc6757fc",
   "metadata": {},
   "outputs": [],
   "source": [
    "xgb_grid = {\n",
    "     'colsample_bytree': [0.4, 0.5,0.6,0.9,1], \n",
    "     'n_estimators':[100, 200, 500, 1000],\n",
    "     'max_depth': [2,3,4,5,6],\n",
    "     'learning_rate': [0.1, 0.01, 0.5]\n",
    "}\n"
   ]
  },
  {
   "cell_type": "code",
   "execution_count": 257,
   "id": "e5674670",
   "metadata": {},
   "outputs": [
    {
     "name": "stdout",
     "output_type": "stream",
     "text": [
      "Fitting 10 folds for each of 300 candidates, totalling 3000 fits\n",
      "0:01:04.186472\n"
     ]
    }
   ],
   "source": [
    "t1 =  datetime.now()\n",
    "\n",
    "xgb = XGBRegressor()\n",
    "xgb_cv = GridSearchCV(xgb, \n",
    "                      param_grid = xgb_grid, \n",
    "                      cv = 10, \n",
    "                      n_jobs = -1,\n",
    "                      verbose = 2)\n",
    "\n",
    "xgb_cv.fit(X_train, y_train)\n",
    "\n",
    "t2 =  datetime.now()\n",
    "print(t2-t1)"
   ]
  },
  {
   "cell_type": "code",
   "execution_count": 258,
   "id": "43803cb5",
   "metadata": {},
   "outputs": [
    {
     "data": {
      "text/plain": [
       "{'colsample_bytree': 0.4,\n",
       " 'learning_rate': 0.01,\n",
       " 'max_depth': 2,\n",
       " 'n_estimators': 500}"
      ]
     },
     "execution_count": 258,
     "metadata": {},
     "output_type": "execute_result"
    }
   ],
   "source": [
    "xgb_cv.best_params_"
   ]
  },
  {
   "cell_type": "code",
   "execution_count": 259,
   "id": "e97eb65d",
   "metadata": {},
   "outputs": [],
   "source": [
    "xgb_tuned = XGBRegressor(colsample_bytree = 0.4, \n",
    "                         learning_rate = 0.01, \n",
    "                         max_depth = 2, \n",
    "                         n_estimators = 500) \n",
    "\n",
    "xgb_tuned = xgb_tuned.fit(X_train,y_train)"
   ]
  },
  {
   "cell_type": "code",
   "execution_count": 260,
   "id": "0c0a5621",
   "metadata": {},
   "outputs": [
    {
     "data": {
      "text/plain": [
       "0.5755507616469157"
      ]
     },
     "execution_count": 260,
     "metadata": {},
     "output_type": "execute_result"
    }
   ],
   "source": [
    "y_pred = xgb_tuned.predict(X_test)\n",
    "np.sqrt(mean_squared_error(y_test, y_pred))"
   ]
  },
  {
   "cell_type": "markdown",
   "id": "52bcb68f",
   "metadata": {},
   "source": [
    "### 2.9. Light GBM"
   ]
  },
  {
   "cell_type": "code",
   "execution_count": 261,
   "id": "c91e5027",
   "metadata": {},
   "outputs": [],
   "source": [
    "from sklearn.model_selection import train_test_split, cross_val_score, cross_val_predict\n",
    "X = df.drop(df.columns[[0,3,4,5]], axis = 1)\n",
    "y = df[\"Medal\"]\n",
    "X_train, X_test, y_train, y_test = train_test_split(X, y, test_size=0.25, random_state=42)\n",
    "training = df.copy()"
   ]
  },
  {
   "cell_type": "code",
   "execution_count": 262,
   "id": "b6ec4ce6",
   "metadata": {},
   "outputs": [],
   "source": [
    "lgbm = LGBMRegressor()\n",
    "lgbm_model = lgbm.fit(X_train, y_train)"
   ]
  },
  {
   "cell_type": "markdown",
   "id": "b501478c",
   "metadata": {},
   "source": [
    "Tahmin"
   ]
  },
  {
   "cell_type": "code",
   "execution_count": 263,
   "id": "046a172c",
   "metadata": {},
   "outputs": [],
   "source": [
    "y_pred = lgbm_model.predict(X_test, \n",
    "                            num_iteration = lgbm_model.best_iteration_)"
   ]
  },
  {
   "cell_type": "code",
   "execution_count": 264,
   "id": "3683cadf",
   "metadata": {},
   "outputs": [
    {
     "data": {
      "text/plain": [
       "0.5891622785221702"
      ]
     },
     "execution_count": 264,
     "metadata": {},
     "output_type": "execute_result"
    }
   ],
   "source": [
    "np.sqrt(mean_squared_error(y_test, y_pred))"
   ]
  },
  {
   "cell_type": "markdown",
   "id": "93264f84",
   "metadata": {},
   "source": [
    "Model Tuning"
   ]
  },
  {
   "cell_type": "code",
   "execution_count": 265,
   "id": "8a96b8ed",
   "metadata": {},
   "outputs": [
    {
     "data": {
      "text/plain": [
       "LGBMRegressor()"
      ]
     },
     "execution_count": 265,
     "metadata": {},
     "output_type": "execute_result"
    }
   ],
   "source": [
    "lgbm_model"
   ]
  },
  {
   "cell_type": "code",
   "execution_count": 266,
   "id": "063ebd81",
   "metadata": {},
   "outputs": [],
   "source": [
    "lgbm_grid = {\n",
    "    'colsample_bytree': [0.4, 0.5,0.6,0.9,1],\n",
    "    'learning_rate': [0.01, 0.1, 0.5,1],\n",
    "    'n_estimators': [20, 40, 100, 200, 500,1000],\n",
    "    'max_depth': [1,2,3,4,5,6,7,8] }\n",
    "\n",
    "lgbm = LGBMRegressor()\n",
    "lgbm_cv_model = GridSearchCV(lgbm, lgbm_grid, cv=10, n_jobs = -1, verbose = 2)"
   ]
  },
  {
   "cell_type": "code",
   "execution_count": 267,
   "id": "3a859a00",
   "metadata": {},
   "outputs": [
    {
     "name": "stdout",
     "output_type": "stream",
     "text": [
      "Fitting 10 folds for each of 960 candidates, totalling 9600 fits\n",
      "0:01:39.167086\n"
     ]
    }
   ],
   "source": [
    "t1 =  datetime.now()\n",
    "lgbm_cv_model.fit(X_train, y_train)\n",
    "t2 =  datetime.now()\n",
    "print(t2-t1)"
   ]
  },
  {
   "cell_type": "code",
   "execution_count": 268,
   "id": "76befb7a",
   "metadata": {},
   "outputs": [
    {
     "data": {
      "text/plain": [
       "{'colsample_bytree': 0.9,\n",
       " 'learning_rate': 0.01,\n",
       " 'max_depth': 2,\n",
       " 'n_estimators': 40}"
      ]
     },
     "execution_count": 268,
     "metadata": {},
     "output_type": "execute_result"
    }
   ],
   "source": [
    "lgbm_cv_model.best_params_"
   ]
  },
  {
   "cell_type": "code",
   "execution_count": 269,
   "id": "2cf17a7d",
   "metadata": {},
   "outputs": [],
   "source": [
    "lgbm_tuned = LGBMRegressor(learning_rate = 0.01, \n",
    "                           max_depth = 2, \n",
    "                           n_estimators = 40,\n",
    "                          colsample_bytree = 0.9)\n",
    "\n",
    "lgbm_tuned = lgbm_tuned.fit(X_train,y_train)"
   ]
  },
  {
   "cell_type": "code",
   "execution_count": 270,
   "id": "b520a8da",
   "metadata": {},
   "outputs": [],
   "source": [
    "y_pred = lgbm_tuned.predict(X_test)"
   ]
  },
  {
   "cell_type": "code",
   "execution_count": 271,
   "id": "3e5d1a69",
   "metadata": {},
   "outputs": [
    {
     "data": {
      "text/plain": [
       "0.5748628285937036"
      ]
     },
     "execution_count": 271,
     "metadata": {},
     "output_type": "execute_result"
    }
   ],
   "source": [
    "np.sqrt(mean_squared_error(y_test, y_pred))"
   ]
  },
  {
   "cell_type": "markdown",
   "id": "41116c87",
   "metadata": {},
   "source": [
    "### 2.10. CatBoost\n"
   ]
  },
  {
   "cell_type": "code",
   "execution_count": 272,
   "id": "ffcfbe6b",
   "metadata": {},
   "outputs": [],
   "source": [
    "from sklearn.model_selection import train_test_split, cross_val_score, cross_val_predict\n",
    "X = df.drop(df.columns[[0,3,4,5]], axis = 1)\n",
    "y = df[\"Medal\"]\n",
    "X_train, X_test, y_train, y_test = train_test_split(X, y, test_size=0.25, random_state=42)\n",
    "training = df.copy()"
   ]
  },
  {
   "cell_type": "code",
   "execution_count": 273,
   "id": "9983c5d5",
   "metadata": {},
   "outputs": [
    {
     "name": "stdout",
     "output_type": "stream",
     "text": [
      "Learning rate set to 0.039942\n",
      "0:\tlearn: 0.5881751\ttotal: 138ms\tremaining: 2m 18s\n",
      "1:\tlearn: 0.5878784\ttotal: 139ms\tremaining: 1m 9s\n",
      "2:\tlearn: 0.5875522\ttotal: 140ms\tremaining: 46.6s\n",
      "3:\tlearn: 0.5871790\ttotal: 141ms\tremaining: 35s\n",
      "4:\tlearn: 0.5868254\ttotal: 141ms\tremaining: 28.1s\n",
      "5:\tlearn: 0.5863386\ttotal: 142ms\tremaining: 23.5s\n",
      "6:\tlearn: 0.5860876\ttotal: 143ms\tremaining: 20.2s\n",
      "7:\tlearn: 0.5859275\ttotal: 143ms\tremaining: 17.8s\n",
      "8:\tlearn: 0.5856402\ttotal: 144ms\tremaining: 15.8s\n",
      "9:\tlearn: 0.5854498\ttotal: 144ms\tremaining: 14.3s\n",
      "10:\tlearn: 0.5850881\ttotal: 145ms\tremaining: 13s\n",
      "11:\tlearn: 0.5847215\ttotal: 146ms\tremaining: 12s\n",
      "12:\tlearn: 0.5843975\ttotal: 146ms\tremaining: 11.1s\n",
      "13:\tlearn: 0.5843256\ttotal: 147ms\tremaining: 10.3s\n",
      "14:\tlearn: 0.5841311\ttotal: 147ms\tremaining: 9.67s\n",
      "15:\tlearn: 0.5839304\ttotal: 148ms\tremaining: 9.09s\n",
      "16:\tlearn: 0.5837463\ttotal: 148ms\tremaining: 8.58s\n",
      "17:\tlearn: 0.5836793\ttotal: 149ms\tremaining: 8.12s\n",
      "18:\tlearn: 0.5835093\ttotal: 149ms\tremaining: 7.71s\n",
      "19:\tlearn: 0.5833873\ttotal: 150ms\tremaining: 7.35s\n",
      "20:\tlearn: 0.5832837\ttotal: 151ms\tremaining: 7.02s\n",
      "21:\tlearn: 0.5832052\ttotal: 151ms\tremaining: 6.73s\n",
      "22:\tlearn: 0.5829725\ttotal: 152ms\tremaining: 6.46s\n",
      "23:\tlearn: 0.5829004\ttotal: 153ms\tremaining: 6.21s\n",
      "24:\tlearn: 0.5827997\ttotal: 153ms\tremaining: 5.97s\n",
      "25:\tlearn: 0.5827863\ttotal: 154ms\tremaining: 5.75s\n",
      "26:\tlearn: 0.5827831\ttotal: 154ms\tremaining: 5.55s\n",
      "27:\tlearn: 0.5827399\ttotal: 155ms\tremaining: 5.37s\n",
      "28:\tlearn: 0.5826417\ttotal: 155ms\tremaining: 5.2s\n",
      "29:\tlearn: 0.5825238\ttotal: 156ms\tremaining: 5.04s\n",
      "30:\tlearn: 0.5822788\ttotal: 157ms\tremaining: 4.9s\n",
      "31:\tlearn: 0.5821537\ttotal: 158ms\tremaining: 4.76s\n",
      "32:\tlearn: 0.5821515\ttotal: 158ms\tremaining: 4.63s\n",
      "33:\tlearn: 0.5819619\ttotal: 159ms\tremaining: 4.51s\n",
      "34:\tlearn: 0.5818331\ttotal: 159ms\tremaining: 4.39s\n",
      "35:\tlearn: 0.5816872\ttotal: 160ms\tremaining: 4.28s\n",
      "36:\tlearn: 0.5815914\ttotal: 161ms\tremaining: 4.18s\n",
      "37:\tlearn: 0.5814794\ttotal: 161ms\tremaining: 4.08s\n",
      "38:\tlearn: 0.5814141\ttotal: 162ms\tremaining: 3.99s\n",
      "39:\tlearn: 0.5813681\ttotal: 162ms\tremaining: 3.9s\n",
      "40:\tlearn: 0.5812285\ttotal: 163ms\tremaining: 3.82s\n",
      "41:\tlearn: 0.5811841\ttotal: 164ms\tremaining: 3.74s\n",
      "42:\tlearn: 0.5811185\ttotal: 164ms\tremaining: 3.66s\n",
      "43:\tlearn: 0.5810746\ttotal: 165ms\tremaining: 3.58s\n",
      "44:\tlearn: 0.5810730\ttotal: 165ms\tremaining: 3.51s\n",
      "45:\tlearn: 0.5809185\ttotal: 166ms\tremaining: 3.45s\n",
      "46:\tlearn: 0.5808661\ttotal: 167ms\tremaining: 3.38s\n",
      "47:\tlearn: 0.5808650\ttotal: 168ms\tremaining: 3.33s\n",
      "48:\tlearn: 0.5807477\ttotal: 169ms\tremaining: 3.27s\n",
      "49:\tlearn: 0.5807122\ttotal: 169ms\tremaining: 3.21s\n",
      "50:\tlearn: 0.5806303\ttotal: 170ms\tremaining: 3.16s\n",
      "51:\tlearn: 0.5806219\ttotal: 170ms\tremaining: 3.1s\n",
      "52:\tlearn: 0.5804806\ttotal: 171ms\tremaining: 3.05s\n",
      "53:\tlearn: 0.5804350\ttotal: 172ms\tremaining: 3s\n",
      "54:\tlearn: 0.5803999\ttotal: 172ms\tremaining: 2.96s\n",
      "55:\tlearn: 0.5803093\ttotal: 173ms\tremaining: 2.91s\n",
      "56:\tlearn: 0.5803088\ttotal: 173ms\tremaining: 2.87s\n",
      "57:\tlearn: 0.5802699\ttotal: 174ms\tremaining: 2.83s\n",
      "58:\tlearn: 0.5802361\ttotal: 175ms\tremaining: 2.78s\n",
      "59:\tlearn: 0.5802162\ttotal: 175ms\tremaining: 2.74s\n",
      "60:\tlearn: 0.5801754\ttotal: 176ms\tremaining: 2.7s\n",
      "61:\tlearn: 0.5801750\ttotal: 176ms\tremaining: 2.66s\n",
      "62:\tlearn: 0.5801473\ttotal: 177ms\tremaining: 2.63s\n",
      "63:\tlearn: 0.5800720\ttotal: 177ms\tremaining: 2.59s\n",
      "64:\tlearn: 0.5800329\ttotal: 178ms\tremaining: 2.56s\n",
      "65:\tlearn: 0.5799411\ttotal: 179ms\tremaining: 2.53s\n",
      "66:\tlearn: 0.5799289\ttotal: 179ms\tremaining: 2.5s\n",
      "67:\tlearn: 0.5798936\ttotal: 180ms\tremaining: 2.46s\n",
      "68:\tlearn: 0.5798920\ttotal: 180ms\tremaining: 2.43s\n",
      "69:\tlearn: 0.5798506\ttotal: 181ms\tremaining: 2.4s\n",
      "70:\tlearn: 0.5798197\ttotal: 181ms\tremaining: 2.37s\n",
      "71:\tlearn: 0.5797121\ttotal: 182ms\tremaining: 2.35s\n",
      "72:\tlearn: 0.5796734\ttotal: 183ms\tremaining: 2.32s\n",
      "73:\tlearn: 0.5796593\ttotal: 183ms\tremaining: 2.29s\n",
      "74:\tlearn: 0.5796395\ttotal: 184ms\tremaining: 2.27s\n",
      "75:\tlearn: 0.5796393\ttotal: 184ms\tremaining: 2.24s\n",
      "76:\tlearn: 0.5796180\ttotal: 185ms\tremaining: 2.22s\n",
      "77:\tlearn: 0.5796178\ttotal: 186ms\tremaining: 2.19s\n",
      "78:\tlearn: 0.5795841\ttotal: 186ms\tremaining: 2.17s\n",
      "79:\tlearn: 0.5794831\ttotal: 187ms\tremaining: 2.15s\n",
      "80:\tlearn: 0.5794830\ttotal: 187ms\tremaining: 2.12s\n",
      "81:\tlearn: 0.5794475\ttotal: 188ms\tremaining: 2.1s\n",
      "82:\tlearn: 0.5794034\ttotal: 189ms\tremaining: 2.08s\n",
      "83:\tlearn: 0.5793701\ttotal: 189ms\tremaining: 2.06s\n",
      "84:\tlearn: 0.5793535\ttotal: 190ms\tremaining: 2.04s\n",
      "85:\tlearn: 0.5792833\ttotal: 190ms\tremaining: 2.02s\n",
      "86:\tlearn: 0.5792468\ttotal: 191ms\tremaining: 2s\n",
      "87:\tlearn: 0.5792431\ttotal: 191ms\tremaining: 1.98s\n",
      "88:\tlearn: 0.5792381\ttotal: 192ms\tremaining: 1.96s\n",
      "89:\tlearn: 0.5791992\ttotal: 192ms\tremaining: 1.95s\n",
      "90:\tlearn: 0.5791596\ttotal: 193ms\tremaining: 1.93s\n",
      "91:\tlearn: 0.5791439\ttotal: 193ms\tremaining: 1.91s\n",
      "92:\tlearn: 0.5790456\ttotal: 194ms\tremaining: 1.89s\n",
      "93:\tlearn: 0.5790132\ttotal: 195ms\tremaining: 1.88s\n",
      "94:\tlearn: 0.5789845\ttotal: 195ms\tremaining: 1.86s\n",
      "95:\tlearn: 0.5789293\ttotal: 196ms\tremaining: 1.85s\n",
      "96:\tlearn: 0.5788975\ttotal: 197ms\tremaining: 1.83s\n",
      "97:\tlearn: 0.5788682\ttotal: 197ms\tremaining: 1.81s\n",
      "98:\tlearn: 0.5787911\ttotal: 198ms\tremaining: 1.8s\n",
      "99:\tlearn: 0.5787645\ttotal: 199ms\tremaining: 1.79s\n",
      "100:\tlearn: 0.5787644\ttotal: 199ms\tremaining: 1.77s\n",
      "101:\tlearn: 0.5787616\ttotal: 200ms\tremaining: 1.76s\n",
      "102:\tlearn: 0.5787356\ttotal: 200ms\tremaining: 1.74s\n",
      "103:\tlearn: 0.5787079\ttotal: 201ms\tremaining: 1.73s\n",
      "104:\tlearn: 0.5786912\ttotal: 201ms\tremaining: 1.72s\n",
      "105:\tlearn: 0.5786756\ttotal: 202ms\tremaining: 1.7s\n",
      "106:\tlearn: 0.5786313\ttotal: 202ms\tremaining: 1.69s\n",
      "107:\tlearn: 0.5785705\ttotal: 203ms\tremaining: 1.68s\n",
      "108:\tlearn: 0.5785169\ttotal: 204ms\tremaining: 1.67s\n",
      "109:\tlearn: 0.5784994\ttotal: 204ms\tremaining: 1.65s\n",
      "110:\tlearn: 0.5784514\ttotal: 205ms\tremaining: 1.64s\n",
      "111:\tlearn: 0.5783685\ttotal: 206ms\tremaining: 1.63s\n",
      "112:\tlearn: 0.5783555\ttotal: 206ms\tremaining: 1.62s\n",
      "113:\tlearn: 0.5783554\ttotal: 207ms\tremaining: 1.61s\n",
      "114:\tlearn: 0.5783242\ttotal: 207ms\tremaining: 1.59s\n",
      "115:\tlearn: 0.5783142\ttotal: 208ms\tremaining: 1.58s\n",
      "116:\tlearn: 0.5782586\ttotal: 209ms\tremaining: 1.57s\n",
      "117:\tlearn: 0.5781755\ttotal: 209ms\tremaining: 1.56s\n",
      "118:\tlearn: 0.5781293\ttotal: 210ms\tremaining: 1.56s\n",
      "119:\tlearn: 0.5780568\ttotal: 211ms\tremaining: 1.55s\n",
      "120:\tlearn: 0.5780212\ttotal: 212ms\tremaining: 1.54s\n",
      "121:\tlearn: 0.5780125\ttotal: 212ms\tremaining: 1.53s\n",
      "122:\tlearn: 0.5780048\ttotal: 213ms\tremaining: 1.52s\n",
      "123:\tlearn: 0.5779900\ttotal: 213ms\tremaining: 1.51s\n",
      "124:\tlearn: 0.5778852\ttotal: 214ms\tremaining: 1.5s\n",
      "125:\tlearn: 0.5778405\ttotal: 215ms\tremaining: 1.49s\n",
      "126:\tlearn: 0.5778151\ttotal: 215ms\tremaining: 1.48s\n",
      "127:\tlearn: 0.5778150\ttotal: 216ms\tremaining: 1.47s\n",
      "128:\tlearn: 0.5777550\ttotal: 216ms\tremaining: 1.46s\n",
      "129:\tlearn: 0.5777082\ttotal: 217ms\tremaining: 1.45s\n",
      "130:\tlearn: 0.5776132\ttotal: 218ms\tremaining: 1.44s\n",
      "131:\tlearn: 0.5775735\ttotal: 219ms\tremaining: 1.44s\n",
      "132:\tlearn: 0.5774829\ttotal: 219ms\tremaining: 1.43s\n",
      "133:\tlearn: 0.5774639\ttotal: 220ms\tremaining: 1.42s\n",
      "134:\tlearn: 0.5774080\ttotal: 220ms\tremaining: 1.41s\n",
      "135:\tlearn: 0.5772813\ttotal: 221ms\tremaining: 1.4s\n",
      "136:\tlearn: 0.5771184\ttotal: 222ms\tremaining: 1.4s\n",
      "137:\tlearn: 0.5770633\ttotal: 223ms\tremaining: 1.39s\n",
      "138:\tlearn: 0.5770481\ttotal: 223ms\tremaining: 1.38s\n",
      "139:\tlearn: 0.5769866\ttotal: 224ms\tremaining: 1.38s\n",
      "140:\tlearn: 0.5769311\ttotal: 225ms\tremaining: 1.37s\n",
      "141:\tlearn: 0.5769273\ttotal: 225ms\tremaining: 1.36s\n",
      "142:\tlearn: 0.5769061\ttotal: 226ms\tremaining: 1.35s\n",
      "143:\tlearn: 0.5769061\ttotal: 226ms\tremaining: 1.34s\n",
      "144:\tlearn: 0.5768497\ttotal: 227ms\tremaining: 1.34s\n",
      "145:\tlearn: 0.5767934\ttotal: 228ms\tremaining: 1.33s\n",
      "146:\tlearn: 0.5767411\ttotal: 228ms\tremaining: 1.32s\n",
      "147:\tlearn: 0.5767410\ttotal: 229ms\tremaining: 1.32s\n",
      "148:\tlearn: 0.5766902\ttotal: 229ms\tremaining: 1.31s\n",
      "149:\tlearn: 0.5766736\ttotal: 230ms\tremaining: 1.3s\n",
      "150:\tlearn: 0.5766201\ttotal: 231ms\tremaining: 1.3s\n",
      "151:\tlearn: 0.5765761\ttotal: 232ms\tremaining: 1.29s\n",
      "152:\tlearn: 0.5765234\ttotal: 232ms\tremaining: 1.29s\n",
      "153:\tlearn: 0.5765204\ttotal: 233ms\tremaining: 1.28s\n",
      "154:\tlearn: 0.5765054\ttotal: 233ms\tremaining: 1.27s\n",
      "155:\tlearn: 0.5764758\ttotal: 234ms\tremaining: 1.26s\n",
      "156:\tlearn: 0.5763771\ttotal: 235ms\tremaining: 1.26s\n",
      "157:\tlearn: 0.5763579\ttotal: 236ms\tremaining: 1.25s\n",
      "158:\tlearn: 0.5763429\ttotal: 236ms\tremaining: 1.25s\n",
      "159:\tlearn: 0.5762679\ttotal: 237ms\tremaining: 1.24s\n",
      "160:\tlearn: 0.5761676\ttotal: 237ms\tremaining: 1.24s\n",
      "161:\tlearn: 0.5760613\ttotal: 238ms\tremaining: 1.23s\n",
      "162:\tlearn: 0.5759902\ttotal: 239ms\tremaining: 1.23s\n",
      "163:\tlearn: 0.5759223\ttotal: 240ms\tremaining: 1.22s\n",
      "164:\tlearn: 0.5759087\ttotal: 240ms\tremaining: 1.22s\n",
      "165:\tlearn: 0.5758419\ttotal: 241ms\tremaining: 1.21s\n",
      "166:\tlearn: 0.5757974\ttotal: 242ms\tremaining: 1.2s\n",
      "167:\tlearn: 0.5757809\ttotal: 242ms\tremaining: 1.2s\n",
      "168:\tlearn: 0.5757479\ttotal: 243ms\tremaining: 1.19s\n",
      "169:\tlearn: 0.5757087\ttotal: 243ms\tremaining: 1.19s\n",
      "170:\tlearn: 0.5756415\ttotal: 244ms\tremaining: 1.18s\n",
      "171:\tlearn: 0.5756298\ttotal: 245ms\tremaining: 1.18s\n",
      "172:\tlearn: 0.5755883\ttotal: 246ms\tremaining: 1.17s\n",
      "173:\tlearn: 0.5755763\ttotal: 246ms\tremaining: 1.17s\n",
      "174:\tlearn: 0.5755675\ttotal: 247ms\tremaining: 1.16s\n",
      "175:\tlearn: 0.5754579\ttotal: 248ms\tremaining: 1.16s\n",
      "176:\tlearn: 0.5754229\ttotal: 248ms\tremaining: 1.15s\n",
      "177:\tlearn: 0.5753708\ttotal: 249ms\tremaining: 1.15s\n",
      "178:\tlearn: 0.5753413\ttotal: 249ms\tremaining: 1.14s\n",
      "179:\tlearn: 0.5752432\ttotal: 250ms\tremaining: 1.14s\n",
      "180:\tlearn: 0.5751563\ttotal: 251ms\tremaining: 1.14s\n",
      "181:\tlearn: 0.5751173\ttotal: 252ms\tremaining: 1.13s\n",
      "182:\tlearn: 0.5751009\ttotal: 252ms\tremaining: 1.13s\n",
      "183:\tlearn: 0.5750720\ttotal: 253ms\tremaining: 1.12s\n",
      "184:\tlearn: 0.5749675\ttotal: 253ms\tremaining: 1.12s\n",
      "185:\tlearn: 0.5748800\ttotal: 254ms\tremaining: 1.11s\n",
      "186:\tlearn: 0.5748714\ttotal: 255ms\tremaining: 1.11s\n",
      "187:\tlearn: 0.5748534\ttotal: 255ms\tremaining: 1.1s\n",
      "188:\tlearn: 0.5748268\ttotal: 256ms\tremaining: 1.1s\n",
      "189:\tlearn: 0.5748014\ttotal: 257ms\tremaining: 1.09s\n",
      "190:\tlearn: 0.5747220\ttotal: 258ms\tremaining: 1.09s\n",
      "191:\tlearn: 0.5746222\ttotal: 259ms\tremaining: 1.09s\n",
      "192:\tlearn: 0.5745574\ttotal: 259ms\tremaining: 1.08s\n",
      "193:\tlearn: 0.5745553\ttotal: 260ms\tremaining: 1.08s\n",
      "194:\tlearn: 0.5745453\ttotal: 261ms\tremaining: 1.08s\n",
      "195:\tlearn: 0.5745102\ttotal: 262ms\tremaining: 1.07s\n",
      "196:\tlearn: 0.5744340\ttotal: 262ms\tremaining: 1.07s\n",
      "197:\tlearn: 0.5744320\ttotal: 263ms\tremaining: 1.06s\n",
      "198:\tlearn: 0.5744189\ttotal: 264ms\tremaining: 1.06s\n",
      "199:\tlearn: 0.5744058\ttotal: 264ms\tremaining: 1.06s\n",
      "200:\tlearn: 0.5742972\ttotal: 265ms\tremaining: 1.05s\n",
      "201:\tlearn: 0.5742654\ttotal: 265ms\tremaining: 1.05s\n",
      "202:\tlearn: 0.5741830\ttotal: 266ms\tremaining: 1.04s\n",
      "203:\tlearn: 0.5741743\ttotal: 267ms\tremaining: 1.04s\n",
      "204:\tlearn: 0.5741301\ttotal: 267ms\tremaining: 1.04s\n",
      "205:\tlearn: 0.5740588\ttotal: 268ms\tremaining: 1.03s\n",
      "206:\tlearn: 0.5740183\ttotal: 269ms\tremaining: 1.03s\n",
      "207:\tlearn: 0.5740099\ttotal: 270ms\tremaining: 1.03s\n",
      "208:\tlearn: 0.5739717\ttotal: 270ms\tremaining: 1.02s\n",
      "209:\tlearn: 0.5739154\ttotal: 271ms\tremaining: 1.02s\n",
      "210:\tlearn: 0.5738942\ttotal: 271ms\tremaining: 1.01s\n",
      "211:\tlearn: 0.5738308\ttotal: 272ms\tremaining: 1.01s\n",
      "212:\tlearn: 0.5737458\ttotal: 273ms\tremaining: 1.01s\n",
      "213:\tlearn: 0.5737383\ttotal: 274ms\tremaining: 1s\n",
      "214:\tlearn: 0.5737026\ttotal: 274ms\tremaining: 1s\n",
      "215:\tlearn: 0.5736367\ttotal: 275ms\tremaining: 999ms\n",
      "216:\tlearn: 0.5735847\ttotal: 276ms\tremaining: 996ms\n",
      "217:\tlearn: 0.5735000\ttotal: 277ms\tremaining: 993ms\n",
      "218:\tlearn: 0.5734476\ttotal: 277ms\tremaining: 990ms\n",
      "219:\tlearn: 0.5733959\ttotal: 278ms\tremaining: 987ms\n",
      "220:\tlearn: 0.5733943\ttotal: 279ms\tremaining: 983ms\n"
     ]
    },
    {
     "name": "stdout",
     "output_type": "stream",
     "text": [
      "221:\tlearn: 0.5733241\ttotal: 280ms\tremaining: 982ms\n",
      "222:\tlearn: 0.5732366\ttotal: 281ms\tremaining: 979ms\n",
      "223:\tlearn: 0.5731733\ttotal: 282ms\tremaining: 976ms\n",
      "224:\tlearn: 0.5730920\ttotal: 282ms\tremaining: 973ms\n",
      "225:\tlearn: 0.5730645\ttotal: 283ms\tremaining: 970ms\n",
      "226:\tlearn: 0.5729915\ttotal: 284ms\tremaining: 967ms\n",
      "227:\tlearn: 0.5729138\ttotal: 285ms\tremaining: 964ms\n",
      "228:\tlearn: 0.5729125\ttotal: 285ms\tremaining: 960ms\n",
      "229:\tlearn: 0.5728422\ttotal: 286ms\tremaining: 957ms\n",
      "230:\tlearn: 0.5727806\ttotal: 287ms\tremaining: 954ms\n",
      "231:\tlearn: 0.5727180\ttotal: 287ms\tremaining: 951ms\n",
      "232:\tlearn: 0.5726631\ttotal: 288ms\tremaining: 948ms\n",
      "233:\tlearn: 0.5726576\ttotal: 289ms\tremaining: 945ms\n",
      "234:\tlearn: 0.5726092\ttotal: 289ms\tremaining: 942ms\n",
      "235:\tlearn: 0.5725583\ttotal: 290ms\tremaining: 939ms\n",
      "236:\tlearn: 0.5724893\ttotal: 291ms\tremaining: 937ms\n",
      "237:\tlearn: 0.5724430\ttotal: 292ms\tremaining: 934ms\n",
      "238:\tlearn: 0.5723770\ttotal: 292ms\tremaining: 931ms\n",
      "239:\tlearn: 0.5723051\ttotal: 293ms\tremaining: 928ms\n",
      "240:\tlearn: 0.5722595\ttotal: 294ms\tremaining: 926ms\n",
      "241:\tlearn: 0.5722270\ttotal: 295ms\tremaining: 923ms\n",
      "242:\tlearn: 0.5721722\ttotal: 295ms\tremaining: 920ms\n",
      "243:\tlearn: 0.5721122\ttotal: 296ms\tremaining: 917ms\n",
      "244:\tlearn: 0.5720739\ttotal: 297ms\tremaining: 915ms\n",
      "245:\tlearn: 0.5720387\ttotal: 298ms\tremaining: 912ms\n",
      "246:\tlearn: 0.5719978\ttotal: 299ms\tremaining: 910ms\n",
      "247:\tlearn: 0.5719405\ttotal: 299ms\tremaining: 908ms\n",
      "248:\tlearn: 0.5718854\ttotal: 300ms\tremaining: 906ms\n",
      "249:\tlearn: 0.5718531\ttotal: 301ms\tremaining: 904ms\n",
      "250:\tlearn: 0.5718152\ttotal: 302ms\tremaining: 902ms\n",
      "251:\tlearn: 0.5718040\ttotal: 303ms\tremaining: 899ms\n",
      "252:\tlearn: 0.5717510\ttotal: 304ms\tremaining: 897ms\n",
      "253:\tlearn: 0.5716767\ttotal: 304ms\tremaining: 894ms\n",
      "254:\tlearn: 0.5716342\ttotal: 305ms\tremaining: 892ms\n",
      "255:\tlearn: 0.5716048\ttotal: 306ms\tremaining: 889ms\n",
      "256:\tlearn: 0.5715759\ttotal: 307ms\tremaining: 887ms\n",
      "257:\tlearn: 0.5715308\ttotal: 308ms\tremaining: 884ms\n",
      "258:\tlearn: 0.5714938\ttotal: 308ms\tremaining: 882ms\n",
      "259:\tlearn: 0.5714588\ttotal: 309ms\tremaining: 880ms\n",
      "260:\tlearn: 0.5714234\ttotal: 310ms\tremaining: 877ms\n",
      "261:\tlearn: 0.5713886\ttotal: 311ms\tremaining: 875ms\n",
      "262:\tlearn: 0.5713570\ttotal: 311ms\tremaining: 873ms\n",
      "263:\tlearn: 0.5713286\ttotal: 312ms\tremaining: 870ms\n",
      "264:\tlearn: 0.5712807\ttotal: 313ms\tremaining: 868ms\n",
      "265:\tlearn: 0.5712786\ttotal: 313ms\tremaining: 865ms\n",
      "266:\tlearn: 0.5712499\ttotal: 314ms\tremaining: 862ms\n",
      "267:\tlearn: 0.5712019\ttotal: 315ms\tremaining: 860ms\n",
      "268:\tlearn: 0.5711857\ttotal: 316ms\tremaining: 858ms\n",
      "269:\tlearn: 0.5711641\ttotal: 317ms\tremaining: 856ms\n",
      "270:\tlearn: 0.5711190\ttotal: 318ms\tremaining: 855ms\n",
      "271:\tlearn: 0.5710928\ttotal: 319ms\tremaining: 853ms\n",
      "272:\tlearn: 0.5710921\ttotal: 319ms\tremaining: 850ms\n",
      "273:\tlearn: 0.5710721\ttotal: 320ms\tremaining: 847ms\n",
      "274:\tlearn: 0.5710419\ttotal: 320ms\tremaining: 845ms\n",
      "275:\tlearn: 0.5710158\ttotal: 321ms\tremaining: 842ms\n",
      "276:\tlearn: 0.5709644\ttotal: 322ms\tremaining: 840ms\n",
      "277:\tlearn: 0.5709423\ttotal: 323ms\tremaining: 838ms\n",
      "278:\tlearn: 0.5709209\ttotal: 324ms\tremaining: 837ms\n",
      "279:\tlearn: 0.5709013\ttotal: 325ms\tremaining: 835ms\n",
      "280:\tlearn: 0.5708816\ttotal: 326ms\tremaining: 833ms\n",
      "281:\tlearn: 0.5708395\ttotal: 326ms\tremaining: 831ms\n",
      "282:\tlearn: 0.5708116\ttotal: 327ms\tremaining: 829ms\n",
      "283:\tlearn: 0.5707729\ttotal: 328ms\tremaining: 827ms\n",
      "284:\tlearn: 0.5707534\ttotal: 329ms\tremaining: 825ms\n",
      "285:\tlearn: 0.5707354\ttotal: 330ms\tremaining: 823ms\n",
      "286:\tlearn: 0.5707349\ttotal: 330ms\tremaining: 821ms\n",
      "287:\tlearn: 0.5707339\ttotal: 331ms\tremaining: 818ms\n",
      "288:\tlearn: 0.5707131\ttotal: 332ms\tremaining: 816ms\n",
      "289:\tlearn: 0.5706967\ttotal: 332ms\tremaining: 814ms\n",
      "290:\tlearn: 0.5706506\ttotal: 333ms\tremaining: 811ms\n",
      "291:\tlearn: 0.5706298\ttotal: 334ms\tremaining: 809ms\n",
      "292:\tlearn: 0.5706112\ttotal: 335ms\tremaining: 807ms\n",
      "293:\tlearn: 0.5705897\ttotal: 335ms\tremaining: 805ms\n",
      "294:\tlearn: 0.5705661\ttotal: 336ms\tremaining: 803ms\n",
      "295:\tlearn: 0.5705220\ttotal: 337ms\tremaining: 802ms\n",
      "296:\tlearn: 0.5704938\ttotal: 338ms\tremaining: 800ms\n",
      "297:\tlearn: 0.5704682\ttotal: 339ms\tremaining: 798ms\n",
      "298:\tlearn: 0.5704414\ttotal: 340ms\tremaining: 796ms\n",
      "299:\tlearn: 0.5704273\ttotal: 340ms\tremaining: 794ms\n",
      "300:\tlearn: 0.5703926\ttotal: 341ms\tremaining: 793ms\n",
      "301:\tlearn: 0.5703529\ttotal: 342ms\tremaining: 791ms\n",
      "302:\tlearn: 0.5703374\ttotal: 343ms\tremaining: 789ms\n",
      "303:\tlearn: 0.5703192\ttotal: 344ms\tremaining: 788ms\n",
      "304:\tlearn: 0.5702881\ttotal: 345ms\tremaining: 786ms\n",
      "305:\tlearn: 0.5702563\ttotal: 346ms\tremaining: 784ms\n",
      "306:\tlearn: 0.5702477\ttotal: 346ms\tremaining: 782ms\n",
      "307:\tlearn: 0.5702261\ttotal: 347ms\tremaining: 780ms\n",
      "308:\tlearn: 0.5701953\ttotal: 348ms\tremaining: 778ms\n",
      "309:\tlearn: 0.5701816\ttotal: 349ms\tremaining: 776ms\n",
      "310:\tlearn: 0.5701813\ttotal: 349ms\tremaining: 774ms\n",
      "311:\tlearn: 0.5701681\ttotal: 350ms\tremaining: 772ms\n",
      "312:\tlearn: 0.5701565\ttotal: 351ms\tremaining: 770ms\n",
      "313:\tlearn: 0.5701432\ttotal: 351ms\tremaining: 768ms\n",
      "314:\tlearn: 0.5701201\ttotal: 352ms\tremaining: 766ms\n",
      "315:\tlearn: 0.5701061\ttotal: 353ms\tremaining: 764ms\n",
      "316:\tlearn: 0.5700749\ttotal: 354ms\tremaining: 762ms\n",
      "317:\tlearn: 0.5700457\ttotal: 355ms\tremaining: 760ms\n",
      "318:\tlearn: 0.5700158\ttotal: 355ms\tremaining: 759ms\n",
      "319:\tlearn: 0.5700077\ttotal: 356ms\tremaining: 757ms\n",
      "320:\tlearn: 0.5699739\ttotal: 357ms\tremaining: 755ms\n",
      "321:\tlearn: 0.5699731\ttotal: 358ms\tremaining: 753ms\n",
      "322:\tlearn: 0.5699264\ttotal: 358ms\tremaining: 751ms\n",
      "323:\tlearn: 0.5698832\ttotal: 359ms\tremaining: 750ms\n",
      "324:\tlearn: 0.5698687\ttotal: 360ms\tremaining: 748ms\n",
      "325:\tlearn: 0.5698367\ttotal: 361ms\tremaining: 746ms\n",
      "326:\tlearn: 0.5698163\ttotal: 362ms\tremaining: 744ms\n",
      "327:\tlearn: 0.5698047\ttotal: 362ms\tremaining: 742ms\n",
      "328:\tlearn: 0.5697915\ttotal: 363ms\tremaining: 740ms\n",
      "329:\tlearn: 0.5697701\ttotal: 364ms\tremaining: 738ms\n",
      "330:\tlearn: 0.5697530\ttotal: 364ms\tremaining: 736ms\n",
      "331:\tlearn: 0.5697334\ttotal: 365ms\tremaining: 735ms\n",
      "332:\tlearn: 0.5697115\ttotal: 366ms\tremaining: 733ms\n",
      "333:\tlearn: 0.5697108\ttotal: 366ms\tremaining: 731ms\n",
      "334:\tlearn: 0.5697011\ttotal: 367ms\tremaining: 729ms\n",
      "335:\tlearn: 0.5696894\ttotal: 368ms\tremaining: 727ms\n",
      "336:\tlearn: 0.5696827\ttotal: 369ms\tremaining: 725ms\n",
      "337:\tlearn: 0.5696559\ttotal: 369ms\tremaining: 723ms\n",
      "338:\tlearn: 0.5696388\ttotal: 370ms\tremaining: 722ms\n",
      "339:\tlearn: 0.5696260\ttotal: 371ms\tremaining: 720ms\n",
      "340:\tlearn: 0.5696168\ttotal: 372ms\tremaining: 718ms\n",
      "341:\tlearn: 0.5696071\ttotal: 372ms\tremaining: 717ms\n",
      "342:\tlearn: 0.5695900\ttotal: 373ms\tremaining: 715ms\n",
      "343:\tlearn: 0.5695693\ttotal: 374ms\tremaining: 713ms\n",
      "344:\tlearn: 0.5695469\ttotal: 375ms\tremaining: 711ms\n",
      "345:\tlearn: 0.5695338\ttotal: 375ms\tremaining: 710ms\n",
      "346:\tlearn: 0.5695279\ttotal: 376ms\tremaining: 708ms\n",
      "347:\tlearn: 0.5695189\ttotal: 377ms\tremaining: 706ms\n",
      "348:\tlearn: 0.5695082\ttotal: 378ms\tremaining: 705ms\n",
      "349:\tlearn: 0.5694745\ttotal: 378ms\tremaining: 703ms\n",
      "350:\tlearn: 0.5694656\ttotal: 379ms\tremaining: 701ms\n",
      "351:\tlearn: 0.5694460\ttotal: 380ms\tremaining: 699ms\n",
      "352:\tlearn: 0.5694379\ttotal: 381ms\tremaining: 698ms\n",
      "353:\tlearn: 0.5694239\ttotal: 381ms\tremaining: 696ms\n",
      "354:\tlearn: 0.5694138\ttotal: 382ms\tremaining: 695ms\n",
      "355:\tlearn: 0.5694062\ttotal: 383ms\tremaining: 693ms\n",
      "356:\tlearn: 0.5694035\ttotal: 384ms\tremaining: 691ms\n",
      "357:\tlearn: 0.5693734\ttotal: 384ms\tremaining: 690ms\n",
      "358:\tlearn: 0.5693508\ttotal: 385ms\tremaining: 688ms\n",
      "359:\tlearn: 0.5693455\ttotal: 386ms\tremaining: 686ms\n",
      "360:\tlearn: 0.5693263\ttotal: 387ms\tremaining: 684ms\n",
      "361:\tlearn: 0.5693123\ttotal: 387ms\tremaining: 683ms\n",
      "362:\tlearn: 0.5693054\ttotal: 388ms\tremaining: 681ms\n",
      "363:\tlearn: 0.5693017\ttotal: 389ms\tremaining: 680ms\n",
      "364:\tlearn: 0.5692907\ttotal: 390ms\tremaining: 678ms\n",
      "365:\tlearn: 0.5692728\ttotal: 390ms\tremaining: 676ms\n",
      "366:\tlearn: 0.5692653\ttotal: 391ms\tremaining: 675ms\n",
      "367:\tlearn: 0.5692564\ttotal: 392ms\tremaining: 673ms\n",
      "368:\tlearn: 0.5692290\ttotal: 393ms\tremaining: 672ms\n",
      "369:\tlearn: 0.5692204\ttotal: 393ms\tremaining: 670ms\n",
      "370:\tlearn: 0.5692143\ttotal: 394ms\tremaining: 668ms\n",
      "371:\tlearn: 0.5692070\ttotal: 395ms\tremaining: 667ms\n",
      "372:\tlearn: 0.5691940\ttotal: 396ms\tremaining: 665ms\n",
      "373:\tlearn: 0.5691902\ttotal: 396ms\tremaining: 664ms\n",
      "374:\tlearn: 0.5691740\ttotal: 397ms\tremaining: 662ms\n",
      "375:\tlearn: 0.5691572\ttotal: 398ms\tremaining: 660ms\n",
      "376:\tlearn: 0.5691420\ttotal: 399ms\tremaining: 659ms\n",
      "377:\tlearn: 0.5691301\ttotal: 399ms\tremaining: 657ms\n",
      "378:\tlearn: 0.5691118\ttotal: 400ms\tremaining: 656ms\n",
      "379:\tlearn: 0.5691063\ttotal: 401ms\tremaining: 654ms\n",
      "380:\tlearn: 0.5690973\ttotal: 402ms\tremaining: 653ms\n",
      "381:\tlearn: 0.5690786\ttotal: 403ms\tremaining: 651ms\n",
      "382:\tlearn: 0.5690729\ttotal: 403ms\tremaining: 650ms\n",
      "383:\tlearn: 0.5690692\ttotal: 404ms\tremaining: 648ms\n",
      "384:\tlearn: 0.5690622\ttotal: 405ms\tremaining: 647ms\n",
      "385:\tlearn: 0.5690572\ttotal: 406ms\tremaining: 645ms\n",
      "386:\tlearn: 0.5690570\ttotal: 406ms\tremaining: 644ms\n",
      "387:\tlearn: 0.5690460\ttotal: 407ms\tremaining: 642ms\n",
      "388:\tlearn: 0.5690397\ttotal: 408ms\tremaining: 640ms\n",
      "389:\tlearn: 0.5690301\ttotal: 409ms\tremaining: 639ms\n",
      "390:\tlearn: 0.5690137\ttotal: 409ms\tremaining: 637ms\n",
      "391:\tlearn: 0.5690084\ttotal: 410ms\tremaining: 636ms\n",
      "392:\tlearn: 0.5689949\ttotal: 411ms\tremaining: 635ms\n",
      "393:\tlearn: 0.5689926\ttotal: 412ms\tremaining: 633ms\n",
      "394:\tlearn: 0.5689838\ttotal: 412ms\tremaining: 632ms\n",
      "395:\tlearn: 0.5689738\ttotal: 413ms\tremaining: 630ms\n",
      "396:\tlearn: 0.5689589\ttotal: 414ms\tremaining: 629ms\n",
      "397:\tlearn: 0.5689523\ttotal: 415ms\tremaining: 627ms\n",
      "398:\tlearn: 0.5689474\ttotal: 415ms\tremaining: 626ms\n",
      "399:\tlearn: 0.5689391\ttotal: 416ms\tremaining: 624ms\n",
      "400:\tlearn: 0.5689326\ttotal: 417ms\tremaining: 623ms\n",
      "401:\tlearn: 0.5689278\ttotal: 418ms\tremaining: 621ms\n",
      "402:\tlearn: 0.5689161\ttotal: 418ms\tremaining: 620ms\n",
      "403:\tlearn: 0.5689119\ttotal: 419ms\tremaining: 619ms\n",
      "404:\tlearn: 0.5689029\ttotal: 420ms\tremaining: 617ms\n",
      "405:\tlearn: 0.5688991\ttotal: 421ms\tremaining: 616ms\n",
      "406:\tlearn: 0.5688867\ttotal: 422ms\tremaining: 614ms\n",
      "407:\tlearn: 0.5688683\ttotal: 422ms\tremaining: 613ms\n",
      "408:\tlearn: 0.5688628\ttotal: 423ms\tremaining: 612ms\n",
      "409:\tlearn: 0.5688503\ttotal: 424ms\tremaining: 610ms\n",
      "410:\tlearn: 0.5688460\ttotal: 425ms\tremaining: 609ms\n",
      "411:\tlearn: 0.5688406\ttotal: 426ms\tremaining: 607ms\n",
      "412:\tlearn: 0.5688259\ttotal: 426ms\tremaining: 606ms\n",
      "413:\tlearn: 0.5688178\ttotal: 427ms\tremaining: 605ms\n",
      "414:\tlearn: 0.5688126\ttotal: 428ms\tremaining: 603ms\n",
      "415:\tlearn: 0.5688049\ttotal: 429ms\tremaining: 602ms\n",
      "416:\tlearn: 0.5687932\ttotal: 429ms\tremaining: 600ms\n",
      "417:\tlearn: 0.5687885\ttotal: 430ms\tremaining: 599ms\n",
      "418:\tlearn: 0.5687829\ttotal: 431ms\tremaining: 597ms\n",
      "419:\tlearn: 0.5687798\ttotal: 432ms\tremaining: 596ms\n"
     ]
    },
    {
     "name": "stdout",
     "output_type": "stream",
     "text": [
      "420:\tlearn: 0.5687726\ttotal: 433ms\tremaining: 595ms\n",
      "421:\tlearn: 0.5687599\ttotal: 434ms\tremaining: 594ms\n",
      "422:\tlearn: 0.5687567\ttotal: 434ms\tremaining: 592ms\n",
      "423:\tlearn: 0.5687497\ttotal: 435ms\tremaining: 591ms\n",
      "424:\tlearn: 0.5687459\ttotal: 436ms\tremaining: 590ms\n",
      "425:\tlearn: 0.5687328\ttotal: 437ms\tremaining: 588ms\n",
      "426:\tlearn: 0.5687327\ttotal: 437ms\tremaining: 587ms\n",
      "427:\tlearn: 0.5687265\ttotal: 438ms\tremaining: 585ms\n",
      "428:\tlearn: 0.5687233\ttotal: 439ms\tremaining: 584ms\n",
      "429:\tlearn: 0.5687167\ttotal: 439ms\tremaining: 582ms\n",
      "430:\tlearn: 0.5687104\ttotal: 440ms\tremaining: 581ms\n",
      "431:\tlearn: 0.5686990\ttotal: 441ms\tremaining: 580ms\n",
      "432:\tlearn: 0.5686928\ttotal: 442ms\tremaining: 578ms\n",
      "433:\tlearn: 0.5686896\ttotal: 442ms\tremaining: 577ms\n",
      "434:\tlearn: 0.5686825\ttotal: 443ms\tremaining: 576ms\n",
      "435:\tlearn: 0.5686727\ttotal: 444ms\tremaining: 574ms\n",
      "436:\tlearn: 0.5686644\ttotal: 445ms\tremaining: 573ms\n",
      "437:\tlearn: 0.5686575\ttotal: 446ms\tremaining: 572ms\n",
      "438:\tlearn: 0.5686514\ttotal: 447ms\tremaining: 571ms\n",
      "439:\tlearn: 0.5686458\ttotal: 447ms\tremaining: 569ms\n",
      "440:\tlearn: 0.5686335\ttotal: 448ms\tremaining: 568ms\n",
      "441:\tlearn: 0.5686247\ttotal: 449ms\tremaining: 567ms\n",
      "442:\tlearn: 0.5686187\ttotal: 450ms\tremaining: 566ms\n",
      "443:\tlearn: 0.5686103\ttotal: 451ms\tremaining: 565ms\n",
      "444:\tlearn: 0.5686028\ttotal: 452ms\tremaining: 563ms\n",
      "445:\tlearn: 0.5685915\ttotal: 452ms\tremaining: 562ms\n",
      "446:\tlearn: 0.5685857\ttotal: 453ms\tremaining: 561ms\n",
      "447:\tlearn: 0.5685796\ttotal: 454ms\tremaining: 559ms\n",
      "448:\tlearn: 0.5685706\ttotal: 455ms\tremaining: 558ms\n",
      "449:\tlearn: 0.5685676\ttotal: 456ms\tremaining: 557ms\n",
      "450:\tlearn: 0.5685635\ttotal: 456ms\tremaining: 555ms\n",
      "451:\tlearn: 0.5685559\ttotal: 457ms\tremaining: 554ms\n",
      "452:\tlearn: 0.5685535\ttotal: 458ms\tremaining: 553ms\n",
      "453:\tlearn: 0.5685464\ttotal: 458ms\tremaining: 551ms\n",
      "454:\tlearn: 0.5685371\ttotal: 459ms\tremaining: 550ms\n",
      "455:\tlearn: 0.5685311\ttotal: 460ms\tremaining: 549ms\n",
      "456:\tlearn: 0.5685268\ttotal: 461ms\tremaining: 547ms\n",
      "457:\tlearn: 0.5685235\ttotal: 461ms\tremaining: 546ms\n",
      "458:\tlearn: 0.5685214\ttotal: 462ms\tremaining: 545ms\n",
      "459:\tlearn: 0.5685190\ttotal: 463ms\tremaining: 543ms\n",
      "460:\tlearn: 0.5685165\ttotal: 463ms\tremaining: 542ms\n",
      "461:\tlearn: 0.5685143\ttotal: 464ms\tremaining: 541ms\n",
      "462:\tlearn: 0.5685061\ttotal: 465ms\tremaining: 539ms\n",
      "463:\tlearn: 0.5684951\ttotal: 466ms\tremaining: 538ms\n",
      "464:\tlearn: 0.5684918\ttotal: 467ms\tremaining: 537ms\n",
      "465:\tlearn: 0.5684887\ttotal: 467ms\tremaining: 536ms\n",
      "466:\tlearn: 0.5684864\ttotal: 468ms\tremaining: 534ms\n",
      "467:\tlearn: 0.5684786\ttotal: 469ms\tremaining: 533ms\n",
      "468:\tlearn: 0.5684743\ttotal: 470ms\tremaining: 532ms\n",
      "469:\tlearn: 0.5684706\ttotal: 471ms\tremaining: 531ms\n",
      "470:\tlearn: 0.5684634\ttotal: 472ms\tremaining: 530ms\n",
      "471:\tlearn: 0.5684593\ttotal: 473ms\tremaining: 529ms\n",
      "472:\tlearn: 0.5684548\ttotal: 474ms\tremaining: 528ms\n",
      "473:\tlearn: 0.5684488\ttotal: 475ms\tremaining: 527ms\n",
      "474:\tlearn: 0.5684478\ttotal: 475ms\tremaining: 525ms\n",
      "475:\tlearn: 0.5684443\ttotal: 476ms\tremaining: 524ms\n",
      "476:\tlearn: 0.5684416\ttotal: 477ms\tremaining: 523ms\n",
      "477:\tlearn: 0.5684363\ttotal: 478ms\tremaining: 521ms\n",
      "478:\tlearn: 0.5684333\ttotal: 478ms\tremaining: 520ms\n",
      "479:\tlearn: 0.5684243\ttotal: 479ms\tremaining: 519ms\n",
      "480:\tlearn: 0.5684195\ttotal: 480ms\tremaining: 518ms\n",
      "481:\tlearn: 0.5684141\ttotal: 481ms\tremaining: 517ms\n",
      "482:\tlearn: 0.5684112\ttotal: 481ms\tremaining: 515ms\n",
      "483:\tlearn: 0.5684029\ttotal: 482ms\tremaining: 514ms\n",
      "484:\tlearn: 0.5683977\ttotal: 483ms\tremaining: 513ms\n",
      "485:\tlearn: 0.5683929\ttotal: 484ms\tremaining: 511ms\n",
      "486:\tlearn: 0.5683859\ttotal: 484ms\tremaining: 510ms\n",
      "487:\tlearn: 0.5683820\ttotal: 485ms\tremaining: 509ms\n",
      "488:\tlearn: 0.5683766\ttotal: 486ms\tremaining: 508ms\n",
      "489:\tlearn: 0.5683693\ttotal: 487ms\tremaining: 506ms\n",
      "490:\tlearn: 0.5683672\ttotal: 487ms\tremaining: 505ms\n",
      "491:\tlearn: 0.5683630\ttotal: 488ms\tremaining: 504ms\n",
      "492:\tlearn: 0.5683585\ttotal: 489ms\tremaining: 503ms\n",
      "493:\tlearn: 0.5683530\ttotal: 490ms\tremaining: 502ms\n",
      "494:\tlearn: 0.5683487\ttotal: 491ms\tremaining: 500ms\n",
      "495:\tlearn: 0.5683427\ttotal: 491ms\tremaining: 499ms\n",
      "496:\tlearn: 0.5683382\ttotal: 492ms\tremaining: 498ms\n",
      "497:\tlearn: 0.5683342\ttotal: 493ms\tremaining: 497ms\n",
      "498:\tlearn: 0.5683312\ttotal: 494ms\tremaining: 496ms\n",
      "499:\tlearn: 0.5683284\ttotal: 495ms\tremaining: 495ms\n",
      "500:\tlearn: 0.5683268\ttotal: 495ms\tremaining: 493ms\n",
      "501:\tlearn: 0.5683251\ttotal: 496ms\tremaining: 492ms\n",
      "502:\tlearn: 0.5683224\ttotal: 497ms\tremaining: 491ms\n",
      "503:\tlearn: 0.5683202\ttotal: 497ms\tremaining: 489ms\n",
      "504:\tlearn: 0.5683159\ttotal: 498ms\tremaining: 488ms\n",
      "505:\tlearn: 0.5683104\ttotal: 499ms\tremaining: 487ms\n",
      "506:\tlearn: 0.5683050\ttotal: 500ms\tremaining: 486ms\n",
      "507:\tlearn: 0.5683030\ttotal: 500ms\tremaining: 485ms\n",
      "508:\tlearn: 0.5682998\ttotal: 501ms\tremaining: 483ms\n",
      "509:\tlearn: 0.5682948\ttotal: 502ms\tremaining: 482ms\n",
      "510:\tlearn: 0.5682929\ttotal: 503ms\tremaining: 481ms\n",
      "511:\tlearn: 0.5682910\ttotal: 503ms\tremaining: 480ms\n",
      "512:\tlearn: 0.5682880\ttotal: 504ms\tremaining: 479ms\n",
      "513:\tlearn: 0.5682820\ttotal: 505ms\tremaining: 477ms\n",
      "514:\tlearn: 0.5682779\ttotal: 506ms\tremaining: 476ms\n",
      "515:\tlearn: 0.5682732\ttotal: 506ms\tremaining: 475ms\n",
      "516:\tlearn: 0.5682717\ttotal: 507ms\tremaining: 474ms\n",
      "517:\tlearn: 0.5682685\ttotal: 508ms\tremaining: 473ms\n",
      "518:\tlearn: 0.5682646\ttotal: 509ms\tremaining: 471ms\n",
      "519:\tlearn: 0.5682603\ttotal: 509ms\tremaining: 470ms\n",
      "520:\tlearn: 0.5682591\ttotal: 510ms\tremaining: 469ms\n",
      "521:\tlearn: 0.5682557\ttotal: 511ms\tremaining: 468ms\n",
      "522:\tlearn: 0.5682543\ttotal: 512ms\tremaining: 467ms\n",
      "523:\tlearn: 0.5682534\ttotal: 512ms\tremaining: 465ms\n",
      "524:\tlearn: 0.5682517\ttotal: 513ms\tremaining: 464ms\n",
      "525:\tlearn: 0.5682498\ttotal: 514ms\tremaining: 463ms\n",
      "526:\tlearn: 0.5682450\ttotal: 515ms\tremaining: 462ms\n",
      "527:\tlearn: 0.5682414\ttotal: 515ms\tremaining: 461ms\n",
      "528:\tlearn: 0.5682391\ttotal: 516ms\tremaining: 459ms\n",
      "529:\tlearn: 0.5682365\ttotal: 517ms\tremaining: 458ms\n",
      "530:\tlearn: 0.5682340\ttotal: 518ms\tremaining: 457ms\n",
      "531:\tlearn: 0.5682335\ttotal: 518ms\tremaining: 456ms\n",
      "532:\tlearn: 0.5682295\ttotal: 519ms\tremaining: 455ms\n",
      "533:\tlearn: 0.5682270\ttotal: 520ms\tremaining: 454ms\n",
      "534:\tlearn: 0.5682261\ttotal: 521ms\tremaining: 452ms\n",
      "535:\tlearn: 0.5682225\ttotal: 521ms\tremaining: 451ms\n",
      "536:\tlearn: 0.5682193\ttotal: 522ms\tremaining: 450ms\n",
      "537:\tlearn: 0.5682178\ttotal: 523ms\tremaining: 449ms\n",
      "538:\tlearn: 0.5682164\ttotal: 524ms\tremaining: 448ms\n",
      "539:\tlearn: 0.5682155\ttotal: 524ms\tremaining: 447ms\n",
      "540:\tlearn: 0.5682147\ttotal: 525ms\tremaining: 446ms\n",
      "541:\tlearn: 0.5682131\ttotal: 526ms\tremaining: 444ms\n",
      "542:\tlearn: 0.5682100\ttotal: 527ms\tremaining: 443ms\n",
      "543:\tlearn: 0.5682077\ttotal: 527ms\tremaining: 442ms\n",
      "544:\tlearn: 0.5682042\ttotal: 528ms\tremaining: 441ms\n",
      "545:\tlearn: 0.5682022\ttotal: 529ms\tremaining: 440ms\n",
      "546:\tlearn: 0.5682003\ttotal: 530ms\tremaining: 439ms\n",
      "547:\tlearn: 0.5681994\ttotal: 530ms\tremaining: 437ms\n",
      "548:\tlearn: 0.5681965\ttotal: 531ms\tremaining: 436ms\n",
      "549:\tlearn: 0.5681935\ttotal: 532ms\tremaining: 435ms\n",
      "550:\tlearn: 0.5681917\ttotal: 532ms\tremaining: 434ms\n",
      "551:\tlearn: 0.5681887\ttotal: 533ms\tremaining: 433ms\n",
      "552:\tlearn: 0.5681860\ttotal: 534ms\tremaining: 432ms\n",
      "553:\tlearn: 0.5681839\ttotal: 535ms\tremaining: 430ms\n",
      "554:\tlearn: 0.5681832\ttotal: 535ms\tremaining: 429ms\n",
      "555:\tlearn: 0.5681808\ttotal: 536ms\tremaining: 428ms\n",
      "556:\tlearn: 0.5681782\ttotal: 537ms\tremaining: 427ms\n",
      "557:\tlearn: 0.5681771\ttotal: 538ms\tremaining: 426ms\n",
      "558:\tlearn: 0.5681742\ttotal: 538ms\tremaining: 425ms\n",
      "559:\tlearn: 0.5681735\ttotal: 539ms\tremaining: 424ms\n",
      "560:\tlearn: 0.5681724\ttotal: 540ms\tremaining: 422ms\n",
      "561:\tlearn: 0.5681710\ttotal: 541ms\tremaining: 421ms\n",
      "562:\tlearn: 0.5681705\ttotal: 542ms\tremaining: 420ms\n",
      "563:\tlearn: 0.5681683\ttotal: 542ms\tremaining: 419ms\n",
      "564:\tlearn: 0.5681664\ttotal: 543ms\tremaining: 418ms\n",
      "565:\tlearn: 0.5681658\ttotal: 544ms\tremaining: 417ms\n",
      "566:\tlearn: 0.5681629\ttotal: 544ms\tremaining: 416ms\n",
      "567:\tlearn: 0.5681607\ttotal: 545ms\tremaining: 414ms\n",
      "568:\tlearn: 0.5681581\ttotal: 546ms\tremaining: 413ms\n",
      "569:\tlearn: 0.5681576\ttotal: 546ms\tremaining: 412ms\n",
      "570:\tlearn: 0.5681564\ttotal: 547ms\tremaining: 411ms\n",
      "571:\tlearn: 0.5681542\ttotal: 548ms\tremaining: 410ms\n",
      "572:\tlearn: 0.5681525\ttotal: 549ms\tremaining: 409ms\n",
      "573:\tlearn: 0.5681514\ttotal: 549ms\tremaining: 408ms\n",
      "574:\tlearn: 0.5681493\ttotal: 550ms\tremaining: 407ms\n",
      "575:\tlearn: 0.5681474\ttotal: 551ms\tremaining: 406ms\n",
      "576:\tlearn: 0.5681458\ttotal: 552ms\tremaining: 405ms\n",
      "577:\tlearn: 0.5681449\ttotal: 553ms\tremaining: 403ms\n",
      "578:\tlearn: 0.5681426\ttotal: 553ms\tremaining: 402ms\n",
      "579:\tlearn: 0.5681405\ttotal: 554ms\tremaining: 401ms\n",
      "580:\tlearn: 0.5681394\ttotal: 555ms\tremaining: 400ms\n",
      "581:\tlearn: 0.5681379\ttotal: 556ms\tremaining: 399ms\n",
      "582:\tlearn: 0.5681370\ttotal: 556ms\tremaining: 398ms\n",
      "583:\tlearn: 0.5681357\ttotal: 557ms\tremaining: 397ms\n",
      "584:\tlearn: 0.5681332\ttotal: 558ms\tremaining: 396ms\n",
      "585:\tlearn: 0.5681318\ttotal: 559ms\tremaining: 395ms\n",
      "586:\tlearn: 0.5681308\ttotal: 559ms\tremaining: 393ms\n",
      "587:\tlearn: 0.5681299\ttotal: 560ms\tremaining: 392ms\n",
      "588:\tlearn: 0.5681289\ttotal: 561ms\tremaining: 391ms\n",
      "589:\tlearn: 0.5681269\ttotal: 561ms\tremaining: 390ms\n",
      "590:\tlearn: 0.5681255\ttotal: 562ms\tremaining: 389ms\n",
      "591:\tlearn: 0.5681233\ttotal: 563ms\tremaining: 388ms\n",
      "592:\tlearn: 0.5681216\ttotal: 563ms\tremaining: 387ms\n",
      "593:\tlearn: 0.5681198\ttotal: 564ms\tremaining: 386ms\n",
      "594:\tlearn: 0.5681188\ttotal: 565ms\tremaining: 384ms\n",
      "595:\tlearn: 0.5681179\ttotal: 566ms\tremaining: 383ms\n",
      "596:\tlearn: 0.5681171\ttotal: 566ms\tremaining: 382ms\n",
      "597:\tlearn: 0.5681152\ttotal: 567ms\tremaining: 381ms\n",
      "598:\tlearn: 0.5681147\ttotal: 568ms\tremaining: 380ms\n",
      "599:\tlearn: 0.5681136\ttotal: 569ms\tremaining: 379ms\n",
      "600:\tlearn: 0.5681132\ttotal: 569ms\tremaining: 378ms\n",
      "601:\tlearn: 0.5681120\ttotal: 570ms\tremaining: 377ms\n",
      "602:\tlearn: 0.5681113\ttotal: 571ms\tremaining: 376ms\n",
      "603:\tlearn: 0.5681102\ttotal: 571ms\tremaining: 375ms\n",
      "604:\tlearn: 0.5681088\ttotal: 572ms\tremaining: 374ms\n",
      "605:\tlearn: 0.5681074\ttotal: 573ms\tremaining: 372ms\n",
      "606:\tlearn: 0.5681062\ttotal: 573ms\tremaining: 371ms\n",
      "607:\tlearn: 0.5681047\ttotal: 574ms\tremaining: 370ms\n",
      "608:\tlearn: 0.5681038\ttotal: 575ms\tremaining: 369ms\n",
      "609:\tlearn: 0.5681031\ttotal: 576ms\tremaining: 368ms\n",
      "610:\tlearn: 0.5681022\ttotal: 576ms\tremaining: 367ms\n",
      "611:\tlearn: 0.5681015\ttotal: 577ms\tremaining: 366ms\n",
      "612:\tlearn: 0.5681004\ttotal: 578ms\tremaining: 365ms\n",
      "613:\tlearn: 0.5680996\ttotal: 579ms\tremaining: 364ms\n",
      "614:\tlearn: 0.5680984\ttotal: 579ms\tremaining: 363ms\n",
      "615:\tlearn: 0.5680974\ttotal: 580ms\tremaining: 362ms\n",
      "616:\tlearn: 0.5680965\ttotal: 581ms\tremaining: 360ms\n",
      "617:\tlearn: 0.5680955\ttotal: 581ms\tremaining: 359ms\n",
      "618:\tlearn: 0.5680948\ttotal: 582ms\tremaining: 358ms\n",
      "619:\tlearn: 0.5680939\ttotal: 583ms\tremaining: 357ms\n",
      "620:\tlearn: 0.5680928\ttotal: 584ms\tremaining: 356ms\n",
      "621:\tlearn: 0.5680918\ttotal: 584ms\tremaining: 355ms\n"
     ]
    },
    {
     "name": "stdout",
     "output_type": "stream",
     "text": [
      "622:\tlearn: 0.5680908\ttotal: 586ms\tremaining: 354ms\n",
      "623:\tlearn: 0.5680900\ttotal: 586ms\tremaining: 353ms\n",
      "624:\tlearn: 0.5680895\ttotal: 587ms\tremaining: 352ms\n",
      "625:\tlearn: 0.5680890\ttotal: 588ms\tremaining: 351ms\n",
      "626:\tlearn: 0.5680885\ttotal: 589ms\tremaining: 350ms\n",
      "627:\tlearn: 0.5680881\ttotal: 589ms\tremaining: 349ms\n",
      "628:\tlearn: 0.5680874\ttotal: 590ms\tremaining: 348ms\n",
      "629:\tlearn: 0.5680862\ttotal: 591ms\tremaining: 347ms\n",
      "630:\tlearn: 0.5680854\ttotal: 592ms\tremaining: 346ms\n",
      "631:\tlearn: 0.5680843\ttotal: 593ms\tremaining: 345ms\n",
      "632:\tlearn: 0.5680838\ttotal: 593ms\tremaining: 344ms\n",
      "633:\tlearn: 0.5680832\ttotal: 594ms\tremaining: 343ms\n",
      "634:\tlearn: 0.5680825\ttotal: 595ms\tremaining: 342ms\n",
      "635:\tlearn: 0.5680820\ttotal: 596ms\tremaining: 341ms\n",
      "636:\tlearn: 0.5680805\ttotal: 596ms\tremaining: 340ms\n",
      "637:\tlearn: 0.5680798\ttotal: 597ms\tremaining: 339ms\n",
      "638:\tlearn: 0.5680793\ttotal: 598ms\tremaining: 338ms\n",
      "639:\tlearn: 0.5680786\ttotal: 599ms\tremaining: 337ms\n",
      "640:\tlearn: 0.5680778\ttotal: 600ms\tremaining: 336ms\n",
      "641:\tlearn: 0.5680770\ttotal: 600ms\tremaining: 335ms\n",
      "642:\tlearn: 0.5680761\ttotal: 601ms\tremaining: 334ms\n",
      "643:\tlearn: 0.5680749\ttotal: 602ms\tremaining: 333ms\n",
      "644:\tlearn: 0.5680742\ttotal: 603ms\tremaining: 332ms\n",
      "645:\tlearn: 0.5680736\ttotal: 603ms\tremaining: 331ms\n",
      "646:\tlearn: 0.5680728\ttotal: 604ms\tremaining: 330ms\n",
      "647:\tlearn: 0.5680723\ttotal: 605ms\tremaining: 329ms\n",
      "648:\tlearn: 0.5680717\ttotal: 606ms\tremaining: 328ms\n",
      "649:\tlearn: 0.5680710\ttotal: 607ms\tremaining: 327ms\n",
      "650:\tlearn: 0.5680704\ttotal: 607ms\tremaining: 326ms\n",
      "651:\tlearn: 0.5680698\ttotal: 608ms\tremaining: 325ms\n",
      "652:\tlearn: 0.5680690\ttotal: 609ms\tremaining: 323ms\n",
      "653:\tlearn: 0.5680687\ttotal: 609ms\tremaining: 322ms\n",
      "654:\tlearn: 0.5680685\ttotal: 610ms\tremaining: 321ms\n",
      "655:\tlearn: 0.5680679\ttotal: 611ms\tremaining: 320ms\n",
      "656:\tlearn: 0.5680675\ttotal: 612ms\tremaining: 319ms\n",
      "657:\tlearn: 0.5680671\ttotal: 612ms\tremaining: 318ms\n",
      "658:\tlearn: 0.5680666\ttotal: 613ms\tremaining: 317ms\n",
      "659:\tlearn: 0.5680660\ttotal: 614ms\tremaining: 316ms\n",
      "660:\tlearn: 0.5680654\ttotal: 615ms\tremaining: 315ms\n",
      "661:\tlearn: 0.5680649\ttotal: 616ms\tremaining: 314ms\n",
      "662:\tlearn: 0.5680643\ttotal: 616ms\tremaining: 313ms\n",
      "663:\tlearn: 0.5680634\ttotal: 617ms\tremaining: 312ms\n",
      "664:\tlearn: 0.5680627\ttotal: 618ms\tremaining: 311ms\n",
      "665:\tlearn: 0.5680622\ttotal: 618ms\tremaining: 310ms\n",
      "666:\tlearn: 0.5680616\ttotal: 619ms\tremaining: 309ms\n",
      "667:\tlearn: 0.5680608\ttotal: 620ms\tremaining: 308ms\n",
      "668:\tlearn: 0.5680602\ttotal: 621ms\tremaining: 307ms\n",
      "669:\tlearn: 0.5680596\ttotal: 621ms\tremaining: 306ms\n",
      "670:\tlearn: 0.5680592\ttotal: 622ms\tremaining: 305ms\n",
      "671:\tlearn: 0.5680588\ttotal: 623ms\tremaining: 304ms\n",
      "672:\tlearn: 0.5680582\ttotal: 624ms\tremaining: 303ms\n",
      "673:\tlearn: 0.5680578\ttotal: 625ms\tremaining: 302ms\n",
      "674:\tlearn: 0.5680573\ttotal: 625ms\tremaining: 301ms\n",
      "675:\tlearn: 0.5680566\ttotal: 626ms\tremaining: 300ms\n",
      "676:\tlearn: 0.5680560\ttotal: 627ms\tremaining: 299ms\n",
      "677:\tlearn: 0.5680555\ttotal: 628ms\tremaining: 298ms\n",
      "678:\tlearn: 0.5680551\ttotal: 629ms\tremaining: 297ms\n",
      "679:\tlearn: 0.5680546\ttotal: 629ms\tremaining: 296ms\n",
      "680:\tlearn: 0.5680542\ttotal: 630ms\tremaining: 295ms\n",
      "681:\tlearn: 0.5680538\ttotal: 631ms\tremaining: 294ms\n",
      "682:\tlearn: 0.5680535\ttotal: 631ms\tremaining: 293ms\n",
      "683:\tlearn: 0.5680528\ttotal: 632ms\tremaining: 292ms\n",
      "684:\tlearn: 0.5680526\ttotal: 633ms\tremaining: 291ms\n",
      "685:\tlearn: 0.5680521\ttotal: 634ms\tremaining: 290ms\n",
      "686:\tlearn: 0.5680517\ttotal: 634ms\tremaining: 289ms\n",
      "687:\tlearn: 0.5680511\ttotal: 635ms\tremaining: 288ms\n",
      "688:\tlearn: 0.5680506\ttotal: 636ms\tremaining: 287ms\n",
      "689:\tlearn: 0.5680502\ttotal: 637ms\tremaining: 286ms\n",
      "690:\tlearn: 0.5680500\ttotal: 637ms\tremaining: 285ms\n",
      "691:\tlearn: 0.5680495\ttotal: 638ms\tremaining: 284ms\n",
      "692:\tlearn: 0.5680492\ttotal: 639ms\tremaining: 283ms\n",
      "693:\tlearn: 0.5680488\ttotal: 640ms\tremaining: 282ms\n",
      "694:\tlearn: 0.5680484\ttotal: 640ms\tremaining: 281ms\n",
      "695:\tlearn: 0.5680480\ttotal: 641ms\tremaining: 280ms\n",
      "696:\tlearn: 0.5680475\ttotal: 642ms\tremaining: 279ms\n",
      "697:\tlearn: 0.5680470\ttotal: 643ms\tremaining: 278ms\n",
      "698:\tlearn: 0.5680464\ttotal: 643ms\tremaining: 277ms\n",
      "699:\tlearn: 0.5680462\ttotal: 644ms\tremaining: 276ms\n",
      "700:\tlearn: 0.5680457\ttotal: 645ms\tremaining: 275ms\n",
      "701:\tlearn: 0.5680455\ttotal: 645ms\tremaining: 274ms\n",
      "702:\tlearn: 0.5680451\ttotal: 646ms\tremaining: 273ms\n",
      "703:\tlearn: 0.5680448\ttotal: 647ms\tremaining: 272ms\n",
      "704:\tlearn: 0.5680445\ttotal: 648ms\tremaining: 271ms\n",
      "705:\tlearn: 0.5680441\ttotal: 648ms\tremaining: 270ms\n",
      "706:\tlearn: 0.5680439\ttotal: 649ms\tremaining: 269ms\n",
      "707:\tlearn: 0.5680436\ttotal: 650ms\tremaining: 268ms\n",
      "708:\tlearn: 0.5680432\ttotal: 650ms\tremaining: 267ms\n",
      "709:\tlearn: 0.5680427\ttotal: 651ms\tremaining: 266ms\n",
      "710:\tlearn: 0.5680425\ttotal: 652ms\tremaining: 265ms\n",
      "711:\tlearn: 0.5680421\ttotal: 653ms\tremaining: 264ms\n",
      "712:\tlearn: 0.5680417\ttotal: 653ms\tremaining: 263ms\n",
      "713:\tlearn: 0.5680414\ttotal: 654ms\tremaining: 262ms\n",
      "714:\tlearn: 0.5680413\ttotal: 655ms\tremaining: 261ms\n",
      "715:\tlearn: 0.5680411\ttotal: 655ms\tremaining: 260ms\n",
      "716:\tlearn: 0.5680407\ttotal: 656ms\tremaining: 259ms\n",
      "717:\tlearn: 0.5680405\ttotal: 657ms\tremaining: 258ms\n",
      "718:\tlearn: 0.5680404\ttotal: 658ms\tremaining: 257ms\n",
      "719:\tlearn: 0.5680400\ttotal: 658ms\tremaining: 256ms\n",
      "720:\tlearn: 0.5680397\ttotal: 659ms\tremaining: 255ms\n",
      "721:\tlearn: 0.5680394\ttotal: 660ms\tremaining: 254ms\n",
      "722:\tlearn: 0.5680392\ttotal: 661ms\tremaining: 253ms\n",
      "723:\tlearn: 0.5680391\ttotal: 661ms\tremaining: 252ms\n",
      "724:\tlearn: 0.5680388\ttotal: 662ms\tremaining: 251ms\n",
      "725:\tlearn: 0.5680385\ttotal: 663ms\tremaining: 250ms\n",
      "726:\tlearn: 0.5680383\ttotal: 664ms\tremaining: 249ms\n",
      "727:\tlearn: 0.5680381\ttotal: 665ms\tremaining: 248ms\n",
      "728:\tlearn: 0.5680377\ttotal: 666ms\tremaining: 247ms\n",
      "729:\tlearn: 0.5680373\ttotal: 666ms\tremaining: 246ms\n",
      "730:\tlearn: 0.5680369\ttotal: 667ms\tremaining: 245ms\n",
      "731:\tlearn: 0.5680365\ttotal: 668ms\tremaining: 245ms\n",
      "732:\tlearn: 0.5680362\ttotal: 669ms\tremaining: 244ms\n",
      "733:\tlearn: 0.5680359\ttotal: 670ms\tremaining: 243ms\n",
      "734:\tlearn: 0.5680355\ttotal: 671ms\tremaining: 242ms\n",
      "735:\tlearn: 0.5680352\ttotal: 671ms\tremaining: 241ms\n",
      "736:\tlearn: 0.5680350\ttotal: 672ms\tremaining: 240ms\n",
      "737:\tlearn: 0.5680345\ttotal: 673ms\tremaining: 239ms\n",
      "738:\tlearn: 0.5680340\ttotal: 674ms\tremaining: 238ms\n",
      "739:\tlearn: 0.5680335\ttotal: 675ms\tremaining: 237ms\n",
      "740:\tlearn: 0.5680333\ttotal: 675ms\tremaining: 236ms\n",
      "741:\tlearn: 0.5680330\ttotal: 676ms\tremaining: 235ms\n",
      "742:\tlearn: 0.5680327\ttotal: 677ms\tremaining: 234ms\n",
      "743:\tlearn: 0.5680324\ttotal: 678ms\tremaining: 233ms\n",
      "744:\tlearn: 0.5680322\ttotal: 678ms\tremaining: 232ms\n",
      "745:\tlearn: 0.5680318\ttotal: 679ms\tremaining: 231ms\n",
      "746:\tlearn: 0.5680316\ttotal: 680ms\tremaining: 230ms\n",
      "747:\tlearn: 0.5680313\ttotal: 681ms\tremaining: 229ms\n",
      "748:\tlearn: 0.5680311\ttotal: 681ms\tremaining: 228ms\n",
      "749:\tlearn: 0.5680308\ttotal: 682ms\tremaining: 227ms\n",
      "750:\tlearn: 0.5680307\ttotal: 683ms\tremaining: 227ms\n",
      "751:\tlearn: 0.5680304\ttotal: 684ms\tremaining: 226ms\n",
      "752:\tlearn: 0.5680303\ttotal: 685ms\tremaining: 225ms\n",
      "753:\tlearn: 0.5680301\ttotal: 685ms\tremaining: 224ms\n",
      "754:\tlearn: 0.5680297\ttotal: 686ms\tremaining: 223ms\n",
      "755:\tlearn: 0.5680296\ttotal: 687ms\tremaining: 222ms\n",
      "756:\tlearn: 0.5680292\ttotal: 688ms\tremaining: 221ms\n",
      "757:\tlearn: 0.5680290\ttotal: 689ms\tremaining: 220ms\n",
      "758:\tlearn: 0.5680289\ttotal: 689ms\tremaining: 219ms\n",
      "759:\tlearn: 0.5680286\ttotal: 690ms\tremaining: 218ms\n",
      "760:\tlearn: 0.5680284\ttotal: 691ms\tremaining: 217ms\n",
      "761:\tlearn: 0.5680281\ttotal: 692ms\tremaining: 216ms\n",
      "762:\tlearn: 0.5680278\ttotal: 692ms\tremaining: 215ms\n",
      "763:\tlearn: 0.5680276\ttotal: 693ms\tremaining: 214ms\n",
      "764:\tlearn: 0.5680274\ttotal: 694ms\tremaining: 213ms\n",
      "765:\tlearn: 0.5680272\ttotal: 695ms\tremaining: 212ms\n",
      "766:\tlearn: 0.5680270\ttotal: 695ms\tremaining: 211ms\n",
      "767:\tlearn: 0.5680269\ttotal: 696ms\tremaining: 210ms\n",
      "768:\tlearn: 0.5680266\ttotal: 697ms\tremaining: 209ms\n",
      "769:\tlearn: 0.5680264\ttotal: 698ms\tremaining: 208ms\n",
      "770:\tlearn: 0.5680260\ttotal: 698ms\tremaining: 207ms\n",
      "771:\tlearn: 0.5680259\ttotal: 699ms\tremaining: 206ms\n",
      "772:\tlearn: 0.5680257\ttotal: 700ms\tremaining: 206ms\n",
      "773:\tlearn: 0.5680253\ttotal: 701ms\tremaining: 205ms\n",
      "774:\tlearn: 0.5680251\ttotal: 701ms\tremaining: 204ms\n",
      "775:\tlearn: 0.5680249\ttotal: 702ms\tremaining: 203ms\n",
      "776:\tlearn: 0.5680246\ttotal: 703ms\tremaining: 202ms\n",
      "777:\tlearn: 0.5680245\ttotal: 704ms\tremaining: 201ms\n",
      "778:\tlearn: 0.5680243\ttotal: 704ms\tremaining: 200ms\n",
      "779:\tlearn: 0.5680241\ttotal: 705ms\tremaining: 199ms\n",
      "780:\tlearn: 0.5680240\ttotal: 706ms\tremaining: 198ms\n",
      "781:\tlearn: 0.5680239\ttotal: 707ms\tremaining: 197ms\n",
      "782:\tlearn: 0.5680237\ttotal: 708ms\tremaining: 196ms\n",
      "783:\tlearn: 0.5680234\ttotal: 708ms\tremaining: 195ms\n",
      "784:\tlearn: 0.5680232\ttotal: 709ms\tremaining: 194ms\n",
      "785:\tlearn: 0.5680230\ttotal: 710ms\tremaining: 193ms\n",
      "786:\tlearn: 0.5680228\ttotal: 711ms\tremaining: 192ms\n",
      "787:\tlearn: 0.5680227\ttotal: 712ms\tremaining: 191ms\n",
      "788:\tlearn: 0.5680226\ttotal: 713ms\tremaining: 191ms\n",
      "789:\tlearn: 0.5680225\ttotal: 713ms\tremaining: 190ms\n",
      "790:\tlearn: 0.5680224\ttotal: 714ms\tremaining: 189ms\n",
      "791:\tlearn: 0.5680222\ttotal: 715ms\tremaining: 188ms\n",
      "792:\tlearn: 0.5680220\ttotal: 716ms\tremaining: 187ms\n",
      "793:\tlearn: 0.5680218\ttotal: 716ms\tremaining: 186ms\n",
      "794:\tlearn: 0.5680217\ttotal: 717ms\tremaining: 185ms\n",
      "795:\tlearn: 0.5680215\ttotal: 718ms\tremaining: 184ms\n",
      "796:\tlearn: 0.5680213\ttotal: 719ms\tremaining: 183ms\n",
      "797:\tlearn: 0.5680212\ttotal: 720ms\tremaining: 182ms\n",
      "798:\tlearn: 0.5680210\ttotal: 721ms\tremaining: 181ms\n",
      "799:\tlearn: 0.5680208\ttotal: 721ms\tremaining: 180ms\n",
      "800:\tlearn: 0.5680207\ttotal: 722ms\tremaining: 179ms\n",
      "801:\tlearn: 0.5680205\ttotal: 723ms\tremaining: 178ms\n",
      "802:\tlearn: 0.5680204\ttotal: 724ms\tremaining: 178ms\n",
      "803:\tlearn: 0.5680203\ttotal: 725ms\tremaining: 177ms\n",
      "804:\tlearn: 0.5680203\ttotal: 725ms\tremaining: 176ms\n",
      "805:\tlearn: 0.5680202\ttotal: 726ms\tremaining: 175ms\n",
      "806:\tlearn: 0.5680200\ttotal: 727ms\tremaining: 174ms\n",
      "807:\tlearn: 0.5680199\ttotal: 728ms\tremaining: 173ms\n",
      "808:\tlearn: 0.5680197\ttotal: 728ms\tremaining: 172ms\n",
      "809:\tlearn: 0.5680196\ttotal: 729ms\tremaining: 171ms\n",
      "810:\tlearn: 0.5680194\ttotal: 730ms\tremaining: 170ms\n",
      "811:\tlearn: 0.5680193\ttotal: 731ms\tremaining: 169ms\n",
      "812:\tlearn: 0.5680192\ttotal: 731ms\tremaining: 168ms\n",
      "813:\tlearn: 0.5680191\ttotal: 732ms\tremaining: 167ms\n",
      "814:\tlearn: 0.5680190\ttotal: 733ms\tremaining: 166ms\n",
      "815:\tlearn: 0.5680188\ttotal: 734ms\tremaining: 165ms\n",
      "816:\tlearn: 0.5680187\ttotal: 735ms\tremaining: 165ms\n",
      "817:\tlearn: 0.5680186\ttotal: 735ms\tremaining: 164ms\n",
      "818:\tlearn: 0.5680184\ttotal: 736ms\tremaining: 163ms\n",
      "819:\tlearn: 0.5680181\ttotal: 737ms\tremaining: 162ms\n",
      "820:\tlearn: 0.5680180\ttotal: 738ms\tremaining: 161ms\n"
     ]
    },
    {
     "name": "stdout",
     "output_type": "stream",
     "text": [
      "821:\tlearn: 0.5680178\ttotal: 739ms\tremaining: 160ms\n",
      "822:\tlearn: 0.5680177\ttotal: 740ms\tremaining: 159ms\n",
      "823:\tlearn: 0.5680175\ttotal: 741ms\tremaining: 158ms\n",
      "824:\tlearn: 0.5680173\ttotal: 741ms\tremaining: 157ms\n",
      "825:\tlearn: 0.5680173\ttotal: 742ms\tremaining: 156ms\n",
      "826:\tlearn: 0.5680172\ttotal: 743ms\tremaining: 155ms\n",
      "827:\tlearn: 0.5680170\ttotal: 744ms\tremaining: 155ms\n",
      "828:\tlearn: 0.5680170\ttotal: 745ms\tremaining: 154ms\n",
      "829:\tlearn: 0.5680169\ttotal: 746ms\tremaining: 153ms\n",
      "830:\tlearn: 0.5680168\ttotal: 746ms\tremaining: 152ms\n",
      "831:\tlearn: 0.5680167\ttotal: 747ms\tremaining: 151ms\n",
      "832:\tlearn: 0.5680165\ttotal: 748ms\tremaining: 150ms\n",
      "833:\tlearn: 0.5680163\ttotal: 749ms\tremaining: 149ms\n",
      "834:\tlearn: 0.5680161\ttotal: 749ms\tremaining: 148ms\n",
      "835:\tlearn: 0.5680161\ttotal: 750ms\tremaining: 147ms\n",
      "836:\tlearn: 0.5680159\ttotal: 751ms\tremaining: 146ms\n",
      "837:\tlearn: 0.5680158\ttotal: 752ms\tremaining: 145ms\n",
      "838:\tlearn: 0.5680157\ttotal: 752ms\tremaining: 144ms\n",
      "839:\tlearn: 0.5680155\ttotal: 753ms\tremaining: 143ms\n",
      "840:\tlearn: 0.5680154\ttotal: 754ms\tremaining: 143ms\n",
      "841:\tlearn: 0.5680153\ttotal: 755ms\tremaining: 142ms\n",
      "842:\tlearn: 0.5680153\ttotal: 755ms\tremaining: 141ms\n",
      "843:\tlearn: 0.5680151\ttotal: 756ms\tremaining: 140ms\n",
      "844:\tlearn: 0.5680150\ttotal: 757ms\tremaining: 139ms\n",
      "845:\tlearn: 0.5680149\ttotal: 758ms\tremaining: 138ms\n",
      "846:\tlearn: 0.5680148\ttotal: 758ms\tremaining: 137ms\n",
      "847:\tlearn: 0.5680147\ttotal: 759ms\tremaining: 136ms\n",
      "848:\tlearn: 0.5680146\ttotal: 760ms\tremaining: 135ms\n",
      "849:\tlearn: 0.5680144\ttotal: 761ms\tremaining: 134ms\n",
      "850:\tlearn: 0.5680144\ttotal: 762ms\tremaining: 133ms\n",
      "851:\tlearn: 0.5680142\ttotal: 763ms\tremaining: 132ms\n",
      "852:\tlearn: 0.5680140\ttotal: 763ms\tremaining: 132ms\n",
      "853:\tlearn: 0.5680139\ttotal: 764ms\tremaining: 131ms\n",
      "854:\tlearn: 0.5680138\ttotal: 765ms\tremaining: 130ms\n",
      "855:\tlearn: 0.5680136\ttotal: 766ms\tremaining: 129ms\n",
      "856:\tlearn: 0.5680135\ttotal: 766ms\tremaining: 128ms\n",
      "857:\tlearn: 0.5680134\ttotal: 767ms\tremaining: 127ms\n",
      "858:\tlearn: 0.5680132\ttotal: 768ms\tremaining: 126ms\n",
      "859:\tlearn: 0.5680132\ttotal: 769ms\tremaining: 125ms\n",
      "860:\tlearn: 0.5680131\ttotal: 770ms\tremaining: 124ms\n",
      "861:\tlearn: 0.5680129\ttotal: 770ms\tremaining: 123ms\n",
      "862:\tlearn: 0.5680128\ttotal: 771ms\tremaining: 122ms\n",
      "863:\tlearn: 0.5680126\ttotal: 772ms\tremaining: 122ms\n",
      "864:\tlearn: 0.5680126\ttotal: 773ms\tremaining: 121ms\n",
      "865:\tlearn: 0.5680125\ttotal: 773ms\tremaining: 120ms\n",
      "866:\tlearn: 0.5680124\ttotal: 774ms\tremaining: 119ms\n",
      "867:\tlearn: 0.5680123\ttotal: 775ms\tremaining: 118ms\n",
      "868:\tlearn: 0.5680123\ttotal: 776ms\tremaining: 117ms\n",
      "869:\tlearn: 0.5680122\ttotal: 777ms\tremaining: 116ms\n",
      "870:\tlearn: 0.5680121\ttotal: 778ms\tremaining: 115ms\n",
      "871:\tlearn: 0.5680120\ttotal: 779ms\tremaining: 114ms\n",
      "872:\tlearn: 0.5680119\ttotal: 779ms\tremaining: 113ms\n",
      "873:\tlearn: 0.5680118\ttotal: 780ms\tremaining: 112ms\n",
      "874:\tlearn: 0.5680118\ttotal: 781ms\tremaining: 112ms\n",
      "875:\tlearn: 0.5680117\ttotal: 781ms\tremaining: 111ms\n",
      "876:\tlearn: 0.5680117\ttotal: 782ms\tremaining: 110ms\n",
      "877:\tlearn: 0.5680116\ttotal: 783ms\tremaining: 109ms\n",
      "878:\tlearn: 0.5680114\ttotal: 784ms\tremaining: 108ms\n",
      "879:\tlearn: 0.5680113\ttotal: 785ms\tremaining: 107ms\n",
      "880:\tlearn: 0.5680113\ttotal: 785ms\tremaining: 106ms\n",
      "881:\tlearn: 0.5680112\ttotal: 786ms\tremaining: 105ms\n",
      "882:\tlearn: 0.5680111\ttotal: 787ms\tremaining: 104ms\n",
      "883:\tlearn: 0.5680110\ttotal: 788ms\tremaining: 103ms\n",
      "884:\tlearn: 0.5680109\ttotal: 788ms\tremaining: 102ms\n",
      "885:\tlearn: 0.5680108\ttotal: 789ms\tremaining: 102ms\n",
      "886:\tlearn: 0.5680107\ttotal: 790ms\tremaining: 101ms\n",
      "887:\tlearn: 0.5680107\ttotal: 791ms\tremaining: 99.7ms\n",
      "888:\tlearn: 0.5680106\ttotal: 791ms\tremaining: 98.8ms\n",
      "889:\tlearn: 0.5680105\ttotal: 792ms\tremaining: 97.9ms\n",
      "890:\tlearn: 0.5680104\ttotal: 793ms\tremaining: 97ms\n",
      "891:\tlearn: 0.5680104\ttotal: 794ms\tremaining: 96.1ms\n",
      "892:\tlearn: 0.5680104\ttotal: 795ms\tremaining: 95.2ms\n",
      "893:\tlearn: 0.5680102\ttotal: 795ms\tremaining: 94.3ms\n",
      "894:\tlearn: 0.5680102\ttotal: 796ms\tremaining: 93.4ms\n",
      "895:\tlearn: 0.5680101\ttotal: 797ms\tremaining: 92.5ms\n",
      "896:\tlearn: 0.5680100\ttotal: 798ms\tremaining: 91.6ms\n",
      "897:\tlearn: 0.5680099\ttotal: 798ms\tremaining: 90.7ms\n",
      "898:\tlearn: 0.5680099\ttotal: 799ms\tremaining: 89.8ms\n",
      "899:\tlearn: 0.5680098\ttotal: 800ms\tremaining: 88.9ms\n",
      "900:\tlearn: 0.5680097\ttotal: 801ms\tremaining: 88ms\n",
      "901:\tlearn: 0.5680097\ttotal: 801ms\tremaining: 87.1ms\n",
      "902:\tlearn: 0.5680097\ttotal: 802ms\tremaining: 86.2ms\n",
      "903:\tlearn: 0.5680096\ttotal: 803ms\tremaining: 85.3ms\n",
      "904:\tlearn: 0.5680096\ttotal: 804ms\tremaining: 84.4ms\n",
      "905:\tlearn: 0.5680095\ttotal: 805ms\tremaining: 83.5ms\n",
      "906:\tlearn: 0.5680095\ttotal: 806ms\tremaining: 82.6ms\n",
      "907:\tlearn: 0.5680094\ttotal: 807ms\tremaining: 81.7ms\n",
      "908:\tlearn: 0.5680094\ttotal: 807ms\tremaining: 80.8ms\n",
      "909:\tlearn: 0.5680094\ttotal: 808ms\tremaining: 79.9ms\n",
      "910:\tlearn: 0.5680093\ttotal: 809ms\tremaining: 79ms\n",
      "911:\tlearn: 0.5680093\ttotal: 810ms\tremaining: 78.1ms\n",
      "912:\tlearn: 0.5680092\ttotal: 810ms\tremaining: 77.2ms\n",
      "913:\tlearn: 0.5680092\ttotal: 811ms\tremaining: 76.3ms\n",
      "914:\tlearn: 0.5680091\ttotal: 812ms\tremaining: 75.4ms\n",
      "915:\tlearn: 0.5680091\ttotal: 813ms\tremaining: 74.5ms\n",
      "916:\tlearn: 0.5680090\ttotal: 813ms\tremaining: 73.6ms\n",
      "917:\tlearn: 0.5680089\ttotal: 814ms\tremaining: 72.7ms\n",
      "918:\tlearn: 0.5680089\ttotal: 815ms\tremaining: 71.8ms\n",
      "919:\tlearn: 0.5680089\ttotal: 816ms\tremaining: 70.9ms\n",
      "920:\tlearn: 0.5680088\ttotal: 816ms\tremaining: 70ms\n",
      "921:\tlearn: 0.5680088\ttotal: 817ms\tremaining: 69.1ms\n",
      "922:\tlearn: 0.5680087\ttotal: 818ms\tremaining: 68.2ms\n",
      "923:\tlearn: 0.5680087\ttotal: 819ms\tremaining: 67.3ms\n",
      "924:\tlearn: 0.5680086\ttotal: 820ms\tremaining: 66.4ms\n",
      "925:\tlearn: 0.5680086\ttotal: 820ms\tremaining: 65.5ms\n",
      "926:\tlearn: 0.5680086\ttotal: 821ms\tremaining: 64.7ms\n",
      "927:\tlearn: 0.5680085\ttotal: 822ms\tremaining: 63.8ms\n",
      "928:\tlearn: 0.5680085\ttotal: 823ms\tremaining: 62.9ms\n",
      "929:\tlearn: 0.5680084\ttotal: 823ms\tremaining: 62ms\n",
      "930:\tlearn: 0.5680084\ttotal: 824ms\tremaining: 61.1ms\n",
      "931:\tlearn: 0.5680083\ttotal: 825ms\tremaining: 60.2ms\n",
      "932:\tlearn: 0.5680083\ttotal: 826ms\tremaining: 59.3ms\n",
      "933:\tlearn: 0.5680082\ttotal: 826ms\tremaining: 58.4ms\n",
      "934:\tlearn: 0.5680082\ttotal: 827ms\tremaining: 57.5ms\n",
      "935:\tlearn: 0.5680081\ttotal: 828ms\tremaining: 56.6ms\n",
      "936:\tlearn: 0.5680081\ttotal: 828ms\tremaining: 55.7ms\n",
      "937:\tlearn: 0.5680079\ttotal: 829ms\tremaining: 54.8ms\n",
      "938:\tlearn: 0.5680079\ttotal: 830ms\tremaining: 53.9ms\n",
      "939:\tlearn: 0.5680079\ttotal: 831ms\tremaining: 53ms\n",
      "940:\tlearn: 0.5680079\ttotal: 832ms\tremaining: 52.1ms\n",
      "941:\tlearn: 0.5680079\ttotal: 832ms\tremaining: 51.3ms\n",
      "942:\tlearn: 0.5680078\ttotal: 833ms\tremaining: 50.4ms\n",
      "943:\tlearn: 0.5680077\ttotal: 834ms\tremaining: 49.5ms\n",
      "944:\tlearn: 0.5680077\ttotal: 835ms\tremaining: 48.6ms\n",
      "945:\tlearn: 0.5680076\ttotal: 836ms\tremaining: 47.7ms\n",
      "946:\tlearn: 0.5680076\ttotal: 836ms\tremaining: 46.8ms\n",
      "947:\tlearn: 0.5680076\ttotal: 837ms\tremaining: 45.9ms\n",
      "948:\tlearn: 0.5680075\ttotal: 838ms\tremaining: 45ms\n",
      "949:\tlearn: 0.5680074\ttotal: 839ms\tremaining: 44.1ms\n",
      "950:\tlearn: 0.5680074\ttotal: 839ms\tremaining: 43.3ms\n",
      "951:\tlearn: 0.5680074\ttotal: 840ms\tremaining: 42.4ms\n",
      "952:\tlearn: 0.5680073\ttotal: 841ms\tremaining: 41.5ms\n",
      "953:\tlearn: 0.5680073\ttotal: 842ms\tremaining: 40.6ms\n",
      "954:\tlearn: 0.5680073\ttotal: 843ms\tremaining: 39.7ms\n",
      "955:\tlearn: 0.5680072\ttotal: 844ms\tremaining: 38.8ms\n",
      "956:\tlearn: 0.5680072\ttotal: 844ms\tremaining: 37.9ms\n",
      "957:\tlearn: 0.5680071\ttotal: 845ms\tremaining: 37.1ms\n",
      "958:\tlearn: 0.5680071\ttotal: 846ms\tremaining: 36.2ms\n",
      "959:\tlearn: 0.5680071\ttotal: 847ms\tremaining: 35.3ms\n",
      "960:\tlearn: 0.5680070\ttotal: 848ms\tremaining: 34.4ms\n",
      "961:\tlearn: 0.5680070\ttotal: 848ms\tremaining: 33.5ms\n",
      "962:\tlearn: 0.5680069\ttotal: 849ms\tremaining: 32.6ms\n",
      "963:\tlearn: 0.5680069\ttotal: 850ms\tremaining: 31.7ms\n",
      "964:\tlearn: 0.5680068\ttotal: 850ms\tremaining: 30.8ms\n",
      "965:\tlearn: 0.5680068\ttotal: 851ms\tremaining: 30ms\n",
      "966:\tlearn: 0.5680068\ttotal: 852ms\tremaining: 29.1ms\n",
      "967:\tlearn: 0.5680067\ttotal: 853ms\tremaining: 28.2ms\n",
      "968:\tlearn: 0.5680067\ttotal: 853ms\tremaining: 27.3ms\n",
      "969:\tlearn: 0.5680067\ttotal: 854ms\tremaining: 26.4ms\n",
      "970:\tlearn: 0.5680066\ttotal: 855ms\tremaining: 25.5ms\n",
      "971:\tlearn: 0.5680066\ttotal: 856ms\tremaining: 24.7ms\n",
      "972:\tlearn: 0.5680066\ttotal: 857ms\tremaining: 23.8ms\n",
      "973:\tlearn: 0.5680065\ttotal: 858ms\tremaining: 22.9ms\n",
      "974:\tlearn: 0.5680065\ttotal: 858ms\tremaining: 22ms\n",
      "975:\tlearn: 0.5680064\ttotal: 859ms\tremaining: 21.1ms\n",
      "976:\tlearn: 0.5680064\ttotal: 860ms\tremaining: 20.2ms\n",
      "977:\tlearn: 0.5680064\ttotal: 861ms\tremaining: 19.4ms\n",
      "978:\tlearn: 0.5680063\ttotal: 862ms\tremaining: 18.5ms\n",
      "979:\tlearn: 0.5680063\ttotal: 862ms\tremaining: 17.6ms\n",
      "980:\tlearn: 0.5680062\ttotal: 863ms\tremaining: 16.7ms\n",
      "981:\tlearn: 0.5680062\ttotal: 864ms\tremaining: 15.8ms\n",
      "982:\tlearn: 0.5680062\ttotal: 864ms\tremaining: 14.9ms\n",
      "983:\tlearn: 0.5680061\ttotal: 865ms\tremaining: 14.1ms\n",
      "984:\tlearn: 0.5680061\ttotal: 866ms\tremaining: 13.2ms\n",
      "985:\tlearn: 0.5680061\ttotal: 866ms\tremaining: 12.3ms\n",
      "986:\tlearn: 0.5680060\ttotal: 867ms\tremaining: 11.4ms\n",
      "987:\tlearn: 0.5680060\ttotal: 868ms\tremaining: 10.5ms\n",
      "988:\tlearn: 0.5680060\ttotal: 869ms\tremaining: 9.66ms\n",
      "989:\tlearn: 0.5680060\ttotal: 870ms\tremaining: 8.78ms\n",
      "990:\tlearn: 0.5680060\ttotal: 870ms\tremaining: 7.9ms\n",
      "991:\tlearn: 0.5680059\ttotal: 871ms\tremaining: 7.03ms\n",
      "992:\tlearn: 0.5680059\ttotal: 872ms\tremaining: 6.14ms\n",
      "993:\tlearn: 0.5680059\ttotal: 873ms\tremaining: 5.27ms\n",
      "994:\tlearn: 0.5680058\ttotal: 873ms\tremaining: 4.39ms\n",
      "995:\tlearn: 0.5680058\ttotal: 874ms\tremaining: 3.51ms\n",
      "996:\tlearn: 0.5680058\ttotal: 875ms\tremaining: 2.63ms\n",
      "997:\tlearn: 0.5680058\ttotal: 876ms\tremaining: 1.75ms\n",
      "998:\tlearn: 0.5680058\ttotal: 876ms\tremaining: 877us\n",
      "999:\tlearn: 0.5680058\ttotal: 877ms\tremaining: 0us\n"
     ]
    }
   ],
   "source": [
    "catb = CatBoostRegressor()\n",
    "catb_model = catb.fit(X_train, y_train)"
   ]
  },
  {
   "cell_type": "markdown",
   "id": "c2ab9760",
   "metadata": {},
   "source": [
    "Tahmin"
   ]
  },
  {
   "cell_type": "code",
   "execution_count": 274,
   "id": "f250ba2c",
   "metadata": {},
   "outputs": [
    {
     "data": {
      "text/plain": [
       "0.6055533257518269"
      ]
     },
     "execution_count": 274,
     "metadata": {},
     "output_type": "execute_result"
    }
   ],
   "source": [
    "y_pred = catb_model.predict(X_test)\n",
    "np.sqrt(mean_squared_error(y_test, y_pred))"
   ]
  },
  {
   "cell_type": "markdown",
   "id": "0bc99426",
   "metadata": {},
   "source": [
    "Model Tuning"
   ]
  },
  {
   "cell_type": "code",
   "execution_count": 275,
   "id": "425fa75c",
   "metadata": {},
   "outputs": [],
   "source": [
    "catb_grid = {\n",
    "    'iterations': [200,500,1000,2000],\n",
    "    'learning_rate': [0.01, 0.03, 0.05, 0.1],\n",
    "    'depth': [3,4,5,6,7,8] }"
   ]
  },
  {
   "cell_type": "code",
   "execution_count": 276,
   "id": "de71664b",
   "metadata": {},
   "outputs": [],
   "source": [
    "catb = CatBoostRegressor()\n",
    "catb_cv_model = GridSearchCV(catb, catb_grid, cv=5, n_jobs = -1, verbose = 2)"
   ]
  },
  {
   "cell_type": "code",
   "execution_count": 277,
   "id": "341ff153",
   "metadata": {},
   "outputs": [
    {
     "name": "stdout",
     "output_type": "stream",
     "text": [
      "Fitting 5 folds for each of 96 candidates, totalling 480 fits\n",
      "0:\tlearn: 0.5885636\ttotal: 537us\tremaining: 107ms\n",
      "1:\tlearn: 0.5884834\ttotal: 1.19ms\tremaining: 118ms\n",
      "2:\tlearn: 0.5883549\ttotal: 1.65ms\tremaining: 108ms\n",
      "3:\tlearn: 0.5882915\ttotal: 2.15ms\tremaining: 105ms\n",
      "4:\tlearn: 0.5881789\ttotal: 2.65ms\tremaining: 104ms\n",
      "5:\tlearn: 0.5880400\ttotal: 3.16ms\tremaining: 102ms\n",
      "6:\tlearn: 0.5879678\ttotal: 3.68ms\tremaining: 101ms\n",
      "7:\tlearn: 0.5878683\ttotal: 4.18ms\tremaining: 100ms\n",
      "8:\tlearn: 0.5877961\ttotal: 4.71ms\tremaining: 100ms\n",
      "9:\tlearn: 0.5876995\ttotal: 5.21ms\tremaining: 99ms\n",
      "10:\tlearn: 0.5876046\ttotal: 5.69ms\tremaining: 97.8ms\n",
      "11:\tlearn: 0.5875370\ttotal: 6.15ms\tremaining: 96.4ms\n",
      "12:\tlearn: 0.5874669\ttotal: 6.67ms\tremaining: 95.9ms\n",
      "13:\tlearn: 0.5873401\ttotal: 7.16ms\tremaining: 95.2ms\n",
      "14:\tlearn: 0.5872779\ttotal: 7.78ms\tremaining: 96ms\n",
      "15:\tlearn: 0.5872150\ttotal: 8.28ms\tremaining: 95.2ms\n",
      "16:\tlearn: 0.5871273\ttotal: 8.73ms\tremaining: 93.9ms\n",
      "17:\tlearn: 0.5871062\ttotal: 9.19ms\tremaining: 92.9ms\n",
      "18:\tlearn: 0.5870373\ttotal: 9.65ms\tremaining: 91.9ms\n",
      "19:\tlearn: 0.5869503\ttotal: 10.1ms\tremaining: 91ms\n",
      "20:\tlearn: 0.5868827\ttotal: 10.6ms\tremaining: 90.4ms\n",
      "21:\tlearn: 0.5868422\ttotal: 11.1ms\tremaining: 89.7ms\n",
      "22:\tlearn: 0.5867846\ttotal: 11.5ms\tremaining: 88.7ms\n",
      "23:\tlearn: 0.5867261\ttotal: 12ms\tremaining: 87.7ms\n",
      "24:\tlearn: 0.5866495\ttotal: 12.4ms\tremaining: 87.1ms\n",
      "25:\tlearn: 0.5866219\ttotal: 12.9ms\tremaining: 86.6ms\n",
      "26:\tlearn: 0.5865431\ttotal: 13.4ms\tremaining: 86.1ms\n",
      "27:\tlearn: 0.5864663\ttotal: 13.9ms\tremaining: 85.5ms\n",
      "28:\tlearn: 0.5863902\ttotal: 14.4ms\tremaining: 85ms\n",
      "29:\tlearn: 0.5863583\ttotal: 14.9ms\tremaining: 84.4ms\n",
      "30:\tlearn: 0.5863036\ttotal: 15.4ms\tremaining: 83.8ms\n",
      "31:\tlearn: 0.5862419\ttotal: 15.9ms\tremaining: 83.4ms\n",
      "32:\tlearn: 0.5861613\ttotal: 16.4ms\tremaining: 82.9ms\n",
      "33:\tlearn: 0.5860701\ttotal: 16.9ms\tremaining: 82.5ms\n",
      "34:\tlearn: 0.5860071\ttotal: 17.4ms\tremaining: 82ms\n",
      "35:\tlearn: 0.5859488\ttotal: 17.9ms\tremaining: 81.6ms\n",
      "36:\tlearn: 0.5859012\ttotal: 18.5ms\tremaining: 81.4ms\n",
      "37:\tlearn: 0.5858313\ttotal: 19ms\tremaining: 81.1ms\n",
      "38:\tlearn: 0.5857753\ttotal: 19.5ms\tremaining: 80.6ms\n",
      "39:\tlearn: 0.5857083\ttotal: 20.1ms\tremaining: 80.3ms\n",
      "40:\tlearn: 0.5856661\ttotal: 20.7ms\tremaining: 80.2ms\n",
      "41:\tlearn: 0.5856576\ttotal: 21.2ms\tremaining: 79.9ms\n",
      "42:\tlearn: 0.5856124\ttotal: 21.7ms\tremaining: 79.3ms\n",
      "43:\tlearn: 0.5855519\ttotal: 22.2ms\tremaining: 78.8ms\n",
      "44:\tlearn: 0.5854892\ttotal: 22.7ms\tremaining: 78.3ms\n",
      "45:\tlearn: 0.5854387\ttotal: 23.2ms\tremaining: 77.7ms\n",
      "46:\tlearn: 0.5853883\ttotal: 23.7ms\tremaining: 77.3ms\n",
      "47:\tlearn: 0.5853221\ttotal: 24.2ms\tremaining: 76.7ms\n",
      "48:\tlearn: 0.5852532\ttotal: 24.7ms\tremaining: 76.3ms\n",
      "49:\tlearn: 0.5852267\ttotal: 25.2ms\tremaining: 75.7ms\n",
      "50:\tlearn: 0.5851365\ttotal: 25.7ms\tremaining: 75.1ms\n",
      "51:\tlearn: 0.5851157\ttotal: 26.2ms\tremaining: 74.7ms\n",
      "52:\tlearn: 0.5850408\ttotal: 26.8ms\tremaining: 74.2ms\n",
      "53:\tlearn: 0.5849857\ttotal: 27.2ms\tremaining: 73.7ms\n",
      "54:\tlearn: 0.5849840\ttotal: 27.7ms\tremaining: 73ms\n",
      "55:\tlearn: 0.5849645\ttotal: 28.2ms\tremaining: 72.5ms\n",
      "56:\tlearn: 0.5849249\ttotal: 28.7ms\tremaining: 71.9ms\n",
      "57:\tlearn: 0.5849086\ttotal: 29.2ms\tremaining: 71.4ms\n",
      "58:\tlearn: 0.5848238\ttotal: 29.6ms\tremaining: 70.8ms\n",
      "59:\tlearn: 0.5847715\ttotal: 30.1ms\tremaining: 70.3ms\n",
      "60:\tlearn: 0.5847528\ttotal: 30.6ms\tremaining: 69.7ms\n",
      "61:\tlearn: 0.5847513\ttotal: 31ms\tremaining: 68.9ms\n",
      "62:\tlearn: 0.5847198\ttotal: 31.4ms\tremaining: 68.3ms\n",
      "63:\tlearn: 0.5846691\ttotal: 31.9ms\tremaining: 67.9ms\n",
      "64:\tlearn: 0.5846193\ttotal: 32.5ms\tremaining: 67.6ms\n",
      "65:\tlearn: 0.5846163\ttotal: 33.1ms\tremaining: 67.2ms\n",
      "66:\tlearn: 0.5845952\ttotal: 33.6ms\tremaining: 66.6ms\n",
      "67:\tlearn: 0.5845463\ttotal: 34.1ms\tremaining: 66.1ms\n",
      "68:\tlearn: 0.5845310\ttotal: 34.5ms\tremaining: 65.6ms\n",
      "69:\tlearn: 0.5844718\ttotal: 35ms\tremaining: 65.1ms\n",
      "70:\tlearn: 0.5844347\ttotal: 35.5ms\tremaining: 64.6ms\n",
      "71:\tlearn: 0.5843793\ttotal: 36ms\tremaining: 64.1ms\n",
      "72:\tlearn: 0.5843481\ttotal: 36.5ms\tremaining: 63.6ms\n",
      "73:\tlearn: 0.5843311\ttotal: 37.1ms\tremaining: 63.1ms\n",
      "74:\tlearn: 0.5842971\ttotal: 37.6ms\tremaining: 62.7ms\n",
      "75:\tlearn: 0.5842625\ttotal: 38.1ms\tremaining: 62.2ms\n",
      "76:\tlearn: 0.5842304\ttotal: 38.7ms\tremaining: 61.7ms\n",
      "77:\tlearn: 0.5841806\ttotal: 39.2ms\tremaining: 61.3ms\n",
      "78:\tlearn: 0.5841495\ttotal: 39.7ms\tremaining: 60.8ms\n",
      "79:\tlearn: 0.5841067\ttotal: 40.3ms\tremaining: 60.4ms\n",
      "80:\tlearn: 0.5840676\ttotal: 40.8ms\tremaining: 59.9ms\n",
      "81:\tlearn: 0.5840468\ttotal: 41.3ms\tremaining: 59.4ms\n",
      "82:\tlearn: 0.5840169\ttotal: 41.8ms\tremaining: 58.9ms\n",
      "83:\tlearn: 0.5840002\ttotal: 42.3ms\tremaining: 58.4ms\n",
      "84:\tlearn: 0.5839296\ttotal: 42.8ms\tremaining: 57.9ms\n",
      "85:\tlearn: 0.5838993\ttotal: 43.3ms\tremaining: 57.4ms\n",
      "86:\tlearn: 0.5838793\ttotal: 43.8ms\tremaining: 56.9ms\n",
      "87:\tlearn: 0.5838394\ttotal: 44.3ms\tremaining: 56.4ms\n",
      "88:\tlearn: 0.5838236\ttotal: 44.8ms\tremaining: 55.9ms\n",
      "89:\tlearn: 0.5838226\ttotal: 45.3ms\tremaining: 55.4ms\n",
      "90:\tlearn: 0.5838063\ttotal: 45.8ms\tremaining: 54.9ms\n",
      "91:\tlearn: 0.5837900\ttotal: 46.3ms\tremaining: 54.4ms\n",
      "92:\tlearn: 0.5837737\ttotal: 46.8ms\tremaining: 53.9ms\n",
      "93:\tlearn: 0.5837467\ttotal: 47.4ms\tremaining: 53.4ms\n",
      "94:\tlearn: 0.5837001\ttotal: 47.8ms\tremaining: 52.9ms\n",
      "95:\tlearn: 0.5836622\ttotal: 48.4ms\tremaining: 52.4ms\n",
      "96:\tlearn: 0.5836435\ttotal: 48.9ms\tremaining: 51.9ms\n",
      "97:\tlearn: 0.5836156\ttotal: 49.4ms\tremaining: 51.4ms\n",
      "98:\tlearn: 0.5835994\ttotal: 49.9ms\tremaining: 50.9ms\n",
      "99:\tlearn: 0.5835731\ttotal: 50.3ms\tremaining: 50.3ms\n",
      "100:\tlearn: 0.5835497\ttotal: 50.9ms\tremaining: 49.9ms\n",
      "101:\tlearn: 0.5835240\ttotal: 51.4ms\tremaining: 49.4ms\n",
      "102:\tlearn: 0.5834767\ttotal: 51.9ms\tremaining: 48.9ms\n",
      "103:\tlearn: 0.5834478\ttotal: 52.5ms\tremaining: 48.4ms\n",
      "104:\tlearn: 0.5834122\ttotal: 53ms\tremaining: 48ms\n",
      "105:\tlearn: 0.5833742\ttotal: 53.6ms\tremaining: 47.5ms\n",
      "106:\tlearn: 0.5833335\ttotal: 54.2ms\tremaining: 47.1ms\n",
      "107:\tlearn: 0.5833062\ttotal: 54.7ms\tremaining: 46.6ms\n",
      "108:\tlearn: 0.5832850\ttotal: 55.2ms\tremaining: 46.1ms\n",
      "109:\tlearn: 0.5832463\ttotal: 55.8ms\tremaining: 45.6ms\n",
      "110:\tlearn: 0.5832402\ttotal: 56.3ms\tremaining: 45.2ms\n",
      "111:\tlearn: 0.5832121\ttotal: 56.8ms\tremaining: 44.6ms\n",
      "112:\tlearn: 0.5831751\ttotal: 57.3ms\tremaining: 44.1ms\n",
      "113:\tlearn: 0.5831553\ttotal: 57.9ms\tremaining: 43.7ms\n",
      "114:\tlearn: 0.5831408\ttotal: 58.4ms\tremaining: 43.2ms\n",
      "115:\tlearn: 0.5831260\ttotal: 58.9ms\tremaining: 42.6ms\n",
      "116:\tlearn: 0.5831182\ttotal: 59.4ms\tremaining: 42.1ms\n",
      "117:\tlearn: 0.5830872\ttotal: 59.8ms\tremaining: 41.6ms\n",
      "118:\tlearn: 0.5830781\ttotal: 60.3ms\tremaining: 41.1ms\n",
      "119:\tlearn: 0.5830400\ttotal: 60.8ms\tremaining: 40.6ms\n",
      "120:\tlearn: 0.5830279\ttotal: 61.2ms\tremaining: 40ms\n",
      "121:\tlearn: 0.5829909\ttotal: 61.8ms\tremaining: 39.5ms\n",
      "122:\tlearn: 0.5829632\ttotal: 62.3ms\tremaining: 39ms\n",
      "123:\tlearn: 0.5829454\ttotal: 62.8ms\tremaining: 38.5ms\n",
      "124:\tlearn: 0.5829313\ttotal: 63.3ms\tremaining: 38ms\n",
      "125:\tlearn: 0.5829307\ttotal: 63.7ms\tremaining: 37.4ms\n",
      "126:\tlearn: 0.5829283\ttotal: 64.3ms\tremaining: 36.9ms\n",
      "127:\tlearn: 0.5829143\ttotal: 64.8ms\tremaining: 36.5ms\n",
      "128:\tlearn: 0.5829005\ttotal: 65.4ms\tremaining: 36ms\n",
      "129:\tlearn: 0.5828794\ttotal: 66ms\tremaining: 35.6ms\n",
      "130:\tlearn: 0.5828745\ttotal: 66.6ms\tremaining: 35.1ms\n",
      "131:\tlearn: 0.5828608\ttotal: 67.1ms\tremaining: 34.6ms\n",
      "132:\tlearn: 0.5828545\ttotal: 67.6ms\tremaining: 34ms\n",
      "133:\tlearn: 0.5828357\ttotal: 68.1ms\tremaining: 33.5ms\n",
      "134:\tlearn: 0.5828306\ttotal: 68.7ms\tremaining: 33.1ms\n",
      "135:\tlearn: 0.5827953\ttotal: 69.9ms\tremaining: 32.9ms\n",
      "136:\tlearn: 0.5827836\ttotal: 70.5ms\tremaining: 32.4ms\n",
      "137:\tlearn: 0.5827772\ttotal: 71ms\tremaining: 31.9ms\n",
      "138:\tlearn: 0.5827750\ttotal: 71.6ms\tremaining: 31.4ms\n",
      "139:\tlearn: 0.5827554\ttotal: 72.1ms\tremaining: 30.9ms\n",
      "140:\tlearn: 0.5827386\ttotal: 72.6ms\tremaining: 30.4ms\n",
      "141:\tlearn: 0.5827175\ttotal: 73.1ms\tremaining: 29.9ms\n",
      "142:\tlearn: 0.5827043\ttotal: 73.6ms\tremaining: 29.4ms\n",
      "143:\tlearn: 0.5826701\ttotal: 74.2ms\tremaining: 28.9ms\n",
      "144:\tlearn: 0.5826450\ttotal: 74.7ms\tremaining: 28.3ms\n",
      "145:\tlearn: 0.5826374\ttotal: 75.3ms\tremaining: 27.8ms\n",
      "146:\tlearn: 0.5826042\ttotal: 75.8ms\tremaining: 27.3ms\n",
      "147:\tlearn: 0.5825707\ttotal: 76.3ms\tremaining: 26.8ms\n",
      "148:\tlearn: 0.5825703\ttotal: 76.7ms\tremaining: 26.2ms\n",
      "149:\tlearn: 0.5825439\ttotal: 77.2ms\tremaining: 25.7ms\n",
      "150:\tlearn: 0.5825239\ttotal: 77.7ms\tremaining: 25.2ms\n",
      "151:\tlearn: 0.5825117\ttotal: 78.2ms\tremaining: 24.7ms\n",
      "152:\tlearn: 0.5824941\ttotal: 78.8ms\tremaining: 24.2ms\n",
      "153:\tlearn: 0.5824684\ttotal: 79.4ms\tremaining: 23.7ms\n",
      "154:\tlearn: 0.5824555\ttotal: 79.9ms\tremaining: 23.2ms\n",
      "155:\tlearn: 0.5824296\ttotal: 80.4ms\tremaining: 22.7ms\n",
      "156:\tlearn: 0.5823958\ttotal: 81.2ms\tremaining: 22.2ms\n",
      "157:\tlearn: 0.5823830\ttotal: 81.8ms\tremaining: 21.7ms\n",
      "158:\tlearn: 0.5823761\ttotal: 82.3ms\tremaining: 21.2ms\n",
      "159:\tlearn: 0.5823453\ttotal: 82.8ms\tremaining: 20.7ms\n",
      "160:\tlearn: 0.5823396\ttotal: 83.3ms\tremaining: 20.2ms\n",
      "161:\tlearn: 0.5823120\ttotal: 83.8ms\tremaining: 19.7ms\n",
      "162:\tlearn: 0.5822949\ttotal: 84.3ms\tremaining: 19.1ms\n",
      "163:\tlearn: 0.5822676\ttotal: 84.8ms\tremaining: 18.6ms\n",
      "164:\tlearn: 0.5822350\ttotal: 85.3ms\tremaining: 18.1ms\n",
      "165:\tlearn: 0.5822226\ttotal: 85.8ms\tremaining: 17.6ms\n",
      "166:\tlearn: 0.5822102\ttotal: 86.3ms\tremaining: 17.1ms\n",
      "167:\tlearn: 0.5821837\ttotal: 86.8ms\tremaining: 16.5ms\n",
      "168:\tlearn: 0.5821719\ttotal: 87.3ms\tremaining: 16ms\n",
      "169:\tlearn: 0.5821716\ttotal: 87.8ms\tremaining: 15.5ms\n",
      "170:\tlearn: 0.5821673\ttotal: 88.3ms\tremaining: 15ms\n",
      "171:\tlearn: 0.5821555\ttotal: 88.8ms\tremaining: 14.5ms\n",
      "172:\tlearn: 0.5821423\ttotal: 89.3ms\tremaining: 13.9ms\n",
      "173:\tlearn: 0.5821046\ttotal: 89.9ms\tremaining: 13.4ms\n",
      "174:\tlearn: 0.5820924\ttotal: 90.4ms\tremaining: 12.9ms\n",
      "175:\tlearn: 0.5820883\ttotal: 90.9ms\tremaining: 12.4ms\n",
      "176:\tlearn: 0.5820778\ttotal: 91.5ms\tremaining: 11.9ms\n",
      "177:\tlearn: 0.5820730\ttotal: 92ms\tremaining: 11.4ms\n",
      "178:\tlearn: 0.5820609\ttotal: 92.5ms\tremaining: 10.9ms\n",
      "179:\tlearn: 0.5820468\ttotal: 93ms\tremaining: 10.3ms\n",
      "180:\tlearn: 0.5820249\ttotal: 93.5ms\tremaining: 9.81ms\n",
      "181:\tlearn: 0.5819950\ttotal: 94ms\tremaining: 9.3ms\n",
      "182:\tlearn: 0.5819935\ttotal: 94.8ms\tremaining: 8.81ms\n",
      "183:\tlearn: 0.5819815\ttotal: 95.4ms\tremaining: 8.29ms\n",
      "184:\tlearn: 0.5819640\ttotal: 95.9ms\tremaining: 7.77ms\n",
      "185:\tlearn: 0.5819513\ttotal: 96.3ms\tremaining: 7.25ms\n",
      "186:\tlearn: 0.5819409\ttotal: 96.8ms\tremaining: 6.73ms\n",
      "187:\tlearn: 0.5819273\ttotal: 97.3ms\tremaining: 6.21ms\n",
      "188:\tlearn: 0.5818813\ttotal: 97.8ms\tremaining: 5.69ms\n",
      "189:\tlearn: 0.5818490\ttotal: 98.3ms\tremaining: 5.17ms\n",
      "190:\tlearn: 0.5818369\ttotal: 98.8ms\tremaining: 4.66ms\n",
      "191:\tlearn: 0.5818224\ttotal: 99.3ms\tremaining: 4.14ms\n",
      "192:\tlearn: 0.5818108\ttotal: 99.8ms\tremaining: 3.62ms\n",
      "193:\tlearn: 0.5817958\ttotal: 100ms\tremaining: 3.1ms\n",
      "194:\tlearn: 0.5817904\ttotal: 101ms\tremaining: 2.58ms\n",
      "195:\tlearn: 0.5817789\ttotal: 101ms\tremaining: 2.07ms\n",
      "196:\tlearn: 0.5817346\ttotal: 102ms\tremaining: 1.55ms\n",
      "197:\tlearn: 0.5817134\ttotal: 102ms\tremaining: 1.03ms\n",
      "198:\tlearn: 0.5816910\ttotal: 103ms\tremaining: 516us\n",
      "199:\tlearn: 0.5816720\ttotal: 103ms\tremaining: 0us\n",
      "0:01:26.580928\n"
     ]
    }
   ],
   "source": [
    "t1 =  datetime.now()\n",
    "catb_cv_model.fit(X_train, y_train)\n",
    "t2 =  datetime.now()\n",
    "print(t2-t1)"
   ]
  },
  {
   "cell_type": "code",
   "execution_count": 278,
   "id": "5acb2f40",
   "metadata": {},
   "outputs": [
    {
     "data": {
      "text/plain": [
       "{'depth': 3, 'iterations': 200, 'learning_rate': 0.01}"
      ]
     },
     "execution_count": 278,
     "metadata": {},
     "output_type": "execute_result"
    }
   ],
   "source": [
    "catb_cv_model.best_params_"
   ]
  },
  {
   "cell_type": "code",
   "execution_count": 279,
   "id": "6dbb8a14",
   "metadata": {},
   "outputs": [
    {
     "name": "stdout",
     "output_type": "stream",
     "text": [
      "0:\tlearn: 0.5885636\ttotal: 517us\tremaining: 103ms\n",
      "1:\tlearn: 0.5884834\ttotal: 1.6ms\tremaining: 158ms\n",
      "2:\tlearn: 0.5883549\ttotal: 2.17ms\tremaining: 143ms\n",
      "3:\tlearn: 0.5882915\ttotal: 2.68ms\tremaining: 131ms\n",
      "4:\tlearn: 0.5881789\ttotal: 3.22ms\tremaining: 126ms\n",
      "5:\tlearn: 0.5880400\ttotal: 3.73ms\tremaining: 121ms\n",
      "6:\tlearn: 0.5879678\ttotal: 4.23ms\tremaining: 117ms\n",
      "7:\tlearn: 0.5878683\ttotal: 4.83ms\tremaining: 116ms\n",
      "8:\tlearn: 0.5877961\ttotal: 5.4ms\tremaining: 115ms\n",
      "9:\tlearn: 0.5876995\ttotal: 5.93ms\tremaining: 113ms\n",
      "10:\tlearn: 0.5876046\ttotal: 6.46ms\tremaining: 111ms\n",
      "11:\tlearn: 0.5875370\ttotal: 7ms\tremaining: 110ms\n",
      "12:\tlearn: 0.5874669\ttotal: 7.64ms\tremaining: 110ms\n",
      "13:\tlearn: 0.5873401\ttotal: 8.13ms\tremaining: 108ms\n",
      "14:\tlearn: 0.5872779\ttotal: 8.63ms\tremaining: 106ms\n",
      "15:\tlearn: 0.5872150\ttotal: 9.16ms\tremaining: 105ms\n",
      "16:\tlearn: 0.5871273\ttotal: 9.65ms\tremaining: 104ms\n",
      "17:\tlearn: 0.5871062\ttotal: 10.1ms\tremaining: 103ms\n",
      "18:\tlearn: 0.5870373\ttotal: 10.6ms\tremaining: 101ms\n",
      "19:\tlearn: 0.5869503\ttotal: 11.2ms\tremaining: 100ms\n",
      "20:\tlearn: 0.5868827\ttotal: 11.7ms\tremaining: 99.6ms\n",
      "21:\tlearn: 0.5868422\ttotal: 12.2ms\tremaining: 98.6ms\n",
      "22:\tlearn: 0.5867846\ttotal: 12.7ms\tremaining: 97.7ms\n",
      "23:\tlearn: 0.5867261\ttotal: 13.3ms\tremaining: 97.2ms\n",
      "24:\tlearn: 0.5866495\ttotal: 13.7ms\tremaining: 95.7ms\n",
      "25:\tlearn: 0.5866219\ttotal: 14.6ms\tremaining: 97.6ms\n",
      "26:\tlearn: 0.5865431\ttotal: 15.4ms\tremaining: 98.4ms\n",
      "27:\tlearn: 0.5864663\ttotal: 16ms\tremaining: 98.1ms\n",
      "28:\tlearn: 0.5863902\ttotal: 16.6ms\tremaining: 97.7ms\n",
      "29:\tlearn: 0.5863583\ttotal: 17.1ms\tremaining: 96.9ms\n",
      "30:\tlearn: 0.5863036\ttotal: 17.6ms\tremaining: 95.7ms\n",
      "31:\tlearn: 0.5862419\ttotal: 18ms\tremaining: 94.7ms\n",
      "32:\tlearn: 0.5861613\ttotal: 18.5ms\tremaining: 93.5ms\n",
      "33:\tlearn: 0.5860701\ttotal: 19ms\tremaining: 92.6ms\n",
      "34:\tlearn: 0.5860071\ttotal: 19.5ms\tremaining: 91.9ms\n",
      "35:\tlearn: 0.5859488\ttotal: 20ms\tremaining: 91ms\n",
      "36:\tlearn: 0.5859012\ttotal: 20.5ms\tremaining: 90.2ms\n",
      "37:\tlearn: 0.5858313\ttotal: 21ms\tremaining: 89.5ms\n",
      "38:\tlearn: 0.5857753\ttotal: 21.5ms\tremaining: 88.8ms\n",
      "39:\tlearn: 0.5857083\ttotal: 22ms\tremaining: 88ms\n",
      "40:\tlearn: 0.5856661\ttotal: 22.5ms\tremaining: 87.3ms\n",
      "41:\tlearn: 0.5856576\ttotal: 23ms\tremaining: 86.4ms\n",
      "42:\tlearn: 0.5856124\ttotal: 23.5ms\tremaining: 85.6ms\n",
      "43:\tlearn: 0.5855519\ttotal: 24ms\tremaining: 84.9ms\n",
      "44:\tlearn: 0.5854892\ttotal: 24.4ms\tremaining: 84.2ms\n",
      "45:\tlearn: 0.5854387\ttotal: 24.9ms\tremaining: 83.4ms\n",
      "46:\tlearn: 0.5853883\ttotal: 25.4ms\tremaining: 82.6ms\n",
      "47:\tlearn: 0.5853221\ttotal: 25.9ms\tremaining: 82ms\n",
      "48:\tlearn: 0.5852532\ttotal: 26.4ms\tremaining: 81.3ms\n",
      "49:\tlearn: 0.5852267\ttotal: 26.9ms\tremaining: 80.7ms\n",
      "50:\tlearn: 0.5851365\ttotal: 27.4ms\tremaining: 80.1ms\n",
      "51:\tlearn: 0.5851157\ttotal: 27.9ms\tremaining: 79.5ms\n",
      "52:\tlearn: 0.5850408\ttotal: 28.5ms\tremaining: 79.1ms\n",
      "53:\tlearn: 0.5849857\ttotal: 29ms\tremaining: 78.4ms\n",
      "54:\tlearn: 0.5849840\ttotal: 29.5ms\tremaining: 77.7ms\n",
      "55:\tlearn: 0.5849645\ttotal: 30ms\tremaining: 77.1ms\n",
      "56:\tlearn: 0.5849249\ttotal: 30.5ms\tremaining: 76.5ms\n",
      "57:\tlearn: 0.5849086\ttotal: 31ms\tremaining: 75.9ms\n",
      "58:\tlearn: 0.5848238\ttotal: 31.5ms\tremaining: 75.2ms\n",
      "59:\tlearn: 0.5847715\ttotal: 32.1ms\tremaining: 74.9ms\n",
      "60:\tlearn: 0.5847528\ttotal: 32.6ms\tremaining: 74.3ms\n",
      "61:\tlearn: 0.5847513\ttotal: 33.1ms\tremaining: 73.6ms\n",
      "62:\tlearn: 0.5847198\ttotal: 33.6ms\tremaining: 73.1ms\n",
      "63:\tlearn: 0.5846691\ttotal: 34.1ms\tremaining: 72.5ms\n",
      "64:\tlearn: 0.5846193\ttotal: 34.6ms\tremaining: 71.9ms\n",
      "65:\tlearn: 0.5846163\ttotal: 35.1ms\tremaining: 71.3ms\n",
      "66:\tlearn: 0.5845952\ttotal: 35.7ms\tremaining: 70.9ms\n",
      "67:\tlearn: 0.5845463\ttotal: 36.3ms\tremaining: 70.4ms\n",
      "68:\tlearn: 0.5845310\ttotal: 36.8ms\tremaining: 69.8ms\n",
      "69:\tlearn: 0.5844718\ttotal: 37.3ms\tremaining: 69.2ms\n",
      "70:\tlearn: 0.5844347\ttotal: 37.7ms\tremaining: 68.6ms\n",
      "71:\tlearn: 0.5843793\ttotal: 38.2ms\tremaining: 68ms\n",
      "72:\tlearn: 0.5843481\ttotal: 38.7ms\tremaining: 67.4ms\n",
      "73:\tlearn: 0.5843311\ttotal: 39.2ms\tremaining: 66.8ms\n",
      "74:\tlearn: 0.5842971\ttotal: 39.7ms\tremaining: 66.2ms\n",
      "75:\tlearn: 0.5842625\ttotal: 40.2ms\tremaining: 65.6ms\n",
      "76:\tlearn: 0.5842304\ttotal: 40.8ms\tremaining: 65.2ms\n",
      "77:\tlearn: 0.5841806\ttotal: 41.3ms\tremaining: 64.6ms\n",
      "78:\tlearn: 0.5841495\ttotal: 41.8ms\tremaining: 64ms\n",
      "79:\tlearn: 0.5841067\ttotal: 42.3ms\tremaining: 63.4ms\n",
      "80:\tlearn: 0.5840676\ttotal: 42.8ms\tremaining: 62.9ms\n",
      "81:\tlearn: 0.5840468\ttotal: 43.3ms\tremaining: 62.4ms\n",
      "82:\tlearn: 0.5840169\ttotal: 43.9ms\tremaining: 61.8ms\n",
      "83:\tlearn: 0.5840002\ttotal: 44.4ms\tremaining: 61.3ms\n",
      "84:\tlearn: 0.5839296\ttotal: 44.9ms\tremaining: 60.7ms\n",
      "85:\tlearn: 0.5838993\ttotal: 45.4ms\tremaining: 60.1ms\n",
      "86:\tlearn: 0.5838793\ttotal: 45.9ms\tremaining: 59.6ms\n",
      "87:\tlearn: 0.5838394\ttotal: 46.4ms\tremaining: 59ms\n",
      "88:\tlearn: 0.5838236\ttotal: 46.9ms\tremaining: 58.5ms\n",
      "89:\tlearn: 0.5838226\ttotal: 47.3ms\tremaining: 57.8ms\n",
      "90:\tlearn: 0.5838063\ttotal: 47.9ms\tremaining: 57.3ms\n",
      "91:\tlearn: 0.5837900\ttotal: 48.3ms\tremaining: 56.7ms\n",
      "92:\tlearn: 0.5837737\ttotal: 48.9ms\tremaining: 56.2ms\n",
      "93:\tlearn: 0.5837467\ttotal: 49.4ms\tremaining: 55.7ms\n",
      "94:\tlearn: 0.5837001\ttotal: 49.9ms\tremaining: 55.1ms\n",
      "95:\tlearn: 0.5836622\ttotal: 50.4ms\tremaining: 54.6ms\n",
      "96:\tlearn: 0.5836435\ttotal: 50.9ms\tremaining: 54.1ms\n",
      "97:\tlearn: 0.5836156\ttotal: 51.4ms\tremaining: 53.5ms\n",
      "98:\tlearn: 0.5835994\ttotal: 51.9ms\tremaining: 52.9ms\n",
      "99:\tlearn: 0.5835731\ttotal: 52.4ms\tremaining: 52.4ms\n",
      "100:\tlearn: 0.5835497\ttotal: 52.9ms\tremaining: 51.9ms\n",
      "101:\tlearn: 0.5835240\ttotal: 53.4ms\tremaining: 51.3ms\n",
      "102:\tlearn: 0.5834767\ttotal: 53.9ms\tremaining: 50.8ms\n",
      "103:\tlearn: 0.5834478\ttotal: 54.4ms\tremaining: 50.2ms\n",
      "104:\tlearn: 0.5834122\ttotal: 54.9ms\tremaining: 49.7ms\n",
      "105:\tlearn: 0.5833742\ttotal: 55.5ms\tremaining: 49.2ms\n",
      "106:\tlearn: 0.5833335\ttotal: 56.1ms\tremaining: 48.7ms\n",
      "107:\tlearn: 0.5833062\ttotal: 56.6ms\tremaining: 48.2ms\n",
      "108:\tlearn: 0.5832850\ttotal: 57.2ms\tremaining: 47.8ms\n",
      "109:\tlearn: 0.5832463\ttotal: 57.7ms\tremaining: 47.2ms\n",
      "110:\tlearn: 0.5832402\ttotal: 58.3ms\tremaining: 46.8ms\n",
      "111:\tlearn: 0.5832121\ttotal: 58.9ms\tremaining: 46.3ms\n",
      "112:\tlearn: 0.5831751\ttotal: 59.4ms\tremaining: 45.7ms\n",
      "113:\tlearn: 0.5831553\ttotal: 59.9ms\tremaining: 45.2ms\n",
      "114:\tlearn: 0.5831408\ttotal: 60.4ms\tremaining: 44.6ms\n",
      "115:\tlearn: 0.5831260\ttotal: 60.9ms\tremaining: 44.1ms\n",
      "116:\tlearn: 0.5831182\ttotal: 61.4ms\tremaining: 43.6ms\n",
      "117:\tlearn: 0.5830872\ttotal: 62ms\tremaining: 43.1ms\n",
      "118:\tlearn: 0.5830781\ttotal: 62.5ms\tremaining: 42.5ms\n",
      "119:\tlearn: 0.5830400\ttotal: 62.9ms\tremaining: 42ms\n",
      "120:\tlearn: 0.5830279\ttotal: 63.4ms\tremaining: 41.4ms\n",
      "121:\tlearn: 0.5829909\ttotal: 63.9ms\tremaining: 40.9ms\n",
      "122:\tlearn: 0.5829632\ttotal: 64.4ms\tremaining: 40.3ms\n",
      "123:\tlearn: 0.5829454\ttotal: 65ms\tremaining: 39.8ms\n",
      "124:\tlearn: 0.5829313\ttotal: 65.5ms\tremaining: 39.3ms\n",
      "125:\tlearn: 0.5829307\ttotal: 65.9ms\tremaining: 38.7ms\n",
      "126:\tlearn: 0.5829283\ttotal: 66.4ms\tremaining: 38.2ms\n",
      "127:\tlearn: 0.5829143\ttotal: 66.9ms\tremaining: 37.6ms\n",
      "128:\tlearn: 0.5829005\ttotal: 67.5ms\tremaining: 37.2ms\n",
      "129:\tlearn: 0.5828794\ttotal: 68ms\tremaining: 36.6ms\n",
      "130:\tlearn: 0.5828745\ttotal: 68.6ms\tremaining: 36.1ms\n",
      "131:\tlearn: 0.5828608\ttotal: 69ms\tremaining: 35.6ms\n",
      "132:\tlearn: 0.5828545\ttotal: 69.5ms\tremaining: 35ms\n",
      "133:\tlearn: 0.5828357\ttotal: 70.1ms\tremaining: 34.5ms\n",
      "134:\tlearn: 0.5828306\ttotal: 70.6ms\tremaining: 34ms\n",
      "135:\tlearn: 0.5827953\ttotal: 71.1ms\tremaining: 33.5ms\n",
      "136:\tlearn: 0.5827836\ttotal: 71.7ms\tremaining: 33ms\n",
      "137:\tlearn: 0.5827772\ttotal: 72.1ms\tremaining: 32.4ms\n",
      "138:\tlearn: 0.5827750\ttotal: 72.7ms\tremaining: 31.9ms\n",
      "139:\tlearn: 0.5827554\ttotal: 73.2ms\tremaining: 31.4ms\n",
      "140:\tlearn: 0.5827386\ttotal: 73.6ms\tremaining: 30.8ms\n",
      "141:\tlearn: 0.5827175\ttotal: 74.1ms\tremaining: 30.3ms\n",
      "142:\tlearn: 0.5827043\ttotal: 74.6ms\tremaining: 29.7ms\n",
      "143:\tlearn: 0.5826701\ttotal: 75.1ms\tremaining: 29.2ms\n",
      "144:\tlearn: 0.5826450\ttotal: 75.6ms\tremaining: 28.7ms\n",
      "145:\tlearn: 0.5826374\ttotal: 76.1ms\tremaining: 28.2ms\n",
      "146:\tlearn: 0.5826042\ttotal: 76.7ms\tremaining: 27.6ms\n",
      "147:\tlearn: 0.5825707\ttotal: 77.2ms\tremaining: 27.1ms\n",
      "148:\tlearn: 0.5825703\ttotal: 77.7ms\tremaining: 26.6ms\n",
      "149:\tlearn: 0.5825439\ttotal: 78.2ms\tremaining: 26.1ms\n",
      "150:\tlearn: 0.5825239\ttotal: 78.7ms\tremaining: 25.5ms\n",
      "151:\tlearn: 0.5825117\ttotal: 79.2ms\tremaining: 25ms\n",
      "152:\tlearn: 0.5824941\ttotal: 79.7ms\tremaining: 24.5ms\n",
      "153:\tlearn: 0.5824684\ttotal: 80.3ms\tremaining: 24ms\n",
      "154:\tlearn: 0.5824555\ttotal: 80.8ms\tremaining: 23.4ms\n",
      "155:\tlearn: 0.5824296\ttotal: 81.3ms\tremaining: 22.9ms\n",
      "156:\tlearn: 0.5823958\ttotal: 81.8ms\tremaining: 22.4ms\n",
      "157:\tlearn: 0.5823830\ttotal: 82.2ms\tremaining: 21.9ms\n",
      "158:\tlearn: 0.5823761\ttotal: 82.8ms\tremaining: 21.4ms\n",
      "159:\tlearn: 0.5823453\ttotal: 83.4ms\tremaining: 20.8ms\n",
      "160:\tlearn: 0.5823396\ttotal: 83.8ms\tremaining: 20.3ms\n",
      "161:\tlearn: 0.5823120\ttotal: 84.3ms\tremaining: 19.8ms\n",
      "162:\tlearn: 0.5822949\ttotal: 84.8ms\tremaining: 19.2ms\n",
      "163:\tlearn: 0.5822676\ttotal: 85.2ms\tremaining: 18.7ms\n",
      "164:\tlearn: 0.5822350\ttotal: 85.7ms\tremaining: 18.2ms\n",
      "165:\tlearn: 0.5822226\ttotal: 86.2ms\tremaining: 17.6ms\n",
      "166:\tlearn: 0.5822102\ttotal: 86.6ms\tremaining: 17.1ms\n",
      "167:\tlearn: 0.5821837\ttotal: 87.1ms\tremaining: 16.6ms\n",
      "168:\tlearn: 0.5821719\ttotal: 87.6ms\tremaining: 16.1ms\n",
      "169:\tlearn: 0.5821716\ttotal: 88.1ms\tremaining: 15.5ms\n",
      "170:\tlearn: 0.5821673\ttotal: 88.6ms\tremaining: 15ms\n",
      "171:\tlearn: 0.5821555\ttotal: 89.1ms\tremaining: 14.5ms\n",
      "172:\tlearn: 0.5821423\ttotal: 89.6ms\tremaining: 14ms\n",
      "173:\tlearn: 0.5821046\ttotal: 90.1ms\tremaining: 13.5ms\n",
      "174:\tlearn: 0.5820924\ttotal: 90.6ms\tremaining: 12.9ms\n",
      "175:\tlearn: 0.5820883\ttotal: 91.1ms\tremaining: 12.4ms\n",
      "176:\tlearn: 0.5820778\ttotal: 91.8ms\tremaining: 11.9ms\n",
      "177:\tlearn: 0.5820730\ttotal: 92.5ms\tremaining: 11.4ms\n",
      "178:\tlearn: 0.5820609\ttotal: 93.4ms\tremaining: 11ms\n",
      "179:\tlearn: 0.5820468\ttotal: 94ms\tremaining: 10.4ms\n",
      "180:\tlearn: 0.5820249\ttotal: 94.5ms\tremaining: 9.92ms\n",
      "181:\tlearn: 0.5819950\ttotal: 95ms\tremaining: 9.39ms\n",
      "182:\tlearn: 0.5819935\ttotal: 95.5ms\tremaining: 8.87ms\n",
      "183:\tlearn: 0.5819815\ttotal: 96ms\tremaining: 8.35ms\n",
      "184:\tlearn: 0.5819640\ttotal: 96.5ms\tremaining: 7.83ms\n",
      "185:\tlearn: 0.5819513\ttotal: 97.1ms\tremaining: 7.31ms\n",
      "186:\tlearn: 0.5819409\ttotal: 97.6ms\tremaining: 6.79ms\n",
      "187:\tlearn: 0.5819273\ttotal: 98.2ms\tremaining: 6.26ms\n",
      "188:\tlearn: 0.5818813\ttotal: 98.7ms\tremaining: 5.75ms\n",
      "189:\tlearn: 0.5818490\ttotal: 99.2ms\tremaining: 5.22ms\n",
      "190:\tlearn: 0.5818369\ttotal: 99.8ms\tremaining: 4.7ms\n",
      "191:\tlearn: 0.5818224\ttotal: 100ms\tremaining: 4.18ms\n",
      "192:\tlearn: 0.5818108\ttotal: 101ms\tremaining: 3.66ms\n",
      "193:\tlearn: 0.5817958\ttotal: 101ms\tremaining: 3.13ms\n",
      "194:\tlearn: 0.5817904\ttotal: 102ms\tremaining: 2.61ms\n",
      "195:\tlearn: 0.5817789\ttotal: 102ms\tremaining: 2.09ms\n",
      "196:\tlearn: 0.5817346\ttotal: 103ms\tremaining: 1.56ms\n",
      "197:\tlearn: 0.5817134\ttotal: 103ms\tremaining: 1.04ms\n",
      "198:\tlearn: 0.5816910\ttotal: 104ms\tremaining: 521us\n",
      "199:\tlearn: 0.5816720\ttotal: 104ms\tremaining: 0us\n"
     ]
    }
   ],
   "source": [
    "catb_tuned = CatBoostRegressor(iterations = 200, \n",
    "                               learning_rate = 0.01, \n",
    "                               depth = 3)\n",
    "\n",
    "catb_tuned = catb_tuned.fit(X_train,y_train)"
   ]
  },
  {
   "cell_type": "code",
   "execution_count": 280,
   "id": "633789f1",
   "metadata": {},
   "outputs": [
    {
     "data": {
      "text/plain": [
       "0.5793140755630813"
      ]
     },
     "execution_count": 280,
     "metadata": {},
     "output_type": "execute_result"
    }
   ],
   "source": [
    "y_pred = catb_tuned.predict(X_test)\n",
    "np.sqrt(mean_squared_error(y_test, y_pred))"
   ]
  },
  {
   "cell_type": "code",
   "execution_count": null,
   "id": "51bfd829",
   "metadata": {},
   "outputs": [],
   "source": []
  },
  {
   "cell_type": "code",
   "execution_count": null,
   "id": "717129c0",
   "metadata": {},
   "outputs": [],
   "source": []
  },
  {
   "cell_type": "code",
   "execution_count": null,
   "id": "bd0aa1b4",
   "metadata": {},
   "outputs": [],
   "source": []
  },
  {
   "cell_type": "code",
   "execution_count": null,
   "id": "45c164e8",
   "metadata": {},
   "outputs": [],
   "source": []
  },
  {
   "cell_type": "code",
   "execution_count": null,
   "id": "c6205ca1",
   "metadata": {},
   "outputs": [],
   "source": []
  },
  {
   "cell_type": "code",
   "execution_count": null,
   "id": "03ce3845",
   "metadata": {},
   "outputs": [],
   "source": []
  },
  {
   "cell_type": "code",
   "execution_count": null,
   "id": "8130d2f5",
   "metadata": {},
   "outputs": [],
   "source": []
  },
  {
   "cell_type": "code",
   "execution_count": null,
   "id": "b5bbea6a",
   "metadata": {},
   "outputs": [],
   "source": []
  },
  {
   "cell_type": "code",
   "execution_count": null,
   "id": "f372f805",
   "metadata": {},
   "outputs": [],
   "source": []
  },
  {
   "cell_type": "code",
   "execution_count": null,
   "id": "b8ceb936",
   "metadata": {},
   "outputs": [],
   "source": []
  },
  {
   "cell_type": "code",
   "execution_count": null,
   "id": "63ecb138",
   "metadata": {},
   "outputs": [],
   "source": []
  },
  {
   "cell_type": "code",
   "execution_count": null,
   "id": "8d40ffc2",
   "metadata": {},
   "outputs": [],
   "source": []
  },
  {
   "cell_type": "code",
   "execution_count": null,
   "id": "059a69bb",
   "metadata": {},
   "outputs": [],
   "source": []
  },
  {
   "cell_type": "code",
   "execution_count": null,
   "id": "54142fd3",
   "metadata": {},
   "outputs": [],
   "source": []
  },
  {
   "cell_type": "code",
   "execution_count": null,
   "id": "98f1e90c",
   "metadata": {},
   "outputs": [],
   "source": []
  },
  {
   "cell_type": "code",
   "execution_count": null,
   "id": "90bfee2e",
   "metadata": {},
   "outputs": [],
   "source": []
  },
  {
   "cell_type": "code",
   "execution_count": null,
   "id": "d7623bf9",
   "metadata": {},
   "outputs": [],
   "source": []
  },
  {
   "cell_type": "code",
   "execution_count": null,
   "id": "4b9e462d",
   "metadata": {},
   "outputs": [],
   "source": []
  },
  {
   "cell_type": "code",
   "execution_count": null,
   "id": "e83e9223",
   "metadata": {},
   "outputs": [],
   "source": []
  },
  {
   "cell_type": "code",
   "execution_count": null,
   "id": "790d1406",
   "metadata": {},
   "outputs": [],
   "source": []
  },
  {
   "cell_type": "code",
   "execution_count": null,
   "id": "04761ca3",
   "metadata": {},
   "outputs": [],
   "source": []
  },
  {
   "cell_type": "code",
   "execution_count": null,
   "id": "a9a1083c",
   "metadata": {},
   "outputs": [],
   "source": []
  },
  {
   "cell_type": "code",
   "execution_count": null,
   "id": "2e021e0c",
   "metadata": {},
   "outputs": [],
   "source": []
  },
  {
   "cell_type": "code",
   "execution_count": null,
   "id": "21580f7f",
   "metadata": {},
   "outputs": [],
   "source": []
  },
  {
   "cell_type": "code",
   "execution_count": null,
   "id": "06ffe522",
   "metadata": {},
   "outputs": [],
   "source": []
  },
  {
   "cell_type": "code",
   "execution_count": null,
   "id": "2fe41811",
   "metadata": {},
   "outputs": [],
   "source": []
  },
  {
   "cell_type": "code",
   "execution_count": null,
   "id": "7cdb2ee9",
   "metadata": {
    "scrolled": true
   },
   "outputs": [],
   "source": []
  },
  {
   "cell_type": "code",
   "execution_count": null,
   "id": "158161b5",
   "metadata": {},
   "outputs": [],
   "source": []
  },
  {
   "cell_type": "code",
   "execution_count": null,
   "id": "c0fe0e9f",
   "metadata": {},
   "outputs": [],
   "source": []
  },
  {
   "cell_type": "code",
   "execution_count": null,
   "id": "094841d7",
   "metadata": {},
   "outputs": [],
   "source": []
  },
  {
   "cell_type": "code",
   "execution_count": null,
   "id": "32b634dd",
   "metadata": {},
   "outputs": [],
   "source": []
  },
  {
   "cell_type": "code",
   "execution_count": null,
   "id": "d5fba480",
   "metadata": {},
   "outputs": [],
   "source": []
  },
  {
   "cell_type": "code",
   "execution_count": null,
   "id": "8f54a2a1",
   "metadata": {},
   "outputs": [],
   "source": []
  },
  {
   "cell_type": "code",
   "execution_count": null,
   "id": "718c2c5c",
   "metadata": {},
   "outputs": [],
   "source": []
  },
  {
   "cell_type": "code",
   "execution_count": null,
   "id": "14b2f088",
   "metadata": {},
   "outputs": [],
   "source": []
  },
  {
   "cell_type": "code",
   "execution_count": null,
   "id": "00e42cb4",
   "metadata": {},
   "outputs": [],
   "source": []
  },
  {
   "cell_type": "code",
   "execution_count": null,
   "id": "054880ac",
   "metadata": {},
   "outputs": [],
   "source": []
  },
  {
   "cell_type": "code",
   "execution_count": null,
   "id": "1ca3b3cc",
   "metadata": {},
   "outputs": [],
   "source": []
  }
 ],
 "metadata": {
  "kernelspec": {
   "display_name": "Python 3",
   "language": "python",
   "name": "python3"
  },
  "language_info": {
   "codemirror_mode": {
    "name": "ipython",
    "version": 3
   },
   "file_extension": ".py",
   "mimetype": "text/x-python",
   "name": "python",
   "nbconvert_exporter": "python",
   "pygments_lexer": "ipython3",
   "version": "3.8.8"
  }
 },
 "nbformat": 4,
 "nbformat_minor": 5
}
