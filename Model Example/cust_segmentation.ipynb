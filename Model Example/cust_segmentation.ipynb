{
 "cells": [
  {
   "cell_type": "markdown",
   "id": "5efb6ac2",
   "metadata": {},
   "source": [
    "  # AMAÇ\n",
    "\n",
    "    Cust Segmentation veri seti ile amacım insanların yaş, eğitim, çalışma yılı ve gelirlerine göre gelir gider oranlarını tahmin ettirmeye çalışmaktır. İnsanların gelir gider oranlarının değişken olarak girdiğimiz parametlerle ne kadar ilgili olduğunu görmüş olacağız."
   ]
  },
  {
   "cell_type": "code",
   "execution_count": 2,
   "id": "e095bc4f",
   "metadata": {},
   "outputs": [],
   "source": [
    "import numpy as np\n",
    "import pandas as pd \n",
    "from sklearn.model_selection import train_test_split, GridSearchCV,cross_val_score\n",
    "from sklearn.metrics import mean_squared_error, r2_score\n",
    "from sklearn.svm import SVR\n",
    "from sklearn.linear_model import LinearRegression\n",
    "import matplotlib.pyplot as plt\n",
    "from sklearn.preprocessing import scale \n",
    "from sklearn import model_selection\n",
    "from sklearn.tree import DecisionTreeRegressor, DecisionTreeClassifier\n",
    "from sklearn.neighbors import KNeighborsRegressor\n",
    "from sklearn.ensemble import BaggingRegressor\n",
    "from sklearn.neural_network import MLPRegressor\n",
    "from sklearn.ensemble import RandomForestRegressor\n",
    "from sklearn.ensemble import GradientBoostingRegressor\n",
    "from sklearn.svm import LinearSVR\n",
    "from sklearn.preprocessing import StandardScaler\n",
    "from skompiler import skompile\n",
    "import xgboost as xgb\n",
    "from xgboost import XGBRegressor\n",
    "from catboost import CatBoostRegressor\n",
    "from lightgbm import LGBMRegressor\n",
    "from lightgbm import LGBMRegressor\n",
    "from warnings import filterwarnings\n",
    "filterwarnings('ignore')\n",
    "from datetime import datetime\n",
    "import researchpy as rp\n",
    "import seaborn as sns\n",
    "from sklearn.neighbors import LocalOutlierFactor"
   ]
  },
  {
   "cell_type": "markdown",
   "id": "14d6ca2d",
   "metadata": {},
   "source": [
    "Referans kaynaklarda bulunan kütüphanelerı ekledim."
   ]
  },
  {
   "cell_type": "markdown",
   "id": "fb407864",
   "metadata": {},
   "source": [
    "## 1. VERİYE İLK BAKIŞ\n",
    "\n"
   ]
  },
  {
   "cell_type": "code",
   "execution_count": 2,
   "id": "e53ce779",
   "metadata": {},
   "outputs": [
    {
     "data": {
      "text/plain": [
       "(850, 9)"
      ]
     },
     "execution_count": 2,
     "metadata": {},
     "output_type": "execute_result"
    }
   ],
   "source": [
    "ad = pd.read_csv(\"cust_segmentation.csv\")\n",
    "df = ad.copy()\n",
    "df.shape"
   ]
  },
  {
   "cell_type": "code",
   "execution_count": 3,
   "id": "7777b367",
   "metadata": {},
   "outputs": [
    {
     "data": {
      "text/html": [
       "<div>\n",
       "<style scoped>\n",
       "    .dataframe tbody tr th:only-of-type {\n",
       "        vertical-align: middle;\n",
       "    }\n",
       "\n",
       "    .dataframe tbody tr th {\n",
       "        vertical-align: top;\n",
       "    }\n",
       "\n",
       "    .dataframe thead th {\n",
       "        text-align: right;\n",
       "    }\n",
       "</style>\n",
       "<table border=\"1\" class=\"dataframe\">\n",
       "  <thead>\n",
       "    <tr style=\"text-align: right;\">\n",
       "      <th></th>\n",
       "      <th>Customer Id</th>\n",
       "      <th>Age</th>\n",
       "      <th>Edu</th>\n",
       "      <th>Years Employed</th>\n",
       "      <th>Income</th>\n",
       "      <th>Card Debt</th>\n",
       "      <th>Other Debt</th>\n",
       "      <th>Defaulted</th>\n",
       "      <th>DebtIncomeRatio</th>\n",
       "    </tr>\n",
       "  </thead>\n",
       "  <tbody>\n",
       "    <tr>\n",
       "      <th>0</th>\n",
       "      <td>1</td>\n",
       "      <td>41</td>\n",
       "      <td>2</td>\n",
       "      <td>6</td>\n",
       "      <td>19</td>\n",
       "      <td>0.124</td>\n",
       "      <td>1.073</td>\n",
       "      <td>0.0</td>\n",
       "      <td>6.3</td>\n",
       "    </tr>\n",
       "    <tr>\n",
       "      <th>1</th>\n",
       "      <td>2</td>\n",
       "      <td>47</td>\n",
       "      <td>1</td>\n",
       "      <td>26</td>\n",
       "      <td>100</td>\n",
       "      <td>4.582</td>\n",
       "      <td>8.218</td>\n",
       "      <td>0.0</td>\n",
       "      <td>12.8</td>\n",
       "    </tr>\n",
       "    <tr>\n",
       "      <th>2</th>\n",
       "      <td>3</td>\n",
       "      <td>33</td>\n",
       "      <td>2</td>\n",
       "      <td>10</td>\n",
       "      <td>57</td>\n",
       "      <td>6.111</td>\n",
       "      <td>5.802</td>\n",
       "      <td>1.0</td>\n",
       "      <td>20.9</td>\n",
       "    </tr>\n",
       "    <tr>\n",
       "      <th>3</th>\n",
       "      <td>4</td>\n",
       "      <td>29</td>\n",
       "      <td>2</td>\n",
       "      <td>4</td>\n",
       "      <td>19</td>\n",
       "      <td>0.681</td>\n",
       "      <td>0.516</td>\n",
       "      <td>0.0</td>\n",
       "      <td>6.3</td>\n",
       "    </tr>\n",
       "    <tr>\n",
       "      <th>4</th>\n",
       "      <td>5</td>\n",
       "      <td>47</td>\n",
       "      <td>1</td>\n",
       "      <td>31</td>\n",
       "      <td>253</td>\n",
       "      <td>9.308</td>\n",
       "      <td>8.908</td>\n",
       "      <td>0.0</td>\n",
       "      <td>7.2</td>\n",
       "    </tr>\n",
       "  </tbody>\n",
       "</table>\n",
       "</div>"
      ],
      "text/plain": [
       "   Customer Id  Age  Edu  Years Employed  Income  Card Debt  Other Debt  \\\n",
       "0            1   41    2               6      19      0.124       1.073   \n",
       "1            2   47    1              26     100      4.582       8.218   \n",
       "2            3   33    2              10      57      6.111       5.802   \n",
       "3            4   29    2               4      19      0.681       0.516   \n",
       "4            5   47    1              31     253      9.308       8.908   \n",
       "\n",
       "   Defaulted  DebtIncomeRatio  \n",
       "0        0.0              6.3  \n",
       "1        0.0             12.8  \n",
       "2        1.0             20.9  \n",
       "3        0.0              6.3  \n",
       "4        0.0              7.2  "
      ]
     },
     "execution_count": 3,
     "metadata": {},
     "output_type": "execute_result"
    }
   ],
   "source": [
    "df.head()"
   ]
  },
  {
   "cell_type": "markdown",
   "id": "58ee8212",
   "metadata": {},
   "source": [
    "Veri setimizin ilk 5 değerini ekrana bastırdık."
   ]
  },
  {
   "cell_type": "code",
   "execution_count": 4,
   "id": "2d98efea",
   "metadata": {},
   "outputs": [
    {
     "data": {
      "text/html": [
       "<div>\n",
       "<style scoped>\n",
       "    .dataframe tbody tr th:only-of-type {\n",
       "        vertical-align: middle;\n",
       "    }\n",
       "\n",
       "    .dataframe tbody tr th {\n",
       "        vertical-align: top;\n",
       "    }\n",
       "\n",
       "    .dataframe thead th {\n",
       "        text-align: right;\n",
       "    }\n",
       "</style>\n",
       "<table border=\"1\" class=\"dataframe\">\n",
       "  <thead>\n",
       "    <tr style=\"text-align: right;\">\n",
       "      <th></th>\n",
       "      <th>Customer Id</th>\n",
       "      <th>Age</th>\n",
       "      <th>Edu</th>\n",
       "      <th>Years Employed</th>\n",
       "      <th>Income</th>\n",
       "      <th>Card Debt</th>\n",
       "      <th>Other Debt</th>\n",
       "      <th>Defaulted</th>\n",
       "      <th>DebtIncomeRatio</th>\n",
       "    </tr>\n",
       "  </thead>\n",
       "  <tbody>\n",
       "    <tr>\n",
       "      <th>845</th>\n",
       "      <td>846</td>\n",
       "      <td>27</td>\n",
       "      <td>1</td>\n",
       "      <td>5</td>\n",
       "      <td>26</td>\n",
       "      <td>0.548</td>\n",
       "      <td>1.220</td>\n",
       "      <td>NaN</td>\n",
       "      <td>6.8</td>\n",
       "    </tr>\n",
       "    <tr>\n",
       "      <th>846</th>\n",
       "      <td>847</td>\n",
       "      <td>28</td>\n",
       "      <td>2</td>\n",
       "      <td>7</td>\n",
       "      <td>34</td>\n",
       "      <td>0.359</td>\n",
       "      <td>2.021</td>\n",
       "      <td>0.0</td>\n",
       "      <td>7.0</td>\n",
       "    </tr>\n",
       "    <tr>\n",
       "      <th>847</th>\n",
       "      <td>848</td>\n",
       "      <td>25</td>\n",
       "      <td>4</td>\n",
       "      <td>0</td>\n",
       "      <td>18</td>\n",
       "      <td>2.802</td>\n",
       "      <td>3.210</td>\n",
       "      <td>1.0</td>\n",
       "      <td>33.4</td>\n",
       "    </tr>\n",
       "    <tr>\n",
       "      <th>848</th>\n",
       "      <td>849</td>\n",
       "      <td>32</td>\n",
       "      <td>1</td>\n",
       "      <td>12</td>\n",
       "      <td>28</td>\n",
       "      <td>0.116</td>\n",
       "      <td>0.696</td>\n",
       "      <td>0.0</td>\n",
       "      <td>2.9</td>\n",
       "    </tr>\n",
       "    <tr>\n",
       "      <th>849</th>\n",
       "      <td>850</td>\n",
       "      <td>52</td>\n",
       "      <td>1</td>\n",
       "      <td>16</td>\n",
       "      <td>64</td>\n",
       "      <td>1.866</td>\n",
       "      <td>3.638</td>\n",
       "      <td>0.0</td>\n",
       "      <td>8.6</td>\n",
       "    </tr>\n",
       "  </tbody>\n",
       "</table>\n",
       "</div>"
      ],
      "text/plain": [
       "     Customer Id  Age  Edu  Years Employed  Income  Card Debt  Other Debt  \\\n",
       "845          846   27    1               5      26      0.548       1.220   \n",
       "846          847   28    2               7      34      0.359       2.021   \n",
       "847          848   25    4               0      18      2.802       3.210   \n",
       "848          849   32    1              12      28      0.116       0.696   \n",
       "849          850   52    1              16      64      1.866       3.638   \n",
       "\n",
       "     Defaulted  DebtIncomeRatio  \n",
       "845        NaN              6.8  \n",
       "846        0.0              7.0  \n",
       "847        1.0             33.4  \n",
       "848        0.0              2.9  \n",
       "849        0.0              8.6  "
      ]
     },
     "execution_count": 4,
     "metadata": {},
     "output_type": "execute_result"
    }
   ],
   "source": [
    "df.tail()"
   ]
  },
  {
   "cell_type": "markdown",
   "id": "160476ce",
   "metadata": {},
   "source": [
    "Veri setimizin son 5 değerini ekrana bastırdık."
   ]
  },
  {
   "cell_type": "code",
   "execution_count": 5,
   "id": "6fdc1917",
   "metadata": {},
   "outputs": [
    {
     "name": "stdout",
     "output_type": "stream",
     "text": [
      "<class 'pandas.core.frame.DataFrame'>\n",
      "RangeIndex: 850 entries, 0 to 849\n",
      "Data columns (total 9 columns):\n",
      " #   Column           Non-Null Count  Dtype  \n",
      "---  ------           --------------  -----  \n",
      " 0   Customer Id      850 non-null    int64  \n",
      " 1   Age              850 non-null    int64  \n",
      " 2   Edu              850 non-null    int64  \n",
      " 3   Years Employed   850 non-null    int64  \n",
      " 4   Income           850 non-null    int64  \n",
      " 5   Card Debt        850 non-null    float64\n",
      " 6   Other Debt       850 non-null    float64\n",
      " 7   Defaulted        700 non-null    float64\n",
      " 8   DebtIncomeRatio  850 non-null    float64\n",
      "dtypes: float64(4), int64(5)\n",
      "memory usage: 59.9 KB\n"
     ]
    }
   ],
   "source": [
    "df.info()"
   ]
  },
  {
   "cell_type": "code",
   "execution_count": 6,
   "id": "561f3a14",
   "metadata": {},
   "outputs": [
    {
     "data": {
      "text/html": [
       "<div>\n",
       "<style scoped>\n",
       "    .dataframe tbody tr th:only-of-type {\n",
       "        vertical-align: middle;\n",
       "    }\n",
       "\n",
       "    .dataframe tbody tr th {\n",
       "        vertical-align: top;\n",
       "    }\n",
       "\n",
       "    .dataframe thead th {\n",
       "        text-align: right;\n",
       "    }\n",
       "</style>\n",
       "<table border=\"1\" class=\"dataframe\">\n",
       "  <thead>\n",
       "    <tr style=\"text-align: right;\">\n",
       "      <th></th>\n",
       "      <th>Age</th>\n",
       "      <th>Edu</th>\n",
       "      <th>Years Employed</th>\n",
       "      <th>Income</th>\n",
       "      <th>DebtIncomeRatio</th>\n",
       "    </tr>\n",
       "  </thead>\n",
       "  <tbody>\n",
       "    <tr>\n",
       "      <th>0</th>\n",
       "      <td>41</td>\n",
       "      <td>2</td>\n",
       "      <td>6</td>\n",
       "      <td>19</td>\n",
       "      <td>6.3</td>\n",
       "    </tr>\n",
       "    <tr>\n",
       "      <th>1</th>\n",
       "      <td>47</td>\n",
       "      <td>1</td>\n",
       "      <td>26</td>\n",
       "      <td>100</td>\n",
       "      <td>12.8</td>\n",
       "    </tr>\n",
       "    <tr>\n",
       "      <th>2</th>\n",
       "      <td>33</td>\n",
       "      <td>2</td>\n",
       "      <td>10</td>\n",
       "      <td>57</td>\n",
       "      <td>20.9</td>\n",
       "    </tr>\n",
       "    <tr>\n",
       "      <th>3</th>\n",
       "      <td>29</td>\n",
       "      <td>2</td>\n",
       "      <td>4</td>\n",
       "      <td>19</td>\n",
       "      <td>6.3</td>\n",
       "    </tr>\n",
       "    <tr>\n",
       "      <th>4</th>\n",
       "      <td>47</td>\n",
       "      <td>1</td>\n",
       "      <td>31</td>\n",
       "      <td>253</td>\n",
       "      <td>7.2</td>\n",
       "    </tr>\n",
       "  </tbody>\n",
       "</table>\n",
       "</div>"
      ],
      "text/plain": [
       "   Age  Edu  Years Employed  Income  DebtIncomeRatio\n",
       "0   41    2               6      19              6.3\n",
       "1   47    1              26     100             12.8\n",
       "2   33    2              10      57             20.9\n",
       "3   29    2               4      19              6.3\n",
       "4   47    1              31     253              7.2"
      ]
     },
     "execution_count": 6,
     "metadata": {},
     "output_type": "execute_result"
    }
   ],
   "source": [
    "df=df.drop([\"Customer Id\",\"Card Debt\",\"Other Debt\",\"Defaulted\"], axis = 1)\n",
    "df.head()"
   ]
  },
  {
   "cell_type": "markdown",
   "id": "29b4e37f",
   "metadata": {},
   "source": [
    "Veri setimizde bulunan gereksiz gördüğüm sütunları veri setinden çıkardım."
   ]
  },
  {
   "cell_type": "code",
   "execution_count": 7,
   "id": "1fb68c2d",
   "metadata": {},
   "outputs": [
    {
     "name": "stdout",
     "output_type": "stream",
     "text": [
      "<class 'pandas.core.frame.DataFrame'>\n",
      "RangeIndex: 850 entries, 0 to 849\n",
      "Data columns (total 5 columns):\n",
      " #   Column           Non-Null Count  Dtype  \n",
      "---  ------           --------------  -----  \n",
      " 0   Yas              850 non-null    int64  \n",
      " 1   Egitim           850 non-null    int64  \n",
      " 2   CalısmaYili      850 non-null    int64  \n",
      " 3   Gelir            850 non-null    int64  \n",
      " 4   GelirGiderOrani  850 non-null    float64\n",
      "dtypes: float64(1), int64(4)\n",
      "memory usage: 33.3 KB\n"
     ]
    },
    {
     "data": {
      "text/html": [
       "<div>\n",
       "<style scoped>\n",
       "    .dataframe tbody tr th:only-of-type {\n",
       "        vertical-align: middle;\n",
       "    }\n",
       "\n",
       "    .dataframe tbody tr th {\n",
       "        vertical-align: top;\n",
       "    }\n",
       "\n",
       "    .dataframe thead th {\n",
       "        text-align: right;\n",
       "    }\n",
       "</style>\n",
       "<table border=\"1\" class=\"dataframe\">\n",
       "  <thead>\n",
       "    <tr style=\"text-align: right;\">\n",
       "      <th></th>\n",
       "      <th>Yas</th>\n",
       "      <th>Egitim</th>\n",
       "      <th>CalısmaYili</th>\n",
       "      <th>Gelir</th>\n",
       "      <th>GelirGiderOrani</th>\n",
       "    </tr>\n",
       "  </thead>\n",
       "  <tbody>\n",
       "    <tr>\n",
       "      <th>0</th>\n",
       "      <td>41</td>\n",
       "      <td>2</td>\n",
       "      <td>6</td>\n",
       "      <td>19</td>\n",
       "      <td>6.3</td>\n",
       "    </tr>\n",
       "    <tr>\n",
       "      <th>1</th>\n",
       "      <td>47</td>\n",
       "      <td>1</td>\n",
       "      <td>26</td>\n",
       "      <td>100</td>\n",
       "      <td>12.8</td>\n",
       "    </tr>\n",
       "    <tr>\n",
       "      <th>2</th>\n",
       "      <td>33</td>\n",
       "      <td>2</td>\n",
       "      <td>10</td>\n",
       "      <td>57</td>\n",
       "      <td>20.9</td>\n",
       "    </tr>\n",
       "    <tr>\n",
       "      <th>3</th>\n",
       "      <td>29</td>\n",
       "      <td>2</td>\n",
       "      <td>4</td>\n",
       "      <td>19</td>\n",
       "      <td>6.3</td>\n",
       "    </tr>\n",
       "    <tr>\n",
       "      <th>4</th>\n",
       "      <td>47</td>\n",
       "      <td>1</td>\n",
       "      <td>31</td>\n",
       "      <td>253</td>\n",
       "      <td>7.2</td>\n",
       "    </tr>\n",
       "  </tbody>\n",
       "</table>\n",
       "</div>"
      ],
      "text/plain": [
       "   Yas  Egitim  CalısmaYili  Gelir  GelirGiderOrani\n",
       "0   41       2            6     19              6.3\n",
       "1   47       1           26    100             12.8\n",
       "2   33       2           10     57             20.9\n",
       "3   29       2            4     19              6.3\n",
       "4   47       1           31    253              7.2"
      ]
     },
     "execution_count": 7,
     "metadata": {},
     "output_type": "execute_result"
    }
   ],
   "source": [
    "df = df.rename(columns={'Age': 'Yas', \n",
    "                        'Edu': 'Egitim',\n",
    "                        'Years Employed': 'CalısmaYili',\n",
    "                        'Income': 'Gelir',\n",
    "                        'DebtIncomeRatio': 'GelirGiderOrani'\n",
    "                       })\n",
    "df.info()\n",
    "df.head()"
   ]
  },
  {
   "cell_type": "markdown",
   "id": "115f9e86",
   "metadata": {},
   "source": [
    "Veri setimizi daha iyi anlayabilmek için sütun isimlerini Türkçe hale getirdim ve veri setimizin son halinin info, \n",
    "ilk 5 verisini ekrana yazdırdık."
   ]
  },
  {
   "cell_type": "markdown",
   "id": "b101ade0",
   "metadata": {},
   "source": [
    "## 2. Veri Setinin Betimlenmesi"
   ]
  },
  {
   "cell_type": "code",
   "execution_count": 8,
   "id": "dc142905",
   "metadata": {},
   "outputs": [
    {
     "name": "stdout",
     "output_type": "stream",
     "text": [
      "\n",
      "\n"
     ]
    },
    {
     "data": {
      "text/html": [
       "<div>\n",
       "<style scoped>\n",
       "    .dataframe tbody tr th:only-of-type {\n",
       "        vertical-align: middle;\n",
       "    }\n",
       "\n",
       "    .dataframe tbody tr th {\n",
       "        vertical-align: top;\n",
       "    }\n",
       "\n",
       "    .dataframe thead th {\n",
       "        text-align: right;\n",
       "    }\n",
       "</style>\n",
       "<table border=\"1\" class=\"dataframe\">\n",
       "  <thead>\n",
       "    <tr style=\"text-align: right;\">\n",
       "      <th></th>\n",
       "      <th>Variable</th>\n",
       "      <th>N</th>\n",
       "      <th>Mean</th>\n",
       "      <th>SD</th>\n",
       "      <th>SE</th>\n",
       "      <th>95% Conf.</th>\n",
       "      <th>Interval</th>\n",
       "    </tr>\n",
       "  </thead>\n",
       "  <tbody>\n",
       "    <tr>\n",
       "      <th>0</th>\n",
       "      <td>Yas</td>\n",
       "      <td>850.0</td>\n",
       "      <td>35.0294</td>\n",
       "      <td>8.0414</td>\n",
       "      <td>0.2758</td>\n",
       "      <td>34.4880</td>\n",
       "      <td>35.5708</td>\n",
       "    </tr>\n",
       "    <tr>\n",
       "      <th>1</th>\n",
       "      <td>Egitim</td>\n",
       "      <td>850.0</td>\n",
       "      <td>1.7106</td>\n",
       "      <td>0.9278</td>\n",
       "      <td>0.0318</td>\n",
       "      <td>1.6481</td>\n",
       "      <td>1.7730</td>\n",
       "    </tr>\n",
       "    <tr>\n",
       "      <th>2</th>\n",
       "      <td>CalısmaYili</td>\n",
       "      <td>850.0</td>\n",
       "      <td>8.5659</td>\n",
       "      <td>6.7779</td>\n",
       "      <td>0.2325</td>\n",
       "      <td>8.1096</td>\n",
       "      <td>9.0222</td>\n",
       "    </tr>\n",
       "    <tr>\n",
       "      <th>3</th>\n",
       "      <td>Gelir</td>\n",
       "      <td>850.0</td>\n",
       "      <td>46.6753</td>\n",
       "      <td>38.5431</td>\n",
       "      <td>1.3220</td>\n",
       "      <td>44.0805</td>\n",
       "      <td>49.2701</td>\n",
       "    </tr>\n",
       "    <tr>\n",
       "      <th>4</th>\n",
       "      <td>GelirGiderOrani</td>\n",
       "      <td>850.0</td>\n",
       "      <td>10.1716</td>\n",
       "      <td>6.7194</td>\n",
       "      <td>0.2305</td>\n",
       "      <td>9.7193</td>\n",
       "      <td>10.6240</td>\n",
       "    </tr>\n",
       "  </tbody>\n",
       "</table>\n",
       "</div>"
      ],
      "text/plain": [
       "          Variable      N     Mean       SD      SE  95% Conf.  Interval\n",
       "0              Yas  850.0  35.0294   8.0414  0.2758    34.4880   35.5708\n",
       "1           Egitim  850.0   1.7106   0.9278  0.0318     1.6481    1.7730\n",
       "2      CalısmaYili  850.0   8.5659   6.7779  0.2325     8.1096    9.0222\n",
       "3            Gelir  850.0  46.6753  38.5431  1.3220    44.0805   49.2701\n",
       "4  GelirGiderOrani  850.0  10.1716   6.7194  0.2305     9.7193   10.6240"
      ]
     },
     "execution_count": 8,
     "metadata": {},
     "output_type": "execute_result"
    }
   ],
   "source": [
    "rp.summary_cont(df[[\"Yas\",\"Egitim\",\"CalısmaYili\",\"Gelir\",\"GelirGiderOrani\"]])"
   ]
  },
  {
   "cell_type": "markdown",
   "id": "4f9df2f9",
   "metadata": {},
   "source": [
    "Veri setimizde object veya categoric değişken tipinde bir sütun bulunmuyor. "
   ]
  },
  {
   "cell_type": "code",
   "execution_count": 9,
   "id": "9024542c",
   "metadata": {},
   "outputs": [
    {
     "data": {
      "text/html": [
       "<div>\n",
       "<style scoped>\n",
       "    .dataframe tbody tr th:only-of-type {\n",
       "        vertical-align: middle;\n",
       "    }\n",
       "\n",
       "    .dataframe tbody tr th {\n",
       "        vertical-align: top;\n",
       "    }\n",
       "\n",
       "    .dataframe thead th {\n",
       "        text-align: right;\n",
       "    }\n",
       "</style>\n",
       "<table border=\"1\" class=\"dataframe\">\n",
       "  <thead>\n",
       "    <tr style=\"text-align: right;\">\n",
       "      <th></th>\n",
       "      <th>count</th>\n",
       "      <th>mean</th>\n",
       "      <th>std</th>\n",
       "      <th>min</th>\n",
       "      <th>25%</th>\n",
       "      <th>50%</th>\n",
       "      <th>75%</th>\n",
       "      <th>max</th>\n",
       "    </tr>\n",
       "  </thead>\n",
       "  <tbody>\n",
       "    <tr>\n",
       "      <th>Yas</th>\n",
       "      <td>850.0</td>\n",
       "      <td>35.029412</td>\n",
       "      <td>8.041432</td>\n",
       "      <td>20.0</td>\n",
       "      <td>29.0</td>\n",
       "      <td>34.0</td>\n",
       "      <td>41.00</td>\n",
       "      <td>56.0</td>\n",
       "    </tr>\n",
       "    <tr>\n",
       "      <th>Egitim</th>\n",
       "      <td>850.0</td>\n",
       "      <td>1.710588</td>\n",
       "      <td>0.927784</td>\n",
       "      <td>1.0</td>\n",
       "      <td>1.0</td>\n",
       "      <td>1.0</td>\n",
       "      <td>2.00</td>\n",
       "      <td>5.0</td>\n",
       "    </tr>\n",
       "    <tr>\n",
       "      <th>CalısmaYili</th>\n",
       "      <td>850.0</td>\n",
       "      <td>8.565882</td>\n",
       "      <td>6.777884</td>\n",
       "      <td>0.0</td>\n",
       "      <td>3.0</td>\n",
       "      <td>7.0</td>\n",
       "      <td>13.00</td>\n",
       "      <td>33.0</td>\n",
       "    </tr>\n",
       "    <tr>\n",
       "      <th>Gelir</th>\n",
       "      <td>850.0</td>\n",
       "      <td>46.675294</td>\n",
       "      <td>38.543054</td>\n",
       "      <td>13.0</td>\n",
       "      <td>24.0</td>\n",
       "      <td>35.0</td>\n",
       "      <td>55.75</td>\n",
       "      <td>446.0</td>\n",
       "    </tr>\n",
       "    <tr>\n",
       "      <th>GelirGiderOrani</th>\n",
       "      <td>850.0</td>\n",
       "      <td>10.171647</td>\n",
       "      <td>6.719441</td>\n",
       "      <td>0.1</td>\n",
       "      <td>5.1</td>\n",
       "      <td>8.7</td>\n",
       "      <td>13.80</td>\n",
       "      <td>41.3</td>\n",
       "    </tr>\n",
       "  </tbody>\n",
       "</table>\n",
       "</div>"
      ],
      "text/plain": [
       "                 count       mean        std   min   25%   50%    75%    max\n",
       "Yas              850.0  35.029412   8.041432  20.0  29.0  34.0  41.00   56.0\n",
       "Egitim           850.0   1.710588   0.927784   1.0   1.0   1.0   2.00    5.0\n",
       "CalısmaYili      850.0   8.565882   6.777884   0.0   3.0   7.0  13.00   33.0\n",
       "Gelir            850.0  46.675294  38.543054  13.0  24.0  35.0  55.75  446.0\n",
       "GelirGiderOrani  850.0  10.171647   6.719441   0.1   5.1   8.7  13.80   41.3"
      ]
     },
     "execution_count": 9,
     "metadata": {},
     "output_type": "execute_result"
    }
   ],
   "source": [
    "df.describe().T "
   ]
  },
  {
   "cell_type": "markdown",
   "id": "616ff907",
   "metadata": {},
   "source": [
    "## 3. Ayrık ve Eksik Değerlerin İncelenmesi"
   ]
  },
  {
   "cell_type": "code",
   "execution_count": 10,
   "id": "b23ea0a2",
   "metadata": {},
   "outputs": [
    {
     "data": {
      "text/html": [
       "<div>\n",
       "<style scoped>\n",
       "    .dataframe tbody tr th:only-of-type {\n",
       "        vertical-align: middle;\n",
       "    }\n",
       "\n",
       "    .dataframe tbody tr th {\n",
       "        vertical-align: top;\n",
       "    }\n",
       "\n",
       "    .dataframe thead th {\n",
       "        text-align: right;\n",
       "    }\n",
       "</style>\n",
       "<table border=\"1\" class=\"dataframe\">\n",
       "  <thead>\n",
       "    <tr style=\"text-align: right;\">\n",
       "      <th></th>\n",
       "      <th>Yas</th>\n",
       "      <th>Egitim</th>\n",
       "      <th>CalısmaYili</th>\n",
       "      <th>Gelir</th>\n",
       "      <th>GelirGiderOrani</th>\n",
       "    </tr>\n",
       "  </thead>\n",
       "  <tbody>\n",
       "    <tr>\n",
       "      <th>0</th>\n",
       "      <td>41</td>\n",
       "      <td>2</td>\n",
       "      <td>6</td>\n",
       "      <td>19</td>\n",
       "      <td>6.3</td>\n",
       "    </tr>\n",
       "    <tr>\n",
       "      <th>1</th>\n",
       "      <td>47</td>\n",
       "      <td>1</td>\n",
       "      <td>26</td>\n",
       "      <td>100</td>\n",
       "      <td>12.8</td>\n",
       "    </tr>\n",
       "    <tr>\n",
       "      <th>2</th>\n",
       "      <td>33</td>\n",
       "      <td>2</td>\n",
       "      <td>10</td>\n",
       "      <td>57</td>\n",
       "      <td>20.9</td>\n",
       "    </tr>\n",
       "    <tr>\n",
       "      <th>3</th>\n",
       "      <td>29</td>\n",
       "      <td>2</td>\n",
       "      <td>4</td>\n",
       "      <td>19</td>\n",
       "      <td>6.3</td>\n",
       "    </tr>\n",
       "    <tr>\n",
       "      <th>4</th>\n",
       "      <td>47</td>\n",
       "      <td>1</td>\n",
       "      <td>31</td>\n",
       "      <td>253</td>\n",
       "      <td>7.2</td>\n",
       "    </tr>\n",
       "  </tbody>\n",
       "</table>\n",
       "</div>"
      ],
      "text/plain": [
       "   Yas  Egitim  CalısmaYili  Gelir  GelirGiderOrani\n",
       "0   41       2            6     19              6.3\n",
       "1   47       1           26    100             12.8\n",
       "2   33       2           10     57             20.9\n",
       "3   29       2            4     19              6.3\n",
       "4   47       1           31    253              7.2"
      ]
     },
     "execution_count": 10,
     "metadata": {},
     "output_type": "execute_result"
    }
   ],
   "source": [
    "tf = df.select_dtypes(include = ['float64', 'int64'])\n",
    "tf = tf.dropna()\n",
    "tf.head()"
   ]
  },
  {
   "cell_type": "code",
   "execution_count": 11,
   "id": "48523b77",
   "metadata": {},
   "outputs": [
    {
     "data": {
      "text/plain": [
       "0     6.3\n",
       "1    12.8\n",
       "2    20.9\n",
       "3     6.3\n",
       "4     7.2\n",
       "Name: GelirGiderOrani, dtype: float64"
      ]
     },
     "execution_count": 11,
     "metadata": {},
     "output_type": "execute_result"
    }
   ],
   "source": [
    "df_table = tf[\"GelirGiderOrani\"]\n",
    "df_table.head()"
   ]
  },
  {
   "cell_type": "code",
   "execution_count": 12,
   "id": "f1e63b15",
   "metadata": {},
   "outputs": [
    {
     "data": {
      "image/png": "[encoded data removed]",
      "text/plain": [
       "<Figure size 432x288 with 1 Axes>"
      ]
     },
     "metadata": {
      "needs_background": "light"
     },
     "output_type": "display_data"
    }
   ],
   "source": [
    "sns.boxplot(x =df_table);"
   ]
  },
  {
   "cell_type": "code",
   "execution_count": 13,
   "id": "28c43ec0",
   "metadata": {},
   "outputs": [],
   "source": [
    "Q1 = df_table.quantile(0.25)\n",
    "Q3 = df_table.quantile(0.75)\n",
    "IQR = Q3-Q1"
   ]
  },
  {
   "cell_type": "code",
   "execution_count": 14,
   "id": "3e1ae078",
   "metadata": {},
   "outputs": [],
   "source": [
    "alt_sinir = Q1- 1.5*IQR\n",
    "ust_sinir = Q3 + 1.5*IQR"
   ]
  },
  {
   "cell_type": "code",
   "execution_count": 15,
   "id": "7b409426",
   "metadata": {},
   "outputs": [
    {
     "name": "stdout",
     "output_type": "stream",
     "text": [
      "-7.950000000000001\n",
      "26.85\n"
     ]
    }
   ],
   "source": [
    "print(alt_sinir)\n",
    "print(ust_sinir)"
   ]
  },
  {
   "cell_type": "code",
   "execution_count": 16,
   "id": "8a0e1ee2",
   "metadata": {},
   "outputs": [
    {
     "data": {
      "text/plain": [
       "51     32.5\n",
       "81     29.7\n",
       "105    30.1\n",
       "175    28.9\n",
       "281    32.5\n",
       "307    32.3\n",
       "374    28.5\n",
       "393    30.7\n",
       "424    28.2\n",
       "456    27.7\n",
       "479    28.9\n",
       "497    41.3\n",
       "568    30.6\n",
       "580    27.1\n",
       "585    35.3\n",
       "594    33.3\n",
       "657    36.6\n",
       "715    27.7\n",
       "776    32.4\n",
       "826    30.8\n",
       "847    33.4\n",
       "Name: GelirGiderOrani, dtype: float64"
      ]
     },
     "execution_count": 16,
     "metadata": {},
     "output_type": "execute_result"
    }
   ],
   "source": [
    "aykiri_tf = (df_table < alt_sinir) | (df_table > ust_sinir)\n",
    "df_table[aykiri_tf]"
   ]
  },
  {
   "cell_type": "code",
   "execution_count": 17,
   "id": "d549679b",
   "metadata": {},
   "outputs": [
    {
     "data": {
      "text/plain": [
       "575    24.20\n",
       "576    18.10\n",
       "577     6.10\n",
       "578     9.70\n",
       "579    11.20\n",
       "580    26.85\n",
       "581     2.50\n",
       "582     8.60\n",
       "583     5.00\n",
       "584     4.50\n",
       "585    26.85\n",
       "586    17.00\n",
       "587     3.70\n",
       "588     4.10\n",
       "589    15.00\n",
       "590     9.00\n",
       "591    13.00\n",
       "592     5.90\n",
       "593    19.50\n",
       "594    26.85\n",
       "Name: GelirGiderOrani, dtype: float64"
      ]
     },
     "execution_count": 17,
     "metadata": {},
     "output_type": "execute_result"
    }
   ],
   "source": [
    "aykiri_alt = (df_table < alt_sinir) \n",
    "aykiri_ust= (df_table > ust_sinir)\n",
    "df_table[aykiri_alt] = alt_sinir\n",
    "df_table[aykiri_ust] = ust_sinir\n",
    "df_table[575:595]"
   ]
  },
  {
   "cell_type": "code",
   "execution_count": 18,
   "id": "74703566",
   "metadata": {},
   "outputs": [
    {
     "data": {
      "text/html": [
       "<div>\n",
       "<style scoped>\n",
       "    .dataframe tbody tr th:only-of-type {\n",
       "        vertical-align: middle;\n",
       "    }\n",
       "\n",
       "    .dataframe tbody tr th {\n",
       "        vertical-align: top;\n",
       "    }\n",
       "\n",
       "    .dataframe thead th {\n",
       "        text-align: right;\n",
       "    }\n",
       "</style>\n",
       "<table border=\"1\" class=\"dataframe\">\n",
       "  <thead>\n",
       "    <tr style=\"text-align: right;\">\n",
       "      <th></th>\n",
       "      <th>Yas</th>\n",
       "      <th>Egitim</th>\n",
       "      <th>CalısmaYili</th>\n",
       "      <th>Gelir</th>\n",
       "      <th>GelirGiderOrani</th>\n",
       "    </tr>\n",
       "  </thead>\n",
       "  <tbody>\n",
       "    <tr>\n",
       "      <th>575</th>\n",
       "      <td>28</td>\n",
       "      <td>4</td>\n",
       "      <td>0</td>\n",
       "      <td>29</td>\n",
       "      <td>24.20</td>\n",
       "    </tr>\n",
       "    <tr>\n",
       "      <th>576</th>\n",
       "      <td>29</td>\n",
       "      <td>1</td>\n",
       "      <td>6</td>\n",
       "      <td>21</td>\n",
       "      <td>18.10</td>\n",
       "    </tr>\n",
       "    <tr>\n",
       "      <th>577</th>\n",
       "      <td>29</td>\n",
       "      <td>2</td>\n",
       "      <td>3</td>\n",
       "      <td>26</td>\n",
       "      <td>6.10</td>\n",
       "    </tr>\n",
       "    <tr>\n",
       "      <th>578</th>\n",
       "      <td>24</td>\n",
       "      <td>2</td>\n",
       "      <td>2</td>\n",
       "      <td>26</td>\n",
       "      <td>9.70</td>\n",
       "    </tr>\n",
       "    <tr>\n",
       "      <th>579</th>\n",
       "      <td>53</td>\n",
       "      <td>1</td>\n",
       "      <td>9</td>\n",
       "      <td>50</td>\n",
       "      <td>11.20</td>\n",
       "    </tr>\n",
       "    <tr>\n",
       "      <th>580</th>\n",
       "      <td>39</td>\n",
       "      <td>1</td>\n",
       "      <td>19</td>\n",
       "      <td>60</td>\n",
       "      <td>26.85</td>\n",
       "    </tr>\n",
       "    <tr>\n",
       "      <th>581</th>\n",
       "      <td>28</td>\n",
       "      <td>4</td>\n",
       "      <td>2</td>\n",
       "      <td>41</td>\n",
       "      <td>2.50</td>\n",
       "    </tr>\n",
       "    <tr>\n",
       "      <th>582</th>\n",
       "      <td>38</td>\n",
       "      <td>1</td>\n",
       "      <td>16</td>\n",
       "      <td>37</td>\n",
       "      <td>8.60</td>\n",
       "    </tr>\n",
       "    <tr>\n",
       "      <th>583</th>\n",
       "      <td>39</td>\n",
       "      <td>1</td>\n",
       "      <td>12</td>\n",
       "      <td>46</td>\n",
       "      <td>5.00</td>\n",
       "    </tr>\n",
       "    <tr>\n",
       "      <th>584</th>\n",
       "      <td>38</td>\n",
       "      <td>1</td>\n",
       "      <td>18</td>\n",
       "      <td>44</td>\n",
       "      <td>4.50</td>\n",
       "    </tr>\n",
       "    <tr>\n",
       "      <th>585</th>\n",
       "      <td>34</td>\n",
       "      <td>4</td>\n",
       "      <td>6</td>\n",
       "      <td>27</td>\n",
       "      <td>26.85</td>\n",
       "    </tr>\n",
       "    <tr>\n",
       "      <th>586</th>\n",
       "      <td>31</td>\n",
       "      <td>1</td>\n",
       "      <td>11</td>\n",
       "      <td>45</td>\n",
       "      <td>17.00</td>\n",
       "    </tr>\n",
       "    <tr>\n",
       "      <th>587</th>\n",
       "      <td>40</td>\n",
       "      <td>1</td>\n",
       "      <td>2</td>\n",
       "      <td>32</td>\n",
       "      <td>3.70</td>\n",
       "    </tr>\n",
       "    <tr>\n",
       "      <th>588</th>\n",
       "      <td>32</td>\n",
       "      <td>1</td>\n",
       "      <td>8</td>\n",
       "      <td>26</td>\n",
       "      <td>4.10</td>\n",
       "    </tr>\n",
       "    <tr>\n",
       "      <th>589</th>\n",
       "      <td>35</td>\n",
       "      <td>2</td>\n",
       "      <td>12</td>\n",
       "      <td>64</td>\n",
       "      <td>15.00</td>\n",
       "    </tr>\n",
       "    <tr>\n",
       "      <th>590</th>\n",
       "      <td>29</td>\n",
       "      <td>2</td>\n",
       "      <td>3</td>\n",
       "      <td>32</td>\n",
       "      <td>9.00</td>\n",
       "    </tr>\n",
       "    <tr>\n",
       "      <th>591</th>\n",
       "      <td>44</td>\n",
       "      <td>2</td>\n",
       "      <td>12</td>\n",
       "      <td>86</td>\n",
       "      <td>13.00</td>\n",
       "    </tr>\n",
       "    <tr>\n",
       "      <th>592</th>\n",
       "      <td>48</td>\n",
       "      <td>2</td>\n",
       "      <td>9</td>\n",
       "      <td>44</td>\n",
       "      <td>5.90</td>\n",
       "    </tr>\n",
       "    <tr>\n",
       "      <th>593</th>\n",
       "      <td>41</td>\n",
       "      <td>2</td>\n",
       "      <td>6</td>\n",
       "      <td>36</td>\n",
       "      <td>19.50</td>\n",
       "    </tr>\n",
       "    <tr>\n",
       "      <th>594</th>\n",
       "      <td>28</td>\n",
       "      <td>1</td>\n",
       "      <td>0</td>\n",
       "      <td>28</td>\n",
       "      <td>26.85</td>\n",
       "    </tr>\n",
       "  </tbody>\n",
       "</table>\n",
       "</div>"
      ],
      "text/plain": [
       "     Yas  Egitim  CalısmaYili  Gelir  GelirGiderOrani\n",
       "575   28       4            0     29            24.20\n",
       "576   29       1            6     21            18.10\n",
       "577   29       2            3     26             6.10\n",
       "578   24       2            2     26             9.70\n",
       "579   53       1            9     50            11.20\n",
       "580   39       1           19     60            26.85\n",
       "581   28       4            2     41             2.50\n",
       "582   38       1           16     37             8.60\n",
       "583   39       1           12     46             5.00\n",
       "584   38       1           18     44             4.50\n",
       "585   34       4            6     27            26.85\n",
       "586   31       1           11     45            17.00\n",
       "587   40       1            2     32             3.70\n",
       "588   32       1            8     26             4.10\n",
       "589   35       2           12     64            15.00\n",
       "590   29       2            3     32             9.00\n",
       "591   44       2           12     86            13.00\n",
       "592   48       2            9     44             5.90\n",
       "593   41       2            6     36            19.50\n",
       "594   28       1            0     28            26.85"
      ]
     },
     "execution_count": 18,
     "metadata": {},
     "output_type": "execute_result"
    }
   ],
   "source": [
    "df=df.drop([\"GelirGiderOrani\"], axis = 1)\n",
    "df[\"GelirGiderOrani\"]=df_table\n",
    "df[575:595]"
   ]
  },
  {
   "cell_type": "markdown",
   "id": "0fe075db",
   "metadata": {},
   "source": [
    "Veri setimde aykırı değerler için baskılama yöntemi kullanarak gelir gider oranının fazla veya az olan değerleri minumum ve maximum değerlere atadık. Bu sayede veri kaybının önüne geçtik ve daha performanslı çalışacağını düşünüyorum."
   ]
  },
  {
   "cell_type": "code",
   "execution_count": 19,
   "id": "21c7710a",
   "metadata": {},
   "outputs": [
    {
     "data": {
      "text/plain": [
       "Yas                0\n",
       "Egitim             0\n",
       "CalısmaYili        0\n",
       "Gelir              0\n",
       "GelirGiderOrani    0\n",
       "dtype: int64"
      ]
     },
     "execution_count": 19,
     "metadata": {},
     "output_type": "execute_result"
    }
   ],
   "source": [
    "df.isnull().sum()"
   ]
  },
  {
   "cell_type": "code",
   "execution_count": 20,
   "id": "35fea6ff",
   "metadata": {},
   "outputs": [
    {
     "data": {
      "text/plain": [
       "(850, 5)"
      ]
     },
     "execution_count": 20,
     "metadata": {},
     "output_type": "execute_result"
    }
   ],
   "source": [
    "df.shape"
   ]
  },
  {
   "cell_type": "code",
   "execution_count": 87,
   "id": "989069d2",
   "metadata": {},
   "outputs": [
    {
     "data": {
      "text/html": [
       "<div>\n",
       "<style scoped>\n",
       "    .dataframe tbody tr th:only-of-type {\n",
       "        vertical-align: middle;\n",
       "    }\n",
       "\n",
       "    .dataframe tbody tr th {\n",
       "        vertical-align: top;\n",
       "    }\n",
       "\n",
       "    .dataframe thead th {\n",
       "        text-align: right;\n",
       "    }\n",
       "</style>\n",
       "<table border=\"1\" class=\"dataframe\">\n",
       "  <thead>\n",
       "    <tr style=\"text-align: right;\">\n",
       "      <th></th>\n",
       "      <th>Yas</th>\n",
       "      <th>Egitim</th>\n",
       "      <th>CalısmaYili</th>\n",
       "      <th>Gelir</th>\n",
       "      <th>GelirGiderOrani</th>\n",
       "    </tr>\n",
       "  </thead>\n",
       "  <tbody>\n",
       "    <tr>\n",
       "      <th>0</th>\n",
       "      <td>41</td>\n",
       "      <td>2</td>\n",
       "      <td>6</td>\n",
       "      <td>19</td>\n",
       "      <td>6.3</td>\n",
       "    </tr>\n",
       "    <tr>\n",
       "      <th>1</th>\n",
       "      <td>47</td>\n",
       "      <td>1</td>\n",
       "      <td>26</td>\n",
       "      <td>100</td>\n",
       "      <td>12.8</td>\n",
       "    </tr>\n",
       "    <tr>\n",
       "      <th>2</th>\n",
       "      <td>33</td>\n",
       "      <td>2</td>\n",
       "      <td>10</td>\n",
       "      <td>57</td>\n",
       "      <td>20.9</td>\n",
       "    </tr>\n",
       "    <tr>\n",
       "      <th>3</th>\n",
       "      <td>29</td>\n",
       "      <td>2</td>\n",
       "      <td>4</td>\n",
       "      <td>19</td>\n",
       "      <td>6.3</td>\n",
       "    </tr>\n",
       "    <tr>\n",
       "      <th>4</th>\n",
       "      <td>47</td>\n",
       "      <td>1</td>\n",
       "      <td>31</td>\n",
       "      <td>253</td>\n",
       "      <td>7.2</td>\n",
       "    </tr>\n",
       "  </tbody>\n",
       "</table>\n",
       "</div>"
      ],
      "text/plain": [
       "   Yas  Egitim  CalısmaYili  Gelir  GelirGiderOrani\n",
       "0   41       2            6     19              6.3\n",
       "1   47       1           26    100             12.8\n",
       "2   33       2           10     57             20.9\n",
       "3   29       2            4     19              6.3\n",
       "4   47       1           31    253              7.2"
      ]
     },
     "execution_count": 87,
     "metadata": {},
     "output_type": "execute_result"
    }
   ],
   "source": [
    "df.head()"
   ]
  },
  {
   "cell_type": "markdown",
   "id": "477de3ce",
   "metadata": {},
   "source": [
    "Veri setimizde eksik veri bulunmamaktadır ve makine öğrenmesinden önceki son halini ekrana bastırdık."
   ]
  },
  {
   "cell_type": "markdown",
   "id": "18069705",
   "metadata": {},
   "source": [
    "# Makine Öğrenmesi"
   ]
  },
  {
   "cell_type": "markdown",
   "id": "fed962f6",
   "metadata": {},
   "source": [
    "## 1. Doğrusal Olmayan Regresyon"
   ]
  },
  {
   "cell_type": "markdown",
   "id": "3faea4f0",
   "metadata": {},
   "source": [
    "Veri setim için doğrusal olmayan regresyon seçme sebebim GelirGiderOranının herhangi bir veriyle doğrusal bir bağlantısı olmamasıdır."
   ]
  },
  {
   "cell_type": "code",
   "execution_count": 21,
   "id": "5285e5b4",
   "metadata": {},
   "outputs": [
    {
     "name": "stdout",
     "output_type": "stream",
     "text": [
      "<class 'pandas.core.frame.DataFrame'>\n",
      "RangeIndex: 850 entries, 0 to 849\n",
      "Data columns (total 5 columns):\n",
      " #   Column           Non-Null Count  Dtype  \n",
      "---  ------           --------------  -----  \n",
      " 0   Yas              850 non-null    int64  \n",
      " 1   Egitim           850 non-null    int64  \n",
      " 2   CalısmaYili      850 non-null    int64  \n",
      " 3   Gelir            850 non-null    int64  \n",
      " 4   GelirGiderOrani  850 non-null    float64\n",
      "dtypes: float64(1), int64(4)\n",
      "memory usage: 33.3 KB\n"
     ]
    }
   ],
   "source": [
    "df.info()"
   ]
  },
  {
   "cell_type": "code",
   "execution_count": 22,
   "id": "641e71bd",
   "metadata": {},
   "outputs": [],
   "source": [
    "X = df.drop(df.columns[[4]], axis = 1)\n",
    "y = df[\"GelirGiderOrani\"]\n",
    "X_train, X_test, y_train, y_test = train_test_split(X, y, test_size=0.25, random_state=42)\n",
    "training = df.copy()"
   ]
  },
  {
   "cell_type": "markdown",
   "id": "afd5c6e4",
   "metadata": {},
   "source": [
    "### 1.1. K En Yakın Komşu (KNN)"
   ]
  },
  {
   "cell_type": "code",
   "execution_count": 23,
   "id": "668391fa",
   "metadata": {},
   "outputs": [],
   "source": [
    "knn_model = KNeighborsRegressor().fit(X_train, y_train)"
   ]
  },
  {
   "cell_type": "code",
   "execution_count": 24,
   "id": "724df3e3",
   "metadata": {},
   "outputs": [
    {
     "name": "stdout",
     "output_type": "stream",
     "text": [
      "test hatası: 7.262584092424026\n",
      "k = 1 için RMSE değeri:  0.49808109015549534\n",
      "k = 2 için RMSE değeri:  4.33864735502571\n",
      "k = 3 için RMSE değeri:  4.930043488468022\n",
      "k = 4 için RMSE değeri:  5.246500057487679\n",
      "k = 5 için RMSE değeri:  5.385261939204644\n",
      "k = 6 için RMSE değeri:  5.487766948457822\n",
      "k = 7 için RMSE değeri:  5.6273591470981295\n",
      "k = 8 için RMSE değeri:  5.745205639570588\n",
      "k = 9 için RMSE değeri:  5.832772310283831\n",
      "k = 10 için RMSE değeri:  5.937892361653849\n"
     ]
    }
   ],
   "source": [
    "y_pred = knn_model.predict(X_test)\n",
    "print(\"test hatası:\" , np.sqrt(mean_squared_error(y_test, y_pred)))\n",
    "RMSE = [] \n",
    "#cross validation yapmadan hatalara bir bakalim\n",
    "for k in range(10):\n",
    "    k = k+1\n",
    "    knn_model = KNeighborsRegressor(n_neighbors = k).fit(X_train, y_train)\n",
    "    y_pred = knn_model.predict(X_train) \n",
    "    rmse = np.sqrt(mean_squared_error(y_train,y_pred)) \n",
    "    RMSE.append(rmse) \n",
    "    print(\"k =\" , k , \"için RMSE değeri: \", rmse)"
   ]
  },
  {
   "cell_type": "code",
   "execution_count": 25,
   "id": "d1b6cc8d",
   "metadata": {},
   "outputs": [
    {
     "data": {
      "text/plain": [
       "GridSearchCV(cv=10, estimator=KNeighborsRegressor(),\n",
       "             param_grid={'n_neighbors': array([ 1,  2,  3,  4,  5,  6,  7,  8,  9, 10, 11, 12, 13, 14, 15, 16, 17,\n",
       "       18, 19, 20, 21, 22, 23, 24, 25, 26, 27, 28, 29])})"
      ]
     },
     "execution_count": 25,
     "metadata": {},
     "output_type": "execute_result"
    }
   ],
   "source": [
    "#GridSearchCV ile optimum k sayisinin belirlenmesi\n",
    "knn_params = {'n_neighbors': np.arange(1,30,1)}\n",
    "knn = KNeighborsRegressor()\n",
    "knn_cv_model = GridSearchCV(knn, knn_params, cv = 10)\n",
    "knn_cv_model.fit(X_train, y_train)"
   ]
  },
  {
   "cell_type": "code",
   "execution_count": 26,
   "id": "b26bc73b",
   "metadata": {},
   "outputs": [
    {
     "data": {
      "text/plain": [
       "21"
      ]
     },
     "execution_count": 26,
     "metadata": {},
     "output_type": "execute_result"
    }
   ],
   "source": [
    "knn_cv_model.best_params_[\"n_neighbors\"]"
   ]
  },
  {
   "cell_type": "code",
   "execution_count": 27,
   "id": "49c34bd1",
   "metadata": {},
   "outputs": [
    {
     "name": "stdout",
     "output_type": "stream",
     "text": [
      "k = 1 için RMSE değeri:  0.49808109015549534 RMSE_CV değeri:  8.626256576137829\n",
      "k = 2 için RMSE değeri:  4.33864735502571 RMSE_CV değeri:  7.396462210226356\n",
      "k = 3 için RMSE değeri:  4.930043488468022 RMSE_CV değeri:  7.006189168121409\n",
      "k = 4 için RMSE değeri:  5.246500057487679 RMSE_CV değeri:  6.754344923045589\n",
      "k = 5 için RMSE değeri:  5.385261939204644 RMSE_CV değeri:  6.650663814545668\n",
      "k = 6 için RMSE değeri:  5.487766948457822 RMSE_CV değeri:  6.645014137470314\n",
      "k = 7 için RMSE değeri:  5.6273591470981295 RMSE_CV değeri:  6.640487058581798\n",
      "k = 8 için RMSE değeri:  5.745205639570588 RMSE_CV değeri:  6.646129997842273\n",
      "k = 9 için RMSE değeri:  5.832772310283831 RMSE_CV değeri:  6.600367264824758\n",
      "k = 10 için RMSE değeri:  5.937892361653849 RMSE_CV değeri:  6.576811282544555\n"
     ]
    }
   ],
   "source": [
    "RMSE = [] \n",
    "RMSE_CV = []\n",
    "for k in range(10):\n",
    "    k = k+1\n",
    "    knn_model = KNeighborsRegressor(n_neighbors = k).fit(X_train, y_train)\n",
    "    y_pred = knn_model.predict(X_train) \n",
    "    rmse = np.sqrt(mean_squared_error(y_train,y_pred)) \n",
    "    rmse_cv = np.sqrt(-1*cross_val_score(knn_model, X_train, y_train, cv=10, \n",
    "                                         scoring = \"neg_mean_squared_error\").mean())\n",
    "    #cross validation olmadan hatalar\n",
    "    RMSE.append(rmse) \n",
    "    #cross validation kullanilarak alindan hatalar\n",
    "    RMSE_CV.append(rmse_cv)\n",
    "    print(\"k =\" , k , \"için RMSE değeri: \", rmse, \"RMSE_CV değeri: \", rmse_cv )"
   ]
  },
  {
   "cell_type": "code",
   "execution_count": 28,
   "id": "24d43d73",
   "metadata": {},
   "outputs": [
    {
     "data": {
      "text/plain": [
       "7.262584092424026"
      ]
     },
     "execution_count": 28,
     "metadata": {},
     "output_type": "execute_result"
    }
   ],
   "source": [
    "#k=5 için train degil test setini denediğimizde\n",
    "knn_tuned = KNeighborsRegressor(n_neighbors =5)\n",
    "knn_tuned.fit(X_train, y_train)\n",
    "np.sqrt(mean_squared_error(y_test, knn_tuned.predict(X_test)))"
   ]
  },
  {
   "cell_type": "code",
   "execution_count": 29,
   "id": "703c9558",
   "metadata": {},
   "outputs": [
    {
     "data": {
      "text/plain": [
       "KNeighborsRegressor(n_neighbors=21)"
      ]
     },
     "execution_count": 29,
     "metadata": {},
     "output_type": "execute_result"
    }
   ],
   "source": [
    "knn_tuned = KNeighborsRegressor(n_neighbors = knn_cv_model.best_params_[\"n_neighbors\"])\n",
    "knn_tuned.fit(X_train, y_train)"
   ]
  },
  {
   "cell_type": "code",
   "execution_count": 30,
   "id": "7c0e2da1",
   "metadata": {},
   "outputs": [
    {
     "data": {
      "text/plain": [
       "6.605606202335339"
      ]
     },
     "execution_count": 30,
     "metadata": {},
     "output_type": "execute_result"
    }
   ],
   "source": [
    "np.sqrt(mean_squared_error(y_test, knn_tuned.predict(X_test)))"
   ]
  },
  {
   "cell_type": "markdown",
   "id": "dc37c6b8",
   "metadata": {},
   "source": [
    "### 1.2. Çok Katmanlı Algılayıcı (Yapay Sinir Ağları YSA)\n"
   ]
  },
  {
   "cell_type": "code",
   "execution_count": 31,
   "id": "954f96a3",
   "metadata": {},
   "outputs": [
    {
     "name": "stdout",
     "output_type": "stream",
     "text": [
      "MLPRegressor(hidden_layer_sizes=(100, 20))\n",
      "4\n",
      "(100, 20)\n"
     ]
    }
   ],
   "source": [
    "#değişken standartlaştırması\n",
    "scaler = StandardScaler()\n",
    "scaler.fit(X_train)\n",
    "X_train_scaled = scaler.transform(X_train)\n",
    "X_test_scaled = scaler.transform(X_test)\n",
    "\n",
    "mlp_model = MLPRegressor(hidden_layer_sizes = (100,20)).fit(X_train_scaled, y_train)\n",
    "print(mlp_model)\n",
    "print(mlp_model.n_layers_)\n",
    "print(mlp_model.hidden_layer_sizes)"
   ]
  },
  {
   "cell_type": "markdown",
   "id": "08131668",
   "metadata": {},
   "source": [
    "#### 1.2.1. Tahmin"
   ]
  },
  {
   "cell_type": "code",
   "execution_count": 32,
   "id": "11eebbc1",
   "metadata": {},
   "outputs": [
    {
     "data": {
      "text/plain": [
       "6.507261836057683"
      ]
     },
     "execution_count": 32,
     "metadata": {},
     "output_type": "execute_result"
    }
   ],
   "source": [
    "y_pred = mlp_model.predict(X_test_scaled)\n",
    "np.sqrt(mean_squared_error(y_test, y_pred))"
   ]
  },
  {
   "cell_type": "markdown",
   "id": "9db7c85d",
   "metadata": {},
   "source": [
    "#### 1.2.2. Model Tuning"
   ]
  },
  {
   "cell_type": "code",
   "execution_count": 33,
   "id": "09471f71",
   "metadata": {},
   "outputs": [
    {
     "data": {
      "text/plain": [
       "GridSearchCV(cv=10, estimator=MLPRegressor(hidden_layer_sizes=(100, 20)),\n",
       "             param_grid={'activation': ['relu', 'logistic'],\n",
       "                         'alpha': [0.1, 0.01, 0.02, 0.005],\n",
       "                         'hidden_layer_sizes': [(20, 20), (100, 50, 150),\n",
       "                                                (300, 200, 150)]})"
      ]
     },
     "execution_count": 33,
     "metadata": {},
     "output_type": "execute_result"
    }
   ],
   "source": [
    "mlp_params = {'alpha': [0.1, 0.01,0.02,0.005],\n",
    "             'hidden_layer_sizes': [(20,20),(100,50,150),(300,200,150)],\n",
    "             'activation': ['relu','logistic']}\n",
    "\n",
    "mlp_cv_model = GridSearchCV(mlp_model, mlp_params, cv = 10)\n",
    "mlp_cv_model.fit(X_train_scaled, y_train)"
   ]
  },
  {
   "cell_type": "code",
   "execution_count": 34,
   "id": "3fdc0067",
   "metadata": {},
   "outputs": [
    {
     "name": "stdout",
     "output_type": "stream",
     "text": [
      "MLPRegressor(activation='logistic', alpha=0.02,\n",
      "             hidden_layer_sizes=(100, 50, 150))\n",
      "logistic\n"
     ]
    }
   ],
   "source": [
    "mlp_tuned = MLPRegressor(activation=mlp_cv_model.best_params_['activation'],\n",
    "                         alpha = mlp_cv_model.best_params_['alpha'], \n",
    "                         hidden_layer_sizes = mlp_cv_model.best_params_['hidden_layer_sizes'])\n",
    "print(mlp_tuned)\n",
    "print(mlp_tuned.activation)"
   ]
  },
  {
   "cell_type": "code",
   "execution_count": 35,
   "id": "54ede692",
   "metadata": {},
   "outputs": [
    {
     "data": {
      "text/plain": [
       "MLPRegressor(activation='logistic', alpha=0.02,\n",
       "             hidden_layer_sizes=(100, 50, 150))"
      ]
     },
     "execution_count": 35,
     "metadata": {},
     "output_type": "execute_result"
    }
   ],
   "source": [
    "mlp_tuned.fit(X_train_scaled, y_train)"
   ]
  },
  {
   "cell_type": "code",
   "execution_count": 36,
   "id": "c214574c",
   "metadata": {},
   "outputs": [
    {
     "data": {
      "text/plain": [
       "6.473211938188688"
      ]
     },
     "execution_count": 36,
     "metadata": {},
     "output_type": "execute_result"
    }
   ],
   "source": [
    "y_pred = mlp_tuned.predict(X_test_scaled)\n",
    "np.sqrt(mean_squared_error(y_test, y_pred))"
   ]
  },
  {
   "cell_type": "markdown",
   "id": "64460397",
   "metadata": {},
   "source": [
    "### 1.3. Bagged Trees Regresyon"
   ]
  },
  {
   "cell_type": "code",
   "execution_count": 37,
   "id": "9191b3e5",
   "metadata": {},
   "outputs": [
    {
     "data": {
      "text/plain": [
       "BaggingRegressor(bootstrap_features=True)"
      ]
     },
     "execution_count": 37,
     "metadata": {},
     "output_type": "execute_result"
    }
   ],
   "source": [
    "#bootstrap_features default degeri false, bootstrap orneklerini gozlemlemek icin true verdik\n",
    "bag_model = BaggingRegressor(bootstrap_features = True)\n",
    "bag_model.fit(X_train, y_train)"
   ]
  },
  {
   "cell_type": "code",
   "execution_count": 38,
   "id": "9887a35f",
   "metadata": {},
   "outputs": [
    {
     "data": {
      "text/plain": [
       "10"
      ]
     },
     "execution_count": 38,
     "metadata": {},
     "output_type": "execute_result"
    }
   ],
   "source": [
    "#tahminci sayisi\n",
    "bag_model.n_estimators"
   ]
  },
  {
   "cell_type": "code",
   "execution_count": 39,
   "id": "8f0b5414",
   "metadata": {},
   "outputs": [
    {
     "data": {
      "text/plain": [
       "[DecisionTreeRegressor(random_state=1726833417),\n",
       " DecisionTreeRegressor(random_state=1960079427),\n",
       " DecisionTreeRegressor(random_state=1353655939),\n",
       " DecisionTreeRegressor(random_state=902323060),\n",
       " DecisionTreeRegressor(random_state=1632843977),\n",
       " DecisionTreeRegressor(random_state=1167004367),\n",
       " DecisionTreeRegressor(random_state=1786234696),\n",
       " DecisionTreeRegressor(random_state=1886010245),\n",
       " DecisionTreeRegressor(random_state=896361747),\n",
       " DecisionTreeRegressor(random_state=2144242066)]"
      ]
     },
     "execution_count": 39,
     "metadata": {},
     "output_type": "execute_result"
    }
   ],
   "source": [
    "#10 adet agac\n",
    "bag_model.estimators_"
   ]
  },
  {
   "cell_type": "code",
   "execution_count": 40,
   "id": "2308ad08",
   "metadata": {},
   "outputs": [
    {
     "data": {
      "text/plain": [
       "[array([184, 342,   5, 409, 552, 391, 326,  10, 406, 207, 557, 425, 524,\n",
       "        179, 561, 630, 138, 218, 257, 554, 246, 230, 161, 582, 163, 182,\n",
       "        291, 381, 368, 543, 510, 234, 145, 330, 297,  30, 160, 607, 391,\n",
       "        205, 241, 132, 365, 565, 151, 499, 439, 254, 249, 355,   4, 386,\n",
       "        553, 102, 412,  22, 156, 113,  57, 206,  88, 323,  73,  59, 610,\n",
       "        218, 158, 320, 317, 567, 209, 130, 228, 149, 353, 214, 136, 387,\n",
       "        293, 599, 286, 121, 582, 627, 555, 344, 350, 152, 122, 285,  16,\n",
       "        414, 186, 599, 473, 580, 612,  56, 242, 195, 371, 152, 121, 248,\n",
       "        250,  98, 370, 167, 213, 271, 611, 518, 230, 554, 570, 446, 633,\n",
       "        445, 600, 489, 495, 454,  83, 149, 149, 331, 249, 532, 491, 180,\n",
       "         21, 479, 290, 489, 352, 602, 436, 430, 519, 361, 303,  83, 552,\n",
       "        479, 563, 333, 242, 283, 446, 366, 236,  26, 221, 302, 314, 105,\n",
       "        224, 203, 270, 338, 493, 559, 280,  62, 593, 405,  46,  39, 463,\n",
       "        542, 105, 257, 433, 565, 193, 488, 458, 201, 467, 478, 583, 334,\n",
       "        600, 351, 348, 298,  28, 477, 103, 377, 617, 414, 156, 485, 390,\n",
       "        356, 457, 108, 220,  57, 190, 519, 570,  39, 433, 467, 195, 617,\n",
       "        568, 400, 340, 146, 278, 112, 455,  48, 436, 333, 170, 496, 423,\n",
       "         12, 500, 151, 544, 136, 601, 408, 359, 541, 349, 152, 408, 435,\n",
       "        438, 145, 321, 617, 120, 408, 367,  19, 193, 267, 432, 325, 225,\n",
       "        564,  36,  64, 635, 571, 125, 178, 108, 293, 536, 305, 528, 494,\n",
       "         30, 269, 280, 308, 122,  43, 375, 231, 122, 317, 583, 167, 476,\n",
       "        593, 567, 626, 397, 395, 443, 115, 453, 249, 240, 109, 374, 503,\n",
       "        440, 385, 522,  87, 169, 316,  31, 426, 400, 321, 344,  19, 399,\n",
       "        189, 461, 131, 259, 312, 528, 464, 367, 307, 410, 212, 497,  32,\n",
       "        141, 265, 164, 139, 163, 464, 310, 569, 216, 142, 202, 406, 248,\n",
       "        133,  80,  24, 133, 353, 212, 590, 411, 391,  83,  66, 421, 562,\n",
       "        551, 537, 458, 393, 395,  26, 167, 254,  41, 489, 478, 377, 422,\n",
       "        161,  33, 371, 582, 520, 527,  11, 270, 316, 261, 578, 476, 603,\n",
       "        180,  94, 152, 537, 286, 490, 398, 502, 613, 219,  65, 454, 456,\n",
       "        623, 569, 491, 517, 278, 176, 317,  20, 222, 477, 393, 109, 416,\n",
       "        224, 234,  96,  92, 147, 505, 419, 425, 256,  88,  17, 199, 182,\n",
       "        597, 528, 318, 425,  73, 612, 454, 306, 578, 308, 485,   7, 506,\n",
       "         45,  34, 111, 603, 219,  52, 589, 445, 404, 290, 621, 505, 320,\n",
       "        560, 505, 329, 405, 402, 438, 351, 252, 212, 447, 239, 112, 321,\n",
       "        398,  65, 459, 547, 300,  17,  27, 620,  80,  17, 314, 470, 340,\n",
       "        284, 479, 363, 575, 201, 197, 537, 506,  47, 542, 395, 293, 525,\n",
       "         98, 518, 161, 400, 291,   3, 178, 388,  57, 407, 162, 499, 207,\n",
       "        125, 434, 425, 537, 157, 628,  34, 482, 472, 532, 299, 582, 255,\n",
       "        133, 162,  70, 399,  85,  67, 249, 427,  85,   0, 253, 317, 167,\n",
       "         53,  74, 294, 374,  52, 416, 226, 160,  45,  13,  49, 204, 412,\n",
       "        455, 273, 382, 161, 246, 430, 603, 465, 208, 545, 355, 132, 393,\n",
       "        573, 544, 508,  24,  68, 155, 486, 492, 510, 142,  83, 190, 398,\n",
       "        389, 395, 255,  49, 312, 429, 186, 621, 174,  84,  50, 595, 615,\n",
       "        530, 421, 305, 375, 364, 361,  52, 450, 598,  56, 490, 628, 261,\n",
       "        181, 423, 210, 546, 617, 618, 459, 485, 531, 359,  59, 364, 102,\n",
       "         96, 149, 115, 235, 463, 318, 203, 600, 369, 271,  38, 315, 461,\n",
       "        128, 460, 298, 310, 141, 517, 411, 335, 618, 387, 308, 201, 282,\n",
       "        131, 160,  76, 301, 223, 500, 119, 301, 599, 615, 403,  68, 178,\n",
       "        420, 621, 246, 298, 220, 615, 182, 137,  37, 482, 466, 238, 631]),\n",
       " array([160, 460, 131, 206, 217, 164, 167, 618, 282, 462, 635, 582,  68,\n",
       "         49, 517, 273, 416, 359, 483,  68, 467, 282,  59, 172, 490, 395,\n",
       "        464,   7, 466, 392, 329, 538, 246, 462, 182, 260, 111, 152, 387,\n",
       "        377, 242, 310,   3, 145, 286, 153, 259, 101, 630, 552, 165,  80,\n",
       "        144, 487,  14,  89, 251, 307, 207,  87, 142, 439,  97,  24, 130,\n",
       "        471, 291, 606, 221,  92, 374, 236, 397,   7, 119, 383, 185, 562,\n",
       "        612, 599, 467, 636, 576, 108, 431, 147,  93, 613, 514, 235, 549,\n",
       "        436, 566, 349, 634, 185, 355, 320, 439, 557, 274, 134, 505, 334,\n",
       "        481, 169,  88, 322, 635, 261, 257, 191, 152, 434, 297, 507, 264,\n",
       "        181, 617, 519,  66, 608,   5, 614, 146, 337, 192, 372, 475, 560,\n",
       "        591, 236, 164,  49, 496, 392, 549,   0, 521, 634, 282, 527, 153,\n",
       "        199, 270, 459, 333, 208, 591, 587, 109, 568, 241, 168,  42, 490,\n",
       "        571, 172, 290, 205, 435, 213, 240, 153, 140, 304, 344, 225, 531,\n",
       "        157, 589,  75,  37,  13, 430, 451, 130, 260, 605, 196, 508,  20,\n",
       "         34, 608,   4, 366, 483, 571, 431, 277, 173, 409, 159, 631, 206,\n",
       "        364, 580, 440,  91,  15, 337, 215, 139, 226, 383, 174, 269, 337,\n",
       "         15, 571, 537, 298,  17, 219, 200, 502, 100,  63, 336, 540, 381,\n",
       "        554,  78, 133, 506, 237, 301,  29,  65, 326, 228, 405, 281, 452,\n",
       "        478, 241, 561, 419,  14, 430, 415, 563,  85, 299, 591, 462, 541,\n",
       "        567, 569,  55, 242, 357, 534, 431,  38, 138, 635, 408, 221, 112,\n",
       "        139, 404, 598, 461, 453, 467,   0, 168, 543,  58, 425, 201, 118,\n",
       "        162,  56, 150,  58, 559, 280, 580,  45,  99, 526, 195,  88, 537,\n",
       "        209, 635, 518, 211, 484, 540, 485, 551,  47, 412, 105, 633, 259,\n",
       "        440, 494,  29, 258, 306, 182, 374,   1, 474, 319, 518, 516, 603,\n",
       "        600, 630, 445, 556, 349, 361, 216, 163, 382, 181, 583, 344, 327,\n",
       "        509, 267,   0, 376, 494,  63, 563, 220, 441,  53, 295, 291, 343,\n",
       "        438, 329, 586, 567, 619, 434, 482,  44, 198, 137, 259, 617, 232,\n",
       "        320, 168, 373, 312, 148, 558,  23, 399,  71, 273, 630, 324,  72,\n",
       "         67, 210,  98, 127,   3, 417, 352, 624, 447, 554, 491,  92,  37,\n",
       "        604, 602, 409, 298, 502, 123, 370, 155,   2,  97, 170, 428, 161,\n",
       "        424, 494,  26, 372, 580, 187,  60, 312, 444, 384, 632, 366, 487,\n",
       "        210, 479,  35, 414, 437,  61, 168, 351, 301, 438, 132, 394,  39,\n",
       "        454, 265, 469, 142, 515,  12, 443, 212, 472, 608, 436, 519, 101,\n",
       "        332, 188, 402, 617, 254, 216, 175, 434,   2, 356, 625, 131, 538,\n",
       "        146, 324, 417, 537, 257, 158, 292, 588, 430, 378, 504,  84, 108,\n",
       "        108,  21, 286, 622, 610, 530, 192, 378, 328, 185, 417, 249, 410,\n",
       "        202, 126, 381, 318, 545, 384, 137, 187,  56, 135, 520,  94, 343,\n",
       "        188, 609, 273, 121, 125,  72, 274,  29, 620, 285, 559,  74, 581,\n",
       "        380, 449,  36, 292, 469, 161, 183, 463, 304, 482,   9, 355, 385,\n",
       "        214, 485, 299, 595, 316, 116, 523, 439, 506, 317, 592, 315, 251,\n",
       "        184, 157, 371,  14,  31, 126, 309, 408,  76, 553, 136, 614, 274,\n",
       "        316, 431,  50, 460, 623, 123, 620, 222, 282, 160, 335, 437, 598,\n",
       "        184, 146, 371,  58, 130, 501, 346, 285, 604, 473, 484, 585, 264,\n",
       "        216,   1, 194, 227, 194, 326, 294, 499, 634, 523, 315,  68, 128,\n",
       "        143, 435, 478, 482, 355, 428,  95, 233, 467, 212, 122, 268, 567,\n",
       "        394, 228,  97,  23, 537, 165, 360, 193, 509, 604, 237, 192, 221,\n",
       "        263, 426,  28, 583,  61, 362, 502,  67, 630, 562, 470, 165, 567,\n",
       "        279,  98,   1, 170, 545, 194,  68,  65,  76, 598, 119, 316, 130,\n",
       "        516, 360,  72, 440, 100, 105, 107, 358, 589, 352, 337, 488, 535]),\n",
       " array([160, 285, 172, 166, 500, 543, 280, 355, 519, 158, 261, 534,  73,\n",
       "        126, 360, 592, 275, 322, 176, 223, 105, 150, 611, 537, 574,   0,\n",
       "        180, 124,  26, 375,  56, 357, 443, 631, 602, 310, 565, 337, 432,\n",
       "        170, 152, 153,  19, 427, 160, 535,  69, 305, 207, 578,  46, 264,\n",
       "        364, 112,  12, 521, 145, 209, 563,  84, 122, 170, 337,  13, 592,\n",
       "        305, 212, 576, 586, 192,   2, 171, 424, 292,  27, 309, 216, 338,\n",
       "        606, 578, 389, 624, 120, 220, 599, 620, 603, 474, 255, 234, 619,\n",
       "         63, 409,  78, 576, 177, 583, 523, 337, 203, 540, 372, 242, 387,\n",
       "        134, 107, 324, 494, 614, 463, 330,  32, 158,  91,  47, 170, 273,\n",
       "        161, 256, 319, 489,   2,  26, 611, 517, 241, 317, 356, 269,   0,\n",
       "        486, 591, 353, 562, 334, 249, 140, 357, 544, 223, 158, 165,  75,\n",
       "         81, 359, 184,  12, 442, 315, 618, 604, 401, 488, 441, 305, 163,\n",
       "         29, 443, 305, 111, 274, 614, 452, 516, 162, 398, 241,   4, 246,\n",
       "        592, 599, 519, 217, 128, 633, 577, 404, 318,  56, 369, 601,   1,\n",
       "        198,  53, 165, 207,  27, 278, 122, 542, 135, 621, 385,  57, 419,\n",
       "        128, 476, 325, 402, 518, 212, 453, 533,  59, 301, 635, 409, 434,\n",
       "        379,  45, 487, 151, 629, 472,   6,   6, 441,  64, 634,  90, 360,\n",
       "        316, 533, 437, 400, 196, 397, 266, 269, 286, 174, 494,  97,  99,\n",
       "        282, 375,  91, 556, 547, 260, 288, 312, 539, 228, 505,  76, 293,\n",
       "        330,  80, 215,  50,  91, 207, 315, 195, 220, 257, 385, 537,  31,\n",
       "        206, 248, 215,   0, 335, 561, 489, 532, 453, 350, 370, 319, 412,\n",
       "        196, 132, 625, 356, 529, 627,  21, 578, 475, 608, 238, 418, 360,\n",
       "        624,  25,  39, 528, 312, 341,  66, 278, 121, 305, 163, 534, 304,\n",
       "        120, 508, 423, 550, 409, 168, 476, 181, 353, 144, 441, 224, 331,\n",
       "        442, 388, 445,  43, 462, 413,   3, 265, 531, 452, 420, 611,  41,\n",
       "        260, 236, 187, 237, 564, 133,  33, 244, 293, 293, 635, 474, 155,\n",
       "        155, 609, 281, 571, 251,  32, 113, 459,  71,  58, 173,  83, 367,\n",
       "        553, 584, 100, 368, 312, 133,  13,  67,  71, 420, 246, 118, 441,\n",
       "        146, 510, 226, 440,  99,  11, 395, 439, 239, 251, 304, 230, 291,\n",
       "        187, 592, 400, 243,   9, 438, 408, 565, 122, 219, 368, 184,  17,\n",
       "        541, 557, 320, 100, 532, 520, 459,  14, 603, 219,  62, 211, 158,\n",
       "        556, 306,  33, 504, 555, 479, 309, 538, 378, 193, 105, 308, 416,\n",
       "        435, 384, 338, 324, 524,  80, 490, 375, 548, 339, 568, 583,  92,\n",
       "        183, 459, 374, 574, 106, 209, 384,  25, 356, 319, 297, 249, 186,\n",
       "        394, 618, 520, 624, 436, 281, 502, 265,  70, 148, 523,  31, 634,\n",
       "        408,  80, 433, 477, 346, 528, 169, 260, 199, 539, 588, 318, 171,\n",
       "        622, 236,  48, 390, 602,  20,  15, 186, 331, 319,  79, 276, 141,\n",
       "        375, 256, 607, 114, 564, 461, 569, 187, 451, 218, 377, 535, 625,\n",
       "        529, 162, 352, 469, 278, 586, 457,  18, 613, 584, 374, 332, 392,\n",
       "        511, 295, 367, 467, 460, 244, 266, 526, 478,  99, 280,  62, 331,\n",
       "        298, 145, 161, 533,  53, 280, 627, 343, 421,  49, 198, 497, 341,\n",
       "        224, 520, 108, 601, 349, 476, 271, 294, 221, 440, 368, 276, 583,\n",
       "        111, 626,  87, 321, 394, 464, 192, 485, 314, 325, 303, 504, 113,\n",
       "        437, 269, 441, 244,  87, 414, 436,  79, 563, 100,  87, 221,  44,\n",
       "        230, 493, 495, 626, 526, 304, 275, 239, 616, 495, 238, 563, 562,\n",
       "        259, 132, 606,  88,  26, 129,  56, 585, 580,  39,  46, 490, 392,\n",
       "        194, 599, 318, 130, 505, 364,  23, 224, 407,  50, 316, 332, 447,\n",
       "        439, 104, 336, 606,  37, 533, 199, 428, 120, 281, 215, 348, 576,\n",
       "         55, 333, 112, 298, 128, 125, 415,  58, 605, 388, 467, 115, 139]),\n",
       " array([257, 360, 322, 278, 608, 113, 530, 124, 133, 304, 392, 438, 216,\n",
       "        530, 261, 315, 350, 499, 227, 287,   5, 563, 176, 532, 219, 125,\n",
       "        474, 179, 540,  19, 158, 193, 220, 426,   6,  89, 305, 527, 603,\n",
       "        490, 514, 104, 371,   5, 352,  21, 526,  61, 390, 137, 467,  47,\n",
       "        463, 636, 402, 264, 301, 485, 181, 212, 109, 490,  12, 255,  25,\n",
       "        199, 331, 134,  56, 578, 520,  13, 134, 419, 537, 310, 512, 595,\n",
       "        220,   0, 614, 234,  81, 157, 211, 147, 499, 106, 272, 166, 463,\n",
       "        170, 229, 523, 224,  49, 102, 401, 267, 364, 364, 495, 317, 622,\n",
       "        634,  45, 362, 183, 130, 556, 212, 317, 303, 152, 433, 242,  12,\n",
       "        505, 362, 312, 612, 242, 452, 484, 229, 184, 345, 422, 180, 516,\n",
       "         33, 263, 576, 516, 436, 422, 227, 181, 517, 175, 346, 442, 604,\n",
       "        384, 218, 546,  60, 269,   8, 252,  21, 531, 212, 549, 188, 266,\n",
       "        201, 126, 381, 299, 317, 308, 344, 407, 360, 345, 165, 582, 115,\n",
       "         82, 330, 495, 273, 303, 306, 473, 495, 188, 231, 151, 184, 446,\n",
       "        374, 416, 417, 349, 194, 213, 525, 230, 479, 196, 526,  83,  43,\n",
       "        218, 149, 455, 121, 234, 371, 369, 636, 233,  69, 369, 595, 185,\n",
       "        460, 409,  63, 460, 269, 362, 281, 278, 431, 384, 482, 241, 580,\n",
       "        484,  21, 391, 183, 593, 199, 350, 598, 615, 306,  11, 146,  82,\n",
       "        209, 391, 604, 298, 106, 172, 274, 576, 288, 592, 387, 425, 311,\n",
       "        176, 147, 147, 428,  47, 389, 335, 238, 106, 581, 265, 586, 541,\n",
       "         44, 400, 111, 279, 544, 460, 197, 425,  19, 463, 138, 203,  80,\n",
       "        229, 508,  63,  93, 435, 301, 175, 511, 506, 328, 568, 144, 362,\n",
       "        221, 636, 387, 631, 129, 187, 495,   9, 629, 124, 232, 251,   9,\n",
       "        201,  50,  24, 226,  22, 369, 379,  95, 392, 200, 137, 283,  82,\n",
       "        428, 229,   3, 562, 382, 274, 444, 310, 447, 150, 161, 522, 491,\n",
       "        608, 506, 423,  81, 467, 562, 512, 184, 477,  15, 566,  41, 363,\n",
       "        513, 430, 541, 543, 596,  47, 325, 500, 460, 625, 241, 401, 543,\n",
       "        586, 632,  36, 156, 491, 202, 419, 421, 585, 515, 564, 243, 431,\n",
       "        102,  76, 315, 565, 415, 116, 487, 477, 318, 134, 383,  99, 328,\n",
       "        259, 577, 252, 292, 521, 196, 366, 465, 238,  77, 571, 296,  69,\n",
       "        417, 242, 190, 253, 604,  77, 159,  76, 275, 230, 443, 470,  63,\n",
       "        335, 161, 228, 608,  96, 376, 439, 151, 431,  28, 293, 588, 466,\n",
       "        373, 312, 513, 156, 411, 395, 145, 493, 252, 305, 400, 408, 418,\n",
       "        579, 577, 449, 606, 223, 581, 632, 559, 183, 534, 514, 551,  53,\n",
       "        507, 457,  93, 568, 634, 542, 430, 501,  58, 576, 501, 444, 283,\n",
       "        406, 183, 123, 569, 633, 372, 270, 188, 101, 197, 257, 593, 182,\n",
       "        110,  42, 559, 193, 270,  86,  14, 176, 311, 399, 141, 155, 105,\n",
       "        110,  56, 203, 500, 631, 481, 603, 494, 232, 496, 282, 592, 480,\n",
       "         88, 433, 476,  45, 515,  43,  14, 363, 329, 149, 581,  54, 510,\n",
       "        553,  18,  69, 253, 302, 125, 394, 273,  58, 305,  36, 171, 583,\n",
       "        323, 119, 546, 111, 212, 516,   4,  93, 309, 488, 377, 289, 267,\n",
       "        192, 209, 222,  63,  57,  14, 270,  52, 369, 357,  64, 353,  71,\n",
       "        544, 291, 142, 110, 136, 629,  60,  32, 347, 263, 349, 304, 256,\n",
       "        368,   1, 587, 226,   3, 327, 562, 114, 170, 485, 415, 104, 387,\n",
       "        239, 483,  49, 226, 181, 450, 201, 178, 560, 349, 542, 420, 135,\n",
       "        590, 266, 266, 561,  69, 365, 411, 245,  13, 339,  18, 268, 307,\n",
       "        508, 388, 442, 570, 457, 213, 178, 165, 587, 568, 479, 570, 531,\n",
       "        580, 318, 157, 201, 395, 365, 428, 524,   8, 584, 525, 136,  59,\n",
       "        608, 453, 595, 454, 185, 174, 173, 292, 426, 280, 399, 457, 301]),\n",
       " array([495, 187, 299, 195, 601, 235, 260, 241, 455, 401, 518, 348, 395,\n",
       "        168, 147, 619, 465, 261, 232,  31, 469, 266, 465, 384, 253, 447,\n",
       "        610, 237, 436, 283, 108, 209, 231, 306, 280, 302, 385, 312, 408,\n",
       "        518, 502, 179, 584, 303, 322, 611, 295, 147, 425, 264, 225, 614,\n",
       "        329, 407, 555, 101, 357, 140, 350, 593, 160,  12,  25, 335, 236,\n",
       "        539, 483, 581, 594, 330, 602, 352, 231, 262, 160, 619, 383, 181,\n",
       "        566,  36, 455, 452, 569, 412, 348, 489, 119, 528, 586, 396, 608,\n",
       "        600,  37, 243, 189,  31, 400, 511, 287, 191, 561, 453,  97, 402,\n",
       "        575, 426, 266, 408, 170, 159, 469, 406,   2, 516, 342, 275,  95,\n",
       "        420, 388,  86, 606, 558, 195,  88, 234, 147, 307, 557, 490, 296,\n",
       "        514, 435, 482, 315, 332, 457, 622, 483, 381, 279, 425, 172,  91,\n",
       "        129, 211, 281, 157, 467, 634, 525, 475, 142, 174, 213, 546, 139,\n",
       "        114, 510, 563, 388, 208, 630, 269, 442, 407,  96, 136, 467, 165,\n",
       "        505, 163, 293, 253, 268, 581, 327, 517,  10, 293, 326, 372, 597,\n",
       "        250, 224, 279, 600, 625, 613,  80, 562, 103,  12,  48, 141,  51,\n",
       "        470, 169,  62, 576, 358, 555, 225,  92, 198,  88, 326,  26, 298,\n",
       "        103, 227, 411, 505, 398, 243, 227, 593,  58, 549, 380, 143, 201,\n",
       "        203, 437,  26,   7, 291, 383, 167,  41, 325, 564, 169, 509, 100,\n",
       "        537, 240, 351, 538, 253, 611, 296, 353,  47, 354, 477, 379, 439,\n",
       "        430, 450, 593, 487, 375, 119, 204, 328, 415, 568, 218, 471, 536,\n",
       "        275, 157, 106, 356,  74, 213, 496, 174, 231, 271, 217, 101, 587,\n",
       "        171, 627, 221, 180,  37, 408, 102, 107, 142, 606, 174, 416, 507,\n",
       "        303, 506,  95, 506, 553, 363, 414, 517,  82, 301, 580, 522, 408,\n",
       "        495, 156, 177, 140, 156, 592, 190, 413, 496, 429,  85, 316, 428,\n",
       "        227,   1, 313, 359,  60, 526, 355,  81, 401, 135, 145, 495, 482,\n",
       "        372, 423, 168,  50, 303, 202, 361, 561, 422, 112, 184, 394, 632,\n",
       "        187, 434, 300, 295, 454, 576, 630, 162,  41,  98, 335, 274, 422,\n",
       "        123, 583, 269, 507, 358, 135, 622,  20,  15, 463,  21, 302, 136,\n",
       "        353,  72, 197, 196, 273, 401, 566, 148,  90, 578, 439, 249, 169,\n",
       "        209, 580,  81, 582, 556, 530, 416, 108, 232, 397, 433, 120, 576,\n",
       "         78, 191, 114, 242, 229, 581, 201, 586, 318, 482, 427, 366, 101,\n",
       "        220, 451, 297,   4, 618,  42,  99, 315, 572, 454, 484, 379,  11,\n",
       "        177, 315, 599, 502,  87, 616, 300, 226, 487, 269, 340, 220, 544,\n",
       "        142, 213, 621,  56, 215, 486, 374, 288,  22, 342, 276, 220, 376,\n",
       "          9, 509,  56, 360, 526, 217, 479, 562, 100,  56, 246, 412, 122,\n",
       "        557, 272, 118, 498, 210, 504, 552, 162, 614, 281, 521, 498,  86,\n",
       "         12, 534, 230,   5, 489, 216, 401, 261, 387, 430, 275, 598, 264,\n",
       "        485, 281, 540, 245, 438, 564, 528, 441, 434, 463, 211, 567, 607,\n",
       "        435, 153, 498,  24, 276, 239, 136, 533, 209, 575, 409,  22, 349,\n",
       "        497,  32, 516, 439, 158, 238, 232,  38, 102, 235, 210, 118,   0,\n",
       "        484, 135, 532, 405, 607,  79, 605, 348, 311, 375, 364, 388, 629,\n",
       "        572, 116, 259, 132, 603,  56, 577, 486, 385,  24, 202, 369,  55,\n",
       "         84, 341, 193, 477,  61, 581,  72, 292, 197, 220,  15, 165, 279,\n",
       "         28, 390, 287, 575,   4, 521, 163, 202, 303, 361, 474, 344, 136,\n",
       "        281, 389, 540, 444, 119, 237, 482,  62, 441,   4, 596, 601, 137,\n",
       "        473, 494, 232,  51,  70, 357, 586, 236, 195, 141, 532, 631,  24,\n",
       "        440, 324, 583, 148, 196, 333, 470, 358, 461, 578, 131,   7, 419,\n",
       "        122, 492, 298, 523, 187, 564,  84,  25, 107, 494, 294,  61, 171,\n",
       "        403, 561, 554,  24, 451, 297, 345, 252, 550,  42, 403, 108, 161]),\n",
       " array([460, 133, 434, 489, 103, 287, 126, 558, 541, 368,  58, 553, 217,\n",
       "        196, 127, 174, 450, 411, 334, 612, 168, 361, 329, 108, 369, 182,\n",
       "        599, 357, 390, 442, 450, 483, 292, 426, 114, 432, 359, 227, 398,\n",
       "        238, 624, 447, 466, 201, 564, 608, 615, 324, 303, 418, 633, 148,\n",
       "        478,  54, 147, 433,  28, 619, 631, 408, 436,  16,   1, 286, 516,\n",
       "        139, 467, 406, 301, 244,  36,  37,  70, 468, 528,  69, 299, 614,\n",
       "        296, 206,   2, 266, 247, 458, 549, 313, 142, 305, 463, 246, 169,\n",
       "        321, 531, 154,   4, 288, 238, 121, 256, 241,  50,  26, 210, 212,\n",
       "        339, 269, 281, 173,  57, 374, 353, 342, 625, 342, 363, 630,  96,\n",
       "         46, 389, 389, 242, 267, 479,  51, 584, 584, 485, 142, 380, 612,\n",
       "         64,  86, 624, 531, 570, 584,  55,  11, 428, 554, 371, 120,  95,\n",
       "         93,  51, 574, 315, 572, 401, 464, 134, 451, 278, 513, 102,  17,\n",
       "        197, 450, 396, 316, 220, 486, 239,  37, 214,  84, 525, 217, 230,\n",
       "        462, 464, 127, 445, 149, 335, 589, 133, 617,  75,  74,  45, 362,\n",
       "        254,  81, 351, 114, 248, 609, 457, 592, 534, 505, 622, 343, 276,\n",
       "        526, 337, 480, 565, 326, 147, 140, 202, 499,  65, 158, 341, 179,\n",
       "        165, 561,  42, 330, 408, 245,   6, 121,  30,  67, 584, 400, 279,\n",
       "        423, 529, 366,  28, 430, 130, 480, 628, 333, 375, 341, 498, 526,\n",
       "        169, 585, 483, 362, 367, 369, 514,  93, 510, 397, 473, 319, 102,\n",
       "        327, 103, 143, 460, 439, 425,  18,  79,  65, 465,  65,  16,   2,\n",
       "         97, 549, 516, 361, 538,  29, 219, 453, 527, 459, 452, 207, 207,\n",
       "        542, 503, 493, 585,  26, 420, 601, 620, 576, 394, 596, 335, 439,\n",
       "        304, 569,   5, 267, 392, 441, 212, 131, 579, 266,  64, 192,  50,\n",
       "        199, 457, 570, 346, 237, 548, 237, 165, 108,  12, 487, 318, 503,\n",
       "         83, 403, 527, 227, 228, 539, 634, 388, 279,  46, 563, 384, 205,\n",
       "        118, 197, 371, 394, 296, 371, 333,  46, 311, 101, 479,  39,  21,\n",
       "        166, 364, 545, 520, 521, 327, 145, 199, 138,  70, 176, 332, 606,\n",
       "        342, 553, 294,  95, 203, 201, 633, 534,  24, 581, 525, 163, 612,\n",
       "        253, 121, 236, 403, 421, 529, 398, 425, 244,   8, 336, 224, 366,\n",
       "        276, 198, 379, 595, 452, 160, 163, 195, 312, 304, 382, 116, 505,\n",
       "          8, 401, 625, 478,   3, 124,  34, 197, 145,  13, 137, 580,  71,\n",
       "        247, 292, 147,  57, 367,  22, 373, 194, 338, 383, 408, 401, 531,\n",
       "        392, 620, 517, 291,  25, 391, 513, 456, 335, 614, 533, 298, 117,\n",
       "        201, 163,  73, 291,   6, 100, 381, 550, 179, 466, 521, 167, 230,\n",
       "        240, 188, 352, 247, 594, 266, 255, 440, 376,  52, 301, 425, 636,\n",
       "        317, 472, 368,  89, 352,  78, 392, 387, 183, 434, 241, 609,  68,\n",
       "         71, 117, 311, 293, 209, 113, 609,  67, 387, 439, 137,  67, 380,\n",
       "        525, 111, 483, 460, 616, 352, 253, 494, 242, 430, 367, 177, 415,\n",
       "        500, 627, 635, 270, 233, 564, 319,  55, 355,  80, 139, 387, 527,\n",
       "        528, 389, 410, 573, 285, 139, 379, 610, 289,  64, 229, 578, 117,\n",
       "        497, 181, 279, 628, 395, 287, 469, 349, 316,  62, 445,  66, 151,\n",
       "         35, 392, 406, 484, 273, 310, 516, 242,   3, 454,  70, 204,  41,\n",
       "        621, 272, 578, 580, 307, 268, 329,  49, 353,  72, 177, 255, 216,\n",
       "        635, 533, 533, 539, 157, 101, 468,  68, 420,  85,  22, 296, 414,\n",
       "        627, 245, 465, 317, 309, 484, 399, 399, 200, 205, 164, 151, 628,\n",
       "        522, 205, 383, 563, 486, 369, 283, 255, 626, 560, 621, 354, 581,\n",
       "        316, 494, 441,   0, 308, 572,  73, 557, 497, 406, 232,  10, 142,\n",
       "        359, 103, 349, 142, 485, 636,  85, 584, 241, 601, 114, 414, 571,\n",
       "        596, 365,   4, 164, 477,  85,  98, 440,  40, 390, 222, 123,  96]),\n",
       " array([455, 372, 355, 354,   2, 343, 172, 316, 117, 329, 499, 624, 415,\n",
       "        570, 468, 578, 579, 155, 592, 125, 337, 342, 274, 579, 241, 437,\n",
       "         93, 554,  97, 128, 243, 404, 371, 138,  18, 163, 441, 383, 615,\n",
       "        613,  10,  85, 475, 156, 372, 578, 354, 116, 207, 490, 298,  34,\n",
       "        143,  38, 495, 586, 496, 244, 334, 253, 457, 133,  21, 272, 326,\n",
       "        517, 220, 565, 372,  10, 123,  59,  71,  73, 114, 572,  85,  22,\n",
       "        303, 593, 358, 615, 117, 521, 501, 634, 171,  69, 320, 323, 261,\n",
       "        202,   0, 404, 506, 206,  53,  65, 321, 216, 122, 411,  57, 195,\n",
       "        259, 352,  49, 193, 134, 194, 481, 110, 183, 433, 455,   9, 594,\n",
       "        336, 282, 612, 372, 431, 244, 538, 117, 559, 344, 414, 609, 292,\n",
       "         85, 480, 548,  26, 172, 636, 249, 634, 159, 318, 259, 435, 210,\n",
       "        286,  23, 362, 423, 220, 434,  16, 127,  73,  10, 583, 209, 368,\n",
       "         75, 582, 208, 252, 498, 245, 374, 402, 394, 317, 330, 530, 264,\n",
       "        497, 225, 135, 586, 620, 580,  34, 277, 398, 280, 526, 463, 633,\n",
       "        344, 212, 598, 250, 542, 345, 281, 274, 309, 345, 296, 249, 496,\n",
       "        352, 351, 415, 441, 244, 330, 421, 293, 492, 105, 157, 367, 395,\n",
       "        287,  59, 555, 180, 434, 520, 378, 340, 385, 253,   1, 258, 396,\n",
       "        419, 183, 311, 395, 309, 471, 492, 554,  35, 125, 360, 438,  96,\n",
       "        526,   3, 447, 389, 229, 221, 268, 124, 232, 324, 279, 436, 162,\n",
       "        230,  95, 578, 633, 428, 466, 380,  34, 140, 289, 370, 421, 328,\n",
       "        218, 621,   5,  50, 281, 393, 395, 574,  54, 612,   7, 148, 173,\n",
       "        341,  63, 387, 461, 566, 430,  52,  87, 316, 138, 558, 111, 620,\n",
       "        543, 550, 155, 440, 425, 444, 421,  90, 566, 257, 549, 160, 371,\n",
       "         77, 384, 209, 600, 289, 407, 431, 316, 373, 144, 449, 390, 133,\n",
       "        450, 502,  72,  18, 483, 417, 598, 370, 585, 237, 437, 377, 272,\n",
       "        418,  36, 595, 171,  78,   4,  67, 165, 372, 626,  85, 627, 516,\n",
       "        433, 451, 102,  36, 624, 303,  58,  54,  91,  91, 556, 318, 132,\n",
       "        505, 441, 153, 258, 305, 525, 204,   8, 447, 618,  67, 257, 435,\n",
       "        296, 175, 559, 449, 573, 145, 519, 476, 542, 552, 469, 520, 192,\n",
       "        382, 253, 432, 269, 403, 592, 480, 160, 364, 485,  53, 515, 346,\n",
       "        257,  63, 232, 215, 605, 362, 209, 374, 353, 459, 303, 478, 549,\n",
       "        251,   7, 387,  28, 384, 583, 247, 547,  71, 438, 430, 526, 179,\n",
       "         59, 102,  21, 358, 240, 442, 134, 121, 313, 243, 406,  24,  52,\n",
       "         83, 590, 482, 559, 448, 509, 453, 222, 431, 373, 118,  53,  44,\n",
       "        605, 448, 439, 612, 482, 153, 523, 417, 479, 284, 355, 452, 363,\n",
       "         66,  55,   7, 616, 214, 607, 514, 542, 395, 202,  82,  13,  10,\n",
       "        168, 128, 354,  19, 620, 478,  70, 517,  60, 621, 358, 573, 618,\n",
       "        293, 375, 535, 603, 293, 288, 523, 554, 370, 296, 160, 424, 321,\n",
       "        192, 549, 233,  25, 482, 128, 591, 605, 530, 151, 447, 182,  97,\n",
       "        300, 580, 129, 545, 402, 151, 449, 289, 203, 621, 420, 138, 180,\n",
       "         87, 222, 569, 103, 245, 439, 243,   5, 600, 457, 241, 203, 572,\n",
       "        150, 347, 396, 276, 458, 113,  63,  66, 483, 205, 130, 229, 546,\n",
       "         93, 564, 251,  35,  79, 635, 623, 469, 245, 337, 398, 495, 104,\n",
       "        360, 618, 485, 508, 603, 156, 264, 161, 555, 428, 604, 376, 384,\n",
       "        458,  14,  11,  99, 431, 407,  43, 541, 626,  90,  20, 496, 553,\n",
       "        600, 381,  32, 468, 387, 154, 348, 399, 424, 430, 534, 181, 536,\n",
       "        281, 366, 539, 618, 355,  16, 153, 294, 402, 404,  60, 400, 266,\n",
       "        217,  86,  39, 510, 271, 114, 600, 594, 332,  82, 411, 431, 415,\n",
       "        583, 493, 167, 581, 369, 380,  75, 410, 246, 201, 183, 399, 384]),\n",
       " array([119,  85,  54, 228, 178, 464,  11, 429, 563,  36, 177, 123, 299,\n",
       "        142, 531, 557, 366, 260, 290, 439, 371, 512, 285, 409, 233, 337,\n",
       "        578,  59, 243, 365, 590,  21, 175, 602, 399, 483, 259,  28, 133,\n",
       "        320, 614, 292,  54, 584,  23, 385, 157, 150, 423,  34, 300, 385,\n",
       "        527, 625, 182, 171, 436, 533, 409,  40,  29, 116, 625, 607, 444,\n",
       "        521,  93,  82, 605, 185, 118, 547, 431, 312, 615, 484, 226, 281,\n",
       "         70, 215, 271, 531, 325, 305, 434, 319, 217, 481, 179, 157, 518,\n",
       "        462,  81, 113,  59, 371,  92, 576, 398, 199, 325, 234, 474, 149,\n",
       "        517, 364, 299, 446,  93, 357, 176, 581, 414, 217, 635, 303, 367,\n",
       "        168, 265, 282, 188, 584, 591, 576, 501, 471,  44,  88, 592, 209,\n",
       "        385,  90, 354, 356, 597, 491,  29,  20, 493, 237, 405, 211, 579,\n",
       "         58, 394, 191, 405, 356, 269, 423, 571, 290, 611,  41, 609, 410,\n",
       "        256, 452,  29, 390, 359, 370, 131, 291, 390, 188, 335,  26, 208,\n",
       "        106, 155, 449,  36, 204, 557, 632, 509, 550, 218, 518, 207, 484,\n",
       "        523, 611, 293,  72, 273, 297, 119, 329, 304, 419, 306, 626,  64,\n",
       "        336, 615, 421,  96, 129, 121, 577, 401, 427, 207, 149, 197, 283,\n",
       "        588, 228, 132, 136, 181, 392, 463, 231, 235,  29, 620, 393, 401,\n",
       "        125,  95, 537, 234, 157, 366, 186, 129, 135, 420, 183,  36,  20,\n",
       "        560, 189, 566, 532, 342, 301, 607, 630, 500, 120, 484, 602, 154,\n",
       "        127,  56, 522, 256, 354, 587, 579,  13, 140, 578, 351,  16, 565,\n",
       "        104, 298, 541, 159,  65, 225, 622, 322, 588, 631, 333,  67, 341,\n",
       "        197, 561, 164, 435,  26, 546, 309,  48, 216, 338, 457, 544, 323,\n",
       "         81, 327, 238, 126, 199, 420,  81, 218, 594, 112, 579, 131, 408,\n",
       "        363, 402, 175,  48, 114,  50, 297, 283, 498, 613, 600, 395, 176,\n",
       "         91, 510, 285, 540, 225, 238,  45, 128, 251, 499, 495, 274, 133,\n",
       "        326, 521, 307, 501, 348, 182, 196, 209, 623, 238, 358, 619, 595,\n",
       "        392, 369,  83, 208, 163, 142,  36, 520, 618, 151, 593, 275, 125,\n",
       "        486, 630, 190, 380, 171, 320, 544, 242,  98,  34, 106, 108, 476,\n",
       "        154,  77, 127, 272, 133, 343, 486, 122, 152,  44,  32,  46, 120,\n",
       "        489, 592, 261, 328, 470, 502, 570, 553, 329,  59, 512, 373,  15,\n",
       "        593, 182,  96, 291, 279, 260, 524, 634, 406,  86, 420,  45,  12,\n",
       "         37, 385, 439, 341, 187, 617, 297, 546, 617,  35, 567, 409, 295,\n",
       "        277, 249, 587, 286, 537, 602, 481, 631,   6, 551, 244, 402, 518,\n",
       "        579,  94, 413, 222, 403, 341, 181,  92, 283, 346, 117, 133, 572,\n",
       "        525, 156, 148, 141, 562, 117,  60, 603, 202, 586, 436, 612, 245,\n",
       "        563, 253, 532, 263, 459, 460, 608, 372, 594, 279, 574, 160, 435,\n",
       "         95, 445, 310,  17, 389, 563, 313, 234, 271, 162, 558, 271, 469,\n",
       "        344, 549,  52, 197, 143, 421, 189, 211,  28, 333, 390,  28,  53,\n",
       "        446, 562, 541, 536, 162,  52, 238,  49,  81, 279, 552, 392,  64,\n",
       "        444, 209, 270, 586,  65, 507, 443, 284,  77, 600, 543,  49, 358,\n",
       "        400, 108, 476, 323, 165, 488, 166, 526, 489, 545,  68, 509, 133,\n",
       "        597, 300, 310, 488, 403,  29, 167, 177, 550, 356, 228, 536, 446,\n",
       "        587, 398, 352, 561, 140, 285, 582, 613, 620,  86, 141, 366, 135,\n",
       "         42, 372, 143, 105,   8, 337, 405, 106, 135, 579, 437, 247,  52,\n",
       "        120, 625, 314, 559, 354, 478, 167, 142, 294, 291, 570, 478, 504,\n",
       "        212, 377, 397, 168, 539, 111,  21, 516, 176, 511, 181, 443, 220,\n",
       "         52, 233, 394, 183, 464, 400, 168, 213, 479, 552, 144, 529, 580,\n",
       "        580,  36, 114, 620, 531, 517,  29, 451, 519, 594, 342,  94, 267,\n",
       "        183, 168, 468, 407, 186,  56, 419, 106, 369, 151, 493, 337, 302]),\n",
       " array([ 43, 481, 599, 413, 425, 229, 279, 267, 394,  75, 593, 536, 494,\n",
       "        191,  10, 540, 331, 630,  31, 633, 347, 100, 291, 186, 485,  57,\n",
       "        163, 152, 448, 124, 367, 154, 537, 299, 543, 295, 161, 450,  12,\n",
       "        469, 117,  17, 374, 446,  95, 136, 356, 336, 122, 107, 336, 407,\n",
       "         86, 536, 201,  90, 198, 564, 351,  55, 296, 392, 193, 262, 599,\n",
       "        290, 320, 104, 429, 171, 261, 574, 316, 343,  93, 501, 307,  50,\n",
       "        455, 441, 247, 535, 622, 174, 244, 226, 265,  71, 156, 105, 622,\n",
       "        204, 490, 629,  74,  23, 559, 432, 315, 203, 359, 456, 592,  51,\n",
       "        320, 430, 600, 138, 555, 373,  29, 359, 265, 100,  70, 510, 396,\n",
       "        366, 488, 532,  40, 611, 207, 270,  57, 451, 155, 116, 613, 104,\n",
       "          8, 465, 575, 496, 555, 611, 361, 562, 398,  31,  29, 176, 611,\n",
       "        545, 326, 419, 168, 451, 247, 536, 539,  43, 603, 494, 301, 109,\n",
       "        147, 197, 424, 201,  33, 166, 492, 548,  99, 376, 483, 423, 394,\n",
       "         41, 191, 126, 538, 153,   6, 409, 295, 388, 546, 208, 422, 360,\n",
       "        144,  35, 146, 280, 241, 504,  21, 298, 558, 242, 556, 157,  54,\n",
       "        242, 612, 436, 425, 133, 337, 483,  58, 444, 417, 316, 255, 531,\n",
       "        197, 508, 531, 415, 486,  15, 274, 544, 432,  48, 606, 467, 383,\n",
       "        429, 442, 181, 557, 314, 534, 508, 632, 611, 595, 573,  96, 211,\n",
       "        572, 231, 417, 201, 167, 454, 360, 271, 291,  72, 418, 547, 521,\n",
       "        482, 313, 143, 298,  27,  70, 124, 558, 536, 251,  76, 222,  11,\n",
       "        628,  39, 155, 187,  81,  16, 258, 214, 439, 282, 577, 163, 512,\n",
       "        346,  64, 558, 570, 463,  97,  88, 476,  33, 346,  32, 188, 612,\n",
       "        588, 407, 225, 604, 541, 478, 298, 461, 622, 570, 448, 239, 368,\n",
       "        226, 400, 146, 513, 188, 328, 105, 217, 618, 330, 292, 520, 435,\n",
       "          5, 450, 282, 434, 407, 581, 600, 536, 503,  17,  59, 150, 191,\n",
       "        496, 228, 571, 509, 308, 241, 325, 467, 283, 228, 266, 389, 384,\n",
       "        248,   9,  82, 465, 552, 481, 353, 292, 316, 491, 253, 577, 292,\n",
       "        603, 297, 160, 121, 369, 389, 455, 273, 431,  89, 453, 497, 153,\n",
       "        601, 209, 476, 434, 217, 104, 452, 584, 335, 369, 243, 473, 538,\n",
       "        338, 122,  86, 234, 451, 535, 440, 137,  88, 487, 535, 343, 100,\n",
       "        157, 327, 230, 529, 580, 190,   4, 349, 602, 129, 199, 541, 357,\n",
       "         20, 372, 447,  92, 245, 302, 630, 576,  16, 281, 124, 179, 632,\n",
       "        327, 426, 500, 445, 403, 146, 149, 118, 119, 527, 498, 538,  19,\n",
       "         53,  66, 536, 411, 445, 155, 493, 599, 117, 334, 387, 118, 341,\n",
       "        354, 117, 452, 614, 376, 607, 496,  19, 287, 339, 533, 245, 414,\n",
       "        569, 208, 435, 213, 628, 376, 235, 346, 272, 562, 296, 448, 199,\n",
       "        265, 450,  72, 515, 593, 365,  35, 307, 473, 517,  41, 326,  24,\n",
       "        202, 111, 614, 294, 190, 144, 601, 239, 122, 381, 281, 401, 423,\n",
       "        111, 331, 441, 512, 101,  81, 149, 140, 341, 228, 168, 540, 263,\n",
       "        601, 563, 605, 154, 376, 321, 595, 476, 571, 177,  51, 401, 148,\n",
       "        459, 102, 126, 235, 146, 469, 332, 481, 180, 608, 206, 567, 459,\n",
       "        171, 266, 606, 486, 580,  59, 485, 525, 254, 193, 217, 224, 451,\n",
       "        490, 546, 341, 123, 367, 597, 312,  60, 606,  28, 297, 487, 301,\n",
       "        233, 417, 205, 470, 266, 627, 200, 278, 448, 148, 378,  60, 630,\n",
       "        272, 491, 501, 408, 592, 227, 481,  56, 313, 231, 219, 238, 121,\n",
       "        298, 170, 329, 541,  69, 314, 587,  53, 278,  94, 274, 116, 242,\n",
       "        234, 380, 427, 206, 142, 194,  79, 178, 623, 120, 136, 355, 451,\n",
       "        332, 123, 146,  23, 129, 552, 590, 363, 506, 636, 524, 604, 157,\n",
       "         49, 480, 389,  72, 100,  43, 546, 542, 434, 124, 545, 598, 445]),\n",
       " array([270, 413, 175, 636,  81, 460, 196, 167,  50, 512, 347, 345,  48,\n",
       "         44, 111,   6, 452, 436, 508, 523, 203, 371, 384, 585, 395, 501,\n",
       "        228, 140, 547, 490,  45, 374, 231, 175, 213, 277, 451, 604, 468,\n",
       "        357, 419, 184, 612, 346,  14, 547, 423, 374, 481,  21, 405, 203,\n",
       "        290,  38, 272, 403, 371, 569,  25, 348, 423, 200, 170, 379, 487,\n",
       "         14, 372, 298, 310, 345, 266, 608,  49, 231,  45, 606, 300, 587,\n",
       "         38, 491, 616, 503, 102, 521, 579, 391,  30,  74, 226, 143, 170,\n",
       "        362, 139, 352, 366, 578, 406, 155, 418,  14, 137, 636, 325,  14,\n",
       "        241, 610, 399, 561, 631,  23, 169, 290, 291, 470, 508, 244,  62,\n",
       "        290, 182, 635, 454, 310, 448, 328, 155,  42,  53,  55, 215, 155,\n",
       "        581, 213, 161, 390, 431,  77, 232, 387,  21, 435,  15, 178, 346,\n",
       "        342, 183,  47, 191, 270, 147,  64, 599, 213, 461, 530, 194, 226,\n",
       "        320, 617, 147, 267,  35, 591, 540, 253, 159, 417, 570, 245, 215,\n",
       "        164, 551,  78,  36, 208, 436, 341, 509, 413, 532, 198, 576, 437,\n",
       "        304, 262, 414, 281, 353, 321, 135, 282, 529, 444, 536, 493, 554,\n",
       "        619, 130,  90, 135, 150, 131, 219, 172,  63, 111, 301, 579, 423,\n",
       "        517, 171, 249, 390, 158, 435, 149, 313, 116, 343, 369, 337, 279,\n",
       "        526, 542, 533, 328, 406, 342, 394,  39, 499, 380,  38, 351, 156,\n",
       "        299, 152,  81, 305,  79, 220,  29, 126, 358, 292, 261,  88,  51,\n",
       "        305,  31, 532, 526, 546, 592, 416, 312, 555, 229, 624, 492, 468,\n",
       "        579, 507, 235, 391, 464, 391, 415, 386,  21, 626, 346,  41, 464,\n",
       "        412,  10, 392, 600, 124, 539, 554,  17,  34, 600, 612, 354, 531,\n",
       "        190, 213, 214, 313, 564, 329, 147, 456, 620,  95, 397, 396, 518,\n",
       "        611, 602, 192, 488, 609, 627,  75, 392, 582, 400, 190, 608, 529,\n",
       "        492, 591, 463, 132, 284, 189, 381, 611, 306,  86, 197, 402,  93,\n",
       "        483, 122, 436, 358, 427, 499, 602, 234, 140, 529, 382, 630, 492,\n",
       "        158, 447, 227, 400, 497, 456, 333,  24, 636, 567, 167, 477, 591,\n",
       "        533, 350, 618, 318, 539, 160, 494, 328,   7, 576, 462, 181, 407,\n",
       "        141, 196, 445, 280, 260, 567,  19, 137, 135, 155, 516,  49, 158,\n",
       "        629, 231, 423, 193, 495, 383, 438, 342, 564, 276, 554, 120, 359,\n",
       "        332, 222, 456,  40, 275, 404, 390, 396, 211, 467, 121,  24, 407,\n",
       "        386,  10, 447,  73, 425, 240, 447, 184, 221, 585, 298, 624, 383,\n",
       "        365, 137, 337, 300, 174,  69, 239, 280,  50, 484, 282, 238,  12,\n",
       "        150, 206, 628, 524, 267, 425, 310, 506, 144, 444, 149, 487, 481,\n",
       "        167, 574, 158, 593,  15,  84, 468, 554, 369, 542, 330, 307, 234,\n",
       "        107, 208, 255, 191,  19,  70, 290, 232, 592, 523, 633,  46,  45,\n",
       "        422, 344, 594, 398, 324, 271, 239, 573,  42, 352, 222, 521, 484,\n",
       "          3, 288, 110, 410, 491,  58, 314, 410, 185, 474, 506, 367, 518,\n",
       "        336, 205, 149, 242, 212, 299, 380,  59, 591, 520, 577, 206,  63,\n",
       "         92, 623,  27, 496, 603, 488, 130, 379, 429, 250, 246, 123, 565,\n",
       "         10, 228, 264, 310, 545, 304, 418, 617, 350, 447, 512, 450, 278,\n",
       "        596, 375, 221, 434,  55, 275, 493, 292, 204, 344, 244, 587, 320,\n",
       "        368, 462, 555,  41, 109, 295, 626, 622, 475, 491,   3, 300, 348,\n",
       "        550, 560, 593, 407, 636, 378, 500, 245, 619, 610, 484,  38, 241,\n",
       "        454,  75, 313,  61,  44, 442, 416, 232, 385,  37, 297, 619, 398,\n",
       "        450, 172, 249, 143, 450, 179, 130, 347, 519, 170, 437,  48, 190,\n",
       "        500, 231, 315, 273, 362,  38, 526, 331, 552, 283, 354, 342, 208,\n",
       "        325, 204,  10, 324, 569,  88, 425,  65, 466, 460, 387, 107, 106,\n",
       "        279, 140, 462, 392, 187, 416, 110, 335,  52,  80, 379, 395, 113])]"
      ]
     },
     "execution_count": 40,
     "metadata": {},
     "output_type": "execute_result"
    }
   ],
   "source": [
    "#her bir agacin ornekleri\n",
    "bag_model.estimators_samples_"
   ]
  },
  {
   "cell_type": "code",
   "execution_count": 41,
   "id": "4b04106f",
   "metadata": {},
   "outputs": [
    {
     "data": {
      "text/plain": [
       "[array([1, 2, 3, 3]),\n",
       " array([3, 1, 1, 2]),\n",
       " array([3, 2, 3, 1]),\n",
       " array([0, 0, 2, 3]),\n",
       " array([1, 1, 1, 2]),\n",
       " array([3, 2, 3, 3]),\n",
       " array([0, 0, 3, 0]),\n",
       " array([1, 3, 2, 1]),\n",
       " array([3, 1, 2, 0]),\n",
       " array([2, 1, 2, 1])]"
      ]
     },
     "execution_count": 41,
     "metadata": {},
     "output_type": "execute_result"
    }
   ],
   "source": [
    "#her agacin bagimsiz degiskenleri\n",
    "bag_model.estimators_features_"
   ]
  },
  {
   "cell_type": "markdown",
   "id": "c9a4645f",
   "metadata": {},
   "source": [
    "#### 1.3.1. Tahmin\n"
   ]
  },
  {
   "cell_type": "code",
   "execution_count": 42,
   "id": "3f1ca240",
   "metadata": {},
   "outputs": [
    {
     "data": {
      "text/plain": [
       "6.839116610834035"
      ]
     },
     "execution_count": 42,
     "metadata": {},
     "output_type": "execute_result"
    }
   ],
   "source": [
    "y_pred = bag_model.predict(X_test)\n",
    "np.sqrt(mean_squared_error(y_test, y_pred))"
   ]
  },
  {
   "cell_type": "code",
   "execution_count": 43,
   "id": "e9ab0f94",
   "metadata": {},
   "outputs": [
    {
     "data": {
      "text/plain": [
       "9.43577810520702"
      ]
     },
     "execution_count": 43,
     "metadata": {},
     "output_type": "execute_result"
    }
   ],
   "source": [
    "iki_y_pred = bag_model.estimators_[1].fit(X_train, y_train).predict(X_test)\n",
    "np.sqrt(mean_squared_error(y_test, iki_y_pred))\n",
    "yedi_y_pred = bag_model.estimators_[6].fit(X_train, y_train).predict(X_test)\n",
    "np.sqrt(mean_squared_error(y_test, yedi_y_pred))"
   ]
  },
  {
   "cell_type": "markdown",
   "id": "35b8fd54",
   "metadata": {},
   "source": [
    "#### 1.3.2. Model Tuning"
   ]
  },
  {
   "cell_type": "code",
   "execution_count": 44,
   "id": "d8283c2a",
   "metadata": {},
   "outputs": [
    {
     "data": {
      "text/plain": [
       "BaggingRegressor(bootstrap_features=True)"
      ]
     },
     "execution_count": 44,
     "metadata": {},
     "output_type": "execute_result"
    }
   ],
   "source": [
    "bag_model = BaggingRegressor(bootstrap_features = True)\n",
    "bag_model.fit(X_train, y_train)"
   ]
  },
  {
   "cell_type": "code",
   "execution_count": 45,
   "id": "c0ad50bf",
   "metadata": {},
   "outputs": [
    {
     "data": {
      "text/plain": [
       "GridSearchCV(cv=10, estimator=BaggingRegressor(bootstrap_features=True),\n",
       "             param_grid={'n_estimators': range(2, 20)})"
      ]
     },
     "execution_count": 45,
     "metadata": {},
     "output_type": "execute_result"
    }
   ],
   "source": [
    "bag_params = {\"n_estimators\": range(2,20)}\n",
    "bag_cv_model = GridSearchCV(bag_model, bag_params, cv = 10)\n",
    "bag_cv_model.fit(X_train, y_train)"
   ]
  },
  {
   "cell_type": "code",
   "execution_count": 46,
   "id": "48d547c8",
   "metadata": {},
   "outputs": [
    {
     "data": {
      "text/plain": [
       "{'n_estimators': 16}"
      ]
     },
     "execution_count": 46,
     "metadata": {},
     "output_type": "execute_result"
    }
   ],
   "source": [
    "bag_cv_model.best_params_"
   ]
  },
  {
   "cell_type": "code",
   "execution_count": 47,
   "id": "a43ccaeb",
   "metadata": {
    "scrolled": true
   },
   "outputs": [
    {
     "data": {
      "text/plain": [
       "BaggingRegressor(n_estimators=19, random_state=45)"
      ]
     },
     "execution_count": 47,
     "metadata": {},
     "output_type": "execute_result"
    }
   ],
   "source": [
    "bag_tuned = BaggingRegressor( n_estimators = 19, random_state = 45)\n",
    "bag_tuned.fit(X_train, y_train)"
   ]
  },
  {
   "cell_type": "code",
   "execution_count": 48,
   "id": "f831a242",
   "metadata": {},
   "outputs": [
    {
     "data": {
      "text/plain": [
       "7.013171662506802"
      ]
     },
     "execution_count": 48,
     "metadata": {},
     "output_type": "execute_result"
    }
   ],
   "source": [
    "y_pred = bag_tuned.predict(X_test)\n",
    "np.sqrt(mean_squared_error(y_test, y_pred))"
   ]
  },
  {
   "cell_type": "markdown",
   "id": "11be6624",
   "metadata": {},
   "source": [
    "### 1.4. Random Forests"
   ]
  },
  {
   "cell_type": "code",
   "execution_count": 49,
   "id": "6984b3df",
   "metadata": {},
   "outputs": [
    {
     "data": {
      "text/plain": [
       "RandomForestRegressor(random_state=42)"
      ]
     },
     "execution_count": 49,
     "metadata": {},
     "output_type": "execute_result"
    }
   ],
   "source": [
    "rf_model = RandomForestRegressor(random_state = 42)\n",
    "rf_model.fit(X_train, y_train)"
   ]
  },
  {
   "cell_type": "markdown",
   "id": "28ed2a19",
   "metadata": {},
   "source": [
    "#### 1.4.1. Tahmin"
   ]
  },
  {
   "cell_type": "code",
   "execution_count": 50,
   "id": "81388ace",
   "metadata": {},
   "outputs": [
    {
     "data": {
      "text/plain": [
       "array([11.153 , 12.1655,  6.539 , 10.709 ,  9.133 ])"
      ]
     },
     "execution_count": 50,
     "metadata": {},
     "output_type": "execute_result"
    }
   ],
   "source": [
    "rf_model.predict(X_test)[0:5]"
   ]
  },
  {
   "cell_type": "code",
   "execution_count": 51,
   "id": "451056a2",
   "metadata": {},
   "outputs": [
    {
     "data": {
      "text/plain": [
       "7.013990455994872"
      ]
     },
     "execution_count": 51,
     "metadata": {},
     "output_type": "execute_result"
    }
   ],
   "source": [
    "y_pred = rf_model.predict(X_test)\n",
    "np.sqrt(mean_squared_error(y_test, y_pred))"
   ]
  },
  {
   "cell_type": "markdown",
   "id": "75b416b8",
   "metadata": {},
   "source": [
    "#### 1.4.2. Model Tuning"
   ]
  },
  {
   "cell_type": "code",
   "execution_count": 52,
   "id": "6ee8aab2",
   "metadata": {},
   "outputs": [],
   "source": [
    "rf_params = {'max_depth': list(range(1,10)),\n",
    "            'max_features': [3,5,10,15],\n",
    "            'n_estimators' : [100, 200, 500, 1000, 2000]}\n",
    "rf_model = RandomForestRegressor(random_state = 42)\n",
    "rf_cv_model = GridSearchCV(rf_model, \n",
    "                           rf_params, \n",
    "                           cv = 10, \n",
    "                            n_jobs = -1)"
   ]
  },
  {
   "cell_type": "code",
   "execution_count": 53,
   "id": "8597358b",
   "metadata": {},
   "outputs": [
    {
     "data": {
      "text/plain": [
       "{'max_depth': 4, 'max_features': 3, 'n_estimators': 2000}"
      ]
     },
     "execution_count": 53,
     "metadata": {},
     "output_type": "execute_result"
    }
   ],
   "source": [
    "rf_cv_model.fit(X_train, y_train)\n",
    "rf_cv_model.best_params_"
   ]
  },
  {
   "cell_type": "code",
   "execution_count": 54,
   "id": "997da266",
   "metadata": {},
   "outputs": [],
   "source": [
    "rf_tuned = RandomForestRegressor(max_depth  = 4, \n",
    "                                 max_features = 3, \n",
    "                                 n_estimators =2000)"
   ]
  },
  {
   "cell_type": "code",
   "execution_count": 55,
   "id": "f563946d",
   "metadata": {},
   "outputs": [
    {
     "data": {
      "text/plain": [
       "RandomForestRegressor(max_depth=4, max_features=3, n_estimators=2000)"
      ]
     },
     "execution_count": 55,
     "metadata": {},
     "output_type": "execute_result"
    }
   ],
   "source": [
    "rf_tuned.fit(X_train, y_train)"
   ]
  },
  {
   "cell_type": "code",
   "execution_count": 56,
   "id": "4ad6b805",
   "metadata": {},
   "outputs": [
    {
     "data": {
      "text/plain": [
       "6.523974747926032"
      ]
     },
     "execution_count": 56,
     "metadata": {},
     "output_type": "execute_result"
    }
   ],
   "source": [
    "y_pred = rf_tuned.predict(X_test)\n",
    "np.sqrt(mean_squared_error(y_test, y_pred))"
   ]
  },
  {
   "cell_type": "code",
   "execution_count": 57,
   "id": "da4102b7",
   "metadata": {},
   "outputs": [
    {
     "data": {
      "text/plain": [
       "Text(0.5, 0, 'Değişken Önem Düzeyleri')"
      ]
     },
     "execution_count": 57,
     "metadata": {},
     "output_type": "execute_result"
    },
    {
     "data": {
      "image/png": "[encoded data removed]",
      "text/plain": [
       "<Figure size 432x288 with 1 Axes>"
      ]
     },
     "metadata": {
      "needs_background": "light"
     },
     "output_type": "display_data"
    }
   ],
   "source": [
    "Importance = pd.DataFrame({\"Importance\": rf_tuned.feature_importances_*100},\n",
    "                         index = X_train.columns)\n",
    "Importance.sort_values(by = \"Importance\", \n",
    "                       axis = 0, \n",
    "                       ascending = True).plot(kind =\"barh\", color = \"g\")\n",
    "\n",
    "plt.xlabel(\"Değişken Önem Düzeyleri\")"
   ]
  },
  {
   "cell_type": "markdown",
   "id": "0100ece1",
   "metadata": {},
   "source": [
    "### 1.5. Gradient Boosting Machines (GBM)"
   ]
  },
  {
   "cell_type": "code",
   "execution_count": 58,
   "id": "67269014",
   "metadata": {},
   "outputs": [
    {
     "data": {
      "text/plain": [
       "GradientBoostingRegressor()"
      ]
     },
     "execution_count": 58,
     "metadata": {},
     "output_type": "execute_result"
    }
   ],
   "source": [
    "gbm_model = GradientBoostingRegressor()\n",
    "gbm_model.fit(X_train, y_train)"
   ]
  },
  {
   "cell_type": "markdown",
   "id": "c48ec4bb",
   "metadata": {},
   "source": [
    "#### 1.5.1. Tahmin"
   ]
  },
  {
   "cell_type": "code",
   "execution_count": 59,
   "id": "8ca070ee",
   "metadata": {},
   "outputs": [
    {
     "data": {
      "text/plain": [
       "6.707820743318875"
      ]
     },
     "execution_count": 59,
     "metadata": {},
     "output_type": "execute_result"
    }
   ],
   "source": [
    "y_pred = gbm_model.predict(X_test)\n",
    "np.sqrt(mean_squared_error(y_test, y_pred))"
   ]
  },
  {
   "cell_type": "markdown",
   "id": "003de7fb",
   "metadata": {},
   "source": [
    "#### 1.5.2. Model Tuning"
   ]
  },
  {
   "cell_type": "code",
   "execution_count": 60,
   "id": "55447384",
   "metadata": {},
   "outputs": [],
   "source": [
    "gbm_params = {\n",
    "    'learning_rate': [0.001, 0.01, 0.1, 0.2],\n",
    "    'max_depth': [3, 5, 8,50,100],\n",
    "    'n_estimators': [200, 500, 1000, 2000],\n",
    "    'subsample': [1,0.5,0.75],\n",
    "}"
   ]
  },
  {
   "cell_type": "code",
   "execution_count": 61,
   "id": "13ae52b6",
   "metadata": {},
   "outputs": [
    {
     "name": "stdout",
     "output_type": "stream",
     "text": [
      "Fitting 10 folds for each of 240 candidates, totalling 2400 fits\n"
     ]
    },
    {
     "data": {
      "text/plain": [
       "GridSearchCV(cv=10, estimator=GradientBoostingRegressor(), n_jobs=-1,\n",
       "             param_grid={'learning_rate': [0.001, 0.01, 0.1, 0.2],\n",
       "                         'max_depth': [3, 5, 8, 50, 100],\n",
       "                         'n_estimators': [200, 500, 1000, 2000],\n",
       "                         'subsample': [1, 0.5, 0.75]},\n",
       "             verbose=2)"
      ]
     },
     "execution_count": 61,
     "metadata": {},
     "output_type": "execute_result"
    }
   ],
   "source": [
    "gbm = GradientBoostingRegressor()\n",
    "gbm_cv_model = GridSearchCV(gbm, gbm_params, cv = 10, n_jobs = -1, verbose = 2)\n",
    "gbm_cv_model.fit(X_train, y_train)"
   ]
  },
  {
   "cell_type": "code",
   "execution_count": 62,
   "id": "1835c84b",
   "metadata": {},
   "outputs": [
    {
     "data": {
      "text/plain": [
       "{'learning_rate': 0.001, 'max_depth': 8, 'n_estimators': 500, 'subsample': 0.5}"
      ]
     },
     "execution_count": 62,
     "metadata": {},
     "output_type": "execute_result"
    }
   ],
   "source": [
    "gbm_cv_model.best_params_"
   ]
  },
  {
   "cell_type": "code",
   "execution_count": 63,
   "id": "e5be04f1",
   "metadata": {},
   "outputs": [
    {
     "data": {
      "text/plain": [
       "6.49426033008921"
      ]
     },
     "execution_count": 63,
     "metadata": {},
     "output_type": "execute_result"
    }
   ],
   "source": [
    "gbm_tuned = GradientBoostingRegressor(learning_rate = 0.001,  \n",
    "                                      max_depth = 100, \n",
    "                                      n_estimators = 200, \n",
    "                                      subsample = 0.5)\n",
    "\n",
    "gbm_tuned = gbm_tuned.fit(X_train,y_train)\n",
    "\n",
    "y_pred = gbm_tuned.predict(X_test)\n",
    "np.sqrt(mean_squared_error(y_test, y_pred))"
   ]
  },
  {
   "cell_type": "code",
   "execution_count": 64,
   "id": "1cab4dfb",
   "metadata": {},
   "outputs": [
    {
     "data": {
      "text/plain": [
       "Text(0.5, 0, 'Değişken Önem Düzeyleri')"
      ]
     },
     "execution_count": 64,
     "metadata": {},
     "output_type": "execute_result"
    },
    {
     "data": {
      "image/png": "[encoded data removed]",
      "text/plain": [
       "<Figure size 432x288 with 1 Axes>"
      ]
     },
     "metadata": {
      "needs_background": "light"
     },
     "output_type": "display_data"
    }
   ],
   "source": [
    "Importance = pd.DataFrame({\"Importance\": gbm_tuned.feature_importances_*100},\n",
    "                         index = X_train.columns)\n",
    "Importance.sort_values(by = \"Importance\", \n",
    "                       axis = 0, \n",
    "                       ascending = True).plot(kind =\"barh\", color = \"g\")\n",
    "\n",
    "plt.xlabel(\"Değişken Önem Düzeyleri\")"
   ]
  },
  {
   "cell_type": "markdown",
   "id": "985ca826",
   "metadata": {},
   "source": [
    "### 1.6. XGBoost (eXtreme Gradient Boosting)"
   ]
  },
  {
   "cell_type": "code",
   "execution_count": 65,
   "id": "844fbcd9",
   "metadata": {},
   "outputs": [],
   "source": [
    "DM_train = xgb.DMatrix(data = X_train, label = y_train)\n",
    "DM_test = xgb.DMatrix(data = X_test, label = y_test)"
   ]
  },
  {
   "cell_type": "code",
   "execution_count": 66,
   "id": "98335aff",
   "metadata": {},
   "outputs": [],
   "source": [
    "xgb_model = XGBRegressor().fit(X_train, y_train)"
   ]
  },
  {
   "cell_type": "markdown",
   "id": "3657316d",
   "metadata": {},
   "source": [
    "#### 1.6.1. Tahmin"
   ]
  },
  {
   "cell_type": "code",
   "execution_count": 67,
   "id": "70af5f26",
   "metadata": {},
   "outputs": [
    {
     "data": {
      "text/plain": [
       "7.668977049947113"
      ]
     },
     "execution_count": 67,
     "metadata": {},
     "output_type": "execute_result"
    }
   ],
   "source": [
    "y_pred = xgb_model.predict(X_test)\n",
    "np.sqrt(mean_squared_error(y_test, y_pred))"
   ]
  },
  {
   "cell_type": "markdown",
   "id": "f8970738",
   "metadata": {},
   "source": [
    "#### 1.6.2. Model Tuning"
   ]
  },
  {
   "cell_type": "code",
   "execution_count": 68,
   "id": "5b2d49b5",
   "metadata": {},
   "outputs": [],
   "source": [
    "xgb_grid = {\n",
    "     'colsample_bytree': [0.4, 0.5,0.6,0.9,1], \n",
    "     'n_estimators':[100, 200, 500, 1000],\n",
    "     'max_depth': [2,3,4,5,6],\n",
    "     'learning_rate': [0.1, 0.01, 0.5]\n",
    "}"
   ]
  },
  {
   "cell_type": "code",
   "execution_count": 69,
   "id": "18920d8f",
   "metadata": {},
   "outputs": [
    {
     "name": "stdout",
     "output_type": "stream",
     "text": [
      "Fitting 10 folds for each of 300 candidates, totalling 3000 fits\n"
     ]
    },
    {
     "data": {
      "text/plain": [
       "GridSearchCV(cv=10,\n",
       "             estimator=XGBRegressor(base_score=None, booster=None,\n",
       "                                    callbacks=None, colsample_bylevel=None,\n",
       "                                    colsample_bynode=None,\n",
       "                                    colsample_bytree=None,\n",
       "                                    early_stopping_rounds=None,\n",
       "                                    enable_categorical=False, eval_metric=None,\n",
       "                                    gamma=None, gpu_id=None, grow_policy=None,\n",
       "                                    importance_type=None,\n",
       "                                    interaction_constraints=None,\n",
       "                                    learning_rate=None, max_bin=None,\n",
       "                                    max_ca...\n",
       "                                    max_depth=None, max_leaves=None,\n",
       "                                    min_child_weight=None, missing=nan,\n",
       "                                    monotone_constraints=None, n_estimators=100,\n",
       "                                    n_jobs=None, num_parallel_tree=None,\n",
       "                                    predictor=None, random_state=None,\n",
       "                                    reg_alpha=None, reg_lambda=None, ...),\n",
       "             n_jobs=-1,\n",
       "             param_grid={'colsample_bytree': [0.4, 0.5, 0.6, 0.9, 1],\n",
       "                         'learning_rate': [0.1, 0.01, 0.5],\n",
       "                         'max_depth': [2, 3, 4, 5, 6],\n",
       "                         'n_estimators': [100, 200, 500, 1000]},\n",
       "             verbose=2)"
      ]
     },
     "execution_count": 69,
     "metadata": {},
     "output_type": "execute_result"
    }
   ],
   "source": [
    "xgb = XGBRegressor()\n",
    "xgb_cv = GridSearchCV(xgb, \n",
    "                      param_grid = xgb_grid, \n",
    "                      cv = 10, \n",
    "                      n_jobs = -1,\n",
    "                      verbose = 2)\n",
    "\n",
    "xgb_cv.fit(X_train, y_train)"
   ]
  },
  {
   "cell_type": "code",
   "execution_count": 70,
   "id": "ded55f42",
   "metadata": {},
   "outputs": [
    {
     "data": {
      "text/plain": [
       "{'colsample_bytree': 1,\n",
       " 'learning_rate': 0.01,\n",
       " 'max_depth': 2,\n",
       " 'n_estimators': 500}"
      ]
     },
     "execution_count": 70,
     "metadata": {},
     "output_type": "execute_result"
    }
   ],
   "source": [
    "xgb_cv.best_params_"
   ]
  },
  {
   "cell_type": "code",
   "execution_count": 71,
   "id": "3e828538",
   "metadata": {},
   "outputs": [
    {
     "data": {
      "text/plain": [
       "6.663862096866403"
      ]
     },
     "execution_count": 71,
     "metadata": {},
     "output_type": "execute_result"
    }
   ],
   "source": [
    "xgb_tuned = XGBRegressor(colsample_bytree = 1, \n",
    "                         learning_rate = 0.1, \n",
    "                         max_depth = 2, \n",
    "                         n_estimators = 500) \n",
    "\n",
    "xgb_tuned = xgb_tuned.fit(X_train,y_train)\n",
    "\n",
    "y_pred = xgb_tuned.predict(X_test)\n",
    "np.sqrt(mean_squared_error(y_test, y_pred))"
   ]
  },
  {
   "cell_type": "code",
   "execution_count": 72,
   "id": "d784d841",
   "metadata": {},
   "outputs": [
    {
     "data": {
      "text/plain": [
       "Text(0.5, 0, 'Değişken Önem Düzeyleri')"
      ]
     },
     "execution_count": 72,
     "metadata": {},
     "output_type": "execute_result"
    },
    {
     "data": {
      "image/png": "[encoded data removed]",
      "text/plain": [
       "<Figure size 432x288 with 1 Axes>"
      ]
     },
     "metadata": {
      "needs_background": "light"
     },
     "output_type": "display_data"
    }
   ],
   "source": [
    "Importance = pd.DataFrame({\"Importance\": xgb_tuned.feature_importances_*100},\n",
    "                         index = X_train.columns)\n",
    "Importance.sort_values(by = \"Importance\", \n",
    "                       axis = 0, \n",
    "                       ascending = True).plot(kind =\"barh\", color = \"g\")\n",
    "\n",
    "plt.xlabel(\"Değişken Önem Düzeyleri\")"
   ]
  },
  {
   "cell_type": "markdown",
   "id": "31693cfd",
   "metadata": {},
   "source": [
    "### 1.7. Light GBM"
   ]
  },
  {
   "cell_type": "code",
   "execution_count": 73,
   "id": "057727a3",
   "metadata": {},
   "outputs": [],
   "source": [
    "lgbm = LGBMRegressor()\n",
    "lgbm_model = lgbm.fit(X_train, y_train)"
   ]
  },
  {
   "cell_type": "markdown",
   "id": "5d8ca257",
   "metadata": {},
   "source": [
    "#### 1.7.1. Tahmin"
   ]
  },
  {
   "cell_type": "code",
   "execution_count": 74,
   "id": "c6fd469c",
   "metadata": {},
   "outputs": [
    {
     "data": {
      "text/plain": [
       "6.955172488184218"
      ]
     },
     "execution_count": 74,
     "metadata": {},
     "output_type": "execute_result"
    }
   ],
   "source": [
    "y_pred = lgbm_model.predict(X_test, num_iteration = lgbm_model.best_iteration_)\n",
    "np.sqrt(mean_squared_error(y_test, y_pred))"
   ]
  },
  {
   "cell_type": "markdown",
   "id": "81439db9",
   "metadata": {},
   "source": [
    "#### 1.7.2. Model Tuning"
   ]
  },
  {
   "cell_type": "code",
   "execution_count": 75,
   "id": "cc4968e6",
   "metadata": {},
   "outputs": [
    {
     "name": "stdout",
     "output_type": "stream",
     "text": [
      "Fitting 10 folds for each of 960 candidates, totalling 9600 fits\n"
     ]
    },
    {
     "data": {
      "text/plain": [
       "GridSearchCV(cv=10, estimator=LGBMRegressor(), n_jobs=-1,\n",
       "             param_grid={'colsample_bytree': [0.4, 0.5, 0.6, 0.9, 1],\n",
       "                         'learning_rate': [0.01, 0.1, 0.5, 1],\n",
       "                         'max_depth': [1, 2, 3, 4, 5, 6, 7, 8],\n",
       "                         'n_estimators': [20, 40, 100, 200, 500, 1000]},\n",
       "             verbose=2)"
      ]
     },
     "execution_count": 75,
     "metadata": {},
     "output_type": "execute_result"
    }
   ],
   "source": [
    "lgbm_grid = {\n",
    "    'colsample_bytree': [0.4, 0.5,0.6,0.9,1],\n",
    "    'learning_rate': [0.01, 0.1, 0.5,1],\n",
    "    'n_estimators': [20, 40, 100, 200, 500,1000],\n",
    "    'max_depth': [1,2,3,4,5,6,7,8] }\n",
    "\n",
    "lgbm = LGBMRegressor()\n",
    "lgbm_cv_model = GridSearchCV(lgbm, lgbm_grid, cv=10, n_jobs = -1, verbose = 2)\n",
    "lgbm_cv_model.fit(X_train, y_train)"
   ]
  },
  {
   "cell_type": "code",
   "execution_count": 76,
   "id": "09da16a1",
   "metadata": {},
   "outputs": [
    {
     "data": {
      "text/plain": [
       "{'colsample_bytree': 0.9,\n",
       " 'learning_rate': 0.01,\n",
       " 'max_depth': 5,\n",
       " 'n_estimators': 40}"
      ]
     },
     "execution_count": 76,
     "metadata": {},
     "output_type": "execute_result"
    }
   ],
   "source": [
    "lgbm_cv_model.best_params_"
   ]
  },
  {
   "cell_type": "code",
   "execution_count": 77,
   "id": "1d42056a",
   "metadata": {},
   "outputs": [
    {
     "data": {
      "text/plain": [
       "6.4805956122355886"
      ]
     },
     "execution_count": 77,
     "metadata": {},
     "output_type": "execute_result"
    }
   ],
   "source": [
    "lgbm_tuned = LGBMRegressor(learning_rate = 0.01, \n",
    "                           max_depth = 5, \n",
    "                           n_estimators = 40,\n",
    "                          colsample_bytree = 0.9)\n",
    "\n",
    "lgbm_tuned = lgbm_tuned.fit(X_train,y_train)\n",
    "y_pred = lgbm_tuned.predict(X_test)\n",
    "np.sqrt(mean_squared_error(y_test, y_pred))"
   ]
  },
  {
   "cell_type": "code",
   "execution_count": 78,
   "id": "8a6ae4ec",
   "metadata": {},
   "outputs": [
    {
     "data": {
      "text/plain": [
       "Text(0.5, 0, 'Değişken Önem Düzeyleri')"
      ]
     },
     "execution_count": 78,
     "metadata": {},
     "output_type": "execute_result"
    },
    {
     "data": {
      "image/png": "[encoded data removed]",
      "text/plain": [
       "<Figure size 432x288 with 1 Axes>"
      ]
     },
     "metadata": {
      "needs_background": "light"
     },
     "output_type": "display_data"
    }
   ],
   "source": [
    "Importance = pd.DataFrame({\"Importance\": lgbm_tuned.feature_importances_*100},\n",
    "                         index = X_train.columns)\n",
    "Importance.sort_values(by = \"Importance\", \n",
    "                       axis = 0, \n",
    "                       ascending = True).plot(kind =\"barh\", color = \"g\")\n",
    "\n",
    "plt.xlabel(\"Değişken Önem Düzeyleri\")"
   ]
  },
  {
   "cell_type": "markdown",
   "id": "25817c1c",
   "metadata": {},
   "source": [
    "### 1.8. CatBoost\n"
   ]
  },
  {
   "cell_type": "code",
   "execution_count": 79,
   "id": "445ba74b",
   "metadata": {},
   "outputs": [
    {
     "name": "stdout",
     "output_type": "stream",
     "text": [
      "Learning rate set to 0.038127\n",
      "0:\tlearn: 6.3263832\ttotal: 149ms\tremaining: 2m 28s\n",
      "1:\tlearn: 6.3165462\ttotal: 150ms\tremaining: 1m 14s\n",
      "2:\tlearn: 6.3071290\ttotal: 151ms\tremaining: 50.3s\n",
      "3:\tlearn: 6.2979020\ttotal: 153ms\tremaining: 38s\n",
      "4:\tlearn: 6.2876949\ttotal: 154ms\tremaining: 30.6s\n",
      "5:\tlearn: 6.2837419\ttotal: 155ms\tremaining: 25.6s\n",
      "6:\tlearn: 6.2738906\ttotal: 156ms\tremaining: 22.1s\n",
      "7:\tlearn: 6.2660541\ttotal: 157ms\tremaining: 19.4s\n",
      "8:\tlearn: 6.2599259\ttotal: 158ms\tremaining: 17.4s\n",
      "9:\tlearn: 6.2542386\ttotal: 159ms\tremaining: 15.8s\n",
      "10:\tlearn: 6.2501507\ttotal: 160ms\tremaining: 14.4s\n",
      "11:\tlearn: 6.2417867\ttotal: 161ms\tremaining: 13.3s\n",
      "12:\tlearn: 6.2341302\ttotal: 163ms\tremaining: 12.3s\n",
      "13:\tlearn: 6.2300639\ttotal: 164ms\tremaining: 11.5s\n",
      "14:\tlearn: 6.2255029\ttotal: 165ms\tremaining: 10.8s\n",
      "15:\tlearn: 6.2187668\ttotal: 166ms\tremaining: 10.2s\n",
      "16:\tlearn: 6.2138748\ttotal: 167ms\tremaining: 9.65s\n",
      "17:\tlearn: 6.2040595\ttotal: 168ms\tremaining: 9.17s\n",
      "18:\tlearn: 6.1962084\ttotal: 169ms\tremaining: 8.73s\n",
      "19:\tlearn: 6.1897483\ttotal: 170ms\tremaining: 8.35s\n",
      "20:\tlearn: 6.1805301\ttotal: 171ms\tremaining: 7.99s\n",
      "21:\tlearn: 6.1739066\ttotal: 173ms\tremaining: 7.67s\n",
      "22:\tlearn: 6.1677377\ttotal: 174ms\tremaining: 7.38s\n",
      "23:\tlearn: 6.1577146\ttotal: 175ms\tremaining: 7.11s\n",
      "24:\tlearn: 6.1494154\ttotal: 176ms\tremaining: 6.86s\n",
      "25:\tlearn: 6.1477761\ttotal: 177ms\tremaining: 6.62s\n",
      "26:\tlearn: 6.1416628\ttotal: 178ms\tremaining: 6.4s\n",
      "27:\tlearn: 6.1333201\ttotal: 179ms\tremaining: 6.21s\n",
      "28:\tlearn: 6.1289440\ttotal: 180ms\tremaining: 6.03s\n",
      "29:\tlearn: 6.1196631\ttotal: 181ms\tremaining: 5.87s\n",
      "30:\tlearn: 6.1171018\ttotal: 183ms\tremaining: 5.71s\n",
      "31:\tlearn: 6.1151478\ttotal: 184ms\tremaining: 5.56s\n",
      "32:\tlearn: 6.1084929\ttotal: 185ms\tremaining: 5.41s\n",
      "33:\tlearn: 6.1023151\ttotal: 186ms\tremaining: 5.29s\n",
      "34:\tlearn: 6.0968572\ttotal: 187ms\tremaining: 5.16s\n",
      "35:\tlearn: 6.0929257\ttotal: 189ms\tremaining: 5.05s\n",
      "36:\tlearn: 6.0878715\ttotal: 190ms\tremaining: 4.94s\n",
      "37:\tlearn: 6.0835925\ttotal: 191ms\tremaining: 4.84s\n",
      "38:\tlearn: 6.0800588\ttotal: 193ms\tremaining: 4.74s\n",
      "39:\tlearn: 6.0734508\ttotal: 194ms\tremaining: 4.65s\n",
      "40:\tlearn: 6.0699149\ttotal: 195ms\tremaining: 4.56s\n",
      "41:\tlearn: 6.0674519\ttotal: 196ms\tremaining: 4.48s\n",
      "42:\tlearn: 6.0607817\ttotal: 198ms\tremaining: 4.39s\n",
      "43:\tlearn: 6.0551628\ttotal: 199ms\tremaining: 4.32s\n",
      "44:\tlearn: 6.0518977\ttotal: 200ms\tremaining: 4.24s\n",
      "45:\tlearn: 6.0517414\ttotal: 201ms\tremaining: 4.17s\n",
      "46:\tlearn: 6.0494194\ttotal: 202ms\tremaining: 4.1s\n",
      "47:\tlearn: 6.0423898\ttotal: 204ms\tremaining: 4.04s\n",
      "48:\tlearn: 6.0378266\ttotal: 205ms\tremaining: 3.97s\n",
      "49:\tlearn: 6.0326913\ttotal: 206ms\tremaining: 3.92s\n",
      "50:\tlearn: 6.0257699\ttotal: 207ms\tremaining: 3.86s\n",
      "51:\tlearn: 6.0222219\ttotal: 209ms\tremaining: 3.8s\n",
      "52:\tlearn: 6.0158621\ttotal: 210ms\tremaining: 3.75s\n",
      "53:\tlearn: 6.0109071\ttotal: 211ms\tremaining: 3.7s\n",
      "54:\tlearn: 6.0039518\ttotal: 213ms\tremaining: 3.65s\n",
      "55:\tlearn: 5.9999342\ttotal: 214ms\tremaining: 3.6s\n",
      "56:\tlearn: 5.9969539\ttotal: 215ms\tremaining: 3.56s\n",
      "57:\tlearn: 5.9951217\ttotal: 217ms\tremaining: 3.52s\n",
      "58:\tlearn: 5.9898221\ttotal: 218ms\tremaining: 3.47s\n",
      "59:\tlearn: 5.9859294\ttotal: 219ms\tremaining: 3.43s\n",
      "60:\tlearn: 5.9793981\ttotal: 220ms\tremaining: 3.39s\n",
      "61:\tlearn: 5.9747689\ttotal: 221ms\tremaining: 3.35s\n",
      "62:\tlearn: 5.9716008\ttotal: 222ms\tremaining: 3.31s\n",
      "63:\tlearn: 5.9654113\ttotal: 224ms\tremaining: 3.27s\n",
      "64:\tlearn: 5.9611475\ttotal: 225ms\tremaining: 3.23s\n",
      "65:\tlearn: 5.9561304\ttotal: 226ms\tremaining: 3.2s\n",
      "66:\tlearn: 5.9528192\ttotal: 227ms\tremaining: 3.17s\n",
      "67:\tlearn: 5.9504701\ttotal: 229ms\tremaining: 3.13s\n",
      "68:\tlearn: 5.9466861\ttotal: 230ms\tremaining: 3.1s\n",
      "69:\tlearn: 5.9386211\ttotal: 231ms\tremaining: 3.07s\n",
      "70:\tlearn: 5.9372545\ttotal: 232ms\tremaining: 3.04s\n",
      "71:\tlearn: 5.9329335\ttotal: 233ms\tremaining: 3s\n",
      "72:\tlearn: 5.9307097\ttotal: 234ms\tremaining: 2.98s\n",
      "73:\tlearn: 5.9275253\ttotal: 236ms\tremaining: 2.95s\n",
      "74:\tlearn: 5.9231872\ttotal: 237ms\tremaining: 2.92s\n",
      "75:\tlearn: 5.9222513\ttotal: 237ms\tremaining: 2.89s\n",
      "76:\tlearn: 5.9187466\ttotal: 239ms\tremaining: 2.86s\n",
      "77:\tlearn: 5.9166520\ttotal: 240ms\tremaining: 2.83s\n",
      "78:\tlearn: 5.9142944\ttotal: 241ms\tremaining: 2.81s\n",
      "79:\tlearn: 5.9097896\ttotal: 242ms\tremaining: 2.79s\n",
      "80:\tlearn: 5.9051897\ttotal: 244ms\tremaining: 2.76s\n",
      "81:\tlearn: 5.8998613\ttotal: 245ms\tremaining: 2.74s\n",
      "82:\tlearn: 5.8994289\ttotal: 246ms\tremaining: 2.71s\n",
      "83:\tlearn: 5.8954561\ttotal: 247ms\tremaining: 2.69s\n",
      "84:\tlearn: 5.8923039\ttotal: 248ms\tremaining: 2.67s\n",
      "85:\tlearn: 5.8880623\ttotal: 249ms\tremaining: 2.65s\n",
      "86:\tlearn: 5.8866746\ttotal: 251ms\tremaining: 2.63s\n",
      "87:\tlearn: 5.8807434\ttotal: 252ms\tremaining: 2.61s\n",
      "88:\tlearn: 5.8776580\ttotal: 253ms\tremaining: 2.59s\n",
      "89:\tlearn: 5.8749115\ttotal: 254ms\tremaining: 2.57s\n",
      "90:\tlearn: 5.8704997\ttotal: 256ms\tremaining: 2.55s\n",
      "91:\tlearn: 5.8649781\ttotal: 257ms\tremaining: 2.53s\n",
      "92:\tlearn: 5.8623910\ttotal: 258ms\tremaining: 2.52s\n",
      "93:\tlearn: 5.8608191\ttotal: 259ms\tremaining: 2.5s\n",
      "94:\tlearn: 5.8564254\ttotal: 260ms\tremaining: 2.48s\n",
      "95:\tlearn: 5.8505337\ttotal: 262ms\tremaining: 2.46s\n",
      "96:\tlearn: 5.8457074\ttotal: 263ms\tremaining: 2.45s\n",
      "97:\tlearn: 5.8395486\ttotal: 264ms\tremaining: 2.43s\n",
      "98:\tlearn: 5.8345525\ttotal: 265ms\tremaining: 2.41s\n",
      "99:\tlearn: 5.8324333\ttotal: 266ms\tremaining: 2.4s\n",
      "100:\tlearn: 5.8296799\ttotal: 268ms\tremaining: 2.38s\n",
      "101:\tlearn: 5.8261632\ttotal: 269ms\tremaining: 2.37s\n",
      "102:\tlearn: 5.8211660\ttotal: 270ms\tremaining: 2.35s\n",
      "103:\tlearn: 5.8182781\ttotal: 271ms\tremaining: 2.33s\n",
      "104:\tlearn: 5.8179405\ttotal: 272ms\tremaining: 2.32s\n",
      "105:\tlearn: 5.8161754\ttotal: 273ms\tremaining: 2.3s\n",
      "106:\tlearn: 5.8155023\ttotal: 274ms\tremaining: 2.29s\n",
      "107:\tlearn: 5.8152370\ttotal: 275ms\tremaining: 2.27s\n",
      "108:\tlearn: 5.8124268\ttotal: 276ms\tremaining: 2.25s\n",
      "109:\tlearn: 5.8091090\ttotal: 277ms\tremaining: 2.24s\n",
      "110:\tlearn: 5.8074915\ttotal: 278ms\tremaining: 2.23s\n",
      "111:\tlearn: 5.8055123\ttotal: 280ms\tremaining: 2.22s\n",
      "112:\tlearn: 5.8044660\ttotal: 281ms\tremaining: 2.21s\n",
      "113:\tlearn: 5.8004754\ttotal: 282ms\tremaining: 2.19s\n",
      "114:\tlearn: 5.8003117\ttotal: 283ms\tremaining: 2.18s\n",
      "115:\tlearn: 5.7972368\ttotal: 284ms\tremaining: 2.16s\n",
      "116:\tlearn: 5.7935811\ttotal: 285ms\tremaining: 2.15s\n",
      "117:\tlearn: 5.7874931\ttotal: 286ms\tremaining: 2.14s\n",
      "118:\tlearn: 5.7816130\ttotal: 288ms\tremaining: 2.13s\n",
      "119:\tlearn: 5.7767034\ttotal: 289ms\tremaining: 2.12s\n",
      "120:\tlearn: 5.7709632\ttotal: 290ms\tremaining: 2.11s\n",
      "121:\tlearn: 5.7674398\ttotal: 291ms\tremaining: 2.1s\n",
      "122:\tlearn: 5.7653190\ttotal: 292ms\tremaining: 2.08s\n",
      "123:\tlearn: 5.7586879\ttotal: 294ms\tremaining: 2.07s\n",
      "124:\tlearn: 5.7565781\ttotal: 295ms\tremaining: 2.06s\n",
      "125:\tlearn: 5.7543738\ttotal: 296ms\tremaining: 2.05s\n",
      "126:\tlearn: 5.7518400\ttotal: 297ms\tremaining: 2.04s\n",
      "127:\tlearn: 5.7495774\ttotal: 298ms\tremaining: 2.03s\n",
      "128:\tlearn: 5.7455781\ttotal: 300ms\tremaining: 2.02s\n",
      "129:\tlearn: 5.7429714\ttotal: 301ms\tremaining: 2.01s\n",
      "130:\tlearn: 5.7382108\ttotal: 302ms\tremaining: 2s\n",
      "131:\tlearn: 5.7333299\ttotal: 304ms\tremaining: 2s\n",
      "132:\tlearn: 5.7305892\ttotal: 305ms\tremaining: 1.99s\n",
      "133:\tlearn: 5.7297144\ttotal: 306ms\tremaining: 1.98s\n",
      "134:\tlearn: 5.7270684\ttotal: 307ms\tremaining: 1.97s\n",
      "135:\tlearn: 5.7211897\ttotal: 308ms\tremaining: 1.96s\n",
      "136:\tlearn: 5.7159071\ttotal: 310ms\tremaining: 1.95s\n",
      "137:\tlearn: 5.7109150\ttotal: 311ms\tremaining: 1.94s\n",
      "138:\tlearn: 5.7085907\ttotal: 312ms\tremaining: 1.93s\n",
      "139:\tlearn: 5.7072911\ttotal: 313ms\tremaining: 1.92s\n",
      "140:\tlearn: 5.7066138\ttotal: 314ms\tremaining: 1.91s\n",
      "141:\tlearn: 5.7056252\ttotal: 315ms\tremaining: 1.9s\n",
      "142:\tlearn: 5.7033933\ttotal: 316ms\tremaining: 1.9s\n",
      "143:\tlearn: 5.6987581\ttotal: 317ms\tremaining: 1.89s\n",
      "144:\tlearn: 5.6968337\ttotal: 318ms\tremaining: 1.88s\n",
      "145:\tlearn: 5.6942114\ttotal: 320ms\tremaining: 1.87s\n",
      "146:\tlearn: 5.6906467\ttotal: 321ms\tremaining: 1.86s\n",
      "147:\tlearn: 5.6901564\ttotal: 322ms\tremaining: 1.85s\n",
      "148:\tlearn: 5.6864941\ttotal: 323ms\tremaining: 1.84s\n",
      "149:\tlearn: 5.6799744\ttotal: 324ms\tremaining: 1.84s\n",
      "150:\tlearn: 5.6778534\ttotal: 325ms\tremaining: 1.83s\n",
      "151:\tlearn: 5.6729348\ttotal: 326ms\tremaining: 1.82s\n",
      "152:\tlearn: 5.6686617\ttotal: 327ms\tremaining: 1.81s\n",
      "153:\tlearn: 5.6658079\ttotal: 329ms\tremaining: 1.8s\n",
      "154:\tlearn: 5.6639499\ttotal: 330ms\tremaining: 1.8s\n",
      "155:\tlearn: 5.6611927\ttotal: 331ms\tremaining: 1.79s\n",
      "156:\tlearn: 5.6550013\ttotal: 332ms\tremaining: 1.78s\n",
      "157:\tlearn: 5.6529468\ttotal: 333ms\tremaining: 1.78s\n",
      "158:\tlearn: 5.6519412\ttotal: 335ms\tremaining: 1.77s\n",
      "159:\tlearn: 5.6491235\ttotal: 336ms\tremaining: 1.76s\n",
      "160:\tlearn: 5.6464375\ttotal: 337ms\tremaining: 1.76s\n",
      "161:\tlearn: 5.6450053\ttotal: 338ms\tremaining: 1.75s\n",
      "162:\tlearn: 5.6410604\ttotal: 340ms\tremaining: 1.74s\n",
      "163:\tlearn: 5.6376138\ttotal: 341ms\tremaining: 1.74s\n",
      "164:\tlearn: 5.6334167\ttotal: 342ms\tremaining: 1.73s\n"
     ]
    },
    {
     "name": "stdout",
     "output_type": "stream",
     "text": [
      "165:\tlearn: 5.6274556\ttotal: 344ms\tremaining: 1.73s\n",
      "166:\tlearn: 5.6226174\ttotal: 345ms\tremaining: 1.72s\n",
      "167:\tlearn: 5.6224423\ttotal: 346ms\tremaining: 1.71s\n",
      "168:\tlearn: 5.6161482\ttotal: 347ms\tremaining: 1.71s\n",
      "169:\tlearn: 5.6115656\ttotal: 349ms\tremaining: 1.7s\n",
      "170:\tlearn: 5.6093285\ttotal: 350ms\tremaining: 1.7s\n",
      "171:\tlearn: 5.6070678\ttotal: 351ms\tremaining: 1.69s\n",
      "172:\tlearn: 5.6066153\ttotal: 352ms\tremaining: 1.68s\n",
      "173:\tlearn: 5.6041510\ttotal: 354ms\tremaining: 1.68s\n",
      "174:\tlearn: 5.6021232\ttotal: 355ms\tremaining: 1.67s\n",
      "175:\tlearn: 5.5985495\ttotal: 356ms\tremaining: 1.67s\n",
      "176:\tlearn: 5.5905925\ttotal: 357ms\tremaining: 1.66s\n",
      "177:\tlearn: 5.5894984\ttotal: 358ms\tremaining: 1.66s\n",
      "178:\tlearn: 5.5868040\ttotal: 360ms\tremaining: 1.65s\n",
      "179:\tlearn: 5.5831669\ttotal: 361ms\tremaining: 1.64s\n",
      "180:\tlearn: 5.5788091\ttotal: 362ms\tremaining: 1.64s\n",
      "181:\tlearn: 5.5783413\ttotal: 363ms\tremaining: 1.63s\n",
      "182:\tlearn: 5.5740870\ttotal: 365ms\tremaining: 1.63s\n",
      "183:\tlearn: 5.5715457\ttotal: 366ms\tremaining: 1.62s\n",
      "184:\tlearn: 5.5703063\ttotal: 367ms\tremaining: 1.62s\n",
      "185:\tlearn: 5.5673583\ttotal: 368ms\tremaining: 1.61s\n",
      "186:\tlearn: 5.5634081\ttotal: 369ms\tremaining: 1.6s\n",
      "187:\tlearn: 5.5628443\ttotal: 370ms\tremaining: 1.6s\n",
      "188:\tlearn: 5.5586144\ttotal: 371ms\tremaining: 1.59s\n",
      "189:\tlearn: 5.5568249\ttotal: 373ms\tremaining: 1.59s\n",
      "190:\tlearn: 5.5497735\ttotal: 374ms\tremaining: 1.58s\n",
      "191:\tlearn: 5.5468006\ttotal: 375ms\tremaining: 1.58s\n",
      "192:\tlearn: 5.5451472\ttotal: 377ms\tremaining: 1.57s\n",
      "193:\tlearn: 5.5439807\ttotal: 378ms\tremaining: 1.57s\n",
      "194:\tlearn: 5.5386891\ttotal: 379ms\tremaining: 1.56s\n",
      "195:\tlearn: 5.5363894\ttotal: 380ms\tremaining: 1.56s\n",
      "196:\tlearn: 5.5348857\ttotal: 382ms\tremaining: 1.55s\n",
      "197:\tlearn: 5.5345033\ttotal: 383ms\tremaining: 1.55s\n",
      "198:\tlearn: 5.5330680\ttotal: 384ms\tremaining: 1.54s\n",
      "199:\tlearn: 5.5314956\ttotal: 385ms\tremaining: 1.54s\n",
      "200:\tlearn: 5.5265385\ttotal: 387ms\tremaining: 1.54s\n",
      "201:\tlearn: 5.5226898\ttotal: 388ms\tremaining: 1.53s\n",
      "202:\tlearn: 5.5204401\ttotal: 389ms\tremaining: 1.53s\n",
      "203:\tlearn: 5.5150168\ttotal: 390ms\tremaining: 1.52s\n",
      "204:\tlearn: 5.5140862\ttotal: 392ms\tremaining: 1.52s\n",
      "205:\tlearn: 5.5130318\ttotal: 393ms\tremaining: 1.51s\n",
      "206:\tlearn: 5.5120850\ttotal: 394ms\tremaining: 1.51s\n",
      "207:\tlearn: 5.5055902\ttotal: 395ms\tremaining: 1.5s\n",
      "208:\tlearn: 5.5018772\ttotal: 396ms\tremaining: 1.5s\n",
      "209:\tlearn: 5.4970643\ttotal: 398ms\tremaining: 1.5s\n",
      "210:\tlearn: 5.4944203\ttotal: 399ms\tremaining: 1.49s\n",
      "211:\tlearn: 5.4865170\ttotal: 400ms\tremaining: 1.49s\n",
      "212:\tlearn: 5.4856101\ttotal: 401ms\tremaining: 1.48s\n",
      "213:\tlearn: 5.4822637\ttotal: 403ms\tremaining: 1.48s\n",
      "214:\tlearn: 5.4818960\ttotal: 404ms\tremaining: 1.47s\n",
      "215:\tlearn: 5.4815642\ttotal: 405ms\tremaining: 1.47s\n",
      "216:\tlearn: 5.4788336\ttotal: 406ms\tremaining: 1.47s\n",
      "217:\tlearn: 5.4781165\ttotal: 408ms\tremaining: 1.46s\n",
      "218:\tlearn: 5.4773649\ttotal: 409ms\tremaining: 1.46s\n",
      "219:\tlearn: 5.4719459\ttotal: 410ms\tremaining: 1.45s\n",
      "220:\tlearn: 5.4703485\ttotal: 411ms\tremaining: 1.45s\n",
      "221:\tlearn: 5.4701442\ttotal: 412ms\tremaining: 1.44s\n",
      "222:\tlearn: 5.4695138\ttotal: 413ms\tremaining: 1.44s\n",
      "223:\tlearn: 5.4689836\ttotal: 414ms\tremaining: 1.44s\n",
      "224:\tlearn: 5.4668670\ttotal: 416ms\tremaining: 1.43s\n",
      "225:\tlearn: 5.4619645\ttotal: 417ms\tremaining: 1.43s\n",
      "226:\tlearn: 5.4547949\ttotal: 418ms\tremaining: 1.42s\n",
      "227:\tlearn: 5.4539857\ttotal: 420ms\tremaining: 1.42s\n",
      "228:\tlearn: 5.4506500\ttotal: 421ms\tremaining: 1.42s\n",
      "229:\tlearn: 5.4501206\ttotal: 422ms\tremaining: 1.41s\n",
      "230:\tlearn: 5.4495945\ttotal: 423ms\tremaining: 1.41s\n",
      "231:\tlearn: 5.4488153\ttotal: 424ms\tremaining: 1.41s\n",
      "232:\tlearn: 5.4483133\ttotal: 426ms\tremaining: 1.4s\n",
      "233:\tlearn: 5.4474055\ttotal: 427ms\tremaining: 1.4s\n",
      "234:\tlearn: 5.4456317\ttotal: 428ms\tremaining: 1.39s\n",
      "235:\tlearn: 5.4381293\ttotal: 429ms\tremaining: 1.39s\n",
      "236:\tlearn: 5.4306326\ttotal: 430ms\tremaining: 1.39s\n",
      "237:\tlearn: 5.4251493\ttotal: 431ms\tremaining: 1.38s\n",
      "238:\tlearn: 5.4206074\ttotal: 433ms\tremaining: 1.38s\n",
      "239:\tlearn: 5.4187059\ttotal: 434ms\tremaining: 1.37s\n",
      "240:\tlearn: 5.4166416\ttotal: 435ms\tremaining: 1.37s\n",
      "241:\tlearn: 5.4159081\ttotal: 436ms\tremaining: 1.37s\n",
      "242:\tlearn: 5.4151726\ttotal: 438ms\tremaining: 1.36s\n",
      "243:\tlearn: 5.4132329\ttotal: 439ms\tremaining: 1.36s\n",
      "244:\tlearn: 5.4121844\ttotal: 440ms\tremaining: 1.35s\n",
      "245:\tlearn: 5.4114852\ttotal: 441ms\tremaining: 1.35s\n",
      "246:\tlearn: 5.4057770\ttotal: 442ms\tremaining: 1.35s\n",
      "247:\tlearn: 5.4048517\ttotal: 443ms\tremaining: 1.34s\n",
      "248:\tlearn: 5.4032871\ttotal: 444ms\tremaining: 1.34s\n",
      "249:\tlearn: 5.3960756\ttotal: 446ms\tremaining: 1.34s\n",
      "250:\tlearn: 5.3956319\ttotal: 447ms\tremaining: 1.33s\n",
      "251:\tlearn: 5.3952434\ttotal: 448ms\tremaining: 1.33s\n",
      "252:\tlearn: 5.3925549\ttotal: 449ms\tremaining: 1.33s\n",
      "253:\tlearn: 5.3855565\ttotal: 450ms\tremaining: 1.32s\n",
      "254:\tlearn: 5.3853161\ttotal: 452ms\tremaining: 1.32s\n",
      "255:\tlearn: 5.3778242\ttotal: 453ms\tremaining: 1.31s\n",
      "256:\tlearn: 5.3770486\ttotal: 454ms\tremaining: 1.31s\n",
      "257:\tlearn: 5.3727421\ttotal: 455ms\tremaining: 1.31s\n",
      "258:\tlearn: 5.3711059\ttotal: 456ms\tremaining: 1.3s\n",
      "259:\tlearn: 5.3699629\ttotal: 458ms\tremaining: 1.3s\n",
      "260:\tlearn: 5.3686398\ttotal: 459ms\tremaining: 1.3s\n",
      "261:\tlearn: 5.3666094\ttotal: 460ms\tremaining: 1.29s\n",
      "262:\tlearn: 5.3663696\ttotal: 461ms\tremaining: 1.29s\n",
      "263:\tlearn: 5.3638543\ttotal: 462ms\tremaining: 1.29s\n",
      "264:\tlearn: 5.3625141\ttotal: 463ms\tremaining: 1.28s\n",
      "265:\tlearn: 5.3554643\ttotal: 465ms\tremaining: 1.28s\n",
      "266:\tlearn: 5.3529134\ttotal: 466ms\tremaining: 1.28s\n",
      "267:\tlearn: 5.3451152\ttotal: 467ms\tremaining: 1.27s\n",
      "268:\tlearn: 5.3444476\ttotal: 468ms\tremaining: 1.27s\n",
      "269:\tlearn: 5.3437185\ttotal: 469ms\tremaining: 1.27s\n",
      "270:\tlearn: 5.3410388\ttotal: 470ms\tremaining: 1.26s\n",
      "271:\tlearn: 5.3359758\ttotal: 471ms\tremaining: 1.26s\n",
      "272:\tlearn: 5.3324670\ttotal: 472ms\tremaining: 1.26s\n",
      "273:\tlearn: 5.3260098\ttotal: 473ms\tremaining: 1.25s\n",
      "274:\tlearn: 5.3241004\ttotal: 475ms\tremaining: 1.25s\n",
      "275:\tlearn: 5.3223621\ttotal: 476ms\tremaining: 1.25s\n",
      "276:\tlearn: 5.3160652\ttotal: 477ms\tremaining: 1.24s\n",
      "277:\tlearn: 5.3140965\ttotal: 478ms\tremaining: 1.24s\n",
      "278:\tlearn: 5.3105869\ttotal: 479ms\tremaining: 1.24s\n",
      "279:\tlearn: 5.3085682\ttotal: 480ms\tremaining: 1.23s\n",
      "280:\tlearn: 5.3073216\ttotal: 481ms\tremaining: 1.23s\n",
      "281:\tlearn: 5.3071215\ttotal: 483ms\tremaining: 1.23s\n",
      "282:\tlearn: 5.3054054\ttotal: 484ms\tremaining: 1.23s\n",
      "283:\tlearn: 5.2998399\ttotal: 485ms\tremaining: 1.22s\n",
      "284:\tlearn: 5.2974714\ttotal: 486ms\tremaining: 1.22s\n",
      "285:\tlearn: 5.2914122\ttotal: 487ms\tremaining: 1.22s\n",
      "286:\tlearn: 5.2907993\ttotal: 488ms\tremaining: 1.21s\n",
      "287:\tlearn: 5.2852314\ttotal: 489ms\tremaining: 1.21s\n",
      "288:\tlearn: 5.2848046\ttotal: 491ms\tremaining: 1.21s\n",
      "289:\tlearn: 5.2846323\ttotal: 492ms\tremaining: 1.2s\n",
      "290:\tlearn: 5.2786858\ttotal: 493ms\tremaining: 1.2s\n",
      "291:\tlearn: 5.2771497\ttotal: 494ms\tremaining: 1.2s\n",
      "292:\tlearn: 5.2708456\ttotal: 495ms\tremaining: 1.19s\n",
      "293:\tlearn: 5.2660094\ttotal: 496ms\tremaining: 1.19s\n",
      "294:\tlearn: 5.2645504\ttotal: 497ms\tremaining: 1.19s\n",
      "295:\tlearn: 5.2619177\ttotal: 498ms\tremaining: 1.19s\n",
      "296:\tlearn: 5.2593177\ttotal: 499ms\tremaining: 1.18s\n",
      "297:\tlearn: 5.2543837\ttotal: 501ms\tremaining: 1.18s\n",
      "298:\tlearn: 5.2535335\ttotal: 502ms\tremaining: 1.18s\n",
      "299:\tlearn: 5.2487300\ttotal: 503ms\tremaining: 1.17s\n",
      "300:\tlearn: 5.2435255\ttotal: 504ms\tremaining: 1.17s\n",
      "301:\tlearn: 5.2432589\ttotal: 505ms\tremaining: 1.17s\n",
      "302:\tlearn: 5.2429860\ttotal: 506ms\tremaining: 1.16s\n",
      "303:\tlearn: 5.2387215\ttotal: 508ms\tremaining: 1.16s\n",
      "304:\tlearn: 5.2381387\ttotal: 509ms\tremaining: 1.16s\n",
      "305:\tlearn: 5.2365358\ttotal: 510ms\tremaining: 1.16s\n",
      "306:\tlearn: 5.2362998\ttotal: 511ms\tremaining: 1.15s\n",
      "307:\tlearn: 5.2316788\ttotal: 512ms\tremaining: 1.15s\n",
      "308:\tlearn: 5.2313871\ttotal: 513ms\tremaining: 1.15s\n",
      "309:\tlearn: 5.2287953\ttotal: 514ms\tremaining: 1.14s\n",
      "310:\tlearn: 5.2261262\ttotal: 515ms\tremaining: 1.14s\n",
      "311:\tlearn: 5.2258299\ttotal: 517ms\tremaining: 1.14s\n",
      "312:\tlearn: 5.2193727\ttotal: 518ms\tremaining: 1.14s\n",
      "313:\tlearn: 5.2147057\ttotal: 520ms\tremaining: 1.14s\n",
      "314:\tlearn: 5.2121536\ttotal: 521ms\tremaining: 1.13s\n",
      "315:\tlearn: 5.2077475\ttotal: 522ms\tremaining: 1.13s\n",
      "316:\tlearn: 5.2032880\ttotal: 523ms\tremaining: 1.13s\n",
      "317:\tlearn: 5.2023030\ttotal: 524ms\tremaining: 1.12s\n",
      "318:\tlearn: 5.1965980\ttotal: 526ms\tremaining: 1.12s\n",
      "319:\tlearn: 5.1909427\ttotal: 527ms\tremaining: 1.12s\n",
      "320:\tlearn: 5.1892433\ttotal: 528ms\tremaining: 1.12s\n",
      "321:\tlearn: 5.1833868\ttotal: 529ms\tremaining: 1.11s\n",
      "322:\tlearn: 5.1818577\ttotal: 531ms\tremaining: 1.11s\n",
      "323:\tlearn: 5.1800978\ttotal: 532ms\tremaining: 1.11s\n",
      "324:\tlearn: 5.1798260\ttotal: 533ms\tremaining: 1.11s\n",
      "325:\tlearn: 5.1781544\ttotal: 534ms\tremaining: 1.1s\n",
      "326:\tlearn: 5.1729564\ttotal: 536ms\tremaining: 1.1s\n",
      "327:\tlearn: 5.1724475\ttotal: 537ms\tremaining: 1.1s\n",
      "328:\tlearn: 5.1676152\ttotal: 538ms\tremaining: 1.1s\n",
      "329:\tlearn: 5.1624533\ttotal: 539ms\tremaining: 1.09s\n",
      "330:\tlearn: 5.1577638\ttotal: 541ms\tremaining: 1.09s\n",
      "331:\tlearn: 5.1510359\ttotal: 542ms\tremaining: 1.09s\n",
      "332:\tlearn: 5.1450021\ttotal: 543ms\tremaining: 1.09s\n",
      "333:\tlearn: 5.1390989\ttotal: 545ms\tremaining: 1.09s\n",
      "334:\tlearn: 5.1389183\ttotal: 546ms\tremaining: 1.08s\n",
      "335:\tlearn: 5.1386682\ttotal: 547ms\tremaining: 1.08s\n",
      "336:\tlearn: 5.1334062\ttotal: 548ms\tremaining: 1.08s\n",
      "337:\tlearn: 5.1284176\ttotal: 550ms\tremaining: 1.08s\n",
      "338:\tlearn: 5.1269934\ttotal: 551ms\tremaining: 1.07s\n",
      "339:\tlearn: 5.1259325\ttotal: 552ms\tremaining: 1.07s\n",
      "340:\tlearn: 5.1209142\ttotal: 553ms\tremaining: 1.07s\n",
      "341:\tlearn: 5.1191532\ttotal: 555ms\tremaining: 1.07s\n",
      "342:\tlearn: 5.1180103\ttotal: 556ms\tremaining: 1.06s\n",
      "343:\tlearn: 5.1151158\ttotal: 557ms\tremaining: 1.06s\n",
      "344:\tlearn: 5.1149319\ttotal: 558ms\tremaining: 1.06s\n",
      "345:\tlearn: 5.1118331\ttotal: 560ms\tremaining: 1.06s\n",
      "346:\tlearn: 5.1079153\ttotal: 561ms\tremaining: 1.05s\n",
      "347:\tlearn: 5.1074385\ttotal: 562ms\tremaining: 1.05s\n",
      "348:\tlearn: 5.1041714\ttotal: 563ms\tremaining: 1.05s\n",
      "349:\tlearn: 5.1036346\ttotal: 564ms\tremaining: 1.05s\n",
      "350:\tlearn: 5.1034682\ttotal: 566ms\tremaining: 1.04s\n",
      "351:\tlearn: 5.0997141\ttotal: 567ms\tremaining: 1.04s\n",
      "352:\tlearn: 5.0995427\ttotal: 568ms\tremaining: 1.04s\n",
      "353:\tlearn: 5.0978466\ttotal: 569ms\tremaining: 1.04s\n",
      "354:\tlearn: 5.0976233\ttotal: 570ms\tremaining: 1.04s\n",
      "355:\tlearn: 5.0942371\ttotal: 571ms\tremaining: 1.03s\n",
      "356:\tlearn: 5.0883829\ttotal: 573ms\tremaining: 1.03s\n",
      "357:\tlearn: 5.0879002\ttotal: 574ms\tremaining: 1.03s\n",
      "358:\tlearn: 5.0865965\ttotal: 575ms\tremaining: 1.03s\n",
      "359:\tlearn: 5.0820991\ttotal: 576ms\tremaining: 1.02s\n",
      "360:\tlearn: 5.0813417\ttotal: 577ms\tremaining: 1.02s\n",
      "361:\tlearn: 5.0800952\ttotal: 579ms\tremaining: 1.02s\n",
      "362:\tlearn: 5.0799777\ttotal: 580ms\tremaining: 1.02s\n",
      "363:\tlearn: 5.0760112\ttotal: 581ms\tremaining: 1.01s\n",
      "364:\tlearn: 5.0722756\ttotal: 583ms\tremaining: 1.01s\n",
      "365:\tlearn: 5.0699678\ttotal: 584ms\tremaining: 1.01s\n",
      "366:\tlearn: 5.0657815\ttotal: 585ms\tremaining: 1.01s\n",
      "367:\tlearn: 5.0599475\ttotal: 586ms\tremaining: 1.01s\n",
      "368:\tlearn: 5.0555426\ttotal: 587ms\tremaining: 1s\n",
      "369:\tlearn: 5.0553317\ttotal: 588ms\tremaining: 1s\n",
      "370:\tlearn: 5.0538659\ttotal: 590ms\tremaining: 1000ms\n",
      "371:\tlearn: 5.0486635\ttotal: 591ms\tremaining: 997ms\n",
      "372:\tlearn: 5.0462070\ttotal: 592ms\tremaining: 995ms\n",
      "373:\tlearn: 5.0417226\ttotal: 593ms\tremaining: 993ms\n",
      "374:\tlearn: 5.0365929\ttotal: 595ms\tremaining: 991ms\n",
      "375:\tlearn: 5.0349168\ttotal: 596ms\tremaining: 989ms\n",
      "376:\tlearn: 5.0308316\ttotal: 597ms\tremaining: 987ms\n",
      "377:\tlearn: 5.0306671\ttotal: 599ms\tremaining: 985ms\n",
      "378:\tlearn: 5.0263930\ttotal: 600ms\tremaining: 983ms\n",
      "379:\tlearn: 5.0218681\ttotal: 601ms\tremaining: 981ms\n",
      "380:\tlearn: 5.0204781\ttotal: 602ms\tremaining: 979ms\n",
      "381:\tlearn: 5.0203323\ttotal: 604ms\tremaining: 976ms\n",
      "382:\tlearn: 5.0201575\ttotal: 605ms\tremaining: 974ms\n",
      "383:\tlearn: 5.0142978\ttotal: 606ms\tremaining: 972ms\n",
      "384:\tlearn: 5.0099258\ttotal: 607ms\tremaining: 970ms\n",
      "385:\tlearn: 5.0082089\ttotal: 608ms\tremaining: 968ms\n",
      "386:\tlearn: 5.0077902\ttotal: 610ms\tremaining: 966ms\n",
      "387:\tlearn: 5.0020132\ttotal: 611ms\tremaining: 964ms\n",
      "388:\tlearn: 4.9968807\ttotal: 612ms\tremaining: 961ms\n",
      "389:\tlearn: 4.9963162\ttotal: 613ms\tremaining: 959ms\n",
      "390:\tlearn: 4.9961735\ttotal: 615ms\tremaining: 957ms\n",
      "391:\tlearn: 4.9959830\ttotal: 616ms\tremaining: 955ms\n",
      "392:\tlearn: 4.9925768\ttotal: 617ms\tremaining: 953ms\n",
      "393:\tlearn: 4.9924370\ttotal: 618ms\tremaining: 951ms\n",
      "394:\tlearn: 4.9883030\ttotal: 620ms\tremaining: 949ms\n",
      "395:\tlearn: 4.9870037\ttotal: 621ms\tremaining: 947ms\n",
      "396:\tlearn: 4.9868895\ttotal: 622ms\tremaining: 945ms\n",
      "397:\tlearn: 4.9830252\ttotal: 623ms\tremaining: 943ms\n",
      "398:\tlearn: 4.9826871\ttotal: 624ms\tremaining: 941ms\n",
      "399:\tlearn: 4.9789786\ttotal: 626ms\tremaining: 939ms\n",
      "400:\tlearn: 4.9785821\ttotal: 627ms\tremaining: 937ms\n",
      "401:\tlearn: 4.9776342\ttotal: 628ms\tremaining: 935ms\n",
      "402:\tlearn: 4.9750818\ttotal: 630ms\tremaining: 933ms\n",
      "403:\tlearn: 4.9686164\ttotal: 631ms\tremaining: 931ms\n",
      "404:\tlearn: 4.9684876\ttotal: 632ms\tremaining: 929ms\n",
      "405:\tlearn: 4.9680899\ttotal: 633ms\tremaining: 927ms\n",
      "406:\tlearn: 4.9657959\ttotal: 635ms\tremaining: 925ms\n",
      "407:\tlearn: 4.9589540\ttotal: 636ms\tremaining: 923ms\n",
      "408:\tlearn: 4.9582432\ttotal: 637ms\tremaining: 921ms\n",
      "409:\tlearn: 4.9549021\ttotal: 638ms\tremaining: 919ms\n",
      "410:\tlearn: 4.9538754\ttotal: 640ms\tremaining: 917ms\n",
      "411:\tlearn: 4.9473241\ttotal: 641ms\tremaining: 915ms\n",
      "412:\tlearn: 4.9440785\ttotal: 642ms\tremaining: 913ms\n",
      "413:\tlearn: 4.9439768\ttotal: 644ms\tremaining: 911ms\n",
      "414:\tlearn: 4.9436063\ttotal: 645ms\tremaining: 909ms\n",
      "415:\tlearn: 4.9403295\ttotal: 646ms\tremaining: 907ms\n",
      "416:\tlearn: 4.9365659\ttotal: 647ms\tremaining: 905ms\n",
      "417:\tlearn: 4.9363875\ttotal: 648ms\tremaining: 903ms\n",
      "418:\tlearn: 4.9319964\ttotal: 650ms\tremaining: 901ms\n",
      "419:\tlearn: 4.9316706\ttotal: 651ms\tremaining: 899ms\n",
      "420:\tlearn: 4.9314411\ttotal: 652ms\tremaining: 897ms\n",
      "421:\tlearn: 4.9263605\ttotal: 654ms\tremaining: 895ms\n",
      "422:\tlearn: 4.9226067\ttotal: 655ms\tremaining: 893ms\n",
      "423:\tlearn: 4.9211903\ttotal: 656ms\tremaining: 891ms\n",
      "424:\tlearn: 4.9162990\ttotal: 657ms\tremaining: 889ms\n",
      "425:\tlearn: 4.9156223\ttotal: 659ms\tremaining: 887ms\n",
      "426:\tlearn: 4.9133736\ttotal: 660ms\tremaining: 885ms\n",
      "427:\tlearn: 4.9130125\ttotal: 661ms\tremaining: 883ms\n",
      "428:\tlearn: 4.9128460\ttotal: 662ms\tremaining: 881ms\n",
      "429:\tlearn: 4.9080787\ttotal: 663ms\tremaining: 879ms\n",
      "430:\tlearn: 4.9077254\ttotal: 665ms\tremaining: 877ms\n",
      "431:\tlearn: 4.9076076\ttotal: 666ms\tremaining: 875ms\n",
      "432:\tlearn: 4.9064249\ttotal: 667ms\tremaining: 873ms\n",
      "433:\tlearn: 4.9030312\ttotal: 668ms\tremaining: 872ms\n",
      "434:\tlearn: 4.8981805\ttotal: 669ms\tremaining: 870ms\n",
      "435:\tlearn: 4.8916280\ttotal: 671ms\tremaining: 867ms\n",
      "436:\tlearn: 4.8915041\ttotal: 672ms\tremaining: 866ms\n",
      "437:\tlearn: 4.8909243\ttotal: 673ms\tremaining: 864ms\n",
      "438:\tlearn: 4.8905436\ttotal: 674ms\tremaining: 862ms\n",
      "439:\tlearn: 4.8858431\ttotal: 676ms\tremaining: 860ms\n"
     ]
    },
    {
     "name": "stdout",
     "output_type": "stream",
     "text": [
      "440:\tlearn: 4.8814940\ttotal: 677ms\tremaining: 858ms\n",
      "441:\tlearn: 4.8779526\ttotal: 678ms\tremaining: 857ms\n",
      "442:\tlearn: 4.8736948\ttotal: 680ms\tremaining: 855ms\n",
      "443:\tlearn: 4.8710995\ttotal: 681ms\tremaining: 853ms\n",
      "444:\tlearn: 4.8709807\ttotal: 682ms\tremaining: 851ms\n",
      "445:\tlearn: 4.8684458\ttotal: 683ms\tremaining: 849ms\n",
      "446:\tlearn: 4.8640335\ttotal: 685ms\tremaining: 847ms\n",
      "447:\tlearn: 4.8590672\ttotal: 686ms\tremaining: 845ms\n",
      "448:\tlearn: 4.8583677\ttotal: 687ms\tremaining: 843ms\n",
      "449:\tlearn: 4.8538008\ttotal: 688ms\tremaining: 841ms\n",
      "450:\tlearn: 4.8527548\ttotal: 690ms\tremaining: 839ms\n",
      "451:\tlearn: 4.8514951\ttotal: 691ms\tremaining: 837ms\n",
      "452:\tlearn: 4.8513818\ttotal: 692ms\tremaining: 835ms\n",
      "453:\tlearn: 4.8489122\ttotal: 693ms\tremaining: 834ms\n",
      "454:\tlearn: 4.8431586\ttotal: 694ms\tremaining: 831ms\n",
      "455:\tlearn: 4.8366158\ttotal: 695ms\tremaining: 830ms\n",
      "456:\tlearn: 4.8308826\ttotal: 697ms\tremaining: 828ms\n",
      "457:\tlearn: 4.8292435\ttotal: 698ms\tremaining: 826ms\n",
      "458:\tlearn: 4.8235726\ttotal: 699ms\tremaining: 824ms\n",
      "459:\tlearn: 4.8234682\ttotal: 700ms\tremaining: 822ms\n",
      "460:\tlearn: 4.8145162\ttotal: 702ms\tremaining: 820ms\n",
      "461:\tlearn: 4.8138999\ttotal: 703ms\tremaining: 819ms\n",
      "462:\tlearn: 4.8102538\ttotal: 704ms\tremaining: 817ms\n",
      "463:\tlearn: 4.8070447\ttotal: 705ms\tremaining: 815ms\n",
      "464:\tlearn: 4.8031266\ttotal: 707ms\tremaining: 813ms\n",
      "465:\tlearn: 4.7980355\ttotal: 708ms\tremaining: 811ms\n",
      "466:\tlearn: 4.7955699\ttotal: 709ms\tremaining: 810ms\n",
      "467:\tlearn: 4.7952295\ttotal: 710ms\tremaining: 808ms\n",
      "468:\tlearn: 4.7949816\ttotal: 712ms\tremaining: 806ms\n",
      "469:\tlearn: 4.7927117\ttotal: 713ms\tremaining: 804ms\n",
      "470:\tlearn: 4.7865578\ttotal: 714ms\tremaining: 802ms\n",
      "471:\tlearn: 4.7860093\ttotal: 715ms\tremaining: 800ms\n",
      "472:\tlearn: 4.7829865\ttotal: 716ms\tremaining: 798ms\n",
      "473:\tlearn: 4.7792402\ttotal: 718ms\tremaining: 796ms\n",
      "474:\tlearn: 4.7727644\ttotal: 719ms\tremaining: 795ms\n",
      "475:\tlearn: 4.7673348\ttotal: 720ms\tremaining: 793ms\n",
      "476:\tlearn: 4.7670903\ttotal: 721ms\tremaining: 791ms\n",
      "477:\tlearn: 4.7637544\ttotal: 723ms\tremaining: 789ms\n",
      "478:\tlearn: 4.7634501\ttotal: 724ms\tremaining: 787ms\n",
      "479:\tlearn: 4.7600185\ttotal: 725ms\tremaining: 786ms\n",
      "480:\tlearn: 4.7557796\ttotal: 726ms\tremaining: 784ms\n",
      "481:\tlearn: 4.7530921\ttotal: 728ms\tremaining: 782ms\n",
      "482:\tlearn: 4.7521417\ttotal: 729ms\tremaining: 780ms\n",
      "483:\tlearn: 4.7479934\ttotal: 730ms\tremaining: 778ms\n",
      "484:\tlearn: 4.7430989\ttotal: 731ms\tremaining: 777ms\n",
      "485:\tlearn: 4.7368893\ttotal: 733ms\tremaining: 775ms\n",
      "486:\tlearn: 4.7366902\ttotal: 734ms\tremaining: 773ms\n",
      "487:\tlearn: 4.7333099\ttotal: 735ms\tremaining: 772ms\n",
      "488:\tlearn: 4.7288717\ttotal: 737ms\tremaining: 770ms\n",
      "489:\tlearn: 4.7280791\ttotal: 738ms\tremaining: 768ms\n",
      "490:\tlearn: 4.7248777\ttotal: 739ms\tremaining: 766ms\n",
      "491:\tlearn: 4.7196819\ttotal: 741ms\tremaining: 765ms\n",
      "492:\tlearn: 4.7195755\ttotal: 742ms\tremaining: 763ms\n",
      "493:\tlearn: 4.7194280\ttotal: 743ms\tremaining: 761ms\n",
      "494:\tlearn: 4.7134267\ttotal: 744ms\tremaining: 759ms\n",
      "495:\tlearn: 4.7110050\ttotal: 745ms\tremaining: 757ms\n",
      "496:\tlearn: 4.7024128\ttotal: 747ms\tremaining: 756ms\n",
      "497:\tlearn: 4.6986571\ttotal: 748ms\tremaining: 754ms\n",
      "498:\tlearn: 4.6921696\ttotal: 749ms\tremaining: 752ms\n",
      "499:\tlearn: 4.6916860\ttotal: 750ms\tremaining: 750ms\n",
      "500:\tlearn: 4.6913278\ttotal: 752ms\tremaining: 749ms\n",
      "501:\tlearn: 4.6864989\ttotal: 753ms\tremaining: 747ms\n",
      "502:\tlearn: 4.6864014\ttotal: 754ms\tremaining: 745ms\n",
      "503:\tlearn: 4.6863039\ttotal: 755ms\tremaining: 743ms\n",
      "504:\tlearn: 4.6854467\ttotal: 757ms\tremaining: 742ms\n",
      "505:\tlearn: 4.6853772\ttotal: 758ms\tremaining: 740ms\n",
      "506:\tlearn: 4.6812882\ttotal: 759ms\tremaining: 738ms\n",
      "507:\tlearn: 4.6806040\ttotal: 760ms\tremaining: 736ms\n",
      "508:\tlearn: 4.6804599\ttotal: 761ms\tremaining: 734ms\n",
      "509:\tlearn: 4.6776019\ttotal: 763ms\tremaining: 733ms\n",
      "510:\tlearn: 4.6754419\ttotal: 764ms\tremaining: 731ms\n",
      "511:\tlearn: 4.6748056\ttotal: 765ms\tremaining: 729ms\n",
      "512:\tlearn: 4.6742806\ttotal: 767ms\tremaining: 728ms\n",
      "513:\tlearn: 4.6710927\ttotal: 768ms\tremaining: 726ms\n",
      "514:\tlearn: 4.6708328\ttotal: 769ms\tremaining: 724ms\n",
      "515:\tlearn: 4.6683874\ttotal: 770ms\tremaining: 722ms\n",
      "516:\tlearn: 4.6682511\ttotal: 771ms\tremaining: 720ms\n",
      "517:\tlearn: 4.6643861\ttotal: 772ms\tremaining: 718ms\n",
      "518:\tlearn: 4.6615171\ttotal: 773ms\tremaining: 717ms\n",
      "519:\tlearn: 4.6613731\ttotal: 775ms\tremaining: 715ms\n",
      "520:\tlearn: 4.6587236\ttotal: 776ms\tremaining: 713ms\n",
      "521:\tlearn: 4.6575760\ttotal: 777ms\tremaining: 711ms\n",
      "522:\tlearn: 4.6544772\ttotal: 778ms\tremaining: 709ms\n",
      "523:\tlearn: 4.6537676\ttotal: 779ms\tremaining: 708ms\n",
      "524:\tlearn: 4.6494542\ttotal: 780ms\tremaining: 706ms\n",
      "525:\tlearn: 4.6444331\ttotal: 781ms\tremaining: 704ms\n",
      "526:\tlearn: 4.6427660\ttotal: 783ms\tremaining: 702ms\n",
      "527:\tlearn: 4.6421331\ttotal: 784ms\tremaining: 701ms\n",
      "528:\tlearn: 4.6353035\ttotal: 785ms\tremaining: 699ms\n",
      "529:\tlearn: 4.6326119\ttotal: 786ms\tremaining: 697ms\n",
      "530:\tlearn: 4.6306079\ttotal: 787ms\tremaining: 695ms\n",
      "531:\tlearn: 4.6305223\ttotal: 788ms\tremaining: 693ms\n",
      "532:\tlearn: 4.6290837\ttotal: 789ms\tremaining: 692ms\n",
      "533:\tlearn: 4.6285581\ttotal: 791ms\tremaining: 690ms\n",
      "534:\tlearn: 4.6240466\ttotal: 792ms\tremaining: 688ms\n",
      "535:\tlearn: 4.6208684\ttotal: 794ms\tremaining: 687ms\n",
      "536:\tlearn: 4.6163681\ttotal: 795ms\tremaining: 685ms\n",
      "537:\tlearn: 4.6129585\ttotal: 796ms\tremaining: 684ms\n",
      "538:\tlearn: 4.6085638\ttotal: 797ms\tremaining: 682ms\n",
      "539:\tlearn: 4.6054327\ttotal: 799ms\tremaining: 680ms\n",
      "540:\tlearn: 4.6048212\ttotal: 800ms\tremaining: 679ms\n",
      "541:\tlearn: 4.6047482\ttotal: 801ms\tremaining: 677ms\n",
      "542:\tlearn: 4.6033194\ttotal: 802ms\tremaining: 675ms\n",
      "543:\tlearn: 4.6006506\ttotal: 804ms\tremaining: 674ms\n",
      "544:\tlearn: 4.5986406\ttotal: 805ms\tremaining: 672ms\n",
      "545:\tlearn: 4.5983330\ttotal: 806ms\tremaining: 670ms\n",
      "546:\tlearn: 4.5976048\ttotal: 808ms\tremaining: 669ms\n",
      "547:\tlearn: 4.5975117\ttotal: 809ms\tremaining: 667ms\n",
      "548:\tlearn: 4.5953485\ttotal: 810ms\tremaining: 665ms\n",
      "549:\tlearn: 4.5949711\ttotal: 811ms\tremaining: 663ms\n",
      "550:\tlearn: 4.5919213\ttotal: 812ms\tremaining: 662ms\n",
      "551:\tlearn: 4.5912596\ttotal: 813ms\tremaining: 660ms\n",
      "552:\tlearn: 4.5858853\ttotal: 814ms\tremaining: 658ms\n",
      "553:\tlearn: 4.5827057\ttotal: 816ms\tremaining: 657ms\n",
      "554:\tlearn: 4.5825832\ttotal: 817ms\tremaining: 655ms\n",
      "555:\tlearn: 4.5825234\ttotal: 818ms\tremaining: 653ms\n",
      "556:\tlearn: 4.5772104\ttotal: 819ms\tremaining: 651ms\n",
      "557:\tlearn: 4.5715562\ttotal: 821ms\tremaining: 650ms\n",
      "558:\tlearn: 4.5712396\ttotal: 822ms\tremaining: 648ms\n",
      "559:\tlearn: 4.5710552\ttotal: 823ms\tremaining: 647ms\n",
      "560:\tlearn: 4.5685839\ttotal: 824ms\tremaining: 645ms\n",
      "561:\tlearn: 4.5635046\ttotal: 825ms\tremaining: 643ms\n",
      "562:\tlearn: 4.5574065\ttotal: 827ms\tremaining: 642ms\n",
      "563:\tlearn: 4.5498254\ttotal: 828ms\tremaining: 640ms\n",
      "564:\tlearn: 4.5475480\ttotal: 829ms\tremaining: 638ms\n",
      "565:\tlearn: 4.5471510\ttotal: 831ms\tremaining: 637ms\n",
      "566:\tlearn: 4.5418988\ttotal: 832ms\tremaining: 635ms\n",
      "567:\tlearn: 4.5379073\ttotal: 833ms\tremaining: 633ms\n",
      "568:\tlearn: 4.5352556\ttotal: 834ms\tremaining: 632ms\n",
      "569:\tlearn: 4.5302314\ttotal: 835ms\tremaining: 630ms\n",
      "570:\tlearn: 4.5258416\ttotal: 837ms\tremaining: 629ms\n",
      "571:\tlearn: 4.5257710\ttotal: 838ms\tremaining: 627ms\n",
      "572:\tlearn: 4.5255897\ttotal: 839ms\tremaining: 626ms\n",
      "573:\tlearn: 4.5251241\ttotal: 841ms\tremaining: 624ms\n",
      "574:\tlearn: 4.5215431\ttotal: 842ms\tremaining: 622ms\n",
      "575:\tlearn: 4.5214810\ttotal: 843ms\tremaining: 621ms\n",
      "576:\tlearn: 4.5212360\ttotal: 844ms\tremaining: 619ms\n",
      "577:\tlearn: 4.5179677\ttotal: 846ms\tremaining: 617ms\n",
      "578:\tlearn: 4.5176692\ttotal: 847ms\tremaining: 616ms\n",
      "579:\tlearn: 4.5174848\ttotal: 848ms\tremaining: 614ms\n",
      "580:\tlearn: 4.5127101\ttotal: 850ms\tremaining: 613ms\n",
      "581:\tlearn: 4.5118878\ttotal: 851ms\tremaining: 611ms\n",
      "582:\tlearn: 4.5118284\ttotal: 852ms\tremaining: 610ms\n",
      "583:\tlearn: 4.5083340\ttotal: 854ms\tremaining: 608ms\n",
      "584:\tlearn: 4.5051732\ttotal: 855ms\tremaining: 606ms\n",
      "585:\tlearn: 4.5006851\ttotal: 856ms\tremaining: 605ms\n",
      "586:\tlearn: 4.4968259\ttotal: 857ms\tremaining: 603ms\n",
      "587:\tlearn: 4.4945756\ttotal: 859ms\tremaining: 602ms\n",
      "588:\tlearn: 4.4944967\ttotal: 860ms\tremaining: 600ms\n",
      "589:\tlearn: 4.4943131\ttotal: 861ms\tremaining: 598ms\n",
      "590:\tlearn: 4.4896382\ttotal: 862ms\tremaining: 597ms\n",
      "591:\tlearn: 4.4874505\ttotal: 864ms\tremaining: 595ms\n",
      "592:\tlearn: 4.4871647\ttotal: 865ms\tremaining: 594ms\n",
      "593:\tlearn: 4.4863378\ttotal: 866ms\tremaining: 592ms\n",
      "594:\tlearn: 4.4853442\ttotal: 867ms\tremaining: 590ms\n",
      "595:\tlearn: 4.4808684\ttotal: 868ms\tremaining: 589ms\n",
      "596:\tlearn: 4.4807929\ttotal: 869ms\tremaining: 587ms\n",
      "597:\tlearn: 4.4775755\ttotal: 871ms\tremaining: 585ms\n",
      "598:\tlearn: 4.4747074\ttotal: 872ms\tremaining: 584ms\n",
      "599:\tlearn: 4.4706187\ttotal: 873ms\tremaining: 582ms\n",
      "600:\tlearn: 4.4700594\ttotal: 874ms\tremaining: 580ms\n",
      "601:\tlearn: 4.4672289\ttotal: 875ms\tremaining: 579ms\n",
      "602:\tlearn: 4.4668565\ttotal: 877ms\tremaining: 577ms\n",
      "603:\tlearn: 4.4646286\ttotal: 878ms\tremaining: 575ms\n",
      "604:\tlearn: 4.4645346\ttotal: 879ms\tremaining: 574ms\n",
      "605:\tlearn: 4.4611171\ttotal: 880ms\tremaining: 572ms\n",
      "606:\tlearn: 4.4610481\ttotal: 881ms\tremaining: 571ms\n",
      "607:\tlearn: 4.4604303\ttotal: 882ms\tremaining: 569ms\n",
      "608:\tlearn: 4.4565335\ttotal: 883ms\tremaining: 567ms\n",
      "609:\tlearn: 4.4544209\ttotal: 885ms\tremaining: 566ms\n",
      "610:\tlearn: 4.4537595\ttotal: 886ms\tremaining: 564ms\n",
      "611:\tlearn: 4.4510749\ttotal: 887ms\tremaining: 562ms\n",
      "612:\tlearn: 4.4508666\ttotal: 888ms\tremaining: 561ms\n",
      "613:\tlearn: 4.4484455\ttotal: 889ms\tremaining: 559ms\n",
      "614:\tlearn: 4.4434189\ttotal: 891ms\tremaining: 558ms\n",
      "615:\tlearn: 4.4408034\ttotal: 892ms\tremaining: 556ms\n",
      "616:\tlearn: 4.4367509\ttotal: 894ms\tremaining: 555ms\n",
      "617:\tlearn: 4.4326010\ttotal: 895ms\tremaining: 553ms\n",
      "618:\tlearn: 4.4289001\ttotal: 896ms\tremaining: 552ms\n",
      "619:\tlearn: 4.4278228\ttotal: 898ms\tremaining: 550ms\n",
      "620:\tlearn: 4.4270688\ttotal: 899ms\tremaining: 549ms\n",
      "621:\tlearn: 4.4218988\ttotal: 901ms\tremaining: 547ms\n",
      "622:\tlearn: 4.4211940\ttotal: 902ms\tremaining: 546ms\n",
      "623:\tlearn: 4.4186990\ttotal: 903ms\tremaining: 544ms\n",
      "624:\tlearn: 4.4135407\ttotal: 904ms\tremaining: 543ms\n",
      "625:\tlearn: 4.4079966\ttotal: 906ms\tremaining: 541ms\n",
      "626:\tlearn: 4.4004181\ttotal: 907ms\tremaining: 539ms\n",
      "627:\tlearn: 4.3960015\ttotal: 908ms\tremaining: 538ms\n",
      "628:\tlearn: 4.3923223\ttotal: 909ms\tremaining: 536ms\n",
      "629:\tlearn: 4.3898930\ttotal: 911ms\tremaining: 535ms\n",
      "630:\tlearn: 4.3879311\ttotal: 912ms\tremaining: 533ms\n",
      "631:\tlearn: 4.3812714\ttotal: 913ms\tremaining: 532ms\n",
      "632:\tlearn: 4.3812085\ttotal: 914ms\tremaining: 530ms\n",
      "633:\tlearn: 4.3742428\ttotal: 916ms\tremaining: 529ms\n",
      "634:\tlearn: 4.3726094\ttotal: 917ms\tremaining: 527ms\n",
      "635:\tlearn: 4.3674879\ttotal: 918ms\tremaining: 526ms\n",
      "636:\tlearn: 4.3668300\ttotal: 919ms\tremaining: 524ms\n",
      "637:\tlearn: 4.3626364\ttotal: 921ms\tremaining: 522ms\n",
      "638:\tlearn: 4.3588672\ttotal: 922ms\tremaining: 521ms\n",
      "639:\tlearn: 4.3578473\ttotal: 923ms\tremaining: 519ms\n",
      "640:\tlearn: 4.3573741\ttotal: 924ms\tremaining: 518ms\n",
      "641:\tlearn: 4.3554820\ttotal: 926ms\tremaining: 516ms\n",
      "642:\tlearn: 4.3522832\ttotal: 927ms\tremaining: 515ms\n",
      "643:\tlearn: 4.3522088\ttotal: 928ms\tremaining: 513ms\n",
      "644:\tlearn: 4.3494769\ttotal: 929ms\tremaining: 512ms\n",
      "645:\tlearn: 4.3493127\ttotal: 930ms\tremaining: 510ms\n",
      "646:\tlearn: 4.3431941\ttotal: 932ms\tremaining: 508ms\n",
      "647:\tlearn: 4.3386001\ttotal: 933ms\tremaining: 507ms\n",
      "648:\tlearn: 4.3385471\ttotal: 934ms\tremaining: 505ms\n",
      "649:\tlearn: 4.3379898\ttotal: 935ms\tremaining: 503ms\n",
      "650:\tlearn: 4.3347385\ttotal: 936ms\tremaining: 502ms\n",
      "651:\tlearn: 4.3329144\ttotal: 937ms\tremaining: 500ms\n",
      "652:\tlearn: 4.3328536\ttotal: 938ms\tremaining: 499ms\n",
      "653:\tlearn: 4.3263676\ttotal: 940ms\tremaining: 497ms\n",
      "654:\tlearn: 4.3221428\ttotal: 941ms\tremaining: 496ms\n",
      "655:\tlearn: 4.3217972\ttotal: 942ms\tremaining: 494ms\n",
      "656:\tlearn: 4.3204270\ttotal: 943ms\tremaining: 492ms\n",
      "657:\tlearn: 4.3203514\ttotal: 944ms\tremaining: 491ms\n",
      "658:\tlearn: 4.3184339\ttotal: 946ms\tremaining: 489ms\n",
      "659:\tlearn: 4.3163320\ttotal: 947ms\tremaining: 488ms\n",
      "660:\tlearn: 4.3124317\ttotal: 948ms\tremaining: 486ms\n",
      "661:\tlearn: 4.3084123\ttotal: 949ms\tremaining: 485ms\n",
      "662:\tlearn: 4.3064673\ttotal: 950ms\tremaining: 483ms\n",
      "663:\tlearn: 4.3037867\ttotal: 951ms\tremaining: 481ms\n",
      "664:\tlearn: 4.2995538\ttotal: 952ms\tremaining: 480ms\n",
      "665:\tlearn: 4.2990151\ttotal: 954ms\tremaining: 478ms\n",
      "666:\tlearn: 4.2965867\ttotal: 955ms\tremaining: 477ms\n",
      "667:\tlearn: 4.2944688\ttotal: 956ms\tremaining: 475ms\n",
      "668:\tlearn: 4.2885835\ttotal: 957ms\tremaining: 474ms\n",
      "669:\tlearn: 4.2864196\ttotal: 959ms\tremaining: 472ms\n",
      "670:\tlearn: 4.2850291\ttotal: 960ms\tremaining: 471ms\n",
      "671:\tlearn: 4.2849614\ttotal: 961ms\tremaining: 469ms\n",
      "672:\tlearn: 4.2821493\ttotal: 962ms\tremaining: 467ms\n",
      "673:\tlearn: 4.2820656\ttotal: 963ms\tremaining: 466ms\n",
      "674:\tlearn: 4.2786048\ttotal: 964ms\tremaining: 464ms\n",
      "675:\tlearn: 4.2735861\ttotal: 966ms\tremaining: 463ms\n",
      "676:\tlearn: 4.2677129\ttotal: 967ms\tremaining: 461ms\n",
      "677:\tlearn: 4.2636279\ttotal: 968ms\tremaining: 460ms\n",
      "678:\tlearn: 4.2605127\ttotal: 969ms\tremaining: 458ms\n",
      "679:\tlearn: 4.2573086\ttotal: 970ms\tremaining: 457ms\n",
      "680:\tlearn: 4.2566448\ttotal: 972ms\tremaining: 455ms\n",
      "681:\tlearn: 4.2531275\ttotal: 973ms\tremaining: 454ms\n",
      "682:\tlearn: 4.2504992\ttotal: 974ms\tremaining: 452ms\n",
      "683:\tlearn: 4.2481440\ttotal: 975ms\tremaining: 451ms\n",
      "684:\tlearn: 4.2464583\ttotal: 976ms\tremaining: 449ms\n",
      "685:\tlearn: 4.2457881\ttotal: 977ms\tremaining: 447ms\n",
      "686:\tlearn: 4.2429240\ttotal: 979ms\tremaining: 446ms\n",
      "687:\tlearn: 4.2396227\ttotal: 980ms\tremaining: 444ms\n",
      "688:\tlearn: 4.2378700\ttotal: 981ms\tremaining: 443ms\n",
      "689:\tlearn: 4.2372878\ttotal: 982ms\tremaining: 441ms\n",
      "690:\tlearn: 4.2356341\ttotal: 984ms\tremaining: 440ms\n",
      "691:\tlearn: 4.2340319\ttotal: 985ms\tremaining: 438ms\n",
      "692:\tlearn: 4.2338177\ttotal: 986ms\tremaining: 437ms\n",
      "693:\tlearn: 4.2306839\ttotal: 988ms\tremaining: 435ms\n",
      "694:\tlearn: 4.2276987\ttotal: 989ms\tremaining: 434ms\n",
      "695:\tlearn: 4.2226405\ttotal: 990ms\tremaining: 433ms\n",
      "696:\tlearn: 4.2203568\ttotal: 992ms\tremaining: 431ms\n",
      "697:\tlearn: 4.2187468\ttotal: 993ms\tremaining: 430ms\n",
      "698:\tlearn: 4.2178935\ttotal: 994ms\tremaining: 428ms\n",
      "699:\tlearn: 4.2152248\ttotal: 995ms\tremaining: 427ms\n",
      "700:\tlearn: 4.2094965\ttotal: 997ms\tremaining: 425ms\n",
      "701:\tlearn: 4.2081774\ttotal: 998ms\tremaining: 424ms\n",
      "702:\tlearn: 4.2081028\ttotal: 999ms\tremaining: 422ms\n",
      "703:\tlearn: 4.2080439\ttotal: 1s\tremaining: 421ms\n",
      "704:\tlearn: 4.2075536\ttotal: 1s\tremaining: 419ms\n",
      "705:\tlearn: 4.2073723\ttotal: 1s\tremaining: 418ms\n",
      "706:\tlearn: 4.2018055\ttotal: 1s\tremaining: 416ms\n",
      "707:\tlearn: 4.2003509\ttotal: 1s\tremaining: 415ms\n",
      "708:\tlearn: 4.1961393\ttotal: 1.01s\tremaining: 413ms\n",
      "709:\tlearn: 4.1929941\ttotal: 1.01s\tremaining: 412ms\n",
      "710:\tlearn: 4.1919959\ttotal: 1.01s\tremaining: 410ms\n",
      "711:\tlearn: 4.1916035\ttotal: 1.01s\tremaining: 409ms\n"
     ]
    },
    {
     "name": "stdout",
     "output_type": "stream",
     "text": [
      "712:\tlearn: 4.1887726\ttotal: 1.01s\tremaining: 407ms\n",
      "713:\tlearn: 4.1847324\ttotal: 1.01s\tremaining: 406ms\n",
      "714:\tlearn: 4.1846776\ttotal: 1.01s\tremaining: 405ms\n",
      "715:\tlearn: 4.1844660\ttotal: 1.02s\tremaining: 403ms\n",
      "716:\tlearn: 4.1819833\ttotal: 1.02s\tremaining: 402ms\n",
      "717:\tlearn: 4.1805182\ttotal: 1.02s\tremaining: 400ms\n",
      "718:\tlearn: 4.1791155\ttotal: 1.02s\tremaining: 399ms\n",
      "719:\tlearn: 4.1790582\ttotal: 1.02s\tremaining: 397ms\n",
      "720:\tlearn: 4.1763823\ttotal: 1.02s\tremaining: 396ms\n",
      "721:\tlearn: 4.1748178\ttotal: 1.02s\tremaining: 394ms\n",
      "722:\tlearn: 4.1727155\ttotal: 1.02s\tremaining: 393ms\n",
      "723:\tlearn: 4.1707668\ttotal: 1.02s\tremaining: 391ms\n",
      "724:\tlearn: 4.1679445\ttotal: 1.03s\tremaining: 390ms\n",
      "725:\tlearn: 4.1647164\ttotal: 1.03s\tremaining: 388ms\n",
      "726:\tlearn: 4.1614842\ttotal: 1.03s\tremaining: 386ms\n",
      "727:\tlearn: 4.1564093\ttotal: 1.03s\tremaining: 385ms\n",
      "728:\tlearn: 4.1551687\ttotal: 1.03s\tremaining: 383ms\n",
      "729:\tlearn: 4.1522580\ttotal: 1.03s\tremaining: 382ms\n",
      "730:\tlearn: 4.1484227\ttotal: 1.03s\tremaining: 380ms\n",
      "731:\tlearn: 4.1471315\ttotal: 1.03s\tremaining: 379ms\n",
      "732:\tlearn: 4.1449082\ttotal: 1.04s\tremaining: 377ms\n",
      "733:\tlearn: 4.1406427\ttotal: 1.04s\tremaining: 376ms\n",
      "734:\tlearn: 4.1394745\ttotal: 1.04s\tremaining: 374ms\n",
      "735:\tlearn: 4.1390483\ttotal: 1.04s\tremaining: 373ms\n",
      "736:\tlearn: 4.1389092\ttotal: 1.04s\tremaining: 371ms\n",
      "737:\tlearn: 4.1359663\ttotal: 1.04s\tremaining: 370ms\n",
      "738:\tlearn: 4.1344724\ttotal: 1.04s\tremaining: 368ms\n",
      "739:\tlearn: 4.1343255\ttotal: 1.04s\tremaining: 367ms\n",
      "740:\tlearn: 4.1318404\ttotal: 1.05s\tremaining: 366ms\n",
      "741:\tlearn: 4.1311295\ttotal: 1.05s\tremaining: 364ms\n",
      "742:\tlearn: 4.1308339\ttotal: 1.05s\tremaining: 363ms\n",
      "743:\tlearn: 4.1279410\ttotal: 1.05s\tremaining: 361ms\n",
      "744:\tlearn: 4.1261739\ttotal: 1.05s\tremaining: 360ms\n",
      "745:\tlearn: 4.1237172\ttotal: 1.05s\tremaining: 358ms\n",
      "746:\tlearn: 4.1204060\ttotal: 1.05s\tremaining: 357ms\n",
      "747:\tlearn: 4.1202413\ttotal: 1.05s\tremaining: 355ms\n",
      "748:\tlearn: 4.1179543\ttotal: 1.06s\tremaining: 354ms\n",
      "749:\tlearn: 4.1156691\ttotal: 1.06s\tremaining: 352ms\n",
      "750:\tlearn: 4.1135129\ttotal: 1.06s\tremaining: 351ms\n",
      "751:\tlearn: 4.1116762\ttotal: 1.06s\tremaining: 349ms\n",
      "752:\tlearn: 4.1066230\ttotal: 1.06s\tremaining: 348ms\n",
      "753:\tlearn: 4.1011526\ttotal: 1.06s\tremaining: 347ms\n",
      "754:\tlearn: 4.0990651\ttotal: 1.06s\tremaining: 345ms\n",
      "755:\tlearn: 4.0983346\ttotal: 1.06s\tremaining: 344ms\n",
      "756:\tlearn: 4.0943313\ttotal: 1.06s\tremaining: 342ms\n",
      "757:\tlearn: 4.0921438\ttotal: 1.07s\tremaining: 341ms\n",
      "758:\tlearn: 4.0885562\ttotal: 1.07s\tremaining: 339ms\n",
      "759:\tlearn: 4.0856365\ttotal: 1.07s\tremaining: 338ms\n",
      "760:\tlearn: 4.0831845\ttotal: 1.07s\tremaining: 336ms\n",
      "761:\tlearn: 4.0801256\ttotal: 1.07s\tremaining: 335ms\n",
      "762:\tlearn: 4.0760294\ttotal: 1.07s\tremaining: 333ms\n",
      "763:\tlearn: 4.0704403\ttotal: 1.07s\tremaining: 332ms\n",
      "764:\tlearn: 4.0661630\ttotal: 1.07s\tremaining: 330ms\n",
      "765:\tlearn: 4.0639985\ttotal: 1.08s\tremaining: 329ms\n",
      "766:\tlearn: 4.0603971\ttotal: 1.08s\tremaining: 327ms\n",
      "767:\tlearn: 4.0572582\ttotal: 1.08s\tremaining: 326ms\n",
      "768:\tlearn: 4.0529781\ttotal: 1.08s\tremaining: 325ms\n",
      "769:\tlearn: 4.0503241\ttotal: 1.08s\tremaining: 323ms\n",
      "770:\tlearn: 4.0488520\ttotal: 1.08s\tremaining: 322ms\n",
      "771:\tlearn: 4.0486355\ttotal: 1.08s\tremaining: 320ms\n",
      "772:\tlearn: 4.0474345\ttotal: 1.08s\tremaining: 319ms\n",
      "773:\tlearn: 4.0454219\ttotal: 1.09s\tremaining: 317ms\n",
      "774:\tlearn: 4.0443285\ttotal: 1.09s\tremaining: 316ms\n",
      "775:\tlearn: 4.0420438\ttotal: 1.09s\tremaining: 314ms\n",
      "776:\tlearn: 4.0403673\ttotal: 1.09s\tremaining: 313ms\n",
      "777:\tlearn: 4.0393466\ttotal: 1.09s\tremaining: 311ms\n",
      "778:\tlearn: 4.0360411\ttotal: 1.09s\tremaining: 310ms\n",
      "779:\tlearn: 4.0342919\ttotal: 1.09s\tremaining: 308ms\n",
      "780:\tlearn: 4.0310548\ttotal: 1.09s\tremaining: 307ms\n",
      "781:\tlearn: 4.0309283\ttotal: 1.09s\tremaining: 305ms\n",
      "782:\tlearn: 4.0292423\ttotal: 1.1s\tremaining: 304ms\n",
      "783:\tlearn: 4.0274964\ttotal: 1.1s\tremaining: 303ms\n",
      "784:\tlearn: 4.0267249\ttotal: 1.1s\tremaining: 301ms\n",
      "785:\tlearn: 4.0257665\ttotal: 1.1s\tremaining: 300ms\n",
      "786:\tlearn: 4.0230010\ttotal: 1.1s\tremaining: 298ms\n",
      "787:\tlearn: 4.0211911\ttotal: 1.1s\tremaining: 297ms\n",
      "788:\tlearn: 4.0193219\ttotal: 1.1s\tremaining: 295ms\n",
      "789:\tlearn: 4.0161709\ttotal: 1.1s\tremaining: 294ms\n",
      "790:\tlearn: 4.0148212\ttotal: 1.11s\tremaining: 292ms\n",
      "791:\tlearn: 4.0145075\ttotal: 1.11s\tremaining: 291ms\n",
      "792:\tlearn: 4.0133837\ttotal: 1.11s\tremaining: 289ms\n",
      "793:\tlearn: 4.0125168\ttotal: 1.11s\tremaining: 288ms\n",
      "794:\tlearn: 4.0101240\ttotal: 1.11s\tremaining: 286ms\n",
      "795:\tlearn: 4.0072878\ttotal: 1.11s\tremaining: 285ms\n",
      "796:\tlearn: 4.0048348\ttotal: 1.11s\tremaining: 283ms\n",
      "797:\tlearn: 4.0000326\ttotal: 1.11s\tremaining: 282ms\n",
      "798:\tlearn: 3.9990371\ttotal: 1.11s\tremaining: 280ms\n",
      "799:\tlearn: 3.9969554\ttotal: 1.11s\tremaining: 279ms\n",
      "800:\tlearn: 3.9967272\ttotal: 1.12s\tremaining: 277ms\n",
      "801:\tlearn: 3.9916169\ttotal: 1.12s\tremaining: 276ms\n",
      "802:\tlearn: 3.9894241\ttotal: 1.12s\tremaining: 274ms\n",
      "803:\tlearn: 3.9877325\ttotal: 1.12s\tremaining: 273ms\n",
      "804:\tlearn: 3.9868360\ttotal: 1.12s\tremaining: 271ms\n",
      "805:\tlearn: 3.9845981\ttotal: 1.12s\tremaining: 270ms\n",
      "806:\tlearn: 3.9826232\ttotal: 1.12s\tremaining: 269ms\n",
      "807:\tlearn: 3.9823793\ttotal: 1.12s\tremaining: 267ms\n",
      "808:\tlearn: 3.9800668\ttotal: 1.13s\tremaining: 266ms\n",
      "809:\tlearn: 3.9761742\ttotal: 1.13s\tremaining: 264ms\n",
      "810:\tlearn: 3.9734223\ttotal: 1.13s\tremaining: 263ms\n",
      "811:\tlearn: 3.9718651\ttotal: 1.13s\tremaining: 261ms\n",
      "812:\tlearn: 3.9689659\ttotal: 1.13s\tremaining: 260ms\n",
      "813:\tlearn: 3.9680905\ttotal: 1.13s\tremaining: 258ms\n",
      "814:\tlearn: 3.9630426\ttotal: 1.13s\tremaining: 257ms\n",
      "815:\tlearn: 3.9609437\ttotal: 1.13s\tremaining: 255ms\n",
      "816:\tlearn: 3.9606546\ttotal: 1.13s\tremaining: 254ms\n",
      "817:\tlearn: 3.9585162\ttotal: 1.14s\tremaining: 253ms\n",
      "818:\tlearn: 3.9538433\ttotal: 1.14s\tremaining: 251ms\n",
      "819:\tlearn: 3.9518579\ttotal: 1.14s\tremaining: 250ms\n",
      "820:\tlearn: 3.9506964\ttotal: 1.14s\tremaining: 248ms\n",
      "821:\tlearn: 3.9494452\ttotal: 1.14s\tremaining: 247ms\n",
      "822:\tlearn: 3.9483953\ttotal: 1.14s\tremaining: 245ms\n",
      "823:\tlearn: 3.9474546\ttotal: 1.14s\tremaining: 244ms\n",
      "824:\tlearn: 3.9474099\ttotal: 1.14s\tremaining: 242ms\n",
      "825:\tlearn: 3.9451961\ttotal: 1.14s\tremaining: 241ms\n",
      "826:\tlearn: 3.9421487\ttotal: 1.14s\tremaining: 239ms\n",
      "827:\tlearn: 3.9400430\ttotal: 1.15s\tremaining: 238ms\n",
      "828:\tlearn: 3.9389443\ttotal: 1.15s\tremaining: 237ms\n",
      "829:\tlearn: 3.9368173\ttotal: 1.15s\tremaining: 235ms\n",
      "830:\tlearn: 3.9325608\ttotal: 1.15s\tremaining: 234ms\n",
      "831:\tlearn: 3.9324046\ttotal: 1.15s\tremaining: 232ms\n",
      "832:\tlearn: 3.9295489\ttotal: 1.15s\tremaining: 231ms\n",
      "833:\tlearn: 3.9285071\ttotal: 1.15s\tremaining: 229ms\n",
      "834:\tlearn: 3.9246455\ttotal: 1.15s\tremaining: 228ms\n",
      "835:\tlearn: 3.9218858\ttotal: 1.16s\tremaining: 227ms\n",
      "836:\tlearn: 3.9218350\ttotal: 1.16s\tremaining: 225ms\n",
      "837:\tlearn: 3.9192116\ttotal: 1.16s\tremaining: 224ms\n",
      "838:\tlearn: 3.9173343\ttotal: 1.16s\tremaining: 222ms\n",
      "839:\tlearn: 3.9127931\ttotal: 1.16s\tremaining: 221ms\n",
      "840:\tlearn: 3.9082505\ttotal: 1.16s\tremaining: 219ms\n",
      "841:\tlearn: 3.9066119\ttotal: 1.16s\tremaining: 218ms\n",
      "842:\tlearn: 3.9030475\ttotal: 1.16s\tremaining: 217ms\n",
      "843:\tlearn: 3.9024175\ttotal: 1.16s\tremaining: 215ms\n",
      "844:\tlearn: 3.9022591\ttotal: 1.17s\tremaining: 214ms\n",
      "845:\tlearn: 3.9013041\ttotal: 1.17s\tremaining: 212ms\n",
      "846:\tlearn: 3.8979333\ttotal: 1.17s\tremaining: 211ms\n",
      "847:\tlearn: 3.8937044\ttotal: 1.17s\tremaining: 210ms\n",
      "848:\tlearn: 3.8912207\ttotal: 1.17s\tremaining: 208ms\n",
      "849:\tlearn: 3.8891299\ttotal: 1.17s\tremaining: 207ms\n",
      "850:\tlearn: 3.8868182\ttotal: 1.17s\tremaining: 205ms\n",
      "851:\tlearn: 3.8841917\ttotal: 1.17s\tremaining: 204ms\n",
      "852:\tlearn: 3.8813050\ttotal: 1.18s\tremaining: 203ms\n",
      "853:\tlearn: 3.8783001\ttotal: 1.18s\tremaining: 201ms\n",
      "854:\tlearn: 3.8782571\ttotal: 1.18s\tremaining: 200ms\n",
      "855:\tlearn: 3.8767448\ttotal: 1.18s\tremaining: 198ms\n",
      "856:\tlearn: 3.8741486\ttotal: 1.18s\tremaining: 197ms\n",
      "857:\tlearn: 3.8715700\ttotal: 1.18s\tremaining: 196ms\n",
      "858:\tlearn: 3.8708119\ttotal: 1.18s\tremaining: 194ms\n",
      "859:\tlearn: 3.8697054\ttotal: 1.18s\tremaining: 193ms\n",
      "860:\tlearn: 3.8689201\ttotal: 1.19s\tremaining: 191ms\n",
      "861:\tlearn: 3.8674707\ttotal: 1.19s\tremaining: 190ms\n",
      "862:\tlearn: 3.8670205\ttotal: 1.19s\tremaining: 189ms\n",
      "863:\tlearn: 3.8648622\ttotal: 1.19s\tremaining: 187ms\n",
      "864:\tlearn: 3.8609449\ttotal: 1.19s\tremaining: 186ms\n",
      "865:\tlearn: 3.8568081\ttotal: 1.19s\tremaining: 184ms\n",
      "866:\tlearn: 3.8543588\ttotal: 1.19s\tremaining: 183ms\n",
      "867:\tlearn: 3.8509014\ttotal: 1.19s\tremaining: 182ms\n",
      "868:\tlearn: 3.8481988\ttotal: 1.2s\tremaining: 180ms\n",
      "869:\tlearn: 3.8443954\ttotal: 1.2s\tremaining: 179ms\n",
      "870:\tlearn: 3.8424787\ttotal: 1.2s\tremaining: 177ms\n",
      "871:\tlearn: 3.8424360\ttotal: 1.2s\tremaining: 176ms\n",
      "872:\tlearn: 3.8422794\ttotal: 1.2s\tremaining: 175ms\n",
      "873:\tlearn: 3.8403868\ttotal: 1.2s\tremaining: 173ms\n",
      "874:\tlearn: 3.8386911\ttotal: 1.2s\tremaining: 172ms\n",
      "875:\tlearn: 3.8385896\ttotal: 1.2s\tremaining: 170ms\n",
      "876:\tlearn: 3.8382311\ttotal: 1.2s\tremaining: 169ms\n",
      "877:\tlearn: 3.8381780\ttotal: 1.21s\tremaining: 168ms\n",
      "878:\tlearn: 3.8379592\ttotal: 1.21s\tremaining: 166ms\n",
      "879:\tlearn: 3.8377521\ttotal: 1.21s\tremaining: 165ms\n",
      "880:\tlearn: 3.8339969\ttotal: 1.21s\tremaining: 163ms\n",
      "881:\tlearn: 3.8337384\ttotal: 1.21s\tremaining: 162ms\n",
      "882:\tlearn: 3.8291555\ttotal: 1.21s\tremaining: 161ms\n",
      "883:\tlearn: 3.8279176\ttotal: 1.21s\tremaining: 159ms\n",
      "884:\tlearn: 3.8252197\ttotal: 1.21s\tremaining: 158ms\n",
      "885:\tlearn: 3.8249498\ttotal: 1.21s\tremaining: 156ms\n",
      "886:\tlearn: 3.8232194\ttotal: 1.22s\tremaining: 155ms\n",
      "887:\tlearn: 3.8207414\ttotal: 1.22s\tremaining: 153ms\n",
      "888:\tlearn: 3.8188941\ttotal: 1.22s\tremaining: 152ms\n",
      "889:\tlearn: 3.8150575\ttotal: 1.22s\tremaining: 151ms\n",
      "890:\tlearn: 3.8149775\ttotal: 1.22s\tremaining: 149ms\n",
      "891:\tlearn: 3.8120514\ttotal: 1.22s\tremaining: 148ms\n",
      "892:\tlearn: 3.8110559\ttotal: 1.22s\tremaining: 146ms\n",
      "893:\tlearn: 3.8086233\ttotal: 1.22s\tremaining: 145ms\n",
      "894:\tlearn: 3.8074715\ttotal: 1.22s\tremaining: 144ms\n",
      "895:\tlearn: 3.8036729\ttotal: 1.23s\tremaining: 142ms\n",
      "896:\tlearn: 3.8006160\ttotal: 1.23s\tremaining: 141ms\n",
      "897:\tlearn: 3.7981255\ttotal: 1.23s\tremaining: 139ms\n",
      "898:\tlearn: 3.7951809\ttotal: 1.23s\tremaining: 138ms\n",
      "899:\tlearn: 3.7949471\ttotal: 1.23s\tremaining: 137ms\n",
      "900:\tlearn: 3.7920070\ttotal: 1.23s\tremaining: 135ms\n",
      "901:\tlearn: 3.7903640\ttotal: 1.23s\tremaining: 134ms\n",
      "902:\tlearn: 3.7864165\ttotal: 1.23s\tremaining: 132ms\n",
      "903:\tlearn: 3.7832899\ttotal: 1.23s\tremaining: 131ms\n",
      "904:\tlearn: 3.7818322\ttotal: 1.24s\tremaining: 130ms\n",
      "905:\tlearn: 3.7797445\ttotal: 1.24s\tremaining: 128ms\n",
      "906:\tlearn: 3.7795510\ttotal: 1.24s\tremaining: 127ms\n",
      "907:\tlearn: 3.7794806\ttotal: 1.24s\tremaining: 125ms\n",
      "908:\tlearn: 3.7763175\ttotal: 1.24s\tremaining: 124ms\n",
      "909:\tlearn: 3.7732298\ttotal: 1.24s\tremaining: 123ms\n",
      "910:\tlearn: 3.7720794\ttotal: 1.24s\tremaining: 121ms\n",
      "911:\tlearn: 3.7718903\ttotal: 1.24s\tremaining: 120ms\n",
      "912:\tlearn: 3.7692705\ttotal: 1.24s\tremaining: 119ms\n",
      "913:\tlearn: 3.7664333\ttotal: 1.25s\tremaining: 117ms\n",
      "914:\tlearn: 3.7661648\ttotal: 1.25s\tremaining: 116ms\n",
      "915:\tlearn: 3.7660024\ttotal: 1.25s\tremaining: 114ms\n",
      "916:\tlearn: 3.7652126\ttotal: 1.25s\tremaining: 113ms\n",
      "917:\tlearn: 3.7627458\ttotal: 1.25s\tremaining: 112ms\n",
      "918:\tlearn: 3.7626839\ttotal: 1.25s\tremaining: 110ms\n",
      "919:\tlearn: 3.7622176\ttotal: 1.25s\tremaining: 109ms\n",
      "920:\tlearn: 3.7580107\ttotal: 1.25s\tremaining: 108ms\n",
      "921:\tlearn: 3.7539550\ttotal: 1.25s\tremaining: 106ms\n",
      "922:\tlearn: 3.7505869\ttotal: 1.25s\tremaining: 105ms\n",
      "923:\tlearn: 3.7488168\ttotal: 1.26s\tremaining: 103ms\n",
      "924:\tlearn: 3.7470076\ttotal: 1.26s\tremaining: 102ms\n",
      "925:\tlearn: 3.7450165\ttotal: 1.26s\tremaining: 101ms\n",
      "926:\tlearn: 3.7433883\ttotal: 1.26s\tremaining: 99.3ms\n",
      "927:\tlearn: 3.7412526\ttotal: 1.26s\tremaining: 97.9ms\n",
      "928:\tlearn: 3.7393278\ttotal: 1.26s\tremaining: 96.5ms\n",
      "929:\tlearn: 3.7376908\ttotal: 1.26s\tremaining: 95.1ms\n",
      "930:\tlearn: 3.7347185\ttotal: 1.26s\tremaining: 93.8ms\n",
      "931:\tlearn: 3.7333965\ttotal: 1.27s\tremaining: 92.4ms\n",
      "932:\tlearn: 3.7317963\ttotal: 1.27s\tremaining: 91ms\n",
      "933:\tlearn: 3.7299559\ttotal: 1.27s\tremaining: 89.7ms\n",
      "934:\tlearn: 3.7287165\ttotal: 1.27s\tremaining: 88.3ms\n",
      "935:\tlearn: 3.7274811\ttotal: 1.27s\tremaining: 86.9ms\n",
      "936:\tlearn: 3.7274308\ttotal: 1.27s\tremaining: 85.6ms\n",
      "937:\tlearn: 3.7272241\ttotal: 1.27s\tremaining: 84.2ms\n",
      "938:\tlearn: 3.7245751\ttotal: 1.27s\tremaining: 82.8ms\n",
      "939:\tlearn: 3.7244202\ttotal: 1.27s\tremaining: 81.4ms\n",
      "940:\tlearn: 3.7212342\ttotal: 1.28s\tremaining: 80.1ms\n",
      "941:\tlearn: 3.7184107\ttotal: 1.28s\tremaining: 78.7ms\n",
      "942:\tlearn: 3.7145837\ttotal: 1.28s\tremaining: 77.3ms\n",
      "943:\tlearn: 3.7144387\ttotal: 1.28s\tremaining: 76ms\n",
      "944:\tlearn: 3.7132746\ttotal: 1.28s\tremaining: 74.6ms\n",
      "945:\tlearn: 3.7123625\ttotal: 1.28s\tremaining: 73.3ms\n",
      "946:\tlearn: 3.7120110\ttotal: 1.28s\tremaining: 71.9ms\n",
      "947:\tlearn: 3.7112417\ttotal: 1.28s\tremaining: 70.5ms\n",
      "948:\tlearn: 3.7109863\ttotal: 1.29s\tremaining: 69.2ms\n",
      "949:\tlearn: 3.7090885\ttotal: 1.29s\tremaining: 67.8ms\n",
      "950:\tlearn: 3.7086679\ttotal: 1.29s\tremaining: 66.4ms\n",
      "951:\tlearn: 3.7070134\ttotal: 1.29s\tremaining: 65.1ms\n",
      "952:\tlearn: 3.7052709\ttotal: 1.29s\tremaining: 63.7ms\n",
      "953:\tlearn: 3.7046011\ttotal: 1.29s\tremaining: 62.3ms\n",
      "954:\tlearn: 3.7024156\ttotal: 1.29s\tremaining: 61ms\n",
      "955:\tlearn: 3.7009653\ttotal: 1.29s\tremaining: 59.6ms\n",
      "956:\tlearn: 3.6964622\ttotal: 1.3s\tremaining: 58.3ms\n",
      "957:\tlearn: 3.6928249\ttotal: 1.3s\tremaining: 56.9ms\n",
      "958:\tlearn: 3.6898432\ttotal: 1.3s\tremaining: 55.5ms\n",
      "959:\tlearn: 3.6885568\ttotal: 1.3s\tremaining: 54.2ms\n",
      "960:\tlearn: 3.6846835\ttotal: 1.3s\tremaining: 52.8ms\n",
      "961:\tlearn: 3.6834584\ttotal: 1.3s\tremaining: 51.4ms\n",
      "962:\tlearn: 3.6805925\ttotal: 1.3s\tremaining: 50.1ms\n",
      "963:\tlearn: 3.6777272\ttotal: 1.3s\tremaining: 48.7ms\n",
      "964:\tlearn: 3.6772970\ttotal: 1.3s\tremaining: 47.4ms\n",
      "965:\tlearn: 3.6772468\ttotal: 1.31s\tremaining: 46ms\n",
      "966:\tlearn: 3.6764607\ttotal: 1.31s\tremaining: 44.6ms\n",
      "967:\tlearn: 3.6758211\ttotal: 1.31s\tremaining: 43.3ms\n",
      "968:\tlearn: 3.6744754\ttotal: 1.31s\tremaining: 41.9ms\n",
      "969:\tlearn: 3.6717883\ttotal: 1.31s\tremaining: 40.6ms\n",
      "970:\tlearn: 3.6707648\ttotal: 1.31s\tremaining: 39.2ms\n",
      "971:\tlearn: 3.6685597\ttotal: 1.31s\tremaining: 37.8ms\n",
      "972:\tlearn: 3.6684802\ttotal: 1.31s\tremaining: 36.5ms\n",
      "973:\tlearn: 3.6684336\ttotal: 1.31s\tremaining: 35.1ms\n",
      "974:\tlearn: 3.6679172\ttotal: 1.32s\tremaining: 33.8ms\n",
      "975:\tlearn: 3.6673009\ttotal: 1.32s\tremaining: 32.4ms\n",
      "976:\tlearn: 3.6656135\ttotal: 1.32s\tremaining: 31.1ms\n",
      "977:\tlearn: 3.6654723\ttotal: 1.32s\tremaining: 29.7ms\n",
      "978:\tlearn: 3.6623757\ttotal: 1.32s\tremaining: 28.3ms\n",
      "979:\tlearn: 3.6616848\ttotal: 1.32s\tremaining: 27ms\n",
      "980:\tlearn: 3.6599390\ttotal: 1.32s\tremaining: 25.6ms\n",
      "981:\tlearn: 3.6578880\ttotal: 1.32s\tremaining: 24.3ms\n",
      "982:\tlearn: 3.6576156\ttotal: 1.32s\tremaining: 22.9ms\n",
      "983:\tlearn: 3.6552006\ttotal: 1.33s\tremaining: 21.6ms\n",
      "984:\tlearn: 3.6542121\ttotal: 1.33s\tremaining: 20.2ms\n",
      "985:\tlearn: 3.6530699\ttotal: 1.33s\tremaining: 18.9ms\n",
      "986:\tlearn: 3.6503830\ttotal: 1.33s\tremaining: 17.5ms\n",
      "987:\tlearn: 3.6486923\ttotal: 1.33s\tremaining: 16.2ms\n",
      "988:\tlearn: 3.6456394\ttotal: 1.33s\tremaining: 14.8ms\n",
      "989:\tlearn: 3.6455249\ttotal: 1.33s\tremaining: 13.5ms\n",
      "990:\tlearn: 3.6447927\ttotal: 1.33s\tremaining: 12.1ms\n"
     ]
    },
    {
     "name": "stdout",
     "output_type": "stream",
     "text": [
      "991:\tlearn: 3.6429072\ttotal: 1.33s\tremaining: 10.8ms\n",
      "992:\tlearn: 3.6411361\ttotal: 1.34s\tremaining: 9.43ms\n",
      "993:\tlearn: 3.6375618\ttotal: 1.34s\tremaining: 8.08ms\n",
      "994:\tlearn: 3.6334122\ttotal: 1.34s\tremaining: 6.73ms\n",
      "995:\tlearn: 3.6310741\ttotal: 1.34s\tremaining: 5.38ms\n",
      "996:\tlearn: 3.6309840\ttotal: 1.34s\tremaining: 4.04ms\n",
      "997:\tlearn: 3.6273277\ttotal: 1.34s\tremaining: 2.69ms\n",
      "998:\tlearn: 3.6236626\ttotal: 1.34s\tremaining: 1.34ms\n",
      "999:\tlearn: 3.6203426\ttotal: 1.34s\tremaining: 0us\n"
     ]
    }
   ],
   "source": [
    "catb = CatBoostRegressor()\n",
    "catb_model = catb.fit(X_train, y_train)"
   ]
  },
  {
   "cell_type": "markdown",
   "id": "6f6101fd",
   "metadata": {},
   "source": [
    "#### 1.8.1. Tahmin"
   ]
  },
  {
   "cell_type": "code",
   "execution_count": 80,
   "id": "00ee64b8",
   "metadata": {},
   "outputs": [
    {
     "data": {
      "text/plain": [
       "6.935640395498566"
      ]
     },
     "execution_count": 80,
     "metadata": {},
     "output_type": "execute_result"
    }
   ],
   "source": [
    "y_pred = catb_model.predict(X_test)\n",
    "np.sqrt(mean_squared_error(y_test, y_pred))"
   ]
  },
  {
   "cell_type": "markdown",
   "id": "8968fb7f",
   "metadata": {},
   "source": [
    "#### 1.8.2. Model Tuning"
   ]
  },
  {
   "cell_type": "code",
   "execution_count": 81,
   "id": "88439203",
   "metadata": {},
   "outputs": [],
   "source": [
    "catb_grid = {\n",
    "    'iterations': [200,500,1000,2000],\n",
    "    'learning_rate': [0.01, 0.03, 0.05, 0.1],\n",
    "    'depth': [3,4,5,6,7,8] }"
   ]
  },
  {
   "cell_type": "code",
   "execution_count": 82,
   "id": "fe39f385",
   "metadata": {},
   "outputs": [
    {
     "name": "stdout",
     "output_type": "stream",
     "text": [
      "Fitting 5 folds for each of 96 candidates, totalling 480 fits\n",
      "0:\tlearn: 6.3331869\ttotal: 2.64ms\tremaining: 525ms\n",
      "1:\tlearn: 6.3296075\ttotal: 5.39ms\tremaining: 534ms\n",
      "2:\tlearn: 6.3253738\ttotal: 7.72ms\tremaining: 507ms\n",
      "3:\tlearn: 6.3225296\ttotal: 10.1ms\tremaining: 495ms\n",
      "4:\tlearn: 6.3198650\ttotal: 12.5ms\tremaining: 488ms\n",
      "5:\tlearn: 6.3168054\ttotal: 14.8ms\tremaining: 478ms\n",
      "6:\tlearn: 6.3127194\ttotal: 17.1ms\tremaining: 471ms\n",
      "7:\tlearn: 6.3110929\ttotal: 19.6ms\tremaining: 470ms\n",
      "8:\tlearn: 6.3075770\ttotal: 21.9ms\tremaining: 466ms\n",
      "9:\tlearn: 6.3068981\ttotal: 22.7ms\tremaining: 431ms\n",
      "10:\tlearn: 6.3037298\ttotal: 25ms\tremaining: 430ms\n",
      "11:\tlearn: 6.3018059\ttotal: 27.2ms\tremaining: 426ms\n",
      "12:\tlearn: 6.2992923\ttotal: 29.4ms\tremaining: 423ms\n",
      "13:\tlearn: 6.2966332\ttotal: 31.7ms\tremaining: 421ms\n",
      "14:\tlearn: 6.2941609\ttotal: 34ms\tremaining: 419ms\n",
      "15:\tlearn: 6.2912242\ttotal: 36.2ms\tremaining: 417ms\n",
      "16:\tlearn: 6.2879135\ttotal: 38.5ms\tremaining: 415ms\n",
      "17:\tlearn: 6.2849744\ttotal: 40.8ms\tremaining: 412ms\n",
      "18:\tlearn: 6.2821223\ttotal: 43.1ms\tremaining: 411ms\n",
      "19:\tlearn: 6.2790857\ttotal: 45.6ms\tremaining: 410ms\n",
      "20:\tlearn: 6.2774282\ttotal: 48ms\tremaining: 409ms\n",
      "21:\tlearn: 6.2747996\ttotal: 50.2ms\tremaining: 406ms\n",
      "22:\tlearn: 6.2722900\ttotal: 52.5ms\tremaining: 404ms\n",
      "23:\tlearn: 6.2708655\ttotal: 53.4ms\tremaining: 391ms\n",
      "24:\tlearn: 6.2682846\ttotal: 55.5ms\tremaining: 389ms\n",
      "25:\tlearn: 6.2655259\ttotal: 57.8ms\tremaining: 387ms\n",
      "26:\tlearn: 6.2620887\ttotal: 60.4ms\tremaining: 387ms\n",
      "27:\tlearn: 6.2574833\ttotal: 62.8ms\tremaining: 386ms\n",
      "28:\tlearn: 6.2544622\ttotal: 65.1ms\tremaining: 384ms\n",
      "29:\tlearn: 6.2527665\ttotal: 67.4ms\tremaining: 382ms\n",
      "30:\tlearn: 6.2495683\ttotal: 69.8ms\tremaining: 380ms\n",
      "31:\tlearn: 6.2467922\ttotal: 72.1ms\tremaining: 378ms\n",
      "32:\tlearn: 6.2433685\ttotal: 74.5ms\tremaining: 377ms\n",
      "33:\tlearn: 6.2400900\ttotal: 76.7ms\tremaining: 375ms\n",
      "34:\tlearn: 6.2351048\ttotal: 79.1ms\tremaining: 373ms\n",
      "35:\tlearn: 6.2318509\ttotal: 81.5ms\tremaining: 371ms\n",
      "36:\tlearn: 6.2301142\ttotal: 83.8ms\tremaining: 369ms\n",
      "37:\tlearn: 6.2263476\ttotal: 86.2ms\tremaining: 368ms\n",
      "38:\tlearn: 6.2223115\ttotal: 88.6ms\tremaining: 366ms\n",
      "39:\tlearn: 6.2183494\ttotal: 90.9ms\tremaining: 363ms\n",
      "40:\tlearn: 6.2153764\ttotal: 93.1ms\tremaining: 361ms\n",
      "41:\tlearn: 6.2132997\ttotal: 95.5ms\tremaining: 359ms\n",
      "42:\tlearn: 6.2105887\ttotal: 96.8ms\tremaining: 353ms\n",
      "43:\tlearn: 6.2081427\ttotal: 99.1ms\tremaining: 351ms\n",
      "44:\tlearn: 6.2046832\ttotal: 101ms\tremaining: 349ms\n",
      "45:\tlearn: 6.2014940\ttotal: 104ms\tremaining: 347ms\n",
      "46:\tlearn: 6.1992775\ttotal: 106ms\tremaining: 345ms\n",
      "47:\tlearn: 6.1957945\ttotal: 108ms\tremaining: 343ms\n",
      "48:\tlearn: 6.1926580\ttotal: 111ms\tremaining: 341ms\n",
      "49:\tlearn: 6.1900625\ttotal: 113ms\tremaining: 339ms\n",
      "50:\tlearn: 6.1887888\ttotal: 114ms\tremaining: 334ms\n",
      "51:\tlearn: 6.1856684\ttotal: 117ms\tremaining: 332ms\n",
      "52:\tlearn: 6.1833826\ttotal: 119ms\tremaining: 329ms\n",
      "53:\tlearn: 6.1803528\ttotal: 121ms\tremaining: 327ms\n",
      "54:\tlearn: 6.1780912\ttotal: 123ms\tremaining: 324ms\n",
      "55:\tlearn: 6.1771379\ttotal: 125ms\tremaining: 322ms\n",
      "56:\tlearn: 6.1761233\ttotal: 127ms\tremaining: 319ms\n",
      "57:\tlearn: 6.1730800\ttotal: 129ms\tremaining: 317ms\n",
      "58:\tlearn: 6.1707542\ttotal: 132ms\tremaining: 315ms\n",
      "59:\tlearn: 6.1679034\ttotal: 134ms\tremaining: 312ms\n",
      "60:\tlearn: 6.1658312\ttotal: 136ms\tremaining: 310ms\n",
      "61:\tlearn: 6.1632384\ttotal: 138ms\tremaining: 307ms\n",
      "62:\tlearn: 6.1609776\ttotal: 140ms\tremaining: 305ms\n",
      "63:\tlearn: 6.1583652\ttotal: 143ms\tremaining: 303ms\n",
      "64:\tlearn: 6.1571629\ttotal: 145ms\tremaining: 301ms\n",
      "65:\tlearn: 6.1562527\ttotal: 146ms\tremaining: 295ms\n",
      "66:\tlearn: 6.1557594\ttotal: 147ms\tremaining: 291ms\n",
      "67:\tlearn: 6.1527128\ttotal: 149ms\tremaining: 289ms\n",
      "68:\tlearn: 6.1504506\ttotal: 151ms\tremaining: 287ms\n",
      "69:\tlearn: 6.1476713\ttotal: 153ms\tremaining: 284ms\n",
      "70:\tlearn: 6.1461975\ttotal: 155ms\tremaining: 282ms\n",
      "71:\tlearn: 6.1435704\ttotal: 157ms\tremaining: 280ms\n",
      "72:\tlearn: 6.1411606\ttotal: 159ms\tremaining: 277ms\n",
      "73:\tlearn: 6.1407898\ttotal: 160ms\tremaining: 272ms\n",
      "74:\tlearn: 6.1386957\ttotal: 162ms\tremaining: 270ms\n",
      "75:\tlearn: 6.1355591\ttotal: 164ms\tremaining: 268ms\n",
      "76:\tlearn: 6.1336580\ttotal: 166ms\tremaining: 266ms\n",
      "77:\tlearn: 6.1300020\ttotal: 169ms\tremaining: 264ms\n",
      "78:\tlearn: 6.1273212\ttotal: 171ms\tremaining: 261ms\n",
      "79:\tlearn: 6.1251795\ttotal: 173ms\tremaining: 259ms\n",
      "80:\tlearn: 6.1243696\ttotal: 174ms\tremaining: 255ms\n",
      "81:\tlearn: 6.1230123\ttotal: 176ms\tremaining: 253ms\n",
      "82:\tlearn: 6.1218414\ttotal: 179ms\tremaining: 252ms\n",
      "83:\tlearn: 6.1200872\ttotal: 181ms\tremaining: 250ms\n",
      "84:\tlearn: 6.1189888\ttotal: 183ms\tremaining: 248ms\n",
      "85:\tlearn: 6.1165540\ttotal: 185ms\tremaining: 246ms\n",
      "86:\tlearn: 6.1146728\ttotal: 188ms\tremaining: 244ms\n",
      "87:\tlearn: 6.1129405\ttotal: 190ms\tremaining: 242ms\n",
      "88:\tlearn: 6.1102693\ttotal: 192ms\tremaining: 240ms\n",
      "89:\tlearn: 6.1085699\ttotal: 195ms\tremaining: 238ms\n",
      "90:\tlearn: 6.1051106\ttotal: 197ms\tremaining: 236ms\n",
      "91:\tlearn: 6.1034505\ttotal: 200ms\tremaining: 234ms\n",
      "92:\tlearn: 6.1000778\ttotal: 202ms\tremaining: 232ms\n",
      "93:\tlearn: 6.0976934\ttotal: 204ms\tremaining: 230ms\n",
      "94:\tlearn: 6.0950898\ttotal: 207ms\tremaining: 229ms\n",
      "95:\tlearn: 6.0929232\ttotal: 209ms\tremaining: 227ms\n",
      "96:\tlearn: 6.0901496\ttotal: 212ms\tremaining: 225ms\n",
      "97:\tlearn: 6.0870980\ttotal: 214ms\tremaining: 223ms\n",
      "98:\tlearn: 6.0847726\ttotal: 217ms\tremaining: 221ms\n",
      "99:\tlearn: 6.0822041\ttotal: 219ms\tremaining: 219ms\n",
      "100:\tlearn: 6.0793595\ttotal: 221ms\tremaining: 217ms\n",
      "101:\tlearn: 6.0770223\ttotal: 224ms\tremaining: 215ms\n",
      "102:\tlearn: 6.0748432\ttotal: 226ms\tremaining: 213ms\n",
      "103:\tlearn: 6.0742179\ttotal: 228ms\tremaining: 210ms\n",
      "104:\tlearn: 6.0716090\ttotal: 230ms\tremaining: 208ms\n",
      "105:\tlearn: 6.0692678\ttotal: 233ms\tremaining: 206ms\n",
      "106:\tlearn: 6.0663038\ttotal: 235ms\tremaining: 204ms\n",
      "107:\tlearn: 6.0629963\ttotal: 237ms\tremaining: 202ms\n",
      "108:\tlearn: 6.0606897\ttotal: 240ms\tremaining: 200ms\n",
      "109:\tlearn: 6.0582760\ttotal: 242ms\tremaining: 198ms\n",
      "110:\tlearn: 6.0554728\ttotal: 244ms\tremaining: 196ms\n",
      "111:\tlearn: 6.0527548\ttotal: 247ms\tremaining: 194ms\n",
      "112:\tlearn: 6.0513902\ttotal: 249ms\tremaining: 192ms\n",
      "113:\tlearn: 6.0482062\ttotal: 251ms\tremaining: 190ms\n",
      "114:\tlearn: 6.0457622\ttotal: 254ms\tremaining: 187ms\n",
      "115:\tlearn: 6.0433993\ttotal: 256ms\tremaining: 185ms\n",
      "116:\tlearn: 6.0407270\ttotal: 258ms\tremaining: 183ms\n",
      "117:\tlearn: 6.0399334\ttotal: 259ms\tremaining: 180ms\n",
      "118:\tlearn: 6.0390539\ttotal: 260ms\tremaining: 177ms\n",
      "119:\tlearn: 6.0374006\ttotal: 262ms\tremaining: 175ms\n",
      "120:\tlearn: 6.0364460\ttotal: 265ms\tremaining: 173ms\n",
      "121:\tlearn: 6.0331144\ttotal: 267ms\tremaining: 171ms\n",
      "122:\tlearn: 6.0306592\ttotal: 269ms\tremaining: 168ms\n",
      "123:\tlearn: 6.0276269\ttotal: 271ms\tremaining: 166ms\n",
      "124:\tlearn: 6.0245796\ttotal: 274ms\tremaining: 164ms\n",
      "125:\tlearn: 6.0208905\ttotal: 276ms\tremaining: 162ms\n",
      "126:\tlearn: 6.0191151\ttotal: 277ms\tremaining: 159ms\n",
      "127:\tlearn: 6.0174386\ttotal: 280ms\tremaining: 157ms\n",
      "128:\tlearn: 6.0160010\ttotal: 282ms\tremaining: 155ms\n",
      "129:\tlearn: 6.0159995\ttotal: 283ms\tremaining: 152ms\n",
      "130:\tlearn: 6.0156102\ttotal: 283ms\tremaining: 149ms\n",
      "131:\tlearn: 6.0151793\ttotal: 284ms\tremaining: 146ms\n",
      "132:\tlearn: 6.0141026\ttotal: 287ms\tremaining: 144ms\n",
      "133:\tlearn: 6.0108484\ttotal: 289ms\tremaining: 142ms\n",
      "134:\tlearn: 6.0096143\ttotal: 291ms\tremaining: 140ms\n",
      "135:\tlearn: 6.0075400\ttotal: 293ms\tremaining: 138ms\n",
      "136:\tlearn: 6.0055612\ttotal: 296ms\tremaining: 136ms\n",
      "137:\tlearn: 6.0026993\ttotal: 298ms\tremaining: 134ms\n",
      "138:\tlearn: 6.0017429\ttotal: 300ms\tremaining: 132ms\n",
      "139:\tlearn: 5.9992511\ttotal: 302ms\tremaining: 130ms\n",
      "140:\tlearn: 5.9964107\ttotal: 304ms\tremaining: 127ms\n",
      "141:\tlearn: 5.9952543\ttotal: 305ms\tremaining: 125ms\n",
      "142:\tlearn: 5.9938160\ttotal: 308ms\tremaining: 123ms\n",
      "143:\tlearn: 5.9916124\ttotal: 310ms\tremaining: 120ms\n",
      "144:\tlearn: 5.9884117\ttotal: 312ms\tremaining: 118ms\n",
      "145:\tlearn: 5.9863825\ttotal: 314ms\tremaining: 116ms\n",
      "146:\tlearn: 5.9850001\ttotal: 316ms\tremaining: 114ms\n",
      "147:\tlearn: 5.9830925\ttotal: 319ms\tremaining: 112ms\n",
      "148:\tlearn: 5.9809864\ttotal: 321ms\tremaining: 110ms\n",
      "149:\tlearn: 5.9800150\ttotal: 322ms\tremaining: 107ms\n",
      "150:\tlearn: 5.9779026\ttotal: 324ms\tremaining: 105ms\n",
      "151:\tlearn: 5.9765798\ttotal: 326ms\tremaining: 103ms\n",
      "152:\tlearn: 5.9747030\ttotal: 328ms\tremaining: 101ms\n",
      "153:\tlearn: 5.9741365\ttotal: 329ms\tremaining: 98.4ms\n",
      "154:\tlearn: 5.9727109\ttotal: 331ms\tremaining: 96.2ms\n",
      "155:\tlearn: 5.9715430\ttotal: 334ms\tremaining: 94.1ms\n",
      "156:\tlearn: 5.9684940\ttotal: 336ms\tremaining: 92ms\n",
      "157:\tlearn: 5.9662581\ttotal: 338ms\tremaining: 89.9ms\n",
      "158:\tlearn: 5.9637403\ttotal: 340ms\tremaining: 87.7ms\n",
      "159:\tlearn: 5.9628295\ttotal: 341ms\tremaining: 85.3ms\n",
      "160:\tlearn: 5.9605169\ttotal: 343ms\tremaining: 83.2ms\n",
      "161:\tlearn: 5.9598383\ttotal: 345ms\tremaining: 81ms\n",
      "162:\tlearn: 5.9584834\ttotal: 348ms\tremaining: 78.9ms\n",
      "163:\tlearn: 5.9575878\ttotal: 349ms\tremaining: 76.5ms\n",
      "164:\tlearn: 5.9563292\ttotal: 351ms\tremaining: 74.5ms\n"
     ]
    },
    {
     "name": "stdout",
     "output_type": "stream",
     "text": [
      "165:\tlearn: 5.9552382\ttotal: 353ms\tremaining: 72.4ms\n",
      "166:\tlearn: 5.9541126\ttotal: 356ms\tremaining: 70.3ms\n",
      "167:\tlearn: 5.9513285\ttotal: 358ms\tremaining: 68.2ms\n",
      "168:\tlearn: 5.9492716\ttotal: 360ms\tremaining: 66.1ms\n",
      "169:\tlearn: 5.9454758\ttotal: 362ms\tremaining: 64ms\n",
      "170:\tlearn: 5.9449974\ttotal: 363ms\tremaining: 61.6ms\n",
      "171:\tlearn: 5.9430610\ttotal: 366ms\tremaining: 59.5ms\n",
      "172:\tlearn: 5.9416128\ttotal: 368ms\tremaining: 57.4ms\n",
      "173:\tlearn: 5.9396081\ttotal: 370ms\tremaining: 55.3ms\n",
      "174:\tlearn: 5.9374363\ttotal: 372ms\tremaining: 53.1ms\n",
      "175:\tlearn: 5.9349225\ttotal: 374ms\tremaining: 51ms\n",
      "176:\tlearn: 5.9346102\ttotal: 375ms\tremaining: 48.7ms\n",
      "177:\tlearn: 5.9323717\ttotal: 377ms\tremaining: 46.6ms\n",
      "178:\tlearn: 5.9306408\ttotal: 380ms\tremaining: 44.5ms\n",
      "179:\tlearn: 5.9297367\ttotal: 381ms\tremaining: 42.4ms\n",
      "180:\tlearn: 5.9271384\ttotal: 384ms\tremaining: 40.3ms\n",
      "181:\tlearn: 5.9243707\ttotal: 386ms\tremaining: 38.2ms\n",
      "182:\tlearn: 5.9242924\ttotal: 387ms\tremaining: 35.9ms\n",
      "183:\tlearn: 5.9228191\ttotal: 389ms\tremaining: 33.8ms\n",
      "184:\tlearn: 5.9213026\ttotal: 391ms\tremaining: 31.7ms\n",
      "185:\tlearn: 5.9194058\ttotal: 393ms\tremaining: 29.6ms\n",
      "186:\tlearn: 5.9170569\ttotal: 396ms\tremaining: 27.5ms\n",
      "187:\tlearn: 5.9150189\ttotal: 398ms\tremaining: 25.4ms\n",
      "188:\tlearn: 5.9130355\ttotal: 400ms\tremaining: 23.3ms\n",
      "189:\tlearn: 5.9118953\ttotal: 402ms\tremaining: 21.1ms\n",
      "190:\tlearn: 5.9104503\ttotal: 404ms\tremaining: 19ms\n",
      "191:\tlearn: 5.9088141\ttotal: 406ms\tremaining: 16.9ms\n",
      "192:\tlearn: 5.9087142\ttotal: 407ms\tremaining: 14.8ms\n",
      "193:\tlearn: 5.9066919\ttotal: 409ms\tremaining: 12.7ms\n",
      "194:\tlearn: 5.9038189\ttotal: 411ms\tremaining: 10.5ms\n",
      "195:\tlearn: 5.9036953\ttotal: 412ms\tremaining: 8.41ms\n",
      "196:\tlearn: 5.9020505\ttotal: 414ms\tremaining: 6.3ms\n",
      "197:\tlearn: 5.9008856\ttotal: 416ms\tremaining: 4.2ms\n",
      "198:\tlearn: 5.8993908\ttotal: 418ms\tremaining: 2.1ms\n",
      "199:\tlearn: 5.8971730\ttotal: 420ms\tremaining: 0us\n"
     ]
    },
    {
     "data": {
      "text/plain": [
       "GridSearchCV(cv=5,\n",
       "             estimator=<catboost.core.CatBoostRegressor object at 0x00000189EABB66A0>,\n",
       "             n_jobs=-1,\n",
       "             param_grid={'depth': [3, 4, 5, 6, 7, 8],\n",
       "                         'iterations': [200, 500, 1000, 2000],\n",
       "                         'learning_rate': [0.01, 0.03, 0.05, 0.1]},\n",
       "             verbose=2)"
      ]
     },
     "execution_count": 82,
     "metadata": {},
     "output_type": "execute_result"
    }
   ],
   "source": [
    "catb = CatBoostRegressor()\n",
    "catb_cv_model = GridSearchCV(catb, catb_grid, cv=5, n_jobs = -1, verbose = 2)\n",
    "catb_cv_model.fit(X_train, y_train)"
   ]
  },
  {
   "cell_type": "code",
   "execution_count": 83,
   "id": "17493deb",
   "metadata": {},
   "outputs": [
    {
     "data": {
      "text/plain": [
       "{'depth': 8, 'iterations': 200, 'learning_rate': 0.01}"
      ]
     },
     "execution_count": 83,
     "metadata": {},
     "output_type": "execute_result"
    }
   ],
   "source": [
    "catb_cv_model.best_params_"
   ]
  },
  {
   "cell_type": "code",
   "execution_count": 84,
   "id": "3f01f039",
   "metadata": {},
   "outputs": [
    {
     "name": "stdout",
     "output_type": "stream",
     "text": [
      "0:\tlearn: 6.3331869\ttotal: 2.79ms\tremaining: 555ms\n",
      "1:\tlearn: 6.3296075\ttotal: 5.47ms\tremaining: 541ms\n",
      "2:\tlearn: 6.3253738\ttotal: 7.86ms\tremaining: 516ms\n",
      "3:\tlearn: 6.3225296\ttotal: 10.4ms\tremaining: 507ms\n",
      "4:\tlearn: 6.3198650\ttotal: 12.8ms\tremaining: 497ms\n",
      "5:\tlearn: 6.3168054\ttotal: 15.1ms\tremaining: 488ms\n",
      "6:\tlearn: 6.3127194\ttotal: 17ms\tremaining: 470ms\n",
      "7:\tlearn: 6.3110929\ttotal: 19ms\tremaining: 456ms\n",
      "8:\tlearn: 6.3075770\ttotal: 21ms\tremaining: 446ms\n",
      "9:\tlearn: 6.3068981\ttotal: 22ms\tremaining: 418ms\n",
      "10:\tlearn: 6.3037298\ttotal: 24.2ms\tremaining: 416ms\n",
      "11:\tlearn: 6.3018059\ttotal: 26.4ms\tremaining: 414ms\n",
      "12:\tlearn: 6.2992923\ttotal: 28.7ms\tremaining: 413ms\n",
      "13:\tlearn: 6.2966332\ttotal: 31ms\tremaining: 412ms\n",
      "14:\tlearn: 6.2941609\ttotal: 33.2ms\tremaining: 409ms\n",
      "15:\tlearn: 6.2912242\ttotal: 35.5ms\tremaining: 408ms\n",
      "16:\tlearn: 6.2879135\ttotal: 38.1ms\tremaining: 410ms\n",
      "17:\tlearn: 6.2849744\ttotal: 40.5ms\tremaining: 409ms\n",
      "18:\tlearn: 6.2821223\ttotal: 42.9ms\tremaining: 409ms\n",
      "19:\tlearn: 6.2790857\ttotal: 45.3ms\tremaining: 407ms\n",
      "20:\tlearn: 6.2774282\ttotal: 47.4ms\tremaining: 404ms\n",
      "21:\tlearn: 6.2747996\ttotal: 49.7ms\tremaining: 402ms\n",
      "22:\tlearn: 6.2722900\ttotal: 51.7ms\tremaining: 398ms\n",
      "23:\tlearn: 6.2708655\ttotal: 52.5ms\tremaining: 385ms\n",
      "24:\tlearn: 6.2682846\ttotal: 54.5ms\tremaining: 381ms\n",
      "25:\tlearn: 6.2655259\ttotal: 56.7ms\tremaining: 379ms\n",
      "26:\tlearn: 6.2620887\ttotal: 58.8ms\tremaining: 377ms\n",
      "27:\tlearn: 6.2574833\ttotal: 60.9ms\tremaining: 374ms\n",
      "28:\tlearn: 6.2544622\ttotal: 63.1ms\tremaining: 372ms\n",
      "29:\tlearn: 6.2527665\ttotal: 65.3ms\tremaining: 370ms\n",
      "30:\tlearn: 6.2495683\ttotal: 67.4ms\tremaining: 367ms\n",
      "31:\tlearn: 6.2467922\ttotal: 69.5ms\tremaining: 365ms\n",
      "32:\tlearn: 6.2433685\ttotal: 71.5ms\tremaining: 362ms\n",
      "33:\tlearn: 6.2400900\ttotal: 73.5ms\tremaining: 359ms\n",
      "34:\tlearn: 6.2351048\ttotal: 75.5ms\tremaining: 356ms\n",
      "35:\tlearn: 6.2318509\ttotal: 77.5ms\tremaining: 353ms\n",
      "36:\tlearn: 6.2301142\ttotal: 79.7ms\tremaining: 351ms\n",
      "37:\tlearn: 6.2263476\ttotal: 81.7ms\tremaining: 348ms\n",
      "38:\tlearn: 6.2223115\ttotal: 83.7ms\tremaining: 345ms\n",
      "39:\tlearn: 6.2183494\ttotal: 85.6ms\tremaining: 343ms\n",
      "40:\tlearn: 6.2153764\ttotal: 87.7ms\tremaining: 340ms\n",
      "41:\tlearn: 6.2132997\ttotal: 89.8ms\tremaining: 338ms\n",
      "42:\tlearn: 6.2105887\ttotal: 90.9ms\tremaining: 332ms\n",
      "43:\tlearn: 6.2081427\ttotal: 93.1ms\tremaining: 330ms\n",
      "44:\tlearn: 6.2046832\ttotal: 95.1ms\tremaining: 328ms\n",
      "45:\tlearn: 6.2014940\ttotal: 97.1ms\tremaining: 325ms\n",
      "46:\tlearn: 6.1992775\ttotal: 99.1ms\tremaining: 323ms\n",
      "47:\tlearn: 6.1957945\ttotal: 101ms\tremaining: 320ms\n",
      "48:\tlearn: 6.1926580\ttotal: 103ms\tremaining: 318ms\n",
      "49:\tlearn: 6.1900625\ttotal: 106ms\tremaining: 317ms\n",
      "50:\tlearn: 6.1887888\ttotal: 107ms\tremaining: 313ms\n",
      "51:\tlearn: 6.1856684\ttotal: 110ms\tremaining: 312ms\n",
      "52:\tlearn: 6.1833826\ttotal: 112ms\tremaining: 310ms\n",
      "53:\tlearn: 6.1803528\ttotal: 114ms\tremaining: 309ms\n",
      "54:\tlearn: 6.1780912\ttotal: 116ms\tremaining: 306ms\n",
      "55:\tlearn: 6.1771379\ttotal: 118ms\tremaining: 304ms\n",
      "56:\tlearn: 6.1761233\ttotal: 120ms\tremaining: 302ms\n",
      "57:\tlearn: 6.1730800\ttotal: 123ms\tremaining: 301ms\n",
      "58:\tlearn: 6.1707542\ttotal: 125ms\tremaining: 298ms\n",
      "59:\tlearn: 6.1679034\ttotal: 127ms\tremaining: 296ms\n",
      "60:\tlearn: 6.1658312\ttotal: 129ms\tremaining: 294ms\n",
      "61:\tlearn: 6.1632384\ttotal: 131ms\tremaining: 292ms\n",
      "62:\tlearn: 6.1609776\ttotal: 133ms\tremaining: 290ms\n",
      "63:\tlearn: 6.1583652\ttotal: 135ms\tremaining: 287ms\n",
      "64:\tlearn: 6.1571629\ttotal: 137ms\tremaining: 285ms\n",
      "65:\tlearn: 6.1562527\ttotal: 138ms\tremaining: 280ms\n",
      "66:\tlearn: 6.1557594\ttotal: 139ms\tremaining: 276ms\n",
      "67:\tlearn: 6.1527128\ttotal: 141ms\tremaining: 274ms\n",
      "68:\tlearn: 6.1504506\ttotal: 143ms\tremaining: 272ms\n",
      "69:\tlearn: 6.1476713\ttotal: 145ms\tremaining: 270ms\n",
      "70:\tlearn: 6.1461975\ttotal: 147ms\tremaining: 267ms\n",
      "71:\tlearn: 6.1435704\ttotal: 149ms\tremaining: 265ms\n",
      "72:\tlearn: 6.1411606\ttotal: 151ms\tremaining: 263ms\n",
      "73:\tlearn: 6.1407898\ttotal: 152ms\tremaining: 259ms\n",
      "74:\tlearn: 6.1386957\ttotal: 154ms\tremaining: 257ms\n",
      "75:\tlearn: 6.1355591\ttotal: 156ms\tremaining: 255ms\n",
      "76:\tlearn: 6.1336580\ttotal: 158ms\tremaining: 253ms\n",
      "77:\tlearn: 6.1300020\ttotal: 160ms\tremaining: 251ms\n",
      "78:\tlearn: 6.1273212\ttotal: 163ms\tremaining: 249ms\n",
      "79:\tlearn: 6.1251795\ttotal: 165ms\tremaining: 247ms\n",
      "80:\tlearn: 6.1243696\ttotal: 166ms\tremaining: 244ms\n",
      "81:\tlearn: 6.1230123\ttotal: 169ms\tremaining: 243ms\n",
      "82:\tlearn: 6.1218414\ttotal: 171ms\tremaining: 241ms\n",
      "83:\tlearn: 6.1200872\ttotal: 174ms\tremaining: 240ms\n",
      "84:\tlearn: 6.1189888\ttotal: 176ms\tremaining: 238ms\n",
      "85:\tlearn: 6.1165540\ttotal: 178ms\tremaining: 236ms\n",
      "86:\tlearn: 6.1146728\ttotal: 180ms\tremaining: 234ms\n",
      "87:\tlearn: 6.1129405\ttotal: 183ms\tremaining: 233ms\n",
      "88:\tlearn: 6.1102693\ttotal: 185ms\tremaining: 231ms\n",
      "89:\tlearn: 6.1085699\ttotal: 188ms\tremaining: 229ms\n",
      "90:\tlearn: 6.1051106\ttotal: 190ms\tremaining: 227ms\n",
      "91:\tlearn: 6.1034505\ttotal: 192ms\tremaining: 226ms\n",
      "92:\tlearn: 6.1000778\ttotal: 195ms\tremaining: 225ms\n",
      "93:\tlearn: 6.0976934\ttotal: 198ms\tremaining: 223ms\n",
      "94:\tlearn: 6.0950898\ttotal: 200ms\tremaining: 221ms\n",
      "95:\tlearn: 6.0929232\ttotal: 203ms\tremaining: 219ms\n",
      "96:\tlearn: 6.0901496\ttotal: 205ms\tremaining: 218ms\n",
      "97:\tlearn: 6.0870980\ttotal: 207ms\tremaining: 216ms\n",
      "98:\tlearn: 6.0847726\ttotal: 209ms\tremaining: 214ms\n",
      "99:\tlearn: 6.0822041\ttotal: 212ms\tremaining: 212ms\n",
      "100:\tlearn: 6.0793595\ttotal: 214ms\tremaining: 210ms\n",
      "101:\tlearn: 6.0770223\ttotal: 216ms\tremaining: 208ms\n",
      "102:\tlearn: 6.0748432\ttotal: 219ms\tremaining: 206ms\n",
      "103:\tlearn: 6.0742179\ttotal: 221ms\tremaining: 204ms\n",
      "104:\tlearn: 6.0716090\ttotal: 223ms\tremaining: 202ms\n",
      "105:\tlearn: 6.0692678\ttotal: 226ms\tremaining: 200ms\n",
      "106:\tlearn: 6.0663038\ttotal: 228ms\tremaining: 198ms\n",
      "107:\tlearn: 6.0629963\ttotal: 230ms\tremaining: 196ms\n",
      "108:\tlearn: 6.0606897\ttotal: 232ms\tremaining: 194ms\n",
      "109:\tlearn: 6.0582760\ttotal: 234ms\tremaining: 191ms\n",
      "110:\tlearn: 6.0554728\ttotal: 236ms\tremaining: 189ms\n",
      "111:\tlearn: 6.0527548\ttotal: 238ms\tremaining: 187ms\n",
      "112:\tlearn: 6.0513902\ttotal: 240ms\tremaining: 184ms\n",
      "113:\tlearn: 6.0482062\ttotal: 241ms\tremaining: 182ms\n",
      "114:\tlearn: 6.0457622\ttotal: 244ms\tremaining: 180ms\n",
      "115:\tlearn: 6.0433993\ttotal: 246ms\tremaining: 178ms\n",
      "116:\tlearn: 6.0407270\ttotal: 248ms\tremaining: 176ms\n",
      "117:\tlearn: 6.0399334\ttotal: 249ms\tremaining: 173ms\n",
      "118:\tlearn: 6.0390539\ttotal: 250ms\tremaining: 170ms\n",
      "119:\tlearn: 6.0374006\ttotal: 252ms\tremaining: 168ms\n",
      "120:\tlearn: 6.0364460\ttotal: 255ms\tremaining: 166ms\n",
      "121:\tlearn: 6.0331144\ttotal: 257ms\tremaining: 164ms\n",
      "122:\tlearn: 6.0306592\ttotal: 260ms\tremaining: 163ms\n",
      "123:\tlearn: 6.0276269\ttotal: 262ms\tremaining: 161ms\n",
      "124:\tlearn: 6.0245796\ttotal: 264ms\tremaining: 159ms\n",
      "125:\tlearn: 6.0208905\ttotal: 266ms\tremaining: 156ms\n",
      "126:\tlearn: 6.0191151\ttotal: 268ms\tremaining: 154ms\n",
      "127:\tlearn: 6.0174386\ttotal: 270ms\tremaining: 152ms\n",
      "128:\tlearn: 6.0160010\ttotal: 272ms\tremaining: 150ms\n",
      "129:\tlearn: 6.0159995\ttotal: 273ms\tremaining: 147ms\n",
      "130:\tlearn: 6.0156102\ttotal: 274ms\tremaining: 144ms\n",
      "131:\tlearn: 6.0151793\ttotal: 275ms\tremaining: 141ms\n",
      "132:\tlearn: 6.0141026\ttotal: 277ms\tremaining: 139ms\n",
      "133:\tlearn: 6.0108484\ttotal: 279ms\tremaining: 137ms\n",
      "134:\tlearn: 6.0096143\ttotal: 281ms\tremaining: 135ms\n",
      "135:\tlearn: 6.0075400\ttotal: 283ms\tremaining: 133ms\n",
      "136:\tlearn: 6.0055612\ttotal: 285ms\tremaining: 131ms\n",
      "137:\tlearn: 6.0026993\ttotal: 287ms\tremaining: 129ms\n",
      "138:\tlearn: 6.0017429\ttotal: 290ms\tremaining: 127ms\n",
      "139:\tlearn: 5.9992511\ttotal: 292ms\tremaining: 125ms\n",
      "140:\tlearn: 5.9964107\ttotal: 294ms\tremaining: 123ms\n",
      "141:\tlearn: 5.9952543\ttotal: 295ms\tremaining: 120ms\n",
      "142:\tlearn: 5.9938160\ttotal: 297ms\tremaining: 118ms\n",
      "143:\tlearn: 5.9916124\ttotal: 299ms\tremaining: 116ms\n",
      "144:\tlearn: 5.9884117\ttotal: 302ms\tremaining: 114ms\n",
      "145:\tlearn: 5.9863825\ttotal: 304ms\tremaining: 112ms\n",
      "146:\tlearn: 5.9850001\ttotal: 306ms\tremaining: 110ms\n",
      "147:\tlearn: 5.9830925\ttotal: 308ms\tremaining: 108ms\n",
      "148:\tlearn: 5.9809864\ttotal: 311ms\tremaining: 106ms\n",
      "149:\tlearn: 5.9800150\ttotal: 311ms\tremaining: 104ms\n",
      "150:\tlearn: 5.9779026\ttotal: 313ms\tremaining: 102ms\n",
      "151:\tlearn: 5.9765798\ttotal: 316ms\tremaining: 99.7ms\n",
      "152:\tlearn: 5.9747030\ttotal: 318ms\tremaining: 97.7ms\n",
      "153:\tlearn: 5.9741365\ttotal: 319ms\tremaining: 95.3ms\n",
      "154:\tlearn: 5.9727109\ttotal: 321ms\tremaining: 93.2ms\n",
      "155:\tlearn: 5.9715430\ttotal: 323ms\tremaining: 91.2ms\n",
      "156:\tlearn: 5.9684940\ttotal: 325ms\tremaining: 89.1ms\n",
      "157:\tlearn: 5.9662581\ttotal: 327ms\tremaining: 87ms\n",
      "158:\tlearn: 5.9637403\ttotal: 329ms\tremaining: 84.9ms\n",
      "159:\tlearn: 5.9628295\ttotal: 330ms\tremaining: 82.6ms\n",
      "160:\tlearn: 5.9605169\ttotal: 333ms\tremaining: 80.6ms\n",
      "161:\tlearn: 5.9598383\ttotal: 335ms\tremaining: 78.5ms\n",
      "162:\tlearn: 5.9584834\ttotal: 337ms\tremaining: 76.4ms\n",
      "163:\tlearn: 5.9575878\ttotal: 338ms\tremaining: 74.1ms\n",
      "164:\tlearn: 5.9563292\ttotal: 340ms\tremaining: 72.1ms\n",
      "165:\tlearn: 5.9552382\ttotal: 342ms\tremaining: 70ms\n",
      "166:\tlearn: 5.9541126\ttotal: 344ms\tremaining: 68ms\n"
     ]
    },
    {
     "name": "stdout",
     "output_type": "stream",
     "text": [
      "167:\tlearn: 5.9513285\ttotal: 346ms\tremaining: 66ms\n",
      "168:\tlearn: 5.9492716\ttotal: 349ms\tremaining: 64ms\n",
      "169:\tlearn: 5.9454758\ttotal: 351ms\tremaining: 61.9ms\n",
      "170:\tlearn: 5.9449974\ttotal: 352ms\tremaining: 59.6ms\n",
      "171:\tlearn: 5.9430610\ttotal: 354ms\tremaining: 57.6ms\n",
      "172:\tlearn: 5.9416128\ttotal: 356ms\tremaining: 55.6ms\n",
      "173:\tlearn: 5.9396081\ttotal: 359ms\tremaining: 53.6ms\n",
      "174:\tlearn: 5.9374363\ttotal: 361ms\tremaining: 51.5ms\n",
      "175:\tlearn: 5.9349225\ttotal: 363ms\tremaining: 49.5ms\n",
      "176:\tlearn: 5.9346102\ttotal: 364ms\tremaining: 47.3ms\n",
      "177:\tlearn: 5.9323717\ttotal: 366ms\tremaining: 45.3ms\n",
      "178:\tlearn: 5.9306408\ttotal: 369ms\tremaining: 43.3ms\n",
      "179:\tlearn: 5.9297367\ttotal: 371ms\tremaining: 41.2ms\n",
      "180:\tlearn: 5.9271384\ttotal: 374ms\tremaining: 39.2ms\n",
      "181:\tlearn: 5.9243707\ttotal: 376ms\tremaining: 37.2ms\n",
      "182:\tlearn: 5.9242924\ttotal: 377ms\tremaining: 35ms\n",
      "183:\tlearn: 5.9228191\ttotal: 379ms\tremaining: 33ms\n",
      "184:\tlearn: 5.9213026\ttotal: 382ms\tremaining: 31ms\n",
      "185:\tlearn: 5.9194058\ttotal: 384ms\tremaining: 28.9ms\n",
      "186:\tlearn: 5.9170569\ttotal: 387ms\tremaining: 26.9ms\n",
      "187:\tlearn: 5.9150189\ttotal: 390ms\tremaining: 24.9ms\n",
      "188:\tlearn: 5.9130355\ttotal: 392ms\tremaining: 22.8ms\n",
      "189:\tlearn: 5.9118953\ttotal: 394ms\tremaining: 20.7ms\n",
      "190:\tlearn: 5.9104503\ttotal: 396ms\tremaining: 18.7ms\n",
      "191:\tlearn: 5.9088141\ttotal: 399ms\tremaining: 16.6ms\n",
      "192:\tlearn: 5.9087142\ttotal: 400ms\tremaining: 14.5ms\n",
      "193:\tlearn: 5.9066919\ttotal: 402ms\tremaining: 12.4ms\n",
      "194:\tlearn: 5.9038189\ttotal: 405ms\tremaining: 10.4ms\n",
      "195:\tlearn: 5.9036953\ttotal: 405ms\tremaining: 8.27ms\n",
      "196:\tlearn: 5.9020505\ttotal: 408ms\tremaining: 6.21ms\n",
      "197:\tlearn: 5.9008856\ttotal: 410ms\tremaining: 4.14ms\n",
      "198:\tlearn: 5.8993908\ttotal: 412ms\tremaining: 2.07ms\n",
      "199:\tlearn: 5.8971730\ttotal: 414ms\tremaining: 0us\n"
     ]
    }
   ],
   "source": [
    "catb_tuned = CatBoostRegressor(iterations = 200, \n",
    "                               learning_rate = 0.01, \n",
    "                               depth = 8)\n",
    "\n",
    "catb_tuned = catb_tuned.fit(X_train,y_train)"
   ]
  },
  {
   "cell_type": "code",
   "execution_count": 85,
   "id": "856098ea",
   "metadata": {},
   "outputs": [
    {
     "data": {
      "text/plain": [
       "6.532003260829906"
      ]
     },
     "execution_count": 85,
     "metadata": {},
     "output_type": "execute_result"
    }
   ],
   "source": [
    "y_pred = catb_tuned.predict(X_test)\n",
    "np.sqrt(mean_squared_error(y_test, y_pred))"
   ]
  },
  {
   "cell_type": "code",
   "execution_count": 94,
   "id": "bb42f59b",
   "metadata": {},
   "outputs": [
    {
     "data": {
      "text/plain": [
       "Text(0.5, 0, 'Değişken Önem Düzeyleri')"
      ]
     },
     "execution_count": 94,
     "metadata": {},
     "output_type": "execute_result"
    },
    {
     "data": {
      "image/png": "[encoded data removed]",
      "text/plain": [
       "<Figure size 432x288 with 1 Axes>"
      ]
     },
     "metadata": {
      "needs_background": "light"
     },
     "output_type": "display_data"
    }
   ],
   "source": [
    "Importance = pd.DataFrame({\"Importance\": catb_tuned.feature_importances_*100},\n",
    "                         index = X_train.columns)\n",
    "Importance.sort_values(by = \"Importance\", \n",
    "                       axis = 0, \n",
    "                       ascending = True).plot(kind =\"barh\", color = \"g\")\n",
    "\n",
    "plt.xlabel(\"Değişken Önem Düzeyleri\")"
   ]
  },
  {
   "cell_type": "markdown",
   "id": "35303135",
   "metadata": {},
   "source": [
    "# SONUÇ\n",
    "    \n",
    "    Veri setimiz en iyi sonucu Çok Katmanlı Algılayıcı (Yapay Sinir Ağları YSA) modeli ile vermiştir. rme değerimiz 6.473211938188688'dir.\n"
   ]
  },
  {
   "cell_type": "code",
   "execution_count": 10,
   "id": "8082a339",
   "metadata": {},
   "outputs": [
    {
     "data": {
      "text/html": [
       "<div>\n",
       "<style scoped>\n",
       "    .dataframe tbody tr th:only-of-type {\n",
       "        vertical-align: middle;\n",
       "    }\n",
       "\n",
       "    .dataframe tbody tr th {\n",
       "        vertical-align: top;\n",
       "    }\n",
       "\n",
       "    .dataframe thead th {\n",
       "        text-align: right;\n",
       "    }\n",
       "</style>\n",
       "<table border=\"1\" class=\"dataframe\">\n",
       "  <thead>\n",
       "    <tr style=\"text-align: right;\">\n",
       "      <th></th>\n",
       "      <th>Models</th>\n",
       "      <th>SONUÇ:</th>\n",
       "    </tr>\n",
       "  </thead>\n",
       "  <tbody>\n",
       "    <tr>\n",
       "      <th>0</th>\n",
       "      <td>K En Yakın Komşu (KNN)</td>\n",
       "      <td>6.605606</td>\n",
       "    </tr>\n",
       "    <tr>\n",
       "      <th>1</th>\n",
       "      <td>Çok Katmanlı Algılayıcı (Yapay Sinir Ağları YSA)</td>\n",
       "      <td>6.473212</td>\n",
       "    </tr>\n",
       "    <tr>\n",
       "      <th>2</th>\n",
       "      <td>Bagged Trees Regresyon</td>\n",
       "      <td>7.013172</td>\n",
       "    </tr>\n",
       "    <tr>\n",
       "      <th>3</th>\n",
       "      <td>Random Forests</td>\n",
       "      <td>6.523975</td>\n",
       "    </tr>\n",
       "    <tr>\n",
       "      <th>4</th>\n",
       "      <td>Gradient Boosting Machines (GBM)</td>\n",
       "      <td>6.494260</td>\n",
       "    </tr>\n",
       "    <tr>\n",
       "      <th>5</th>\n",
       "      <td>XGBoost (eXtreme Gradient Boosting)</td>\n",
       "      <td>6.663862</td>\n",
       "    </tr>\n",
       "    <tr>\n",
       "      <th>6</th>\n",
       "      <td>Light GBM</td>\n",
       "      <td>6.480596</td>\n",
       "    </tr>\n",
       "    <tr>\n",
       "      <th>7</th>\n",
       "      <td>CatBoost</td>\n",
       "      <td>6.532003</td>\n",
       "    </tr>\n",
       "  </tbody>\n",
       "</table>\n",
       "</div>"
      ],
      "text/plain": [
       "                                             Models    SONUÇ:\n",
       "0                            K En Yakın Komşu (KNN)  6.605606\n",
       "1  Çok Katmanlı Algılayıcı (Yapay Sinir Ağları YSA)  6.473212\n",
       "2                            Bagged Trees Regresyon  7.013172\n",
       "3                                    Random Forests  6.523975\n",
       "4                  Gradient Boosting Machines (GBM)  6.494260\n",
       "5               XGBoost (eXtreme Gradient Boosting)  6.663862\n",
       "6                                         Light GBM  6.480596\n",
       "7                                          CatBoost  6.532003"
      ]
     },
     "metadata": {},
     "output_type": "display_data"
    },
    {
     "data": {
      "image/png": "[encoded data removed]",
      "text/plain": [
       "<Figure size 2160x1440 with 1 Axes>"
      ]
     },
     "metadata": {
      "needs_background": "light"
     },
     "output_type": "display_data"
    }
   ],
   "source": [
    "data = {'Models': ['K En Yakın Komşu (KNN)', 'Çok Katmanlı Algılayıcı (Yapay Sinir Ağları YSA)', 'Bagged Trees Regresyon', 'Random Forests', 'Gradient Boosting Machines (GBM)','XGBoost (eXtreme Gradient Boosting)', 'Light GBM', 'CatBoost'],\n",
    "        'SONUÇ:': [6.605606202335339, 6.473211938188688, 7.013171662506802, 6.523974747926032, 6.49426033008921, 6.663862096866403, 6.4805956122355886, 6.532003260829906]\n",
    "        }\n",
    "\n",
    "result = pd.DataFrame(data)\n",
    "\n",
    "display(result)\n",
    "\n",
    "dataResult = {'K En Yakın Komşu (KNN)':6.605606202335339,\n",
    "              'Çok Katmanlı Algılayıcı (Yapay Sinir Ağları YSA)':6.473211938188688, \n",
    "              'Bagged Trees Regresyon':7.013171662506802,\n",
    "              'Random Forests':6.523974747926032, \n",
    "              'Gradient Boosting Machines (GBM)': 6.49426033008921, \n",
    "              'XGBoost (eXtreme Gradient Boosting)':6.663862096866403, \n",
    "              'Light GBM':6.4805956122355886,\n",
    "              'CatBoost':6.532003260829906\n",
    "              }\n",
    "models = list(dataResult.keys())\n",
    "values = list(dataResult.values())\n",
    "  \n",
    "fig = plt.figure(figsize = (30, 20))\n",
    " \n",
    "# creating the bar plot\n",
    "plt.bar(models, values, color ='g',\n",
    "        width = 0.3)\n",
    " \n",
    "plt.xlabel(\"SONUÇ\")\n",
    "plt.ylabel(\"MODELLER\")\n",
    "plt.title(\"SONUÇ GRAFİĞİ\")\n",
    "plt.show()"
   ]
  },
  {
   "cell_type": "code",
   "execution_count": 96,
   "id": "6565aae5",
   "metadata": {},
   "outputs": [
    {
     "data": {
      "text/html": [
       "<div>\n",
       "<style scoped>\n",
       "    .dataframe tbody tr th:only-of-type {\n",
       "        vertical-align: middle;\n",
       "    }\n",
       "\n",
       "    .dataframe tbody tr th {\n",
       "        vertical-align: top;\n",
       "    }\n",
       "\n",
       "    .dataframe thead th {\n",
       "        text-align: right;\n",
       "    }\n",
       "</style>\n",
       "<table border=\"1\" class=\"dataframe\">\n",
       "  <thead>\n",
       "    <tr style=\"text-align: right;\">\n",
       "      <th></th>\n",
       "      <th>Yas</th>\n",
       "      <th>Egitim</th>\n",
       "      <th>CalısmaYili</th>\n",
       "      <th>Gelir</th>\n",
       "      <th>GelirGiderOrani</th>\n",
       "    </tr>\n",
       "  </thead>\n",
       "  <tbody>\n",
       "    <tr>\n",
       "      <th>0</th>\n",
       "      <td>41</td>\n",
       "      <td>2</td>\n",
       "      <td>6</td>\n",
       "      <td>19</td>\n",
       "      <td>6.3</td>\n",
       "    </tr>\n",
       "    <tr>\n",
       "      <th>1</th>\n",
       "      <td>47</td>\n",
       "      <td>1</td>\n",
       "      <td>26</td>\n",
       "      <td>100</td>\n",
       "      <td>12.8</td>\n",
       "    </tr>\n",
       "    <tr>\n",
       "      <th>2</th>\n",
       "      <td>33</td>\n",
       "      <td>2</td>\n",
       "      <td>10</td>\n",
       "      <td>57</td>\n",
       "      <td>20.9</td>\n",
       "    </tr>\n",
       "    <tr>\n",
       "      <th>3</th>\n",
       "      <td>29</td>\n",
       "      <td>2</td>\n",
       "      <td>4</td>\n",
       "      <td>19</td>\n",
       "      <td>6.3</td>\n",
       "    </tr>\n",
       "    <tr>\n",
       "      <th>4</th>\n",
       "      <td>47</td>\n",
       "      <td>1</td>\n",
       "      <td>31</td>\n",
       "      <td>253</td>\n",
       "      <td>7.2</td>\n",
       "    </tr>\n",
       "  </tbody>\n",
       "</table>\n",
       "</div>"
      ],
      "text/plain": [
       "   Yas  Egitim  CalısmaYili  Gelir  GelirGiderOrani\n",
       "0   41       2            6     19              6.3\n",
       "1   47       1           26    100             12.8\n",
       "2   33       2           10     57             20.9\n",
       "3   29       2            4     19              6.3\n",
       "4   47       1           31    253              7.2"
      ]
     },
     "execution_count": 96,
     "metadata": {},
     "output_type": "execute_result"
    }
   ],
   "source": [
    "df.head()"
   ]
  },
  {
   "cell_type": "code",
   "execution_count": 97,
   "id": "f410e5ca",
   "metadata": {},
   "outputs": [
    {
     "data": {
      "text/plain": [
       "array([8.72988712])"
      ]
     },
     "execution_count": 97,
     "metadata": {},
     "output_type": "execute_result"
    }
   ],
   "source": [
    "mlp_tuned.predict([[40,2,10,60]])"
   ]
  },
  {
   "cell_type": "code",
   "execution_count": 98,
   "id": "637be5c8",
   "metadata": {},
   "outputs": [
    {
     "data": {
      "text/plain": [
       "array([8.72988684])"
      ]
     },
     "execution_count": 98,
     "metadata": {},
     "output_type": "execute_result"
    }
   ],
   "source": [
    "mlp_tuned.predict([[40,1,10,60]])"
   ]
  },
  {
   "cell_type": "code",
   "execution_count": 99,
   "id": "940e936e",
   "metadata": {},
   "outputs": [
    {
     "data": {
      "text/plain": [
       "array([8.72988461])"
      ]
     },
     "execution_count": 99,
     "metadata": {},
     "output_type": "execute_result"
    }
   ],
   "source": [
    "mlp_tuned.predict([[40,2,15,60]])"
   ]
  },
  {
   "cell_type": "code",
   "execution_count": 102,
   "id": "7a8d6f63",
   "metadata": {},
   "outputs": [
    {
     "data": {
      "text/plain": [
       "array([8.72988281])"
      ]
     },
     "execution_count": 102,
     "metadata": {},
     "output_type": "execute_result"
    }
   ],
   "source": [
    "mlp_tuned.predict([[40,2,10,100]])"
   ]
  },
  {
   "cell_type": "code",
   "execution_count": 112,
   "id": "89d61842",
   "metadata": {},
   "outputs": [
    {
     "data": {
      "text/plain": [
       "array([8.73302811])"
      ]
     },
     "execution_count": 112,
     "metadata": {},
     "output_type": "execute_result"
    }
   ],
   "source": [
    "mlp_tuned.predict([[45,1,25,20]])"
   ]
  },
  {
   "cell_type": "code",
   "execution_count": 114,
   "id": "3d7fcf64",
   "metadata": {},
   "outputs": [
    {
     "data": {
      "text/plain": [
       "array([9.82995798])"
      ]
     },
     "execution_count": 114,
     "metadata": {},
     "output_type": "execute_result"
    }
   ],
   "source": [
    "mlp_tuned.predict([[20,2,2,2]])"
   ]
  },
  {
   "cell_type": "code",
   "execution_count": 115,
   "id": "eff2b17b",
   "metadata": {},
   "outputs": [
    {
     "data": {
      "text/plain": [
       "array([9.82118482])"
      ]
     },
     "execution_count": 115,
     "metadata": {},
     "output_type": "execute_result"
    }
   ],
   "source": [
    "mlp_tuned.predict([[20,1,2,2]])"
   ]
  },
  {
   "cell_type": "code",
   "execution_count": null,
   "id": "f92e31cd",
   "metadata": {},
   "outputs": [],
   "source": []
  }
 ],
 "metadata": {
  "kernelspec": {
   "display_name": "Python 3",
   "language": "python",
   "name": "python3"
  },
  "language_info": {
   "codemirror_mode": {
    "name": "ipython",
    "version": 3
   },
   "file_extension": ".py",
   "mimetype": "text/x-python",
   "name": "python",
   "nbconvert_exporter": "python",
   "pygments_lexer": "ipython3",
   "version": "3.8.8"
  }
 },
 "nbformat": 4,
 "nbformat_minor": 5
}
